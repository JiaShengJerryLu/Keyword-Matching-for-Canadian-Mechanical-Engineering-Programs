{
 "cells": [
  {
   "cell_type": "code",
   "execution_count": 1,
   "metadata": {},
   "outputs": [],
   "source": [
    "from bs4 import BeautifulSoup as soup\n",
    "from urllib.request import urlopen as ureq\n",
    "from selenium import webdriver\n",
    "import time\n",
    "import re"
   ]
  },
  {
   "cell_type": "code",
   "execution_count": 2,
   "metadata": {},
   "outputs": [],
   "source": [
    "url = \"https://www.uqar.ca/etudes/etudier-a-l-uqar/programmes-d-etudes/79n7\""
   ]
  },
  {
   "cell_type": "code",
   "execution_count": 3,
   "metadata": {},
   "outputs": [],
   "source": [
    "chrome_options = webdriver.ChromeOptions()\n",
    "chrome_options.add_argument('--ignore-certificate-errors')\n",
    "chrome_options.add_argument('--incognito')\n",
    "#chrome_options.add_argument('--headless')\n",
    "\n",
    "driver = webdriver.Chrome(\"C:\\\\Users\\\\jerry\\\\Downloads\\\\chromedriver\", options=chrome_options)"
   ]
  },
  {
   "cell_type": "code",
   "execution_count": 4,
   "metadata": {},
   "outputs": [],
   "source": [
    "driver.get(url)"
   ]
  },
  {
   "cell_type": "markdown",
   "metadata": {},
   "source": [
    "# 1. Collect course link texts for webdriver to click on"
   ]
  },
  {
   "cell_type": "code",
   "execution_count": 10,
   "metadata": {},
   "outputs": [],
   "source": [
    "driver.find_element_by_id(\"tab-admission-et-plan-de-formation\").click()"
   ]
  },
  {
   "cell_type": "code",
   "execution_count": 11,
   "metadata": {},
   "outputs": [],
   "source": [
    "driver.find_element_by_id(\"slider-plan-de-formation\").click()"
   ]
  },
  {
   "cell_type": "code",
   "execution_count": 12,
   "metadata": {},
   "outputs": [],
   "source": [
    "page_soup = soup(driver.page_source, 'lxml')"
   ]
  },
  {
   "cell_type": "markdown",
   "metadata": {},
   "source": [
    "## 1.1 Profil travail/etudes"
   ]
  },
  {
   "cell_type": "code",
   "execution_count": 17,
   "metadata": {},
   "outputs": [
    {
     "data": {
      "text/plain": [
       "16"
      ]
     },
     "execution_count": 17,
     "metadata": {},
     "output_type": "execute_result"
    }
   ],
   "source": [
    "tables = page_soup.find(\"div\", {\"id\": \"plan-de-formation\"}).find(\"div\", {\"id\": \"profil-travail-etudes\"}).findAll(\"table\")\n",
    "len(tables)"
   ]
  },
  {
   "cell_type": "code",
   "execution_count": 18,
   "metadata": {
    "scrolled": true
   },
   "outputs": [
    {
     "data": {
      "text/plain": [
       "[<table class=\"tableetape\"><tbody><tr></tr><tr><td class=\"coursmsg\" colspan=\"2\">Le choix des cours optionnels doit être approuvé par la direction du module.</td></tr></tbody></table>,\n",
       " <table class=\"tableetape\"><tbody><tr></tr><tr><td class=\"coursmsg\" colspan=\"2\">Suivre obligatoirement un cours parmi les suivants :</td></tr><tr><td class=\"courssigle\"><a href=\"/etudes/etudier-a-l-uqar/programmes-d-etudes/cours/arc30019\" target=\"_blank\">ARC30019</a></td><td class=\"courstitre\">Théories et méthodes de l’archéologie (3 cr.)</td></tr><tr><td class=\"courssigle\"><a href=\"/etudes/etudier-a-l-uqar/programmes-d-etudes/cours/arc31019\" target=\"_blank\">ARC31019</a></td><td class=\"courstitre\">École de fouilles archéologiques (3 cr.)</td></tr><tr><td class=\"courssigle\"><a href=\"/etudes/etudier-a-l-uqar/programmes-d-etudes/cours/com2185\" target=\"_blank\">COM2185</a></td><td class=\"courstitre\">Communication et relations interethniques (3 cr.)</td></tr><tr><td class=\"courssigle\"><a href=\"/etudes/etudier-a-l-uqar/programmes-d-etudes/cours/grh11014\" target=\"_blank\">GRH11014</a></td><td class=\"courstitre\">Aspects humains des organisations (3 cr.)</td></tr><tr><td class=\"courssigle\"><a href=\"/etudes/etudier-a-l-uqar/programmes-d-etudes/cours/pss23018\" target=\"_blank\">PSS23018</a></td><td class=\"courstitre\">Leadership et communication organisationnelle (3 cr.)</td></tr><tr><td class=\"courssigle\"><a href=\"/etudes/etudier-a-l-uqar/programmes-d-etudes/cours/his12219\" target=\"_blank\">HIS12219</a></td><td class=\"courstitre\">Le Canada sous le régime britannique (3 cr.)</td></tr><tr><td class=\"courssigle\"><a href=\"/etudes/etudier-a-l-uqar/programmes-d-etudes/cours/his13119\" target=\"_blank\">HIS13119</a></td><td class=\"courstitre\">L’époque moderne (3 cr.)</td></tr><tr><td class=\"courssigle\"><a href=\"/etudes/etudier-a-l-uqar/programmes-d-etudes/cours/his14219\" target=\"_blank\">HIS14219</a></td><td class=\"courstitre\">L’Europe contemporaine (3 cr.)</td></tr><tr><td class=\"courssigle\"><a href=\"/etudes/etudier-a-l-uqar/programmes-d-etudes/cours/his14319\" target=\"_blank\">HIS14319</a></td><td class=\"courstitre\">Le Québec depuis la Confédération (3 cr.)</td></tr><tr><td class=\"courssigle\"><a href=\"/etudes/etudier-a-l-uqar/programmes-d-etudes/cours/his24219\" target=\"_blank\">HIS24219</a></td><td class=\"courstitre\">Histoire des sciences et des technologies (3 cr.)</td></tr><tr><td class=\"courssigle\"><a href=\"/etudes/etudier-a-l-uqar/programmes-d-etudes/cours/dst12118\" target=\"_blank\">DST12118</a></td><td class=\"courstitre\">Changement social contemporain (3 cr.)</td></tr><tr><td class=\"courssigle\"><a href=\"/etudes/etudier-a-l-uqar/programmes-d-etudes/cours/dst13118\" target=\"_blank\">DST13118</a></td><td class=\"courstitre\">Facteurs politiques du développement social (3 cr.)</td></tr><tr><td class=\"courssigle\"><a href=\"/etudes/etudier-a-l-uqar/programmes-d-etudes/cours/dst45018\" target=\"_blank\">DST45018</a></td><td class=\"courstitre\">Territoires et communautés en développement (3 cr.)</td></tr><tr><td class=\"courssigle\"><a href=\"/etudes/etudier-a-l-uqar/programmes-d-etudes/cours/dst51118\" target=\"_blank\">DST51118</a></td><td class=\"courstitre\">Individu, action et société (3 cr.)</td></tr><tr></tr><tr><td class=\"coursmsg\" colspan=\"2\">Autres cours optionnels :</td></tr><tr></tr><tr><td class=\"coursmsg\" colspan=\"2\">Le ou les autres cours optionnels à choisir pour compléter le plan de formation pourront être choisis parmi les cours des Blocs Génie électrique, Génie mécanique et Génie civil.</td></tr><tr></tr><tr><td class=\"coursmsg\" colspan=\"2\">Sur approbation de la direction du module, l'étudiante ou l'étudiant pourra choisir un cours du Bloc Enrichissement ou un des cours obligatoires du programme de baccalauréat en informatique.</td></tr><tr></tr><tr><td class=\"coursmsg\" colspan=\"2\">Sur approbation de la direction du module et du directeur du comité de programmes de cycles supérieurs en ingénierie, l'étudiante ou l'étudiant ayant complété 60 crédits et maintenu une moyenne supérieure ou égale à 3.0 sur 4.3 pourra être autorisé à choisir un cours parmi les cours du programmes de maîtrise en ingénierie.</td></tr></tbody></table>]"
      ]
     },
     "execution_count": 18,
     "metadata": {},
     "output_type": "execute_result"
    }
   ],
   "source": [
    "tables[9:11]"
   ]
  },
  {
   "cell_type": "code",
   "execution_count": 19,
   "metadata": {},
   "outputs": [
    {
     "data": {
      "text/plain": [
       "14"
      ]
     },
     "execution_count": 19,
     "metadata": {},
     "output_type": "execute_result"
    }
   ],
   "source": [
    "#skip table 9 and 10 - humanity and social studies\n",
    "tables = tables[:9]+tables[11:]\n",
    "len(tables)"
   ]
  },
  {
   "cell_type": "code",
   "execution_count": 21,
   "metadata": {},
   "outputs": [
    {
     "data": {
      "text/plain": [
       "93"
      ]
     },
     "execution_count": 21,
     "metadata": {},
     "output_type": "execute_result"
    }
   ],
   "source": [
    "link_texts = [container.find(\"a\").text.strip() for table in tables for container in table.findAll(\"td\", {\"class\": \"courssigle\"})]\n",
    "len(link_texts)"
   ]
  },
  {
   "cell_type": "code",
   "execution_count": 22,
   "metadata": {
    "scrolled": true
   },
   "outputs": [
    {
     "data": {
      "text/plain": [
       "['ADM10014',\n",
       " 'GEN18419',\n",
       " 'GEN28519',\n",
       " 'GEN29118',\n",
       " 'FIN11098',\n",
       " 'GEN10108',\n",
       " 'GEN12120',\n",
       " 'GEN11217',\n",
       " 'GEN11319',\n",
       " 'MAT19101',\n",
       " 'GEN50116',\n",
       " 'GEN16104',\n",
       " 'GEN20119',\n",
       " 'GEN35119',\n",
       " 'GEN44108',\n",
       " 'MAT19299',\n",
       " 'GEN13508',\n",
       " 'GEN15120',\n",
       " 'GEN23199',\n",
       " 'GEN27119',\n",
       " 'GEN50216',\n",
       " 'MAT29399',\n",
       " 'GEN31299',\n",
       " 'GEN33116',\n",
       " 'GEN35305',\n",
       " 'GEN37418',\n",
       " 'GEN47107',\n",
       " 'GEN46019',\n",
       " 'GEN47009',\n",
       " 'GEN47207',\n",
       " 'GEN50007',\n",
       " 'GEN25119',\n",
       " 'GEN40218',\n",
       " 'GEN46120',\n",
       " 'GEN34199',\n",
       " 'GEN45321',\n",
       " 'GEN45409',\n",
       " 'GEN46407',\n",
       " 'GEN47499',\n",
       " 'GEN10519',\n",
       " 'GEN22105',\n",
       " 'GEN22208',\n",
       " 'GEN22519',\n",
       " 'GEN25219',\n",
       " 'GEN28105',\n",
       " 'GEN31199',\n",
       " 'GEN32105',\n",
       " 'GEN35205',\n",
       " 'GEN36309',\n",
       " 'GEN37199',\n",
       " 'GEN43020',\n",
       " 'GEN43109',\n",
       " 'GEN43216',\n",
       " 'GEN43312',\n",
       " 'GEN43405',\n",
       " 'GEN43599',\n",
       " 'GEN43605',\n",
       " 'GEN43807',\n",
       " 'GEN43908',\n",
       " 'GEN44205',\n",
       " 'GEN47816',\n",
       " 'GEN46205',\n",
       " 'GEN46399',\n",
       " 'GEN47305',\n",
       " 'GEN47908',\n",
       " 'GEN48119',\n",
       " 'GEN18019',\n",
       " 'GEN18119',\n",
       " 'GEN18219',\n",
       " 'GEN18319',\n",
       " 'GEN28019',\n",
       " 'GEN28219',\n",
       " 'GEN38120',\n",
       " 'GEN38220',\n",
       " 'GEN38321',\n",
       " 'GEN38419',\n",
       " 'GEN38519',\n",
       " 'GEN38619',\n",
       " 'GEN38719',\n",
       " 'GEN48220',\n",
       " 'GEN48319',\n",
       " 'GEN48419',\n",
       " 'GEN48521',\n",
       " 'GEN48620',\n",
       " 'GEN48719',\n",
       " 'ANG11004',\n",
       " 'ANG12004',\n",
       " 'ANG18004',\n",
       " 'BIO17021',\n",
       " 'TRT10005',\n",
       " 'GEN39293',\n",
       " 'GEN46608',\n",
       " 'GEN50410']"
      ]
     },
     "execution_count": 22,
     "metadata": {},
     "output_type": "execute_result"
    }
   ],
   "source": [
    "link_texts"
   ]
  },
  {
   "cell_type": "markdown",
   "metadata": {},
   "source": [
    "## 1.2 Cheminement général"
   ]
  },
  {
   "cell_type": "code",
   "execution_count": 24,
   "metadata": {},
   "outputs": [
    {
     "data": {
      "text/plain": [
       "15"
      ]
     },
     "execution_count": 24,
     "metadata": {},
     "output_type": "execute_result"
    }
   ],
   "source": [
    "tables_general = page_soup.find(\"div\", {\"id\": \"plan-de-formation\"}).find(\"div\", {\"id\": \"cheminement-general\"}).findAll(\"table\")\n",
    "len(tables_general)"
   ]
  },
  {
   "cell_type": "code",
   "execution_count": 28,
   "metadata": {
    "scrolled": true
   },
   "outputs": [
    {
     "data": {
      "text/plain": [
       "[<table class=\"tableetape\"><tbody><tr></tr><tr><td class=\"coursmsg\" colspan=\"2\">Le choix des cours optionnels doit être approuvé par la direction du module.</td></tr></tbody></table>,\n",
       " <table class=\"tableetape\"><tbody><tr></tr><tr><td class=\"coursmsg\" colspan=\"2\">Suivre obligatoirement un cours parmi les suivants :</td></tr><tr><td class=\"courssigle\"><a href=\"/etudes/etudier-a-l-uqar/programmes-d-etudes/cours/arc30019\" target=\"_blank\">ARC30019</a></td><td class=\"courstitre\">Théories et méthodes de l’archéologie (3 cr.)</td></tr><tr><td class=\"courssigle\"><a href=\"/etudes/etudier-a-l-uqar/programmes-d-etudes/cours/arc31019\" target=\"_blank\">ARC31019</a></td><td class=\"courstitre\">École de fouilles archéologiques (3 cr.)</td></tr><tr><td class=\"courssigle\"><a href=\"/etudes/etudier-a-l-uqar/programmes-d-etudes/cours/com2185\" target=\"_blank\">COM2185</a></td><td class=\"courstitre\">Communication et relations interethniques (3 cr.)</td></tr><tr><td class=\"courssigle\"><a href=\"/etudes/etudier-a-l-uqar/programmes-d-etudes/cours/grh11014\" target=\"_blank\">GRH11014</a></td><td class=\"courstitre\">Aspects humains des organisations (3 cr.)</td></tr><tr><td class=\"courssigle\"><a href=\"/etudes/etudier-a-l-uqar/programmes-d-etudes/cours/pss23018\" target=\"_blank\">PSS23018</a></td><td class=\"courstitre\">Leadership et communication organisationnelle (3 cr.)</td></tr><tr><td class=\"courssigle\"><a href=\"/etudes/etudier-a-l-uqar/programmes-d-etudes/cours/his12219\" target=\"_blank\">HIS12219</a></td><td class=\"courstitre\">Le Canada sous le régime britannique (3 cr.)</td></tr><tr><td class=\"courssigle\"><a href=\"/etudes/etudier-a-l-uqar/programmes-d-etudes/cours/his13119\" target=\"_blank\">HIS13119</a></td><td class=\"courstitre\">L’époque moderne (3 cr.)</td></tr><tr><td class=\"courssigle\"><a href=\"/etudes/etudier-a-l-uqar/programmes-d-etudes/cours/his14219\" target=\"_blank\">HIS14219</a></td><td class=\"courstitre\">L’Europe contemporaine (3 cr.)</td></tr><tr><td class=\"courssigle\"><a href=\"/etudes/etudier-a-l-uqar/programmes-d-etudes/cours/his14319\" target=\"_blank\">HIS14319</a></td><td class=\"courstitre\">Le Québec depuis la Confédération (3 cr.)</td></tr><tr><td class=\"courssigle\"><a href=\"/etudes/etudier-a-l-uqar/programmes-d-etudes/cours/his24219\" target=\"_blank\">HIS24219</a></td><td class=\"courstitre\">Histoire des sciences et des technologies (3 cr.)</td></tr><tr><td class=\"courssigle\"><a href=\"/etudes/etudier-a-l-uqar/programmes-d-etudes/cours/dst12118\" target=\"_blank\">DST12118</a></td><td class=\"courstitre\">Changement social contemporain (3 cr.)</td></tr><tr><td class=\"courssigle\"><a href=\"/etudes/etudier-a-l-uqar/programmes-d-etudes/cours/dst13118\" target=\"_blank\">DST13118</a></td><td class=\"courstitre\">Facteurs politiques du développement social (3 cr.)</td></tr><tr><td class=\"courssigle\"><a href=\"/etudes/etudier-a-l-uqar/programmes-d-etudes/cours/dst45018\" target=\"_blank\">DST45018</a></td><td class=\"courstitre\">Territoires et communautés en développement (3 cr.)</td></tr><tr><td class=\"courssigle\"><a href=\"/etudes/etudier-a-l-uqar/programmes-d-etudes/cours/dst51118\" target=\"_blank\">DST51118</a></td><td class=\"courstitre\">Individu, action et société (3 cr.)</td></tr><tr></tr><tr><td class=\"coursmsg\" colspan=\"2\">Autres cours optionnels :</td></tr><tr></tr><tr><td class=\"coursmsg\" colspan=\"2\">Le ou les autres cours optionnels à choisir pour compléter le plan de formation pourront être choisis parmi les cours des Blocs Génie électrique, Génie mécanique et Génie civil.</td></tr><tr></tr><tr><td class=\"coursmsg\" colspan=\"2\">Sur approbation de la direction du module, l'étudiante ou l'étudiant pourra choisir un cours du Bloc Enrichissement ou un des cours obligatoires du programme de baccalauréat en informatique.</td></tr><tr></tr><tr><td class=\"coursmsg\" colspan=\"2\">Sur approbation de la direction du module et du directeur du comité de programmes de cycles supérieurs en ingénierie, l'étudiante ou l'étudiant ayant complété 60 crédits et maintenu une moyenne supérieure ou égale à 3.0 sur 4.3 pourra être autorisé à choisir un cours parmi les cours du programmes de maîtrise en ingénierie.</td></tr></tbody></table>]"
      ]
     },
     "execution_count": 28,
     "metadata": {},
     "output_type": "execute_result"
    }
   ],
   "source": [
    "tables_general[8:10]"
   ]
  },
  {
   "cell_type": "code",
   "execution_count": 29,
   "metadata": {},
   "outputs": [
    {
     "data": {
      "text/plain": [
       "13"
      ]
     },
     "execution_count": 29,
     "metadata": {},
     "output_type": "execute_result"
    }
   ],
   "source": [
    "#skip table 8 and 9 - humanity and social studies\n",
    "tables_general = tables_general[:8]+tables_general[10:]\n",
    "len(tables_general)"
   ]
  },
  {
   "cell_type": "code",
   "execution_count": 30,
   "metadata": {},
   "outputs": [
    {
     "data": {
      "text/plain": [
       "0"
      ]
     },
     "execution_count": 30,
     "metadata": {},
     "output_type": "execute_result"
    }
   ],
   "source": [
    "link_texts_general = [container.find(\"a\").text.strip() for table in tables_general for container in table.findAll(\"td\", {\"class\": \"courssigle\"}) if container.find(\"a\").text.strip() not in link_texts]\n",
    "len(link_texts_general)"
   ]
  },
  {
   "cell_type": "markdown",
   "metadata": {},
   "source": [
    "all courses in the general path are included in the work/study path"
   ]
  },
  {
   "cell_type": "code",
   "execution_count": 55,
   "metadata": {},
   "outputs": [
    {
     "data": {
      "text/plain": [
       "93"
      ]
     },
     "execution_count": 55,
     "metadata": {},
     "output_type": "execute_result"
    }
   ],
   "source": [
    "len(list(dict.fromkeys(link_texts)))"
   ]
  },
  {
   "cell_type": "markdown",
   "metadata": {},
   "source": [
    "# 2. Test run - try to scrape first course"
   ]
  },
  {
   "cell_type": "code",
   "execution_count": 31,
   "metadata": {},
   "outputs": [],
   "source": [
    "driver.find_element_by_id(\"slider-profil-travail-etudes\").click()"
   ]
  },
  {
   "cell_type": "code",
   "execution_count": 35,
   "metadata": {},
   "outputs": [],
   "source": [
    "driver.find_element_by_link_text(link_texts[0]).click()"
   ]
  },
  {
   "cell_type": "code",
   "execution_count": 38,
   "metadata": {},
   "outputs": [
    {
     "data": {
      "text/plain": [
       "'https://www.uqar.ca/etudes/etudier-a-l-uqar/programmes-d-etudes/79n7'"
      ]
     },
     "execution_count": 38,
     "metadata": {},
     "output_type": "execute_result"
    }
   ],
   "source": [
    "driver.current_url"
   ]
  },
  {
   "cell_type": "code",
   "execution_count": 39,
   "metadata": {},
   "outputs": [
    {
     "data": {
      "text/plain": [
       "['CDwindow-8B6A199283083138A994C28382C5061E',\n",
       " 'CDwindow-106879166BAC4ADCFB479EF704EEB7D5']"
      ]
     },
     "execution_count": 39,
     "metadata": {},
     "output_type": "execute_result"
    }
   ],
   "source": [
    "driver.window_handles"
   ]
  },
  {
   "cell_type": "code",
   "execution_count": 40,
   "metadata": {},
   "outputs": [
    {
     "data": {
      "text/plain": [
       "'CDwindow-8B6A199283083138A994C28382C5061E'"
      ]
     },
     "execution_count": 40,
     "metadata": {},
     "output_type": "execute_result"
    }
   ],
   "source": [
    "driver.current_window_handle"
   ]
  },
  {
   "cell_type": "code",
   "execution_count": 41,
   "metadata": {},
   "outputs": [],
   "source": [
    "driver.switch_to.window(driver.window_handles[1])"
   ]
  },
  {
   "cell_type": "code",
   "execution_count": 42,
   "metadata": {},
   "outputs": [
    {
     "data": {
      "text/plain": [
       "'https://www.uqar.ca/etudes/etudier-a-l-uqar/programmes-d-etudes/cours/adm10014'"
      ]
     },
     "execution_count": 42,
     "metadata": {},
     "output_type": "execute_result"
    }
   ],
   "source": [
    "driver.current_url"
   ]
  },
  {
   "cell_type": "code",
   "execution_count": 43,
   "metadata": {},
   "outputs": [],
   "source": [
    "page_soup = soup(driver.page_source, 'lxml')"
   ]
  },
  {
   "cell_type": "code",
   "execution_count": 44,
   "metadata": {},
   "outputs": [
    {
     "data": {
      "text/plain": [
       "'Management (ADM10014)'"
      ]
     },
     "execution_count": 44,
     "metadata": {},
     "output_type": "execute_result"
    }
   ],
   "source": [
    "course_title = page_soup.find(\"div\", {\"class\": \"page-header\"}).find(\"h1\").text.strip()\n",
    "course_title"
   ]
  },
  {
   "cell_type": "code",
   "execution_count": 45,
   "metadata": {},
   "outputs": [
    {
     "data": {
      "text/plain": [
       "'Management'"
      ]
     },
     "execution_count": 45,
     "metadata": {},
     "output_type": "execute_result"
    }
   ],
   "source": [
    "course_name = course_title.split(\" (\")[0]\n",
    "course_name"
   ]
  },
  {
   "cell_type": "code",
   "execution_count": 46,
   "metadata": {},
   "outputs": [
    {
     "data": {
      "text/plain": [
       "'ADM10014'"
      ]
     },
     "execution_count": 46,
     "metadata": {},
     "output_type": "execute_result"
    }
   ],
   "source": [
    "course_code = course_title.split(\" (\")[1].split(\")\")[0]\n",
    "course_code"
   ]
  },
  {
   "cell_type": "code",
   "execution_count": 48,
   "metadata": {},
   "outputs": [
    {
     "data": {
      "text/plain": [
       "'Objectif\\n        Acquérir un cadre de réflexion et des outils d’analyse qui permettent de comprendre les organisations et d’influencer leur développement. Contenu\\n        Approche classique basée sur le processus de gestion fayolien : planification, organisation, direction et contrôle. Critiques de ce modèle et contributions récentes à la pensée managériale. Mondialisation des marchés, éthique, etc.'"
      ]
     },
     "execution_count": 48,
     "metadata": {},
     "output_type": "execute_result"
    }
   ],
   "source": [
    "course_desc = page_soup.find(\"div\", {\"class\": \"objectifscours\"}).text.strip() + \" \" + page_soup.find(\"div\", {\"class\": \"contenucours\"}).text.strip()\n",
    "course_desc"
   ]
  },
  {
   "cell_type": "code",
   "execution_count": 49,
   "metadata": {},
   "outputs": [
    {
     "data": {
      "text/plain": [
       "'Objectif: Acquérir un cadre de réflexion et des outils d’analyse qui permettent de comprendre les organisations et d’influencer leur développement. Contenu: Approche classique basée sur le processus de gestion fayolien : planification, organisation, direction et contrôle. Critiques de ce modèle et contributions récentes à la pensée managériale. Mondialisation des marchés, éthique, etc.'"
      ]
     },
     "execution_count": 49,
     "metadata": {},
     "output_type": "execute_result"
    }
   ],
   "source": [
    "course_desc = course_desc.replace(\"\\n        \", \": \")\n",
    "course_desc"
   ]
  },
  {
   "cell_type": "code",
   "execution_count": 80,
   "metadata": {},
   "outputs": [],
   "source": [
    "driver.close()"
   ]
  },
  {
   "cell_type": "code",
   "execution_count": 81,
   "metadata": {},
   "outputs": [],
   "source": [
    "driver.switch_to.window(driver.window_handles[0])"
   ]
  },
  {
   "cell_type": "code",
   "execution_count": 82,
   "metadata": {},
   "outputs": [
    {
     "data": {
      "text/plain": [
       "'https://www.uqar.ca/etudes/etudier-a-l-uqar/programmes-d-etudes/79n7'"
      ]
     },
     "execution_count": 82,
     "metadata": {},
     "output_type": "execute_result"
    }
   ],
   "source": [
    "driver.current_url"
   ]
  },
  {
   "cell_type": "code",
   "execution_count": 83,
   "metadata": {},
   "outputs": [
    {
     "data": {
      "text/plain": [
       "['CDwindow-8B6A199283083138A994C28382C5061E']"
      ]
     },
     "execution_count": 83,
     "metadata": {},
     "output_type": "execute_result"
    }
   ],
   "source": [
    "driver.window_handles"
   ]
  },
  {
   "cell_type": "markdown",
   "metadata": {},
   "source": [
    "# 3. Test run complete. Implement automation script to scrape all courses"
   ]
  },
  {
   "cell_type": "code",
   "execution_count": 92,
   "metadata": {},
   "outputs": [],
   "source": [
    "driver.get(url)"
   ]
  },
  {
   "cell_type": "code",
   "execution_count": 93,
   "metadata": {},
   "outputs": [],
   "source": [
    "driver.find_element_by_id(\"tab-admission-et-plan-de-formation\").click()"
   ]
  },
  {
   "cell_type": "code",
   "execution_count": 94,
   "metadata": {},
   "outputs": [],
   "source": [
    "driver.find_element_by_id(\"slider-plan-de-formation\").click()"
   ]
  },
  {
   "cell_type": "code",
   "execution_count": 95,
   "metadata": {},
   "outputs": [],
   "source": [
    "driver.find_element_by_id(\"slider-profil-travail-etudes\").click()"
   ]
  },
  {
   "cell_type": "code",
   "execution_count": 96,
   "metadata": {},
   "outputs": [
    {
     "name": "stdout",
     "output_type": "stream",
     "text": [
      "Scraped  ADM10014 Management \n",
      " Objectif: Acquérir un cadre de réflexion et des outils d’analyse qui permettent de comprendre les organisations et d’influencer leur développement. Contenu: Approche classique basée sur le processus de gestion fayolien : planification, organisation, direction et contrôle. Critiques de ce modèle et contributions récentes à la pensée managériale. Mondialisation des marchés, éthique, etc.\n",
      "1 courses scraped\n",
      "\n",
      "Scraped  GEN18419 Communication graphique en ingénierie \n",
      " Objectif: Acquérir les connaissances et les habiletés requises en dessin technique et la maîtrise du logiciel de DAO. Contenu: Éléments de dessin technique : rappels géométriques, dessin à vues multiples, vues auxiliaires, coupes et sections. Projections : axonométrique, obliques et perspectives aériennes et linéaires. Dessin de définition et d’assemblage : normes de cotation, tolérancement dimensionnel, notes, cartouche, nomenclature, tableau de révision. Lecture et analyse de plans mécaniques, électriques et hydrauliques. Création et modification de plans d'aménagement et de bâtiments. Introduction à la conception assistée par ordinateur : modélisation variationelle, modélisation paramétrique et modélisation associative. Apprentissage d’un logiciel de DAO : interface graphique, outils de dessin, vues et cotation, applications 3D et commandes avancées. Introduction à un logiciel de CAO. Introduction à un logiciel de traitement d’images.\n",
      "2 courses scraped\n",
      "\n",
      "Scraped  GEN28519 Circuits, électrotechnique et machines électriques \n",
      " Objectif: Analyser les dispositifs et machines électriques utilisés dans les entreprises Contenu: Notions de tension et de courant électrique. Matériaux conducteurs, semi-conducteurs et isolants. Composants électriques : résistances, inductances, condensateurs, diodes, transistors et thyristors.\n",
      "Analyse de circuits électriques en courant continu : loi des mailles, loi des nœuds, équivalent de Thévenin. Analyse de circuits électriques en courant alternatif monophasé : impédances complexes, circuit de redressement simple et double alternance. Puissance active, réactive et apparente, correction du facteur de puissance. Analyse de circuits électriques triphasés équilibrés : tension de phase et de ligne, montage en triangle et en étoile. Magnétisme, électromagnétisme et circuits magnétiques. Moteurs à courant continu et moteurs universels : principes, circuit équivalent, analyse, démarrage, freinage, contrôle en vitesse, et rendement. Moteurs asynchrones (triphasés et monophasés) : principes, circuit équivalent, analyse, démarrage et variateurs de vitesse. Moteurs pas à pas et moteurs à courant continu sans balai : principes, circuit d'entraînement, analyse, contrôle en vitesse et en position. Machines synchrones : principes, circuit équivalent, analyse, compensateur synchrone, démarrage. Commande industrielle des moteurs : procédés de démarrage et de freinage, redressement de signaux AC et onduleurs, réglage de vitesse de rotation et de position angulaire, servomoteurs.\n",
      "3 courses scraped\n",
      "\n",
      "Scraped  GEN29118 Ingénierie, design et communication \n",
      " Objectif: Apprendre à communiquer efficacement à l’oral, à l’écrit et à l’aide de dessins techniques les différents concepts et raisonnement sous-jacents à la pratique du génie et à la conception et au développement de produits Contenu: Ingénierie : grands domaines, spécialités, profession, fonctions, responsabilités, déontologie, formation continue obligatoire, l’ordre des ingénieurs. Initiation au processus de développement d’un produit : définition du problème (mission, besoins et spécifications), recherche de solutions, prise de décision et sélection du meilleur concept, conception détaillée, prototypage et mise en production. Réalisation d’un mini-projet pratique de design. Principes généraux en dessin technique : projections orthogonales, coupes, vues auxiliaires, conventions de dessin, dimensionnement, apprentissage d’un logiciel de conception assistée par ordinateur. Méthode de rédaction des textes techniques. Normes de présentation orale. Préparation méthodique d’un exposé et d’un rapport technique.\n",
      "4 courses scraped\n",
      "\n",
      "Scraped  FIN11098 Principes de gestion financière \n",
      " Objectif: Être sensibilisé à l'environnement économique des entreprises, se familiariser avec les principes de base permettant d'élaborer une analyse de rentabilité des projets d'investissements, connaître les principaux concepts et techniques touchant l'analyse du risque dans les décisions d'investissement et comprendre le contexte, les mécanismes et les implications reliés au financement de l'organisation. Contenu: Gestionnaire financier:  objectif et environnement.  Marchés financiers:  structure, fonctionnement, rôle et importance.  Fondements de l'évaluation:  concept de valeur, mathématiques financières et évaluation des actifs financiers.  Décision d'investissement en contexte de certitude et en tenant compte de la fiscalité canadienne.  Traitement du risque lors de l'évaluation des projets:  approche du coût du capital et approche de l'identification et de la mesure des risques.  Décision de financement:  aspects pratiques du financement et choix d'une structure de capital en pratique.\n",
      "5 courses scraped\n",
      "\n",
      "Scraped  GEN10108 Mécanique de l'ingénieur I \n",
      " Objectif: Acquérir les différents concepts régissant l'équilibre statique des corps solides et comprendre les principes mécaniques expliquant la cinématique des particules. Contenu: Concepts de base : lois de Newton, de la gravitation, unités. Systèmes de forces : composantes rectangulaires, résultante, moment, couple de forces. Équilibre : systèmes d'isolation des corps simples (DCL), conditions d'équilibre. Étude de systèmes à structure : détermination des réactions, méthode des nœuds, des sections. Sécurité et capacités limites d'appareils et supports, calcul des diagrammes d'effort tranchant et de moment fléchissant. Friction : coefficients de friction statiques et cinétiques; sécurité : adhérence et glissement. Notion de cinématique des particules, mouvement rectiligne, curviligne, accélération radiale et transversale; méthode de l'énergie; méthode de la quantité de mouvement.\n",
      "6 courses scraped\n",
      "\n",
      "Scraped  GEN12120 Matériaux \n",
      " Objectif: Comprendre le comportement des matériaux employés en ingénierie en fonction de leurs caractéristiques intrinsèques et de leur environnement de fonctionnement. Contenu: Architecture et structure atomiques. Liaison métallique, ionique et covalente. Cristallographie, défaut, dislocation, solution solide Comportement des matériaux sous contrainte. Essais de traction, de dureté et de fatigue. Courbe de contrainte-déformation : rigidité, résistance, ductilité, ténacité, et résilience. Mécanique de rupture. Notions de mélanges et d'alliages. Alliages ferreux et non ferreux. Aciers au carbone et faiblement alliés : microstructures, traitements thermiques, trempabilité, diagrammes TTT et TRC. Matières plastiques. Application des céramiques. Éléments de matériaux composites. Propriétés physiques. Dégradation des matériaux. Domaines d'applications et choix des matériaux. Indices de performance.\n",
      "7 courses scraped\n",
      "\n",
      "Scraped  GEN11217 Informatique pour l'ingénieur \n",
      " Objectif: Résoudre des problèmes de sciences et de génie  par la programmation structurée de l'ordinateur. Contenu: Connaissances des éléments fondamentaux des architectures matérielles et logicielles des systèmes informatiques. Techniques d'analyse et de conception de programmes informatiques, concepts de base d'algorithmiques. Différents paradigmes des langages de programmation. Étude d'un langage de programmation. Méthodes et critères d'analyse et d'évaluation pour le choix des composants matériels et logiciels d'un système informatique qui sera utilisé pour résoudre un problème d'ingénierie. Méthodes de test et de contrôle de la qualité des solutions informatiques par rapport aux spécifications de départ. Logiciels utilisés en ingénierie: familles de logiciels, modes d'interaction, résolution de problèmes concrets en utilisant différentes modes d'interaction, extension d'un logiciel, intégration de différents logiciels.\n",
      "8 courses scraped\n",
      "\n",
      "Scraped  GEN11319 Programmation pour ingénieur \n",
      " Objectif: S’initier aux concepts fondamentaux de programmation d’intérêt pour le génie électrique et à leurs applications. Contenu: Concepts de base de la programmation procédurale et orientée objet en langage C et C++: expression, tableaux, pointeurs, fonctions, structures, arguments. Éléments de base de la programmation : syntaxe, sémantique, variables, types et constantes. Notions de fiabilité, maintenabilité, portabilité et efficacité. Algorithmes et leurs applications : tris, recherche, files, piles, listes chainées et arbres. Notions conceptuelles et pratiques de systèmes temps-réel. Programmations embarquées. Initiation aux interfaces et méthodes de communication : SPI, I2C, UART, Wifi, Bluetooth, RF, LoRa.\n",
      "9 courses scraped\n",
      "\n"
     ]
    },
    {
     "name": "stdout",
     "output_type": "stream",
     "text": [
      "Scraped  MAT19101 Mathématiques d'ingénierie I \n",
      " Objectif: Introduire des concepts de base de l'algèbre linéaire et certains concepts utiles de probabilité et de statistique. Contenu: Étude des interrelations entre les concepts élémentaires : matrice, déterminant .  Géométrie vectorielle 3D.  Algèbre matricielle et systèmes d'équations linéaires.  Valeurs propres et vecteurs propres.  Notion de probabilité et de distribution.  Modèles de probabilités discrètes et continues.  Distribution probabilistique : binômiale, hypergéométrique, poisson, normale, exponentielle. Régression linéaire.  Tests d'hypothèses..\n",
      "10 courses scraped\n",
      "\n",
      "Scraped  GEN50116 Intégration professionnelle I \n",
      " Objectif: Sensibiliser l'étudiant à la réalité du monde du travail. Contenu: Méthodes dynamiques de recherche d'emploi. Connaissance de soi, préparation d'un curriculum vitae et d'une lettre de présentation. Types d'organisations, caractéristiques d'un milieu de travail professionnel, les grandes fonctions d'entreprise. Rôles et responsabilités de l'ingénieur, professionnalisme. Notions de santé et de sécurité au travail, développement d’une compétence dans l'identification et la correction des dangers pour la santé, la sécurité et l'intégrité physique des travailleurs. Période de quatre mois dans une organisation permettant à l'étudiant de vivre une expérience professionnelle et de se sensibiliser aux réalités du monde industriel. Choix de l'entreprise fait en fonction du champ d'activités dans lequel l'étudiant désire se perfectionner. Séjour en entreprise : l'étudiant remplit des tâches techniques variées répondant aux exigences et aux besoins de l'entreprise.\n",
      "11 courses scraped\n",
      "\n",
      "Scraped  GEN16104 Instrumentation \n",
      " Objectif: Acquérir les connaissances fondamentales de la mesure des phénomènes physiques et se familiariser avec les outils d'analyse et d'interprétation des méthodes et des résultats expérimentaux. Contenu: Principes d'instrumentation.  Approche expérimentale.  Sources et propagation des erreurs et des incertitudes.  Capteurs et instruments :  terminologie, principe, caractéristiques métrologiques et dynamiques, étalonnage.  Mesure de la température :  thermocouples, thermistors et RTD.  Mesure d'humidité.  Mesure de pression.  Mesure du débit :  conservation, débit massique et débit volumique, mesure de vitesse, classification des débitmètres.  Mesure de force et de couple :  rappel sur les contraintes et les déformations, extensométrie et jauges, pont de Wheatstone et capteurs à base de jauges.  Mesure de position :  Potentiomètres, LVDT, RVDT, capteurs optiques, capteurs ultrasoniques, capteurs inductifs et capacitifs, encodeurs absolus et relatifs.  Mesure des vibrations :  capteurs séismiques, accéléromètres.  Acquisition de données :  composantes d'un système d'acquisition, échantillonnage, conversion, pré-traitement des signaux.  Post-traitement des signaux dans les domaines tempororel et fréquentiel: notions de statistiques, corrélation, régression, analyse spectrale, transformée, algorithmes, filtres.\n",
      "12 courses scraped\n",
      "\n",
      "Scraped  GEN20119 Résistance des matériaux \n",
      " Objectif: Appliquer les lois fondamentales de l’équilibre et du comportement élastique des solides à l’étude de la résistance des éléments structuraux sollicités en traction, compression, flexion et torsion Contenu: Principes et notions de base : concepts de contrainte et de déformation, loi de Hooke. Chargement uniaxial : état de contrainte, allongement, problèmes associés aux variations de température. Torsion : déformations d’un arbre circulaire, contrainte de torsion. Théorie des poutres : définition d’une poutre, modèle d'Euler-Bernoulli, modèle de Timoshenko. Diagrammes de l’effort tranchant et du moment fléchissant. Calcul des contraintes dans les poutres. Calcul de la flèche des poutres. Contraintes de cisaillement dans les poutres et les éléments à paroi mince. Poutres et arbres de transmission soumis à des charges combinées. Énergie de déformation et théorème de Catigliano. Cercles de Mohr des déformations et des contraintes. Contraintes dans les réservoirs à paroi mince. Mesure des déformations avec des jauges de déformation. Critères de limitation en statique. Flambage des colonnes : formules d’Euler, colonnes sous charge axiale excentrée.\n",
      "13 courses scraped\n",
      "\n",
      "Scraped  GEN35119 CAO - Mécanique \n",
      " Objectif: Maitriser la conception assistée par ordinateur (CAO). Contenu: Rôle de l'ordinateur dans le design et objectifs de la CAO. Place de la CAO dans le développement de produits. Modélisation géométrique : points, courbes, surfaces et solides. Normes de dessin technique : projections, cotation, tolérancement dimensionnel et géométrique et ajustement normalisé. Sélection et représentation des pièces normalisées ou commerciales : engrenages, chaines, roulements, visseries. Conventions de représentation de modèles 3D. Introduction aux éléments avancés d’un logiciel de CAO : métal en feuille, rétroingénierie, analyse par éléments finis.\n",
      "14 courses scraped\n",
      "\n",
      "Scraped  GEN44108 Ingénierie et environnement \n",
      " Objectif: Connaître les principes généraux qui régissent la dynamique à l'intérieur des différents écosystèmes. Comprendre la problématique de l'évolution du climat et le concept de développement durable.  S'initier à la démarche de l'évaluation de l'impact des travaux d'ingénierie sur l'environnement. Contenu: Étude des rapports du GIEC. Structure et fonctionnement de l'écosystème, cheminement des composés chimiques dans les différentes composantes de l'environnement : atmosphère, eaux de surface, milieu sous-terrain. Conséquences de l'activité humaine sur l'équilibre des écosystèmes et normes : composés chimiques, matière particulaire, le bruit, l'impact visuel. L'ingénierie et la problématique de la gestion des rebus et du recyclage. Cadre réglementaire du processus d'évaluation des impacts environnementaux des projets au Québec méridional. Étude d'impact : revue des principales méthodes d'identification et d'évaluation des impacts sociaux et environnementaux. Approche économique de l'évaluation des impacts. Prévision des impacts, quantification des répercussions et mesures de mitigation et d'atténuation.\n",
      "15 courses scraped\n",
      "\n",
      "Scraped  MAT19299 Mathématiques d'ingénierie II \n",
      " Objectif: Acquérir des connaissances de base dans le domaine du calcul différentiel Contenu: Calcul différentiel des fonctions de plusieurs variables : théorie et applications.  Nombres complexes; polynômes.  Équations différentielles du premier ordre et du premier degré; résolution à l'aide de séries entières.  Équations différentielles du second ordre de types spéciaux.  Équations différentielles linéaires d'ordre n à coefficients constants.  Systèmes d'équations différentielles. Applications.\n",
      "16 courses scraped\n",
      "\n",
      "Scraped  GEN13508 Ingénierie assistée \n",
      " Objectif: Maîtriser les notions théoriques et pratiques applicables à la solution par ordinateur de problèmes mathématiques usuels de  l'ingénierie. Contenu: Arithmétique des calculateurs.  Analyse des erreurs dans les opérations élémentaires.  Chiffres significatifs exacts.  Équations non-linéaires, méthodes d'intervalles, de point fixe, Newton-Rapshon, taux de convergence.  Systèmes d'équations linéaires, méthode de Gauss, factorisation LU, conditionnement et amélioration itérative.  Méthodes d'approximation des courbes, polynômes d'approximation et splines.  Différentiation et intégration numériques.  Méthodes de résolution des équations différentielles ordinaires. Initiation au logiciel Matlab pour les calculs numériques.\n",
      "17 courses scraped\n",
      "\n",
      "Scraped  GEN15120 Mécanique de l’ingénieur II \n",
      " Objectif: Acquérir les différents concepts de la dynamique de systèmes formés de corps solides en mouvement soumis à des forces externes. Contenu: Principes de la cinématique : mouvement absolu et relatif. Principes de la dynamique appliqués à la particule et au corps rigide : lois de Newton, principe de D'Alembert. Travail et énergie, impulsion et quantité de mouvement. Notion de puissance et d'efficacité. Éléments de sécurité : forces centrifuges et protection sur machines tournantes à haute vitesse. Introduction à la théorie des vibrations mécaniques : oscillations libres, forcées et amorties.\n",
      "18 courses scraped\n",
      "\n"
     ]
    },
    {
     "name": "stdout",
     "output_type": "stream",
     "text": [
      "Scraped  GEN23199 Thermodynamique \n",
      " Objectif: Appliquer les principes de la thermodynamique pour prévoir et analyser le comportement des processus énergétiques utilisés en ingénierie. Contenu: Concepts, définitions et unités permettant de préciser l'état d'un système. Propriétés des substances pures; relations entre les paramètres d'état : pression, volume et température. Notions de travail et de chaleur.  Dégagements accidentels d'énergie. Première loi de thermodynamique : principes de conservation de masse et d'énergie; énergie interne, enthalpie; applications aux systèmes fermés et ouverts. Les gaz parfaits et réels. Usage sécuritaire des bouilloires et contenants sous pression. Deuxième loi de thermodynamique : concept d'entropie, de réversibilité et d'énergie libre. Applications aux gaz; cycle de Carnot. Relations thermodynamiques. Études de cas reliés aux machines thermiques : cycle de réfrigération, cycle moteur. Introduction à la thermodynamique chimique. Prévention des explosions.\n",
      "19 courses scraped\n",
      "\n",
      "Scraped  GEN27119 Analyse des systèmes linéaires \n",
      " Objectif: Se familiariser avec les principes de modélisation et d’analyse applicables aux systèmes linéaires et leurs applications en ingénierie Contenu: Définition des systèmes linéaires et propriétés. Modélisation et formulation selon les structures de modèles linéaires reconnus : équations différentielles ordinaires, représentation (matricielle) d’état et schéma blocs. Application à des systèmes de différentes natures physiques : systèmes mécaniques, électriques, thermiques, hydrauliques, électromécaniques et autres. Résolution de problèmes (réponses temporelles) en utilisant la Transformée de Laplace. Fonction de transfert des systèmes et propriétés. Concepts de stabilité, de réponses naturelle et forcée, et de régimes transitoire et permanent. Réponse en fréquence de systèmes linéaires. Linéarisation et analyse locale de systèmes non-linéaires : obtention de modèles linéaires approximatifs.\n",
      "20 courses scraped\n",
      "\n",
      "Scraped  GEN50216 Intégration professionnelle II \n",
      " Objectif: Sensibiliser l'étudiant aux exigences du monde du travail. Contenu: Excellence en pratique : gestion de projets techniques, tenue de dossiers. Portfolio professionnel : compétences techniques, transversales, spécifiques à un domaine particulier, développement de carrière. Période de quatre mois dans une entreprise, un laboratoire ou une compagnie de service reliés à l'industrie : familiarisation avec les réalités du monde industriel et participation, sous la direction d'un superviseur, à l'exécution d'un projet en contribuant de façon significative à la solution de divers problèmes d'ingénierie.\n",
      "21 courses scraped\n",
      "\n",
      "Scraped  MAT29399 Mathématiques d'ingénierie III \n",
      " Objectif: Acquérir des connaissances de base dans le domaine du calcul intégral. Contenu: Intégrales simples. Intégrales multiples, coordonnées curvilignes, applications.  Calcul des champs de vecteurs. Intégrales sur les courbes et les surfaces : applications, circulation, travail, flux. Théorèmes fondamentaux : Stokes, Gauss; applications à la physique.\n",
      "22 courses scraped\n",
      "\n",
      "Scraped  GEN31299 Éléments de machines \n",
      " Objectif: Concevoir des éléments de machines en tenant compte du mode de chargement, des conditions d'utilisation et des caractéristiques des matériaux utilisés. Contenu: Comportement des matériaux isotropes sous charge statique et dynamique : théorie de limitation en statique et en fatigue, concentration de contraintes, calcul des pièces soumises à des charges statiques et dynamiques.  Endommagement d'une surface de contact par usure et par fatigue. Facteur de sécurité et choix des valeurs numériques, fiabilité et considérations statistiques, dangers associés aux différents éléments de machines, pictogrammes et gardes de sécurité. Applications : arbres, vis de transmission, joints boulonnés, joints soudés, roulements, ressorts, engrenages.\n",
      "23 courses scraped\n",
      "\n",
      "Scraped  GEN33116 Asservissements linéaires \n",
      " Objectif: Modéliser et analyser le comportement des systèmes linéaires à commande automatique. Contenu: Concept général d'un système à commande automatique. Performance des asservissements. Rappels sur la transformée de Laplace et les systèmes linéaires. Fonction de transfert, réponse en fréquences, et réponse temporelle selon différentes entrées. Identification des systèmes par des techniques de base. Extension des outils d’analyse linéaire aux systèmes en boucle fermée. Stabilité des systèmes en boucle ouverte ou fermée : lieu des pôles, critère de Routh-Hurwitz, marge de phase et marge de gain. Compensation des systèmes en boucle fermée : régulateur proportionnel intégral et dérivée, (PID) et aperçu de quelques méthodes de réglage : annulation de pôles et de zéros, méthode simplifiée et méthode des contours. Commande séquentielle de systèmes logiques (langages Ladder, GRAFCET).\n",
      "24 courses scraped\n",
      "\n",
      "Scraped  GEN35305 Processus de fabrication mécanique \n",
      " Objectif: Établir des relations entre la fonction d'une pièce, son design et le processus de fabrication pour la réaliser. Contenu: Méthodes d'usinage des métaux; notion d'usinabilité. Machines-outils : conventionnelles, à contrôle numérique. Usinage par des procédés spéciaux. Tolérances et ajustements normalisés. Métrologie. Procédés de soudage. Introduction à la mise en forme des métaux par déformation à l'état solide. Notions de sécurité à chacun des processus.\n",
      "25 courses scraped\n",
      "\n",
      "Scraped  GEN37418 Conception des systèmes mécatroniques \n",
      " Objectif: Concevoir en équipe des systèmes mécaniques et/ou électriques pour des applications industrielles, utilitaires ou récréatives Contenu: Compléments sur les outils nécessaires à la conception des systèmes mécaniques, électriques ou électromécaniques : analyse de besoins, définition des spécifications, cahier des charges, analyse fonctionnelle, génération de solutions, processus de décision multicritères, conception détaillée, plan et devis, gestion d’un projet de fabrication d’un prototype, essais et raffinement du produit. Approches spécialisées de conception telles que conception en vue de l’assemblage et de la fabrication, conception à valeur ajoutée. Sélection de dispositifs mécaniques, électriques ou électromécaniques. Protocole efficace de recherche et d’identification de l’information adapté aux projets de conception. Propriété intellectuelle. Concepts reliés à la santé et à la sécurité dans le processus de conception. Notions de santé et sécurité au travail.\n",
      "26 courses scraped\n",
      "\n",
      "Scraped  GEN47107 Systèmes hydrauliques et pneumatiques \n",
      " Objectif: Se familiariser avec les concepts de fabrication des organes hydrauliques et pneumatiques, et concevoir des circuits pneumatiques et hydrauliques industriels. Contenu: Production de l'air comprimé : installation type, caractéristiques des compresseurs, filtre, débits, réseau de distribution, régulation, détermination des tuyauteries.  Caractéristiques des éléments des circuits pneumatiques : symboles graphiques, distributeurs, vérins, valves de pression, valves d'arrêt, valves de débit.  Étude de quelques installations pneumatiques.  Principes de base des systèmes hydrauliques : rappel de notions d'hydrauliques, d'hydrodynamique, forme de base d'un système hydraulique.  Caractéristiques des éléments des circuits hydrauliques : pompes et moteurs, vérins, actionneurs, valves d'arrêt, distributeurs à clapet et à tiroir, valves de pression, valves de débit, accumulateurs hydrauliques.  Techniques de raccordement et de liaison.  Étude de quelques installations hydrauliques.  Notions de sécurité.\n",
      "27 courses scraped\n",
      "\n",
      "Scraped  GEN46019 Introduction aux éléments finis \n",
      " Objectif: Appliquer la méthode des éléments finis à la résolution de problèmes en mécanique des solides et en transfert de chaleur Contenu: Fondements : formulations intégrales, systèmes de coordonnées, nœuds, degrés de liberté, éléments, fonctions d’interpolation, discrétisation, maillage, assemblage des matrices, conditionnement des matrices, conditions aux frontières, résolution du système matriciel global, convergence, singularités, précision, erreurs, interprétation et exploitation des résultats. Applications en mécanique des solides : en statiques, à l’analyse modale, au flambage, au contact, en dynamiques, à l’analyse vibratoire, et à des problèmes d’optimisation. Librairie d’éléments pour la mécanique des solides : poutres, membranes, plaques, coques, solides axisymétriques, solides 2D et 3D, liaisons spéciales, compatibilité entre les éléments. Application en transfert de chaleur : en conduction thermique, d’échanges convectifs et radiatifs, en régime permanent, en régime transitoire, non-linéaires courantes. Intégration de la méthode dans une démarche de conception : bonnes pratiques, problèmes fréquents, pièges à éviter, étapes de réalisation d’un projet d’analyse par éléments finis. Problèmes avancés et nouveaux développements.\n",
      "28 courses scraped\n",
      "\n"
     ]
    },
    {
     "name": "stdout",
     "output_type": "stream",
     "text": [
      "Scraped  GEN47009 Commande industrielle \n",
      " Objectif: Se familiariser avec les techniques de commande industrielle. Contenu: Rappels sur les systèmes linéaires asservis, les régulateurs PID et quelques méthodes de réglage. Commande de systèmes stables et instables. Dimensionnement de  composantes et actionneurs hydrauliques (pompes, vannes, etc,) en vue de la commande de tels systèmes. Commande avancée : modèle interne, prédicteur de Smith, anticipation, cascade. Aspects industriels: limites des actionneurs, passage entre les modes manuel et automatique, etc. Traitement des contraintes et des non linéarités. Rappels sur la transformée en Z et l'échantionnage. Systèmes de commande numérique. Systèmes multivariables: caractérisation, commande décentralisée ou avec découpleurs.\n",
      "29 courses scraped\n",
      "\n",
      "Scraped  GEN47207 Fabrication assistée par ordinateur \n",
      " Objectif: Acquérir les connaissances de base relatives à la théorie et à la pratique de la FAO. Contenu: Machines outils à commande numérique (MOCN) : principe, description, classification, programmation et systèmes d'axes. Codes G et M pour les tours et les centres d'usinage : instruction de base et cycles programmés d'usinage. Langage APT : principe, définition de la géométrie, génération de trajectoires, les CLFILES. Fabrication assistée par ordinateur (FAO) : principes et limites, définition des géométries des pièces et des outils, détermination des trajectoires d'outils pour le tournage et le fraisage mulitaxes, définition des paramètres d'opération, postprocesseur et fichier machine. Analyse économique. Présentation de logiciels industriels sur micro-ordinateur et station de travail, critère de choix. Interfaces CAO-FAO-MOCN. Intégration de la fabrication (CIM). Notions de sécurité.\n",
      "30 courses scraped\n",
      "\n",
      "Scraped  GEN50007 Profession d'ingénieur \n",
      " Objectif: Se familiariser avec les aspects légaux de la profession d'ingénieur, les devoirs de l'ingénieur envers sa profession, ses collègues et la société ; Expérimenter et vivre, sous la supervision d'un superviseur industriel et d'un professeur coordonnateur, un apprentissage du travail à un poste de niveau d'ingénieur. Contenu: Le cadre juridique: lois et règlements régissant l'exercice de la profession. Règles générales applicables aux contrats. Code de déontologie des ingénieurs. Étude de cas en éthique et déontologie telles que: conflits d'intérêt, corruption, manque d'équité, danger pour la santé et la sécurité du public et des travailleurs. \n",
      "\n",
      "Une période de quatre mois dans une entreprise, un laboratoire ou une compagnie de service reliés à l'industrie permet à un étudiant de se familiariser avec la profession d'ingénieur et de participer, sous la direction d'un superviseur, à la conception et/ou à l'exécution de projets d'ingénierie. Pendant cette période de résidence en entreprise, l'étudiant apporte une contribution significative à la solution d'un problème réel d'ingénierie, tel qu'on en retrouve dans le milieu professionnel, avec ses contraintes économiques, techniques et autres. Il aide également l'étudiant à faire la synthèse des connaissances théoriques acquises dans ses différents cours.\n",
      "31 courses scraped\n",
      "\n",
      "Scraped  GEN25119 Mécanique des fluides \n",
      " Objectif: Approfondir les concepts de base des fluides incompressibles en mouvement et de leur interaction avec les corps solides. Contenu: Propriétés des fluides. Équations fondamentales de la statique des fluides, forces hydrostatiques et poussée d’Archimède. Cinématique des fluides : variables de Lagrange et d’Euler, équation de continuité. Dynamique des fluides incompressibles, non-visqueux et visqueux. Applications du théorème de Bernoulli : lignes d’énergie et piézométrique, sondes de pression, vidange d’un réservoir, phénomène de Venturi, application du théorème des quantités de mouvement, théorème d’Euler. Étude de l’écoulement autour des corps solides, dans les conduites, et dans les canaux. Écoulements en couche limite, laminaire et turbulente. Analyse dimensionnelle et similitudes.\n",
      "32 courses scraped\n",
      "\n",
      "Scraped  GEN40218 Projet \n",
      " Objectif: Développer son autonomie, sa créativité et ses habilités de communication verbale et écrite en s’initiant au monde de l’ingénierie professionnelle par l’application et l’approfondissement de ses connaissances au cours de la réalisation d’un projet technique Contenu: Notions de santé et sécurité au travail. Ergonomie. Hygiène industrielle.\n",
      "\n",
      "Initiation au monde de l’ingénierie professionnelle par la réalisation d’un projet visant la solution d’un problème réel formulé de préférence par l’industrie. Analyse des différents aspects techniques, économiques et environnementaux du problème soumis ; conception et/ou implantation d’une solution novatrice démontrant la capacité à réaliser un projet d’ingénierie.  Le projet peut être exécuté dans le cadre d’un stage.\n",
      "33 courses scraped\n",
      "\n",
      "Scraped  GEN46120 Transmission de chaleur \n",
      " Objectif: Calculer les coefficients de transmission, les flux thermiques et les domaines de température dans le contexte de l'ingénierie. Contenu: Analyse de la conduction, dans des éléments homogènes à une ou deux dimensions, en régime permanent et en régime transitoire. Méthodes analogiques, graphiques et numériques. Convection naturelle, forcée, interne, externe; régimes laminaire et turbulent. Changement de phase : évaporation, condensation. Transfert de masse. Transmission par rayonnement, réflexion; échanges entre les matériaux solides : corps noirs et réels, facteur de forme. Étude de cas : calculs d'échangeurs de chaleur.\n",
      "34 courses scraped\n",
      "\n",
      "Scraped  GEN34199 Ingénierie de la qualité \n",
      " Objectif: Acquérir les connaissances de base dans l'évaluation, du contrôle et de la gestion de la qualité de la conformité. Contenu: Introduction à la qualité et à l'ingénierie de la qualité.  Contrôle de la qualité. Métrologie industrielle, instruments de métrologie et d'inspection, étalon, tracabilité et étalonnage d'instruments. Interprétation des tolérances dimensionnelles et géométriques d'un dessin : tolérances dimensionnelles et géométriques.  Inspection manuelle et sur marbre : contrôle dimensionnel des longueurs et des angles, contrôle des tolérances géométriques, planification d'inspection de pièces.  Introduction à l'inspection automatisée :  appareil de mesure tridimensionnelle, développement de méthodes.  Contrôle statistique de la  qualité : introduction et notions de statistiques pour l'ingénieur de qualité, échantillonnage et contrôle par lots, contrôle en cours de production. Assurance de la qualité : introduction aux normes ISO 9000, documentation du système de gestion de la qualité ISO 9000, l'audit qualité pour l'enregistrement au programme ISO 9000, amélioration de la qualité. Conditions sécuritaires d'utilisation des appareils de mesure.\n",
      "35 courses scraped\n",
      "\n",
      "Scraped  GEN45321 Projet de fin d’études \n",
      " Objectif: Développer l'autonomie, la responsabilité, la créativité et les habiletés de communication verbale et écrite en s’initiant à la pratique professionnelle à travers l’identification, la formulation, l’analyse et la résolution de problèmes industriels complexes dans le cadre de projets. Contenu: Notions de santé et sécurité au travail. Méthode de gestion pour prévenir les accidents de travail. Lois et règlements de la SST au Québec. Initiation à la vie professionnelle : réalisation de projets permettant la confrontation à des problèmes industriels réels. Indentification, formulation et analyse des différents aspects techniques, économiques et environnementaux du problème soumis et conduite de la conception et/ou implantation d'une solution novatrice démontrant la capacité de proposer des solutions réalistes à des problèmes d’ingénierie complexes et évolutifs, de concevoir des systèmes, des composants ou des processus qui répondent à des besoins spécifiques.\n",
      "36 courses scraped\n",
      "\n",
      "Scraped  GEN45409 Projet de fin d'études en génie mécanique \n",
      " Objectif: Aprofondir les connaissances techniques, développer l'autonomie, la créativité et les habiletés de communication verbale et écrite et s'initier à la pratique professionnelle à travers la résolution de problèmes industriels réels et la réalisation de projets en génie mécanique. Contenu: Le projet doit viser à confronter des problèmes réels reliés au secteur du génie mécanique et formulés de préférence par l'industrie. L'étudiante ou l'étudiant doit analyser les différents aspects techniques, économiques et environnementaux du problèmes soumis; il doit effectuer la conception et/ou l'implantation d'une solution novatrice qui démontre sa capacité à réaliser un projet d'ingénierie. Les documents rédigés au cours du projet doivent faire état de la question, présenter le développement de la solution choisie, les résultats et conclusions. Ces documents, de même que la soutenance orale, font l'objet d'évaluations. Le projet peut être exécuté dans le cadre d'un séjour en entreprise.\n",
      "37 courses scraped\n",
      "\n"
     ]
    },
    {
     "name": "stdout",
     "output_type": "stream",
     "text": [
      "Scraped  GEN46407 Vibrations mécaniques \n",
      " Objectif: Se familiariser avec les outils nécessaires à l'analyse des vibrations des machines et à la conception de systèmes d'isolation des sources de vibration des machines. Contenu: Concepts de base des vibrations mécaniques : types de vibrations, caractéristiques des éléments d'isolation, effets des vibrations sur l'homme.  Systèmes à un degré de liberté : détermination de la fréquence naturelle, méthode de l'énergie, méthode de Newton, fréquence naturelle des poutres, méthode de Rayleigh, fréquences naturelles des systèmes complexes, méthode de Dunkerley, réponse en fréquence.  Isolation des machines : choix des composantes d'isolation, absorbeur dynamique.  Équilibrage des machines rotatives.  Systèmes à deux degrés de liberté, vibration en régime forcé sous excitations quelconques, généralisation aux systèmes à plusieurs degrés de liberté : équations de Lagrange, analyse modale.  Analyse fréquentielle.  Instruments de mesure.  Programme de surveillance de l'état des machines, prévention sur diagnostic fréquentiel.  Nuisance des vibrations à la santé humaine.\n",
      "38 courses scraped\n",
      "\n",
      "Scraped  GEN47499 Systèmes de production automatisée \n",
      " Objectif: Acquérir les connaissances de base et se familiariser avec les systèmes de production automatisée. Contenu: Fonctions de la production. Automatisation. Productivité : concepts, modèles,  mesure des performances et facteurs d'influence. Aspects économiques de la production.  Machines-outils à commande numérique et Robots industriels : technologie, programmation et applications.  Cellules robotisées et applications. Systèmes de fabrication : transport, manutention et entreposage automatisé.  Cellules et systèmes flexibles.  Conception des systèmes de fabrication.  Balancement de lignes.  Technologie de groupe : codage, classification et applications.  Pilotage des systèmes de fabrication. Rappels et compléments : analyse combinatoire et séquentielle.  Capteurs et effecteurs.  Méthode structurée d'analyse (GRAFCET).  Automates programmables. Commande et surveillance des procédés.  Intégration de la production : DFA, ingénierie simultanée, CFAO, CIM, gestion de la production, base de données, réseaux locaux et communication. Ressources humaines et sécurité.\n",
      "39 courses scraped\n",
      "\n",
      "Scraped  GEN10519 Schémas, câblage et normes en électricité industrielle \n",
      " Objectif: Concevoir le câblage des installations électriques conformément à des normes et réaliser la programmation de base des automates programmables industriels. Contenu: Production de schémas électriques sur ordinateur, schémas de systèmes de contrôle et de commande industrielle, applications aux automates et aux circuits d’entrées et de sorties. Principaux réseaux de communication industriels utilisés par les automates programmables, câblage, paramètres, configuration et utilisation. Programmation des processus simples à l’aide d’automates programmables industriels, de capteurs et d’actionneurs.\n",
      "Éléments du Code de construction du Québec (Chapitre V Électricité) et du Code canadien de l’électricité, normes et bonnes pratiques, schémas de câblage, composants usuels des circuits résidentiels et industriels, protection, dimensionnement. Panneaux électriques et de commande.\n",
      "40 courses scraped\n",
      "\n",
      "Scraped  GEN22105 Circuits électriques I \n",
      " Objectif: Acquérir les concepts fondamentaux permettant l'élaboration, l'analyse et la simulation des circuits électriques. Contenu: Éléments de base des  circuits : résistances, condensateurs, inducteurs, et sources de tension et de courant (dépendantes ou indépendantes). Lois d'Ohm et de Kirchhoff, théorème de superposition, théorèmes de Thévenin et de Norton et le principe du transfert maximal de puissance. Formulation des équations d'équilibre des circuits : méthode noeœuds et méthode des mailles. Réponse en régimes transitoire et permanent des circuits de premier ordre et deuxième ordre. Introduction au logiciel de simulation Pspice.\n",
      "41 courses scraped\n",
      "\n",
      "Scraped  GEN22208 Circuits électriques II \n",
      " Objectif: Approfondir et appliquer les connaissances liées aux méthodes d'analyse des circuits ainsi qu'à leurs comportements temporel et fréquentiel. Contenu: Sources sinusoïdales; régimes transitoire et permanent. Impédance, admittance, phaseurs, puissance, facteur de puissance et sa correction. Analyse des circuits par transformée de Laplace. Résonance, réponse en fréquence, fonction de transfert et diagramme de Bode. Circuits à base d'amplificateurs opérationnels.  Filtres analogiques.  Réseaux à deux ports.\n",
      "42 courses scraped\n",
      "\n",
      "Scraped  GEN22519 Systèmes et technologies du génie électrique \n",
      " Objectif: S’initier aux bases conceptuelles et aux aspects pratiques du génie électrique et à ses domaines de spécialité. Contenu: Grands domaines et enjeux actuels du génie électrique, électronique et électrotechnique. Matériaux pour le génie électrique : isolants, conducteurs et semi-conducteurs.\n",
      "Notions fondamentales et appliquées sur la production, conversion, transport et stockage de l’énergie électrique : solaire, éolienne, hydroélectrique. Transformateur, alternateur, moteur, redresseur, onduleur, hacheur, batteries. Structure et raccordement des panneaux solaires, composants électriques d’une éolienne, centrale hydroélectrique. Principe de fonctionnement des réseaux électriques intelligents. Systèmes de télémesure et de contrôle à distance des installations industrielles SCADA.\n",
      "43 courses scraped\n",
      "\n",
      "Scraped  GEN25219 Circuits logiques \n",
      " Objectif: Concevoir et réaliser des circuits logiques avec des composantes standards et des puces programmables. Contenu: Systèmes de numération : système binaire, octal et hexadécimal, changement de base. Système de codage: code binaire naturel, code binaire réfléchi, codes décimaux, codes alphanumériques, code A.S.C.I.I. Unité arithmétique: représentation des nombres, addition et soustraction, opérations logiques. Circuits logiques combinatoires: algèbre Booléenne et ses propriétés, théorème de De Morgan, simplification d'une expression logique, méthode de Karnaugh, schémas logiques.  Circuits logiques séquentiels : bascules, registres, compteurs, mémoires, circuits programmables. Machines à états finis. Introduction au langage de description de matériel (HDL). Conception, implantation et validation des circuits logiques combinatoires et séquentiels sur circuits programmables (FPGA).\n",
      "44 courses scraped\n",
      "\n",
      "Scraped  GEN28105 Électromagnétisme \n",
      " Objectif: Étudier les phénomènes électriques et magnétiques présents dans les applications de l'électricité: production, transport et distribution. Contenu: Charge électrique: loi de Coulomb, énergie d'un système de charges. Champ électrostatique: flux, théorème de Gauss, distributions, ligne indéfinie uniformément chargée. Potentiel électrostatique: différence de potentiel et fonction potentielle. Solution de l'équation de Laplace: séparation des variables, méthode des images, solutions analytiques et séparation des variables, solutions numériques, méthodes itératives par ordinateur. Les conducteurs en électrostatique. Courant électrique et interactions électromagnétiques: courant électrique, champ électromagnétique, conducteur filiforme, effet Hall, loi d'Ohm. Lois fondamentales de la magnétostatique: propriétés fondamentales du champ magnétique. Loi de Biot et Savart, théorème d'Ampère, loi de Faraday. Phénomènes d'induction électromagnétiques, équations de Maxwell: champ électromoteur d'induction, expressions générales des lois de l'électromagnétisme.\n",
      "45 courses scraped\n",
      "\n",
      "Scraped  GEN31199 Électronique I \n",
      " Objectif: Se familiariser avec les composants et les principes de fonctionnement des circuits électroniques à semi-conducteurs. Contenu: Théorie des semi-conducteurs, matériaux utilisés comme semi-conducteur. Diodes : modélisation et applications (diode à jonction P-N, diode zener, diode électroluminescente). Transistors bipolaire : construction, caractéristiques, polarisation, modélisation et amplification. Transistors à effet de champ à jonction (JFET), à oxyde métallique (MOS à appauvrissement et à enrichissement) : construction, caractéristiques, polarisation, modélisation et amplification. Analyse et conception de circuits à transistor. Amplificateurs opérationnels et applications dans quelques circuits usuels. Concepts de base de la sécurité en électronique.\n",
      "46 courses scraped\n",
      "\n"
     ]
    },
    {
     "name": "stdout",
     "output_type": "stream",
     "text": [
      "Scraped  GEN32105 Électrotechnique \n",
      " Objectif: Approfondir les principes de base de la conversion d'énergie électrique et du fonctionnement des machines électriques. Contenu: Éléments de base des circuits monophasés : phaseurs, puissance des courants alternatifs sinusoïdaux, facteur de puissance. Circuits magnétiques : propriétés fondamentales du champ magnétique, Loi de Biot et Savart, théorème d'Ampère, loi de Faraday, phénomènes d'induction électromagnétiques. Transformateurs : transformateurs parfait et réel, rendement, transformateurs de courant et de tension. Circuits triphasés équilibrés et déséquilibrés, composantes symétriques. Transformateurs en triphasé. Harmoniques. Principes de conversion d'énergie électromécanique : actionneurs électromécaniques, principe des machines électriques. Problèmes de sécurité.\n",
      "47 courses scraped\n",
      "\n",
      "Scraped  GEN35205 Introduction aux microprocesseurs \n",
      " Objectif: Acquérir les connaissances théoriques et pratiques des systèmes à microprocesseurs; connaissances nécessaires en conception de l'ordinateur. Contenu: Introduction : évolution des microprocesseurs, concept de base d'un ordinateur. Organisation matérielle d'un microprocesseur : architecture interne, signaux, les cycles. Organisation générale des échanges : échanges asynchrones, cycle de lecture et d'écriture, échanges synchrones, contrôle d'attribution des bus, traitement de divers types d'exception. Aspect logiciel d'un microprocesseur : structure de la programmation, organisation des données en mémoire, les modes d'adressage, jeu d'instruction, programmes d'application. Autres familles de processeurs.\n",
      "48 courses scraped\n",
      "\n",
      "Scraped  GEN36309 CAO - Électrique \n",
      " Objectif: S'initier à l'utilisation des outils CAO pour la conception en génie électrique (conception de cartes imprimées et conception numérique par logique programmable). Contenu: Partie 1 : Cartes imprimées. Principales étapes du processus de conception en génie électrique (ingénierie, conception et fabrication assistée par ordinateur). Ingénierie assistée par ordinateur, plans et symboles des composantes. Apprentissage d'un logiciel de saisie de schéma électrique. Conception assistée par ordinateur, technologie des circuits imprimés. Apprentissage d'un logiciel de conception de plaquettes de circuit imprimé (PCB). Introduction et aperçu des procédés de fabrication des plaquettes. Notions de santé et sécurité. Fabrication et mise en boîtier des composantes discrètes et des circuits intégrés, tests et essais des circuits, types de montage par insertion et en surface.\n",
      "Partie II : Conception numérique par logique programmable. Apprentissage d'un langage de conception matérielle (HDL). Démarche de conception numérique par l'utilisation des circuits FPGA et CPLD. Apprentissage d'un logiciel de saisie et programmation de circuits logiques programmables. Expérimentation sur cartes prototypes.\n",
      "49 courses scraped\n",
      "\n",
      "Scraped  GEN37199 Électronique II \n",
      " Objectif: Compléter les notions d'analyse et de conception de circuits électroniques. Contenu: Complément sur les composantes discrètes. Introduction à l'électronique numérique. Analyse et conception de circuits à transistors. Circuits amplificateurs : caractéristiques (gain et impédances), modélisation, réponses en fréquences. Amplificateurs de puissance: classes d'amplificateurs, efficacité. Applications des circuits intégrés : amplificateurs opérationnels, comparateurs, convertisseurs, régulateurs et autres circuits intégrés spécialisés. Applications des amplificateurs opérationnels : amplificateurs en boucle ouverte et fermée, rétroaction positive et négative, critère de stabilité, oscillateurs, filtres actifs, circuits de régulation. Concepts de santé et sécurité en électronique.\n",
      "50 courses scraped\n",
      "\n",
      "Scraped  GEN43020 Traitement des signaux I \n",
      " Objectif: Maîtriser les connaissances fondamentales de la théorie des signaux et des systèmes. Contenu: Classifications des signaux : continus et discrets, déterministes et aléatoires, stationnaires et non-stationnaires. Échantillonnage et quantification des signaux: théorème d'échantillonnage, fréquence de Nyquist, repliement spectral, restitution du signal après échantillonnage, erreur de quantification, rapport signal-sur-bruit. Systèmes discrets, linéarité, invariance dans le temps, stabilité, causalité, réponse impulsionnelle, convolution, équations aux différences. Analyse fréquentielle : séries de Fourier, transformée de Fourier discrète, transformée de Fourier rapide, propriétés, spectres, effets de la durée d'observation et de la fenêtre de pondération sur le spectre. Transformée en Z: définitions, propriétés, applications dans l'analyse des systèmes. Filtrage numérique: filtre idéal et filtre réel, méthodes de conception filtres de type à réponse impulsionnelle finie (RIF) et infinie (RII), structures de réalisations. Modulation et démodulation d'amplitude: principe, spectre et largeur de bande d'un signal modulé, multiplexage par répartition de fréquence. Expériences de simulation avec l'outil de programmation Matlab.\n",
      "51 courses scraped\n",
      "\n",
      "Scraped  GEN43109 Électronique de puissance \n",
      " Objectif: Acquérir les connaissances de base concernant les ispositifs à semi-conducteurs et leur utilisation dans les différents systèmes de conversion d'énergie électrique. Contenu: Composants de puissance : diode, thyristor, triac, transistor de puissance, spécification d'amorçage, transistor MOS de puissance. Montages redresseurs.  Étude en charge des convertisseurs. Commutation d'une source continue. Conversion de fréquence. Applications : contacteur électronique, chauffage, gradateur, multiplicateurs de tension. Lissage de sortie d'un redresseur. Filtrage de lignes à courant alternatif. Commande de machines à courant continu. Commande des machines à courant alternatif. Des notions de protection et de sécurité sont également étudiées.  Leçons magistrales, travaux dirigés et travaux pratiques.\n",
      "52 courses scraped\n",
      "\n",
      "Scraped  GEN43216 Réseaux électriques \n",
      " Objectif: Acquérir les connaissances de base nécessaires à l'analyse et à la conception de réseaux de distribution de l'énergie électrique. Contenu: Analyse et conception des lignes de transmission : type de conducteur, impédance, résistance, ligne inductive et capacitive, circuit équivalent, compensation réactive. Composantes symétriques. Rappels des notions de base de la puissance complexe. Écoulement de puissance d'une ligne de transmission. Puissance maximum transportable. Transformateurs de puissance. Calcul des courants de défauts. Stabilité et protection des lignes de transmission.\n",
      "53 courses scraped\n",
      "\n",
      "Scraped  GEN43312 Architecture des ordinateurs \n",
      " Objectif: Se familiariser avec les éléments de base d'un ordinateur et les liens existant entre eux afin de se rendre apte à utiliser une démarche rigoureuse dans le développement d'un système informatisé. Contenu: Structure d'un ordinateur : processeur, mémoire, organisation des entrées et sorties, réseaux et systèmes distribués, transmission des données. Notions de base des microprocesseurs : microprocesseurs Pentium et MC680X0, microcontrôleurs, interface au microprocesseur. Compléments des notions de circuits logiques : registres, bus, multiplexeur et décodeur, horloges, mémoire principale. Concepts généraux de la microprogrammation, langage d'assemblage. Étude d'une machine traditionnelle.\n",
      "54 courses scraped\n",
      "\n",
      "Scraped  GEN43405 Principes de communication \n",
      " Objectif: Se familiariser avec les outils nécessaires à l'analyse des signaux de communications analogiques et numériques et à la conception d'équipements de transmission des données numériques. Contenu: Introduction aux communications analogiques : modulation et démodulation AM, FM et de phase, bandes de fréquences, puissance de transmission, circuits de modulation et de démodulation, bandes de fréquences, niveaux de puissance. Déformation des signaux transmis : interférence et distorsion, pertes de transmission, bruits parasites, rapport signal/bruit. Modélisation statistique des signaux aléatoires. Communications numériques : types de modulation : PAM, PCM, PDM et PPM. Réseau de transmission de données : mécanisme des entrées-sorties, mécanisme des interruptions, modems, communication par paquets, réseaux locaux.\n",
      "55 courses scraped\n",
      "\n"
     ]
    },
    {
     "name": "stdout",
     "output_type": "stream",
     "text": [
      "Scraped  GEN43599 Hyperfréquences \n",
      " Objectif: Acquérir les connaissances de base à l'analyse et à la conception d'un réseau de télécommunication. Contenu: Rappel de notions d'analyse vectorielle et de champ électromagnétique dans l'espace : systèmes de coordonnées, transformation de coordonnées, etc.  Équations de Maxwel. Ondes électromagnétiques : propagation des ondes planes, conducteurs et diélectriques, réflexions d'ondes dans les conducteurs.  Guides d'onde : caractéristiques des ondes électriques et magnétiques, vitesse de propagation, pertes dans les lignes de transmission. Éléments de circuits des lignes UHF.  Conception des antennes.\n",
      "56 courses scraped\n",
      "\n",
      "Scraped  GEN43605 Machines électriques \n",
      " Objectif: Compléter les notions d'analyse et de conception des machines électriques. Contenu: Étude des machines électriques tournantes au niveau du principe de fonctionnement, de la constitution, de la modélisation et de l'utilisation. Les machines de base sont étudiées dans l'ordre suivant : machines synchrones, machines asynchrones et machines à courant continu. Étude des essais classiques d'identification des paramètres des machines électriques. Étude des procédés de variation de vitesse. Problèmes de sécurité.\n",
      "57 courses scraped\n",
      "\n",
      "Scraped  GEN43807 Vision numérique \n",
      " Objectif: Maîtriser les connaissances de bases de la vision numérique 2D et 3D afin de connaître les possibilités qu'offre cette approche de traitement pour la solution de problèmes d'ingénierie. Contenu: Le cours se veut une introduction au domaine. Il couvre les fondements et la démarche globale de vision numérique : formation des images, traitements d'images et reconnaissance. Formation et acquisition des images 2D et 3D, principes élémentaires de la formation d'images, pré-traitements, segmentation et traitements simples (filtrage, détection de contours, transformée de Hough), description des images et extraction du contenu sémantique.\n",
      "58 courses scraped\n",
      "\n",
      "Scraped  GEN43908 Systèmes de communication \n",
      " Objectif: Synthétiser les notions de télécommunication afin de maîtriser la conception des systèmes de télécommunications : liaisons hertziennes, satellites et téléphonie cellulaire. Contenu: Identification des paramètres critiques et analyse du budget de liaison : milieu de transmission, puissance et température du bruit, gain des antennes. Modélisation et analyse des dégradations attribuables aux imperfections à l'émetteur et au récepteur : amplification non linéaire, bruit des canaux adjacents. Systèmes de communications point à point par faisceaux hertziens : principes de base, classification et calcul des liaisons. Systèmes de communications par satellites : introduction, historique, orbitographie, problèmes de propagation et équation de base du bilan de liaison, méthodes d'accès au canal satellite. Étude du cas de la téléphonie cellulaire : attribution des fréquences, analyse de la probabilité du blocage, propagation pour des mobiles, capacité cellulaire, qualité de service, normes et gestion de la mobilité. Applications de l'accès multiple par répartition de code aux systèmes de communication personnels. Extension au système à étalement spectral. Méthodes d'accès : accès par canaux individuels à bande étroite, systèmes à spectre étalé. Caractéristiques du canal radiomobile: modes généraux de propagation des ondes radio, caractéristiques multitrajets de la propagation en radiomobile. Systèmes nord-américains et européens. Systèmes à commutation de paquets par radio.\n",
      "59 courses scraped\n",
      "\n",
      "Scraped  GEN44205 Traitements des signaux II \n",
      " Objectif: Analyser et concevoir des systèmes de traitement numérique des signaux. Contenu: Échantillonnage, quantification, produit de convolution, transformée de Fourier discrète (TFD). Estimation spectrale : périodogramme et spectrogramme. Utilisation des fenêtres de pondération (de Hamming, de Blackman et de Kaiser). La fonction de corrélation et ses applications dans la détection des signaux. Différents modes de modulation : modulation d'amplitude (AM), modulation de fréquence (FM) et en largeur d'impulsion (PWD). Systèmes définis par une équation aux différences et transformée en Z. Filtrage numérique : conception des filtres à réponses impulsionnelles infinies (RII) et à réponses impulsionnelles finies (RIF) numériques.  Introduction à l'implantation temps-réel des filtres numériques.  Utilisation de processeurs numériques de traitement de signaux (DSP).\n",
      "60 courses scraped\n",
      "\n",
      "Scraped  GEN47816 Identification, prédiction et adaptation \n",
      " Objectif: Se familiariser avec les processus d'identification des systèmes, de prédiction basée sur des modèles et de commande adaptative applicables aux systèmes dynamiques. Contenu: Rappels sur les systèmes linéaires invariants dans le temps et leurs propriétés. Identification des systèmes : réponse à l'échelon ou à l'impulsion, analyse fréquentielle, analyse spectrale, analyse par corrélation. Régression linéaire : estimation par moindres carrés. Signaux d'entrée : échelon, séquence binaire pseudoaléatoire et autres. Méthodes basées sur l'erreur de prédiction : prédiction optimale, moindres carrés, moindres carrés généralisés, erreur de sortie, maximum de vraisemblance. Identification récursive  basée sur l'erreur de prédiction. et l’identification en boucle fermée. Validation du modèle et choix de sa structure. Utilisation de modèles pour la prédiction du comportement. Techniques de base utilisées en commande adaptative.\n",
      "61 courses scraped\n",
      "\n",
      "Scraped  GEN46205 Énergétique du bâtiment \n",
      " Objectif: Concevoir des systèmes de traitement d'air et de ventilation adaptés aux besoins des bâtiments modernes. Contenu: Notion de confort pour l'humain. Propriétés physiques de l'air; psychrométrie. Traitement de l'air : chauffage, refroidissement, humidification, assèchement, filtration. Réseaux de distribution de l'air; calcul des charges, des canalisations et des ventilateurs. Étude des principaux systèmes installés dans les bâtiments et modes de contrôle. Critères de design et analyse des coûts. Simulation sur ordinateur à l'aide d'un logiciel spécialisé; étude de cas.\n",
      "62 courses scraped\n",
      "\n",
      "Scraped  GEN46399 Dynamique des fluides \n",
      " Objectif: Acquérir des connaissances complémentaires en mécanique des fluides, connaissances basées sur la dynamique des fluides compressibles et visqueux. Contenu: Équations générales de la dynamique des fluides compressibles. Relations fondamentales : principe de conservation de la masse, loi fondamentale de la dynamique, principe de conservation d'énergie.  Écoulement de fluide parfait : équations générales, écoulement permanent, écoulement irrotationnel, isoénergétique. Théorie de l'onde de choc : définition, relations de compatibilité, équations du choc droit, méthode d'étude des chocs en écoulement permanent. Dynamique des fluides visqueux : couche limite laminaire : définition de la couche limite, conditions de similitude, équations de la couche limite, conditions aux limites, analogie de Reynolds, épaisseur de couche limite. Simulation d'écoulement fluide par ordinateur.\n",
      "63 courses scraped\n",
      "\n",
      "Scraped  GEN47305 Éléments de robotique \n",
      " Objectif: Acquérir les connaissances de base en robotique et se familiariser avec la pratique industrielle. Contenu: Vues d'ensemble sur les robots : histoire, technologie, géométrie, classification industrielle, composantes. Organes actionneurs : électriques, hydrauliques et pneumatiques. Détection de vitesse et de position. Contrôle des moteurs. Modélisation cinématique : directe, inverse, incrémentale, modélisation dynamique du bras manipulateur. Programmation des robots : programmation hors ligne, génération de trajectoire, contrôle de trajectoire, programmation structurée. Applications : procédés et cellules robotisées. Éléments de sécurité en robotique.\n",
      "64 courses scraped\n",
      "\n",
      "Scraped  GEN47908 Maintenance industrielle \n",
      " Objectif: Maîtriser les éléments de base pour l'organisation et le contrôle de la maintenance en industrie. Contenu: Fiabilité : concepts de fiabilité et de disponibilité, durée de vie, taux de défaillance. Rappels sur les distributions de probabilité utilisées en fiabilité : loi binomiale, loi normale, loi exponentielle, loi de Weibull. Estimation des durées de vie, des taux de défaillance et des périodes de maintenance. Essais de fiabilité. Analyse des modes de défaillance (AMDEC). Analyse des redondances, système série, parallèle, combiné. Maintenance : maintenance corrective, maintenance préventive, maintenance conditionnelle. Organisation de programmes de maintenance. Techniques de surveillance. Courbes de tendance, analyse spectrale, établissement des niveaux d'alarme. Diagnostic des défauts de machines : déséquilibre, lignage, roulements, paliers lisses, serrage, courroies, problèmes aérodynamiques, engrenages, moteurs. Intégrité structurale des machines par analyse modale.\n",
      "65 courses scraped\n",
      "\n"
     ]
    },
    {
     "name": "stdout",
     "output_type": "stream",
     "text": [
      "Scraped  GEN48119 Construction des infrastructures littorales \n",
      " Objectif: Comprendre les risques associés à toutes les étapes d’un projet de construction des infrastructures littorales, de la planification à la mise en œuvre. Contenu: Risques liés à la construction et sécurité. Équipements terrestres et flottants. Déversement des matériaux – placement contrôlé. Préparation du site : aires de stockage et de réparation, installations de chargement (barge, caboteur, camions et trains). Problèmes géotechniques. Techniques de mise en œuvre : construction des digues à talus, construction des perrés, construction des ouvrages de fondation, construction d’ouvrage de protection des câbles et canalisation. Exécution de réparations urgentes. Contrôle qualité : méthodes de pose et d’agencement des enrochements naturels et artificiels. Techniques de levés et de mesures : contrôle des levés, alignement de l’ouvrage, implantation des profils, implantation d’un musoir, levé au-dessus de l’eau et sous l’eau. Évaluation des structures, réingénierie et augmentation de leur durée de vie : inspection, diagnostic de l’ouvrage au-dessus de l’eau (visuel et par instrumentation). Inspection sous-marine. Plan de surveillance. Évaluation de l’état et des performances de l’ouvrage. Maintenance, réparation et réhabilitation préventive ou curative. Évaluation des matériaux : durabilité, capteurs de corrosion.\n",
      "66 courses scraped\n",
      "\n",
      "Scraped  GEN18019 Topométrie \n",
      " Objectif: Acquérir les bases fondamentales théoriques et pratiques sur lesquelles reposent les levées topométriques. Contenu: Mesure des distances : chaîne et galon, podomètre, odomètre, le pas, chaînage. Nivellement : niveau et mire, niveau moyen de la mer, altitude, repère de nivellement, le levé altimétrique, nivellement par rayonnement, par cheminement simple et par double point de changement. Calcul des gisements. Polygonation : précision angulaire, fermeture d’une polygonale, polygonale avec gisement. Levés de détail : station totale, précision des levés de détail en planimétrie, précision des levés de détail en altimétrie, rotation et translation. Topométrie de construction : levé de détail par GPS, modèle numérique de terrain, repères de construction, implantation d’une bâtisse. Topométrie routière : localisation du tracé, courbe circulaire simple, implantation de la courbe, implantation d’un réseau d’égouts. Coordonnées rectangulaires et polaires, captage de données par photo aériennes et Lidar\n",
      "67 courses scraped\n",
      "\n",
      "Scraped  GEN18119 Matériaux de génie civil \n",
      " Objectif: Établir des relations entre les propriétés fondamentales du bitume et des bétons et les caractéristiques des matériaux les composant. Contenu: Partie enrobés bitumineux : bitume (origine du bitume, propriétés physico-chimiques des bitumes, production du bitume, type de bitume, autres types de liants bitumineux). Caractéristique de l’enrobés bitumineux : densité maximale de l’enrobé, densité brute de l’enrobé, vides interstitiels dans l’enrobé, stabilité Marshall, pourcentage du bitume absorbé par le granulat, teneur en bitume effectif, VAM, VCB. Formulation des mélanges d’enrobés bitumineux selon la méthode Marshall et la méthode de formulation des laboratoires des chaussées. Fabrication en usine d’enrobés bitumineux.\n",
      "Partie béton de ciment : composition du béton de ciment, ciment Portland. Adjuvant : accélérateur de prise, retardateur de prise, réducteur d’eau, super-plastifiant. Béton frais : eau de gâché, maniabilité (essais d’affaissement au cône d’Abrams, essais d’étalement), teneur en air. Résistance du béton : rapport eau/liant, porosité du béton de ciment, microfissuration, maturité et murissement du béton. Essais sur le béton durci : essais de résistance à la compression, essais de résistance à la traction. Durabilité du béton, formulation d’un béton de ciment.\n",
      "68 courses scraped\n",
      "\n",
      "Scraped  GEN18219 Géotechnique I \n",
      " Objectif: Acquérir les connaissances fondamentales dans l’étude du comportement mécanique des sols. Contenu: L’origine des sols et leurs caractéristiques physico-chimiques. Description et composition de la matrice granulaire, relations de phase, frottement et cohésion. Identification et classification des sols. L’eau dans les sols; compaction, gradient hydraulique, vitesse d’écoulement et réseau d’écoulement. Contraintes totales, hydrauliques et effectives. Théorie de la consolidation. Tassements et consolidation dans les sols.\n",
      "69 courses scraped\n",
      "\n",
      "Scraped  GEN18319 Introduction à la maîtrise d'oeuvre en génie civil \n",
      " Objectif: Acquérir les techniques de mise en œuvre des ouvrages en génie civil dans le respect des codes et des normes applicables. Contenu: Lois, normes et réglementations régissant l’industrie de la construction. Infrastructures urbaines, routières et éléments de construction : chaussée souple et rigide; drainage en surface et en conduite, conduites d’eau potable, d’égout sanitaire et d’égout pluvial, regards et puisards; branchements de services, vannes, réducteurs de pression et clapets. Protection incendie. Composantes du bâtiment : fondations, structures de béton, d’acier et de bois, murs porteurs, murs et cloisons, étanchéité, finis architecturaux. Lecture intégrée des différents plans d’architecture et d’ingénierie, documents contractuels. Identification des différentes étapes d’un projet de construction, opérations courantes en génie civil (excavation, remblayage, nivelage, ….) et équipements. Identification des procédés de construction, critères de qualité, mesures de sécurité.\n",
      "70 courses scraped\n",
      "\n",
      "Scraped  GEN28019 Hydrologie \n",
      " Objectif: Acquérir les outils d’évaluation de la ressource hydrique. Contenu: Cycle hydrologique. Atmosphère : cellules atmosphériques, couplage océan-atmosphère, structure de l’atmosphère. Évaporation-condensation (pluie/neige). Nature, intensité, durée et fréquence des précipitations. Ruissellement, caractéristiques du bassin versant. Infiltration, rechargement des nappes phréatiques, mécanique des écoulements souterrains. Estimation des débits, crue, étiage, régime des glaces et débâcle. Risques de sécheresse et inondation. Capacité de stockage, niveau des lacs et réservoirs, temps de résidence. Notions de dynamique estuarienne.\n",
      "71 courses scraped\n",
      "\n",
      "Scraped  GEN28219 Géotechnique II \n",
      " Objectif: Comprendre les notions et concepts permettant l’analyse du comportement et de la stabilité des sols. Contenu: Cercle de Mohr et critères de rupture. Stabilité d’excavation et de murs de soutènement de type poids pour des conditions hydrostatique et avec écoulement. Calculs de stabilité des pentes par la méthode de tranches. Propagation de contrainte dans les sols, déformation élastique, tassement de consolidation et tassement secondaire dans les argiles. Gélivité des sols. Introduction aux notions de tenseurs de contraintes et d’axes principaux, décomposition symétrique et antisymétrique, contraintes hydrostatiques et déviatoriques et introduction sommaire à la mécanique d’état critique.\n",
      "72 courses scraped\n",
      "\n",
      "Scraped  GEN38120 Conception des structures en béton \n",
      " Objectif: Acquérir les notions nécessaires à la conception et à l’analyse de composantes structurelles en béton armés selon la norme ACNOR A23.3. Contenu: Caractéristiques mécaniques du béton et des aciers d’armatures. Introduction aux normes ACNOR et aux exigences du CNBC. Calculs aux états limites et combinaisons de charges. Distribution des contraintes dans les éléments de bétons, résistance aux efforts de cisaillement et aux moments dans les éléments de béton armé. Calcul et dimensionnement d’éléments de béton armé; poteaux, poutres et dalles unidirectionnelles.\n",
      "73 courses scraped\n",
      "\n",
      "Scraped  GEN38220 Conception des structures d’acier \n",
      " Objectif: Acquérir les notions nécessaires à la conception et à l’analyse des connexions et des composantes structurelles en acier selon la norme CSA. Contenu: Notion de fabrication de l’acier de construction, alliages et nuances. Caractéristiques mécaniques des différentes nuances d’acier. Notions d’écrouissage et de ductilité. Résistance au cisaillement et à la flexion des pièces d’acier. Notions d’encrages (boulon et soudure) et calculs de résistances des pièces boulonnées et soudées. Principe de dimensionnement des pièces d’acier. Types de membrure structurale, sections des poutres et classe associée. Calcul et dimensionnement des pièces d’acier et vérification de stabilité au flambement, voilement et gauchissement.\n",
      "74 courses scraped\n",
      "\n"
     ]
    },
    {
     "name": "stdout",
     "output_type": "stream",
     "text": [
      "Scraped  GEN38321 Hydraulique des réseaux \n",
      " Objectif: Comprendre la conception des réseaux hydrauliques et la mécanique des fluides appliquée à leur dimensionnement. Contenu: Conception des réseaux de distribution d'eau potable (maillé ou linéaire), des réseaux de collecte des eaux usées, des stations de pompage. Application des principes de pertes de charge, conduites simples, branchements en série ou parallèles. Machines hydrauliques : pompe, turbine ; type et sélection. Coup de bélier et cheminée d’équilibre.\n",
      "75 courses scraped\n",
      "\n",
      "Scraped  GEN38419 Conception et construction d'infrastructures urbaines \n",
      " Objectif: Acquérir les notions nécessaires à la conception et à la construction des infrastructures urbaines. Contenu: Types d'infrastructures municipales. Critères de conception des réseaux. Critères normatifs reliés à leur mise en place. Qualité des eaux, réactions chimiques et biochimiques dans les conduites. Calcul des charges de polluants pour la conception des usines d’épuration. Infiltration dans les réseaux d’égouts, Notion de débit de pointe horaire, débit incendie. Coup d’eau. Auscultation, entretien, rénovation des réseaux. Avant-projet, planification. Réseau de distribution temporaire.\n",
      "76 courses scraped\n",
      "\n",
      "Scraped  GEN38519 Génie environnemental \n",
      " Objectif: Acquérir les connaissances permettant de répondre aux problèmes de production d’eau potable, de traitement des eaux usées, boues et sols contaminés, de gestion des déchets urbains, dans une perspective de développement durable. Contenu: Développement durable et opérations d’assainissement, de traitement des eaux et des déchets urbains. Chimie de l’eau, propriétés physico-chimiques. Réactions chimiques : précipitation, acide/base, association ionique, oxydation/réduction. Solution tampon, volatilisation. Traitement de l’eau; l’eau potable : coagulation, floculation, sédimentation, filtration, désinfection, absorption, membranes. Traitement des eaux usées : caractérisation, normes, prétraitement, traitement primaire, traitement secondaire, désinfection. Traitement des sols contaminés. Traitement des boues. Déchets urbains : collecte, recyclage. Conception et gestion des sites d’enfouissement : normes, sélection du site, préparation du site, équipements, opérations, conception d’une cellule. Valorisation des matériaux de construction, introduction à l’analyse du cycle de vie, développement durable dans la construction, déclaration environnementale des produits de construction (norme ISO 21930-2007).\n",
      "77 courses scraped\n",
      "\n",
      "Scraped  GEN38619 Fondations \n",
      " Objectif: Comprendre les notions et concepts nécessaires à la conception des fondations, pieux et palplanches et les principes fondamentaux du dimensionnement de ces structures. Contenu: Reconnaissance géotechnique : appareillage utilisé pour récolter les données terrain, utilisation des données géotechnique contenues dans un rapport. Dimensionnement de fondations : capacité portante (ultime et nette), modèles de calcul théorique de capacité portante (Terzaghi, Meyerhof, Hansen, Vesic) de fondation (surface et profonde), calculs des tassements, calculs de capacité portantes des pieux (seul et en groupe). Calcul de stabilité de palplanche en condition hydrostatique et en condition d’écoulement; analyse et calcul de stabilité de murs de soutènement de type poids, méthode de protection contre l’affouillement en condition littoral, dimensionnement d’enrochement.\n",
      "78 courses scraped\n",
      "\n",
      "Scraped  GEN38719 Estimation \n",
      " Objectif: Acquérir les méthodes de préparation de l’estimation complète d’un projet à partir des plans et devis dans l’optique d’une optimisation économique. Contenu: Types de contrat, addenda, estimation budgétaire (les facteurs influant sur les coûts, les formes d’estimation). Méthodes de préparation d’une soumission, appel d'offres (avis au soumissionnaire) et cautionnement de soumission, sous-traitants (analyse des soumissions), technique de relevé des quantités, coûts unitaires, BSDQ, frais généraux (frais fixe et frais variable), profit.\n",
      "79 courses scraped\n",
      "\n",
      "Scraped  GEN48220 Conception des structures de bois \n",
      " Objectif: Acquérir les notions nécessaires à l’analyse et au calcul des éléments structuraux en bois selon la norme CSA O86. Contenu: Propriétés physiques et mécaniques du bois. Produits et systèmes structuraux en bois. Durabilité et résistance au feu. Introduction aux exigences du CNBC. Calculs aux états limites des éléments de charpente en bois massif et en bois lamellé-collé selon la norme CSA-086 : éléments fléchis, éléments comprimés, éléments tendus, éléments sollicités par des charges combinées, assemblages (clous, boulons, rivets, vis). Introduction au calcul des diaphragmes et murs de refend pour la construction à ossature légère en bois.\n",
      "80 courses scraped\n",
      "\n",
      "Scraped  GEN48319 Conception des routes \n",
      " Objectif: Acquérir les éléments de conception des routes en tenant compte des paramètres de leur construction. Contenu: Classification fonctionnelle des routes et numérotation routière. Avant-projet, collecte de données, débits de circulation, niveaux de services, contraintes humaines et environnementales et analyse de scénarios routiers. Conception routière : sections en travers, courbes circulaires et spirales horizontales, courbes paraboliques verticales, gradation des dévers, voies auxiliaires pour véhicules lents, zones de dépassement, rayons de virage, distances de visibilité et signalisation latérale et aérienne. Logiciels de conception.\n",
      "81 courses scraped\n",
      "\n",
      "Scraped  GEN48419 Construction des routes \n",
      " Objectif: Acquérir les règles de l’art de la construction des routes. Contenu: Déboisement, terrassement, gestion des matériaux d’excavation. Structure de chaussée : sous-fondation, fondations inférieure et supérieure; chaussées en enrobés bitumineux et en béton de ciment. Gélivité et drainage de l’infrastructure de chaussée. Évacuation des eaux de ruissellement en fossés avec des ponceaux et en conduites pluviales. Aménagements urbains incluant bordures, trottoirs, accotements et stationnements. Dispositifs de retenu et lits d’arrêt. Mesures d’atténuation environnementales temporaires. Comportement, évaluation et réhabilitation des chaussées. Signalisation de travaux routiers. Rédaction de devis, estimations des coûts et assurance qualité.\n",
      "82 courses scraped\n",
      "\n",
      "Scraped  GEN48521 Réhabilitation des structures \n",
      " Objectif: Connaitre les méthodes d’évaluation des ouvrages d’art et les techniques de réhabilitation des structures. Contenu: Identification des dommages courants dans une structure. Évaluation des ouvrages d’arts, inspection d’évaluation, procédures d’évaluation de la capacité portante, calculs des paramètres de sécurité des structures, diagnostic de la structure et identification des éléments déficients. Calcul de facteurs de sécurité des structures. Réhabilitation des ouvrages d’arts, matériaux de réhabilitation, renforcement et réhabilitation de la structure, éléments en béton armé, bois, acier.\n",
      "83 courses scraped\n",
      "\n",
      "Scraped  GEN48620 Écoconception des structures \n",
      " Objectif: Acquérir les notions de base sur la conception écoresponsable des structures et des bâtiments. Contenu: Impacts environnementaux liées aux bâtiments. Introduction aux systèmes de certifications environnementales de bâtiment (LEED, HQE, etc.). Analyse de stratégies écoresponsables selon le contexte. Application de l’analyse du cycle de vie aux bâtiments. Préfabrication et gestion des déchets de construction. Analyse des coûts selon le cycle de vie. Analyse hygrothermique des enveloppes de bâtiments.\n",
      "84 courses scraped\n",
      "\n",
      "Scraped  GEN48719 Planification et contrôle \n",
      " Objectif: Acquérir les concepts et les méthodes de planification et de suivi des projets en génie civil. Contenu: Concepts généraux de la planification et du contrôle des projets. Identification, division du travail en modules et planification des étapes d’un projet par les méthodes CPM, Gantt, Précédence et VPM. Préparation d’un échéancier de projet à l’aide d’un logiciel de planification; analyse, allocation des ressources. Suivi d’un projet et respect de l'échéancier original. Conception et utilisation des systèmes de contrôle pour un projet de construction (identification, acquisition et traitement des données). Interprétation des données produites par le système de contrôle, planification et gestion des ressources. Méthodes graphiques de contrôle. Introduction aux aspects financiers d’un projet.\n",
      "85 courses scraped\n",
      "\n"
     ]
    },
    {
     "name": "stdout",
     "output_type": "stream",
     "text": [
      "Scraped  ANG11004 Anglais oral et écrit I \n",
      " Objectif: Approfondir ses connaissances de base en anglais oral et écrit. Contenu: Articles, prépositions, pronoms et verbes.  Structure de la phrase.  Expressions spatiales et temporelles.  Prononciation et intonation.\n",
      "86 courses scraped\n",
      "\n",
      "Scraped  ANG12004 Anglais oral et écrit II \n",
      " Objectif: Perfectionner l'usage de l'anglais oral et écrit. Contenu: Verbes : temps, voix, locutions verbales (verbes à particules, verbes prépositionnels et gérondifs), accord du verbe avec le sujet.  Structure de la phrase complexe.  Ponctuation.  Principaux faux amis et synonymes.  Présentation orale et utilisation des conjonctions.\n",
      "87 courses scraped\n",
      "\n",
      "Scraped  ANG18004 Anglais pratique \n",
      " Objectif: Perfectionner l'usage de l'anglais à travers la pratique de formes discursives orales et écrites. Contenu: Analyse et production de formes discursives orales et écrites : exposé, compte rendu, article, interview, dissertation, lettre d'affaires, entrevue d'emploi, etc.  Plan, point de vue, cohérence, unité, insistance, ponctuation.\n",
      "88 courses scraped\n",
      "\n",
      "Scraped  BIO17021 Introduction à l’océanographie \n",
      " Objectif: Étudier les composantes chimiques et physiques des océans et les relations entre les océans et l'atmosphère, pour acquérir les connaissances nécessaires à une bonne compréhension du fonctionnement des écosystèmes marins et du rôle des océans dans la biosphère. Contenu: Historique de l'océanographie. Hydrosphère et cycle de l'eau. Origine et évolution des bassins océaniques. Composantes physiques : densité., salinité, lumière, son, conservativité, dispersion, diagramme T.S., structure de la colonne d’eau, marées., houles, vagues, courants de surface, circulation thermohaline, estuaires, traitement des données et modélisation. Composantes chimiques : composition de l'eau de mer, sels nutritifs et production, spéciation chimique, système des carbonates et des silicates, gaz dissous et cycles biogéochimiques.\n",
      "89 courses scraped\n",
      "\n",
      "Scraped  TRT10005 Traitement d'un cours spécifique approuvé \n",
      " Objectif: Permettre le traitement des cours, non identifiés dans les programmes, auxquels s'inscrira une étudiante ou un étudiant sur la base d'un dispositif prévu à son plan de formation, dispositif formulé généralement selon l'un ou l'autre des libellés suivants : autre(s) cours approuvé(s) par la direction du module : cours choisi(s) sur approbation de la direction du module : l'un au l'autre de ces cours peut être choisi sur une base individuelle dans une autre discipline s'il est approuvé par la responsable ou le responsable du programme. Contenu\n",
      "90 courses scraped\n",
      "\n",
      "Scraped  GEN39293 Gestion des équipes de projet \n",
      " Objectif: Acquérir les connaissances et développer les habiletés nécessaires à un fonctionnement efficace en équipe de projet. Contenu: Ce cours comporte une partie importante d'activités à caractère expérimentale afin de permettre l'expérimentation comportementale tant comme simple membre que comme gérant ou chef d'une équipe.  Les principaux éléments d'apprentissage sont les suivants : relations interpersonnelles (connaissance de soi, communication, feed-back...), travail en équipe (nature, fonctionnement, processus de groupe), équipe de projet (formation, développement, maintien d'une équipe efficace et cohésive, diagnostic et team-building), gestion du temps et la conduite des réunions (animation, prise de décision, gestion de conflit...).\n",
      "91 courses scraped\n",
      "\n",
      "Scraped  GEN46608 Génie éolien \n",
      " Objectif: Comprendre la technologie actuelle des turbines éoliennes, connaître les composantes principales des turbines éoliennes et les méthodes de conception de ces composantes. Contenu: Caractérisation de la ressource éolienne et de la variation de la vitesse du vent. Aérodynamique des turbines éoliennes et conception des rotors des éoliennes. Aspects mécaniques et dynamiques des turbines éoliennes, dynamique des rotors, modèles dynamiques des éoliennes. Aspects électriques des turbines éoliennes, machines électriques, transformateurs, convertisseurs de puissance. Conception des turbines éoliennes, topologies des turbines éoliennes, matériaux, éléments des machines, estimations de charges structurales, prédiction de la courbe de puissance. Contrôle des turbines éoliennes, fonctionnement typique en connexion au réseau.\n",
      "92 courses scraped\n",
      "\n",
      "Scraped  GEN50410 Pratique de l'ingénierie hors Québec \n",
      " Objectif: Se familiariser avec les réalités du monde de l'ingénierie professionnelle à l'extérieur du Québec et participer, sous la direction d'un superviseur, à l'exécution d'un projet en milieu de travail en apportant une contribution significative à la solution de divers problèmes d'ingénierie. Contenu: Le cadre juridique: lois et règlements régissant l'exercice de la profession dans un lieu autre que le Québec. Règles générales applicables aux contrats. Déontologie des ingénieurs.\n",
      "\n",
      "Dans le cadre d'un séjour hors Québec de 12 à 16 semaines dans une entreprise, un laboratoire ou une compagnie de service reliée à l'industrie, le cours permet à un étudiant de se familiariser avec la profession d'ingénieur hors Québec. Pendant cette période de résidence en entreprise, l'étudiant prépare un rapport présentant le contexte de la pratique de l'ingénierie dans le pays où il séjourne. À son retour, il présente aux autres étudiants un exposé oral portant sur la pratique de l'ingénierie dans le lieu d'accueil.\n",
      "93 courses scraped\n",
      "\n",
      "Finished scraping 93 courses\n"
     ]
    }
   ],
   "source": [
    "from selenium.webdriver.common.keys import Keys\n",
    "from selenium.common.exceptions import NoSuchElementException\n",
    "from selenium.common.exceptions import ElementClickInterceptedException\n",
    "\n",
    "course_codes = []\n",
    "course_names = []\n",
    "course_descs = []\n",
    "no_window_opened = False\n",
    "counter = 0\n",
    "\n",
    "for link_text in link_texts:\n",
    "    #go to course page\n",
    "    try:\n",
    "        link = driver.find_element_by_link_text(link_text)\n",
    "    except NoSuchElementException:\n",
    "        print(\"no link for {}\".format(link_text))\n",
    "        continue\n",
    "\n",
    "    time.sleep(3)\n",
    "    try:\n",
    "        link.click()\n",
    "    except ElementClickInterceptedException:\n",
    "        link.send_keys(Keys.DOWN)\n",
    "        link.click()\n",
    "        \n",
    "    time.sleep(4)\n",
    "    \n",
    "    #switch tabs if needed\n",
    "    if len(driver.window_handles) == 2:\n",
    "        driver.switch_to.window(driver.window_handles[1])\n",
    "    else:\n",
    "        no_window_opened = True\n",
    "    \n",
    "    #scrape course info\n",
    "    page_soup = soup(driver.page_source, 'lxml')\n",
    "    course_title = page_soup.find(\"div\", {\"class\": \"page-header\"}).find(\"h1\").text.strip()\n",
    "    course_code = course_title.split(\" (\")[1].split(\")\")[0]\n",
    "    course_name = course_title.split(\" (\")[0]\n",
    "    course_desc = page_soup.find(\"div\", {\"class\": \"objectifscours\"}).text.strip() + \" \" + page_soup.find(\"div\", {\"class\": \"contenucours\"}).text.strip()\n",
    "    course_desc = course_desc.replace(\"\\n        \", \": \")\n",
    "    \n",
    "    course_codes.append(course_code)\n",
    "    course_names.append(course_name)\n",
    "    course_descs.append(course_desc)\n",
    "    \n",
    "    print(\"Scraped \", course_codes[-1], course_names[-1], \"\\n\", course_descs[-1])\n",
    "    counter += 1    \n",
    "    print(\"{} courses scraped\".format(counter))\n",
    "    print()\n",
    "    \n",
    "    #go to course list page\n",
    "    if no_window_opened:\n",
    "        driver.back()\n",
    "        time.sleep(3)\n",
    "        driver.find_element_by_id(\"tab-admission-et-plan-de-formation\").click()\n",
    "        time.sleep(1)\n",
    "        driver.find_element_by_id(\"slider-plan-de-formation\").click()\n",
    "        time.sleep(1)\n",
    "        driver.find_element_by_id(\"slider-profil-travail-etudes\").click()\n",
    "        time.sleep(1)\n",
    "        no_window_opened = False\n",
    "        \n",
    "    else:    \n",
    "        driver.close()\n",
    "        time.sleep(1)\n",
    "        driver.switch_to.window(driver.window_handles[0])\n",
    "        time.sleep(1)\n",
    "        \n",
    "print(\"Finished scraping {} courses\".format(counter))"
   ]
  },
  {
   "cell_type": "markdown",
   "metadata": {},
   "source": [
    "# 4. Inspect and write to CSV"
   ]
  },
  {
   "cell_type": "code",
   "execution_count": 97,
   "metadata": {
    "scrolled": true
   },
   "outputs": [
    {
     "data": {
      "text/plain": [
       "['ADM10014',\n",
       " 'GEN18419',\n",
       " 'GEN28519',\n",
       " 'GEN29118',\n",
       " 'FIN11098',\n",
       " 'GEN10108',\n",
       " 'GEN12120',\n",
       " 'GEN11217',\n",
       " 'GEN11319',\n",
       " 'MAT19101',\n",
       " 'GEN50116',\n",
       " 'GEN16104',\n",
       " 'GEN20119',\n",
       " 'GEN35119',\n",
       " 'GEN44108',\n",
       " 'MAT19299',\n",
       " 'GEN13508',\n",
       " 'GEN15120',\n",
       " 'GEN23199',\n",
       " 'GEN27119',\n",
       " 'GEN50216',\n",
       " 'MAT29399',\n",
       " 'GEN31299',\n",
       " 'GEN33116',\n",
       " 'GEN35305',\n",
       " 'GEN37418',\n",
       " 'GEN47107',\n",
       " 'GEN46019',\n",
       " 'GEN47009',\n",
       " 'GEN47207',\n",
       " 'GEN50007',\n",
       " 'GEN25119',\n",
       " 'GEN40218',\n",
       " 'GEN46120',\n",
       " 'GEN34199',\n",
       " 'GEN45321',\n",
       " 'GEN45409',\n",
       " 'GEN46407',\n",
       " 'GEN47499',\n",
       " 'GEN10519',\n",
       " 'GEN22105',\n",
       " 'GEN22208',\n",
       " 'GEN22519',\n",
       " 'GEN25219',\n",
       " 'GEN28105',\n",
       " 'GEN31199',\n",
       " 'GEN32105',\n",
       " 'GEN35205',\n",
       " 'GEN36309',\n",
       " 'GEN37199',\n",
       " 'GEN43020',\n",
       " 'GEN43109',\n",
       " 'GEN43216',\n",
       " 'GEN43312',\n",
       " 'GEN43405',\n",
       " 'GEN43599',\n",
       " 'GEN43605',\n",
       " 'GEN43807',\n",
       " 'GEN43908',\n",
       " 'GEN44205',\n",
       " 'GEN47816',\n",
       " 'GEN46205',\n",
       " 'GEN46399',\n",
       " 'GEN47305',\n",
       " 'GEN47908',\n",
       " 'GEN48119',\n",
       " 'GEN18019',\n",
       " 'GEN18119',\n",
       " 'GEN18219',\n",
       " 'GEN18319',\n",
       " 'GEN28019',\n",
       " 'GEN28219',\n",
       " 'GEN38120',\n",
       " 'GEN38220',\n",
       " 'GEN38321',\n",
       " 'GEN38419',\n",
       " 'GEN38519',\n",
       " 'GEN38619',\n",
       " 'GEN38719',\n",
       " 'GEN48220',\n",
       " 'GEN48319',\n",
       " 'GEN48419',\n",
       " 'GEN48521',\n",
       " 'GEN48620',\n",
       " 'GEN48719',\n",
       " 'ANG11004',\n",
       " 'ANG12004',\n",
       " 'ANG18004',\n",
       " 'BIO17021',\n",
       " 'TRT10005',\n",
       " 'GEN39293',\n",
       " 'GEN46608',\n",
       " 'GEN50410']"
      ]
     },
     "execution_count": 97,
     "metadata": {},
     "output_type": "execute_result"
    }
   ],
   "source": [
    "course_codes"
   ]
  },
  {
   "cell_type": "code",
   "execution_count": 98,
   "metadata": {
    "scrolled": true
   },
   "outputs": [
    {
     "data": {
      "text/plain": [
       "['Management',\n",
       " 'Communication graphique en ingénierie',\n",
       " 'Circuits, électrotechnique et machines électriques',\n",
       " 'Ingénierie, design et communication',\n",
       " 'Principes de gestion financière',\n",
       " \"Mécanique de l'ingénieur I\",\n",
       " 'Matériaux',\n",
       " \"Informatique pour l'ingénieur\",\n",
       " 'Programmation pour ingénieur',\n",
       " \"Mathématiques d'ingénierie I\",\n",
       " 'Intégration professionnelle I',\n",
       " 'Instrumentation',\n",
       " 'Résistance des matériaux',\n",
       " 'CAO - Mécanique',\n",
       " 'Ingénierie et environnement',\n",
       " \"Mathématiques d'ingénierie II\",\n",
       " 'Ingénierie assistée',\n",
       " 'Mécanique de l’ingénieur II',\n",
       " 'Thermodynamique',\n",
       " 'Analyse des systèmes linéaires',\n",
       " 'Intégration professionnelle II',\n",
       " \"Mathématiques d'ingénierie III\",\n",
       " 'Éléments de machines',\n",
       " 'Asservissements linéaires',\n",
       " 'Processus de fabrication mécanique',\n",
       " 'Conception des systèmes mécatroniques',\n",
       " 'Systèmes hydrauliques et pneumatiques',\n",
       " 'Introduction aux éléments finis',\n",
       " 'Commande industrielle',\n",
       " 'Fabrication assistée par ordinateur',\n",
       " \"Profession d'ingénieur\",\n",
       " 'Mécanique des fluides',\n",
       " 'Projet',\n",
       " 'Transmission de chaleur',\n",
       " 'Ingénierie de la qualité',\n",
       " 'Projet de fin d’études',\n",
       " \"Projet de fin d'études en génie mécanique\",\n",
       " 'Vibrations mécaniques',\n",
       " 'Systèmes de production automatisée',\n",
       " 'Schémas, câblage et normes en électricité industrielle',\n",
       " 'Circuits électriques I',\n",
       " 'Circuits électriques II',\n",
       " 'Systèmes et technologies du génie électrique',\n",
       " 'Circuits logiques',\n",
       " 'Électromagnétisme',\n",
       " 'Électronique I',\n",
       " 'Électrotechnique',\n",
       " 'Introduction aux microprocesseurs',\n",
       " 'CAO - Électrique',\n",
       " 'Électronique II',\n",
       " 'Traitement des signaux I',\n",
       " 'Électronique de puissance',\n",
       " 'Réseaux électriques',\n",
       " 'Architecture des ordinateurs',\n",
       " 'Principes de communication',\n",
       " 'Hyperfréquences',\n",
       " 'Machines électriques',\n",
       " 'Vision numérique',\n",
       " 'Systèmes de communication',\n",
       " 'Traitements des signaux II',\n",
       " 'Identification, prédiction et adaptation',\n",
       " 'Énergétique du bâtiment',\n",
       " 'Dynamique des fluides',\n",
       " 'Éléments de robotique',\n",
       " 'Maintenance industrielle',\n",
       " 'Construction des infrastructures littorales',\n",
       " 'Topométrie',\n",
       " 'Matériaux de génie civil',\n",
       " 'Géotechnique I',\n",
       " \"Introduction à la maîtrise d'oeuvre en génie civil\",\n",
       " 'Hydrologie',\n",
       " 'Géotechnique II',\n",
       " 'Conception des structures en béton',\n",
       " 'Conception des structures d’acier',\n",
       " 'Hydraulique des réseaux',\n",
       " \"Conception et construction d'infrastructures urbaines\",\n",
       " 'Génie environnemental',\n",
       " 'Fondations',\n",
       " 'Estimation',\n",
       " 'Conception des structures de bois',\n",
       " 'Conception des routes',\n",
       " 'Construction des routes',\n",
       " 'Réhabilitation des structures',\n",
       " 'Écoconception des structures',\n",
       " 'Planification et contrôle',\n",
       " 'Anglais oral et écrit I',\n",
       " 'Anglais oral et écrit II',\n",
       " 'Anglais pratique',\n",
       " 'Introduction à l’océanographie',\n",
       " \"Traitement d'un cours spécifique approuvé\",\n",
       " 'Gestion des équipes de projet',\n",
       " 'Génie éolien',\n",
       " \"Pratique de l'ingénierie hors Québec\"]"
      ]
     },
     "execution_count": 98,
     "metadata": {},
     "output_type": "execute_result"
    }
   ],
   "source": [
    "course_names"
   ]
  },
  {
   "cell_type": "code",
   "execution_count": 99,
   "metadata": {},
   "outputs": [
    {
     "data": {
      "text/plain": [
       "['Objectif: Acquérir un cadre de réflexion et des outils d’analyse qui permettent de comprendre les organisations et d’influencer leur développement. Contenu: Approche classique basée sur le processus de gestion fayolien : planification, organisation, direction et contrôle. Critiques de ce modèle et contributions récentes à la pensée managériale. Mondialisation des marchés, éthique, etc.',\n",
       " \"Objectif: Acquérir les connaissances et les habiletés requises en dessin technique et la maîtrise du logiciel de DAO. Contenu: Éléments de dessin technique : rappels géométriques, dessin à vues multiples, vues auxiliaires, coupes et sections. Projections : axonométrique, obliques et perspectives aériennes et linéaires. Dessin de définition et d’assemblage : normes de cotation, tolérancement dimensionnel, notes, cartouche, nomenclature, tableau de révision. Lecture et analyse de plans mécaniques, électriques et hydrauliques. Création et modification de plans d'aménagement et de bâtiments. Introduction à la conception assistée par ordinateur : modélisation variationelle, modélisation paramétrique et modélisation associative. Apprentissage d’un logiciel de DAO : interface graphique, outils de dessin, vues et cotation, applications 3D et commandes avancées. Introduction à un logiciel de CAO. Introduction à un logiciel de traitement d’images.\",\n",
       " \"Objectif: Analyser les dispositifs et machines électriques utilisés dans les entreprises Contenu: Notions de tension et de courant électrique. Matériaux conducteurs, semi-conducteurs et isolants. Composants électriques : résistances, inductances, condensateurs, diodes, transistors et thyristors.\\nAnalyse de circuits électriques en courant continu : loi des mailles, loi des nœuds, équivalent de Thévenin. Analyse de circuits électriques en courant alternatif monophasé : impédances complexes, circuit de redressement simple et double alternance. Puissance active, réactive et apparente, correction du facteur de puissance. Analyse de circuits électriques triphasés équilibrés : tension de phase et de ligne, montage en triangle et en étoile. Magnétisme, électromagnétisme et circuits magnétiques. Moteurs à courant continu et moteurs universels : principes, circuit équivalent, analyse, démarrage, freinage, contrôle en vitesse, et rendement. Moteurs asynchrones (triphasés et monophasés) : principes, circuit équivalent, analyse, démarrage et variateurs de vitesse. Moteurs pas à pas et moteurs à courant continu sans balai : principes, circuit d'entraînement, analyse, contrôle en vitesse et en position. Machines synchrones : principes, circuit équivalent, analyse, compensateur synchrone, démarrage. Commande industrielle des moteurs : procédés de démarrage et de freinage, redressement de signaux AC et onduleurs, réglage de vitesse de rotation et de position angulaire, servomoteurs.\",\n",
       " 'Objectif: Apprendre à communiquer efficacement à l’oral, à l’écrit et à l’aide de dessins techniques les différents concepts et raisonnement sous-jacents à la pratique du génie et à la conception et au développement de produits Contenu: Ingénierie : grands domaines, spécialités, profession, fonctions, responsabilités, déontologie, formation continue obligatoire, l’ordre des ingénieurs. Initiation au processus de développement d’un produit : définition du problème (mission, besoins et spécifications), recherche de solutions, prise de décision et sélection du meilleur concept, conception détaillée, prototypage et mise en production. Réalisation d’un mini-projet pratique de design. Principes généraux en dessin technique : projections orthogonales, coupes, vues auxiliaires, conventions de dessin, dimensionnement, apprentissage d’un logiciel de conception assistée par ordinateur. Méthode de rédaction des textes techniques. Normes de présentation orale. Préparation méthodique d’un exposé et d’un rapport technique.',\n",
       " \"Objectif: Être sensibilisé à l'environnement économique des entreprises, se familiariser avec les principes de base permettant d'élaborer une analyse de rentabilité des projets d'investissements, connaître les principaux concepts et techniques touchant l'analyse du risque dans les décisions d'investissement et comprendre le contexte, les mécanismes et les implications reliés au financement de l'organisation. Contenu: Gestionnaire financier:  objectif et environnement.  Marchés financiers:  structure, fonctionnement, rôle et importance.  Fondements de l'évaluation:  concept de valeur, mathématiques financières et évaluation des actifs financiers.  Décision d'investissement en contexte de certitude et en tenant compte de la fiscalité canadienne.  Traitement du risque lors de l'évaluation des projets:  approche du coût du capital et approche de l'identification et de la mesure des risques.  Décision de financement:  aspects pratiques du financement et choix d'une structure de capital en pratique.\",\n",
       " \"Objectif: Acquérir les différents concepts régissant l'équilibre statique des corps solides et comprendre les principes mécaniques expliquant la cinématique des particules. Contenu: Concepts de base : lois de Newton, de la gravitation, unités. Systèmes de forces : composantes rectangulaires, résultante, moment, couple de forces. Équilibre : systèmes d'isolation des corps simples (DCL), conditions d'équilibre. Étude de systèmes à structure : détermination des réactions, méthode des nœuds, des sections. Sécurité et capacités limites d'appareils et supports, calcul des diagrammes d'effort tranchant et de moment fléchissant. Friction : coefficients de friction statiques et cinétiques; sécurité : adhérence et glissement. Notion de cinématique des particules, mouvement rectiligne, curviligne, accélération radiale et transversale; méthode de l'énergie; méthode de la quantité de mouvement.\",\n",
       " \"Objectif: Comprendre le comportement des matériaux employés en ingénierie en fonction de leurs caractéristiques intrinsèques et de leur environnement de fonctionnement. Contenu: Architecture et structure atomiques. Liaison métallique, ionique et covalente. Cristallographie, défaut, dislocation, solution solide Comportement des matériaux sous contrainte. Essais de traction, de dureté et de fatigue. Courbe de contrainte-déformation : rigidité, résistance, ductilité, ténacité, et résilience. Mécanique de rupture. Notions de mélanges et d'alliages. Alliages ferreux et non ferreux. Aciers au carbone et faiblement alliés : microstructures, traitements thermiques, trempabilité, diagrammes TTT et TRC. Matières plastiques. Application des céramiques. Éléments de matériaux composites. Propriétés physiques. Dégradation des matériaux. Domaines d'applications et choix des matériaux. Indices de performance.\",\n",
       " \"Objectif: Résoudre des problèmes de sciences et de génie  par la programmation structurée de l'ordinateur. Contenu: Connaissances des éléments fondamentaux des architectures matérielles et logicielles des systèmes informatiques. Techniques d'analyse et de conception de programmes informatiques, concepts de base d'algorithmiques. Différents paradigmes des langages de programmation. Étude d'un langage de programmation. Méthodes et critères d'analyse et d'évaluation pour le choix des composants matériels et logiciels d'un système informatique qui sera utilisé pour résoudre un problème d'ingénierie. Méthodes de test et de contrôle de la qualité des solutions informatiques par rapport aux spécifications de départ. Logiciels utilisés en ingénierie: familles de logiciels, modes d'interaction, résolution de problèmes concrets en utilisant différentes modes d'interaction, extension d'un logiciel, intégration de différents logiciels.\",\n",
       " 'Objectif: S’initier aux concepts fondamentaux de programmation d’intérêt pour le génie électrique et à leurs applications. Contenu: Concepts de base de la programmation procédurale et orientée objet en langage C et C++: expression, tableaux, pointeurs, fonctions, structures, arguments. Éléments de base de la programmation : syntaxe, sémantique, variables, types et constantes. Notions de fiabilité, maintenabilité, portabilité et efficacité. Algorithmes et leurs applications : tris, recherche, files, piles, listes chainées et arbres. Notions conceptuelles et pratiques de systèmes temps-réel. Programmations embarquées. Initiation aux interfaces et méthodes de communication : SPI, I2C, UART, Wifi, Bluetooth, RF, LoRa.',\n",
       " \"Objectif: Introduire des concepts de base de l'algèbre linéaire et certains concepts utiles de probabilité et de statistique. Contenu: Étude des interrelations entre les concepts élémentaires : matrice, déterminant .  Géométrie vectorielle 3D.  Algèbre matricielle et systèmes d'équations linéaires.  Valeurs propres et vecteurs propres.  Notion de probabilité et de distribution.  Modèles de probabilités discrètes et continues.  Distribution probabilistique : binômiale, hypergéométrique, poisson, normale, exponentielle. Régression linéaire.  Tests d'hypothèses..\",\n",
       " \"Objectif: Sensibiliser l'étudiant à la réalité du monde du travail. Contenu: Méthodes dynamiques de recherche d'emploi. Connaissance de soi, préparation d'un curriculum vitae et d'une lettre de présentation. Types d'organisations, caractéristiques d'un milieu de travail professionnel, les grandes fonctions d'entreprise. Rôles et responsabilités de l'ingénieur, professionnalisme. Notions de santé et de sécurité au travail, développement d’une compétence dans l'identification et la correction des dangers pour la santé, la sécurité et l'intégrité physique des travailleurs. Période de quatre mois dans une organisation permettant à l'étudiant de vivre une expérience professionnelle et de se sensibiliser aux réalités du monde industriel. Choix de l'entreprise fait en fonction du champ d'activités dans lequel l'étudiant désire se perfectionner. Séjour en entreprise : l'étudiant remplit des tâches techniques variées répondant aux exigences et aux besoins de l'entreprise.\",\n",
       " \"Objectif: Acquérir les connaissances fondamentales de la mesure des phénomènes physiques et se familiariser avec les outils d'analyse et d'interprétation des méthodes et des résultats expérimentaux. Contenu: Principes d'instrumentation.  Approche expérimentale.  Sources et propagation des erreurs et des incertitudes.  Capteurs et instruments :  terminologie, principe, caractéristiques métrologiques et dynamiques, étalonnage.  Mesure de la température :  thermocouples, thermistors et RTD.  Mesure d'humidité.  Mesure de pression.  Mesure du débit :  conservation, débit massique et débit volumique, mesure de vitesse, classification des débitmètres.  Mesure de force et de couple :  rappel sur les contraintes et les déformations, extensométrie et jauges, pont de Wheatstone et capteurs à base de jauges.  Mesure de position :  Potentiomètres, LVDT, RVDT, capteurs optiques, capteurs ultrasoniques, capteurs inductifs et capacitifs, encodeurs absolus et relatifs.  Mesure des vibrations :  capteurs séismiques, accéléromètres.  Acquisition de données :  composantes d'un système d'acquisition, échantillonnage, conversion, pré-traitement des signaux.  Post-traitement des signaux dans les domaines tempororel et fréquentiel: notions de statistiques, corrélation, régression, analyse spectrale, transformée, algorithmes, filtres.\",\n",
       " \"Objectif: Appliquer les lois fondamentales de l’équilibre et du comportement élastique des solides à l’étude de la résistance des éléments structuraux sollicités en traction, compression, flexion et torsion Contenu: Principes et notions de base : concepts de contrainte et de déformation, loi de Hooke. Chargement uniaxial : état de contrainte, allongement, problèmes associés aux variations de température. Torsion : déformations d’un arbre circulaire, contrainte de torsion. Théorie des poutres : définition d’une poutre, modèle d'Euler-Bernoulli, modèle de Timoshenko. Diagrammes de l’effort tranchant et du moment fléchissant. Calcul des contraintes dans les poutres. Calcul de la flèche des poutres. Contraintes de cisaillement dans les poutres et les éléments à paroi mince. Poutres et arbres de transmission soumis à des charges combinées. Énergie de déformation et théorème de Catigliano. Cercles de Mohr des déformations et des contraintes. Contraintes dans les réservoirs à paroi mince. Mesure des déformations avec des jauges de déformation. Critères de limitation en statique. Flambage des colonnes : formules d’Euler, colonnes sous charge axiale excentrée.\",\n",
       " \"Objectif: Maitriser la conception assistée par ordinateur (CAO). Contenu: Rôle de l'ordinateur dans le design et objectifs de la CAO. Place de la CAO dans le développement de produits. Modélisation géométrique : points, courbes, surfaces et solides. Normes de dessin technique : projections, cotation, tolérancement dimensionnel et géométrique et ajustement normalisé. Sélection et représentation des pièces normalisées ou commerciales : engrenages, chaines, roulements, visseries. Conventions de représentation de modèles 3D. Introduction aux éléments avancés d’un logiciel de CAO : métal en feuille, rétroingénierie, analyse par éléments finis.\",\n",
       " \"Objectif: Connaître les principes généraux qui régissent la dynamique à l'intérieur des différents écosystèmes. Comprendre la problématique de l'évolution du climat et le concept de développement durable.  S'initier à la démarche de l'évaluation de l'impact des travaux d'ingénierie sur l'environnement. Contenu: Étude des rapports du GIEC. Structure et fonctionnement de l'écosystème, cheminement des composés chimiques dans les différentes composantes de l'environnement : atmosphère, eaux de surface, milieu sous-terrain. Conséquences de l'activité humaine sur l'équilibre des écosystèmes et normes : composés chimiques, matière particulaire, le bruit, l'impact visuel. L'ingénierie et la problématique de la gestion des rebus et du recyclage. Cadre réglementaire du processus d'évaluation des impacts environnementaux des projets au Québec méridional. Étude d'impact : revue des principales méthodes d'identification et d'évaluation des impacts sociaux et environnementaux. Approche économique de l'évaluation des impacts. Prévision des impacts, quantification des répercussions et mesures de mitigation et d'atténuation.\",\n",
       " \"Objectif: Acquérir des connaissances de base dans le domaine du calcul différentiel Contenu: Calcul différentiel des fonctions de plusieurs variables : théorie et applications.  Nombres complexes; polynômes.  Équations différentielles du premier ordre et du premier degré; résolution à l'aide de séries entières.  Équations différentielles du second ordre de types spéciaux.  Équations différentielles linéaires d'ordre n à coefficients constants.  Systèmes d'équations différentielles. Applications.\",\n",
       " \"Objectif: Maîtriser les notions théoriques et pratiques applicables à la solution par ordinateur de problèmes mathématiques usuels de  l'ingénierie. Contenu: Arithmétique des calculateurs.  Analyse des erreurs dans les opérations élémentaires.  Chiffres significatifs exacts.  Équations non-linéaires, méthodes d'intervalles, de point fixe, Newton-Rapshon, taux de convergence.  Systèmes d'équations linéaires, méthode de Gauss, factorisation LU, conditionnement et amélioration itérative.  Méthodes d'approximation des courbes, polynômes d'approximation et splines.  Différentiation et intégration numériques.  Méthodes de résolution des équations différentielles ordinaires. Initiation au logiciel Matlab pour les calculs numériques.\",\n",
       " \"Objectif: Acquérir les différents concepts de la dynamique de systèmes formés de corps solides en mouvement soumis à des forces externes. Contenu: Principes de la cinématique : mouvement absolu et relatif. Principes de la dynamique appliqués à la particule et au corps rigide : lois de Newton, principe de D'Alembert. Travail et énergie, impulsion et quantité de mouvement. Notion de puissance et d'efficacité. Éléments de sécurité : forces centrifuges et protection sur machines tournantes à haute vitesse. Introduction à la théorie des vibrations mécaniques : oscillations libres, forcées et amorties.\",\n",
       " \"Objectif: Appliquer les principes de la thermodynamique pour prévoir et analyser le comportement des processus énergétiques utilisés en ingénierie. Contenu: Concepts, définitions et unités permettant de préciser l'état d'un système. Propriétés des substances pures; relations entre les paramètres d'état : pression, volume et température. Notions de travail et de chaleur.  Dégagements accidentels d'énergie. Première loi de thermodynamique : principes de conservation de masse et d'énergie; énergie interne, enthalpie; applications aux systèmes fermés et ouverts. Les gaz parfaits et réels. Usage sécuritaire des bouilloires et contenants sous pression. Deuxième loi de thermodynamique : concept d'entropie, de réversibilité et d'énergie libre. Applications aux gaz; cycle de Carnot. Relations thermodynamiques. Études de cas reliés aux machines thermiques : cycle de réfrigération, cycle moteur. Introduction à la thermodynamique chimique. Prévention des explosions.\",\n",
       " 'Objectif: Se familiariser avec les principes de modélisation et d’analyse applicables aux systèmes linéaires et leurs applications en ingénierie Contenu: Définition des systèmes linéaires et propriétés. Modélisation et formulation selon les structures de modèles linéaires reconnus : équations différentielles ordinaires, représentation (matricielle) d’état et schéma blocs. Application à des systèmes de différentes natures physiques : systèmes mécaniques, électriques, thermiques, hydrauliques, électromécaniques et autres. Résolution de problèmes (réponses temporelles) en utilisant la Transformée de Laplace. Fonction de transfert des systèmes et propriétés. Concepts de stabilité, de réponses naturelle et forcée, et de régimes transitoire et permanent. Réponse en fréquence de systèmes linéaires. Linéarisation et analyse locale de systèmes non-linéaires : obtention de modèles linéaires approximatifs.',\n",
       " \"Objectif: Sensibiliser l'étudiant aux exigences du monde du travail. Contenu: Excellence en pratique : gestion de projets techniques, tenue de dossiers. Portfolio professionnel : compétences techniques, transversales, spécifiques à un domaine particulier, développement de carrière. Période de quatre mois dans une entreprise, un laboratoire ou une compagnie de service reliés à l'industrie : familiarisation avec les réalités du monde industriel et participation, sous la direction d'un superviseur, à l'exécution d'un projet en contribuant de façon significative à la solution de divers problèmes d'ingénierie.\",\n",
       " 'Objectif: Acquérir des connaissances de base dans le domaine du calcul intégral. Contenu: Intégrales simples. Intégrales multiples, coordonnées curvilignes, applications.  Calcul des champs de vecteurs. Intégrales sur les courbes et les surfaces : applications, circulation, travail, flux. Théorèmes fondamentaux : Stokes, Gauss; applications à la physique.',\n",
       " \"Objectif: Concevoir des éléments de machines en tenant compte du mode de chargement, des conditions d'utilisation et des caractéristiques des matériaux utilisés. Contenu: Comportement des matériaux isotropes sous charge statique et dynamique : théorie de limitation en statique et en fatigue, concentration de contraintes, calcul des pièces soumises à des charges statiques et dynamiques.  Endommagement d'une surface de contact par usure et par fatigue. Facteur de sécurité et choix des valeurs numériques, fiabilité et considérations statistiques, dangers associés aux différents éléments de machines, pictogrammes et gardes de sécurité. Applications : arbres, vis de transmission, joints boulonnés, joints soudés, roulements, ressorts, engrenages.\",\n",
       " \"Objectif: Modéliser et analyser le comportement des systèmes linéaires à commande automatique. Contenu: Concept général d'un système à commande automatique. Performance des asservissements. Rappels sur la transformée de Laplace et les systèmes linéaires. Fonction de transfert, réponse en fréquences, et réponse temporelle selon différentes entrées. Identification des systèmes par des techniques de base. Extension des outils d’analyse linéaire aux systèmes en boucle fermée. Stabilité des systèmes en boucle ouverte ou fermée : lieu des pôles, critère de Routh-Hurwitz, marge de phase et marge de gain. Compensation des systèmes en boucle fermée : régulateur proportionnel intégral et dérivée, (PID) et aperçu de quelques méthodes de réglage : annulation de pôles et de zéros, méthode simplifiée et méthode des contours. Commande séquentielle de systèmes logiques (langages Ladder, GRAFCET).\",\n",
       " \"Objectif: Établir des relations entre la fonction d'une pièce, son design et le processus de fabrication pour la réaliser. Contenu: Méthodes d'usinage des métaux; notion d'usinabilité. Machines-outils : conventionnelles, à contrôle numérique. Usinage par des procédés spéciaux. Tolérances et ajustements normalisés. Métrologie. Procédés de soudage. Introduction à la mise en forme des métaux par déformation à l'état solide. Notions de sécurité à chacun des processus.\",\n",
       " 'Objectif: Concevoir en équipe des systèmes mécaniques et/ou électriques pour des applications industrielles, utilitaires ou récréatives Contenu: Compléments sur les outils nécessaires à la conception des systèmes mécaniques, électriques ou électromécaniques : analyse de besoins, définition des spécifications, cahier des charges, analyse fonctionnelle, génération de solutions, processus de décision multicritères, conception détaillée, plan et devis, gestion d’un projet de fabrication d’un prototype, essais et raffinement du produit. Approches spécialisées de conception telles que conception en vue de l’assemblage et de la fabrication, conception à valeur ajoutée. Sélection de dispositifs mécaniques, électriques ou électromécaniques. Protocole efficace de recherche et d’identification de l’information adapté aux projets de conception. Propriété intellectuelle. Concepts reliés à la santé et à la sécurité dans le processus de conception. Notions de santé et sécurité au travail.',\n",
       " \"Objectif: Se familiariser avec les concepts de fabrication des organes hydrauliques et pneumatiques, et concevoir des circuits pneumatiques et hydrauliques industriels. Contenu: Production de l'air comprimé : installation type, caractéristiques des compresseurs, filtre, débits, réseau de distribution, régulation, détermination des tuyauteries.  Caractéristiques des éléments des circuits pneumatiques : symboles graphiques, distributeurs, vérins, valves de pression, valves d'arrêt, valves de débit.  Étude de quelques installations pneumatiques.  Principes de base des systèmes hydrauliques : rappel de notions d'hydrauliques, d'hydrodynamique, forme de base d'un système hydraulique.  Caractéristiques des éléments des circuits hydrauliques : pompes et moteurs, vérins, actionneurs, valves d'arrêt, distributeurs à clapet et à tiroir, valves de pression, valves de débit, accumulateurs hydrauliques.  Techniques de raccordement et de liaison.  Étude de quelques installations hydrauliques.  Notions de sécurité.\",\n",
       " 'Objectif: Appliquer la méthode des éléments finis à la résolution de problèmes en mécanique des solides et en transfert de chaleur Contenu: Fondements : formulations intégrales, systèmes de coordonnées, nœuds, degrés de liberté, éléments, fonctions d’interpolation, discrétisation, maillage, assemblage des matrices, conditionnement des matrices, conditions aux frontières, résolution du système matriciel global, convergence, singularités, précision, erreurs, interprétation et exploitation des résultats. Applications en mécanique des solides : en statiques, à l’analyse modale, au flambage, au contact, en dynamiques, à l’analyse vibratoire, et à des problèmes d’optimisation. Librairie d’éléments pour la mécanique des solides : poutres, membranes, plaques, coques, solides axisymétriques, solides 2D et 3D, liaisons spéciales, compatibilité entre les éléments. Application en transfert de chaleur : en conduction thermique, d’échanges convectifs et radiatifs, en régime permanent, en régime transitoire, non-linéaires courantes. Intégration de la méthode dans une démarche de conception : bonnes pratiques, problèmes fréquents, pièges à éviter, étapes de réalisation d’un projet d’analyse par éléments finis. Problèmes avancés et nouveaux développements.',\n",
       " \"Objectif: Se familiariser avec les techniques de commande industrielle. Contenu: Rappels sur les systèmes linéaires asservis, les régulateurs PID et quelques méthodes de réglage. Commande de systèmes stables et instables. Dimensionnement de  composantes et actionneurs hydrauliques (pompes, vannes, etc,) en vue de la commande de tels systèmes. Commande avancée : modèle interne, prédicteur de Smith, anticipation, cascade. Aspects industriels: limites des actionneurs, passage entre les modes manuel et automatique, etc. Traitement des contraintes et des non linéarités. Rappels sur la transformée en Z et l'échantionnage. Systèmes de commande numérique. Systèmes multivariables: caractérisation, commande décentralisée ou avec découpleurs.\",\n",
       " \"Objectif: Acquérir les connaissances de base relatives à la théorie et à la pratique de la FAO. Contenu: Machines outils à commande numérique (MOCN) : principe, description, classification, programmation et systèmes d'axes. Codes G et M pour les tours et les centres d'usinage : instruction de base et cycles programmés d'usinage. Langage APT : principe, définition de la géométrie, génération de trajectoires, les CLFILES. Fabrication assistée par ordinateur (FAO) : principes et limites, définition des géométries des pièces et des outils, détermination des trajectoires d'outils pour le tournage et le fraisage mulitaxes, définition des paramètres d'opération, postprocesseur et fichier machine. Analyse économique. Présentation de logiciels industriels sur micro-ordinateur et station de travail, critère de choix. Interfaces CAO-FAO-MOCN. Intégration de la fabrication (CIM). Notions de sécurité.\",\n",
       " \"Objectif: Se familiariser avec les aspects légaux de la profession d'ingénieur, les devoirs de l'ingénieur envers sa profession, ses collègues et la société ; Expérimenter et vivre, sous la supervision d'un superviseur industriel et d'un professeur coordonnateur, un apprentissage du travail à un poste de niveau d'ingénieur. Contenu: Le cadre juridique: lois et règlements régissant l'exercice de la profession. Règles générales applicables aux contrats. Code de déontologie des ingénieurs. Étude de cas en éthique et déontologie telles que: conflits d'intérêt, corruption, manque d'équité, danger pour la santé et la sécurité du public et des travailleurs. \\n\\nUne période de quatre mois dans une entreprise, un laboratoire ou une compagnie de service reliés à l'industrie permet à un étudiant de se familiariser avec la profession d'ingénieur et de participer, sous la direction d'un superviseur, à la conception et/ou à l'exécution de projets d'ingénierie. Pendant cette période de résidence en entreprise, l'étudiant apporte une contribution significative à la solution d'un problème réel d'ingénierie, tel qu'on en retrouve dans le milieu professionnel, avec ses contraintes économiques, techniques et autres. Il aide également l'étudiant à faire la synthèse des connaissances théoriques acquises dans ses différents cours.\",\n",
       " 'Objectif: Approfondir les concepts de base des fluides incompressibles en mouvement et de leur interaction avec les corps solides. Contenu: Propriétés des fluides. Équations fondamentales de la statique des fluides, forces hydrostatiques et poussée d’Archimède. Cinématique des fluides : variables de Lagrange et d’Euler, équation de continuité. Dynamique des fluides incompressibles, non-visqueux et visqueux. Applications du théorème de Bernoulli : lignes d’énergie et piézométrique, sondes de pression, vidange d’un réservoir, phénomène de Venturi, application du théorème des quantités de mouvement, théorème d’Euler. Étude de l’écoulement autour des corps solides, dans les conduites, et dans les canaux. Écoulements en couche limite, laminaire et turbulente. Analyse dimensionnelle et similitudes.',\n",
       " 'Objectif: Développer son autonomie, sa créativité et ses habilités de communication verbale et écrite en s’initiant au monde de l’ingénierie professionnelle par l’application et l’approfondissement de ses connaissances au cours de la réalisation d’un projet technique Contenu: Notions de santé et sécurité au travail. Ergonomie. Hygiène industrielle.\\n\\nInitiation au monde de l’ingénierie professionnelle par la réalisation d’un projet visant la solution d’un problème réel formulé de préférence par l’industrie. Analyse des différents aspects techniques, économiques et environnementaux du problème soumis ; conception et/ou implantation d’une solution novatrice démontrant la capacité à réaliser un projet d’ingénierie.  Le projet peut être exécuté dans le cadre d’un stage.',\n",
       " \"Objectif: Calculer les coefficients de transmission, les flux thermiques et les domaines de température dans le contexte de l'ingénierie. Contenu: Analyse de la conduction, dans des éléments homogènes à une ou deux dimensions, en régime permanent et en régime transitoire. Méthodes analogiques, graphiques et numériques. Convection naturelle, forcée, interne, externe; régimes laminaire et turbulent. Changement de phase : évaporation, condensation. Transfert de masse. Transmission par rayonnement, réflexion; échanges entre les matériaux solides : corps noirs et réels, facteur de forme. Étude de cas : calculs d'échangeurs de chaleur.\",\n",
       " \"Objectif: Acquérir les connaissances de base dans l'évaluation, du contrôle et de la gestion de la qualité de la conformité. Contenu: Introduction à la qualité et à l'ingénierie de la qualité.  Contrôle de la qualité. Métrologie industrielle, instruments de métrologie et d'inspection, étalon, tracabilité et étalonnage d'instruments. Interprétation des tolérances dimensionnelles et géométriques d'un dessin : tolérances dimensionnelles et géométriques.  Inspection manuelle et sur marbre : contrôle dimensionnel des longueurs et des angles, contrôle des tolérances géométriques, planification d'inspection de pièces.  Introduction à l'inspection automatisée :  appareil de mesure tridimensionnelle, développement de méthodes.  Contrôle statistique de la  qualité : introduction et notions de statistiques pour l'ingénieur de qualité, échantillonnage et contrôle par lots, contrôle en cours de production. Assurance de la qualité : introduction aux normes ISO 9000, documentation du système de gestion de la qualité ISO 9000, l'audit qualité pour l'enregistrement au programme ISO 9000, amélioration de la qualité. Conditions sécuritaires d'utilisation des appareils de mesure.\",\n",
       " \"Objectif: Développer l'autonomie, la responsabilité, la créativité et les habiletés de communication verbale et écrite en s’initiant à la pratique professionnelle à travers l’identification, la formulation, l’analyse et la résolution de problèmes industriels complexes dans le cadre de projets. Contenu: Notions de santé et sécurité au travail. Méthode de gestion pour prévenir les accidents de travail. Lois et règlements de la SST au Québec. Initiation à la vie professionnelle : réalisation de projets permettant la confrontation à des problèmes industriels réels. Indentification, formulation et analyse des différents aspects techniques, économiques et environnementaux du problème soumis et conduite de la conception et/ou implantation d'une solution novatrice démontrant la capacité de proposer des solutions réalistes à des problèmes d’ingénierie complexes et évolutifs, de concevoir des systèmes, des composants ou des processus qui répondent à des besoins spécifiques.\",\n",
       " \"Objectif: Aprofondir les connaissances techniques, développer l'autonomie, la créativité et les habiletés de communication verbale et écrite et s'initier à la pratique professionnelle à travers la résolution de problèmes industriels réels et la réalisation de projets en génie mécanique. Contenu: Le projet doit viser à confronter des problèmes réels reliés au secteur du génie mécanique et formulés de préférence par l'industrie. L'étudiante ou l'étudiant doit analyser les différents aspects techniques, économiques et environnementaux du problèmes soumis; il doit effectuer la conception et/ou l'implantation d'une solution novatrice qui démontre sa capacité à réaliser un projet d'ingénierie. Les documents rédigés au cours du projet doivent faire état de la question, présenter le développement de la solution choisie, les résultats et conclusions. Ces documents, de même que la soutenance orale, font l'objet d'évaluations. Le projet peut être exécuté dans le cadre d'un séjour en entreprise.\",\n",
       " \"Objectif: Se familiariser avec les outils nécessaires à l'analyse des vibrations des machines et à la conception de systèmes d'isolation des sources de vibration des machines. Contenu: Concepts de base des vibrations mécaniques : types de vibrations, caractéristiques des éléments d'isolation, effets des vibrations sur l'homme.  Systèmes à un degré de liberté : détermination de la fréquence naturelle, méthode de l'énergie, méthode de Newton, fréquence naturelle des poutres, méthode de Rayleigh, fréquences naturelles des systèmes complexes, méthode de Dunkerley, réponse en fréquence.  Isolation des machines : choix des composantes d'isolation, absorbeur dynamique.  Équilibrage des machines rotatives.  Systèmes à deux degrés de liberté, vibration en régime forcé sous excitations quelconques, généralisation aux systèmes à plusieurs degrés de liberté : équations de Lagrange, analyse modale.  Analyse fréquentielle.  Instruments de mesure.  Programme de surveillance de l'état des machines, prévention sur diagnostic fréquentiel.  Nuisance des vibrations à la santé humaine.\",\n",
       " \"Objectif: Acquérir les connaissances de base et se familiariser avec les systèmes de production automatisée. Contenu: Fonctions de la production. Automatisation. Productivité : concepts, modèles,  mesure des performances et facteurs d'influence. Aspects économiques de la production.  Machines-outils à commande numérique et Robots industriels : technologie, programmation et applications.  Cellules robotisées et applications. Systèmes de fabrication : transport, manutention et entreposage automatisé.  Cellules et systèmes flexibles.  Conception des systèmes de fabrication.  Balancement de lignes.  Technologie de groupe : codage, classification et applications.  Pilotage des systèmes de fabrication. Rappels et compléments : analyse combinatoire et séquentielle.  Capteurs et effecteurs.  Méthode structurée d'analyse (GRAFCET).  Automates programmables. Commande et surveillance des procédés.  Intégration de la production : DFA, ingénierie simultanée, CFAO, CIM, gestion de la production, base de données, réseaux locaux et communication. Ressources humaines et sécurité.\",\n",
       " 'Objectif: Concevoir le câblage des installations électriques conformément à des normes et réaliser la programmation de base des automates programmables industriels. Contenu: Production de schémas électriques sur ordinateur, schémas de systèmes de contrôle et de commande industrielle, applications aux automates et aux circuits d’entrées et de sorties. Principaux réseaux de communication industriels utilisés par les automates programmables, câblage, paramètres, configuration et utilisation. Programmation des processus simples à l’aide d’automates programmables industriels, de capteurs et d’actionneurs.\\nÉléments du Code de construction du Québec (Chapitre V Électricité) et du Code canadien de l’électricité, normes et bonnes pratiques, schémas de câblage, composants usuels des circuits résidentiels et industriels, protection, dimensionnement. Panneaux électriques et de commande.',\n",
       " \"Objectif: Acquérir les concepts fondamentaux permettant l'élaboration, l'analyse et la simulation des circuits électriques. Contenu: Éléments de base des  circuits : résistances, condensateurs, inducteurs, et sources de tension et de courant (dépendantes ou indépendantes). Lois d'Ohm et de Kirchhoff, théorème de superposition, théorèmes de Thévenin et de Norton et le principe du transfert maximal de puissance. Formulation des équations d'équilibre des circuits : méthode noeœuds et méthode des mailles. Réponse en régimes transitoire et permanent des circuits de premier ordre et deuxième ordre. Introduction au logiciel de simulation Pspice.\",\n",
       " \"Objectif: Approfondir et appliquer les connaissances liées aux méthodes d'analyse des circuits ainsi qu'à leurs comportements temporel et fréquentiel. Contenu: Sources sinusoïdales; régimes transitoire et permanent. Impédance, admittance, phaseurs, puissance, facteur de puissance et sa correction. Analyse des circuits par transformée de Laplace. Résonance, réponse en fréquence, fonction de transfert et diagramme de Bode. Circuits à base d'amplificateurs opérationnels.  Filtres analogiques.  Réseaux à deux ports.\",\n",
       " 'Objectif: S’initier aux bases conceptuelles et aux aspects pratiques du génie électrique et à ses domaines de spécialité. Contenu: Grands domaines et enjeux actuels du génie électrique, électronique et électrotechnique. Matériaux pour le génie électrique : isolants, conducteurs et semi-conducteurs.\\nNotions fondamentales et appliquées sur la production, conversion, transport et stockage de l’énergie électrique : solaire, éolienne, hydroélectrique. Transformateur, alternateur, moteur, redresseur, onduleur, hacheur, batteries. Structure et raccordement des panneaux solaires, composants électriques d’une éolienne, centrale hydroélectrique. Principe de fonctionnement des réseaux électriques intelligents. Systèmes de télémesure et de contrôle à distance des installations industrielles SCADA.',\n",
       " \"Objectif: Concevoir et réaliser des circuits logiques avec des composantes standards et des puces programmables. Contenu: Systèmes de numération : système binaire, octal et hexadécimal, changement de base. Système de codage: code binaire naturel, code binaire réfléchi, codes décimaux, codes alphanumériques, code A.S.C.I.I. Unité arithmétique: représentation des nombres, addition et soustraction, opérations logiques. Circuits logiques combinatoires: algèbre Booléenne et ses propriétés, théorème de De Morgan, simplification d'une expression logique, méthode de Karnaugh, schémas logiques.  Circuits logiques séquentiels : bascules, registres, compteurs, mémoires, circuits programmables. Machines à états finis. Introduction au langage de description de matériel (HDL). Conception, implantation et validation des circuits logiques combinatoires et séquentiels sur circuits programmables (FPGA).\",\n",
       " \"Objectif: Étudier les phénomènes électriques et magnétiques présents dans les applications de l'électricité: production, transport et distribution. Contenu: Charge électrique: loi de Coulomb, énergie d'un système de charges. Champ électrostatique: flux, théorème de Gauss, distributions, ligne indéfinie uniformément chargée. Potentiel électrostatique: différence de potentiel et fonction potentielle. Solution de l'équation de Laplace: séparation des variables, méthode des images, solutions analytiques et séparation des variables, solutions numériques, méthodes itératives par ordinateur. Les conducteurs en électrostatique. Courant électrique et interactions électromagnétiques: courant électrique, champ électromagnétique, conducteur filiforme, effet Hall, loi d'Ohm. Lois fondamentales de la magnétostatique: propriétés fondamentales du champ magnétique. Loi de Biot et Savart, théorème d'Ampère, loi de Faraday. Phénomènes d'induction électromagnétiques, équations de Maxwell: champ électromoteur d'induction, expressions générales des lois de l'électromagnétisme.\",\n",
       " 'Objectif: Se familiariser avec les composants et les principes de fonctionnement des circuits électroniques à semi-conducteurs. Contenu: Théorie des semi-conducteurs, matériaux utilisés comme semi-conducteur. Diodes : modélisation et applications (diode à jonction P-N, diode zener, diode électroluminescente). Transistors bipolaire : construction, caractéristiques, polarisation, modélisation et amplification. Transistors à effet de champ à jonction (JFET), à oxyde métallique (MOS à appauvrissement et à enrichissement) : construction, caractéristiques, polarisation, modélisation et amplification. Analyse et conception de circuits à transistor. Amplificateurs opérationnels et applications dans quelques circuits usuels. Concepts de base de la sécurité en électronique.',\n",
       " \"Objectif: Approfondir les principes de base de la conversion d'énergie électrique et du fonctionnement des machines électriques. Contenu: Éléments de base des circuits monophasés : phaseurs, puissance des courants alternatifs sinusoïdaux, facteur de puissance. Circuits magnétiques : propriétés fondamentales du champ magnétique, Loi de Biot et Savart, théorème d'Ampère, loi de Faraday, phénomènes d'induction électromagnétiques. Transformateurs : transformateurs parfait et réel, rendement, transformateurs de courant et de tension. Circuits triphasés équilibrés et déséquilibrés, composantes symétriques. Transformateurs en triphasé. Harmoniques. Principes de conversion d'énergie électromécanique : actionneurs électromécaniques, principe des machines électriques. Problèmes de sécurité.\",\n",
       " \"Objectif: Acquérir les connaissances théoriques et pratiques des systèmes à microprocesseurs; connaissances nécessaires en conception de l'ordinateur. Contenu: Introduction : évolution des microprocesseurs, concept de base d'un ordinateur. Organisation matérielle d'un microprocesseur : architecture interne, signaux, les cycles. Organisation générale des échanges : échanges asynchrones, cycle de lecture et d'écriture, échanges synchrones, contrôle d'attribution des bus, traitement de divers types d'exception. Aspect logiciel d'un microprocesseur : structure de la programmation, organisation des données en mémoire, les modes d'adressage, jeu d'instruction, programmes d'application. Autres familles de processeurs.\",\n",
       " \"Objectif: S'initier à l'utilisation des outils CAO pour la conception en génie électrique (conception de cartes imprimées et conception numérique par logique programmable). Contenu: Partie 1 : Cartes imprimées. Principales étapes du processus de conception en génie électrique (ingénierie, conception et fabrication assistée par ordinateur). Ingénierie assistée par ordinateur, plans et symboles des composantes. Apprentissage d'un logiciel de saisie de schéma électrique. Conception assistée par ordinateur, technologie des circuits imprimés. Apprentissage d'un logiciel de conception de plaquettes de circuit imprimé (PCB). Introduction et aperçu des procédés de fabrication des plaquettes. Notions de santé et sécurité. Fabrication et mise en boîtier des composantes discrètes et des circuits intégrés, tests et essais des circuits, types de montage par insertion et en surface.\\nPartie II : Conception numérique par logique programmable. Apprentissage d'un langage de conception matérielle (HDL). Démarche de conception numérique par l'utilisation des circuits FPGA et CPLD. Apprentissage d'un logiciel de saisie et programmation de circuits logiques programmables. Expérimentation sur cartes prototypes.\",\n",
       " \"Objectif: Compléter les notions d'analyse et de conception de circuits électroniques. Contenu: Complément sur les composantes discrètes. Introduction à l'électronique numérique. Analyse et conception de circuits à transistors. Circuits amplificateurs : caractéristiques (gain et impédances), modélisation, réponses en fréquences. Amplificateurs de puissance: classes d'amplificateurs, efficacité. Applications des circuits intégrés : amplificateurs opérationnels, comparateurs, convertisseurs, régulateurs et autres circuits intégrés spécialisés. Applications des amplificateurs opérationnels : amplificateurs en boucle ouverte et fermée, rétroaction positive et négative, critère de stabilité, oscillateurs, filtres actifs, circuits de régulation. Concepts de santé et sécurité en électronique.\",\n",
       " \"Objectif: Maîtriser les connaissances fondamentales de la théorie des signaux et des systèmes. Contenu: Classifications des signaux : continus et discrets, déterministes et aléatoires, stationnaires et non-stationnaires. Échantillonnage et quantification des signaux: théorème d'échantillonnage, fréquence de Nyquist, repliement spectral, restitution du signal après échantillonnage, erreur de quantification, rapport signal-sur-bruit. Systèmes discrets, linéarité, invariance dans le temps, stabilité, causalité, réponse impulsionnelle, convolution, équations aux différences. Analyse fréquentielle : séries de Fourier, transformée de Fourier discrète, transformée de Fourier rapide, propriétés, spectres, effets de la durée d'observation et de la fenêtre de pondération sur le spectre. Transformée en Z: définitions, propriétés, applications dans l'analyse des systèmes. Filtrage numérique: filtre idéal et filtre réel, méthodes de conception filtres de type à réponse impulsionnelle finie (RIF) et infinie (RII), structures de réalisations. Modulation et démodulation d'amplitude: principe, spectre et largeur de bande d'un signal modulé, multiplexage par répartition de fréquence. Expériences de simulation avec l'outil de programmation Matlab.\",\n",
       " \"Objectif: Acquérir les connaissances de base concernant les ispositifs à semi-conducteurs et leur utilisation dans les différents systèmes de conversion d'énergie électrique. Contenu: Composants de puissance : diode, thyristor, triac, transistor de puissance, spécification d'amorçage, transistor MOS de puissance. Montages redresseurs.  Étude en charge des convertisseurs. Commutation d'une source continue. Conversion de fréquence. Applications : contacteur électronique, chauffage, gradateur, multiplicateurs de tension. Lissage de sortie d'un redresseur. Filtrage de lignes à courant alternatif. Commande de machines à courant continu. Commande des machines à courant alternatif. Des notions de protection et de sécurité sont également étudiées.  Leçons magistrales, travaux dirigés et travaux pratiques.\",\n",
       " \"Objectif: Acquérir les connaissances de base nécessaires à l'analyse et à la conception de réseaux de distribution de l'énergie électrique. Contenu: Analyse et conception des lignes de transmission : type de conducteur, impédance, résistance, ligne inductive et capacitive, circuit équivalent, compensation réactive. Composantes symétriques. Rappels des notions de base de la puissance complexe. Écoulement de puissance d'une ligne de transmission. Puissance maximum transportable. Transformateurs de puissance. Calcul des courants de défauts. Stabilité et protection des lignes de transmission.\",\n",
       " \"Objectif: Se familiariser avec les éléments de base d'un ordinateur et les liens existant entre eux afin de se rendre apte à utiliser une démarche rigoureuse dans le développement d'un système informatisé. Contenu: Structure d'un ordinateur : processeur, mémoire, organisation des entrées et sorties, réseaux et systèmes distribués, transmission des données. Notions de base des microprocesseurs : microprocesseurs Pentium et MC680X0, microcontrôleurs, interface au microprocesseur. Compléments des notions de circuits logiques : registres, bus, multiplexeur et décodeur, horloges, mémoire principale. Concepts généraux de la microprogrammation, langage d'assemblage. Étude d'une machine traditionnelle.\",\n",
       " \"Objectif: Se familiariser avec les outils nécessaires à l'analyse des signaux de communications analogiques et numériques et à la conception d'équipements de transmission des données numériques. Contenu: Introduction aux communications analogiques : modulation et démodulation AM, FM et de phase, bandes de fréquences, puissance de transmission, circuits de modulation et de démodulation, bandes de fréquences, niveaux de puissance. Déformation des signaux transmis : interférence et distorsion, pertes de transmission, bruits parasites, rapport signal/bruit. Modélisation statistique des signaux aléatoires. Communications numériques : types de modulation : PAM, PCM, PDM et PPM. Réseau de transmission de données : mécanisme des entrées-sorties, mécanisme des interruptions, modems, communication par paquets, réseaux locaux.\",\n",
       " \"Objectif: Acquérir les connaissances de base à l'analyse et à la conception d'un réseau de télécommunication. Contenu: Rappel de notions d'analyse vectorielle et de champ électromagnétique dans l'espace : systèmes de coordonnées, transformation de coordonnées, etc.  Équations de Maxwel. Ondes électromagnétiques : propagation des ondes planes, conducteurs et diélectriques, réflexions d'ondes dans les conducteurs.  Guides d'onde : caractéristiques des ondes électriques et magnétiques, vitesse de propagation, pertes dans les lignes de transmission. Éléments de circuits des lignes UHF.  Conception des antennes.\",\n",
       " \"Objectif: Compléter les notions d'analyse et de conception des machines électriques. Contenu: Étude des machines électriques tournantes au niveau du principe de fonctionnement, de la constitution, de la modélisation et de l'utilisation. Les machines de base sont étudiées dans l'ordre suivant : machines synchrones, machines asynchrones et machines à courant continu. Étude des essais classiques d'identification des paramètres des machines électriques. Étude des procédés de variation de vitesse. Problèmes de sécurité.\",\n",
       " \"Objectif: Maîtriser les connaissances de bases de la vision numérique 2D et 3D afin de connaître les possibilités qu'offre cette approche de traitement pour la solution de problèmes d'ingénierie. Contenu: Le cours se veut une introduction au domaine. Il couvre les fondements et la démarche globale de vision numérique : formation des images, traitements d'images et reconnaissance. Formation et acquisition des images 2D et 3D, principes élémentaires de la formation d'images, pré-traitements, segmentation et traitements simples (filtrage, détection de contours, transformée de Hough), description des images et extraction du contenu sémantique.\",\n",
       " \"Objectif: Synthétiser les notions de télécommunication afin de maîtriser la conception des systèmes de télécommunications : liaisons hertziennes, satellites et téléphonie cellulaire. Contenu: Identification des paramètres critiques et analyse du budget de liaison : milieu de transmission, puissance et température du bruit, gain des antennes. Modélisation et analyse des dégradations attribuables aux imperfections à l'émetteur et au récepteur : amplification non linéaire, bruit des canaux adjacents. Systèmes de communications point à point par faisceaux hertziens : principes de base, classification et calcul des liaisons. Systèmes de communications par satellites : introduction, historique, orbitographie, problèmes de propagation et équation de base du bilan de liaison, méthodes d'accès au canal satellite. Étude du cas de la téléphonie cellulaire : attribution des fréquences, analyse de la probabilité du blocage, propagation pour des mobiles, capacité cellulaire, qualité de service, normes et gestion de la mobilité. Applications de l'accès multiple par répartition de code aux systèmes de communication personnels. Extension au système à étalement spectral. Méthodes d'accès : accès par canaux individuels à bande étroite, systèmes à spectre étalé. Caractéristiques du canal radiomobile: modes généraux de propagation des ondes radio, caractéristiques multitrajets de la propagation en radiomobile. Systèmes nord-américains et européens. Systèmes à commutation de paquets par radio.\",\n",
       " \"Objectif: Analyser et concevoir des systèmes de traitement numérique des signaux. Contenu: Échantillonnage, quantification, produit de convolution, transformée de Fourier discrète (TFD). Estimation spectrale : périodogramme et spectrogramme. Utilisation des fenêtres de pondération (de Hamming, de Blackman et de Kaiser). La fonction de corrélation et ses applications dans la détection des signaux. Différents modes de modulation : modulation d'amplitude (AM), modulation de fréquence (FM) et en largeur d'impulsion (PWD). Systèmes définis par une équation aux différences et transformée en Z. Filtrage numérique : conception des filtres à réponses impulsionnelles infinies (RII) et à réponses impulsionnelles finies (RIF) numériques.  Introduction à l'implantation temps-réel des filtres numériques.  Utilisation de processeurs numériques de traitement de signaux (DSP).\",\n",
       " \"Objectif: Se familiariser avec les processus d'identification des systèmes, de prédiction basée sur des modèles et de commande adaptative applicables aux systèmes dynamiques. Contenu: Rappels sur les systèmes linéaires invariants dans le temps et leurs propriétés. Identification des systèmes : réponse à l'échelon ou à l'impulsion, analyse fréquentielle, analyse spectrale, analyse par corrélation. Régression linéaire : estimation par moindres carrés. Signaux d'entrée : échelon, séquence binaire pseudoaléatoire et autres. Méthodes basées sur l'erreur de prédiction : prédiction optimale, moindres carrés, moindres carrés généralisés, erreur de sortie, maximum de vraisemblance. Identification récursive  basée sur l'erreur de prédiction. et l’identification en boucle fermée. Validation du modèle et choix de sa structure. Utilisation de modèles pour la prédiction du comportement. Techniques de base utilisées en commande adaptative.\",\n",
       " \"Objectif: Concevoir des systèmes de traitement d'air et de ventilation adaptés aux besoins des bâtiments modernes. Contenu: Notion de confort pour l'humain. Propriétés physiques de l'air; psychrométrie. Traitement de l'air : chauffage, refroidissement, humidification, assèchement, filtration. Réseaux de distribution de l'air; calcul des charges, des canalisations et des ventilateurs. Étude des principaux systèmes installés dans les bâtiments et modes de contrôle. Critères de design et analyse des coûts. Simulation sur ordinateur à l'aide d'un logiciel spécialisé; étude de cas.\",\n",
       " \"Objectif: Acquérir des connaissances complémentaires en mécanique des fluides, connaissances basées sur la dynamique des fluides compressibles et visqueux. Contenu: Équations générales de la dynamique des fluides compressibles. Relations fondamentales : principe de conservation de la masse, loi fondamentale de la dynamique, principe de conservation d'énergie.  Écoulement de fluide parfait : équations générales, écoulement permanent, écoulement irrotationnel, isoénergétique. Théorie de l'onde de choc : définition, relations de compatibilité, équations du choc droit, méthode d'étude des chocs en écoulement permanent. Dynamique des fluides visqueux : couche limite laminaire : définition de la couche limite, conditions de similitude, équations de la couche limite, conditions aux limites, analogie de Reynolds, épaisseur de couche limite. Simulation d'écoulement fluide par ordinateur.\",\n",
       " \"Objectif: Acquérir les connaissances de base en robotique et se familiariser avec la pratique industrielle. Contenu: Vues d'ensemble sur les robots : histoire, technologie, géométrie, classification industrielle, composantes. Organes actionneurs : électriques, hydrauliques et pneumatiques. Détection de vitesse et de position. Contrôle des moteurs. Modélisation cinématique : directe, inverse, incrémentale, modélisation dynamique du bras manipulateur. Programmation des robots : programmation hors ligne, génération de trajectoire, contrôle de trajectoire, programmation structurée. Applications : procédés et cellules robotisées. Éléments de sécurité en robotique.\",\n",
       " \"Objectif: Maîtriser les éléments de base pour l'organisation et le contrôle de la maintenance en industrie. Contenu: Fiabilité : concepts de fiabilité et de disponibilité, durée de vie, taux de défaillance. Rappels sur les distributions de probabilité utilisées en fiabilité : loi binomiale, loi normale, loi exponentielle, loi de Weibull. Estimation des durées de vie, des taux de défaillance et des périodes de maintenance. Essais de fiabilité. Analyse des modes de défaillance (AMDEC). Analyse des redondances, système série, parallèle, combiné. Maintenance : maintenance corrective, maintenance préventive, maintenance conditionnelle. Organisation de programmes de maintenance. Techniques de surveillance. Courbes de tendance, analyse spectrale, établissement des niveaux d'alarme. Diagnostic des défauts de machines : déséquilibre, lignage, roulements, paliers lisses, serrage, courroies, problèmes aérodynamiques, engrenages, moteurs. Intégrité structurale des machines par analyse modale.\",\n",
       " 'Objectif: Comprendre les risques associés à toutes les étapes d’un projet de construction des infrastructures littorales, de la planification à la mise en œuvre. Contenu: Risques liés à la construction et sécurité. Équipements terrestres et flottants. Déversement des matériaux – placement contrôlé. Préparation du site : aires de stockage et de réparation, installations de chargement (barge, caboteur, camions et trains). Problèmes géotechniques. Techniques de mise en œuvre : construction des digues à talus, construction des perrés, construction des ouvrages de fondation, construction d’ouvrage de protection des câbles et canalisation. Exécution de réparations urgentes. Contrôle qualité : méthodes de pose et d’agencement des enrochements naturels et artificiels. Techniques de levés et de mesures : contrôle des levés, alignement de l’ouvrage, implantation des profils, implantation d’un musoir, levé au-dessus de l’eau et sous l’eau. Évaluation des structures, réingénierie et augmentation de leur durée de vie : inspection, diagnostic de l’ouvrage au-dessus de l’eau (visuel et par instrumentation). Inspection sous-marine. Plan de surveillance. Évaluation de l’état et des performances de l’ouvrage. Maintenance, réparation et réhabilitation préventive ou curative. Évaluation des matériaux : durabilité, capteurs de corrosion.',\n",
       " 'Objectif: Acquérir les bases fondamentales théoriques et pratiques sur lesquelles reposent les levées topométriques. Contenu: Mesure des distances : chaîne et galon, podomètre, odomètre, le pas, chaînage. Nivellement : niveau et mire, niveau moyen de la mer, altitude, repère de nivellement, le levé altimétrique, nivellement par rayonnement, par cheminement simple et par double point de changement. Calcul des gisements. Polygonation : précision angulaire, fermeture d’une polygonale, polygonale avec gisement. Levés de détail : station totale, précision des levés de détail en planimétrie, précision des levés de détail en altimétrie, rotation et translation. Topométrie de construction : levé de détail par GPS, modèle numérique de terrain, repères de construction, implantation d’une bâtisse. Topométrie routière : localisation du tracé, courbe circulaire simple, implantation de la courbe, implantation d’un réseau d’égouts. Coordonnées rectangulaires et polaires, captage de données par photo aériennes et Lidar',\n",
       " 'Objectif: Établir des relations entre les propriétés fondamentales du bitume et des bétons et les caractéristiques des matériaux les composant. Contenu: Partie enrobés bitumineux : bitume (origine du bitume, propriétés physico-chimiques des bitumes, production du bitume, type de bitume, autres types de liants bitumineux). Caractéristique de l’enrobés bitumineux : densité maximale de l’enrobé, densité brute de l’enrobé, vides interstitiels dans l’enrobé, stabilité Marshall, pourcentage du bitume absorbé par le granulat, teneur en bitume effectif, VAM, VCB. Formulation des mélanges d’enrobés bitumineux selon la méthode Marshall et la méthode de formulation des laboratoires des chaussées. Fabrication en usine d’enrobés bitumineux.\\nPartie béton de ciment : composition du béton de ciment, ciment Portland. Adjuvant : accélérateur de prise, retardateur de prise, réducteur d’eau, super-plastifiant. Béton frais : eau de gâché, maniabilité (essais d’affaissement au cône d’Abrams, essais d’étalement), teneur en air. Résistance du béton : rapport eau/liant, porosité du béton de ciment, microfissuration, maturité et murissement du béton. Essais sur le béton durci : essais de résistance à la compression, essais de résistance à la traction. Durabilité du béton, formulation d’un béton de ciment.',\n",
       " 'Objectif: Acquérir les connaissances fondamentales dans l’étude du comportement mécanique des sols. Contenu: L’origine des sols et leurs caractéristiques physico-chimiques. Description et composition de la matrice granulaire, relations de phase, frottement et cohésion. Identification et classification des sols. L’eau dans les sols; compaction, gradient hydraulique, vitesse d’écoulement et réseau d’écoulement. Contraintes totales, hydrauliques et effectives. Théorie de la consolidation. Tassements et consolidation dans les sols.',\n",
       " 'Objectif: Acquérir les techniques de mise en œuvre des ouvrages en génie civil dans le respect des codes et des normes applicables. Contenu: Lois, normes et réglementations régissant l’industrie de la construction. Infrastructures urbaines, routières et éléments de construction : chaussée souple et rigide; drainage en surface et en conduite, conduites d’eau potable, d’égout sanitaire et d’égout pluvial, regards et puisards; branchements de services, vannes, réducteurs de pression et clapets. Protection incendie. Composantes du bâtiment : fondations, structures de béton, d’acier et de bois, murs porteurs, murs et cloisons, étanchéité, finis architecturaux. Lecture intégrée des différents plans d’architecture et d’ingénierie, documents contractuels. Identification des différentes étapes d’un projet de construction, opérations courantes en génie civil (excavation, remblayage, nivelage, ….) et équipements. Identification des procédés de construction, critères de qualité, mesures de sécurité.',\n",
       " 'Objectif: Acquérir les outils d’évaluation de la ressource hydrique. Contenu: Cycle hydrologique. Atmosphère : cellules atmosphériques, couplage océan-atmosphère, structure de l’atmosphère. Évaporation-condensation (pluie/neige). Nature, intensité, durée et fréquence des précipitations. Ruissellement, caractéristiques du bassin versant. Infiltration, rechargement des nappes phréatiques, mécanique des écoulements souterrains. Estimation des débits, crue, étiage, régime des glaces et débâcle. Risques de sécheresse et inondation. Capacité de stockage, niveau des lacs et réservoirs, temps de résidence. Notions de dynamique estuarienne.',\n",
       " 'Objectif: Comprendre les notions et concepts permettant l’analyse du comportement et de la stabilité des sols. Contenu: Cercle de Mohr et critères de rupture. Stabilité d’excavation et de murs de soutènement de type poids pour des conditions hydrostatique et avec écoulement. Calculs de stabilité des pentes par la méthode de tranches. Propagation de contrainte dans les sols, déformation élastique, tassement de consolidation et tassement secondaire dans les argiles. Gélivité des sols. Introduction aux notions de tenseurs de contraintes et d’axes principaux, décomposition symétrique et antisymétrique, contraintes hydrostatiques et déviatoriques et introduction sommaire à la mécanique d’état critique.',\n",
       " 'Objectif: Acquérir les notions nécessaires à la conception et à l’analyse de composantes structurelles en béton armés selon la norme ACNOR A23.3. Contenu: Caractéristiques mécaniques du béton et des aciers d’armatures. Introduction aux normes ACNOR et aux exigences du CNBC. Calculs aux états limites et combinaisons de charges. Distribution des contraintes dans les éléments de bétons, résistance aux efforts de cisaillement et aux moments dans les éléments de béton armé. Calcul et dimensionnement d’éléments de béton armé; poteaux, poutres et dalles unidirectionnelles.',\n",
       " 'Objectif: Acquérir les notions nécessaires à la conception et à l’analyse des connexions et des composantes structurelles en acier selon la norme CSA. Contenu: Notion de fabrication de l’acier de construction, alliages et nuances. Caractéristiques mécaniques des différentes nuances d’acier. Notions d’écrouissage et de ductilité. Résistance au cisaillement et à la flexion des pièces d’acier. Notions d’encrages (boulon et soudure) et calculs de résistances des pièces boulonnées et soudées. Principe de dimensionnement des pièces d’acier. Types de membrure structurale, sections des poutres et classe associée. Calcul et dimensionnement des pièces d’acier et vérification de stabilité au flambement, voilement et gauchissement.',\n",
       " \"Objectif: Comprendre la conception des réseaux hydrauliques et la mécanique des fluides appliquée à leur dimensionnement. Contenu: Conception des réseaux de distribution d'eau potable (maillé ou linéaire), des réseaux de collecte des eaux usées, des stations de pompage. Application des principes de pertes de charge, conduites simples, branchements en série ou parallèles. Machines hydrauliques : pompe, turbine ; type et sélection. Coup de bélier et cheminée d’équilibre.\",\n",
       " \"Objectif: Acquérir les notions nécessaires à la conception et à la construction des infrastructures urbaines. Contenu: Types d'infrastructures municipales. Critères de conception des réseaux. Critères normatifs reliés à leur mise en place. Qualité des eaux, réactions chimiques et biochimiques dans les conduites. Calcul des charges de polluants pour la conception des usines d’épuration. Infiltration dans les réseaux d’égouts, Notion de débit de pointe horaire, débit incendie. Coup d’eau. Auscultation, entretien, rénovation des réseaux. Avant-projet, planification. Réseau de distribution temporaire.\",\n",
       " 'Objectif: Acquérir les connaissances permettant de répondre aux problèmes de production d’eau potable, de traitement des eaux usées, boues et sols contaminés, de gestion des déchets urbains, dans une perspective de développement durable. Contenu: Développement durable et opérations d’assainissement, de traitement des eaux et des déchets urbains. Chimie de l’eau, propriétés physico-chimiques. Réactions chimiques : précipitation, acide/base, association ionique, oxydation/réduction. Solution tampon, volatilisation. Traitement de l’eau; l’eau potable : coagulation, floculation, sédimentation, filtration, désinfection, absorption, membranes. Traitement des eaux usées : caractérisation, normes, prétraitement, traitement primaire, traitement secondaire, désinfection. Traitement des sols contaminés. Traitement des boues. Déchets urbains : collecte, recyclage. Conception et gestion des sites d’enfouissement : normes, sélection du site, préparation du site, équipements, opérations, conception d’une cellule. Valorisation des matériaux de construction, introduction à l’analyse du cycle de vie, développement durable dans la construction, déclaration environnementale des produits de construction (norme ISO 21930-2007).',\n",
       " 'Objectif: Comprendre les notions et concepts nécessaires à la conception des fondations, pieux et palplanches et les principes fondamentaux du dimensionnement de ces structures. Contenu: Reconnaissance géotechnique : appareillage utilisé pour récolter les données terrain, utilisation des données géotechnique contenues dans un rapport. Dimensionnement de fondations : capacité portante (ultime et nette), modèles de calcul théorique de capacité portante (Terzaghi, Meyerhof, Hansen, Vesic) de fondation (surface et profonde), calculs des tassements, calculs de capacité portantes des pieux (seul et en groupe). Calcul de stabilité de palplanche en condition hydrostatique et en condition d’écoulement; analyse et calcul de stabilité de murs de soutènement de type poids, méthode de protection contre l’affouillement en condition littoral, dimensionnement d’enrochement.',\n",
       " \"Objectif: Acquérir les méthodes de préparation de l’estimation complète d’un projet à partir des plans et devis dans l’optique d’une optimisation économique. Contenu: Types de contrat, addenda, estimation budgétaire (les facteurs influant sur les coûts, les formes d’estimation). Méthodes de préparation d’une soumission, appel d'offres (avis au soumissionnaire) et cautionnement de soumission, sous-traitants (analyse des soumissions), technique de relevé des quantités, coûts unitaires, BSDQ, frais généraux (frais fixe et frais variable), profit.\",\n",
       " 'Objectif: Acquérir les notions nécessaires à l’analyse et au calcul des éléments structuraux en bois selon la norme CSA O86. Contenu: Propriétés physiques et mécaniques du bois. Produits et systèmes structuraux en bois. Durabilité et résistance au feu. Introduction aux exigences du CNBC. Calculs aux états limites des éléments de charpente en bois massif et en bois lamellé-collé selon la norme CSA-086 : éléments fléchis, éléments comprimés, éléments tendus, éléments sollicités par des charges combinées, assemblages (clous, boulons, rivets, vis). Introduction au calcul des diaphragmes et murs de refend pour la construction à ossature légère en bois.',\n",
       " 'Objectif: Acquérir les éléments de conception des routes en tenant compte des paramètres de leur construction. Contenu: Classification fonctionnelle des routes et numérotation routière. Avant-projet, collecte de données, débits de circulation, niveaux de services, contraintes humaines et environnementales et analyse de scénarios routiers. Conception routière : sections en travers, courbes circulaires et spirales horizontales, courbes paraboliques verticales, gradation des dévers, voies auxiliaires pour véhicules lents, zones de dépassement, rayons de virage, distances de visibilité et signalisation latérale et aérienne. Logiciels de conception.',\n",
       " 'Objectif: Acquérir les règles de l’art de la construction des routes. Contenu: Déboisement, terrassement, gestion des matériaux d’excavation. Structure de chaussée : sous-fondation, fondations inférieure et supérieure; chaussées en enrobés bitumineux et en béton de ciment. Gélivité et drainage de l’infrastructure de chaussée. Évacuation des eaux de ruissellement en fossés avec des ponceaux et en conduites pluviales. Aménagements urbains incluant bordures, trottoirs, accotements et stationnements. Dispositifs de retenu et lits d’arrêt. Mesures d’atténuation environnementales temporaires. Comportement, évaluation et réhabilitation des chaussées. Signalisation de travaux routiers. Rédaction de devis, estimations des coûts et assurance qualité.',\n",
       " 'Objectif: Connaitre les méthodes d’évaluation des ouvrages d’art et les techniques de réhabilitation des structures. Contenu: Identification des dommages courants dans une structure. Évaluation des ouvrages d’arts, inspection d’évaluation, procédures d’évaluation de la capacité portante, calculs des paramètres de sécurité des structures, diagnostic de la structure et identification des éléments déficients. Calcul de facteurs de sécurité des structures. Réhabilitation des ouvrages d’arts, matériaux de réhabilitation, renforcement et réhabilitation de la structure, éléments en béton armé, bois, acier.',\n",
       " 'Objectif: Acquérir les notions de base sur la conception écoresponsable des structures et des bâtiments. Contenu: Impacts environnementaux liées aux bâtiments. Introduction aux systèmes de certifications environnementales de bâtiment (LEED, HQE, etc.). Analyse de stratégies écoresponsables selon le contexte. Application de l’analyse du cycle de vie aux bâtiments. Préfabrication et gestion des déchets de construction. Analyse des coûts selon le cycle de vie. Analyse hygrothermique des enveloppes de bâtiments.',\n",
       " \"Objectif: Acquérir les concepts et les méthodes de planification et de suivi des projets en génie civil. Contenu: Concepts généraux de la planification et du contrôle des projets. Identification, division du travail en modules et planification des étapes d’un projet par les méthodes CPM, Gantt, Précédence et VPM. Préparation d’un échéancier de projet à l’aide d’un logiciel de planification; analyse, allocation des ressources. Suivi d’un projet et respect de l'échéancier original. Conception et utilisation des systèmes de contrôle pour un projet de construction (identification, acquisition et traitement des données). Interprétation des données produites par le système de contrôle, planification et gestion des ressources. Méthodes graphiques de contrôle. Introduction aux aspects financiers d’un projet.\",\n",
       " 'Objectif: Approfondir ses connaissances de base en anglais oral et écrit. Contenu: Articles, prépositions, pronoms et verbes.  Structure de la phrase.  Expressions spatiales et temporelles.  Prononciation et intonation.',\n",
       " \"Objectif: Perfectionner l'usage de l'anglais oral et écrit. Contenu: Verbes : temps, voix, locutions verbales (verbes à particules, verbes prépositionnels et gérondifs), accord du verbe avec le sujet.  Structure de la phrase complexe.  Ponctuation.  Principaux faux amis et synonymes.  Présentation orale et utilisation des conjonctions.\",\n",
       " \"Objectif: Perfectionner l'usage de l'anglais à travers la pratique de formes discursives orales et écrites. Contenu: Analyse et production de formes discursives orales et écrites : exposé, compte rendu, article, interview, dissertation, lettre d'affaires, entrevue d'emploi, etc.  Plan, point de vue, cohérence, unité, insistance, ponctuation.\",\n",
       " \"Objectif: Étudier les composantes chimiques et physiques des océans et les relations entre les océans et l'atmosphère, pour acquérir les connaissances nécessaires à une bonne compréhension du fonctionnement des écosystèmes marins et du rôle des océans dans la biosphère. Contenu: Historique de l'océanographie. Hydrosphère et cycle de l'eau. Origine et évolution des bassins océaniques. Composantes physiques : densité., salinité, lumière, son, conservativité, dispersion, diagramme T.S., structure de la colonne d’eau, marées., houles, vagues, courants de surface, circulation thermohaline, estuaires, traitement des données et modélisation. Composantes chimiques : composition de l'eau de mer, sels nutritifs et production, spéciation chimique, système des carbonates et des silicates, gaz dissous et cycles biogéochimiques.\",\n",
       " \"Objectif: Permettre le traitement des cours, non identifiés dans les programmes, auxquels s'inscrira une étudiante ou un étudiant sur la base d'un dispositif prévu à son plan de formation, dispositif formulé généralement selon l'un ou l'autre des libellés suivants : autre(s) cours approuvé(s) par la direction du module : cours choisi(s) sur approbation de la direction du module : l'un au l'autre de ces cours peut être choisi sur une base individuelle dans une autre discipline s'il est approuvé par la responsable ou le responsable du programme. Contenu\",\n",
       " \"Objectif: Acquérir les connaissances et développer les habiletés nécessaires à un fonctionnement efficace en équipe de projet. Contenu: Ce cours comporte une partie importante d'activités à caractère expérimentale afin de permettre l'expérimentation comportementale tant comme simple membre que comme gérant ou chef d'une équipe.  Les principaux éléments d'apprentissage sont les suivants : relations interpersonnelles (connaissance de soi, communication, feed-back...), travail en équipe (nature, fonctionnement, processus de groupe), équipe de projet (formation, développement, maintien d'une équipe efficace et cohésive, diagnostic et team-building), gestion du temps et la conduite des réunions (animation, prise de décision, gestion de conflit...).\",\n",
       " 'Objectif: Comprendre la technologie actuelle des turbines éoliennes, connaître les composantes principales des turbines éoliennes et les méthodes de conception de ces composantes. Contenu: Caractérisation de la ressource éolienne et de la variation de la vitesse du vent. Aérodynamique des turbines éoliennes et conception des rotors des éoliennes. Aspects mécaniques et dynamiques des turbines éoliennes, dynamique des rotors, modèles dynamiques des éoliennes. Aspects électriques des turbines éoliennes, machines électriques, transformateurs, convertisseurs de puissance. Conception des turbines éoliennes, topologies des turbines éoliennes, matériaux, éléments des machines, estimations de charges structurales, prédiction de la courbe de puissance. Contrôle des turbines éoliennes, fonctionnement typique en connexion au réseau.',\n",
       " \"Objectif: Se familiariser avec les réalités du monde de l'ingénierie professionnelle à l'extérieur du Québec et participer, sous la direction d'un superviseur, à l'exécution d'un projet en milieu de travail en apportant une contribution significative à la solution de divers problèmes d'ingénierie. Contenu: Le cadre juridique: lois et règlements régissant l'exercice de la profession dans un lieu autre que le Québec. Règles générales applicables aux contrats. Déontologie des ingénieurs.\\n\\nDans le cadre d'un séjour hors Québec de 12 à 16 semaines dans une entreprise, un laboratoire ou une compagnie de service reliée à l'industrie, le cours permet à un étudiant de se familiariser avec la profession d'ingénieur hors Québec. Pendant cette période de résidence en entreprise, l'étudiant prépare un rapport présentant le contexte de la pratique de l'ingénierie dans le pays où il séjourne. À son retour, il présente aux autres étudiants un exposé oral portant sur la pratique de l'ingénierie dans le lieu d'accueil.\"]"
      ]
     },
     "execution_count": 99,
     "metadata": {},
     "output_type": "execute_result"
    }
   ],
   "source": [
    "course_descs"
   ]
  },
  {
   "cell_type": "code",
   "execution_count": 100,
   "metadata": {},
   "outputs": [
    {
     "data": {
      "text/html": [
       "<div>\n",
       "<style scoped>\n",
       "    .dataframe tbody tr th:only-of-type {\n",
       "        vertical-align: middle;\n",
       "    }\n",
       "\n",
       "    .dataframe tbody tr th {\n",
       "        vertical-align: top;\n",
       "    }\n",
       "\n",
       "    .dataframe thead th {\n",
       "        text-align: right;\n",
       "    }\n",
       "</style>\n",
       "<table border=\"1\" class=\"dataframe\">\n",
       "  <thead>\n",
       "    <tr style=\"text-align: right;\">\n",
       "      <th></th>\n",
       "      <th>Course Number</th>\n",
       "      <th>Course Name</th>\n",
       "      <th>Course Description</th>\n",
       "    </tr>\n",
       "  </thead>\n",
       "  <tbody>\n",
       "    <tr>\n",
       "      <th>0</th>\n",
       "      <td>ADM10014</td>\n",
       "      <td>Management</td>\n",
       "      <td>Objectif: Acquérir un cadre de réflexion et de...</td>\n",
       "    </tr>\n",
       "    <tr>\n",
       "      <th>1</th>\n",
       "      <td>GEN18419</td>\n",
       "      <td>Communication graphique en ingénierie</td>\n",
       "      <td>Objectif: Acquérir les connaissances et les ha...</td>\n",
       "    </tr>\n",
       "    <tr>\n",
       "      <th>2</th>\n",
       "      <td>GEN28519</td>\n",
       "      <td>Circuits, électrotechnique et machines électri...</td>\n",
       "      <td>Objectif: Analyser les dispositifs et machines...</td>\n",
       "    </tr>\n",
       "    <tr>\n",
       "      <th>3</th>\n",
       "      <td>GEN29118</td>\n",
       "      <td>Ingénierie, design et communication</td>\n",
       "      <td>Objectif: Apprendre à communiquer efficacement...</td>\n",
       "    </tr>\n",
       "    <tr>\n",
       "      <th>4</th>\n",
       "      <td>FIN11098</td>\n",
       "      <td>Principes de gestion financière</td>\n",
       "      <td>Objectif: Être sensibilisé à l'environnement é...</td>\n",
       "    </tr>\n",
       "    <tr>\n",
       "      <th>...</th>\n",
       "      <td>...</td>\n",
       "      <td>...</td>\n",
       "      <td>...</td>\n",
       "    </tr>\n",
       "    <tr>\n",
       "      <th>88</th>\n",
       "      <td>BIO17021</td>\n",
       "      <td>Introduction à l’océanographie</td>\n",
       "      <td>Objectif: Étudier les composantes chimiques et...</td>\n",
       "    </tr>\n",
       "    <tr>\n",
       "      <th>89</th>\n",
       "      <td>TRT10005</td>\n",
       "      <td>Traitement d'un cours spécifique approuvé</td>\n",
       "      <td>Objectif: Permettre le traitement des cours, n...</td>\n",
       "    </tr>\n",
       "    <tr>\n",
       "      <th>90</th>\n",
       "      <td>GEN39293</td>\n",
       "      <td>Gestion des équipes de projet</td>\n",
       "      <td>Objectif: Acquérir les connaissances et dévelo...</td>\n",
       "    </tr>\n",
       "    <tr>\n",
       "      <th>91</th>\n",
       "      <td>GEN46608</td>\n",
       "      <td>Génie éolien</td>\n",
       "      <td>Objectif: Comprendre la technologie actuelle d...</td>\n",
       "    </tr>\n",
       "    <tr>\n",
       "      <th>92</th>\n",
       "      <td>GEN50410</td>\n",
       "      <td>Pratique de l'ingénierie hors Québec</td>\n",
       "      <td>Objectif: Se familiariser avec les réalités du...</td>\n",
       "    </tr>\n",
       "  </tbody>\n",
       "</table>\n",
       "<p>93 rows × 3 columns</p>\n",
       "</div>"
      ],
      "text/plain": [
       "   Course Number                                        Course Name  \\\n",
       "0       ADM10014                                         Management   \n",
       "1       GEN18419              Communication graphique en ingénierie   \n",
       "2       GEN28519  Circuits, électrotechnique et machines électri...   \n",
       "3       GEN29118                Ingénierie, design et communication   \n",
       "4       FIN11098                    Principes de gestion financière   \n",
       "..           ...                                                ...   \n",
       "88      BIO17021                     Introduction à l’océanographie   \n",
       "89      TRT10005          Traitement d'un cours spécifique approuvé   \n",
       "90      GEN39293                      Gestion des équipes de projet   \n",
       "91      GEN46608                                       Génie éolien   \n",
       "92      GEN50410               Pratique de l'ingénierie hors Québec   \n",
       "\n",
       "                                   Course Description  \n",
       "0   Objectif: Acquérir un cadre de réflexion et de...  \n",
       "1   Objectif: Acquérir les connaissances et les ha...  \n",
       "2   Objectif: Analyser les dispositifs et machines...  \n",
       "3   Objectif: Apprendre à communiquer efficacement...  \n",
       "4   Objectif: Être sensibilisé à l'environnement é...  \n",
       "..                                                ...  \n",
       "88  Objectif: Étudier les composantes chimiques et...  \n",
       "89  Objectif: Permettre le traitement des cours, n...  \n",
       "90  Objectif: Acquérir les connaissances et dévelo...  \n",
       "91  Objectif: Comprendre la technologie actuelle d...  \n",
       "92  Objectif: Se familiariser avec les réalités du...  \n",
       "\n",
       "[93 rows x 3 columns]"
      ]
     },
     "execution_count": 100,
     "metadata": {},
     "output_type": "execute_result"
    }
   ],
   "source": [
    "import pandas as pd\n",
    "\n",
    "df = pd.DataFrame({\n",
    "    \"Course Number\": course_codes,\n",
    "    \"Course Name\": course_names,\n",
    "    \"Course Description\": course_descs\n",
    "})\n",
    "\n",
    "df"
   ]
  },
  {
   "cell_type": "code",
   "execution_count": 101,
   "metadata": {},
   "outputs": [],
   "source": [
    "df.to_csv('UQAR_GenieMecanique_Core_and_Electives_Courses.csv', index = False)"
   ]
  },
  {
   "cell_type": "code",
   "execution_count": 102,
   "metadata": {},
   "outputs": [],
   "source": [
    "driver.quit()"
   ]
  }
 ],
 "metadata": {
  "kernelspec": {
   "display_name": "Python 3",
   "language": "python",
   "name": "python3"
  },
  "language_info": {
   "codemirror_mode": {
    "name": "ipython",
    "version": 3
   },
   "file_extension": ".py",
   "mimetype": "text/x-python",
   "name": "python",
   "nbconvert_exporter": "python",
   "pygments_lexer": "ipython3",
   "version": "3.8.5"
  }
 },
 "nbformat": 4,
 "nbformat_minor": 4
}
