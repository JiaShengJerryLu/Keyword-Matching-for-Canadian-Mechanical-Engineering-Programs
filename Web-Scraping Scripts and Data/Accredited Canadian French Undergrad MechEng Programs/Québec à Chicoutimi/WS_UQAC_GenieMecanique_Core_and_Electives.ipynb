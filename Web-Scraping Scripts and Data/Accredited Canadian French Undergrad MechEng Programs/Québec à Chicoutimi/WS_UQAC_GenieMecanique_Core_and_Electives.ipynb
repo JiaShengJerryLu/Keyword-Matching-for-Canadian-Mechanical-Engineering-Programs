{
 "cells": [
  {
   "cell_type": "code",
   "execution_count": 1,
   "metadata": {},
   "outputs": [],
   "source": [
    "from bs4 import BeautifulSoup as soup\n",
    "from urllib.request import urlopen as ureq\n",
    "from selenium import webdriver\n",
    "import time\n",
    "import re"
   ]
  },
  {
   "cell_type": "code",
   "execution_count": 2,
   "metadata": {},
   "outputs": [],
   "source": [
    "url = \"https://programmes.uqac.ca/7947/officiel#plan\""
   ]
  },
  {
   "cell_type": "code",
   "execution_count": 3,
   "metadata": {},
   "outputs": [],
   "source": [
    "chrome_options = webdriver.ChromeOptions()\n",
    "chrome_options.add_argument('--ignore-certificate-errors')\n",
    "chrome_options.add_argument('--incognito')\n",
    "#chrome_options.add_argument('--headless')\n",
    "\n",
    "driver = webdriver.Chrome(\"C:\\\\Users\\\\jerry\\\\Downloads\\\\chromedriver\", options=chrome_options)"
   ]
  },
  {
   "cell_type": "code",
   "execution_count": 4,
   "metadata": {},
   "outputs": [],
   "source": [
    "driver.get(url)"
   ]
  },
  {
   "cell_type": "markdown",
   "metadata": {},
   "source": [
    "# 1. Collect course link texts for webdriver to click on"
   ]
  },
  {
   "cell_type": "code",
   "execution_count": 5,
   "metadata": {},
   "outputs": [],
   "source": [
    "page_soup = soup(driver.page_source, 'lxml')"
   ]
  },
  {
   "cell_type": "code",
   "execution_count": 7,
   "metadata": {},
   "outputs": [
    {
     "data": {
      "text/plain": [
       "13"
      ]
     },
     "execution_count": 7,
     "metadata": {},
     "output_type": "execute_result"
    }
   ],
   "source": [
    "tables = page_soup.find(\"div\", {\"id\": \"texte\"}).findAll(\"table\")\n",
    "len(tables)"
   ]
  },
  {
   "cell_type": "code",
   "execution_count": 10,
   "metadata": {},
   "outputs": [
    {
     "data": {
      "text/plain": [
       "102"
      ]
     },
     "execution_count": 10,
     "metadata": {},
     "output_type": "execute_result"
    }
   ],
   "source": [
    "link_texts0 = [container.text.strip() for table in tables for container in table.findAll(\"a\")]\n",
    "len(link_texts)"
   ]
  },
  {
   "cell_type": "code",
   "execution_count": 11,
   "metadata": {
    "scrolled": true
   },
   "outputs": [
    {
     "data": {
      "text/plain": [
       "['6DDG100',\n",
       " '6GEI218',\n",
       " '6GEI322',\n",
       " '6GEN106',\n",
       " '6GEN136',\n",
       " '6GEN248',\n",
       " '6GEN480',\n",
       " '6GIN250',\n",
       " '6GIN275',\n",
       " '6GIN308',\n",
       " '6GIN440',\n",
       " '6GIN445',\n",
       " '6GIN600',\n",
       " '6GIN630',\n",
       " '6GMC108',\n",
       " '6GMC205',\n",
       " '6GMC255',\n",
       " '6GMC305',\n",
       " '6GMC320',\n",
       " '6GMC331',\n",
       " '6GMC352',\n",
       " '6GMC415',\n",
       " '6GMC425',\n",
       " '6GMC513',\n",
       " '6GMC520',\n",
       " '6GMC527',\n",
       " '6GMC601',\n",
       " '6GMC628',\n",
       " '6GMC701',\n",
       " '6GMC765',\n",
       " '6GMX110',\n",
       " '6GNC100',\n",
       " '8GEN444',\n",
       " '8GEN455',\n",
       " '8MAP107',\n",
       " '8MAP111',\n",
       " '8MAP120',\n",
       " '2GEN701',\n",
       " '2GEN702',\n",
       " '6GIN260',\n",
       " '6GMC642',\n",
       " '6GMC643',\n",
       " '6GCI122',\n",
       " '6GMC147',\n",
       " '6GMC280',\n",
       " '6GMC328',\n",
       " '6GMC420',\n",
       " '6GMC608',\n",
       " '6GMC630',\n",
       " '6TIN193',\n",
       " '6GIN775',\n",
       " '2DRA102',\n",
       " '2ECO500',\n",
       " '2MAN115',\n",
       " '4ANT129',\n",
       " '4HIS572',\n",
       " '4SOC133',\n",
       " '1CHM141',\n",
       " '1PHY141',\n",
       " '6GEI218',\n",
       " '6GEN106',\n",
       " '6GEN136',\n",
       " '6GEN248',\n",
       " '6GEN480',\n",
       " '6GIN250',\n",
       " '6GIN275',\n",
       " '6GIN308',\n",
       " '6GIN440',\n",
       " '6GIN445',\n",
       " '6GIN600',\n",
       " '6GIN630',\n",
       " '6GMC108',\n",
       " '6GMC205',\n",
       " '6GMC255',\n",
       " '6GMC305',\n",
       " '6GMC320',\n",
       " '6GMC331',\n",
       " '6GMC352',\n",
       " '6GMC415',\n",
       " '6GMC425',\n",
       " '6GMC513',\n",
       " '6GMC520',\n",
       " '6GMC527',\n",
       " '6GMC601',\n",
       " '6GMC628',\n",
       " '6GMC701',\n",
       " '6GMC765',\n",
       " '6GMX110',\n",
       " '6GNC100',\n",
       " '8GEN444',\n",
       " '8GEN455',\n",
       " '8GMA102',\n",
       " '8MAP107',\n",
       " '8MAP111',\n",
       " '8MAP120',\n",
       " '8MAT142',\n",
       " '2GEN701',\n",
       " '2GEN702',\n",
       " '6GIN260',\n",
       " '6GMC642',\n",
       " '6GMC643',\n",
       " '6GIN775']"
      ]
     },
     "execution_count": 11,
     "metadata": {},
     "output_type": "execute_result"
    }
   ],
   "source": [
    "link_texts0"
   ]
  },
  {
   "cell_type": "code",
   "execution_count": 12,
   "metadata": {
    "scrolled": true
   },
   "outputs": [
    {
     "data": {
      "text/plain": [
       "[('6GEI218', 2),\n",
       " ('6GEN106', 2),\n",
       " ('6GEN136', 2),\n",
       " ('6GEN248', 2),\n",
       " ('6GEN480', 2),\n",
       " ('6GIN250', 2),\n",
       " ('6GIN275', 2),\n",
       " ('6GIN308', 2),\n",
       " ('6GIN440', 2),\n",
       " ('6GIN445', 2),\n",
       " ('6GIN600', 2),\n",
       " ('6GIN630', 2),\n",
       " ('6GMC108', 2),\n",
       " ('6GMC205', 2),\n",
       " ('6GMC255', 2),\n",
       " ('6GMC305', 2),\n",
       " ('6GMC320', 2),\n",
       " ('6GMC331', 2),\n",
       " ('6GMC352', 2),\n",
       " ('6GMC415', 2),\n",
       " ('6GMC425', 2),\n",
       " ('6GMC513', 2),\n",
       " ('6GMC520', 2),\n",
       " ('6GMC527', 2),\n",
       " ('6GMC601', 2),\n",
       " ('6GMC628', 2),\n",
       " ('6GMC701', 2),\n",
       " ('6GMC765', 2),\n",
       " ('6GMX110', 2),\n",
       " ('6GNC100', 2),\n",
       " ('8GEN444', 2),\n",
       " ('8GEN455', 2),\n",
       " ('8MAP107', 2),\n",
       " ('8MAP111', 2),\n",
       " ('8MAP120', 2),\n",
       " ('2GEN701', 2),\n",
       " ('2GEN702', 2),\n",
       " ('6GIN260', 2),\n",
       " ('6GMC642', 2),\n",
       " ('6GMC643', 2),\n",
       " ('6GIN775', 2),\n",
       " ('6DDG100', 1),\n",
       " ('6GEI322', 1),\n",
       " ('6GCI122', 1),\n",
       " ('6GMC147', 1),\n",
       " ('6GMC280', 1),\n",
       " ('6GMC328', 1),\n",
       " ('6GMC420', 1),\n",
       " ('6GMC608', 1),\n",
       " ('6GMC630', 1),\n",
       " ('6TIN193', 1),\n",
       " ('2DRA102', 1),\n",
       " ('2ECO500', 1),\n",
       " ('2MAN115', 1),\n",
       " ('4ANT129', 1),\n",
       " ('4HIS572', 1),\n",
       " ('4SOC133', 1),\n",
       " ('1CHM141', 1),\n",
       " ('1PHY141', 1),\n",
       " ('8GMA102', 1),\n",
       " ('8MAT142', 1)]"
      ]
     },
     "execution_count": 12,
     "metadata": {},
     "output_type": "execute_result"
    }
   ],
   "source": [
    "from collections import Counter\n",
    "Counter(link_texts0).most_common()"
   ]
  },
  {
   "cell_type": "code",
   "execution_count": 13,
   "metadata": {},
   "outputs": [
    {
     "data": {
      "text/plain": [
       "61"
      ]
     },
     "execution_count": 13,
     "metadata": {},
     "output_type": "execute_result"
    }
   ],
   "source": [
    "link_texts = list(dict.fromkeys(link_texts0))\n",
    "len(link_texts)"
   ]
  },
  {
   "cell_type": "markdown",
   "metadata": {},
   "source": [
    "# 2. Test run - try to scrape first course"
   ]
  },
  {
   "cell_type": "code",
   "execution_count": 14,
   "metadata": {},
   "outputs": [],
   "source": [
    "driver.find_element_by_link_text(link_texts[0]).click()"
   ]
  },
  {
   "cell_type": "code",
   "execution_count": 15,
   "metadata": {},
   "outputs": [],
   "source": [
    "page_soup = soup(driver.page_source, 'lxml')"
   ]
  },
  {
   "cell_type": "code",
   "execution_count": 16,
   "metadata": {},
   "outputs": [
    {
     "data": {
      "text/plain": [
       "'6DDG100'"
      ]
     },
     "execution_count": 16,
     "metadata": {},
     "output_type": "execute_result"
    }
   ],
   "source": [
    "course_code = page_soup.find(\"div\", {\"id\": \"texte\"}).find(\"span\", {\"class\": \"noprog\"}).text.strip()\n",
    "course_code"
   ]
  },
  {
   "cell_type": "code",
   "execution_count": 18,
   "metadata": {},
   "outputs": [
    {
     "data": {
      "text/plain": [
       "'Sciences graphiques'"
      ]
     },
     "execution_count": 18,
     "metadata": {},
     "output_type": "execute_result"
    }
   ],
   "source": [
    "course_name = page_soup.find(\"div\", {\"id\": \"texte\"}).find(\"h1\").text.strip()\n",
    "course_name"
   ]
  },
  {
   "cell_type": "code",
   "execution_count": 22,
   "metadata": {},
   "outputs": [
    {
     "data": {
      "text/plain": [
       "\" Introduire à un langage universel  de la conception mécanique et au dessin\\ntechnique.  Permettre au concepteur de communiquer ses idées aux fins d'analyse\\noù de fabrication. Habiliter à la visualisation et à l'interprétation en\\nemployant le dessin sur papier et les méthodes assistées par ordinateur DAO.\\nDévelopper la capacité à penser en trois dimensions en visualisant et manipulant\\ndivers objets réels et en les représentant de façon adéquate par les différentes\\nméthodes du dessin technique. Rappels géométriques. Instruments de base. Tracés géométriques. Croquis et\\ndescription de forme. Dessin à vues multiples. Coupes et sections. Conventions\\nde représentation particulières. Vues auxiliaires. Cotation. Tolérances et\\najustements. Classification des projections. Intersections et développements.\\nNotions de lecture de plans. Introduction aux différents langages de dessin\\nassisté par ordinateur (DAO et CAO). Les différentes notions du cours sont mises\\nen application par des exemples et devoirs lors des séances de travaux dirigés.\""
      ]
     },
     "execution_count": 22,
     "metadata": {},
     "output_type": "execute_result"
    }
   ],
   "source": [
    "course_desc_containers = page_soup.find(\"div\", {\"id\": \"texte\"}).findAll(\"p\")\n",
    "course_desc = [container.text.strip() for container in course_desc_containers if (not bool(re.match(\"\\([0-9\\. cr]\\)\", container.text.strip())) and not bool(re.match(\"Formule pédagogique :\", container.text.strip())) and not bool(re.match(\"Groupe [0-9]{2} \", container.text.strip())))]\n",
    "course_desc = \" \".join(course_desc)\n",
    "course_desc"
   ]
  },
  {
   "cell_type": "code",
   "execution_count": 23,
   "metadata": {},
   "outputs": [
    {
     "data": {
      "text/plain": [
       "\" Introduire à un langage universel  de la conception mécanique et au dessin technique.  Permettre au concepteur de communiquer ses idées aux fins d'analyse où de fabrication. Habiliter à la visualisation et à l'interprétation en employant le dessin sur papier et les méthodes assistées par ordinateur DAO. Développer la capacité à penser en trois dimensions en visualisant et manipulant divers objets réels et en les représentant de façon adéquate par les différentes méthodes du dessin technique. Rappels géométriques. Instruments de base. Tracés géométriques. Croquis et description de forme. Dessin à vues multiples. Coupes et sections. Conventions de représentation particulières. Vues auxiliaires. Cotation. Tolérances et ajustements. Classification des projections. Intersections et développements. Notions de lecture de plans. Introduction aux différents langages de dessin assisté par ordinateur (DAO et CAO). Les différentes notions du cours sont mises en application par des exemples et devoirs lors des séances de travaux dirigés.\""
      ]
     },
     "execution_count": 23,
     "metadata": {},
     "output_type": "execute_result"
    }
   ],
   "source": [
    "course_desc = course_desc.replace(\"\\n\", \" \")\n",
    "course_desc"
   ]
  },
  {
   "cell_type": "code",
   "execution_count": 24,
   "metadata": {},
   "outputs": [],
   "source": [
    "driver.back()"
   ]
  },
  {
   "cell_type": "markdown",
   "metadata": {},
   "source": [
    "# 3. Test run complete. Implement automation script to scrape all courses"
   ]
  },
  {
   "cell_type": "code",
   "execution_count": 28,
   "metadata": {},
   "outputs": [
    {
     "name": "stdout",
     "output_type": "stream",
     "text": [
      "Scraped  6DDG100 Sciences graphiques \n",
      "  Introduire à un langage universel  de la conception mécanique et au dessin technique.  Permettre au concepteur de communiquer ses idées aux fins d'analyse où de fabrication. Habiliter à la visualisation et à l'interprétation en employant le dessin sur papier et les méthodes assistées par ordinateur DAO. Développer la capacité à penser en trois dimensions en visualisant et manipulant divers objets réels et en les représentant de façon adéquate par les différentes méthodes du dessin technique. Rappels géométriques. Instruments de base. Tracés géométriques. Croquis et description de forme. Dessin à vues multiples. Coupes et sections. Conventions de représentation particulières. Vues auxiliaires. Cotation. Tolérances et ajustements. Classification des projections. Intersections et développements. Notions de lecture de plans. Introduction aux différents langages de dessin assisté par ordinateur (DAO et CAO). Les différentes notions du cours sont mises en application par des exemples et devoirs lors des séances de travaux dirigés.\n",
      "1 courses scraped\n",
      "\n",
      "Scraped  6GEI218 Circuits électriques \n",
      "  Analyser les circuits électriques en appliquant les lois d'Ohms et de Kirchhoff, les méthodes des tensions de noeud et des courants de maille, les théorèmes de Thévenin, de Norton, et de superposition. Établir des modèles dynamiques et analyser les transitoires des circuits électriques de premier et de deuxième ordre. Éléments de base des circuits électriques: tension, courant, résistance, inductance, condensateur, sources indépendantes, sources contrôlées. Lois d'Ohm et de Kirchhoff. Analyse des circuits en régime continu: méthode des tensions de noeud, méthode des courants de maille. Théorèmes de Thévenin et de Norton, superposition. Analyse transitoire des circuits en continu de premier et de deuxième ordre (RL, RC, RLC).\n",
      "2 courses scraped\n",
      "\n",
      "Scraped  6GEI322 Électrotechnique \n",
      "  Rendre l'étudiant apte à utiliser les principes fondamentaux d'électromagnétisme et les principes de conversion électromécanique de l'énergie pour calculer les performances des machines électriques. Les circuits monophasés: terminologie, opération élémentaire sur les phaseurs, étude du régime permanent dans un circuit R, L, C (notion d'impédance). Puissance des courants alternatifs sinusoïdaux, facteur de puissance, facturation électrique. Les circuits triphasés: terminologie, représentation des systèmes triphasés équilibrés, groupement des circuits triphasés, puissance dans les systèmes triphasés équilibrés, couplage des récepteurs en étoile et en triangle, transformation étoile - triangle, mesure de puissance en circuit triphasé, intérêt des systèmes triphasés, correction de facteur de puissance.  Rappel des notions fondamentales d'électromagnétisme. Circuits magnétiques: calcul des circuits magnétiques, circuits couplés, énergie magnétique emmagasinée, phénomène d'hystérésis, puissance et pertes dans le noyau, schéma électrique équivalent d'une bobine, chauffage par induction, aimants permanents. Transformateurs: définition transformateur parfait, transformateur réel, rendement d'un transformateur, transformateur triphasé, transformateurs spéciaux. Machines tournantes à courant continu: rappel des lois fondamentales, génératrice à courant continu, principe de fonctionnement des moteurs à courant continu et alternatifs, principes directeurs de choix de moteurs pour une application, contrôle de la vitesse des moteurs à courant continu, moteur série universel. Introduction aux circuits de puissance et à la sécurité électrique: risques, liés aux défauts d'isolement, pour la sécurité des personnes et des biens; Schéma des Liaisons à la Terre (Régimes du neutre); distribution industrielle.\n",
      "3 courses scraped\n",
      "\n",
      "Scraped  6GEN106 Ingénierie: méthodes et pratique I (génie mécanique) \n",
      "  Présenter les divers aspects de la profession d'ingénieur et faire acquérir les notions importantes liées à la résolution de problèmes d'ingénierie.  Initier au travail en équipe (rôles, responsabilités, gestion) ainsi qu'à des méthodes de communication efficaces, tant écrites qu'orales. Profession d'ingénieur: formation universitaire, nature du travail, spécialités, réalisations typiques, responsabilités, éthique, cadres normatif et légal, salaires, marché du travail, stages en entreprise, relations entre l'ingénieur et les autres professionnels (architectes, techniciens, ...).  Résolution de problèmes: types de problèmes, causes et effets, identification des besoins, objectifs et contraintes, méthodes de résolution, identification d'une solution.  Travail en équipe: les étapes de création d'une équipe, la définition des rôles, responsabilités et règles de pratique, la communication et l'attitude.  Communication: les règles à suivre pour une communication efficace, le processus d'écriture, la génération, le développement et l'organisation des idées, la structure générale d'un rapport et d'une présentation.  Élaboration d'un dossier professionnel.\n",
      "4 courses scraped\n",
      "\n",
      "Scraped  6GEN136 Ingénierie: méthodes et pratique II (génie mécanique) \n",
      "  Poursuivre la formation en ce qui concerne le processus de résolution de problèmes d'ingénierie. Intégrer des notions liées à un processus d'investigation lorsque les problèmes sont complexes et requièrent la réalisation d'expériences, l'analyse et l'interprétation des données, de même que la synthèse de l'information et la formulation de conclusions. Être efficace dans un travail en équipe et à produire des communications de qualité, tant écrites qu'orales. Analyse, investigation et conception: par une méthodologie hybride de classe inversée et d'exposés magistraux ainsi que par la réalisation d'un projet d'ingénierie en équipe sous la supervision d'un conseiller-expert, l'étudiant apprendra la maîtrise d'une approche rigoureuse et scientifique à la réalisation d'un projet. L'accent principal sera mis sur les trois phases suivantes de la réalisation d'un projet: l'analyse, l'investigation et la conception. Approfondissement de la théorie, le fonctionnement et la mise en oeuvre de ces notions. Travail en équipe et communication: par la réalisation de divers travaux en groupe, d'un projet de conception, la production de rapports et la présentation des travaux réalisés, l'étudiant sera amené au développement du sens des responsabilités et d'imputabilité dans un travail en équipe ainsi qu'à améliorer la qualité de ses communications.\n",
      "5 courses scraped\n",
      "\n",
      "Scraped  6GEN248 Informatique pour l'ingénieur \n",
      "  Rendre apte à résoudre des problèmes de sciences et de génie par la  programmation structurée de l'ordinateur. Structure de l'ordinateur. Les concepts de base en programmation. Analyse du problème, algorithme et organigrammes. Apprentissage d'un langage et application à la solution de problèmes d'ingénierie. Opérations en mode interactif: commandes essentielles d'édition et de mise à jour, traitement des fichiers. Programmation structurée: programmation descendante, organisation modulaire, vérification, documentation. Programmes interactifs. Utilisation de logiciels (MATLAB, traitement de texte, etc.).\n",
      "6 courses scraped\n",
      "\n",
      "Scraped  6GEN480 Dossier professionnel \n",
      "  Valider l'atteinte des objectifs de formation propres au programme sur la  base des évaluations réalisées lors des cours suivis antérieurement. Amener  l'étudiant à réaliser une démarche de formation  autonome et, par la suite,  démontrer l'atteinte des douze qualités (compétences) attendues des finissants  du programme. Étude du dossier de suivi de formation (dossier professionnel) rédigé par l'étudiant durant les trimestres antérieurs. Analyse des qualités acquises par l'étudiant et comparaison avec celles exigées par l'organisme régissant la formation des ingénieurs. Identification des lacunes, s'il y a lieu. Élaboration d'un plan de formation sur mesure pour combler ces dernières. Réalisation de ce plan durant le trimestre en cours.\n",
      "7 courses scraped\n",
      "\n",
      "Scraped  6GIN250 Santé, sécurité et ingénierie \n",
      "  Faire découvrir et comprendre  la problématique de la santé et de la sécurité en relation avec l'ingénierie. Importance de la santé et de la sécurité du travail.  Lois sur la santé et la sécurité du travail.  Obligations légales et professionnelles de l'ingénieur face à la protection de la personne et du public.  Notions de base en ergonomie, hygiène du travail et maladies professionnelles.  Connaissance du milieu et risques principaux:  physiques, chimiques, biomécaniques.  Carte ASP construction.\n",
      "8 courses scraped\n",
      "\n"
     ]
    },
    {
     "name": "stdout",
     "output_type": "stream",
     "text": [
      "Scraped  6GIN275 Ingénierie et éthique \n",
      "  Familiariser  à une démarche éthique en relation avec la pratique de  l'ingénierie et le préparer à une pratique professionnelle conforme à la  déontologie des ingénieurs. L'éthique de l'ingénierie.  Diversité des conceptions de l'éthique. Description d'une démarche éthique en quatre phases:  prise de conscience de la situation, clarification des valeurs conflictuelles de la situation, prise de décision éthique, établissement d'un dialogue entre personnes impliquées. Utilisation d'une grille d'analyse.  Professionnalisation et société moderne. Système professionnel québécois.  Structure et contenu du code de déontologie des ingénieurs québécois.  Tendances actuelles en éthique de l'ingénierie.  Rôle et responsabilité des ingénieurs et autres décideurs en ingénierie dans le contexte actuel du développement   technologique et principaux enjeux:   la productivité industrielle, la sécurité du public et l'environnement.\n",
      "9 courses scraped\n",
      "\n",
      "Scraped  6GIN308 Impact des projets d'ingénierie \n",
      "  Familiariser aux principes généraux de la réalisation d'études d'impacts  sociaux et environnementaux découlant de projets d'ingénierie. Structure, fonctionnement et équilibre de la biosphère.  Interrelations entre environnements physiques, chimiques et biologiques.  Quantification des phénomènes écologiques.  Étude d'impacts en relation avec des projets d'ingénierie:  étapes essentielles, paramètres environnementaux, identification et évaluation des impacts environnementaux et sociaux, approche économique, quantification des répercussions, mesures compensatoires, choix des options, rédaction d'un rapport, consultation publique.\n",
      "10 courses scraped\n",
      "\n",
      "Scraped  6GIN440 Projet de synthèse en ingénierie I \n",
      "  Amener à réaliser, en équipe, la première partie d'un projet de conception d'envergure en utilisant les connaissances et les habiletés acquises dans les cours précédents. Démontrer sa capacité à analyser des problèmes d'ingénierie complexes, trouver des solutions possibles et identifier parmi ces dernières une solution répondant aux besoins spécifiés, tout en tenant compte des risques pour la santé et la sécurité publiques, des aspects législatifs et réglementaires, des normes, ainsi que des incidences économiques, environnementales, culturelles et sociales. Agir de manière professionnelle, autant durant la réalisation du projet que dans les communications que ce dernier aura à produire. Besoins et exigences de tous les intervenants (cahier des charges). Réalisation d'une revue de l'état de l'art. Informations relatives aux codes et standards généralement employés dans le cas. Répertoire et résumé des préoccupations sociales, professionnelles et de développement durable touchant le problème. Méthodes de recherche de solutions. Adaptation des solutions existantes pour des problèmes similaires. Modèles, prototypes, ou autres outils pour évaluer certains choix. Outils de décision utilisant plusieurs critères. Résultats d'expérience et d'analyse afin de sélectionner certaines options. Consultation des experts et des intervenants afin d'évaluer certaines options. Réalisation d'un concept ou un plan de réalisation. Design détaillé. Amélioration de manière évolutive d'un concept. Différents rôles d'un professionnel, comme un ingénieur, et d'un ordre professionnel, comme l'OIQ, en particulier dans la sécurité du public. Concepts de base en matière de santé et de sécurité, d'environnement et de développement durable, de l'intérêt et du bien du public. Aspects du risque pour le public et l'environnement. Identification et appropriation des valeurs d'un professionnel. Différents types de bénéfices économiques et financiers ainsi que les coûts liés à une activité d'ingénierie. Estimation crédible des coûts et des bénéfices. Évaluation de l'imprécision des estimés. Mesures de performance économique et financière pour une activité d'ingénierie. Alternative la plus appropriée basée sur des considérations économiques et financières. Implications de l'inflation, des taxes et des incertitudes sur ces valeurs. Tâches requises pour compléter une activité d'ingénierie ainsi que les ressources requises pour la finaliser. Calendrier des tâches et des ressources requises afin de compléter à temps une activité d'ingénierie selon le budget prévu.\n",
      "11 courses scraped\n",
      "\n",
      "Scraped  6GIN445 Projet de synthèse en ingénierie II \n",
      "  Amener à réaliser, en équipe, la seconde partie du projet débuté dans le cadre du cours Projet de synthèse I. Démontrer sa capacité à analyser des problèmes d'ingénierie complexes, trouver des solutions possibles et identifier parmi ces dernières une solution répondant aux besoins spécifiés, tout en tenant compte des risques pour la santé et la sécurité publiques, des aspects législatifs et réglementaires, des normes, ainsi que des incidences économiques, environnementales, culturelles et sociales. Agir de manière professionnelle, autant durant la réalisation du projet que dans les communications que ce dernier aura à produire. Toutes les phases du projet, incluant les documents s'y rattachant, seront systématiquement évaluées et commentées par un professeur-ingénieur, tant sur le plan du contenu que de la forme. Une pondération significative de l'évaluation est rattachée à ce point de même que sur la gestion du projet.\n",
      "12 courses scraped\n",
      "\n",
      "Scraped  6GIN600 Optimisation \n",
      "  Rendre apte à utiliser une approche systématique et scientifique pour générer, analyser et comparer différents scénarios conduisant à la prise de décision technique et/ou économique. Concept et théorie de la valeur, théorie de la décision, formulation du problème d'optimisation, méthode classique d'optimisation analytique, optimisation des systèmes linéaires, optimisation des systèmes non linéaires, optimisation des systèmes séquentiels (programmation dynamique, méthode PERT), exemples d'optimisation, concept et théorie de la fiabilité.\n",
      "13 courses scraped\n",
      "\n",
      "Scraped  6GIN630 Économique du génie \n",
      "  Sensibiliser aux aspects économiques qui interviennent en général dans le champ professionnel de l'ingénieur, particulièrement en ce qui a trait aux processus décisionnels.  De façon plus spécifique, on prétend, dans ce cours, donner une bonne connaissance de l'environnement économique dans lequel nous vivons, une bonne connaissance de l'entreprise, de ses dynamiques et des outils aidant à la  prise de décision. Ingénierie et processus décisionnel.  Macro-économie, politiques gouvernementales, croissance économique.  La firme, formes légales, flux financiers et états financiers: description et analyse.  Analyse des coûts, estimation, structure de coûts.  Mathématiques financières.  Projets d'investissement, description et techniques d'analyse de faisabilité.  Fiscalité canadienne.  Problèmes d'application.  Marchés financiers, structure financière et coût du capital.\n",
      "14 courses scraped\n",
      "\n",
      "Scraped  6GMC108 Mécanique pour ingénieur \n",
      "  Rendre apte à calculer les forces et les déplacements dans les systèmes mécaniques en utilisant les lois régissant l'équilibre statique et dynamique des corps rigides dans le plan et l'espace. Opérations sur les forces, les moments et les couples à l'aide du calcul  vectoriel. Évaluation de la force, du moment et du torseur résultant d'un  système de forces. Caractéristiques des liaisons et isolation des corps simples  et composés. Équilibre des corps rigides dans le plan et dans l'espace. Étude  des treillis, charpentes et mécanismes. Frottement sec dans les machines.  Évaluation de propriétés : centre de gravité, centroïde, moments d'inertie de  section et de masse.  Introduction aux quantités reliées au mouvement avec ou  sans collisions, à l'aide des équations de la cinématique et de la cinétique  pour un système de points matériels.\n",
      "15 courses scraped\n",
      "\n",
      "Scraped  6GMC205 Dynamique \n",
      "  Rendre apte à prédire le mouvement de systèmes complexes tels que la trajectoire d'aéronefs, le mouvement d'objet en collisions multiples, le mouvement de bras robotisés sous l'effet de couples moteur ou encore à établir les équations du mouvement pour le contrôle des machines. Étude des mécanismes en ingénierie : frottement sec et frottement dans les machines, point de glissement dans les virages, mouvement des particules et des corps rigides, système de vilebrequin, comportement des poulies à géométrie variable, entraînement par croix de Malte, mouvement absolu et relatif, bras articulés avec interconnections multiples, mouvement des engrenages planétaires dans les transmissions mécaniques, systèmes de localisation par radars, en utilisant les notions de la cinématique et de la cinétique. Application des notions de force, accélération, travail, énergie, quantité de mouvement et impulsion à l'ingénierie : impact de voitures, changements de vitesse dus aux glissements, forces résultantes d'un jet liquide, comportement d'un aéronef lors du lancement d'une charge, articulation de systèmes mécaniques, mécanismes à ressorts, introduction aux oscillations mécaniques.\n",
      "16 courses scraped\n",
      "\n"
     ]
    },
    {
     "name": "stdout",
     "output_type": "stream",
     "text": [
      "Scraped  6GMC255 Conception assistée par ordinateur \n",
      "  Transmettre les connaissances permettant de solutionner différents problèmes  d'ingénierie tels que la flexion et la torsion des poutres, les contraintes  dans les engrenages, le transfert de chaleur et la mécanique des fluides par la  méthode des éléments finis.  Développer les capacités nécessaires pour évaluer  la précision et la validité des résultats et interpréter les types de  contraintes, les profils de vitesse et de température calculés et leurs  adéquations. Application des éléments finis en ingénierie.  Solution aux différents  problèmes d'ingénierie tels que la flexion et la torsion des poutres, les  contraintes dans les engrenages, le transfert de chaleur et la mécanique des  fluides.  Type d'éléments finis, formulation par résidus pondérés et  variationnelle.  Concept de la méthode: structures discrètes, assemblage,  résolution, discrétisation de systèmse physiques continus, approximation nodale, transformation de coordonnées, maillage automatique.  Utilisation de logiciels  commerciaux pour la conception et l'analyse des contraintes dans les pièces  mécaniques.\n",
      "17 courses scraped\n",
      "\n",
      "Scraped  6GMC305 Thermodynamique I \n",
      "  Amener à appliquer les principes de la thermodynamique pour prévoir et analyser le comportement des systèmes et procédés énergétiques utilisés en ingénierie. Concepts de base et définitions. Propriétés des substances pures. Méthodes pratiques pour la détermination des propriétés des substances; utilisation des équations d'état et des diagrammes de phases. Application du principe de conservation d'énergie aux systèmes avec et sans écoulement. Analyse des cycles thermodynamiques et applications du deuxième principe : cycles de puissance, moteurs, turbines à gaz et à vapeur, réfrigérateurs et thermopompes. Fonctionnement de turbines, de moteurs et de compresseurs réels;  étranglement.\n",
      "18 courses scraped\n",
      "\n",
      "Scraped  6GMC320 Résistance des matériaux \n",
      "  Rendre apte à évaluer le comportement linéaire des corps solides déformables  soumis à des sollicitations multiples dans le domaine élastique. Rappel des notions fondamentales de la statique. Notion de contrainte, déformation et de relation constitutive. Charges distribuées. Efforts internes dans les poutres droites : définitions, calculs, expressions algébriques, diagrammes. Contraintes et déformations produites par l'effort normal, le moment fléchissant, l'effort tranchant et le couple de torsion. Déflexion des poutres : relations différentielles de base, double intégration, fonctions de singularité, méthode des moments d'aire, méthode de superposition, application aux poutres hyperstatiques, flèche sous l'effet de l'effort tranchant. Principe de superposition des contraintes : état plan, contraintes principales, cercle de Mohr, état tridimensionnel. Les déformations : état plan, déformations principales, cercle de Mohr, état tridimensionnel, mesures. Relations contrainte - déformation - température : équations de l'élasticité linéaire, énergie de déformation.\n",
      "19 courses scraped\n",
      "\n",
      "Scraped  6GMC331 Transfert de chaleur \n",
      "  Rendre apte à analyser et à calculer les échanges de chaleur par conduction,  convection et rayonnement. Introduction, principes du transfert de chaleur. Conduction en régime établi. Résistance thermique. Plaques, cylindres, sphères; systèmes multicouches. Ailettes de refroidissement. Conduction en régime transitoire. Équation différentielle de la conduction de chaleur, condition initiale et conditions aux limites. Résistance interne ou superficielle négligeable. Conduction avec sources de chaleur internes. Nombres adimensionnels, solutions analytiques et numériques. Analyse du transfert de chaleur convectif. Convection naturelle et convection forcée; écoulements extérieurs et internes; théorie de similitude. Transfert de chaleur avec changement de phase. Ébullition et condensation. Rayonnement thermique; loi de Planck, de Stefan-Boltzmann et de Wien. Caractéristiques spectrales et directionnelles, loi de Lambert et de Kirchhoff. Calcul d'échange radiatif entre deux corps solides, facteur de vue. Applications: échangeurs de chaleur, caloducs, refroidissement des appareils électroniques, méthodes d'intensification et de suppression du transfert de chaleur.\n",
      "20 courses scraped\n",
      "\n",
      "Scraped  6GMC352 Vibrations et acoustique \n",
      "  Introduire à la théorie des vibrations et acoustique. Rendre apte à analyser les vibrations des systèmes mécaniques et leurs effets nuisibles, à concevoir des machines et des structures qui seront dynamiquement acceptables et procéder à l'estimation acoustique de différentes sources de bruit. Apprendre à choisir les techniques nécessaires pour réduire le bruit. Vibrations à un et plusieurs degrés de liberté: libres, forcées amorties. Excitation par force constante par balourd et par mouvement du support. Amortissement et décrément logarithmique. Isolation des machines et équilibrage. Capteurs. Diagnostic vibratoire des troubles mécaniques. Valeurs propres et vecteurs propres. Vibrations et bruits. Acoustique. Aspects physiques et physio-psycho-sociologiques de l'onde sonore. Normes et législations du bruit admissible. Instruments de mesure acoustique. Estimation acoustique de sources de bruit.\n",
      "21 courses scraped\n",
      "\n",
      "Scraped  6GMC415 Mécanique des fluides \n",
      "  Rendre apte à utiliser les notions de base de la mécanique des fluides pour calculer les principales variables caractérisant les écoulements dans des  contextes qui intéressent l'ingénieur. Propriétés et définitions: milieu continu, viscosité, densité, pression. Statique: loi fondamentale, force de pression d'un liquide sur des parois planes ou courbes, théorème d'Archimède, corps flottants. Cinématique: variables de Lagrange, d'Euler, vitesse d'écoulement, accélération, trajectoire, ligne de courant. Dynamique: équation de continuité, équation d'Euler, théorème de Bernoulli, équation d'énergie, théorèmes des débits de quantité de mouvement et des moments de quantité de mouvement, applications diverses. Écoulements irrotationnels: potentiel de vitesses, fonctions de courant, écoulements de révolution, écoulements plans, propriétés de réseaux. Écoulements visqueux: équation de Navier-Stokes, solutions simples. Analyse dimensionnelle: paramètres adimensionnels, théorème de Buckingham, similitude, modèles réduits. Écoulement dans les conduites fermées : facteur de friction, pertes de charge.\n",
      "22 courses scraped\n",
      "\n",
      "Scraped  6GMC425 Mécanique des solides \n",
      "  Poursuivre l'étude du comportement mécanique des corps solides au-delà des notions élémentaires déjà acquises en résistance des matériaux. Préparer également les étudiants des programmes en génie mécanique et en ingénierie de l'aluminium aux cours avancés de calcul et conception des machines, de  charpentes et de structures. Rappel des notions fondamentales de résistance des matériaux.  Notion d'inertie principale. Notions avancées en théorie des poutres: les poutres hétérogènes, la flexion gauche (pure et simple), le centre de cisaillement, calcul des flèches. Critères de défaillance et contrainte admissible: écoulement des matériaux ductiles, rupture des matériaux fragiles, notion de critère de défaillance, fatigue dans les matériaux, facteur de sécurité. Méthodes énergétiques: principaux théorèmes de l'énergie de déformation, résolution de systèmes isostatiques et hyperstatiques. Comportement au-delà du domaine élastique: analyse limite pour les systèmes soumis à un chargement axial, en torsion et en flexion, réserve en ductilité. Instabilité élastique: stabilité d'une membrure rigide, stabilité d'une membrure élastique en flexion-compression, déversement latéral, voilement.\n",
      "23 courses scraped\n",
      "\n",
      "Scraped  6GMC513 Éléments de machine \n",
      "  Introduire au calcul et à la conception des principaux éléments normalisés  utilisés dans les systèmes mécaniques. Ressorts. Roulements à billes et à rouleaux: caractéristiques, friction,  vitesse limite, durée de vie, capacités de charge dynamique et statique, charge  radiale équivalente, fiabilité, relations fondamentales, méthodes de calcul,  montage des roulements. Engrenages droits et hélicoïdaux: normalisation,  cinématique, profils conjugués, efforts transmis, calcul de la denture, nombre  de dents en prise, interférence, jeux de fonctionnement, fabrication, règles de  design des trains d'engrenages. Freins et embrayages. Liens flexibles. Éléments  de graissage et de lubrification. Étanchéité.\n",
      "24 courses scraped\n",
      "\n"
     ]
    },
    {
     "name": "stdout",
     "output_type": "stream",
     "text": [
      "Scraped  6GMC520 Machines thermiques \n",
      "  Rendre apte à appliquer les notions de thermodynamique dans la conception et l'évaluation des diverses machines thermiques. Cycles fondamentaux des machines thermiques.  Centrale thermique utilisant la vapeur d'eau, cycle théorique et étude d'un cycle réel : chaudière, tuyauterie, turbine, condenseur, critères de choix d'une centrale thermique, choix des composantes, bilan thermique des usines.  Systèmes de réfrigération, cycle théorique et étude d'un cycle réel :  condenseur, évaporateur, compresseur, soupape de détente, critères de choix d'un réfrigérant.  Sources énergétiques et étude des combustibles, élément de combustion et énergie de réaction.  Turbines à gaz: cycle de Joule et son rendement, récupérateur, réchauffeur, chambre de combustion, type de carburant.  Turboréacteurs: cycle théorique, diffuseur, turbocompresseur, chambre de combustion, turbine tuyère, rendement global. Machine à combustion interne: moteur à allumage par bougies, moteurs à allumage par compression, moteurs à 2 temps, performance.  Compresseurs : classification et caractéristiques générales, compresseurs alternatifs, compresseurs volumétriques, turbocompresseurs, rendement et performance.\n",
      "25 courses scraped\n",
      "\n",
      "Scraped  6GMC527 Dynamique des fluides \n",
      "  Rendre apte à appliquer les concepts utilisés dans les principaux domaines  des fluides reliés à l'ingénierie (hydraulique, turbomachinerie,  aérodynamique). Description locale (viscosité, tourbillon, continuité, Navier-Stokes, etc.) du milieu fluide. Description globale du milieu fluide (flux, débit, circulation, équations de conservation). Définition des écoulements potentiels. Fonction potentielle et fonction de courant. Dynamique du tourbillon. Efforts non visqueux sur les structures. Définition des écoulements visqueux. Définition de la couche limite. Turbulence. Transition. Couche limite avec effet de pression. Séparation. Définition des turbomachines. Calcul des triangles de vitesses. Cavitation. Calcul de puissance dans les pompes, les turbines et les compresseurs. Description des profils d'aile. Calcul de portance et traînée sur les profils et les structures. Écoulement compressible. Onde de choc. Calcul d'écoulements dans les tuyères.\n",
      "26 courses scraped\n",
      "\n",
      "Scraped  6GMC601 Énergétique \n",
      "  Analyser les procédés, les besoins et les ressources énergétiques afin de concevoir des systèmes domestiques et industriels. Procédés et équipements pour la production, la transformation, le transport et l'utilisation des différentes formes d'énergie. Disponibilité, travail maximal, énergie. Conception et critères de sélection des échangeurs de chaleur. Méthodes et appareillages pour le stockage d'énergie. Ressources renouvelables. Cogénération et méthodes pratiques de conservation d'énergie. Climatisation, refroidissement et procédés industriels impliquant l'air humide. Conception de systèmes et de composantes pour le chauffage et pour le contrôle de l'humidité de l'air. Utilisation des thermopompes dans les bâtiments et pour les procédés industriels.\n",
      "27 courses scraped\n",
      "\n",
      "Scraped  6GMC628 Automatique industrielle \n",
      "  Introduire l'analyse et la conception des systèmes de contrôle industriels.  Rendre apte à concevoir une commande hybride séquentielle et continue d'un  procédé. Notion d'instrumentations: systèmes à grandeurs booléennes, système à grandeurs scalaires, acquisitions numériques et analogiques, capteurs industriels, communication réseau. Organisation et fonctionnement d'un système automatisé: organisation générale, les différentes technologies rencontrées dans les systèmes automatisés, exemples d'automatismes. Contrôle lié à la logique séquentielle: réalisation en technologie pneumatique, électrique et hydraulique. Contrôle par automate programmable PLC: diagramme en échelle, logique séquentielle, temporisateur, compteur et arithmétique. Contrôle des systèmes par la méthode du grafcet: grafcet de niveaux I et II, cahier des charges, schéma de réalisation en technologie électrique, pneumatique et hydraulique. Asservissement des procédés: boucle ouverte, boucle fermée, performance et technique de conception du PIDF sur un automate programmable. Introduction à la robotique: description de la géométrie du mécanisme, planification de trajectoires cartésiennes, commandes en position et en force. Application aux systèmes hydraulique ou pneumatique: principes de base, transmission de force, de pression, pertes de charges, énergie et puissance, rendements, dimensionnement des composantes.\n",
      "28 courses scraped\n",
      "\n",
      "Scraped  6GMC701 Calcul et conception de machines \n",
      "  Rendre apte à concevoir et à calculer les principaux organes d'une machine. Acquérir les connaissances nécessaires au niveau de la méthodologie et des  concepts du design. Compléments sur les propriétés des matériaux et sur l'analyse des contraintes. Processus du design (cahier de charges, définition du problème, incertitudes sur les contraintes et les déformations, coefficient de sécurité, fiabilité, optimisation).  Calcul de résistance des organes de machines (concentrations de contraintes, charges statiques, charges de fatigue).  Étude et comparaison de différents critères de rupture (théories de la contrainte normale maximum, de la contrainte tangentielle maximum, de l'énergie de distorsion, de Mohr, de Coulomb-Mohr, diagrammes de Goodman). Calcul des arbres de transmission (méthodes de l'A.S.M.E. et de Soderberg, introduction aux autres méthodes, procédure de calcul). Calcul des pièces mécaniques à partir de la déformation. Systèmes hyperstatiques. Méthodes énergétiques. Pièces soumises au flambage. Calcul des organes de liaison et d'assemblage (vis de transmission de mouvement, vis d'assemblage, organes de liaison travaillant en cisaillement, organes de liaison en rotation, organes d'arrêt en translation, soudures). Méthodologie du design. Étapes du design. Méthodes de recherche de solutions. Techniques de prise de décision. Analyse de la valeur.\n",
      "29 courses scraped\n",
      "\n",
      "Scraped  6GMC765 Laboratoire de systèmes mécaniques \n",
      "  Fournir les connaissances de base sur la tâche de l'ingénieur vis-à-vis le calcul, la conception, la fabrication, l'application et la comparaison des notions théoriques versus la pratique. Rendre apte à réaliser  des expériences  en laboratoire sur la conception et l'analyse des systèmes mécaniques. Conception et fabrication assistée par ordinateur : programmation en code G pour application de fraisage et de tournage (CNC). Analyse de phénomène de résonance et effet de l'amortissement. Robotique : contrôle et manipulation d'un robot à cinq axes, programmation d'une trajectoire d'un joint de soudure. Analyse des contraintes par photoélasticité et calcul de concentration de contraintes. Métrologie : mesures des rugosités; mesures des angles et de  conicité; contrôle de planéité. Paliers lisses. Introduction à l'hydraulique et la pneumatique. Calcul et conception d'un système de transmission : courroies, chaînes, roulements et engrenages. Équilibrage statique et dynamique des rotors.\n",
      "30 courses scraped\n",
      "\n",
      "Scraped  6GMX110 Matériaux de l'ingénieur \n",
      "  Rendre capable d'établir les relations fondamentales qui existent entre les  propriétés intrinsèques des matériaux et leurs structures. Classification des matériaux et méthodes de caractérisation.  Contraintes et déformations, propriétés et microstructures.  Essais normalisés.  Cohésion et rigidité.  Modélisation des liaisons atomiques.  Architecture atomique. Directions et plans cristallins.  Structures des solides cristallins.  Analyse cristallographique.  Les matériaux sous contrainte.  Résistance des matériaux fragiles.  Concentration de contraintes.  Fragilité.  Ténacité.  Matériaux monophasés et polyphasés.  Diagrammes d'équilibre binaires.  Solidification et limite de solubilité.  Modifications des propriétés.  Écrouissage.  Durcissement structural.  Système fer-carbone.  Système aluminium-cuivre.  Restauration des propriétés.  Durcissement des polymères.  Les propriétés mécaniques. Visco-élasticité et plasticité.  Fluage.  Fatigue.  Transition ductile-fragile. Dégradation des propriétés.  Corrosion en milieu aqueux. Types de corrosion. Potentiel électrochimique et couples galvaniques.  Protection des matériaux contre la corrosion.\n",
      "31 courses scraped\n",
      "\n"
     ]
    },
    {
     "name": "stdout",
     "output_type": "stream",
     "text": [
      "Scraped  6GNC100 Chimie pour l'ingénieur \n",
      "  Amener à faire le lien entre la production industrielle de biens de consommation de nature chimique ou métallurgique et les bases de la chimie industrielle. Différents thèmes sont présentés en faisant le lien entre la production industrielle et quelques notions de base : réactions réversible et irréversible, vitesse de réaction, réactions exothermique et endothermique, conversion, rendement et sélectivité, réactions électrochimiques et réactions de polymérisation. Les thèmes présentés sont : l'hydrogène, l'eau et l'énergie; le carbone, le pétrole, l'énergie et les gaz à effet de serre; le carbone, le pétrole et les plastiques; l'azote, les engrais et le milieu récepteur; l'aluminium, ses alliages et la corrosion; le fer, les aciers et la corrosion; le silicium et les circuits intégrés.\n",
      "32 courses scraped\n",
      "\n",
      "Scraped  8GEN444 Statistiques de l'ingénieur \n",
      "  Rendre l'étudiant apte à utiliser les méthodes statistiques telles que collection, présentation, analyse et interprétation de données numériques en ingénierie.  Concevoir des expériences dont le but est l'analyse, l'amélioration ou l'organisation d'un procédé industriel. Employer les méthodes statistiques appropriées à la solution de problèmes de production industrielle. Distribution empirique et histogrammes.  Dérivation expérimentale de  la distribution gaussienne et exponentielle. Notion de probabilité.   Fonctions et densités de probabilité.  Aléas continus et discontinus.  Densité  de probabilité bidimensionnelle.  Probabilité marginale et conditionnelle.   Aléas indépendants.  Approche bayesien.  Espérance mathématique.  Loi  normale et loi uniforme.  Simulation par la technique Monte Carlo de  procédés stochastiques.  Analyse combinatoire.  Distribution binômiale,  hypergéométrique, géométrique, Poisson.  Calcul des probabilités à l'aide  d'approximations. Distribution exponentielle. Introduction à la fiabilité. Statistiques appliquées au design industriel.  Distributions gamma, Student-t, khi-deux, Fisher et Weibull.  Élaboration de tests d'hypothèses statistiques sur un paramètre et sur deux paramètres.  Courbe d'efficacité d'un test.  Échantillonnage et la courbe d'efficacité.  Calcul d'intervalles de confiance sur un et deux paramètres.  Limites statistiques de tolérance. Ajustement linéaire; justification de la droite de régression.\n",
      "33 courses scraped\n",
      "\n",
      "Scraped  8GEN455 Méthodes d'analyse de l'ingénieur \n",
      "  Utiliser des méthodes numériques pour analyser et solutionner les problèmes d'ingénierie dont la complexité requiert l'usage de l'ordinateur. À l'aide d'exemples et d'exercices, maîtriser le cheminement complet de la solution par les méthodes numériques des problèmes d'équilibre, de valeurs propres et de propagation appliquées à des systèmes continus et discontinus. Applications utilisant Matlab. Équations non linéaires à une variable: bissection, fausse position, Newton-Raphson, point fixe. Système d'équations linéaires: Gauss-Jordan, Gauss-Siedel, relaxation. Conditionnement et méthode corrective. Calcul matriciel numérique: déterminant, inversion, valeurs propres, vecteurs propres. Système d'équations non linéaires: méthode de Newton, Quasi-Newton. Approximation de fonctions: interpolation. Intégration et dérivation numérique. Différences finies. Méthodes numériques pour les équations différentielles: Runge-Kutta, prédicteur-correcteur.\n",
      "34 courses scraped\n",
      "\n",
      "Scraped  8MAP107 Calcul avancé I \n",
      "  Comprendre les notions et les outils du calcul différentiel à plusieurs variables, en particulier la dérivée vectorielle, le gradient et la dérivée directionnelle, avec une insistance sur les interprétations géométriques et physiques. Introduction aux équations différentielles: exemples, ordre d'une équation, équations linéaires. Équations différentielles linéaires d'ordre 1: facteur intégrant, problème de valeur initiale, comportement à l'infini, représentation graphique, champ de directions. Les vecteurs de Rn et les vecteurs géométriques: repère cartésien, vecteur position d'un point, norme et distance, coordonnées polaires. Produits scalaire, vectoriel et mixte: propriétés, interprétations géométrique et physique (travail, moment vectoriel, flux). Projections scalaire et vectoriel d'un vecteur. Différentes équations d'une droite et d'un plan: paramétrique, normal-point et algébrique. Introduction aux nombres complexes. Fonctions vectorielles d'une variable: courbes paramétrées, hélices circulaire et elliptique, cubique gauche, intersection d'un plan et d'un cylindre conique, trajectoire d'une particule, dérivée et règles de dérivation, vecteur tangent, intégrale définie, intégration et condition initiale, longueur d'arc, vecteurs vitesse et accélération, vitesse et accélération. Fonctions scalaires: relation entre variables, fonction de plusieurs variables et graphe, surface de révolution, les quadriques, courbes et surfaces de niveau, limite et continuité, dérivées partielles et dérivée le long d'une droite parallèle à un axe, dérivée directionnelle et dérivée le long d'une droite orientée, vecteur gradient et interprétation géométrique, variation optimale d'une fonction, dérivation des fonctions composées et dérivée le long d'une courbe orientée, plan tangent à une surface définie par une relation, plan tangent à une graphe et approximation linéaire, dérivées partielles d'ordre supérieur, introduction à l'optimisation (extremums locaux, points critiques, test de dérivées secondes, ensemble fermé et borné, frontière, extremums globaux, multiplicateurs de Lagrange). Utilisation de la différentielle totale pour le calcul d'erreurs. Formules et séries de Taylor à une et deux variables : approximations d'une fonction. Applications en ingénierie: principe de superposition des forces et des vecteurs vitesses, les 3 lois de Newton, intégration de la deuxième loi de Newton et conditions initiales, vecteurs accélérations normale et tangentielle, topographie, équations de Laplace, de la chaleur et des ondes. Utilisations d'un logiciel de calcul.\n",
      "35 courses scraped\n",
      "\n",
      "Scraped  8MAP111 Calcul avancé II \n",
      "  Familiariser avec les notions d'intégrales multiples, curvilignes et de surfaces, de nombres et de variables complexes et de fonctions de variables complexes permettant ainsi de les utiliser pour des applications en ingénierie. Fonctions vectorielles de plusieurs variables: coordonnées cylindriques et sphériques, cylindres et solides cylindriques, sphères et boules, surfaces et solides paramétrés, taux de variation le long d'une courbe orientée et matrice jacobienne, plans tangents à une surface paramétrée. Intégrales multiples : rappel sur l'intégrale simple, principe de Cavalieri, intégrales doubles et triples, changement de variables, applications au génie, méthodes numériques (méthodes des rectangles, du trapèze et de Simpson). Intégration vectorielle: intégration de champs scalaire et vectoriel et interprétations, travail d'une force et circulation d'un champ vectoriel, intégrale d'une surface d'un champ scalaire et d'un champ vectoriel, flux d'un champ vectoriel, applications au génie. Théorèmes fondamentaux en analyse vectorielle: divergence et rotationnel, théorèmes de Green et de Stokes, champs conservatifs et potentiel scalaire, théorème de divergence, flux et divergence, champs solénoïdaux et potentiel vecteur, applications au génie. Fonctions d'une variable complexe : les nombres complexes (plan complexe, algèbre des nombres complexes), fonctions d'une variable complexe, fonctions exponentielle et trigonométriques, fonction logarithmique et puissances complexes. Applications au génie. Utilisations d'un logiciel de calcul.\n",
      "36 courses scraped\n",
      "\n",
      "Scraped  8MAP120 Équations différentielles et séries de Fourier \n",
      "  Rendre apte à identifier, à solutionner et à interpréter les équations différentielles ordinaires et aux dérivées partielles utilisées pour modéliser les systèmes physiques. Équations différentielles d'ordre deux ou plus : équations linéaires d'ordre deux à coefficients constants, réduction de l'ordre, principe de superposition, wronskien, méthode de variation de paramètres, coefficients indéterminés. Méthode numérique : solutionner des équations différentielles et systèmes d'équations différentielles à l'aide de la méthode d'Euler et de Runge-Kutta. Séries de Fourier : développement en série de Fourier, série de Fourier en cosinus, en sinus et exponentielles. Applications : redressement d'un signal alternatif, valeur efficace, identité de Parseval, système ressort-masse, équation des cordes vibrantes, équation de la chaleur dans une tige et de l'équation de Laplace. Méthode numérique : série de Fourier lorsque le signal est donné par un tableau de valeurs. Intégrale de Fourier : forme trigonométrique, forme exponentielle; transformée de Fourier : diverses transformées de Fourier, théorème de convolution. Méthode numérique : transformée de Fourier discrète à l'aide de la transformée de Fourier rapide (FFT). La transformée de Laplace : transformée de fonctions élémentaires, fonctions d'Heaviside et Dirac; propriétés élémentaires de la transformée, solutions de problèmes aux conditions initiales; les méthodes de décomposition des fractions partielles, transformée des fonctions causales périodiques, l'intégrale de convolution de deux fonctions, propagation de la chaleur dans une tige, équation des cordes vibrantes (longueur infinie). Utilisations d'un logiciel de calcul.\n",
      "37 courses scraped\n",
      "\n"
     ]
    },
    {
     "name": "stdout",
     "output_type": "stream",
     "text": [
      "Scraped  2GEN701 Ingénierie et entreprises I \n",
      "  Introduire la notion d'entreprise sur  les plans légaux, financiers  et administratifs et fournir des outils pratiques aux individus intéressés à  la création d'une entreprise ou d'un service en relation avec l'ingénierie. Importance de la petite entreprise dans l'économie d'un pays. Analyses  d'entreprises. Motivation pour la création de son propre emploi. Gestion de  l'innovation. Evaluation d'idées, études de marchés, coûts direct et indirect  de production, dépenses de mise en marché, frais généraux.\n",
      "38 courses scraped\n",
      "\n",
      "Scraped  2GEN702 Ingénierie et entreprises II \n",
      "  Introduire la notion d'entreprise sous les aspects légaux, financiers  et administratifs et fournir ces outils pratiques aux individus intéressés à  la création d'une entreprise ou d'un service en relation avec l'ingénierie. Responsabilités professionnelles et sociales. Aspects légaux d'une nouvelle entreprise. Brevets d'invention, licences contrats. Taxes, programmes gouvernementaux de soutien à la création d'emplois et au développement technologique. Relations de travail et gestion de personnel. Projets d'entreprises. Conférences, exposés magistraux, études de cas et projet en équipe.\n",
      "39 courses scraped\n",
      "\n",
      "Scraped  6GIN260 Introduction à la gestion des dossiers de SST pour l'ingénieur \n",
      "  Acquérir une connaissance générale des différentes lois applicables à la santé et sécurité au travail, ainsi que les obligations de l'employeur et des travailleurs qui s'y rattachent, dans une optique d'ingénieur responsable de la santé et sécurité d'une entreprise, d'un chargé de projet. Connaissance des notions législatives, de financement et de gestion de dossier SST  à la CNESST (ouverture et contestation), d'assignation temporaire et de travail léger ainsi que de gestion de dossier d'accident à l'interne. Application de ces connaissances par études de cas en ingénierie. Mise en contexte d'un chargé de projet face aux obligations de l'employeur.\n",
      "40 courses scraped\n",
      "\n",
      "Scraped  6GMC642 Introduction aux véhicules moteurs I \n",
      "  Familiariser avec la conception et la sélection de diverses composantes mécaniques, électriques et structurales utilisées dans un véhicule moteur. Introduction aux caractéristiques d'opération des moteurs thermiques ou électriques.  Élaboration de courbes de charge et de performance, identification des conditions d'opération stables et instables. Systèmes d'alimentation des moteurs à combustion interne. Carburateur et système d'injection, turbomoteur et super chargeur. Systèmes d'allumage et distribution variable. Instrumentation et système de contrôle du moteur. Étude des systèmes de transmission et d'embrayage : nécessité, type et choix. Fonctionnement des joints universels et homocinétiques.  Structure des véhicules : châssis et éléments de suspension. Comportement dynamique et systèmes de freinage. Systèmes de lubrification, qualité et sélection des lubrifiants.\n",
      "41 courses scraped\n",
      "\n",
      "Scraped  6GMC643 Introduction aux véhicules moteurs II \n",
      "  Permettre de mettre en pratique les connaissances en conception et en sélection de diverses composantes mécaniques, électriques et structurales utilisées dans un véhicule moteur. Connaissance et aptitude à identifier les caractéristiques d'opération des moteurs thermiques ou électriques pour une application précise.  Élaboration des courbes de charge et possible ajustement des performances des moteurs pour obtenir des conditions d'opération optimales. Sélection ou conception d'un système d'alimentation pour un moteur à combustion interne : carburateur, système d'injection, turbomoteur et super chargeur. Aptitude à sélectionner un système d'allumage. Identification de l'instrumentation nécessaire au bon fonctionnement d'un véhicule moteur et possible réalisation de son intégration dans un système de contrôle moteur.  Compréhension du fonctionnement des systèmes de transmission et d'embrayage, des joints universels et homocinétiques ainsi que de leurs effets sur le comportement d'un véhicule.  Aptitude à identifier et au besoin, à modifier et concevoir les éléments importants formant la structure des véhicules : châssis et éléments de suspension.  Compréhension du comportement dynamique d'un véhicule.\n",
      "42 courses scraped\n",
      "\n",
      "Scraped  6GCI122 Méthodes d'analyse des structures I \n",
      "  Identification des éléments structuraux.  Identification et quantification des charges conformément aux codes applicables:  charges permanentes, surcharges dues à l'usage, charges dues à la neige, charges dues au vent, charges dues aux séismes, calcul aux états limites.  Déformation des structures isostatiques. Introduction à l'étude des systèmes hyperstatiques:  niveau d'hyperstaticité et stabilité de systèmes.  Principe de compatibilité des déformations.  Décomposition et superposition.  Méthode des rotations.  Méthode de distribution des moments (Hardy-Cross).  Lignes d'influence de poutres isostatiques et hyperstatiques (Méthode des équations d'équilibre, application du travail virtuel).\n",
      "43 courses scraped\n",
      "\n",
      "Scraped  6GMC147 Ingénierie de l'aluminium \n",
      "  Familiariser l'étudiant aux différentes étapes de la production industrielle  de l'aluminium. Histoire de l'industrie de l'aluminium. Propriétés générales de l'aluminium.  Fabrication de l'alumine (Procédé Bayer). Production de l'aluminium de première  fusion (Procédé Hall-Héroult). Fabrication des anodes. Alliages d'aluminium de  fonderie et de corroyage. Principes de métallurgie appliqués à l'aluminium et  ses alliages.\n",
      "44 courses scraped\n",
      "\n",
      "Scraped  6GMC280 Mécanique des solides non linéaires \n",
      "  Initier aux notions avancées en mécanique des solides appliquées à la transformation de l'aluminium et permettre d'acquérir des notions essentielles à la simulation des procédés de mise en forme. Notions de tenseurs.  Schématisation du milieu continu.  Contrainte: équations d'équilibre, notion de contrainte limite, types de contrainte.  Mesure de déformation: types de mesures, taux de déformation.  Principe des travaux virtuels selon différentes configurations de référence.  Théorie des grandes transformations (cinématique, équilibre, objectivité).  Lois usuelles de comportement en mise en forme de l'aluminium et leur intégration numérique. Méthode de recherche et prise en compte des conditions de contact et de frottement.  Influence des contraintes résiduelles.  Déchirures ductiles. Solution et comparaisons avec des calculs par éléments finis.\n",
      "45 courses scraped\n",
      "\n",
      "Scraped  6GMC328 Procédés d'assemblage mécanique \n",
      "  Familiariser l'étudiant avec les phénomènes physiques et les principales  techniques industrielles utilisés dans les principaux procédés d'assemblages et  de fabrication mécanique. Différents procédés d'assemblage: mécaniques, soudage, brasage et adhésif.   Description des procédés, effet des paramètres, avantages et inconvénients.  Critères de choix et conception d'assemblages.  Notions complémentaires de  fabrication mécanique: jeux, chaines de cote, tolérance, interférence,  caractéristique des surfaces, plans de fabrication.\n",
      "46 courses scraped\n",
      "\n",
      "Scraped  6GMC420 Matériaux composites et nanotechnologie en génie \n",
      "  Acquérir des connaissances de base dans le domaine des matériaux composites et des nanotechnologies au travers d'applications en génie mécanique, électrique et énergétique. Rappel des principes de base en chimie organique et inorganique. Familiarisation des concepts associés aux composites et matrices polymériques, aux différents renforts et aux propriétés mécaniques, diélectriques et énergétiques qui en découlent. Fabrication, caractérisation et application des nanomatériaux/nanocomposites : familiarisation à la préparation des nanoparticules et à l'insertion dans des polymères ou céramiques (prototypage rapide); compréhension de la caractérisation des matériaux par différentes techniques (MEB, MFA,MET, XPS, XRD); applications de ces matériaux dans les domaines de génie mécanique, électrique et énergétique.\n",
      "47 courses scraped\n",
      "\n",
      "Scraped  6GMC608 Mécanique du bâtiment \n",
      "  Familiariser l'étudiant aux différents facteurs qui influencent le chauffage  et la climatisation des bâtiments et rendre l'étudiant apte à concevoir un  système de climatisation/chauffage en tenant compte des charges de chauffage et  de climatisation du bâtiment. Problématique du chauffage et de la climatisation. Environnement extérieur: températures, rayonnement solaire. Enveloppe du bâtiment: isolants, fenêtres, ponts thermiques, murs et planchers souterrains, diffusion de la vapeur d'eau, infiltration; réglementation. Calcul des charges de chauffage et de climatisation: température sol-air (température équivalente qui tient compte de la température ambiante et du rayonnement solaire), gains internes, gains solaires, ventilation, logiciels de calcul, normes. Appareillage de chauffage et climatisation: chauffage électrique, à gaz et huile; chauffage individuel et central; caloporteurs (eau liquide et vapeur); systèmes à thermopompe. Systèmes de réfrigération à compresseur et à absorption; choix des unités de condensation et évaporation.\n",
      "48 courses scraped\n",
      "\n"
     ]
    },
    {
     "name": "stdout",
     "output_type": "stream",
     "text": [
      "Scraped  6GMC630 Introduction à l'aéronautique appliquée \n",
      "  Initier l'étudiant au domaine de l'aéronautique, à la mécanique du vol et aux diverses composantes d'un aéronef et aux systèmes de propulsion utilisés en aéronautique dans l'optique de la conception aérodynamique. Performances aérodynamiques. Stabilité et contrôle. Introduction aux systèmes de propulsion. Structure, poids et coût. Comprendre les interrelations existantes entre les lois de la mécanique des fluides, de la thermodynamique, du transfert de chaleur et de la résistance des matériaux dans le fonctionnement d'un aeronef et les limitations imposées lors de la conception.\n",
      "49 courses scraped\n",
      "\n",
      "Scraped  6TIN193 Fabrication assistée par ordinateur \n",
      "  Familiariser aux concepts, aux modèles, aux algorithmes utilisés pour la  simulation, la vérification et l'optimisation ainsi qu'aux méthodologies  utilisées pour la FAO (fabrication assistée par ordinateur). Habiliter à mettre  en pratique les connaissances acquises avec des logiciels de FAO interactifs et  modernes. Les machines outils, leurs logiciels et leurs environnements. Commande  numérique par ordinateur (CAD-CAM)  -  Trajectoires d'outils -  FAO pour le  prototypage rapide - Ingénierie inverse - Conception et optimisation des lignes  d'assemblage - Bases technologiques et applications pratiques. Optimisation de  procédé de fabrication, calcul des contraintes et déformations. Choix,  implantation et utilisation de logiciels tenant compte des principaux  paramètres: température, vitesse, caractéristiques du métal.  Choix,  implantation et utilisation de logiciels par éléments finis pour la simulation  des processus suivants: fonderie (simulation de remplissage et solidification en fonderie, changement de phase et refroidissement des moules);  soudage et  traitements thermiques, forgeage et matriçage.\n",
      "50 courses scraped\n",
      "\n",
      "Scraped  6GIN775 Sujets spéciaux en génie \n",
      "  Fournir à l'étudiant un complément de formation en relation avec les  exigences de son programme. Le contenu du cours est déterminé en se basant sur la formation de l'étudiant et les exigences requises pour compléter le programme.  Un plan de cours est préparé par le professeur responsable de manière à couvrir les objectifs de formation requis.\n",
      "51 courses scraped\n",
      "\n",
      "Scraped  2DRA102 Gestion de la législation du travail \n",
      "  Familiariser avec les principales législations du travail et amener à  l'appréciation de leurs impacts sur les pratiques de gestion des ressources  humaines. Partage constitutionnel des compétences en matière de relation de travail.   Gestionnaire et rapports individuels de travail.  Normes de travail et pratiques de gestion des ressources humaines.  Activité syndicale.  Cadre légal des rapports collectifs du travail.  Analyse des dispositions du Code du travail du Québec.  Code canadien du travail (esprit et champs d'application).  Évaluation des contraintes légales en matière de gestion des ressources humaines.\n",
      "52 courses scraped\n",
      "\n",
      "Scraped  2ECO500 Économie du Québec \n",
      "  Approfondir la connaissance des structures et du mode de fonctionnement de l'économie québécoise.  Rendre compte de la position qu'occupe le Québec dans le cadre du système nord-américain et mondial, ses perspectives de développement et sa problématique d'adaptation aux exigences de la troisième révolution industrielle. Mode de formation de l'économie québécoise et ses coutumes historiques. Étapes du développement jusqu'à la crise de 1981. Structures de production, de répartition et d'échanges. Niveau de vie et problématique du développement. Politiques économiques et rôle du secteur public. Entrepreneurship québécois.  PME et dynamique régionale. Options de transformation et impératif technologique. Enjeux du libre échange avec les États-Unis.\n",
      "53 courses scraped\n",
      "\n",
      "Scraped  2MAN115 Principes de management \n",
      "  Offrir des cadres de référence permettant d'intégrer les autres notions qui  seront progressivement acquises durant le programme. Plus particulièrement,  familiariser avec les principales notions de base en matière de théorie  administrative et introduire aux divers principes et systèmes qui régissent  l'articulation, le développement et la croissance de l'entreprise. Accroître la sensibilisation face aux problèmes de management, ainsi que  l'aptitude à les résoudre. L'évolution des théories de management du 19e siècle à nos jours. L'organisation et son environnement (local, national et international). Perspectives classique et contemporaine des éléments du processus de management: planification (processus de planification, management stratégique), organisation (structure, dotation et GRH), direction (leadership, changement organisationnel) et contrôle (types et systèmes de contrôle). Groupe D01 (Wemotaci) - RÉSERVÉ\n",
      "54 courses scraped\n",
      "\n",
      "Scraped  4ANT129 Anthropologie et mondialisation \n",
      "  Aborder les phénomènes liés à la mondialisation en tant que catalyseurs de la transformation et de la recomposition des sociétés et des identités culturelles. Divers aspects de la mondialisation: les marchés, les règles de l'économie  occidentale, les communications, la culture de masse.  Relativisation des  frontières culturelles et phénomène de l'acculturation.  Transformation des  processus identitaires et perte du sentiment d'appartenance à sa communauté:  changements locaux, régionaux, nationaux.  Transformation de modes de vie, de  modes de survie et de modes de pensée: cultures créoles, diasporiques,  hyper modernes.  Diverses stratégies de recomposition du tissu social et la  création de nouvelles solidarités mondiales.\n",
      "55 courses scraped\n",
      "\n",
      "Scraped  4HIS572 Sciences, techniques et sociétés depuis l'Antiquité \n",
      "  Présenter les grandes étapes de développement scientifique et technique  depuis l'Antiquité jusqu'à tout récemment. Faire ressortir les liens étroits de  ce développement avec l'évolution des idées et les transformations économiques  et sociales. Périodes de stagnation des connaissances scientifiques ou techniques, et  temps des découvertes. Milieux porteurs de la création, de l'innovation.  Réception et réticences théologiques et sociales devant les avancées de la  science. Origines grecques de la pensée scientifique. Prolongements dans le  monde musulman au Moyen Âge. Ouvertures de la Renaissance. Formation de la  méthode et de l'esprit scientifiques. Bouleversement des techniques lors de la  révolution industrielle. Fécondité scientifique du XIXe siècle et nouvelles  disciplines. Réorganisation du monde de la recherche scientifique au XXe  siècle.\n",
      "56 courses scraped\n",
      "\n",
      "Scraped  4SOC133 Système social \n",
      "  Montrer comment les principales théories sociologiques ont abordé le caractère multidimensionnel de l'organisation sociale et perçu les phénomènes sociaux (économiques, politiques, culturels, etc.) en tant qu'ils entretiennent entre eux des rapports étroits, divers et durables. Principales zones ou sous-systèmes de la société (culture, économie, politique, etc.).  Principaux groupes d'acteurs et leurs modes de structuration (classes, genres, communautés, nations, ethnies).  Processus de transformation et de changement (évolution, développement, mouvements sociaux, révolution).  Observation et interprétation de situations sociales concrètes.\n",
      "57 courses scraped\n",
      "\n",
      "Scraped  1CHM141 Chimie générale \n",
      "  Comprendre les principes, les lois et les théories de base en chimie générale; comprendre et expliquer le comportement chimique des éléments et des composés les plus courants de notre environnement. Notions fondamentales: structure électronique, nomenclature inorganique et réactions fondamentales, stoechiométrie appliquée aux réactions fondamentales. Hydrogène: état naturel et propriétés physiques, préparation, structure moléculaire de l'hydrogène, combinaison linéaire des orbitales atomiques, théorie des orbitales moléculaires, composés de l'hydrogène.  Oxygène: état naturel et propriétés physiques, préparation, structure moléculaire, orbitales atomiques, liaisons, propriétés chimiques.  Eau: structure moléculaire, propriétés chimiques, diagramme des phases.  Carbone: composés organiques et inorganiques, structure moléculaire, hydrocarbures saturés et insaturés. Azote, phosphore, soufre: propriétés, stabilité des composés.  Halogènes et alcalins: propriétés, préparation, liaison ionique.  Solutions: équilibre  ionique: pH, solutions tampons.\n",
      "58 courses scraped\n",
      "\n"
     ]
    },
    {
     "name": "stdout",
     "output_type": "stream",
     "text": [
      "Scraped  1PHY141 Physique mécanique et optique \n",
      "  Connaître les lois qui régissent le mouvement à l'échelle macroscopique et les grands principes de conservation; initier à la nature et au comportement de la lumière à l'aide des phénomènes ondulatoires et de l'optique géométrique et physique. Cinématique vectorielle.  Dynamique vectorielle.  Système de référence inertiel et non inertiel.  Principe de conservation.  Énergie mécanique. Gravitation. Mouvement planétaire.  Ondes: types, propagation, réflexion, transmission, superposition, ondes stationnaires et électromagnétiques.  Optique géométrique: principes de Fermat et d'Huygens, réflexion, réfraction, miroirs, lentilles, résolution. Optique physique: interférence, diffraction, interférométrie, cohérence de phase, polarisation.\n",
      "59 courses scraped\n",
      "\n",
      "Scraped  8GMA102 Calcul différentiel et intégral \n",
      "  Familiariser aux concepts et techniques du calcul différentiel et intégral.   Rendre l'étudiant capable d'utiliser les outils à la résolution de problèmes  liés aux applications physiques en génie. Rappels sur les ensembles et nombres réels.  Valeur absolue, droite orientée, inéquations.  Fonctions et graphes, fonctions élémentaires: puissances, exponentielles, logarithmiques, trigonométriques, hyperboliques, fonctions inverses et composées.  Forme implicite.  Lieux géométriques et les coniques. Représentations paramétriques.  Définition d'une limite et ses propriétés. Calcul de limites de fonctions algébriques.  Continuité  d'une fonction et propriétés des fonctions continues.  Dérivée: définition, existence, propriétés et calculs.  Formules de dérivation, dérivation en chaîne, dérivation implicite.  Différentielle.  Applications des dérivées: extremums de fonctions, tracé d'une courbe, modélisation et optimisation, théorèmes des accroissements finis, limites des formes indéterminées: règle de l'Hôpital.  Approximations d'une fonction par série.  Applications au génie.  Intégrales indéfinies.  Intégrales définies: définition et propriétés.  Théorème fondamental du calcul. Applications: calcul des aires planes, des aires et volumes de révolution, centre de gravité, moment d'inertie, pression des fluides, travail, longueur d'arc.  Intégration numériques.  Intégrales impropres.\n",
      "60 courses scraped\n",
      "\n",
      "Scraped  8MAT142 Algèbre vectorielle et matricielle \n",
      "  Familiariser l'étudiant avec les notions de base d'algèbre vectorielle  et matricielle. Vecteurs géométriques: définition, addition, produit par un scalaire,  combinaison linéaire de vecteurs parallèles et coplanaires, composantes d'un  vecteur.  Vecteurs algébriques: définition, opération sur ces vecteurs.   Produit scalaire et applications.  Produit vectoriel et applications.  Le plan  dans l'espace: équations vectorielle et algébrique du plan, vecteur normal à  un plan, équation normale, angle de deux plans, distance entre deux plans  parallèles, distance d'un point à un plan, équations paramétriques pour un  plan. La droite dans l'espace: équations paramétriques et symétriques, droite  d'intersection de deux plans non parallèles, distance d'un point à une droite,  angle de deux droites, angle d'un plan et d'une droite, point d'une droite le  plus rapproché d'un point donné, intersection d'une droite et d'un plan. Matrices: élément, format, addition, produit par un scalaire, produit des matrices, transposées, déterminants et calculs, inversions de matrices, matrices symétriques et orthogonales, valeurs et vecteurs propres, matrices diagonalisables.  Systèmes d'équations linéaires: expression vectorielle et matricielle d'un système linéaire, matrice augmentée, méthode de Gauss. Notions de nombres et variables complexes: définition et justification des nombres complexes, représentation sur le plan complexe, formes polaire et cartésienne, égalité, inversion et conjugués.  Addition, soustraction.  Forme exponentielle.  Multiplication et division.  Racine.  Fonctions d'une variable complexe: fonctions exponentielles et sinusoïdales.\n",
      "61 courses scraped\n",
      "\n",
      "Finished scraping 61 courses\n"
     ]
    }
   ],
   "source": [
    "course_codes = []\n",
    "course_names = []\n",
    "course_descs = []\n",
    "counter = 0\n",
    "\n",
    "driver.get(url)\n",
    "time.sleep(3)\n",
    "    \n",
    "for link_text in link_texts:\n",
    "    #go to course page\n",
    "    try:\n",
    "        link = driver.find_element_by_link_text(link_text)\n",
    "    except NoSuchElementException:\n",
    "        print(\"no link for {}\".format(link_text))\n",
    "        continue\n",
    "\n",
    "    time.sleep(2)\n",
    "    try:\n",
    "        link.click()\n",
    "    except ElementClickInterceptedException:\n",
    "        link.send_keys(Keys.DOWN)\n",
    "        link.click()\n",
    "        \n",
    "    time.sleep(3)\n",
    "    \n",
    "    #scrape course info\n",
    "    page_soup = soup(driver.page_source, 'lxml')\n",
    "    course_code = page_soup.find(\"div\", {\"id\": \"texte\"}).find(\"span\", {\"class\": \"noprog\"}).text.strip()\n",
    "    course_name = page_soup.find(\"div\", {\"id\": \"texte\"}).find(\"h1\").text.strip()\n",
    "    course_desc_containers = page_soup.find(\"div\", {\"id\": \"texte\"}).findAll(\"p\")\n",
    "    course_desc = [container.text.strip() for container in course_desc_containers \n",
    "                   if (not bool(re.match(\"\\([0-9\\. cr]\\)\", container.text.strip())) and \n",
    "                       not bool(re.match(\"Formule pédagogique :\", container.text.strip())) and \n",
    "                       not bool(re.match(\"Groupe [0-9]{2} \", container.text.strip())) and \n",
    "                       \"Préalable(s):\" not in container.text.strip())]\n",
    "    course_desc = \" \".join(course_desc)\n",
    "    course_desc = course_desc.replace(\"\\n\", \" \")\n",
    "    \n",
    "    course_codes.append(course_code)\n",
    "    course_names.append(course_name)\n",
    "    course_descs.append(course_desc)\n",
    "    \n",
    "    print(\"Scraped \", course_codes[-1], course_names[-1], \"\\n\", course_descs[-1])\n",
    "    counter += 1    \n",
    "    print(\"{} courses scraped\".format(counter))\n",
    "    print()\n",
    "    \n",
    "    #go to course list page\n",
    "    driver.back()\n",
    "    time.sleep(3)\n",
    "        \n",
    "print(\"Finished scraping {} courses\".format(counter))"
   ]
  },
  {
   "cell_type": "markdown",
   "metadata": {},
   "source": [
    "# 4. Inspect and write to CSV"
   ]
  },
  {
   "cell_type": "code",
   "execution_count": 29,
   "metadata": {
    "scrolled": true
   },
   "outputs": [
    {
     "data": {
      "text/plain": [
       "['6DDG100',\n",
       " '6GEI218',\n",
       " '6GEI322',\n",
       " '6GEN106',\n",
       " '6GEN136',\n",
       " '6GEN248',\n",
       " '6GEN480',\n",
       " '6GIN250',\n",
       " '6GIN275',\n",
       " '6GIN308',\n",
       " '6GIN440',\n",
       " '6GIN445',\n",
       " '6GIN600',\n",
       " '6GIN630',\n",
       " '6GMC108',\n",
       " '6GMC205',\n",
       " '6GMC255',\n",
       " '6GMC305',\n",
       " '6GMC320',\n",
       " '6GMC331',\n",
       " '6GMC352',\n",
       " '6GMC415',\n",
       " '6GMC425',\n",
       " '6GMC513',\n",
       " '6GMC520',\n",
       " '6GMC527',\n",
       " '6GMC601',\n",
       " '6GMC628',\n",
       " '6GMC701',\n",
       " '6GMC765',\n",
       " '6GMX110',\n",
       " '6GNC100',\n",
       " '8GEN444',\n",
       " '8GEN455',\n",
       " '8MAP107',\n",
       " '8MAP111',\n",
       " '8MAP120',\n",
       " '2GEN701',\n",
       " '2GEN702',\n",
       " '6GIN260',\n",
       " '6GMC642',\n",
       " '6GMC643',\n",
       " '6GCI122',\n",
       " '6GMC147',\n",
       " '6GMC280',\n",
       " '6GMC328',\n",
       " '6GMC420',\n",
       " '6GMC608',\n",
       " '6GMC630',\n",
       " '6TIN193',\n",
       " '6GIN775',\n",
       " '2DRA102',\n",
       " '2ECO500',\n",
       " '2MAN115',\n",
       " '4ANT129',\n",
       " '4HIS572',\n",
       " '4SOC133',\n",
       " '1CHM141',\n",
       " '1PHY141',\n",
       " '8GMA102',\n",
       " '8MAT142']"
      ]
     },
     "execution_count": 29,
     "metadata": {},
     "output_type": "execute_result"
    }
   ],
   "source": [
    "course_codes"
   ]
  },
  {
   "cell_type": "code",
   "execution_count": 30,
   "metadata": {
    "scrolled": true
   },
   "outputs": [
    {
     "data": {
      "text/plain": [
       "['Sciences graphiques',\n",
       " 'Circuits électriques',\n",
       " 'Électrotechnique',\n",
       " 'Ingénierie: méthodes et pratique I (génie mécanique)',\n",
       " 'Ingénierie: méthodes et pratique II (génie mécanique)',\n",
       " \"Informatique pour l'ingénieur\",\n",
       " 'Dossier professionnel',\n",
       " 'Santé, sécurité et ingénierie',\n",
       " 'Ingénierie et éthique',\n",
       " \"Impact des projets d'ingénierie\",\n",
       " 'Projet de synthèse en ingénierie I',\n",
       " 'Projet de synthèse en ingénierie II',\n",
       " 'Optimisation',\n",
       " 'Économique du génie',\n",
       " 'Mécanique pour ingénieur',\n",
       " 'Dynamique',\n",
       " 'Conception assistée par ordinateur',\n",
       " 'Thermodynamique I',\n",
       " 'Résistance des matériaux',\n",
       " 'Transfert de chaleur',\n",
       " 'Vibrations et acoustique',\n",
       " 'Mécanique des fluides',\n",
       " 'Mécanique des solides',\n",
       " 'Éléments de machine',\n",
       " 'Machines thermiques',\n",
       " 'Dynamique des fluides',\n",
       " 'Énergétique',\n",
       " 'Automatique industrielle',\n",
       " 'Calcul et conception de machines',\n",
       " 'Laboratoire de systèmes mécaniques',\n",
       " \"Matériaux de l'ingénieur\",\n",
       " \"Chimie pour l'ingénieur\",\n",
       " \"Statistiques de l'ingénieur\",\n",
       " \"Méthodes d'analyse de l'ingénieur\",\n",
       " 'Calcul avancé I',\n",
       " 'Calcul avancé II',\n",
       " 'Équations différentielles et séries de Fourier',\n",
       " 'Ingénierie et entreprises I',\n",
       " 'Ingénierie et entreprises II',\n",
       " \"Introduction à la gestion des dossiers de SST pour l'ingénieur\",\n",
       " 'Introduction aux véhicules moteurs I',\n",
       " 'Introduction aux véhicules moteurs II',\n",
       " \"Méthodes d'analyse des structures I\",\n",
       " \"Ingénierie de l'aluminium\",\n",
       " 'Mécanique des solides non linéaires',\n",
       " \"Procédés d'assemblage mécanique\",\n",
       " 'Matériaux composites et nanotechnologie en génie',\n",
       " 'Mécanique du bâtiment',\n",
       " \"Introduction à l'aéronautique appliquée\",\n",
       " 'Fabrication assistée par ordinateur',\n",
       " 'Sujets spéciaux en génie',\n",
       " 'Gestion de la législation du travail',\n",
       " 'Économie du Québec',\n",
       " 'Principes de management',\n",
       " 'Anthropologie et mondialisation',\n",
       " \"Sciences, techniques et sociétés depuis l'Antiquité\",\n",
       " 'Système social',\n",
       " 'Chimie générale',\n",
       " 'Physique mécanique et optique',\n",
       " 'Calcul différentiel et intégral',\n",
       " 'Algèbre vectorielle et matricielle']"
      ]
     },
     "execution_count": 30,
     "metadata": {},
     "output_type": "execute_result"
    }
   ],
   "source": [
    "course_names"
   ]
  },
  {
   "cell_type": "code",
   "execution_count": 31,
   "metadata": {},
   "outputs": [
    {
     "data": {
      "text/plain": [
       "[\" Introduire à un langage universel  de la conception mécanique et au dessin technique.  Permettre au concepteur de communiquer ses idées aux fins d'analyse où de fabrication. Habiliter à la visualisation et à l'interprétation en employant le dessin sur papier et les méthodes assistées par ordinateur DAO. Développer la capacité à penser en trois dimensions en visualisant et manipulant divers objets réels et en les représentant de façon adéquate par les différentes méthodes du dessin technique. Rappels géométriques. Instruments de base. Tracés géométriques. Croquis et description de forme. Dessin à vues multiples. Coupes et sections. Conventions de représentation particulières. Vues auxiliaires. Cotation. Tolérances et ajustements. Classification des projections. Intersections et développements. Notions de lecture de plans. Introduction aux différents langages de dessin assisté par ordinateur (DAO et CAO). Les différentes notions du cours sont mises en application par des exemples et devoirs lors des séances de travaux dirigés.\",\n",
       " \" Analyser les circuits électriques en appliquant les lois d'Ohms et de Kirchhoff, les méthodes des tensions de noeud et des courants de maille, les théorèmes de Thévenin, de Norton, et de superposition. Établir des modèles dynamiques et analyser les transitoires des circuits électriques de premier et de deuxième ordre. Éléments de base des circuits électriques: tension, courant, résistance, inductance, condensateur, sources indépendantes, sources contrôlées. Lois d'Ohm et de Kirchhoff. Analyse des circuits en régime continu: méthode des tensions de noeud, méthode des courants de maille. Théorèmes de Thévenin et de Norton, superposition. Analyse transitoire des circuits en continu de premier et de deuxième ordre (RL, RC, RLC).\",\n",
       " \" Rendre l'étudiant apte à utiliser les principes fondamentaux d'électromagnétisme et les principes de conversion électromécanique de l'énergie pour calculer les performances des machines électriques. Les circuits monophasés: terminologie, opération élémentaire sur les phaseurs, étude du régime permanent dans un circuit R, L, C (notion d'impédance). Puissance des courants alternatifs sinusoïdaux, facteur de puissance, facturation électrique. Les circuits triphasés: terminologie, représentation des systèmes triphasés équilibrés, groupement des circuits triphasés, puissance dans les systèmes triphasés équilibrés, couplage des récepteurs en étoile et en triangle, transformation étoile - triangle, mesure de puissance en circuit triphasé, intérêt des systèmes triphasés, correction de facteur de puissance.  Rappel des notions fondamentales d'électromagnétisme. Circuits magnétiques: calcul des circuits magnétiques, circuits couplés, énergie magnétique emmagasinée, phénomène d'hystérésis, puissance et pertes dans le noyau, schéma électrique équivalent d'une bobine, chauffage par induction, aimants permanents. Transformateurs: définition transformateur parfait, transformateur réel, rendement d'un transformateur, transformateur triphasé, transformateurs spéciaux. Machines tournantes à courant continu: rappel des lois fondamentales, génératrice à courant continu, principe de fonctionnement des moteurs à courant continu et alternatifs, principes directeurs de choix de moteurs pour une application, contrôle de la vitesse des moteurs à courant continu, moteur série universel. Introduction aux circuits de puissance et à la sécurité électrique: risques, liés aux défauts d'isolement, pour la sécurité des personnes et des biens; Schéma des Liaisons à la Terre (Régimes du neutre); distribution industrielle.\",\n",
       " \" Présenter les divers aspects de la profession d'ingénieur et faire acquérir les notions importantes liées à la résolution de problèmes d'ingénierie.  Initier au travail en équipe (rôles, responsabilités, gestion) ainsi qu'à des méthodes de communication efficaces, tant écrites qu'orales. Profession d'ingénieur: formation universitaire, nature du travail, spécialités, réalisations typiques, responsabilités, éthique, cadres normatif et légal, salaires, marché du travail, stages en entreprise, relations entre l'ingénieur et les autres professionnels (architectes, techniciens, ...).  Résolution de problèmes: types de problèmes, causes et effets, identification des besoins, objectifs et contraintes, méthodes de résolution, identification d'une solution.  Travail en équipe: les étapes de création d'une équipe, la définition des rôles, responsabilités et règles de pratique, la communication et l'attitude.  Communication: les règles à suivre pour une communication efficace, le processus d'écriture, la génération, le développement et l'organisation des idées, la structure générale d'un rapport et d'une présentation.  Élaboration d'un dossier professionnel.\",\n",
       " \" Poursuivre la formation en ce qui concerne le processus de résolution de problèmes d'ingénierie. Intégrer des notions liées à un processus d'investigation lorsque les problèmes sont complexes et requièrent la réalisation d'expériences, l'analyse et l'interprétation des données, de même que la synthèse de l'information et la formulation de conclusions. Être efficace dans un travail en équipe et à produire des communications de qualité, tant écrites qu'orales. Analyse, investigation et conception: par une méthodologie hybride de classe inversée et d'exposés magistraux ainsi que par la réalisation d'un projet d'ingénierie en équipe sous la supervision d'un conseiller-expert, l'étudiant apprendra la maîtrise d'une approche rigoureuse et scientifique à la réalisation d'un projet. L'accent principal sera mis sur les trois phases suivantes de la réalisation d'un projet: l'analyse, l'investigation et la conception. Approfondissement de la théorie, le fonctionnement et la mise en oeuvre de ces notions. Travail en équipe et communication: par la réalisation de divers travaux en groupe, d'un projet de conception, la production de rapports et la présentation des travaux réalisés, l'étudiant sera amené au développement du sens des responsabilités et d'imputabilité dans un travail en équipe ainsi qu'à améliorer la qualité de ses communications.\",\n",
       " \" Rendre apte à résoudre des problèmes de sciences et de génie par la  programmation structurée de l'ordinateur. Structure de l'ordinateur. Les concepts de base en programmation. Analyse du problème, algorithme et organigrammes. Apprentissage d'un langage et application à la solution de problèmes d'ingénierie. Opérations en mode interactif: commandes essentielles d'édition et de mise à jour, traitement des fichiers. Programmation structurée: programmation descendante, organisation modulaire, vérification, documentation. Programmes interactifs. Utilisation de logiciels (MATLAB, traitement de texte, etc.).\",\n",
       " \" Valider l'atteinte des objectifs de formation propres au programme sur la  base des évaluations réalisées lors des cours suivis antérieurement. Amener  l'étudiant à réaliser une démarche de formation  autonome et, par la suite,  démontrer l'atteinte des douze qualités (compétences) attendues des finissants  du programme. Étude du dossier de suivi de formation (dossier professionnel) rédigé par l'étudiant durant les trimestres antérieurs. Analyse des qualités acquises par l'étudiant et comparaison avec celles exigées par l'organisme régissant la formation des ingénieurs. Identification des lacunes, s'il y a lieu. Élaboration d'un plan de formation sur mesure pour combler ces dernières. Réalisation de ce plan durant le trimestre en cours.\",\n",
       " \" Faire découvrir et comprendre  la problématique de la santé et de la sécurité en relation avec l'ingénierie. Importance de la santé et de la sécurité du travail.  Lois sur la santé et la sécurité du travail.  Obligations légales et professionnelles de l'ingénieur face à la protection de la personne et du public.  Notions de base en ergonomie, hygiène du travail et maladies professionnelles.  Connaissance du milieu et risques principaux:  physiques, chimiques, biomécaniques.  Carte ASP construction.\",\n",
       " \" Familiariser  à une démarche éthique en relation avec la pratique de  l'ingénierie et le préparer à une pratique professionnelle conforme à la  déontologie des ingénieurs. L'éthique de l'ingénierie.  Diversité des conceptions de l'éthique. Description d'une démarche éthique en quatre phases:  prise de conscience de la situation, clarification des valeurs conflictuelles de la situation, prise de décision éthique, établissement d'un dialogue entre personnes impliquées. Utilisation d'une grille d'analyse.  Professionnalisation et société moderne. Système professionnel québécois.  Structure et contenu du code de déontologie des ingénieurs québécois.  Tendances actuelles en éthique de l'ingénierie.  Rôle et responsabilité des ingénieurs et autres décideurs en ingénierie dans le contexte actuel du développement   technologique et principaux enjeux:   la productivité industrielle, la sécurité du public et l'environnement.\",\n",
       " \" Familiariser aux principes généraux de la réalisation d'études d'impacts  sociaux et environnementaux découlant de projets d'ingénierie. Structure, fonctionnement et équilibre de la biosphère.  Interrelations entre environnements physiques, chimiques et biologiques.  Quantification des phénomènes écologiques.  Étude d'impacts en relation avec des projets d'ingénierie:  étapes essentielles, paramètres environnementaux, identification et évaluation des impacts environnementaux et sociaux, approche économique, quantification des répercussions, mesures compensatoires, choix des options, rédaction d'un rapport, consultation publique.\",\n",
       " \" Amener à réaliser, en équipe, la première partie d'un projet de conception d'envergure en utilisant les connaissances et les habiletés acquises dans les cours précédents. Démontrer sa capacité à analyser des problèmes d'ingénierie complexes, trouver des solutions possibles et identifier parmi ces dernières une solution répondant aux besoins spécifiés, tout en tenant compte des risques pour la santé et la sécurité publiques, des aspects législatifs et réglementaires, des normes, ainsi que des incidences économiques, environnementales, culturelles et sociales. Agir de manière professionnelle, autant durant la réalisation du projet que dans les communications que ce dernier aura à produire. Besoins et exigences de tous les intervenants (cahier des charges). Réalisation d'une revue de l'état de l'art. Informations relatives aux codes et standards généralement employés dans le cas. Répertoire et résumé des préoccupations sociales, professionnelles et de développement durable touchant le problème. Méthodes de recherche de solutions. Adaptation des solutions existantes pour des problèmes similaires. Modèles, prototypes, ou autres outils pour évaluer certains choix. Outils de décision utilisant plusieurs critères. Résultats d'expérience et d'analyse afin de sélectionner certaines options. Consultation des experts et des intervenants afin d'évaluer certaines options. Réalisation d'un concept ou un plan de réalisation. Design détaillé. Amélioration de manière évolutive d'un concept. Différents rôles d'un professionnel, comme un ingénieur, et d'un ordre professionnel, comme l'OIQ, en particulier dans la sécurité du public. Concepts de base en matière de santé et de sécurité, d'environnement et de développement durable, de l'intérêt et du bien du public. Aspects du risque pour le public et l'environnement. Identification et appropriation des valeurs d'un professionnel. Différents types de bénéfices économiques et financiers ainsi que les coûts liés à une activité d'ingénierie. Estimation crédible des coûts et des bénéfices. Évaluation de l'imprécision des estimés. Mesures de performance économique et financière pour une activité d'ingénierie. Alternative la plus appropriée basée sur des considérations économiques et financières. Implications de l'inflation, des taxes et des incertitudes sur ces valeurs. Tâches requises pour compléter une activité d'ingénierie ainsi que les ressources requises pour la finaliser. Calendrier des tâches et des ressources requises afin de compléter à temps une activité d'ingénierie selon le budget prévu.\",\n",
       " \" Amener à réaliser, en équipe, la seconde partie du projet débuté dans le cadre du cours Projet de synthèse I. Démontrer sa capacité à analyser des problèmes d'ingénierie complexes, trouver des solutions possibles et identifier parmi ces dernières une solution répondant aux besoins spécifiés, tout en tenant compte des risques pour la santé et la sécurité publiques, des aspects législatifs et réglementaires, des normes, ainsi que des incidences économiques, environnementales, culturelles et sociales. Agir de manière professionnelle, autant durant la réalisation du projet que dans les communications que ce dernier aura à produire. Toutes les phases du projet, incluant les documents s'y rattachant, seront systématiquement évaluées et commentées par un professeur-ingénieur, tant sur le plan du contenu que de la forme. Une pondération significative de l'évaluation est rattachée à ce point de même que sur la gestion du projet.\",\n",
       " \" Rendre apte à utiliser une approche systématique et scientifique pour générer, analyser et comparer différents scénarios conduisant à la prise de décision technique et/ou économique. Concept et théorie de la valeur, théorie de la décision, formulation du problème d'optimisation, méthode classique d'optimisation analytique, optimisation des systèmes linéaires, optimisation des systèmes non linéaires, optimisation des systèmes séquentiels (programmation dynamique, méthode PERT), exemples d'optimisation, concept et théorie de la fiabilité.\",\n",
       " \" Sensibiliser aux aspects économiques qui interviennent en général dans le champ professionnel de l'ingénieur, particulièrement en ce qui a trait aux processus décisionnels.  De façon plus spécifique, on prétend, dans ce cours, donner une bonne connaissance de l'environnement économique dans lequel nous vivons, une bonne connaissance de l'entreprise, de ses dynamiques et des outils aidant à la  prise de décision. Ingénierie et processus décisionnel.  Macro-économie, politiques gouvernementales, croissance économique.  La firme, formes légales, flux financiers et états financiers: description et analyse.  Analyse des coûts, estimation, structure de coûts.  Mathématiques financières.  Projets d'investissement, description et techniques d'analyse de faisabilité.  Fiscalité canadienne.  Problèmes d'application.  Marchés financiers, structure financière et coût du capital.\",\n",
       " \" Rendre apte à calculer les forces et les déplacements dans les systèmes mécaniques en utilisant les lois régissant l'équilibre statique et dynamique des corps rigides dans le plan et l'espace. Opérations sur les forces, les moments et les couples à l'aide du calcul  vectoriel. Évaluation de la force, du moment et du torseur résultant d'un  système de forces. Caractéristiques des liaisons et isolation des corps simples  et composés. Équilibre des corps rigides dans le plan et dans l'espace. Étude  des treillis, charpentes et mécanismes. Frottement sec dans les machines.  Évaluation de propriétés : centre de gravité, centroïde, moments d'inertie de  section et de masse.  Introduction aux quantités reliées au mouvement avec ou  sans collisions, à l'aide des équations de la cinématique et de la cinétique  pour un système de points matériels.\",\n",
       " \" Rendre apte à prédire le mouvement de systèmes complexes tels que la trajectoire d'aéronefs, le mouvement d'objet en collisions multiples, le mouvement de bras robotisés sous l'effet de couples moteur ou encore à établir les équations du mouvement pour le contrôle des machines. Étude des mécanismes en ingénierie : frottement sec et frottement dans les machines, point de glissement dans les virages, mouvement des particules et des corps rigides, système de vilebrequin, comportement des poulies à géométrie variable, entraînement par croix de Malte, mouvement absolu et relatif, bras articulés avec interconnections multiples, mouvement des engrenages planétaires dans les transmissions mécaniques, systèmes de localisation par radars, en utilisant les notions de la cinématique et de la cinétique. Application des notions de force, accélération, travail, énergie, quantité de mouvement et impulsion à l'ingénierie : impact de voitures, changements de vitesse dus aux glissements, forces résultantes d'un jet liquide, comportement d'un aéronef lors du lancement d'une charge, articulation de systèmes mécaniques, mécanismes à ressorts, introduction aux oscillations mécaniques.\",\n",
       " \" Transmettre les connaissances permettant de solutionner différents problèmes  d'ingénierie tels que la flexion et la torsion des poutres, les contraintes  dans les engrenages, le transfert de chaleur et la mécanique des fluides par la  méthode des éléments finis.  Développer les capacités nécessaires pour évaluer  la précision et la validité des résultats et interpréter les types de  contraintes, les profils de vitesse et de température calculés et leurs  adéquations. Application des éléments finis en ingénierie.  Solution aux différents  problèmes d'ingénierie tels que la flexion et la torsion des poutres, les  contraintes dans les engrenages, le transfert de chaleur et la mécanique des  fluides.  Type d'éléments finis, formulation par résidus pondérés et  variationnelle.  Concept de la méthode: structures discrètes, assemblage,  résolution, discrétisation de systèmse physiques continus, approximation nodale, transformation de coordonnées, maillage automatique.  Utilisation de logiciels  commerciaux pour la conception et l'analyse des contraintes dans les pièces  mécaniques.\",\n",
       " \" Amener à appliquer les principes de la thermodynamique pour prévoir et analyser le comportement des systèmes et procédés énergétiques utilisés en ingénierie. Concepts de base et définitions. Propriétés des substances pures. Méthodes pratiques pour la détermination des propriétés des substances; utilisation des équations d'état et des diagrammes de phases. Application du principe de conservation d'énergie aux systèmes avec et sans écoulement. Analyse des cycles thermodynamiques et applications du deuxième principe : cycles de puissance, moteurs, turbines à gaz et à vapeur, réfrigérateurs et thermopompes. Fonctionnement de turbines, de moteurs et de compresseurs réels;  étranglement.\",\n",
       " \" Rendre apte à évaluer le comportement linéaire des corps solides déformables  soumis à des sollicitations multiples dans le domaine élastique. Rappel des notions fondamentales de la statique. Notion de contrainte, déformation et de relation constitutive. Charges distribuées. Efforts internes dans les poutres droites : définitions, calculs, expressions algébriques, diagrammes. Contraintes et déformations produites par l'effort normal, le moment fléchissant, l'effort tranchant et le couple de torsion. Déflexion des poutres : relations différentielles de base, double intégration, fonctions de singularité, méthode des moments d'aire, méthode de superposition, application aux poutres hyperstatiques, flèche sous l'effet de l'effort tranchant. Principe de superposition des contraintes : état plan, contraintes principales, cercle de Mohr, état tridimensionnel. Les déformations : état plan, déformations principales, cercle de Mohr, état tridimensionnel, mesures. Relations contrainte - déformation - température : équations de l'élasticité linéaire, énergie de déformation.\",\n",
       " \" Rendre apte à analyser et à calculer les échanges de chaleur par conduction,  convection et rayonnement. Introduction, principes du transfert de chaleur. Conduction en régime établi. Résistance thermique. Plaques, cylindres, sphères; systèmes multicouches. Ailettes de refroidissement. Conduction en régime transitoire. Équation différentielle de la conduction de chaleur, condition initiale et conditions aux limites. Résistance interne ou superficielle négligeable. Conduction avec sources de chaleur internes. Nombres adimensionnels, solutions analytiques et numériques. Analyse du transfert de chaleur convectif. Convection naturelle et convection forcée; écoulements extérieurs et internes; théorie de similitude. Transfert de chaleur avec changement de phase. Ébullition et condensation. Rayonnement thermique; loi de Planck, de Stefan-Boltzmann et de Wien. Caractéristiques spectrales et directionnelles, loi de Lambert et de Kirchhoff. Calcul d'échange radiatif entre deux corps solides, facteur de vue. Applications: échangeurs de chaleur, caloducs, refroidissement des appareils électroniques, méthodes d'intensification et de suppression du transfert de chaleur.\",\n",
       " \" Introduire à la théorie des vibrations et acoustique. Rendre apte à analyser les vibrations des systèmes mécaniques et leurs effets nuisibles, à concevoir des machines et des structures qui seront dynamiquement acceptables et procéder à l'estimation acoustique de différentes sources de bruit. Apprendre à choisir les techniques nécessaires pour réduire le bruit. Vibrations à un et plusieurs degrés de liberté: libres, forcées amorties. Excitation par force constante par balourd et par mouvement du support. Amortissement et décrément logarithmique. Isolation des machines et équilibrage. Capteurs. Diagnostic vibratoire des troubles mécaniques. Valeurs propres et vecteurs propres. Vibrations et bruits. Acoustique. Aspects physiques et physio-psycho-sociologiques de l'onde sonore. Normes et législations du bruit admissible. Instruments de mesure acoustique. Estimation acoustique de sources de bruit.\",\n",
       " \" Rendre apte à utiliser les notions de base de la mécanique des fluides pour calculer les principales variables caractérisant les écoulements dans des  contextes qui intéressent l'ingénieur. Propriétés et définitions: milieu continu, viscosité, densité, pression. Statique: loi fondamentale, force de pression d'un liquide sur des parois planes ou courbes, théorème d'Archimède, corps flottants. Cinématique: variables de Lagrange, d'Euler, vitesse d'écoulement, accélération, trajectoire, ligne de courant. Dynamique: équation de continuité, équation d'Euler, théorème de Bernoulli, équation d'énergie, théorèmes des débits de quantité de mouvement et des moments de quantité de mouvement, applications diverses. Écoulements irrotationnels: potentiel de vitesses, fonctions de courant, écoulements de révolution, écoulements plans, propriétés de réseaux. Écoulements visqueux: équation de Navier-Stokes, solutions simples. Analyse dimensionnelle: paramètres adimensionnels, théorème de Buckingham, similitude, modèles réduits. Écoulement dans les conduites fermées : facteur de friction, pertes de charge.\",\n",
       " \" Poursuivre l'étude du comportement mécanique des corps solides au-delà des notions élémentaires déjà acquises en résistance des matériaux. Préparer également les étudiants des programmes en génie mécanique et en ingénierie de l'aluminium aux cours avancés de calcul et conception des machines, de  charpentes et de structures. Rappel des notions fondamentales de résistance des matériaux.  Notion d'inertie principale. Notions avancées en théorie des poutres: les poutres hétérogènes, la flexion gauche (pure et simple), le centre de cisaillement, calcul des flèches. Critères de défaillance et contrainte admissible: écoulement des matériaux ductiles, rupture des matériaux fragiles, notion de critère de défaillance, fatigue dans les matériaux, facteur de sécurité. Méthodes énergétiques: principaux théorèmes de l'énergie de déformation, résolution de systèmes isostatiques et hyperstatiques. Comportement au-delà du domaine élastique: analyse limite pour les systèmes soumis à un chargement axial, en torsion et en flexion, réserve en ductilité. Instabilité élastique: stabilité d'une membrure rigide, stabilité d'une membrure élastique en flexion-compression, déversement latéral, voilement.\",\n",
       " \" Introduire au calcul et à la conception des principaux éléments normalisés  utilisés dans les systèmes mécaniques. Ressorts. Roulements à billes et à rouleaux: caractéristiques, friction,  vitesse limite, durée de vie, capacités de charge dynamique et statique, charge  radiale équivalente, fiabilité, relations fondamentales, méthodes de calcul,  montage des roulements. Engrenages droits et hélicoïdaux: normalisation,  cinématique, profils conjugués, efforts transmis, calcul de la denture, nombre  de dents en prise, interférence, jeux de fonctionnement, fabrication, règles de  design des trains d'engrenages. Freins et embrayages. Liens flexibles. Éléments  de graissage et de lubrification. Étanchéité.\",\n",
       " \" Rendre apte à appliquer les notions de thermodynamique dans la conception et l'évaluation des diverses machines thermiques. Cycles fondamentaux des machines thermiques.  Centrale thermique utilisant la vapeur d'eau, cycle théorique et étude d'un cycle réel : chaudière, tuyauterie, turbine, condenseur, critères de choix d'une centrale thermique, choix des composantes, bilan thermique des usines.  Systèmes de réfrigération, cycle théorique et étude d'un cycle réel :  condenseur, évaporateur, compresseur, soupape de détente, critères de choix d'un réfrigérant.  Sources énergétiques et étude des combustibles, élément de combustion et énergie de réaction.  Turbines à gaz: cycle de Joule et son rendement, récupérateur, réchauffeur, chambre de combustion, type de carburant.  Turboréacteurs: cycle théorique, diffuseur, turbocompresseur, chambre de combustion, turbine tuyère, rendement global. Machine à combustion interne: moteur à allumage par bougies, moteurs à allumage par compression, moteurs à 2 temps, performance.  Compresseurs : classification et caractéristiques générales, compresseurs alternatifs, compresseurs volumétriques, turbocompresseurs, rendement et performance.\",\n",
       " \" Rendre apte à appliquer les concepts utilisés dans les principaux domaines  des fluides reliés à l'ingénierie (hydraulique, turbomachinerie,  aérodynamique). Description locale (viscosité, tourbillon, continuité, Navier-Stokes, etc.) du milieu fluide. Description globale du milieu fluide (flux, débit, circulation, équations de conservation). Définition des écoulements potentiels. Fonction potentielle et fonction de courant. Dynamique du tourbillon. Efforts non visqueux sur les structures. Définition des écoulements visqueux. Définition de la couche limite. Turbulence. Transition. Couche limite avec effet de pression. Séparation. Définition des turbomachines. Calcul des triangles de vitesses. Cavitation. Calcul de puissance dans les pompes, les turbines et les compresseurs. Description des profils d'aile. Calcul de portance et traînée sur les profils et les structures. Écoulement compressible. Onde de choc. Calcul d'écoulements dans les tuyères.\",\n",
       " \" Analyser les procédés, les besoins et les ressources énergétiques afin de concevoir des systèmes domestiques et industriels. Procédés et équipements pour la production, la transformation, le transport et l'utilisation des différentes formes d'énergie. Disponibilité, travail maximal, énergie. Conception et critères de sélection des échangeurs de chaleur. Méthodes et appareillages pour le stockage d'énergie. Ressources renouvelables. Cogénération et méthodes pratiques de conservation d'énergie. Climatisation, refroidissement et procédés industriels impliquant l'air humide. Conception de systèmes et de composantes pour le chauffage et pour le contrôle de l'humidité de l'air. Utilisation des thermopompes dans les bâtiments et pour les procédés industriels.\",\n",
       " \" Introduire l'analyse et la conception des systèmes de contrôle industriels.  Rendre apte à concevoir une commande hybride séquentielle et continue d'un  procédé. Notion d'instrumentations: systèmes à grandeurs booléennes, système à grandeurs scalaires, acquisitions numériques et analogiques, capteurs industriels, communication réseau. Organisation et fonctionnement d'un système automatisé: organisation générale, les différentes technologies rencontrées dans les systèmes automatisés, exemples d'automatismes. Contrôle lié à la logique séquentielle: réalisation en technologie pneumatique, électrique et hydraulique. Contrôle par automate programmable PLC: diagramme en échelle, logique séquentielle, temporisateur, compteur et arithmétique. Contrôle des systèmes par la méthode du grafcet: grafcet de niveaux I et II, cahier des charges, schéma de réalisation en technologie électrique, pneumatique et hydraulique. Asservissement des procédés: boucle ouverte, boucle fermée, performance et technique de conception du PIDF sur un automate programmable. Introduction à la robotique: description de la géométrie du mécanisme, planification de trajectoires cartésiennes, commandes en position et en force. Application aux systèmes hydraulique ou pneumatique: principes de base, transmission de force, de pression, pertes de charges, énergie et puissance, rendements, dimensionnement des composantes.\",\n",
       " \" Rendre apte à concevoir et à calculer les principaux organes d'une machine. Acquérir les connaissances nécessaires au niveau de la méthodologie et des  concepts du design. Compléments sur les propriétés des matériaux et sur l'analyse des contraintes. Processus du design (cahier de charges, définition du problème, incertitudes sur les contraintes et les déformations, coefficient de sécurité, fiabilité, optimisation).  Calcul de résistance des organes de machines (concentrations de contraintes, charges statiques, charges de fatigue).  Étude et comparaison de différents critères de rupture (théories de la contrainte normale maximum, de la contrainte tangentielle maximum, de l'énergie de distorsion, de Mohr, de Coulomb-Mohr, diagrammes de Goodman). Calcul des arbres de transmission (méthodes de l'A.S.M.E. et de Soderberg, introduction aux autres méthodes, procédure de calcul). Calcul des pièces mécaniques à partir de la déformation. Systèmes hyperstatiques. Méthodes énergétiques. Pièces soumises au flambage. Calcul des organes de liaison et d'assemblage (vis de transmission de mouvement, vis d'assemblage, organes de liaison travaillant en cisaillement, organes de liaison en rotation, organes d'arrêt en translation, soudures). Méthodologie du design. Étapes du design. Méthodes de recherche de solutions. Techniques de prise de décision. Analyse de la valeur.\",\n",
       " \" Fournir les connaissances de base sur la tâche de l'ingénieur vis-à-vis le calcul, la conception, la fabrication, l'application et la comparaison des notions théoriques versus la pratique. Rendre apte à réaliser  des expériences  en laboratoire sur la conception et l'analyse des systèmes mécaniques. Conception et fabrication assistée par ordinateur : programmation en code G pour application de fraisage et de tournage (CNC). Analyse de phénomène de résonance et effet de l'amortissement. Robotique : contrôle et manipulation d'un robot à cinq axes, programmation d'une trajectoire d'un joint de soudure. Analyse des contraintes par photoélasticité et calcul de concentration de contraintes. Métrologie : mesures des rugosités; mesures des angles et de  conicité; contrôle de planéité. Paliers lisses. Introduction à l'hydraulique et la pneumatique. Calcul et conception d'un système de transmission : courroies, chaînes, roulements et engrenages. Équilibrage statique et dynamique des rotors.\",\n",
       " \" Rendre capable d'établir les relations fondamentales qui existent entre les  propriétés intrinsèques des matériaux et leurs structures. Classification des matériaux et méthodes de caractérisation.  Contraintes et déformations, propriétés et microstructures.  Essais normalisés.  Cohésion et rigidité.  Modélisation des liaisons atomiques.  Architecture atomique. Directions et plans cristallins.  Structures des solides cristallins.  Analyse cristallographique.  Les matériaux sous contrainte.  Résistance des matériaux fragiles.  Concentration de contraintes.  Fragilité.  Ténacité.  Matériaux monophasés et polyphasés.  Diagrammes d'équilibre binaires.  Solidification et limite de solubilité.  Modifications des propriétés.  Écrouissage.  Durcissement structural.  Système fer-carbone.  Système aluminium-cuivre.  Restauration des propriétés.  Durcissement des polymères.  Les propriétés mécaniques. Visco-élasticité et plasticité.  Fluage.  Fatigue.  Transition ductile-fragile. Dégradation des propriétés.  Corrosion en milieu aqueux. Types de corrosion. Potentiel électrochimique et couples galvaniques.  Protection des matériaux contre la corrosion.\",\n",
       " \" Amener à faire le lien entre la production industrielle de biens de consommation de nature chimique ou métallurgique et les bases de la chimie industrielle. Différents thèmes sont présentés en faisant le lien entre la production industrielle et quelques notions de base : réactions réversible et irréversible, vitesse de réaction, réactions exothermique et endothermique, conversion, rendement et sélectivité, réactions électrochimiques et réactions de polymérisation. Les thèmes présentés sont : l'hydrogène, l'eau et l'énergie; le carbone, le pétrole, l'énergie et les gaz à effet de serre; le carbone, le pétrole et les plastiques; l'azote, les engrais et le milieu récepteur; l'aluminium, ses alliages et la corrosion; le fer, les aciers et la corrosion; le silicium et les circuits intégrés.\",\n",
       " \" Rendre l'étudiant apte à utiliser les méthodes statistiques telles que collection, présentation, analyse et interprétation de données numériques en ingénierie.  Concevoir des expériences dont le but est l'analyse, l'amélioration ou l'organisation d'un procédé industriel. Employer les méthodes statistiques appropriées à la solution de problèmes de production industrielle. Distribution empirique et histogrammes.  Dérivation expérimentale de  la distribution gaussienne et exponentielle. Notion de probabilité.   Fonctions et densités de probabilité.  Aléas continus et discontinus.  Densité  de probabilité bidimensionnelle.  Probabilité marginale et conditionnelle.   Aléas indépendants.  Approche bayesien.  Espérance mathématique.  Loi  normale et loi uniforme.  Simulation par la technique Monte Carlo de  procédés stochastiques.  Analyse combinatoire.  Distribution binômiale,  hypergéométrique, géométrique, Poisson.  Calcul des probabilités à l'aide  d'approximations. Distribution exponentielle. Introduction à la fiabilité. Statistiques appliquées au design industriel.  Distributions gamma, Student-t, khi-deux, Fisher et Weibull.  Élaboration de tests d'hypothèses statistiques sur un paramètre et sur deux paramètres.  Courbe d'efficacité d'un test.  Échantillonnage et la courbe d'efficacité.  Calcul d'intervalles de confiance sur un et deux paramètres.  Limites statistiques de tolérance. Ajustement linéaire; justification de la droite de régression.\",\n",
       " \" Utiliser des méthodes numériques pour analyser et solutionner les problèmes d'ingénierie dont la complexité requiert l'usage de l'ordinateur. À l'aide d'exemples et d'exercices, maîtriser le cheminement complet de la solution par les méthodes numériques des problèmes d'équilibre, de valeurs propres et de propagation appliquées à des systèmes continus et discontinus. Applications utilisant Matlab. Équations non linéaires à une variable: bissection, fausse position, Newton-Raphson, point fixe. Système d'équations linéaires: Gauss-Jordan, Gauss-Siedel, relaxation. Conditionnement et méthode corrective. Calcul matriciel numérique: déterminant, inversion, valeurs propres, vecteurs propres. Système d'équations non linéaires: méthode de Newton, Quasi-Newton. Approximation de fonctions: interpolation. Intégration et dérivation numérique. Différences finies. Méthodes numériques pour les équations différentielles: Runge-Kutta, prédicteur-correcteur.\",\n",
       " \" Comprendre les notions et les outils du calcul différentiel à plusieurs variables, en particulier la dérivée vectorielle, le gradient et la dérivée directionnelle, avec une insistance sur les interprétations géométriques et physiques. Introduction aux équations différentielles: exemples, ordre d'une équation, équations linéaires. Équations différentielles linéaires d'ordre 1: facteur intégrant, problème de valeur initiale, comportement à l'infini, représentation graphique, champ de directions. Les vecteurs de Rn et les vecteurs géométriques: repère cartésien, vecteur position d'un point, norme et distance, coordonnées polaires. Produits scalaire, vectoriel et mixte: propriétés, interprétations géométrique et physique (travail, moment vectoriel, flux). Projections scalaire et vectoriel d'un vecteur. Différentes équations d'une droite et d'un plan: paramétrique, normal-point et algébrique. Introduction aux nombres complexes. Fonctions vectorielles d'une variable: courbes paramétrées, hélices circulaire et elliptique, cubique gauche, intersection d'un plan et d'un cylindre conique, trajectoire d'une particule, dérivée et règles de dérivation, vecteur tangent, intégrale définie, intégration et condition initiale, longueur d'arc, vecteurs vitesse et accélération, vitesse et accélération. Fonctions scalaires: relation entre variables, fonction de plusieurs variables et graphe, surface de révolution, les quadriques, courbes et surfaces de niveau, limite et continuité, dérivées partielles et dérivée le long d'une droite parallèle à un axe, dérivée directionnelle et dérivée le long d'une droite orientée, vecteur gradient et interprétation géométrique, variation optimale d'une fonction, dérivation des fonctions composées et dérivée le long d'une courbe orientée, plan tangent à une surface définie par une relation, plan tangent à une graphe et approximation linéaire, dérivées partielles d'ordre supérieur, introduction à l'optimisation (extremums locaux, points critiques, test de dérivées secondes, ensemble fermé et borné, frontière, extremums globaux, multiplicateurs de Lagrange). Utilisation de la différentielle totale pour le calcul d'erreurs. Formules et séries de Taylor à une et deux variables : approximations d'une fonction. Applications en ingénierie: principe de superposition des forces et des vecteurs vitesses, les 3 lois de Newton, intégration de la deuxième loi de Newton et conditions initiales, vecteurs accélérations normale et tangentielle, topographie, équations de Laplace, de la chaleur et des ondes. Utilisations d'un logiciel de calcul.\",\n",
       " \" Familiariser avec les notions d'intégrales multiples, curvilignes et de surfaces, de nombres et de variables complexes et de fonctions de variables complexes permettant ainsi de les utiliser pour des applications en ingénierie. Fonctions vectorielles de plusieurs variables: coordonnées cylindriques et sphériques, cylindres et solides cylindriques, sphères et boules, surfaces et solides paramétrés, taux de variation le long d'une courbe orientée et matrice jacobienne, plans tangents à une surface paramétrée. Intégrales multiples : rappel sur l'intégrale simple, principe de Cavalieri, intégrales doubles et triples, changement de variables, applications au génie, méthodes numériques (méthodes des rectangles, du trapèze et de Simpson). Intégration vectorielle: intégration de champs scalaire et vectoriel et interprétations, travail d'une force et circulation d'un champ vectoriel, intégrale d'une surface d'un champ scalaire et d'un champ vectoriel, flux d'un champ vectoriel, applications au génie. Théorèmes fondamentaux en analyse vectorielle: divergence et rotationnel, théorèmes de Green et de Stokes, champs conservatifs et potentiel scalaire, théorème de divergence, flux et divergence, champs solénoïdaux et potentiel vecteur, applications au génie. Fonctions d'une variable complexe : les nombres complexes (plan complexe, algèbre des nombres complexes), fonctions d'une variable complexe, fonctions exponentielle et trigonométriques, fonction logarithmique et puissances complexes. Applications au génie. Utilisations d'un logiciel de calcul.\",\n",
       " \" Rendre apte à identifier, à solutionner et à interpréter les équations différentielles ordinaires et aux dérivées partielles utilisées pour modéliser les systèmes physiques. Équations différentielles d'ordre deux ou plus : équations linéaires d'ordre deux à coefficients constants, réduction de l'ordre, principe de superposition, wronskien, méthode de variation de paramètres, coefficients indéterminés. Méthode numérique : solutionner des équations différentielles et systèmes d'équations différentielles à l'aide de la méthode d'Euler et de Runge-Kutta. Séries de Fourier : développement en série de Fourier, série de Fourier en cosinus, en sinus et exponentielles. Applications : redressement d'un signal alternatif, valeur efficace, identité de Parseval, système ressort-masse, équation des cordes vibrantes, équation de la chaleur dans une tige et de l'équation de Laplace. Méthode numérique : série de Fourier lorsque le signal est donné par un tableau de valeurs. Intégrale de Fourier : forme trigonométrique, forme exponentielle; transformée de Fourier : diverses transformées de Fourier, théorème de convolution. Méthode numérique : transformée de Fourier discrète à l'aide de la transformée de Fourier rapide (FFT). La transformée de Laplace : transformée de fonctions élémentaires, fonctions d'Heaviside et Dirac; propriétés élémentaires de la transformée, solutions de problèmes aux conditions initiales; les méthodes de décomposition des fractions partielles, transformée des fonctions causales périodiques, l'intégrale de convolution de deux fonctions, propagation de la chaleur dans une tige, équation des cordes vibrantes (longueur infinie). Utilisations d'un logiciel de calcul.\",\n",
       " \" Introduire la notion d'entreprise sur  les plans légaux, financiers  et administratifs et fournir des outils pratiques aux individus intéressés à  la création d'une entreprise ou d'un service en relation avec l'ingénierie. Importance de la petite entreprise dans l'économie d'un pays. Analyses  d'entreprises. Motivation pour la création de son propre emploi. Gestion de  l'innovation. Evaluation d'idées, études de marchés, coûts direct et indirect  de production, dépenses de mise en marché, frais généraux.\",\n",
       " \" Introduire la notion d'entreprise sous les aspects légaux, financiers  et administratifs et fournir ces outils pratiques aux individus intéressés à  la création d'une entreprise ou d'un service en relation avec l'ingénierie. Responsabilités professionnelles et sociales. Aspects légaux d'une nouvelle entreprise. Brevets d'invention, licences contrats. Taxes, programmes gouvernementaux de soutien à la création d'emplois et au développement technologique. Relations de travail et gestion de personnel. Projets d'entreprises. Conférences, exposés magistraux, études de cas et projet en équipe.\",\n",
       " \" Acquérir une connaissance générale des différentes lois applicables à la santé et sécurité au travail, ainsi que les obligations de l'employeur et des travailleurs qui s'y rattachent, dans une optique d'ingénieur responsable de la santé et sécurité d'une entreprise, d'un chargé de projet. Connaissance des notions législatives, de financement et de gestion de dossier SST  à la CNESST (ouverture et contestation), d'assignation temporaire et de travail léger ainsi que de gestion de dossier d'accident à l'interne. Application de ces connaissances par études de cas en ingénierie. Mise en contexte d'un chargé de projet face aux obligations de l'employeur.\",\n",
       " \" Familiariser avec la conception et la sélection de diverses composantes mécaniques, électriques et structurales utilisées dans un véhicule moteur. Introduction aux caractéristiques d'opération des moteurs thermiques ou électriques.  Élaboration de courbes de charge et de performance, identification des conditions d'opération stables et instables. Systèmes d'alimentation des moteurs à combustion interne. Carburateur et système d'injection, turbomoteur et super chargeur. Systèmes d'allumage et distribution variable. Instrumentation et système de contrôle du moteur. Étude des systèmes de transmission et d'embrayage : nécessité, type et choix. Fonctionnement des joints universels et homocinétiques.  Structure des véhicules : châssis et éléments de suspension. Comportement dynamique et systèmes de freinage. Systèmes de lubrification, qualité et sélection des lubrifiants.\",\n",
       " \" Permettre de mettre en pratique les connaissances en conception et en sélection de diverses composantes mécaniques, électriques et structurales utilisées dans un véhicule moteur. Connaissance et aptitude à identifier les caractéristiques d'opération des moteurs thermiques ou électriques pour une application précise.  Élaboration des courbes de charge et possible ajustement des performances des moteurs pour obtenir des conditions d'opération optimales. Sélection ou conception d'un système d'alimentation pour un moteur à combustion interne : carburateur, système d'injection, turbomoteur et super chargeur. Aptitude à sélectionner un système d'allumage. Identification de l'instrumentation nécessaire au bon fonctionnement d'un véhicule moteur et possible réalisation de son intégration dans un système de contrôle moteur.  Compréhension du fonctionnement des systèmes de transmission et d'embrayage, des joints universels et homocinétiques ainsi que de leurs effets sur le comportement d'un véhicule.  Aptitude à identifier et au besoin, à modifier et concevoir les éléments importants formant la structure des véhicules : châssis et éléments de suspension.  Compréhension du comportement dynamique d'un véhicule.\",\n",
       " \" Identification des éléments structuraux.  Identification et quantification des charges conformément aux codes applicables:  charges permanentes, surcharges dues à l'usage, charges dues à la neige, charges dues au vent, charges dues aux séismes, calcul aux états limites.  Déformation des structures isostatiques. Introduction à l'étude des systèmes hyperstatiques:  niveau d'hyperstaticité et stabilité de systèmes.  Principe de compatibilité des déformations.  Décomposition et superposition.  Méthode des rotations.  Méthode de distribution des moments (Hardy-Cross).  Lignes d'influence de poutres isostatiques et hyperstatiques (Méthode des équations d'équilibre, application du travail virtuel).\",\n",
       " \" Familiariser l'étudiant aux différentes étapes de la production industrielle  de l'aluminium. Histoire de l'industrie de l'aluminium. Propriétés générales de l'aluminium.  Fabrication de l'alumine (Procédé Bayer). Production de l'aluminium de première  fusion (Procédé Hall-Héroult). Fabrication des anodes. Alliages d'aluminium de  fonderie et de corroyage. Principes de métallurgie appliqués à l'aluminium et  ses alliages.\",\n",
       " \" Initier aux notions avancées en mécanique des solides appliquées à la transformation de l'aluminium et permettre d'acquérir des notions essentielles à la simulation des procédés de mise en forme. Notions de tenseurs.  Schématisation du milieu continu.  Contrainte: équations d'équilibre, notion de contrainte limite, types de contrainte.  Mesure de déformation: types de mesures, taux de déformation.  Principe des travaux virtuels selon différentes configurations de référence.  Théorie des grandes transformations (cinématique, équilibre, objectivité).  Lois usuelles de comportement en mise en forme de l'aluminium et leur intégration numérique. Méthode de recherche et prise en compte des conditions de contact et de frottement.  Influence des contraintes résiduelles.  Déchirures ductiles. Solution et comparaisons avec des calculs par éléments finis.\",\n",
       " \" Familiariser l'étudiant avec les phénomènes physiques et les principales  techniques industrielles utilisés dans les principaux procédés d'assemblages et  de fabrication mécanique. Différents procédés d'assemblage: mécaniques, soudage, brasage et adhésif.   Description des procédés, effet des paramètres, avantages et inconvénients.  Critères de choix et conception d'assemblages.  Notions complémentaires de  fabrication mécanique: jeux, chaines de cote, tolérance, interférence,  caractéristique des surfaces, plans de fabrication.\",\n",
       " \" Acquérir des connaissances de base dans le domaine des matériaux composites et des nanotechnologies au travers d'applications en génie mécanique, électrique et énergétique. Rappel des principes de base en chimie organique et inorganique. Familiarisation des concepts associés aux composites et matrices polymériques, aux différents renforts et aux propriétés mécaniques, diélectriques et énergétiques qui en découlent. Fabrication, caractérisation et application des nanomatériaux/nanocomposites : familiarisation à la préparation des nanoparticules et à l'insertion dans des polymères ou céramiques (prototypage rapide); compréhension de la caractérisation des matériaux par différentes techniques (MEB, MFA,MET, XPS, XRD); applications de ces matériaux dans les domaines de génie mécanique, électrique et énergétique.\",\n",
       " \" Familiariser l'étudiant aux différents facteurs qui influencent le chauffage  et la climatisation des bâtiments et rendre l'étudiant apte à concevoir un  système de climatisation/chauffage en tenant compte des charges de chauffage et  de climatisation du bâtiment. Problématique du chauffage et de la climatisation. Environnement extérieur: températures, rayonnement solaire. Enveloppe du bâtiment: isolants, fenêtres, ponts thermiques, murs et planchers souterrains, diffusion de la vapeur d'eau, infiltration; réglementation. Calcul des charges de chauffage et de climatisation: température sol-air (température équivalente qui tient compte de la température ambiante et du rayonnement solaire), gains internes, gains solaires, ventilation, logiciels de calcul, normes. Appareillage de chauffage et climatisation: chauffage électrique, à gaz et huile; chauffage individuel et central; caloporteurs (eau liquide et vapeur); systèmes à thermopompe. Systèmes de réfrigération à compresseur et à absorption; choix des unités de condensation et évaporation.\",\n",
       " \" Initier l'étudiant au domaine de l'aéronautique, à la mécanique du vol et aux diverses composantes d'un aéronef et aux systèmes de propulsion utilisés en aéronautique dans l'optique de la conception aérodynamique. Performances aérodynamiques. Stabilité et contrôle. Introduction aux systèmes de propulsion. Structure, poids et coût. Comprendre les interrelations existantes entre les lois de la mécanique des fluides, de la thermodynamique, du transfert de chaleur et de la résistance des matériaux dans le fonctionnement d'un aeronef et les limitations imposées lors de la conception.\",\n",
       " \" Familiariser aux concepts, aux modèles, aux algorithmes utilisés pour la  simulation, la vérification et l'optimisation ainsi qu'aux méthodologies  utilisées pour la FAO (fabrication assistée par ordinateur). Habiliter à mettre  en pratique les connaissances acquises avec des logiciels de FAO interactifs et  modernes. Les machines outils, leurs logiciels et leurs environnements. Commande  numérique par ordinateur (CAD-CAM)  -  Trajectoires d'outils -  FAO pour le  prototypage rapide - Ingénierie inverse - Conception et optimisation des lignes  d'assemblage - Bases technologiques et applications pratiques. Optimisation de  procédé de fabrication, calcul des contraintes et déformations. Choix,  implantation et utilisation de logiciels tenant compte des principaux  paramètres: température, vitesse, caractéristiques du métal.  Choix,  implantation et utilisation de logiciels par éléments finis pour la simulation  des processus suivants: fonderie (simulation de remplissage et solidification en fonderie, changement de phase et refroidissement des moules);  soudage et  traitements thermiques, forgeage et matriçage.\",\n",
       " \" Fournir à l'étudiant un complément de formation en relation avec les  exigences de son programme. Le contenu du cours est déterminé en se basant sur la formation de l'étudiant et les exigences requises pour compléter le programme.  Un plan de cours est préparé par le professeur responsable de manière à couvrir les objectifs de formation requis.\",\n",
       " \" Familiariser avec les principales législations du travail et amener à  l'appréciation de leurs impacts sur les pratiques de gestion des ressources  humaines. Partage constitutionnel des compétences en matière de relation de travail.   Gestionnaire et rapports individuels de travail.  Normes de travail et pratiques de gestion des ressources humaines.  Activité syndicale.  Cadre légal des rapports collectifs du travail.  Analyse des dispositions du Code du travail du Québec.  Code canadien du travail (esprit et champs d'application).  Évaluation des contraintes légales en matière de gestion des ressources humaines.\",\n",
       " \" Approfondir la connaissance des structures et du mode de fonctionnement de l'économie québécoise.  Rendre compte de la position qu'occupe le Québec dans le cadre du système nord-américain et mondial, ses perspectives de développement et sa problématique d'adaptation aux exigences de la troisième révolution industrielle. Mode de formation de l'économie québécoise et ses coutumes historiques. Étapes du développement jusqu'à la crise de 1981. Structures de production, de répartition et d'échanges. Niveau de vie et problématique du développement. Politiques économiques et rôle du secteur public. Entrepreneurship québécois.  PME et dynamique régionale. Options de transformation et impératif technologique. Enjeux du libre échange avec les États-Unis.\",\n",
       " \" Offrir des cadres de référence permettant d'intégrer les autres notions qui  seront progressivement acquises durant le programme. Plus particulièrement,  familiariser avec les principales notions de base en matière de théorie  administrative et introduire aux divers principes et systèmes qui régissent  l'articulation, le développement et la croissance de l'entreprise. Accroître la sensibilisation face aux problèmes de management, ainsi que  l'aptitude à les résoudre. L'évolution des théories de management du 19e siècle à nos jours. L'organisation et son environnement (local, national et international). Perspectives classique et contemporaine des éléments du processus de management: planification (processus de planification, management stratégique), organisation (structure, dotation et GRH), direction (leadership, changement organisationnel) et contrôle (types et systèmes de contrôle). Groupe D01 (Wemotaci) - RÉSERVÉ\",\n",
       " \" Aborder les phénomènes liés à la mondialisation en tant que catalyseurs de la transformation et de la recomposition des sociétés et des identités culturelles. Divers aspects de la mondialisation: les marchés, les règles de l'économie  occidentale, les communications, la culture de masse.  Relativisation des  frontières culturelles et phénomène de l'acculturation.  Transformation des  processus identitaires et perte du sentiment d'appartenance à sa communauté:  changements locaux, régionaux, nationaux.  Transformation de modes de vie, de  modes de survie et de modes de pensée: cultures créoles, diasporiques,  hyper modernes.  Diverses stratégies de recomposition du tissu social et la  création de nouvelles solidarités mondiales.\",\n",
       " \" Présenter les grandes étapes de développement scientifique et technique  depuis l'Antiquité jusqu'à tout récemment. Faire ressortir les liens étroits de  ce développement avec l'évolution des idées et les transformations économiques  et sociales. Périodes de stagnation des connaissances scientifiques ou techniques, et  temps des découvertes. Milieux porteurs de la création, de l'innovation.  Réception et réticences théologiques et sociales devant les avancées de la  science. Origines grecques de la pensée scientifique. Prolongements dans le  monde musulman au Moyen Âge. Ouvertures de la Renaissance. Formation de la  méthode et de l'esprit scientifiques. Bouleversement des techniques lors de la  révolution industrielle. Fécondité scientifique du XIXe siècle et nouvelles  disciplines. Réorganisation du monde de la recherche scientifique au XXe  siècle.\",\n",
       " \" Montrer comment les principales théories sociologiques ont abordé le caractère multidimensionnel de l'organisation sociale et perçu les phénomènes sociaux (économiques, politiques, culturels, etc.) en tant qu'ils entretiennent entre eux des rapports étroits, divers et durables. Principales zones ou sous-systèmes de la société (culture, économie, politique, etc.).  Principaux groupes d'acteurs et leurs modes de structuration (classes, genres, communautés, nations, ethnies).  Processus de transformation et de changement (évolution, développement, mouvements sociaux, révolution).  Observation et interprétation de situations sociales concrètes.\",\n",
       " \" Comprendre les principes, les lois et les théories de base en chimie générale; comprendre et expliquer le comportement chimique des éléments et des composés les plus courants de notre environnement. Notions fondamentales: structure électronique, nomenclature inorganique et réactions fondamentales, stoechiométrie appliquée aux réactions fondamentales. Hydrogène: état naturel et propriétés physiques, préparation, structure moléculaire de l'hydrogène, combinaison linéaire des orbitales atomiques, théorie des orbitales moléculaires, composés de l'hydrogène.  Oxygène: état naturel et propriétés physiques, préparation, structure moléculaire, orbitales atomiques, liaisons, propriétés chimiques.  Eau: structure moléculaire, propriétés chimiques, diagramme des phases.  Carbone: composés organiques et inorganiques, structure moléculaire, hydrocarbures saturés et insaturés. Azote, phosphore, soufre: propriétés, stabilité des composés.  Halogènes et alcalins: propriétés, préparation, liaison ionique.  Solutions: équilibre  ionique: pH, solutions tampons.\",\n",
       " \" Connaître les lois qui régissent le mouvement à l'échelle macroscopique et les grands principes de conservation; initier à la nature et au comportement de la lumière à l'aide des phénomènes ondulatoires et de l'optique géométrique et physique. Cinématique vectorielle.  Dynamique vectorielle.  Système de référence inertiel et non inertiel.  Principe de conservation.  Énergie mécanique. Gravitation. Mouvement planétaire.  Ondes: types, propagation, réflexion, transmission, superposition, ondes stationnaires et électromagnétiques.  Optique géométrique: principes de Fermat et d'Huygens, réflexion, réfraction, miroirs, lentilles, résolution. Optique physique: interférence, diffraction, interférométrie, cohérence de phase, polarisation.\",\n",
       " \" Familiariser aux concepts et techniques du calcul différentiel et intégral.   Rendre l'étudiant capable d'utiliser les outils à la résolution de problèmes  liés aux applications physiques en génie. Rappels sur les ensembles et nombres réels.  Valeur absolue, droite orientée, inéquations.  Fonctions et graphes, fonctions élémentaires: puissances, exponentielles, logarithmiques, trigonométriques, hyperboliques, fonctions inverses et composées.  Forme implicite.  Lieux géométriques et les coniques. Représentations paramétriques.  Définition d'une limite et ses propriétés. Calcul de limites de fonctions algébriques.  Continuité  d'une fonction et propriétés des fonctions continues.  Dérivée: définition, existence, propriétés et calculs.  Formules de dérivation, dérivation en chaîne, dérivation implicite.  Différentielle.  Applications des dérivées: extremums de fonctions, tracé d'une courbe, modélisation et optimisation, théorèmes des accroissements finis, limites des formes indéterminées: règle de l'Hôpital.  Approximations d'une fonction par série.  Applications au génie.  Intégrales indéfinies.  Intégrales définies: définition et propriétés.  Théorème fondamental du calcul. Applications: calcul des aires planes, des aires et volumes de révolution, centre de gravité, moment d'inertie, pression des fluides, travail, longueur d'arc.  Intégration numériques.  Intégrales impropres.\",\n",
       " \" Familiariser l'étudiant avec les notions de base d'algèbre vectorielle  et matricielle. Vecteurs géométriques: définition, addition, produit par un scalaire,  combinaison linéaire de vecteurs parallèles et coplanaires, composantes d'un  vecteur.  Vecteurs algébriques: définition, opération sur ces vecteurs.   Produit scalaire et applications.  Produit vectoriel et applications.  Le plan  dans l'espace: équations vectorielle et algébrique du plan, vecteur normal à  un plan, équation normale, angle de deux plans, distance entre deux plans  parallèles, distance d'un point à un plan, équations paramétriques pour un  plan. La droite dans l'espace: équations paramétriques et symétriques, droite  d'intersection de deux plans non parallèles, distance d'un point à une droite,  angle de deux droites, angle d'un plan et d'une droite, point d'une droite le  plus rapproché d'un point donné, intersection d'une droite et d'un plan. Matrices: élément, format, addition, produit par un scalaire, produit des matrices, transposées, déterminants et calculs, inversions de matrices, matrices symétriques et orthogonales, valeurs et vecteurs propres, matrices diagonalisables.  Systèmes d'équations linéaires: expression vectorielle et matricielle d'un système linéaire, matrice augmentée, méthode de Gauss. Notions de nombres et variables complexes: définition et justification des nombres complexes, représentation sur le plan complexe, formes polaire et cartésienne, égalité, inversion et conjugués.  Addition, soustraction.  Forme exponentielle.  Multiplication et division.  Racine.  Fonctions d'une variable complexe: fonctions exponentielles et sinusoïdales.\"]"
      ]
     },
     "execution_count": 31,
     "metadata": {},
     "output_type": "execute_result"
    }
   ],
   "source": [
    "course_descs"
   ]
  },
  {
   "cell_type": "code",
   "execution_count": 32,
   "metadata": {},
   "outputs": [
    {
     "data": {
      "text/html": [
       "<div>\n",
       "<style scoped>\n",
       "    .dataframe tbody tr th:only-of-type {\n",
       "        vertical-align: middle;\n",
       "    }\n",
       "\n",
       "    .dataframe tbody tr th {\n",
       "        vertical-align: top;\n",
       "    }\n",
       "\n",
       "    .dataframe thead th {\n",
       "        text-align: right;\n",
       "    }\n",
       "</style>\n",
       "<table border=\"1\" class=\"dataframe\">\n",
       "  <thead>\n",
       "    <tr style=\"text-align: right;\">\n",
       "      <th></th>\n",
       "      <th>Course Number</th>\n",
       "      <th>Course Name</th>\n",
       "      <th>Course Description</th>\n",
       "    </tr>\n",
       "  </thead>\n",
       "  <tbody>\n",
       "    <tr>\n",
       "      <th>0</th>\n",
       "      <td>6DDG100</td>\n",
       "      <td>Sciences graphiques</td>\n",
       "      <td>Introduire à un langage universel  de la conc...</td>\n",
       "    </tr>\n",
       "    <tr>\n",
       "      <th>1</th>\n",
       "      <td>6GEI218</td>\n",
       "      <td>Circuits électriques</td>\n",
       "      <td>Analyser les circuits électriques en appliqua...</td>\n",
       "    </tr>\n",
       "    <tr>\n",
       "      <th>2</th>\n",
       "      <td>6GEI322</td>\n",
       "      <td>Électrotechnique</td>\n",
       "      <td>Rendre l'étudiant apte à utiliser les princip...</td>\n",
       "    </tr>\n",
       "    <tr>\n",
       "      <th>3</th>\n",
       "      <td>6GEN106</td>\n",
       "      <td>Ingénierie: méthodes et pratique I (génie méca...</td>\n",
       "      <td>Présenter les divers aspects de la profession...</td>\n",
       "    </tr>\n",
       "    <tr>\n",
       "      <th>4</th>\n",
       "      <td>6GEN136</td>\n",
       "      <td>Ingénierie: méthodes et pratique II (génie méc...</td>\n",
       "      <td>Poursuivre la formation en ce qui concerne le...</td>\n",
       "    </tr>\n",
       "    <tr>\n",
       "      <th>...</th>\n",
       "      <td>...</td>\n",
       "      <td>...</td>\n",
       "      <td>...</td>\n",
       "    </tr>\n",
       "    <tr>\n",
       "      <th>56</th>\n",
       "      <td>4SOC133</td>\n",
       "      <td>Système social</td>\n",
       "      <td>Montrer comment les principales théories soci...</td>\n",
       "    </tr>\n",
       "    <tr>\n",
       "      <th>57</th>\n",
       "      <td>1CHM141</td>\n",
       "      <td>Chimie générale</td>\n",
       "      <td>Comprendre les principes, les lois et les thé...</td>\n",
       "    </tr>\n",
       "    <tr>\n",
       "      <th>58</th>\n",
       "      <td>1PHY141</td>\n",
       "      <td>Physique mécanique et optique</td>\n",
       "      <td>Connaître les lois qui régissent le mouvement...</td>\n",
       "    </tr>\n",
       "    <tr>\n",
       "      <th>59</th>\n",
       "      <td>8GMA102</td>\n",
       "      <td>Calcul différentiel et intégral</td>\n",
       "      <td>Familiariser aux concepts et techniques du ca...</td>\n",
       "    </tr>\n",
       "    <tr>\n",
       "      <th>60</th>\n",
       "      <td>8MAT142</td>\n",
       "      <td>Algèbre vectorielle et matricielle</td>\n",
       "      <td>Familiariser l'étudiant avec les notions de b...</td>\n",
       "    </tr>\n",
       "  </tbody>\n",
       "</table>\n",
       "<p>61 rows × 3 columns</p>\n",
       "</div>"
      ],
      "text/plain": [
       "   Course Number                                        Course Name  \\\n",
       "0        6DDG100                                Sciences graphiques   \n",
       "1        6GEI218                               Circuits électriques   \n",
       "2        6GEI322                                   Électrotechnique   \n",
       "3        6GEN106  Ingénierie: méthodes et pratique I (génie méca...   \n",
       "4        6GEN136  Ingénierie: méthodes et pratique II (génie méc...   \n",
       "..           ...                                                ...   \n",
       "56       4SOC133                                     Système social   \n",
       "57       1CHM141                                    Chimie générale   \n",
       "58       1PHY141                      Physique mécanique et optique   \n",
       "59       8GMA102                    Calcul différentiel et intégral   \n",
       "60       8MAT142                 Algèbre vectorielle et matricielle   \n",
       "\n",
       "                                   Course Description  \n",
       "0    Introduire à un langage universel  de la conc...  \n",
       "1    Analyser les circuits électriques en appliqua...  \n",
       "2    Rendre l'étudiant apte à utiliser les princip...  \n",
       "3    Présenter les divers aspects de la profession...  \n",
       "4    Poursuivre la formation en ce qui concerne le...  \n",
       "..                                                ...  \n",
       "56   Montrer comment les principales théories soci...  \n",
       "57   Comprendre les principes, les lois et les thé...  \n",
       "58   Connaître les lois qui régissent le mouvement...  \n",
       "59   Familiariser aux concepts et techniques du ca...  \n",
       "60   Familiariser l'étudiant avec les notions de b...  \n",
       "\n",
       "[61 rows x 3 columns]"
      ]
     },
     "execution_count": 32,
     "metadata": {},
     "output_type": "execute_result"
    }
   ],
   "source": [
    "import pandas as pd\n",
    "\n",
    "df = pd.DataFrame({\n",
    "    \"Course Number\": course_codes,\n",
    "    \"Course Name\": course_names,\n",
    "    \"Course Description\": course_descs\n",
    "})\n",
    "\n",
    "df"
   ]
  },
  {
   "cell_type": "code",
   "execution_count": 33,
   "metadata": {},
   "outputs": [],
   "source": [
    "df.to_csv('UQAC_GenieMecanique_Core_and_Electives_Courses.csv', index = False)"
   ]
  },
  {
   "cell_type": "code",
   "execution_count": 34,
   "metadata": {},
   "outputs": [],
   "source": [
    "driver.quit()"
   ]
  }
 ],
 "metadata": {
  "kernelspec": {
   "display_name": "Python 3",
   "language": "python",
   "name": "python3"
  },
  "language_info": {
   "codemirror_mode": {
    "name": "ipython",
    "version": 3
   },
   "file_extension": ".py",
   "mimetype": "text/x-python",
   "name": "python",
   "nbconvert_exporter": "python",
   "pygments_lexer": "ipython3",
   "version": "3.8.5"
  }
 },
 "nbformat": 4,
 "nbformat_minor": 4
}
