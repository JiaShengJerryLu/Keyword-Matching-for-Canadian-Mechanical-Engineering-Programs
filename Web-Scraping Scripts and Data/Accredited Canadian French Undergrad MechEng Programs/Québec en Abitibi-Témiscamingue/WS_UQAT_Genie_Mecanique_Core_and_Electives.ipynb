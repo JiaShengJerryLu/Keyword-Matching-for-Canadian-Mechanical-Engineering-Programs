{
 "cells": [
  {
   "cell_type": "code",
   "execution_count": 1,
   "metadata": {},
   "outputs": [],
   "source": [
    "from bs4 import BeautifulSoup as soup\n",
    "from urllib.request import urlopen as ureq\n",
    "from selenium import webdriver\n",
    "import time\n",
    "import re"
   ]
  },
  {
   "cell_type": "code",
   "execution_count": 2,
   "metadata": {},
   "outputs": [],
   "source": [
    "url = \"https://www.uqat.ca/etudes/ecole-de-genie/baccalaureat-en-genie-mecanique/\""
   ]
  },
  {
   "cell_type": "code",
   "execution_count": 3,
   "metadata": {},
   "outputs": [],
   "source": [
    "chrome_options = webdriver.ChromeOptions()\n",
    "chrome_options.add_argument('--ignore-certificate-errors')\n",
    "chrome_options.add_argument('--incognito')\n",
    "#chrome_options.add_argument('--headless')\n",
    "\n",
    "driver = webdriver.Chrome(\"C:\\\\Users\\\\jerry\\\\Downloads\\\\chromedriver\", options=chrome_options)"
   ]
  },
  {
   "cell_type": "code",
   "execution_count": 4,
   "metadata": {},
   "outputs": [],
   "source": [
    "driver.get(url)"
   ]
  },
  {
   "cell_type": "markdown",
   "metadata": {},
   "source": [
    "# 1. Collect course link texts for webdriver to click on"
   ]
  },
  {
   "cell_type": "code",
   "execution_count": 10,
   "metadata": {},
   "outputs": [],
   "source": [
    "driver.find_elements_by_class_name(\"btn-accept\")[0].click()"
   ]
  },
  {
   "cell_type": "code",
   "execution_count": 12,
   "metadata": {},
   "outputs": [
    {
     "ename": "IndexError",
     "evalue": "list index out of range",
     "output_type": "error",
     "traceback": [
      "\u001b[1;31m---------------------------------------------------------------------------\u001b[0m",
      "\u001b[1;31mIndexError\u001b[0m                                Traceback (most recent call last)",
      "\u001b[1;32m<ipython-input-12-654eefc19803>\u001b[0m in \u001b[0;36m<module>\u001b[1;34m\u001b[0m\n\u001b[1;32m----> 1\u001b[1;33m \u001b[0mdriver\u001b[0m\u001b[1;33m.\u001b[0m\u001b[0mfind_elements_by_link_text\u001b[0m\u001b[1;33m(\u001b[0m\u001b[1;34m\"Plan de formation\"\u001b[0m\u001b[1;33m)\u001b[0m\u001b[1;33m[\u001b[0m\u001b[1;36m1\u001b[0m\u001b[1;33m]\u001b[0m\u001b[1;33m.\u001b[0m\u001b[0mclick\u001b[0m\u001b[1;33m(\u001b[0m\u001b[1;33m)\u001b[0m\u001b[1;33m\u001b[0m\u001b[1;33m\u001b[0m\u001b[0m\n\u001b[0m",
      "\u001b[1;31mIndexError\u001b[0m: list index out of range"
     ]
    }
   ],
   "source": [
    "driver.find_elements_by_link_text(\"Plan de formation\")[1].click()"
   ]
  },
  {
   "cell_type": "markdown",
   "metadata": {},
   "source": [
    "need to manually click on \"Plan de formation\" button!!"
   ]
  },
  {
   "cell_type": "code",
   "execution_count": 13,
   "metadata": {},
   "outputs": [],
   "source": [
    "page_soup = soup(driver.page_source, 'lxml')"
   ]
  },
  {
   "cell_type": "code",
   "execution_count": 18,
   "metadata": {},
   "outputs": [
    {
     "data": {
      "text/plain": [
       "61"
      ]
     },
     "execution_count": 18,
     "metadata": {},
     "output_type": "execute_result"
    }
   ],
   "source": [
    "links = page_soup.find(\"div\", {\"class\": \"col-xs-12\"}).findAll(\"a\")\n",
    "len(links)"
   ]
  },
  {
   "cell_type": "code",
   "execution_count": 19,
   "metadata": {
    "scrolled": true
   },
   "outputs": [
    {
     "data": {
      "text/plain": [
       "['GEN0009 - Atelier : santé et sécurité au travail (1 cr.)',\n",
       " 'GEN1005 - Calcul I (2 cr.)',\n",
       " \"GEN1100 - Introduction au génie et aux projets d'ingénierie (2 cr.)\",\n",
       " 'GEN2210 - Statique (2 cr.)',\n",
       " 'GEN2250 - Communication graphique (2 cr.)',\n",
       " 'GEN3307 - Informatique I (3 cr.)',\n",
       " 'GEN4110 - Chimie pour ingénieurs (2 cr.)',\n",
       " 'GEN1007 - Calcul II (2 cr.)',\n",
       " \"GEN1201 - L'ingénieur et la société II (1 cr.)\",\n",
       " 'GEN2800 - Morphologie des machines (3 cr.)',\n",
       " 'GEN3115 - Dessin et conception assistés par ordinateur (2 cr.)',\n",
       " 'GEN4139 - Techniques de mesure en génie mécanique (2 cr.)',\n",
       " 'GEN5110 - Matériaux (2 cr.)',\n",
       " 'MEC1400 - Résistance des matériaux I (3 cr.)',\n",
       " 'GEN1004 - Équations différentielles ordinaires et aux dérivées partielles (3 cr.)',\n",
       " 'GEN3250 - Probabilités et statistiques (3 cr.)',\n",
       " 'GEN3420 - Logiciels de simulation (3 cr.)',\n",
       " 'GEN4129 - Fabrication mécanique (3 cr.)',\n",
       " 'MEC2209 - Thermodynamique (3 cr.)',\n",
       " 'GEN2813 - Laboratoire mécanique I (1 cr.)',\n",
       " \"GEN4230 - Éléments d'électrotechnique et d'électronique (3 cr.)\",\n",
       " 'GEN4301 - Conception de systèmes mécaniques (3 cr.)',\n",
       " 'MEC2200 - Dynamique des fluides (3 cr.)',\n",
       " \"MEC2410 - Dynamique de l'ingénieur (4 cr.)\",\n",
       " 'GEN0001 - Atelier : gestion et planification des projets I (1 cr.)',\n",
       " 'GEN2192 - Analyse économique en ingénierie (3 cr.)',\n",
       " 'GEN3321 - Systèmes asservis (3 cr.)',\n",
       " 'GEN4122 - Systèmes hydrauliques et lubrification (3 cr.)',\n",
       " 'GEN4204 - Théorie et conception des turbomachines (3 cr.)',\n",
       " 'GEN4233 - Dynamique des mécanismes complexes (3 cr.)',\n",
       " 'GEN0215 - Analyse numérique (3 cr.)',\n",
       " 'GEN2913 - Laboratoire mécanique II (1 cr.)',\n",
       " 'GEN3112 - Transmission de chaleur (3 cr.)',\n",
       " \"GEN4402 - Projet d'études en ingénierie (3 cr.)\",\n",
       " 'GEN4403 - Conception en ingénierie I (3 cr.)',\n",
       " 'GEN4460 - Systèmes automatisés de fabrication et de production (3 cr.)',\n",
       " 'GEN0002 - Atelier : gestion et planification des projets II (1 cr.)',\n",
       " 'GEN1302 - Engagement social (0 cr.)',\n",
       " 'GEN2805 - Vibrations mécaniques (3 cr.)',\n",
       " 'GEN5124 - Résistance des matériaux II (3 cr.)',\n",
       " \"GEN1401 - L'ingénieur et la société IV (1 cr.)\",\n",
       " 'GEN4401 - Conception en ingénierie II (3 cr.)',\n",
       " \"GEN4404 - Projet appliqué de fin d'études (6 cr.)\",\n",
       " 'GEN4112 - Systèmes hydrauliques automatisés (3 cr.)',\n",
       " 'GEN4118 - Conception des systèmes de sécurité (3 cr.)',\n",
       " 'GEN4135 - Introduction aux éléments finis (3 cr.)',\n",
       " 'GEN4138 - Structures métalliques (3 cr.)',\n",
       " \"GEN4140 - Techniques d'optimisation en ingénierie (3 cr.)\",\n",
       " 'GEN4205 - Modélisation et simulation des écoulements dans les turbomachines (3 cr.)',\n",
       " 'GEN4213 - Mécatronique (3 cr.)',\n",
       " 'GEN4234 - Fiabilité et maintenance (3 cr.)',\n",
       " 'GEN4270 - Énergétique (3 cr.)',\n",
       " 'GEN4305 - Calcul et conception des véhicules (3 cr.)',\n",
       " 'GEN5220 - Procédés de mise en forme des plastiques (3 cr.)',\n",
       " 'GEN4045 - Sujets spéciaux I (2 cr.)',\n",
       " 'GEN4047 - Sujets spéciaux III (1 cr.)',\n",
       " 'GEN4048 - Sujets spéciaux IV (1 cr.)',\n",
       " 'GEN4137 - Mécanique du bâtiment (2 cr.)',\n",
       " 'STI0501 - Stage industriel I (1 cr.)',\n",
       " 'STI0502 - Stage industriel II (1 cr.)',\n",
       " 'STI0503 - Stage industriel III (1 cr.)']"
      ]
     },
     "execution_count": 19,
     "metadata": {},
     "output_type": "execute_result"
    }
   ],
   "source": [
    "link_texts = [link.text.strip() for link in links]\n",
    "link_texts"
   ]
  },
  {
   "cell_type": "markdown",
   "metadata": {},
   "source": [
    "# 2. Test run - try to scrape first course"
   ]
  },
  {
   "cell_type": "code",
   "execution_count": 20,
   "metadata": {},
   "outputs": [],
   "source": [
    "driver.find_element_by_link_text(link_texts[0]).click()"
   ]
  },
  {
   "cell_type": "code",
   "execution_count": 21,
   "metadata": {},
   "outputs": [],
   "source": [
    "driver.switch_to.window(driver.window_handles[1])"
   ]
  },
  {
   "cell_type": "code",
   "execution_count": 22,
   "metadata": {},
   "outputs": [
    {
     "data": {
      "text/plain": [
       "'https://www.uqat.ca/etudes/cours/?code=GEN0009'"
      ]
     },
     "execution_count": 22,
     "metadata": {},
     "output_type": "execute_result"
    }
   ],
   "source": [
    "driver.current_url"
   ]
  },
  {
   "cell_type": "code",
   "execution_count": 23,
   "metadata": {},
   "outputs": [],
   "source": [
    "page_soup = soup(driver.page_source, 'lxml')"
   ]
  },
  {
   "cell_type": "code",
   "execution_count": 25,
   "metadata": {},
   "outputs": [
    {
     "data": {
      "text/plain": [
       "'GEN0009 - Atelier : santé et sécurité au travail'"
      ]
     },
     "execution_count": 25,
     "metadata": {},
     "output_type": "execute_result"
    }
   ],
   "source": [
    "course_title = page_soup.find(\"h1\", {\"id\": \"gesta-cours-titre\"}).text.strip()\n",
    "course_title"
   ]
  },
  {
   "cell_type": "code",
   "execution_count": 26,
   "metadata": {},
   "outputs": [
    {
     "data": {
      "text/plain": [
       "'GEN0009'"
      ]
     },
     "execution_count": 26,
     "metadata": {},
     "output_type": "execute_result"
    }
   ],
   "source": [
    "course_code = course_title.split(\" - \")[0]\n",
    "course_code"
   ]
  },
  {
   "cell_type": "code",
   "execution_count": 27,
   "metadata": {},
   "outputs": [
    {
     "data": {
      "text/plain": [
       "'Atelier : santé et sécurité au travail'"
      ]
     },
     "execution_count": 27,
     "metadata": {},
     "output_type": "execute_result"
    }
   ],
   "source": [
    "course_name = course_title.split(\" - \")[1]\n",
    "course_name"
   ]
  },
  {
   "cell_type": "code",
   "execution_count": 31,
   "metadata": {},
   "outputs": [
    {
     "data": {
      "text/plain": [
       "\"Identifier les principales lois, normes et organismes reliés à la SST. Porter un jugement critique sur les structures en place. Contribuer à l'application des principales lois, règlements et normes dans son milieu de travail. Sensibiliser à l'impact des accidents de travail et à l'importance d'une législation dans ce domaine. Développer une approche préventive.\""
      ]
     },
     "execution_count": 31,
     "metadata": {},
     "output_type": "execute_result"
    }
   ],
   "source": [
    "try:\n",
    "    course_desc_objective = page_soup.find(\"p\", {\"id\": \"gesta-cours-objectifs\"}).text.strip()\n",
    "except AttributeError:\n",
    "    course_desc_objective = \"\"\n",
    "    print(\"No objective\")\n",
    "    \n",
    "try:\n",
    "    course_desc_content = page_soup.find(\"p\", {\"id\": \"gesta-cours-contenu\"}).text.strip()\n",
    "except AttributeError:\n",
    "    course_desc_content = \"\"\n",
    "    print(\"No content\")\n",
    "\n",
    "if course_desc_content == \"Chargement...\":\n",
    "    course_desc = course_desc_objective\n",
    "else:\n",
    "    course_desc = course_desc_objective + \" \" + course_desc_content\n",
    "    \n",
    "course_desc"
   ]
  },
  {
   "cell_type": "code",
   "execution_count": 33,
   "metadata": {},
   "outputs": [],
   "source": [
    "driver.close()"
   ]
  },
  {
   "cell_type": "code",
   "execution_count": 34,
   "metadata": {},
   "outputs": [],
   "source": [
    "driver.switch_to.window(driver.window_handles[0])"
   ]
  },
  {
   "cell_type": "code",
   "execution_count": 35,
   "metadata": {},
   "outputs": [
    {
     "data": {
      "text/plain": [
       "'https://www.uqat.ca/etudes/ecole-de-genie/baccalaureat-en-genie-mecanique/'"
      ]
     },
     "execution_count": 35,
     "metadata": {},
     "output_type": "execute_result"
    }
   ],
   "source": [
    "driver.current_url"
   ]
  },
  {
   "cell_type": "markdown",
   "metadata": {},
   "source": [
    "# 3. Test run complete. Implement automation script to scrape all courses"
   ]
  },
  {
   "cell_type": "code",
   "execution_count": 36,
   "metadata": {},
   "outputs": [
    {
     "name": "stdout",
     "output_type": "stream",
     "text": [
      "Scraped  GEN0009 Atelier : santé et sécurité au travail \n",
      " Identifier les principales lois, normes et organismes reliés à la SST. Porter un jugement critique sur les structures en place. Contribuer à l'application des principales lois, règlements et normes dans son milieu de travail. Sensibiliser à l'impact des accidents de travail et à l'importance d'une législation dans ce domaine. Développer une approche préventive.\n",
      "1 courses scraped\n",
      "\n",
      "Scraped  GEN1005 Calcul I \n",
      " Favoriser un arrimage harmonieux entre la formation mathématique acquise au collégial et les exigences de l'École. Comprendre l'importance, en regard des applications, de l'approximation de fonctions par des expressions n'impliquant que des opérations élémentaires (séries). Connaître les concepts fondamentaux relatifs aux fonctions à valeurs réelles mais qui dépendent de plusieurs variables réelles, ainsi qu'à leurs dérivées. Séries et approximations d'une fonction à une variable, polynôme et série de Taylor, erreur d'approximation, critères de convergence. Nombres complexes : arithmétique des nombres complexes, représentation dans le plan complexe, formes polaire et d'Euler. Fonctions de plusieurs variables : représentation de fonctions, courbes et surfaces de niveau, dérivées partielles, différentielle, gradient et dérivée directionnelle, dérivation en chaîne, polynôme de Taylor à plusieurs variables. Optimisation : extremums sans contrainte,  méthode du gradient, extremums avec contrainte d'égalité ou d'inégalité, multiplicateur de Lagrange.\n",
      "2 courses scraped\n",
      "\n",
      "Scraped  GEN1100 Introduction au génie et aux projets d'ingénierie \n",
      " Amener les étudiants à découvrir en quoi consiste le travail de l'ingénieur : ses réalisations, son profil de carrière, la façon dont il est perçu dans la société, les exigences de sa formation universitaire, les spécialités, etc. et à les amener à confirmer leur choix de carrière. Dans le cadre de la réalisation d'un miniprojet d'ingénierie en équipe, leur permettre d'appliquer la méthode utilisée par les ingénieurs lors de la réalisation de projet d'ingénierie de même que les principes du travail en équipe efficace et les principes reconnus de la rédaction technique et d'une présentation orale. La profession d'ingénieur : nature du travail, types de réalisations, carrières, spécialités, nature de la formation universitaire, recherche de pointe. Réalisation d'un miniprojet : formulation du problème, recherche de solutions, étude de praticabilité, étude de praticabilité, étude préliminaire et prise de décision. Travail en équipe et tenue de réunions efficaces. Planification et rédaction d'un rapport technique. Exposés.\n",
      "3 courses scraped\n",
      "\n",
      "Scraped  GEN2210 Statique \n",
      " Rendre capable de calculer les composantes vectorielles des forces générées dans les membrures d’une structure à l’équilibre et de déterminer les centres de gravité et les moments d’inertie. Forces, couples, systèmes équivalents et équilibre dans le plan et dans l’espace. Applications aux fermes et charpentes de machines. Frottement sec. Centroïde et centres de gravité de corps composés. Moments et produit d’inertie de corps composés. Moments et axes principaux. Cerce de Mohr.\n",
      "4 courses scraped\n",
      "\n",
      "Scraped  GEN2250 Communication graphique \n",
      " Faire connaître les méthodes de communication graphique utilisées dans l'industrie par toute personne impliquée dans la préparation et la réalisation d'un projet. Acquérir la capacité de s'exprimer et de communiquer graphiquement selon les normes et conventions établies, principalement en faisant un usage adéquat des normes canadiennes (ACNOR) de dessin technique. Développer la capacité de communiquer et de s'exprimer graphiquement par la méthode du croquis (à main levée) et à l'aide d'un logiciel reconnu, tel AutoCAD. Analyser et maîtriser le principe de la projection orthogonale. Développer la visualisation spaciale (3D) afin de pouvoir interpréter les plans correctement. Être en mesure de localiser, d'analyser et d'interpréter les informations lors de la lecture de plans. Écriture normalisée. Nature et calibre des traits, convention des lignes cachées, priorité des lignes, introduction à la projection orthogonale et à la représentation isométrique. Technique du croquis (dessin à main levée). Théorie sur la projection orthogonale et représentation isométrique des surfaces planes. Théorie sur la projection des surfaces de révolution, cas particuliers d'intersections et de tangence, représentation isométrique. Théorie sur la représentation des congés et arrondis, surfaces brutes, surfaces usinées, arêtes et contours fictifs. Introduction aux différentes techniques de coupe: conventions et hachures, coupe complète. Théorie sur les différentes techniques de coupe: coupes à plans parallèles, coupe à plans sécants, conventions régissant les coupes de nervures, sections rabattues, sections sorties, coupes locales, demi-coupes, vues partielles et intersections, brisures conventionnelles. Théorie sur les conventions de cotation. Théorie sur la codification et la représentation conventionnelle des filetages intérieurs et extérieurs. Théorie sur les dessins d'assemblage. Théorie sur les vues auxiliaires du premier degré. Logiciel AutoCAD.\n",
      "5 courses scraped\n",
      "\n",
      "Scraped  GEN3307 Informatique I \n",
      " Acquérir les notions fondamentales de l'informatique. L'environnement informatique local : ordinateur et périphériques, système d'exploitation, langage de programmation C. Méthodologie de la programmation : programmation structurée, affinement progressif, algorithme. Rédaction de rapports de programmes. Techniques informatiques : modes de traitement, structures de données, fiches et fichiers.\n",
      "6 courses scraped\n",
      "\n",
      "Scraped  GEN4110 Chimie pour ingénieurs \n",
      " Acquérir les notions fondamentales de la chimie applicables en ingénierie. Tableau périodique et liaison chimique. États de la matière cinétique de réaction. Équilibre en solution aqueuse. Électrochimie. Chimie de l'environnement. Hydrocarbures, polymères et fonctions dérivées.\n",
      "7 courses scraped\n",
      "\n",
      "Scraped  GEN1007 Calcul II \n",
      " Étendre (aux fonctions de deux et trois variables) le concept et les propriétés de l'intégrale d'une fonction d'une seule variable. Comprendre comment les courbes et les surfaces peuvent être paramétrées. Connaître la notion et l'utilité pour le génie des champs vectoriels. Connaître les notions de l'intégrale curviligne et des intégrales de flux à travers différentes surfaces. Comprendre la relation entre des intégrales de flux et d'autres intégrales. Intégrales multiples.  Systèmes de coordonnées.  Changements de variables. Courbes et surfaces paramétrées.  Intégrales curvilignes : travail et circulation.  Champs vectoriels gradients et  champs conservatifs.  Théorème de Green.  Intégrales de surface et de flux pour les graphes, cylindres, sphères et surfaces  paramétrées.  Divergence et théorème de divergence.  Rotationnel  et théorème de Stokes.\n",
      "8 courses scraped\n",
      "\n",
      "Scraped  GEN1201 L'ingénieur et la société II \n",
      " Permettre à l'étudiant de se sensibiliser à ses devoirs envers sa profession, ses collègues et la société. L'environnement. Comment il est affecté par la technologie (introduction).\n",
      "9 courses scraped\n",
      "\n",
      "Scraped  GEN2800 Morphologie des machines \n",
      " Connaître les principales caractéristiques des composantes de machines et d'apprendre à les représenter. Comprendre les grandes étapes de la conception des systèmes mécaniques de transmission de puissance ainsi que les diverses techniques de montage qui permettent d'en agencer les composantes harmonieusement. En plus de traiter ces aspects de conception et de montage, certains éléments de machines sont étudiés plus en détail sur le plan fonctionnel. Cours de base en génie électromécanique qui forme les ingénieurs aux tâches de conception, entretien et de réparation des machines. Théorie des machines. Théorie de l'agrégat. Transmission de puissance. Éléments de tribologie. Lubrifiants et paliers lisses. Roulements. Moteurs (thermiques, électriques, etc.). Machines de travail (turbines, ventilateurs, compresseurs, soufflantes, etc.). Éléments et organes (Courroies, ressorts, arbres et montages, accouplements, freins et embrayages, engrenages, etc.).\n",
      "10 courses scraped\n",
      "\n"
     ]
    },
    {
     "name": "stdout",
     "output_type": "stream",
     "text": [
      "Scraped  GEN3115 Dessin et conception assistés par ordinateur \n",
      " Être en mesure de visualiser en 3D et de représenter graphiquement des pièces et des assemblages de pièces mécaniques à l'aide des vues multiples et de perspectives standard. Vise à développer la capacité de communiquer et de s'exprimer graphiquement à l'aide de logiciels de dessin SolidWorks et Inventor. Les tolérances et les ajustements, l'environnement d'Inventor et de SolidWorks, l'affichage des menus appropriés à la tâche, les systèmes de coordonnées de l'utilisateur, l'ajustement des paramètres de dessin et de l'affichage des fenêtres de visualisation. La création et la gestion de calques, la construction, la modélisation et la modification de formes simples à complexes. Différentes stratégies pour augmenter la productivité : le dessin prototype, le regroupement d'entités, les échanges avec d'autres fichiers, etc. La sortie sur papier en respectant les conventions des communications graphiques : les vues, les formats de papier et les échelles standards, la présentation, la disposition et l'habillage du dessin.\n",
      "11 courses scraped\n",
      "\n",
      "Scraped  GEN4139 Techniques de mesure en génie mécanique \n",
      " Se familiariser avec des techniques de mesure en génie mécanique et des problèmes liés à l'analyse et à l'application des équipements de mesure. Acquérir les notions fondamentales sur la préparation, l'exécution et l'interprétation des opérations de mesurage. Comprendre et interpréter adéquatement des résultats de mesurage et d'expérience de laboratoire. Chaîne de mesures. Précision, erreurs de mesures et loi de composition des erreurs. Métrologie des instruments de mesures. Caractéristiques des capteurs et de logiciel d'aide à la mesure. Traitement des mesures. Mesure de la position. Mesure de la pression. Mesure du débit et de la vitesse d'écoulement. Mesure de la température et de l'humidité. Mesure de fréquences et de modes propres des structures. Mesure de la déformation. Capteurs de force et de couple. Instruments de lecture et d'enregistrement. Planification des mesures.\n",
      "12 courses scraped\n",
      "\n",
      "Scraped  GEN5110 Matériaux \n",
      " Rendre capable d'établir les relations fondamentales qui existent entre les propriétés intrinsèques des matériaux et leurs structures. Mise en évidence des relations entre les propriétés macroscopiques et la structure des matériaux: les métaux, les matières plastiques, les céramiques et les composites. Rigidité et liaisons atomiques. Architecture atomique. Comportement mécanique (fraction, fluage, fatigue, ténacité). Modification des propriétés mécaniques. Dégradation. Propriétés physiques.\n",
      "13 courses scraped\n",
      "\n",
      "Scraped  MEC1400 Résistance des matériaux I \n",
      " Être capable d'évaluer le comportement des corps solides soumis à des sollicitations multiples dans le domaine élastique. Notions de contraintes et déformations. Chargement uniaxial. Cylindre à paroi mince sous pression. Flexion : efforts tranchants, moments fléchissants, contraintes et flèches. Torsion : sections circulaires, tubes à parois minces et sections minces ouvertes. Contraintes et déformations : représentation tensorielle, changement de coordonnées, contraintes principales, cisaillement maximal et état de déformation déterminé par jauges d'extensométrie. Relations contrainte-déformation-température. Écoulement : Tresca, Mises, Rupture : Mohr modifié. Facteur de sécurité.\n",
      "14 courses scraped\n",
      "\n",
      "Scraped  GEN1004 Équations différentielles ordinaires et aux dérivées partielles \n",
      " Résoudre de façon analytique les équations différentielles ordinaires et aux dérivées partielles. Modéliser par des équations différentielles des situations concrètes. Distinguer et utiliser les méthodes de solutions les plus courantes. Introduction aux équations différentielles ordinaires (EDO) et aux dérivées partielles (EDP); champs de directions, classification et application. Équations différentielles d'ordre 1 : équations à variables séparables, exactes (facteur intégrant), linéaire et de Bernouilli. Équations différentielles d'ordre supérieur : solutions fondamentales, équations homogènes à coefficients constants, équations d'Euler-Cauchy, équations non-homogène, oscillations libres et forcées. Systèmes d'équations différentielles : lien avec les équations d'ordre supérieur, systèmes linéaires d'ordre homogènes et non-homogènes, systèmes non linéaires, linéarisation et stabilité. Transformée de Laplace : équations différentielles linéaires non-homogènes avec membre de droite continu ou discontinu. Classification des équations aux dérivées partielles, équation de la chaleur pour une tige, équation d'onde pour une corde et une membrane vibrante, équation de Laplace et résolution du problème de Dirichlet pour un rectangle et un cercle, conditions aux frontières homogènes et non-homogènes, séries de Fourier.\n",
      "15 courses scraped\n",
      "\n",
      "Scraped  GEN3250 Probabilités et statistiques \n",
      " Acquérir des notions en probabilités et en statistiques en vue de leur application aux problèmes d'ingénierie. Notions de probabilités : axiomes, probabilité conditionnelle, règle de Bayes, analyse combinatoire. Variables aléatoires : fonctions de répartition de masse et de densité, espérance et variance. Lois de probabilités usuelles : de Bernoulli, binomiale, géométrique, de Poisson, hypergéométrique uniforme, exponentielle, Gamma, normale de Weibull et de Cauchy. Statistique descriptive : diagrammes, logiciel de base. Distribution d'échantillonnage : estimation, erreur quadratique moyenne, intervalles de confiance, limites de tolérances. Test d'hypothèses : test paramétriques et test d'ajustement. Régression simple. Planification d'expériences, contrôle de la qualité, gestion du risque et simulation numérique.\n",
      "16 courses scraped\n",
      "\n",
      "Scraped  GEN3420 Logiciels de simulation \n",
      " Acquérir de bonnes connaissances de base sur plusieurs logiciels de simulation, qui pourront servir dans plusieurs cours futurs et dans tous genres d'applications. En plus de posséder une connaissance des techniques de simulation et d'analyse de résultats, acquérir les principes de base des logiciels les plus utilisés en ingénierie. Éléments et principes de base de la simulation. Logiciels Matlab, Simulink et différents Toolbox. Logiciels Electronics Workbench et Spice. Logiciel Automation Studio. L'étude de ces différents logiciels devra être effectuée à travers des exemples pratiques liés aux différentes applications du génie.\n",
      "17 courses scraped\n",
      "\n",
      "Scraped  GEN4129 Fabrication mécanique \n",
      " Établir des relations entre la fonction d'une pièce, son design et le processus de fabrication pour la réaliser. Procédés de fabrication : moulage, métallurgie des poudres, mise en forme par déformation à l'état solide, transformation des matières plastiques, procédés de soudage. Usinage : fondements de la coupe des métaux, procédés de coupe des métaux, machines outils, planification du procédé. Cotation, tolérances et ajustements normalisés. Métrologie. Précision géométrique du produit fini, la cotation fonctionnelle et la cotation technologique. Notions de sécurité à chacun des processus. Laboratoires sur certains procédés et études de cas dans le choix des matériaux. Projet : conception d'un produit de complexité moyenne.\n",
      "18 courses scraped\n",
      "\n",
      "Scraped  MEC2209 Thermodynamique \n",
      " Maîtriser les concepts fondamentaux de la thermodynamique et les appliquer à des systèmes d'ingénierie. Définitions et unités : milieu continu, système, substance pure, état, paramètres, évolutions, cycles.  Formes d'énergie. Principes de conservation de masse et d'énergie. Réversibilité et irréversibilité. Chaleur massique. Entropie. Gaz parfait et réel. Évolutions utilisant un gaz parfait. Propriétés des substances pures : tables et diagrammes. Analyse d'un cycle. Cycle de Carnot. Inégalité de Clausius. Second principe et production d'entropie. Cycles classiques de Rankine, Otto, Diesel et Brayton. Psychrométrie.\n",
      "19 courses scraped\n",
      "\n",
      "Scraped  GEN2813 Laboratoire mécanique I \n",
      " Permettre à l'étudiant de se familiariser avec les équipements de type industriel. Lui permettre de faire le lien entre la théorie et la pratique. Développer un sens d'analyse et de synthèse. Développer des habiletés à la rédaction de rapports techniques. Volet résistance des matériaux : essais de traction (bois, acier, aluminium), de torsion et de flexion. Concentration de contraintes. Volet thermodynamique. Centrale thermique à vapeur (cycle de Rankine, première et deuxième lois).\n",
      "20 courses scraped\n",
      "\n"
     ]
    },
    {
     "name": "stdout",
     "output_type": "stream",
     "text": [
      "Scraped  GEN4230 Éléments d'électrotechnique et d'électronique \n",
      " Donner des connaissances de base sur l’analyse de circuits électriques monophasés et triphasés et des circuits électroniques; faire connaître les particularités des circuits alternatifs et le fonctionnement des réseaux électriques avec les différentes machines utilisées dans l’industrie; faire connaître l’application des circuits d’électronique industrielle et de puissance. Concepts fondamentaux : résistance, inductance, capacité, sources dépendantes et indépendantes, sources contrôlées. Lois des mailles et des nœuds. Notions de phaseurs, d'impédances et de puissance. Circuits monophasés et triphasés. Circuits magnétiques, transformateurs, machines électriques. Distribution industrielle et utilisation de l’énergie électrique. Éléments d’électronique : diodes, transistors, thyristors, amplificateurs opérationnels. Introduction à l’électronique industrielle et de puissance. Variateurs électroniques de puissance.\n",
      "21 courses scraped\n",
      "\n",
      "Scraped  GEN4301 Conception de systèmes mécaniques \n",
      " Acquérir des notions de design des systèmes mécaniques par le biais d'un projet de conception en équipe. Les éléments de machines dont ceux ci-après mentionnés. Facteur de sécurité, critères d'écoulement. Fatigue : diagramme de Goodman, cumul de dommage. Vis : mécanique de la vis, autoblocage, couple-tension. Boulons : mécanique d'un joint boulonné, résistance. Assemblages : modes de rupture, analyse des efforts. Roulements : nomenclature, calcul des charges et de durée. Engrenages droits : nomenclature, géométrie, résistance. Soudure : mécanique, résistance. Ressorts : ressorts cylindriques hélicoïdaux, contraintes admissibles. Joints de cardan et joints homocinétiques. Cames. Transmission par chaînes. Trains d'engrenages. Freins. Embrayages. Lubrification.\n",
      "22 courses scraped\n",
      "\n",
      "Scraped  MEC2200 Dynamique des fluides \n",
      " Acquérir les notions fondamentales de la dynamique des fluides incompressibles. Notions sur les fluides. Statique des fluides, équations fondamentales. Cinématique des fluides, fonction de courant, écoulement potentiel. Dynamique des fluides, équation de l'énergie, équation de la quantité de mouvement, fluides visqueux. Écoulement isentropique d'un gaz parfait, vitesse du son, choc normal, friction. Équations adimensionnelles et similitude. Écoulement laminaire et turbulent dans les conduites. Concepts de la couche limite laminaire et turbulente.\n",
      "23 courses scraped\n",
      "\n",
      "Scraped  MEC2410 Dynamique de l'ingénieur \n",
      " Être capable de calculer les forces et les déplacements dans des systèmes dynamiques. Application des concepts fondamentaux de  la mécanique rationnelle à l'étude des mécanismes et machines : lois de Newton, travail - énergie, quantité de mouvement, impulsion, puissance. Dérivation des équations du mouvement par les principes généralisés de Newton, de Alembert et de Lagrange. Systèmes vibrants à un et deux degrés de liberté. Réponse libre et forcée, isolation des vibrations.\n",
      "24 courses scraped\n",
      "\n",
      "Scraped  GEN0001 Atelier : gestion et planification des projets I \n",
      " Initier les étudiants aux techniques de planification et de gestion de projet. Introduction à la planification et horaire de projet : définitions et discussions; techniques traditionnelles de planification de projet; programmation; identification des tâches et des responsabilités, cédule du projet (PERT-CPM); ressources du projet; budget financier du projet. Introduction à la gestion du projet : élaboration du plan global; gestion du progrès technique du projet; contrôle du projet; contrôle de la durée du projet.\n",
      "25 courses scraped\n",
      "\n",
      "Scraped  GEN2192 Analyse économique en ingénierie \n",
      " Initier les étudiants aux concepts fondamentaux d’analyse économique, aux techniques d’analyses d’états financiers et de rentabilité de projet et aux pratiques de prise de décision.\n",
      "\n",
      "À la fin de ce cours, l’étudiant aura des notions suffisantes en faisabilité financière de projet pour faire une première évaluation financière de son projet à l’étude dans le cadre du cours « GEN4404 Projet appliqué de fin d’étude » si cela est requis. États financiers : le bilan et l'état des résultats. Analyse des états financiers. Analyse du seuil de rentabilité : coûts, revenus et profits. Intérêt et relations temps-argent. Méthode de comparaison et de sélection de projets. Valeurs et amortissement. Analyse de rentabilité après impôts.\n",
      "26 courses scraped\n",
      "\n",
      "Scraped  GEN3321 Systèmes asservis \n",
      " Développer chez l’étudiant un esprit pointu d’analyse et de synthèse nécessaire dans la conception et dans la réalisation des systèmes asservis réels, fiables, et précis, par une approche pédagogique à la fois théorique et pratique. Connaître les définitions, le vocabulaire, les concepts et les formalismes propres à la commande des systèmes linéaires; comprendre la structure et le fonctionnement d’une commande en boucle fermée ainsi que les concepts d’analyse d’un système asservi linéaire; maîtriser les méthodes de modélisation, d’analyse (temporelle et fréquentielle), d’étude de la stabilité d’un système linéaire invariant et être capable à partir des spécifications d’un cahier de charges de faire le design de contrôleurs (PI, PID, avance de phase, etc.). Développer chez l’étudiant la capacité d’élaborer un programme de simulation numérique et de l’intégrer dans la résolution d’un problème d’analyse des systèmes asservis. Être en mesure de réaliser l’asservissement de quelques systèmes électromécaniques. Transformation de Laplace. Théorème de la valeur finale et initiale. Modélisation mathématique des systèmes physiques : électriques, mécaniques, hydrauliques, thermiques, et électromécaniques. Fonction de transfert, diagrammes  blocs, règle de Masson. Réponses temporelles des systèmes de premier et deuxième ordre; effet du retard. Performances d’un système asservi. Boucle de régulation. Lieu des racines. Critère de stabilité de Routh-Hurwitz. Critère du revers. Réponses fréquentielles. Marge de gain et marge de phase. Critère de stabilité de Nyquist et de Bode. Abaques. Techniques de régulation industrielle (P, PI et PID, placement de pôles, avance de phase, retard de phase). Conception et simulation par Matlab/Simulink d’une régulation de vitesse et d’un asservissement de position de systèmes entraînés par une machine CC. Asservissement des systèmes industriels.\n",
      "27 courses scraped\n",
      "\n",
      "Scraped  GEN4122 Systèmes hydrauliques et lubrification \n",
      " Acquérir des notions de lubrification et des systèmes hydrauliques applicables dans l'industrie. Systèmes hydrauliques. Notions de base et symboles pour représentation graphique. Étude des composantes de base : pompes, moteurs, vérins et valves. Détermination du cycle de travail et des charges mécaniques. Pertes et rendements, températures de fonctionnement. Moyens d'améliorer le rendement énergétique. Caractéristiques des transmissions hydrostatiques. Autres valves et composantes. Commande tout ou rien et commande proportionnelle. Lubrification. Frottement sec, usure et fini de surface. Lubrifiants : type et propriétés. Étude des paliers lisses fonctionnant en régime hydrodynamique. Conception de paliers lisses fonctionnant en régime mixte ou onctueux.\n",
      "28 courses scraped\n",
      "\n",
      "Scraped  GEN4204 Théorie et conception des turbomachines \n",
      " Se familiariser avec des différents types et organes des turbomachines. Comprendre les types d'écoulement rencontrés dans des turbomachines. Acquérir les notions de base sur la conception, le dimensionnement, la réalisation et  le fonctionnement des turbomachines en tenant compte des aspects techniques, économiques et environnementaux, et en utilisant les outils les plus avancés de l'ingénieur. Concepts de base de la dynamique et du transfert énergétique d'un fluide en mouvement. Théorie fondamentale et classification des turbomachines (pompes, turbines, ventilateurs, soufflantes, compresseurs). Loi d'Euler et triangles des vitesses. Caractéristiques de fonctionnement des turbomachines. Lois de similitude des régimes de fonctionnement des turbomachines. Pertes de charge, fuites, cavitation et instabilités de fonctionnement des turbomachines. Procédure générale de conception des turbomachines et analyse au point de design et hors design. Vitesse spécifique et méthode de sélection des turbomachines. Montage et dynamique des rotors (équilibrage) des turbomachines.\n",
      "29 courses scraped\n",
      "\n"
     ]
    },
    {
     "name": "stdout",
     "output_type": "stream",
     "text": [
      "Scraped  GEN4233 Dynamique des mécanismes complexes \n",
      " Permettre à l'étudiant de s'initier aux principes de calcul des systèmes mécaniques complexes dans un contexte industriel. Structure des mécanismes : définitions, classifications, transformations des couples cinématiques, modules.  Mécanismes à membrures articulées : analyse cinématique des mécanismes plans, synthèse cinématique des mécanismes plans.  Cames : définitions, analyse cinématique, synthèse, optimisation des dimensions.  Cinétostatique : les forces en mécanismes, équilibrage dynamique.  Dynamique : bilan énergétique, rendement, modèles dynamiques, mouvement réel, réglage du mouvement.  Introduction à la robotique.  Conception assistée par ordinateur.  Applications industrielles.\n",
      "30 courses scraped\n",
      "\n",
      "Scraped  GEN0215 Analyse numérique \n",
      " Acquérir des notions d'analyse numérique. Arithmétique des calculateurs. Analyse d'erreurs dans les opérations élémentaires. Chiffres significatifs exacts.  Équations non-linéaires, méthodes de points fixes et de Newton, ordre de convergence. Systèmes linéaires, factorisation LU, conditionnement et amélioration itérative. Systèmes non-linéaires. Polynôme d'interpolation et splines.  Différentiation et intégration numérique. Résolution numérique d'équations différentielles, méthodes de Runge-Kutta et de prédiction-correction.\n",
      "31 courses scraped\n",
      "\n",
      "Scraped  GEN2913 Laboratoire mécanique II \n",
      " Permettre à l'étudiant de se familiariser avec les équipements de type industriel. Lui permettre de faire le lien entre la théorie et la pratique. Développer un sens d'analyse et de synthèse. Développer des habiletés à la rédaction de rapports techniques. Volet dynamique des fluides : écoulements d'eau en conduites, force d'impact d'un jet d'eau, courbe caractéristique d'une pompe. Pompes en séries et en parallèles. Volet transmission de chaleur : ailette, conduction radiale, conduction axiale, échangeur de chaleur à écoulement transversal d'air, convection naturelle et forcée avec radiation.\n",
      "32 courses scraped\n",
      "\n",
      "Scraped  GEN3112 Transmission de chaleur \n",
      " Rendre apte à analyser et à calculer les échanges de chaleur par conduction, convection et rayonnement. Conduction en régime permanent : unidirectionnelle, multidimensionnelle, méthodes analytiques, analogiques et numériques. Conduction en régime transitoire : solutions analytiques, abaques et méthodes numériques. Convection naturelle et forcée : solutions analytiques, coefficients de transfert, corrélations.  Rayonnement : principe, corps noir, gris, réel, facteur de forme, rayonnement des gaz, effet combiné du rayonnement et de la convection. Échangeurs de chaleur : bilan macroscopique d'énergie, types d'échangeurs, encrassement, efficacité, conceptions. Transfert thermique avec changement de phase : ébullition, condensation, évaporateurs.\n",
      "33 courses scraped\n",
      "\n",
      "Scraped  GEN4402 Projet d'études en ingénierie \n",
      " Développer chez l'étudiant l'esprit de synthèse et d'innovation et lui permettre d'appliquer la méthodologie de projet d'ingénierie. Le projet vise la solution d'un problème réel académique ou industriel. L'étudiant ou l'équipe doit analyser les aspects techniques du problème soumis; il doit effectuer la conception ou l'implantation d'une solution novatrice qui démontre sa capacité à réaliser un projet d'ingénierie.\n",
      "34 courses scraped\n",
      "\n",
      "Scraped  GEN4403 Conception en ingénierie I \n",
      " Permettre à l'étudiant d'approfondir la méthodologie associée à la conception en ingénierie et l'appliquer à un problème concret. Rencontre hebdomadaire de 3 heures du professeur avec l'étudiant ou l'équipe d'étudiants pour le suivi et la validation du volet conception en ingénierie (design) lié au Projet d'études en ingénierie.\n",
      "35 courses scraped\n",
      "\n",
      "Scraped  GEN4460 Systèmes automatisés de fabrication et de production \n",
      " Se familiariser avec des concepts d’automatisation des systèmes de fabrication. Analyser, concevoir, programmer et interfacer des systèmes automatisés. Acquérir les notions de conception et d'implantation de systèmes de fabrication automatisée. Comprendre les notions de base de gestion des systèmes de production automatisée et se familiariser avec les méthodes et les outils d’analyse de la productivité. Comprendre la commande et le contrôle des procédés de fabrication. Apprendre et maîtriser les outils informatiques et les logiciels d’intégration de la fabrication pour la planification des procédés de fabrication mécanique, la gestion des bases de données et des réseaux. Structure et composantes d'un système de fabrication flexible. Théorie fondamentale de l'automatisation de la fabrication mécanique. Classification et principe de fonctionnement et programmation de machines-outils à commande numérique. Conception, dimensionnement et programmation des robots industriels. Automatisation des systèmes de fabrication et automates programmables. Commande et contrôle des procédés de fabrication mécanique automatisée. Planifications techniques, économiques et environnementales de systèmes de fabrication automatisée. Intégration de la fabrication avec les autres ressources de l'entreprise. Technologie mécanique de prototypage rapide.\n",
      "36 courses scraped\n",
      "\n",
      "Scraped  GEN0002 Atelier : gestion et planification des projets II \n",
      " Amener les étudiants à approfondir des techniques de planification et de gestion de projet. Gestion de projet. Planification et horaire de projet : définitions et discussions; techniques traditionnelles de planification de projet; programmation; identification des tâches et des responsabilités, cédule du projet (PERT-CPM); multiprojets, rapports au management. Planification des ressources du projet : relations temps-coûts et durée du chemin critique; ressources du projet; budget financier du projet; multiprojets; rapports au management. Gestion du projet : élaboration du plan global; contrôle du progrès technique du projet; contrôle du coût du projet; contrôle de la durée du projet; multiprojets; rapports au management.\n",
      "37 courses scraped\n",
      "\n",
      "Scraped  GEN1302 Engagement social \n",
      " Permettre à l'étudiant de se sensibiliser à ses devoirs envers sa profession, ses collègues et la société. L'engagement social. Suite à une première réflexion sur l'engagement social, les étudiants seront invités 30 heures/étudiant de leur temps dans un projet en milieu : association étudiante; tuteur d'étudiants collégiens en mathématiques et en physique; dépannage chez les organismes qui interviennent auprès des personnes ayant un handicap physique (ergonomie); organisation d'activités avec l'Ordre des ingénieurs de l'Abitibi-Témiscamingue; (bénévolat dans le milieu) etc.  Les projets doivent être approuvés par le directeur du Module de l'École de génie.\n",
      "38 courses scraped\n",
      "\n",
      "Scraped  GEN2805 Vibrations mécaniques \n",
      " Modéliser le comportement d'une structure; Donner la réponse temporelle; Développer une analyse modale; Traiter des applications industrielles. Vibrations des systèmes à un degré de mobilité. Mesure des vibrations. Analyse modale. Vibrations des systèmes à deux et plusieurs degrés de mobilité. Analyse modale expérimentale (instrumentation, logiciels de simulation, principales sources vibratoires, équilibrage, etc.).\n",
      "39 courses scraped\n",
      "\n",
      "Scraped  GEN5124 Résistance des matériaux II \n",
      " Permettre à l'étudiant d'approfondir ses notions en résistance des matériaux (cours MEC1400) surtout lors de la résolution de problèmes de mécanique du solide sous l'effet des chargements couramment rencontrés (compression, tension, flexion, torsion). Développer chez l'étudiant la capacité d'analyser le comportement de structures simples ou complexes et de déterminer leur capacité de résistance afin de minimiser les risques de défaillance pour des coûts modérés. Fournir à l’étudiant des outils d’aide à la conception de structures diverses. Notions à approfondir : contraintes-déformations/déplacements. Critères de défaillance, facteur de sécurité. Flambement : appuis élastiques, membrures élastiques, charge excentrée, autres modes de flambement. Corps axisymétriques : coques à paroi mince, cylindres à paroi épaisse, disque en rotation. Torsion : théorie générale, profilés minces ouverts et fermés. Flexion gauche : contrainte normale dans les poutres composées, cisaillement, centre de cisaillement. \n",
      "Nouvelles notions à acquérir : comportement au-delà de la limite élastique (analyse limite). Méthodes des énergies de déformation : théorèmes de Maxwell-Betti et de Castigliano, travail virtuel.\n",
      "40 courses scraped\n",
      "\n"
     ]
    },
    {
     "name": "stdout",
     "output_type": "stream",
     "text": [
      "Scraped  GEN1401 L'ingénieur et la société IV \n",
      " Permettre à l'étudiant de se sensibiliser à ses devoirs envers sa profession, ses collègues et la société. Déontologie (suite). La loi et l'ingénieur; la pratique du génie, adhésion à l'Ordre des ingénieurs du Québec, etc.\n",
      "41 courses scraped\n",
      "\n",
      "Scraped  GEN4401 Conception en ingénierie II \n",
      " Permettre à l'étudiant d'approfondir la méthodologie associée à la conception en ingénierie et l'appliquer à un problème concret d'envergure soumis de préférence par l'industrie. Rencontre hebdomadaire de 3 heures du professeur avec l'étudiant ou l'équipe d'étudiants pour le suivi et la validation du volet conception en ingénierie (design) lié au Projet appliqué de fin d'études.\n",
      "42 courses scraped\n",
      "\n",
      "Scraped  GEN4404 Projet appliqué de fin d'études \n",
      " Développer chez l'étudiant l'esprit de synthèse et d'innovation dans le cadre d'un projet de conception en ingénierie.  Développer l'esprit du travail d'équipe et de leadership. Développer les techniques de recherche autonome et l'approfondissement de ses connaissances. Réaliser des projets d'ingénierie d'envergure basés sur les connaissances acquises. Développer des habiletés de communication verbale et écrite. L'étudiant doit réaliser un travail de niveau professionnel sur un problème réel suggéré de préférence par l'industrie.  Sous la supervision d'un professeur, il doit analyser en profondeur les différents aspects techniques, économiques, sociaux et environnementaux du problème soumis. Le travail de l'étudiant doit inclure la conception et / ou l'implantation d'une solution novatrice faisant la preuve de ses capacités et de son potentiel à réaliser un projet d'ingénierie. Les différentes parties du projet font l'objet d'évaluation, en particulier le rapport de progrès, le rapport final et la présentation orale.\n",
      "43 courses scraped\n",
      "\n",
      "Scraped  GEN4112 Systèmes hydrauliques automatisés \n",
      " Présentation des lois générales qui régissent l’hydraulique et l’exposition des méthodes d’étude des mécanismes électrohydrauliques asservis. Analyse des exemples de mécanismes hydrauliques automatisés. Asservissement hydraulique : les débits hydrauliques, les forces hydrauliques, l’étude dynamique linéaire, régimes transitoires. Régulation hydraulique : régulation de pression, régulation de débit. La servovalve hydraulique (en débit, en pression). Exemples d’asservissement en position. Construction des éléments des systèmes hydrauliques automatiques. Fonctions de transfert des éléments hydrauliques. Simulation. Exemples des systèmes hydrauliques automatisés (réglage de la position, vitesse, pression, débit). Dispositifs mécano-hydrauliques de correction.\n",
      "44 courses scraped\n",
      "\n",
      "Scraped  GEN4118 Conception des systèmes de sécurité \n",
      " Connaître les lois et les règlements concernant la sécurité au travail. Présenter des principes de conception pour améliorer la sécurité des machines. Donner des exemples et études de cas de conception des systèmes en vue de les rendre plus sécuritaires. Lois et règlements en vigueur. Notions de cyndinique : les lois du danger, les risques, la genèse des accidents de travail. La conception de la sécurité des systèmes complexes : la méthode des arbres de défection (MAD). La protection intrinsèque (mesures techniques visant l’élimination complète de l’homme du processus de production), la protection collective (le combat des nocivités chimiques par ventilation industrielle, la prévention de l’électrocution, le combat du bruit et vibrations, le combat des risques mécaniques, l’éclairage, etc.), la protection intégrée. L’ergonomie dans la conception sécuritaire. La synthèse des mécanismes complexes (à membrures, à cames, à roues) utilisés dans la construction des dispositifs de sécurité. Conception des systèmes équilibrés par ressorts. Isolations des vibrations, absorbeurs dynamiques de vibrations. La sécurité des cellules de fabrication robotisées. Applications industrielles, études de cas.\n",
      "45 courses scraped\n",
      "\n",
      "Scraped  GEN4135 Introduction aux éléments finis \n",
      " Initier l'étudiant aux principes généraux de la méthode des éléments finis. Le rendre apte à utiliser efficacement un logiciel d'éléments finis pour résoudre des problèmes concrets rencontrés en ingénierie. Introduction: solution complète d'un problème simple à deux dimensions. Maillage, approximation par éléments finis, matrices des éléments, résolution par éléments finis. Principaux éléments: formes classiques, éléments de références, fonctions de bases, critère de convergence, intégration numérique, évaluation des erreurs. Applications: problèmes reliés à la mécanique des fluides, au transfert de chaleur et à la mécanique des solides. Apprentissage du logiciel ALGOR.\n",
      "46 courses scraped\n",
      "\n",
      "Scraped  GEN4138 Structures métalliques \n",
      " Offrir un outil pour le calcul des structures. Connaître les principales caractéristiques des matériaux. Utiliser les principaux standards, normes et codes de construction. Structures en acier. Analyse des structures. Stabilité des structures. Poutres. Design des joints boulonnés et soudés. Fatigue et prescription sismiques. L’aluminium et ses propriétés. Principes de calcul. Assemblages mécaniques. Conception d’assemblages soudés. Fatigue. Exemples d’application.\n",
      "47 courses scraped\n",
      "\n",
      "Scraped  GEN4140 Techniques d'optimisation en ingénierie \n",
      " Ce cours a pour but de familiariser les étudiants avec les principales techniques d’optimisation et leurs applications en génie. À la fin du cours, l’étudiant devrait être capable de formuler un modèle d’optimisation pour représenter un système; d’identifier la technique appropriée pour résoudre un modèle d’optimisation; d’utiliser des outils informatisés pour déterminer la solution optimale à un problème donné; et d’interpréter correctement les résultats obtenus. Introduction à la programmation linéaire et à la modélisation. Modélisation et résolution graphique. Méthode du Simplexe. Analyse postoptimale. Modélisation en nombres entiers. Programmation linéaire en nombres entiers. Théorie des graphes et réseaux. Introduction à la programmation non linéaire.\n",
      "48 courses scraped\n",
      "\n",
      "Scraped  GEN4205 Modélisation et simulation des écoulements dans les turbomachines \n",
      " Comprendre les types d'écoulement rencontrés dans des turbomachines (pompes, turbines, ventilateurs, compresseurs, éoliennes, etc.). Se familiariser avec des outils de modélisation et de simulation numérique des écoulements des fluides dans les turbomachines. S’initier à l’interprétation des résultats de simulation pour l’analyse des performances et l’optimisation des turbomachines. Caractéristiques des écoulements laminaires et turbulents dans les turbomachines. Écoulements avec échange thermique ou sans échange thermique. Équations de continuité, d´Euler et de Navier-Stokes. Turbulence et équations de Reynolds. Modèles de turbulence. Écoulements stationnaires et instationnaires. Courbes de performance des turbomachines. Simulation d’écoulement (CFD : Computational Fluid Dynamics). Création et/ou importation de la géométrie. Types et outils de maillage. Création et/ou importation de maillage. Modélisation et conditions aux limites. Modélisation des roues de turbomachine avec le logiciel « Bladegen ». Maillage des roues de turbomachines avec le logiciel « Turbogrid ». Critère de convergence et précision de la solution numérique. Visualisation et analyse des résultats. Résolution et analyse des résultats avec les logiciels «  Fluent - Gambit» et « ANSYS-CFX ». Optimisation des turbomachines.\n",
      "49 courses scraped\n",
      "\n",
      "Scraped  GEN4213 Mécatronique \n",
      " Ce cours est une introduction à la mécatronique qui est une intégration de l’électronique, de la théorie de commande et de l’informatique en vue de contrôler des systèmes mécaniques. Il a pour but de fournir à l’étudiant les concepts et les structures des systèmes mécatroniques. À la fin de ce cours, l'étudiant devrait être capable de maîtriser les concepts qui régissent les systèmes mécatroniques; de concevoir des systèmes mécatroniques; d’analyser des systèmes mécatroniques; d'utiliser des progiciels pour l'analyse et le design d'un système mécatronique. Exemples de systèmes mécatroniques. Définition des différentes composantes de systèmes mécatroniques. Électronique et traitement du signal. Description des différents circuits analogiques. Signaux analogiques. Signaux numériques. Acquisition des données. Capteurs. Description de différents types de capteurs. Critère de sélection des capteurs. Actionneurs. Actionneurs électriques. Actionneurs hydrauliques. Actionneurs pneumatiques. Avantages et inconvénients des différents types d’actionneurs. Critère de sélection des actionneurs. Microprocesseurs et microcontrôleurs. Structure de commande à l’aide des microprocesseurs ou des microcontrôleurs. Interfaçage des microprocesseurs et des microcontrôleurs. Programmation. Analyse et design des boucles de commande. Systèmes mécatroniques. Architecture de commande : circuits analogiques, circuits numériques, circuits avec PLC, circuits avec microcontrôleur, circuits avec une carte-mère, circuits avec ordinateur personnel. Étude de cas.\n",
      "50 courses scraped\n",
      "\n"
     ]
    },
    {
     "name": "stdout",
     "output_type": "stream",
     "text": [
      "Scraped  GEN4234 Fiabilité et maintenance \n",
      " Apprendre la théorie de la fiabilité des équipements (machines) de production et pouvoir l'appliquer en milieu industriel. Apprendre la théorie et les techniques de gestion de la maintenance en entreprise manufacturière et pouvoir implanter un système de gestion de maintenance.\n",
      "\n",
      "Familiarisation avec les principes de base de fiabilité, de disponibilité et de logistique de maintenance. Applications aux modélisations de fiabilité de systèmes complexes et aux développements et aux implantations de systèmes de maintenance préventive. Conception de système intégré de fiabilité ou d'un programme de maintenance dans une entreprise. Identification des lois de fiabilité. Optimisation des politiques de maintenance. Surveillance et diagnostic vibratoire. Maintenance et risques industriels.\n",
      "51 courses scraped\n",
      "\n",
      "Scraped  GEN4270 Énergétique \n",
      " Donner aux étudiants des notions de base sur l’énergie et les technologies de la production d’énergie renouvelable et non renouvelable, ainsi qu’une introduction à la pollution en lien avec la production de l’énergie. Énoncé et introduction du principe de conservation d’énergie. Mesure de l’énergie. Introduction aux technologies de production d’énergie renouvelable : énergie éolienne, centrales hydrauliques, biomasse, énergie solaire photovoltaïque. Introduction aux technologies de production d’énergie non renouvelable : le nucléaire, les fossiles. Efficacité énergétique. Pollution : effet de serre, couche d’ozone, hydrocarbures, etc.\n",
      "52 courses scraped\n",
      "\n",
      "Scraped  GEN4305 Calcul et conception des véhicules \n",
      " Présenter les problèmes fondamentaux de la mécanique des véhicules sur roues, sur chenilles et sur rails. Donner des exemples de calcul dans la conception et l’exploitation des véhicules. Introduction. Caractéristiques des moteurs de véhicules. Cinématique et dynamique des roues et de chenilles. Bilan de traction et équations différentielles de mouvement. Dynamique des véhicules sur roues et sur chenilles. La stabilité transversale des véhicules. Calcul de traction. Le virage des véhicules sur roues et sur chenilles. Mécanismes de transmission et de direction. Les suspensions, les oscillations des véhicules et les indices de confort. Virage des remorques. Véhicules sur rails. Véhicules hybrides. Véhicules autonomes. Applications dans les domaines : minier, forestier, agricole, transport, loisirs.\n",
      "53 courses scraped\n",
      "\n",
      "Scraped  GEN5220 Procédés de mise en forme des plastiques \n",
      " Donner aux étudiants les outils pratiques sur les polymères thermoplastiques, les procédés de mise en forme, les machines et l'outillage liés à la transformation des matières plastiques. Introduction aux polymères et à leurs propriétés. Classification et identification des polymères. Masse moléculaire et sa distribution. Propriétés thermiques, physico-chimiques et mécaniques. Introduction à la transformation des matériaux polymères : injection, extrusion-soufflage et thermoformage. Différents aspects du moulage par injection, extrusion-soufflage et thermoformage. Moulage par injection et extrusion-soufflage: vis, pièces, séquences du procédé, cycle, architecture, remplissage et fermeture du moule, compréhension et utilisation des données PVT, transferts thermiques, etc. Thermoformage: thermoformage en continu, choix des paramètres de réglage versus matière, calcul de l'étirement,  opérations secondaires.\n",
      "54 courses scraped\n",
      "\n",
      "Scraped  GEN4045 Sujets spéciaux I \n",
      " Permettre à l'étudiant d'acquérir des connaissances et de développer des habiletés en relation avec un thème ou un sujet d'étude en ingénierie correspondant à ses besoins de formation. Contenu variable selon les besoins des étudiants et l'expertise professorale disponible.\n",
      "55 courses scraped\n",
      "\n",
      "Scraped  GEN4047 Sujets spéciaux III \n",
      " Permettre à l’étudiant d’acquérir des connaissances et de développer des habiletés en relation avec un thème ou un sujet d’étude en ingénierie correspondant à ses besoins de formation. Le contenu est variable selon les besoins des étudiants et l'expertise professorale disponible.\n",
      "56 courses scraped\n",
      "\n",
      "Scraped  GEN4048 Sujets spéciaux IV \n",
      " Permettre à l’étudiant d’acquérir des connaissances et de développer des habiletés en relation avec un thème ou un sujet d’étude en ingénierie correspondant à ses besoins de formation. Contenu variable selon les besoins des étudiants et l'expertise professorale disponible.\n",
      "57 courses scraped\n",
      "\n",
      "Scraped  GEN4137 Mécanique du bâtiment \n",
      " Acquérir des notions fondamentales de conception de systèmes de chauffage, de plomberie, de ventilation et de climatisation. Déperdition de la chaleur. Corps de chauffe. Chaudières. Systèmes de chauffage à eau chaude à basse et haute températures. Système primaire-secondaire. Système de chauffage à la vapeur. Chauffage au gaz naturel et liquéfié.  Chauffage électrique. Chauffage par rayonnement. Réseaux fermés de tuyauterie. Récupération de chaleur. Réseaux d'eau potable et d'eau chaude domestique. Systèmes de drainage et d'égout pour bâtiment. Étude et application du code de plomberie. Systèmes de projection contre le feu. Systèmes de climatisation et de ventilation.\n",
      "58 courses scraped\n",
      "\n",
      "Scraped  STI0501 Stage industriel I \n",
      " Permettre à l'étudiant de s'initier aux problématiques du milieu industriel ainsi qu'aux exigences de la pratique professionnelle. Sous la supervision d'un professeur ou d'un coordonnateur, l'étudiant vivra pendant quatre mois un apprentissage du travail en entreprise ou dans une institution reconnue dans une fonction technique reliée à ses études.  Un rapport de stage sera exigé et l'évaluation de l'étudiant sera faite par le professeur ou le coordonnateur de stage.\n",
      "59 courses scraped\n",
      "\n",
      "Scraped  STI0502 Stage industriel II \n",
      " Permettre à l'étudiant de s'initier aux problématiques du milieu industriel ainsi qu'aux exigences de la pratique professionnelle. Sous la supervision d'un professeur, l'étudiant vivra pendant quatre mois un apprentissage du travail en entreprise ou dans une institution reconnue dans une fonction technique reliée à ses études. Un rapport de stage sera exigé et l'évaluation de l'étudiant sera faite par le professeur ou le coordonnateur de stage.\n",
      "60 courses scraped\n",
      "\n",
      "Scraped  STI0503 Stage industriel III \n",
      " Permettre à l'étudiant de s'initier aux problématiques du milieu industriel ainsi qu'aux exigences de la pratique professionnelle. Sous la supervision d'un professeur ou d'un coordonnateur, l'étudiant vivra pendant quatre mois un apprentissage du travail en entreprise ou dans une institution reconnue dans une fonction technique reliée à ses études.  Un rapport de stage sera exigé et l'évaluation de l'étudiant sera faite par le professeur ou le coordonnateur de stage.\n",
      "61 courses scraped\n",
      "\n",
      "Finished scraping 61 courses\n"
     ]
    }
   ],
   "source": [
    "from selenium.webdriver.common.keys import Keys\n",
    "from selenium.common.exceptions import NoSuchElementException\n",
    "from selenium.common.exceptions import ElementClickInterceptedException\n",
    "\n",
    "course_codes = []\n",
    "course_names = []\n",
    "course_descs = []\n",
    "no_window_opened = False\n",
    "counter = 0\n",
    "\n",
    "for link_text in link_texts:\n",
    "    #go to course page\n",
    "    try:\n",
    "        link = driver.find_element_by_link_text(link_text)\n",
    "    except NoSuchElementException:\n",
    "        print(\"no link for {}\".format(link_text))\n",
    "        continue\n",
    "\n",
    "    time.sleep(2)\n",
    "    link.click()\n",
    "        \n",
    "    time.sleep(3)\n",
    "    \n",
    "    #switch tabs if needed\n",
    "    if len(driver.window_handles) == 2:\n",
    "        driver.switch_to.window(driver.window_handles[1])\n",
    "    else:\n",
    "        no_window_opened = True\n",
    "    \n",
    "    #scrape course info\n",
    "    page_soup = soup(driver.page_source, 'lxml')\n",
    "    course_title = page_soup.find(\"h1\", {\"id\": \"gesta-cours-titre\"}).text.strip()\n",
    "\n",
    "    course_code = course_title.split(\" - \")[0]\n",
    "    course_name = course_title.split(\" - \")[1]\n",
    "    try:\n",
    "        course_desc_objective = page_soup.find(\"p\", {\"id\": \"gesta-cours-objectifs\"}).text.strip()\n",
    "    except AttributeError:\n",
    "        course_desc_objective = \"\"\n",
    "        print(\"No objective\")\n",
    "        \n",
    "    try:\n",
    "        course_desc_content = page_soup.find(\"p\", {\"id\": \"gesta-cours-contenu\"}).text.strip()\n",
    "    except AttributeError:\n",
    "        course_desc_content = \"\"\n",
    "        print(\"No content\")\n",
    "    \n",
    "    if course_desc_content == \"Chargement...\":\n",
    "        course_desc = course_desc_objective\n",
    "    else:\n",
    "        course_desc = course_desc_objective + \" \" + course_desc_content\n",
    "    \n",
    "    course_codes.append(course_code)\n",
    "    course_names.append(course_name)\n",
    "    course_descs.append(course_desc)\n",
    "    \n",
    "    print(\"Scraped \", course_codes[-1], course_names[-1], \"\\n\", course_descs[-1])\n",
    "    counter += 1    \n",
    "    print(\"{} courses scraped\".format(counter))\n",
    "    print()\n",
    "    \n",
    "    #go to course list page\n",
    "    if no_window_opened:\n",
    "        driver.back()\n",
    "        time.sleep(3)\n",
    "        driver.find_element_by_id(\"tab-admission-et-plan-de-formation\").click()\n",
    "        time.sleep(1)\n",
    "        driver.find_element_by_id(\"slider-plan-de-formation\").click()\n",
    "        time.sleep(1)\n",
    "        driver.find_element_by_id(\"slider-profil-travail-etudes\").click()\n",
    "        time.sleep(1)\n",
    "        no_window_opened = False\n",
    "        \n",
    "    else:    \n",
    "        driver.close()\n",
    "        time.sleep(1)\n",
    "        driver.switch_to.window(driver.window_handles[0])\n",
    "        time.sleep(1)\n",
    "        \n",
    "print(\"Finished scraping {} courses\".format(counter))"
   ]
  },
  {
   "cell_type": "markdown",
   "metadata": {},
   "source": [
    "# 4. Inspect and write to CSV"
   ]
  },
  {
   "cell_type": "code",
   "execution_count": 37,
   "metadata": {
    "scrolled": true
   },
   "outputs": [
    {
     "data": {
      "text/plain": [
       "['GEN0009',\n",
       " 'GEN1005',\n",
       " 'GEN1100',\n",
       " 'GEN2210',\n",
       " 'GEN2250',\n",
       " 'GEN3307',\n",
       " 'GEN4110',\n",
       " 'GEN1007',\n",
       " 'GEN1201',\n",
       " 'GEN2800',\n",
       " 'GEN3115',\n",
       " 'GEN4139',\n",
       " 'GEN5110',\n",
       " 'MEC1400',\n",
       " 'GEN1004',\n",
       " 'GEN3250',\n",
       " 'GEN3420',\n",
       " 'GEN4129',\n",
       " 'MEC2209',\n",
       " 'GEN2813',\n",
       " 'GEN4230',\n",
       " 'GEN4301',\n",
       " 'MEC2200',\n",
       " 'MEC2410',\n",
       " 'GEN0001',\n",
       " 'GEN2192',\n",
       " 'GEN3321',\n",
       " 'GEN4122',\n",
       " 'GEN4204',\n",
       " 'GEN4233',\n",
       " 'GEN0215',\n",
       " 'GEN2913',\n",
       " 'GEN3112',\n",
       " 'GEN4402',\n",
       " 'GEN4403',\n",
       " 'GEN4460',\n",
       " 'GEN0002',\n",
       " 'GEN1302',\n",
       " 'GEN2805',\n",
       " 'GEN5124',\n",
       " 'GEN1401',\n",
       " 'GEN4401',\n",
       " 'GEN4404',\n",
       " 'GEN4112',\n",
       " 'GEN4118',\n",
       " 'GEN4135',\n",
       " 'GEN4138',\n",
       " 'GEN4140',\n",
       " 'GEN4205',\n",
       " 'GEN4213',\n",
       " 'GEN4234',\n",
       " 'GEN4270',\n",
       " 'GEN4305',\n",
       " 'GEN5220',\n",
       " 'GEN4045',\n",
       " 'GEN4047',\n",
       " 'GEN4048',\n",
       " 'GEN4137',\n",
       " 'STI0501',\n",
       " 'STI0502',\n",
       " 'STI0503']"
      ]
     },
     "execution_count": 37,
     "metadata": {},
     "output_type": "execute_result"
    }
   ],
   "source": [
    "course_codes"
   ]
  },
  {
   "cell_type": "code",
   "execution_count": 38,
   "metadata": {
    "scrolled": true
   },
   "outputs": [
    {
     "data": {
      "text/plain": [
       "['Atelier : santé et sécurité au travail',\n",
       " 'Calcul I',\n",
       " \"Introduction au génie et aux projets d'ingénierie\",\n",
       " 'Statique',\n",
       " 'Communication graphique',\n",
       " 'Informatique I',\n",
       " 'Chimie pour ingénieurs',\n",
       " 'Calcul II',\n",
       " \"L'ingénieur et la société II\",\n",
       " 'Morphologie des machines',\n",
       " 'Dessin et conception assistés par ordinateur',\n",
       " 'Techniques de mesure en génie mécanique',\n",
       " 'Matériaux',\n",
       " 'Résistance des matériaux I',\n",
       " 'Équations différentielles ordinaires et aux dérivées partielles',\n",
       " 'Probabilités et statistiques',\n",
       " 'Logiciels de simulation',\n",
       " 'Fabrication mécanique',\n",
       " 'Thermodynamique',\n",
       " 'Laboratoire mécanique I',\n",
       " \"Éléments d'électrotechnique et d'électronique\",\n",
       " 'Conception de systèmes mécaniques',\n",
       " 'Dynamique des fluides',\n",
       " \"Dynamique de l'ingénieur\",\n",
       " 'Atelier : gestion et planification des projets I',\n",
       " 'Analyse économique en ingénierie',\n",
       " 'Systèmes asservis',\n",
       " 'Systèmes hydrauliques et lubrification',\n",
       " 'Théorie et conception des turbomachines',\n",
       " 'Dynamique des mécanismes complexes',\n",
       " 'Analyse numérique',\n",
       " 'Laboratoire mécanique II',\n",
       " 'Transmission de chaleur',\n",
       " \"Projet d'études en ingénierie\",\n",
       " 'Conception en ingénierie I',\n",
       " 'Systèmes automatisés de fabrication et de production',\n",
       " 'Atelier : gestion et planification des projets II',\n",
       " 'Engagement social',\n",
       " 'Vibrations mécaniques',\n",
       " 'Résistance des matériaux II',\n",
       " \"L'ingénieur et la société IV\",\n",
       " 'Conception en ingénierie II',\n",
       " \"Projet appliqué de fin d'études\",\n",
       " 'Systèmes hydrauliques automatisés',\n",
       " 'Conception des systèmes de sécurité',\n",
       " 'Introduction aux éléments finis',\n",
       " 'Structures métalliques',\n",
       " \"Techniques d'optimisation en ingénierie\",\n",
       " 'Modélisation et simulation des écoulements dans les turbomachines',\n",
       " 'Mécatronique',\n",
       " 'Fiabilité et maintenance',\n",
       " 'Énergétique',\n",
       " 'Calcul et conception des véhicules',\n",
       " 'Procédés de mise en forme des plastiques',\n",
       " 'Sujets spéciaux I',\n",
       " 'Sujets spéciaux III',\n",
       " 'Sujets spéciaux IV',\n",
       " 'Mécanique du bâtiment',\n",
       " 'Stage industriel I',\n",
       " 'Stage industriel II',\n",
       " 'Stage industriel III']"
      ]
     },
     "execution_count": 38,
     "metadata": {},
     "output_type": "execute_result"
    }
   ],
   "source": [
    "course_names"
   ]
  },
  {
   "cell_type": "code",
   "execution_count": 39,
   "metadata": {},
   "outputs": [
    {
     "data": {
      "text/plain": [
       "[\"Identifier les principales lois, normes et organismes reliés à la SST. Porter un jugement critique sur les structures en place. Contribuer à l'application des principales lois, règlements et normes dans son milieu de travail. Sensibiliser à l'impact des accidents de travail et à l'importance d'une législation dans ce domaine. Développer une approche préventive.\",\n",
       " \"Favoriser un arrimage harmonieux entre la formation mathématique acquise au collégial et les exigences de l'École. Comprendre l'importance, en regard des applications, de l'approximation de fonctions par des expressions n'impliquant que des opérations élémentaires (séries). Connaître les concepts fondamentaux relatifs aux fonctions à valeurs réelles mais qui dépendent de plusieurs variables réelles, ainsi qu'à leurs dérivées. Séries et approximations d'une fonction à une variable, polynôme et série de Taylor, erreur d'approximation, critères de convergence. Nombres complexes : arithmétique des nombres complexes, représentation dans le plan complexe, formes polaire et d'Euler. Fonctions de plusieurs variables : représentation de fonctions, courbes et surfaces de niveau, dérivées partielles, différentielle, gradient et dérivée directionnelle, dérivation en chaîne, polynôme de Taylor à plusieurs variables. Optimisation : extremums sans contrainte,  méthode du gradient, extremums avec contrainte d'égalité ou d'inégalité, multiplicateur de Lagrange.\",\n",
       " \"Amener les étudiants à découvrir en quoi consiste le travail de l'ingénieur : ses réalisations, son profil de carrière, la façon dont il est perçu dans la société, les exigences de sa formation universitaire, les spécialités, etc. et à les amener à confirmer leur choix de carrière. Dans le cadre de la réalisation d'un miniprojet d'ingénierie en équipe, leur permettre d'appliquer la méthode utilisée par les ingénieurs lors de la réalisation de projet d'ingénierie de même que les principes du travail en équipe efficace et les principes reconnus de la rédaction technique et d'une présentation orale. La profession d'ingénieur : nature du travail, types de réalisations, carrières, spécialités, nature de la formation universitaire, recherche de pointe. Réalisation d'un miniprojet : formulation du problème, recherche de solutions, étude de praticabilité, étude de praticabilité, étude préliminaire et prise de décision. Travail en équipe et tenue de réunions efficaces. Planification et rédaction d'un rapport technique. Exposés.\",\n",
       " 'Rendre capable de calculer les composantes vectorielles des forces générées dans les membrures d’une structure à l’équilibre et de déterminer les centres de gravité et les moments d’inertie. Forces, couples, systèmes équivalents et équilibre dans le plan et dans l’espace. Applications aux fermes et charpentes de machines. Frottement sec. Centroïde et centres de gravité de corps composés. Moments et produit d’inertie de corps composés. Moments et axes principaux. Cerce de Mohr.',\n",
       " \"Faire connaître les méthodes de communication graphique utilisées dans l'industrie par toute personne impliquée dans la préparation et la réalisation d'un projet. Acquérir la capacité de s'exprimer et de communiquer graphiquement selon les normes et conventions établies, principalement en faisant un usage adéquat des normes canadiennes (ACNOR) de dessin technique. Développer la capacité de communiquer et de s'exprimer graphiquement par la méthode du croquis (à main levée) et à l'aide d'un logiciel reconnu, tel AutoCAD. Analyser et maîtriser le principe de la projection orthogonale. Développer la visualisation spaciale (3D) afin de pouvoir interpréter les plans correctement. Être en mesure de localiser, d'analyser et d'interpréter les informations lors de la lecture de plans. Écriture normalisée. Nature et calibre des traits, convention des lignes cachées, priorité des lignes, introduction à la projection orthogonale et à la représentation isométrique. Technique du croquis (dessin à main levée). Théorie sur la projection orthogonale et représentation isométrique des surfaces planes. Théorie sur la projection des surfaces de révolution, cas particuliers d'intersections et de tangence, représentation isométrique. Théorie sur la représentation des congés et arrondis, surfaces brutes, surfaces usinées, arêtes et contours fictifs. Introduction aux différentes techniques de coupe: conventions et hachures, coupe complète. Théorie sur les différentes techniques de coupe: coupes à plans parallèles, coupe à plans sécants, conventions régissant les coupes de nervures, sections rabattues, sections sorties, coupes locales, demi-coupes, vues partielles et intersections, brisures conventionnelles. Théorie sur les conventions de cotation. Théorie sur la codification et la représentation conventionnelle des filetages intérieurs et extérieurs. Théorie sur les dessins d'assemblage. Théorie sur les vues auxiliaires du premier degré. Logiciel AutoCAD.\",\n",
       " \"Acquérir les notions fondamentales de l'informatique. L'environnement informatique local : ordinateur et périphériques, système d'exploitation, langage de programmation C. Méthodologie de la programmation : programmation structurée, affinement progressif, algorithme. Rédaction de rapports de programmes. Techniques informatiques : modes de traitement, structures de données, fiches et fichiers.\",\n",
       " \"Acquérir les notions fondamentales de la chimie applicables en ingénierie. Tableau périodique et liaison chimique. États de la matière cinétique de réaction. Équilibre en solution aqueuse. Électrochimie. Chimie de l'environnement. Hydrocarbures, polymères et fonctions dérivées.\",\n",
       " \"Étendre (aux fonctions de deux et trois variables) le concept et les propriétés de l'intégrale d'une fonction d'une seule variable. Comprendre comment les courbes et les surfaces peuvent être paramétrées. Connaître la notion et l'utilité pour le génie des champs vectoriels. Connaître les notions de l'intégrale curviligne et des intégrales de flux à travers différentes surfaces. Comprendre la relation entre des intégrales de flux et d'autres intégrales. Intégrales multiples.  Systèmes de coordonnées.  Changements de variables. Courbes et surfaces paramétrées.  Intégrales curvilignes : travail et circulation.  Champs vectoriels gradients et  champs conservatifs.  Théorème de Green.  Intégrales de surface et de flux pour les graphes, cylindres, sphères et surfaces  paramétrées.  Divergence et théorème de divergence.  Rotationnel  et théorème de Stokes.\",\n",
       " \"Permettre à l'étudiant de se sensibiliser à ses devoirs envers sa profession, ses collègues et la société. L'environnement. Comment il est affecté par la technologie (introduction).\",\n",
       " \"Connaître les principales caractéristiques des composantes de machines et d'apprendre à les représenter. Comprendre les grandes étapes de la conception des systèmes mécaniques de transmission de puissance ainsi que les diverses techniques de montage qui permettent d'en agencer les composantes harmonieusement. En plus de traiter ces aspects de conception et de montage, certains éléments de machines sont étudiés plus en détail sur le plan fonctionnel. Cours de base en génie électromécanique qui forme les ingénieurs aux tâches de conception, entretien et de réparation des machines. Théorie des machines. Théorie de l'agrégat. Transmission de puissance. Éléments de tribologie. Lubrifiants et paliers lisses. Roulements. Moteurs (thermiques, électriques, etc.). Machines de travail (turbines, ventilateurs, compresseurs, soufflantes, etc.). Éléments et organes (Courroies, ressorts, arbres et montages, accouplements, freins et embrayages, engrenages, etc.).\",\n",
       " \"Être en mesure de visualiser en 3D et de représenter graphiquement des pièces et des assemblages de pièces mécaniques à l'aide des vues multiples et de perspectives standard. Vise à développer la capacité de communiquer et de s'exprimer graphiquement à l'aide de logiciels de dessin SolidWorks et Inventor. Les tolérances et les ajustements, l'environnement d'Inventor et de SolidWorks, l'affichage des menus appropriés à la tâche, les systèmes de coordonnées de l'utilisateur, l'ajustement des paramètres de dessin et de l'affichage des fenêtres de visualisation. La création et la gestion de calques, la construction, la modélisation et la modification de formes simples à complexes. Différentes stratégies pour augmenter la productivité : le dessin prototype, le regroupement d'entités, les échanges avec d'autres fichiers, etc. La sortie sur papier en respectant les conventions des communications graphiques : les vues, les formats de papier et les échelles standards, la présentation, la disposition et l'habillage du dessin.\",\n",
       " \"Se familiariser avec des techniques de mesure en génie mécanique et des problèmes liés à l'analyse et à l'application des équipements de mesure. Acquérir les notions fondamentales sur la préparation, l'exécution et l'interprétation des opérations de mesurage. Comprendre et interpréter adéquatement des résultats de mesurage et d'expérience de laboratoire. Chaîne de mesures. Précision, erreurs de mesures et loi de composition des erreurs. Métrologie des instruments de mesures. Caractéristiques des capteurs et de logiciel d'aide à la mesure. Traitement des mesures. Mesure de la position. Mesure de la pression. Mesure du débit et de la vitesse d'écoulement. Mesure de la température et de l'humidité. Mesure de fréquences et de modes propres des structures. Mesure de la déformation. Capteurs de force et de couple. Instruments de lecture et d'enregistrement. Planification des mesures.\",\n",
       " \"Rendre capable d'établir les relations fondamentales qui existent entre les propriétés intrinsèques des matériaux et leurs structures. Mise en évidence des relations entre les propriétés macroscopiques et la structure des matériaux: les métaux, les matières plastiques, les céramiques et les composites. Rigidité et liaisons atomiques. Architecture atomique. Comportement mécanique (fraction, fluage, fatigue, ténacité). Modification des propriétés mécaniques. Dégradation. Propriétés physiques.\",\n",
       " \"Être capable d'évaluer le comportement des corps solides soumis à des sollicitations multiples dans le domaine élastique. Notions de contraintes et déformations. Chargement uniaxial. Cylindre à paroi mince sous pression. Flexion : efforts tranchants, moments fléchissants, contraintes et flèches. Torsion : sections circulaires, tubes à parois minces et sections minces ouvertes. Contraintes et déformations : représentation tensorielle, changement de coordonnées, contraintes principales, cisaillement maximal et état de déformation déterminé par jauges d'extensométrie. Relations contrainte-déformation-température. Écoulement : Tresca, Mises, Rupture : Mohr modifié. Facteur de sécurité.\",\n",
       " \"Résoudre de façon analytique les équations différentielles ordinaires et aux dérivées partielles. Modéliser par des équations différentielles des situations concrètes. Distinguer et utiliser les méthodes de solutions les plus courantes. Introduction aux équations différentielles ordinaires (EDO) et aux dérivées partielles (EDP); champs de directions, classification et application. Équations différentielles d'ordre 1 : équations à variables séparables, exactes (facteur intégrant), linéaire et de Bernouilli. Équations différentielles d'ordre supérieur : solutions fondamentales, équations homogènes à coefficients constants, équations d'Euler-Cauchy, équations non-homogène, oscillations libres et forcées. Systèmes d'équations différentielles : lien avec les équations d'ordre supérieur, systèmes linéaires d'ordre homogènes et non-homogènes, systèmes non linéaires, linéarisation et stabilité. Transformée de Laplace : équations différentielles linéaires non-homogènes avec membre de droite continu ou discontinu. Classification des équations aux dérivées partielles, équation de la chaleur pour une tige, équation d'onde pour une corde et une membrane vibrante, équation de Laplace et résolution du problème de Dirichlet pour un rectangle et un cercle, conditions aux frontières homogènes et non-homogènes, séries de Fourier.\",\n",
       " \"Acquérir des notions en probabilités et en statistiques en vue de leur application aux problèmes d'ingénierie. Notions de probabilités : axiomes, probabilité conditionnelle, règle de Bayes, analyse combinatoire. Variables aléatoires : fonctions de répartition de masse et de densité, espérance et variance. Lois de probabilités usuelles : de Bernoulli, binomiale, géométrique, de Poisson, hypergéométrique uniforme, exponentielle, Gamma, normale de Weibull et de Cauchy. Statistique descriptive : diagrammes, logiciel de base. Distribution d'échantillonnage : estimation, erreur quadratique moyenne, intervalles de confiance, limites de tolérances. Test d'hypothèses : test paramétriques et test d'ajustement. Régression simple. Planification d'expériences, contrôle de la qualité, gestion du risque et simulation numérique.\",\n",
       " \"Acquérir de bonnes connaissances de base sur plusieurs logiciels de simulation, qui pourront servir dans plusieurs cours futurs et dans tous genres d'applications. En plus de posséder une connaissance des techniques de simulation et d'analyse de résultats, acquérir les principes de base des logiciels les plus utilisés en ingénierie. Éléments et principes de base de la simulation. Logiciels Matlab, Simulink et différents Toolbox. Logiciels Electronics Workbench et Spice. Logiciel Automation Studio. L'étude de ces différents logiciels devra être effectuée à travers des exemples pratiques liés aux différentes applications du génie.\",\n",
       " \"Établir des relations entre la fonction d'une pièce, son design et le processus de fabrication pour la réaliser. Procédés de fabrication : moulage, métallurgie des poudres, mise en forme par déformation à l'état solide, transformation des matières plastiques, procédés de soudage. Usinage : fondements de la coupe des métaux, procédés de coupe des métaux, machines outils, planification du procédé. Cotation, tolérances et ajustements normalisés. Métrologie. Précision géométrique du produit fini, la cotation fonctionnelle et la cotation technologique. Notions de sécurité à chacun des processus. Laboratoires sur certains procédés et études de cas dans le choix des matériaux. Projet : conception d'un produit de complexité moyenne.\",\n",
       " \"Maîtriser les concepts fondamentaux de la thermodynamique et les appliquer à des systèmes d'ingénierie. Définitions et unités : milieu continu, système, substance pure, état, paramètres, évolutions, cycles.  Formes d'énergie. Principes de conservation de masse et d'énergie. Réversibilité et irréversibilité. Chaleur massique. Entropie. Gaz parfait et réel. Évolutions utilisant un gaz parfait. Propriétés des substances pures : tables et diagrammes. Analyse d'un cycle. Cycle de Carnot. Inégalité de Clausius. Second principe et production d'entropie. Cycles classiques de Rankine, Otto, Diesel et Brayton. Psychrométrie.\",\n",
       " \"Permettre à l'étudiant de se familiariser avec les équipements de type industriel. Lui permettre de faire le lien entre la théorie et la pratique. Développer un sens d'analyse et de synthèse. Développer des habiletés à la rédaction de rapports techniques. Volet résistance des matériaux : essais de traction (bois, acier, aluminium), de torsion et de flexion. Concentration de contraintes. Volet thermodynamique. Centrale thermique à vapeur (cycle de Rankine, première et deuxième lois).\",\n",
       " \"Donner des connaissances de base sur l’analyse de circuits électriques monophasés et triphasés et des circuits électroniques; faire connaître les particularités des circuits alternatifs et le fonctionnement des réseaux électriques avec les différentes machines utilisées dans l’industrie; faire connaître l’application des circuits d’électronique industrielle et de puissance. Concepts fondamentaux : résistance, inductance, capacité, sources dépendantes et indépendantes, sources contrôlées. Lois des mailles et des nœuds. Notions de phaseurs, d'impédances et de puissance. Circuits monophasés et triphasés. Circuits magnétiques, transformateurs, machines électriques. Distribution industrielle et utilisation de l’énergie électrique. Éléments d’électronique : diodes, transistors, thyristors, amplificateurs opérationnels. Introduction à l’électronique industrielle et de puissance. Variateurs électroniques de puissance.\",\n",
       " \"Acquérir des notions de design des systèmes mécaniques par le biais d'un projet de conception en équipe. Les éléments de machines dont ceux ci-après mentionnés. Facteur de sécurité, critères d'écoulement. Fatigue : diagramme de Goodman, cumul de dommage. Vis : mécanique de la vis, autoblocage, couple-tension. Boulons : mécanique d'un joint boulonné, résistance. Assemblages : modes de rupture, analyse des efforts. Roulements : nomenclature, calcul des charges et de durée. Engrenages droits : nomenclature, géométrie, résistance. Soudure : mécanique, résistance. Ressorts : ressorts cylindriques hélicoïdaux, contraintes admissibles. Joints de cardan et joints homocinétiques. Cames. Transmission par chaînes. Trains d'engrenages. Freins. Embrayages. Lubrification.\",\n",
       " \"Acquérir les notions fondamentales de la dynamique des fluides incompressibles. Notions sur les fluides. Statique des fluides, équations fondamentales. Cinématique des fluides, fonction de courant, écoulement potentiel. Dynamique des fluides, équation de l'énergie, équation de la quantité de mouvement, fluides visqueux. Écoulement isentropique d'un gaz parfait, vitesse du son, choc normal, friction. Équations adimensionnelles et similitude. Écoulement laminaire et turbulent dans les conduites. Concepts de la couche limite laminaire et turbulente.\",\n",
       " \"Être capable de calculer les forces et les déplacements dans des systèmes dynamiques. Application des concepts fondamentaux de  la mécanique rationnelle à l'étude des mécanismes et machines : lois de Newton, travail - énergie, quantité de mouvement, impulsion, puissance. Dérivation des équations du mouvement par les principes généralisés de Newton, de Alembert et de Lagrange. Systèmes vibrants à un et deux degrés de liberté. Réponse libre et forcée, isolation des vibrations.\",\n",
       " 'Initier les étudiants aux techniques de planification et de gestion de projet. Introduction à la planification et horaire de projet : définitions et discussions; techniques traditionnelles de planification de projet; programmation; identification des tâches et des responsabilités, cédule du projet (PERT-CPM); ressources du projet; budget financier du projet. Introduction à la gestion du projet : élaboration du plan global; gestion du progrès technique du projet; contrôle du projet; contrôle de la durée du projet.',\n",
       " \"Initier les étudiants aux concepts fondamentaux d’analyse économique, aux techniques d’analyses d’états financiers et de rentabilité de projet et aux pratiques de prise de décision.\\n\\nÀ la fin de ce cours, l’étudiant aura des notions suffisantes en faisabilité financière de projet pour faire une première évaluation financière de son projet à l’étude dans le cadre du cours « GEN4404 Projet appliqué de fin d’étude » si cela est requis. États financiers : le bilan et l'état des résultats. Analyse des états financiers. Analyse du seuil de rentabilité : coûts, revenus et profits. Intérêt et relations temps-argent. Méthode de comparaison et de sélection de projets. Valeurs et amortissement. Analyse de rentabilité après impôts.\",\n",
       " 'Développer chez l’étudiant un esprit pointu d’analyse et de synthèse nécessaire dans la conception et dans la réalisation des systèmes asservis réels, fiables, et précis, par une approche pédagogique à la fois théorique et pratique. Connaître les définitions, le vocabulaire, les concepts et les formalismes propres à la commande des systèmes linéaires; comprendre la structure et le fonctionnement d’une commande en boucle fermée ainsi que les concepts d’analyse d’un système asservi linéaire; maîtriser les méthodes de modélisation, d’analyse (temporelle et fréquentielle), d’étude de la stabilité d’un système linéaire invariant et être capable à partir des spécifications d’un cahier de charges de faire le design de contrôleurs (PI, PID, avance de phase, etc.). Développer chez l’étudiant la capacité d’élaborer un programme de simulation numérique et de l’intégrer dans la résolution d’un problème d’analyse des systèmes asservis. Être en mesure de réaliser l’asservissement de quelques systèmes électromécaniques. Transformation de Laplace. Théorème de la valeur finale et initiale. Modélisation mathématique des systèmes physiques : électriques, mécaniques, hydrauliques, thermiques, et électromécaniques. Fonction de transfert, diagrammes  blocs, règle de Masson. Réponses temporelles des systèmes de premier et deuxième ordre; effet du retard. Performances d’un système asservi. Boucle de régulation. Lieu des racines. Critère de stabilité de Routh-Hurwitz. Critère du revers. Réponses fréquentielles. Marge de gain et marge de phase. Critère de stabilité de Nyquist et de Bode. Abaques. Techniques de régulation industrielle (P, PI et PID, placement de pôles, avance de phase, retard de phase). Conception et simulation par Matlab/Simulink d’une régulation de vitesse et d’un asservissement de position de systèmes entraînés par une machine CC. Asservissement des systèmes industriels.',\n",
       " \"Acquérir des notions de lubrification et des systèmes hydrauliques applicables dans l'industrie. Systèmes hydrauliques. Notions de base et symboles pour représentation graphique. Étude des composantes de base : pompes, moteurs, vérins et valves. Détermination du cycle de travail et des charges mécaniques. Pertes et rendements, températures de fonctionnement. Moyens d'améliorer le rendement énergétique. Caractéristiques des transmissions hydrostatiques. Autres valves et composantes. Commande tout ou rien et commande proportionnelle. Lubrification. Frottement sec, usure et fini de surface. Lubrifiants : type et propriétés. Étude des paliers lisses fonctionnant en régime hydrodynamique. Conception de paliers lisses fonctionnant en régime mixte ou onctueux.\",\n",
       " \"Se familiariser avec des différents types et organes des turbomachines. Comprendre les types d'écoulement rencontrés dans des turbomachines. Acquérir les notions de base sur la conception, le dimensionnement, la réalisation et  le fonctionnement des turbomachines en tenant compte des aspects techniques, économiques et environnementaux, et en utilisant les outils les plus avancés de l'ingénieur. Concepts de base de la dynamique et du transfert énergétique d'un fluide en mouvement. Théorie fondamentale et classification des turbomachines (pompes, turbines, ventilateurs, soufflantes, compresseurs). Loi d'Euler et triangles des vitesses. Caractéristiques de fonctionnement des turbomachines. Lois de similitude des régimes de fonctionnement des turbomachines. Pertes de charge, fuites, cavitation et instabilités de fonctionnement des turbomachines. Procédure générale de conception des turbomachines et analyse au point de design et hors design. Vitesse spécifique et méthode de sélection des turbomachines. Montage et dynamique des rotors (équilibrage) des turbomachines.\",\n",
       " \"Permettre à l'étudiant de s'initier aux principes de calcul des systèmes mécaniques complexes dans un contexte industriel. Structure des mécanismes : définitions, classifications, transformations des couples cinématiques, modules.  Mécanismes à membrures articulées : analyse cinématique des mécanismes plans, synthèse cinématique des mécanismes plans.  Cames : définitions, analyse cinématique, synthèse, optimisation des dimensions.  Cinétostatique : les forces en mécanismes, équilibrage dynamique.  Dynamique : bilan énergétique, rendement, modèles dynamiques, mouvement réel, réglage du mouvement.  Introduction à la robotique.  Conception assistée par ordinateur.  Applications industrielles.\",\n",
       " \"Acquérir des notions d'analyse numérique. Arithmétique des calculateurs. Analyse d'erreurs dans les opérations élémentaires. Chiffres significatifs exacts.  Équations non-linéaires, méthodes de points fixes et de Newton, ordre de convergence. Systèmes linéaires, factorisation LU, conditionnement et amélioration itérative. Systèmes non-linéaires. Polynôme d'interpolation et splines.  Différentiation et intégration numérique. Résolution numérique d'équations différentielles, méthodes de Runge-Kutta et de prédiction-correction.\",\n",
       " \"Permettre à l'étudiant de se familiariser avec les équipements de type industriel. Lui permettre de faire le lien entre la théorie et la pratique. Développer un sens d'analyse et de synthèse. Développer des habiletés à la rédaction de rapports techniques. Volet dynamique des fluides : écoulements d'eau en conduites, force d'impact d'un jet d'eau, courbe caractéristique d'une pompe. Pompes en séries et en parallèles. Volet transmission de chaleur : ailette, conduction radiale, conduction axiale, échangeur de chaleur à écoulement transversal d'air, convection naturelle et forcée avec radiation.\",\n",
       " \"Rendre apte à analyser et à calculer les échanges de chaleur par conduction, convection et rayonnement. Conduction en régime permanent : unidirectionnelle, multidimensionnelle, méthodes analytiques, analogiques et numériques. Conduction en régime transitoire : solutions analytiques, abaques et méthodes numériques. Convection naturelle et forcée : solutions analytiques, coefficients de transfert, corrélations.  Rayonnement : principe, corps noir, gris, réel, facteur de forme, rayonnement des gaz, effet combiné du rayonnement et de la convection. Échangeurs de chaleur : bilan macroscopique d'énergie, types d'échangeurs, encrassement, efficacité, conceptions. Transfert thermique avec changement de phase : ébullition, condensation, évaporateurs.\",\n",
       " \"Développer chez l'étudiant l'esprit de synthèse et d'innovation et lui permettre d'appliquer la méthodologie de projet d'ingénierie. Le projet vise la solution d'un problème réel académique ou industriel. L'étudiant ou l'équipe doit analyser les aspects techniques du problème soumis; il doit effectuer la conception ou l'implantation d'une solution novatrice qui démontre sa capacité à réaliser un projet d'ingénierie.\",\n",
       " \"Permettre à l'étudiant d'approfondir la méthodologie associée à la conception en ingénierie et l'appliquer à un problème concret. Rencontre hebdomadaire de 3 heures du professeur avec l'étudiant ou l'équipe d'étudiants pour le suivi et la validation du volet conception en ingénierie (design) lié au Projet d'études en ingénierie.\",\n",
       " \"Se familiariser avec des concepts d’automatisation des systèmes de fabrication. Analyser, concevoir, programmer et interfacer des systèmes automatisés. Acquérir les notions de conception et d'implantation de systèmes de fabrication automatisée. Comprendre les notions de base de gestion des systèmes de production automatisée et se familiariser avec les méthodes et les outils d’analyse de la productivité. Comprendre la commande et le contrôle des procédés de fabrication. Apprendre et maîtriser les outils informatiques et les logiciels d’intégration de la fabrication pour la planification des procédés de fabrication mécanique, la gestion des bases de données et des réseaux. Structure et composantes d'un système de fabrication flexible. Théorie fondamentale de l'automatisation de la fabrication mécanique. Classification et principe de fonctionnement et programmation de machines-outils à commande numérique. Conception, dimensionnement et programmation des robots industriels. Automatisation des systèmes de fabrication et automates programmables. Commande et contrôle des procédés de fabrication mécanique automatisée. Planifications techniques, économiques et environnementales de systèmes de fabrication automatisée. Intégration de la fabrication avec les autres ressources de l'entreprise. Technologie mécanique de prototypage rapide.\",\n",
       " 'Amener les étudiants à approfondir des techniques de planification et de gestion de projet. Gestion de projet. Planification et horaire de projet : définitions et discussions; techniques traditionnelles de planification de projet; programmation; identification des tâches et des responsabilités, cédule du projet (PERT-CPM); multiprojets, rapports au management. Planification des ressources du projet : relations temps-coûts et durée du chemin critique; ressources du projet; budget financier du projet; multiprojets; rapports au management. Gestion du projet : élaboration du plan global; contrôle du progrès technique du projet; contrôle du coût du projet; contrôle de la durée du projet; multiprojets; rapports au management.',\n",
       " \"Permettre à l'étudiant de se sensibiliser à ses devoirs envers sa profession, ses collègues et la société. L'engagement social. Suite à une première réflexion sur l'engagement social, les étudiants seront invités 30 heures/étudiant de leur temps dans un projet en milieu : association étudiante; tuteur d'étudiants collégiens en mathématiques et en physique; dépannage chez les organismes qui interviennent auprès des personnes ayant un handicap physique (ergonomie); organisation d'activités avec l'Ordre des ingénieurs de l'Abitibi-Témiscamingue; (bénévolat dans le milieu) etc.  Les projets doivent être approuvés par le directeur du Module de l'École de génie.\",\n",
       " \"Modéliser le comportement d'une structure; Donner la réponse temporelle; Développer une analyse modale; Traiter des applications industrielles. Vibrations des systèmes à un degré de mobilité. Mesure des vibrations. Analyse modale. Vibrations des systèmes à deux et plusieurs degrés de mobilité. Analyse modale expérimentale (instrumentation, logiciels de simulation, principales sources vibratoires, équilibrage, etc.).\",\n",
       " \"Permettre à l'étudiant d'approfondir ses notions en résistance des matériaux (cours MEC1400) surtout lors de la résolution de problèmes de mécanique du solide sous l'effet des chargements couramment rencontrés (compression, tension, flexion, torsion). Développer chez l'étudiant la capacité d'analyser le comportement de structures simples ou complexes et de déterminer leur capacité de résistance afin de minimiser les risques de défaillance pour des coûts modérés. Fournir à l’étudiant des outils d’aide à la conception de structures diverses. Notions à approfondir : contraintes-déformations/déplacements. Critères de défaillance, facteur de sécurité. Flambement : appuis élastiques, membrures élastiques, charge excentrée, autres modes de flambement. Corps axisymétriques : coques à paroi mince, cylindres à paroi épaisse, disque en rotation. Torsion : théorie générale, profilés minces ouverts et fermés. Flexion gauche : contrainte normale dans les poutres composées, cisaillement, centre de cisaillement. \\nNouvelles notions à acquérir : comportement au-delà de la limite élastique (analyse limite). Méthodes des énergies de déformation : théorèmes de Maxwell-Betti et de Castigliano, travail virtuel.\",\n",
       " \"Permettre à l'étudiant de se sensibiliser à ses devoirs envers sa profession, ses collègues et la société. Déontologie (suite). La loi et l'ingénieur; la pratique du génie, adhésion à l'Ordre des ingénieurs du Québec, etc.\",\n",
       " \"Permettre à l'étudiant d'approfondir la méthodologie associée à la conception en ingénierie et l'appliquer à un problème concret d'envergure soumis de préférence par l'industrie. Rencontre hebdomadaire de 3 heures du professeur avec l'étudiant ou l'équipe d'étudiants pour le suivi et la validation du volet conception en ingénierie (design) lié au Projet appliqué de fin d'études.\",\n",
       " \"Développer chez l'étudiant l'esprit de synthèse et d'innovation dans le cadre d'un projet de conception en ingénierie.  Développer l'esprit du travail d'équipe et de leadership. Développer les techniques de recherche autonome et l'approfondissement de ses connaissances. Réaliser des projets d'ingénierie d'envergure basés sur les connaissances acquises. Développer des habiletés de communication verbale et écrite. L'étudiant doit réaliser un travail de niveau professionnel sur un problème réel suggéré de préférence par l'industrie.  Sous la supervision d'un professeur, il doit analyser en profondeur les différents aspects techniques, économiques, sociaux et environnementaux du problème soumis. Le travail de l'étudiant doit inclure la conception et / ou l'implantation d'une solution novatrice faisant la preuve de ses capacités et de son potentiel à réaliser un projet d'ingénierie. Les différentes parties du projet font l'objet d'évaluation, en particulier le rapport de progrès, le rapport final et la présentation orale.\",\n",
       " 'Présentation des lois générales qui régissent l’hydraulique et l’exposition des méthodes d’étude des mécanismes électrohydrauliques asservis. Analyse des exemples de mécanismes hydrauliques automatisés. Asservissement hydraulique : les débits hydrauliques, les forces hydrauliques, l’étude dynamique linéaire, régimes transitoires. Régulation hydraulique : régulation de pression, régulation de débit. La servovalve hydraulique (en débit, en pression). Exemples d’asservissement en position. Construction des éléments des systèmes hydrauliques automatiques. Fonctions de transfert des éléments hydrauliques. Simulation. Exemples des systèmes hydrauliques automatisés (réglage de la position, vitesse, pression, débit). Dispositifs mécano-hydrauliques de correction.',\n",
       " 'Connaître les lois et les règlements concernant la sécurité au travail. Présenter des principes de conception pour améliorer la sécurité des machines. Donner des exemples et études de cas de conception des systèmes en vue de les rendre plus sécuritaires. Lois et règlements en vigueur. Notions de cyndinique : les lois du danger, les risques, la genèse des accidents de travail. La conception de la sécurité des systèmes complexes : la méthode des arbres de défection (MAD). La protection intrinsèque (mesures techniques visant l’élimination complète de l’homme du processus de production), la protection collective (le combat des nocivités chimiques par ventilation industrielle, la prévention de l’électrocution, le combat du bruit et vibrations, le combat des risques mécaniques, l’éclairage, etc.), la protection intégrée. L’ergonomie dans la conception sécuritaire. La synthèse des mécanismes complexes (à membrures, à cames, à roues) utilisés dans la construction des dispositifs de sécurité. Conception des systèmes équilibrés par ressorts. Isolations des vibrations, absorbeurs dynamiques de vibrations. La sécurité des cellules de fabrication robotisées. Applications industrielles, études de cas.',\n",
       " \"Initier l'étudiant aux principes généraux de la méthode des éléments finis. Le rendre apte à utiliser efficacement un logiciel d'éléments finis pour résoudre des problèmes concrets rencontrés en ingénierie. Introduction: solution complète d'un problème simple à deux dimensions. Maillage, approximation par éléments finis, matrices des éléments, résolution par éléments finis. Principaux éléments: formes classiques, éléments de références, fonctions de bases, critère de convergence, intégration numérique, évaluation des erreurs. Applications: problèmes reliés à la mécanique des fluides, au transfert de chaleur et à la mécanique des solides. Apprentissage du logiciel ALGOR.\",\n",
       " 'Offrir un outil pour le calcul des structures. Connaître les principales caractéristiques des matériaux. Utiliser les principaux standards, normes et codes de construction. Structures en acier. Analyse des structures. Stabilité des structures. Poutres. Design des joints boulonnés et soudés. Fatigue et prescription sismiques. L’aluminium et ses propriétés. Principes de calcul. Assemblages mécaniques. Conception d’assemblages soudés. Fatigue. Exemples d’application.',\n",
       " 'Ce cours a pour but de familiariser les étudiants avec les principales techniques d’optimisation et leurs applications en génie. À la fin du cours, l’étudiant devrait être capable de formuler un modèle d’optimisation pour représenter un système; d’identifier la technique appropriée pour résoudre un modèle d’optimisation; d’utiliser des outils informatisés pour déterminer la solution optimale à un problème donné; et d’interpréter correctement les résultats obtenus. Introduction à la programmation linéaire et à la modélisation. Modélisation et résolution graphique. Méthode du Simplexe. Analyse postoptimale. Modélisation en nombres entiers. Programmation linéaire en nombres entiers. Théorie des graphes et réseaux. Introduction à la programmation non linéaire.',\n",
       " \"Comprendre les types d'écoulement rencontrés dans des turbomachines (pompes, turbines, ventilateurs, compresseurs, éoliennes, etc.). Se familiariser avec des outils de modélisation et de simulation numérique des écoulements des fluides dans les turbomachines. S’initier à l’interprétation des résultats de simulation pour l’analyse des performances et l’optimisation des turbomachines. Caractéristiques des écoulements laminaires et turbulents dans les turbomachines. Écoulements avec échange thermique ou sans échange thermique. Équations de continuité, d´Euler et de Navier-Stokes. Turbulence et équations de Reynolds. Modèles de turbulence. Écoulements stationnaires et instationnaires. Courbes de performance des turbomachines. Simulation d’écoulement (CFD : Computational Fluid Dynamics). Création et/ou importation de la géométrie. Types et outils de maillage. Création et/ou importation de maillage. Modélisation et conditions aux limites. Modélisation des roues de turbomachine avec le logiciel « Bladegen ». Maillage des roues de turbomachines avec le logiciel « Turbogrid ». Critère de convergence et précision de la solution numérique. Visualisation et analyse des résultats. Résolution et analyse des résultats avec les logiciels «  Fluent - Gambit» et « ANSYS-CFX ». Optimisation des turbomachines.\",\n",
       " \"Ce cours est une introduction à la mécatronique qui est une intégration de l’électronique, de la théorie de commande et de l’informatique en vue de contrôler des systèmes mécaniques. Il a pour but de fournir à l’étudiant les concepts et les structures des systèmes mécatroniques. À la fin de ce cours, l'étudiant devrait être capable de maîtriser les concepts qui régissent les systèmes mécatroniques; de concevoir des systèmes mécatroniques; d’analyser des systèmes mécatroniques; d'utiliser des progiciels pour l'analyse et le design d'un système mécatronique. Exemples de systèmes mécatroniques. Définition des différentes composantes de systèmes mécatroniques. Électronique et traitement du signal. Description des différents circuits analogiques. Signaux analogiques. Signaux numériques. Acquisition des données. Capteurs. Description de différents types de capteurs. Critère de sélection des capteurs. Actionneurs. Actionneurs électriques. Actionneurs hydrauliques. Actionneurs pneumatiques. Avantages et inconvénients des différents types d’actionneurs. Critère de sélection des actionneurs. Microprocesseurs et microcontrôleurs. Structure de commande à l’aide des microprocesseurs ou des microcontrôleurs. Interfaçage des microprocesseurs et des microcontrôleurs. Programmation. Analyse et design des boucles de commande. Systèmes mécatroniques. Architecture de commande : circuits analogiques, circuits numériques, circuits avec PLC, circuits avec microcontrôleur, circuits avec une carte-mère, circuits avec ordinateur personnel. Étude de cas.\",\n",
       " \"Apprendre la théorie de la fiabilité des équipements (machines) de production et pouvoir l'appliquer en milieu industriel. Apprendre la théorie et les techniques de gestion de la maintenance en entreprise manufacturière et pouvoir implanter un système de gestion de maintenance.\\n\\nFamiliarisation avec les principes de base de fiabilité, de disponibilité et de logistique de maintenance. Applications aux modélisations de fiabilité de systèmes complexes et aux développements et aux implantations de systèmes de maintenance préventive. Conception de système intégré de fiabilité ou d'un programme de maintenance dans une entreprise. Identification des lois de fiabilité. Optimisation des politiques de maintenance. Surveillance et diagnostic vibratoire. Maintenance et risques industriels.\",\n",
       " 'Donner aux étudiants des notions de base sur l’énergie et les technologies de la production d’énergie renouvelable et non renouvelable, ainsi qu’une introduction à la pollution en lien avec la production de l’énergie. Énoncé et introduction du principe de conservation d’énergie. Mesure de l’énergie. Introduction aux technologies de production d’énergie renouvelable : énergie éolienne, centrales hydrauliques, biomasse, énergie solaire photovoltaïque. Introduction aux technologies de production d’énergie non renouvelable : le nucléaire, les fossiles. Efficacité énergétique. Pollution : effet de serre, couche d’ozone, hydrocarbures, etc.',\n",
       " 'Présenter les problèmes fondamentaux de la mécanique des véhicules sur roues, sur chenilles et sur rails. Donner des exemples de calcul dans la conception et l’exploitation des véhicules. Introduction. Caractéristiques des moteurs de véhicules. Cinématique et dynamique des roues et de chenilles. Bilan de traction et équations différentielles de mouvement. Dynamique des véhicules sur roues et sur chenilles. La stabilité transversale des véhicules. Calcul de traction. Le virage des véhicules sur roues et sur chenilles. Mécanismes de transmission et de direction. Les suspensions, les oscillations des véhicules et les indices de confort. Virage des remorques. Véhicules sur rails. Véhicules hybrides. Véhicules autonomes. Applications dans les domaines : minier, forestier, agricole, transport, loisirs.',\n",
       " \"Donner aux étudiants les outils pratiques sur les polymères thermoplastiques, les procédés de mise en forme, les machines et l'outillage liés à la transformation des matières plastiques. Introduction aux polymères et à leurs propriétés. Classification et identification des polymères. Masse moléculaire et sa distribution. Propriétés thermiques, physico-chimiques et mécaniques. Introduction à la transformation des matériaux polymères : injection, extrusion-soufflage et thermoformage. Différents aspects du moulage par injection, extrusion-soufflage et thermoformage. Moulage par injection et extrusion-soufflage: vis, pièces, séquences du procédé, cycle, architecture, remplissage et fermeture du moule, compréhension et utilisation des données PVT, transferts thermiques, etc. Thermoformage: thermoformage en continu, choix des paramètres de réglage versus matière, calcul de l'étirement,  opérations secondaires.\",\n",
       " \"Permettre à l'étudiant d'acquérir des connaissances et de développer des habiletés en relation avec un thème ou un sujet d'étude en ingénierie correspondant à ses besoins de formation. Contenu variable selon les besoins des étudiants et l'expertise professorale disponible.\",\n",
       " \"Permettre à l’étudiant d’acquérir des connaissances et de développer des habiletés en relation avec un thème ou un sujet d’étude en ingénierie correspondant à ses besoins de formation. Le contenu est variable selon les besoins des étudiants et l'expertise professorale disponible.\",\n",
       " \"Permettre à l’étudiant d’acquérir des connaissances et de développer des habiletés en relation avec un thème ou un sujet d’étude en ingénierie correspondant à ses besoins de formation. Contenu variable selon les besoins des étudiants et l'expertise professorale disponible.\",\n",
       " \"Acquérir des notions fondamentales de conception de systèmes de chauffage, de plomberie, de ventilation et de climatisation. Déperdition de la chaleur. Corps de chauffe. Chaudières. Systèmes de chauffage à eau chaude à basse et haute températures. Système primaire-secondaire. Système de chauffage à la vapeur. Chauffage au gaz naturel et liquéfié.  Chauffage électrique. Chauffage par rayonnement. Réseaux fermés de tuyauterie. Récupération de chaleur. Réseaux d'eau potable et d'eau chaude domestique. Systèmes de drainage et d'égout pour bâtiment. Étude et application du code de plomberie. Systèmes de projection contre le feu. Systèmes de climatisation et de ventilation.\",\n",
       " \"Permettre à l'étudiant de s'initier aux problématiques du milieu industriel ainsi qu'aux exigences de la pratique professionnelle. Sous la supervision d'un professeur ou d'un coordonnateur, l'étudiant vivra pendant quatre mois un apprentissage du travail en entreprise ou dans une institution reconnue dans une fonction technique reliée à ses études.  Un rapport de stage sera exigé et l'évaluation de l'étudiant sera faite par le professeur ou le coordonnateur de stage.\",\n",
       " \"Permettre à l'étudiant de s'initier aux problématiques du milieu industriel ainsi qu'aux exigences de la pratique professionnelle. Sous la supervision d'un professeur, l'étudiant vivra pendant quatre mois un apprentissage du travail en entreprise ou dans une institution reconnue dans une fonction technique reliée à ses études. Un rapport de stage sera exigé et l'évaluation de l'étudiant sera faite par le professeur ou le coordonnateur de stage.\",\n",
       " \"Permettre à l'étudiant de s'initier aux problématiques du milieu industriel ainsi qu'aux exigences de la pratique professionnelle. Sous la supervision d'un professeur ou d'un coordonnateur, l'étudiant vivra pendant quatre mois un apprentissage du travail en entreprise ou dans une institution reconnue dans une fonction technique reliée à ses études.  Un rapport de stage sera exigé et l'évaluation de l'étudiant sera faite par le professeur ou le coordonnateur de stage.\"]"
      ]
     },
     "execution_count": 39,
     "metadata": {},
     "output_type": "execute_result"
    }
   ],
   "source": [
    "course_descs"
   ]
  },
  {
   "cell_type": "code",
   "execution_count": 40,
   "metadata": {},
   "outputs": [
    {
     "data": {
      "text/html": [
       "<div>\n",
       "<style scoped>\n",
       "    .dataframe tbody tr th:only-of-type {\n",
       "        vertical-align: middle;\n",
       "    }\n",
       "\n",
       "    .dataframe tbody tr th {\n",
       "        vertical-align: top;\n",
       "    }\n",
       "\n",
       "    .dataframe thead th {\n",
       "        text-align: right;\n",
       "    }\n",
       "</style>\n",
       "<table border=\"1\" class=\"dataframe\">\n",
       "  <thead>\n",
       "    <tr style=\"text-align: right;\">\n",
       "      <th></th>\n",
       "      <th>Course Number</th>\n",
       "      <th>Course Name</th>\n",
       "      <th>Course Description</th>\n",
       "    </tr>\n",
       "  </thead>\n",
       "  <tbody>\n",
       "    <tr>\n",
       "      <th>0</th>\n",
       "      <td>GEN0009</td>\n",
       "      <td>Atelier : santé et sécurité au travail</td>\n",
       "      <td>Identifier les principales lois, normes et org...</td>\n",
       "    </tr>\n",
       "    <tr>\n",
       "      <th>1</th>\n",
       "      <td>GEN1005</td>\n",
       "      <td>Calcul I</td>\n",
       "      <td>Favoriser un arrimage harmonieux entre la form...</td>\n",
       "    </tr>\n",
       "    <tr>\n",
       "      <th>2</th>\n",
       "      <td>GEN1100</td>\n",
       "      <td>Introduction au génie et aux projets d'ingénierie</td>\n",
       "      <td>Amener les étudiants à découvrir en quoi consi...</td>\n",
       "    </tr>\n",
       "    <tr>\n",
       "      <th>3</th>\n",
       "      <td>GEN2210</td>\n",
       "      <td>Statique</td>\n",
       "      <td>Rendre capable de calculer les composantes vec...</td>\n",
       "    </tr>\n",
       "    <tr>\n",
       "      <th>4</th>\n",
       "      <td>GEN2250</td>\n",
       "      <td>Communication graphique</td>\n",
       "      <td>Faire connaître les méthodes de communication ...</td>\n",
       "    </tr>\n",
       "    <tr>\n",
       "      <th>...</th>\n",
       "      <td>...</td>\n",
       "      <td>...</td>\n",
       "      <td>...</td>\n",
       "    </tr>\n",
       "    <tr>\n",
       "      <th>56</th>\n",
       "      <td>GEN4048</td>\n",
       "      <td>Sujets spéciaux IV</td>\n",
       "      <td>Permettre à l’étudiant d’acquérir des connaiss...</td>\n",
       "    </tr>\n",
       "    <tr>\n",
       "      <th>57</th>\n",
       "      <td>GEN4137</td>\n",
       "      <td>Mécanique du bâtiment</td>\n",
       "      <td>Acquérir des notions fondamentales de concepti...</td>\n",
       "    </tr>\n",
       "    <tr>\n",
       "      <th>58</th>\n",
       "      <td>STI0501</td>\n",
       "      <td>Stage industriel I</td>\n",
       "      <td>Permettre à l'étudiant de s'initier aux problé...</td>\n",
       "    </tr>\n",
       "    <tr>\n",
       "      <th>59</th>\n",
       "      <td>STI0502</td>\n",
       "      <td>Stage industriel II</td>\n",
       "      <td>Permettre à l'étudiant de s'initier aux problé...</td>\n",
       "    </tr>\n",
       "    <tr>\n",
       "      <th>60</th>\n",
       "      <td>STI0503</td>\n",
       "      <td>Stage industriel III</td>\n",
       "      <td>Permettre à l'étudiant de s'initier aux problé...</td>\n",
       "    </tr>\n",
       "  </tbody>\n",
       "</table>\n",
       "<p>61 rows × 3 columns</p>\n",
       "</div>"
      ],
      "text/plain": [
       "   Course Number                                        Course Name  \\\n",
       "0        GEN0009             Atelier : santé et sécurité au travail   \n",
       "1        GEN1005                                           Calcul I   \n",
       "2        GEN1100  Introduction au génie et aux projets d'ingénierie   \n",
       "3        GEN2210                                           Statique   \n",
       "4        GEN2250                            Communication graphique   \n",
       "..           ...                                                ...   \n",
       "56       GEN4048                                 Sujets spéciaux IV   \n",
       "57       GEN4137                              Mécanique du bâtiment   \n",
       "58       STI0501                                 Stage industriel I   \n",
       "59       STI0502                                Stage industriel II   \n",
       "60       STI0503                               Stage industriel III   \n",
       "\n",
       "                                   Course Description  \n",
       "0   Identifier les principales lois, normes et org...  \n",
       "1   Favoriser un arrimage harmonieux entre la form...  \n",
       "2   Amener les étudiants à découvrir en quoi consi...  \n",
       "3   Rendre capable de calculer les composantes vec...  \n",
       "4   Faire connaître les méthodes de communication ...  \n",
       "..                                                ...  \n",
       "56  Permettre à l’étudiant d’acquérir des connaiss...  \n",
       "57  Acquérir des notions fondamentales de concepti...  \n",
       "58  Permettre à l'étudiant de s'initier aux problé...  \n",
       "59  Permettre à l'étudiant de s'initier aux problé...  \n",
       "60  Permettre à l'étudiant de s'initier aux problé...  \n",
       "\n",
       "[61 rows x 3 columns]"
      ]
     },
     "execution_count": 40,
     "metadata": {},
     "output_type": "execute_result"
    }
   ],
   "source": [
    "import pandas as pd\n",
    "\n",
    "df = pd.DataFrame({\n",
    "    \"Course Number\": course_codes,\n",
    "    \"Course Name\": course_names,\n",
    "    \"Course Description\": course_descs\n",
    "})\n",
    "\n",
    "df"
   ]
  },
  {
   "cell_type": "code",
   "execution_count": 41,
   "metadata": {},
   "outputs": [],
   "source": [
    "df.to_csv('UQAT_GenieMecanique_Core_and_Electives_Courses.csv', index = False)"
   ]
  },
  {
   "cell_type": "code",
   "execution_count": 42,
   "metadata": {},
   "outputs": [],
   "source": [
    "driver.quit()"
   ]
  }
 ],
 "metadata": {
  "kernelspec": {
   "display_name": "Python 3",
   "language": "python",
   "name": "python3"
  },
  "language_info": {
   "codemirror_mode": {
    "name": "ipython",
    "version": 3
   },
   "file_extension": ".py",
   "mimetype": "text/x-python",
   "name": "python",
   "nbconvert_exporter": "python",
   "pygments_lexer": "ipython3",
   "version": "3.8.5"
  }
 },
 "nbformat": 4,
 "nbformat_minor": 4
}
