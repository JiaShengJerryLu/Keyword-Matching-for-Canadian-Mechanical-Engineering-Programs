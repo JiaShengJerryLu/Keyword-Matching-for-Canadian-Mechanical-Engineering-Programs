{
 "cells": [
  {
   "cell_type": "code",
   "execution_count": 1,
   "metadata": {},
   "outputs": [],
   "source": [
    "from bs4 import BeautifulSoup as soup\n",
    "from urllib.request import urlopen as ureq\n",
    "from selenium import webdriver\n",
    "import time\n",
    "import re"
   ]
  },
  {
   "cell_type": "code",
   "execution_count": 2,
   "metadata": {},
   "outputs": [],
   "source": [
    "url = \"https://www.ulaval.ca/etudes/programmes/baccalaureat-en-genie-mecanique#section-structure\""
   ]
  },
  {
   "cell_type": "code",
   "execution_count": 3,
   "metadata": {},
   "outputs": [],
   "source": [
    "chrome_options = webdriver.ChromeOptions()\n",
    "chrome_options.add_argument('--ignore-certificate-errors')\n",
    "chrome_options.add_argument('--incognito')\n",
    "#chrome_options.add_argument('--headless')\n",
    "\n",
    "driver = webdriver.Chrome(\"C:\\\\Users\\\\jerry\\\\Downloads\\\\chromedriver\", options=chrome_options)"
   ]
  },
  {
   "cell_type": "code",
   "execution_count": 4,
   "metadata": {},
   "outputs": [],
   "source": [
    "driver.get(url)"
   ]
  },
  {
   "cell_type": "markdown",
   "metadata": {},
   "source": [
    "# 1. Collect course link texts for webdriver to click on"
   ]
  },
  {
   "cell_type": "code",
   "execution_count": 6,
   "metadata": {},
   "outputs": [],
   "source": [
    "driver.find_element_by_id(\"genie-mecanique-cours-obligatoires\").click()"
   ]
  },
  {
   "cell_type": "code",
   "execution_count": 7,
   "metadata": {},
   "outputs": [],
   "source": [
    "page_soup = soup(driver.page_source, 'lxml')"
   ]
  },
  {
   "cell_type": "code",
   "execution_count": 8,
   "metadata": {},
   "outputs": [
    {
     "data": {
      "text/plain": [
       "33"
      ]
     },
     "execution_count": 8,
     "metadata": {},
     "output_type": "execute_result"
    }
   ],
   "source": [
    "containers = page_soup.find(\"section\", {\"id\": \"section-structure\"}).findAll(\"div\", {\"class\": \"fe-bloc-section\"})[0].findAll(\"div\", {\"class\": \"toggle-section\"})[0].find(\"ul\", {\"class\": \"fe--liste-cours\"}).findAll(\"a\")\n",
    "len(containers)"
   ]
  },
  {
   "cell_type": "code",
   "execution_count": 9,
   "metadata": {},
   "outputs": [
    {
     "data": {
      "text/plain": [
       "['GLO-1901\\nIntroduction à la programmation avec Python',\n",
       " 'GMC-1001\\nStatique des corps rigides',\n",
       " 'GMC-1024\\nModélisation 3D',\n",
       " \"GML-1001\\nMatériaux de l'ingénieur\",\n",
       " \"MAT-1900\\nMathématiques de l'ingénieur I\",\n",
       " 'GMC-1003\\nIntroduction à la mécanique des fluides',\n",
       " 'GMC-2001\\nRésistance des matériaux',\n",
       " \"MAT-1910\\nMathématiques de l'ingénieur II\",\n",
       " \"MAT-2910\\nAnalyse numérique pour l'ingénieur\",\n",
       " 'GMC-1002\\nIntroduction à la thermodynamique',\n",
       " 'GMC-2002\\nRésistance des composantes de machines et des assemblages',\n",
       " 'GMC-2003\\nDynamique des corps rigides',\n",
       " 'GMC-2005\\nDynamique des fluides appliquée',\n",
       " 'GMC-2006\\nÉquations aux dérivées partielles en génie mécanique',\n",
       " 'GMC-2024\\nIngénierie et conception I',\n",
       " 'ECN-2901\\nAnalyse économique en ingénierie',\n",
       " 'GMC-2008\\nMachines thermiques',\n",
       " 'GMC-2025\\nIngénierie et conception II',\n",
       " 'GMC-3000\\nDynamique des vibrations',\n",
       " 'GMC-3002\\nDynamique de la commande appliquée',\n",
       " 'GMC-3005\\nTransferts thermiques',\n",
       " 'GMC-3009\\nGestion de projets en ingénierie',\n",
       " 'GMC-3024\\nIngénierie et conception III',\n",
       " 'STT-1900\\nMéthodes statistiques pour ingénieurs',\n",
       " 'GMC-2007\\nFabrication mécanique',\n",
       " 'GMC-3006\\nIntroduction à la mesure et à la mécatronique',\n",
       " 'GMC-3023\\nÉléments de transmission de puissance',\n",
       " 'GMC-3025\\nIngénierie et conception IV',\n",
       " 'GMC-3013\\nInvestigation expérimentale en génie mécanique',\n",
       " 'GMC-3034\\nIngénierie et conception V',\n",
       " 'PHI-2910\\nGénie et développement durable',\n",
       " 'GMC-3035\\nIngénierie et conception VI',\n",
       " 'PHI-3900\\nÉthique et professionnalisme']"
      ]
     },
     "execution_count": 9,
     "metadata": {},
     "output_type": "execute_result"
    }
   ],
   "source": [
    "link_texts = [container.text.strip() for container in containers]\n",
    "link_texts"
   ]
  },
  {
   "cell_type": "markdown",
   "metadata": {},
   "source": [
    "# 2. Test run - try to scrape the first course"
   ]
  },
  {
   "cell_type": "code",
   "execution_count": 10,
   "metadata": {
    "scrolled": true
   },
   "outputs": [
    {
     "ename": "ElementClickInterceptedException",
     "evalue": "Message: element click intercepted: Element is not clickable at point (547, -1628)\n  (Session info: chrome=92.0.4515.107)\n",
     "output_type": "error",
     "traceback": [
      "\u001b[1;31m---------------------------------------------------------------------------\u001b[0m",
      "\u001b[1;31mElementClickInterceptedException\u001b[0m          Traceback (most recent call last)",
      "\u001b[1;32m<ipython-input-10-cc373c194b07>\u001b[0m in \u001b[0;36m<module>\u001b[1;34m\u001b[0m\n\u001b[1;32m----> 1\u001b[1;33m \u001b[0mdriver\u001b[0m\u001b[1;33m.\u001b[0m\u001b[0mfind_element_by_link_text\u001b[0m\u001b[1;33m(\u001b[0m\u001b[0mlink_texts\u001b[0m\u001b[1;33m[\u001b[0m\u001b[1;36m0\u001b[0m\u001b[1;33m]\u001b[0m\u001b[1;33m)\u001b[0m\u001b[1;33m.\u001b[0m\u001b[0mclick\u001b[0m\u001b[1;33m(\u001b[0m\u001b[1;33m)\u001b[0m\u001b[1;33m\u001b[0m\u001b[1;33m\u001b[0m\u001b[0m\n\u001b[0m",
      "\u001b[1;32m~\\anaconda3\\lib\\site-packages\\selenium\\webdriver\\remote\\webelement.py\u001b[0m in \u001b[0;36mclick\u001b[1;34m(self)\u001b[0m\n\u001b[0;32m     78\u001b[0m     \u001b[1;32mdef\u001b[0m \u001b[0mclick\u001b[0m\u001b[1;33m(\u001b[0m\u001b[0mself\u001b[0m\u001b[1;33m)\u001b[0m\u001b[1;33m:\u001b[0m\u001b[1;33m\u001b[0m\u001b[1;33m\u001b[0m\u001b[0m\n\u001b[0;32m     79\u001b[0m         \u001b[1;34m\"\"\"Clicks the element.\"\"\"\u001b[0m\u001b[1;33m\u001b[0m\u001b[1;33m\u001b[0m\u001b[0m\n\u001b[1;32m---> 80\u001b[1;33m         \u001b[0mself\u001b[0m\u001b[1;33m.\u001b[0m\u001b[0m_execute\u001b[0m\u001b[1;33m(\u001b[0m\u001b[0mCommand\u001b[0m\u001b[1;33m.\u001b[0m\u001b[0mCLICK_ELEMENT\u001b[0m\u001b[1;33m)\u001b[0m\u001b[1;33m\u001b[0m\u001b[1;33m\u001b[0m\u001b[0m\n\u001b[0m\u001b[0;32m     81\u001b[0m \u001b[1;33m\u001b[0m\u001b[0m\n\u001b[0;32m     82\u001b[0m     \u001b[1;32mdef\u001b[0m \u001b[0msubmit\u001b[0m\u001b[1;33m(\u001b[0m\u001b[0mself\u001b[0m\u001b[1;33m)\u001b[0m\u001b[1;33m:\u001b[0m\u001b[1;33m\u001b[0m\u001b[1;33m\u001b[0m\u001b[0m\n",
      "\u001b[1;32m~\\anaconda3\\lib\\site-packages\\selenium\\webdriver\\remote\\webelement.py\u001b[0m in \u001b[0;36m_execute\u001b[1;34m(self, command, params)\u001b[0m\n\u001b[0;32m    631\u001b[0m             \u001b[0mparams\u001b[0m \u001b[1;33m=\u001b[0m \u001b[1;33m{\u001b[0m\u001b[1;33m}\u001b[0m\u001b[1;33m\u001b[0m\u001b[1;33m\u001b[0m\u001b[0m\n\u001b[0;32m    632\u001b[0m         \u001b[0mparams\u001b[0m\u001b[1;33m[\u001b[0m\u001b[1;34m'id'\u001b[0m\u001b[1;33m]\u001b[0m \u001b[1;33m=\u001b[0m \u001b[0mself\u001b[0m\u001b[1;33m.\u001b[0m\u001b[0m_id\u001b[0m\u001b[1;33m\u001b[0m\u001b[1;33m\u001b[0m\u001b[0m\n\u001b[1;32m--> 633\u001b[1;33m         \u001b[1;32mreturn\u001b[0m \u001b[0mself\u001b[0m\u001b[1;33m.\u001b[0m\u001b[0m_parent\u001b[0m\u001b[1;33m.\u001b[0m\u001b[0mexecute\u001b[0m\u001b[1;33m(\u001b[0m\u001b[0mcommand\u001b[0m\u001b[1;33m,\u001b[0m \u001b[0mparams\u001b[0m\u001b[1;33m)\u001b[0m\u001b[1;33m\u001b[0m\u001b[1;33m\u001b[0m\u001b[0m\n\u001b[0m\u001b[0;32m    634\u001b[0m \u001b[1;33m\u001b[0m\u001b[0m\n\u001b[0;32m    635\u001b[0m     \u001b[1;32mdef\u001b[0m \u001b[0mfind_element\u001b[0m\u001b[1;33m(\u001b[0m\u001b[0mself\u001b[0m\u001b[1;33m,\u001b[0m \u001b[0mby\u001b[0m\u001b[1;33m=\u001b[0m\u001b[0mBy\u001b[0m\u001b[1;33m.\u001b[0m\u001b[0mID\u001b[0m\u001b[1;33m,\u001b[0m \u001b[0mvalue\u001b[0m\u001b[1;33m=\u001b[0m\u001b[1;32mNone\u001b[0m\u001b[1;33m)\u001b[0m\u001b[1;33m:\u001b[0m\u001b[1;33m\u001b[0m\u001b[1;33m\u001b[0m\u001b[0m\n",
      "\u001b[1;32m~\\anaconda3\\lib\\site-packages\\selenium\\webdriver\\remote\\webdriver.py\u001b[0m in \u001b[0;36mexecute\u001b[1;34m(self, driver_command, params)\u001b[0m\n\u001b[0;32m    319\u001b[0m         \u001b[0mresponse\u001b[0m \u001b[1;33m=\u001b[0m \u001b[0mself\u001b[0m\u001b[1;33m.\u001b[0m\u001b[0mcommand_executor\u001b[0m\u001b[1;33m.\u001b[0m\u001b[0mexecute\u001b[0m\u001b[1;33m(\u001b[0m\u001b[0mdriver_command\u001b[0m\u001b[1;33m,\u001b[0m \u001b[0mparams\u001b[0m\u001b[1;33m)\u001b[0m\u001b[1;33m\u001b[0m\u001b[1;33m\u001b[0m\u001b[0m\n\u001b[0;32m    320\u001b[0m         \u001b[1;32mif\u001b[0m \u001b[0mresponse\u001b[0m\u001b[1;33m:\u001b[0m\u001b[1;33m\u001b[0m\u001b[1;33m\u001b[0m\u001b[0m\n\u001b[1;32m--> 321\u001b[1;33m             \u001b[0mself\u001b[0m\u001b[1;33m.\u001b[0m\u001b[0merror_handler\u001b[0m\u001b[1;33m.\u001b[0m\u001b[0mcheck_response\u001b[0m\u001b[1;33m(\u001b[0m\u001b[0mresponse\u001b[0m\u001b[1;33m)\u001b[0m\u001b[1;33m\u001b[0m\u001b[1;33m\u001b[0m\u001b[0m\n\u001b[0m\u001b[0;32m    322\u001b[0m             response['value'] = self._unwrap_value(\n\u001b[0;32m    323\u001b[0m                 response.get('value', None))\n",
      "\u001b[1;32m~\\anaconda3\\lib\\site-packages\\selenium\\webdriver\\remote\\errorhandler.py\u001b[0m in \u001b[0;36mcheck_response\u001b[1;34m(self, response)\u001b[0m\n\u001b[0;32m    240\u001b[0m                 \u001b[0malert_text\u001b[0m \u001b[1;33m=\u001b[0m \u001b[0mvalue\u001b[0m\u001b[1;33m[\u001b[0m\u001b[1;34m'alert'\u001b[0m\u001b[1;33m]\u001b[0m\u001b[1;33m.\u001b[0m\u001b[0mget\u001b[0m\u001b[1;33m(\u001b[0m\u001b[1;34m'text'\u001b[0m\u001b[1;33m)\u001b[0m\u001b[1;33m\u001b[0m\u001b[1;33m\u001b[0m\u001b[0m\n\u001b[0;32m    241\u001b[0m             \u001b[1;32mraise\u001b[0m \u001b[0mexception_class\u001b[0m\u001b[1;33m(\u001b[0m\u001b[0mmessage\u001b[0m\u001b[1;33m,\u001b[0m \u001b[0mscreen\u001b[0m\u001b[1;33m,\u001b[0m \u001b[0mstacktrace\u001b[0m\u001b[1;33m,\u001b[0m \u001b[0malert_text\u001b[0m\u001b[1;33m)\u001b[0m\u001b[1;33m\u001b[0m\u001b[1;33m\u001b[0m\u001b[0m\n\u001b[1;32m--> 242\u001b[1;33m         \u001b[1;32mraise\u001b[0m \u001b[0mexception_class\u001b[0m\u001b[1;33m(\u001b[0m\u001b[0mmessage\u001b[0m\u001b[1;33m,\u001b[0m \u001b[0mscreen\u001b[0m\u001b[1;33m,\u001b[0m \u001b[0mstacktrace\u001b[0m\u001b[1;33m)\u001b[0m\u001b[1;33m\u001b[0m\u001b[1;33m\u001b[0m\u001b[0m\n\u001b[0m\u001b[0;32m    243\u001b[0m \u001b[1;33m\u001b[0m\u001b[0m\n\u001b[0;32m    244\u001b[0m     \u001b[1;32mdef\u001b[0m \u001b[0m_value_or_default\u001b[0m\u001b[1;33m(\u001b[0m\u001b[0mself\u001b[0m\u001b[1;33m,\u001b[0m \u001b[0mobj\u001b[0m\u001b[1;33m,\u001b[0m \u001b[0mkey\u001b[0m\u001b[1;33m,\u001b[0m \u001b[0mdefault\u001b[0m\u001b[1;33m)\u001b[0m\u001b[1;33m:\u001b[0m\u001b[1;33m\u001b[0m\u001b[1;33m\u001b[0m\u001b[0m\n",
      "\u001b[1;31mElementClickInterceptedException\u001b[0m: Message: element click intercepted: Element is not clickable at point (547, -1628)\n  (Session info: chrome=92.0.4515.107)\n"
     ]
    }
   ],
   "source": [
    "driver.find_element_by_link_text(link_texts[0]).click()"
   ]
  },
  {
   "cell_type": "markdown",
   "metadata": {},
   "source": [
    "element not completely in view, so couldn't be clicked"
   ]
  },
  {
   "cell_type": "code",
   "execution_count": 12,
   "metadata": {},
   "outputs": [],
   "source": [
    "from selenium.webdriver.common.keys import Keys\n",
    "link = driver.find_element_by_link_text(link_texts[0])\n",
    "link.send_keys(Keys.UP)\n",
    "link.click()"
   ]
  },
  {
   "cell_type": "code",
   "execution_count": 13,
   "metadata": {},
   "outputs": [],
   "source": [
    "page_soup = soup(driver.page_source, 'lxml')"
   ]
  },
  {
   "cell_type": "code",
   "execution_count": 14,
   "metadata": {},
   "outputs": [],
   "source": [
    "course_title_container = page_soup.find(\"h1\", {\"class\": \"fe--titre\"})"
   ]
  },
  {
   "cell_type": "code",
   "execution_count": 16,
   "metadata": {},
   "outputs": [
    {
     "data": {
      "text/plain": [
       "'GLO-1901'"
      ]
     },
     "execution_count": 16,
     "metadata": {},
     "output_type": "execute_result"
    }
   ],
   "source": [
    "course_code = course_title_container.find(\"span\", {\"class\": \"fe--titre-type\"}).text.strip()\n",
    "course_code"
   ]
  },
  {
   "cell_type": "code",
   "execution_count": 17,
   "metadata": {},
   "outputs": [
    {
     "data": {
      "text/plain": [
       "'Introduction à la programmation avec Python'"
      ]
     },
     "execution_count": 17,
     "metadata": {},
     "output_type": "execute_result"
    }
   ],
   "source": [
    "course_name = course_title_container.find(\"span\", {\"class\": \"fe--titre-nom\"}).text.strip()\n",
    "course_name"
   ]
  },
  {
   "cell_type": "code",
   "execution_count": 19,
   "metadata": {},
   "outputs": [
    {
     "data": {
      "text/plain": [
       "'Ce cours introduit les principaux paradigmes de programmation servant à la résolution de problèmes en informatique. Il couvre notamment les programmations procédurale, fonctionnelle, orientée objet et événementielle. Pour illustrer ces paradigmes, il utilise le langage Python.'"
      ]
     },
     "execution_count": 19,
     "metadata": {},
     "output_type": "execute_result"
    }
   ],
   "source": [
    "course_desc = page_soup.find(\"p\", {\"class\": \"fe--intro\"}).text.strip()\n",
    "course_desc"
   ]
  },
  {
   "cell_type": "code",
   "execution_count": 20,
   "metadata": {},
   "outputs": [],
   "source": [
    "driver.back()"
   ]
  },
  {
   "cell_type": "markdown",
   "metadata": {},
   "source": [
    "# 3. Test run successful! Implement automation script to scrape all courses"
   ]
  },
  {
   "cell_type": "code",
   "execution_count": 24,
   "metadata": {},
   "outputs": [
    {
     "name": "stdout",
     "output_type": "stream",
     "text": [
      "Scraped  GLO-1901 Introduction à la programmation avec Python \n",
      " Ce cours introduit les principaux paradigmes de programmation servant à la résolution de problèmes en informatique. Il couvre notamment les programmations procédurale, fonctionnelle, orientée objet et événementielle. Pour illustrer ces paradigmes, il utilise le langage Python.\n",
      "1 courses scraped\n",
      "\n",
      "Scraped  GMC-1001 Statique des corps rigides \n",
      " Statique des corps solides. Notion de force. Systèmes de forces : lois fondamentales de l'équilibre dans le plan et dans l'espace. Méthodes vectorielles. Treillis, cadres et machines. Application aux mécanismes simples. Centre de masse. Poutres et câbles. Frottement de Coulomb et glissement. Travaux virtuels.\n",
      "2 courses scraped\n",
      "\n",
      "Scraped  GMC-1024 Modélisation 3D \n",
      " Introduction au dessin à vues multiples et au dessin isométrique, lignes cachées, représentation des filets, interprétation des dessins à vues multiples, coupes et sections, vues auxiliaire, concept de modélisation paramétrique par extrusion, révolution et autres méthodes plus avancées avec logiciel SolidWorks, axes, plans et entités de référence, règles de cotation des dessins, mise en plan, dessin d'ensemble et nomenclature, introduction aux assemblages, cotation de pièces, cotation fonctionnelle, mesures dimensionnelles, prise de mesures avec pied à coulisse et micromètre et incertitude de ces instruments de mesure, ajustements normalisés, chaînes minimales de cotes, introduction au tolérancement géométrique.\n",
      "3 courses scraped\n",
      "\n",
      "Scraped  GML-1001 Matériaux de l'ingénieur \n",
      " Méthodes de caractérisation des matériaux. Cohésion et rigidité des matériaux. Architecture atomique. Matériaux sous contrainte. Comportement des mélanges. Propriétés mécaniques, thermiques, électriques et magnétiques. Métaux et alliages métalliques, polymères, composites, bois et bétons. Dégradation des matériaux.\n",
      "4 courses scraped\n",
      "\n",
      "Scraped  MAT-1900 Mathématiques de l'ingénieur I \n",
      " Calcul différentiel des fonctions de plusieurs variables : théorie et applications. Nombres complexes; polynômes. Équations différentielles du premier ordre et du premier degré; méthodes numériques. Équations différentielles du second ordre de types spéciaux. Équations différentielles linéaires d'ordre n à coefficients constants. Systèmes d'équations différentielles. Applications.\n",
      "5 courses scraped\n",
      "\n",
      "Scraped  GMC-1003 Introduction à la mécanique des fluides \n",
      " Propriétés du fluide et concepts fondamentaux. Statique des fluides. Cinématique des fluides. Dynamique d'un fluide incompressible non visqueux. Applications élémentaires des principes de conservation de la masse, de la quantité de mouvement, du moment cinétique. Quelques techniques de mesure en mécanique des fluides. Analyse différentielle des écoulements des fluides : conservation de la masse, écoulements potentiels, équation de Navier-Stokes incompressible. Analyse dimensionnelle et théorie des modèles.\n",
      "6 courses scraped\n",
      "\n",
      "Scraped  GMC-2001 Résistance des matériaux \n",
      " Efforts internes dans un système mécanique. Révision de quelques propriétés mécaniques de matériaux usuels. Effort normal. État de contrainte et de déformation en un point d'un solide chargé. Moment de flexion et effort tranchant dans les poutres longues à faible courbure. Moment de torsion. Poutres en compression : le flambage.\n",
      "7 courses scraped\n",
      "\n",
      "Scraped  MAT-1910 Mathématiques de l'ingénieur II \n",
      " Intégrales simples, calcul formel et numérique. Intégrales multiples, coordonnées curvilignes, applications. Calcul des champs de vecteurs. Intégrales sur les courbes et les surfaces : applications, circulation, travail, flux. Théorèmes fondamentaux : Stokes, Gauss; applications à la physique.\n",
      "8 courses scraped\n",
      "\n",
      "Scraped  MAT-2910 Analyse numérique pour l'ingénieur \n",
      " Calcul numérique. Algèbre linéaire. Résolution de systèmes non linéaires. Approximation. Intégration et dérivation. Différences finies. Équations différentielles du premier ordre.\n",
      "9 courses scraped\n",
      "\n",
      "Scraped  GMC-1002 Introduction à la thermodynamique \n",
      " Concepts de base et définitions. Propriétés des substances pures, équilibre des phases, tables de variables thermodynamiques. Travail et chaleur. Notions de systèmes et de volumes de contrôle. Premier principe. Second principe. Notions de machines, de réfrigérateurs et de pompes thermiques. Rendements. Entropie. Mélanges de gaz parfaits : analyse volumétrique et gravimétrique, propriétés.\n",
      "10 courses scraped\n",
      "\n",
      "Scraped  GMC-2002 Résistance des composantes de machines et des assemblages \n",
      " Facteur de sécurité, critères d'écoulement. Fatigue : diagramme de Goodman, cumul de dommage. Vis : mécanique de la vis, autoblocage, couple-tension. Boulons : mécanique d'un joint boulonné, résistance. Assemblages : modes de rupture, analyse des efforts. Roulements : nomenclature, calcul des charges et de durée. Soudure : mécanique, résistance.\n",
      "11 courses scraped\n",
      "\n",
      "Scraped  GMC-2003 Dynamique des corps rigides \n",
      " Cinématique du point matériel : mouvement rectiligne, mouvement curviligne plan, mouvement relatif. Dynamique du point matériel : équation force-accélération, travail-énergie, impulsion et quantité de mouvement, problèmes particuliers. Systèmes matériels. Cinématique des solides : mouvements d'un solide, champ des vitesses, champ des accélérations, référentiel en rotation. Dynamique des solides : équations du mouvement, équations énergie-travail, équations des quantités de mouvement. Mécanique du solide en trois dimensions : cinématique, mouvement cinétique, dynamique du solide.\n",
      "12 courses scraped\n",
      "\n",
      "Scraped  GMC-2005 Dynamique des fluides appliquée \n",
      " Écoulements internes incompressibles : régimes laminaire et turbulent dans les conduites, pertes de charge par frottement, pertes locales, puissance de pompage, systèmes à plusieurs conduites, mesure des débits. Écoulements externes incompressibles : concept de couche limite, transition et séparation, traînée de frottement et traînée de pression, corps profilés et non profilés, force de portance. Écoulements compressibles : thermodynamique, classification, écoulement isentropique, application aux tuyères et diffuseurs, ondes de choc droites.\n",
      "13 courses scraped\n",
      "\n",
      "Scraped  GMC-2006 Équations aux dérivées partielles en génie mécanique \n",
      " Équations aux dérivées partielles : modélisation, méthodes analytiques de résolution, applications. Analyse de Fourier (séries, intégrales et transformées). Méthodes numériques de résolution des équations aux dérivées partielles.\n",
      "14 courses scraped\n",
      "\n",
      "Scraped  GMC-2024 Ingénierie et conception I \n",
      " Présentation des principes de fonctionnement du cursus; présentation de la méthodologie du design; rappel des principes de base du dessin technique : projection orthogonale, cotation, coupes, tolérancement dimensionnel et géométrique; présentation de procédés de soudure et cotation des soudures; les calculs, études préliminaires et études de praticabilité lors de la phase initiale d'un projet; introduction à la fabrication additive; réalisation de projets pour consolider les notions d'ingénierie acquises; conférence d'un représentant technique provenant de l'industrie.\n",
      "15 courses scraped\n",
      "\n",
      "Scraped  ECN-2901 Analyse économique en ingénierie \n",
      " L'ingénierie économique permet la prise de décision, en ce qui concerne les opérations, et la résolution de problèmes particuliers. Elle permet de choisir parmi plusieurs possibilités, celle qui est la plus rentable économiquement. Elle est intimement liée à la microéconomie. L'objectif premier de ce cours est de transmettre à l'étudiant en ingénierie plusieurs principes et méthodes de l'analyse économique dans la perspective d'un projet d'ingénierie. Le cours aborde les concepts suivants : la valeur temporelle de l'argent, les analyses de flux monétaires, la comparaison de possibilités, les problématiques associées à certaines méthodes d'analyse, les méthodes de dépréciation, l'analyse de remplacement, la taxation, les coûts de capital et les flux monétaires après impôt, l'inflation et l'incertitude, la prise de décision.\n",
      "16 courses scraped\n",
      "\n",
      "Scraped  GMC-2008 Machines thermiques \n",
      " Centrales thermiques : cycles simples et améliorés. Introduction à la combustion et aux carburants. Moteurs à piston : cycles théoriques, carburants, quelques aspects pratiques. Turbines à gaz : cycles simples, améliorés et combinés, avec ou sans cogénération, principes de fonctionnement du moteur d'avion à réaction. Cycles de réfrigération. Compresseurs : classification; caractéristiques générales; compresseurs alternatifs et rotatifs; turbocompresseurs.\n",
      "17 courses scraped\n",
      "\n"
     ]
    },
    {
     "name": "stdout",
     "output_type": "stream",
     "text": [
      "Scraped  GMC-2025 Ingénierie et conception II \n",
      " Principes de modélisation CAO; conception des arbres et évaluation de la durée de vie en fatigue; les roulements et les principes de base d'utilisation et de montage des roulements; principes de modélisation physique (identification des aspects les plus importants d'un problème physique et création d'un modèle informatique ou théorique simplifié pour résoudre le problème); introduction aux calculs par éléments finis; introduction à la fabrication additive; principes de préparation et d'exécution d'une présentation orale, présentation orale; réalisation de projets pour consolider les notions d'ingénierie acquises; conférence d'un représentant technique provenant de l'industrie.\n",
      "18 courses scraped\n",
      "\n",
      "Scraped  GMC-3000 Dynamique des vibrations \n",
      " Vibrations à un degré de liberté : libres, forcées, amorties. Techniques de modélisation. Linéarisation. Excitation par force constante, par balourd et par mouvement du support. Isolation des vibrations. Précession des arbres. Capteurs. Vibrations transitoires, impacts. Intégrale de convolution, solution de Laplace, applications. Vibrations d'un système à multiples degrés de liberté. Amortisseur vibratoire, amortisseur dynamique. Couplage de coordonnées. Coefficients d'influence de rigidité et de flexibilité. Valeurs propres et vecteurs propres. Découplage d'un système d'équations différentielles.\n",
      "19 courses scraped\n",
      "\n",
      "Scraped  GMC-3002 Dynamique de la commande appliquée \n",
      " Ce cours porte sur la théorie de la commande linéaire et ses applications. Il fait appel à un ensemble de notions englobant les équations différentielles, la transformation de Laplace, les fonctions de transfert et les schémas fonctionnels. La réponse temporelle et la réponse fréquentielle de systèmes de commande simples sont analysées afin d'établir leurs performances en termes de temps de réponse, de précision et de stabilité. La commande en rétroaction est étudiée pour des compensateurs à actions proportionnelle, intégrale et dérivative, ainsi que pour des compensateurs à avance et à retard de phase. Des aspects pratiques liés à l'implantation de la commande sont aussi explorés.\n",
      "20 courses scraped\n",
      "\n",
      "Scraped  GMC-3005 Transferts thermiques \n",
      " Étude fondamentale des trois mécanismes de transmission de la chaleur, soit la conduction, la convection et le rayonnement. Le cours présente d'abord la conduction, puis en aborde les mécanismes de façon détaillée; régimes permanent et transitoire en une dimension et multidimensionnels. Le cours traite également des fondements du transfert convectif, avec écoulements internes et externes et applications aux échangeurs de chaleur. Enfin, le procédé et les propriétés du rayonnement thermique sont présentés avant d'aborder les échanges radiatifs. Le cours met l'accent sur les fondements, la compréhension et les applications des différents modes de transfert thermique.\n",
      "21 courses scraped\n",
      "\n",
      "Scraped  GMC-3009 Gestion de projets en ingénierie \n",
      " Ce cours a pour objectif de rendre l'étudiant autonome dans l'exercice de la gestion de projets en ingénierie, c'est-à-dire le démarrage, la planification, la programmation, le contrôle, le suivi et la clôture de projets. Ceci inclut la gestion des risques et du changement.\n",
      "22 courses scraped\n",
      "\n",
      "Scraped  GMC-3024 Ingénierie et conception III \n",
      " Moteurs électriques; principes de conception des arbres en génie mécanique; démonstration de certains principes de transmission de puissance; automatisation : composantes de base et algorithmes d'automatisation; principes de base de l'évaluation du coût d'un projet en génie mécanique; réalisation de projets pour consolider les notions d'ingénierie acquises; conférence d'un représentant technique provenant de l'industrie.\n",
      "23 courses scraped\n",
      "\n",
      "Scraped  STT-1900 Méthodes statistiques pour ingénieurs \n",
      " Théorie des probabilités. Loi normale. Statistique descriptive. Lois échantillonnales. Estimation ponctuelle et par intervalle de confiance. Tests d'hypothèses. Analyse de la variance : expériences à un facteur, en blocs, à plusieurs facteurs et factorielles. Régression linéaire simple et multiple.\n",
      "24 courses scraped\n",
      "\n",
      "Scraped  GMC-2007 Fabrication mécanique \n",
      " Principes fondamentaux utilisés par différents procédés de transformation. Problèmes de sélection de machines et de procédés, de choix d'outils et de conditions d'opération. Éléments de conception de pièces associés aux différents procédés. Coulage et formage pour la fabrication de pièces mécaniques, travail des tôles, formage par agglomération de particules, usinage, procédés non traditionnels (usinage au laser, électroérosion), procédés pour la fabrication de pièces en plastique, en céramique et composites, rectification et finition. Méthodes d'analyse des coûts des procédés. Laboratoires sur les différents procédés. Techniques d'assemblage.\n",
      "25 courses scraped\n",
      "\n",
      "Scraped  GMC-3006 Introduction à la mesure et à la mécatronique \n",
      " Analyse des incertitudes. Composants électroniques de base et circuits. Conversion analogique-numérique, numérique-analogique et acquisition de données. Introduction au traitement et à l'analyse de signaux. Revue des principales techniques de mesure utilisées en génie mécanique : température, pression, débit, contraintes, vibrations, position.\n",
      "26 courses scraped\n",
      "\n",
      "Scraped  GMC-3023 Éléments de transmission de puissance \n",
      " Joints de cardan et joints homocinétiques. Engrenages cylindriques et autres types d'engrenages. Trains d'engrenages. Freins. Embrayages. Cames. Machines électriques.\n",
      "27 courses scraped\n",
      "\n",
      "Scraped  GMC-3025 Ingénierie et conception IV \n",
      " Intégration des connaissances dans la réalisation d'un projet de conception mécanique en appliquant les étapes de la méthodologie du design. Conception d'un système mécanique complexe, à partir d'une problématique industrielle définie par un client. Analyses de problèmes, calculs d'ingénierie, production de dessins techniques complets de machines, procédés ou systèmes destinés à des applications industrielles, utilitaires ou récréatives. Mise en pratique et consolidation des aptitudes au travail en équipe, rédaction de rapports techniques, préparation d'une présentation orale. Contenu du projet orienté pour développer les qualités Q4, Q5, Q6, Q7 et Q11 dans les cours Ingénierie et conception IV, V et VI.\n",
      "28 courses scraped\n",
      "\n",
      "Scraped  GMC-3013 Investigation expérimentale en génie mécanique \n",
      " Ce cours consiste à réaliser un projet de nature expérimentale s'appliquant au domaine des systèmes mécaniques. Le travail est effectué en équipe de 2 ou 3 personnes et comporte les étapes suivantes : description du montage; définition d'une problématique et établissement d'une revue de littérature; détermination des quantités physiques à mesurer et description des instruments de mesure à utiliser; élaboration et préparation d'une campagne d'essais expérimentaux; exécution de la campagne d'essais et analyse des résultats. La réalisation du projet permet d'approfondir les connaissances en génie, de développer les compétences en travail expérimental (utilisation d'instruments de mesure, acquisition de données, investigation) et de poursuivre le développement des qualités en communication.\n",
      "29 courses scraped\n",
      "\n",
      "Scraped  GMC-3034 Ingénierie et conception V \n",
      " Intégration des connaissances dans la réalisation d'un projet de conception mécanique en appliquant les étapes de la méthodologie du design. Conception d'un système mécanique complexe, à partir d'une problématique industrielle définie par un client. Analyses de problèmes, calculs d'ingénierie, production de dessins techniques complets de machines, procédés ou systèmes destinés à des applications industrielles, utilitaires ou récréatives. Mise en pratique et consolidation des aptitudes au travail en équipe, rédaction de rapports techniques, préparation d'une présentation orale. Contenu du projet orienté pour développer les qualités Q4, Q5, Q6, Q7 et Q11 dans les cours Ingénierie et conception IV, V et VI.\n",
      "30 courses scraped\n",
      "\n",
      "Scraped  PHI-2910 Génie et développement durable \n",
      " Ce cours s'adresse aux étudiants des baccalauréats en génie et a pour objectif d'initier le futur ingénieur au concept du développement durable et aux différentes idées philosophiques sous-jacentes. Également, il l'amène à faire une démarche de réflexion sur le sens de la profession d'ingénieur dans un contexte où le développement durable a progressivement été intégré à l'encadrement normatif de la profession. À partir d'enjeux actuels auxquels l'ingénierie est confrontée, ce cours engage l'étudiant dans une réflexion méthodique sur les forces et les limites des outils dont il dispose pour participer au projet de société durable qui lui impose désormais de tenir compte des enjeux économiques, sociaux et environnementaux.\n",
      "31 courses scraped\n",
      "\n"
     ]
    },
    {
     "name": "stdout",
     "output_type": "stream",
     "text": [
      "Scraped  GMC-3035 Ingénierie et conception VI \n",
      " Intégration des connaissances dans la réalisation d'un projet de conception mécanique en appliquant les étapes de la méthodologie du design. Conception d'un système mécanique complexe, à partir d'une problématique industrielle définie par un client. Analyses de problèmes, calculs d'ingénierie, production de dessins techniques complets de machines, procédés ou systèmes destinés à des applications industrielles, utilitaires ou récréatives. Mise en pratique et consolidation des aptitudes au travail en équipe, rédaction de rapports techniques, préparation d'une présentation orale. Contenu du projet orienté pour développer les qualités Q4, Q5, Q6, Q7 et Q11 dans les cours Ingénierie et conception IV, V et VI.\n",
      "32 courses scraped\n",
      "\n",
      "Scraped  PHI-3900 Éthique et professionnalisme \n",
      " Les professionnels d'aujourd'hui font face à des situations qui exigent des compétences d'ordre éthique et des savoirs qui débordent les connaissances techniques propres à leur domaine d'expertise. D'une part, la professionnalisation est un phénomène en mutation, ce qui nécessite une réflexion sur le sens de l'activité professionnelle et du professionnalisme. D'autre part, bien que la pratique professionnelle soit réglementée par un code de déontologie, on demande au professionnel d'avoir un sens éthique de ses responsabilités. Au moyen d'études de cas et d'analyses des divers enjeux liés au professionnalisme, le cours propose une réflexion éthique sur la pratique professionnelle et sur les conditions dans lesquelles cette pratique a lieu.\n",
      "33 courses scraped\n",
      "\n",
      "Finished scraping 33 courses\n"
     ]
    }
   ],
   "source": [
    "from selenium.common.exceptions import NoSuchElementException\n",
    "from selenium.common.exceptions import ElementClickInterceptedException\n",
    "\n",
    "course_codes = []\n",
    "course_names = []\n",
    "course_descs = []\n",
    "counter = 0\n",
    "    \n",
    "for link_text in link_texts:\n",
    "    #go to course page\n",
    "    try:\n",
    "        link = driver.find_element_by_link_text(link_text)\n",
    "    except NoSuchElementException:\n",
    "        print(\"no link for {}\".format(link_text))\n",
    "        continue\n",
    "\n",
    "    time.sleep(2)\n",
    "    try:\n",
    "        link.click()\n",
    "    except ElementClickInterceptedException:\n",
    "        link.send_keys(Keys.DOWN)\n",
    "        link.click()\n",
    "        \n",
    "    time.sleep(3)\n",
    "    \n",
    "    #scrape course info\n",
    "    page_soup = soup(driver.page_source, 'lxml')\n",
    "    course_title_container = page_soup.find(\"h1\", {\"class\": \"fe--titre\"})\n",
    "    course_code = course_title_container.find(\"span\", {\"class\": \"fe--titre-type\"}).text.strip()\n",
    "    course_name = course_title_container.find(\"span\", {\"class\": \"fe--titre-nom\"}).text.strip()\n",
    "    course_desc = page_soup.find(\"p\", {\"class\": \"fe--intro\"}).text.strip()\n",
    "    \n",
    "    course_codes.append(course_code)\n",
    "    course_names.append(course_name)\n",
    "    course_descs.append(course_desc)\n",
    "    \n",
    "    print(\"Scraped \", course_codes[-1], course_names[-1], \"\\n\", course_descs[-1])\n",
    "    counter += 1    \n",
    "    print(\"{} courses scraped\".format(counter))\n",
    "    print()\n",
    "    \n",
    "    #go to course list page\n",
    "    driver.back()\n",
    "    time.sleep(3)\n",
    "        \n",
    "print(\"Finished scraping {} courses\".format(counter))"
   ]
  },
  {
   "cell_type": "markdown",
   "metadata": {},
   "source": [
    "# 4. Inspect and write to CSV"
   ]
  },
  {
   "cell_type": "code",
   "execution_count": 25,
   "metadata": {},
   "outputs": [
    {
     "data": {
      "text/plain": [
       "['GLO-1901',\n",
       " 'GMC-1001',\n",
       " 'GMC-1024',\n",
       " 'GML-1001',\n",
       " 'MAT-1900',\n",
       " 'GMC-1003',\n",
       " 'GMC-2001',\n",
       " 'MAT-1910',\n",
       " 'MAT-2910',\n",
       " 'GMC-1002',\n",
       " 'GMC-2002',\n",
       " 'GMC-2003',\n",
       " 'GMC-2005',\n",
       " 'GMC-2006',\n",
       " 'GMC-2024',\n",
       " 'ECN-2901',\n",
       " 'GMC-2008',\n",
       " 'GMC-2025',\n",
       " 'GMC-3000',\n",
       " 'GMC-3002',\n",
       " 'GMC-3005',\n",
       " 'GMC-3009',\n",
       " 'GMC-3024',\n",
       " 'STT-1900',\n",
       " 'GMC-2007',\n",
       " 'GMC-3006',\n",
       " 'GMC-3023',\n",
       " 'GMC-3025',\n",
       " 'GMC-3013',\n",
       " 'GMC-3034',\n",
       " 'PHI-2910',\n",
       " 'GMC-3035',\n",
       " 'PHI-3900']"
      ]
     },
     "execution_count": 25,
     "metadata": {},
     "output_type": "execute_result"
    }
   ],
   "source": [
    "course_codes"
   ]
  },
  {
   "cell_type": "code",
   "execution_count": 26,
   "metadata": {},
   "outputs": [
    {
     "data": {
      "text/plain": [
       "['Introduction à la programmation avec Python',\n",
       " 'Statique des corps rigides',\n",
       " 'Modélisation 3D',\n",
       " \"Matériaux de l'ingénieur\",\n",
       " \"Mathématiques de l'ingénieur I\",\n",
       " 'Introduction à la mécanique des fluides',\n",
       " 'Résistance des matériaux',\n",
       " \"Mathématiques de l'ingénieur II\",\n",
       " \"Analyse numérique pour l'ingénieur\",\n",
       " 'Introduction à la thermodynamique',\n",
       " 'Résistance des composantes de machines et des assemblages',\n",
       " 'Dynamique des corps rigides',\n",
       " 'Dynamique des fluides appliquée',\n",
       " 'Équations aux dérivées partielles en génie mécanique',\n",
       " 'Ingénierie et conception I',\n",
       " 'Analyse économique en ingénierie',\n",
       " 'Machines thermiques',\n",
       " 'Ingénierie et conception II',\n",
       " 'Dynamique des vibrations',\n",
       " 'Dynamique de la commande appliquée',\n",
       " 'Transferts thermiques',\n",
       " 'Gestion de projets en ingénierie',\n",
       " 'Ingénierie et conception III',\n",
       " 'Méthodes statistiques pour ingénieurs',\n",
       " 'Fabrication mécanique',\n",
       " 'Introduction à la mesure et à la mécatronique',\n",
       " 'Éléments de transmission de puissance',\n",
       " 'Ingénierie et conception IV',\n",
       " 'Investigation expérimentale en génie mécanique',\n",
       " 'Ingénierie et conception V',\n",
       " 'Génie et développement durable',\n",
       " 'Ingénierie et conception VI',\n",
       " 'Éthique et professionnalisme']"
      ]
     },
     "execution_count": 26,
     "metadata": {},
     "output_type": "execute_result"
    }
   ],
   "source": [
    "course_names"
   ]
  },
  {
   "cell_type": "code",
   "execution_count": 27,
   "metadata": {},
   "outputs": [
    {
     "data": {
      "text/plain": [
       "['Ce cours introduit les principaux paradigmes de programmation servant à la résolution de problèmes en informatique. Il couvre notamment les programmations procédurale, fonctionnelle, orientée objet et événementielle. Pour illustrer ces paradigmes, il utilise le langage Python.',\n",
       " \"Statique des corps solides. Notion de force. Systèmes de forces\\xa0: lois fondamentales de l'équilibre dans le plan et dans l'espace. Méthodes vectorielles. Treillis, cadres et machines. Application aux mécanismes simples. Centre de masse. Poutres et câbles. Frottement de Coulomb et glissement. Travaux virtuels.\",\n",
       " \"Introduction au dessin à vues multiples et au dessin isométrique, lignes cachées, représentation des filets, interprétation des dessins à vues multiples, coupes et sections, vues auxiliaire, concept de modélisation paramétrique par extrusion, révolution et autres méthodes plus avancées avec logiciel SolidWorks, axes, plans et entités de référence, règles de cotation des dessins, mise en plan, dessin d'ensemble et nomenclature, introduction aux assemblages, cotation de pièces, cotation fonctionnelle, mesures dimensionnelles, prise de mesures avec pied à coulisse et micromètre et incertitude de ces instruments de mesure, ajustements normalisés, chaînes minimales de cotes, introduction au tolérancement géométrique.\",\n",
       " 'Méthodes de caractérisation des matériaux. Cohésion et rigidité des matériaux. Architecture atomique. Matériaux sous contrainte. Comportement des mélanges. Propriétés mécaniques, thermiques, électriques et magnétiques. Métaux et alliages métalliques, polymères, composites, bois et bétons. Dégradation des matériaux.',\n",
       " \"Calcul différentiel des fonctions de plusieurs variables\\xa0: théorie et applications. Nombres complexes; polynômes. Équations différentielles du premier ordre et du premier degré; méthodes numériques. Équations différentielles du second ordre de types spéciaux. Équations différentielles linéaires d'ordre n à coefficients constants. Systèmes d'équations différentielles. Applications.\",\n",
       " \"Propriétés du fluide et concepts fondamentaux. Statique des fluides. Cinématique des fluides. Dynamique d'un fluide incompressible non visqueux. Applications élémentaires des principes de conservation de la masse, de la quantité de mouvement, du moment cinétique. Quelques techniques de mesure en mécanique des fluides. Analyse différentielle des écoulements des fluides : conservation de la masse, écoulements potentiels, équation de Navier-Stokes incompressible. Analyse dimensionnelle et théorie des modèles.\",\n",
       " \"Efforts internes dans un système mécanique. Révision de quelques propriétés mécaniques de matériaux usuels. Effort normal. État de contrainte et de déformation en un point d'un solide chargé. Moment de flexion et effort tranchant dans les poutres longues à faible courbure. Moment de torsion. Poutres en compression\\xa0: le flambage.\",\n",
       " 'Intégrales simples, calcul formel et numérique. Intégrales multiples, coordonnées curvilignes, applications. Calcul des champs de vecteurs. Intégrales sur les courbes et les surfaces\\xa0: applications, circulation, travail, flux. Théorèmes fondamentaux\\xa0: Stokes, Gauss; applications à la physique.',\n",
       " 'Calcul numérique. Algèbre linéaire. Résolution de systèmes non linéaires. Approximation. Intégration et dérivation. Différences finies. Équations différentielles du premier ordre.',\n",
       " 'Concepts de base et définitions. Propriétés des substances pures, équilibre des phases, tables de variables thermodynamiques. Travail et chaleur. Notions de systèmes et de volumes de contrôle. Premier principe. Second principe. Notions de machines, de réfrigérateurs et de pompes thermiques. Rendements. Entropie. Mélanges de gaz parfaits\\xa0: analyse volumétrique et gravimétrique, propriétés.',\n",
       " \"Facteur de sécurité, critères d'écoulement. Fatigue\\xa0: diagramme de Goodman, cumul de dommage. Vis\\xa0: mécanique de la vis, autoblocage, couple-tension. Boulons\\xa0: mécanique d'un joint boulonné, résistance. Assemblages\\xa0: modes de rupture, analyse des efforts. Roulements\\xa0: nomenclature, calcul des charges et de durée. Soudure\\xa0: mécanique, résistance.\",\n",
       " \"Cinématique du point matériel\\xa0: mouvement rectiligne, mouvement curviligne plan, mouvement relatif. Dynamique du point matériel\\xa0: équation force-accélération, travail-énergie, impulsion et quantité de mouvement, problèmes particuliers. Systèmes matériels. Cinématique des solides\\xa0: mouvements d'un solide, champ des vitesses, champ des accélérations, référentiel en rotation. Dynamique des solides\\xa0: équations du mouvement, équations énergie-travail, équations des quantités de mouvement. Mécanique du solide en trois dimensions\\xa0: cinématique, mouvement cinétique, dynamique du solide.\",\n",
       " 'Écoulements internes incompressibles : régimes laminaire et turbulent dans les conduites, pertes de charge par frottement, pertes locales, puissance de pompage, systèmes à plusieurs conduites, mesure des débits. Écoulements externes incompressibles : concept de couche limite, transition et séparation, traînée de frottement et traînée de pression, corps profilés et non profilés, force de portance. Écoulements compressibles : thermodynamique, classification, écoulement isentropique, application aux tuyères et diffuseurs, ondes de choc droites.',\n",
       " 'Équations aux dérivées partielles\\xa0: modélisation, méthodes analytiques de résolution, applications. Analyse de Fourier (séries, intégrales et transformées). Méthodes numériques de résolution des équations aux dérivées partielles.',\n",
       " \"Présentation des principes de fonctionnement du cursus; présentation de la méthodologie du design; rappel des principes de base du dessin technique\\xa0: projection orthogonale, cotation, coupes, tolérancement dimensionnel et géométrique; présentation de procédés de soudure et cotation des soudures; les calculs, études préliminaires et études de praticabilité lors de la phase initiale d'un projet; introduction à la fabrication additive; réalisation de projets pour consolider les notions d'ingénierie acquises; conférence d'un représentant technique provenant de l'industrie.\",\n",
       " \"L'ingénierie économique permet la prise de décision, en ce qui concerne les opérations, et la résolution de problèmes particuliers. Elle permet de choisir parmi plusieurs possibilités, celle qui est la plus rentable économiquement. Elle est intimement liée à la microéconomie. L'objectif premier de ce cours est de transmettre à l'étudiant en ingénierie plusieurs principes et méthodes de l'analyse économique dans la perspective d'un projet d'ingénierie. Le cours aborde les concepts suivants\\xa0: la valeur temporelle de l'argent, les analyses de flux monétaires, la comparaison de possibilités, les problématiques associées à certaines méthodes d'analyse, les méthodes de dépréciation, l'analyse de remplacement, la taxation, les coûts de capital et les flux monétaires après impôt, l'inflation et l'incertitude, la prise de décision.\",\n",
       " \"Centrales thermiques : cycles simples et améliorés. Introduction à la combustion et aux carburants. Moteurs à piston : cycles théoriques, carburants, quelques aspects pratiques. Turbines à gaz : cycles simples, améliorés et combinés, avec ou sans cogénération, principes de fonctionnement du moteur d'avion à réaction. Cycles de réfrigération. Compresseurs : classification; caractéristiques générales; compresseurs alternatifs et rotatifs; turbocompresseurs.\",\n",
       " \"Principes de modélisation CAO; conception des arbres et évaluation de la durée de vie en fatigue; les roulements et les principes de base d'utilisation et de montage des roulements; principes de modélisation physique (identification des aspects les plus importants d'un problème physique et création d'un modèle informatique ou théorique simplifié pour résoudre le problème); introduction aux calculs par éléments finis; introduction à la fabrication additive; principes de préparation et d'exécution d'une présentation orale, présentation orale; réalisation de projets pour consolider les notions d'ingénierie acquises; conférence d'un représentant technique provenant de l'industrie.\",\n",
       " \"Vibrations à un degré de liberté\\xa0: libres, forcées, amorties. Techniques de modélisation. Linéarisation. Excitation par force constante, par balourd et par mouvement du support. Isolation des vibrations. Précession des arbres. Capteurs. Vibrations transitoires, impacts. Intégrale de convolution, solution de Laplace, applications. Vibrations d'un système à multiples degrés de liberté. Amortisseur vibratoire, amortisseur dynamique. Couplage de coordonnées. Coefficients d'influence de rigidité et de flexibilité. Valeurs propres et vecteurs propres. Découplage d'un système d'équations différentielles.\",\n",
       " \"Ce cours porte sur la théorie de la commande linéaire et ses applications. Il fait appel à un ensemble de notions englobant les équations différentielles, la transformation de Laplace, les fonctions de transfert et les schémas fonctionnels. La réponse temporelle et la réponse fréquentielle de systèmes de commande simples sont analysées afin d'établir leurs performances en termes de temps de réponse, de précision et de stabilité. La commande en rétroaction est étudiée pour des compensateurs à actions proportionnelle, intégrale et dérivative, ainsi que pour des compensateurs à avance et à retard de phase. Des aspects pratiques liés à l'implantation de la commande sont aussi explorés.\",\n",
       " \"Étude fondamentale des trois mécanismes de transmission de la chaleur, soit la conduction, la convection et le rayonnement. Le cours présente d'abord la conduction, puis en aborde les mécanismes de façon détaillée; régimes permanent et transitoire en une dimension et multidimensionnels. Le cours traite également des fondements du transfert convectif, avec écoulements internes et externes et applications aux échangeurs de chaleur. Enfin, le procédé et les propriétés du rayonnement thermique sont présentés avant d'aborder les échanges radiatifs. Le cours met l'accent sur les fondements, la compréhension et les applications des différents modes de transfert thermique.\",\n",
       " \"Ce cours a pour objectif de rendre l'étudiant autonome dans l'exercice de la gestion de projets en ingénierie, c'est-à-dire le démarrage, la planification, la programmation, le contrôle, le suivi et la clôture de projets. Ceci inclut la gestion des risques et du changement.\",\n",
       " \"Moteurs électriques; principes de conception des arbres en génie mécanique; démonstration de certains principes de transmission de puissance; automatisation\\xa0: composantes de base et algorithmes d'automatisation; principes de base de l'évaluation du coût d'un projet en génie mécanique; réalisation de projets pour consolider les notions d'ingénierie acquises; conférence d'un représentant technique provenant de l'industrie.\",\n",
       " \"Théorie des probabilités. Loi normale. Statistique descriptive. Lois échantillonnales. Estimation ponctuelle et par intervalle de confiance. Tests d'hypothèses. Analyse de la variance\\xa0: expériences à un facteur, en blocs, à plusieurs facteurs et factorielles. Régression linéaire simple et multiple.\",\n",
       " \"Principes fondamentaux utilisés par différents procédés de transformation. Problèmes de sélection de machines et de procédés, de choix d'outils et de conditions d'opération. Éléments de conception de pièces associés aux différents procédés. Coulage et formage pour la fabrication de pièces mécaniques, travail des tôles, formage par agglomération de particules, usinage, procédés non traditionnels (usinage au laser, électroérosion), procédés pour la fabrication de pièces en plastique, en céramique et composites, rectification et finition. Méthodes d'analyse des coûts des procédés. Laboratoires sur les différents procédés. Techniques d'assemblage.\",\n",
       " \"Analyse des incertitudes. Composants électroniques de base et circuits. Conversion analogique-numérique, numérique-analogique et acquisition de données. Introduction au traitement et à l'analyse de signaux. Revue des principales techniques de mesure utilisées en génie mécanique\\xa0: température, pression, débit, contraintes, vibrations, position.\",\n",
       " \"Joints de cardan et joints homocinétiques. Engrenages cylindriques et autres types d'engrenages. Trains d'engrenages. Freins. Embrayages. Cames. Machines électriques.\",\n",
       " \"Intégration des connaissances dans la réalisation d'un projet de conception mécanique en appliquant les étapes de la méthodologie du design. Conception d'un système mécanique complexe, à partir d'une problématique industrielle définie par un client. Analyses de problèmes, calculs d'ingénierie, production de dessins techniques complets de machines, procédés ou systèmes destinés à des applications industrielles, utilitaires ou récréatives. Mise en pratique et consolidation des aptitudes au travail en équipe, rédaction de rapports techniques, préparation d'une présentation orale. Contenu du projet orienté pour développer les qualités Q4, Q5, Q6, Q7 et Q11 dans les cours Ingénierie et conception IV, V et VI.\",\n",
       " \"Ce cours consiste à réaliser un projet de nature expérimentale s'appliquant au domaine des systèmes mécaniques. Le travail est effectué en équipe de 2 ou 3 personnes et comporte les étapes suivantes\\xa0: description du montage; définition d'une problématique et établissement d'une revue de littérature; détermination des quantités physiques à mesurer et description des instruments de mesure à utiliser; élaboration et préparation d'une campagne d'essais expérimentaux; exécution de la campagne d'essais et analyse des résultats. La réalisation du projet permet d'approfondir les connaissances en génie, de développer les compétences en travail expérimental (utilisation d'instruments de mesure, acquisition de données, investigation) et de poursuivre le développement des qualités en communication.\",\n",
       " \"Intégration des connaissances dans la réalisation d'un projet de conception mécanique en appliquant les étapes de la méthodologie du design. Conception d'un système mécanique complexe, à partir d'une problématique industrielle définie par un client. Analyses de problèmes, calculs d'ingénierie, production de dessins techniques complets de machines, procédés ou systèmes destinés à des applications industrielles, utilitaires ou récréatives. Mise en pratique et consolidation des aptitudes au travail en équipe, rédaction de rapports techniques, préparation d'une présentation orale. Contenu du projet orienté pour développer les qualités Q4, Q5, Q6, Q7 et Q11 dans les cours Ingénierie et conception IV, V et VI.\",\n",
       " \"Ce cours s'adresse aux étudiants des baccalauréats en génie et a pour objectif d'initier le futur ingénieur au concept du développement durable et aux différentes idées philosophiques sous-jacentes. Également, il l'amène à faire une démarche de réflexion sur le sens de la profession d'ingénieur dans un contexte où le développement durable a progressivement été intégré à l'encadrement normatif de la profession. À partir d'enjeux actuels auxquels l'ingénierie est confrontée, ce cours engage l'étudiant dans une réflexion méthodique sur les forces et les limites des outils dont il dispose pour participer au projet de société durable qui lui impose désormais de tenir compte des enjeux économiques, sociaux et environnementaux.\",\n",
       " \"Intégration des connaissances dans la réalisation d'un projet de conception mécanique en appliquant les étapes de la méthodologie du design. Conception d'un système mécanique complexe, à partir d'une problématique industrielle définie par un client. Analyses de problèmes, calculs d'ingénierie, production de dessins techniques complets de machines, procédés ou systèmes destinés à des applications industrielles, utilitaires ou récréatives. Mise en pratique et consolidation des aptitudes au travail en équipe, rédaction de rapports techniques, préparation d'une présentation orale. Contenu du projet orienté pour développer les qualités Q4, Q5, Q6, Q7 et Q11 dans les cours Ingénierie et conception IV, V et VI.\",\n",
       " \"Les professionnels d'aujourd'hui font face à des situations qui exigent des compétences d'ordre éthique et des savoirs qui débordent les connaissances techniques propres à leur domaine d'expertise. D'une part, la professionnalisation est un phénomène en mutation, ce qui nécessite une réflexion sur le sens de l'activité professionnelle et du professionnalisme. D'autre part, bien que la pratique professionnelle soit réglementée par un code de déontologie, on demande au professionnel d'avoir un sens éthique de ses responsabilités. Au moyen d'études de cas et d'analyses des divers enjeux liés au professionnalisme, le cours propose une réflexion éthique sur la pratique professionnelle et sur les conditions dans lesquelles cette pratique a lieu.\"]"
      ]
     },
     "execution_count": 27,
     "metadata": {},
     "output_type": "execute_result"
    }
   ],
   "source": [
    "course_descs"
   ]
  },
  {
   "cell_type": "code",
   "execution_count": 32,
   "metadata": {},
   "outputs": [
    {
     "data": {
      "text/plain": [
       "33"
      ]
     },
     "execution_count": 32,
     "metadata": {},
     "output_type": "execute_result"
    }
   ],
   "source": [
    "len(list(dict.fromkeys(course_codes)))"
   ]
  },
  {
   "cell_type": "code",
   "execution_count": 33,
   "metadata": {},
   "outputs": [
    {
     "data": {
      "text/html": [
       "<div>\n",
       "<style scoped>\n",
       "    .dataframe tbody tr th:only-of-type {\n",
       "        vertical-align: middle;\n",
       "    }\n",
       "\n",
       "    .dataframe tbody tr th {\n",
       "        vertical-align: top;\n",
       "    }\n",
       "\n",
       "    .dataframe thead th {\n",
       "        text-align: right;\n",
       "    }\n",
       "</style>\n",
       "<table border=\"1\" class=\"dataframe\">\n",
       "  <thead>\n",
       "    <tr style=\"text-align: right;\">\n",
       "      <th></th>\n",
       "      <th>Course Number</th>\n",
       "      <th>Course Name</th>\n",
       "      <th>Course Description</th>\n",
       "    </tr>\n",
       "  </thead>\n",
       "  <tbody>\n",
       "    <tr>\n",
       "      <th>0</th>\n",
       "      <td>GLO-1901</td>\n",
       "      <td>Introduction à la programmation avec Python</td>\n",
       "      <td>Ce cours introduit les principaux paradigmes d...</td>\n",
       "    </tr>\n",
       "    <tr>\n",
       "      <th>1</th>\n",
       "      <td>GMC-1001</td>\n",
       "      <td>Statique des corps rigides</td>\n",
       "      <td>Statique des corps solides. Notion de force. S...</td>\n",
       "    </tr>\n",
       "    <tr>\n",
       "      <th>2</th>\n",
       "      <td>GMC-1024</td>\n",
       "      <td>Modélisation 3D</td>\n",
       "      <td>Introduction au dessin à vues multiples et au ...</td>\n",
       "    </tr>\n",
       "    <tr>\n",
       "      <th>3</th>\n",
       "      <td>GML-1001</td>\n",
       "      <td>Matériaux de l'ingénieur</td>\n",
       "      <td>Méthodes de caractérisation des matériaux. Coh...</td>\n",
       "    </tr>\n",
       "    <tr>\n",
       "      <th>4</th>\n",
       "      <td>MAT-1900</td>\n",
       "      <td>Mathématiques de l'ingénieur I</td>\n",
       "      <td>Calcul différentiel des fonctions de plusieurs...</td>\n",
       "    </tr>\n",
       "    <tr>\n",
       "      <th>5</th>\n",
       "      <td>GMC-1003</td>\n",
       "      <td>Introduction à la mécanique des fluides</td>\n",
       "      <td>Propriétés du fluide et concepts fondamentaux....</td>\n",
       "    </tr>\n",
       "    <tr>\n",
       "      <th>6</th>\n",
       "      <td>GMC-2001</td>\n",
       "      <td>Résistance des matériaux</td>\n",
       "      <td>Efforts internes dans un système mécanique. Ré...</td>\n",
       "    </tr>\n",
       "    <tr>\n",
       "      <th>7</th>\n",
       "      <td>MAT-1910</td>\n",
       "      <td>Mathématiques de l'ingénieur II</td>\n",
       "      <td>Intégrales simples, calcul formel et numérique...</td>\n",
       "    </tr>\n",
       "    <tr>\n",
       "      <th>8</th>\n",
       "      <td>MAT-2910</td>\n",
       "      <td>Analyse numérique pour l'ingénieur</td>\n",
       "      <td>Calcul numérique. Algèbre linéaire. Résolution...</td>\n",
       "    </tr>\n",
       "    <tr>\n",
       "      <th>9</th>\n",
       "      <td>GMC-1002</td>\n",
       "      <td>Introduction à la thermodynamique</td>\n",
       "      <td>Concepts de base et définitions. Propriétés de...</td>\n",
       "    </tr>\n",
       "    <tr>\n",
       "      <th>10</th>\n",
       "      <td>GMC-2002</td>\n",
       "      <td>Résistance des composantes de machines et des ...</td>\n",
       "      <td>Facteur de sécurité, critères d'écoulement. Fa...</td>\n",
       "    </tr>\n",
       "    <tr>\n",
       "      <th>11</th>\n",
       "      <td>GMC-2003</td>\n",
       "      <td>Dynamique des corps rigides</td>\n",
       "      <td>Cinématique du point matériel : mouvement rect...</td>\n",
       "    </tr>\n",
       "    <tr>\n",
       "      <th>12</th>\n",
       "      <td>GMC-2005</td>\n",
       "      <td>Dynamique des fluides appliquée</td>\n",
       "      <td>Écoulements internes incompressibles : régimes...</td>\n",
       "    </tr>\n",
       "    <tr>\n",
       "      <th>13</th>\n",
       "      <td>GMC-2006</td>\n",
       "      <td>Équations aux dérivées partielles en génie méc...</td>\n",
       "      <td>Équations aux dérivées partielles : modélisati...</td>\n",
       "    </tr>\n",
       "    <tr>\n",
       "      <th>14</th>\n",
       "      <td>GMC-2024</td>\n",
       "      <td>Ingénierie et conception I</td>\n",
       "      <td>Présentation des principes de fonctionnement d...</td>\n",
       "    </tr>\n",
       "    <tr>\n",
       "      <th>15</th>\n",
       "      <td>ECN-2901</td>\n",
       "      <td>Analyse économique en ingénierie</td>\n",
       "      <td>L'ingénierie économique permet la prise de déc...</td>\n",
       "    </tr>\n",
       "    <tr>\n",
       "      <th>16</th>\n",
       "      <td>GMC-2008</td>\n",
       "      <td>Machines thermiques</td>\n",
       "      <td>Centrales thermiques : cycles simples et améli...</td>\n",
       "    </tr>\n",
       "    <tr>\n",
       "      <th>17</th>\n",
       "      <td>GMC-2025</td>\n",
       "      <td>Ingénierie et conception II</td>\n",
       "      <td>Principes de modélisation CAO; conception des ...</td>\n",
       "    </tr>\n",
       "    <tr>\n",
       "      <th>18</th>\n",
       "      <td>GMC-3000</td>\n",
       "      <td>Dynamique des vibrations</td>\n",
       "      <td>Vibrations à un degré de liberté : libres, for...</td>\n",
       "    </tr>\n",
       "    <tr>\n",
       "      <th>19</th>\n",
       "      <td>GMC-3002</td>\n",
       "      <td>Dynamique de la commande appliquée</td>\n",
       "      <td>Ce cours porte sur la théorie de la commande l...</td>\n",
       "    </tr>\n",
       "    <tr>\n",
       "      <th>20</th>\n",
       "      <td>GMC-3005</td>\n",
       "      <td>Transferts thermiques</td>\n",
       "      <td>Étude fondamentale des trois mécanismes de tra...</td>\n",
       "    </tr>\n",
       "    <tr>\n",
       "      <th>21</th>\n",
       "      <td>GMC-3009</td>\n",
       "      <td>Gestion de projets en ingénierie</td>\n",
       "      <td>Ce cours a pour objectif de rendre l'étudiant ...</td>\n",
       "    </tr>\n",
       "    <tr>\n",
       "      <th>22</th>\n",
       "      <td>GMC-3024</td>\n",
       "      <td>Ingénierie et conception III</td>\n",
       "      <td>Moteurs électriques; principes de conception d...</td>\n",
       "    </tr>\n",
       "    <tr>\n",
       "      <th>23</th>\n",
       "      <td>STT-1900</td>\n",
       "      <td>Méthodes statistiques pour ingénieurs</td>\n",
       "      <td>Théorie des probabilités. Loi normale. Statist...</td>\n",
       "    </tr>\n",
       "    <tr>\n",
       "      <th>24</th>\n",
       "      <td>GMC-2007</td>\n",
       "      <td>Fabrication mécanique</td>\n",
       "      <td>Principes fondamentaux utilisés par différents...</td>\n",
       "    </tr>\n",
       "    <tr>\n",
       "      <th>25</th>\n",
       "      <td>GMC-3006</td>\n",
       "      <td>Introduction à la mesure et à la mécatronique</td>\n",
       "      <td>Analyse des incertitudes. Composants électroni...</td>\n",
       "    </tr>\n",
       "    <tr>\n",
       "      <th>26</th>\n",
       "      <td>GMC-3023</td>\n",
       "      <td>Éléments de transmission de puissance</td>\n",
       "      <td>Joints de cardan et joints homocinétiques. Eng...</td>\n",
       "    </tr>\n",
       "    <tr>\n",
       "      <th>27</th>\n",
       "      <td>GMC-3025</td>\n",
       "      <td>Ingénierie et conception IV</td>\n",
       "      <td>Intégration des connaissances dans la réalisat...</td>\n",
       "    </tr>\n",
       "    <tr>\n",
       "      <th>28</th>\n",
       "      <td>GMC-3013</td>\n",
       "      <td>Investigation expérimentale en génie mécanique</td>\n",
       "      <td>Ce cours consiste à réaliser un projet de natu...</td>\n",
       "    </tr>\n",
       "    <tr>\n",
       "      <th>29</th>\n",
       "      <td>GMC-3034</td>\n",
       "      <td>Ingénierie et conception V</td>\n",
       "      <td>Intégration des connaissances dans la réalisat...</td>\n",
       "    </tr>\n",
       "    <tr>\n",
       "      <th>30</th>\n",
       "      <td>PHI-2910</td>\n",
       "      <td>Génie et développement durable</td>\n",
       "      <td>Ce cours s'adresse aux étudiants des baccalaur...</td>\n",
       "    </tr>\n",
       "    <tr>\n",
       "      <th>31</th>\n",
       "      <td>GMC-3035</td>\n",
       "      <td>Ingénierie et conception VI</td>\n",
       "      <td>Intégration des connaissances dans la réalisat...</td>\n",
       "    </tr>\n",
       "    <tr>\n",
       "      <th>32</th>\n",
       "      <td>PHI-3900</td>\n",
       "      <td>Éthique et professionnalisme</td>\n",
       "      <td>Les professionnels d'aujourd'hui font face à d...</td>\n",
       "    </tr>\n",
       "  </tbody>\n",
       "</table>\n",
       "</div>"
      ],
      "text/plain": [
       "   Course Number                                        Course Name  \\\n",
       "0       GLO-1901        Introduction à la programmation avec Python   \n",
       "1       GMC-1001                         Statique des corps rigides   \n",
       "2       GMC-1024                                    Modélisation 3D   \n",
       "3       GML-1001                           Matériaux de l'ingénieur   \n",
       "4       MAT-1900                     Mathématiques de l'ingénieur I   \n",
       "5       GMC-1003            Introduction à la mécanique des fluides   \n",
       "6       GMC-2001                           Résistance des matériaux   \n",
       "7       MAT-1910                    Mathématiques de l'ingénieur II   \n",
       "8       MAT-2910                 Analyse numérique pour l'ingénieur   \n",
       "9       GMC-1002                  Introduction à la thermodynamique   \n",
       "10      GMC-2002  Résistance des composantes de machines et des ...   \n",
       "11      GMC-2003                        Dynamique des corps rigides   \n",
       "12      GMC-2005                    Dynamique des fluides appliquée   \n",
       "13      GMC-2006  Équations aux dérivées partielles en génie méc...   \n",
       "14      GMC-2024                         Ingénierie et conception I   \n",
       "15      ECN-2901                   Analyse économique en ingénierie   \n",
       "16      GMC-2008                                Machines thermiques   \n",
       "17      GMC-2025                        Ingénierie et conception II   \n",
       "18      GMC-3000                           Dynamique des vibrations   \n",
       "19      GMC-3002                 Dynamique de la commande appliquée   \n",
       "20      GMC-3005                              Transferts thermiques   \n",
       "21      GMC-3009                   Gestion de projets en ingénierie   \n",
       "22      GMC-3024                       Ingénierie et conception III   \n",
       "23      STT-1900              Méthodes statistiques pour ingénieurs   \n",
       "24      GMC-2007                              Fabrication mécanique   \n",
       "25      GMC-3006      Introduction à la mesure et à la mécatronique   \n",
       "26      GMC-3023              Éléments de transmission de puissance   \n",
       "27      GMC-3025                        Ingénierie et conception IV   \n",
       "28      GMC-3013     Investigation expérimentale en génie mécanique   \n",
       "29      GMC-3034                         Ingénierie et conception V   \n",
       "30      PHI-2910                     Génie et développement durable   \n",
       "31      GMC-3035                        Ingénierie et conception VI   \n",
       "32      PHI-3900                       Éthique et professionnalisme   \n",
       "\n",
       "                                   Course Description  \n",
       "0   Ce cours introduit les principaux paradigmes d...  \n",
       "1   Statique des corps solides. Notion de force. S...  \n",
       "2   Introduction au dessin à vues multiples et au ...  \n",
       "3   Méthodes de caractérisation des matériaux. Coh...  \n",
       "4   Calcul différentiel des fonctions de plusieurs...  \n",
       "5   Propriétés du fluide et concepts fondamentaux....  \n",
       "6   Efforts internes dans un système mécanique. Ré...  \n",
       "7   Intégrales simples, calcul formel et numérique...  \n",
       "8   Calcul numérique. Algèbre linéaire. Résolution...  \n",
       "9   Concepts de base et définitions. Propriétés de...  \n",
       "10  Facteur de sécurité, critères d'écoulement. Fa...  \n",
       "11  Cinématique du point matériel : mouvement rect...  \n",
       "12  Écoulements internes incompressibles : régimes...  \n",
       "13  Équations aux dérivées partielles : modélisati...  \n",
       "14  Présentation des principes de fonctionnement d...  \n",
       "15  L'ingénierie économique permet la prise de déc...  \n",
       "16  Centrales thermiques : cycles simples et améli...  \n",
       "17  Principes de modélisation CAO; conception des ...  \n",
       "18  Vibrations à un degré de liberté : libres, for...  \n",
       "19  Ce cours porte sur la théorie de la commande l...  \n",
       "20  Étude fondamentale des trois mécanismes de tra...  \n",
       "21  Ce cours a pour objectif de rendre l'étudiant ...  \n",
       "22  Moteurs électriques; principes de conception d...  \n",
       "23  Théorie des probabilités. Loi normale. Statist...  \n",
       "24  Principes fondamentaux utilisés par différents...  \n",
       "25  Analyse des incertitudes. Composants électroni...  \n",
       "26  Joints de cardan et joints homocinétiques. Eng...  \n",
       "27  Intégration des connaissances dans la réalisat...  \n",
       "28  Ce cours consiste à réaliser un projet de natu...  \n",
       "29  Intégration des connaissances dans la réalisat...  \n",
       "30  Ce cours s'adresse aux étudiants des baccalaur...  \n",
       "31  Intégration des connaissances dans la réalisat...  \n",
       "32  Les professionnels d'aujourd'hui font face à d...  "
      ]
     },
     "execution_count": 33,
     "metadata": {},
     "output_type": "execute_result"
    }
   ],
   "source": [
    "import pandas as pd\n",
    "\n",
    "df = pd.DataFrame({\n",
    "    \"Course Number\": course_codes,\n",
    "    \"Course Name\": course_names,\n",
    "    \"Course Description\": course_descs\n",
    "})\n",
    "\n",
    "df"
   ]
  },
  {
   "cell_type": "code",
   "execution_count": 34,
   "metadata": {},
   "outputs": [],
   "source": [
    "df.to_csv('Laval_GenieMecanique_Core_Courses.csv', index = False)"
   ]
  },
  {
   "cell_type": "code",
   "execution_count": 35,
   "metadata": {},
   "outputs": [],
   "source": [
    "driver.quit()"
   ]
  }
 ],
 "metadata": {
  "kernelspec": {
   "display_name": "Python 3",
   "language": "python",
   "name": "python3"
  },
  "language_info": {
   "codemirror_mode": {
    "name": "ipython",
    "version": 3
   },
   "file_extension": ".py",
   "mimetype": "text/x-python",
   "name": "python",
   "nbconvert_exporter": "python",
   "pygments_lexer": "ipython3",
   "version": "3.8.5"
  }
 },
 "nbformat": 4,
 "nbformat_minor": 4
}
