{
 "cells": [
  {
   "cell_type": "code",
   "execution_count": 1,
   "metadata": {},
   "outputs": [],
   "source": [
    "from bs4 import BeautifulSoup as soup\n",
    "from urllib.request import urlopen as ureq\n",
    "from selenium import webdriver\n",
    "import time\n",
    "import re"
   ]
  },
  {
   "cell_type": "code",
   "execution_count": 2,
   "metadata": {},
   "outputs": [],
   "source": [
    "url = \"https://www.ulaval.ca/etudes/programmes/baccalaureat-en-genie-mecanique#section-structure\""
   ]
  },
  {
   "cell_type": "code",
   "execution_count": 3,
   "metadata": {},
   "outputs": [],
   "source": [
    "chrome_options = webdriver.ChromeOptions()\n",
    "chrome_options.add_argument('--ignore-certificate-errors')\n",
    "chrome_options.add_argument('--incognito')\n",
    "#chrome_options.add_argument('--headless')\n",
    "\n",
    "driver = webdriver.Chrome(\"C:\\\\Users\\\\jerry\\\\Downloads\\\\chromedriver\", options=chrome_options)"
   ]
  },
  {
   "cell_type": "code",
   "execution_count": 4,
   "metadata": {},
   "outputs": [],
   "source": [
    "driver.get(url)"
   ]
  },
  {
   "cell_type": "markdown",
   "metadata": {},
   "source": [
    "# Robotique"
   ]
  },
  {
   "cell_type": "markdown",
   "metadata": {},
   "source": [
    "## 1. Collect course link texts for webdriver to click on"
   ]
  },
  {
   "cell_type": "code",
   "execution_count": 5,
   "metadata": {},
   "outputs": [],
   "source": [
    "page_soup = soup(driver.page_source, 'lxml')"
   ]
  },
  {
   "cell_type": "code",
   "execution_count": 6,
   "metadata": {},
   "outputs": [
    {
     "data": {
      "text/plain": [
       "11"
      ]
     },
     "execution_count": 6,
     "metadata": {},
     "output_type": "execute_result"
    }
   ],
   "source": [
    "containers = page_soup.find(\"section\", {\"id\": \"section-structure\"}).findAll(\"div\", {\"class\": \"fe-bloc-section\"})[1].findAll(\"div\", {\"class\": \"collapsible-sections icon-first light-1 initialized\"})[1].findAll(\"a\")\n",
    "len(containers)"
   ]
  },
  {
   "cell_type": "code",
   "execution_count": 7,
   "metadata": {},
   "outputs": [
    {
     "data": {
      "text/plain": [
       "['GMC-3351\\nÉléments de robotique',\n",
       " 'GEL-4250\\nCommande des systèmes avancée',\n",
       " 'GIF-1003\\nProgrammation avancée en C++',\n",
       " \"GIF-4101\\nIntroduction à l'apprentissage automatique\",\n",
       " 'GLO-4001\\nIntroduction à la robotique mobile',\n",
       " 'GMC-3300\\nMécatronique',\n",
       " 'GMC-3551\\nProjet spécialisé',\n",
       " 'GMC-4048\\nAnalyse et synthèse cinématique des mécanismes',\n",
       " 'GMC-4100\\nCommandes hydrauliques et pneumatiques',\n",
       " 'GMC-4200\\nFabrication assistée par ordinateur',\n",
       " 'ANL-2020']"
      ]
     },
     "execution_count": 7,
     "metadata": {},
     "output_type": "execute_result"
    }
   ],
   "source": [
    "link_texts = [container.text.strip() for container in containers]\n",
    "link_texts"
   ]
  },
  {
   "cell_type": "markdown",
   "metadata": {},
   "source": [
    "## 2. automation script to scrape all courses"
   ]
  },
  {
   "cell_type": "code",
   "execution_count": 11,
   "metadata": {},
   "outputs": [],
   "source": [
    "from selenium.common.exceptions import ElementClickInterceptedException\n",
    "from selenium.webdriver.common.keys import Keys\n",
    "tab = driver.find_element_by_id(\"robotique-cours-obligatoires\")\n",
    "time.sleep(3)\n",
    "try:\n",
    "    tab.click()\n",
    "except ElementClickInterceptedException:\n",
    "    driver.find_element_by_tag_name('body').send_keys(Keys.DOWN)\n",
    "    tab.click()"
   ]
  },
  {
   "cell_type": "code",
   "execution_count": 14,
   "metadata": {},
   "outputs": [],
   "source": [
    "from selenium.common.exceptions import ElementClickInterceptedException\n",
    "from selenium.webdriver.common.keys import Keys\n",
    "tab = driver.find_element_by_id(\"robotique-regle-1\")\n",
    "time.sleep(3)\n",
    "try:\n",
    "    tab.click()\n",
    "except ElementClickInterceptedException:\n",
    "    driver.find_element_by_tag_name('body').send_keys(Keys.DOWN)\n",
    "    tab.click()"
   ]
  },
  {
   "cell_type": "code",
   "execution_count": 15,
   "metadata": {},
   "outputs": [],
   "source": [
    "tab = driver.find_element_by_id(\"robotique-regle-2\")\n",
    "time.sleep(3)\n",
    "try:\n",
    "    tab.click()\n",
    "except ElementClickInterceptedException:\n",
    "    driver.find_element_by_tag_name('body').send_keys(Keys.DOWN)\n",
    "    tab.click()"
   ]
  },
  {
   "cell_type": "code",
   "execution_count": 16,
   "metadata": {
    "scrolled": true
   },
   "outputs": [
    {
     "name": "stdout",
     "output_type": "stream",
     "text": [
      "Scraped  GMC-3351 Éléments de robotique \n",
      " Introduction. Rappels de cinématique et de dynamique, mouvement des corps rigides dans l'espace. Modèles géométrique, cinématique et dynamique des manipulateurs. Planification de trajectoires et de tâches à réaliser. Principes de la commande d'un robot.\n",
      "1 courses scraped\n",
      "\n",
      "Scraped  GEL-4250 Commande des systèmes avancée \n",
      " Représentation d'état : représentation continue et discrète, propriétés, observabilité et gouvernabilité. Observateurs : Luenberger, filtre de Kalman. Commande modale : continue et discrète, ajout d'une action intégrale, ajout d'un observateur. Commande linéaire quadratique (LQ) : continue et discrète, ajout d'une action intégrale, ajout d'un filtre de Kalman (commande LQ Gaussienne). Commande prédictive : principe de l'horizon fuyant, critère de commande, équations de prédiction, paramètres de réglage, contraintes. Commande robuste : performances fréquentielles, incertitudes, stabilité et performance robustes, design des régulateurs.\n",
      "2 courses scraped\n",
      "\n",
      "Scraped  GIF-1003 Programmation avancée en C++ \n",
      " Programmation orientée objet en C++. Éléments de syntaxe et sémantique. Implantation de classes : encapsulation, méthodes et attributs de classe. Surcharge des méthodes et des opérateurs. Notion de contrat et test unitaire. Normes de programmation. Héritage, hiérarchie de classes et polymorphisme. Gestion de la mémoire. Gestion des erreurs et des exceptions. Librairie standard du C++ (STL).\n",
      "3 courses scraped\n",
      "\n",
      "Scraped  GIF-4101 Introduction à l'apprentissage automatique \n",
      " Ce cours porte sur les méthodes permettant l'inférence à partir d'observations de modèles de classement, de régression, d'analyse de données ou de prise de décision. Ces méthodes se caractérisent par une phase d'entraînement à partir de données ou d'expériences, afin d'effectuer des tâches qui seraient difficiles ou impossibles à faire par des moyens algorithmiques plus classiques. Le cours aborde différentes approches actives en apprentissage et cherche à expliquer leurs mécanismes de base. Une perspective applicative de ces différentes techniques est également présentée, avec un accent particulier sur l'utilisation d'outils logiciels modernes.\n",
      "4 courses scraped\n",
      "\n",
      "Scraped  GLO-4001 Introduction à la robotique mobile \n",
      " Ce cours offre un aperçu des principes généraux de la robotique mobile. Les composantes de bases utilisées en robotique mobile, telles que les actionneurs et les capteurs (sonar, laser, caméras et centrale inertielle), sont présentées. Une brève introduction aux boucles d'asservissement est aussi abordée. La partie algorithmique du cours traite de la locomotion, la localisation, la navigation, l'exploration et la cartographie de l'environnement.\n",
      "5 courses scraped\n",
      "\n",
      "Scraped  GMC-3300 Mécatronique \n",
      " Apprentissage des concepts de la mécatronique à l'aide de projets. Rappels sur les éléments de base, les circuits logiques et analogiques, les capteurs, les transistors de puissance et les actuateurs. On insiste particulièrement sur la programmation d'un microcontrôleur, le langage C, le langage machine et l'interfaçage avec les systèmes mécaniques. Commande de puissance, amplification, pont, modulateur d'ondes et asservissement PID. L'étudiant est amené à réaliser des projets sur l'acquisition de données, le conditionnement de signal, la commande de moteurs à pas et CC asservis, une valve proportionnelle et son intégration dans un système de contrôle, etc.\n",
      "6 courses scraped\n",
      "\n",
      "Scraped  GMC-3551 Projet spécialisé \n",
      " Projet permettant de faire la synthèse ou d'appliquer des connaissances acquises dans un ou des cours du programme. Le travail est effectué sous la direction d'un professeur. Une proposition de projet doit être soumise pour approbation au responsable du cours, au plus tard pendant la première semaine du trimestre. Un rapport doit lui être remis à la fin du trimestre. Ce rapport est évalué suivant les modalités décrites dans le plan de cours.\n",
      "7 courses scraped\n",
      "\n",
      "Scraped  GMC-4048 Analyse et synthèse cinématique des mécanismes \n",
      " Classification des mécanismes, mobilité et contraintes cinématiques, rappels de cinématique des corps rigides. Analyses graphique et algébrique de la cinématique des mécanismes plans. Analyse statique et équilibrage des mécanismes plans. Synthèse des mécanismes. Éléments de la théorie des vis.\n",
      "8 courses scraped\n",
      "\n",
      "Scraped  GMC-4100 Commandes hydrauliques et pneumatiques \n",
      " Identification des composantes d'un système hydraulique et pneumatique. Sélection des éléments requis par une fonction donnée. Élaboration de circuits simples et choix des composantes appropriées. Conception des systèmes hydrauliques et pneumatiques. Opération d'un système et détermination de la fonction des différents éléments. Asservissements hydrauliques et électrohydrauliques. Automatismes pneumatiques. Travaux pratiques.\n",
      "9 courses scraped\n",
      "\n",
      "Scraped  GMC-4200 Fabrication assistée par ordinateur \n",
      " Automatisation de la fabrication. Machines-outils à commande numérique : technologie; langages machine et conversationnel; cellules et applications. Robotique : technologie des robots; langages, Karel, cellules robotisées, applications diverses. Les systèmes de fabrication automatisée : véhicules autoguidés et convoyeurs, AS/RS; conception de systèmes TG; pilotage, automates (API) et langages; simulation. Intégration : CAO-FAO, communication et réseaux locaux (MAP). Justification économique. Des laboratoires d'usinage sur-MOCN, de robotique pour l'assemblage, de systèmes de fabrication piloté par automate, ainsi que de CFAO sont prévus.\n",
      "10 courses scraped\n",
      "\n",
      "Scraped  ANL-2020 Intermediate English II \n",
      " Cours de niveau intermédiaire avancé destiné aux étudiants qui peuvent s'exprimer tant à l'oral qu'à l'écrit dans des situations courantes simples et qui peuvent lire et rédiger des textes relativement simples. Compréhension de l'oral et de l'écrit; expression orale et écrite. Structures grammaticales, vocabulaire et expressions idiomatiques, prononciation.\n",
      "11 courses scraped\n",
      "\n",
      "Finished scraping 11 courses\n"
     ]
    }
   ],
   "source": [
    "from selenium.common.exceptions import NoSuchElementException\n",
    "from selenium.common.exceptions import ElementClickInterceptedException\n",
    "\n",
    "course_codes = []\n",
    "course_names = []\n",
    "course_descs = []\n",
    "counter = 0\n",
    "    \n",
    "for link_text in link_texts:\n",
    "    #go to course page\n",
    "    try:\n",
    "        link = driver.find_element_by_link_text(link_text)\n",
    "    except NoSuchElementException:\n",
    "        print(\"no link for {}\".format(link_text))\n",
    "        continue\n",
    "\n",
    "    time.sleep(2)\n",
    "    try:\n",
    "        link.click()\n",
    "    except ElementClickInterceptedException:\n",
    "        link.send_keys(Keys.DOWN)\n",
    "        link.click()\n",
    "        \n",
    "    time.sleep(3)\n",
    "    \n",
    "    #scrape course info\n",
    "    page_soup = soup(driver.page_source, 'lxml')\n",
    "    course_title_container = page_soup.find(\"h1\", {\"class\": \"fe--titre\"})\n",
    "    course_code = course_title_container.find(\"span\", {\"class\": \"fe--titre-type\"}).text.strip()\n",
    "    course_name = course_title_container.find(\"span\", {\"class\": \"fe--titre-nom\"}).text.strip()\n",
    "    course_desc = page_soup.find(\"p\", {\"class\": \"fe--intro\"}).text.strip()\n",
    "    \n",
    "    course_codes.append(course_code)\n",
    "    course_names.append(course_name)\n",
    "    course_descs.append(course_desc)\n",
    "    \n",
    "    print(\"Scraped \", course_codes[-1], course_names[-1], \"\\n\", course_descs[-1])\n",
    "    counter += 1    \n",
    "    print(\"{} courses scraped\".format(counter))\n",
    "    print()\n",
    "    \n",
    "    #go to course list page\n",
    "    driver.back()\n",
    "    time.sleep(3)\n",
    "        \n",
    "print(\"Finished scraping {} courses\".format(counter))"
   ]
  },
  {
   "cell_type": "markdown",
   "metadata": {},
   "source": [
    "## 3. Inspect and write to CSV"
   ]
  },
  {
   "cell_type": "code",
   "execution_count": 17,
   "metadata": {},
   "outputs": [
    {
     "data": {
      "text/plain": [
       "['GMC-3351',\n",
       " 'GEL-4250',\n",
       " 'GIF-1003',\n",
       " 'GIF-4101',\n",
       " 'GLO-4001',\n",
       " 'GMC-3300',\n",
       " 'GMC-3551',\n",
       " 'GMC-4048',\n",
       " 'GMC-4100',\n",
       " 'GMC-4200',\n",
       " 'ANL-2020']"
      ]
     },
     "execution_count": 17,
     "metadata": {},
     "output_type": "execute_result"
    }
   ],
   "source": [
    "course_codes"
   ]
  },
  {
   "cell_type": "code",
   "execution_count": 18,
   "metadata": {},
   "outputs": [
    {
     "data": {
      "text/plain": [
       "['Éléments de robotique',\n",
       " 'Commande des systèmes avancée',\n",
       " 'Programmation avancée en C++',\n",
       " \"Introduction à l'apprentissage automatique\",\n",
       " 'Introduction à la robotique mobile',\n",
       " 'Mécatronique',\n",
       " 'Projet spécialisé',\n",
       " 'Analyse et synthèse cinématique des mécanismes',\n",
       " 'Commandes hydrauliques et pneumatiques',\n",
       " 'Fabrication assistée par ordinateur',\n",
       " 'Intermediate English II']"
      ]
     },
     "execution_count": 18,
     "metadata": {},
     "output_type": "execute_result"
    }
   ],
   "source": [
    "course_names"
   ]
  },
  {
   "cell_type": "code",
   "execution_count": 19,
   "metadata": {},
   "outputs": [
    {
     "data": {
      "text/plain": [
       "[\"Introduction. Rappels de cinématique et de dynamique, mouvement des corps rigides dans l'espace. Modèles géométrique, cinématique et dynamique des manipulateurs. Planification de trajectoires et de tâches à réaliser. Principes de la commande d'un robot.\",\n",
       " \"Représentation d'état\\xa0: représentation continue et discrète, propriétés, observabilité et gouvernabilité. Observateurs\\xa0: Luenberger, filtre de Kalman. Commande modale\\xa0: continue et discrète, ajout d'une action intégrale, ajout d'un observateur. Commande linéaire quadratique (LQ)\\xa0: continue et discrète, ajout d'une action intégrale, ajout d'un filtre de Kalman (commande LQ Gaussienne). Commande prédictive\\xa0: principe de l'horizon fuyant, critère de commande, équations de prédiction, paramètres de réglage, contraintes. Commande robuste\\xa0: performances fréquentielles, incertitudes, stabilité et performance robustes, design des régulateurs.\",\n",
       " 'Programmation orientée objet en C++. Éléments de syntaxe et sémantique. Implantation de classes\\xa0: encapsulation, méthodes et attributs de classe. Surcharge des méthodes et des opérateurs. Notion de contrat et test unitaire. Normes de programmation. Héritage, hiérarchie de classes et polymorphisme. Gestion de la mémoire. Gestion des erreurs et des exceptions. Librairie standard du C++ (STL).',\n",
       " \"Ce cours porte sur les méthodes permettant l'inférence à partir d'observations de modèles de classement, de régression, d'analyse de données ou de prise de décision. Ces méthodes se caractérisent par une phase d'entraînement à partir de données ou d'expériences, afin d'effectuer des tâches qui seraient difficiles ou impossibles à faire par des moyens algorithmiques plus classiques. Le cours aborde différentes approches actives en apprentissage et cherche à expliquer leurs mécanismes de base. Une perspective applicative de ces différentes techniques est également présentée, avec un accent particulier sur l'utilisation d'outils logiciels modernes.\",\n",
       " \"Ce cours offre un aperçu des principes généraux de la robotique mobile. Les composantes de bases utilisées en robotique mobile, telles que les actionneurs et les capteurs (sonar, laser, caméras et centrale inertielle), sont présentées. Une brève introduction aux boucles d'asservissement est aussi abordée. La partie algorithmique du cours traite de la locomotion, la localisation, la navigation, l'exploration et la cartographie de l'environnement.\",\n",
       " \"Apprentissage des concepts de la mécatronique à l'aide de projets. Rappels sur les éléments de base, les circuits logiques et analogiques, les capteurs, les transistors de puissance et les actuateurs. On insiste particulièrement sur la programmation d'un microcontrôleur, le langage C, le langage machine et l'interfaçage avec les systèmes mécaniques. Commande de puissance, amplification, pont, modulateur d'ondes et asservissement PID. L'étudiant est amené à réaliser des projets sur l'acquisition de données, le conditionnement de signal, la commande de moteurs à pas et CC asservis, une valve proportionnelle et son intégration dans un système de contrôle, etc.\",\n",
       " \"Projet permettant de faire la synthèse ou d'appliquer des connaissances acquises dans un ou des cours du programme. Le travail est effectué sous la direction d'un professeur. Une proposition de projet doit être soumise pour approbation au responsable du cours, au plus tard pendant la première semaine du trimestre. Un rapport doit lui être remis à la fin du trimestre. Ce rapport est évalué suivant les modalités décrites dans le plan de cours.\",\n",
       " 'Classification des mécanismes, mobilité et contraintes cinématiques, rappels de cinématique des corps rigides. Analyses graphique et algébrique de la cinématique des mécanismes plans. Analyse statique et équilibrage des mécanismes plans. Synthèse des mécanismes. Éléments de la théorie des vis.',\n",
       " \"Identification des composantes d'un système hydraulique et pneumatique. Sélection des éléments requis par une fonction donnée. Élaboration de circuits simples et choix des composantes appropriées. Conception des systèmes hydrauliques et pneumatiques. Opération d'un système et détermination de la fonction des différents éléments. Asservissements hydrauliques et électrohydrauliques. Automatismes pneumatiques. Travaux pratiques.\",\n",
       " \"Automatisation de la fabrication. Machines-outils à commande numérique\\xa0: technologie; langages machine et conversationnel; cellules et applications. Robotique\\xa0: technologie des robots; langages, Karel, cellules robotisées, applications diverses. Les systèmes de fabrication automatisée\\xa0: véhicules autoguidés et convoyeurs, AS/RS; conception de systèmes TG; pilotage, automates (API) et langages; simulation. Intégration\\xa0: CAO-FAO, communication et réseaux locaux (MAP). Justification économique. Des laboratoires d'usinage sur-MOCN, de robotique pour l'assemblage, de systèmes de fabrication piloté par automate, ainsi que de CFAO sont prévus.\",\n",
       " \"Cours de niveau intermédiaire avancé destiné aux étudiants qui peuvent s'exprimer tant à l'oral qu'à l'écrit dans des situations courantes simples et qui peuvent lire et rédiger des textes relativement simples. Compréhension de l'oral et de l'écrit; expression orale et écrite. Structures grammaticales, vocabulaire et expressions idiomatiques, prononciation.\"]"
      ]
     },
     "execution_count": 19,
     "metadata": {},
     "output_type": "execute_result"
    }
   ],
   "source": [
    "course_descs"
   ]
  },
  {
   "cell_type": "code",
   "execution_count": 20,
   "metadata": {},
   "outputs": [
    {
     "data": {
      "text/plain": [
       "11"
      ]
     },
     "execution_count": 20,
     "metadata": {},
     "output_type": "execute_result"
    }
   ],
   "source": [
    "len(list(dict.fromkeys(course_codes)))"
   ]
  },
  {
   "cell_type": "code",
   "execution_count": 21,
   "metadata": {},
   "outputs": [
    {
     "data": {
      "text/html": [
       "<div>\n",
       "<style scoped>\n",
       "    .dataframe tbody tr th:only-of-type {\n",
       "        vertical-align: middle;\n",
       "    }\n",
       "\n",
       "    .dataframe tbody tr th {\n",
       "        vertical-align: top;\n",
       "    }\n",
       "\n",
       "    .dataframe thead th {\n",
       "        text-align: right;\n",
       "    }\n",
       "</style>\n",
       "<table border=\"1\" class=\"dataframe\">\n",
       "  <thead>\n",
       "    <tr style=\"text-align: right;\">\n",
       "      <th></th>\n",
       "      <th>Course Number</th>\n",
       "      <th>Course Name</th>\n",
       "      <th>Course Description</th>\n",
       "    </tr>\n",
       "  </thead>\n",
       "  <tbody>\n",
       "    <tr>\n",
       "      <th>0</th>\n",
       "      <td>GMC-3351</td>\n",
       "      <td>Éléments de robotique</td>\n",
       "      <td>Introduction. Rappels de cinématique et de dyn...</td>\n",
       "    </tr>\n",
       "    <tr>\n",
       "      <th>1</th>\n",
       "      <td>GEL-4250</td>\n",
       "      <td>Commande des systèmes avancée</td>\n",
       "      <td>Représentation d'état : représentation continu...</td>\n",
       "    </tr>\n",
       "    <tr>\n",
       "      <th>2</th>\n",
       "      <td>GIF-1003</td>\n",
       "      <td>Programmation avancée en C++</td>\n",
       "      <td>Programmation orientée objet en C++. Éléments ...</td>\n",
       "    </tr>\n",
       "    <tr>\n",
       "      <th>3</th>\n",
       "      <td>GIF-4101</td>\n",
       "      <td>Introduction à l'apprentissage automatique</td>\n",
       "      <td>Ce cours porte sur les méthodes permettant l'i...</td>\n",
       "    </tr>\n",
       "    <tr>\n",
       "      <th>4</th>\n",
       "      <td>GLO-4001</td>\n",
       "      <td>Introduction à la robotique mobile</td>\n",
       "      <td>Ce cours offre un aperçu des principes générau...</td>\n",
       "    </tr>\n",
       "    <tr>\n",
       "      <th>5</th>\n",
       "      <td>GMC-3300</td>\n",
       "      <td>Mécatronique</td>\n",
       "      <td>Apprentissage des concepts de la mécatronique ...</td>\n",
       "    </tr>\n",
       "    <tr>\n",
       "      <th>6</th>\n",
       "      <td>GMC-3551</td>\n",
       "      <td>Projet spécialisé</td>\n",
       "      <td>Projet permettant de faire la synthèse ou d'ap...</td>\n",
       "    </tr>\n",
       "    <tr>\n",
       "      <th>7</th>\n",
       "      <td>GMC-4048</td>\n",
       "      <td>Analyse et synthèse cinématique des mécanismes</td>\n",
       "      <td>Classification des mécanismes, mobilité et con...</td>\n",
       "    </tr>\n",
       "    <tr>\n",
       "      <th>8</th>\n",
       "      <td>GMC-4100</td>\n",
       "      <td>Commandes hydrauliques et pneumatiques</td>\n",
       "      <td>Identification des composantes d'un système hy...</td>\n",
       "    </tr>\n",
       "    <tr>\n",
       "      <th>9</th>\n",
       "      <td>GMC-4200</td>\n",
       "      <td>Fabrication assistée par ordinateur</td>\n",
       "      <td>Automatisation de la fabrication. Machines-out...</td>\n",
       "    </tr>\n",
       "    <tr>\n",
       "      <th>10</th>\n",
       "      <td>ANL-2020</td>\n",
       "      <td>Intermediate English II</td>\n",
       "      <td>Cours de niveau intermédiaire avancé destiné a...</td>\n",
       "    </tr>\n",
       "  </tbody>\n",
       "</table>\n",
       "</div>"
      ],
      "text/plain": [
       "   Course Number                                     Course Name  \\\n",
       "0       GMC-3351                           Éléments de robotique   \n",
       "1       GEL-4250                   Commande des systèmes avancée   \n",
       "2       GIF-1003                    Programmation avancée en C++   \n",
       "3       GIF-4101      Introduction à l'apprentissage automatique   \n",
       "4       GLO-4001              Introduction à la robotique mobile   \n",
       "5       GMC-3300                                    Mécatronique   \n",
       "6       GMC-3551                               Projet spécialisé   \n",
       "7       GMC-4048  Analyse et synthèse cinématique des mécanismes   \n",
       "8       GMC-4100          Commandes hydrauliques et pneumatiques   \n",
       "9       GMC-4200             Fabrication assistée par ordinateur   \n",
       "10      ANL-2020                         Intermediate English II   \n",
       "\n",
       "                                   Course Description  \n",
       "0   Introduction. Rappels de cinématique et de dyn...  \n",
       "1   Représentation d'état : représentation continu...  \n",
       "2   Programmation orientée objet en C++. Éléments ...  \n",
       "3   Ce cours porte sur les méthodes permettant l'i...  \n",
       "4   Ce cours offre un aperçu des principes générau...  \n",
       "5   Apprentissage des concepts de la mécatronique ...  \n",
       "6   Projet permettant de faire la synthèse ou d'ap...  \n",
       "7   Classification des mécanismes, mobilité et con...  \n",
       "8   Identification des composantes d'un système hy...  \n",
       "9   Automatisation de la fabrication. Machines-out...  \n",
       "10  Cours de niveau intermédiaire avancé destiné a...  "
      ]
     },
     "execution_count": 21,
     "metadata": {},
     "output_type": "execute_result"
    }
   ],
   "source": [
    "import pandas as pd\n",
    "\n",
    "df = pd.DataFrame({\n",
    "    \"Course Number\": course_codes,\n",
    "    \"Course Name\": course_names,\n",
    "    \"Course Description\": course_descs\n",
    "})\n",
    "\n",
    "df"
   ]
  },
  {
   "cell_type": "code",
   "execution_count": 22,
   "metadata": {},
   "outputs": [],
   "source": [
    "df.to_csv('Laval_GenieMecanique_Robotique_Option_Courses.csv', index = False)"
   ]
  },
  {
   "cell_type": "code",
   "execution_count": 23,
   "metadata": {},
   "outputs": [],
   "source": [
    "driver.quit()"
   ]
  },
  {
   "cell_type": "markdown",
   "metadata": {},
   "source": [
    "# Génie du bâtiment durable"
   ]
  },
  {
   "cell_type": "markdown",
   "metadata": {},
   "source": [
    "## 1. Collect course link texts for webdriver to click on"
   ]
  },
  {
   "cell_type": "code",
   "execution_count": 24,
   "metadata": {},
   "outputs": [],
   "source": [
    "chrome_options = webdriver.ChromeOptions()\n",
    "chrome_options.add_argument('--ignore-certificate-errors')\n",
    "chrome_options.add_argument('--incognito')\n",
    "#chrome_options.add_argument('--headless')\n",
    "\n",
    "driver = webdriver.Chrome(\"C:\\\\Users\\\\jerry\\\\Downloads\\\\chromedriver\", options=chrome_options)"
   ]
  },
  {
   "cell_type": "code",
   "execution_count": 25,
   "metadata": {},
   "outputs": [],
   "source": [
    "driver.get(url)"
   ]
  },
  {
   "cell_type": "code",
   "execution_count": 26,
   "metadata": {},
   "outputs": [],
   "source": [
    "page_soup = soup(driver.page_source, 'lxml')"
   ]
  },
  {
   "cell_type": "code",
   "execution_count": 27,
   "metadata": {},
   "outputs": [
    {
     "data": {
      "text/plain": [
       "16"
      ]
     },
     "execution_count": 27,
     "metadata": {},
     "output_type": "execute_result"
    }
   ],
   "source": [
    "containers = page_soup.find(\"section\", {\"id\": \"section-structure\"}).findAll(\"div\", {\"class\": \"fe-bloc-section\"})[1].findAll(\"div\", {\"class\": \"collapsible-sections icon-first light-1 initialized\"})[2].findAll(\"a\")\n",
    "len(containers)"
   ]
  },
  {
   "cell_type": "code",
   "execution_count": 28,
   "metadata": {},
   "outputs": [
    {
     "data": {
      "text/plain": [
       "['GMC-3012\\nIntroduction à la mécanique du bâtiment et aux énergies renouvelables',\n",
       " 'GMC-3015\\nConception intégrée des systèmes CVAC-R',\n",
       " 'ARC-2001\\nArchitecture et environnement',\n",
       " 'ARC-3103\\nAcoustique architecturale',\n",
       " 'GBO-2040\\nCharpentes en bois I',\n",
       " 'GBO-4070\\nEnveloppe du bâtiment',\n",
       " 'GCI-2004\\nStructures de béton',\n",
       " 'GCI-2007\\nStructures métalliques',\n",
       " 'GCI-3001\\nImpacts environnementaux',\n",
       " 'GCI-3002\\nGestion des eaux',\n",
       " 'GEL-2003\\nÉlectrotechnique',\n",
       " 'GEL-4100\\nCommande industrielle',\n",
       " \"GEL-4799\\nDangers de l'électricité\",\n",
       " 'GMC-3551\\nProjet spécialisé',\n",
       " 'GMC-4100\\nCommandes hydrauliques et pneumatiques',\n",
       " 'ANL-2020']"
      ]
     },
     "execution_count": 28,
     "metadata": {},
     "output_type": "execute_result"
    }
   ],
   "source": [
    "link_texts = [container.text.strip() for container in containers]\n",
    "link_texts"
   ]
  },
  {
   "cell_type": "markdown",
   "metadata": {},
   "source": [
    "## 2. automation script to scrape all courses"
   ]
  },
  {
   "cell_type": "code",
   "execution_count": 29,
   "metadata": {},
   "outputs": [],
   "source": [
    "from selenium.common.exceptions import ElementClickInterceptedException\n",
    "from selenium.webdriver.common.keys import Keys\n",
    "tab = driver.find_element_by_id(\"genie-du-batiment-durable-cours-obligatoires\")\n",
    "time.sleep(3)\n",
    "try:\n",
    "    tab.click()\n",
    "except ElementClickInterceptedException:\n",
    "    driver.find_element_by_tag_name('body').send_keys(Keys.DOWN)\n",
    "    tab.click()"
   ]
  },
  {
   "cell_type": "code",
   "execution_count": 30,
   "metadata": {},
   "outputs": [],
   "source": [
    "tab = driver.find_element_by_id(\"genie-du-batiment-durable-regle-1\")\n",
    "time.sleep(3)\n",
    "try:\n",
    "    tab.click()\n",
    "except ElementClickInterceptedException:\n",
    "    driver.find_element_by_tag_name('body').send_keys(Keys.DOWN)\n",
    "    tab.click()"
   ]
  },
  {
   "cell_type": "code",
   "execution_count": 31,
   "metadata": {},
   "outputs": [],
   "source": [
    "tab = driver.find_element_by_id(\"genie-du-batiment-durable-regle-2\")\n",
    "time.sleep(3)\n",
    "try:\n",
    "    tab.click()\n",
    "except ElementClickInterceptedException:\n",
    "    driver.find_element_by_tag_name('body').send_keys(Keys.DOWN)\n",
    "    tab.click()"
   ]
  },
  {
   "cell_type": "code",
   "execution_count": 32,
   "metadata": {},
   "outputs": [
    {
     "name": "stdout",
     "output_type": "stream",
     "text": [
      "Scraped  GMC-3012 Introduction à la mécanique du bâtiment et aux énergies renouvelables \n",
      " Ce cours constitue une introduction à la mécanique du bâtiment en abordant les thèmes suivants : conditionnement de l’air, air humide, confort thermique, qualité de l’air intérieur, thermique du bâtiment, charge de chauffage, rayonnement solaire, charge de refroidissement, simulation énergétique, réseaux de distribution de fluide, éclairage. De plus, une partie du cours est consacrée aux énergies renouvelables, en particulier à la géothermie et à l’énergie solaire. Finalement, le cours propose à l'étudiant de réfléchir sur l’importance de l’énergie dans nos vies, dans un contexte de développement durable.\n",
      "1 courses scraped\n",
      "\n",
      "Scraped  GMC-3015 Conception intégrée des systèmes CVAC-R \n",
      " Ce cours permet de mettre en application les principes du chauffage, de la ventilation, du conditionnement de l’air et de la réfrigération dans le cadre d’études de cas, d’analyse et de projets de conception. Il aborde des concepts et des stratégies liés à l’efficacité énergétique et au développement durable. L’étudiant apprend également à concevoir ou à choisir les principaux équipements utilisés en mécanique du bâtiment en utilisant des outils numériques de simulation de bâtiments. Le cours adopte une approche multidisciplinaire qui permet à l’étudiant d’interagir avec des intervenants d’autres domaines tels que l’architecture et le génie civil (conception intégrée).\n",
      "2 courses scraped\n",
      "\n",
      "Scraped  ARC-2001 Architecture et environnement \n",
      " Ce cours présente les notions fondamentales des sciences de l'environnement qui peuvent être utilisées en design architectural. Les effets du climat sur le confort de l'usager ainsi que sur la forme, l'orientation, le plan et les matériaux du projet d'architecture sont étudiés. Des méthodes de design visant la prise en compte du vent, de l'ensoleillement et de la neige, de même que le recours aux énergies renouvelables (passives et actives) sont également discutées.\n",
      "3 courses scraped\n",
      "\n",
      "Scraped  ARC-3103 Acoustique architecturale \n",
      " Ce cours vise la compréhension des principes acoustiques appliqués à l'architecture. Il porte principalement sur la nature et les propriétés physiques du son; sur l'évaluation physiologique de l'intensité sonore; sur la conception, le contrôle et l'évaluation de l'acoustique des bâtiments (salles de concert, logement, etc.); et sur le choix et l'assemblage des matériaux et dispositifs appropriés.\n",
      "4 courses scraped\n",
      "\n",
      "Scraped  GBO-2040 Charpentes en bois I \n",
      " Notions préliminaires : formes structurales, propriétés physiques et mécaniques du bois, produits du bois utilisés en charpente, calculs aux états limites. Calculs de conception des éléments de charpente selon la norme CSA-086.1 : objectifs et exigences, effets et combinaisons de charges, éléments fléchis (en bois massif et en bois lamellé-collé), éléments comprimés, éléments tendus, éléments subis à des charges combinées, assemblages (clous, boulons, etc.).\n",
      "5 courses scraped\n",
      "\n",
      "Scraped  GBO-4070 Enveloppe du bâtiment \n",
      " Ce cours comprend les fondements de l'enveloppe du bâtiment (les principes de science du bâtiment appliqués à la conception de l'enveloppe du bâtiment), l'introduction aux composants et systèmes typiques de l'enveloppe du bâtiment en Amérique du Nord, les méthodes et procédures d'essai ou d'évaluation du rendement de l'enveloppe du bâtiment, et les codes et les normes de construction pertinents. L'accent est mis sur la conception détaillée des enveloppes de bâtiment, y compris les murs, les fenêtres, les toits et les niveaux inférieurs. Les problèmes critiques tels que les performances à long terme, l'efficacité énergétique, la durabilité et la conception intégrée seront abordés.\n",
      "6 courses scraped\n",
      "\n",
      "Scraped  GCI-2004 Structures de béton \n",
      " Théorie linéaire. Théorie à la rupture : règlement ACNOR A23.3. Poutres, poteaux et dalles. Moment de flexion et force axiale. Effort tranchant. Calcul des flèches. Flambement. Semelles de fondations. Cadres rigides plans. Structures et édifices.\n",
      "7 courses scraped\n",
      "\n",
      "Scraped  GCI-2007 Structures métalliques \n",
      " Introduction et bases de calcul des charpentes d'acier. L'acier et ses propriétés. Dimensionnement des pièces en traction, en compression pure et en flexion. Calcul des assemblages.\n",
      "8 courses scraped\n",
      "\n",
      "Scraped  GCI-3001 Impacts environnementaux \n",
      " Ce cours permet de s'initier aux études d'impacts et d'acquérir les outils méthodologiques pour de telles études. Il comprend la revue des processus fédéral et provincial d'évaluation des impacts et de leur cadre réglementaire; la revue des méthodes disponibles, des études de cas types sur des projets récents; l'identification et la gestion des conflits en matière d'impacts environnementaux. Notions de vérification environnementale.\n",
      "9 courses scraped\n",
      "\n",
      "Scraped  GCI-3002 Gestion des eaux \n",
      " Gestion des eaux par bassin versant et gestion des eaux en milieu urbain. Notions de qualité des eaux. Notions en production d'eau potable et en traitement des eaux usées. Comportement du milieu récepteur face à un déversement. Notions en gestion des eaux pluviales. Conception préliminaire des systèmes impliqués. Réutilisation des eaux.\n",
      "10 courses scraped\n",
      "\n",
      "Scraped  GEL-2003 Électrotechnique \n",
      " Ce cours donne à l'étudiant les notions fondamentales de l'électrotechnique qui sont essentielles aux ingénieurs en génie électrique. Les circuits monophasés et triphasés sont étudiés en régime permanent : calcul de tension et courant, calcul et mesure de puissance. Les transformateurs monophasés et triphasés sont étudiés en régime permanent. La conversion de l'énergie électrique à l'aide de l'électronique de puissance est introduite. Les montages convertisseurs de base sont étudiés.\n",
      "11 courses scraped\n",
      "\n",
      "Scraped  GEL-4100 Commande industrielle \n",
      " Ce cours porte sur la commande automatique appliquée aux procédés industriels. Tout d'abord, les principaux algorithmes monovariables sont traités dans le domaine continu : régulateur PID, commande de rapport, commande cascade, anticipation, prédicteur de Smith et commande à modèle interne. L'analyse et la commande des procédés multivariables sont ensuite présentées. L'accent est mis sur la commande continue algébrique décentralisée ou avec découpleurs. La gestion des contraintes est également considérée. Finalement, la commande numérique est abordée : chaîne d'acquisition de données, systèmes discrets, synthèse directe et commande à modèle interne. Les travaux pratiques, effectués en laboratoire, permettent une familiarisation avec les systèmes de commande industriels.\n",
      "12 courses scraped\n",
      "\n",
      "Scraped  GEL-4799 Dangers de l'électricité \n",
      " Cette formation est requise pour l'accès à quelques-uns de nos laboratoires (locaux), et donc pour certains cours. Elle est exigée pour des raisons de norme technique de sécurité.\n",
      "13 courses scraped\n",
      "\n",
      "Scraped  GMC-3551 Projet spécialisé \n",
      " Projet permettant de faire la synthèse ou d'appliquer des connaissances acquises dans un ou des cours du programme. Le travail est effectué sous la direction d'un professeur. Une proposition de projet doit être soumise pour approbation au responsable du cours, au plus tard pendant la première semaine du trimestre. Un rapport doit lui être remis à la fin du trimestre. Ce rapport est évalué suivant les modalités décrites dans le plan de cours.\n",
      "14 courses scraped\n",
      "\n",
      "Scraped  GMC-4100 Commandes hydrauliques et pneumatiques \n",
      " Identification des composantes d'un système hydraulique et pneumatique. Sélection des éléments requis par une fonction donnée. Élaboration de circuits simples et choix des composantes appropriées. Conception des systèmes hydrauliques et pneumatiques. Opération d'un système et détermination de la fonction des différents éléments. Asservissements hydrauliques et électrohydrauliques. Automatismes pneumatiques. Travaux pratiques.\n",
      "15 courses scraped\n",
      "\n",
      "Scraped  ANL-2020 Intermediate English II \n",
      " Cours de niveau intermédiaire avancé destiné aux étudiants qui peuvent s'exprimer tant à l'oral qu'à l'écrit dans des situations courantes simples et qui peuvent lire et rédiger des textes relativement simples. Compréhension de l'oral et de l'écrit; expression orale et écrite. Structures grammaticales, vocabulaire et expressions idiomatiques, prononciation.\n",
      "16 courses scraped\n",
      "\n"
     ]
    },
    {
     "name": "stdout",
     "output_type": "stream",
     "text": [
      "Finished scraping 16 courses\n"
     ]
    }
   ],
   "source": [
    "from selenium.common.exceptions import NoSuchElementException\n",
    "from selenium.common.exceptions import ElementClickInterceptedException\n",
    "\n",
    "course_codes = []\n",
    "course_names = []\n",
    "course_descs = []\n",
    "counter = 0\n",
    "    \n",
    "for link_text in link_texts:\n",
    "    #go to course page\n",
    "    try:\n",
    "        link = driver.find_element_by_link_text(link_text)\n",
    "    except NoSuchElementException:\n",
    "        print(\"no link for {}\".format(link_text))\n",
    "        continue\n",
    "\n",
    "    time.sleep(2)\n",
    "    try:\n",
    "        link.click()\n",
    "    except ElementClickInterceptedException:\n",
    "        link.send_keys(Keys.DOWN)\n",
    "        link.click()\n",
    "        \n",
    "    time.sleep(3)\n",
    "    \n",
    "    #scrape course info\n",
    "    page_soup = soup(driver.page_source, 'lxml')\n",
    "    course_title_container = page_soup.find(\"h1\", {\"class\": \"fe--titre\"})\n",
    "    course_code = course_title_container.find(\"span\", {\"class\": \"fe--titre-type\"}).text.strip()\n",
    "    course_name = course_title_container.find(\"span\", {\"class\": \"fe--titre-nom\"}).text.strip()\n",
    "    course_desc = page_soup.find(\"p\", {\"class\": \"fe--intro\"}).text.strip()\n",
    "    \n",
    "    course_codes.append(course_code)\n",
    "    course_names.append(course_name)\n",
    "    course_descs.append(course_desc)\n",
    "    \n",
    "    print(\"Scraped \", course_codes[-1], course_names[-1], \"\\n\", course_descs[-1])\n",
    "    counter += 1    \n",
    "    print(\"{} courses scraped\".format(counter))\n",
    "    print()\n",
    "    \n",
    "    #go to course list page\n",
    "    driver.back()\n",
    "    time.sleep(3)\n",
    "        \n",
    "print(\"Finished scraping {} courses\".format(counter))"
   ]
  },
  {
   "cell_type": "markdown",
   "metadata": {},
   "source": [
    "## 3. Inspect and write to CSV"
   ]
  },
  {
   "cell_type": "code",
   "execution_count": 33,
   "metadata": {},
   "outputs": [
    {
     "data": {
      "text/plain": [
       "['GMC-3012',\n",
       " 'GMC-3015',\n",
       " 'ARC-2001',\n",
       " 'ARC-3103',\n",
       " 'GBO-2040',\n",
       " 'GBO-4070',\n",
       " 'GCI-2004',\n",
       " 'GCI-2007',\n",
       " 'GCI-3001',\n",
       " 'GCI-3002',\n",
       " 'GEL-2003',\n",
       " 'GEL-4100',\n",
       " 'GEL-4799',\n",
       " 'GMC-3551',\n",
       " 'GMC-4100',\n",
       " 'ANL-2020']"
      ]
     },
     "execution_count": 33,
     "metadata": {},
     "output_type": "execute_result"
    }
   ],
   "source": [
    "course_codes"
   ]
  },
  {
   "cell_type": "code",
   "execution_count": 34,
   "metadata": {},
   "outputs": [
    {
     "data": {
      "text/plain": [
       "['Introduction à la mécanique du bâtiment et aux énergies renouvelables',\n",
       " 'Conception intégrée des systèmes CVAC-R',\n",
       " 'Architecture et environnement',\n",
       " 'Acoustique architecturale',\n",
       " 'Charpentes en bois I',\n",
       " 'Enveloppe du bâtiment',\n",
       " 'Structures de béton',\n",
       " 'Structures métalliques',\n",
       " 'Impacts environnementaux',\n",
       " 'Gestion des eaux',\n",
       " 'Électrotechnique',\n",
       " 'Commande industrielle',\n",
       " \"Dangers de l'électricité\",\n",
       " 'Projet spécialisé',\n",
       " 'Commandes hydrauliques et pneumatiques',\n",
       " 'Intermediate English II']"
      ]
     },
     "execution_count": 34,
     "metadata": {},
     "output_type": "execute_result"
    }
   ],
   "source": [
    "course_names"
   ]
  },
  {
   "cell_type": "code",
   "execution_count": 35,
   "metadata": {},
   "outputs": [
    {
     "data": {
      "text/plain": [
       "[\"Ce cours constitue une introduction à la mécanique du bâtiment en abordant les thèmes suivants\\xa0: conditionnement de l’air, air humide, confort thermique, qualité de l’air intérieur, thermique du bâtiment, charge de chauffage, rayonnement solaire, charge de refroidissement, simulation énergétique, réseaux de distribution de fluide, éclairage. De plus, une partie du cours est consacrée aux énergies renouvelables, en particulier à la géothermie et à l’énergie solaire. Finalement, le cours propose à l'étudiant de réfléchir sur l’importance de l’énergie dans nos vies, dans un contexte de développement durable.\",\n",
       " 'Ce cours permet de mettre en application les principes du chauffage, de la ventilation, du conditionnement de l’air et de la réfrigération dans le cadre d’études de cas, d’analyse et de projets de conception. Il aborde des concepts et des stratégies liés à l’efficacité énergétique et au développement durable. L’étudiant apprend également à concevoir ou à choisir les principaux équipements utilisés en mécanique du bâtiment en utilisant des outils numériques de simulation de bâtiments. Le cours adopte une approche multidisciplinaire qui permet à l’étudiant d’interagir avec des intervenants d’autres domaines tels que l’architecture et le génie civil (conception intégrée).',\n",
       " \"Ce cours présente les notions fondamentales des sciences de l'environnement qui peuvent être utilisées en design architectural. Les effets du climat sur le confort de l'usager ainsi que sur la forme, l'orientation, le plan et les matériaux du projet d'architecture sont étudiés. Des méthodes de design visant la prise en compte du vent, de l'ensoleillement et de la neige, de même que le recours aux énergies renouvelables (passives et actives) sont également discutées.\",\n",
       " \"Ce cours vise la compréhension des principes acoustiques appliqués à l'architecture. Il porte principalement sur la nature et les propriétés physiques du son; sur l'évaluation physiologique de l'intensité sonore; sur la conception, le contrôle et l'évaluation de l'acoustique des bâtiments (salles de concert, logement, etc.); et sur le choix et l'assemblage des matériaux et dispositifs appropriés.\",\n",
       " 'Notions préliminaires\\xa0: formes structurales, propriétés physiques et mécaniques du bois, produits du bois utilisés en charpente, calculs aux états limites. Calculs de conception des éléments de charpente selon la norme CSA-086.1\\xa0: objectifs et exigences, effets et combinaisons de charges, éléments fléchis (en bois massif et en bois lamellé-collé), éléments comprimés, éléments tendus, éléments subis à des charges combinées, assemblages (clous, boulons, etc.).',\n",
       " \"Ce cours comprend les fondements de l'enveloppe du bâtiment (les principes de science du bâtiment appliqués à la conception de l'enveloppe du bâtiment), l'introduction aux composants et systèmes typiques de l'enveloppe du bâtiment en Amérique du Nord, les méthodes et procédures d'essai ou d'évaluation du rendement de l'enveloppe du bâtiment, et les codes et les normes de construction pertinents. L'accent est mis sur la conception détaillée des enveloppes de bâtiment, y compris les murs, les fenêtres, les toits et les niveaux inférieurs. Les problèmes critiques tels que les performances à long terme, l'efficacité énergétique, la durabilité et la conception intégrée seront abordés.\",\n",
       " 'Théorie linéaire. Théorie à la rupture\\xa0: règlement ACNOR A23.3. Poutres, poteaux et dalles. Moment de flexion et force axiale. Effort tranchant. Calcul des flèches. Flambement. Semelles de fondations. Cadres rigides plans. Structures et édifices.',\n",
       " \"Introduction et bases de calcul des charpentes d'acier. L'acier et ses propriétés. Dimensionnement des pièces en traction, en compression pure et en flexion. Calcul des assemblages.\",\n",
       " \"Ce cours permet de s'initier aux études d'impacts et d'acquérir les outils méthodologiques pour de telles études. Il comprend la revue des processus fédéral et provincial d'évaluation des impacts et de leur cadre réglementaire; la revue des méthodes disponibles, des études de cas types sur des projets récents; l'identification et la gestion des conflits en matière d'impacts environnementaux. Notions de vérification environnementale.\",\n",
       " \"Gestion des eaux par bassin versant et gestion des eaux en milieu urbain. Notions de qualité des eaux. Notions en production d'eau potable et en traitement des eaux usées. Comportement du milieu récepteur face à un déversement. Notions en gestion des eaux pluviales. Conception préliminaire des systèmes impliqués. Réutilisation des eaux.\",\n",
       " \"Ce cours donne à l'étudiant les notions fondamentales de l'électrotechnique qui sont essentielles aux ingénieurs en génie électrique. Les circuits monophasés et triphasés sont étudiés en régime permanent\\xa0: calcul de tension et courant, calcul et mesure de puissance. Les transformateurs monophasés et triphasés sont étudiés en régime permanent. La conversion de l'énergie électrique à l'aide de l'électronique de puissance est introduite. Les montages convertisseurs de base sont étudiés.\",\n",
       " \"Ce cours porte sur la commande automatique appliquée aux procédés industriels. Tout d'abord, les principaux algorithmes monovariables sont traités dans le domaine continu\\xa0: régulateur PID, commande de rapport, commande cascade, anticipation, prédicteur de Smith et commande à modèle interne. L'analyse et la commande des procédés multivariables sont ensuite présentées. L'accent est mis sur la commande continue algébrique décentralisée ou avec découpleurs. La gestion des contraintes est également considérée. Finalement, la commande numérique est abordée\\xa0: chaîne d'acquisition de données, systèmes discrets, synthèse directe et commande à modèle interne. Les travaux pratiques, effectués en laboratoire, permettent une familiarisation avec les systèmes de commande industriels.\",\n",
       " \"Cette formation est requise pour l'accès à quelques-uns de nos laboratoires (locaux), et donc pour certains cours. Elle est exigée pour des raisons de norme technique de sécurité.\",\n",
       " \"Projet permettant de faire la synthèse ou d'appliquer des connaissances acquises dans un ou des cours du programme. Le travail est effectué sous la direction d'un professeur. Une proposition de projet doit être soumise pour approbation au responsable du cours, au plus tard pendant la première semaine du trimestre. Un rapport doit lui être remis à la fin du trimestre. Ce rapport est évalué suivant les modalités décrites dans le plan de cours.\",\n",
       " \"Identification des composantes d'un système hydraulique et pneumatique. Sélection des éléments requis par une fonction donnée. Élaboration de circuits simples et choix des composantes appropriées. Conception des systèmes hydrauliques et pneumatiques. Opération d'un système et détermination de la fonction des différents éléments. Asservissements hydrauliques et électrohydrauliques. Automatismes pneumatiques. Travaux pratiques.\",\n",
       " \"Cours de niveau intermédiaire avancé destiné aux étudiants qui peuvent s'exprimer tant à l'oral qu'à l'écrit dans des situations courantes simples et qui peuvent lire et rédiger des textes relativement simples. Compréhension de l'oral et de l'écrit; expression orale et écrite. Structures grammaticales, vocabulaire et expressions idiomatiques, prononciation.\"]"
      ]
     },
     "execution_count": 35,
     "metadata": {},
     "output_type": "execute_result"
    }
   ],
   "source": [
    "course_descs"
   ]
  },
  {
   "cell_type": "code",
   "execution_count": 36,
   "metadata": {},
   "outputs": [
    {
     "data": {
      "text/plain": [
       "16"
      ]
     },
     "execution_count": 36,
     "metadata": {},
     "output_type": "execute_result"
    }
   ],
   "source": [
    "len(list(dict.fromkeys(course_codes)))"
   ]
  },
  {
   "cell_type": "code",
   "execution_count": 37,
   "metadata": {},
   "outputs": [
    {
     "data": {
      "text/html": [
       "<div>\n",
       "<style scoped>\n",
       "    .dataframe tbody tr th:only-of-type {\n",
       "        vertical-align: middle;\n",
       "    }\n",
       "\n",
       "    .dataframe tbody tr th {\n",
       "        vertical-align: top;\n",
       "    }\n",
       "\n",
       "    .dataframe thead th {\n",
       "        text-align: right;\n",
       "    }\n",
       "</style>\n",
       "<table border=\"1\" class=\"dataframe\">\n",
       "  <thead>\n",
       "    <tr style=\"text-align: right;\">\n",
       "      <th></th>\n",
       "      <th>Course Number</th>\n",
       "      <th>Course Name</th>\n",
       "      <th>Course Description</th>\n",
       "    </tr>\n",
       "  </thead>\n",
       "  <tbody>\n",
       "    <tr>\n",
       "      <th>0</th>\n",
       "      <td>GMC-3012</td>\n",
       "      <td>Introduction à la mécanique du bâtiment et aux...</td>\n",
       "      <td>Ce cours constitue une introduction à la mécan...</td>\n",
       "    </tr>\n",
       "    <tr>\n",
       "      <th>1</th>\n",
       "      <td>GMC-3015</td>\n",
       "      <td>Conception intégrée des systèmes CVAC-R</td>\n",
       "      <td>Ce cours permet de mettre en application les p...</td>\n",
       "    </tr>\n",
       "    <tr>\n",
       "      <th>2</th>\n",
       "      <td>ARC-2001</td>\n",
       "      <td>Architecture et environnement</td>\n",
       "      <td>Ce cours présente les notions fondamentales de...</td>\n",
       "    </tr>\n",
       "    <tr>\n",
       "      <th>3</th>\n",
       "      <td>ARC-3103</td>\n",
       "      <td>Acoustique architecturale</td>\n",
       "      <td>Ce cours vise la compréhension des principes a...</td>\n",
       "    </tr>\n",
       "    <tr>\n",
       "      <th>4</th>\n",
       "      <td>GBO-2040</td>\n",
       "      <td>Charpentes en bois I</td>\n",
       "      <td>Notions préliminaires : formes structurales, p...</td>\n",
       "    </tr>\n",
       "    <tr>\n",
       "      <th>5</th>\n",
       "      <td>GBO-4070</td>\n",
       "      <td>Enveloppe du bâtiment</td>\n",
       "      <td>Ce cours comprend les fondements de l'envelopp...</td>\n",
       "    </tr>\n",
       "    <tr>\n",
       "      <th>6</th>\n",
       "      <td>GCI-2004</td>\n",
       "      <td>Structures de béton</td>\n",
       "      <td>Théorie linéaire. Théorie à la rupture : règle...</td>\n",
       "    </tr>\n",
       "    <tr>\n",
       "      <th>7</th>\n",
       "      <td>GCI-2007</td>\n",
       "      <td>Structures métalliques</td>\n",
       "      <td>Introduction et bases de calcul des charpentes...</td>\n",
       "    </tr>\n",
       "    <tr>\n",
       "      <th>8</th>\n",
       "      <td>GCI-3001</td>\n",
       "      <td>Impacts environnementaux</td>\n",
       "      <td>Ce cours permet de s'initier aux études d'impa...</td>\n",
       "    </tr>\n",
       "    <tr>\n",
       "      <th>9</th>\n",
       "      <td>GCI-3002</td>\n",
       "      <td>Gestion des eaux</td>\n",
       "      <td>Gestion des eaux par bassin versant et gestion...</td>\n",
       "    </tr>\n",
       "    <tr>\n",
       "      <th>10</th>\n",
       "      <td>GEL-2003</td>\n",
       "      <td>Électrotechnique</td>\n",
       "      <td>Ce cours donne à l'étudiant les notions fondam...</td>\n",
       "    </tr>\n",
       "    <tr>\n",
       "      <th>11</th>\n",
       "      <td>GEL-4100</td>\n",
       "      <td>Commande industrielle</td>\n",
       "      <td>Ce cours porte sur la commande automatique app...</td>\n",
       "    </tr>\n",
       "    <tr>\n",
       "      <th>12</th>\n",
       "      <td>GEL-4799</td>\n",
       "      <td>Dangers de l'électricité</td>\n",
       "      <td>Cette formation est requise pour l'accès à que...</td>\n",
       "    </tr>\n",
       "    <tr>\n",
       "      <th>13</th>\n",
       "      <td>GMC-3551</td>\n",
       "      <td>Projet spécialisé</td>\n",
       "      <td>Projet permettant de faire la synthèse ou d'ap...</td>\n",
       "    </tr>\n",
       "    <tr>\n",
       "      <th>14</th>\n",
       "      <td>GMC-4100</td>\n",
       "      <td>Commandes hydrauliques et pneumatiques</td>\n",
       "      <td>Identification des composantes d'un système hy...</td>\n",
       "    </tr>\n",
       "    <tr>\n",
       "      <th>15</th>\n",
       "      <td>ANL-2020</td>\n",
       "      <td>Intermediate English II</td>\n",
       "      <td>Cours de niveau intermédiaire avancé destiné a...</td>\n",
       "    </tr>\n",
       "  </tbody>\n",
       "</table>\n",
       "</div>"
      ],
      "text/plain": [
       "   Course Number                                        Course Name  \\\n",
       "0       GMC-3012  Introduction à la mécanique du bâtiment et aux...   \n",
       "1       GMC-3015            Conception intégrée des systèmes CVAC-R   \n",
       "2       ARC-2001                      Architecture et environnement   \n",
       "3       ARC-3103                          Acoustique architecturale   \n",
       "4       GBO-2040                               Charpentes en bois I   \n",
       "5       GBO-4070                              Enveloppe du bâtiment   \n",
       "6       GCI-2004                                Structures de béton   \n",
       "7       GCI-2007                             Structures métalliques   \n",
       "8       GCI-3001                           Impacts environnementaux   \n",
       "9       GCI-3002                                   Gestion des eaux   \n",
       "10      GEL-2003                                   Électrotechnique   \n",
       "11      GEL-4100                              Commande industrielle   \n",
       "12      GEL-4799                           Dangers de l'électricité   \n",
       "13      GMC-3551                                  Projet spécialisé   \n",
       "14      GMC-4100             Commandes hydrauliques et pneumatiques   \n",
       "15      ANL-2020                            Intermediate English II   \n",
       "\n",
       "                                   Course Description  \n",
       "0   Ce cours constitue une introduction à la mécan...  \n",
       "1   Ce cours permet de mettre en application les p...  \n",
       "2   Ce cours présente les notions fondamentales de...  \n",
       "3   Ce cours vise la compréhension des principes a...  \n",
       "4   Notions préliminaires : formes structurales, p...  \n",
       "5   Ce cours comprend les fondements de l'envelopp...  \n",
       "6   Théorie linéaire. Théorie à la rupture : règle...  \n",
       "7   Introduction et bases de calcul des charpentes...  \n",
       "8   Ce cours permet de s'initier aux études d'impa...  \n",
       "9   Gestion des eaux par bassin versant et gestion...  \n",
       "10  Ce cours donne à l'étudiant les notions fondam...  \n",
       "11  Ce cours porte sur la commande automatique app...  \n",
       "12  Cette formation est requise pour l'accès à que...  \n",
       "13  Projet permettant de faire la synthèse ou d'ap...  \n",
       "14  Identification des composantes d'un système hy...  \n",
       "15  Cours de niveau intermédiaire avancé destiné a...  "
      ]
     },
     "execution_count": 37,
     "metadata": {},
     "output_type": "execute_result"
    }
   ],
   "source": [
    "import pandas as pd\n",
    "\n",
    "df = pd.DataFrame({\n",
    "    \"Course Number\": course_codes,\n",
    "    \"Course Name\": course_names,\n",
    "    \"Course Description\": course_descs\n",
    "})\n",
    "\n",
    "df"
   ]
  },
  {
   "cell_type": "code",
   "execution_count": 38,
   "metadata": {},
   "outputs": [],
   "source": [
    "df.to_csv('Laval_GenieMecanique_BatimentDurable_Option_Courses.csv', index = False)"
   ]
  },
  {
   "cell_type": "markdown",
   "metadata": {},
   "source": [
    "# Profil entrepreneurial"
   ]
  },
  {
   "cell_type": "markdown",
   "metadata": {},
   "source": [
    "## 1. Collect course link texts for webdriver to click on"
   ]
  },
  {
   "cell_type": "code",
   "execution_count": 39,
   "metadata": {},
   "outputs": [],
   "source": [
    "page_soup = soup(driver.page_source, 'lxml')"
   ]
  },
  {
   "cell_type": "code",
   "execution_count": 42,
   "metadata": {},
   "outputs": [
    {
     "data": {
      "text/plain": [
       "4"
      ]
     },
     "execution_count": 42,
     "metadata": {},
     "output_type": "execute_result"
    }
   ],
   "source": [
    "containers = page_soup.find(\"section\", {\"id\": \"section-structure\"}).findAll(\"div\", {\"class\": \"fe-bloc-section\"})[2].findAll(\"div\", {\"class\": \"collapsible-sections icon-first light-1 initialized\"})[0].findAll(\"a\")\n",
    "len(containers)"
   ]
  },
  {
   "cell_type": "code",
   "execution_count": 43,
   "metadata": {},
   "outputs": [
    {
     "data": {
      "text/plain": [
       "[\"ENT-1000\\nSavoir entreprendre : la passion de créer et d'agir\",\n",
       " 'ENT-2023\\nEntrepreneuriat technologique',\n",
       " 'ENT-3000\\nPortfolio entrepreneurial I',\n",
       " 'ENT-3010\\nPortfolio entrepreneurial II']"
      ]
     },
     "execution_count": 43,
     "metadata": {},
     "output_type": "execute_result"
    }
   ],
   "source": [
    "link_texts = [container.text.strip() for container in containers]\n",
    "link_texts"
   ]
  },
  {
   "cell_type": "markdown",
   "metadata": {},
   "source": [
    "## 2. automation script to scrape all courses"
   ]
  },
  {
   "cell_type": "code",
   "execution_count": 44,
   "metadata": {},
   "outputs": [],
   "source": [
    "tab = driver.find_element_by_id(\"profil-entrepreneurial-cours-obligatoires\")\n",
    "time.sleep(3)\n",
    "try:\n",
    "    tab.click()\n",
    "except ElementClickInterceptedException:\n",
    "    driver.find_element_by_tag_name('body').send_keys(Keys.DOWN)\n",
    "    tab.click()"
   ]
  },
  {
   "cell_type": "code",
   "execution_count": 45,
   "metadata": {},
   "outputs": [
    {
     "name": "stdout",
     "output_type": "stream",
     "text": [
      "Scraped  ENT-1000 Savoir entreprendre : la passion de créer et d'agir \n",
      " Ce cours d'introduction à l'entrepreneuriat s'adresse à tout étudiant inscrit au premier cycle. Il vise à développer le sens de l'initiative et l'esprit d'entreprise chez l'étudiant, afin de lui faire découvrir et exploiter son plein potentiel entrepreneurial. Les connaissances transmises à l'étudiant concernent à la fois l'entrepreneur et le processus créatif par lequel il mène son projet à terme, qu'il s'agisse d'un projet social, commercial, coopératif, artistique ou autre. Des exemples concrets sont présentés pour illustrer la passion qui anime les entrepreneurs, leur besoin de créer et d'innover et leur orientation vers l'action. Offert en classe ou à distance, ce cours joue un rôle clé dans le développement des compétences entrepreneuriales. Le cours inclut la réalisation d'une esquisse entrepreneuriale afin de sensibiliser l'étudiant aux réalités d'un projet entrepreneurial et développer une vision plus juste des défis à considérer. L'esquisse n'étant pas un plan d'affaires complet, le cheminement de ce cours demeure avant tout la découverte et le développement du potentiel entrepreneurial de l'étudiant et non la création d'une entreprise.\n",
      "1 courses scraped\n",
      "\n",
      "Scraped  ENT-2023 Entrepreneuriat technologique \n",
      " Ce cours vise à acquérir une compétence distinctive de gestion d'entreprises technologiques. Il permet à l'étudiant de se familiariser avec les particularités du processus de création et de développement de telles entreprises.\n",
      "2 courses scraped\n",
      "\n",
      "Scraped  ENT-3000 Portfolio entrepreneurial I \n",
      " Préalables : être inscrit au profil entrepreneurial ou au microprogramme en développement des compétences entrepreneuriales et détenir une moyenne égale ou supérieure à 2,67 calculée sur 24 crédits et plus. Le portfolio entrepreneurial permet à l'étudiant de développer un projet lié à son domaine d'études, d'établir un réseau de contacts et d'améliorer ses compétences entrepreneuriales. Un soutien personnalisé est assuré par un conseiller d'Entrepreneuriat Laval tout au long du développement du projet. L'accompagnement facilite la démarche de l'étudiant et lui permet de valider et d'approfondir son idée de projet, d'orienter ses démarches et d'élaborer son plan d'action.\n",
      "3 courses scraped\n",
      "\n",
      "Scraped  ENT-3010 Portfolio entrepreneurial II \n",
      " Le portfolio entrepreneurial permet à l'étudiant de développer un projet lié à son domaine d'études, d'établir un réseau de contacts et d'améliorer ses compétences entrepreneuriales. Un soutien personnalisé est assuré par un conseiller d'Entrepreneuriat Laval tout au long du développement du projet. L'accompagnement facilite la démarche de l'étudiant et lui permet de valider et d'approfondir son idée de projet, d'orienter ses démarches et d'élaborer son plan d'action.\n",
      "4 courses scraped\n",
      "\n",
      "Finished scraping 4 courses\n"
     ]
    }
   ],
   "source": [
    "course_codes = []\n",
    "course_names = []\n",
    "course_descs = []\n",
    "counter = 0\n",
    "    \n",
    "for link_text in link_texts:\n",
    "    #go to course page\n",
    "    try:\n",
    "        link = driver.find_element_by_link_text(link_text)\n",
    "    except NoSuchElementException:\n",
    "        print(\"no link for {}\".format(link_text))\n",
    "        continue\n",
    "\n",
    "    time.sleep(2)\n",
    "    try:\n",
    "        link.click()\n",
    "    except ElementClickInterceptedException:\n",
    "        link.send_keys(Keys.DOWN)\n",
    "        link.click()\n",
    "        \n",
    "    time.sleep(3)\n",
    "    \n",
    "    #scrape course info\n",
    "    page_soup = soup(driver.page_source, 'lxml')\n",
    "    course_title_container = page_soup.find(\"h1\", {\"class\": \"fe--titre\"})\n",
    "    course_code = course_title_container.find(\"span\", {\"class\": \"fe--titre-type\"}).text.strip()\n",
    "    course_name = course_title_container.find(\"span\", {\"class\": \"fe--titre-nom\"}).text.strip()\n",
    "    course_desc = page_soup.find(\"p\", {\"class\": \"fe--intro\"}).text.strip()\n",
    "    \n",
    "    course_codes.append(course_code)\n",
    "    course_names.append(course_name)\n",
    "    course_descs.append(course_desc)\n",
    "    \n",
    "    print(\"Scraped \", course_codes[-1], course_names[-1], \"\\n\", course_descs[-1])\n",
    "    counter += 1    \n",
    "    print(\"{} courses scraped\".format(counter))\n",
    "    print()\n",
    "    \n",
    "    #go to course list page\n",
    "    driver.back()\n",
    "    time.sleep(3)\n",
    "        \n",
    "print(\"Finished scraping {} courses\".format(counter))"
   ]
  },
  {
   "cell_type": "markdown",
   "metadata": {},
   "source": [
    "## 3. Inspect and write to CSV"
   ]
  },
  {
   "cell_type": "code",
   "execution_count": 46,
   "metadata": {},
   "outputs": [
    {
     "data": {
      "text/plain": [
       "['ENT-1000', 'ENT-2023', 'ENT-3000', 'ENT-3010']"
      ]
     },
     "execution_count": 46,
     "metadata": {},
     "output_type": "execute_result"
    }
   ],
   "source": [
    "course_codes"
   ]
  },
  {
   "cell_type": "code",
   "execution_count": 47,
   "metadata": {},
   "outputs": [
    {
     "data": {
      "text/plain": [
       "[\"Savoir entreprendre : la passion de créer et d'agir\",\n",
       " 'Entrepreneuriat technologique',\n",
       " 'Portfolio entrepreneurial I',\n",
       " 'Portfolio entrepreneurial II']"
      ]
     },
     "execution_count": 47,
     "metadata": {},
     "output_type": "execute_result"
    }
   ],
   "source": [
    "course_names"
   ]
  },
  {
   "cell_type": "code",
   "execution_count": 48,
   "metadata": {},
   "outputs": [
    {
     "data": {
      "text/plain": [
       "[\"Ce cours d'introduction à l'entrepreneuriat s'adresse à tout étudiant inscrit au premier cycle. Il vise à développer le sens de l'initiative et l'esprit d'entreprise chez l'étudiant, afin de lui faire découvrir et exploiter son plein potentiel entrepreneurial. Les connaissances transmises à l'étudiant concernent à la fois l'entrepreneur et le processus créatif par lequel il mène son projet à terme, qu'il s'agisse d'un projet social, commercial, coopératif, artistique ou autre. Des exemples concrets sont présentés pour illustrer la passion qui anime les entrepreneurs, leur besoin de créer et d'innover et leur orientation vers l'action. Offert en classe ou à distance, ce cours joue un rôle clé dans le développement des compétences entrepreneuriales. Le cours inclut la réalisation d'une esquisse entrepreneuriale afin de sensibiliser l'étudiant aux réalités d'un projet entrepreneurial et développer une vision plus juste des défis à considérer. L'esquisse n'étant pas un plan d'affaires complet, le cheminement de ce cours demeure avant tout la découverte et le développement du potentiel entrepreneurial de l'étudiant et non la création d'une entreprise.\",\n",
       " \"Ce cours vise à acquérir une compétence distinctive de gestion d'entreprises technologiques. Il permet à l'étudiant de se familiariser avec les particularités du processus de création et de développement de telles entreprises.\",\n",
       " \"Préalables\\xa0: être inscrit au profil entrepreneurial ou au microprogramme en développement des compétences entrepreneuriales et détenir une moyenne égale ou supérieure à 2,67 calculée sur 24 crédits et plus. Le portfolio entrepreneurial permet à l'étudiant de développer un projet lié à son domaine d'études, d'établir un réseau de contacts et d'améliorer ses compétences entrepreneuriales. Un soutien personnalisé est assuré par un conseiller d'Entrepreneuriat Laval tout au long du développement du projet. L'accompagnement facilite la démarche de l'étudiant et lui permet de valider et d'approfondir son idée de projet, d'orienter ses démarches et d'élaborer son plan d'action.\",\n",
       " \"Le portfolio entrepreneurial permet à l'étudiant de développer un projet lié à son domaine d'études, d'établir un réseau de contacts et d'améliorer ses compétences entrepreneuriales. Un soutien personnalisé est assuré par un conseiller d'Entrepreneuriat Laval tout au long du développement du projet. L'accompagnement facilite la démarche de l'étudiant et lui permet de valider et d'approfondir son idée de projet, d'orienter ses démarches et d'élaborer son plan d'action.\"]"
      ]
     },
     "execution_count": 48,
     "metadata": {},
     "output_type": "execute_result"
    }
   ],
   "source": [
    "course_descs"
   ]
  },
  {
   "cell_type": "code",
   "execution_count": 49,
   "metadata": {},
   "outputs": [
    {
     "data": {
      "text/html": [
       "<div>\n",
       "<style scoped>\n",
       "    .dataframe tbody tr th:only-of-type {\n",
       "        vertical-align: middle;\n",
       "    }\n",
       "\n",
       "    .dataframe tbody tr th {\n",
       "        vertical-align: top;\n",
       "    }\n",
       "\n",
       "    .dataframe thead th {\n",
       "        text-align: right;\n",
       "    }\n",
       "</style>\n",
       "<table border=\"1\" class=\"dataframe\">\n",
       "  <thead>\n",
       "    <tr style=\"text-align: right;\">\n",
       "      <th></th>\n",
       "      <th>Course Number</th>\n",
       "      <th>Course Name</th>\n",
       "      <th>Course Description</th>\n",
       "    </tr>\n",
       "  </thead>\n",
       "  <tbody>\n",
       "    <tr>\n",
       "      <th>0</th>\n",
       "      <td>ENT-1000</td>\n",
       "      <td>Savoir entreprendre : la passion de créer et d...</td>\n",
       "      <td>Ce cours d'introduction à l'entrepreneuriat s'...</td>\n",
       "    </tr>\n",
       "    <tr>\n",
       "      <th>1</th>\n",
       "      <td>ENT-2023</td>\n",
       "      <td>Entrepreneuriat technologique</td>\n",
       "      <td>Ce cours vise à acquérir une compétence distin...</td>\n",
       "    </tr>\n",
       "    <tr>\n",
       "      <th>2</th>\n",
       "      <td>ENT-3000</td>\n",
       "      <td>Portfolio entrepreneurial I</td>\n",
       "      <td>Préalables : être inscrit au profil entreprene...</td>\n",
       "    </tr>\n",
       "    <tr>\n",
       "      <th>3</th>\n",
       "      <td>ENT-3010</td>\n",
       "      <td>Portfolio entrepreneurial II</td>\n",
       "      <td>Le portfolio entrepreneurial permet à l'étudia...</td>\n",
       "    </tr>\n",
       "  </tbody>\n",
       "</table>\n",
       "</div>"
      ],
      "text/plain": [
       "  Course Number                                        Course Name  \\\n",
       "0      ENT-1000  Savoir entreprendre : la passion de créer et d...   \n",
       "1      ENT-2023                      Entrepreneuriat technologique   \n",
       "2      ENT-3000                        Portfolio entrepreneurial I   \n",
       "3      ENT-3010                       Portfolio entrepreneurial II   \n",
       "\n",
       "                                  Course Description  \n",
       "0  Ce cours d'introduction à l'entrepreneuriat s'...  \n",
       "1  Ce cours vise à acquérir une compétence distin...  \n",
       "2  Préalables : être inscrit au profil entreprene...  \n",
       "3  Le portfolio entrepreneurial permet à l'étudia...  "
      ]
     },
     "execution_count": 49,
     "metadata": {},
     "output_type": "execute_result"
    }
   ],
   "source": [
    "import pandas as pd\n",
    "\n",
    "df = pd.DataFrame({\n",
    "    \"Course Number\": course_codes,\n",
    "    \"Course Name\": course_names,\n",
    "    \"Course Description\": course_descs\n",
    "})\n",
    "\n",
    "df"
   ]
  },
  {
   "cell_type": "code",
   "execution_count": 50,
   "metadata": {},
   "outputs": [],
   "source": [
    "df.to_csv('Laval_GenieMecanique_entrepreneurial_profile_Courses.csv', index = False)"
   ]
  },
  {
   "cell_type": "markdown",
   "metadata": {},
   "source": [
    "# Profil international"
   ]
  },
  {
   "cell_type": "markdown",
   "metadata": {},
   "source": [
    "## 1. Collect course link texts for webdriver to click on"
   ]
  },
  {
   "cell_type": "code",
   "execution_count": 51,
   "metadata": {},
   "outputs": [],
   "source": [
    "page_soup = soup(driver.page_source, 'lxml')"
   ]
  },
  {
   "cell_type": "code",
   "execution_count": 52,
   "metadata": {},
   "outputs": [
    {
     "data": {
      "text/plain": [
       "1"
      ]
     },
     "execution_count": 52,
     "metadata": {},
     "output_type": "execute_result"
    }
   ],
   "source": [
    "containers = page_soup.find(\"section\", {\"id\": \"section-structure\"}).findAll(\"div\", {\"class\": \"fe-bloc-section\"})[2].findAll(\"div\", {\"class\": \"collapsible-sections icon-first light-1 initialized\"})[1].findAll(\"a\")\n",
    "len(containers)"
   ]
  },
  {
   "cell_type": "code",
   "execution_count": 53,
   "metadata": {},
   "outputs": [
    {
     "data": {
      "text/plain": [
       "['EHE-1GMC\\nÉtudes - Profil international - Baccalauréat en génie mécanique']"
      ]
     },
     "execution_count": 53,
     "metadata": {},
     "output_type": "execute_result"
    }
   ],
   "source": [
    "link_texts = [container.text.strip() for container in containers]\n",
    "link_texts"
   ]
  },
  {
   "cell_type": "markdown",
   "metadata": {},
   "source": [
    "## 2. scrape course"
   ]
  },
  {
   "cell_type": "code",
   "execution_count": 55,
   "metadata": {},
   "outputs": [],
   "source": [
    "tab = driver.find_element_by_id(\"profil-international-cours-obligatoires\")\n",
    "time.sleep(3)\n",
    "try:\n",
    "    tab.click()\n",
    "except ElementClickInterceptedException:\n",
    "    driver.find_element_by_tag_name('body').send_keys(Keys.DOWN)\n",
    "    tab.click()"
   ]
  },
  {
   "cell_type": "code",
   "execution_count": 58,
   "metadata": {},
   "outputs": [
    {
     "name": "stdout",
     "output_type": "stream",
     "text": [
      "Scraped  EHE-1GMC Études - Profil international - Baccalauréat en génie mécanique \n",
      " Ce baccalauréat pourrait bien être la clé pour donner libre cours à votre créativité. Le génie mécanique est partout, dans tous les aspects de l'activité humaine. Pour n'en mentionner que quelques exemples, on retrouve des ingénieurs mécaniques dans tous les secteurs de l'industrie, dans les transports, les services publics, les loisirs, l'éducation, les sports, les arts, la médecine et les sciences de la santé, les technologies environnementales, dans la conception et la réalisation de tous les objets que nous utilisons dans la vie de tous les jours.\n",
      "1 courses scraped\n",
      "\n",
      "Finished scraping 1 courses\n"
     ]
    }
   ],
   "source": [
    "course_codes = []\n",
    "course_names = []\n",
    "course_descs = []\n",
    "counter = 0\n",
    "    \n",
    "for link_text in link_texts:\n",
    "    #go to course page\n",
    "    try:\n",
    "        link = driver.find_element_by_link_text(link_text)\n",
    "    except NoSuchElementException:\n",
    "        print(\"no link for {}\".format(link_text))\n",
    "        continue\n",
    "\n",
    "    time.sleep(2)\n",
    "    try:\n",
    "        link.click()\n",
    "    except ElementClickInterceptedException:\n",
    "        link.send_keys(Keys.DOWN)\n",
    "        link.click()\n",
    "        \n",
    "    time.sleep(3)\n",
    "    \n",
    "    #scrape course info\n",
    "    page_soup = soup(driver.page_source, 'lxml')\n",
    "    course_code = link_text.split(\"\\n\")[0]\n",
    "    course_name = link_text.split(\"\\n\")[1]\n",
    "    course_desc = page_soup.find(\"div\", {\"class\": \"fe--intro\"}).text.strip()\n",
    "    \n",
    "    course_codes.append(course_code)\n",
    "    course_names.append(course_name)\n",
    "    course_descs.append(course_desc)\n",
    "    \n",
    "    print(\"Scraped \", course_codes[-1], course_names[-1], \"\\n\", course_descs[-1])\n",
    "    counter += 1    \n",
    "    print(\"{} courses scraped\".format(counter))\n",
    "    print()\n",
    "    \n",
    "    #go to course list page\n",
    "    driver.back()\n",
    "    time.sleep(3)\n",
    "        \n",
    "print(\"Finished scraping {} courses\".format(counter))"
   ]
  },
  {
   "cell_type": "markdown",
   "metadata": {},
   "source": [
    "## 3. Inspect and write to CSV"
   ]
  },
  {
   "cell_type": "code",
   "execution_count": 59,
   "metadata": {},
   "outputs": [
    {
     "data": {
      "text/plain": [
       "['EHE-1GMC']"
      ]
     },
     "execution_count": 59,
     "metadata": {},
     "output_type": "execute_result"
    }
   ],
   "source": [
    "course_codes"
   ]
  },
  {
   "cell_type": "code",
   "execution_count": 60,
   "metadata": {},
   "outputs": [
    {
     "data": {
      "text/plain": [
       "['Études - Profil international - Baccalauréat en génie mécanique']"
      ]
     },
     "execution_count": 60,
     "metadata": {},
     "output_type": "execute_result"
    }
   ],
   "source": [
    "course_names"
   ]
  },
  {
   "cell_type": "code",
   "execution_count": 61,
   "metadata": {},
   "outputs": [
    {
     "data": {
      "text/plain": [
       "[\"Ce baccalauréat pourrait bien être la clé pour donner libre cours à votre créativité. Le génie mécanique est partout, dans tous les aspects de l'activité humaine. Pour n'en mentionner que quelques exemples, on retrouve des ingénieurs mécaniques dans tous les secteurs de l'industrie, dans les transports, les services publics, les loisirs, l'éducation, les sports, les arts, la médecine et les sciences de la santé, les technologies environnementales, dans la conception et la réalisation de tous les objets que nous utilisons dans la vie de tous les jours.\"]"
      ]
     },
     "execution_count": 61,
     "metadata": {},
     "output_type": "execute_result"
    }
   ],
   "source": [
    "course_descs"
   ]
  },
  {
   "cell_type": "code",
   "execution_count": 62,
   "metadata": {},
   "outputs": [
    {
     "data": {
      "text/html": [
       "<div>\n",
       "<style scoped>\n",
       "    .dataframe tbody tr th:only-of-type {\n",
       "        vertical-align: middle;\n",
       "    }\n",
       "\n",
       "    .dataframe tbody tr th {\n",
       "        vertical-align: top;\n",
       "    }\n",
       "\n",
       "    .dataframe thead th {\n",
       "        text-align: right;\n",
       "    }\n",
       "</style>\n",
       "<table border=\"1\" class=\"dataframe\">\n",
       "  <thead>\n",
       "    <tr style=\"text-align: right;\">\n",
       "      <th></th>\n",
       "      <th>Course Number</th>\n",
       "      <th>Course Name</th>\n",
       "      <th>Course Description</th>\n",
       "    </tr>\n",
       "  </thead>\n",
       "  <tbody>\n",
       "    <tr>\n",
       "      <th>0</th>\n",
       "      <td>EHE-1GMC</td>\n",
       "      <td>Études - Profil international - Baccalauréat e...</td>\n",
       "      <td>Ce baccalauréat pourrait bien être la clé pour...</td>\n",
       "    </tr>\n",
       "  </tbody>\n",
       "</table>\n",
       "</div>"
      ],
      "text/plain": [
       "  Course Number                                        Course Name  \\\n",
       "0      EHE-1GMC  Études - Profil international - Baccalauréat e...   \n",
       "\n",
       "                                  Course Description  \n",
       "0  Ce baccalauréat pourrait bien être la clé pour...  "
      ]
     },
     "execution_count": 62,
     "metadata": {},
     "output_type": "execute_result"
    }
   ],
   "source": [
    "import pandas as pd\n",
    "\n",
    "df = pd.DataFrame({\n",
    "    \"Course Number\": course_codes,\n",
    "    \"Course Name\": course_names,\n",
    "    \"Course Description\": course_descs\n",
    "})\n",
    "\n",
    "df"
   ]
  },
  {
   "cell_type": "code",
   "execution_count": 63,
   "metadata": {},
   "outputs": [],
   "source": [
    "df.to_csv('Laval_GenieMecanique_international_profile_Courses.csv', index = False)"
   ]
  },
  {
   "cell_type": "code",
   "execution_count": 64,
   "metadata": {},
   "outputs": [],
   "source": [
    "driver.quit()"
   ]
  }
 ],
 "metadata": {
  "kernelspec": {
   "display_name": "Python 3",
   "language": "python",
   "name": "python3"
  },
  "language_info": {
   "codemirror_mode": {
    "name": "ipython",
    "version": 3
   },
   "file_extension": ".py",
   "mimetype": "text/x-python",
   "name": "python",
   "nbconvert_exporter": "python",
   "pygments_lexer": "ipython3",
   "version": "3.8.5"
  }
 },
 "nbformat": 4,
 "nbformat_minor": 4
}
