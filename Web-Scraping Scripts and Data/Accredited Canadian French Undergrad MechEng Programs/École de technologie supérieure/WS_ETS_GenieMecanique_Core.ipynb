{
 "cells": [
  {
   "cell_type": "code",
   "execution_count": 1,
   "metadata": {},
   "outputs": [],
   "source": [
    "from bs4 import BeautifulSoup as soup\n",
    "from urllib.request import urlopen as ureq\n",
    "from selenium import webdriver\n",
    "import time\n",
    "import re"
   ]
  },
  {
   "cell_type": "code",
   "execution_count": 2,
   "metadata": {},
   "outputs": [],
   "source": [
    "url = \"https://www.etsmtl.ca/Etudes/Premier-cycle/Baccalaureat-genie-mecanique#Cours-et-concentrations\""
   ]
  },
  {
   "cell_type": "code",
   "execution_count": 5,
   "metadata": {},
   "outputs": [],
   "source": [
    "chrome_options = webdriver.ChromeOptions()\n",
    "chrome_options.add_argument('--ignore-certificate-errors')\n",
    "chrome_options.add_argument('--incognito')\n",
    "#chrome_options.add_argument('--headless')\n",
    "\n",
    "driver = webdriver.Chrome(\"C:\\\\Users\\\\jerry\\\\Downloads\\\\chromedriver\", options=chrome_options)"
   ]
  },
  {
   "cell_type": "code",
   "execution_count": 10,
   "metadata": {},
   "outputs": [],
   "source": [
    "driver.get(url)"
   ]
  },
  {
   "cell_type": "markdown",
   "metadata": {},
   "source": [
    "# 1. Collect course link texts for webdriver to click on"
   ]
  },
  {
   "cell_type": "code",
   "execution_count": 8,
   "metadata": {},
   "outputs": [],
   "source": [
    "driver.find_element_by_id(\"hs-eu-confirmation-button\").click()"
   ]
  },
  {
   "cell_type": "code",
   "execution_count": 11,
   "metadata": {
    "scrolled": true
   },
   "outputs": [],
   "source": [
    "driver.find_element_by_class_name(\"leadinModal-close\").click()"
   ]
  },
  {
   "cell_type": "code",
   "execution_count": 12,
   "metadata": {},
   "outputs": [],
   "source": [
    "page_soup = soup(driver.page_source, 'lxml')"
   ]
  },
  {
   "cell_type": "code",
   "execution_count": 22,
   "metadata": {},
   "outputs": [
    {
     "data": {
      "text/plain": [
       "29"
      ]
     },
     "execution_count": 22,
     "metadata": {},
     "output_type": "execute_result"
    }
   ],
   "source": [
    "containers = page_soup.find(\"div\", {\"id\": \"panneau-7\", \"data-tab\": \"tab-0952270e-5604-4987-a26e-430c8e7b781e\"}).find(\"table\", {\"class\": \"table-cours\"}).findAll(\"a\")\n",
    "len(containers)"
   ]
  },
  {
   "cell_type": "code",
   "execution_count": 24,
   "metadata": {},
   "outputs": [
    {
     "data": {
      "text/plain": [
       "['Chimie et matériaux',\n",
       " 'Méthodes de communication en génie mécanique',\n",
       " 'Gestion et économie des projets d’ingénierie',\n",
       " 'Introduction à la programmation en génie mécanique',\n",
       " 'Calcul différentiel et intégral',\n",
       " 'Algèbre linéaire et analyse vectorielle',\n",
       " 'Équations différentielles',\n",
       " 'Probabilités et statistiques',\n",
       " \"Statique de l'ingénieur\",\n",
       " 'Développement de produits assisté par ordinateur',\n",
       " 'Technologie des matériaux',\n",
       " 'Dynamique',\n",
       " 'Thermodynamique',\n",
       " 'Technologie de fabrication',\n",
       " 'Résistance des matériaux',\n",
       " 'Mécanique des fluides',\n",
       " 'Méthode des éléments finis des corps déformables',\n",
       " 'Conception vibratoire et dynamique des structures',\n",
       " 'Éléments de machines',\n",
       " 'Transfert de chaleur',\n",
       " 'Circuits électriques et électrotechnique',\n",
       " 'Projet de conception de machines',\n",
       " 'Mécatronique',\n",
       " \"Projet de fin d'études en génie mécanique\",\n",
       " 'Encadrement de la profession et éthique professionnelle',\n",
       " 'Électricité et magnétisme',\n",
       " 'Développement professionnel et initiation à la santé et sécurité au travail',\n",
       " 'Environnement, technologie et société',\n",
       " 'Santé, technologie et société']"
      ]
     },
     "execution_count": 24,
     "metadata": {},
     "output_type": "execute_result"
    }
   ],
   "source": [
    "link_texts = [container.text.strip() for container in containers]\n",
    "link_texts"
   ]
  },
  {
   "cell_type": "markdown",
   "metadata": {},
   "source": [
    "# 2. Test run - try to scrape the first course"
   ]
  },
  {
   "cell_type": "code",
   "execution_count": 26,
   "metadata": {},
   "outputs": [],
   "source": [
    "driver.find_element_by_link_text(\"Cours obligatoires pour tous les étudiants\").click()"
   ]
  },
  {
   "cell_type": "code",
   "execution_count": 27,
   "metadata": {},
   "outputs": [],
   "source": [
    "driver.find_element_by_link_text(link_texts[0]).click()"
   ]
  },
  {
   "cell_type": "code",
   "execution_count": 28,
   "metadata": {},
   "outputs": [],
   "source": [
    "page_soup = soup(driver.page_source, 'lxml')"
   ]
  },
  {
   "cell_type": "code",
   "execution_count": 29,
   "metadata": {},
   "outputs": [
    {
     "data": {
      "text/plain": [
       "'CHM131\\n\\n                \\nChimie et matériaux'"
      ]
     },
     "execution_count": 29,
     "metadata": {},
     "output_type": "execute_result"
    }
   ],
   "source": [
    "course_title = page_soup.find(\"span\", {\"class\": \"fiche__header\"}).text.strip()\n",
    "course_title"
   ]
  },
  {
   "cell_type": "code",
   "execution_count": 30,
   "metadata": {},
   "outputs": [
    {
     "data": {
      "text/plain": [
       "'CHM131'"
      ]
     },
     "execution_count": 30,
     "metadata": {},
     "output_type": "execute_result"
    }
   ],
   "source": [
    "course_code = re.split(\"\\s+\", course_title)[0]\n",
    "course_code"
   ]
  },
  {
   "cell_type": "code",
   "execution_count": 32,
   "metadata": {},
   "outputs": [
    {
     "data": {
      "text/plain": [
       "'Chimie et matériaux'"
      ]
     },
     "execution_count": 32,
     "metadata": {},
     "output_type": "execute_result"
    }
   ],
   "source": [
    "course_name = \" \".join(re.split(\"\\s+\", course_title)[1:])\n",
    "course_name"
   ]
  },
  {
   "cell_type": "code",
   "execution_count": 34,
   "metadata": {},
   "outputs": [
    {
     "data": {
      "text/plain": [
       "'Faire le lien entre la structure atomique de la matière et son comportement observable. Les objectifs propres à ce cours sont la compréhension de la structure de la matière, des lois régissant les comportements des solides, des liquides et des gaz et les mécanismes de réactions chimiques. Les notions théoriques sont complétées par la présentation de procédés industriels ou de phénomènes naturels. Grandeurs physiques et systèmes d’unités. Notion de procédé, bilan de matière. Structure de la matière : atomes, liaisons chimiques, molécules. Tableau périodique. Caractérisation des mélanges. Gaz parfaits : masse volumique, pression partielle, masse molaire des mélanges, équilibre liquide-vapeur; humidité de l’air et procédés d’humidification, déshumidification et séchage. Réactions chimiques : stœchiométrie et thermochimie, efficacité des procédés, combustion. Liquides : liaisons intermoléculaires. Solutions liquides : équilibre liquide-vapeur, solubilité des sels, acides et bases, solubilité des gaz, pollution des eaux et traitement des eaux usées. Structure des solides cristallins. Polymères. Les travaux pratiques portent sur la résolution de problèmes dans le but d’assurer la maîtrise des concepts présentés.'"
      ]
     },
     "execution_count": 34,
     "metadata": {},
     "output_type": "execute_result"
    }
   ],
   "source": [
    "course_desc = page_soup.find(\"div\", {\"class\": \"fiche__descr\"}).text.strip().replace(\"\\n\", \" \")\n",
    "course_desc"
   ]
  },
  {
   "cell_type": "code",
   "execution_count": 35,
   "metadata": {},
   "outputs": [],
   "source": [
    "driver.back()"
   ]
  },
  {
   "cell_type": "markdown",
   "metadata": {},
   "source": [
    "# 3. Test run successful! Implement automation script to scrape all courses"
   ]
  },
  {
   "cell_type": "code",
   "execution_count": 40,
   "metadata": {},
   "outputs": [
    {
     "name": "stdout",
     "output_type": "stream",
     "text": [
      "Scraped  CHM131 Chimie et matériaux \n",
      " Faire le lien entre la structure atomique de la matière et son comportement observable. Les objectifs propres à ce cours sont la compréhension de la structure de la matière, des lois régissant les comportements des solides, des liquides et des gaz et les mécanismes de réactions chimiques. Les notions théoriques sont complétées par la présentation de procédés industriels ou de phénomènes naturels. Grandeurs physiques et systèmes d’unités. Notion de procédé, bilan de matière. Structure de la matière : atomes, liaisons chimiques, molécules. Tableau périodique. Caractérisation des mélanges. Gaz parfaits : masse volumique, pression partielle, masse molaire des mélanges, équilibre liquide-vapeur; humidité de l’air et procédés d’humidification, déshumidification et séchage. Réactions chimiques : stœchiométrie et thermochimie, efficacité des procédés, combustion. Liquides : liaisons intermoléculaires. Solutions liquides : équilibre liquide-vapeur, solubilité des sels, acides et bases, solubilité des gaz, pollution des eaux et traitement des eaux usées. Structure des solides cristallins. Polymères. Les travaux pratiques portent sur la résolution de problèmes dans le but d’assurer la maîtrise des concepts présentés.\n",
      "1 courses scraped\n",
      "\n",
      "Scraped  COM129 Méthodes de communication en génie mécanique \n",
      " Acquérir une plus grande maîtrise des divers outils de communication et, plus particulièrement, des connaissances théoriques et pratiques sur les méthodes et les techniques à la base de toute communication écrite et orale que l’étudiant est amené à faire à la fois durant ses études universitaires et durant sa carrière d’ingénieur. Stratégies visant à améliorer la rédaction de différents types d’écrits professionnels et les caractéristiques du style technique. Gestion du travail d’équipe. Initiation au langage graphique. Principales figures de rhétorique présentes dans l’argumentation et procédés de vulgarisation scientifique. Normes de présentation d’un rapport. Rédaction d’un rapport technique d’un projet d’ingénierie.  Les notions d'intégrité intellectuelle et la mise en pratique d’identification des sources de référence sont abordées. Les séances de travaux pratiques sont consacrées à l’apprentissage de la communication orale sous forme d’exposés. La pratique de l’autoscopie permet aux étudiants de mieux évaluer les forces et les faiblesses de leurs présentations et d’y apporter les correctifs nécessaires. À la fin de la session, chaque équipe de travail présente devant la classe son rapport technique analytique sous forme d’une mini-conférence. Précision sur le préalable : le cours MEC129 est concomitant au cours COM129 (il peut être suivi en même temps).\n",
      "2 courses scraped\n",
      "\n",
      "Scraped  GIA410 Gestion et économie des projets d’ingénierie \n",
      " Développer une capacité à intégrer de façon appropriée les pratiques d’économie et d’affaires dans l’exercice du génie, et de bien tenir compte des contraintes associées à ces pratiques. Acquérir des connaissances de base sur la gestion de projets d’ingénierie en utilisant certaines habiletés et méthodes spécifiques à l’analyse de la faisabilité financière, à l’analyse de risque et à la gestion de projet. En particulier, se familiariser avec les processus de gestion propres à chacune des étapes d’un projet dont l’étude de faisabilité, la planification de la portée, le suivi de l’échéancier et du budget, et la documentation de clôture. À la fin du cours, l’étudiant sera en mesure :  de décrire le processus de gestion de projet, de dresser un organigramme de projet et de constituer une équipe de projet; d’estimer les coûts de réalisation, de dresser un échéancier de projet et d’analyser les variances entre le coût réel et le budget d’un projet; d’utiliser des outils de gestion de la qualité; d’identifier les risques dans l’exécution du projet et d’en évaluer l’impact; d’évaluer le coût du financement d’un projet; d’analyser un problème de décision d’investissement sous l’angle de rentabilité économique en appliquant les concepts de valeur présente équivalente et de taux de rendement interne; de justifier un choix entre plusieurs options d’investissement mutuellement exclusives; d’identifier les sources de risque financier et d’en évaluer l’impact sur la rentabilité de projet; de formuler un problème d’investissement de manière à estimer la valeur financière des options stratégiques s’offrant aux décideurs.  Concepts de base de la gestion de projet et compréhension des concepts et techniques de la gestion de projet. Cycle de vie du projet, projet interne et projet externe. Rôle de la direction générale de projet, intégration et structure organisationnelle. Gestion du contenu de projet, définition de l’organigramme des tâches (WBS). Gestion de l’échéancier, méthode CPM, diagramme de Gantt. Gestion des coûts, techniques d’estimations de coûts, arbitrage coût-durée, suivi des coûts par l’analyse de la valeur acquise. Gestion de la qualité, diagramme de Pareto. Gestion des ressources humaines, constitution d’une équipe de projet, histogramme des ressources, matrice des tâches et responsabilités. Gestion des communications, plan par auditoire-cible. Gestion du risque, matrice impact-probabilité. Gestion des approvisionnements, types de contrat, sélection des fournisseurs. Concepts de base de l’économie des projets d’ingénierie et compréhension de l'analyse financière d'un projet du point de vue théorique et conceptuel. Types de décisions économiques et leur application. Capital, flux de trésorerie et valeur temporelle de l'argent. Taux d'intérêt nominal et effectif relatif aux emprunts, hypothèques et obligations. Méthodes de financement et coût du capital. Analyse de la valeur actualisée, de la valeur annuelle uniforme et du taux de rendement dans l'évaluation de projets indépendants, comparaison de projets mutuellement exclusifs. Économie de la conception. Analyse financière après impôt exigeant une compréhension de la déduction pour amortissement et de l’impôt sur le revenu des sociétés. Analyses après impôt d’option achat/ location et de remplacement. Analyse du seuil de rentabilité économique, de la sensibilité, du risque financier et de la valeur des options stratégiques. Séances de travaux pratiques axées sur des études de cas et des solutions de problèmes.\n",
      "3 courses scraped\n",
      "\n",
      "Scraped  INF135 Introduction à la programmation en génie mécanique \n",
      " Cours destiné aux étudiants n’ayant jamais programmé et possédant des notions de base en algèbre matricielle et en calcul. Initier au fonctionnement d’un ordinateur et acquérir des connaissances permettant de résoudre des problèmes concrets reliés aux projets d’ingénierie. Présentation de la structure et du fonctionnement d’un ordinateur : matériel, logiciel. Initiation à l’algorithmie et à la programmation structurée : étapes de résolution d’un problème, méthodes de conception. Introduction à Matlab® et à son langage : structure d’un programme, mémoire et variables, instructions de base, instructions de décision et de contrôle, procédures et fonctions, passage de paramètres, vecteurs, matrices (sous-matrices, creuses et logiques), chaînes de caractères, graphiques, enregistrements et manipulation de fichiers. Résolution de problèmes à l’aide des matrices : méthodes de résolution numérique et optimisation. Séances de laboratoire axées sur l’application des notions de programmation.\n",
      "4 courses scraped\n",
      "\n",
      "Scraped  MAT145 Calcul différentiel et intégral \n",
      " Au terme de ce cours, l’étudiant maîtrisera des notions de calcul différentiel et intégral utilisées dans les autres cours de mathématiques et dans les cours de génie. Analyse : généralités sur les fonctions de R dans R; calcul différentiel : limites, dérivée, dérivée des fonctions élémentaires, règles de dérivation, étude de graphe, optimisation, etc. Calcul intégral : intégrales indéfinies, méthode d'intégration, utilisation des tables, intégrales définies, application (calcul d'aires, de volumes, de longueurs d'arc), méthodes numériques, intégrales impropres, etc. Suites et séries. Développements limités (Taylor, MacLaurin), évaluation de fonctions et d'intégrales définies à l'aide des séries. Séances de travaux pratiques composées d'exercices choisis pour illustrer et compléter la théorie vue en classe.\n",
      "5 courses scraped\n",
      "\n"
     ]
    },
    {
     "name": "stdout",
     "output_type": "stream",
     "text": [
      "Scraped  MAT165 Algèbre linéaire et analyse vectorielle \n",
      " Au terme de ce cours, l’étudiant comprendra et maîtrisera les notions fondamentales d'algèbre matricielle et d'analyse vectorielle. Vecteurs, algèbre et géométrie vectorielle, produits scalaires, vectoriels et mixtes, fonctions vectorielles à une variable et applications. Transformations linéaires, matrices, déterminants, inversion de matrices, systèmes d'équations linéaires, valeurs propres et vecteurs propres. Fonctions à plusieurs variables, dérivées partielles, dérivées directionnelles, gradient; applications géométriques : courbes de niveaux, optimisation, plans tangents. Intégrales doubles et triples; applications : calcul de surfaces, volumes, centres de gravité, moments d'inertie. Champ vectoriel, divergence et rotationnel, intégrales de lignes et de surfaces; théorèmes de Green, Stokes et de la divergence. Séances de travaux pratiques composées d'exercices choisis pour illustrer et compléter la théorie vue en classe.\n",
      "6 courses scraped\n",
      "\n",
      "Scraped  MAT265 Équations différentielles \n",
      " Au terme de ce cours, l’étudiant aura acquis des méthodes de solution de différents types d'équations différentielles rencontrées dans les travaux d'ingénierie. Origine et définition, famille de solutions, conditions initiales, équations différentielles du premier ordre : séparables exactes, linéaires. Applications : mouvement rectiligne, circuits électriques, etc. Équations différentielles linéaires à coefficients constants : solutions complémentaires (homogènes) et solutions particulières, méthode des coefficients indéterminés (variation des paramètres, opérateur inverse); applications : mouvement harmonique et circuits électriques. Transformées de Laplace en équations différentielles, applications, systèmes d'équations différentielles. Solutions d'équations différentielles par séries, méthodes numériques en équations différentielles. Séries de Fourier, résolutions d'équations différentielles par séries de Fourier. Séances de travaux pratiques composées d'exercices choisis pour illustrer et compléter la théorie vue en classe.\n",
      "7 courses scraped\n",
      "\n",
      "Scraped  MAT350 Probabilités et statistiques \n",
      " Au terme de ce cours, l’étudiant sera initié aux concepts et aux outils de base reliés au domaine du  contrôle  statistique  des  procédés  et  des  matériaux. Définition et axiomes de probabilité, règles d'union, d'intersection, d'addition et de multiplication, probabilité conditionnelle, loi de Bayes. Analyse combinatoire. Variables aléatoires discrètes et continues, distribution de probabilités standards. Mesures d'échantillonnage. Distribution des paramètres d'échantillonnage, combinaison des variables aléatoires, distribution du Khi-carré. Tests statistiques, estimation, intervalle de confiance, tests sur la comparaison de deux populations. Régression linéaire, variance des résidus, tests statistiques et intervalles de confiance pour le paramètre du modèle. Séances de travaux pratiques et d'exercices portant sur des applications dans les domaines de l'administration, de la production, du contrôle de la qualité et de la fiabilité, et l'utilisation de logiciels statistiques.\n",
      "8 courses scraped\n",
      "\n",
      "Scraped  MEC111 Statique de l'ingénieur \n",
      " Maîtriser les concepts fondamentaux de la statique et de la résistance des matériaux. Mettre en application des concepts de base de la méthodologie de projet dans la conception des structures de treillis et des membrures en flexion. Notions de base relatives aux forces, aux vecteurs et aux unités. Forces, moments, couples et équilibre des corps rigides dans le plan, corps à deux forces. Centre de masse, forces réparties, centroïde des lignes et des surfaces, moment d'inertie de surface, rayon de giration, théorème des axes parallèles. Contrainte et déformation normales, contrainte de cisaillement, essai de traction, module d'élasticité, loi de Hooke, essai de compression, formules de flambage des colonnes longues et courtes, facteur de sécurité. Structures de treillis, identification, méthode des nœuds, méthode des sections, calcul de la résistance des treillis. Charpentes et mécanismes. Effort tranchant, moment de flexion, contrainte normale en flexion, poutres composées, calcul des poutres. Frottement sec, coefficients de frottement statique et cinétique, équilibre avec frottement, introduction au frottement des courroies. Séances de laboratoire sur les comportements des membrures en compression et en flexion. Projet de conception des structures de treillis et des membrures en flexion.\n",
      "9 courses scraped\n",
      "\n",
      "Scraped  MEC129 Développement de produits assisté par ordinateur \n",
      " À la fin du cours, l’étudiant sera en mesure :  d’appliquer une méthodologie de développement de produits menant à un modèle conceptuel; d’utiliser efficacement un système de CAO afin de produire un prototype conceptuel virtuel d’un produit; de résoudre des problèmes simples liés à la théorie de la conception assistée par ordinateur (CAO).  Notions de méthodologie de conception utilisée pour le développement de produits : cycle de développement, principes d'ingénierie simultanée, introduction à la gestion de projet, analyse d’un problème de conception, techniques de créativité, sélection d’une solution. Introduction à la modélisation géométrique utilisée par les systèmes de conception et de fabrication assistées par ordinateur (CAO/FAO) : types et représentation des courbes et surfaces paramétriques; techniques d’interpolation; Types et représentation des solides; représentation par limites et géométrie solide constructive. Représentation et échange de données entre différents systèmes de CAO/FAO; formats natifs, formats normalisés. Survol des principales fonctions d'un logiciel CAO de modélisation solide.  Séances de laboratoire axées sur la mise en application des concepts par le biais d'exercices de modélisation et par la réalisation en équipe d'un projet de développement de produit. Modélisation des assemblages en CAO; dessins d'assemblage et de détails, maintien du lien d'associativité.  Note sur les préalables : le cours COM129 est un cours associé et doit donc être suivi en même temps que MEC129.\n",
      "10 courses scraped\n",
      "\n",
      "Scraped  MEC200 Technologie des matériaux \n",
      " L’objectif général de cours consiste à comprendre le comportement des matériaux et structures simples, selon leur environnement et le type de sollicitation auquel elles sont soumises, afin de les optimiser et prévoir leur possible dégradation. À la fin de ce cours, l’étudiant sera en mesure :  de traduire en équations simples les concepts de base utilisés en ingénierie (absence de déformation plastique, absence de rupture, facteur de sécurité, masse minimale, etc.); de choisir judicieusement un matériau pour une application donnée; de proposer des moyens simples pour changer (améliorer) les propriétés des matériaux (modifications de composition chimique et de microstructure par des procédés simples); d’expliquer le lien entre les propriétés des matériaux et les liaisons atomiques, microstructures et défauts; d'expliquer en quoi les matériaux sont rarement homogènes et isotropes à de faibles échelles; de prévoir les modes de dégradation possible des matériaux et structures simples, et les minimiser par le choix des matériaux ou du design; de planifier une investigation et à appliquer des méthodologies éprouvées de caractérisation des matériaux.  Classification des matériaux (polymériques, céramiques, composites) et exemples d’application. Propriétés des matériaux et leur caractérisation. Liaisons atomiques, microstructure et propriétés des matériaux. Choix des matériaux. Structure cristalline et défauts. Effets des contraintes et de la température sur les structures simples : écrouissage, recristallisation, essais mécaniques. Structures polyphasées : diagrammes de phase, durcissement structural et diffusion. Aciers au carbone et faiblement alliés : microstructures, traitements thermiques, trempabilité, diagrammes TTT et TRC. Aciers fortement alliés. Alliages non ferreux. Propriétés et applications des céramiques. Défaillance des matériaux : fatigue, usure, corrosion, fluage. Séances de laboratoire sur la caractérisation des matériaux, leurs modes de défaillance et les traitements thermiques permettant d’optimiser les alliages métalliques.\n",
      "11 courses scraped\n",
      "\n"
     ]
    },
    {
     "name": "stdout",
     "output_type": "stream",
     "text": [
      "Scraped  MEC222 Dynamique \n",
      " Au terme de ce cours, l’étudiant aura acquis les concepts fondamentaux de la dynamique des corps solides et sera en mesure de les appliquer à l'étude dynamique des mécanismes et des machines. À la fin de ce cours, l’étudiant sera en mesure :  d’appliquer les concepts et principes fondamentaux de la dynamique dans l’étude des mécanismes élémentaires; d’établir des équations du mouvement des particules et des corps rigides par la méthode de forces et d’accélérations et par les méthodes de l’énergie et de la quantité de mouvement; de calculer les efforts nécessaires pour produire un mouvement et déterminer le mouvement selon les chargements dynamiques appliqués; de modéliser et simuler le mouvement des systèmes mécaniques articulés à l’aide d’un logiciel multi-corps.  Cinématique des particules et des corps rigides: position, vitesse et accélération instantanées, déplacements, mouvements rectiligne et curviligne, repère en translation, mouvement relatif, système de poulies, mouvement angulaire, mouvement dans un plan, rotation, translation, centre instantané de rotation, accélération de Coriolis, liaison cinématique, système des particules. Cinétique des particules et des corps rigides : diagramme de corps libre dynamique, forces, frottement, ressort, deuxième loi de Newton, moment d’inertie de masse, quantité de mouvement, moment cinétique, énergie cinétique, énergie potentielle, puissance, travail des forces, principe du travail et de l’énergie, principe de l’impulsion et de la quantité de mouvement, conservation de l’énergie, conservation du moment cinétique, impulsion, impact, restitution, équilibre dynamique, principe de d’Alembert.\n",
      "12 courses scraped\n",
      "\n",
      "Scraped  MEC240 Thermodynamique \n",
      " Au terme de ce cours, l’étudiant sera en mesure d’analyser les phénomènes reliés à l'utilisation et à la production d'énergie thermique en faisant appel aux principes de base de la thermodynamique. À la fin du cours, l’étudiant sera capable :  de calculer les quantités d’énergie échangées sous forme de travail et de chaleur dans les processus industriels; d'analyser le fonctionnement de la plupart des machines thermiques usuelles en utilisant le premier et le second principe de la thermodynamique; de planifier et réaliser un projet expérimental démontrant les notions de thermodynamique vues dans le cours.  Introduction; définition des concepts; premier principe : propriétés des substances; processus thermiques appliqués aux substances; second principe : disponibilité de l'énergie et irréversibilité, cycles biphasés directs et renversés; moteurs à piston, turbines à gaz; introduction à la thermochimie. Séances de travaux pratiques composés d'exercices choisis pour illustrer et compléter la théorie vue en classe. Projet expérimental permettant à l’étudiant d’illustrer les principes vus en classe tout en développant ses capacités d’investigation.\n",
      "13 courses scraped\n",
      "\n",
      "Scraped  MEC300 Technologie de fabrication \n",
      " Ce cours vise à apprendre aux étudiants à choisir et optimiser les procédés de fabrication et le design des pièces en fonction des matériaux et de la performance en service désirée. À la fin de ce cours, l‘étudiant sera en mesure :  de faire, pour un design donné, l’analyse comparative des procédés technologiques, du point de vue de leurs caractéristiques, coût et limitations; d’expliquer les relations entre le choix des paramètres du procédé (température, déformation, etc.), la modification observée de la microstructure et l’impact sur les propriétés; d’évaluer la manufacturabilité d’une pièce mécanique pour sélectionner un procédé optimal pour sa fabrication; de concevoir ou modifier la conception d’une pièce afin de faciliter sa mise en oeuvre; d’optimiser un procédé de fabrication en fonction des matériaux et des propriétés en service désirées.  Classification, avantages et limitations des principaux procédés de mise en forme (par moulage, déformation plastique, enlèvement de matière, frittage de poudres, etc.) ainsi que de procédés émergents (fabrication additive etc.), notamment selon le type de matériau transformé, la taille et la complexité géométrique de la pièce. Influence sur les propriétés mécaniques, le fini de surface, les contraintes résiduelles, etc. Choix de procédés versus design de pièces (limites de design). Post-traitements de surface, incluant déformation plastique, plaquage, traitements thermochimiques et leurs conséquences sur les propriétés de pièces. Structure, propriétés et rhéologie des polymères pour la mise en forme, incluant les polymères thermoplastiques et thermodurcissables, et élastomères. Introduction au choix des procédés de fabrication des polymères. Matériaux composites, notamment à matrice polymérique. Liens entre les procédés de mise en forme de matériaux polymères non-renforcés et renforcés et le type de pièces que l’on peut fabriquer à partir de ces matériaux.  Activités pédagogiques en équipe.\n",
      "14 courses scraped\n",
      "\n",
      "Scraped  MEC329 Résistance des matériaux \n",
      " Approfondir les concepts de la statique dans l'espace, de la résistance des matériaux sous chargements complexes et appliquer la méthodologie de projet dans la conception des structures des membrures sous chargements combinés. Au terme de ce cours, l’étudiant sera en mesure :  d’écrire les équations d’équilibre en 2D et 3D en se basant sur le diagramme du corps libre d’un élément structural; de calculer les contraintes et les déformations en un point d’une structure (treillis, poutre, coque mince); de calculer les déflexions dans les poutres isostatiques et hyperstatiques (avec la théorie des poutres); de calculer la résistance des membrures sujettes au flambement; d’appliquer le principe de l’énergie pour le calcul des déflexions sous charge statique ou charge d’impact; d’appliquer la méthodologie de projet dans la conception d’une structure ou d’un mécanisme sous chargements combinés.  Révision de l'équilibre dans le plan avec applications aux charpentes et mécanismes. Forces, moments, couples et équilibre des corps rigides dans l'espace. Moments de torsion, puissance de transmission, contraintes et déformations en torsion d'un arbre circulaire, torsion d'une membrure de section fermée à paroi mince. Contraintes induites à la combinaison de force axiale, effort tranchant, moment de flexion et moment de torsion. État plan de contraintes, transformation et cercle de Mohr des contraintes, critères de défaillance, réservoirs cylindriques et sphériques sous pression. État de déformation, transformation et cercle de Mohr des déformations, jauges de déformation, relations contraintes-déformations. Déflexion des poutres droites, méthode de double intégrale, méthode de superposition, méthode d'intégration graphique, poutres hyperstatiques. Flambement, développement de la formule d'Euler pour les colonnes, formules empiriques pour colonnes courtes, colonnes sous charge excentrée. Travail et énergie de déformation élastique avec application aux calculs sous charge d'impact quasi statique. Séances de laboratoire axées sur la déflexion des poutres et l'état de contrainte et déformation. Projet de conception des structures des membrures sous chargements combinés.\n",
      "15 courses scraped\n",
      "\n",
      "Scraped  MEC335 Mécanique des fluides \n",
      " Acquérir les concepts fondamentaux de la mécanique des fluides. Analyser les phénomènes élémentaires reliés à l'hydrostatique et à l'hydrodynamique. Prévoir le comportement des divers éléments hydrauliques grâce à l'analyse dimensionnelle. Analyser les systèmes hydrauliques plus complexes grâce à des modèles mathématiques. À la fin du cours, l’étudiant sera en mesure :  d’identifier les propriétés physiques importantes du fluide qui influencent les caractéristiques de l’écoulement; d’identifier le type de régime d’écoulement (permanent ou non, laminaire ou turbulent, etc.); de calculer les forces hydrostatiques sur les surfaces; de calculer les pertes de charges dans les réseaux de conduites et de sélectionner les pompes; de calculer les forces aérodynamiques sur les corps mobiles.  Propriétés des fluides; statique des fluides : pression dans un fluide au repos, mesure de pression, forces causées par la pression; analyse par volume de contrôle : équation de continuité, équation de quantité de mouvement, équation de Bernoulli, équation du moment cinétique, théorie élémentaire des turbomachines, équation d'énergie; analyse dimensionnelle et similitude; écoulement dans les conduites : pertes de charges dans les conduites; écoulement autour des corps : couche limite, portance, traînée; utilisation et sélection des pompes. Séances de laboratoire et exercices portant sur les instruments de mesure pour les liquides et les gaz, l'impact d'un jet de liquide, les caractéristiques des pompes centrifuges, les forces hydrostatiques. Projet portant sur l'utilisation d'un logiciel numérique en mécanique des fluides.\n",
      "16 courses scraped\n",
      "\n"
     ]
    },
    {
     "name": "stdout",
     "output_type": "stream",
     "text": [
      "Scraped  MEC423 Méthode des éléments finis des corps déformables \n",
      " Ce cours vise à initier les étudiants à la méthode des éléments finis en traitant des problèmes de déformation structurale et de conduction thermique. À la fin de ce cours, l’étudiant sera en mesure :  d’appliquer les mathématiques de base de la méthode des éléments finis à des modèles simples; de résoudre des problèmes d’éléments finis en programmant la solution des équations d’équilibre; de modéliser des problèmes simples et complexes en utilisant un logiciel commercial de calcul par éléments finis et interpréter les résultats; de concevoir et analyser des corps déformables soumis à des conditions frontières thermiques ou structurales; de rédiger un rapport de qualité professionnelle présentant toutes les étapes d’une conception fondée sur une analyse par éléments finis.  Mathématiques matricielles et formulations intégrales. Fonctions d’interpolation, degrés de liberté, assemblage de matrices. Éléments finis de type filaires (tiges et poutres), surfaciques (état plan de contrainte et axisymétrique), coques et volumiques en mécanique du solide. Éléments finis de type surfaciques (plan et axisymétrique) pour la conduction thermique en régime permanent. Flambage. Conditions essentielles de blocage, symétries, liaisons spéciales, singularités, analyse de convergence. Note sur les préalables : le cours MEC329 est préalable OU concomitant (il peut être suivi en même temps).\n",
      "17 courses scraped\n",
      "\n",
      "Scraped  MEC525 Conception vibratoire et dynamique des structures \n",
      " Acquérir les principes fondamentaux de la conception de structures soumises à des excitations dynamiques, les principes d'isolation des machines et d'amortissement des vibrations. S’initier aux techniques de mesures vibratoires. Au terme de ce cours, l’étudiant sera en mesure :  de faire la modélisation simplifiée de systèmes dynamiques complexes; de simuler numériquement la dynamique des systèmes avec Matlab, Simulink et E.F; de comparer les résultats obtenus théoriquement, par EF ainsi que par mesures expérimentales pour déterminer les paramètres modaux des structures; de calculer les propriétés vibratoires d’un mécanisme et en tirer les principes de conception pour limiter les vibrations; d’utiliser les concepts d’amortissement des vibrations, d’isolation de machines et des absorbeurs dynamiques pour réduire les vibrations.  Degrés de liberté; modélisation des systèmes vibratoires; sources de vibrations. Systèmes à 1 degré de liberté : équations du mouvement; vibrations libres; mesure d'amortissement; vibrations forcées harmoniques; isolation des machines; excitation par la base et déséquilibre des rotors; réponse impulsionnelle, transformée de Laplace, vibration aléatoire. Amortissement des structures, friction. Systèmes à plusieurs degrés de liberté : résonances et modes, vibration naturelle, vibration forcée harmonique, absorbeur dynamique, analyse modale. Techniques de mesure vibratoire. Méthode des éléments finis : matrices de masse et de rigidité, techniques d'assemblage et applications au calcul vibratoire des poutres et barres. Travaux de laboratoire portant sur la mesure vibratoire, sur l'analyse modale des structures par mesures expérimentales et par éléments finis. Utilisation de logiciels Matlab de simulation de la dynamique.\n",
      "18 courses scraped\n",
      "\n",
      "Scraped  MEC528 Éléments de machines \n",
      " Au terme de ce cours, l’étudiant aura analysé et conçu les éléments principaux de machines. Il aura aussi conçu un système mécanique simple. À la fin de ce cours, l’étudiant sera en mesure :  de sélectionner, d’analyser et de dimensionner des éléments de machines en fonction d’une application donnée; d’intégrer des éléments de machines à la conception détaillée d’un mécanisme.  Les notions acquises dans ce cours seront utilisées pour réaliser un projet de conception complexe en équipe et de façon conjointe avec le cours MEC592. Facteur de sécurité, concentration de contraintes. Théories de limitations en statique et en fatigue. Transmissions par engrenages, courroies et chaînes. Arbres, clavettes et accouplements. Roulements. Lubrification et paliers lisses. Freins et embrayages. Vis de transmission. Boulons et joints boulonnés. Ressorts hélicoïdaux et à lames. Séances de laboratoire portant sur l'analyse des contraintes d'éléments de machines par la méthode des éléments finis. Note sur les préalables : le cours MEC592 est un cours associé et doit donc être suivi en même temps que MEC528.\n",
      "19 courses scraped\n",
      "\n",
      "Scraped  MEC532 Transfert de chaleur \n",
      " Au terme de ce cours, l’étudiant aura étudié le phénomène du transfert de l'énergie thermique et analysé les problèmes concrets qui y sont reliés. Au terme de ce cours, l’étudiant sera en mesure :  d’expliquer les trois modes de transfert thermique; d’analyser des problèmes concrets qui y sont reliés; de comparer les performances de systèmes thermiques (réseaux d’ailettes, échangeurs, etc.)  Modes de transfert de chaleur. Conduction unidimensionnelle : paroi simple, paroi composée. Concept de résistance thermique. Équation générale de la conduction thermique, solutions analytiques et numériques : application aux réseaux d’ailettes. Conduction de chaleur en régime transitoire. Couches limites thermiques. Écoulements laminaire et turbulent. Convection forcée à l'extérieur d'obstacles et à l'intérieur des conduites. Convection naturelle. Échangeurs de chaleur. Rayonnement thermique : Coefficient de géométrie, loi de Kirchhoff, rayonnement d'un corps noir et gris. Rayonnement entre des surfaces noires et grises. Introduction au transfert de chaleur multimodes. Séances de laboratoire portant sur l'application de méthodes numériques à la résolution de problèmes pratiques. Utilisation des outils informatiques.\n",
      "20 courses scraped\n",
      "\n",
      "Scraped  MEC546 Circuits électriques et électrotechnique \n",
      " Au terme de ce cours, l’étudiant aura acquis des notions simples en électricité industrielle afin de pouvoir analyser et choisir correctement les machines électriques utilisées dans les entreprises. À la fin de cours, l'étudiant sera en mesure :  d'appliquer des méthodes d'analyse de circuits électriques et électroniques simples afin de pouvoir en évaluer la fonction et les performances; de faire la sélection, dans un processus de conception d’un système d’entraînement, d'un moteur électrique en fonction des requis de l’application et des caractéristiques des machines tournantes disponibles; d'identifier les composantes d'un dispositif de commande et de contrôle industriel nécessaire au bon fonctionnement d'un système d'entraînement électrique afin de pouvoir les intégrer à un design électromécanique performant.  Éléments de circuits électriques et électroniques de puissance : résistance, condensateur, inductance, diode, transistor et thyristor. Analyse de circuits à courant continu et à courant alternatif : lois d'Ohm et de Kirchhoff, méthode des boucles et des noeuds, théorème de Thévenin. Analyse de circuits triphasés : montages en étoile et en triangle, tension de ligne et de phase. Analyse des moteurs électriques : moteurs DC (avec et sans balais), AC asynchones (monophasés et triphasés) et moteurs pas à pas. Rendements des machines électriques : puissance active, réactive et apparente, facteur de puissance. Commande industrielle des moteurs : procédés de démarrage et de freinage, redressement de signaux AC et ondulateurs, réglage de leur vitesse de rotation et de leur position angulaire. Séances de laboratoire portant sur l'analyse de circuits et de moteurs électriques.\n",
      "21 courses scraped\n",
      "\n",
      "Scraped  MEC592 Projet de conception de machines \n",
      " Ce cours vise le développement de compétences liées à la conception détaillée de machines qui tiennent compte des particularités et des limites des procédés de fabrication et d’assemblage et qui permettent d’augmenter la fiabilité et la robustesse d’un mécanisme. À la fin de ce cours, l’étudiant sera en mesure :  de synthétiser les informations et les données décrivant un problème de conception provenant d’un contexte industriel, réaliste et flou sous forme d’un cahier des charges fonctionnel basé sur des métriques quantitatives; d’utiliser efficacement des outils et méthodes d’ingénierie pour l’évaluation et la prise de décision dans le processus de conception tout en respectant des contraintes de nature sécuritaire, environnementale ou financière; d’appliquer les méthodologies d’analyse et de dimensionnement pour proposer une solution viable à un problème de conception spécifique; de produire des documents de définition (2D et 3D) complets (incluant matériaux, tolérances, annotations, fini et revêtement de surface, nomenclature, etc.); d’appliquer les principes de gestion de projet, de communication technique ou scientifique et de travail d’équipe.  Rappels sur la méthodologie de développement de produit; méthodes numériques de simulation; architecture et configuration de produits; conception en vue d’optimiser diverses fonctions du produit durant son cycle de vie (Design for x, p. ex. : ergonomie, environnement, fabrication, fiabilité, assemblage, maintenance, etc.); exploitation de la maquette 3D (p. ex. : détection de collisions, cinématique, etc.); approches limites et probabilistiques en conception (incertitudes, approche limite, conception robuste etc.); analyse des modes de défaillance, de leur effet et criticité (AMDEC) en conception; documentation d’ingénierie. Note sur les préalables : le cours MEC528 est un cours associé et doit donc être suivi en même temps que MEC592.\n",
      "22 courses scraped\n",
      "\n"
     ]
    },
    {
     "name": "stdout",
     "output_type": "stream",
     "text": [
      "Scraped  MEC788 Mécatronique \n",
      " À la fin de ce cours, l’étudiant sera en mesure :  d’appliquer différentes techniques de modélisation et de simulation pour décrire des systèmes dynamiques; d’analyser les performances et la stabilité d'un système dynamique; de concevoir et ajuster les paramètres de systèmes de commande continue PID;  de sélectionner et d’intégrer les composantes d'un système de commande (capteurs, système de commande et actionneurs) de façon à pouvoir commander efficacement un procédé industriel.  Concept de systèmes et de composantes. Formulation des modèles mathématiques de systèmes physiques, transformée de Laplace, schéma-bloc, fonctions de transfert. Réponse des systèmes du premier et du deuxième ordre. Analyse dans les domaines temporels et fréquentiels. Application aux systèmes mécaniques, électriques, hydrauliques et thermiques. Terminologie et concepts de base de la commande automatique : régulateur, suiveur, systèmes en boucle ouverte et en boucle fermée, servomécanismes, procédés industriels, commande analogique et numérique. Lois de commande classiques : action proportionnelle, intégrale et dérivée. Caractéristiques des capteurs et des actionneurs. Commande d’un processus du premier et du deuxième ordre. Conception et réglage des systèmes de commande. Critères de performance, analyse de stabilité. Réalisation de systèmes de commande. Dimensionnement des composantes du système (actionneur, capteur, système d’entraînement). Séances de laboratoire portant sur la simulation et la commande de divers systèmes physiques. Note sur les préalables : le cours MEC546 est concomitant (il peut être suivi en même temps).\n",
      "23 courses scraped\n",
      "\n",
      "Scraped  MEC795 Projet de fin d'études en génie mécanique \n",
      " À la fin de cette activité, l’étudiant sera en mesure :  de concevoir des éléments, des systèmes, procédés et processus qui répondent à des besoins spécifiques tout en respectant des contraintes non techniques telles que les facteurs économiques, le développement durable, la santé et la sécurité, l’éthique et les contraintes légales ; d’appliquer une méthodologie de conception rigoureuse ; de produire toute la documentation technique nécessaire à la mise en œuvre des éléments, des systèmes, procédés ou processus ; d’appliquer les principes de gestion de projet, de communication et de travail d’équipe ; d’élaborer un plan de formation professionnel.  Il doit s’agir d’un projet de conception en ingénierie, accompli selon un processus créatif, itératif et évolutif qui repose sur les connaissances acquises en mathématiques, sciences fondamentales, sciences du génie et études complémentaires. Sous la supervision d’une équipe de professeurs, les étudiants réalisent en équipe un projet choisi parmi une liste proposée par le Département. Ils sont appelés à gérer eux-mêmes leur projet. Ce projet conduit à la présentation d’un rapport technique rédigé selon les normes professionnelles. De plus, le rapport doit faire l’objet d’une présentation orale. À la fin de l’activité, chaque étudiant fera le bilan de ses lacunes, identifiera ses besoins de formation et proposera un plan de formation professionnel.  Préalable : cumuler 99 crédits de cours dans son programme.\n",
      "24 courses scraped\n",
      "\n",
      "Scraped  PEP110 Encadrement de la profession et éthique professionnelle \n",
      " Activité d'une durée de quatre semaines obligatoire à laquelle l’étudiant doit être inscrit ou qu’il doit avoir suivi avant le troisième stage. Activité partiellement en ligne. Cette activité vise à familiariser l’étudiant avec les responsabilités professionnelles de l’ingénieur, en particulier la protection du public. Elle est offerte partiellement en ligne. Présentation du système professionnel québécois, de l’Ordre des ingénieurs du Québec (en particulier les mécanismes de protection du public) et de l’encadrement légal de la profession (Loi sur les ingénieurs et le Code de déontologie). Introduction à l’éthique professionnelle et initiation à la démarche de délibération éthique.\n",
      "25 courses scraped\n",
      "\n",
      "Scraped  PHY332 Électricité et magnétisme \n",
      " Acquérir les connaissances élémentaires en matière d’électricité et de magnétisme de façon à pouvoir analyser et interpréter les phénomènes connexes qui y sont reliés. L'électrostatique et ses lois : charge électrique, champ, loi de Coulomb, potentiel électrique. Fondement de la théorie de l'électrostatique : polarisation, dipôle, loi de Gauss. Énergie électrostatique : charges ponctuelles, charges distribuées, conducteurs, capacité, couple moteur. Circuits en courant continu : lois d'Ohm et de Kirchhoff. Magnétisme des courants continus, force magnétique, champ perpendiculaire, loi de Biot-Savart. Fondement de la théorie du magnétisme de la matière. Loi de Faraday, inductance, énergie magnétique. Séances de laboratoire et exercices reliés à des applications en ingénierie. Précision sur les préalables : un seul des deux préalables est requis, soit CTN248 OU ING150. Toutefois, aucun préalable n'est requis pour les étudiants en génie mécanique.\n",
      "26 courses scraped\n",
      "\n",
      "Scraped  PRE011 Développement professionnel et initiation à la santé et sécurité au travail \n",
      " La participation au cours PRE011 dès la première session à l’ÉTS est obligatoire :  cela donne accès aux affichages des offres de stage au moment approprié selon le programme; la réussite du cours PRE011 est pré-requise pour obtenir une mention succès aux stages.     Volet 1 : Développement professionnel et stages (en ligne) Cette activité vise à familiariser l’étudiant avec les principes de l’enseignement coopératif. Ressources offertes par le Service de l’enseignement coopératif. Règlements relatifs aux stages. Mécanismes menant à l’obtention d’un stage. Éthique en processus de recherche de stage. Clarification du projet professionnel : motivations, intérêts, valeurs, projets de stage et de carrière. Préparation et rédaction d’un dossier de candidature professionnel : CV, sommaire, ePortfolio. Système de consultation des stages. Préparation efficace à l’entrevue de sélection. Marché du travail, réseautage et démarches personnelles de recherche de stage. Intégration réussie en milieu de stage. Évaluation du stagiaire par le Service de l’enseignement coopératif et par le superviseur de stage. Volet 2 : Santé et sécurité au travail Cette activité vise à familiariser l’étudiant aux principaux risques de santé et sécurité en milieu de travail. L'organisation, les ressources disponibles et le cadre législatif en matière de santé et sécurité au Québec. Principaux types de risques rencontrés sur les lieux de travail et mesures de prévention associées à ceux-ci : risques reliés à la pression, au bruit, aux vibrations et à la température; risques électriques; risques chimiques et biologiques; risques psychosociaux; risques mécaniques; risques ergonomiques; risques reliés aux chantiers, aux mines et aux milieux de travail non permanents. Applications en milieu de travail : sécurité des machines; SIMDUT; ergonomie et manutention manuelle; travail en hauteur; travail en espaces clos; cadenassage; sécurité électrique. Introduction à la gestion du risque. Étude de cas. Cette activité est notée avec la mention succès ou échec.\n",
      "27 courses scraped\n",
      "\n",
      "Scraped  TIN503 Environnement, technologie et société \n",
      " Ce cours propose une réflexion sur les liens entre la technologie, la société et l’environnement. Exploration et discussion, guidées par des perspectives et concepts issus des sciences humaines et sociales, des enjeux liés au développement et à l’utilisation des technologies dans la société moderne, ainsi que des enjeux environnementaux contemporains et du développement durable. Séances de travaux pratiques portant entre autres sur des études de cas relatives aux notions vues dans les cours.\n",
      "28 courses scraped\n",
      "\n",
      "Scraped  TIN504 Santé, technologie et société \n",
      " Obligatoire et réservé aux étudiants qui souhaitent une attestation ou la mention de la concentration Technologies de la santé sur leur diplôme. Ce cours propose une réflexion sur les liens entre la santé, les technologies, la société et l’environnement, avec une attention particulière aux technologies ayant un impact sur la santé et la société. Exploration et discussion, guidées par des perspectives et concepts issus des sciences humaines et sociales, des enjeux liés au développement et à l’utilisation des technologies dans la société moderne, ainsi que des enjeux de santé et environnementaux contemporains et du développement durable. Introduction aux systèmes de santé canadien et québécois, aux principes fondamentaux de l’éthique biomédicale et aux déterminants sociaux de la santé. Séances de travaux pratiques portant entre autres sur des études de cas.\n",
      "29 courses scraped\n",
      "\n"
     ]
    },
    {
     "name": "stdout",
     "output_type": "stream",
     "text": [
      "Finished scraping 29 courses\n"
     ]
    }
   ],
   "source": [
    "#test run complete. Automation loop:\n",
    "from selenium.common.exceptions import NoSuchElementException\n",
    "\n",
    "course_codes = []\n",
    "course_names = []\n",
    "course_descs = []\n",
    "counter = 0\n",
    "    \n",
    "for link_text in link_texts:\n",
    "    #go to course page\n",
    "    try:\n",
    "        link = driver.find_element_by_link_text(link_text)\n",
    "    except NoSuchElementException:\n",
    "        print(\"no link for {}\".format(link_text))\n",
    "        continue\n",
    "\n",
    "    time.sleep(1)\n",
    "    link.click()    \n",
    "    time.sleep(3)\n",
    "    \n",
    "    #scrape course info\n",
    "    page_soup = soup(driver.page_source, 'lxml')\n",
    "    course_title = page_soup.find(\"span\", {\"class\": \"fiche__header\"}).text.strip()\n",
    "    course_code = re.split(\"\\s+\", course_title)[0]\n",
    "    course_name = \" \".join(re.split(\"\\s+\", course_title)[1:])\n",
    "    course_desc = page_soup.find(\"div\", {\"class\": \"fiche__descr\"}).text.strip().replace(\"\\n\", \" \").replace(\"\\xa0\", \" \").replace(\"\\t\", \" \")\n",
    "    \n",
    "    course_codes.append(course_code)\n",
    "    course_names.append(course_name)\n",
    "    course_descs.append(course_desc)\n",
    "    \n",
    "    print(\"Scraped \", course_codes[-1], course_names[-1], \"\\n\", course_descs[-1])\n",
    "    counter += 1    \n",
    "    print(\"{} courses scraped\".format(counter))\n",
    "    print()\n",
    "    \n",
    "    #go to course list page\n",
    "    driver.back()\n",
    "    time.sleep(3)\n",
    "        \n",
    "print(\"Finished scraping {} courses\".format(counter))\n"
   ]
  },
  {
   "cell_type": "markdown",
   "metadata": {},
   "source": [
    "# 4. Inspect and write to CSV"
   ]
  },
  {
   "cell_type": "code",
   "execution_count": 41,
   "metadata": {},
   "outputs": [
    {
     "data": {
      "text/plain": [
       "['CHM131',\n",
       " 'COM129',\n",
       " 'GIA410',\n",
       " 'INF135',\n",
       " 'MAT145',\n",
       " 'MAT165',\n",
       " 'MAT265',\n",
       " 'MAT350',\n",
       " 'MEC111',\n",
       " 'MEC129',\n",
       " 'MEC200',\n",
       " 'MEC222',\n",
       " 'MEC240',\n",
       " 'MEC300',\n",
       " 'MEC329',\n",
       " 'MEC335',\n",
       " 'MEC423',\n",
       " 'MEC525',\n",
       " 'MEC528',\n",
       " 'MEC532',\n",
       " 'MEC546',\n",
       " 'MEC592',\n",
       " 'MEC788',\n",
       " 'MEC795',\n",
       " 'PEP110',\n",
       " 'PHY332',\n",
       " 'PRE011',\n",
       " 'TIN503',\n",
       " 'TIN504']"
      ]
     },
     "execution_count": 41,
     "metadata": {},
     "output_type": "execute_result"
    }
   ],
   "source": [
    "course_codes"
   ]
  },
  {
   "cell_type": "code",
   "execution_count": 42,
   "metadata": {},
   "outputs": [
    {
     "data": {
      "text/plain": [
       "['Chimie et matériaux',\n",
       " 'Méthodes de communication en génie mécanique',\n",
       " 'Gestion et économie des projets d’ingénierie',\n",
       " 'Introduction à la programmation en génie mécanique',\n",
       " 'Calcul différentiel et intégral',\n",
       " 'Algèbre linéaire et analyse vectorielle',\n",
       " 'Équations différentielles',\n",
       " 'Probabilités et statistiques',\n",
       " \"Statique de l'ingénieur\",\n",
       " 'Développement de produits assisté par ordinateur',\n",
       " 'Technologie des matériaux',\n",
       " 'Dynamique',\n",
       " 'Thermodynamique',\n",
       " 'Technologie de fabrication',\n",
       " 'Résistance des matériaux',\n",
       " 'Mécanique des fluides',\n",
       " 'Méthode des éléments finis des corps déformables',\n",
       " 'Conception vibratoire et dynamique des structures',\n",
       " 'Éléments de machines',\n",
       " 'Transfert de chaleur',\n",
       " 'Circuits électriques et électrotechnique',\n",
       " 'Projet de conception de machines',\n",
       " 'Mécatronique',\n",
       " \"Projet de fin d'études en génie mécanique\",\n",
       " 'Encadrement de la profession et éthique professionnelle',\n",
       " 'Électricité et magnétisme',\n",
       " 'Développement professionnel et initiation à la santé et sécurité au travail',\n",
       " 'Environnement, technologie et société',\n",
       " 'Santé, technologie et société']"
      ]
     },
     "execution_count": 42,
     "metadata": {},
     "output_type": "execute_result"
    }
   ],
   "source": [
    "course_names"
   ]
  },
  {
   "cell_type": "code",
   "execution_count": 43,
   "metadata": {},
   "outputs": [
    {
     "data": {
      "text/plain": [
       "['Faire le lien entre la structure atomique de la matière et son comportement observable. Les objectifs propres à ce cours sont la compréhension de la structure de la matière, des lois régissant les comportements des solides, des liquides et des gaz et les mécanismes de réactions chimiques. Les notions théoriques sont complétées par la présentation de procédés industriels ou de phénomènes naturels. Grandeurs physiques et systèmes d’unités. Notion de procédé, bilan de matière. Structure de la matière : atomes, liaisons chimiques, molécules. Tableau périodique. Caractérisation des mélanges. Gaz parfaits : masse volumique, pression partielle, masse molaire des mélanges, équilibre liquide-vapeur; humidité de l’air et procédés d’humidification, déshumidification et séchage. Réactions chimiques : stœchiométrie et thermochimie, efficacité des procédés, combustion. Liquides : liaisons intermoléculaires. Solutions liquides : équilibre liquide-vapeur, solubilité des sels, acides et bases, solubilité des gaz, pollution des eaux et traitement des eaux usées. Structure des solides cristallins. Polymères. Les travaux pratiques portent sur la résolution de problèmes dans le but d’assurer la maîtrise des concepts présentés.',\n",
       " \"Acquérir une plus grande maîtrise des divers outils de communication et, plus particulièrement, des connaissances théoriques et pratiques sur les méthodes et les techniques à la base de toute communication écrite et orale que l’étudiant est amené à faire à la fois durant ses études universitaires et durant sa carrière d’ingénieur. Stratégies visant à améliorer la rédaction de différents types d’écrits professionnels et les caractéristiques du style technique. Gestion du travail d’équipe. Initiation au langage graphique. Principales figures de rhétorique présentes dans l’argumentation et procédés de vulgarisation scientifique. Normes de présentation d’un rapport. Rédaction d’un rapport technique d’un projet d’ingénierie.  Les notions d'intégrité intellectuelle et la mise en pratique d’identification des sources de référence sont abordées. Les séances de travaux pratiques sont consacrées à l’apprentissage de la communication orale sous forme d’exposés. La pratique de l’autoscopie permet aux étudiants de mieux évaluer les forces et les faiblesses de leurs présentations et d’y apporter les correctifs nécessaires. À la fin de la session, chaque équipe de travail présente devant la classe son rapport technique analytique sous forme d’une mini-conférence. Précision sur le préalable : le cours MEC129 est concomitant au cours COM129 (il peut être suivi en même temps).\",\n",
       " \"Développer une capacité à intégrer de façon appropriée les pratiques d’économie et d’affaires dans l’exercice du génie, et de bien tenir compte des contraintes associées à ces pratiques. Acquérir des connaissances de base sur la gestion de projets d’ingénierie en utilisant certaines habiletés et méthodes spécifiques à l’analyse de la faisabilité financière, à l’analyse de risque et à la gestion de projet. En particulier, se familiariser avec les processus de gestion propres à chacune des étapes d’un projet dont l’étude de faisabilité, la planification de la portée, le suivi de l’échéancier et du budget, et la documentation de clôture. À la fin du cours, l’étudiant sera en mesure :  de décrire le processus de gestion de projet, de dresser un organigramme de projet et de constituer une équipe de projet; d’estimer les coûts de réalisation, de dresser un échéancier de projet et d’analyser les variances entre le coût réel et le budget d’un projet; d’utiliser des outils de gestion de la qualité; d’identifier les risques dans l’exécution du projet et d’en évaluer l’impact; d’évaluer le coût du financement d’un projet; d’analyser un problème de décision d’investissement sous l’angle de rentabilité économique en appliquant les concepts de valeur présente équivalente et de taux de rendement interne; de justifier un choix entre plusieurs options d’investissement mutuellement exclusives; d’identifier les sources de risque financier et d’en évaluer l’impact sur la rentabilité de projet; de formuler un problème d’investissement de manière à estimer la valeur financière des options stratégiques s’offrant aux décideurs.  Concepts de base de la gestion de projet et compréhension des concepts et techniques de la gestion de projet. Cycle de vie du projet, projet interne et projet externe. Rôle de la direction générale de projet, intégration et structure organisationnelle. Gestion du contenu de projet, définition de l’organigramme des tâches (WBS). Gestion de l’échéancier, méthode CPM, diagramme de Gantt. Gestion des coûts, techniques d’estimations de coûts, arbitrage coût-durée, suivi des coûts par l’analyse de la valeur acquise. Gestion de la qualité, diagramme de Pareto. Gestion des ressources humaines, constitution d’une équipe de projet, histogramme des ressources, matrice des tâches et responsabilités. Gestion des communications, plan par auditoire-cible. Gestion du risque, matrice impact-probabilité. Gestion des approvisionnements, types de contrat, sélection des fournisseurs. Concepts de base de l’économie des projets d’ingénierie et compréhension de l'analyse financière d'un projet du point de vue théorique et conceptuel. Types de décisions économiques et leur application. Capital, flux de trésorerie et valeur temporelle de l'argent. Taux d'intérêt nominal et effectif relatif aux emprunts, hypothèques et obligations. Méthodes de financement et coût du capital. Analyse de la valeur actualisée, de la valeur annuelle uniforme et du taux de rendement dans l'évaluation de projets indépendants, comparaison de projets mutuellement exclusifs. Économie de la conception. Analyse financière après impôt exigeant une compréhension de la déduction pour amortissement et de l’impôt sur le revenu des sociétés. Analyses après impôt d’option achat/ location et de remplacement. Analyse du seuil de rentabilité économique, de la sensibilité, du risque financier et de la valeur des options stratégiques. Séances de travaux pratiques axées sur des études de cas et des solutions de problèmes.\",\n",
       " 'Cours destiné aux étudiants n’ayant jamais programmé et possédant des notions de base en algèbre matricielle et en calcul. Initier au fonctionnement d’un ordinateur et acquérir des connaissances permettant de résoudre des problèmes concrets reliés aux projets d’ingénierie. Présentation de la structure et du fonctionnement d’un ordinateur : matériel, logiciel. Initiation à l’algorithmie et à la programmation structurée : étapes de résolution d’un problème, méthodes de conception. Introduction à Matlab® et à son langage : structure d’un programme, mémoire et variables, instructions de base, instructions de décision et de contrôle, procédures et fonctions, passage de paramètres, vecteurs, matrices (sous-matrices, creuses et logiques), chaînes de caractères, graphiques, enregistrements et manipulation de fichiers. Résolution de problèmes à l’aide des matrices : méthodes de résolution numérique et optimisation. Séances de laboratoire axées sur l’application des notions de programmation.',\n",
       " \"Au terme de ce cours, l’étudiant maîtrisera des notions de calcul différentiel et intégral utilisées dans les autres cours de mathématiques et dans les cours de génie. Analyse : généralités sur les fonctions de R dans R; calcul différentiel : limites, dérivée, dérivée des fonctions élémentaires, règles de dérivation, étude de graphe, optimisation, etc. Calcul intégral : intégrales indéfinies, méthode d'intégration, utilisation des tables, intégrales définies, application (calcul d'aires, de volumes, de longueurs d'arc), méthodes numériques, intégrales impropres, etc. Suites et séries. Développements limités (Taylor, MacLaurin), évaluation de fonctions et d'intégrales définies à l'aide des séries. Séances de travaux pratiques composées d'exercices choisis pour illustrer et compléter la théorie vue en classe.\",\n",
       " \"Au terme de ce cours, l’étudiant comprendra et maîtrisera les notions fondamentales d'algèbre matricielle et d'analyse vectorielle. Vecteurs, algèbre et géométrie vectorielle, produits scalaires, vectoriels et mixtes, fonctions vectorielles à une variable et applications. Transformations linéaires, matrices, déterminants, inversion de matrices, systèmes d'équations linéaires, valeurs propres et vecteurs propres. Fonctions à plusieurs variables, dérivées partielles, dérivées directionnelles, gradient; applications géométriques : courbes de niveaux, optimisation, plans tangents. Intégrales doubles et triples; applications : calcul de surfaces, volumes, centres de gravité, moments d'inertie. Champ vectoriel, divergence et rotationnel, intégrales de lignes et de surfaces; théorèmes de Green, Stokes et de la divergence. Séances de travaux pratiques composées d'exercices choisis pour illustrer et compléter la théorie vue en classe.\",\n",
       " \"Au terme de ce cours, l’étudiant aura acquis des méthodes de solution de différents types d'équations différentielles rencontrées dans les travaux d'ingénierie. Origine et définition, famille de solutions, conditions initiales, équations différentielles du premier ordre : séparables exactes, linéaires. Applications : mouvement rectiligne, circuits électriques, etc. Équations différentielles linéaires à coefficients constants : solutions complémentaires (homogènes) et solutions particulières, méthode des coefficients indéterminés (variation des paramètres, opérateur inverse); applications : mouvement harmonique et circuits électriques. Transformées de Laplace en équations différentielles, applications, systèmes d'équations différentielles. Solutions d'équations différentielles par séries, méthodes numériques en équations différentielles. Séries de Fourier, résolutions d'équations différentielles par séries de Fourier. Séances de travaux pratiques composées d'exercices choisis pour illustrer et compléter la théorie vue en classe.\",\n",
       " \"Au terme de ce cours, l’étudiant sera initié aux concepts et aux outils de base reliés au domaine du  contrôle  statistique  des  procédés  et  des  matériaux. Définition et axiomes de probabilité, règles d'union, d'intersection, d'addition et de multiplication, probabilité conditionnelle, loi de Bayes. Analyse combinatoire. Variables aléatoires discrètes et continues, distribution de probabilités standards. Mesures d'échantillonnage. Distribution des paramètres d'échantillonnage, combinaison des variables aléatoires, distribution du Khi-carré. Tests statistiques, estimation, intervalle de confiance, tests sur la comparaison de deux populations. Régression linéaire, variance des résidus, tests statistiques et intervalles de confiance pour le paramètre du modèle. Séances de travaux pratiques et d'exercices portant sur des applications dans les domaines de l'administration, de la production, du contrôle de la qualité et de la fiabilité, et l'utilisation de logiciels statistiques.\",\n",
       " \"Maîtriser les concepts fondamentaux de la statique et de la résistance des matériaux. Mettre en application des concepts de base de la méthodologie de projet dans la conception des structures de treillis et des membrures en flexion. Notions de base relatives aux forces, aux vecteurs et aux unités. Forces, moments, couples et équilibre des corps rigides dans le plan, corps à deux forces. Centre de masse, forces réparties, centroïde des lignes et des surfaces, moment d'inertie de surface, rayon de giration, théorème des axes parallèles. Contrainte et déformation normales, contrainte de cisaillement, essai de traction, module d'élasticité, loi de Hooke, essai de compression, formules de flambage des colonnes longues et courtes, facteur de sécurité. Structures de treillis, identification, méthode des nœuds, méthode des sections, calcul de la résistance des treillis. Charpentes et mécanismes. Effort tranchant, moment de flexion, contrainte normale en flexion, poutres composées, calcul des poutres. Frottement sec, coefficients de frottement statique et cinétique, équilibre avec frottement, introduction au frottement des courroies. Séances de laboratoire sur les comportements des membrures en compression et en flexion. Projet de conception des structures de treillis et des membrures en flexion.\",\n",
       " \"À la fin du cours, l’étudiant sera en mesure :  d’appliquer une méthodologie de développement de produits menant à un modèle conceptuel; d’utiliser efficacement un système de CAO afin de produire un prototype conceptuel virtuel d’un produit; de résoudre des problèmes simples liés à la théorie de la conception assistée par ordinateur (CAO).  Notions de méthodologie de conception utilisée pour le développement de produits : cycle de développement, principes d'ingénierie simultanée, introduction à la gestion de projet, analyse d’un problème de conception, techniques de créativité, sélection d’une solution. Introduction à la modélisation géométrique utilisée par les systèmes de conception et de fabrication assistées par ordinateur (CAO/FAO) : types et représentation des courbes et surfaces paramétriques; techniques d’interpolation; Types et représentation des solides; représentation par limites et géométrie solide constructive. Représentation et échange de données entre différents systèmes de CAO/FAO; formats natifs, formats normalisés. Survol des principales fonctions d'un logiciel CAO de modélisation solide.  Séances de laboratoire axées sur la mise en application des concepts par le biais d'exercices de modélisation et par la réalisation en équipe d'un projet de développement de produit. Modélisation des assemblages en CAO; dessins d'assemblage et de détails, maintien du lien d'associativité.  Note sur les préalables : le cours COM129 est un cours associé et doit donc être suivi en même temps que MEC129.\",\n",
       " \"L’objectif général de cours consiste à comprendre le comportement des matériaux et structures simples, selon leur environnement et le type de sollicitation auquel elles sont soumises, afin de les optimiser et prévoir leur possible dégradation. À la fin de ce cours, l’étudiant sera en mesure :  de traduire en équations simples les concepts de base utilisés en ingénierie (absence de déformation plastique, absence de rupture, facteur de sécurité, masse minimale, etc.); de choisir judicieusement un matériau pour une application donnée; de proposer des moyens simples pour changer (améliorer) les propriétés des matériaux (modifications de composition chimique et de microstructure par des procédés simples); d’expliquer le lien entre les propriétés des matériaux et les liaisons atomiques, microstructures et défauts; d'expliquer en quoi les matériaux sont rarement homogènes et isotropes à de faibles échelles; de prévoir les modes de dégradation possible des matériaux et structures simples, et les minimiser par le choix des matériaux ou du design; de planifier une investigation et à appliquer des méthodologies éprouvées de caractérisation des matériaux.  Classification des matériaux (polymériques, céramiques, composites) et exemples d’application. Propriétés des matériaux et leur caractérisation. Liaisons atomiques, microstructure et propriétés des matériaux. Choix des matériaux. Structure cristalline et défauts. Effets des contraintes et de la température sur les structures simples : écrouissage, recristallisation, essais mécaniques. Structures polyphasées : diagrammes de phase, durcissement structural et diffusion. Aciers au carbone et faiblement alliés : microstructures, traitements thermiques, trempabilité, diagrammes TTT et TRC. Aciers fortement alliés. Alliages non ferreux. Propriétés et applications des céramiques. Défaillance des matériaux : fatigue, usure, corrosion, fluage. Séances de laboratoire sur la caractérisation des matériaux, leurs modes de défaillance et les traitements thermiques permettant d’optimiser les alliages métalliques.\",\n",
       " \"Au terme de ce cours, l’étudiant aura acquis les concepts fondamentaux de la dynamique des corps solides et sera en mesure de les appliquer à l'étude dynamique des mécanismes et des machines. À la fin de ce cours, l’étudiant sera en mesure :  d’appliquer les concepts et principes fondamentaux de la dynamique dans l’étude des mécanismes élémentaires; d’établir des équations du mouvement des particules et des corps rigides par la méthode de forces et d’accélérations et par les méthodes de l’énergie et de la quantité de mouvement; de calculer les efforts nécessaires pour produire un mouvement et déterminer le mouvement selon les chargements dynamiques appliqués; de modéliser et simuler le mouvement des systèmes mécaniques articulés à l’aide d’un logiciel multi-corps.  Cinématique des particules et des corps rigides: position, vitesse et accélération instantanées, déplacements, mouvements rectiligne et curviligne, repère en translation, mouvement relatif, système de poulies, mouvement angulaire, mouvement dans un plan, rotation, translation, centre instantané de rotation, accélération de Coriolis, liaison cinématique, système des particules. Cinétique des particules et des corps rigides : diagramme de corps libre dynamique, forces, frottement, ressort, deuxième loi de Newton, moment d’inertie de masse, quantité de mouvement, moment cinétique, énergie cinétique, énergie potentielle, puissance, travail des forces, principe du travail et de l’énergie, principe de l’impulsion et de la quantité de mouvement, conservation de l’énergie, conservation du moment cinétique, impulsion, impact, restitution, équilibre dynamique, principe de d’Alembert.\",\n",
       " \"Au terme de ce cours, l’étudiant sera en mesure d’analyser les phénomènes reliés à l'utilisation et à la production d'énergie thermique en faisant appel aux principes de base de la thermodynamique. À la fin du cours, l’étudiant sera capable :  de calculer les quantités d’énergie échangées sous forme de travail et de chaleur dans les processus industriels; d'analyser le fonctionnement de la plupart des machines thermiques usuelles en utilisant le premier et le second principe de la thermodynamique; de planifier et réaliser un projet expérimental démontrant les notions de thermodynamique vues dans le cours.  Introduction; définition des concepts; premier principe : propriétés des substances; processus thermiques appliqués aux substances; second principe : disponibilité de l'énergie et irréversibilité, cycles biphasés directs et renversés; moteurs à piston, turbines à gaz; introduction à la thermochimie. Séances de travaux pratiques composés d'exercices choisis pour illustrer et compléter la théorie vue en classe. Projet expérimental permettant à l’étudiant d’illustrer les principes vus en classe tout en développant ses capacités d’investigation.\",\n",
       " 'Ce cours vise à apprendre aux étudiants à choisir et optimiser les procédés de fabrication et le design des pièces en fonction des matériaux et de la performance en service désirée. À la fin de ce cours, l‘étudiant sera en mesure :  de faire, pour un design donné, l’analyse comparative des procédés technologiques, du point de vue de leurs caractéristiques, coût et limitations; d’expliquer les relations entre le choix des paramètres du procédé (température, déformation, etc.), la modification observée de la microstructure et l’impact sur les propriétés; d’évaluer la manufacturabilité d’une pièce mécanique pour sélectionner un procédé optimal pour sa fabrication; de concevoir ou modifier la conception d’une pièce afin de faciliter sa mise en oeuvre; d’optimiser un procédé de fabrication en fonction des matériaux et des propriétés en service désirées.  Classification, avantages et limitations des principaux procédés de mise en forme (par moulage, déformation plastique, enlèvement de matière, frittage de poudres, etc.) ainsi que de procédés émergents (fabrication additive etc.), notamment selon le type de matériau transformé, la taille et la complexité géométrique de la pièce. Influence sur les propriétés mécaniques, le fini de surface, les contraintes résiduelles, etc. Choix de procédés versus design de pièces (limites de design). Post-traitements de surface, incluant déformation plastique, plaquage, traitements thermochimiques et leurs conséquences sur les propriétés de pièces. Structure, propriétés et rhéologie des polymères pour la mise en forme, incluant les polymères thermoplastiques et thermodurcissables, et élastomères. Introduction au choix des procédés de fabrication des polymères. Matériaux composites, notamment à matrice polymérique. Liens entre les procédés de mise en forme de matériaux polymères non-renforcés et renforcés et le type de pièces que l’on peut fabriquer à partir de ces matériaux.  Activités pédagogiques en équipe.',\n",
       " \"Approfondir les concepts de la statique dans l'espace, de la résistance des matériaux sous chargements complexes et appliquer la méthodologie de projet dans la conception des structures des membrures sous chargements combinés. Au terme de ce cours, l’étudiant sera en mesure :  d’écrire les équations d’équilibre en 2D et 3D en se basant sur le diagramme du corps libre d’un élément structural; de calculer les contraintes et les déformations en un point d’une structure (treillis, poutre, coque mince); de calculer les déflexions dans les poutres isostatiques et hyperstatiques (avec la théorie des poutres); de calculer la résistance des membrures sujettes au flambement; d’appliquer le principe de l’énergie pour le calcul des déflexions sous charge statique ou charge d’impact; d’appliquer la méthodologie de projet dans la conception d’une structure ou d’un mécanisme sous chargements combinés.  Révision de l'équilibre dans le plan avec applications aux charpentes et mécanismes. Forces, moments, couples et équilibre des corps rigides dans l'espace. Moments de torsion, puissance de transmission, contraintes et déformations en torsion d'un arbre circulaire, torsion d'une membrure de section fermée à paroi mince. Contraintes induites à la combinaison de force axiale, effort tranchant, moment de flexion et moment de torsion. État plan de contraintes, transformation et cercle de Mohr des contraintes, critères de défaillance, réservoirs cylindriques et sphériques sous pression. État de déformation, transformation et cercle de Mohr des déformations, jauges de déformation, relations contraintes-déformations. Déflexion des poutres droites, méthode de double intégrale, méthode de superposition, méthode d'intégration graphique, poutres hyperstatiques. Flambement, développement de la formule d'Euler pour les colonnes, formules empiriques pour colonnes courtes, colonnes sous charge excentrée. Travail et énergie de déformation élastique avec application aux calculs sous charge d'impact quasi statique. Séances de laboratoire axées sur la déflexion des poutres et l'état de contrainte et déformation. Projet de conception des structures des membrures sous chargements combinés.\",\n",
       " \"Acquérir les concepts fondamentaux de la mécanique des fluides. Analyser les phénomènes élémentaires reliés à l'hydrostatique et à l'hydrodynamique. Prévoir le comportement des divers éléments hydrauliques grâce à l'analyse dimensionnelle. Analyser les systèmes hydrauliques plus complexes grâce à des modèles mathématiques. À la fin du cours, l’étudiant sera en mesure :  d’identifier les propriétés physiques importantes du fluide qui influencent les caractéristiques de l’écoulement; d’identifier le type de régime d’écoulement (permanent ou non, laminaire ou turbulent, etc.); de calculer les forces hydrostatiques sur les surfaces; de calculer les pertes de charges dans les réseaux de conduites et de sélectionner les pompes; de calculer les forces aérodynamiques sur les corps mobiles.  Propriétés des fluides; statique des fluides : pression dans un fluide au repos, mesure de pression, forces causées par la pression; analyse par volume de contrôle : équation de continuité, équation de quantité de mouvement, équation de Bernoulli, équation du moment cinétique, théorie élémentaire des turbomachines, équation d'énergie; analyse dimensionnelle et similitude; écoulement dans les conduites : pertes de charges dans les conduites; écoulement autour des corps : couche limite, portance, traînée; utilisation et sélection des pompes. Séances de laboratoire et exercices portant sur les instruments de mesure pour les liquides et les gaz, l'impact d'un jet de liquide, les caractéristiques des pompes centrifuges, les forces hydrostatiques. Projet portant sur l'utilisation d'un logiciel numérique en mécanique des fluides.\",\n",
       " 'Ce cours vise à initier les étudiants à la méthode des éléments finis en traitant des problèmes de déformation structurale et de conduction thermique. À la fin de ce cours, l’étudiant sera en mesure :  d’appliquer les mathématiques de base de la méthode des éléments finis à des modèles simples; de résoudre des problèmes d’éléments finis en programmant la solution des équations d’équilibre; de modéliser des problèmes simples et complexes en utilisant un logiciel commercial de calcul par éléments finis et interpréter les résultats; de concevoir et analyser des corps déformables soumis à des conditions frontières thermiques ou structurales; de rédiger un rapport de qualité professionnelle présentant toutes les étapes d’une conception fondée sur une analyse par éléments finis.  Mathématiques matricielles et formulations intégrales. Fonctions d’interpolation, degrés de liberté, assemblage de matrices. Éléments finis de type filaires (tiges et poutres), surfaciques (état plan de contrainte et axisymétrique), coques et volumiques en mécanique du solide. Éléments finis de type surfaciques (plan et axisymétrique) pour la conduction thermique en régime permanent. Flambage. Conditions essentielles de blocage, symétries, liaisons spéciales, singularités, analyse de convergence. Note sur les préalables : le cours MEC329 est préalable OU concomitant (il peut être suivi en même temps).',\n",
       " \"Acquérir les principes fondamentaux de la conception de structures soumises à des excitations dynamiques, les principes d'isolation des machines et d'amortissement des vibrations. S’initier aux techniques de mesures vibratoires. Au terme de ce cours, l’étudiant sera en mesure :  de faire la modélisation simplifiée de systèmes dynamiques complexes; de simuler numériquement la dynamique des systèmes avec Matlab, Simulink et E.F; de comparer les résultats obtenus théoriquement, par EF ainsi que par mesures expérimentales pour déterminer les paramètres modaux des structures; de calculer les propriétés vibratoires d’un mécanisme et en tirer les principes de conception pour limiter les vibrations; d’utiliser les concepts d’amortissement des vibrations, d’isolation de machines et des absorbeurs dynamiques pour réduire les vibrations.  Degrés de liberté; modélisation des systèmes vibratoires; sources de vibrations. Systèmes à 1 degré de liberté : équations du mouvement; vibrations libres; mesure d'amortissement; vibrations forcées harmoniques; isolation des machines; excitation par la base et déséquilibre des rotors; réponse impulsionnelle, transformée de Laplace, vibration aléatoire. Amortissement des structures, friction. Systèmes à plusieurs degrés de liberté : résonances et modes, vibration naturelle, vibration forcée harmonique, absorbeur dynamique, analyse modale. Techniques de mesure vibratoire. Méthode des éléments finis : matrices de masse et de rigidité, techniques d'assemblage et applications au calcul vibratoire des poutres et barres. Travaux de laboratoire portant sur la mesure vibratoire, sur l'analyse modale des structures par mesures expérimentales et par éléments finis. Utilisation de logiciels Matlab de simulation de la dynamique.\",\n",
       " \"Au terme de ce cours, l’étudiant aura analysé et conçu les éléments principaux de machines. Il aura aussi conçu un système mécanique simple. À la fin de ce cours, l’étudiant sera en mesure :  de sélectionner, d’analyser et de dimensionner des éléments de machines en fonction d’une application donnée; d’intégrer des éléments de machines à la conception détaillée d’un mécanisme.  Les notions acquises dans ce cours seront utilisées pour réaliser un projet de conception complexe en équipe et de façon conjointe avec le cours MEC592. Facteur de sécurité, concentration de contraintes. Théories de limitations en statique et en fatigue. Transmissions par engrenages, courroies et chaînes. Arbres, clavettes et accouplements. Roulements. Lubrification et paliers lisses. Freins et embrayages. Vis de transmission. Boulons et joints boulonnés. Ressorts hélicoïdaux et à lames. Séances de laboratoire portant sur l'analyse des contraintes d'éléments de machines par la méthode des éléments finis. Note sur les préalables : le cours MEC592 est un cours associé et doit donc être suivi en même temps que MEC528.\",\n",
       " \"Au terme de ce cours, l’étudiant aura étudié le phénomène du transfert de l'énergie thermique et analysé les problèmes concrets qui y sont reliés. Au terme de ce cours, l’étudiant sera en mesure :  d’expliquer les trois modes de transfert thermique; d’analyser des problèmes concrets qui y sont reliés; de comparer les performances de systèmes thermiques (réseaux d’ailettes, échangeurs, etc.)  Modes de transfert de chaleur. Conduction unidimensionnelle : paroi simple, paroi composée. Concept de résistance thermique. Équation générale de la conduction thermique, solutions analytiques et numériques : application aux réseaux d’ailettes. Conduction de chaleur en régime transitoire. Couches limites thermiques. Écoulements laminaire et turbulent. Convection forcée à l'extérieur d'obstacles et à l'intérieur des conduites. Convection naturelle. Échangeurs de chaleur. Rayonnement thermique : Coefficient de géométrie, loi de Kirchhoff, rayonnement d'un corps noir et gris. Rayonnement entre des surfaces noires et grises. Introduction au transfert de chaleur multimodes. Séances de laboratoire portant sur l'application de méthodes numériques à la résolution de problèmes pratiques. Utilisation des outils informatiques.\",\n",
       " \"Au terme de ce cours, l’étudiant aura acquis des notions simples en électricité industrielle afin de pouvoir analyser et choisir correctement les machines électriques utilisées dans les entreprises. À la fin de cours, l'étudiant sera en mesure :  d'appliquer des méthodes d'analyse de circuits électriques et électroniques simples afin de pouvoir en évaluer la fonction et les performances; de faire la sélection, dans un processus de conception d’un système d’entraînement, d'un moteur électrique en fonction des requis de l’application et des caractéristiques des machines tournantes disponibles; d'identifier les composantes d'un dispositif de commande et de contrôle industriel nécessaire au bon fonctionnement d'un système d'entraînement électrique afin de pouvoir les intégrer à un design électromécanique performant.  Éléments de circuits électriques et électroniques de puissance : résistance, condensateur, inductance, diode, transistor et thyristor. Analyse de circuits à courant continu et à courant alternatif : lois d'Ohm et de Kirchhoff, méthode des boucles et des noeuds, théorème de Thévenin. Analyse de circuits triphasés : montages en étoile et en triangle, tension de ligne et de phase. Analyse des moteurs électriques : moteurs DC (avec et sans balais), AC asynchones (monophasés et triphasés) et moteurs pas à pas. Rendements des machines électriques : puissance active, réactive et apparente, facteur de puissance. Commande industrielle des moteurs : procédés de démarrage et de freinage, redressement de signaux AC et ondulateurs, réglage de leur vitesse de rotation et de leur position angulaire. Séances de laboratoire portant sur l'analyse de circuits et de moteurs électriques.\",\n",
       " 'Ce cours vise le développement de compétences liées à la conception détaillée de machines qui tiennent compte des particularités et des limites des procédés de fabrication et d’assemblage et qui permettent d’augmenter la fiabilité et la robustesse d’un mécanisme. À la fin de ce cours, l’étudiant sera en mesure :  de synthétiser les informations et les données décrivant un problème de conception provenant d’un contexte industriel, réaliste et flou sous forme d’un cahier des charges fonctionnel basé sur des métriques quantitatives; d’utiliser efficacement des outils et méthodes d’ingénierie pour l’évaluation et la prise de décision dans le processus de conception tout en respectant des contraintes de nature sécuritaire, environnementale ou financière; d’appliquer les méthodologies d’analyse et de dimensionnement pour proposer une solution viable à un problème de conception spécifique; de produire des documents de définition (2D et 3D) complets (incluant matériaux, tolérances, annotations, fini et revêtement de surface, nomenclature, etc.); d’appliquer les principes de gestion de projet, de communication technique ou scientifique et de travail d’équipe.  Rappels sur la méthodologie de développement de produit; méthodes numériques de simulation; architecture et configuration de produits; conception en vue d’optimiser diverses fonctions du produit durant son cycle de vie (Design for x, p. ex. : ergonomie, environnement, fabrication, fiabilité, assemblage, maintenance, etc.); exploitation de la maquette 3D (p. ex. : détection de collisions, cinématique, etc.); approches limites et probabilistiques en conception (incertitudes, approche limite, conception robuste etc.); analyse des modes de défaillance, de leur effet et criticité (AMDEC) en conception; documentation d’ingénierie. Note sur les préalables : le cours MEC528 est un cours associé et doit donc être suivi en même temps que MEC592.',\n",
       " \"À la fin de ce cours, l’étudiant sera en mesure :  d’appliquer différentes techniques de modélisation et de simulation pour décrire des systèmes dynamiques; d’analyser les performances et la stabilité d'un système dynamique; de concevoir et ajuster les paramètres de systèmes de commande continue PID;  de sélectionner et d’intégrer les composantes d'un système de commande (capteurs, système de commande et actionneurs) de façon à pouvoir commander efficacement un procédé industriel.  Concept de systèmes et de composantes. Formulation des modèles mathématiques de systèmes physiques, transformée de Laplace, schéma-bloc, fonctions de transfert. Réponse des systèmes du premier et du deuxième ordre. Analyse dans les domaines temporels et fréquentiels. Application aux systèmes mécaniques, électriques, hydrauliques et thermiques. Terminologie et concepts de base de la commande automatique : régulateur, suiveur, systèmes en boucle ouverte et en boucle fermée, servomécanismes, procédés industriels, commande analogique et numérique. Lois de commande classiques : action proportionnelle, intégrale et dérivée. Caractéristiques des capteurs et des actionneurs. Commande d’un processus du premier et du deuxième ordre. Conception et réglage des systèmes de commande. Critères de performance, analyse de stabilité. Réalisation de systèmes de commande. Dimensionnement des composantes du système (actionneur, capteur, système d’entraînement). Séances de laboratoire portant sur la simulation et la commande de divers systèmes physiques. Note sur les préalables : le cours MEC546 est concomitant (il peut être suivi en même temps).\",\n",
       " 'À la fin de cette activité, l’étudiant sera en mesure :  de concevoir des éléments, des systèmes, procédés et processus qui répondent à des besoins spécifiques tout en respectant des contraintes non techniques telles que les facteurs économiques, le développement durable, la santé et la sécurité, l’éthique et les contraintes légales ; d’appliquer une méthodologie de conception rigoureuse ; de produire toute la documentation technique nécessaire à la mise en œuvre des éléments, des systèmes, procédés ou processus ; d’appliquer les principes de gestion de projet, de communication et de travail d’équipe ; d’élaborer un plan de formation professionnel.  Il doit s’agir d’un projet de conception en ingénierie, accompli selon un processus créatif, itératif et évolutif qui repose sur les connaissances acquises en mathématiques, sciences fondamentales, sciences du génie et études complémentaires. Sous la supervision d’une équipe de professeurs, les étudiants réalisent en équipe un projet choisi parmi une liste proposée par le Département. Ils sont appelés à gérer eux-mêmes leur projet. Ce projet conduit à la présentation d’un rapport technique rédigé selon les normes professionnelles. De plus, le rapport doit faire l’objet d’une présentation orale. À la fin de l’activité, chaque étudiant fera le bilan de ses lacunes, identifiera ses besoins de formation et proposera un plan de formation professionnel.  Préalable : cumuler 99 crédits de cours dans son programme.',\n",
       " \"Activité d'une durée de quatre semaines obligatoire à laquelle l’étudiant doit être inscrit ou qu’il doit avoir suivi avant le troisième stage. Activité partiellement en ligne. Cette activité vise à familiariser l’étudiant avec les responsabilités professionnelles de l’ingénieur, en particulier la protection du public. Elle est offerte partiellement en ligne. Présentation du système professionnel québécois, de l’Ordre des ingénieurs du Québec (en particulier les mécanismes de protection du public) et de l’encadrement légal de la profession (Loi sur les ingénieurs et le Code de déontologie). Introduction à l’éthique professionnelle et initiation à la démarche de délibération éthique.\",\n",
       " \"Acquérir les connaissances élémentaires en matière d’électricité et de magnétisme de façon à pouvoir analyser et interpréter les phénomènes connexes qui y sont reliés. L'électrostatique et ses lois : charge électrique, champ, loi de Coulomb, potentiel électrique. Fondement de la théorie de l'électrostatique : polarisation, dipôle, loi de Gauss. Énergie électrostatique : charges ponctuelles, charges distribuées, conducteurs, capacité, couple moteur. Circuits en courant continu : lois d'Ohm et de Kirchhoff. Magnétisme des courants continus, force magnétique, champ perpendiculaire, loi de Biot-Savart. Fondement de la théorie du magnétisme de la matière. Loi de Faraday, inductance, énergie magnétique. Séances de laboratoire et exercices reliés à des applications en ingénierie. Précision sur les préalables : un seul des deux préalables est requis, soit CTN248 OU ING150. Toutefois, aucun préalable n'est requis pour les étudiants en génie mécanique.\",\n",
       " \"La participation au cours PRE011 dès la première session à l’ÉTS est obligatoire :  cela donne accès aux affichages des offres de stage au moment approprié selon le programme; la réussite du cours PRE011 est pré-requise pour obtenir une mention succès aux stages.     Volet 1 : Développement professionnel et stages (en ligne) Cette activité vise à familiariser l’étudiant avec les principes de l’enseignement coopératif. Ressources offertes par le Service de l’enseignement coopératif. Règlements relatifs aux stages. Mécanismes menant à l’obtention d’un stage. Éthique en processus de recherche de stage. Clarification du projet professionnel : motivations, intérêts, valeurs, projets de stage et de carrière. Préparation et rédaction d’un dossier de candidature professionnel : CV, sommaire, ePortfolio. Système de consultation des stages. Préparation efficace à l’entrevue de sélection. Marché du travail, réseautage et démarches personnelles de recherche de stage. Intégration réussie en milieu de stage. Évaluation du stagiaire par le Service de l’enseignement coopératif et par le superviseur de stage. Volet 2 : Santé et sécurité au travail Cette activité vise à familiariser l’étudiant aux principaux risques de santé et sécurité en milieu de travail. L'organisation, les ressources disponibles et le cadre législatif en matière de santé et sécurité au Québec. Principaux types de risques rencontrés sur les lieux de travail et mesures de prévention associées à ceux-ci : risques reliés à la pression, au bruit, aux vibrations et à la température; risques électriques; risques chimiques et biologiques; risques psychosociaux; risques mécaniques; risques ergonomiques; risques reliés aux chantiers, aux mines et aux milieux de travail non permanents. Applications en milieu de travail : sécurité des machines; SIMDUT; ergonomie et manutention manuelle; travail en hauteur; travail en espaces clos; cadenassage; sécurité électrique. Introduction à la gestion du risque. Étude de cas. Cette activité est notée avec la mention succès ou échec.\",\n",
       " 'Ce cours propose une réflexion sur les liens entre la technologie, la société et l’environnement. Exploration et discussion, guidées par des perspectives et concepts issus des sciences humaines et sociales, des enjeux liés au développement et à l’utilisation des technologies dans la société moderne, ainsi que des enjeux environnementaux contemporains et du développement durable. Séances de travaux pratiques portant entre autres sur des études de cas relatives aux notions vues dans les cours.',\n",
       " 'Obligatoire et réservé aux étudiants qui souhaitent une attestation ou la mention de la concentration Technologies de la santé sur leur diplôme. Ce cours propose une réflexion sur les liens entre la santé, les technologies, la société et l’environnement, avec une attention particulière aux technologies ayant un impact sur la santé et la société. Exploration et discussion, guidées par des perspectives et concepts issus des sciences humaines et sociales, des enjeux liés au développement et à l’utilisation des technologies dans la société moderne, ainsi que des enjeux de santé et environnementaux contemporains et du développement durable. Introduction aux systèmes de santé canadien et québécois, aux principes fondamentaux de l’éthique biomédicale et aux déterminants sociaux de la santé. Séances de travaux pratiques portant entre autres sur des études de cas.']"
      ]
     },
     "execution_count": 43,
     "metadata": {},
     "output_type": "execute_result"
    }
   ],
   "source": [
    "course_descs"
   ]
  },
  {
   "cell_type": "code",
   "execution_count": 44,
   "metadata": {},
   "outputs": [
    {
     "data": {
      "text/html": [
       "<div>\n",
       "<style scoped>\n",
       "    .dataframe tbody tr th:only-of-type {\n",
       "        vertical-align: middle;\n",
       "    }\n",
       "\n",
       "    .dataframe tbody tr th {\n",
       "        vertical-align: top;\n",
       "    }\n",
       "\n",
       "    .dataframe thead th {\n",
       "        text-align: right;\n",
       "    }\n",
       "</style>\n",
       "<table border=\"1\" class=\"dataframe\">\n",
       "  <thead>\n",
       "    <tr style=\"text-align: right;\">\n",
       "      <th></th>\n",
       "      <th>Course Number</th>\n",
       "      <th>Course Name</th>\n",
       "      <th>Course Description</th>\n",
       "    </tr>\n",
       "  </thead>\n",
       "  <tbody>\n",
       "    <tr>\n",
       "      <th>0</th>\n",
       "      <td>CHM131</td>\n",
       "      <td>Chimie et matériaux</td>\n",
       "      <td>Faire le lien entre la structure atomique de l...</td>\n",
       "    </tr>\n",
       "    <tr>\n",
       "      <th>1</th>\n",
       "      <td>COM129</td>\n",
       "      <td>Méthodes de communication en génie mécanique</td>\n",
       "      <td>Acquérir une plus grande maîtrise des divers o...</td>\n",
       "    </tr>\n",
       "    <tr>\n",
       "      <th>2</th>\n",
       "      <td>GIA410</td>\n",
       "      <td>Gestion et économie des projets d’ingénierie</td>\n",
       "      <td>Développer une capacité à intégrer de façon ap...</td>\n",
       "    </tr>\n",
       "    <tr>\n",
       "      <th>3</th>\n",
       "      <td>INF135</td>\n",
       "      <td>Introduction à la programmation en génie mécan...</td>\n",
       "      <td>Cours destiné aux étudiants n’ayant jamais pro...</td>\n",
       "    </tr>\n",
       "    <tr>\n",
       "      <th>4</th>\n",
       "      <td>MAT145</td>\n",
       "      <td>Calcul différentiel et intégral</td>\n",
       "      <td>Au terme de ce cours, l’étudiant maîtrisera de...</td>\n",
       "    </tr>\n",
       "    <tr>\n",
       "      <th>5</th>\n",
       "      <td>MAT165</td>\n",
       "      <td>Algèbre linéaire et analyse vectorielle</td>\n",
       "      <td>Au terme de ce cours, l’étudiant comprendra et...</td>\n",
       "    </tr>\n",
       "    <tr>\n",
       "      <th>6</th>\n",
       "      <td>MAT265</td>\n",
       "      <td>Équations différentielles</td>\n",
       "      <td>Au terme de ce cours, l’étudiant aura acquis d...</td>\n",
       "    </tr>\n",
       "    <tr>\n",
       "      <th>7</th>\n",
       "      <td>MAT350</td>\n",
       "      <td>Probabilités et statistiques</td>\n",
       "      <td>Au terme de ce cours, l’étudiant sera initié a...</td>\n",
       "    </tr>\n",
       "    <tr>\n",
       "      <th>8</th>\n",
       "      <td>MEC111</td>\n",
       "      <td>Statique de l'ingénieur</td>\n",
       "      <td>Maîtriser les concepts fondamentaux de la stat...</td>\n",
       "    </tr>\n",
       "    <tr>\n",
       "      <th>9</th>\n",
       "      <td>MEC129</td>\n",
       "      <td>Développement de produits assisté par ordinateur</td>\n",
       "      <td>À la fin du cours, l’étudiant sera en mesure :...</td>\n",
       "    </tr>\n",
       "    <tr>\n",
       "      <th>10</th>\n",
       "      <td>MEC200</td>\n",
       "      <td>Technologie des matériaux</td>\n",
       "      <td>L’objectif général de cours consiste à compren...</td>\n",
       "    </tr>\n",
       "    <tr>\n",
       "      <th>11</th>\n",
       "      <td>MEC222</td>\n",
       "      <td>Dynamique</td>\n",
       "      <td>Au terme de ce cours, l’étudiant aura acquis l...</td>\n",
       "    </tr>\n",
       "    <tr>\n",
       "      <th>12</th>\n",
       "      <td>MEC240</td>\n",
       "      <td>Thermodynamique</td>\n",
       "      <td>Au terme de ce cours, l’étudiant sera en mesur...</td>\n",
       "    </tr>\n",
       "    <tr>\n",
       "      <th>13</th>\n",
       "      <td>MEC300</td>\n",
       "      <td>Technologie de fabrication</td>\n",
       "      <td>Ce cours vise à apprendre aux étudiants à choi...</td>\n",
       "    </tr>\n",
       "    <tr>\n",
       "      <th>14</th>\n",
       "      <td>MEC329</td>\n",
       "      <td>Résistance des matériaux</td>\n",
       "      <td>Approfondir les concepts de la statique dans l...</td>\n",
       "    </tr>\n",
       "    <tr>\n",
       "      <th>15</th>\n",
       "      <td>MEC335</td>\n",
       "      <td>Mécanique des fluides</td>\n",
       "      <td>Acquérir les concepts fondamentaux de la mécan...</td>\n",
       "    </tr>\n",
       "    <tr>\n",
       "      <th>16</th>\n",
       "      <td>MEC423</td>\n",
       "      <td>Méthode des éléments finis des corps déformables</td>\n",
       "      <td>Ce cours vise à initier les étudiants à la mét...</td>\n",
       "    </tr>\n",
       "    <tr>\n",
       "      <th>17</th>\n",
       "      <td>MEC525</td>\n",
       "      <td>Conception vibratoire et dynamique des structures</td>\n",
       "      <td>Acquérir les principes fondamentaux de la conc...</td>\n",
       "    </tr>\n",
       "    <tr>\n",
       "      <th>18</th>\n",
       "      <td>MEC528</td>\n",
       "      <td>Éléments de machines</td>\n",
       "      <td>Au terme de ce cours, l’étudiant aura analysé ...</td>\n",
       "    </tr>\n",
       "    <tr>\n",
       "      <th>19</th>\n",
       "      <td>MEC532</td>\n",
       "      <td>Transfert de chaleur</td>\n",
       "      <td>Au terme de ce cours, l’étudiant aura étudié l...</td>\n",
       "    </tr>\n",
       "    <tr>\n",
       "      <th>20</th>\n",
       "      <td>MEC546</td>\n",
       "      <td>Circuits électriques et électrotechnique</td>\n",
       "      <td>Au terme de ce cours, l’étudiant aura acquis d...</td>\n",
       "    </tr>\n",
       "    <tr>\n",
       "      <th>21</th>\n",
       "      <td>MEC592</td>\n",
       "      <td>Projet de conception de machines</td>\n",
       "      <td>Ce cours vise le développement de compétences ...</td>\n",
       "    </tr>\n",
       "    <tr>\n",
       "      <th>22</th>\n",
       "      <td>MEC788</td>\n",
       "      <td>Mécatronique</td>\n",
       "      <td>À la fin de ce cours, l’étudiant sera en mesur...</td>\n",
       "    </tr>\n",
       "    <tr>\n",
       "      <th>23</th>\n",
       "      <td>MEC795</td>\n",
       "      <td>Projet de fin d'études en génie mécanique</td>\n",
       "      <td>À la fin de cette activité, l’étudiant sera en...</td>\n",
       "    </tr>\n",
       "    <tr>\n",
       "      <th>24</th>\n",
       "      <td>PEP110</td>\n",
       "      <td>Encadrement de la profession et éthique profes...</td>\n",
       "      <td>Activité d'une durée de quatre semaines obliga...</td>\n",
       "    </tr>\n",
       "    <tr>\n",
       "      <th>25</th>\n",
       "      <td>PHY332</td>\n",
       "      <td>Électricité et magnétisme</td>\n",
       "      <td>Acquérir les connaissances élémentaires en mat...</td>\n",
       "    </tr>\n",
       "    <tr>\n",
       "      <th>26</th>\n",
       "      <td>PRE011</td>\n",
       "      <td>Développement professionnel et initiation à la...</td>\n",
       "      <td>La participation au cours PRE011 dès la premiè...</td>\n",
       "    </tr>\n",
       "    <tr>\n",
       "      <th>27</th>\n",
       "      <td>TIN503</td>\n",
       "      <td>Environnement, technologie et société</td>\n",
       "      <td>Ce cours propose une réflexion sur les liens e...</td>\n",
       "    </tr>\n",
       "    <tr>\n",
       "      <th>28</th>\n",
       "      <td>TIN504</td>\n",
       "      <td>Santé, technologie et société</td>\n",
       "      <td>Obligatoire et réservé aux étudiants qui souha...</td>\n",
       "    </tr>\n",
       "  </tbody>\n",
       "</table>\n",
       "</div>"
      ],
      "text/plain": [
       "   Course Number                                        Course Name  \\\n",
       "0         CHM131                                Chimie et matériaux   \n",
       "1         COM129       Méthodes de communication en génie mécanique   \n",
       "2         GIA410       Gestion et économie des projets d’ingénierie   \n",
       "3         INF135  Introduction à la programmation en génie mécan...   \n",
       "4         MAT145                    Calcul différentiel et intégral   \n",
       "5         MAT165            Algèbre linéaire et analyse vectorielle   \n",
       "6         MAT265                          Équations différentielles   \n",
       "7         MAT350                       Probabilités et statistiques   \n",
       "8         MEC111                            Statique de l'ingénieur   \n",
       "9         MEC129   Développement de produits assisté par ordinateur   \n",
       "10        MEC200                          Technologie des matériaux   \n",
       "11        MEC222                                          Dynamique   \n",
       "12        MEC240                                    Thermodynamique   \n",
       "13        MEC300                         Technologie de fabrication   \n",
       "14        MEC329                           Résistance des matériaux   \n",
       "15        MEC335                              Mécanique des fluides   \n",
       "16        MEC423   Méthode des éléments finis des corps déformables   \n",
       "17        MEC525  Conception vibratoire et dynamique des structures   \n",
       "18        MEC528                               Éléments de machines   \n",
       "19        MEC532                               Transfert de chaleur   \n",
       "20        MEC546           Circuits électriques et électrotechnique   \n",
       "21        MEC592                   Projet de conception de machines   \n",
       "22        MEC788                                       Mécatronique   \n",
       "23        MEC795          Projet de fin d'études en génie mécanique   \n",
       "24        PEP110  Encadrement de la profession et éthique profes...   \n",
       "25        PHY332                          Électricité et magnétisme   \n",
       "26        PRE011  Développement professionnel et initiation à la...   \n",
       "27        TIN503              Environnement, technologie et société   \n",
       "28        TIN504                      Santé, technologie et société   \n",
       "\n",
       "                                   Course Description  \n",
       "0   Faire le lien entre la structure atomique de l...  \n",
       "1   Acquérir une plus grande maîtrise des divers o...  \n",
       "2   Développer une capacité à intégrer de façon ap...  \n",
       "3   Cours destiné aux étudiants n’ayant jamais pro...  \n",
       "4   Au terme de ce cours, l’étudiant maîtrisera de...  \n",
       "5   Au terme de ce cours, l’étudiant comprendra et...  \n",
       "6   Au terme de ce cours, l’étudiant aura acquis d...  \n",
       "7   Au terme de ce cours, l’étudiant sera initié a...  \n",
       "8   Maîtriser les concepts fondamentaux de la stat...  \n",
       "9   À la fin du cours, l’étudiant sera en mesure :...  \n",
       "10  L’objectif général de cours consiste à compren...  \n",
       "11  Au terme de ce cours, l’étudiant aura acquis l...  \n",
       "12  Au terme de ce cours, l’étudiant sera en mesur...  \n",
       "13  Ce cours vise à apprendre aux étudiants à choi...  \n",
       "14  Approfondir les concepts de la statique dans l...  \n",
       "15  Acquérir les concepts fondamentaux de la mécan...  \n",
       "16  Ce cours vise à initier les étudiants à la mét...  \n",
       "17  Acquérir les principes fondamentaux de la conc...  \n",
       "18  Au terme de ce cours, l’étudiant aura analysé ...  \n",
       "19  Au terme de ce cours, l’étudiant aura étudié l...  \n",
       "20  Au terme de ce cours, l’étudiant aura acquis d...  \n",
       "21  Ce cours vise le développement de compétences ...  \n",
       "22  À la fin de ce cours, l’étudiant sera en mesur...  \n",
       "23  À la fin de cette activité, l’étudiant sera en...  \n",
       "24  Activité d'une durée de quatre semaines obliga...  \n",
       "25  Acquérir les connaissances élémentaires en mat...  \n",
       "26  La participation au cours PRE011 dès la premiè...  \n",
       "27  Ce cours propose une réflexion sur les liens e...  \n",
       "28  Obligatoire et réservé aux étudiants qui souha...  "
      ]
     },
     "execution_count": 44,
     "metadata": {},
     "output_type": "execute_result"
    }
   ],
   "source": [
    "import pandas as pd\n",
    "\n",
    "df = pd.DataFrame({\n",
    "    \"Course Number\": course_codes,\n",
    "    \"Course Name\": course_names,\n",
    "    \"Course Description\": course_descs\n",
    "})\n",
    "\n",
    "df"
   ]
  },
  {
   "cell_type": "code",
   "execution_count": 45,
   "metadata": {},
   "outputs": [],
   "source": [
    "df.to_csv('ETS_GenieMecanique_Core_Courses.csv', index = False)"
   ]
  },
  {
   "cell_type": "code",
   "execution_count": 46,
   "metadata": {},
   "outputs": [],
   "source": [
    "driver.quit()"
   ]
  },
  {
   "cell_type": "code",
   "execution_count": null,
   "metadata": {},
   "outputs": [],
   "source": []
  }
 ],
 "metadata": {
  "kernelspec": {
   "display_name": "Python 3",
   "language": "python",
   "name": "python3"
  },
  "language_info": {
   "codemirror_mode": {
    "name": "ipython",
    "version": 3
   },
   "file_extension": ".py",
   "mimetype": "text/x-python",
   "name": "python",
   "nbconvert_exporter": "python",
   "pygments_lexer": "ipython3",
   "version": "3.8.5"
  }
 },
 "nbformat": 4,
 "nbformat_minor": 4
}
