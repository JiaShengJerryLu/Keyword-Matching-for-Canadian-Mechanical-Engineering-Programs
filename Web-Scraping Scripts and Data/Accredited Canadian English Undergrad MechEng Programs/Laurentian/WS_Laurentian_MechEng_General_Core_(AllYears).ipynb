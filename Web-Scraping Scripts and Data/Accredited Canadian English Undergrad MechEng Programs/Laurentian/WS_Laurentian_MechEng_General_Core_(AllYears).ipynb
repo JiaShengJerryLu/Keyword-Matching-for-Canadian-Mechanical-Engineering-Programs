{
 "cells": [
  {
   "cell_type": "code",
   "execution_count": 1,
   "metadata": {},
   "outputs": [],
   "source": [
    "from bs4 import BeautifulSoup as soup\n",
    "from urllib.request import urlopen as ureq\n",
    "from selenium import webdriver\n",
    "import time\n",
    "import re"
   ]
  },
  {
   "cell_type": "markdown",
   "metadata": {},
   "source": [
    "# 1. Collect course codes from program page"
   ]
  },
  {
   "cell_type": "code",
   "execution_count": 2,
   "metadata": {},
   "outputs": [],
   "source": [
    "url = \"https://laurentian.ca/program/mechanical-engineering/details\""
   ]
  },
  {
   "cell_type": "code",
   "execution_count": 3,
   "metadata": {},
   "outputs": [],
   "source": [
    "uClient = ureq(url)\n",
    "page_html = uClient.read()\n",
    "uClient.close()\n",
    "page_soup = soup(page_html, \"html.parser\")"
   ]
  },
  {
   "cell_type": "markdown",
   "metadata": {},
   "source": [
    "### Containers are grouped sequentially (not hierachically). So need to play around with \"next_element\""
   ]
  },
  {
   "cell_type": "code",
   "execution_count": 4,
   "metadata": {},
   "outputs": [
    {
     "data": {
      "text/plain": [
       "<p><strong>B.Eng. in Mechanical Engineering - General Option</strong></p>"
      ]
     },
     "execution_count": 4,
     "metadata": {},
     "output_type": "execute_result"
    }
   ],
   "source": [
    "start = page_soup.find(\"div\", {\"id\": \"options\"}).find(\"p\", text=\"B.Eng. in Mechanical Engineering - General Option\")\n",
    "start"
   ]
  },
  {
   "cell_type": "code",
   "execution_count": 5,
   "metadata": {},
   "outputs": [
    {
     "data": {
      "text/plain": [
       "True"
      ]
     },
     "execution_count": 5,
     "metadata": {},
     "output_type": "execute_result"
    }
   ],
   "source": [
    "start.next_element.next_element == \"B.Eng. in Mechanical Engineering - General Option\""
   ]
  },
  {
   "cell_type": "code",
   "execution_count": 6,
   "metadata": {},
   "outputs": [
    {
     "data": {
      "text/plain": [
       "True"
      ]
     },
     "execution_count": 6,
     "metadata": {},
     "output_type": "execute_result"
    }
   ],
   "source": [
    "import bs4\n",
    "type(start.next_element.next_element.next_element.next_element.next_element.next_element.next_element.next_element.next_element) is bs4.element.NavigableString"
   ]
  },
  {
   "cell_type": "code",
   "execution_count": 10,
   "metadata": {},
   "outputs": [
    {
     "data": {
      "text/plain": [
       "'\\r\\nCHMI 1006E\\xa0 \\xa0 \\xa0General Chemistry I'"
      ]
     },
     "execution_count": 10,
     "metadata": {},
     "output_type": "execute_result"
    }
   ],
   "source": [
    "test = page_soup.find(\"div\", {\"id\": \"options\"}).find(\"p\", text=\"First Year\")\n",
    "course_title = test.findNextSibling().next_element.next_element.next_element\n",
    "course_title"
   ]
  },
  {
   "cell_type": "code",
   "execution_count": 11,
   "metadata": {},
   "outputs": [
    {
     "data": {
      "text/plain": [
       "'CHMI 1006E General Chemistry I'"
      ]
     },
     "execution_count": 11,
     "metadata": {},
     "output_type": "execute_result"
    }
   ],
   "source": [
    "course_title = \" \".join(re.split(\"\\s+\", course_code.strip()))\n",
    "course_title"
   ]
  },
  {
   "cell_type": "code",
   "execution_count": 12,
   "metadata": {},
   "outputs": [
    {
     "data": {
      "text/plain": [
       "True"
      ]
     },
     "execution_count": 12,
     "metadata": {},
     "output_type": "execute_result"
    }
   ],
   "source": [
    "bool(re.match(\"[A-Z]{4} [0-9]{4}E\", course_title))"
   ]
  },
  {
   "cell_type": "code",
   "execution_count": 19,
   "metadata": {},
   "outputs": [],
   "source": [
    "start = page_soup.find(\"div\", {\"id\": \"options\"}).find(\"p\", text=\"B.Eng. in Mechanical Engineering - General Option\")"
   ]
  },
  {
   "cell_type": "markdown",
   "metadata": {},
   "source": [
    "### Figured out the pattern. Implement script to collect all course codes and names"
   ]
  },
  {
   "cell_type": "code",
   "execution_count": 20,
   "metadata": {
    "scrolled": true
   },
   "outputs": [
    {
     "name": "stdout",
     "output_type": "stream",
     "text": [
      "CHMI 1006E General Chemistry I\n",
      "ENGR 1007E Engineering Graphics and Design\n",
      "ENGR 1056E Applied Mechanics I\n",
      "MATH 1036E Calculus I\n",
      "PHYS 1006E Introductory Physics I\n",
      "ENGR 1016E Engineering Communications\n",
      "ENGR 1017E Computer Aided Design\n",
      "ENGR 1057E Applied Mechanics II\n",
      "MATH 1037E Calculus II\n",
      "MATH 1057E Linear Algebra I\n",
      "PHYS 1007E Introductory Physics II\n",
      "COSC 1046E Computer Science I\n",
      "ENGR 2026E Engineering Materials\n",
      "ENGR 2036E Engineering Thermodynamics I\n",
      "ENGR 2076E Mechanics and Strength of Materials I\n",
      "MATH 2066E Introduction to Differential Equations\n",
      "COSC 1047E Computer Science II\n",
      "ENGR 2097E Fluid Mechanics I\n",
      "ENGR 2506E Dynamics\n",
      "ENGR 2537E Engineering Thermodynamics II\n",
      "ENGR 2587E Mechanics and Strength of Materials II\n",
      "STAT 2246E Statistics for Scientists\n",
      "ENGR 3426E Engineering Economics\n",
      "ENGR 3526E Fluid Mechanics II\n",
      "ENGR 3536E Materials and Manufacturing\n",
      "ENGR 3546E System Modeling and Simulation\n",
      "ENGR 3556E Electromechanical Actuators and Power Electronics\n",
      "ENGR 3327E Mine Ventilation\n",
      "ENGR 3507E Finite Element Methods\n",
      "ENGR 3516E Vibrations and Dynamic Systems\n",
      "ENGR 3517E Machine Design\n",
      "ENGR 3547E Control Systems\n",
      "MATH 3416E Numerical Methods I\n",
      "ENGR 3446E Heat Transfer\n",
      "ENGR 4126E Engineering Seminar\n",
      "ENGR 4526E Sensors and Instrumentation\n",
      "ENGR 4566E Fluid Power Systems\n",
      "ENGR 4595E Mechanical Engineering Design Project\n",
      "ENGR 3566E Biomechanics\n",
      "ENGR 4117E Engineering, Technology and Society\n",
      "ENGR 4547E Robot Manipulation\n",
      "ENGR 4595E Mechanical Engineering Design Project\n"
     ]
    }
   ],
   "source": [
    "course_titles = []\n",
    "counter = 0\n",
    "\n",
    "while start != \"B.Eng. in Mechanical Engineering - Mechatronics Option\":\n",
    "    if type(start) is bs4.element.NavigableString:\n",
    "        course_title = \" \".join(re.split(\"\\s+\", start.strip()))\n",
    "        if bool(re.match(\"[A-Z]{4} [0-9]{4}E\", course_title)):\n",
    "            course_titles.append(course_title)\n",
    "            print(course_titles[-1])\n",
    "            counter += 1\n",
    "    start = start.next_element"
   ]
  },
  {
   "cell_type": "code",
   "execution_count": 21,
   "metadata": {},
   "outputs": [
    {
     "data": {
      "text/plain": [
       "42"
      ]
     },
     "execution_count": 21,
     "metadata": {},
     "output_type": "execute_result"
    }
   ],
   "source": [
    "counter"
   ]
  },
  {
   "cell_type": "markdown",
   "metadata": {},
   "source": [
    "# 2. Scrape course descriptions from courses website"
   ]
  },
  {
   "cell_type": "code",
   "execution_count": 22,
   "metadata": {},
   "outputs": [],
   "source": [
    "url = \"https://laurentian.ca/courses\""
   ]
  },
  {
   "cell_type": "code",
   "execution_count": 23,
   "metadata": {},
   "outputs": [],
   "source": [
    "chrome_options = webdriver.ChromeOptions()\n",
    "chrome_options.add_argument('--ignore-certificate-errors')\n",
    "chrome_options.add_argument('--incognito')\n",
    "#chrome_options.add_argument('--headless')\n",
    "\n",
    "driver = webdriver.Chrome(\"C:\\\\Users\\\\jerry\\\\Downloads\\\\chromedriver\", options=chrome_options)"
   ]
  },
  {
   "cell_type": "code",
   "execution_count": 24,
   "metadata": {},
   "outputs": [],
   "source": [
    "driver.get(url)"
   ]
  },
  {
   "cell_type": "code",
   "execution_count": 25,
   "metadata": {},
   "outputs": [],
   "source": [
    "page_soup = soup(driver.page_source, 'lxml')"
   ]
  },
  {
   "cell_type": "markdown",
   "metadata": {},
   "source": [
    "### Test run to see how things work:"
   ]
  },
  {
   "cell_type": "code",
   "execution_count": 27,
   "metadata": {},
   "outputs": [],
   "source": [
    "driver.find_elements_by_tag_name(\"input\")[1].send_keys(course_titles[0])"
   ]
  },
  {
   "cell_type": "code",
   "execution_count": 28,
   "metadata": {},
   "outputs": [],
   "source": [
    "#opens course page in a new tab. Need to switch webdriver to that tab\n",
    "driver.find_element_by_link_text(\"More Info\").click()"
   ]
  },
  {
   "cell_type": "code",
   "execution_count": 29,
   "metadata": {},
   "outputs": [
    {
     "data": {
      "text/plain": [
       "'https://laurentian.ca/courses'"
      ]
     },
     "execution_count": 29,
     "metadata": {},
     "output_type": "execute_result"
    }
   ],
   "source": [
    "driver.current_url"
   ]
  },
  {
   "cell_type": "code",
   "execution_count": 30,
   "metadata": {},
   "outputs": [
    {
     "data": {
      "text/plain": [
       "'CDwindow-E11ACD771DAFC170A7637D50F157B1FF'"
      ]
     },
     "execution_count": 30,
     "metadata": {},
     "output_type": "execute_result"
    }
   ],
   "source": [
    "driver.current_window_handle"
   ]
  },
  {
   "cell_type": "code",
   "execution_count": 31,
   "metadata": {},
   "outputs": [
    {
     "data": {
      "text/plain": [
       "['CDwindow-E11ACD771DAFC170A7637D50F157B1FF',\n",
       " 'CDwindow-DE1C33DAD04BDE67FDD9117154147CFE']"
      ]
     },
     "execution_count": 31,
     "metadata": {},
     "output_type": "execute_result"
    }
   ],
   "source": [
    "driver.window_handles"
   ]
  },
  {
   "cell_type": "code",
   "execution_count": 32,
   "metadata": {},
   "outputs": [],
   "source": [
    "driver.switch_to.window(driver.window_handles[1])"
   ]
  },
  {
   "cell_type": "code",
   "execution_count": 33,
   "metadata": {},
   "outputs": [
    {
     "data": {
      "text/plain": [
       "'https://laurentian.ca/course/CHMI-1006EL'"
      ]
     },
     "execution_count": 33,
     "metadata": {},
     "output_type": "execute_result"
    }
   ],
   "source": [
    "driver.current_url"
   ]
  },
  {
   "cell_type": "code",
   "execution_count": 34,
   "metadata": {},
   "outputs": [
    {
     "data": {
      "text/plain": [
       "'CDwindow-DE1C33DAD04BDE67FDD9117154147CFE'"
      ]
     },
     "execution_count": 34,
     "metadata": {},
     "output_type": "execute_result"
    }
   ],
   "source": [
    "driver.current_window_handle"
   ]
  },
  {
   "cell_type": "code",
   "execution_count": 35,
   "metadata": {},
   "outputs": [
    {
     "data": {
      "text/plain": [
       "'General Chemistry I'"
      ]
     },
     "execution_count": 35,
     "metadata": {},
     "output_type": "execute_result"
    }
   ],
   "source": [
    "page_soup = soup(driver.page_source, 'lxml')\n",
    "container = page_soup.find(\"div\", {\"class\": \"region region-content\"}).find(\"div\", {\"class\": \"container\"})\n",
    "course_name = container.h1.text.strip()\n",
    "course_name"
   ]
  },
  {
   "cell_type": "code",
   "execution_count": 36,
   "metadata": {},
   "outputs": [
    {
     "data": {
      "text/plain": [
       "'This course provides an introduction to the fundamental principles of chemistry. Topics include atomic and molecular structure, nuclear chemistry, stoichiometry, the periodic table and periodicity, and the properties of solutions. '"
      ]
     },
     "execution_count": 36,
     "metadata": {},
     "output_type": "execute_result"
    }
   ],
   "source": [
    "course_desc = container.find(\"p\").text.strip().split(\"PREREQ:\")[0]\n",
    "course_desc"
   ]
  },
  {
   "cell_type": "code",
   "execution_count": 51,
   "metadata": {},
   "outputs": [],
   "source": [
    "driver.close()"
   ]
  },
  {
   "cell_type": "code",
   "execution_count": 52,
   "metadata": {},
   "outputs": [
    {
     "data": {
      "text/plain": [
       "['CDwindow-C05A100A7DED525D13F93FF38B77DD99']"
      ]
     },
     "execution_count": 52,
     "metadata": {},
     "output_type": "execute_result"
    }
   ],
   "source": [
    "driver.window_handles"
   ]
  },
  {
   "cell_type": "code",
   "execution_count": 53,
   "metadata": {},
   "outputs": [],
   "source": [
    "driver.switch_to.window(driver.window_handles[0])"
   ]
  },
  {
   "cell_type": "code",
   "execution_count": 54,
   "metadata": {},
   "outputs": [
    {
     "data": {
      "text/plain": [
       "'https://laurentian.ca/course/ENGR-1056EL'"
      ]
     },
     "execution_count": 54,
     "metadata": {},
     "output_type": "execute_result"
    }
   ],
   "source": [
    "driver.current_url"
   ]
  },
  {
   "cell_type": "code",
   "execution_count": 41,
   "metadata": {},
   "outputs": [],
   "source": [
    "driver.find_elements_by_tag_name(\"input\")[1].clear()"
   ]
  },
  {
   "cell_type": "code",
   "execution_count": 43,
   "metadata": {},
   "outputs": [],
   "source": [
    "driver.find_elements_by_tag_name(\"input\")[1].send_keys(course_titles[1])"
   ]
  },
  {
   "cell_type": "code",
   "execution_count": 57,
   "metadata": {},
   "outputs": [],
   "source": [
    "driver.find_elements_by_tag_name(\"input\")[1].clear()"
   ]
  },
  {
   "cell_type": "markdown",
   "metadata": {},
   "source": [
    "### Test run complete. Automation Script Below:"
   ]
  },
  {
   "cell_type": "code",
   "execution_count": 55,
   "metadata": {},
   "outputs": [],
   "source": [
    "driver.get(url)"
   ]
  },
  {
   "cell_type": "code",
   "execution_count": 58,
   "metadata": {
    "scrolled": true
   },
   "outputs": [
    {
     "name": "stdout",
     "output_type": "stream",
     "text": [
      "scraped  CHMI 1006E\n",
      "scraped  ENGR 1007E\n",
      "scraped  ENGR 1056E\n",
      "scraped  MATH 1036E\n",
      "scraped  PHYS 1006E\n",
      "scraped  ENGR 1016E\n",
      "scraped  ENGR 1017E\n",
      "scraped  ENGR 1057E\n",
      "scraped  MATH 1037E\n",
      "scraped  MATH 1057E\n",
      "scraped  PHYS 1007E\n",
      "scraped  COSC 1046E\n",
      "scraped  ENGR 2026E\n",
      "scraped  ENGR 2036E\n",
      "scraped  ENGR 2076E\n",
      "scraped  MATH 2066E\n",
      "scraped  COSC 1047E\n",
      "scraped  ENGR 2097E\n",
      "scraped  ENGR 2506E\n",
      "scraped  ENGR 2537E\n",
      "scraped  ENGR 2587E\n",
      "scraped  STAT 2246E\n",
      "scraped  ENGR 3426E\n",
      "scraped  ENGR 3526E\n",
      "scraped  ENGR 3536E\n",
      "scraped  ENGR 3546E\n",
      "scraped  ENGR 3556E\n",
      "scraped  ENGR 3327E\n",
      "scraped  ENGR 3507E\n",
      "scraped  ENGR 3516E\n",
      "scraped  ENGR 3517E\n",
      "scraped  ENGR 3547E\n",
      "scraped  MATH 3416E\n",
      "scraped  ENGR 3446E\n",
      "scraped  ENGR 4126E\n",
      "scraped  ENGR 4526E\n",
      "scraped  ENGR 4566E\n",
      "scraped  ENGR 4595E\n",
      "scraped  ENGR 3566E\n",
      "scraped  ENGR 4117E\n",
      "scraped  ENGR 4547E\n",
      "scraped  ENGR 4595E\n",
      "42\n"
     ]
    }
   ],
   "source": [
    "from selenium.common.exceptions import NoSuchElementException\n",
    "\n",
    "course_names = []\n",
    "course_descs = []\n",
    "course_codes = []\n",
    "counter = 0\n",
    "\n",
    "for course_title in course_titles:\n",
    "    \n",
    "    #type in search box\n",
    "    driver.find_elements_by_tag_name(\"input\")[1].send_keys(course_title)\n",
    "    time.sleep(1)\n",
    "    \n",
    "    #click on course link\n",
    "    try:\n",
    "        driver.find_element_by_link_text(\"More Info\").click()\n",
    "        time.sleep(3)\n",
    "    except NoSuchElementException:\n",
    "        driver.find_elements_by_tag_name(\"input\")[1].clear()\n",
    "        time.sleep(1)\n",
    "        driver.find_elements_by_tag_name(\"input\")[1].send_keys(\" \".join(course_title.split()[:2]))\n",
    "        time.sleep(1)\n",
    "        driver.find_element_by_link_text(\"More Info\").click()\n",
    "        time.sleep(3)\n",
    "    \n",
    "    #switch to new tab\n",
    "    driver.switch_to.window(driver.window_handles[1])\n",
    "    time.sleep(2)\n",
    "    \n",
    "    #get html and scrape\n",
    "    page_soup = soup(driver.page_source, 'lxml')\n",
    "    container = page_soup.find(\"div\", {\"class\": \"region region-content\"}).find(\"div\", {\"class\": \"container\"})\n",
    "    \n",
    "    course_name = container.h1.text.strip()\n",
    "    course_desc = container.find(\"p\").text.strip().split(\"PREREQ:\")[0]\n",
    "    course_code = \" \".join(course_title.split()[:2])\n",
    "    \n",
    "    course_names.append(course_name)\n",
    "    course_descs.append(course_desc)\n",
    "    course_codes.append(course_code)\n",
    "    \n",
    "    counter += 1\n",
    "    print(\"scraped \", course_codes[-1])\n",
    "    \n",
    "    #close tab\n",
    "    driver.close()\n",
    "    time.sleep(1)\n",
    "    \n",
    "    #switch to original tab\n",
    "    driver.switch_to.window(driver.window_handles[0])\n",
    "    time.sleep(1)\n",
    "    \n",
    "    #clear search box\n",
    "    driver.find_elements_by_tag_name(\"input\")[1].clear()\n",
    "    time.sleep(1)\n",
    "    \n",
    "print(counter)"
   ]
  },
  {
   "cell_type": "markdown",
   "metadata": {},
   "source": [
    "# 3. Inspect and write to CSV"
   ]
  },
  {
   "cell_type": "code",
   "execution_count": 59,
   "metadata": {
    "scrolled": true
   },
   "outputs": [
    {
     "data": {
      "text/plain": [
       "['CHMI 1006E',\n",
       " 'ENGR 1007E',\n",
       " 'ENGR 1056E',\n",
       " 'MATH 1036E',\n",
       " 'PHYS 1006E',\n",
       " 'ENGR 1016E',\n",
       " 'ENGR 1017E',\n",
       " 'ENGR 1057E',\n",
       " 'MATH 1037E',\n",
       " 'MATH 1057E',\n",
       " 'PHYS 1007E',\n",
       " 'COSC 1046E',\n",
       " 'ENGR 2026E',\n",
       " 'ENGR 2036E',\n",
       " 'ENGR 2076E',\n",
       " 'MATH 2066E',\n",
       " 'COSC 1047E',\n",
       " 'ENGR 2097E',\n",
       " 'ENGR 2506E',\n",
       " 'ENGR 2537E',\n",
       " 'ENGR 2587E',\n",
       " 'STAT 2246E',\n",
       " 'ENGR 3426E',\n",
       " 'ENGR 3526E',\n",
       " 'ENGR 3536E',\n",
       " 'ENGR 3546E',\n",
       " 'ENGR 3556E',\n",
       " 'ENGR 3327E',\n",
       " 'ENGR 3507E',\n",
       " 'ENGR 3516E',\n",
       " 'ENGR 3517E',\n",
       " 'ENGR 3547E',\n",
       " 'MATH 3416E',\n",
       " 'ENGR 3446E',\n",
       " 'ENGR 4126E',\n",
       " 'ENGR 4526E',\n",
       " 'ENGR 4566E',\n",
       " 'ENGR 4595E',\n",
       " 'ENGR 3566E',\n",
       " 'ENGR 4117E',\n",
       " 'ENGR 4547E',\n",
       " 'ENGR 4595E']"
      ]
     },
     "execution_count": 59,
     "metadata": {},
     "output_type": "execute_result"
    }
   ],
   "source": [
    "course_codes"
   ]
  },
  {
   "cell_type": "code",
   "execution_count": 60,
   "metadata": {
    "scrolled": true
   },
   "outputs": [
    {
     "data": {
      "text/plain": [
       "['General Chemistry I',\n",
       " 'Engineering Graphics and Design',\n",
       " 'Applied Mechanics I',\n",
       " 'Calculus I',\n",
       " 'Introductory Physics I',\n",
       " 'Engineering Communications',\n",
       " 'Computer Aided Design',\n",
       " 'Applied Mechanics II',\n",
       " 'Calculus II',\n",
       " 'Linear Algebra I',\n",
       " 'Introductory Physics II',\n",
       " 'Computer Science 1',\n",
       " 'Engineering Materials',\n",
       " 'Engineering Thermodynamics I',\n",
       " 'Mechanics and Strength of Materials I',\n",
       " 'Introduction to Differential Equations',\n",
       " 'Computer Science II',\n",
       " 'Fluid Mechanics I',\n",
       " 'Dynamics',\n",
       " 'Engineering Thermodynamics II',\n",
       " 'Mechanics and Strength of Materials II',\n",
       " 'Statistics for Scientists',\n",
       " 'Engineering Economics',\n",
       " 'Fluid Mechanics II',\n",
       " 'Materials and Manufacturing',\n",
       " 'System Modeling and Simulation',\n",
       " 'Electromechanical Actuators',\n",
       " 'Mine Ventilation',\n",
       " 'Finite Element Methods',\n",
       " 'Vibrations and Dynamic Systems',\n",
       " 'Machine Design',\n",
       " 'Control Systems',\n",
       " 'Numerical Methods I',\n",
       " 'Heat Transfer',\n",
       " 'Engineering Seminar',\n",
       " 'Sensors and Instrumentation',\n",
       " 'Fluids Power Systems',\n",
       " 'Mechanical Engineering Design Project',\n",
       " 'Biomechanics of Living Tissues',\n",
       " 'Engineering,Technology and Society',\n",
       " 'Robot Manipulation',\n",
       " 'Mechanical Engineering Design Project']"
      ]
     },
     "execution_count": 60,
     "metadata": {},
     "output_type": "execute_result"
    }
   ],
   "source": [
    "course_names"
   ]
  },
  {
   "cell_type": "code",
   "execution_count": 61,
   "metadata": {
    "scrolled": true
   },
   "outputs": [
    {
     "data": {
      "text/plain": [
       "['This course provides an introduction to the fundamental principles of chemistry. Topics include atomic and molecular structure, nuclear chemistry, stoichiometry, the periodic table and periodicity, and the properties of solutions. ',\n",
       " 'This course develops abilities for three-dimensional visualization and introduces the standards employed in graphical communication and engineering design. Drawings are prepared by freehand sketching and commercial computer-aided drafting and design (CADD) programs. Drafting procedures and standards for major engineering disciplines are described and explained, including orthographic, sectional and pictorial views, dimensional, descriptive geometry, tolerances, working drawings and flowcharts. A group design project is conducted for student production of a 3-dimensional computer model of the design, in addition to a set of working drawings. (lec 2, lab 2) cr 3.',\n",
       " 'Topics include statics of particles, rigid bodies, equilibrium, centroid and centre of gravity, structures and frames, friction, and second moment of area. (lec 3, tut 1) cr 3. Lecture (3.00).',\n",
       " \"This is a problem-solving course which includes an extensive treatment of differential calculus and an introduction to integral calculus. Topics include limits, continuity, differentiation, standard functions, Taylor polynomial approximation, indeterminate forms and Hospital's rules, and practical applications. The course concludes with summation, integration, techniques of integration and the calculation of areas and volumes. \",\n",
       " 'This is the first of two courses in introductory physics. The course covers mechanics (dynamics and kinematics), vectors and energy, properties of matter, heat and thermodynamics, and waves. (lec 3, lab 3) cr 3. Students may not retain credit for both PHYS 1006 and PHYS 1206.',\n",
       " 'This course offers an introduction to oral and written communication in engineering. The course requires the writing of memos, letters, proposals and engineering reports. Oral presentations are required. (lec 2, tut 3) cr 3. Lecture (3.00).',\n",
       " 'Computer-aided design (CAD) is a tool that is central to modern Mechanical Engineering design practice. CAD involves the use of interactive computer graphics to create and analyse mechanical designs. Students will develop an understanding of CAD concepts through lectures, hands-on class assignments and a term project. Students will use a commercial CAD software package to put theory into practice. ',\n",
       " \"Topics include kinematics and kinetics of particles, Newton's Second Law, work and energy, impulse and momentum, conservation of energy, conservation of angular momentum, systems of particles, and rotational kinematics of rigid bodies. \",\n",
       " 'This course begins with further techniques of integration, approximate integration, improper integrals and techniques for solving some simple first-order differential equations. This is followed by parametric and polar curves, and calculations of arc length, surface area and volume. Sequences, series, power series and Taylor series are then introduced. The course concludes with elementary aspects of functions of several variables. ',\n",
       " 'Topics include simultaneous linear equations, matrices and determinants, vector spaces and linear transformations, eigenvalues and eigenvectors, applications to analytic geometry, and complex numbers. ',\n",
       " 'This is the second of two courses in introductory physics. The course covers geometrical optics, electricity and magnetism,  and modern physics. ',\n",
       " 'This course introduces problem analysis and structured program design. Control structures for conditional execution, repeated execution, subprograms and recursion are examined. Representation of information, including homogeneous and non-homogeneous linear data structures and files, is investigated. ',\n",
       " 'This course introduces the mechanical, chemical, electrical and thermal properties of materials. It examines the structure and properties of metals and alloys, polymeric and refractory materials. (lec 3, lab 1.5) cr 3. Lecture (3.00).',\n",
       " 'The basic concepts of engineering thermodynamics are introduced with their engineering applications in energy transformations and in the relation of energy to the state of matter. Fundamental laws, concepts and control mass and control volume analysis, which underlie all applications of energy conversion in engineering processes, are examined. ',\n",
       " 'This course is a study of stress, strain and stress-strain relations. Topics include mechanical properties of engineering materials; principal stresses (statically determinate and statically indeterminate members subjected to axial loads and torsion); shear force and bending moment diagrams; beam theory; eccentric loads; strain energy; pressure vessels; and failure theories. Laboratory experiments include tests for the evaluation of the mechanical properties of materials in tension, torsion, flexure, creep, impact and fatigue; and hardness tests and strain measurements. ',\n",
       " 'This course includes the treatment of first order differential equations, second order linear differential equations, higher order linear differential equations with constant coefficients, Taylor series solutions, and systems of first order linear DEs including matrix based methods. ',\n",
       " 'This course takes a software engineering approach to programming with particular attention on modularity, abstract data types, program specification, testing, documentation and maintenance. Emphasis is placed on software with reusable software libraries. Other topics include file input and output, recursion, text processing, graphical user interfaces and object-oriented program design, including classes, inheritance, and polymorphism. The course also introduces data structures including abstract data types, collection classes, and programming with generic types. ',\n",
       " 'This course is a study of the properties of fluids, continuity, energy and momentum equations, pipe flow, flow measurement, open-channel flow, pumps, and compressors. ',\n",
       " 'Topics include kinematics and kinetics of rigid bodies, forces and accelerations energy and momentum methods, principles of structural dynamics, and mechanical vibrations of one and two degrees of freedom. ',\n",
       " 'This course introduces some power and refrigeration cycles. It examines thermodynamic relations involving properties of state, thermodynamic properties of mixtures, P-V-T relations in gases and gaseous mixtures, equations of state, and properties of a system in equilibrium and their application to basic engineering processes. ',\n",
       " 'Topics include unsymmetrical and inelastic bending of beams; shear stresses in beams and shear centre; energy principles and virtual work; deflection of beams; statically indeterminate beams; buckling of columns; eccentrically loaded columns; introduction to design of beams and columns; and welded and bolted connections. Laboratory experiments include determination of principal stresses under combined loading, deflection of beams, unsymmetrical and inelastic bending, composite beams, buckling of columns and structural connections. ',\n",
       " 'The organization of data, discrete distributions (binominal, Poisson), continuous distributions (uniform, normal and skewed), and linear combinations of variables are studied. The techniques of hypothesis testing and interval estimation are applied to problems involving means, variances, proportions, frequency tables, regression, and correlation. Students are introduced to the use of statistical computer software. ',\n",
       " 'This course covers the mathematics of finance.Topics include engineering decision making, present worth analysis, cash flow analysis, annual equivalent worth analysis, rate of return analysis, depreciation and financial accounting, income taxes, inflation and economic analysis, methods of financing projects, replacement decisions, capital budgeting decisions, and economic analysis in the public sector. Sensitivity (uncertainty) and probabilistic (risk) analysis is also covered. PRE-REQ: a minimum of 36 credits.',\n",
       " 'This course covers the physical and mathematical principles in fundamental fluid mechanics. Topics include differential analysis, conservation equations, Navier-Stokes equations, inviscid flows, potential flows, viscous flows, boundary layers, drag and lift, compressible flows, turbomachinery, and computer solutions and applications. ',\n",
       " 'This course builds on materials topics with an emphasis on manufacturing processes involving metals, polymers and plastics. Topics include advantages and limitations of manufacturing processes; relative cost and production rates of competitive processes; computer-integrated manufacturing; and automation of manufacturing processes and systems and product design for manufacture. ',\n",
       " 'This course provides an overview of the modeling and simulation of dynamic systems.  Mathematical models of mechanical, electrical, electromechanical, thermal and fluid systems are obtained in differential equation form.  Alternative representations of dynamic system models are introduced, including transfer functions, block diagrams and the state-space formulation.  Methods based on the Laplace transform are used to compute the response of dynamic systems in analytical form.  Numerical simulations of system response are also performed using software tools such as MATLAB/SIMULINK®.  System response is represented in both the time and frequency domains and standard system characteristics and performance indices are defined.  Through lab exercises, dynamic systems are designed according to specified requirements and constraints.  ',\n",
       " 'This course begins with a review of circuit analysis, basic electromagntic theory and electromechanical energy conversion. The theory of operation of direct current motors and generators, transformers, induction motors, servo motors and stepper motors is covered. The course also explores different interfacing and power electronics circuits such as H bridges, power amplifiers and Pulse Width Modulation to control the speed and torque of the electromechanical actuators. The lab component of the course focuses on the performance assessment and characterization of electromechanical actuators and the design of power electonic systems for their control. ',\n",
       " 'The first part of the course deals with the basic principles of ventilation system design and quality and quantity control aspects of air. Selection of economic size of airways and auxiliary ventilation systems are studied. The second part deals with the theory and applications of ventilation fans, instrumentation, survey techniques and conditioning of air flows. The capture velocities of dust and balanced dust and fume control system design and efficiency of air filtering systems are examined. ',\n",
       " 'This course introduces the fundamental theory, methods, and process of finite element analysis in mechanical engineering. Contents include principle of virtual work, domain discretization, shape functions, isoparametric finite elements, element derivation and types, stiffness matrix, assembly procedure, boundary conditions, and solution methods. A commercial program will be utilized in tutorial demonstrations and course projects. ',\n",
       " 'This course is an introduction to mechanical vibration and dynamic systems. Topics include: free vibration of a system, harmonic motion, damping, stiffness, system modeling and vibration measurements. Students will also become familiar with the response of various vibration systems subject to a range of inputs, the design implications of vibration, design of vibration suppression and vibration based machine condition monitoring. ',\n",
       " 'This course addresses the synthesis of machine elements with a focus on the design process. Topics include static and fatigue analysis of materials and structures; design of welds and bolted connections; and design and analysis of fundamental mechanical machine elements such as bearings, springs and gears. ',\n",
       " 'This course deals with feedback control systems design and analysis with emphasis on mechanical engineering applications. Topics include transient and frequency response characteristics; system performance; control modes; stability of feedback systems; frequency response and root locus analysis; design of different types of controllers; and introduction to digital control systems. ',\n",
       " 'This course is a study of number system; errors and the numerical solution of non-linear equations; and systems of linear equations. Further topics include Lagrange interpolation and least-squares method; numerical integration and differentiation; and an introduction to the numerical solution of ordinary differential equations. ',\n",
       " 'This course focuses on the application of the principles of heat transfer to problems commonly encountered in engineering. The fundamentals of conduction, convection, radiation, heat exchangers and heat transfer with phase change are examined and applied. Both steady-state and transient regimes are addressed. ',\n",
       " 'The legal/ethical aspects of professional engineering are examined in a seminar format in an effort to further develop the communication skills of the student. Techniques for the effective written and oral presentation of technical material are reviewed and reinforced in practice. Students are required to prepare technical reports on assigned topics and to make oral presentations in a formal seminar environment on matters relating to technical writing, engineering law and professional practice. Treatment of the legal and ethical aspects of professional practice is supplemented by guest speakers and case studies. (sem 3, exp) cr 3. Restricted to 4th-year engineering students or minimum 72 credits.',\n",
       " 'This course presents techniques and devices for the measurement of physical quantities such as force, strain, pressure, temperature, fluid flow, position, velocity and acceleration. Topics include the selection and application of transducers; sensor models, calibration and dynamic response of measurement systems; signal conditioning, methods of data acquisition and recording; uncertainty analysis; and the design of measurement systems. The laboratory provides experience with practical measurements, calibration of sensors, and data analysis. ',\n",
       " 'This course covers the transmission and control of forces and movement by means of fluid. Relevant fluid mechanics principles are reviewed. Principles of operation and design of individual components are covered, including hydraulic pumps, valves, cylinders, motors, and related accessories such as filters and tanks. The design and function of hydraulic and pneumatic circuits are discussed including hydraulics for machine tools, press machines, and mining machinery. ',\n",
       " 'This final year project integrates mechanical engineering courses from previous semesters in a design-related topic. ',\n",
       " 'This course explores biomechanics, with a focus on the mechanical behaviour of biological tissues such as bone, cartilage, muscle, and tendon. The course examines experimental techniques for quantifying mechanical behaviour and the unique technical challenges associated with testing biological materials. Various constitutive modeling approaches for predicting tissue behaviour are also covered such as orthotropy, hyperelasticity, and viscoelasticity. ',\n",
       " \"The interdependence of technology and society is analyzed. Topics include the nature of technological change and its consequences, the engineer's role in the control of technology, and professionalism and ethical issues. (lec 3) cr 3. Restricted to 4th-year engineering students or minimum 90 credits.\",\n",
       " \"This course presents techniques for the analysis and design of robotic systems. Topics include joints and manipulator's mechanisms; vectors and coordinate systems; forward and inverse position and velocity analysis of serial manipulators; trajectory planning for manipulators; dynamics equation of robotic manipulators; and PID position controllers of manipulators. The physical laboratories will provide experience with working with commercial robotic manipulators. \",\n",
       " 'This final year project integrates mechanical engineering courses from previous semesters in a design-related topic. ']"
      ]
     },
     "execution_count": 61,
     "metadata": {},
     "output_type": "execute_result"
    }
   ],
   "source": [
    "course_descs"
   ]
  },
  {
   "cell_type": "code",
   "execution_count": 64,
   "metadata": {},
   "outputs": [
    {
     "data": {
      "text/plain": [
       "41"
      ]
     },
     "execution_count": 64,
     "metadata": {},
     "output_type": "execute_result"
    }
   ],
   "source": [
    "len(list(dict.fromkeys(course_descs)))"
   ]
  },
  {
   "cell_type": "markdown",
   "metadata": {},
   "source": [
    "eliminate a duplicate engineering design project course that's repeated over two terms."
   ]
  },
  {
   "cell_type": "code",
   "execution_count": 65,
   "metadata": {},
   "outputs": [],
   "source": [
    "course_codes = list(dict.fromkeys(course_codes))\n",
    "course_names = list(dict.fromkeys(course_names))\n",
    "course_descs = list(dict.fromkeys(course_descs))"
   ]
  },
  {
   "cell_type": "code",
   "execution_count": 66,
   "metadata": {
    "scrolled": true
   },
   "outputs": [
    {
     "data": {
      "text/html": [
       "<div>\n",
       "<style scoped>\n",
       "    .dataframe tbody tr th:only-of-type {\n",
       "        vertical-align: middle;\n",
       "    }\n",
       "\n",
       "    .dataframe tbody tr th {\n",
       "        vertical-align: top;\n",
       "    }\n",
       "\n",
       "    .dataframe thead th {\n",
       "        text-align: right;\n",
       "    }\n",
       "</style>\n",
       "<table border=\"1\" class=\"dataframe\">\n",
       "  <thead>\n",
       "    <tr style=\"text-align: right;\">\n",
       "      <th></th>\n",
       "      <th>Course Number</th>\n",
       "      <th>Course Name</th>\n",
       "      <th>Course Description</th>\n",
       "    </tr>\n",
       "  </thead>\n",
       "  <tbody>\n",
       "    <tr>\n",
       "      <th>0</th>\n",
       "      <td>CHMI 1006E</td>\n",
       "      <td>General Chemistry I</td>\n",
       "      <td>This course provides an introduction to the fu...</td>\n",
       "    </tr>\n",
       "    <tr>\n",
       "      <th>1</th>\n",
       "      <td>ENGR 1007E</td>\n",
       "      <td>Engineering Graphics and Design</td>\n",
       "      <td>This course develops abilities for three-dimen...</td>\n",
       "    </tr>\n",
       "    <tr>\n",
       "      <th>2</th>\n",
       "      <td>ENGR 1056E</td>\n",
       "      <td>Applied Mechanics I</td>\n",
       "      <td>Topics include statics of particles, rigid bod...</td>\n",
       "    </tr>\n",
       "    <tr>\n",
       "      <th>3</th>\n",
       "      <td>MATH 1036E</td>\n",
       "      <td>Calculus I</td>\n",
       "      <td>This is a problem-solving course which include...</td>\n",
       "    </tr>\n",
       "    <tr>\n",
       "      <th>4</th>\n",
       "      <td>PHYS 1006E</td>\n",
       "      <td>Introductory Physics I</td>\n",
       "      <td>This is the first of two courses in introducto...</td>\n",
       "    </tr>\n",
       "    <tr>\n",
       "      <th>5</th>\n",
       "      <td>ENGR 1016E</td>\n",
       "      <td>Engineering Communications</td>\n",
       "      <td>This course offers an introduction to oral and...</td>\n",
       "    </tr>\n",
       "    <tr>\n",
       "      <th>6</th>\n",
       "      <td>ENGR 1017E</td>\n",
       "      <td>Computer Aided Design</td>\n",
       "      <td>Computer-aided design (CAD) is a tool that is ...</td>\n",
       "    </tr>\n",
       "    <tr>\n",
       "      <th>7</th>\n",
       "      <td>ENGR 1057E</td>\n",
       "      <td>Applied Mechanics II</td>\n",
       "      <td>Topics include kinematics and kinetics of part...</td>\n",
       "    </tr>\n",
       "    <tr>\n",
       "      <th>8</th>\n",
       "      <td>MATH 1037E</td>\n",
       "      <td>Calculus II</td>\n",
       "      <td>This course begins with further techniques of ...</td>\n",
       "    </tr>\n",
       "    <tr>\n",
       "      <th>9</th>\n",
       "      <td>MATH 1057E</td>\n",
       "      <td>Linear Algebra I</td>\n",
       "      <td>Topics include simultaneous linear equations, ...</td>\n",
       "    </tr>\n",
       "    <tr>\n",
       "      <th>10</th>\n",
       "      <td>PHYS 1007E</td>\n",
       "      <td>Introductory Physics II</td>\n",
       "      <td>This is the second of two courses in introduct...</td>\n",
       "    </tr>\n",
       "    <tr>\n",
       "      <th>11</th>\n",
       "      <td>COSC 1046E</td>\n",
       "      <td>Computer Science 1</td>\n",
       "      <td>This course introduces problem analysis and st...</td>\n",
       "    </tr>\n",
       "    <tr>\n",
       "      <th>12</th>\n",
       "      <td>ENGR 2026E</td>\n",
       "      <td>Engineering Materials</td>\n",
       "      <td>This course introduces the mechanical, chemica...</td>\n",
       "    </tr>\n",
       "    <tr>\n",
       "      <th>13</th>\n",
       "      <td>ENGR 2036E</td>\n",
       "      <td>Engineering Thermodynamics I</td>\n",
       "      <td>The basic concepts of engineering thermodynami...</td>\n",
       "    </tr>\n",
       "    <tr>\n",
       "      <th>14</th>\n",
       "      <td>ENGR 2076E</td>\n",
       "      <td>Mechanics and Strength of Materials I</td>\n",
       "      <td>This course is a study of stress, strain and s...</td>\n",
       "    </tr>\n",
       "    <tr>\n",
       "      <th>15</th>\n",
       "      <td>MATH 2066E</td>\n",
       "      <td>Introduction to Differential Equations</td>\n",
       "      <td>This course includes the treatment of first or...</td>\n",
       "    </tr>\n",
       "    <tr>\n",
       "      <th>16</th>\n",
       "      <td>COSC 1047E</td>\n",
       "      <td>Computer Science II</td>\n",
       "      <td>This course takes a software engineering appro...</td>\n",
       "    </tr>\n",
       "    <tr>\n",
       "      <th>17</th>\n",
       "      <td>ENGR 2097E</td>\n",
       "      <td>Fluid Mechanics I</td>\n",
       "      <td>This course is a study of the properties of fl...</td>\n",
       "    </tr>\n",
       "    <tr>\n",
       "      <th>18</th>\n",
       "      <td>ENGR 2506E</td>\n",
       "      <td>Dynamics</td>\n",
       "      <td>Topics include kinematics and kinetics of rigi...</td>\n",
       "    </tr>\n",
       "    <tr>\n",
       "      <th>19</th>\n",
       "      <td>ENGR 2537E</td>\n",
       "      <td>Engineering Thermodynamics II</td>\n",
       "      <td>This course introduces some power and refriger...</td>\n",
       "    </tr>\n",
       "    <tr>\n",
       "      <th>20</th>\n",
       "      <td>ENGR 2587E</td>\n",
       "      <td>Mechanics and Strength of Materials II</td>\n",
       "      <td>Topics include unsymmetrical and inelastic ben...</td>\n",
       "    </tr>\n",
       "    <tr>\n",
       "      <th>21</th>\n",
       "      <td>STAT 2246E</td>\n",
       "      <td>Statistics for Scientists</td>\n",
       "      <td>The organization of data, discrete distributio...</td>\n",
       "    </tr>\n",
       "    <tr>\n",
       "      <th>22</th>\n",
       "      <td>ENGR 3426E</td>\n",
       "      <td>Engineering Economics</td>\n",
       "      <td>This course covers the mathematics of finance....</td>\n",
       "    </tr>\n",
       "    <tr>\n",
       "      <th>23</th>\n",
       "      <td>ENGR 3526E</td>\n",
       "      <td>Fluid Mechanics II</td>\n",
       "      <td>This course covers the physical and mathematic...</td>\n",
       "    </tr>\n",
       "    <tr>\n",
       "      <th>24</th>\n",
       "      <td>ENGR 3536E</td>\n",
       "      <td>Materials and Manufacturing</td>\n",
       "      <td>This course builds on materials topics with an...</td>\n",
       "    </tr>\n",
       "    <tr>\n",
       "      <th>25</th>\n",
       "      <td>ENGR 3546E</td>\n",
       "      <td>System Modeling and Simulation</td>\n",
       "      <td>This course provides an overview of the modeli...</td>\n",
       "    </tr>\n",
       "    <tr>\n",
       "      <th>26</th>\n",
       "      <td>ENGR 3556E</td>\n",
       "      <td>Electromechanical Actuators</td>\n",
       "      <td>This course begins with a review of circuit an...</td>\n",
       "    </tr>\n",
       "    <tr>\n",
       "      <th>27</th>\n",
       "      <td>ENGR 3327E</td>\n",
       "      <td>Mine Ventilation</td>\n",
       "      <td>The first part of the course deals with the ba...</td>\n",
       "    </tr>\n",
       "    <tr>\n",
       "      <th>28</th>\n",
       "      <td>ENGR 3507E</td>\n",
       "      <td>Finite Element Methods</td>\n",
       "      <td>This course introduces the fundamental theory,...</td>\n",
       "    </tr>\n",
       "    <tr>\n",
       "      <th>29</th>\n",
       "      <td>ENGR 3516E</td>\n",
       "      <td>Vibrations and Dynamic Systems</td>\n",
       "      <td>This course is an introduction to mechanical v...</td>\n",
       "    </tr>\n",
       "    <tr>\n",
       "      <th>30</th>\n",
       "      <td>ENGR 3517E</td>\n",
       "      <td>Machine Design</td>\n",
       "      <td>This course addresses the synthesis of machine...</td>\n",
       "    </tr>\n",
       "    <tr>\n",
       "      <th>31</th>\n",
       "      <td>ENGR 3547E</td>\n",
       "      <td>Control Systems</td>\n",
       "      <td>This course deals with feedback control system...</td>\n",
       "    </tr>\n",
       "    <tr>\n",
       "      <th>32</th>\n",
       "      <td>MATH 3416E</td>\n",
       "      <td>Numerical Methods I</td>\n",
       "      <td>This course is a study of number system; error...</td>\n",
       "    </tr>\n",
       "    <tr>\n",
       "      <th>33</th>\n",
       "      <td>ENGR 3446E</td>\n",
       "      <td>Heat Transfer</td>\n",
       "      <td>This course focuses on the application of the ...</td>\n",
       "    </tr>\n",
       "    <tr>\n",
       "      <th>34</th>\n",
       "      <td>ENGR 4126E</td>\n",
       "      <td>Engineering Seminar</td>\n",
       "      <td>The legal/ethical aspects of professional engi...</td>\n",
       "    </tr>\n",
       "    <tr>\n",
       "      <th>35</th>\n",
       "      <td>ENGR 4526E</td>\n",
       "      <td>Sensors and Instrumentation</td>\n",
       "      <td>This course presents techniques and devices fo...</td>\n",
       "    </tr>\n",
       "    <tr>\n",
       "      <th>36</th>\n",
       "      <td>ENGR 4566E</td>\n",
       "      <td>Fluids Power Systems</td>\n",
       "      <td>This course covers the transmission and contro...</td>\n",
       "    </tr>\n",
       "    <tr>\n",
       "      <th>37</th>\n",
       "      <td>ENGR 4595E</td>\n",
       "      <td>Mechanical Engineering Design Project</td>\n",
       "      <td>This final year project integrates mechanical ...</td>\n",
       "    </tr>\n",
       "    <tr>\n",
       "      <th>38</th>\n",
       "      <td>ENGR 3566E</td>\n",
       "      <td>Biomechanics of Living Tissues</td>\n",
       "      <td>This course explores biomechanics, with a focu...</td>\n",
       "    </tr>\n",
       "    <tr>\n",
       "      <th>39</th>\n",
       "      <td>ENGR 4117E</td>\n",
       "      <td>Engineering,Technology and Society</td>\n",
       "      <td>The interdependence of technology and society ...</td>\n",
       "    </tr>\n",
       "    <tr>\n",
       "      <th>40</th>\n",
       "      <td>ENGR 4547E</td>\n",
       "      <td>Robot Manipulation</td>\n",
       "      <td>This course presents techniques for the analys...</td>\n",
       "    </tr>\n",
       "  </tbody>\n",
       "</table>\n",
       "</div>"
      ],
      "text/plain": [
       "   Course Number                             Course Name  \\\n",
       "0     CHMI 1006E                     General Chemistry I   \n",
       "1     ENGR 1007E         Engineering Graphics and Design   \n",
       "2     ENGR 1056E                     Applied Mechanics I   \n",
       "3     MATH 1036E                              Calculus I   \n",
       "4     PHYS 1006E                  Introductory Physics I   \n",
       "5     ENGR 1016E              Engineering Communications   \n",
       "6     ENGR 1017E                   Computer Aided Design   \n",
       "7     ENGR 1057E                    Applied Mechanics II   \n",
       "8     MATH 1037E                             Calculus II   \n",
       "9     MATH 1057E                        Linear Algebra I   \n",
       "10    PHYS 1007E                 Introductory Physics II   \n",
       "11    COSC 1046E                      Computer Science 1   \n",
       "12    ENGR 2026E                   Engineering Materials   \n",
       "13    ENGR 2036E            Engineering Thermodynamics I   \n",
       "14    ENGR 2076E   Mechanics and Strength of Materials I   \n",
       "15    MATH 2066E  Introduction to Differential Equations   \n",
       "16    COSC 1047E                     Computer Science II   \n",
       "17    ENGR 2097E                       Fluid Mechanics I   \n",
       "18    ENGR 2506E                                Dynamics   \n",
       "19    ENGR 2537E           Engineering Thermodynamics II   \n",
       "20    ENGR 2587E  Mechanics and Strength of Materials II   \n",
       "21    STAT 2246E               Statistics for Scientists   \n",
       "22    ENGR 3426E                   Engineering Economics   \n",
       "23    ENGR 3526E                      Fluid Mechanics II   \n",
       "24    ENGR 3536E             Materials and Manufacturing   \n",
       "25    ENGR 3546E          System Modeling and Simulation   \n",
       "26    ENGR 3556E             Electromechanical Actuators   \n",
       "27    ENGR 3327E                        Mine Ventilation   \n",
       "28    ENGR 3507E                  Finite Element Methods   \n",
       "29    ENGR 3516E          Vibrations and Dynamic Systems   \n",
       "30    ENGR 3517E                          Machine Design   \n",
       "31    ENGR 3547E                         Control Systems   \n",
       "32    MATH 3416E                     Numerical Methods I   \n",
       "33    ENGR 3446E                           Heat Transfer   \n",
       "34    ENGR 4126E                     Engineering Seminar   \n",
       "35    ENGR 4526E             Sensors and Instrumentation   \n",
       "36    ENGR 4566E                    Fluids Power Systems   \n",
       "37    ENGR 4595E   Mechanical Engineering Design Project   \n",
       "38    ENGR 3566E          Biomechanics of Living Tissues   \n",
       "39    ENGR 4117E      Engineering,Technology and Society   \n",
       "40    ENGR 4547E                      Robot Manipulation   \n",
       "\n",
       "                                   Course Description  \n",
       "0   This course provides an introduction to the fu...  \n",
       "1   This course develops abilities for three-dimen...  \n",
       "2   Topics include statics of particles, rigid bod...  \n",
       "3   This is a problem-solving course which include...  \n",
       "4   This is the first of two courses in introducto...  \n",
       "5   This course offers an introduction to oral and...  \n",
       "6   Computer-aided design (CAD) is a tool that is ...  \n",
       "7   Topics include kinematics and kinetics of part...  \n",
       "8   This course begins with further techniques of ...  \n",
       "9   Topics include simultaneous linear equations, ...  \n",
       "10  This is the second of two courses in introduct...  \n",
       "11  This course introduces problem analysis and st...  \n",
       "12  This course introduces the mechanical, chemica...  \n",
       "13  The basic concepts of engineering thermodynami...  \n",
       "14  This course is a study of stress, strain and s...  \n",
       "15  This course includes the treatment of first or...  \n",
       "16  This course takes a software engineering appro...  \n",
       "17  This course is a study of the properties of fl...  \n",
       "18  Topics include kinematics and kinetics of rigi...  \n",
       "19  This course introduces some power and refriger...  \n",
       "20  Topics include unsymmetrical and inelastic ben...  \n",
       "21  The organization of data, discrete distributio...  \n",
       "22  This course covers the mathematics of finance....  \n",
       "23  This course covers the physical and mathematic...  \n",
       "24  This course builds on materials topics with an...  \n",
       "25  This course provides an overview of the modeli...  \n",
       "26  This course begins with a review of circuit an...  \n",
       "27  The first part of the course deals with the ba...  \n",
       "28  This course introduces the fundamental theory,...  \n",
       "29  This course is an introduction to mechanical v...  \n",
       "30  This course addresses the synthesis of machine...  \n",
       "31  This course deals with feedback control system...  \n",
       "32  This course is a study of number system; error...  \n",
       "33  This course focuses on the application of the ...  \n",
       "34  The legal/ethical aspects of professional engi...  \n",
       "35  This course presents techniques and devices fo...  \n",
       "36  This course covers the transmission and contro...  \n",
       "37  This final year project integrates mechanical ...  \n",
       "38  This course explores biomechanics, with a focu...  \n",
       "39  The interdependence of technology and society ...  \n",
       "40  This course presents techniques for the analys...  "
      ]
     },
     "execution_count": 66,
     "metadata": {},
     "output_type": "execute_result"
    }
   ],
   "source": [
    "import pandas as pd\n",
    "\n",
    "df = pd.DataFrame({\n",
    "    \n",
    "    \"Course Number\": course_codes,\n",
    "    \"Course Name\": course_names,\n",
    "    \"Course Description\": course_descs    \n",
    "    \n",
    "})\n",
    "\n",
    "df"
   ]
  },
  {
   "cell_type": "code",
   "execution_count": 67,
   "metadata": {},
   "outputs": [],
   "source": [
    "df.to_csv('Laurentian_MechEng_General_Core_(AllYears)_Courses.csv', index = False)"
   ]
  },
  {
   "cell_type": "code",
   "execution_count": 68,
   "metadata": {},
   "outputs": [],
   "source": [
    "driver.quit()"
   ]
  }
 ],
 "metadata": {
  "kernelspec": {
   "display_name": "Python 3",
   "language": "python",
   "name": "python3"
  },
  "language_info": {
   "codemirror_mode": {
    "name": "ipython",
    "version": 3
   },
   "file_extension": ".py",
   "mimetype": "text/x-python",
   "name": "python",
   "nbconvert_exporter": "python",
   "pygments_lexer": "ipython3",
   "version": "3.8.5"
  }
 },
 "nbformat": 4,
 "nbformat_minor": 4
}
