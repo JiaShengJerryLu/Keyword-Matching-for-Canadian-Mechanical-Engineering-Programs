{
 "cells": [
  {
   "cell_type": "code",
   "execution_count": 1,
   "metadata": {},
   "outputs": [],
   "source": [
    "from bs4 import BeautifulSoup as soup\n",
    "from urllib.request import urlopen as ureq\n",
    "from selenium import webdriver\n",
    "import time\n",
    "import re"
   ]
  },
  {
   "cell_type": "markdown",
   "metadata": {},
   "source": [
    "# 1. Get course codes from program page"
   ]
  },
  {
   "cell_type": "code",
   "execution_count": 2,
   "metadata": {},
   "outputs": [],
   "source": [
    "url = \"https://laurentian.ca/program/mechanical-engineering/details\""
   ]
  },
  {
   "cell_type": "code",
   "execution_count": 3,
   "metadata": {},
   "outputs": [],
   "source": [
    "uClient = ureq(url)\n",
    "page_html = uClient.read()\n",
    "uClient.close()\n",
    "page_soup = soup(page_html, \"html.parser\")"
   ]
  },
  {
   "cell_type": "code",
   "execution_count": 4,
   "metadata": {},
   "outputs": [
    {
     "data": {
      "text/plain": [
       "<strong>Mechanical Engineering Technical Electives – List A</strong>"
      ]
     },
     "execution_count": 4,
     "metadata": {},
     "output_type": "execute_result"
    }
   ],
   "source": [
    "start = page_soup.find(\"div\", {\"id\": \"options\"}).find(\"strong\", text=\"Mechanical Engineering Technical Electives – List A\")\n",
    "start"
   ]
  },
  {
   "cell_type": "code",
   "execution_count": 6,
   "metadata": {
    "scrolled": true
   },
   "outputs": [
    {
     "name": "stdout",
     "output_type": "stream",
     "text": [
      "COSC 2307E Database Programming\n",
      "COSC 2406E Assembly Language Programming\n",
      "ENGR 3126E Occupational Health Engineering\n",
      "ENGR 3157E Operations Research\n",
      "ENGR 3307E Materials Handling\n",
      "ENGR 3437E Water and Wastewater Treatment\n",
      "ENGR 3466E Environmental Impact of Process Industries\n",
      "ENGR 3477E Adsorption and Membrane Processes in Pollution Control\n",
      "ENGR 4157E Power Machines\n",
      "ENGR 4166E Aerospace Engineering Design\n",
      "ENGR 4187E Solid Waste Processing and Recycling in the Minerals Industry\n",
      "ENGR 4366E Automation and Reliability of Mining Equipment\n",
      "MATH 2037E Advanced Calculus\n",
      "MATH 2057E Linear Algebra II\n",
      "PHYS 2006E Introduction to Electricity and Electronics\n",
      "PHYS 3046E Mechanical Properties of Solids and Fluids\n",
      "BIOL 1506E Biology I\n",
      "BIOL 2356E Principles of Ecology\n",
      "CHMI 1007E General Chemistry II\n",
      "ENSC 1406E Earth’s Environmental Systems\n",
      "GEOL 1006E Introductory Geology I\n",
      "PHYS 2606E Biophysics of Fluids\n",
      "PHYS 2616E Physics of Hearing and Vision\n"
     ]
    }
   ],
   "source": [
    "import bs4\n",
    "\n",
    "course_titles = []\n",
    "counter = 0\n",
    "\n",
    "while start != \"Complementary Studies Electives\":\n",
    "    if type(start) is bs4.element.NavigableString:\n",
    "        course_title = \" \".join(re.split(\"\\s+\", start.strip()))\n",
    "        if bool(re.match(\"[A-Z]{4} [0-9]{4}E\", course_title)):\n",
    "            course_titles.append(course_title)\n",
    "            print(course_titles[-1])\n",
    "            counter += 1\n",
    "    start = start.next_element"
   ]
  },
  {
   "cell_type": "code",
   "execution_count": 7,
   "metadata": {},
   "outputs": [
    {
     "data": {
      "text/plain": [
       "23"
      ]
     },
     "execution_count": 7,
     "metadata": {},
     "output_type": "execute_result"
    }
   ],
   "source": [
    "counter"
   ]
  },
  {
   "cell_type": "markdown",
   "metadata": {},
   "source": [
    "# 2. Scrape course descriptions from courses website"
   ]
  },
  {
   "cell_type": "code",
   "execution_count": 8,
   "metadata": {},
   "outputs": [],
   "source": [
    "url = \"https://laurentian.ca/courses\""
   ]
  },
  {
   "cell_type": "code",
   "execution_count": 18,
   "metadata": {},
   "outputs": [],
   "source": [
    "chrome_options = webdriver.ChromeOptions()\n",
    "chrome_options.add_argument('--ignore-certificate-errors')\n",
    "chrome_options.add_argument('--incognito')\n",
    "#chrome_options.add_argument('--headless')\n",
    "\n",
    "driver = webdriver.Chrome(\"C:\\\\Users\\\\jerry\\\\Downloads\\\\chromedriver\", options=chrome_options)"
   ]
  },
  {
   "cell_type": "code",
   "execution_count": 19,
   "metadata": {},
   "outputs": [],
   "source": [
    "driver.get(url)"
   ]
  },
  {
   "cell_type": "code",
   "execution_count": 20,
   "metadata": {
    "scrolled": true
   },
   "outputs": [
    {
     "name": "stdout",
     "output_type": "stream",
     "text": [
      "scraped  COSC 2307E\n",
      "scraped  COSC 2406E\n",
      "scraped  ENGR 3126E\n",
      "scraped  ENGR 3157E\n",
      "scraped  ENGR 3307E\n",
      "scraped  ENGR 3437E\n",
      "scraped  ENGR 3466E\n",
      "scraped  ENGR 3477E\n",
      "Cannot find  ENGR 4157E Power Machines\n",
      "scraped  ENGR 4166E\n",
      "scraped  ENGR 4187E\n",
      "scraped  ENGR 4366E\n",
      "scraped  MATH 2037E\n",
      "scraped  MATH 2057E\n",
      "scraped  PHYS 2006E\n",
      "scraped  PHYS 3046E\n",
      "scraped  BIOL 1506E\n",
      "scraped  BIOL 2356E\n",
      "scraped  CHMI 1007E\n",
      "scraped  ENSC 1406E\n",
      "scraped  GEOL 1006E\n",
      "scraped  PHYS 2606E\n",
      "scraped  PHYS 2616E\n",
      "22\n"
     ]
    }
   ],
   "source": [
    "from selenium.common.exceptions import NoSuchElementException\n",
    "\n",
    "course_names = []\n",
    "course_descs = []\n",
    "course_codes = []\n",
    "counter = 0\n",
    "\n",
    "for course_title in course_titles:\n",
    "    \n",
    "    #type in search box\n",
    "    driver.find_elements_by_tag_name(\"input\")[1].send_keys(course_title)\n",
    "    time.sleep(1)\n",
    "    \n",
    "    #click on course link\n",
    "    try:\n",
    "        driver.find_element_by_link_text(\"More Info\").click()\n",
    "        time.sleep(3)\n",
    "    except NoSuchElementException:\n",
    "        driver.find_elements_by_tag_name(\"input\")[1].clear()\n",
    "        time.sleep(1)\n",
    "        driver.find_elements_by_tag_name(\"input\")[1].send_keys(\" \".join(course_title.split()[:2]))\n",
    "        time.sleep(1)\n",
    "        \n",
    "        try:\n",
    "            driver.find_element_by_link_text(\"More Info\").click()\n",
    "            time.sleep(3)\n",
    "        except NoSuchElementException:\n",
    "            print(\"Cannot find \", course_title)\n",
    "            driver.find_elements_by_tag_name(\"input\")[1].clear()\n",
    "            time.sleep(1)\n",
    "            continue\n",
    "    \n",
    "    #switch to new tab\n",
    "    driver.switch_to.window(driver.window_handles[1])\n",
    "    time.sleep(2)\n",
    "    \n",
    "    #get html and scrape\n",
    "    page_soup = soup(driver.page_source, 'lxml')\n",
    "    container = page_soup.find(\"div\", {\"class\": \"region region-content\"}).find(\"div\", {\"class\": \"container\"})\n",
    "    \n",
    "    course_name = container.h1.text.strip()\n",
    "    course_desc = container.find(\"p\").text.strip().split(\"PREREQ:\")[0]\n",
    "    course_code = \" \".join(course_title.split()[:2])\n",
    "    \n",
    "    course_names.append(course_name)\n",
    "    course_descs.append(course_desc)\n",
    "    course_codes.append(course_code)\n",
    "    \n",
    "    counter += 1\n",
    "    print(\"scraped \", course_codes[-1])\n",
    "    \n",
    "    #close tab\n",
    "    driver.close()\n",
    "    time.sleep(1)\n",
    "    \n",
    "    #switch to original tab\n",
    "    driver.switch_to.window(driver.window_handles[0])\n",
    "    time.sleep(1)\n",
    "    \n",
    "    #clear search box\n",
    "    driver.find_elements_by_tag_name(\"input\")[1].clear()\n",
    "    time.sleep(1)\n",
    "    \n",
    "print(counter)"
   ]
  },
  {
   "cell_type": "markdown",
   "metadata": {},
   "source": [
    "# 3. Inspect and write to CSV"
   ]
  },
  {
   "cell_type": "code",
   "execution_count": 21,
   "metadata": {
    "scrolled": false
   },
   "outputs": [
    {
     "data": {
      "text/plain": [
       "['COSC 2307E',\n",
       " 'COSC 2406E',\n",
       " 'ENGR 3126E',\n",
       " 'ENGR 3157E',\n",
       " 'ENGR 3307E',\n",
       " 'ENGR 3437E',\n",
       " 'ENGR 3466E',\n",
       " 'ENGR 3477E',\n",
       " 'ENGR 4166E',\n",
       " 'ENGR 4187E',\n",
       " 'ENGR 4366E',\n",
       " 'MATH 2037E',\n",
       " 'MATH 2057E',\n",
       " 'PHYS 2006E',\n",
       " 'PHYS 3046E',\n",
       " 'BIOL 1506E',\n",
       " 'BIOL 2356E',\n",
       " 'CHMI 1007E',\n",
       " 'ENSC 1406E',\n",
       " 'GEOL 1006E',\n",
       " 'PHYS 2606E',\n",
       " 'PHYS 2616E']"
      ]
     },
     "execution_count": 21,
     "metadata": {},
     "output_type": "execute_result"
    }
   ],
   "source": [
    "course_codes"
   ]
  },
  {
   "cell_type": "code",
   "execution_count": 22,
   "metadata": {},
   "outputs": [
    {
     "data": {
      "text/plain": [
       "['Database Programming',\n",
       " 'Assembly Language Programming',\n",
       " 'Occupational Health Engineering',\n",
       " 'Operations Research',\n",
       " 'Materials Handling',\n",
       " 'Water and Wastewater Treatment',\n",
       " 'Environmental Impact of Process Industries',\n",
       " 'Adsorption and Membrane Processes in Polution Control',\n",
       " 'Aerospace Engineering Design',\n",
       " 'Solid Waste Processing and Recycling in the Minerals Industry',\n",
       " 'Automation and Reliability of Mining Equipment',\n",
       " 'Advanced Calculus',\n",
       " 'Linear Algebra II',\n",
       " 'Introduction to Electricity and Electronics',\n",
       " 'Mechanical Properties of Solids and Fluids',\n",
       " 'Biology I',\n",
       " 'Principles of Ecology',\n",
       " 'General Chemistry II',\n",
       " \"Earth's Environmental Systems\",\n",
       " 'Introductory Geology I',\n",
       " 'Biophysics of Fluids',\n",
       " 'Physics of Hearing and Vision']"
      ]
     },
     "execution_count": 22,
     "metadata": {},
     "output_type": "execute_result"
    }
   ],
   "source": [
    "course_names"
   ]
  },
  {
   "cell_type": "code",
   "execution_count": 24,
   "metadata": {
    "scrolled": true
   },
   "outputs": [
    {
     "data": {
      "text/plain": [
       "['This course consists of data modelling, the E-R data model, normalization, database schema, SQL, single and multiple table queries, subqueries, updates, embedded SQL and report generation. ',\n",
       " 'This is an introduction to basic computer organization and instruction set architecture. Topics considered include: the instruction execution cycle, an overview of the assembly process, data representation, addressing modes, arrays and strings, translation of high-level language control structures, procedures, parameter passing, and recursion, macros and conditional assembly, interrupts and input/output, interfacing to high level languages, floating point processor architecture and instructions and code optimization techniques. ',\n",
       " 'This course examines occupational health problems encountered in industry; particularly those due to dusts, gases, ionizing and non-ionizing radiation, noise, heat stress and vibration. Methods of establishing safe threshold limit values for these human stressors and determining degree of compliance through measurement and engineering controls are investigated. The tripartite system established between worker, management and government to ensure a safe work environment is explored. ',\n",
       " 'This course deals with the fundamentals of applied operations research such as linear programming, networks, queuing theory, simulation, etc. Topics covered are applied with numerical examples and practical computer applications. ',\n",
       " 'This course examines materials handling technology, including that for bulk materials. The properties of bulk solids are examined and the design criteria for hoppers and feeders are developed. Belt, pneumatic and hydraulic conveying technologies are discussed. Open-pit and underground loading and hauling equipment, such as trucks, loaders, scooptrams and trains are also examined. (lec 3, lab 1.5) cr 3 ',\n",
       " 'This course examines unit operations and unit processes used in the treatment of industrial and municipal water and wastewater. Topics include wastewater characteristics, physical, chemical and biological processes, processing and treatment objectives and regulations, disposal of sludges, and disinfection. Design problems including pre- and primary treatment, secondary treatment and tertiary treatment processes will be studied. (lec 3) cr 3. Lecture (3.00).',\n",
       " 'This course examines general concepts of industrial ecology, including examples and case studies from chemical and metallurgical process industries with consideration of their impact on the environment. It also examines current process technologies and pollution control methods as well as environmental guidelines and regulations. (lec 3) cr 3. Lecture (3.00).',\n",
       " 'Topics include adsorption as a treatment process for pollution control in various industries; gas and liquid adsorption studies; fixed bed modelling and designing for gas and liquid adsorption systems; comparison of air and water adsorption systems; membranes for pollution control and applications in industry; new concepts in membrane utilization; and liquid and solid membranes processes and typical applications.  (lec 3) cr 3.',\n",
       " 'This course examines introductory concepts relevant to aerospace vehicles and their design.  Students develop their own solutions for an aerospace concept or vehicle and define a first-order design iteration.  The course also focuses on designing both aeronautical and aerospace systems, with special consideration to mission influence, design requirements and sizing, performance and load factors, and structural analysis.  ',\n",
       " 'This course introduces students to solid waste processing and recycling in the minerals industry (general outline and flow sheet), solid waste generation within the solid/liquid/gas systems common to the minerals industry, motion of solid particles in fluid in all flow regimes, classification of solid-liquid and solid-gas systems, definitions and inter-relationships of solids concentration parameters commonly used in industry, design of solid-liquid separation processes, case studies and  team projects involving advances in waste processing and recycling technologies. (lec 3) cr 3. Students may not retain credit for both ENGR 4187 and ENGR 5187.',\n",
       " 'This course is an introduction to the general topics of automation in mining and the reliability of mining equipment, with specific treatment of the fundamentals of robotics, kinematic sensors and guidance techniques. Maintenance policies for capital-intensive mining machinery are examined. (lec 3, lab 1.5) cr 3.',\n",
       " 'This course begins with a review of vectors, lines and planes. This is followed by a study of scalar functions of several variables including such topics as multiple integration, Jacobians, gradient and applications to curves, surfaces and volumes. Vector functions are studied with particular attention given to divergence, curl, the theorems of Green, Gauss and Stokes, and applications. ',\n",
       " 'This course begins with a review of matrix algebra and systems of linear equations, followed by abstract vector spaces and linear transformations including eigenvalues and eigenvectors, norms and inner products. Selected applications are included. ',\n",
       " 'Basic concepts in electricity are reviewed and applied to DC and AC network analysis, complex impedance, phasors, and reactance. Other topics include analogue and digital circuit theory and design principles, amplifiers, non-linear circuit elements, basic electronic devices, power devices and power systems. ',\n",
       " 'The mechanical properties of deformable solids are examined under linear, shear and combined stresses. The associated coefficients are derived and interrelated. Configurations of strain gauges are studied. Models of inter-atomic forces are studied. Energy transport and its characteristics are studied under different flow conditions for all types of fluids. Flow measurement and associated equipment for fluids and solid particles are studied. ',\n",
       " 'This is an introductory course that addresses selected topics in biology as applied to prokaryotes and eukaryotes. Cell biology, genetics, respiration, photosynthesis, evolution and ecology are discussed.   (lec 3, lab 3) cr 3.',\n",
       " 'This course is a study of the ecosystem concept; biogeo-chemical cycles; ecological energetics; and the organization and dynamics of biotic communities. It examines the ecology and humans; the food chain, demography, and epidemiology. (lec 3, lab 3) cr 3.',\n",
       " 'This course is a continuation of CHMI 1006. Topics include thermochemistry, chemical thermodynamics, kinetics, chemical equilibrium, acid-base chemistry, buffer solutions, electrochemistry and introductory organic chemistry. ',\n",
       " 'This course introduces the physical/natural environment using an integrative earth systems approach as a basis for understanding normal environmental function and environmental problems arising from human activities. Topics include the atmosphere, weather and climate, earth materials and earth surface processes, landscape and soil development, water resources, the biosphere, and environmental change.  (lec 3, lab 2)  cr 3. Students may not retain credit for both ENSC 1406 and ENVI 1406.',\n",
       " 'This course covers the physical geology of the Earth, including the origin of the solar system, Earth structure and Earth physics (seismology, geomagnetism), plate tectonics as the unifying theory in Earth sciences, earthquakes, magma generation, volcanic activity, continental growth, mountain building, geological structures (folds and faults), the rock cycle, sedimentary/metamorphic/igneous rocks, and rock-forming minerals. Laboratory exercises include earthquakes, plate tectonics and identification of common rocks and rock-forming minerals. A field trip across the Sudbury Basin introduces students to interpreting rocks in the field. (lec 3, lab 3) cr 3. Students may not retain credit for both GEOL 1006 and GEOL 1021.',\n",
       " 'This course begins with an introduction to random motions of molecules leading to a discussion of the physics of gas exchange in the processes of respiration. The response of the body to changes of external pressure are studied from a physical point of view. The transport of pollutants and their physical effects on the body are discussed. The course also examines various aspects of static pressure in the human body and the physics of blood circulation including laminar, turbulent and viscous flows. Other topics such as capillarity, surface tension, and the role of surfactants are discussed. ',\n",
       " 'This course examines the nature of sound and the factors affecting its propagation with the ultimate goal of studying the production of sound (speech) and its detection (hearing) in humans. The course also studies the eye as an optical instrument, first as a sensor (with all its imperfections) gathering the light, then as a converter of light into electrical signals leading to the interpretation of images by the brain. Various defects of the eye, as well as their treatment, are also discussed. ']"
      ]
     },
     "execution_count": 24,
     "metadata": {},
     "output_type": "execute_result"
    }
   ],
   "source": [
    "course_descs"
   ]
  },
  {
   "cell_type": "code",
   "execution_count": 25,
   "metadata": {},
   "outputs": [
    {
     "data": {
      "text/plain": [
       "22"
      ]
     },
     "execution_count": 25,
     "metadata": {},
     "output_type": "execute_result"
    }
   ],
   "source": [
    "len(list(dict.fromkeys(course_codes)))"
   ]
  },
  {
   "cell_type": "code",
   "execution_count": 26,
   "metadata": {},
   "outputs": [
    {
     "data": {
      "text/html": [
       "<div>\n",
       "<style scoped>\n",
       "    .dataframe tbody tr th:only-of-type {\n",
       "        vertical-align: middle;\n",
       "    }\n",
       "\n",
       "    .dataframe tbody tr th {\n",
       "        vertical-align: top;\n",
       "    }\n",
       "\n",
       "    .dataframe thead th {\n",
       "        text-align: right;\n",
       "    }\n",
       "</style>\n",
       "<table border=\"1\" class=\"dataframe\">\n",
       "  <thead>\n",
       "    <tr style=\"text-align: right;\">\n",
       "      <th></th>\n",
       "      <th>Course Number</th>\n",
       "      <th>Course Name</th>\n",
       "      <th>Course Description</th>\n",
       "    </tr>\n",
       "  </thead>\n",
       "  <tbody>\n",
       "    <tr>\n",
       "      <th>0</th>\n",
       "      <td>COSC 2307E</td>\n",
       "      <td>Database Programming</td>\n",
       "      <td>This course consists of data modelling, the E-...</td>\n",
       "    </tr>\n",
       "    <tr>\n",
       "      <th>1</th>\n",
       "      <td>COSC 2406E</td>\n",
       "      <td>Assembly Language Programming</td>\n",
       "      <td>This is an introduction to basic computer orga...</td>\n",
       "    </tr>\n",
       "    <tr>\n",
       "      <th>2</th>\n",
       "      <td>ENGR 3126E</td>\n",
       "      <td>Occupational Health Engineering</td>\n",
       "      <td>This course examines occupational health probl...</td>\n",
       "    </tr>\n",
       "    <tr>\n",
       "      <th>3</th>\n",
       "      <td>ENGR 3157E</td>\n",
       "      <td>Operations Research</td>\n",
       "      <td>This course deals with the fundamentals of app...</td>\n",
       "    </tr>\n",
       "    <tr>\n",
       "      <th>4</th>\n",
       "      <td>ENGR 3307E</td>\n",
       "      <td>Materials Handling</td>\n",
       "      <td>This course examines materials handling techno...</td>\n",
       "    </tr>\n",
       "    <tr>\n",
       "      <th>5</th>\n",
       "      <td>ENGR 3437E</td>\n",
       "      <td>Water and Wastewater Treatment</td>\n",
       "      <td>This course examines unit operations and unit ...</td>\n",
       "    </tr>\n",
       "    <tr>\n",
       "      <th>6</th>\n",
       "      <td>ENGR 3466E</td>\n",
       "      <td>Environmental Impact of Process Industries</td>\n",
       "      <td>This course examines general concepts of indus...</td>\n",
       "    </tr>\n",
       "    <tr>\n",
       "      <th>7</th>\n",
       "      <td>ENGR 3477E</td>\n",
       "      <td>Adsorption and Membrane Processes in Polution ...</td>\n",
       "      <td>Topics include adsorption as a treatment proce...</td>\n",
       "    </tr>\n",
       "    <tr>\n",
       "      <th>8</th>\n",
       "      <td>ENGR 4166E</td>\n",
       "      <td>Aerospace Engineering Design</td>\n",
       "      <td>This course examines introductory concepts rel...</td>\n",
       "    </tr>\n",
       "    <tr>\n",
       "      <th>9</th>\n",
       "      <td>ENGR 4187E</td>\n",
       "      <td>Solid Waste Processing and Recycling in the Mi...</td>\n",
       "      <td>This course introduces students to solid waste...</td>\n",
       "    </tr>\n",
       "    <tr>\n",
       "      <th>10</th>\n",
       "      <td>ENGR 4366E</td>\n",
       "      <td>Automation and Reliability of Mining Equipment</td>\n",
       "      <td>This course is an introduction to the general ...</td>\n",
       "    </tr>\n",
       "    <tr>\n",
       "      <th>11</th>\n",
       "      <td>MATH 2037E</td>\n",
       "      <td>Advanced Calculus</td>\n",
       "      <td>This course begins with a review of vectors, l...</td>\n",
       "    </tr>\n",
       "    <tr>\n",
       "      <th>12</th>\n",
       "      <td>MATH 2057E</td>\n",
       "      <td>Linear Algebra II</td>\n",
       "      <td>This course begins with a review of matrix alg...</td>\n",
       "    </tr>\n",
       "    <tr>\n",
       "      <th>13</th>\n",
       "      <td>PHYS 2006E</td>\n",
       "      <td>Introduction to Electricity and Electronics</td>\n",
       "      <td>Basic concepts in electricity are reviewed and...</td>\n",
       "    </tr>\n",
       "    <tr>\n",
       "      <th>14</th>\n",
       "      <td>PHYS 3046E</td>\n",
       "      <td>Mechanical Properties of Solids and Fluids</td>\n",
       "      <td>The mechanical properties of deformable solids...</td>\n",
       "    </tr>\n",
       "    <tr>\n",
       "      <th>15</th>\n",
       "      <td>BIOL 1506E</td>\n",
       "      <td>Biology I</td>\n",
       "      <td>This is an introductory course that addresses ...</td>\n",
       "    </tr>\n",
       "    <tr>\n",
       "      <th>16</th>\n",
       "      <td>BIOL 2356E</td>\n",
       "      <td>Principles of Ecology</td>\n",
       "      <td>This course is a study of the ecosystem concep...</td>\n",
       "    </tr>\n",
       "    <tr>\n",
       "      <th>17</th>\n",
       "      <td>CHMI 1007E</td>\n",
       "      <td>General Chemistry II</td>\n",
       "      <td>This course is a continuation of CHMI 1006. To...</td>\n",
       "    </tr>\n",
       "    <tr>\n",
       "      <th>18</th>\n",
       "      <td>ENSC 1406E</td>\n",
       "      <td>Earth's Environmental Systems</td>\n",
       "      <td>This course introduces the physical/natural en...</td>\n",
       "    </tr>\n",
       "    <tr>\n",
       "      <th>19</th>\n",
       "      <td>GEOL 1006E</td>\n",
       "      <td>Introductory Geology I</td>\n",
       "      <td>This course covers the physical geology of the...</td>\n",
       "    </tr>\n",
       "    <tr>\n",
       "      <th>20</th>\n",
       "      <td>PHYS 2606E</td>\n",
       "      <td>Biophysics of Fluids</td>\n",
       "      <td>This course begins with an introduction to ran...</td>\n",
       "    </tr>\n",
       "    <tr>\n",
       "      <th>21</th>\n",
       "      <td>PHYS 2616E</td>\n",
       "      <td>Physics of Hearing and Vision</td>\n",
       "      <td>This course examines the nature of sound and t...</td>\n",
       "    </tr>\n",
       "  </tbody>\n",
       "</table>\n",
       "</div>"
      ],
      "text/plain": [
       "   Course Number                                        Course Name  \\\n",
       "0     COSC 2307E                               Database Programming   \n",
       "1     COSC 2406E                      Assembly Language Programming   \n",
       "2     ENGR 3126E                    Occupational Health Engineering   \n",
       "3     ENGR 3157E                                Operations Research   \n",
       "4     ENGR 3307E                                 Materials Handling   \n",
       "5     ENGR 3437E                     Water and Wastewater Treatment   \n",
       "6     ENGR 3466E         Environmental Impact of Process Industries   \n",
       "7     ENGR 3477E  Adsorption and Membrane Processes in Polution ...   \n",
       "8     ENGR 4166E                       Aerospace Engineering Design   \n",
       "9     ENGR 4187E  Solid Waste Processing and Recycling in the Mi...   \n",
       "10    ENGR 4366E     Automation and Reliability of Mining Equipment   \n",
       "11    MATH 2037E                                  Advanced Calculus   \n",
       "12    MATH 2057E                                  Linear Algebra II   \n",
       "13    PHYS 2006E        Introduction to Electricity and Electronics   \n",
       "14    PHYS 3046E         Mechanical Properties of Solids and Fluids   \n",
       "15    BIOL 1506E                                          Biology I   \n",
       "16    BIOL 2356E                              Principles of Ecology   \n",
       "17    CHMI 1007E                               General Chemistry II   \n",
       "18    ENSC 1406E                      Earth's Environmental Systems   \n",
       "19    GEOL 1006E                             Introductory Geology I   \n",
       "20    PHYS 2606E                               Biophysics of Fluids   \n",
       "21    PHYS 2616E                      Physics of Hearing and Vision   \n",
       "\n",
       "                                   Course Description  \n",
       "0   This course consists of data modelling, the E-...  \n",
       "1   This is an introduction to basic computer orga...  \n",
       "2   This course examines occupational health probl...  \n",
       "3   This course deals with the fundamentals of app...  \n",
       "4   This course examines materials handling techno...  \n",
       "5   This course examines unit operations and unit ...  \n",
       "6   This course examines general concepts of indus...  \n",
       "7   Topics include adsorption as a treatment proce...  \n",
       "8   This course examines introductory concepts rel...  \n",
       "9   This course introduces students to solid waste...  \n",
       "10  This course is an introduction to the general ...  \n",
       "11  This course begins with a review of vectors, l...  \n",
       "12  This course begins with a review of matrix alg...  \n",
       "13  Basic concepts in electricity are reviewed and...  \n",
       "14  The mechanical properties of deformable solids...  \n",
       "15  This is an introductory course that addresses ...  \n",
       "16  This course is a study of the ecosystem concep...  \n",
       "17  This course is a continuation of CHMI 1006. To...  \n",
       "18  This course introduces the physical/natural en...  \n",
       "19  This course covers the physical geology of the...  \n",
       "20  This course begins with an introduction to ran...  \n",
       "21  This course examines the nature of sound and t...  "
      ]
     },
     "execution_count": 26,
     "metadata": {},
     "output_type": "execute_result"
    }
   ],
   "source": [
    "import pandas as pd\n",
    "\n",
    "df = pd.DataFrame({\n",
    "    \n",
    "    \"Course Number\": course_codes,\n",
    "    \"Course Name\": course_names,\n",
    "    \"Course Description\": course_descs    \n",
    "    \n",
    "})\n",
    "\n",
    "df"
   ]
  },
  {
   "cell_type": "code",
   "execution_count": 27,
   "metadata": {},
   "outputs": [],
   "source": [
    "df.to_csv('Laurentian_MechEng_Technical_Electives_Courses.csv', index = False)"
   ]
  },
  {
   "cell_type": "code",
   "execution_count": 28,
   "metadata": {},
   "outputs": [],
   "source": [
    "driver.quit()"
   ]
  }
 ],
 "metadata": {
  "kernelspec": {
   "display_name": "Python 3",
   "language": "python",
   "name": "python3"
  },
  "language_info": {
   "codemirror_mode": {
    "name": "ipython",
    "version": 3
   },
   "file_extension": ".py",
   "mimetype": "text/x-python",
   "name": "python",
   "nbconvert_exporter": "python",
   "pygments_lexer": "ipython3",
   "version": "3.8.5"
  }
 },
 "nbformat": 4,
 "nbformat_minor": 4
}
