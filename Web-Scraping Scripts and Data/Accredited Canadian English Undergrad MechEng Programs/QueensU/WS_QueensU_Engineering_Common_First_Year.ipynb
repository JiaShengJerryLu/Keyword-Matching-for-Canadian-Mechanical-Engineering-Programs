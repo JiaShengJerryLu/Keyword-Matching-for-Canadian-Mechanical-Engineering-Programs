{
 "cells": [
  {
   "cell_type": "code",
   "execution_count": 1,
   "metadata": {},
   "outputs": [],
   "source": [
    "from bs4 import BeautifulSoup as soup\n",
    "from urllib.request import urlopen as ureq\n",
    "from selenium import webdriver\n",
    "import time\n",
    "import re"
   ]
  },
  {
   "cell_type": "code",
   "execution_count": 2,
   "metadata": {},
   "outputs": [],
   "source": [
    "url = \"https://calendar.engineering.queensu.ca/preview_program.php?catoid=9&poid=503&returnto=232\""
   ]
  },
  {
   "cell_type": "code",
   "execution_count": 3,
   "metadata": {},
   "outputs": [],
   "source": [
    "chrome_options = webdriver.ChromeOptions()\n",
    "chrome_options.add_argument('--ignore-certificate-errors')\n",
    "chrome_options.add_argument('--incognito')\n",
    "#chrome_options.add_argument('--headless')\n",
    "\n",
    "driver = webdriver.Chrome(\"C:\\\\Users\\\\jerry\\\\Downloads\\\\chromedriver\", options=chrome_options)"
   ]
  },
  {
   "cell_type": "code",
   "execution_count": 24,
   "metadata": {},
   "outputs": [],
   "source": [
    "driver.get(url)"
   ]
  },
  {
   "cell_type": "markdown",
   "metadata": {},
   "source": [
    "# 1. Collect all course link texts for webdriver to click on"
   ]
  },
  {
   "cell_type": "code",
   "execution_count": 5,
   "metadata": {},
   "outputs": [],
   "source": [
    "page_soup = soup(driver.page_source, 'lxml')"
   ]
  },
  {
   "cell_type": "code",
   "execution_count": 6,
   "metadata": {},
   "outputs": [
    {
     "data": {
      "text/plain": [
       "16"
      ]
     },
     "execution_count": 6,
     "metadata": {},
     "output_type": "execute_result"
    }
   ],
   "source": [
    "containers = page_soup.find(\"div\", {\"class\": \"acalog-core\"}).findAll(\"a\")\n",
    "len(containers)"
   ]
  },
  {
   "cell_type": "code",
   "execution_count": 13,
   "metadata": {
    "scrolled": true
   },
   "outputs": [
    {
     "data": {
      "text/plain": [
       "['APSC 100 Engineering Practice l FW |  K9',\n",
       " 'APSC 199 English Proficiency for Engineers FW, S |  K0.2',\n",
       " 'APSC 111 Physics I F (6WK Sess2) | 3.3',\n",
       " 'APSC 131 Chemistry and Materials F (6WK Sess1) | 3.3',\n",
       " 'MNTC 313 Introduction to Programming F/S-O/L | 3',\n",
       " 'APSC 151 Earth Systems Engineering F (6WK Sess2) | 3.3',\n",
       " 'APSC 171 Calculus I F (6WK Sess1) | 3.3',\n",
       " 'APSC 112 Physics II W | 3.3',\n",
       " 'APSC 114 NOT OFFERED 2020-2021 Electricity and Magnetism W | 3.3',\n",
       " 'APSC 132 Chemistry and its Applications W | 3.3',\n",
       " 'APSC 162 Engineering Graphics W | 2.5',\n",
       " 'APSC 172 Calculus II W | 3.3',\n",
       " 'APSC 174 Introduction to Linear Algebra W | 3.3',\n",
       " 'APSC 182 Applied Engineering Mechanics W, F | 1.7']"
      ]
     },
     "execution_count": 13,
     "metadata": {},
     "output_type": "execute_result"
    }
   ],
   "source": [
    "link_texts = [container.text.strip() for container in containers if len(container.text)>0]\n",
    "link_texts"
   ]
  },
  {
   "cell_type": "code",
   "execution_count": 22,
   "metadata": {},
   "outputs": [
    {
     "data": {
      "text/plain": [
       "['APSC 100 Engineering Practice l FW | K9',\n",
       " 'APSC 199 English Proficiency for Engineers FW, S | K0.2',\n",
       " 'APSC 111 Physics I F (6WK Sess2) | 3.3',\n",
       " 'APSC 131 Chemistry and Materials F (6WK Sess1) | 3.3',\n",
       " 'MNTC 313 Introduction to Programming F/S-O/L | 3',\n",
       " 'APSC 151 Earth Systems Engineering F (6WK Sess2) | 3.3',\n",
       " 'APSC 171 Calculus I F (6WK Sess1) | 3.3',\n",
       " 'APSC 112 Physics II W | 3.3',\n",
       " 'APSC 114 NOT OFFERED 2020-2021 Electricity and Magnetism W | 3.3',\n",
       " 'APSC 132 Chemistry and its Applications W | 3.3',\n",
       " 'APSC 162 Engineering Graphics W | 2.5',\n",
       " 'APSC 172 Calculus II W | 3.3',\n",
       " 'APSC 174 Introduction to Linear Algebra W | 3.3',\n",
       " 'APSC 182 Applied Engineering Mechanics W, F | 1.7']"
      ]
     },
     "execution_count": 22,
     "metadata": {},
     "output_type": "execute_result"
    }
   ],
   "source": [
    "link_texts = [link_text.replace(\"  \", \" \") for link_text in link_texts]\n",
    "link_texts"
   ]
  },
  {
   "cell_type": "markdown",
   "metadata": {},
   "source": [
    "# 2. Click open all course info boxes"
   ]
  },
  {
   "cell_type": "code",
   "execution_count": 25,
   "metadata": {},
   "outputs": [
    {
     "name": "stdout",
     "output_type": "stream",
     "text": [
      "14\n"
     ]
    }
   ],
   "source": [
    "counter = 0\n",
    "for link_text in link_texts:\n",
    "    link = driver.find_element_by_link_text(link_text)\n",
    "    time.sleep(2)\n",
    "    link.click()\n",
    "    time.sleep(3)\n",
    "    counter += 1\n",
    "    \n",
    "print(counter)"
   ]
  },
  {
   "cell_type": "markdown",
   "metadata": {},
   "source": [
    "# 3. Obtain updated page html and scrape all course info"
   ]
  },
  {
   "cell_type": "code",
   "execution_count": 26,
   "metadata": {},
   "outputs": [],
   "source": [
    "page_soup = soup(driver.page_source, 'lxml')"
   ]
  },
  {
   "cell_type": "code",
   "execution_count": 27,
   "metadata": {},
   "outputs": [
    {
     "data": {
      "text/plain": [
       "14"
      ]
     },
     "execution_count": 27,
     "metadata": {},
     "output_type": "execute_result"
    }
   ],
   "source": [
    "containers = page_soup.find(\"div\", {\"class\": \"acalog-core\"}).findAll(\"li\", {\"class\": \"acalog-course acalog-course-open\"})\n",
    "len(containers)"
   ]
  },
  {
   "cell_type": "code",
   "execution_count": 41,
   "metadata": {
    "scrolled": true
   },
   "outputs": [
    {
     "data": {
      "text/plain": [
       "['APSC 100 Engineering Practice l',\n",
       " 'APSC 199 English Proficiency for Engineers',\n",
       " 'APSC 111 Physics I',\n",
       " 'APSC 131 Chemistry and Materials',\n",
       " 'MNTC 313 Introduction to Programming',\n",
       " 'APSC 151 Earth Systems Engineering',\n",
       " 'APSC 171 Calculus I',\n",
       " 'APSC 112 Physics II',\n",
       " 'APSC 114 NOT OFFERED 2020-2021 Electricity and Magnetism',\n",
       " 'APSC 132 Chemistry and its Applications',\n",
       " 'APSC 162 Engineering Graphics',\n",
       " 'APSC 172 Calculus II',\n",
       " 'APSC 174 Introduction to Linear Algebra',\n",
       " 'APSC 182 Applied Engineering Mechanics']"
      ]
     },
     "execution_count": 41,
     "metadata": {},
     "output_type": "execute_result"
    }
   ],
   "source": [
    "course_titles = [re.split(\" [FW]\", container.find(\"div\", {\"class\": None}).h3.text)[0] for container in containers]\n",
    "course_titles"
   ]
  },
  {
   "cell_type": "code",
   "execution_count": 42,
   "metadata": {},
   "outputs": [
    {
     "data": {
      "text/plain": [
       "['APSC 100',\n",
       " 'APSC 199',\n",
       " 'APSC 111',\n",
       " 'APSC 131',\n",
       " 'MNTC 313',\n",
       " 'APSC 151',\n",
       " 'APSC 171',\n",
       " 'APSC 112',\n",
       " 'APSC 114',\n",
       " 'APSC 132',\n",
       " 'APSC 162',\n",
       " 'APSC 172',\n",
       " 'APSC 174',\n",
       " 'APSC 182']"
      ]
     },
     "execution_count": 42,
     "metadata": {},
     "output_type": "execute_result"
    }
   ],
   "source": [
    "course_codes = [\" \".join(course_title.split()[:2]) for course_title in course_titles]\n",
    "course_codes"
   ]
  },
  {
   "cell_type": "code",
   "execution_count": 43,
   "metadata": {},
   "outputs": [
    {
     "data": {
      "text/plain": [
       "['Engineering Practice l',\n",
       " 'English Proficiency for Engineers',\n",
       " 'Physics I',\n",
       " 'Chemistry and Materials',\n",
       " 'Introduction to Programming',\n",
       " 'Earth Systems Engineering',\n",
       " 'Calculus I',\n",
       " 'Physics II',\n",
       " 'NOT OFFERED 2020-2021 Electricity and Magnetism',\n",
       " 'Chemistry and its Applications',\n",
       " 'Engineering Graphics',\n",
       " 'Calculus II',\n",
       " 'Introduction to Linear Algebra',\n",
       " 'Applied Engineering Mechanics']"
      ]
     },
     "execution_count": 43,
     "metadata": {},
     "output_type": "execute_result"
    }
   ],
   "source": [
    "course_names = [\" \".join(course_title.split()[2:]) for course_title in course_titles]\n",
    "course_names"
   ]
  },
  {
   "cell_type": "code",
   "execution_count": 52,
   "metadata": {
    "scrolled": true
   },
   "outputs": [
    {
     "data": {
      "text/plain": [
       "'This course introduces fundamental professional engineering skills and provides an opportunity to apply engineering science and mathematics content in situations emulating professional practice. It consists of three modules: Module 1. Problem analysis and modeling; Module 2. Experimentation and measurement; Module 3: Engineering design. The course provides an introduction to personal learning styles, team dynamics, oral and written presentation skills, laboratory data collection, analysis and presentation, project management, information management, problem analysis and modeling, numeric computation, economics, design methodologies, and workplace safety.'"
      ]
     },
     "execution_count": 52,
     "metadata": {},
     "output_type": "execute_result"
    }
   ],
   "source": [
    "re.split(\"  Academic Units\", re.split(\"Tutorial: [YesNo.0-9]{1,3}\", containers[0].text)[1])[0]"
   ]
  },
  {
   "cell_type": "code",
   "execution_count": 57,
   "metadata": {
    "scrolled": true
   },
   "outputs": [
    {
     "data": {
      "text/plain": [
       "['This course introduces fundamental professional engineering skills and provides an opportunity to apply engineering science and mathematics content in situations emulating professional practice. It consists of three modules: Module 1. Problem analysis and modeling; Module 2. Experimentation and measurement; Module 3: Engineering design. The course provides an introduction to personal learning styles, team dynamics, oral and written presentation skills, laboratory data collection, analysis and presentation, project management, information management, problem analysis and modeling, numeric computation, economics, design methodologies, and workplace safety.',\n",
       " 'This course develops skills that are necessary to organize and present technical information in a professional context. At the end of the course students will demonstrate English proficiency in listening comprehension and written expression.',\n",
       " 'This course is an introduction to Newtonian mechanics in the context of engineering applications. Lecture topics are: vectors, motion of a particle, particle dynamics, work and energy, statics and dynamics of rigid bodies, conservation of energy, momentum, and collisions.',\n",
       " 'This course provides an introduction to the chemistry of materials: thermochemistry, heat, work, internal energy, enthalpy and the first law of thermodynamics; gas laws in ideal and non-ideal systems; phase equilibria in one component systems; concepts of bonding in the classification of materials; the physical, electrical and mechanical properties of metals, polymers, semiconductors and ceramics; techniques of characterizing materials.',\n",
       " 'Students will be introduced to the fundamental concepts of computer programming using both C/C++ and MATLAB. The course will teach computer programming with a focus on practical applications for analyzing data and solving practical mathematical problems. Topics will include basic components of a computer (both hardware and software), memory and variables, expressions, selection structures, loops, arrays, functions, and commonly used algorithms such as sorting and searching. At the end of the course, students will be able to apply computer programming skills to assist in both design and analysis for real-life engineering applications.. Available Online.',\n",
       " 'This course provides an introduction to the complex Earth System (the solid earth, hydrosphere, atmosphere, and biosphere) and our interactions with it. The science behind our exploration and understanding of our planet and its ongoing evolution is explored in combination with the engineering geology of geo-materials, geo-resources, geo-dynamics and geo-risk. The connection between the Earth System and human activity is explored in depth, including local and global-scale impacts of engineering works, geopolitics, and resource issues. Examples of the terrestrial sources of geo-materials used in engineering activities are highlighted along with the technical, social, economic and environmental challenges associated with their life cycle including sustainability, contamination, biodiversity loss, social impact and climate change.',\n",
       " 'Graphs and derivatives of vector-valued functions; related applications. Implicit derivatives and related rate applications. Fundamental Theorem of Calculus, Riemann integral; applications to problems involving areas, volumes, mass, charge, work, etc. Integration by substitution, by parts, and partial fractions. Introduction to second-order differential equations and complex numbers.',\n",
       " 'This course continues from APSC 111to introduce electricity and further develop fundamental ideas of mechanics in the context of engineering applications. Lecture topics include: oscillations and waves, electric charge, electrical current and resistance, EMF, D.C. circuits and electrical measurements, electric field and potential, magnetic fields and their origin, and electromagnetic induction.',\n",
       " 'This course continues from APSC 111 to introduce electricity and further develope fundamental ideas of mechanics in the context of engineering applications. Leture topics include: oscillations and waves, electric charge, electrical current and sestance, EMF, D.C. circuits and electrical measurements, electric field and potential, magnetic fields and their origin, and electromagnetic induction.',\n",
       " 'This course combines fundamentals of chemistry with the engineering issues associated with them. Areas of study are entropy and the second law of thermodynamics, thermodynamics, chemical equilibrium, electrochemistry, chemical kinetics and organic chemistry. Environmental issues associated with each of these topics will be incorporated into lectures when appropriate.',\n",
       " 'The principal objectives of the course are (1) to develop the student’s ability to visualize and communicate three-dimensional shapes and (2) to acquire the skills needed to use computer-aided design software. Topics covered are orthographic projection, isometric sketching, auxiliary and section views as well as dimensioning and working drawings. Computer-aided design software is used to create solid models of the parts and assemblies as well as to generate dimensioned drawings. Students apply their learning in a project where they design their own version of a consumer product. Students learn by hands-on exercises in free-hand sketching and computer-based drawing.',\n",
       " 'This course continues calculus concepts from APSC 171, including space curves, speed, and velocity. Functions of several variables, partial derivatives, differentials, error estimates, gradient, maxima and minima. Double and triple integrals, polar and cylindrical coordinates; applications to mass, center of mass, moment. Series, power series; Taylor polynomial approximations, error analysis.',\n",
       " 'Systems of linear equations; real vectors spaces and subspaces; linear combinations and linear spans; linear dependence and linear independence; applications to systems of linear equations and their solution via Gaussian elimination; bases and dimension of real vector spaces; linear transformations, range, kernel and Rank-Nullity theorem; matrix representation of a linear transformation; composition of linear transformations and matrix multiplication; invertible matrices and determinants; eigenvalues and eigenvectors of square matrices. Applications of the course material to engineering systems are illustrated.',\n",
       " 'Identification, visualization and quantification of forces on elements and forces within statically determinate engineering structures and systems. Two- and three-dimensional force equilibrium of rigid bodies; force distribution within engineering systems like simple trusses, frames and machines; internal shear forces and bending moments in force carrying elements; and engineering stress and strain.']"
      ]
     },
     "execution_count": 57,
     "metadata": {},
     "output_type": "execute_result"
    }
   ],
   "source": [
    "course_descs = [re.split(\"Tutorial: [YesNo.0-9]{1,4}\", container.text)[1].split(\" Academic Units:\")[0].replace(\"\\xa0\", \"\").strip() for container in containers]\n",
    "course_descs"
   ]
  },
  {
   "cell_type": "markdown",
   "metadata": {},
   "source": [
    "# 4. Write to CSV"
   ]
  },
  {
   "cell_type": "code",
   "execution_count": 58,
   "metadata": {},
   "outputs": [
    {
     "data": {
      "text/html": [
       "<div>\n",
       "<style scoped>\n",
       "    .dataframe tbody tr th:only-of-type {\n",
       "        vertical-align: middle;\n",
       "    }\n",
       "\n",
       "    .dataframe tbody tr th {\n",
       "        vertical-align: top;\n",
       "    }\n",
       "\n",
       "    .dataframe thead th {\n",
       "        text-align: right;\n",
       "    }\n",
       "</style>\n",
       "<table border=\"1\" class=\"dataframe\">\n",
       "  <thead>\n",
       "    <tr style=\"text-align: right;\">\n",
       "      <th></th>\n",
       "      <th>Course Number</th>\n",
       "      <th>Course Name</th>\n",
       "      <th>Course Description</th>\n",
       "    </tr>\n",
       "  </thead>\n",
       "  <tbody>\n",
       "    <tr>\n",
       "      <th>0</th>\n",
       "      <td>APSC 100</td>\n",
       "      <td>Engineering Practice l</td>\n",
       "      <td>This course introduces fundamental professiona...</td>\n",
       "    </tr>\n",
       "    <tr>\n",
       "      <th>1</th>\n",
       "      <td>APSC 199</td>\n",
       "      <td>English Proficiency for Engineers</td>\n",
       "      <td>This course develops skills that are necessary...</td>\n",
       "    </tr>\n",
       "    <tr>\n",
       "      <th>2</th>\n",
       "      <td>APSC 111</td>\n",
       "      <td>Physics I</td>\n",
       "      <td>This course is an introduction to Newtonian me...</td>\n",
       "    </tr>\n",
       "    <tr>\n",
       "      <th>3</th>\n",
       "      <td>APSC 131</td>\n",
       "      <td>Chemistry and Materials</td>\n",
       "      <td>This course provides an introduction to the ch...</td>\n",
       "    </tr>\n",
       "    <tr>\n",
       "      <th>4</th>\n",
       "      <td>MNTC 313</td>\n",
       "      <td>Introduction to Programming</td>\n",
       "      <td>Students will be introduced to the fundamental...</td>\n",
       "    </tr>\n",
       "    <tr>\n",
       "      <th>5</th>\n",
       "      <td>APSC 151</td>\n",
       "      <td>Earth Systems Engineering</td>\n",
       "      <td>This course provides an introduction to the co...</td>\n",
       "    </tr>\n",
       "    <tr>\n",
       "      <th>6</th>\n",
       "      <td>APSC 171</td>\n",
       "      <td>Calculus I</td>\n",
       "      <td>Graphs and derivatives of vector-valued functi...</td>\n",
       "    </tr>\n",
       "    <tr>\n",
       "      <th>7</th>\n",
       "      <td>APSC 112</td>\n",
       "      <td>Physics II</td>\n",
       "      <td>This course continues from APSC 111to introduc...</td>\n",
       "    </tr>\n",
       "    <tr>\n",
       "      <th>8</th>\n",
       "      <td>APSC 114</td>\n",
       "      <td>NOT OFFERED 2020-2021 Electricity and Magnetism</td>\n",
       "      <td>This course continues from APSC 111 to introdu...</td>\n",
       "    </tr>\n",
       "    <tr>\n",
       "      <th>9</th>\n",
       "      <td>APSC 132</td>\n",
       "      <td>Chemistry and its Applications</td>\n",
       "      <td>This course combines fundamentals of chemistry...</td>\n",
       "    </tr>\n",
       "    <tr>\n",
       "      <th>10</th>\n",
       "      <td>APSC 162</td>\n",
       "      <td>Engineering Graphics</td>\n",
       "      <td>The principal objectives of the course are (1)...</td>\n",
       "    </tr>\n",
       "    <tr>\n",
       "      <th>11</th>\n",
       "      <td>APSC 172</td>\n",
       "      <td>Calculus II</td>\n",
       "      <td>This course continues calculus concepts from A...</td>\n",
       "    </tr>\n",
       "    <tr>\n",
       "      <th>12</th>\n",
       "      <td>APSC 174</td>\n",
       "      <td>Introduction to Linear Algebra</td>\n",
       "      <td>Systems of linear equations; real vectors spac...</td>\n",
       "    </tr>\n",
       "    <tr>\n",
       "      <th>13</th>\n",
       "      <td>APSC 182</td>\n",
       "      <td>Applied Engineering Mechanics</td>\n",
       "      <td>Identification, visualization and quantificati...</td>\n",
       "    </tr>\n",
       "  </tbody>\n",
       "</table>\n",
       "</div>"
      ],
      "text/plain": [
       "   Course Number                                      Course Name  \\\n",
       "0       APSC 100                           Engineering Practice l   \n",
       "1       APSC 199                English Proficiency for Engineers   \n",
       "2       APSC 111                                        Physics I   \n",
       "3       APSC 131                          Chemistry and Materials   \n",
       "4       MNTC 313                      Introduction to Programming   \n",
       "5       APSC 151                        Earth Systems Engineering   \n",
       "6       APSC 171                                       Calculus I   \n",
       "7       APSC 112                                       Physics II   \n",
       "8       APSC 114  NOT OFFERED 2020-2021 Electricity and Magnetism   \n",
       "9       APSC 132                   Chemistry and its Applications   \n",
       "10      APSC 162                             Engineering Graphics   \n",
       "11      APSC 172                                      Calculus II   \n",
       "12      APSC 174                   Introduction to Linear Algebra   \n",
       "13      APSC 182                    Applied Engineering Mechanics   \n",
       "\n",
       "                                   Course Description  \n",
       "0   This course introduces fundamental professiona...  \n",
       "1   This course develops skills that are necessary...  \n",
       "2   This course is an introduction to Newtonian me...  \n",
       "3   This course provides an introduction to the ch...  \n",
       "4   Students will be introduced to the fundamental...  \n",
       "5   This course provides an introduction to the co...  \n",
       "6   Graphs and derivatives of vector-valued functi...  \n",
       "7   This course continues from APSC 111to introduc...  \n",
       "8   This course continues from APSC 111 to introdu...  \n",
       "9   This course combines fundamentals of chemistry...  \n",
       "10  The principal objectives of the course are (1)...  \n",
       "11  This course continues calculus concepts from A...  \n",
       "12  Systems of linear equations; real vectors spac...  \n",
       "13  Identification, visualization and quantificati...  "
      ]
     },
     "execution_count": 58,
     "metadata": {},
     "output_type": "execute_result"
    }
   ],
   "source": [
    "import pandas as pd\n",
    "\n",
    "df = pd.DataFrame({\n",
    "    \"Course Number\": course_codes,\n",
    "    \"Course Name\": course_names,\n",
    "    \"Course Description\": course_descs    \n",
    "})\n",
    "\n",
    "df"
   ]
  },
  {
   "cell_type": "code",
   "execution_count": null,
   "metadata": {},
   "outputs": [],
   "source": [
    "df.to_csv('QueensU_Engineering_Common_First_Year_Courses.csv', index = False)"
   ]
  }
 ],
 "metadata": {
  "kernelspec": {
   "display_name": "Python 3",
   "language": "python",
   "name": "python3"
  },
  "language_info": {
   "codemirror_mode": {
    "name": "ipython",
    "version": 3
   },
   "file_extension": ".py",
   "mimetype": "text/x-python",
   "name": "python",
   "nbconvert_exporter": "python",
   "pygments_lexer": "ipython3",
   "version": "3.8.5"
  }
 },
 "nbformat": 4,
 "nbformat_minor": 4
}
