{
 "cells": [
  {
   "cell_type": "code",
   "execution_count": 1,
   "metadata": {},
   "outputs": [],
   "source": [
    "from bs4 import BeautifulSoup as soup\n",
    "from urllib.request import urlopen as ureq\n",
    "from selenium import webdriver\n",
    "import time\n",
    "import re"
   ]
  },
  {
   "cell_type": "code",
   "execution_count": 2,
   "metadata": {},
   "outputs": [],
   "source": [
    "url = \"https://calendar.engineering.queensu.ca/preview_program.php?catoid=9&poid=525&returnto=232\""
   ]
  },
  {
   "cell_type": "code",
   "execution_count": 4,
   "metadata": {},
   "outputs": [],
   "source": [
    "chrome_options = webdriver.ChromeOptions()\n",
    "chrome_options.add_argument('--ignore-certificate-errors')\n",
    "chrome_options.add_argument('--incognito')\n",
    "#chrome_options.add_argument('--headless')\n",
    "\n",
    "driver = webdriver.Chrome(\"C:\\\\Users\\\\jerry\\\\Downloads\\\\chromedriver\", options=chrome_options)"
   ]
  },
  {
   "cell_type": "code",
   "execution_count": 5,
   "metadata": {},
   "outputs": [],
   "source": [
    "driver.get(url)"
   ]
  },
  {
   "cell_type": "markdown",
   "metadata": {},
   "source": [
    "# 1. Collect all course link texts for webdriver to click on"
   ]
  },
  {
   "cell_type": "code",
   "execution_count": 6,
   "metadata": {},
   "outputs": [],
   "source": [
    "page_soup = soup(driver.page_source, 'lxml')"
   ]
  },
  {
   "cell_type": "code",
   "execution_count": 9,
   "metadata": {},
   "outputs": [
    {
     "data": {
      "text/plain": [
       "18"
      ]
     },
     "execution_count": 9,
     "metadata": {},
     "output_type": "execute_result"
    }
   ],
   "source": [
    "containers = page_soup.findAll(\"div\", {\"class\": \"acalog-core\"})\n",
    "len(containers)"
   ]
  },
  {
   "cell_type": "code",
   "execution_count": 8,
   "metadata": {
    "scrolled": true
   },
   "outputs": [
    {
     "data": {
      "text/plain": [
       "[<a name=\"SecondYearCommonCore20202021\"></a>,\n",
       " <a id=\"core_10960\" name=\"secondyearcommoncore20202021\"></a>,\n",
       " <a aria-expanded=\"false\" href=\"#\" onclick=\"showCourse('9', '5768',this, 'a:2:{s:8:~location~;s:7:~program~;s:4:~core~;s:5:~10960~;}'); return false;\">MECH 202 Mathematical and Computational Tools for Mechanical Engineers I F |  K3.5</a>,\n",
       " <a aria-expanded=\"false\" href=\"#\" onclick=\"showCourse('9', '6822',this, 'a:2:{s:8:~location~;s:7:~program~;s:4:~core~;s:5:~10960~;}'); return false;\">MECH 211 Manufacturing Methods F | 3.5 </a>,\n",
       " <a aria-expanded=\"false\" href=\"#\" onclick=\"showCourse('9', '5755',this, 'a:2:{s:8:~location~;s:7:~program~;s:4:~core~;s:5:~10960~;}'); return false;\">MECH 217 Measurement in Mechatronics F |  K 4.25</a>,\n",
       " <a aria-expanded=\"false\" href=\"#\" onclick=\"showCourse('9', '5572',this, 'a:2:{s:8:~location~;s:7:~program~;s:4:~core~;s:5:~10960~;}'); return false;\">MECH 221 Solid Mechanics I F, O/L | 4 </a>,\n",
       " <a aria-expanded=\"false\" href=\"#\" onclick=\"showCourse('9', '5569',this, 'a:2:{s:8:~location~;s:7:~program~;s:4:~core~;s:5:~10960~;}'); return false;\">MECH 213 NOT OFFERED 2020-2021 Manufacturing Methods F | 4.5 </a>,\n",
       " <a aria-expanded=\"false\" href=\"#\" onclick=\"showCourse('9', '5574',this, 'a:2:{s:8:~location~;s:7:~program~;s:4:~core~;s:5:~10960~;}'); return false;\">MECH 230 Thermodynamics I F | 3.5 </a>,\n",
       " <a aria-expanded=\"false\" href=\"#\" onclick=\"showCourse('9', '5576',this, 'a:2:{s:8:~location~;s:7:~program~;s:4:~core~;s:5:~10960~;}'); return false;\">MECH 270 Materials Science and Engineering F | 3.5 </a>,\n",
       " <a aria-expanded=\"false\" href=\"#\" onclick=\"showCourse('9', '5252',this, 'a:2:{s:8:~location~;s:7:~program~;s:4:~core~;s:5:~10960~;}'); return false;\">APSC 200 Engineering Design and Practice II FW |  K4</a>,\n",
       " <a aria-expanded=\"false\" href=\"#\" onclick=\"showCourse('9', '5259',this, 'a:2:{s:8:~location~;s:7:~program~;s:4:~core~;s:5:~10960~;}'); return false;\">APSC 293 Engineering Communications l FW |  K1</a>,\n",
       " <a aria-expanded=\"false\" href=\"#\" onclick=\"showCourse('9', '5770',this, 'a:2:{s:8:~location~;s:7:~program~;s:4:~core~;s:5:~10960~;}'); return false;\">MECH 203 Mathematical and Computational Tools for Mechanical Engineers II W |  K3.5</a>,\n",
       " <a aria-expanded=\"false\" href=\"#\" onclick=\"showCourse('9', '5771',this, 'a:2:{s:8:~location~;s:7:~program~;s:4:~core~;s:5:~10960~;}'); return false;\">MECH 210 Electronic Circuits and Motors for Mechatronics W |  K4.5</a>,\n",
       " <a aria-expanded=\"false\" href=\"#\" onclick=\"showCourse('9', '5568',this, 'a:2:{s:8:~location~;s:7:~program~;s:4:~core~;s:5:~10960~;}'); return false;\">MECH 212 Machine Tool Laboratory W | 1.0 </a>,\n",
       " <a aria-expanded=\"false\" href=\"#\" onclick=\"showCourse('9', '5573',this, 'a:2:{s:8:~location~;s:7:~program~;s:4:~core~;s:5:~10960~;}'); return false;\">MECH 228 Kinematics and Dynamics W |  K3.5</a>,\n",
       " <a aria-expanded=\"false\" href=\"#\" onclick=\"showCourse('9', '5575',this, 'a:2:{s:8:~location~;s:7:~program~;s:4:~core~;s:5:~10960~;}'); return false;\">MECH 241 Fluid Mechanics I W/S-OL | 3.5 </a>,\n",
       " <a aria-expanded=\"false\" href=\"#\" onclick=\"showCourse('9', '5773',this, 'a:2:{s:8:~location~;s:7:~program~;s:4:~core~;s:5:~10960~;}'); return false;\">MECH 273 Materials Science and Engineering Lab W |  1.0</a>]"
      ]
     },
     "execution_count": 8,
     "metadata": {},
     "output_type": "execute_result"
    }
   ],
   "source": [
    "containers"
   ]
  },
  {
   "cell_type": "code",
   "execution_count": 14,
   "metadata": {
    "scrolled": true
   },
   "outputs": [
    {
     "data": {
      "text/plain": [
       "['MECH 202 Mathematical and Computational Tools for Mechanical Engineers I F |  K3.5',\n",
       " 'MECH 211 Manufacturing Methods F | 3.5',\n",
       " 'MECH 217 Measurement in Mechatronics F |  K 4.25',\n",
       " 'MECH 221 Solid Mechanics I F, O/L | 4',\n",
       " 'MECH 213 NOT OFFERED 2020-2021 Manufacturing Methods F | 4.5',\n",
       " 'MECH 230 Thermodynamics I F | 3.5',\n",
       " 'MECH 270 Materials Science and Engineering F | 3.5',\n",
       " 'APSC 200 Engineering Design and Practice II FW |  K4',\n",
       " 'APSC 293 Engineering Communications l FW |  K1',\n",
       " 'MECH 203 Mathematical and Computational Tools for Mechanical Engineers II W |  K3.5',\n",
       " 'MECH 210 Electronic Circuits and Motors for Mechatronics W |  K4.5',\n",
       " 'MECH 212 Machine Tool Laboratory W | 1.0',\n",
       " 'MECH 228 Kinematics and Dynamics W |  K3.5',\n",
       " 'MECH 241 Fluid Mechanics I W/S-OL | 3.5',\n",
       " 'MECH 273 Materials Science and Engineering Lab W |  1.0',\n",
       " 'MECH 302 Mathematical and Computational Tools for Mechanical Engineers III F |  K3.5',\n",
       " 'MECH 310 NOT OFFERED 2020-2021 Digital Systems for Mechatronics W |  K4.5',\n",
       " 'MECH 321 Solid Mechanics II F | 3.5',\n",
       " 'MECH 328 Dynamics and Vibration F | 3.5',\n",
       " 'APSC 221 Economics and Business Practices in Engineering F/W/S | 3',\n",
       " 'MECH 323 Machine Design W | 4.5',\n",
       " 'MECH 346 Heat Transfer W | 3.5',\n",
       " 'MECH 350 Automatic Control W | 3.5',\n",
       " 'MECH 330 Applied Thermodynamics II F | 3.5',\n",
       " 'MECH 396 Mechanical and Materials Engineering Laboratory I F |  K2',\n",
       " 'MECH 398 Mechanical Engineering Laboratory I F |  K2',\n",
       " 'MECH 341 Fluid Mechanics II W | 3.5',\n",
       " 'MECH 397 Mechanical and Materials Engineering Laboratory II W |  K2',\n",
       " 'MECH 399 Mechanical Engineering Laboratory II W |  K2',\n",
       " 'MECH 370 Principles of Materials Processing F | 3.5',\n",
       " 'MECH 396 Mechanical and Materials Engineering Laboratory I F |  K2',\n",
       " 'MECH 371 Fracture Mechanics and Dislocation Theory W | 3.5',\n",
       " 'MECH 397 Mechanical and Materials Engineering Laboratory II W |  K2',\n",
       " 'MECH 393 Biomechanical Product Development W | 3.5',\n",
       " 'MECH 396 Mechanical and Materials Engineering Laboratory I F |  K2',\n",
       " 'MECH 398 Mechanical Engineering Laboratory I F |  K2',\n",
       " 'MECH 394 Frontiers in Biomechanical Engineering F | 3.5',\n",
       " 'MECH 397 Mechanical and Materials Engineering Laboratory II W |  K2',\n",
       " 'MECH 399 Mechanical Engineering Laboratory II W |  K2',\n",
       " 'MECH 460 Team Project - Conceive and Design F |  K4',\n",
       " 'MECH 464 Communications and Project Management F | 1.5',\n",
       " 'MECH 460 Team Project - Conceive and Design F |  K4',\n",
       " 'MECH 464 Communications and Project Management F | 1.5',\n",
       " 'MECH 460 Team Project - Conceive and Design F |  K4',\n",
       " 'MECH 464 Communications and Project Management F | 1.5',\n",
       " 'MECH 462 Team Project - Implement and Operate W |  K3.5']"
      ]
     },
     "execution_count": 14,
     "metadata": {},
     "output_type": "execute_result"
    }
   ],
   "source": [
    "link_texts = [element.text.strip() for container in containers for element in container.findAll(\"a\") if len(element.text.strip()) > 8 and bool(re.match(\"[A-Z]{4} [0-9]{3}\", element.text.strip()))]\n",
    "link_texts"
   ]
  },
  {
   "cell_type": "code",
   "execution_count": 15,
   "metadata": {},
   "outputs": [
    {
     "data": {
      "text/plain": [
       "46"
      ]
     },
     "execution_count": 15,
     "metadata": {},
     "output_type": "execute_result"
    }
   ],
   "source": [
    "len(link_texts)"
   ]
  },
  {
   "cell_type": "code",
   "execution_count": 16,
   "metadata": {
    "scrolled": true
   },
   "outputs": [
    {
     "data": {
      "text/plain": [
       "['MECH 202 Mathematical and Computational Tools for Mechanical Engineers I F | K3.5',\n",
       " 'MECH 211 Manufacturing Methods F | 3.5',\n",
       " 'MECH 217 Measurement in Mechatronics F | K 4.25',\n",
       " 'MECH 221 Solid Mechanics I F, O/L | 4',\n",
       " 'MECH 213 NOT OFFERED 2020-2021 Manufacturing Methods F | 4.5',\n",
       " 'MECH 230 Thermodynamics I F | 3.5',\n",
       " 'MECH 270 Materials Science and Engineering F | 3.5',\n",
       " 'APSC 200 Engineering Design and Practice II FW | K4',\n",
       " 'APSC 293 Engineering Communications l FW | K1',\n",
       " 'MECH 203 Mathematical and Computational Tools for Mechanical Engineers II W | K3.5',\n",
       " 'MECH 210 Electronic Circuits and Motors for Mechatronics W | K4.5',\n",
       " 'MECH 212 Machine Tool Laboratory W | 1.0',\n",
       " 'MECH 228 Kinematics and Dynamics W | K3.5',\n",
       " 'MECH 241 Fluid Mechanics I W/S-OL | 3.5',\n",
       " 'MECH 273 Materials Science and Engineering Lab W | 1.0',\n",
       " 'MECH 302 Mathematical and Computational Tools for Mechanical Engineers III F | K3.5',\n",
       " 'MECH 310 NOT OFFERED 2020-2021 Digital Systems for Mechatronics W | K4.5',\n",
       " 'MECH 321 Solid Mechanics II F | 3.5',\n",
       " 'MECH 328 Dynamics and Vibration F | 3.5',\n",
       " 'APSC 221 Economics and Business Practices in Engineering F/W/S | 3',\n",
       " 'MECH 323 Machine Design W | 4.5',\n",
       " 'MECH 346 Heat Transfer W | 3.5',\n",
       " 'MECH 350 Automatic Control W | 3.5',\n",
       " 'MECH 330 Applied Thermodynamics II F | 3.5',\n",
       " 'MECH 396 Mechanical and Materials Engineering Laboratory I F | K2',\n",
       " 'MECH 398 Mechanical Engineering Laboratory I F | K2',\n",
       " 'MECH 341 Fluid Mechanics II W | 3.5',\n",
       " 'MECH 397 Mechanical and Materials Engineering Laboratory II W | K2',\n",
       " 'MECH 399 Mechanical Engineering Laboratory II W | K2',\n",
       " 'MECH 370 Principles of Materials Processing F | 3.5',\n",
       " 'MECH 396 Mechanical and Materials Engineering Laboratory I F | K2',\n",
       " 'MECH 371 Fracture Mechanics and Dislocation Theory W | 3.5',\n",
       " 'MECH 397 Mechanical and Materials Engineering Laboratory II W | K2',\n",
       " 'MECH 393 Biomechanical Product Development W | 3.5',\n",
       " 'MECH 396 Mechanical and Materials Engineering Laboratory I F | K2',\n",
       " 'MECH 398 Mechanical Engineering Laboratory I F | K2',\n",
       " 'MECH 394 Frontiers in Biomechanical Engineering F | 3.5',\n",
       " 'MECH 397 Mechanical and Materials Engineering Laboratory II W | K2',\n",
       " 'MECH 399 Mechanical Engineering Laboratory II W | K2',\n",
       " 'MECH 460 Team Project - Conceive and Design F | K4',\n",
       " 'MECH 464 Communications and Project Management F | 1.5',\n",
       " 'MECH 460 Team Project - Conceive and Design F | K4',\n",
       " 'MECH 464 Communications and Project Management F | 1.5',\n",
       " 'MECH 460 Team Project - Conceive and Design F | K4',\n",
       " 'MECH 464 Communications and Project Management F | 1.5',\n",
       " 'MECH 462 Team Project - Implement and Operate W | K3.5']"
      ]
     },
     "execution_count": 16,
     "metadata": {},
     "output_type": "execute_result"
    }
   ],
   "source": [
    "link_texts = [link_text.replace(\"  \", \" \") for link_text in link_texts]\n",
    "link_texts"
   ]
  },
  {
   "cell_type": "code",
   "execution_count": 17,
   "metadata": {},
   "outputs": [
    {
     "data": {
      "text/plain": [
       "36"
      ]
     },
     "execution_count": 17,
     "metadata": {},
     "output_type": "execute_result"
    }
   ],
   "source": [
    "link_texts = list(dict.fromkeys(link_texts))\n",
    "len(link_texts)"
   ]
  },
  {
   "cell_type": "markdown",
   "metadata": {},
   "source": [
    "# 2. Click open all course info boxes"
   ]
  },
  {
   "cell_type": "code",
   "execution_count": 18,
   "metadata": {},
   "outputs": [
    {
     "name": "stdout",
     "output_type": "stream",
     "text": [
      "36\n"
     ]
    }
   ],
   "source": [
    "# 2. Click open all course info boxes\n",
    "counter = 0\n",
    "for link_text in link_texts:\n",
    "    link = driver.find_element_by_link_text(link_text)\n",
    "    time.sleep(2)\n",
    "    link.click()\n",
    "    time.sleep(3)\n",
    "    counter += 1\n",
    "    \n",
    "print(counter)"
   ]
  },
  {
   "cell_type": "markdown",
   "metadata": {},
   "source": [
    "# 3. Obtain updated page html and scrape all course info"
   ]
  },
  {
   "cell_type": "code",
   "execution_count": 19,
   "metadata": {},
   "outputs": [],
   "source": [
    "page_soup = soup(driver.page_source, 'lxml')"
   ]
  },
  {
   "cell_type": "code",
   "execution_count": 20,
   "metadata": {},
   "outputs": [
    {
     "data": {
      "text/plain": [
       "36"
      ]
     },
     "execution_count": 20,
     "metadata": {},
     "output_type": "execute_result"
    }
   ],
   "source": [
    "containers = page_soup.findAll(\"li\", {\"class\": \"acalog-course acalog-course-open\"})\n",
    "len(containers)"
   ]
  },
  {
   "cell_type": "code",
   "execution_count": 48,
   "metadata": {
    "scrolled": true
   },
   "outputs": [
    {
     "data": {
      "text/plain": [
       "['MECH 202 Mathematical and Computational Tools for Mechanical Engineers I F | K3.5',\n",
       " 'MECH 211 Manufacturing Methods F | 3.5 ',\n",
       " 'MECH 217 Measurement in Mechatronics F | K 4.25',\n",
       " 'MECH 221 Solid Mechanics I F, O/L | 4 ',\n",
       " 'MECH 213 NOT OFFERED 2020-2021 Manufacturing Methods F | 4.5 ',\n",
       " 'MECH 230 Thermodynamics I F | 3.5 ',\n",
       " 'MECH 270 Materials Science and Engineering F | 3.5 ',\n",
       " 'APSC 200 Engineering Design and Practice II FW | K4',\n",
       " 'APSC 293 Engineering Communications l FW | K1',\n",
       " 'MECH 203 Mathematical and Computational Tools for Mechanical Engineers II W | K3.5',\n",
       " 'MECH 210 Electronic Circuits and Motors for Mechatronics W | K4.5',\n",
       " 'MECH 212 Machine Tool Laboratory W | 1.0 ',\n",
       " 'MECH 228 Kinematics and Dynamics W | K3.5',\n",
       " 'MECH 241 Fluid Mechanics I W/S-OL | 3.5 ',\n",
       " 'MECH 273 Materials Science and Engineering Lab W | 1.0',\n",
       " 'MECH 302 Mathematical and Computational Tools for Mechanical Engineers III F | K3.5',\n",
       " 'MECH 310 NOT OFFERED 2020-2021 Digital Systems for Mechatronics W | K4.5',\n",
       " 'MECH 321 Solid Mechanics II F | 3.5 ',\n",
       " 'MECH 328 Dynamics and Vibration F | 3.5 ',\n",
       " 'APSC 221 Economics and Business Practices in Engineering F/W/S | 3 ',\n",
       " 'MECH 323 Machine Design W | 4.5 ',\n",
       " 'MECH 346 Heat Transfer W | 3.5 ',\n",
       " 'MECH 350 Automatic Control W | 3.5 ',\n",
       " 'MECH 330 Applied Thermodynamics II F | 3.5 ',\n",
       " 'MECH 396 Mechanical and Materials Engineering Laboratory I F | K2',\n",
       " 'MECH 398 Mechanical Engineering Laboratory I F | K2',\n",
       " 'MECH 341 Fluid Mechanics II W | 3.5 ',\n",
       " 'MECH 397 Mechanical and Materials Engineering Laboratory II W | K2',\n",
       " 'MECH 399 Mechanical Engineering Laboratory II W | K2',\n",
       " 'MECH 370 Principles of Materials Processing F | 3.5 ',\n",
       " 'MECH 371 Fracture Mechanics and Dislocation Theory W | 3.5 ',\n",
       " 'MECH 393 Biomechanical Product Development W | 3.5 ',\n",
       " 'MECH 394 Frontiers in Biomechanical Engineering F | 3.5 ',\n",
       " 'MECH 460 Team Project - Conceive and Design F | K4',\n",
       " 'MECH 464 Communications and Project Management F | 1.5 ',\n",
       " 'MECH 462 Team Project - Implement and Operate W | K3.5']"
      ]
     },
     "execution_count": 48,
     "metadata": {},
     "output_type": "execute_result"
    }
   ],
   "source": [
    "course_titles = [container.find(\"div\", {\"class\": None}).h3.text.replace(\"  \", \" \") for container in containers]\n",
    "course_titles"
   ]
  },
  {
   "cell_type": "code",
   "execution_count": 49,
   "metadata": {
    "scrolled": true
   },
   "outputs": [
    {
     "data": {
      "text/plain": [
       "['MECH 202 Mathematical and Computational Tools for Mechanical Engineers I F',\n",
       " 'MECH 211 Manufacturing Methods F',\n",
       " 'MECH 217 Measurement in Mechatronics F',\n",
       " 'MECH 221 Solid Mechanics I F, O/L',\n",
       " 'MECH 213 NOT OFFERED 2020-2021 Manufacturing Methods F',\n",
       " 'MECH 230 Thermodynamics I F',\n",
       " 'MECH 270 Materials Science and Engineering F',\n",
       " 'APSC 200 Engineering Design and Practice II FW',\n",
       " 'APSC 293 Engineering Communications l FW',\n",
       " 'MECH 203 Mathematical and Computational Tools for Mechanical Engineers II W',\n",
       " 'MECH 210 Electronic Circuits and Motors for Mechatronics W',\n",
       " 'MECH 212 Machine Tool Laboratory W',\n",
       " 'MECH 228 Kinematics and Dynamics W',\n",
       " 'MECH 241 Fluid Mechanics I W/S-OL',\n",
       " 'MECH 273 Materials Science and Engineering Lab W',\n",
       " 'MECH 302 Mathematical and Computational Tools for Mechanical Engineers III F',\n",
       " 'MECH 310 NOT OFFERED 2020-2021 Digital Systems for Mechatronics W',\n",
       " 'MECH 321 Solid Mechanics II F',\n",
       " 'MECH 328 Dynamics and Vibration F',\n",
       " 'APSC 221 Economics and Business Practices in Engineering F/W/S',\n",
       " 'MECH 323 Machine Design W',\n",
       " 'MECH 346 Heat Transfer W',\n",
       " 'MECH 350 Automatic Control W',\n",
       " 'MECH 330 Applied Thermodynamics II F',\n",
       " 'MECH 396 Mechanical and Materials Engineering Laboratory I F',\n",
       " 'MECH 398 Mechanical Engineering Laboratory I F',\n",
       " 'MECH 341 Fluid Mechanics II W',\n",
       " 'MECH 397 Mechanical and Materials Engineering Laboratory II W',\n",
       " 'MECH 399 Mechanical Engineering Laboratory II W',\n",
       " 'MECH 370 Principles of Materials Processing F',\n",
       " 'MECH 371 Fracture Mechanics and Dislocation Theory W',\n",
       " 'MECH 393 Biomechanical Product Development W',\n",
       " 'MECH 394 Frontiers in Biomechanical Engineering F',\n",
       " 'MECH 460 Team Project - Conceive and Design F',\n",
       " 'MECH 464 Communications and Project Management F',\n",
       " 'MECH 462 Team Project - Implement and Operate W']"
      ]
     },
     "execution_count": 49,
     "metadata": {},
     "output_type": "execute_result"
    }
   ],
   "source": [
    "course_titles = [re.split(\" \\| \", course_title)[0] for course_title in course_titles]\n",
    "course_titles"
   ]
  },
  {
   "cell_type": "code",
   "execution_count": 50,
   "metadata": {},
   "outputs": [
    {
     "data": {
      "text/plain": [
       "36"
      ]
     },
     "execution_count": 50,
     "metadata": {},
     "output_type": "execute_result"
    }
   ],
   "source": [
    "course_titles1 = []\n",
    "\n",
    "for course_title in course_titles:\n",
    "    string = course_title\n",
    "    while string[-1] in \"FWS/OL-, \":\n",
    "        string = string[:-1]\n",
    "    course_titles1.append(string)\n",
    "    \n",
    "len(course_titles1)"
   ]
  },
  {
   "cell_type": "code",
   "execution_count": 51,
   "metadata": {
    "scrolled": true
   },
   "outputs": [
    {
     "data": {
      "text/plain": [
       "['MECH 202 Mathematical and Computational Tools for Mechanical Engineers I',\n",
       " 'MECH 211 Manufacturing Methods',\n",
       " 'MECH 217 Measurement in Mechatronics',\n",
       " 'MECH 221 Solid Mechanics I',\n",
       " 'MECH 213 NOT OFFERED 2020-2021 Manufacturing Methods',\n",
       " 'MECH 230 Thermodynamics I',\n",
       " 'MECH 270 Materials Science and Engineering',\n",
       " 'APSC 200 Engineering Design and Practice II',\n",
       " 'APSC 293 Engineering Communications l',\n",
       " 'MECH 203 Mathematical and Computational Tools for Mechanical Engineers II',\n",
       " 'MECH 210 Electronic Circuits and Motors for Mechatronics',\n",
       " 'MECH 212 Machine Tool Laboratory',\n",
       " 'MECH 228 Kinematics and Dynamics',\n",
       " 'MECH 241 Fluid Mechanics I',\n",
       " 'MECH 273 Materials Science and Engineering Lab',\n",
       " 'MECH 302 Mathematical and Computational Tools for Mechanical Engineers III',\n",
       " 'MECH 310 NOT OFFERED 2020-2021 Digital Systems for Mechatronics',\n",
       " 'MECH 321 Solid Mechanics II',\n",
       " 'MECH 328 Dynamics and Vibration',\n",
       " 'APSC 221 Economics and Business Practices in Engineering',\n",
       " 'MECH 323 Machine Design',\n",
       " 'MECH 346 Heat Transfer',\n",
       " 'MECH 350 Automatic Control',\n",
       " 'MECH 330 Applied Thermodynamics II',\n",
       " 'MECH 396 Mechanical and Materials Engineering Laboratory I',\n",
       " 'MECH 398 Mechanical Engineering Laboratory I',\n",
       " 'MECH 341 Fluid Mechanics II',\n",
       " 'MECH 397 Mechanical and Materials Engineering Laboratory II',\n",
       " 'MECH 399 Mechanical Engineering Laboratory II',\n",
       " 'MECH 370 Principles of Materials Processing',\n",
       " 'MECH 371 Fracture Mechanics and Dislocation Theory',\n",
       " 'MECH 393 Biomechanical Product Development',\n",
       " 'MECH 394 Frontiers in Biomechanical Engineering',\n",
       " 'MECH 460 Team Project - Conceive and Design',\n",
       " 'MECH 464 Communications and Project Management',\n",
       " 'MECH 462 Team Project - Implement and Operate']"
      ]
     },
     "execution_count": 51,
     "metadata": {},
     "output_type": "execute_result"
    }
   ],
   "source": [
    "course_titles1"
   ]
  },
  {
   "cell_type": "code",
   "execution_count": 52,
   "metadata": {
    "scrolled": true
   },
   "outputs": [
    {
     "data": {
      "text/plain": [
       "['MECH 202',\n",
       " 'MECH 211',\n",
       " 'MECH 217',\n",
       " 'MECH 221',\n",
       " 'MECH 213',\n",
       " 'MECH 230',\n",
       " 'MECH 270',\n",
       " 'APSC 200',\n",
       " 'APSC 293',\n",
       " 'MECH 203',\n",
       " 'MECH 210',\n",
       " 'MECH 212',\n",
       " 'MECH 228',\n",
       " 'MECH 241',\n",
       " 'MECH 273',\n",
       " 'MECH 302',\n",
       " 'MECH 310',\n",
       " 'MECH 321',\n",
       " 'MECH 328',\n",
       " 'APSC 221',\n",
       " 'MECH 323',\n",
       " 'MECH 346',\n",
       " 'MECH 350',\n",
       " 'MECH 330',\n",
       " 'MECH 396',\n",
       " 'MECH 398',\n",
       " 'MECH 341',\n",
       " 'MECH 397',\n",
       " 'MECH 399',\n",
       " 'MECH 370',\n",
       " 'MECH 371',\n",
       " 'MECH 393',\n",
       " 'MECH 394',\n",
       " 'MECH 460',\n",
       " 'MECH 464',\n",
       " 'MECH 462']"
      ]
     },
     "execution_count": 52,
     "metadata": {},
     "output_type": "execute_result"
    }
   ],
   "source": [
    "course_codes = [\" \".join(course_title.split()[:2]) for course_title in course_titles1]\n",
    "course_codes"
   ]
  },
  {
   "cell_type": "code",
   "execution_count": 53,
   "metadata": {
    "scrolled": true
   },
   "outputs": [
    {
     "data": {
      "text/plain": [
       "['Mathematical and Computational Tools for Mechanical Engineers I',\n",
       " 'Manufacturing Methods',\n",
       " 'Measurement in Mechatronics',\n",
       " 'Solid Mechanics I',\n",
       " 'NOT OFFERED 2020-2021 Manufacturing Methods',\n",
       " 'Thermodynamics I',\n",
       " 'Materials Science and Engineering',\n",
       " 'Engineering Design and Practice II',\n",
       " 'Engineering Communications l',\n",
       " 'Mathematical and Computational Tools for Mechanical Engineers II',\n",
       " 'Electronic Circuits and Motors for Mechatronics',\n",
       " 'Machine Tool Laboratory',\n",
       " 'Kinematics and Dynamics',\n",
       " 'Fluid Mechanics I',\n",
       " 'Materials Science and Engineering Lab',\n",
       " 'Mathematical and Computational Tools for Mechanical Engineers III',\n",
       " 'NOT OFFERED 2020-2021 Digital Systems for Mechatronics',\n",
       " 'Solid Mechanics II',\n",
       " 'Dynamics and Vibration',\n",
       " 'Economics and Business Practices in Engineering',\n",
       " 'Machine Design',\n",
       " 'Heat Transfer',\n",
       " 'Automatic Control',\n",
       " 'Applied Thermodynamics II',\n",
       " 'Mechanical and Materials Engineering Laboratory I',\n",
       " 'Mechanical Engineering Laboratory I',\n",
       " 'Fluid Mechanics II',\n",
       " 'Mechanical and Materials Engineering Laboratory II',\n",
       " 'Mechanical Engineering Laboratory II',\n",
       " 'Principles of Materials Processing',\n",
       " 'Fracture Mechanics and Dislocation Theory',\n",
       " 'Biomechanical Product Development',\n",
       " 'Frontiers in Biomechanical Engineering',\n",
       " 'Team Project - Conceive and Design',\n",
       " 'Communications and Project Management',\n",
       " 'Team Project - Implement and Operate']"
      ]
     },
     "execution_count": 53,
     "metadata": {},
     "output_type": "execute_result"
    }
   ],
   "source": [
    "course_names = [\" \".join(course_title.split()[2:]) for course_title in course_titles1]\n",
    "course_names"
   ]
  },
  {
   "cell_type": "code",
   "execution_count": 54,
   "metadata": {},
   "outputs": [
    {
     "data": {
      "text/plain": [
       "['This course will provide students with an introduction to vector calculus, analytical, and numerical solution methods for ordinary differential equations. The topics of the course will be prresented through problems, models and applications relevant to the Mechanical Engineering Program. On completion of the course students will be able to: manipulate vectors; perform numerical integration; solve first- and higher-order ordinary differential equations analytically and numerically.Students will solve problems analytically and computationally in an active learning, tutorialenvironment.',\n",
       " 'The objective of this course is to achieve a knowledge and understanding of a wide variety of manufacturing processes involving plastics and metals. This course forms the basis for improved product and machine design, and will assist the mechanical engineer to function in the areas of design, manufacturing and general engineering. Training in the use of machine and welding tools found in a modern job shop is a required activity practiced in the machine tool laboratory in MECH 212.',\n",
       " 'This course is composed of online instruction in measurement theory andactive lab and tutorial modules that provide hands-on practical experience making measurements, doing analysis, and drawing conclusions from them.On completion of the course, students will be able to: Identify and Quantify measurement objectives in practical engineering applications; Apply statistical analysis, including uncertainty, for interpreting test results; Specify,Select, and Apply transducers, acquisition systems, and procedures to measure pressure, strain, temperature and position;Apply physical principles to predict static and dynamic system performance for pressure, strain, temperature and position measurements;Install and test a micro controller system for data acquisition and control; Acquire and process digital and analog data; Formulate conclusions supported by data and comparison of results to appropriate models; Discuss the limitations of data employed, key findings, trends evident, uncertainty and error;Students willuse mathematical and computationalskills typically acquired in MECH 202 & APSC 143. (CEAB App. 3 qualified)',\n",
       " 'Review of statics, forces and equilibrium, internal forces in simple structures and other material from first year. Further development of axial, torsion, shear and bending moment diagrams, andconcepts of stress and strain. Introduction to mechanical properties of materials, centroids and moments of areas, axial stress, flexural stress, transverse shear stress, calculation of displacement by integration, combined loading, and stress transformation. This course is designed primarily for mechanical engineering students.',\n",
       " 'The objective of this course is to achieve a knowledge and understanding of a wide variety of manufacturing processes involving plastics and metals. This course forms the basis for improved product and machine design, and will assist the mechanical engineer to function in the areas of design, manufacturing and general engineering. Training in the use of machine and welding tools found in a modern job shop is a required activity practiced in the machine tool laboratory. NOTE: It is highly advised that MME students take MECH 270concurrently with this course.',\n",
       " 'An introductory course in thermodynamics. Topics include: properties and behaviour of pure substances, concepts of heat, work and energy, the First and Second Laws of Thermodynamics, and the analysis of a variety of power and refrigeration cycles.',\n",
       " 'This course provides the student with a background in the basic structural concepts of materials and the relationships between processing, structure, properties and performance. The topics will range from atomic bonding and arrangements, through micro-and macro-structures and their influence on properties, to the processing techniques required to produce the desired structures. All current types of engineering materials, including metals, ceramics, polymers, composites and semiconductors are covered.',\n",
       " 'In this course students will participate constructively on teams to create solutions to open-ended complex problems, using standard design methods and tools. This project-based course provides instruction primarily in the first 6 weeks of the semester focusing on problem scoping, creativity and idea generation, decision making incorporating technical, economic, societal, and environmental factors, safety, engineering codes and regulations, and engineering ethics. The final 6 weeks of the course centre around a design project delivered by each discipline. This course is integrated with APSC 293, and coordinated by the same instructor.',\n",
       " 'This course provides an introduction to effective engineering writing and speaking skills with the emphasis on professional correspondence, engineering reports, oral briefings, and formal oral presentations. These skills are developed in lectures and small group tutorials. This course is integrated with APSC 200, and coordinated by the same instructor.',\n",
       " 'This course will introduce numerical and statistical methods for the solution of engineering problems, to complement those discussed in MECH 202. The topics of the course will be presented through problems, models and applications relevant to the Mechanical Engineering Program. On completion of the course students will be able to: solve linear systems of equations;analyze random processes;perform local optimization and hypothesis testing; interpolate and fit discrete data sequences.Students will solveproblems analytically and computationally in an active learning, tutorialenvironment. The course will include a design project.',\n",
       " 'This introductory course for mechanical engineering students begins with a review of the concepts of resistance, capacitance, and inductance. Circuit analysis techniques are then applied to characterize the behaviour of commonly used mechatronic circuits including devices such as transformers, diodes, solenoids, DC motors and actuators. Transistors are introduced in switching applications. Selection and testing of electric motors and drivers/controllers for stationary and mobile mechanical applications. Lab activities will focus on design, construction, and testing of microcontroller based mechatronic systems for practical applications, building on skills typically developed in MECH 217.Students will solve mechatronics problems analytically and computationally in an active learning, tutorialenvironment.',\n",
       " 'Training in the use of machine and welding tools found in a modern job shop is a required activity practiced in the machine tool laboratory in this course.',\n",
       " 'This course will cover the following topics in the field of dynamics. Kinematics of particles: planar and three-dimensional motion (rectilinear, curvilinear), choosing a coordinate system, conversions between systems, space curvilinear motion using vector derivatives, free and constrained paths, relative motion between particles. Kinetics of systems of particles: generalized Newton’s Second Law, work and energy, impulse and momentum, conservation of energy and momentum, impact. Students will solve dynamics problems analytically andcomputationally in an active learning environment.',\n",
       " 'An introductory course in fluid mechanics. Topics include properties of fluids, fluids at rest, manometers and other pressure measuring devices, dimensional analysis, the laws of conservation of mass and momentum, Bernoulli’s equation for incompressible flow and the energy equation, flow measurements, elementary pipe flow problems including losses, pumps, etc. On completion of the course students will be able to: Explain Bernoulli based energy equations with reference to energy and hydraulic grade lines, static and dynamic pressure; Explain control volume and control mass analysis with reference to Eulerian and Lagrangian frames, applied forces and flows; Solve simple flow systems for velocity distributions using continuity and Navier Stokes equations with appropriate boundary conditions; Solve flow and force problems in an integral framework using Bernoulli, conservation of mass and momentum; Solve piping system performance problems using Bernoulli with friction, minor losses, pump and turbine performance curves; Calculate pressures and forces on submerged surfaces in a static fluid; Solve scaling problems using dimensionless groups.',\n",
       " 'This course provides a hands-on exploration of some of the concepts introduced in MECH 270. This will include mechanical testing at room and elevated temperature as well as subsequent examination of microstructure. Results obtained will be related to the mechanisms discussed in MECH 270.',\n",
       " 'This course will introduce advanced numerical and statistical methods for the solution of engineering problems, to complement those discussed in MECH 202 and 203. The topics of the course will be presented through problems, models and applications relevant to the Mechanical Engineering Program. On completion of the course the students will be able to: perform spectral analysis, use Laplace transforms, perform multi-variate statistical analysis and global optimization, and implement Bayesian inference.',\n",
       " 'Microcontroller based operation of programmable digital sensors, servo motors, stepper motors, and activation of pneumatic and hydraulic drivers. PLC control of sequential logic operations in mechanical systems. Introduction to frequency response of systems with FFT application for machine health monitoring. Industrial communication standards for local and internet-based information transfer; Internet of Things (IOT) concepts. Off grid systems, photovoltaics, and inverters. Lab activities will focus on design, construction, and testing of microcontroller based mechatronic systems for practical applications, building on skills developed in MECH 217 and MECH 210.',\n",
       " 'This course continues the study of solid mechanics. On completion of the course students will be able to: Calculate the total normal and shear stress at a point and sketch the stress distributions on a cross-section of a structural component (such as a crank) experiencing 3D combined (axial, transverse and/or moment causing) loads and non-symmetric loads; Calculate the residual normal or shear stress at a point and sketch the stress distribution on a cross-section of a structural component that is experiencing axial, torsional and/or bending loads followed by unloading; Calculate the normal or shear stress at a point on a cross-section of a structural component that is under load (axial, torsional and/or bending) and is supported in a statically indeterminate configuration (using force balance equations together with compatibility equations derived from known boundary conditions); Calculate the normal or shear stress at a point on a cross-section of a structural component that is under load (axial, torsional and/or bending) and contains one or more locations of stress concentration; Calculate, using general equations and/or graphically using a Mohr’s circle, the normal and shear stress and/or strain transformations at a point within a structural component under load as a function of the orientation relative to a fixed coordinate system and find the maximum in-plane normal and shear stress and/or strain; Calculate the deflections and angles of deflection at any point on a transversely loaded beam of uniform cross-section using the principle of superposition and the standard equations for single loads acting on simply supported beams; Solve for critical loads in terms of buckling for concentrically and eccentrically loaded columns; Calculate the optimum dimensions (design) for shafts and beams under combined 3D loading based on specified material failure criteria; Design mechanism or structural components to withstand all forces for given loads, maximum deflection tolerances, factor of safety and material properties.',\n",
       " 'This course covers the kinematics and dynamics of rigid bodies in two and three dimensions, as well as an introduction to vibrations. Topics in dynamics include: mathematically rigorous kinematic analysis, Newton’s laws, energy methods, impulse and momentum methods, mass moments of inertia, and gyroscopic motion. Topics in vibrations include: free and forced vibration of single-degree-of-freedom systems, undamped and damped systems, equivalent single degree of freedom system of continuous elements/systems using energy equivalence and equation of motion.',\n",
       " 'This course will provide the student in the Engineering program with the ability to appropriately incorporate selected economic and business practices into the practice of engineering. The practices covered include: business planning for the enterprise, enterprise economic analysis, project management process, project economic analysis, risk analysis and management, quality management and change management. Assignments and examples are based on situations from engineering based industries. Also Available Online.',\n",
       " 'This course emphasizes the application of theoretical and engineering background taught in other courses, but also relies heavily on empirical approaches and simplifications of theory. Core material includes static and fatigue failure theories and the design/specification of selected machine elements. The course is centered around a major design project which is undertaken in groups.',\n",
       " 'An introductory course which covers conduction, convection and radiation modes of heat transfer. Both analytical and numerical analysis will be discussed, and concepts will be reinforced through tutorial and laboratory sessions. Latter topics will include combined modes of heat transfer and the design of heat exchangers.',\n",
       " 'An introduction to the basic principles of modelling, analysis and control of dynamic systems. Topics include: modes of control, principles of feedback, Laplace and transfer functions, transient response of first and second order systems, stability criteria, root locus, Bode and frequency response. After completion of this course a student will be able to design a control system by classical techniques and will have an awareness of modern techniques.',\n",
       " 'A continuation of MECH 230with selected topics such as gas and vapour power cycles, refrigeration, mixtures of gases and vapours, combustion and available energy.',\n",
       " 'This is the first of two laboratory courses in the third year of the Materials Option of the Mechanical Engineering program. Lecture topics and course assignments are selected to provide the background required to undertake the laboratory work.',\n",
       " 'This is the first of two laboratory courses in the third year of the General Option of the Mechanical Engineering program. Lecture topics and course assignments are selected to provide the background required to undertake the laboratory work. Lab modules from MECH 396/MECH 397/MECH 399completed but not counted for credit may be included for credit in this course.',\n",
       " 'A second course in fluid mechanics covering the differential form of conservation laws, boundary layer and external flows, compressible flows and the operation of rotational fluid machinery. On completion of the course students will be able to: Apply control volume analysis to mass, momentum and energy conservation; Apply differential form of mass and momentum conservation to the concept of flow field and its properties, including Navier Stokes equations; Apply stream function and velocity potential to the analysis of two-dimensional inviscid flows, and use the superposition principle to build complex flow fields from building block ingredients; Calculate drag and lift on solid bodies such as airfoils; Explain boundary layer flows, including the concept of various boundary layer thicknesses, shape factor, flow separation and the difference between laminar and turbulent boundary layers; Explain compressible flow features based on one-dimensional compressible subsonic and supersonic flows, with and without normal shock waves; Calculate design parameters of rotational fluid machinery, including centrifugal pumps and wind turbines.',\n",
       " 'This is the second of two laboratory courses in the third year of the Materials Option of the Mechanical Engineering program. Lecture topics and course assignments are selected to provide the background required to undertake the laboratory work. Approximately half of the material is common with MECH 399.',\n",
       " 'This is the second of two laboratory courses in the third year of the General Option of the Mechanical Engineering program. Lecture topics and course assignments are selected to provide the background required to undertake the laboratory work. Lab modules from MECH 396/MECH 397/MECH 398completed but not counted for credit may be included for credit in this course.',\n",
       " 'The basic mechanisms of mass transport and phase transformations in materials are developed from thermodynamic and kinetic principles. Topics include phase equilibria, diffusion, solidification and solid-state transformations. The application of these phenomena to materials processing methods, such as casting, forming, heat treatment and sintering is described.',\n",
       " 'Fracture Mechanics are developed to explain crack propagation in materials and structures. This includes development of the strain energy release rate (GIC) and the critical stress intensity factor (KIC). Emphasis will be placed on developing the correlation between microstructure control and the resistance to crack propagation which this variable produces. Dislocation theory will be evoked to analyze the stress fields of point, line and plane defects. Plasticity and fracture will be detailed, which includes the time dependent aspects of such processes as static fatigue and creep fracture.',\n",
       " 'This course focuses on design, manufacturing and product management of various implantable biomechanical devices, such as artificial joints, ligaments and various other external devices for persons with disabilities. Some aspects, such as the determination of the geometry and different sizes for artificial joints are product specific, while safety criteria, standards, rational choice of alternatives, design procedures and product management are applicable when designing a much larger variety of products. Much of the theory will be based on examples of artificial joints, and on external devices and instruments.',\n",
       " 'This course addresses the fundamental principles of biomechanical engineering through four introductory modules, each dedicated to one topic: biology, biomechanics, biotransport, and mechatronics. Each module introduces the background and technical principles required to understand topics in biomechanical engineering. This course content emphasizes the multidisciplinary approaches needed to understand a problem from both biology and mechanical engineering perspectives and includes guest lectures given by biomechanical engineering experts with a goal of providing students with exposure to the current biomechanical engineering research landscape.\\nStudents are presumed to have sound background in mechanical measurement, solid mechanics, kinematics and dynamics typically acquired from MECH 217, 221, 228, 321 and 328.',\n",
       " 'Students working in teams will be required to “conceive and design” a product, system or process using the knowledge and skills acquired in earlier courses. Elements of the design will include: specification of function, analysis, selection of materials and/or components, preparation of working drawings, cost analysis and tenders, and preparation of preliminary design report. A research project may be accepted as an engineering design project provided it can be clearly shown that the elements of “conceive and design” are fulfilled in the completion of the project. Lectures and Guest Speakers will focus on related professional skills and topics including engineering ethics, professional organizations and legislation, intellectual property and information systems in support of the project.',\n",
       " 'This course provides advanced instruction and practice in technical communication and project management for multidisciplinary engineering projects. Content includes request for proposals, project planning and proposal writing, quality function deployment, oral presentation skills, client communications and concise report writing. Course deliverables are closely tied to deliverables in Capstone design courses. Open to Mechanical and Materials Engineering students only.',\n",
       " 'This course is intended to enable team projects that started in MECH 460, to continue to the “implement and operate” phases of the design cycle. However, new projects can be the subject of MECH 462 as long as they meet the “implement and operate” objectives of the course. An engineering report is prepared and defended. The presentation is normally supported by a working prototype or physical mock-up of the design. Testing a process or system can replace the building of a prototype. Choices of available projects are limited and should be discussed with the instructor.']"
      ]
     },
     "execution_count": 54,
     "metadata": {},
     "output_type": "execute_result"
    }
   ],
   "source": [
    "course_descs = [re.split(\"Tutorial: [YesNo.0-9]{1,4}\", container.text)[1].split(\" Academic Units:\")[0].replace(\"\\xa0\", \"\").strip() for container in containers]\n",
    "course_descs"
   ]
  },
  {
   "cell_type": "markdown",
   "metadata": {},
   "source": [
    "# 4. Write to CSV"
   ]
  },
  {
   "cell_type": "code",
   "execution_count": 55,
   "metadata": {
    "scrolled": true
   },
   "outputs": [
    {
     "data": {
      "text/html": [
       "<div>\n",
       "<style scoped>\n",
       "    .dataframe tbody tr th:only-of-type {\n",
       "        vertical-align: middle;\n",
       "    }\n",
       "\n",
       "    .dataframe tbody tr th {\n",
       "        vertical-align: top;\n",
       "    }\n",
       "\n",
       "    .dataframe thead th {\n",
       "        text-align: right;\n",
       "    }\n",
       "</style>\n",
       "<table border=\"1\" class=\"dataframe\">\n",
       "  <thead>\n",
       "    <tr style=\"text-align: right;\">\n",
       "      <th></th>\n",
       "      <th>Course Number</th>\n",
       "      <th>Course Name</th>\n",
       "      <th>Course Description</th>\n",
       "    </tr>\n",
       "  </thead>\n",
       "  <tbody>\n",
       "    <tr>\n",
       "      <th>0</th>\n",
       "      <td>MECH 202</td>\n",
       "      <td>Mathematical and Computational Tools for Mecha...</td>\n",
       "      <td>This course will provide students with an intr...</td>\n",
       "    </tr>\n",
       "    <tr>\n",
       "      <th>1</th>\n",
       "      <td>MECH 211</td>\n",
       "      <td>Manufacturing Methods</td>\n",
       "      <td>The objective of this course is to achieve a k...</td>\n",
       "    </tr>\n",
       "    <tr>\n",
       "      <th>2</th>\n",
       "      <td>MECH 217</td>\n",
       "      <td>Measurement in Mechatronics</td>\n",
       "      <td>This course is composed of online instruction ...</td>\n",
       "    </tr>\n",
       "    <tr>\n",
       "      <th>3</th>\n",
       "      <td>MECH 221</td>\n",
       "      <td>Solid Mechanics I</td>\n",
       "      <td>Review of statics, forces and equilibrium, int...</td>\n",
       "    </tr>\n",
       "    <tr>\n",
       "      <th>4</th>\n",
       "      <td>MECH 213</td>\n",
       "      <td>NOT OFFERED 2020-2021 Manufacturing Methods</td>\n",
       "      <td>The objective of this course is to achieve a k...</td>\n",
       "    </tr>\n",
       "    <tr>\n",
       "      <th>5</th>\n",
       "      <td>MECH 230</td>\n",
       "      <td>Thermodynamics I</td>\n",
       "      <td>An introductory course in thermodynamics. Topi...</td>\n",
       "    </tr>\n",
       "    <tr>\n",
       "      <th>6</th>\n",
       "      <td>MECH 270</td>\n",
       "      <td>Materials Science and Engineering</td>\n",
       "      <td>This course provides the student with a backgr...</td>\n",
       "    </tr>\n",
       "    <tr>\n",
       "      <th>7</th>\n",
       "      <td>APSC 200</td>\n",
       "      <td>Engineering Design and Practice II</td>\n",
       "      <td>In this course students will participate const...</td>\n",
       "    </tr>\n",
       "    <tr>\n",
       "      <th>8</th>\n",
       "      <td>APSC 293</td>\n",
       "      <td>Engineering Communications l</td>\n",
       "      <td>This course provides an introduction to effect...</td>\n",
       "    </tr>\n",
       "    <tr>\n",
       "      <th>9</th>\n",
       "      <td>MECH 203</td>\n",
       "      <td>Mathematical and Computational Tools for Mecha...</td>\n",
       "      <td>This course will introduce numerical and stati...</td>\n",
       "    </tr>\n",
       "    <tr>\n",
       "      <th>10</th>\n",
       "      <td>MECH 210</td>\n",
       "      <td>Electronic Circuits and Motors for Mechatronics</td>\n",
       "      <td>This introductory course for mechanical engine...</td>\n",
       "    </tr>\n",
       "    <tr>\n",
       "      <th>11</th>\n",
       "      <td>MECH 212</td>\n",
       "      <td>Machine Tool Laboratory</td>\n",
       "      <td>Training in the use of machine and welding too...</td>\n",
       "    </tr>\n",
       "    <tr>\n",
       "      <th>12</th>\n",
       "      <td>MECH 228</td>\n",
       "      <td>Kinematics and Dynamics</td>\n",
       "      <td>This course will cover the following topics in...</td>\n",
       "    </tr>\n",
       "    <tr>\n",
       "      <th>13</th>\n",
       "      <td>MECH 241</td>\n",
       "      <td>Fluid Mechanics I</td>\n",
       "      <td>An introductory course in fluid mechanics. Top...</td>\n",
       "    </tr>\n",
       "    <tr>\n",
       "      <th>14</th>\n",
       "      <td>MECH 273</td>\n",
       "      <td>Materials Science and Engineering Lab</td>\n",
       "      <td>This course provides a hands-on exploration of...</td>\n",
       "    </tr>\n",
       "    <tr>\n",
       "      <th>15</th>\n",
       "      <td>MECH 302</td>\n",
       "      <td>Mathematical and Computational Tools for Mecha...</td>\n",
       "      <td>This course will introduce advanced numerical ...</td>\n",
       "    </tr>\n",
       "    <tr>\n",
       "      <th>16</th>\n",
       "      <td>MECH 310</td>\n",
       "      <td>NOT OFFERED 2020-2021 Digital Systems for Mech...</td>\n",
       "      <td>Microcontroller based operation of programmabl...</td>\n",
       "    </tr>\n",
       "    <tr>\n",
       "      <th>17</th>\n",
       "      <td>MECH 321</td>\n",
       "      <td>Solid Mechanics II</td>\n",
       "      <td>This course continues the study of solid mecha...</td>\n",
       "    </tr>\n",
       "    <tr>\n",
       "      <th>18</th>\n",
       "      <td>MECH 328</td>\n",
       "      <td>Dynamics and Vibration</td>\n",
       "      <td>This course covers the kinematics and dynamics...</td>\n",
       "    </tr>\n",
       "    <tr>\n",
       "      <th>19</th>\n",
       "      <td>APSC 221</td>\n",
       "      <td>Economics and Business Practices in Engineering</td>\n",
       "      <td>This course will provide the student in the En...</td>\n",
       "    </tr>\n",
       "    <tr>\n",
       "      <th>20</th>\n",
       "      <td>MECH 323</td>\n",
       "      <td>Machine Design</td>\n",
       "      <td>This course emphasizes the application of theo...</td>\n",
       "    </tr>\n",
       "    <tr>\n",
       "      <th>21</th>\n",
       "      <td>MECH 346</td>\n",
       "      <td>Heat Transfer</td>\n",
       "      <td>An introductory course which covers conduction...</td>\n",
       "    </tr>\n",
       "    <tr>\n",
       "      <th>22</th>\n",
       "      <td>MECH 350</td>\n",
       "      <td>Automatic Control</td>\n",
       "      <td>An introduction to the basic principles of mod...</td>\n",
       "    </tr>\n",
       "    <tr>\n",
       "      <th>23</th>\n",
       "      <td>MECH 330</td>\n",
       "      <td>Applied Thermodynamics II</td>\n",
       "      <td>A continuation of MECH 230with selected topics...</td>\n",
       "    </tr>\n",
       "    <tr>\n",
       "      <th>24</th>\n",
       "      <td>MECH 396</td>\n",
       "      <td>Mechanical and Materials Engineering Laboratory I</td>\n",
       "      <td>This is the first of two laboratory courses in...</td>\n",
       "    </tr>\n",
       "    <tr>\n",
       "      <th>25</th>\n",
       "      <td>MECH 398</td>\n",
       "      <td>Mechanical Engineering Laboratory I</td>\n",
       "      <td>This is the first of two laboratory courses in...</td>\n",
       "    </tr>\n",
       "    <tr>\n",
       "      <th>26</th>\n",
       "      <td>MECH 341</td>\n",
       "      <td>Fluid Mechanics II</td>\n",
       "      <td>A second course in fluid mechanics covering th...</td>\n",
       "    </tr>\n",
       "    <tr>\n",
       "      <th>27</th>\n",
       "      <td>MECH 397</td>\n",
       "      <td>Mechanical and Materials Engineering Laborator...</td>\n",
       "      <td>This is the second of two laboratory courses i...</td>\n",
       "    </tr>\n",
       "    <tr>\n",
       "      <th>28</th>\n",
       "      <td>MECH 399</td>\n",
       "      <td>Mechanical Engineering Laboratory II</td>\n",
       "      <td>This is the second of two laboratory courses i...</td>\n",
       "    </tr>\n",
       "    <tr>\n",
       "      <th>29</th>\n",
       "      <td>MECH 370</td>\n",
       "      <td>Principles of Materials Processing</td>\n",
       "      <td>The basic mechanisms of mass transport and pha...</td>\n",
       "    </tr>\n",
       "    <tr>\n",
       "      <th>30</th>\n",
       "      <td>MECH 371</td>\n",
       "      <td>Fracture Mechanics and Dislocation Theory</td>\n",
       "      <td>Fracture Mechanics are developed to explain cr...</td>\n",
       "    </tr>\n",
       "    <tr>\n",
       "      <th>31</th>\n",
       "      <td>MECH 393</td>\n",
       "      <td>Biomechanical Product Development</td>\n",
       "      <td>This course focuses on design, manufacturing a...</td>\n",
       "    </tr>\n",
       "    <tr>\n",
       "      <th>32</th>\n",
       "      <td>MECH 394</td>\n",
       "      <td>Frontiers in Biomechanical Engineering</td>\n",
       "      <td>This course addresses the fundamental principl...</td>\n",
       "    </tr>\n",
       "    <tr>\n",
       "      <th>33</th>\n",
       "      <td>MECH 460</td>\n",
       "      <td>Team Project - Conceive and Design</td>\n",
       "      <td>Students working in teams will be required to ...</td>\n",
       "    </tr>\n",
       "    <tr>\n",
       "      <th>34</th>\n",
       "      <td>MECH 464</td>\n",
       "      <td>Communications and Project Management</td>\n",
       "      <td>This course provides advanced instruction and ...</td>\n",
       "    </tr>\n",
       "    <tr>\n",
       "      <th>35</th>\n",
       "      <td>MECH 462</td>\n",
       "      <td>Team Project - Implement and Operate</td>\n",
       "      <td>This course is intended to enable team project...</td>\n",
       "    </tr>\n",
       "  </tbody>\n",
       "</table>\n",
       "</div>"
      ],
      "text/plain": [
       "   Course Number                                        Course Name  \\\n",
       "0       MECH 202  Mathematical and Computational Tools for Mecha...   \n",
       "1       MECH 211                              Manufacturing Methods   \n",
       "2       MECH 217                        Measurement in Mechatronics   \n",
       "3       MECH 221                                  Solid Mechanics I   \n",
       "4       MECH 213        NOT OFFERED 2020-2021 Manufacturing Methods   \n",
       "5       MECH 230                                   Thermodynamics I   \n",
       "6       MECH 270                  Materials Science and Engineering   \n",
       "7       APSC 200                 Engineering Design and Practice II   \n",
       "8       APSC 293                       Engineering Communications l   \n",
       "9       MECH 203  Mathematical and Computational Tools for Mecha...   \n",
       "10      MECH 210    Electronic Circuits and Motors for Mechatronics   \n",
       "11      MECH 212                            Machine Tool Laboratory   \n",
       "12      MECH 228                            Kinematics and Dynamics   \n",
       "13      MECH 241                                  Fluid Mechanics I   \n",
       "14      MECH 273              Materials Science and Engineering Lab   \n",
       "15      MECH 302  Mathematical and Computational Tools for Mecha...   \n",
       "16      MECH 310  NOT OFFERED 2020-2021 Digital Systems for Mech...   \n",
       "17      MECH 321                                 Solid Mechanics II   \n",
       "18      MECH 328                             Dynamics and Vibration   \n",
       "19      APSC 221    Economics and Business Practices in Engineering   \n",
       "20      MECH 323                                     Machine Design   \n",
       "21      MECH 346                                      Heat Transfer   \n",
       "22      MECH 350                                  Automatic Control   \n",
       "23      MECH 330                          Applied Thermodynamics II   \n",
       "24      MECH 396  Mechanical and Materials Engineering Laboratory I   \n",
       "25      MECH 398                Mechanical Engineering Laboratory I   \n",
       "26      MECH 341                                 Fluid Mechanics II   \n",
       "27      MECH 397  Mechanical and Materials Engineering Laborator...   \n",
       "28      MECH 399               Mechanical Engineering Laboratory II   \n",
       "29      MECH 370                 Principles of Materials Processing   \n",
       "30      MECH 371          Fracture Mechanics and Dislocation Theory   \n",
       "31      MECH 393                  Biomechanical Product Development   \n",
       "32      MECH 394             Frontiers in Biomechanical Engineering   \n",
       "33      MECH 460                 Team Project - Conceive and Design   \n",
       "34      MECH 464              Communications and Project Management   \n",
       "35      MECH 462               Team Project - Implement and Operate   \n",
       "\n",
       "                                   Course Description  \n",
       "0   This course will provide students with an intr...  \n",
       "1   The objective of this course is to achieve a k...  \n",
       "2   This course is composed of online instruction ...  \n",
       "3   Review of statics, forces and equilibrium, int...  \n",
       "4   The objective of this course is to achieve a k...  \n",
       "5   An introductory course in thermodynamics. Topi...  \n",
       "6   This course provides the student with a backgr...  \n",
       "7   In this course students will participate const...  \n",
       "8   This course provides an introduction to effect...  \n",
       "9   This course will introduce numerical and stati...  \n",
       "10  This introductory course for mechanical engine...  \n",
       "11  Training in the use of machine and welding too...  \n",
       "12  This course will cover the following topics in...  \n",
       "13  An introductory course in fluid mechanics. Top...  \n",
       "14  This course provides a hands-on exploration of...  \n",
       "15  This course will introduce advanced numerical ...  \n",
       "16  Microcontroller based operation of programmabl...  \n",
       "17  This course continues the study of solid mecha...  \n",
       "18  This course covers the kinematics and dynamics...  \n",
       "19  This course will provide the student in the En...  \n",
       "20  This course emphasizes the application of theo...  \n",
       "21  An introductory course which covers conduction...  \n",
       "22  An introduction to the basic principles of mod...  \n",
       "23  A continuation of MECH 230with selected topics...  \n",
       "24  This is the first of two laboratory courses in...  \n",
       "25  This is the first of two laboratory courses in...  \n",
       "26  A second course in fluid mechanics covering th...  \n",
       "27  This is the second of two laboratory courses i...  \n",
       "28  This is the second of two laboratory courses i...  \n",
       "29  The basic mechanisms of mass transport and pha...  \n",
       "30  Fracture Mechanics are developed to explain cr...  \n",
       "31  This course focuses on design, manufacturing a...  \n",
       "32  This course addresses the fundamental principl...  \n",
       "33  Students working in teams will be required to ...  \n",
       "34  This course provides advanced instruction and ...  \n",
       "35  This course is intended to enable team project...  "
      ]
     },
     "execution_count": 55,
     "metadata": {},
     "output_type": "execute_result"
    }
   ],
   "source": [
    "import pandas as pd\n",
    "\n",
    "df = pd.DataFrame({\n",
    "    \"Course Number\": course_codes,\n",
    "    \"Course Name\": course_names,\n",
    "    \"Course Description\": course_descs    \n",
    "})\n",
    "\n",
    "df"
   ]
  },
  {
   "cell_type": "code",
   "execution_count": 56,
   "metadata": {},
   "outputs": [],
   "source": [
    "df.to_csv('QueensU_MechEng_(All3Subplans)_Core_(Years2-4)_Courses.csv', index = False)"
   ]
  },
  {
   "cell_type": "code",
   "execution_count": 57,
   "metadata": {},
   "outputs": [],
   "source": [
    "driver.quit()"
   ]
  }
 ],
 "metadata": {
  "kernelspec": {
   "display_name": "Python 3",
   "language": "python",
   "name": "python3"
  },
  "language_info": {
   "codemirror_mode": {
    "name": "ipython",
    "version": 3
   },
   "file_extension": ".py",
   "mimetype": "text/x-python",
   "name": "python",
   "nbconvert_exporter": "python",
   "pygments_lexer": "ipython3",
   "version": "3.8.5"
  }
 },
 "nbformat": 4,
 "nbformat_minor": 4
}
