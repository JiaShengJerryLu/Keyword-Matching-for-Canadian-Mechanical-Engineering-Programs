{
 "cells": [
  {
   "cell_type": "code",
   "execution_count": 1,
   "metadata": {},
   "outputs": [],
   "source": [
    "from bs4 import BeautifulSoup as soup\n",
    "from urllib.request import urlopen as ureq\n",
    "from selenium import webdriver\n",
    "import time\n",
    "import re"
   ]
  },
  {
   "cell_type": "code",
   "execution_count": 2,
   "metadata": {},
   "outputs": [],
   "source": [
    "url = \"https://calendar.engineering.queensu.ca/preview_program.php?catoid=9&poid=526&returnto=232\""
   ]
  },
  {
   "cell_type": "code",
   "execution_count": 3,
   "metadata": {},
   "outputs": [],
   "source": [
    "chrome_options = webdriver.ChromeOptions()\n",
    "chrome_options.add_argument('--ignore-certificate-errors')\n",
    "chrome_options.add_argument('--incognito')\n",
    "#chrome_options.add_argument('--headless')\n",
    "\n",
    "driver = webdriver.Chrome(\"C:\\\\Users\\\\jerry\\\\Downloads\\\\chromedriver\", options=chrome_options)"
   ]
  },
  {
   "cell_type": "code",
   "execution_count": 4,
   "metadata": {},
   "outputs": [],
   "source": [
    "driver.get(url)"
   ]
  },
  {
   "cell_type": "markdown",
   "metadata": {},
   "source": [
    "# 1. Collect all course link texts for webdriver to click on"
   ]
  },
  {
   "cell_type": "code",
   "execution_count": 5,
   "metadata": {},
   "outputs": [],
   "source": [
    "page_soup = soup(driver.page_source, 'lxml')"
   ]
  },
  {
   "cell_type": "code",
   "execution_count": 6,
   "metadata": {},
   "outputs": [
    {
     "data": {
      "text/plain": [
       "4"
      ]
     },
     "execution_count": 6,
     "metadata": {},
     "output_type": "execute_result"
    }
   ],
   "source": [
    "containers = page_soup.find(\"div\", {\"class\": \"custom_leftpad_20\"}).findAll(\"div\", {\"class\": \"acalog-core\"})[:4]\n",
    "len(containers)"
   ]
  },
  {
   "cell_type": "code",
   "execution_count": 7,
   "metadata": {
    "scrolled": true
   },
   "outputs": [
    {
     "data": {
      "text/plain": [
       "['APSC 381 NOT OFFERED 2020-2021 Advanced Design and Skills for Innovation W |  K3.5',\n",
       " 'APSC 400 NOT OFFERED 2020-2021 Technology, Engineering & Management (TEAM) FW* |  K7',\n",
       " 'APSC 401 Interdisciplinary Projects W |  K4.5',\n",
       " 'CHEE 400 DELETED Technology, Engineering & Management (TEAM) FW |  K7',\n",
       " 'CHEE 490 Polymer Formulations and Processing Technology W | 3.5 ',\n",
       " 'ELEC 280 Fundamentals of Electromagnetics W | 3.75 ',\n",
       " 'ELEC 333 Electric Machines W | 4.25 ',\n",
       " 'MECH 330 Applied Thermodynamics II F | 3.5 ',\n",
       " 'MECH 341 Fluid Mechanics II W | 3.5 ',\n",
       " 'MECH 361 NOT OFFERED 2020-2021 - Project Based Engineering: Conceive, Design, Implement and Operate W |  K3.5',\n",
       " 'MECH 370 Principles of Materials Processing F | 3.5 ',\n",
       " 'MECH 371 Fracture Mechanics and Dislocation Theory W | 3.5 ',\n",
       " 'MECH 393 Biomechanical Product Development W | 3.5 ',\n",
       " 'MECH 394 Frontiers in Biomechanical Engineering F | 3.5 ',\n",
       " 'MECH 420 NOT OFFERED 2020-2021 - Vibrations W | 3.5 ',\n",
       " 'MECH 423 Introduction to Microsystems W | 3.5 ',\n",
       " 'MECH 424 NOT OFFERED 2020-2021 - Sustainable Product Design F | 3.5 ',\n",
       " 'MECH 430 NOT OFFERED 2020-2021 - Thermal Systems Design W | 4 ',\n",
       " 'MECH 435 Internal Combustion Engines W | 3.5 ',\n",
       " 'MECH 437 Fuel Cell Technology F | 3.5 ',\n",
       " 'MECH 439 Turbomachinery W | 3.5 ',\n",
       " 'MECH 441 NOT OFFERED 2020-2021 - Fluid Mechanics III W | 3.5 ',\n",
       " 'MECH 444 NOT OFFERED 2020-2021 - Computational Fluid Dynamics W | 3.5 ',\n",
       " 'MECH 448 Compressible Fluid Flow W | 3.5 ',\n",
       " 'MECH 452 Mechatronics Engineering F/W | 5 ',\n",
       " 'MECH 455 Computer Integrated Manufacturing F | 3.5 ',\n",
       " 'MECH 456 Introduction to Robotics F | 3.5 ',\n",
       " 'MECH 461 Research Project W |  K4',\n",
       " 'MECH 462 Team Project - Implement and Operate W |  K3.5',\n",
       " 'MECH 465 Computer-Aided Design F | 3.5 ',\n",
       " 'MECH 480 Airplane Aerodynamics and Performance W | 3.5 ',\n",
       " 'MECH 481 NOT OFFERED 2020-2021 - Wind Energy F | 3.5 ',\n",
       " 'MECH 482 Noise Control W | 3.5 ',\n",
       " 'MECH 492 NOT OFFERED 2020-21 - Biological Fluid Dynamics F | 3.5 ',\n",
       " 'MECH 495 Ergonomics and Design W | 3.5 ',\n",
       " 'MECH 461 Research Project W |  K4',\n",
       " 'MECH 470 Deformation Processing W | 3.5 ',\n",
       " 'MECH 476 Engineering of Polymers and Composite Materials W | 3.5 ',\n",
       " 'MECH 478 Biomaterials F | 3.5 ',\n",
       " 'MECH 479 Nano-Structured Materials F | 3.5 ',\n",
       " 'MECH 483 Nuclear Materials F | 3.5 ',\n",
       " 'MECH 484 DELETED - Introduction to Ceramics F | 3.5 ',\n",
       " 'MECH 461 Research Project W |  K4',\n",
       " 'CHEE 380 Biochemical Engineering F (6WK Sess2) | 3.5 ',\n",
       " 'CHEE 440 Pharmaceutical Technology W | 3.5 ',\n",
       " 'CHEE 450 DELETED - Engineering Biology W | 3.5 ',\n",
       " 'CHEE 484 NOT OFFERED 2020-2021 Bioremediation W | 3.5 ',\n",
       " 'ELEC 408 Biomedical Signal and Image Processing W | 3 ',\n",
       " 'MECH 465 Computer-Aided Design F | 3.5 ',\n",
       " 'MECH 478 Biomaterials F | 3.5 ',\n",
       " 'MECH 492 NOT OFFERED 2020-21 - Biological Fluid Dynamics F | 3.5 ',\n",
       " 'MECH 494 NOT OFFERED 2020-2021 Kinematics of Human Motion F | 3.5 ',\n",
       " 'MECH 495 Ergonomics and Design W | 3.5 ',\n",
       " 'MECH 496 Musculoskeletal Biomechanics F | 3.5 ',\n",
       " 'ANAT 100 Anatomy of the Human Body F,W,S | 3.0 ',\n",
       " 'APSC 250 Biology Through an Engineering Lens S/OL |  K3.5',\n",
       " 'CHEE 340 Biomedical Engineering W | 3.5 ',\n",
       " 'CHEE 342 Environmental Biotechnology F | 3.5 ',\n",
       " 'CHEE 370 Deleted - Waste Treatment Processes W | 3.5 ',\n",
       " 'CHEE 371 Mitigation of Industrial Pollution W | 3.5 ',\n",
       " 'CHEE 412 Transport Phenomena W | 3.5 ',\n",
       " 'CHEE 363 Electrochemical Engineering* W | 3.5 ',\n",
       " 'CIVL 371 Groundwater Engineering F | 3.75 ',\n",
       " 'CIVL 372 Water and Wastewater Engineering W | 4 ',\n",
       " 'CIVL 471 Subsurface Contamination F | 4 ',\n",
       " 'CIVL 473 Water Resources System W | 3.75 ',\n",
       " 'ELEC 271 Digital Systems F | 4 ',\n",
       " 'ELEC 274 Computer Architecture W | 4 ',\n",
       " 'ELEC 371 Microprocessor Interfacing and Embedded Systems F | 4 ',\n",
       " 'MTHE 212 Linear Algebra W | 3.5 ',\n",
       " 'MTHE 337 Introduction to Operations Research Models W | 3 ',\n",
       " 'MTHE 338 NOT OFFERED 2020-2021 - Fourier Methods for Boundary Value Problems F | 3.5 ',\n",
       " 'MTHE 434 Optimization Theory with Applications to Machine Learning W | 3.5 ',\n",
       " 'MTHE 472 Control of Stochastic Systems W | 3 ',\n",
       " 'MINE 459 Risk and Reliability Analysis for Industrial Asset Management, Health & Safety W | 4 ',\n",
       " 'ENPH 491 NOT OFFERED 2019-2020 Physics of Nuclear Reactors F | 3.5 ']"
      ]
     },
     "execution_count": 7,
     "metadata": {},
     "output_type": "execute_result"
    }
   ],
   "source": [
    "link_texts = []\n",
    "\n",
    "for container in containers:\n",
    "    sub_containers = container.findAll(\"a\")\n",
    "    for sub_container in sub_containers:\n",
    "        if len(sub_container.text) > 0:\n",
    "            link_texts.append(sub_container.text)\n",
    "        \n",
    "link_texts"
   ]
  },
  {
   "cell_type": "code",
   "execution_count": 8,
   "metadata": {},
   "outputs": [],
   "source": [
    "link_texts = [link_text.replace(\"  \", \" \").strip() for link_text in link_texts]\n",
    "link_texts = list(dict.fromkeys(link_texts))"
   ]
  },
  {
   "cell_type": "code",
   "execution_count": 9,
   "metadata": {
    "scrolled": true
   },
   "outputs": [
    {
     "data": {
      "text/plain": [
       "['APSC 381 NOT OFFERED 2020-2021 Advanced Design and Skills for Innovation W | K3.5',\n",
       " 'APSC 400 NOT OFFERED 2020-2021 Technology, Engineering & Management (TEAM) FW* | K7',\n",
       " 'APSC 401 Interdisciplinary Projects W | K4.5',\n",
       " 'CHEE 400 DELETED Technology, Engineering & Management (TEAM) FW | K7',\n",
       " 'CHEE 490 Polymer Formulations and Processing Technology W | 3.5',\n",
       " 'ELEC 280 Fundamentals of Electromagnetics W | 3.75',\n",
       " 'ELEC 333 Electric Machines W | 4.25',\n",
       " 'MECH 330 Applied Thermodynamics II F | 3.5',\n",
       " 'MECH 341 Fluid Mechanics II W | 3.5',\n",
       " 'MECH 361 NOT OFFERED 2020-2021 - Project Based Engineering: Conceive, Design, Implement and Operate W | K3.5',\n",
       " 'MECH 370 Principles of Materials Processing F | 3.5',\n",
       " 'MECH 371 Fracture Mechanics and Dislocation Theory W | 3.5',\n",
       " 'MECH 393 Biomechanical Product Development W | 3.5',\n",
       " 'MECH 394 Frontiers in Biomechanical Engineering F | 3.5',\n",
       " 'MECH 420 NOT OFFERED 2020-2021 - Vibrations W | 3.5',\n",
       " 'MECH 423 Introduction to Microsystems W | 3.5',\n",
       " 'MECH 424 NOT OFFERED 2020-2021 - Sustainable Product Design F | 3.5',\n",
       " 'MECH 430 NOT OFFERED 2020-2021 - Thermal Systems Design W | 4',\n",
       " 'MECH 435 Internal Combustion Engines W | 3.5',\n",
       " 'MECH 437 Fuel Cell Technology F | 3.5',\n",
       " 'MECH 439 Turbomachinery W | 3.5',\n",
       " 'MECH 441 NOT OFFERED 2020-2021 - Fluid Mechanics III W | 3.5',\n",
       " 'MECH 444 NOT OFFERED 2020-2021 - Computational Fluid Dynamics W | 3.5',\n",
       " 'MECH 448 Compressible Fluid Flow W | 3.5',\n",
       " 'MECH 452 Mechatronics Engineering F/W | 5',\n",
       " 'MECH 455 Computer Integrated Manufacturing F | 3.5',\n",
       " 'MECH 456 Introduction to Robotics F | 3.5',\n",
       " 'MECH 461 Research Project W | K4',\n",
       " 'MECH 462 Team Project - Implement and Operate W | K3.5',\n",
       " 'MECH 465 Computer-Aided Design F | 3.5',\n",
       " 'MECH 480 Airplane Aerodynamics and Performance W | 3.5',\n",
       " 'MECH 481 NOT OFFERED 2020-2021 - Wind Energy F | 3.5',\n",
       " 'MECH 482 Noise Control W | 3.5',\n",
       " 'MECH 492 NOT OFFERED 2020-21 - Biological Fluid Dynamics F | 3.5',\n",
       " 'MECH 495 Ergonomics and Design W | 3.5',\n",
       " 'MECH 470 Deformation Processing W | 3.5',\n",
       " 'MECH 476 Engineering of Polymers and Composite Materials W | 3.5',\n",
       " 'MECH 478 Biomaterials F | 3.5',\n",
       " 'MECH 479 Nano-Structured Materials F | 3.5',\n",
       " 'MECH 483 Nuclear Materials F | 3.5',\n",
       " 'MECH 484 DELETED - Introduction to Ceramics F | 3.5',\n",
       " 'CHEE 380 Biochemical Engineering F (6WK Sess2) | 3.5',\n",
       " 'CHEE 440 Pharmaceutical Technology W | 3.5',\n",
       " 'CHEE 450 DELETED - Engineering Biology W | 3.5',\n",
       " 'CHEE 484 NOT OFFERED 2020-2021 Bioremediation W | 3.5',\n",
       " 'ELEC 408 Biomedical Signal and Image Processing W | 3',\n",
       " 'MECH 494 NOT OFFERED 2020-2021 Kinematics of Human Motion F | 3.5',\n",
       " 'MECH 496 Musculoskeletal Biomechanics F | 3.5',\n",
       " 'ANAT 100 Anatomy of the Human Body F,W,S | 3.0',\n",
       " 'APSC 250 Biology Through an Engineering Lens S/OL | K3.5',\n",
       " 'CHEE 340 Biomedical Engineering W | 3.5',\n",
       " 'CHEE 342 Environmental Biotechnology F | 3.5',\n",
       " 'CHEE 370 Deleted - Waste Treatment Processes W | 3.5',\n",
       " 'CHEE 371 Mitigation of Industrial Pollution W | 3.5',\n",
       " 'CHEE 412 Transport Phenomena W | 3.5',\n",
       " 'CHEE 363 Electrochemical Engineering* W | 3.5',\n",
       " 'CIVL 371 Groundwater Engineering F | 3.75',\n",
       " 'CIVL 372 Water and Wastewater Engineering W | 4',\n",
       " 'CIVL 471 Subsurface Contamination F | 4',\n",
       " 'CIVL 473 Water Resources System W | 3.75',\n",
       " 'ELEC 271 Digital Systems F | 4',\n",
       " 'ELEC 274 Computer Architecture W | 4',\n",
       " 'ELEC 371 Microprocessor Interfacing and Embedded Systems F | 4',\n",
       " 'MTHE 212 Linear Algebra W | 3.5',\n",
       " 'MTHE 337 Introduction to Operations Research Models W | 3',\n",
       " 'MTHE 338 NOT OFFERED 2020-2021 - Fourier Methods for Boundary Value Problems F | 3.5',\n",
       " 'MTHE 434 Optimization Theory with Applications to Machine Learning W | 3.5',\n",
       " 'MTHE 472 Control of Stochastic Systems W | 3',\n",
       " 'MINE 459 Risk and Reliability Analysis for Industrial Asset Management, Health & Safety W | 4',\n",
       " 'ENPH 491 NOT OFFERED 2019-2020 Physics of Nuclear Reactors F | 3.5']"
      ]
     },
     "execution_count": 9,
     "metadata": {},
     "output_type": "execute_result"
    }
   ],
   "source": [
    "link_texts"
   ]
  },
  {
   "cell_type": "code",
   "execution_count": 10,
   "metadata": {},
   "outputs": [
    {
     "data": {
      "text/plain": [
       "70"
      ]
     },
     "execution_count": 10,
     "metadata": {},
     "output_type": "execute_result"
    }
   ],
   "source": [
    "len(link_texts)"
   ]
  },
  {
   "cell_type": "markdown",
   "metadata": {},
   "source": [
    "# 2. Click open all course info boxes"
   ]
  },
  {
   "cell_type": "code",
   "execution_count": 11,
   "metadata": {},
   "outputs": [
    {
     "name": "stdout",
     "output_type": "stream",
     "text": [
      "70\n"
     ]
    }
   ],
   "source": [
    "# 2. Click open all course info boxes\n",
    "counter = 0\n",
    "for link_text in link_texts:\n",
    "    link = driver.find_element_by_link_text(link_text)\n",
    "    time.sleep(5)\n",
    "    link.click()\n",
    "    time.sleep(5)\n",
    "    counter += 1\n",
    "    \n",
    "print(counter)"
   ]
  },
  {
   "cell_type": "code",
   "execution_count": 12,
   "metadata": {},
   "outputs": [
    {
     "data": {
      "text/plain": [
       "70"
      ]
     },
     "execution_count": 12,
     "metadata": {},
     "output_type": "execute_result"
    }
   ],
   "source": [
    "len(link_texts)"
   ]
  },
  {
   "cell_type": "markdown",
   "metadata": {},
   "source": [
    "# 3. Obtain updated page html and scrape all course info"
   ]
  },
  {
   "cell_type": "code",
   "execution_count": 13,
   "metadata": {},
   "outputs": [],
   "source": [
    "page_soup = soup(driver.page_source, 'lxml')"
   ]
  },
  {
   "cell_type": "code",
   "execution_count": 14,
   "metadata": {},
   "outputs": [
    {
     "data": {
      "text/plain": [
       "70"
      ]
     },
     "execution_count": 14,
     "metadata": {},
     "output_type": "execute_result"
    }
   ],
   "source": [
    "containers = page_soup.find(\"div\", {\"class\": \"custom_leftpad_20\"}).findAll(\"li\", {\"class\": \"acalog-course acalog-course-open\"})\n",
    "len(containers)"
   ]
  },
  {
   "cell_type": "code",
   "execution_count": 17,
   "metadata": {
    "scrolled": true
   },
   "outputs": [
    {
     "data": {
      "text/plain": [
       "['APSC 381 NOT OFFERED 2020-2021 Advanced Design and Skills for Innovation',\n",
       " 'APSC 400 NOT OFFERED 2020-2021 Technology, Engineering & Management (TEAM) FW* |  K7',\n",
       " 'APSC 401 Interdisciplinary Projects',\n",
       " 'CHEE 400 DELETED Technology, Engineering & Management (TEAM)',\n",
       " 'CHEE 490 Polymer Formulations and Processing Technology',\n",
       " 'ELEC 280 Fundamentals of Electromagnetics',\n",
       " 'ELEC 333 Electric Machines',\n",
       " 'MECH 330 Applied Thermodynamics II',\n",
       " 'MECH 341 Fluid Mechanics II',\n",
       " 'MECH 361 NOT OFFERED 2020-2021 - Project Based Engineering: Conceive, Design, Implement and Operate',\n",
       " 'MECH 370 Principles of Materials Processing',\n",
       " 'MECH 371 Fracture Mechanics and Dislocation Theory',\n",
       " 'MECH 393 Biomechanical Product Development',\n",
       " 'MECH 394 Frontiers in Biomechanical Engineering',\n",
       " 'MECH 420 NOT OFFERED 2020-2021 - Vibrations',\n",
       " 'MECH 423 Introduction to Microsystems',\n",
       " 'MECH 424 NOT OFFERED 2020-2021 - Sustainable Product Design',\n",
       " 'MECH 430 NOT OFFERED 2020-2021 - Thermal Systems Design',\n",
       " 'MECH 435 Internal Combustion Engines',\n",
       " 'MECH 437 Fuel Cell Technology',\n",
       " 'MECH 439 Turbomachinery',\n",
       " 'MECH 441 NOT OFFERED 2020-2021 - Fluid Mechanics III',\n",
       " 'MECH 444 NOT OFFERED 2020-2021 - Computational Fluid Dynamics',\n",
       " 'MECH 448 Compressible Fluid Flow',\n",
       " 'MECH 452 Mechatronics Engineering F/W | 5 ',\n",
       " 'MECH 455 Computer Integrated Manufacturing',\n",
       " 'MECH 456 Introduction to Robotics',\n",
       " 'MECH 461 Research Project',\n",
       " 'MECH 462 Team Project - Implement and Operate',\n",
       " 'MECH 465 Computer-Aided Design',\n",
       " 'MECH 480 Airplane Aerodynamics and Performance',\n",
       " 'MECH 481 NOT OFFERED 2020-2021 - Wind Energy',\n",
       " 'MECH 482 Noise Control',\n",
       " 'MECH 492 NOT OFFERED 2020-21 - Biological Fluid Dynamics',\n",
       " 'MECH 495 Ergonomics and Design',\n",
       " 'MECH 470 Deformation Processing',\n",
       " 'MECH 476 Engineering of Polymers and Composite Materials',\n",
       " 'MECH 478 Biomaterials',\n",
       " 'MECH 479 Nano-Structured Materials',\n",
       " 'MECH 483 Nuclear Materials',\n",
       " 'MECH 484 DELETED - Introduction to Ceramics',\n",
       " 'CHEE 380 Biochemical Engineering F (6WK Sess2) | 3.5 ',\n",
       " 'CHEE 440 Pharmaceutical Technology',\n",
       " 'CHEE 450 DELETED - Engineering Biology',\n",
       " 'CHEE 484 NOT OFFERED 2020-2021 Bioremediation',\n",
       " 'ELEC 408 Biomedical Signal and Image Processing',\n",
       " 'MECH 494 NOT OFFERED 2020-2021 Kinematics of Human Motion',\n",
       " 'MECH 496 Musculoskeletal Biomechanics',\n",
       " 'ANAT 100 Anatomy of the Human Body F,W,S | 3.0 ',\n",
       " 'APSC 250 Biology Through an Engineering Lens S/OL |  K3.5',\n",
       " 'CHEE 340 Biomedical Engineering',\n",
       " 'CHEE 342 Environmental Biotechnology',\n",
       " 'CHEE 370 Deleted - Waste Treatment Processes',\n",
       " 'CHEE 371 Mitigation of Industrial Pollution',\n",
       " 'CHEE 412 Transport Phenomena',\n",
       " 'CHEE 363 Electrochemical Engineering*',\n",
       " 'CIVL 371 Groundwater Engineering',\n",
       " 'CIVL 372 Water and Wastewater Engineering',\n",
       " 'CIVL 471 Subsurface Contamination',\n",
       " 'CIVL 473 Water Resources System',\n",
       " 'ELEC 271 Digital Systems',\n",
       " 'ELEC 274 Computer Architecture',\n",
       " 'ELEC 371 Microprocessor Interfacing and Embedded Systems',\n",
       " 'MTHE 212 Linear Algebra',\n",
       " 'MTHE 337 Introduction to Operations Research Models',\n",
       " 'MTHE 338 NOT OFFERED 2020-2021 - Fourier Methods for Boundary Value Problems',\n",
       " 'MTHE 434 Optimization Theory with Applications to Machine Learning',\n",
       " 'MTHE 472 Control of Stochastic Systems',\n",
       " 'MINE 459 Risk and Reliability Analysis for Industrial Asset Management, Health & Safety',\n",
       " 'ENPH 491 NOT OFFERED 2019-2020 Physics of Nuclear Reactors']"
      ]
     },
     "execution_count": 17,
     "metadata": {},
     "output_type": "execute_result"
    }
   ],
   "source": [
    "course_titles = [re.split(\" F?W? \\|\", container.find(\"div\", {\"class\": None}).h3.text)[0] for container in containers]\n",
    "course_titles"
   ]
  },
  {
   "cell_type": "code",
   "execution_count": 18,
   "metadata": {
    "scrolled": true
   },
   "outputs": [
    {
     "data": {
      "text/plain": [
       "['APSC 381 NOT OFFERED 2020-2021 Advanced Design and Skills for Innovation',\n",
       " 'APSC 400 NOT OFFERED 2020-2021 Technology, Engineering & Management (TEAM) ',\n",
       " 'APSC 401 Interdisciplinary Projects',\n",
       " 'CHEE 400 DELETED Technology, Engineering & Management (TEAM)',\n",
       " 'CHEE 490 Polymer Formulations and Processing Technology',\n",
       " 'ELEC 280 Fundamentals of Electromagnetics',\n",
       " 'ELEC 333 Electric Machines',\n",
       " 'MECH 330 Applied Thermodynamics II',\n",
       " 'MECH 341 Fluid Mechanics II',\n",
       " 'MECH 361 NOT OFFERED 2020-2021 - Project Based Engineering: Conceive, Design, Implement and Operate',\n",
       " 'MECH 370 Principles of Materials Processing',\n",
       " 'MECH 371 Fracture Mechanics and Dislocation Theory',\n",
       " 'MECH 393 Biomechanical Product Development',\n",
       " 'MECH 394 Frontiers in Biomechanical Engineering',\n",
       " 'MECH 420 NOT OFFERED 2020-2021 - Vibrations',\n",
       " 'MECH 423 Introduction to Microsystems',\n",
       " 'MECH 424 NOT OFFERED 2020-2021 - Sustainable Product Design',\n",
       " 'MECH 430 NOT OFFERED 2020-2021 - Thermal Systems Design',\n",
       " 'MECH 435 Internal Combustion Engines',\n",
       " 'MECH 437 Fuel Cell Technology',\n",
       " 'MECH 439 Turbomachinery',\n",
       " 'MECH 441 NOT OFFERED 2020-2021 - Fluid Mechanics III',\n",
       " 'MECH 444 NOT OFFERED 2020-2021 - Computational Fluid Dynamics',\n",
       " 'MECH 448 Compressible Fluid Flow',\n",
       " 'MECH 452 Mechatronics Engineering ',\n",
       " 'MECH 455 Computer Integrated Manufacturing',\n",
       " 'MECH 456 Introduction to Robotics',\n",
       " 'MECH 461 Research Project',\n",
       " 'MECH 462 Team Project - Implement and Operate',\n",
       " 'MECH 465 Computer-Aided Design',\n",
       " 'MECH 480 Airplane Aerodynamics and Performance',\n",
       " 'MECH 481 NOT OFFERED 2020-2021 - Wind Energy',\n",
       " 'MECH 482 Noise Control',\n",
       " 'MECH 492 NOT OFFERED 2020-21 - Biological Fluid Dynamics',\n",
       " 'MECH 495 Ergonomics and Design',\n",
       " 'MECH 470 Deformation Processing',\n",
       " 'MECH 476 Engineering of Polymers and Composite Materials',\n",
       " 'MECH 478 Biomaterials',\n",
       " 'MECH 479 Nano-Structured Materials',\n",
       " 'MECH 483 Nuclear Materials',\n",
       " 'MECH 484 DELETED - Introduction to Ceramics',\n",
       " 'CHEE 380 Biochemical Engineering F (6WK Sess2) | 3.5 ',\n",
       " 'CHEE 440 Pharmaceutical Technology',\n",
       " 'CHEE 450 DELETED - Engineering Biology',\n",
       " 'CHEE 484 NOT OFFERED 2020-2021 Bioremediation',\n",
       " 'ELEC 408 Biomedical Signal and Image Processing',\n",
       " 'MECH 494 NOT OFFERED 2020-2021 Kinematics of Human Motion',\n",
       " 'MECH 496 Musculoskeletal Biomechanics',\n",
       " 'ANAT 100 Anatomy of the Human Body ',\n",
       " 'APSC 250 Biology Through an Engineering Lens S/OL |  K3.5',\n",
       " 'CHEE 340 Biomedical Engineering',\n",
       " 'CHEE 342 Environmental Biotechnology',\n",
       " 'CHEE 370 Deleted - Waste Treatment Processes',\n",
       " 'CHEE 371 Mitigation of Industrial Pollution',\n",
       " 'CHEE 412 Transport Phenomena',\n",
       " 'CHEE 363 Electrochemical Engineering*',\n",
       " 'CIVL 371 Groundwater Engineering',\n",
       " 'CIVL 372 Water and Wastewater Engineering',\n",
       " 'CIVL 471 Subsurface Contamination',\n",
       " 'CIVL 473 Water Resources System',\n",
       " 'ELEC 271 Digital Systems',\n",
       " 'ELEC 274 Computer Architecture',\n",
       " 'ELEC 371 Microprocessor Interfacing and Embedded Systems',\n",
       " 'MTHE 212 Linear Algebra',\n",
       " 'MTHE 337 Introduction to Operations Research Models',\n",
       " 'MTHE 338 NOT OFFERED 2020-2021 - Fourier Methods for Boundary Value Problems',\n",
       " 'MTHE 434 Optimization Theory with Applications to Machine Learning',\n",
       " 'MTHE 472 Control of Stochastic Systems',\n",
       " 'MINE 459 Risk and Reliability Analysis for Industrial Asset Management, Health & Safety',\n",
       " 'ENPH 491 NOT OFFERED 2019-2020 Physics of Nuclear Reactors']"
      ]
     },
     "execution_count": 18,
     "metadata": {},
     "output_type": "execute_result"
    }
   ],
   "source": [
    "course_titles = [re.split(\"[FWS,*/]{3,6} \\|\", course_title)[0] for course_title in course_titles]\n",
    "course_titles"
   ]
  },
  {
   "cell_type": "code",
   "execution_count": 19,
   "metadata": {
    "scrolled": true
   },
   "outputs": [
    {
     "data": {
      "text/plain": [
       "['APSC 381 NOT OFFERED 2020-2021 Advanced Design and Skills for Innovation',\n",
       " 'APSC 400 NOT OFFERED 2020-2021 Technology, Engineering & Management (TEAM)',\n",
       " 'APSC 401 Interdisciplinary Projects',\n",
       " 'CHEE 400 DELETED Technology, Engineering & Management (TEAM)',\n",
       " 'CHEE 490 Polymer Formulations and Processing Technology',\n",
       " 'ELEC 280 Fundamentals of Electromagnetics',\n",
       " 'ELEC 333 Electric Machines',\n",
       " 'MECH 330 Applied Thermodynamics II',\n",
       " 'MECH 341 Fluid Mechanics II',\n",
       " 'MECH 361 NOT OFFERED 2020-2021 - Project Based Engineering: Conceive, Design, Implement and Operate',\n",
       " 'MECH 370 Principles of Materials Processing',\n",
       " 'MECH 371 Fracture Mechanics and Dislocation Theory',\n",
       " 'MECH 393 Biomechanical Product Development',\n",
       " 'MECH 394 Frontiers in Biomechanical Engineering',\n",
       " 'MECH 420 NOT OFFERED 2020-2021 - Vibrations',\n",
       " 'MECH 423 Introduction to Microsystems',\n",
       " 'MECH 424 NOT OFFERED 2020-2021 - Sustainable Product Design',\n",
       " 'MECH 430 NOT OFFERED 2020-2021 - Thermal Systems Design',\n",
       " 'MECH 435 Internal Combustion Engines',\n",
       " 'MECH 437 Fuel Cell Technology',\n",
       " 'MECH 439 Turbomachinery',\n",
       " 'MECH 441 NOT OFFERED 2020-2021 - Fluid Mechanics III',\n",
       " 'MECH 444 NOT OFFERED 2020-2021 - Computational Fluid Dynamics',\n",
       " 'MECH 448 Compressible Fluid Flow',\n",
       " 'MECH 452 Mechatronics Engineering',\n",
       " 'MECH 455 Computer Integrated Manufacturing',\n",
       " 'MECH 456 Introduction to Robotics',\n",
       " 'MECH 461 Research Project',\n",
       " 'MECH 462 Team Project - Implement and Operate',\n",
       " 'MECH 465 Computer-Aided Design',\n",
       " 'MECH 480 Airplane Aerodynamics and Performance',\n",
       " 'MECH 481 NOT OFFERED 2020-2021 - Wind Energy',\n",
       " 'MECH 482 Noise Control',\n",
       " 'MECH 492 NOT OFFERED 2020-21 - Biological Fluid Dynamics',\n",
       " 'MECH 495 Ergonomics and Design',\n",
       " 'MECH 470 Deformation Processing',\n",
       " 'MECH 476 Engineering of Polymers and Composite Materials',\n",
       " 'MECH 478 Biomaterials',\n",
       " 'MECH 479 Nano-Structured Materials',\n",
       " 'MECH 483 Nuclear Materials',\n",
       " 'MECH 484 DELETED - Introduction to Ceramics',\n",
       " 'CHEE 380 Biochemical Engineering',\n",
       " 'CHEE 440 Pharmaceutical Technology',\n",
       " 'CHEE 450 DELETED - Engineering Biology',\n",
       " 'CHEE 484 NOT OFFERED 2020-2021 Bioremediation',\n",
       " 'ELEC 408 Biomedical Signal and Image Processing',\n",
       " 'MECH 494 NOT OFFERED 2020-2021 Kinematics of Human Motion',\n",
       " 'MECH 496 Musculoskeletal Biomechanics',\n",
       " 'ANAT 100 Anatomy of the Human Body',\n",
       " 'APSC 250 Biology Through an Engineering Lens',\n",
       " 'CHEE 340 Biomedical Engineering',\n",
       " 'CHEE 342 Environmental Biotechnology',\n",
       " 'CHEE 370 Deleted - Waste Treatment Processes',\n",
       " 'CHEE 371 Mitigation of Industrial Pollution',\n",
       " 'CHEE 412 Transport Phenomena',\n",
       " 'CHEE 363 Electrochemical Engineering*',\n",
       " 'CIVL 371 Groundwater Engineering',\n",
       " 'CIVL 372 Water and Wastewater Engineering',\n",
       " 'CIVL 471 Subsurface Contamination',\n",
       " 'CIVL 473 Water Resources System',\n",
       " 'ELEC 271 Digital Systems',\n",
       " 'ELEC 274 Computer Architecture',\n",
       " 'ELEC 371 Microprocessor Interfacing and Embedded Systems',\n",
       " 'MTHE 212 Linear Algebra',\n",
       " 'MTHE 337 Introduction to Operations Research Models',\n",
       " 'MTHE 338 NOT OFFERED 2020-2021 - Fourier Methods for Boundary Value Problems',\n",
       " 'MTHE 434 Optimization Theory with Applications to Machine Learning',\n",
       " 'MTHE 472 Control of Stochastic Systems',\n",
       " 'MINE 459 Risk and Reliability Analysis for Industrial Asset Management, Health & Safety',\n",
       " 'ENPH 491 NOT OFFERED 2019-2020 Physics of Nuclear Reactors']"
      ]
     },
     "execution_count": 19,
     "metadata": {},
     "output_type": "execute_result"
    }
   ],
   "source": [
    "course_titles = [re.split(\" F \\(6WK Sess2\\) \\|\", course_title)[0].strip() for course_title in course_titles]\n",
    "course_titles = [re.split(\" S/OL \\|\", course_title)[0].strip() for course_title in course_titles]\n",
    "course_titles"
   ]
  },
  {
   "cell_type": "code",
   "execution_count": 20,
   "metadata": {
    "scrolled": true
   },
   "outputs": [
    {
     "data": {
      "text/plain": [
       "['APSC 381',\n",
       " 'APSC 400',\n",
       " 'APSC 401',\n",
       " 'CHEE 400',\n",
       " 'CHEE 490',\n",
       " 'ELEC 280',\n",
       " 'ELEC 333',\n",
       " 'MECH 330',\n",
       " 'MECH 341',\n",
       " 'MECH 361',\n",
       " 'MECH 370',\n",
       " 'MECH 371',\n",
       " 'MECH 393',\n",
       " 'MECH 394',\n",
       " 'MECH 420',\n",
       " 'MECH 423',\n",
       " 'MECH 424',\n",
       " 'MECH 430',\n",
       " 'MECH 435',\n",
       " 'MECH 437',\n",
       " 'MECH 439',\n",
       " 'MECH 441',\n",
       " 'MECH 444',\n",
       " 'MECH 448',\n",
       " 'MECH 452',\n",
       " 'MECH 455',\n",
       " 'MECH 456',\n",
       " 'MECH 461',\n",
       " 'MECH 462',\n",
       " 'MECH 465',\n",
       " 'MECH 480',\n",
       " 'MECH 481',\n",
       " 'MECH 482',\n",
       " 'MECH 492',\n",
       " 'MECH 495',\n",
       " 'MECH 470',\n",
       " 'MECH 476',\n",
       " 'MECH 478',\n",
       " 'MECH 479',\n",
       " 'MECH 483',\n",
       " 'MECH 484',\n",
       " 'CHEE 380',\n",
       " 'CHEE 440',\n",
       " 'CHEE 450',\n",
       " 'CHEE 484',\n",
       " 'ELEC 408',\n",
       " 'MECH 494',\n",
       " 'MECH 496',\n",
       " 'ANAT 100',\n",
       " 'APSC 250',\n",
       " 'CHEE 340',\n",
       " 'CHEE 342',\n",
       " 'CHEE 370',\n",
       " 'CHEE 371',\n",
       " 'CHEE 412',\n",
       " 'CHEE 363',\n",
       " 'CIVL 371',\n",
       " 'CIVL 372',\n",
       " 'CIVL 471',\n",
       " 'CIVL 473',\n",
       " 'ELEC 271',\n",
       " 'ELEC 274',\n",
       " 'ELEC 371',\n",
       " 'MTHE 212',\n",
       " 'MTHE 337',\n",
       " 'MTHE 338',\n",
       " 'MTHE 434',\n",
       " 'MTHE 472',\n",
       " 'MINE 459',\n",
       " 'ENPH 491']"
      ]
     },
     "execution_count": 20,
     "metadata": {},
     "output_type": "execute_result"
    }
   ],
   "source": [
    "course_codes = [\" \".join(course_title.split()[:2]) for course_title in course_titles]\n",
    "course_codes"
   ]
  },
  {
   "cell_type": "code",
   "execution_count": 21,
   "metadata": {
    "scrolled": true
   },
   "outputs": [
    {
     "data": {
      "text/plain": [
       "['NOT OFFERED 2020-2021 Advanced Design and Skills for Innovation',\n",
       " 'NOT OFFERED 2020-2021 Technology, Engineering & Management (TEAM)',\n",
       " 'Interdisciplinary Projects',\n",
       " 'DELETED Technology, Engineering & Management (TEAM)',\n",
       " 'Polymer Formulations and Processing Technology',\n",
       " 'Fundamentals of Electromagnetics',\n",
       " 'Electric Machines',\n",
       " 'Applied Thermodynamics II',\n",
       " 'Fluid Mechanics II',\n",
       " 'NOT OFFERED 2020-2021 - Project Based Engineering: Conceive, Design, Implement and Operate',\n",
       " 'Principles of Materials Processing',\n",
       " 'Fracture Mechanics and Dislocation Theory',\n",
       " 'Biomechanical Product Development',\n",
       " 'Frontiers in Biomechanical Engineering',\n",
       " 'NOT OFFERED 2020-2021 - Vibrations',\n",
       " 'Introduction to Microsystems',\n",
       " 'NOT OFFERED 2020-2021 - Sustainable Product Design',\n",
       " 'NOT OFFERED 2020-2021 - Thermal Systems Design',\n",
       " 'Internal Combustion Engines',\n",
       " 'Fuel Cell Technology',\n",
       " 'Turbomachinery',\n",
       " 'NOT OFFERED 2020-2021 - Fluid Mechanics III',\n",
       " 'NOT OFFERED 2020-2021 - Computational Fluid Dynamics',\n",
       " 'Compressible Fluid Flow',\n",
       " 'Mechatronics Engineering',\n",
       " 'Computer Integrated Manufacturing',\n",
       " 'Introduction to Robotics',\n",
       " 'Research Project',\n",
       " 'Team Project - Implement and Operate',\n",
       " 'Computer-Aided Design',\n",
       " 'Airplane Aerodynamics and Performance',\n",
       " 'NOT OFFERED 2020-2021 - Wind Energy',\n",
       " 'Noise Control',\n",
       " 'NOT OFFERED 2020-21 - Biological Fluid Dynamics',\n",
       " 'Ergonomics and Design',\n",
       " 'Deformation Processing',\n",
       " 'Engineering of Polymers and Composite Materials',\n",
       " 'Biomaterials',\n",
       " 'Nano-Structured Materials',\n",
       " 'Nuclear Materials',\n",
       " 'DELETED - Introduction to Ceramics',\n",
       " 'Biochemical Engineering',\n",
       " 'Pharmaceutical Technology',\n",
       " 'DELETED - Engineering Biology',\n",
       " 'NOT OFFERED 2020-2021 Bioremediation',\n",
       " 'Biomedical Signal and Image Processing',\n",
       " 'NOT OFFERED 2020-2021 Kinematics of Human Motion',\n",
       " 'Musculoskeletal Biomechanics',\n",
       " 'Anatomy of the Human Body',\n",
       " 'Biology Through an Engineering Lens',\n",
       " 'Biomedical Engineering',\n",
       " 'Environmental Biotechnology',\n",
       " 'Deleted - Waste Treatment Processes',\n",
       " 'Mitigation of Industrial Pollution',\n",
       " 'Transport Phenomena',\n",
       " 'Electrochemical Engineering*',\n",
       " 'Groundwater Engineering',\n",
       " 'Water and Wastewater Engineering',\n",
       " 'Subsurface Contamination',\n",
       " 'Water Resources System',\n",
       " 'Digital Systems',\n",
       " 'Computer Architecture',\n",
       " 'Microprocessor Interfacing and Embedded Systems',\n",
       " 'Linear Algebra',\n",
       " 'Introduction to Operations Research Models',\n",
       " 'NOT OFFERED 2020-2021 - Fourier Methods for Boundary Value Problems',\n",
       " 'Optimization Theory with Applications to Machine Learning',\n",
       " 'Control of Stochastic Systems',\n",
       " 'Risk and Reliability Analysis for Industrial Asset Management, Health & Safety',\n",
       " 'NOT OFFERED 2019-2020 Physics of Nuclear Reactors']"
      ]
     },
     "execution_count": 21,
     "metadata": {},
     "output_type": "execute_result"
    }
   ],
   "source": [
    "course_names = [\" \".join(course_title.split()[2:]) for course_title in course_titles]\n",
    "course_names"
   ]
  },
  {
   "cell_type": "code",
   "execution_count": 39,
   "metadata": {},
   "outputs": [
    {
     "name": "stdout",
     "output_type": "stream",
     "text": [
      "ANAT 100 Anatomy of the Human Body F,W,S | 3.0 \n"
     ]
    }
   ],
   "source": [
    "course_descs = []\n",
    "\n",
    "for container in containers:\n",
    "    try:\n",
    "        course_descs.append(re.split(\"Tutorial: [YesNno.0-9]{1,4}\", container.text)[1].split(\" Academic Units:\")[0].replace(\"\\xa0\", \"\").strip())\n",
    "        \n",
    "    except IndexError:\n",
    "        course_descs.append(\"\")\n",
    "        print(container.find(\"div\", {\"class\": None}).h3.text)"
   ]
  },
  {
   "cell_type": "markdown",
   "metadata": {},
   "source": [
    "ANAT 100 does not have a course description"
   ]
  },
  {
   "cell_type": "code",
   "execution_count": 40,
   "metadata": {},
   "outputs": [
    {
     "data": {
      "text/plain": [
       "['This multidisciplinary project-based course will provide students with a broad range of knowledge and skills for design and innovation. Topics span the breadth of the innovation process, including advanced topics such as risk analysis, FMEA, reliability, and elements of six sigma methodologies. Elements of project management, market and economic analysis, and other professional practice topics are interwoven. Students work in multidisciplinary teams on relevant and realistic projects, simulating the real-world engineering environment. This course provides direct entry to the elective final year capstone project course “APSC 480 Multi-disciplinary Industry Engineering Design Project FW |  K9”, and provides an excellent foundation for innovation in both intrapreneurial and entrepreneurial opportunities',\n",
       " 'Multidisciplinary teams of engineering, commerce, law, and/or science students, as appropriate, undertake consulting projects with industrial, government, and not-for-profit clients. &nbsp;Typical project types include Process Improvement, Feasibility & Design, Business Strategy/Marketing, Environmental, Start-ups, Blue-Sky, or a combination of topics which are selected based on prevailing industry trends. Following a phase of self-directed problem and scope definition, students will execute their projects in groups, guided by experienced professionals. Students will receive formal training in project management and participate in guest lectures by industry experts. Students interact regularly with clients at a technical and management level. The course concludes with a comprehensive report and presentation to the client. Participation in the course is by selection. Students must apply for admission into the course by providing a copy of their resume, unofficial transcript, and a cover letter substantiating their interest in the course.\\nMore information can be found on the course website: http://team.appsci.queensu.ca/ *Replaced CHEE 400',\n",
       " 'Multidisciplinary teams of engineering, commerce, law, science, social science, and humanities students, as appropriate, undertake consulting projects with industrial, government, and not-for-profit clients. Typical project types include social innovation, process improvement, business strategy/marketing, environmental, start-ups, blue-sky, or a combination of topics which are selected based on societal and industry interests. This is a winter term course, but students will meet with their teams and client at the end of the fall term. Following a phase of self-directed problem and scope definition, students will execute their projects in groups, guided by experienced professionals. Students will receive formal training in project management, effective teaming, client interaction, and communication in professional environments. Students interact regularly with clients at a technical and management level. The course concludes with a comprehensive report and presentation to the client. Participation in the course is by selection. Students must apply for admission into the course by providing a copy of their resume, unofficial transcript, and a cover letter substantiating their interest in the course. This course is co-taught with instructors teaching the equivalent courses in other Faculties.',\n",
       " 'Multidiscipline teams of engineering, commerce, law, and/or science students, as appropriate, act as consultants to industrial and governmental clients. Projects include a phase of self-directed problem definition and project scope definition in the fall term, followed by project execution in the winter term. Typical projects involve evaluation of technical alternatives (with an emphasis on health, safety, and environmental), preparation of detailed recommendations, and both market and financial analysis. Project topics vary widely and are provided by a diverse list of fee paying clients. The course includes seminars on project management. There are several meetings during the fall term to organize groups and select projects, but regularly scheduled lectures do not begin until the Winter term. Teams interact regularly with clients at both a technical and a management level, and are also assigned an industrial project mentor. Students master project management skills, by managing their own budget, travel arrangements etc. The course concludes with a comprehensive report and presentation to the client. The course is managed by the Department of Chemical Engineering Changed to APSC 400 Nov 2018 Nov 2018Academic Units:Mathematics 0Natural Sciences 0Complementary Studies 42Engineering Science 0Engineering Design 42PREREQUISITE(S): Permission of the instructor',\n",
       " 'The design and manufacture of polymer products is reviewed, with particular emphasis on material selection and processing technology. The engineering properties of elastomers, thermoplastics, adhesives, fibres and coatings are discussed in terms of processing characteristics and end-use performance. Industrial processing operations such as extrusion, molding, mixing and film manufacture are presented in detail. The design component of the course requires students to select appropriate materials and processing methods for an engineering application. Examples include medical catheters, engine gaskets, drug capsules and biodegradable packaging.',\n",
       " 'A study of the fundamental aspects of electromagnetic fields. The following topics are covered: the Maxwell’s equations and the 3-dimensional wave equation for transmission lines; vector analysis, including orthogonal coordinate systems, and the calculus of field quantities; electrostatic fields including the concepts of electric potential, capacitance, and current and current density; magnetostatic fields including inductance; time-varying fields and the complete form of Maxwell’s equations; basic transmission line phenomena including steady-state sinusoidal behaviour and standing waves, transient performance and impedance matching.',\n",
       " 'An introduction to the basic principles, operating characteristics, and design of electric machines. Topics to be studied include: three-phase circuits; magnetic circuits; transformers; steady state behaviours of dc generators and motors; rotating magnetic fields; steady state operation of induction machines and synchronous machines; introduction to fractional horsepower machines; speed control of electric motors.',\n",
       " 'A continuation of MECH 230with selected topics such as gas and vapour power cycles, refrigeration, mixtures of gases and vapours, combustion and available energy.',\n",
       " 'A second course in fluid mechanics covering the differential form of conservation laws, boundary layer and external flows, compressible flows and the operation of rotational fluid machinery. On completion of the course students will be able to: Apply control volume analysis to mass, momentum and energy conservation; Apply differential form of mass and momentum conservation to the concept of flow field and its properties, including Navier Stokes equations; Apply stream function and velocity potential to the analysis of two-dimensional inviscid flows, and use the superposition principle to build complex flow fields from building block ingredients; Calculate drag and lift on solid bodies such as airfoils; Explain boundary layer flows, including the concept of various boundary layer thicknesses, shape factor, flow separation and the difference between laminar and turbulent boundary layers; Explain compressible flow features based on one-dimensional compressible subsonic and supersonic flows, with and without normal shock waves; Calculate design parameters of rotational fluid machinery, including centrifugal pumps and wind turbines.',\n",
       " 'This course provides academic credit for 3rd year students who take a lead role in design and implementation of an engineering device of substantial complexity that is part of a student project. The student has to demonstrate significant involvement with the project during the Fall term and be recommended by an academic advisor in order to qualify and be approved by the course coordinator. Students who are permitted to take this course will be required to “conceive, design, implement and operate” a sub-system or complete competition entry using the knowledge and skills acquired in earlier courses. Successful course completion will consist of specification of function, analysis, selection of materials and/or components, preparation of working drawings, manufactured prototype, completed with a major report and poster presentation. The evaluation will be based on joint assessment by the project academic advisor and the course coordinator.',\n",
       " 'The basic mechanisms of mass transport and phase transformations in materials are developed from thermodynamic and kinetic principles. Topics include phase equilibria, diffusion, solidification and solid-state transformations. The application of these phenomena to materials processing methods, such as casting, forming, heat treatment and sintering is described.',\n",
       " 'Fracture Mechanics are developed to explain crack propagation in materials and structures. This includes development of the strain energy release rate (GIC) and the critical stress intensity factor (KIC). Emphasis will be placed on developing the correlation between microstructure control and the resistance to crack propagation which this variable produces. Dislocation theory will be evoked to analyze the stress fields of point, line and plane defects. Plasticity and fracture will be detailed, which includes the time dependent aspects of such processes as static fatigue and creep fracture.',\n",
       " 'This course focuses on design, manufacturing and product management of various implantable biomechanical devices, such as artificial joints, ligaments and various other external devices for persons with disabilities. Some aspects, such as the determination of the geometry and different sizes for artificial joints are product specific, while safety criteria, standards, rational choice of alternatives, design procedures and product management are applicable when designing a much larger variety of products. Much of the theory will be based on examples of artificial joints, and on external devices and instruments.',\n",
       " 'This course addresses the fundamental principles of biomechanical engineering through four introductory modules, each dedicated to one topic: biology, biomechanics, biotransport, and mechatronics. Each module introduces the background and technical principles required to understand topics in biomechanical engineering. This course content emphasizes the multidisciplinary approaches needed to understand a problem from both biology and mechanical engineering perspectives and includes guest lectures given by biomechanical engineering experts with a goal of providing students with exposure to the current biomechanical engineering research landscape.\\nStudents are presumed to have sound background in mechanical measurement, solid mechanics, kinematics and dynamics typically acquired from MECH 217, 221, 228, 321 and 328.',\n",
       " 'Considers mechanical vibration, the problems it presents and the means of dealing with it. Completes the treatment of systems with two degrees-of-freedom (introduced in MECH 328) and proceeds to systems with higher number of degrees-of-freedom. Co-ordinate systems, types of coupling, matrix formulation, vibration absorbers and dampers, specific and hysteretic damping, Rayleigh’s method, torsional vibration, Holzer method, introduction to the finite element method, beam vibration.',\n",
       " 'This course will deal with the practical engineering aspects of micro-machining technologies and microsystems. The contents will include: scaling issues, microfabrication technologies and production methods, classification and analysis of Microsystems (including microsensors, microactuators, RF switches, micromirrors, and other micromechanisms), the integration of devices into Microsystems (both assembly and interfacing). Micro-machining will be compared and contrasted to both micro-electronics and traditional macro-machining. The development and use of Microsystems simulation and design tools will be covered as well.',\n",
       " 'This course deals with sustainable product design and manufacture. Topics include: product Life Cycle Analysis issues; Streamlined Life Cycle Analysis and international Life Cycle Analysis standards; Energy, Global Warming Potential, Green House Gas and carbon emission issues (including energy needs in product design and manufacturing); Carbon footprint, basic chemistry of carbon emissions, international standards for carbon emissions signatures. Design topics include: product design for manufacture and assembly, design for disassembly and design for environment. Product end-of-life considerations include: recycling, remanufacture and reuse. Students will complete several open ended projects. Guest speakers will be included where possible.',\n",
       " 'This course is concerned with the technical, economic and environmental aspects of conventional and novel methods of energy supply and use. Emphasis will be placed on the analysis and design of thermal systems. Topics include: electric utility demand and supply; the analysis of thermal power generation systems including combined cycle and cogeneration plants; emission control; alternative energy systems. A group project related to the design of a thermal system will form a significant portion of this course. NOTE: Limited enrollment.',\n",
       " 'This course covers all aspects of the design and operation of internal combustion engines. Principles of thermodynamics and fluid mechanics are used in the analysis of internal combustion engines. Course content includes discussions on both spark ignition and compression ignition (diesel) engines with special emphasis placed on new engine technologies. Intake, in-cylinder and exhaust flows are considered along with various aspects of combustion phenomenon relevant to engines. This course includes a laboratory involving engine performance measurements made using a dynamometer.',\n",
       " 'Introduction to and history of various fuel cell systems. Fuel cell fundamentals including thermodynamics, electrode kinetics, fuel cell performance and transport issues. Systems covered include Polymer Electrolyte Membrane (PEMFC), Direct Methanol (DMFC), Alkaline (AFC), Solid Oxide (SOFC), and Molten Carbonate (MCFC). Fueling processing issues and combined heat and power systems. Overview of the current fuel cell industry.',\n",
       " 'Fluid mechanics and thermodynamics applied to turbomachines; dimensionless performance characteristics; momentum and energy equations; thermodynamics and efficiencies; cascade aerodynamics; compressors and turbines, reaction and stage loading; radial equilibrium; radial flow machines; application of generalized performance to choice of compressors; mechanical details and auxiliary systems.',\n",
       " 'Topics will include: Derivation of equations of motion for incompressible fluids; exact solutions for laminar flows; stability and transition; introduction to turbulence, including turbulent boundary layers, jets, wakes and mixing layers; drag reduction; introduction to the modelling of turbulence.',\n",
       " 'This course provides an overview of, and hands-on experience in, the numerical modelling of fluid flows. Finite volume, finite difference and finite elements methods are introduced. Students are expected to gain critical insight into the capabilities and limitations of fluid flow models by numerically simulating various engineering flows and by doing a term project. Topics include: comparison of numerical, experimental and analytical methods in fluid mechanics, numerical grids and their generation, flow equations and their discretization, solution techniques, turbulence modelling and data presentation. Features of commercial codes are critically reviewed.',\n",
       " 'Introduction and review of work done in earlier courses; basic equations for one-dimensional compressible flow; isentropic one-dimensional flow; steady and unsteady normal shock waves; oblique shock waves; steady and unsteady expansion waves; two-dimensional isentropic flow; nozzle flows; effects of friction and heat transfer; boundary layer flow; design of aircraft engine intake systems; design of supersonic wind-tunnels and shock tubes. Students are expected to have knowledge of fluid mechanics typically acquired in MECH 241/MECH 341. Those who have not taken these or similar courses will need to prepare through self study.',\n",
       " 'This is a course in mechatronic systems design. Mechatronics Engineering, an integration of computer, electrical and mechanical engineering, is studied in a series of workshops that focus on electronics, microcontrollers, programmable logic controllers and mobile robots. The lectures provide the theoretical background to the workshops, and include discussion of related industrial and commercial applications. The knowledge and experience gained in the lectures and workshops is applied to a team design project. Students will use their knowledge of electric circuits, microcontrollers and control systems typically acquired in MECH 210, MECH 217 and MECH 350.',\n",
       " 'The course will focus on the integration of facilities (machine tools, robotics) and the automation protocols required in the implementation of computer integrated manufacturing. Specific concepts addressed include flexible manufacturing systems (FMS); interfaces between computer aided design and computer aided manufacturing systems; islands of automation.',\n",
       " 'This course will cover the following topics in the field of robotics: historical development; robot components (sensors, actuators, and end effectors, and their selection criteria); basic categories of robots (serial and parallel manipulators, mobile robots); mobility/constraint analysis; workspace analysis; rigid body kinematics (homogeneous transformation, angle and axis of rotation, Euler angles); manipulator kinematics and motion trajectories (displacement and velocity analyses, differential relations, Jacobian matrix); non-redundant and redundant sensing/actuation of manipulators; manipulator statics (force and stiffness); singularities; and manipulator dynamics.',\n",
       " 'This course provides an opportunity for students to work individually on an engineering research project with staff members of the Department. The topic is selected by the student in consultation with a Department supervising faculty member by the end of the Fall term. The projects are laboratory-based to be completed by the end of the Winter term with a major report and presentation of the work.',\n",
       " 'This course is intended to enable team projects that started in MECH 460, to continue to the “implement and operate” phases of the design cycle. However, new projects can be the subject of MECH 462 as long as they meet the “implement and operate” objectives of the course. An engineering report is prepared and defended. The presentation is normally supported by a working prototype or physical mock-up of the design. Testing a process or system can replace the building of a prototype. Choices of available projects are limited and should be discussed with the instructor.',\n",
       " 'Concept of computational design including the choice of the objective function, equality and inequality constraints, and analysis methods; one-dimensional search methods, sensitivity analysis, and the steepest descent method. The principles of the finite element method and its application to stress analysis of mechanical components.The prerequisite may be waived for students with a strong background in solid mechanics from other courses. NOTE: Enrolment is limited.',\n",
       " 'A technical course on the principles of flight. Techniques for the quantitative prediction of the aerodynamic characteristics of the wing will be described. Extensions to account for real-world effects will be discussed. These results will be used to predict the airplane performance (range, climb rate, maximum speed, etc.) The concept aerodynamic stability will be introduced and discussed. Students are expected to know MATLAB proficiently and have fluids knowledge typically acquired in MECH 241and MECH 341. Those who have not taken these or similar courses will need to prepare through self study.',\n",
       " 'An introductory course on wind-turbine operation and aerodynamics. Topics include: the Betz limit; the Blade Element Momentum method; characteristics of the atmospheric boundary layer; unsteady aerodynamic theory; gusts and blade aeroelasticity; blade noise and health effects; and wind-park siting and planning. Extension of some of these topics to small wind turbines, run-of-the-river water turbines and off-grid systems will also be presented. Students are expected to have sufficient experience with fluid dynamics equivalent to MECH 341. Those who have not taken such a course will need to prepare through self-study.',\n",
       " 'An introduction to the principles of noise control. Topics include: basic properties of sound and noise, the measurement of noise, effects of noise on people, description of sound fields, acoustics of rooms and enclosures, acoustical materials and structures, and noise source identification. A coherent approach to the solution of noise control problems is stressed throughout the course.',\n",
       " 'An introductorycourse on biological flows across a broad range of scales from flagellar motility tothe beating heart. Topics range from the dynamics of classical biomedical flows such asthecirculatory and respiratory systems. (e.g. wall compliance, pulsatility, and transition to turbulence) through to cellular-level motility and biopropulsion in general over a range of Reynolds numbers. Topics relating to comparative biology (e.g. allometry and evolutionary convergence) and common imaging techniques used for biological flows (e.g. acoustic, nuclear magnetic resonance, optical and x-ray techniques) will be covered as well.Students are expected to have sufficient experience with measurement science and fluid dynamics theory equivalent to MECH 217 and MECH 241. Those who have not taken such courses will need to prepare through self-study.',\n",
       " 'This course provides an overview of ergonomic problems that are addressed in engineering design; including biomechanical, physical and physiological issues. Case studies will range from the design of vehicle cockpits to process control rooms, from industrial manual materials handling tasks to human directed robots, and from domestic tools to biomechanical devices.',\n",
       " 'This course focuses on the elastic-plastic deformation of metals as it relates to the fabrication of stock materials, the manufacture of components and in-service material performance. Methods for describing and analyzing elastic-plastic behaviour, at both macroscopic and microscopic length-scales, are presented. Additional topics include the measurement and prediction of forming limits, the effects of deformation rate and temperature on plastic flow, and mechanisms of ductile failure. In the final portion of the course, the concept of microstructural design is introduced and then reinforced through a series of case studies.',\n",
       " 'This course introduces the microstructure-property-processing relationships needed to understand the applicability of polymers and composites to engineering design. The courses start with an introduction to the structure and properties of different polymers. The mechanics of polymers are covered including elasticity, rubber elasticity, pressure dependent yield and viscoelasticity. The mechanics of composites depend not only on the matrix, but also on the reinforcing phase. While focussing on polymer composites, metal and ceramic-based composites will also be introduced. Topics covered will include the influence of the interface, mechanical and transport properties and design of composites. The final goal is to correlate constitutive relations describing the time-temperature dependence of mechanical properties of polymers and composites to microstructure and linking these relations to practical design.',\n",
       " 'An introduction to the structure, properties and performance of biomaterials used for the construction of medical devices. Examples of biomaterials are bioactive ceramics, biodegradable polymers and advanced titanium-based alloys used for the construction of orthopedic implants. Topics covered will include surface and bulk properties of biomaterials and their impact on the clinical performance of implants. Discussion will focus on tissue-biomaterials interactions, biocompatibility and biodegradation. The course will also cover the current in-vitro and in-vivo testing methods for evaluating the long-term performance of biomaterials.',\n",
       " 'The majority of conventional materials have grain or crystallite sizes ranging from micrometers to several millimeters. Capabilities now exist to synthesize materials with grains where one or more dimension is on the nanoscale (less than 100 nm). As the grain size decreases, there is a significant increase in the volume fraction of grain boundaries or interfaces. This characteristic strongly influences the chemical and physical properties of the materials. For example, nanostructured ceramics are tougher and stronger than coarser grained ceramics, while nanostructured metals exhibit increases in yield strength and elastic modulus. It has also been shown that other properties (e.g. electrical, optical and magnetic) are influenced by a fine grain structure. The goal of this course is to introduce the student to the impact of length scale, from millimeter to nanometer, on material properties, with a primary but not exclusive focus on mechanical properties. It will include discussions on synethesis approaches as well as examples of applications.',\n",
       " 'A nuclear reactor presents a unique environment in which materials must perform. In addition to the high temperatures and stresses to which materials are subjected in conventional applications, nuclear materials are subjected to various kinds of radiation which affect their performance, and often this dictates a requirement for a unique property (for example, a low cross section for thermal neutron absorption) that is not relevant in conventional applications. The effects of the radiation may be direct (e.g., the displacement of atoms form their normal positions by fast neutrons or fission fragments), or indirect (e.g., a more aggressive chemical environment caused by radiolytic decomposition). This course describes materials and structures typically used in nuclear environments, their manufacture, the unique conditions to which they are subjected, the basic physical phenomena that affect their performance and the resulting design and operational requirements for reactor components. The course includes a field trips to components manufacturers and to Canada’s national nuclear research laboratory.',\n",
       " 'An introduction to the processing, structure and properties of advanced ceramics used for the design of components in electronic, automotive, aerospace, energy, mining and chemical and petrochemical industries. The emphasis is placed on understanding the relationship between microstructure and mechanical, electrical and thermal properties of ceramics. Ceramic systems and related devices which are discussed include electronic and ionic conductors, capacitors, transducers, varistors, and dielectric substartes. The effect of porosity, grain size and residual stresses on strength, elastic and fracture properties of isotropic and anisotropic ceramics is also discussed. Material transport mechanism and sintering of powder ceramics materials is covered with recent examples of forming and sintering of oxides, carbides and nitrides.  Jan. 2020Academic Units:Mathematics 0Natural Sciences 0Complementary Studies 0Engineering Science 30Engineering Design 12PREREQUISITE(S): MECH 370and MECH 371CloseClose',\n",
       " 'Biochemical Engineering involves the application of Chemical Engineering principles and approaches to biologically-based systems and processes. Biochemical Engineering is central to the area of environmental engineering, and to biotechnology processes which produce pharmaceuticals, fine chemicals and genetically engineered products. The course involves a systematic and quantitative description of medium formulation and sterilization, microbial kinetics and bioreactor design, product isolation and purification, and examples of current industrial practices and processes.',\n",
       " 'Pharmaceutics and the industrial manufacture of pharmaceutical dosage forms are introduced. Topics include the design and preparation of a successful dosage form with respect to the route of administration, and large scale manufacture in a sterile and clean environment. Aspects of chemical kinetics, physical chemistry, physiology, cell biology, mass and heat transfer, and fluid dynamics will be described as they relate to the manufacture of effective dosage forms. This course applies engineering concepts, such as mass transfer, unit operations, thermodynamics, and basic chemistry and is recommended for students in their 3rd or 4th year of studies.',\n",
       " 'Topics include: biosynthesis of biologically based products: properties of biologically active materials including enzymes, polynucleotides and polypeptides; enzyme reaction kinetics; cell and tissue growth and production kinetics; cell and tissue culture engineering; diffusion and reaction involved immobilized cells and enzymes; bioprocess instrumentation. The course project will require the design of a biological reactor or downstream unit operation, or the specification of instrumentation for a particular bioprocess. No',\n",
       " 'Bioremediation as an option to treat contaminated soils and ground water. Advantages and disadvantages of bioremediation compared to nonbiological processes. Factors affecting choice of in situ or ex situ processes. Assessment of biodegradability; biostimulation vs bioaugmentation; mineralization vs. partial degradation; factors affecting microbial activity (choice of electron acceptor, toxicity of pollutant, C/N/P ratio, co-substrates, soil humidity, pH and temperature); bioavailability of pollutant. Biodegradation of specific contaminants (e.g. diesel fuel, polychlorinated biphenyls, dyestuffs, aromatic and polyaromatic hydrocarbons) will be studied in detail. The design component of this course consists of learning design of appropriate laboratory and field experiments to obtain data on microbial degradation of an organic pollutant to be able to calculate bioremediation design parameters such as mass and delivery rate requirements of electron acceptors and nutrients and degradation rates in reactor and non-reactor based systems; and to be aware of limitations of these calculations.',\n",
       " 'This is an introductory course in biomedical signal and image processing. Topics include: biopotential generation; biosignal detection using metal electrodes; electrocardiogram; amplifiers and filter design for biosignal recording; and design consideration; 2D and 3D image formation; fluoroscopy, ultrasound, computed tomography, and magnetic resonance imaging; spatial and frequency‐domain filtering and feature extraction; applications in diagnostics, therapeutics, and interventions.',\n",
       " 'In this course students will explore the application of classical mechanics to the analysis of human motion related to athletics, orthopaedics, and rehabilitation. The course covers the structure of human joints, including experimental and analytical techniques in the study of human joint kinematics; applications to the design of artificial joints and to clinical diagnosis and treatments. Students are introduced to the motion capabilities of the human body and how to develop and study kinematic models of the individual joints of the human body. Experimental methods used to collect kinematic data will be studied through interactive labs. Topics include defining body position and displacement, three dimensional representation of human motion, basic functional anatomy of individual joints, rigid body kinematics (homogeneous transformations, Euler angles, helical axis), intrajoint kinematics, joint modelling, articular surface motion. Three-dimensional kinematics of individual joints is emphasized from the perspective of total joint replacement design.',\n",
       " 'Develops approaches to musculoskeletal biomechanics, including experimental and analytical approaches to movement analysis, experimental instrumentation and devices, and biomechanical devices for musculoskeletal disorder rehabilitations. Analysis of the contribution of external loading, forces generated by muscles and constraints provided by other musculoskeletal structures to predict forces and stresses in musculoskeletal joints and tissues. Numerical and modelling approaches, including inverse dynamics, and optimization, and determination of segmental inertial properties. Biomechanical devices including upper limb and lower limb orthotics and prosthetics. Applications in orthopaedic engineering, movement assessment, ergonomics, joint injury and replacements, and biomechanical system design. Application of machine learning in biomechanics and human movement analysis.\\nStudents are presumed to have had a sound introduction to biomechanics, typically acquired from MECH 394.',\n",
       " '',\n",
       " 'This course provides an introduction to biology and biochemistry, and their applications in cell-based engineering systems and processes. Students will obtain a basic background in biology, including the biology of bacteria, fungi, viruses and human cells. These concepts will be related to applications relevant to modern engineering and will be taught from a systems engineering perspective through the lens of societal need. This will include such applications as; bioremediation for the treatment of waste water, production of vaccines, biomedical and biomechanical devices, and regenerative medicine. While taught from an engineering perspective, the course would be relevant to any student interested in the application of biology, and is designed to provide relevant examples across multiple disciplines. The course assumes basic first year level science knowledge.',\n",
       " 'This course will provide students with a fundamental understanding of cell biology, human physiology and the application of engineering principles (momentum and mass transfer, mechanics, materials) for the solution of medical problems. Topics include: Cell Biology, Anatomy and Physiology, Transport Phenomena in the Body, Biomechanics, Materials in Medicine, and Regenerative Medicine and Tissue Engineering.',\n",
       " 'This course gives a broad perspective of the use of microbial systems to treat environmental pollutants and of microorganisms as potential environmental contaminants. Biogeochemical cycles and their applications to processes such as the desulphurization of coal and crude oil, biocorrosion, mineral (eg. uranium, copper and iron) leaching, the degradation of organic compounds, and nitrate removal from drinking water will be studied. Microbial waste disposal systems such as composting and soil bioremediation and the role of biotechnology in waste minimization will be examined. Microorganisms found in air, soil and water, their detection, enumeration and control will be discussed.',\n",
       " 'The sources and characteristics of liquid waste streams emanating from chemical and related industries are reviewed as the basis for developing appropriate abatement and treatment strategies. Treatment processes utilizing individual operations as well as integrated systems of physical, chemical and biological treatment are covered. Waste treatment process designs and sensitivity analyses of alternatives are undertaken with the help of Computer Aided Design software. Canadian guidelines, regulations and industrial case studies are presented.  Deleted 2016-2017Academic Units:Mathematics 0Natural Sciences 0Complementary Studies 0Engineering Science 17Engineering Design 25PREREQUISITE(S): CHEE 221or MINE 201, or permission of the departmentEXCLUSION(S): CIVL 372, CIVL 470CloseCloseCloseClose',\n",
       " 'Sources and characteristics of waste streams emanating from chemical and related industries are reviewed as the basis for developing appropriate abatement and treatment strategies. Treatment processes utilizing individual operations as well as integrated systems of physical, chemical and biological treatment are covered. Treatment process designs and sensitivity analyses of alternatives are undertaken for case studies involving industrial solid, liquid and gaseous wastes. Canadian guidelines and regulations are presented and implemented within the context of environmental and human health.',\n",
       " 'The transport phenomena approach is followed to study and analyze transport of momentum, energy and mass, with special focus on combined transport problems. Solutions are developed for problems involving steady-state and unsteady flows, isothermal and non-isothermal conditions, as well as non-Newtonian liquids. This course completes the students’ intellectual training in the transport sciences culminating in their mastery of combined transport problems, including fluid flow with heat transfer, or mass transport with fluid flow, or heat transfer with mass transport.',\n",
       " 'This engineering science course covers aspects of technological applications of electrochemistry. It can be considered as overlap between electrical engineering, electrochemistry and chemical engineering. &nbsp;The course addresses the following 7 major topics of electrochemical engineering: 1) Introduction into Electrochemical Engineering and Systems: Characteristics, Charge Conservation, Faraday&rsquo;s Law; 2) Elements of Electrochemical Systems I. Electrolytes: Transport processes, electrolyte conductivity, pH and buffer solutions; 3) Elements of Electrochemical Systems II. Electrodes: Electrochemical Thermodynamics, Nernst Equation, Reference Electrodes, Cell Potential, Electrochemical Kinetics; 4) Electrical Double Layers: Theory & Models, Electrokinetic Phenomena; 5) Electrochemical Characterization Methods: Cyclic Voltammetry, Electrical Impedance Spectroscopy; 6) Electrochemical Energy Engineering: Batteries, Fuel Cells, Electrical & Electrochemical Capacitors;&nbsp; 7) Industrial Electrochemical Processes: Fundamentals, Reactor Design & Parameter, Chlor-Alkali Process, Electrochemical Extraction of Metals, Hall-Heroult Process. *Changed from CHEE 461 to CHEE 363 Jan. 2019',\n",
       " 'This course introduces students to the fundamentals of groundwater systems with an emphasis on the engineering design of extraction systems for water supply, site dewatering, and parameter estimation tests. Source water protection methods will be discussed. Equations governing the flow of groundwater, flownets, and capture zones are presented. Detailed case histories are presented. Laboratories make extensive use of commercial grade software for surface and groundwater flow simulation.',\n",
       " 'The focus of this course is to introduce water and wastewater engineering systems through active learning strategies and hands-on lab experiences. Students will have the opportunity to learn about environmental indicators/measurements/guidelines, reactors, engineered and natural systems, biological and chemical reactions, mass and energy balances, risk assessment, life cycle assessment, and environmental and human health impact assessment. These concepts will allow students to assess a variety of aspects of environmental engineering and design.',\n",
       " 'This course deals with subsurface contamination by hazardous industrial liquids such as PCB oils, gasoline, jet fuel, chlorinated solvents and coal tars. The fundamentals of multiphase/multicomponent flow and transport in soil and groundwater are outlined followed by specific treatment of both dense and light non-aqueous phase liquids. The course will examine the subsurface distribution of these liquids, site characterization methods, indoor air intrusion, regulatory apsects, remediation technologies, and selected case histories.',\n",
       " 'This course will present concepts and tools for designing and modelling large-scale water resources systems in urban catchments. Focus will be placed on the design and analysis of urban drainage systems and urban water supply/distribution systems at the catchment level. Hydrologic, hydraulic, and statistical modelling tools used in industry will be used to evaluate the performance of water resources systems. Topics will include: the urban water cycle, environmental considerations in master planning of drainage and water supply systems, climate change impacts on water resources systems, floodplain analysis and flood control, statistical analysis of rainfall and stochastic hydrology, continuous simulation modelling, planning and modelling of large-scale urban drainage systems, planning and modelling of large-scale water distribution systems, reliability analysis and water quality analysis of water distribution systems, and the master planning process for urban drainage and drinking water systems.',\n",
       " 'Boolean algebra applied to digital systems; logic gates; combinational logic design; electronic circuits for logic gates; arithmetic circuits; latches and flipflops, registers and counters; synchronous sequential logic and state machine design; implementation in programmable logic chips.',\n",
       " 'umber and data representation. Logical structure of computers. Instruction set architecture. Instruction execution sequencing. Assembly-language programming. Input/output interfaces and programming. Processor datapath and control unit design. Semiconductor memory technology and memory hierarchy design.',\n",
       " 'Microprocessor bus organization and memory interfaces; parallel input/output interface design; assembly-language and high-level-language programming; interrupts and exceptions; timers; embedded systems organization and design considerations; integration in microcontrollers and programmable logic chips; interfacing with sensors and actuators; embedded system case studies.',\n",
       " 'Vector spaces, direct sums, linear transformations, eigenvalues, eigenvectors, inner product spaces, self-adjoint operators, positive operators, singular-value decomposition, minimal polynomials, Jordan canonical form, the projection theorem, applications to approximation and optimization problems.',\n",
       " 'Some probability distributions, simulation, Markov chains, queuing theory, dynamic programming, inventory theory.',\n",
       " 'Methods and theory for ordinary and partial differential equations; separation of variables in rectangular and cylindrical coordinate systems; sinusoidal and Bessel orthogonal functions; the wave, diffusion, and Laplace’s equation; Sturm-Liouville theory; Fourier transform techniques.',\n",
       " 'Theory of convex sets and functions; separation theorems; primal-dual properties; geometric treatment of optimization problems; algorithmic procedures for solving constrained optimization programs; applications of optimization theory to machine learning.',\n",
       " 'This course concerns the optimization, control, and stabilization of dynamical systems under probabilistic uncertainty with applications in engineering systems and applied mathematics. Topics include: controlled and control-free Markov chains and stochastic stability; martingale methods for stability and stochastic learning; dynamic programming and optimal control for finite horizons, infinite horizons, and average cost problems; partially observed models, non-linear filtering and Kalman Filtering; linear programming and numerical methods; reinforcement learning and stochastic approximation methods; decentralized stochastic control, and continuous-time stochastic control.',\n",
       " 'This course covers the analytical techniques and tools which form the foundations required for application of the ISO 55000 series of standards for effective life-cycle management of physical assets, as well as the ISO 45000:2018 standard for occupational health and safety management systems. The course uses risk analysis as the primary lens to investigate and evaluate a broad range of industrial challenges, ranging from equipment reliability and maintenance planning strategies, through to identification and mitigation of workplace health and safety hazards. Methodologies covered include Failure Mode, Effects, and Criticality Analysis (FMECA), Reliability Centred Maintenance (RCM), Hazards and Operability Analysis (HAZOP), and Internal Responsibility Systems (IRS) for Safety Management. The role of legislation and regulations is addressed. Selected topics in industrial hygiene, including exposure limits, are also surveyed. Examples and case studies from a variety of industry sectors are used.',\n",
       " 'The fundamental physics associated with a nuclear reactor. Emphasis will be on the interaction of neutrons, reactor kinetics and calculations required in reactor design. Topics discussed include: brief review of basic nuclear physics, neutron interactions and cross-sections, neutron diffusion, neutron moderation, theory of reactors, changes in reactivity, control of reactors.']"
      ]
     },
     "execution_count": 40,
     "metadata": {},
     "output_type": "execute_result"
    }
   ],
   "source": [
    "course_descs"
   ]
  },
  {
   "cell_type": "code",
   "execution_count": 41,
   "metadata": {},
   "outputs": [
    {
     "data": {
      "text/plain": [
       "70"
      ]
     },
     "execution_count": 41,
     "metadata": {},
     "output_type": "execute_result"
    }
   ],
   "source": [
    "len(course_descs)"
   ]
  },
  {
   "cell_type": "markdown",
   "metadata": {},
   "source": [
    "# 4. Write to CSV"
   ]
  },
  {
   "cell_type": "code",
   "execution_count": 42,
   "metadata": {},
   "outputs": [
    {
     "data": {
      "text/html": [
       "<div>\n",
       "<style scoped>\n",
       "    .dataframe tbody tr th:only-of-type {\n",
       "        vertical-align: middle;\n",
       "    }\n",
       "\n",
       "    .dataframe tbody tr th {\n",
       "        vertical-align: top;\n",
       "    }\n",
       "\n",
       "    .dataframe thead th {\n",
       "        text-align: right;\n",
       "    }\n",
       "</style>\n",
       "<table border=\"1\" class=\"dataframe\">\n",
       "  <thead>\n",
       "    <tr style=\"text-align: right;\">\n",
       "      <th></th>\n",
       "      <th>Course Number</th>\n",
       "      <th>Course Name</th>\n",
       "      <th>Course Description</th>\n",
       "    </tr>\n",
       "  </thead>\n",
       "  <tbody>\n",
       "    <tr>\n",
       "      <th>0</th>\n",
       "      <td>APSC 381</td>\n",
       "      <td>NOT OFFERED 2020-2021 Advanced Design and Skil...</td>\n",
       "      <td>This multidisciplinary project-based course wi...</td>\n",
       "    </tr>\n",
       "    <tr>\n",
       "      <th>1</th>\n",
       "      <td>APSC 400</td>\n",
       "      <td>NOT OFFERED 2020-2021 Technology, Engineering ...</td>\n",
       "      <td>Multidisciplinary teams of engineering, commer...</td>\n",
       "    </tr>\n",
       "    <tr>\n",
       "      <th>2</th>\n",
       "      <td>APSC 401</td>\n",
       "      <td>Interdisciplinary Projects</td>\n",
       "      <td>Multidisciplinary teams of engineering, commer...</td>\n",
       "    </tr>\n",
       "    <tr>\n",
       "      <th>3</th>\n",
       "      <td>CHEE 400</td>\n",
       "      <td>DELETED Technology, Engineering &amp; Management (...</td>\n",
       "      <td>Multidiscipline teams of engineering, commerce...</td>\n",
       "    </tr>\n",
       "    <tr>\n",
       "      <th>4</th>\n",
       "      <td>CHEE 490</td>\n",
       "      <td>Polymer Formulations and Processing Technology</td>\n",
       "      <td>The design and manufacture of polymer products...</td>\n",
       "    </tr>\n",
       "    <tr>\n",
       "      <th>...</th>\n",
       "      <td>...</td>\n",
       "      <td>...</td>\n",
       "      <td>...</td>\n",
       "    </tr>\n",
       "    <tr>\n",
       "      <th>65</th>\n",
       "      <td>MTHE 338</td>\n",
       "      <td>NOT OFFERED 2020-2021 - Fourier Methods for Bo...</td>\n",
       "      <td>Methods and theory for ordinary and partial di...</td>\n",
       "    </tr>\n",
       "    <tr>\n",
       "      <th>66</th>\n",
       "      <td>MTHE 434</td>\n",
       "      <td>Optimization Theory with Applications to Machi...</td>\n",
       "      <td>Theory of convex sets and functions; separatio...</td>\n",
       "    </tr>\n",
       "    <tr>\n",
       "      <th>67</th>\n",
       "      <td>MTHE 472</td>\n",
       "      <td>Control of Stochastic Systems</td>\n",
       "      <td>This course concerns the optimization, control...</td>\n",
       "    </tr>\n",
       "    <tr>\n",
       "      <th>68</th>\n",
       "      <td>MINE 459</td>\n",
       "      <td>Risk and Reliability Analysis for Industrial A...</td>\n",
       "      <td>This course covers the analytical techniques a...</td>\n",
       "    </tr>\n",
       "    <tr>\n",
       "      <th>69</th>\n",
       "      <td>ENPH 491</td>\n",
       "      <td>NOT OFFERED 2019-2020 Physics of Nuclear Reactors</td>\n",
       "      <td>The fundamental physics associated with a nucl...</td>\n",
       "    </tr>\n",
       "  </tbody>\n",
       "</table>\n",
       "<p>70 rows × 3 columns</p>\n",
       "</div>"
      ],
      "text/plain": [
       "   Course Number                                        Course Name  \\\n",
       "0       APSC 381  NOT OFFERED 2020-2021 Advanced Design and Skil...   \n",
       "1       APSC 400  NOT OFFERED 2020-2021 Technology, Engineering ...   \n",
       "2       APSC 401                         Interdisciplinary Projects   \n",
       "3       CHEE 400  DELETED Technology, Engineering & Management (...   \n",
       "4       CHEE 490     Polymer Formulations and Processing Technology   \n",
       "..           ...                                                ...   \n",
       "65      MTHE 338  NOT OFFERED 2020-2021 - Fourier Methods for Bo...   \n",
       "66      MTHE 434  Optimization Theory with Applications to Machi...   \n",
       "67      MTHE 472                      Control of Stochastic Systems   \n",
       "68      MINE 459  Risk and Reliability Analysis for Industrial A...   \n",
       "69      ENPH 491  NOT OFFERED 2019-2020 Physics of Nuclear Reactors   \n",
       "\n",
       "                                   Course Description  \n",
       "0   This multidisciplinary project-based course wi...  \n",
       "1   Multidisciplinary teams of engineering, commer...  \n",
       "2   Multidisciplinary teams of engineering, commer...  \n",
       "3   Multidiscipline teams of engineering, commerce...  \n",
       "4   The design and manufacture of polymer products...  \n",
       "..                                                ...  \n",
       "65  Methods and theory for ordinary and partial di...  \n",
       "66  Theory of convex sets and functions; separatio...  \n",
       "67  This course concerns the optimization, control...  \n",
       "68  This course covers the analytical techniques a...  \n",
       "69  The fundamental physics associated with a nucl...  \n",
       "\n",
       "[70 rows x 3 columns]"
      ]
     },
     "execution_count": 42,
     "metadata": {},
     "output_type": "execute_result"
    }
   ],
   "source": [
    "import pandas as pd\n",
    "\n",
    "df = pd.DataFrame({\n",
    "    \"Course Number\": course_codes,\n",
    "    \"Course Name\": course_names,\n",
    "    \"Course Description\": course_descs    \n",
    "})\n",
    "\n",
    "df"
   ]
  },
  {
   "cell_type": "code",
   "execution_count": 43,
   "metadata": {},
   "outputs": [],
   "source": [
    "df.to_csv('QueensU_MechEng_Technical_Electives_Courses.csv', index = False)"
   ]
  },
  {
   "cell_type": "code",
   "execution_count": 44,
   "metadata": {},
   "outputs": [],
   "source": [
    "driver.quit()"
   ]
  }
 ],
 "metadata": {
  "kernelspec": {
   "display_name": "Python 3",
   "language": "python",
   "name": "python3"
  },
  "language_info": {
   "codemirror_mode": {
    "name": "ipython",
    "version": 3
   },
   "file_extension": ".py",
   "mimetype": "text/x-python",
   "name": "python",
   "nbconvert_exporter": "python",
   "pygments_lexer": "ipython3",
   "version": "3.8.5"
  }
 },
 "nbformat": 4,
 "nbformat_minor": 4
}
