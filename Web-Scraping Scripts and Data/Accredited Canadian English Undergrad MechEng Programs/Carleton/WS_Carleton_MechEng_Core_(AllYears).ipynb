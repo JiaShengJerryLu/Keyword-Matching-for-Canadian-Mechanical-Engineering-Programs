{
 "cells": [
  {
   "cell_type": "code",
   "execution_count": 1,
   "metadata": {},
   "outputs": [],
   "source": [
    "from bs4 import BeautifulSoup as soup\n",
    "from urllib.request import urlopen as ureq\n",
    "from selenium import webdriver\n",
    "import time\n",
    "import re"
   ]
  },
  {
   "cell_type": "code",
   "execution_count": 2,
   "metadata": {},
   "outputs": [],
   "source": [
    "url = \"https://calendar.carleton.ca/undergrad/undergradprograms/engineering/\""
   ]
  },
  {
   "cell_type": "code",
   "execution_count": 3,
   "metadata": {},
   "outputs": [],
   "source": [
    "chrome_options = webdriver.ChromeOptions()\n",
    "chrome_options.add_argument('--ignore-certificate-errors')\n",
    "chrome_options.add_argument('--incognito')\n",
    "#chrome_options.add_argument('--headless')\n",
    "\n",
    "driver = webdriver.Chrome(\"C:\\\\Users\\\\jerry\\\\Downloads\\\\chromedriver\", options=chrome_options)"
   ]
  },
  {
   "cell_type": "code",
   "execution_count": 4,
   "metadata": {},
   "outputs": [],
   "source": [
    "driver.get(url)"
   ]
  },
  {
   "cell_type": "code",
   "execution_count": 5,
   "metadata": {},
   "outputs": [],
   "source": [
    "page_soup = soup(driver.page_source, 'lxml')"
   ]
  },
  {
   "cell_type": "markdown",
   "metadata": {},
   "source": [
    "# 1. Collect link texts for each course (for driver to click on)"
   ]
  },
  {
   "cell_type": "code",
   "execution_count": 6,
   "metadata": {},
   "outputs": [
    {
     "data": {
      "text/plain": [
       "<div class=\"table-container\"><table class=\"sc_courselist\" width=\"100%\"><colgroup><col class=\"codecol\"/><col class=\"titlecol\"/><col class=\"hourscol\"/></colgroup><tbody><tr class=\"even areaheader firstrow\"><td colspan=\"2\"><span class=\"courselistcomment areaheader\">First year</span></td><td class=\"hourscol\"></td></tr> <tr class=\"odd areaheader\"><td colspan=\"2\"><span class=\"courselistcomment areaheader\">1. a) 4.0 credits in:</span></td><td class=\"hourscol\">4.0</td></tr> <tr class=\"even\"><td class=\"codecol\"><div style=\"margin-left: 20px;\"><a class=\"bubblelink code\" href=\"/search/?P=CHEM%201101\" onclick=\"return showCourse(this, 'CHEM 1101');\" title=\"CHEM 1101\">CHEM 1101</a> [0.5]</div></td><td>Chemistry for Engineering Students</td><td class=\"hourscol\"></td></tr> <tr class=\"odd\"><td class=\"codecol\"><div style=\"margin-left: 20px;\"><a class=\"bubblelink code\" href=\"/search/?P=ECOR%201041\" onclick=\"return showCourse(this, 'ECOR 1041');\" title=\"ECOR 1041\">ECOR 1041</a> [0.25]</div></td><td>Computation and Programming</td><td class=\"hourscol\"></td></tr> <tr class=\"even\"><td class=\"codecol\"><div style=\"margin-left: 20px;\"><a class=\"bubblelink code\" href=\"/search/?P=ECOR%201042\" onclick=\"return showCourse(this, 'ECOR 1042');\" title=\"ECOR 1042\">ECOR 1042</a> [0.25]</div></td><td>Data Management</td><td class=\"hourscol\"></td></tr> <tr class=\"odd\"><td class=\"codecol\"><div style=\"margin-left: 20px;\"><a class=\"bubblelink code\" href=\"/search/?P=ECOR%201043\" onclick=\"return showCourse(this, 'ECOR 1043');\" title=\"ECOR 1043\">ECOR 1043</a> [0.25]</div></td><td>Circuits</td><td class=\"hourscol\"></td></tr> <tr class=\"even\"><td class=\"codecol\"><div style=\"margin-left: 20px;\"><a class=\"bubblelink code\" href=\"/search/?P=ECOR%201044\" onclick=\"return showCourse(this, 'ECOR 1044');\" title=\"ECOR 1044\">ECOR 1044</a> [0.25]</div></td><td>Mechatronics</td><td class=\"hourscol\"></td></tr> <tr class=\"odd\"><td class=\"codecol\"><div style=\"margin-left: 20px;\"><a class=\"bubblelink code\" href=\"/search/?P=ECOR%201045\" onclick=\"return showCourse(this, 'ECOR 1045');\" title=\"ECOR 1045\">ECOR 1045</a> [0.25]</div></td><td>Statics</td><td class=\"hourscol\"></td></tr> <tr class=\"even\"><td class=\"codecol\"><div style=\"margin-left: 20px;\"><a class=\"bubblelink code\" href=\"/search/?P=ECOR%201046\" onclick=\"return showCourse(this, 'ECOR 1046');\" title=\"ECOR 1046\">ECOR 1046</a> [0.25]</div></td><td>Mechanics</td><td class=\"hourscol\"></td></tr> <tr class=\"odd\"><td class=\"codecol\"><div style=\"margin-left: 20px;\"><a class=\"bubblelink code\" href=\"/search/?P=ECOR%201047\" onclick=\"return showCourse(this, 'ECOR 1047');\" title=\"ECOR 1047\">ECOR 1047</a> [0.25]</div></td><td>Visual Communication</td><td class=\"hourscol\"></td></tr> <tr class=\"even\"><td class=\"codecol\"><div style=\"margin-left: 20px;\"><a class=\"bubblelink code\" href=\"/search/?P=ECOR%201048\" onclick=\"return showCourse(this, 'ECOR 1048');\" title=\"ECOR 1048\">ECOR 1048</a> [0.25]</div></td><td>Dynamics</td><td class=\"hourscol\"></td></tr> <tr class=\"odd\"><td class=\"codecol\"><div style=\"margin-left: 20px;\"><a class=\"bubblelink code\" href=\"/search/?P=MATH%201004\" onclick=\"return showCourse(this, 'MATH 1004');\" title=\"MATH 1004\">MATH 1004</a> [0.5]</div></td><td>Calculus for Engineering or Physics</td><td class=\"hourscol\"></td></tr> <tr class=\"even\"><td class=\"codecol\"><div style=\"margin-left: 20px;\"><a class=\"bubblelink code\" href=\"/search/?P=MATH%201104\" onclick=\"return showCourse(this, 'MATH 1104');\" title=\"MATH 1104\">MATH 1104</a> [0.5]</div></td><td>Linear Algebra for Engineering or Science</td><td class=\"hourscol\"></td></tr> <tr class=\"odd\"><td class=\"codecol\"><div style=\"margin-left: 20px;\"><a class=\"bubblelink code\" href=\"/search/?P=PHYS%201004\" onclick=\"return showCourse(this, 'PHYS 1004');\" title=\"PHYS 1004\">PHYS 1004</a> [0.5]</div></td><td>Introductory Electromagnetism and Wave Motion</td><td class=\"hourscol\"></td></tr> <tr class=\"even areaheader\"><td colspan=\"2\"><div style=\"margin-left: 20px;\"><span class=\"courselistcomment areaheader commentindent\">b) The Introduction to Engineering Disciplines requirement must be met through the successful completion of:</span></div></td><td class=\"hourscol\"></td></tr> <tr class=\"odd\"><td class=\"codecol\"><div style=\"margin-left: 20px;\"><a class=\"bubblelink code\" href=\"/search/?P=ECOR%201055\" onclick=\"return showCourse(this, 'ECOR 1055');\" title=\"ECOR 1055\">ECOR 1055</a> [0.0]</div></td><td>Introduction to Engineering Disciplines I</td><td class=\"hourscol\"></td></tr> <tr class=\"even\"><td class=\"codecol\"><div style=\"margin-left: 20px;\"><a class=\"bubblelink code\" href=\"/search/?P=ECOR%201056\" onclick=\"return showCourse(this, 'ECOR 1056');\" title=\"ECOR 1056\">ECOR 1056</a> [0.0]</div></td><td>Introduction to Engineering Disciplines II</td><td class=\"hourscol\"></td></tr> <tr class=\"odd\"><td class=\"codecol\"><div style=\"margin-left: 20px;\"><a class=\"bubblelink code\" href=\"/search/?P=ECOR%201057\" onclick=\"return showCourse(this, 'ECOR 1057');\" title=\"ECOR 1057\">ECOR 1057</a> [0.0]</div></td><td>Engineering Profession</td><td class=\"hourscol\"></td></tr> <tr class=\"even\"><td colspan=\"2\"><span class=\"courselistcomment\"><strong>2.  0.5 credit in</strong> Complementary Studies Electives</span></td><td class=\"hourscol\">0.5</td></tr> <tr class=\"odd\"><td colspan=\"2\"><span class=\"courselistcomment\"><strong>3.  0.5 credit in</strong> Basic Science Electives</span></td><td class=\"hourscol\">0.5</td></tr> <tr class=\"even areaheader\"><td colspan=\"2\"><span class=\"courselistcomment areaheader\">Second year</span></td><td class=\"hourscol\"></td></tr> <tr class=\"odd\"><td colspan=\"2\"><span class=\"courselistcomment\">4.  a) 5.0 credits in:</span></td><td class=\"hourscol\">5.0</td></tr> <tr class=\"even\"><td class=\"codecol\"><div style=\"margin-left: 20px;\"><a class=\"bubblelink code\" href=\"/search/?P=ECOR%202050\" onclick=\"return showCourse(this, 'ECOR 2050');\" title=\"ECOR 2050\">ECOR 2050</a> [0.5]</div></td><td>Design and Analysis of Engineering Experiments</td><td class=\"hourscol\"></td></tr> <tr class=\"odd\"><td class=\"codecol\"><div style=\"margin-left: 20px;\"><a class=\"bubblelink code\" href=\"/search/?P=ELEC%203605\" onclick=\"return showCourse(this, 'ELEC 3605');\" title=\"ELEC 3605\">ELEC 3605</a> [0.5]</div></td><td>Electrical Engineering</td><td class=\"hourscol\"></td></tr> <tr class=\"even\"><td class=\"codecol\"><div style=\"margin-left: 20px;\"><a class=\"bubblelink code\" href=\"/search/?P=MAAE%202001\" onclick=\"return showCourse(this, 'MAAE 2001');\" title=\"MAAE 2001\">MAAE 2001</a> [0.5]</div></td><td>Engineering Graphical Design</td><td class=\"hourscol\"></td></tr> <tr class=\"odd\"><td class=\"codecol\"><div style=\"margin-left: 20px;\"><a class=\"bubblelink code\" href=\"/search/?P=MAAE%202101\" onclick=\"return showCourse(this, 'MAAE 2101');\" title=\"MAAE 2101\">MAAE 2101</a> [0.5]</div></td><td>Engineering Dynamics</td><td class=\"hourscol\"></td></tr> <tr class=\"even\"><td class=\"codecol\"><div style=\"margin-left: 20px;\"><a class=\"bubblelink code\" href=\"/search/?P=MAAE%202202\" onclick=\"return showCourse(this, 'MAAE 2202');\" title=\"MAAE 2202\">MAAE 2202</a> [0.5]</div></td><td>Mechanics of Solids I</td><td class=\"hourscol\"></td></tr> <tr class=\"odd\"><td class=\"codecol\"><div style=\"margin-left: 20px;\"><a class=\"bubblelink code\" href=\"/search/?P=MAAE%202300\" onclick=\"return showCourse(this, 'MAAE 2300');\" title=\"MAAE 2300\">MAAE 2300</a> [0.5]</div></td><td>Fluid Mechanics I</td><td class=\"hourscol\"></td></tr> <tr class=\"even\"><td class=\"codecol\"><div style=\"margin-left: 20px;\"><a class=\"bubblelink code\" href=\"/search/?P=MAAE%202400\" onclick=\"return showCourse(this, 'MAAE 2400');\" title=\"MAAE 2400\">MAAE 2400</a> [0.5]</div></td><td>Thermodynamics and Heat Transfer</td><td class=\"hourscol\"></td></tr> <tr class=\"odd\"><td class=\"codecol\"><div style=\"margin-left: 20px;\"><a class=\"bubblelink code\" href=\"/search/?P=MAAE%202700\" onclick=\"return showCourse(this, 'MAAE 2700');\" title=\"MAAE 2700\">MAAE 2700</a> [0.5]</div></td><td>Engineering Materials</td><td class=\"hourscol\"></td></tr> <tr class=\"even\"><td class=\"codecol\"><div style=\"margin-left: 20px;\"><a class=\"bubblelink code\" href=\"/search/?P=MATH%201005\" onclick=\"return showCourse(this, 'MATH 1005');\" title=\"MATH 1005\">MATH 1005</a> [0.5]</div></td><td>Differential Equations and Infinite Series for Engineering or Physics</td><td class=\"hourscol\"></td></tr> <tr class=\"odd\"><td class=\"codecol\"><div style=\"margin-left: 20px;\"><a class=\"bubblelink code\" href=\"/search/?P=MATH%202004\" onclick=\"return showCourse(this, 'MATH 2004');\" title=\"MATH 2004\">MATH 2004</a> [0.5]</div></td><td>Multivariable Calculus for Engineering or Physics</td><td class=\"hourscol\"></td></tr> <tr class=\"even\"><td colspan=\"2\"><div style=\"margin-left: 20px;\"><span class=\"courselistcomment commentindent\">b) Successful completion of</span></div></td><td class=\"hourscol\"></td></tr> <tr class=\"odd\"><td class=\"codecol\"><div style=\"margin-left: 20px;\"><a class=\"bubblelink code\" href=\"/search/?P=ECOR%202995\" onclick=\"return showCourse(this, 'ECOR 2995');\" title=\"ECOR 2995\">ECOR 2995</a> [0.0]</div></td><td>Engineering Portfolio</td><td class=\"hourscol\"></td></tr> <tr class=\"even areaheader\"><td colspan=\"2\"><span class=\"courselistcomment areaheader\">Third year</span></td><td class=\"hourscol\"></td></tr> <tr class=\"odd\"><td colspan=\"2\"><span class=\"courselistcomment\"><strong>5.  5.5 credits in:</strong></span></td><td class=\"hourscol\">5.5</td></tr> <tr class=\"even\"><td class=\"codecol\"><div style=\"margin-left: 20px;\"><a class=\"bubblelink code\" href=\"/search/?P=CCDP%202100\" onclick=\"return showCourse(this, 'CCDP 2100');\" title=\"CCDP 2100\">CCDP 2100</a> [0.5]</div></td><td>Communication Skills for Engineering Students</td><td class=\"hourscol\"></td></tr> <tr class=\"odd\"><td class=\"codecol\"><div style=\"margin-left: 20px;\"><a class=\"bubblelink code\" href=\"/search/?P=ECOR%203800\" onclick=\"return showCourse(this, 'ECOR 3800');\" title=\"ECOR 3800\">ECOR 3800</a> [0.5]</div></td><td>Engineering Economics</td><td class=\"hourscol\"></td></tr> <tr class=\"even\"><td class=\"codecol\"><div style=\"margin-left: 20px;\"><a class=\"bubblelink code\" href=\"/search/?P=MAAE%203004\" onclick=\"return showCourse(this, 'MAAE 3004');\" title=\"MAAE 3004\">MAAE 3004</a> [0.5]</div></td><td>Dynamics of Machinery</td><td class=\"hourscol\"></td></tr> <tr class=\"odd\"><td class=\"codecol\"><div style=\"margin-left: 20px;\"><a class=\"bubblelink code\" href=\"/search/?P=MAAE%203202\" onclick=\"return showCourse(this, 'MAAE 3202');\" title=\"MAAE 3202\">MAAE 3202</a> [0.5]</div></td><td>Mechanics of Solids II</td><td class=\"hourscol\"></td></tr> <tr class=\"even\"><td class=\"codecol\"><div style=\"margin-left: 20px;\"><a class=\"bubblelink code\" href=\"/search/?P=MAAE%203300\" onclick=\"return showCourse(this, 'MAAE 3300');\" title=\"MAAE 3300\">MAAE 3300</a> [0.5]</div></td><td>Fluid Mechanics II</td><td class=\"hourscol\"></td></tr> <tr class=\"odd\"><td class=\"codecol\"><div style=\"margin-left: 20px;\"><a class=\"bubblelink code\" href=\"/search/?P=MAAE%203400\" onclick=\"return showCourse(this, 'MAAE 3400');\" title=\"MAAE 3400\">MAAE 3400</a> [0.5]</div></td><td>Applied Thermodynamics</td><td class=\"hourscol\"></td></tr> <tr class=\"even\"><td class=\"codecol\"><div style=\"margin-left: 20px;\"><a class=\"bubblelink code\" href=\"/search/?P=MAAE%203500\" onclick=\"return showCourse(this, 'MAAE 3500');\" title=\"MAAE 3500\">MAAE 3500</a> [0.5]</div></td><td>Feedback Control Systems</td><td class=\"hourscol\"></td></tr> <tr class=\"odd\"><td class=\"codecol\"><div style=\"margin-left: 20px;\"><a class=\"bubblelink code\" href=\"/search/?P=MATH%203705\" onclick=\"return showCourse(this, 'MATH 3705');\" title=\"MATH 3705\">MATH 3705</a> [0.5]</div></td><td>Mathematical Methods I</td><td class=\"hourscol\"></td></tr> <tr class=\"even\"><td class=\"codecol\"><div style=\"margin-left: 20px;\"><a class=\"bubblelink code\" href=\"/search/?P=MECH%203002\" onclick=\"return showCourse(this, 'MECH 3002');\" title=\"MECH 3002\">MECH 3002</a> [0.5]</div></td><td>Machine Design and Practice</td><td class=\"hourscol\"></td></tr> <tr class=\"odd\"><td class=\"codecol\"><div style=\"margin-left: 20px;\"><a class=\"bubblelink code\" href=\"/search/?P=MECH%203700\" onclick=\"return showCourse(this, 'MECH 3700');\" title=\"MECH 3700\">MECH 3700</a> [0.5]</div></td><td>Principles of Manufacturing</td><td class=\"hourscol\"></td></tr> <tr class=\"even\"><td class=\"codecol\"><div style=\"margin-left: 20px;\"><a class=\"bubblelink code\" href=\"/search/?P=SYSC%203600\" onclick=\"return showCourse(this, 'SYSC 3600');\" title=\"SYSC 3600\">SYSC 3600</a> [0.5]</div></td><td>Systems and Simulation</td><td class=\"hourscol\"></td></tr> <tr class=\"odd areaheader\"><td colspan=\"2\"><span class=\"courselistcomment areaheader\">Fourth year</span></td><td class=\"hourscol\"></td></tr> <tr class=\"even\"><td colspan=\"2\"><span class=\"courselistcomment\"><strong>6.  3.0 credits in:</strong></span></td><td class=\"hourscol\">3.0</td></tr> <tr class=\"odd\"><td class=\"codecol\"><div style=\"margin-left: 20px;\"><a class=\"bubblelink code\" href=\"/search/?P=ECOR%204995\" onclick=\"return showCourse(this, 'ECOR 4995');\" title=\"ECOR 4995\">ECOR 4995</a> [0.5]</div></td><td>Professional Practice</td><td class=\"hourscol\"></td></tr> <tr class=\"even\"><td class=\"codecol\"><div style=\"margin-left: 20px;\"><a class=\"bubblelink code\" href=\"/search/?P=MAAE%204102\" onclick=\"return showCourse(this, 'MAAE 4102');\" title=\"MAAE 4102\">MAAE 4102</a> [0.5]</div></td><td>Materials: Strength and Fracture</td><td class=\"hourscol\"></td></tr> <tr class=\"odd\"><td class=\"codecol\"><div style=\"margin-left: 20px;\"><a class=\"bubblelink code\" href=\"/search/?P=MAAE%204907\" onclick=\"return showCourse(this, 'MAAE 4907');\" title=\"MAAE 4907\">MAAE 4907</a> [1.0]</div></td><td>Engineering Design Project</td><td class=\"hourscol\"></td></tr> <tr class=\"even\"><td class=\"codecol\"><div style=\"margin-left: 20px;\"><a class=\"bubblelink code\" href=\"/search/?P=MECH%204003\" onclick=\"return showCourse(this, 'MECH 4003');\" title=\"MECH 4003\">MECH 4003</a> [0.5]</div></td><td>Mechanical Systems Design</td><td class=\"hourscol\"></td></tr> <tr class=\"odd\"><td class=\"codecol\"><div style=\"margin-left: 20px;\"><a class=\"bubblelink code\" href=\"/search/?P=MECH%204406\" onclick=\"return showCourse(this, 'MECH 4406');\" title=\"MECH 4406\">MECH 4406</a> [0.5]</div></td><td>Heat Transfer</td><td class=\"hourscol\"></td></tr> <tr class=\"even\"><td colspan=\"2\"><span class=\"courselistcomment\"><strong>7.  2.0 credits from:</strong></span></td><td class=\"hourscol\">2.0</td></tr> <tr class=\"odd\"><td class=\"codecol\"><div style=\"margin-left: 20px;\"><a class=\"bubblelink code\" href=\"/search/?P=ELEC%204504\" onclick=\"return showCourse(this, 'ELEC 4504');\" title=\"ELEC 4504\">ELEC 4504</a> [0.5]</div></td><td>Avionics Systems</td><td class=\"hourscol\"></td></tr> <tr class=\"even\"><td class=\"codecol\"><div style=\"margin-left: 20px;\"><a class=\"bubblelink code\" href=\"/search/?P=ELEC%204602\" onclick=\"return showCourse(this, 'ELEC 4602');\" title=\"ELEC 4602\">ELEC 4602</a> [0.5]</div></td><td>Electrical Power Systems</td><td class=\"hourscol\"></td></tr> <tr class=\"odd\"><td colspan=\"2\"><div style=\"margin-left: 20px;\"><span class=\"courselistcomment commentindent\">4000-level Mechanical and Aerospace Engineering (MAAE, AERO or MECH)</span></div></td><td class=\"hourscol\"></td></tr> <tr class=\"even lastrow\"><td colspan=\"2\"><span class=\"courselistcomment\"><strong>8.  0.5 credit in</strong> Complementary Studies Electives</span></td><td class=\"hourscol\">0.5</td></tr> <tr class=\"listsum\"><td colspan=\"2\">Total Credits</td><td class=\"hourscol\">21.0</td></tr></tbody></table></div>"
      ]
     },
     "execution_count": 6,
     "metadata": {},
     "output_type": "execute_result"
    }
   ],
   "source": [
    "table = page_soup.find(\"h3\", {\"id\": \"Mechanical_Engineering__Bachelor_of_Engineering\"}).findNextSibling()\n",
    "table"
   ]
  },
  {
   "cell_type": "code",
   "execution_count": 7,
   "metadata": {},
   "outputs": [
    {
     "data": {
      "text/plain": [
       "44"
      ]
     },
     "execution_count": 7,
     "metadata": {},
     "output_type": "execute_result"
    }
   ],
   "source": [
    "containers = table.findAll(\"a\", {\"class\": \"bubblelink code\"})\n",
    "len(containers)"
   ]
  },
  {
   "cell_type": "code",
   "execution_count": 8,
   "metadata": {
    "scrolled": true
   },
   "outputs": [
    {
     "data": {
      "text/plain": [
       "['CHEM 1101',\n",
       " 'ECOR 1041',\n",
       " 'ECOR 1042',\n",
       " 'ECOR 1043',\n",
       " 'ECOR 1044',\n",
       " 'ECOR 1045',\n",
       " 'ECOR 1046',\n",
       " 'ECOR 1047',\n",
       " 'ECOR 1048',\n",
       " 'MATH 1004',\n",
       " 'MATH 1104',\n",
       " 'PHYS 1004',\n",
       " 'ECOR 1055',\n",
       " 'ECOR 1056',\n",
       " 'ECOR 1057',\n",
       " 'ECOR 2050',\n",
       " 'ELEC 3605',\n",
       " 'MAAE 2001',\n",
       " 'MAAE 2101',\n",
       " 'MAAE 2202',\n",
       " 'MAAE 2300',\n",
       " 'MAAE 2400',\n",
       " 'MAAE 2700',\n",
       " 'MATH 1005',\n",
       " 'MATH 2004',\n",
       " 'ECOR 2995',\n",
       " 'CCDP 2100',\n",
       " 'ECOR 3800',\n",
       " 'MAAE 3004',\n",
       " 'MAAE 3202',\n",
       " 'MAAE 3300',\n",
       " 'MAAE 3400',\n",
       " 'MAAE 3500',\n",
       " 'MATH 3705',\n",
       " 'MECH 3002',\n",
       " 'MECH 3700',\n",
       " 'SYSC 3600',\n",
       " 'ECOR 4995',\n",
       " 'MAAE 4102',\n",
       " 'MAAE 4907',\n",
       " 'MECH 4003',\n",
       " 'MECH 4406',\n",
       " 'ELEC 4504',\n",
       " 'ELEC 4602']"
      ]
     },
     "execution_count": 8,
     "metadata": {},
     "output_type": "execute_result"
    }
   ],
   "source": [
    "link_texts = [container.text.replace(\"\\xa0\", \" \") for container in containers]\n",
    "link_texts"
   ]
  },
  {
   "cell_type": "markdown",
   "metadata": {},
   "source": [
    "# 2. Test run - scrape the info of the first course"
   ]
  },
  {
   "cell_type": "code",
   "execution_count": 9,
   "metadata": {},
   "outputs": [],
   "source": [
    "driver.find_element_by_link_text(link_texts[0]).click()"
   ]
  },
  {
   "cell_type": "code",
   "execution_count": 10,
   "metadata": {},
   "outputs": [],
   "source": [
    "page_soup = soup(driver.page_source, 'lxml')"
   ]
  },
  {
   "cell_type": "code",
   "execution_count": 11,
   "metadata": {},
   "outputs": [],
   "source": [
    "container = page_soup.find(\"div\", {\"class\": \"lfjsbubble\"}).find(\"div\", {\"class\": \"courseblock\"})"
   ]
  },
  {
   "cell_type": "code",
   "execution_count": 12,
   "metadata": {},
   "outputs": [
    {
     "data": {
      "text/plain": [
       "'CHEM 1101'"
      ]
     },
     "execution_count": 12,
     "metadata": {},
     "output_type": "execute_result"
    }
   ],
   "source": [
    "course_code = container.find(\"span\", {\"class\": \"courseblockcode\"}).text.replace(\"\\xa0\", \" \").strip()\n",
    "course_code"
   ]
  },
  {
   "cell_type": "code",
   "execution_count": 13,
   "metadata": {},
   "outputs": [
    {
     "data": {
      "text/plain": [
       "'Chemistry for Engineering Students'"
      ]
     },
     "execution_count": 13,
     "metadata": {},
     "output_type": "execute_result"
    }
   ],
   "source": [
    "course_name = container.find(\"span\", {\"class\": \"courseblocktitle\"}).text.split(\"\\n\")[1].strip()\n",
    "course_name"
   ]
  },
  {
   "cell_type": "code",
   "execution_count": 14,
   "metadata": {},
   "outputs": [
    {
     "data": {
      "text/plain": [
       "'Topics include stoichiometry, atomic and molecular structure, thermodynamics and chemical equilibrium, acid-base chemistry, carbon dioxide in water, alkalinity, precipitation, electrochemistry, kinetics and basic organic chemistry. Laboratory component emphasizes techniques and methods of basic experimental chemistry.'"
      ]
     },
     "execution_count": 14,
     "metadata": {},
     "output_type": "execute_result"
    }
   ],
   "source": [
    "course_desc = container.strong.next_sibling.next_sibling.strip()\n",
    "course_desc"
   ]
  },
  {
   "cell_type": "code",
   "execution_count": 15,
   "metadata": {},
   "outputs": [],
   "source": [
    "from selenium.webdriver.common.keys import Keys\n",
    "\n",
    "driver.find_element_by_link_text(link_texts[0]).send_keys(Keys.ESCAPE)"
   ]
  },
  {
   "cell_type": "markdown",
   "metadata": {},
   "source": [
    "# 3. Test run successful! Implement automation script to scrape all courses"
   ]
  },
  {
   "cell_type": "code",
   "execution_count": 16,
   "metadata": {
    "scrolled": true
   },
   "outputs": [
    {
     "name": "stdout",
     "output_type": "stream",
     "text": [
      "Scraped  CHEM 1101\n",
      "Scraped  ECOR 1041\n",
      "Scraped  ECOR 1042\n",
      "Scraped  ECOR 1043\n",
      "Scraped  ECOR 1044\n",
      "Scraped  ECOR 1045\n",
      "Scraped  ECOR 1046\n",
      "Scraped  ECOR 1047\n",
      "Scraped  ECOR 1048\n",
      "Scraped  MATH 1004\n",
      "Scraped  MATH 1104\n",
      "Scraped  PHYS 1004\n",
      "Scraped  ECOR 1055\n",
      "Scraped  ECOR 1056\n",
      "Scraped  ECOR 1057\n",
      "Scraped  ECOR 2050\n",
      "Scraped  ELEC 3605\n",
      "Scraped  MAAE 2001\n",
      "Scraped  MAAE 2101\n",
      "Scraped  MAAE 2202\n",
      "Scraped  MAAE 2300\n",
      "Scraped  MAAE 2400\n",
      "Scraped  MAAE 2700\n",
      "Scraped  MATH 1005\n",
      "Scraped  MATH 2004\n",
      "Scraped  ECOR 2995\n",
      "Scraped  CCDP 2100\n",
      "Scraped  ECOR 3800\n",
      "Scraped  MAAE 3004\n",
      "Scraped  MAAE 3202\n",
      "Scraped  MAAE 3300\n",
      "Scraped  MAAE 3400\n",
      "Scraped  MAAE 3500\n",
      "Scraped  MATH 3705\n",
      "Scraped  MECH 3002\n",
      "Scraped  MECH 3700\n",
      "Scraped  SYSC 3600\n",
      "Scraped  ECOR 4995\n",
      "Scraped  MAAE 4102\n",
      "Scraped  MAAE 4907\n",
      "Scraped  MECH 4003\n",
      "Scraped  MECH 4406\n",
      "Scraped  ELEC 4504\n",
      "Scraped  ELEC 4602\n",
      "scraped 44 courses\n"
     ]
    }
   ],
   "source": [
    "counter = 0\n",
    "course_codes = []\n",
    "course_names = []\n",
    "course_descs = []\n",
    "\n",
    "for link_text in link_texts:\n",
    "    \n",
    "    link = driver.find_element_by_link_text(link_text)\n",
    "    time.sleep(2)\n",
    "    \n",
    "    link.click()\n",
    "    time.sleep(3)\n",
    "    \n",
    "    page_soup = soup(driver.page_source, 'lxml')\n",
    "    container = page_soup.find(\"div\", {\"class\": \"lfjsbubble\"}).find(\"div\", {\"class\": \"courseblock\"})\n",
    "    \n",
    "    course_code = container.find(\"span\", {\"class\": \"courseblockcode\"}).text.replace(\"\\xa0\", \" \").strip()\n",
    "    course_name = container.find(\"span\", {\"class\": \"courseblocktitle\"}).text.split(\"\\n\")[1].strip()\n",
    "    course_desc = container.strong.next_sibling.next_sibling.strip()\n",
    "    \n",
    "    course_codes.append(course_code)\n",
    "    course_names.append(course_name)\n",
    "    course_descs.append(course_desc)\n",
    "    \n",
    "    print(\"Scraped \", course_codes[-1])\n",
    "    counter += 1\n",
    "    \n",
    "    link.send_keys(Keys.ESCAPE)\n",
    "    time.sleep(2)\n",
    "    \n",
    "print(\"scraped {} courses\".format(counter))"
   ]
  },
  {
   "cell_type": "markdown",
   "metadata": {},
   "source": [
    "# 4. Inspect scraped data and write to csv"
   ]
  },
  {
   "cell_type": "code",
   "execution_count": 17,
   "metadata": {},
   "outputs": [
    {
     "data": {
      "text/plain": [
       "44"
      ]
     },
     "execution_count": 17,
     "metadata": {},
     "output_type": "execute_result"
    }
   ],
   "source": [
    "len(list(dict.fromkeys(course_codes)))"
   ]
  },
  {
   "cell_type": "code",
   "execution_count": 18,
   "metadata": {
    "scrolled": true
   },
   "outputs": [
    {
     "data": {
      "text/plain": [
       "['CHEM 1101',\n",
       " 'ECOR 1041',\n",
       " 'ECOR 1042',\n",
       " 'ECOR 1043',\n",
       " 'ECOR 1044',\n",
       " 'ECOR 1045',\n",
       " 'ECOR 1046',\n",
       " 'ECOR 1047',\n",
       " 'ECOR 1048',\n",
       " 'MATH 1004',\n",
       " 'MATH 1104',\n",
       " 'PHYS 1004',\n",
       " 'ECOR 1055',\n",
       " 'ECOR 1056',\n",
       " 'ECOR 1057',\n",
       " 'ECOR 2050',\n",
       " 'ELEC 3605',\n",
       " 'MAAE 2001',\n",
       " 'MAAE 2101',\n",
       " 'MAAE 2202',\n",
       " 'MAAE 2300',\n",
       " 'MAAE 2400',\n",
       " 'MAAE 2700',\n",
       " 'MATH 1005',\n",
       " 'MATH 2004',\n",
       " 'ECOR 2995',\n",
       " 'CCDP 2100',\n",
       " 'ECOR 3800',\n",
       " 'MAAE 3004',\n",
       " 'MAAE 3202',\n",
       " 'MAAE 3300',\n",
       " 'MAAE 3400',\n",
       " 'MAAE 3500',\n",
       " 'MATH 3705',\n",
       " 'MECH 3002',\n",
       " 'MECH 3700',\n",
       " 'SYSC 3600',\n",
       " 'ECOR 4995',\n",
       " 'MAAE 4102',\n",
       " 'MAAE 4907',\n",
       " 'MECH 4003',\n",
       " 'MECH 4406',\n",
       " 'ELEC 4504',\n",
       " 'ELEC 4602']"
      ]
     },
     "execution_count": 18,
     "metadata": {},
     "output_type": "execute_result"
    }
   ],
   "source": [
    "course_codes"
   ]
  },
  {
   "cell_type": "code",
   "execution_count": 19,
   "metadata": {
    "scrolled": true
   },
   "outputs": [
    {
     "data": {
      "text/plain": [
       "['Chemistry for Engineering Students',\n",
       " 'Computation and Programming',\n",
       " 'Data Management',\n",
       " 'Circuits',\n",
       " 'Mechatronics',\n",
       " 'Statics',\n",
       " 'Mechanics',\n",
       " 'Visual Communication',\n",
       " 'Dynamics',\n",
       " 'Calculus for Engineering or Physics',\n",
       " 'Linear Algebra for Engineering or Science',\n",
       " 'Introductory Electromagnetism and Wave Motion',\n",
       " 'Introduction to Engineering Disciplines I',\n",
       " 'Introduction to Engineering Disciplines II',\n",
       " 'Engineering Profession',\n",
       " 'Design and Analysis of Engineering Experiments',\n",
       " 'Electrical Engineering',\n",
       " 'Engineering Graphical Design',\n",
       " 'Engineering Dynamics',\n",
       " 'Mechanics of Solids I',\n",
       " 'Fluid Mechanics I',\n",
       " 'Thermodynamics and Heat Transfer',\n",
       " 'Engineering Materials',\n",
       " 'Differential Equations and Infinite Series for Engineering or Physics',\n",
       " 'Multivariable Calculus for Engineering or Physics',\n",
       " 'Engineering Portfolio',\n",
       " 'Communication Skills for Engineering Students',\n",
       " 'Engineering Economics',\n",
       " 'Dynamics of Machinery',\n",
       " 'Mechanics of Solids II',\n",
       " 'Fluid Mechanics II',\n",
       " 'Applied Thermodynamics',\n",
       " 'Feedback Control Systems',\n",
       " 'Mathematical Methods I',\n",
       " 'Machine Design and Practice',\n",
       " 'Principles of Manufacturing',\n",
       " 'Systems and Simulation',\n",
       " 'Professional Practice',\n",
       " 'Materials: Strength and Fracture',\n",
       " 'Engineering Design Project',\n",
       " 'Mechanical Systems Design',\n",
       " 'Heat Transfer',\n",
       " 'Avionics Systems',\n",
       " 'Electrical Power Systems']"
      ]
     },
     "execution_count": 19,
     "metadata": {},
     "output_type": "execute_result"
    }
   ],
   "source": [
    "course_names"
   ]
  },
  {
   "cell_type": "code",
   "execution_count": 20,
   "metadata": {
    "scrolled": true
   },
   "outputs": [
    {
     "data": {
      "text/plain": [
       "['Topics include stoichiometry, atomic and molecular structure, thermodynamics and chemical equilibrium, acid-base chemistry, carbon dioxide in water, alkalinity, precipitation, electrochemistry, kinetics and basic organic chemistry. Laboratory component emphasizes techniques and methods of basic experimental chemistry.',\n",
       " 'Software development as an engineering discipline, using a modern programming language. Language syntax and semantics. Tracing and visualizing program execution. Program style and documentation. Testing and debugging tools and techniques.',\n",
       " 'Introduction to designing and implementing numerical algorithms. Container data types: sequences, sets, maps. Modules. Data files. Incremental, iterative development of programs. Number systems: binary, decimal. Digital representation of integers and floating point numbers.',\n",
       " \"Electrical Quantities (Voltage, Charge, Current, Power). Conservation of charge and energy. Mathematical models of simple devices. Elementary circuit theory for passive elements. Thévenin's and superposition theorem. Signal filtering and amplification. Time and frequency domain. Circuit design and simulation.\",\n",
       " 'Mechatronics applications. Analog to digital signal conversion. Control systems and PID controllers. Input devices, including sensors. Data collection and processing. Output devices, including displays, actuators, and motors. Project design and economics. Environmental Impact of mechatronics engineering. System failures and failsafe design.',\n",
       " 'Cartesian vector representation of forces. Components of forces. Particle equilibrium and free body diagrams. Moments and cross product. Centre of gravity and centroids. Rigid body equilibrium.',\n",
       " '2D truss analysis (method of joints/sections). Normal stress/strain and shear stress/strain. 2D frames and machines. Internal loads - normal, shear and moment at a point. Shear and moment diagrams.',\n",
       " 'Graphs and sketches, flow charts, block diagrams. Visual presentation, projection and perspectives of objects. 3D sketching. Free hand drawing. Reading engineering drawings and schematics. Introduction to scaling, dimensioning and tolerancing. Introduction to CAD.',\n",
       " 'Kinematics and kinetics of a particle. Principle of work and energy. Conservation of energy, conservative forces, potential energy. Principles of impulse and momentum, conservation of momentum for a system of particles.',\n",
       " 'Limits. Differentiation of the elementary functions. Rules of differentiation. Inverse trigonometric functions. Applications of differentiation: max-min problems, curve sketching, approximations. Definite and indefinite integrals, techniques of integration. Applications to areas and volumes.',\n",
       " 'Systems of linear equations. Matrix algebra. Determinants. Invertible matrix theorem. Cramer’s rule. Vector space R^n; subspaces, bases. Eigenvalues, diagonalization. Linear transformations, kernel, range.  Complex numbers (including De Moivre’s theorem). Inner product spaces and orthogonality. Applications.',\n",
       " 'This calculus-based course introduces potential energy, work, electricity, magnetism, oscillations and waves.',\n",
       " \"Overview of professional activities oriented to the student's discipline of study: Architectural Conservation and Sustainability. Civil and Environmental. Aerospace and Mechanical. Electrical. Engineering Physics. Computer Systems, Communications and Software. Biomedical (Electrical and Mechanical). Sustainable and Renewable Energy.\",\n",
       " 'Selected lectures designed to provide students with exposure to the breadth of Engineering disciplines.',\n",
       " 'Professional Engineers Act. Engineering documentation. History of the profession. Engineering practice: system life cycle, practice within the discipline, designing with others. Health and safety. Engineering Ethics, Equity and Diversity. Introduction to engineering law : Business, Entrepreneurship and Intellectual Property.',\n",
       " 'Statistics and the design of engineering experiments. Basic exploratory data analysis. Central limit theorem. Hypothesis testing: t-test, chi-square test, type-I and type-II errors, multiple-comparison problem.  Statistical bias.  Design of experiments: randomization, blocking and replication, randomized blocking designs, factorial design. Statistical software packages.',\n",
       " 'DC circuits: elements, sources, analysis. Single phase AC circuits: phasors, RLC circuits, real and reactive power, impedance, network analysis, three phase systems. Power transformers. DC motors: operation and characteristics. AC motors: single phase and three phase.',\n",
       " 'Engineering drawing techniques; fits and tolerances; working drawings; fasteners. Elementary descriptive geometry; true length, true view, and intersection of geometric entities; developments. Assignments will make extensive use of Computer-Aided Design (CAD) and will include the production of detail and assembly drawings from actual physical models.',\n",
       " \"Review of kinematics and kinetics of particles: rectilinear and curvilinear motions; Newton's second law; energy and momentum methods. Kinematics and kinetics of rigid bodies: plane motion of rigid bodies; forces and accelerations; energy and momentum methods.\",\n",
       " 'Review of Principles of Statics; friction problems; Concepts of stress and strain at a point; statically determinate and indeterminate stress systems; torsion of circular sections; bending moment and shear force diagrams; stresses and deflections in bending; buckling instability.',\n",
       " 'Fluid properties. Units. Kinematics, dynamics of fluid motion: concepts of streamline, control volume, steady and one-dimensional flows; continuity, Euler, Bernoulli, steady flow energy, momentum, moment of momentum equations; applications. Fluid statics; pressure distribution in fluid at rest; hydrostatic forces on plane and curved surfaces; buoyancy.',\n",
       " 'Basic concepts of thermodynamics: temperature, work, heat, internal energy and enthalpy. First law for closed and steady-flow open systems. Thermodynamic properties of pure substances; changes of phase; equation of state. Second law: entropy. Simple power and refrigeration cycles. Introduction to heat transfer: conduction, convection, radiation.',\n",
       " 'Materials (metals, alloys, polymers) in engineering service; relationship of interatomic bonding, crystal structure and defect structure (vacancies, dislocations) to material properties; polymers, phase diagrams and alloys; microstructure control (heat treatment) and mechanical properties; material failure; corrosion.',\n",
       " 'First-order differential equations. Second-order linear equations with constant coefficients, undetermined coefficients, variation of parameters. Sequences and series, convergence tests, estimation of sums. Power series, Taylor series, remainders. Fourier series.',\n",
       " 'Curves and surfaces. Polar, cylindrical and spherical coordinates. Partial derivatives, gradients, extrema and Lagrange multipliers. Exact differentials. Multiple integrals over rectangular and general regions. Integrals over surfaces. Line integrals. Vector differential operators. Green’s Theorem, Stokes’ theorem, Divergence Theorem. Applications.',\n",
       " 'Students will be asked to reflect on their skills, strengths and weaknesses as preparation for the professional practice course. Engineering students must submit samples of their writing and communications (including, for example, laboratory reports and professional memos).',\n",
       " 'Development of competence in written and oral communication in engineering. Focus on professional written documents (proposals, technical explanations, research reports, summaries); written responses to engineering communications; related oral work. Attendance and participation are compulsory.',\n",
       " 'Introduction to engineering economics; cash flow calculations; methods of comparison of alternatives; structural analysis; replacement analysis; public projects; depreciation and income tax; effects of inflation; sensitivity analysis; break-even analysis; decision making under risk and uncertainty.',\n",
       " 'Kinematic and dynamic analysis of mechanisms and machines. Mechanism force analysis. Static and dynamic balancing. Kinematic and dynamic analysis of cams. Free and forced vibration of single-degree-of-freedom systems. Introduction to multibody dynamics.',\n",
       " 'Stress and strain transformations: torsion of non-circular sections; unsymmetric bending and shear centre; energy methods; complex stresses and criteria of yielding; elementary theory of elasticity; axisymmetric deformations.',\n",
       " 'Review of control volume analysis. Dimensional analysis and similitude. Compressible flow: isentropic flow relations, flow in ducts and nozzles, effects of friction and heat transfer, normal and oblique shocks, two-dimensional isentropic expansion. Viscous flow theory: hydrodynamic lubrication and introduction to boundary layers.',\n",
       " 'Gas and vapour power cycles: reheat, regeneration, combined gas/vapour cycles, cogeneration. Heat pump and refrigeration cycles: vapour compression cycles, absorption refrigeration and gas refrigeration. Mixtures of perfect gases and vapours: psychometry and combustion. Principles of turbomachinery.',\n",
       " 'Introduction to the linear feedback control. Analysis and design of classical control systems. Stability and the Routh-Hurwitz criteria. Time and frequency domain performance criteria, robustness and sensitivity. Root locus, Bode and Nyquist design techniques. Control system components and industrial process automation.',\n",
       " 'Laplace transforms, series solutions of ordinary differential equations, the Frobenius method. Fourier series and Fourier transforms, solutions of partial differential equations of mathematical physics, boundary value problems, applications.',\n",
       " 'The design of mechanical machine elements is studied from theoretical and practical points of view. Topics covered include: design factors, fatigue, and discrete machine elements. Problem analysis emphasizes the application to practical mechanical engineering problems.',\n",
       " 'Manufacturing processes, materials. Casting: solidification and heat flow theory, defect formation, casting design. Metal forming: elementary plasticity theory, plastic failure criteria, force and work calculations. Bulk and sheet forming. Joining: heat flow and defect formation, residual stresses. Machining theory and methods. Hardening: diffusion, wear resistance.',\n",
       " 'Properties of linear systems. Linear dynamic models of engineering systems. Applications of the Laplace transform. Transfer functions. Block diagrams. Frequency and time response. System simulation with digital computers.',\n",
       " 'Presentations by faculty and external lecturers on the Professional Engineers   Act, professional ethics and responsibilities, practice within the discipline and its relationship with other disciplines and to society, health and safety, environmental stewardship, principles and practice of sustainable development. Communication skills are emphasized.',\n",
       " 'Analysis and prevention of failures in metals; plasticity analysis and plastic collapse; micro-mechanisms of fracture, conditions leading to crack growth and transition temperature effects, fracture mechanics, fatigue, environmentally assisted cracking, non-destructive evaluation and testing.',\n",
       " 'Team project in the design of an aerospace, biomedical, mechanical, or sustainable energy system. Opportunity to develop initiative, engineering judgement, self-reliance, and creativity in a team environment. Results submitted in a comprehensive report as well as through formal oral presentations.',\n",
       " 'Design of mechanical systems: establishing design criteria, conceptual design, design economics, value analysis, synthesis and optimization. Mechanical elements/systems: gear and flexible drive systems, fluid power systems. These elements are utilized in group design projects.',\n",
       " 'Mechanisms of heat transfer: fundamentals and solutions. Steady and transient conduction: solution and numerical and electrical analog techniques. Convective heat transfer: free and forced convection for laminar and turbulent flows; heat exchangers. Heat transfer between black and grey surfaces, radiation shields, gas radiation, radiation interchange.',\n",
       " 'Electromagnetic spectrum. Air data sensing, display. Communications systems. Navigation and landing systems; ground-based, inertial and satellite systems. Airborne radar. Guidance, control for aircraft, autopilots; stability augmentation; active control; sensor requirements; display techniques. Aircraft power systems. Safety systems. Vehicle/systems integration, certification.',\n",
       " 'The electric power system. Components: power transformers and connections, transmission lines.  Analysis: balanced and unbalanced three-phase systems, symmetrical components, load flow, FACTS. Operation: frequency and voltage control, steady state and transient stability, fault protection. Distribution systems: utility, residential, commercial. Electrical safety: code, grounding/bonding.']"
      ]
     },
     "execution_count": 20,
     "metadata": {},
     "output_type": "execute_result"
    }
   ],
   "source": [
    "course_descs"
   ]
  },
  {
   "cell_type": "code",
   "execution_count": 21,
   "metadata": {},
   "outputs": [
    {
     "data": {
      "text/html": [
       "<div>\n",
       "<style scoped>\n",
       "    .dataframe tbody tr th:only-of-type {\n",
       "        vertical-align: middle;\n",
       "    }\n",
       "\n",
       "    .dataframe tbody tr th {\n",
       "        vertical-align: top;\n",
       "    }\n",
       "\n",
       "    .dataframe thead th {\n",
       "        text-align: right;\n",
       "    }\n",
       "</style>\n",
       "<table border=\"1\" class=\"dataframe\">\n",
       "  <thead>\n",
       "    <tr style=\"text-align: right;\">\n",
       "      <th></th>\n",
       "      <th>Course Number</th>\n",
       "      <th>Course Name</th>\n",
       "      <th>Course Description</th>\n",
       "    </tr>\n",
       "  </thead>\n",
       "  <tbody>\n",
       "    <tr>\n",
       "      <th>0</th>\n",
       "      <td>CHEM 1101</td>\n",
       "      <td>Chemistry for Engineering Students</td>\n",
       "      <td>Topics include stoichiometry, atomic and molec...</td>\n",
       "    </tr>\n",
       "    <tr>\n",
       "      <th>1</th>\n",
       "      <td>ECOR 1041</td>\n",
       "      <td>Computation and Programming</td>\n",
       "      <td>Software development as an engineering discipl...</td>\n",
       "    </tr>\n",
       "    <tr>\n",
       "      <th>2</th>\n",
       "      <td>ECOR 1042</td>\n",
       "      <td>Data Management</td>\n",
       "      <td>Introduction to designing and implementing num...</td>\n",
       "    </tr>\n",
       "    <tr>\n",
       "      <th>3</th>\n",
       "      <td>ECOR 1043</td>\n",
       "      <td>Circuits</td>\n",
       "      <td>Electrical Quantities (Voltage, Charge, Curren...</td>\n",
       "    </tr>\n",
       "    <tr>\n",
       "      <th>4</th>\n",
       "      <td>ECOR 1044</td>\n",
       "      <td>Mechatronics</td>\n",
       "      <td>Mechatronics applications. Analog to digital s...</td>\n",
       "    </tr>\n",
       "    <tr>\n",
       "      <th>5</th>\n",
       "      <td>ECOR 1045</td>\n",
       "      <td>Statics</td>\n",
       "      <td>Cartesian vector representation of forces. Com...</td>\n",
       "    </tr>\n",
       "    <tr>\n",
       "      <th>6</th>\n",
       "      <td>ECOR 1046</td>\n",
       "      <td>Mechanics</td>\n",
       "      <td>2D truss analysis (method of joints/sections)....</td>\n",
       "    </tr>\n",
       "    <tr>\n",
       "      <th>7</th>\n",
       "      <td>ECOR 1047</td>\n",
       "      <td>Visual Communication</td>\n",
       "      <td>Graphs and sketches, flow charts, block diagra...</td>\n",
       "    </tr>\n",
       "    <tr>\n",
       "      <th>8</th>\n",
       "      <td>ECOR 1048</td>\n",
       "      <td>Dynamics</td>\n",
       "      <td>Kinematics and kinetics of a particle. Princip...</td>\n",
       "    </tr>\n",
       "    <tr>\n",
       "      <th>9</th>\n",
       "      <td>MATH 1004</td>\n",
       "      <td>Calculus for Engineering or Physics</td>\n",
       "      <td>Limits. Differentiation of the elementary func...</td>\n",
       "    </tr>\n",
       "    <tr>\n",
       "      <th>10</th>\n",
       "      <td>MATH 1104</td>\n",
       "      <td>Linear Algebra for Engineering or Science</td>\n",
       "      <td>Systems of linear equations. Matrix algebra. D...</td>\n",
       "    </tr>\n",
       "    <tr>\n",
       "      <th>11</th>\n",
       "      <td>PHYS 1004</td>\n",
       "      <td>Introductory Electromagnetism and Wave Motion</td>\n",
       "      <td>This calculus-based course introduces potentia...</td>\n",
       "    </tr>\n",
       "    <tr>\n",
       "      <th>12</th>\n",
       "      <td>ECOR 1055</td>\n",
       "      <td>Introduction to Engineering Disciplines I</td>\n",
       "      <td>Overview of professional activities oriented t...</td>\n",
       "    </tr>\n",
       "    <tr>\n",
       "      <th>13</th>\n",
       "      <td>ECOR 1056</td>\n",
       "      <td>Introduction to Engineering Disciplines II</td>\n",
       "      <td>Selected lectures designed to provide students...</td>\n",
       "    </tr>\n",
       "    <tr>\n",
       "      <th>14</th>\n",
       "      <td>ECOR 1057</td>\n",
       "      <td>Engineering Profession</td>\n",
       "      <td>Professional Engineers Act. Engineering docume...</td>\n",
       "    </tr>\n",
       "    <tr>\n",
       "      <th>15</th>\n",
       "      <td>ECOR 2050</td>\n",
       "      <td>Design and Analysis of Engineering Experiments</td>\n",
       "      <td>Statistics and the design of engineering exper...</td>\n",
       "    </tr>\n",
       "    <tr>\n",
       "      <th>16</th>\n",
       "      <td>ELEC 3605</td>\n",
       "      <td>Electrical Engineering</td>\n",
       "      <td>DC circuits: elements, sources, analysis. Sing...</td>\n",
       "    </tr>\n",
       "    <tr>\n",
       "      <th>17</th>\n",
       "      <td>MAAE 2001</td>\n",
       "      <td>Engineering Graphical Design</td>\n",
       "      <td>Engineering drawing techniques; fits and toler...</td>\n",
       "    </tr>\n",
       "    <tr>\n",
       "      <th>18</th>\n",
       "      <td>MAAE 2101</td>\n",
       "      <td>Engineering Dynamics</td>\n",
       "      <td>Review of kinematics and kinetics of particles...</td>\n",
       "    </tr>\n",
       "    <tr>\n",
       "      <th>19</th>\n",
       "      <td>MAAE 2202</td>\n",
       "      <td>Mechanics of Solids I</td>\n",
       "      <td>Review of Principles of Statics; friction prob...</td>\n",
       "    </tr>\n",
       "    <tr>\n",
       "      <th>20</th>\n",
       "      <td>MAAE 2300</td>\n",
       "      <td>Fluid Mechanics I</td>\n",
       "      <td>Fluid properties. Units. Kinematics, dynamics ...</td>\n",
       "    </tr>\n",
       "    <tr>\n",
       "      <th>21</th>\n",
       "      <td>MAAE 2400</td>\n",
       "      <td>Thermodynamics and Heat Transfer</td>\n",
       "      <td>Basic concepts of thermodynamics: temperature,...</td>\n",
       "    </tr>\n",
       "    <tr>\n",
       "      <th>22</th>\n",
       "      <td>MAAE 2700</td>\n",
       "      <td>Engineering Materials</td>\n",
       "      <td>Materials (metals, alloys, polymers) in engine...</td>\n",
       "    </tr>\n",
       "    <tr>\n",
       "      <th>23</th>\n",
       "      <td>MATH 1005</td>\n",
       "      <td>Differential Equations and Infinite Series for...</td>\n",
       "      <td>First-order differential equations. Second-ord...</td>\n",
       "    </tr>\n",
       "    <tr>\n",
       "      <th>24</th>\n",
       "      <td>MATH 2004</td>\n",
       "      <td>Multivariable Calculus for Engineering or Physics</td>\n",
       "      <td>Curves and surfaces. Polar, cylindrical and sp...</td>\n",
       "    </tr>\n",
       "    <tr>\n",
       "      <th>25</th>\n",
       "      <td>ECOR 2995</td>\n",
       "      <td>Engineering Portfolio</td>\n",
       "      <td>Students will be asked to reflect on their ski...</td>\n",
       "    </tr>\n",
       "    <tr>\n",
       "      <th>26</th>\n",
       "      <td>CCDP 2100</td>\n",
       "      <td>Communication Skills for Engineering Students</td>\n",
       "      <td>Development of competence in written and oral ...</td>\n",
       "    </tr>\n",
       "    <tr>\n",
       "      <th>27</th>\n",
       "      <td>ECOR 3800</td>\n",
       "      <td>Engineering Economics</td>\n",
       "      <td>Introduction to engineering economics; cash fl...</td>\n",
       "    </tr>\n",
       "    <tr>\n",
       "      <th>28</th>\n",
       "      <td>MAAE 3004</td>\n",
       "      <td>Dynamics of Machinery</td>\n",
       "      <td>Kinematic and dynamic analysis of mechanisms a...</td>\n",
       "    </tr>\n",
       "    <tr>\n",
       "      <th>29</th>\n",
       "      <td>MAAE 3202</td>\n",
       "      <td>Mechanics of Solids II</td>\n",
       "      <td>Stress and strain transformations: torsion of ...</td>\n",
       "    </tr>\n",
       "    <tr>\n",
       "      <th>30</th>\n",
       "      <td>MAAE 3300</td>\n",
       "      <td>Fluid Mechanics II</td>\n",
       "      <td>Review of control volume analysis. Dimensional...</td>\n",
       "    </tr>\n",
       "    <tr>\n",
       "      <th>31</th>\n",
       "      <td>MAAE 3400</td>\n",
       "      <td>Applied Thermodynamics</td>\n",
       "      <td>Gas and vapour power cycles: reheat, regenerat...</td>\n",
       "    </tr>\n",
       "    <tr>\n",
       "      <th>32</th>\n",
       "      <td>MAAE 3500</td>\n",
       "      <td>Feedback Control Systems</td>\n",
       "      <td>Introduction to the linear feedback control. A...</td>\n",
       "    </tr>\n",
       "    <tr>\n",
       "      <th>33</th>\n",
       "      <td>MATH 3705</td>\n",
       "      <td>Mathematical Methods I</td>\n",
       "      <td>Laplace transforms, series solutions of ordina...</td>\n",
       "    </tr>\n",
       "    <tr>\n",
       "      <th>34</th>\n",
       "      <td>MECH 3002</td>\n",
       "      <td>Machine Design and Practice</td>\n",
       "      <td>The design of mechanical machine elements is s...</td>\n",
       "    </tr>\n",
       "    <tr>\n",
       "      <th>35</th>\n",
       "      <td>MECH 3700</td>\n",
       "      <td>Principles of Manufacturing</td>\n",
       "      <td>Manufacturing processes, materials. Casting: s...</td>\n",
       "    </tr>\n",
       "    <tr>\n",
       "      <th>36</th>\n",
       "      <td>SYSC 3600</td>\n",
       "      <td>Systems and Simulation</td>\n",
       "      <td>Properties of linear systems. Linear dynamic m...</td>\n",
       "    </tr>\n",
       "    <tr>\n",
       "      <th>37</th>\n",
       "      <td>ECOR 4995</td>\n",
       "      <td>Professional Practice</td>\n",
       "      <td>Presentations by faculty and external lecturer...</td>\n",
       "    </tr>\n",
       "    <tr>\n",
       "      <th>38</th>\n",
       "      <td>MAAE 4102</td>\n",
       "      <td>Materials: Strength and Fracture</td>\n",
       "      <td>Analysis and prevention of failures in metals;...</td>\n",
       "    </tr>\n",
       "    <tr>\n",
       "      <th>39</th>\n",
       "      <td>MAAE 4907</td>\n",
       "      <td>Engineering Design Project</td>\n",
       "      <td>Team project in the design of an aerospace, bi...</td>\n",
       "    </tr>\n",
       "    <tr>\n",
       "      <th>40</th>\n",
       "      <td>MECH 4003</td>\n",
       "      <td>Mechanical Systems Design</td>\n",
       "      <td>Design of mechanical systems: establishing des...</td>\n",
       "    </tr>\n",
       "    <tr>\n",
       "      <th>41</th>\n",
       "      <td>MECH 4406</td>\n",
       "      <td>Heat Transfer</td>\n",
       "      <td>Mechanisms of heat transfer: fundamentals and ...</td>\n",
       "    </tr>\n",
       "    <tr>\n",
       "      <th>42</th>\n",
       "      <td>ELEC 4504</td>\n",
       "      <td>Avionics Systems</td>\n",
       "      <td>Electromagnetic spectrum. Air data sensing, di...</td>\n",
       "    </tr>\n",
       "    <tr>\n",
       "      <th>43</th>\n",
       "      <td>ELEC 4602</td>\n",
       "      <td>Electrical Power Systems</td>\n",
       "      <td>The electric power system. Components: power t...</td>\n",
       "    </tr>\n",
       "  </tbody>\n",
       "</table>\n",
       "</div>"
      ],
      "text/plain": [
       "   Course Number                                        Course Name  \\\n",
       "0      CHEM 1101                 Chemistry for Engineering Students   \n",
       "1      ECOR 1041                        Computation and Programming   \n",
       "2      ECOR 1042                                    Data Management   \n",
       "3      ECOR 1043                                           Circuits   \n",
       "4      ECOR 1044                                       Mechatronics   \n",
       "5      ECOR 1045                                            Statics   \n",
       "6      ECOR 1046                                          Mechanics   \n",
       "7      ECOR 1047                               Visual Communication   \n",
       "8      ECOR 1048                                           Dynamics   \n",
       "9      MATH 1004                Calculus for Engineering or Physics   \n",
       "10     MATH 1104          Linear Algebra for Engineering or Science   \n",
       "11     PHYS 1004      Introductory Electromagnetism and Wave Motion   \n",
       "12     ECOR 1055          Introduction to Engineering Disciplines I   \n",
       "13     ECOR 1056         Introduction to Engineering Disciplines II   \n",
       "14     ECOR 1057                             Engineering Profession   \n",
       "15     ECOR 2050     Design and Analysis of Engineering Experiments   \n",
       "16     ELEC 3605                             Electrical Engineering   \n",
       "17     MAAE 2001                       Engineering Graphical Design   \n",
       "18     MAAE 2101                               Engineering Dynamics   \n",
       "19     MAAE 2202                              Mechanics of Solids I   \n",
       "20     MAAE 2300                                  Fluid Mechanics I   \n",
       "21     MAAE 2400                   Thermodynamics and Heat Transfer   \n",
       "22     MAAE 2700                              Engineering Materials   \n",
       "23     MATH 1005  Differential Equations and Infinite Series for...   \n",
       "24     MATH 2004  Multivariable Calculus for Engineering or Physics   \n",
       "25     ECOR 2995                              Engineering Portfolio   \n",
       "26     CCDP 2100      Communication Skills for Engineering Students   \n",
       "27     ECOR 3800                              Engineering Economics   \n",
       "28     MAAE 3004                              Dynamics of Machinery   \n",
       "29     MAAE 3202                             Mechanics of Solids II   \n",
       "30     MAAE 3300                                 Fluid Mechanics II   \n",
       "31     MAAE 3400                             Applied Thermodynamics   \n",
       "32     MAAE 3500                           Feedback Control Systems   \n",
       "33     MATH 3705                             Mathematical Methods I   \n",
       "34     MECH 3002                        Machine Design and Practice   \n",
       "35     MECH 3700                        Principles of Manufacturing   \n",
       "36     SYSC 3600                             Systems and Simulation   \n",
       "37     ECOR 4995                              Professional Practice   \n",
       "38     MAAE 4102                   Materials: Strength and Fracture   \n",
       "39     MAAE 4907                         Engineering Design Project   \n",
       "40     MECH 4003                          Mechanical Systems Design   \n",
       "41     MECH 4406                                      Heat Transfer   \n",
       "42     ELEC 4504                                   Avionics Systems   \n",
       "43     ELEC 4602                           Electrical Power Systems   \n",
       "\n",
       "                                   Course Description  \n",
       "0   Topics include stoichiometry, atomic and molec...  \n",
       "1   Software development as an engineering discipl...  \n",
       "2   Introduction to designing and implementing num...  \n",
       "3   Electrical Quantities (Voltage, Charge, Curren...  \n",
       "4   Mechatronics applications. Analog to digital s...  \n",
       "5   Cartesian vector representation of forces. Com...  \n",
       "6   2D truss analysis (method of joints/sections)....  \n",
       "7   Graphs and sketches, flow charts, block diagra...  \n",
       "8   Kinematics and kinetics of a particle. Princip...  \n",
       "9   Limits. Differentiation of the elementary func...  \n",
       "10  Systems of linear equations. Matrix algebra. D...  \n",
       "11  This calculus-based course introduces potentia...  \n",
       "12  Overview of professional activities oriented t...  \n",
       "13  Selected lectures designed to provide students...  \n",
       "14  Professional Engineers Act. Engineering docume...  \n",
       "15  Statistics and the design of engineering exper...  \n",
       "16  DC circuits: elements, sources, analysis. Sing...  \n",
       "17  Engineering drawing techniques; fits and toler...  \n",
       "18  Review of kinematics and kinetics of particles...  \n",
       "19  Review of Principles of Statics; friction prob...  \n",
       "20  Fluid properties. Units. Kinematics, dynamics ...  \n",
       "21  Basic concepts of thermodynamics: temperature,...  \n",
       "22  Materials (metals, alloys, polymers) in engine...  \n",
       "23  First-order differential equations. Second-ord...  \n",
       "24  Curves and surfaces. Polar, cylindrical and sp...  \n",
       "25  Students will be asked to reflect on their ski...  \n",
       "26  Development of competence in written and oral ...  \n",
       "27  Introduction to engineering economics; cash fl...  \n",
       "28  Kinematic and dynamic analysis of mechanisms a...  \n",
       "29  Stress and strain transformations: torsion of ...  \n",
       "30  Review of control volume analysis. Dimensional...  \n",
       "31  Gas and vapour power cycles: reheat, regenerat...  \n",
       "32  Introduction to the linear feedback control. A...  \n",
       "33  Laplace transforms, series solutions of ordina...  \n",
       "34  The design of mechanical machine elements is s...  \n",
       "35  Manufacturing processes, materials. Casting: s...  \n",
       "36  Properties of linear systems. Linear dynamic m...  \n",
       "37  Presentations by faculty and external lecturer...  \n",
       "38  Analysis and prevention of failures in metals;...  \n",
       "39  Team project in the design of an aerospace, bi...  \n",
       "40  Design of mechanical systems: establishing des...  \n",
       "41  Mechanisms of heat transfer: fundamentals and ...  \n",
       "42  Electromagnetic spectrum. Air data sensing, di...  \n",
       "43  The electric power system. Components: power t...  "
      ]
     },
     "execution_count": 21,
     "metadata": {},
     "output_type": "execute_result"
    }
   ],
   "source": [
    "import pandas as pd\n",
    "\n",
    "df = pd.DataFrame({\n",
    "    \n",
    "    \"Course Number\": course_codes,\n",
    "    \"Course Name\": course_names,\n",
    "    \"Course Description\": course_descs    \n",
    "    \n",
    "})\n",
    "\n",
    "df"
   ]
  },
  {
   "cell_type": "code",
   "execution_count": 22,
   "metadata": {
    "scrolled": true
   },
   "outputs": [
    {
     "data": {
      "text/plain": [
       "\"Electrical Quantities (Voltage, Charge, Current, Power). Conservation of charge and energy. Mathematical models of simple devices. Elementary circuit theory for passive elements. Thévenin's and superposition theorem. Signal filtering and amplification. Time and frequency domain. Circuit design and simulation.\""
      ]
     },
     "execution_count": 22,
     "metadata": {},
     "output_type": "execute_result"
    }
   ],
   "source": [
    "df.iloc[3, 2]"
   ]
  },
  {
   "cell_type": "code",
   "execution_count": 23,
   "metadata": {},
   "outputs": [],
   "source": [
    "df.to_csv('Carleton_MechEng_Core_(AllYears)_Courses.csv', index = False)"
   ]
  },
  {
   "cell_type": "code",
   "execution_count": 24,
   "metadata": {},
   "outputs": [],
   "source": [
    "driver.quit()"
   ]
  }
 ],
 "metadata": {
  "kernelspec": {
   "display_name": "Python 3",
   "language": "python",
   "name": "python3"
  },
  "language_info": {
   "codemirror_mode": {
    "name": "ipython",
    "version": 3
   },
   "file_extension": ".py",
   "mimetype": "text/x-python",
   "name": "python",
   "nbconvert_exporter": "python",
   "pygments_lexer": "ipython3",
   "version": "3.8.5"
  }
 },
 "nbformat": 4,
 "nbformat_minor": 4
}
