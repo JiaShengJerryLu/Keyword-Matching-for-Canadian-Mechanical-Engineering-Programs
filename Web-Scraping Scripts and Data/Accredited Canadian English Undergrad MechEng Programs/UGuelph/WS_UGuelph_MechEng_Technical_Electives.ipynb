{
 "cells": [
  {
   "cell_type": "code",
   "execution_count": 1,
   "metadata": {},
   "outputs": [],
   "source": [
    "from bs4 import BeautifulSoup as soup\n",
    "from urllib.request import urlopen as ureq\n",
    "from selenium import webdriver\n",
    "import time\n",
    "import re"
   ]
  },
  {
   "cell_type": "code",
   "execution_count": 2,
   "metadata": {},
   "outputs": [],
   "source": [
    "url = \"https://www.uoguelph.ca/engineering/mechanical-engineering-restricted-electives-20202021\""
   ]
  },
  {
   "cell_type": "code",
   "execution_count": 3,
   "metadata": {},
   "outputs": [],
   "source": [
    "chrome_options = webdriver.ChromeOptions()\n",
    "chrome_options.add_argument('--ignore-certificate-errors')\n",
    "chrome_options.add_argument('--incognito')\n",
    "#chrome_options.add_argument('--headless')\n",
    "\n",
    "driver = webdriver.Chrome(\"C:\\\\Users\\\\jerry\\\\Downloads\\\\chromedriver\", options=chrome_options)"
   ]
  },
  {
   "cell_type": "code",
   "execution_count": 4,
   "metadata": {},
   "outputs": [],
   "source": [
    "driver.get(url)"
   ]
  },
  {
   "cell_type": "markdown",
   "metadata": {},
   "source": [
    "# 1. Collect course link texts for driver to click on"
   ]
  },
  {
   "cell_type": "code",
   "execution_count": 5,
   "metadata": {},
   "outputs": [],
   "source": [
    "page_soup = soup(driver.page_source, 'lxml')"
   ]
  },
  {
   "cell_type": "code",
   "execution_count": 6,
   "metadata": {},
   "outputs": [],
   "source": [
    "containers = page_soup.find(\"div\", {\"class\": \"field-item even\"}).findAll(\"a\")"
   ]
  },
  {
   "cell_type": "code",
   "execution_count": 8,
   "metadata": {},
   "outputs": [
    {
     "data": {
      "text/plain": [
       "26"
      ]
     },
     "execution_count": 8,
     "metadata": {},
     "output_type": "execute_result"
    }
   ],
   "source": [
    "link_texts = [container.text for container in containers if bool(re.match(\"ENGG\\*[0-9]{4}\", container.text))]\n",
    "len(link_texts)"
   ]
  },
  {
   "cell_type": "code",
   "execution_count": 17,
   "metadata": {
    "scrolled": true
   },
   "outputs": [
    {
     "data": {
      "text/plain": [
       "['ENGG*2410',\n",
       " 'ENGG*3070 ',\n",
       " 'ENGG*3080',\n",
       " 'ENGG*3150',\n",
       " 'ENGG*3390',\n",
       " 'ENGG*3450',\n",
       " 'ENGG*3640',\n",
       " 'ENGG*3700',\n",
       " 'ENGG*4230',\n",
       " 'ENGG*4460',\n",
       " 'ENGG*4470',\n",
       " 'ENGG*3120',\n",
       " 'ENGG*3170',\n",
       " 'ENGG*3250',\n",
       " 'ENGG*3490',\n",
       " 'ENGG*4050',\n",
       " 'ENGG*4490',\n",
       " 'ENGG*4430',\n",
       " 'ENGG*4440',\n",
       " 'ENGG*4510',\n",
       " 'ENGG*4660',\n",
       " 'ENGG*4030',\n",
       " 'ENGG*4220',\n",
       " 'ENGG*4400',\n",
       " 'ENGG*4480',\n",
       " 'ENGG*4580']"
      ]
     },
     "execution_count": 17,
     "metadata": {},
     "output_type": "execute_result"
    }
   ],
   "source": [
    "link_texts"
   ]
  },
  {
   "cell_type": "markdown",
   "metadata": {},
   "source": [
    "# 2. Scrape courses"
   ]
  },
  {
   "cell_type": "code",
   "execution_count": 12,
   "metadata": {},
   "outputs": [],
   "source": [
    "driver.find_element_by_id(\"becookiebarbuttonid\").click()"
   ]
  },
  {
   "cell_type": "code",
   "execution_count": 13,
   "metadata": {},
   "outputs": [],
   "source": [
    "driver.find_element_by_link_text(link_texts[0]).click() #go to page listing all engg courses. Scrape from there"
   ]
  },
  {
   "cell_type": "code",
   "execution_count": 14,
   "metadata": {},
   "outputs": [],
   "source": [
    "page_soup = soup(driver.page_source, 'lxml')"
   ]
  },
  {
   "cell_type": "code",
   "execution_count": 15,
   "metadata": {},
   "outputs": [],
   "source": [
    "containers = page_soup.findAll(\"div\", {\"class\": \"courseblock\"})"
   ]
  },
  {
   "cell_type": "markdown",
   "metadata": {},
   "source": [
    "Turns out all courses will have to be found and scraped in one webpage listing all engg courses. So that's what the script below will do, using the link texts collected earlier to find the target courses"
   ]
  },
  {
   "cell_type": "code",
   "execution_count": 18,
   "metadata": {},
   "outputs": [
    {
     "name": "stdout",
     "output_type": "stream",
     "text": [
      "scraped 26 courses\n"
     ]
    }
   ],
   "source": [
    "counter = 0\n",
    "course_names = []\n",
    "course_codes = []\n",
    "course_descs = []\n",
    "\n",
    "for link_text in link_texts:\n",
    "    for container in containers:\n",
    "        if container.find(\"span\", {\"class\": \"text detail-code margin--small text--semibold text--big\"}).text.strip() == link_text.strip():\n",
    "            course_codes.append(container.find(\"span\", {\"class\": \"text detail-code margin--small text--semibold text--big\"}).text.strip())\n",
    "            course_names.append(container.find(\"span\", {\"class\": \"text detail-title margin--small text--semibold text--big\"}).text.strip())\n",
    "            course_descs.append(container.find(\"p\", {\"class\": \"courseblockextra noindent\"}).text)\n",
    "            \n",
    "            counter += 1\n",
    "            continue\n",
    "            \n",
    "print(\"scraped {} courses\".format(counter))"
   ]
  },
  {
   "cell_type": "markdown",
   "metadata": {},
   "source": [
    "# 3. Inspect and write to CSV"
   ]
  },
  {
   "cell_type": "code",
   "execution_count": 19,
   "metadata": {
    "scrolled": true
   },
   "outputs": [
    {
     "data": {
      "text/plain": [
       "['ENGG*2410',\n",
       " 'ENGG*3070',\n",
       " 'ENGG*3080',\n",
       " 'ENGG*3150',\n",
       " 'ENGG*3390',\n",
       " 'ENGG*3450',\n",
       " 'ENGG*3640',\n",
       " 'ENGG*3700',\n",
       " 'ENGG*4230',\n",
       " 'ENGG*4460',\n",
       " 'ENGG*4470',\n",
       " 'ENGG*3120',\n",
       " 'ENGG*3170',\n",
       " 'ENGG*3250',\n",
       " 'ENGG*3490',\n",
       " 'ENGG*4050',\n",
       " 'ENGG*4490',\n",
       " 'ENGG*4430',\n",
       " 'ENGG*4440',\n",
       " 'ENGG*4510',\n",
       " 'ENGG*4660',\n",
       " 'ENGG*4030',\n",
       " 'ENGG*4220',\n",
       " 'ENGG*4400',\n",
       " 'ENGG*4480',\n",
       " 'ENGG*4580']"
      ]
     },
     "execution_count": 19,
     "metadata": {},
     "output_type": "execute_result"
    }
   ],
   "source": [
    "course_codes"
   ]
  },
  {
   "cell_type": "code",
   "execution_count": 20,
   "metadata": {
    "scrolled": true
   },
   "outputs": [
    {
     "data": {
      "text/plain": [
       "['Digital Systems Design Using  Descriptive Languages',\n",
       " 'Integrated Manufacturing Systems',\n",
       " 'Energy Resources and Technologies',\n",
       " 'Engineering Biomechanics',\n",
       " 'Signal Processing',\n",
       " 'Electronic Devices',\n",
       " 'Microcomputer Interfacing',\n",
       " 'Optimization for Engineers',\n",
       " 'Energy Conversion',\n",
       " 'Robotic Systems',\n",
       " 'Finite Element Analysis',\n",
       " 'Computer Aided Design and Manufacturing',\n",
       " 'Biomaterials',\n",
       " 'Energy Management and Utilization',\n",
       " 'Introduction to Mechatronic Systems  Design',\n",
       " 'Quality Control',\n",
       " 'Sampled Data Control Design',\n",
       " 'Neuro-Fuzzy and Soft Computing Systems',\n",
       " 'Computational Fluid Dynamics',\n",
       " 'Assessment and Management of Risk',\n",
       " 'Medical Image Processing',\n",
       " 'Manufacturing System Design',\n",
       " 'Interdisciplinary Mechanical  Engineering Design',\n",
       " 'Biomechanical Engineering Design',\n",
       " 'Advanced Mechatronic Systems Design',\n",
       " 'Sustainable Energy Systems Design']"
      ]
     },
     "execution_count": 20,
     "metadata": {},
     "output_type": "execute_result"
    }
   ],
   "source": [
    "course_names"
   ]
  },
  {
   "cell_type": "code",
   "execution_count": 21,
   "metadata": {},
   "outputs": [
    {
     "data": {
      "text/plain": [
       "['Review of Boolean algebra and truth tables,  Karnaugh maps. Design, synthesis and realization  of combinational circuits. Design, synthesis and  realization of sequential circuits. VHDL:  structural modeling, data flow modeling,  synchronous & asynchronous behavior descriptions,  algorithmic modeling. Designing with PLDs.  Digital design with SM charts. Designing with  PGAs and complex programmable logical devices.  Hardware testing and design for testability.  Hierarchy in large designs. The course will  primarily be concerned with the design of  multi-input, multi-output digital controllers  which provide the central control signals that  orchestrate the collection of hardware devices  (from SSI to VLSI) found in a digital system. An  introduction to FPGA-based, as well as  microprocessor-based digital systems design will  be given. Design examples will include systems  such as UART, microcontroller CPU, ALU and data  acquisition system.',\n",
       " 'Common production machines and manufacturing  systems are dealt with, particularly automated  systems, robotics, computer control and  integration techniques, materials handling,  inspection processes and process control. The  course addresses societal and environmental  issues related to manufacturing.',\n",
       " 'The challenges of changing the global energy  system to reduce dependence on finite fossil  energy sources, and transition to environmentally  sustainable energy sources, are examined. The  reserves, consumption, applications and  environmental and human impacts of oil, coal and  natural gas usage are examined. The fundamental  principles, applications and status of a range of  renewable energy sources and technologies will be  covered to provide a solid background for further  study of sustainable energy.',\n",
       " 'The following topics related to biomechanics are  covered in this course: kinematic and kinetic  analysis techniques; electromyography; current  techniques in laboratory instrumentation and  biomedical applications.',\n",
       " 'This course will establish the fundamental  analysis and design techniques for signal  processing systems. Topics covered include:  definition and properties of linear  time-invariant systems; impulse response and  convolution; continuous-time Laplace transform,  Fourier series, Fourier transform; discrete-time  Fourier transform, discrete-time Fourier series,  fast Fourier transform, Z transform; complex  frequency response; filter analysis and design  for both continuous and discrete time systems.  Students will be able to design continuous-time  filters and both design and implement  discrete-time digital filters using  computer-based tools.',\n",
       " 'This course explores the theory and principles of  modern electronic devices and their applications  in circuits. Course topics include: intrinsic and  doped semiconductors; drift and diffusion  currents; metal-semiconductor contacts and MOS  capacitors; pn junctions and breakdown phenomena;  solid-state diodes; bipolar and MOS field-effect  transistors; current-voltage characteristics and  biasing; small-signal models and operation;  circuit integration; analysis and design of  application circuits, operational  transconductance amplifiers, and logic gates.',\n",
       " 'This course focuses on the subject of interfacing  microcomputers to external equipment. Topics  include peripheral devices, hardware interfaces,  device driver software and real time programming.  Advanced programming: debugging of embedded  systems, data structures and subroutine calls,  high-level system programming. Interrupts and  resets, real time events, signal generation and  timing measurements. Synchronous and asynchronous  serial communication. Parallel I/O ports and  synchronization techniques. I/O interfacing,  microcomputer busses, memory interfacing and  direct memory access (DMA). Data acquisition  topics include signal conditioning analog to  digital conversion and digital signal processing.',\n",
       " 'This course serves as an introduction to  optimization. Topics to be covered include but  are not limited to: linear programming,  sensitivity analysis, linear integer programming  technique, dynamic programming, Markov chains,  transportation method, decision analysis, and  queuing theory.',\n",
       " 'The course introduces the technical criteria for  the design of efficient energy conversion  processes and systems. It includes the review of  boilers and cycles, fuel and combustion  calculations, and fundamentals of both traditional  and emerging energy conversion processes and  systems for production of thermal, mechanical, and  electrical energy. Topics include fossil, biomass  and nuclear fuels, as well as wind, solar,  geothermal energy and fuel cells. Mechanisms for  storing energy generated from each of these are  also studied. The course also explores conversion  of automobile systems, renovation of old fossil  fuel fired plant technology, co-firing of  opportunity fuels, waste to energy technology,  emissions, and economics of energy projects.',\n",
       " 'This course covers robot technology fundamentals,  mathematical representation of kinematics,  planning and execution of robot trajectories,  introduction to robot languages, programming of  robotic systems, different application domains  for robots (e.g. assembly, manufacturing,  medical, services, etc.), and robot sensors. The  goal of this course is to provide students with a  comprehensive background, approaches and skills  to apply robotics technology to real world  engineering applications and problems.',\n",
       " 'The theory of finite element analysis is  presented including element derivation and  solution procedures. Students use a finite  element package to solve problems based on static  and dynamic applications in mechanical systems.  Examples are chosen from classical machines as  well as biological systems.',\n",
       " 'The course presents the elements of solid  modelling, creation of parts of increasing  complexity and the assembly of parts to form a  final design, along with mechanism simulation.  The operation and programming of CNC machines is  covered.',\n",
       " 'Physical properties of natural and synthetic  (e.g. stainless steel, polymers) materials used  in biological engineering applications are  presented in this course. Topics will include  microstructure and mechanical properties of  typical biomaterials, quantification of advanced  material properties and behaviours, fabrication,  compatibility, biodegradation and mechanical  failure. Typical applications will include  processing of biomaterials as well as equipment  and implant design.',\n",
       " 'This course introduces notions of energy  conservation and efficiency, an integrated  approach to energy auditing and examples of  typical applications (examples include: steam  generation and distribution, process or comfort  cooling, pumping and compressed air, human needs  for modern living, energy consumption in  buildings and industry). It also covers pinch  technology and its application for energy  recovery in industry, and methods to achieve low  energy buildings.',\n",
       " 'This course covers the design of mechatronic  systems, which are synergistic, combinations of  components and controls drawn from mechanical  engineering, electronics, and computer  engineering. The course covers the following  areas: (1) modeling of mechatronic systems  (mechanical, electrical/electronic systems) and  understanding their behaviour, (2) sensing and  measurement including a variety of mechatronics  sensors (fundamentals and applications), (3)  actuators specific to mechatronics including  motors and drivers (fundamentals and  applications), (4) basic microcontroller  programming as well as sensor/actuator  integrations, and (5) control and its  applications in mechatronics.',\n",
       " 'The basic techniques and regulations surrounding  quality control in a generic manufacturing  environment are covered. The topics covered  include: total quality management including  relevant ISO regulations, six sigma, reliability,  statistical process control, acceptance sampling  and 2k factorial design of experiments.',\n",
       " 'This course introduces the theory and techniques  required to analyze, design, and implement  sampled data controllers on real, continuous time  systems. Topics include sampling, system  identification and modeling, delay, state-space  and frequency domain approaches to control,  emulation methods, and direct z-domain methods.  In the course project, students will apply the  techniques discussed in class to design and  implement a computer based controller for a real  physical system, then compare the actual results  obtained to the expected theoretical results and  discuss sources of error and limitations of their  approach.',\n",
       " 'This course covers the basics of fuzzy systems,  neural networks and neuro-fuzzy systems. The main  focus is the concepts and algorithms of fuzzy  sets, rules, and reasoning, as well as neural  network structures, supervised learning and  unsupervised learning of neural networks, and  hybrid neuro-fuzzy systems. The applications of  neural networks and fuzzy systems to control  systems, signal processing, systems modeling and  systems identification will be presented through  examples.',\n",
       " 'Computational methods for fluid mechanics form  the core of the course. The concepts of modelling  are covered including numerical analysis, the  governing equations for fluid problems and finite  discretization methods. Mathematical models for  turbulence are presented and the student is  exposed to the use of commercial software for the  solution of complex problems in fluid dynamics.',\n",
       " 'This course will develop the bases by which risk  to human health and the environment can be  assessed. Issues of hazardous waste cleanups,  permitting of water and air discharges, food  safety, flood protection, as examples, are  addressed. The course also examines how decisions  are made to manage the risks to acceptable  levels.',\n",
       " 'This course covers the fundamentals of medical  image processing. Image processing topics covered  include: fundamentals of resolution and  quantization; linear systems as applied to  multi-dimensional continuous and discrete  systems; point operations such as contrast  enhancement and histogram equalization; geometric  operations for distortion correction, including  interpolation methods; linear filtering in both  the spatial and spatial-frequency domains; and  image restoration and inverse filtering. Image  segmentation is covered in the framework of  pattern recognition using single and multiple  dimensional features, and includes the  fundamental Bayes classifier as well as machine  learning methods for both supervised and  unsupervised learning.',\n",
       " 'Students work in groups to design a manufacturing  system to produce a specific product. Choices  must be made about the materials to be used, the  methods to manufacture each part of the product  and the final assembly and/or packaging process.  Attention is paid to economics and efficiency of  the overall manufacturing system.',\n",
       " 'This is a general design course for students  registered in the B. Eng. major in mechanical  engineering who wish to develop a broad based  mechanical engineering foundation. Students work  in groups to develop a general mechanical  engineering design. Special attention is paid to  the sustainability of the design, its economic  feasibility and overall efficiency.',\n",
       " 'This course covers concept development, design,  modeling, manufacture and testing of  biomechanical devices including athletic  equipment, assistive devices, medical implants  and tools. Other topics include the biomechanical  factors influencing design, regulatory issues,  current development trends, and the possible  future direction of design and technology.',\n",
       " 'The course is a follow up to the introductory  mechatronics course and aims at covering advanced  topics that are necessary in developing  mechatronic systems. Topics include: signal  conditioning and filtering for mechatronics  system including advanced filters such as Kalman  filters; important/advanced electronic circuits  for mechatronics systems; microcontroller  interfacing and programming; design and  development of motion control for mechatronics  systems including PLC; introduction of integrated  complex mechatronics systems: concept, structure,  and applications. Through a design project,  students will use and apply these concepts in  building a complex mechatronics system with  advanced features.',\n",
       " 'The analysis and design of sustainable energy  systems are presented in this course. Techniques  considered include generation of alternative  designs to satisfy a problem definition;  evaluation of alternative designs; application of  modeling simulations and cost analyses.']"
      ]
     },
     "execution_count": 21,
     "metadata": {},
     "output_type": "execute_result"
    }
   ],
   "source": [
    "course_descs"
   ]
  },
  {
   "cell_type": "code",
   "execution_count": 22,
   "metadata": {},
   "outputs": [
    {
     "data": {
      "text/html": [
       "<div>\n",
       "<style scoped>\n",
       "    .dataframe tbody tr th:only-of-type {\n",
       "        vertical-align: middle;\n",
       "    }\n",
       "\n",
       "    .dataframe tbody tr th {\n",
       "        vertical-align: top;\n",
       "    }\n",
       "\n",
       "    .dataframe thead th {\n",
       "        text-align: right;\n",
       "    }\n",
       "</style>\n",
       "<table border=\"1\" class=\"dataframe\">\n",
       "  <thead>\n",
       "    <tr style=\"text-align: right;\">\n",
       "      <th></th>\n",
       "      <th>Course Number</th>\n",
       "      <th>Course Name</th>\n",
       "      <th>Course Description</th>\n",
       "    </tr>\n",
       "  </thead>\n",
       "  <tbody>\n",
       "    <tr>\n",
       "      <th>0</th>\n",
       "      <td>ENGG*2410</td>\n",
       "      <td>Digital Systems Design Using  Descriptive Lang...</td>\n",
       "      <td>Review of Boolean algebra and truth tables,  K...</td>\n",
       "    </tr>\n",
       "    <tr>\n",
       "      <th>1</th>\n",
       "      <td>ENGG*3070</td>\n",
       "      <td>Integrated Manufacturing Systems</td>\n",
       "      <td>Common production machines and manufacturing  ...</td>\n",
       "    </tr>\n",
       "    <tr>\n",
       "      <th>2</th>\n",
       "      <td>ENGG*3080</td>\n",
       "      <td>Energy Resources and Technologies</td>\n",
       "      <td>The challenges of changing the global energy  ...</td>\n",
       "    </tr>\n",
       "    <tr>\n",
       "      <th>3</th>\n",
       "      <td>ENGG*3150</td>\n",
       "      <td>Engineering Biomechanics</td>\n",
       "      <td>The following topics related to biomechanics a...</td>\n",
       "    </tr>\n",
       "    <tr>\n",
       "      <th>4</th>\n",
       "      <td>ENGG*3390</td>\n",
       "      <td>Signal Processing</td>\n",
       "      <td>This course will establish the fundamental  an...</td>\n",
       "    </tr>\n",
       "    <tr>\n",
       "      <th>5</th>\n",
       "      <td>ENGG*3450</td>\n",
       "      <td>Electronic Devices</td>\n",
       "      <td>This course explores the theory and principles...</td>\n",
       "    </tr>\n",
       "    <tr>\n",
       "      <th>6</th>\n",
       "      <td>ENGG*3640</td>\n",
       "      <td>Microcomputer Interfacing</td>\n",
       "      <td>This course focuses on the subject of interfac...</td>\n",
       "    </tr>\n",
       "    <tr>\n",
       "      <th>7</th>\n",
       "      <td>ENGG*3700</td>\n",
       "      <td>Optimization for Engineers</td>\n",
       "      <td>This course serves as an introduction to  opti...</td>\n",
       "    </tr>\n",
       "    <tr>\n",
       "      <th>8</th>\n",
       "      <td>ENGG*4230</td>\n",
       "      <td>Energy Conversion</td>\n",
       "      <td>The course introduces the technical criteria f...</td>\n",
       "    </tr>\n",
       "    <tr>\n",
       "      <th>9</th>\n",
       "      <td>ENGG*4460</td>\n",
       "      <td>Robotic Systems</td>\n",
       "      <td>This course covers robot technology fundamenta...</td>\n",
       "    </tr>\n",
       "    <tr>\n",
       "      <th>10</th>\n",
       "      <td>ENGG*4470</td>\n",
       "      <td>Finite Element Analysis</td>\n",
       "      <td>The theory of finite element analysis is  pres...</td>\n",
       "    </tr>\n",
       "    <tr>\n",
       "      <th>11</th>\n",
       "      <td>ENGG*3120</td>\n",
       "      <td>Computer Aided Design and Manufacturing</td>\n",
       "      <td>The course presents the elements of solid  mod...</td>\n",
       "    </tr>\n",
       "    <tr>\n",
       "      <th>12</th>\n",
       "      <td>ENGG*3170</td>\n",
       "      <td>Biomaterials</td>\n",
       "      <td>Physical properties of natural and synthetic  ...</td>\n",
       "    </tr>\n",
       "    <tr>\n",
       "      <th>13</th>\n",
       "      <td>ENGG*3250</td>\n",
       "      <td>Energy Management and Utilization</td>\n",
       "      <td>This course introduces notions of energy  cons...</td>\n",
       "    </tr>\n",
       "    <tr>\n",
       "      <th>14</th>\n",
       "      <td>ENGG*3490</td>\n",
       "      <td>Introduction to Mechatronic Systems  Design</td>\n",
       "      <td>This course covers the design of mechatronic  ...</td>\n",
       "    </tr>\n",
       "    <tr>\n",
       "      <th>15</th>\n",
       "      <td>ENGG*4050</td>\n",
       "      <td>Quality Control</td>\n",
       "      <td>The basic techniques and regulations surroundi...</td>\n",
       "    </tr>\n",
       "    <tr>\n",
       "      <th>16</th>\n",
       "      <td>ENGG*4490</td>\n",
       "      <td>Sampled Data Control Design</td>\n",
       "      <td>This course introduces the theory and techniqu...</td>\n",
       "    </tr>\n",
       "    <tr>\n",
       "      <th>17</th>\n",
       "      <td>ENGG*4430</td>\n",
       "      <td>Neuro-Fuzzy and Soft Computing Systems</td>\n",
       "      <td>This course covers the basics of fuzzy systems...</td>\n",
       "    </tr>\n",
       "    <tr>\n",
       "      <th>18</th>\n",
       "      <td>ENGG*4440</td>\n",
       "      <td>Computational Fluid Dynamics</td>\n",
       "      <td>Computational methods for fluid mechanics form...</td>\n",
       "    </tr>\n",
       "    <tr>\n",
       "      <th>19</th>\n",
       "      <td>ENGG*4510</td>\n",
       "      <td>Assessment and Management of Risk</td>\n",
       "      <td>This course will develop the bases by which ri...</td>\n",
       "    </tr>\n",
       "    <tr>\n",
       "      <th>20</th>\n",
       "      <td>ENGG*4660</td>\n",
       "      <td>Medical Image Processing</td>\n",
       "      <td>This course covers the fundamentals of medical...</td>\n",
       "    </tr>\n",
       "    <tr>\n",
       "      <th>21</th>\n",
       "      <td>ENGG*4030</td>\n",
       "      <td>Manufacturing System Design</td>\n",
       "      <td>Students work in groups to design a manufactur...</td>\n",
       "    </tr>\n",
       "    <tr>\n",
       "      <th>22</th>\n",
       "      <td>ENGG*4220</td>\n",
       "      <td>Interdisciplinary Mechanical  Engineering Design</td>\n",
       "      <td>This is a general design course for students  ...</td>\n",
       "    </tr>\n",
       "    <tr>\n",
       "      <th>23</th>\n",
       "      <td>ENGG*4400</td>\n",
       "      <td>Biomechanical Engineering Design</td>\n",
       "      <td>This course covers concept development, design...</td>\n",
       "    </tr>\n",
       "    <tr>\n",
       "      <th>24</th>\n",
       "      <td>ENGG*4480</td>\n",
       "      <td>Advanced Mechatronic Systems Design</td>\n",
       "      <td>The course is a follow up to the introductory ...</td>\n",
       "    </tr>\n",
       "    <tr>\n",
       "      <th>25</th>\n",
       "      <td>ENGG*4580</td>\n",
       "      <td>Sustainable Energy Systems Design</td>\n",
       "      <td>The analysis and design of sustainable energy ...</td>\n",
       "    </tr>\n",
       "  </tbody>\n",
       "</table>\n",
       "</div>"
      ],
      "text/plain": [
       "   Course Number                                        Course Name  \\\n",
       "0      ENGG*2410  Digital Systems Design Using  Descriptive Lang...   \n",
       "1      ENGG*3070                   Integrated Manufacturing Systems   \n",
       "2      ENGG*3080                  Energy Resources and Technologies   \n",
       "3      ENGG*3150                           Engineering Biomechanics   \n",
       "4      ENGG*3390                                  Signal Processing   \n",
       "5      ENGG*3450                                 Electronic Devices   \n",
       "6      ENGG*3640                          Microcomputer Interfacing   \n",
       "7      ENGG*3700                         Optimization for Engineers   \n",
       "8      ENGG*4230                                  Energy Conversion   \n",
       "9      ENGG*4460                                    Robotic Systems   \n",
       "10     ENGG*4470                            Finite Element Analysis   \n",
       "11     ENGG*3120            Computer Aided Design and Manufacturing   \n",
       "12     ENGG*3170                                       Biomaterials   \n",
       "13     ENGG*3250                  Energy Management and Utilization   \n",
       "14     ENGG*3490        Introduction to Mechatronic Systems  Design   \n",
       "15     ENGG*4050                                    Quality Control   \n",
       "16     ENGG*4490                        Sampled Data Control Design   \n",
       "17     ENGG*4430             Neuro-Fuzzy and Soft Computing Systems   \n",
       "18     ENGG*4440                       Computational Fluid Dynamics   \n",
       "19     ENGG*4510                  Assessment and Management of Risk   \n",
       "20     ENGG*4660                           Medical Image Processing   \n",
       "21     ENGG*4030                        Manufacturing System Design   \n",
       "22     ENGG*4220   Interdisciplinary Mechanical  Engineering Design   \n",
       "23     ENGG*4400                   Biomechanical Engineering Design   \n",
       "24     ENGG*4480                Advanced Mechatronic Systems Design   \n",
       "25     ENGG*4580                  Sustainable Energy Systems Design   \n",
       "\n",
       "                                   Course Description  \n",
       "0   Review of Boolean algebra and truth tables,  K...  \n",
       "1   Common production machines and manufacturing  ...  \n",
       "2   The challenges of changing the global energy  ...  \n",
       "3   The following topics related to biomechanics a...  \n",
       "4   This course will establish the fundamental  an...  \n",
       "5   This course explores the theory and principles...  \n",
       "6   This course focuses on the subject of interfac...  \n",
       "7   This course serves as an introduction to  opti...  \n",
       "8   The course introduces the technical criteria f...  \n",
       "9   This course covers robot technology fundamenta...  \n",
       "10  The theory of finite element analysis is  pres...  \n",
       "11  The course presents the elements of solid  mod...  \n",
       "12  Physical properties of natural and synthetic  ...  \n",
       "13  This course introduces notions of energy  cons...  \n",
       "14  This course covers the design of mechatronic  ...  \n",
       "15  The basic techniques and regulations surroundi...  \n",
       "16  This course introduces the theory and techniqu...  \n",
       "17  This course covers the basics of fuzzy systems...  \n",
       "18  Computational methods for fluid mechanics form...  \n",
       "19  This course will develop the bases by which ri...  \n",
       "20  This course covers the fundamentals of medical...  \n",
       "21  Students work in groups to design a manufactur...  \n",
       "22  This is a general design course for students  ...  \n",
       "23  This course covers concept development, design...  \n",
       "24  The course is a follow up to the introductory ...  \n",
       "25  The analysis and design of sustainable energy ...  "
      ]
     },
     "execution_count": 22,
     "metadata": {},
     "output_type": "execute_result"
    }
   ],
   "source": [
    "import pandas as pd\n",
    "\n",
    "df = pd.DataFrame({\n",
    "    \"Course Number\": course_codes,\n",
    "    \"Course Name\": course_names,\n",
    "    \"Course Description\": course_descs    \n",
    "})\n",
    "\n",
    "df"
   ]
  },
  {
   "cell_type": "code",
   "execution_count": 23,
   "metadata": {},
   "outputs": [],
   "source": [
    "df.to_csv('UGuelph_MechEng_Technical_Electives_Courses.csv', index = False)"
   ]
  },
  {
   "cell_type": "code",
   "execution_count": 24,
   "metadata": {},
   "outputs": [],
   "source": [
    "driver.quit()"
   ]
  }
 ],
 "metadata": {
  "kernelspec": {
   "display_name": "Python 3",
   "language": "python",
   "name": "python3"
  },
  "language_info": {
   "codemirror_mode": {
    "name": "ipython",
    "version": 3
   },
   "file_extension": ".py",
   "mimetype": "text/x-python",
   "name": "python",
   "nbconvert_exporter": "python",
   "pygments_lexer": "ipython3",
   "version": "3.8.5"
  }
 },
 "nbformat": 4,
 "nbformat_minor": 4
}
