{
 "cells": [
  {
   "cell_type": "code",
   "execution_count": 1,
   "metadata": {},
   "outputs": [],
   "source": [
    "from bs4 import BeautifulSoup as soup\n",
    "from urllib.request import urlopen as ureq\n",
    "from selenium import webdriver\n",
    "import time\n",
    "import re"
   ]
  },
  {
   "cell_type": "code",
   "execution_count": 2,
   "metadata": {},
   "outputs": [],
   "source": [
    "url = \"https://calendar.uoguelph.ca/undergraduate-calendar/programs-majors-minors/mechanical-engineering-program-mech/#requirementstext\""
   ]
  },
  {
   "cell_type": "code",
   "execution_count": 3,
   "metadata": {},
   "outputs": [],
   "source": [
    "chrome_options = webdriver.ChromeOptions()\n",
    "chrome_options.add_argument('--ignore-certificate-errors')\n",
    "chrome_options.add_argument('--incognito')\n",
    "#chrome_options.add_argument('--headless')\n",
    "\n",
    "driver = webdriver.Chrome(\"C:\\\\Users\\\\jerry\\\\Downloads\\\\chromedriver\", options=chrome_options)"
   ]
  },
  {
   "cell_type": "code",
   "execution_count": 4,
   "metadata": {},
   "outputs": [],
   "source": [
    "driver.get(url)"
   ]
  },
  {
   "cell_type": "markdown",
   "metadata": {},
   "source": [
    "# 1. Collect course link texts for driver to click on"
   ]
  },
  {
   "cell_type": "code",
   "execution_count": 5,
   "metadata": {},
   "outputs": [],
   "source": [
    "page_soup = soup(driver.page_source, 'lxml')"
   ]
  },
  {
   "cell_type": "code",
   "execution_count": 6,
   "metadata": {},
   "outputs": [
    {
     "data": {
      "text/plain": [
       "33"
      ]
     },
     "execution_count": 6,
     "metadata": {},
     "output_type": "execute_result"
    }
   ],
   "source": [
    "containers = page_soup.find(\"table\", {\"class\": \"sc_courselist\"}).find(\"tbody\").findAll(\"a\")\n",
    "len(containers)"
   ]
  },
  {
   "cell_type": "code",
   "execution_count": 9,
   "metadata": {
    "scrolled": true
   },
   "outputs": [
    {
     "data": {
      "text/plain": [
       "['CHEM*1040',\n",
       " 'CIS*1500',\n",
       " 'ENGG*1100',\n",
       " 'MATH*1200',\n",
       " 'PHYS*1130',\n",
       " 'ENGG*1210',\n",
       " 'ENGG*1500',\n",
       " 'MATH*1210',\n",
       " 'PHYS*1010',\n",
       " 'ENGG*1070',\n",
       " 'ENGG*2100',\n",
       " 'ENGG*2120',\n",
       " 'ENGG*2160',\n",
       " 'ENGG*2400',\n",
       " 'MATH*2270',\n",
       " 'ENGG*2180',\n",
       " 'ENGG*2230',\n",
       " 'ENGG*2340',\n",
       " 'ENGG*2450',\n",
       " 'MATH*2130',\n",
       " 'STAT*2120',\n",
       " 'ENGG*3240',\n",
       " 'ENGG*3260',\n",
       " 'ENGG*3280',\n",
       " 'ENGG*3510',\n",
       " 'HIST*1250',\n",
       " 'ENGG*3100',\n",
       " 'ENGG*3370',\n",
       " 'ENGG*3410',\n",
       " 'ENGG*3430',\n",
       " 'ENGG*3140',\n",
       " 'ENGG*4000',\n",
       " 'ENGG*4160']"
      ]
     },
     "execution_count": 9,
     "metadata": {},
     "output_type": "execute_result"
    }
   ],
   "source": [
    "link_texts = [container.text for container in containers]\n",
    "link_texts"
   ]
  },
  {
   "cell_type": "markdown",
   "metadata": {},
   "source": [
    "# 2. Test run - try scraping the first course"
   ]
  },
  {
   "cell_type": "code",
   "execution_count": 10,
   "metadata": {},
   "outputs": [],
   "source": [
    "driver.find_element_by_link_text(link_texts[0]).click()"
   ]
  },
  {
   "cell_type": "code",
   "execution_count": 11,
   "metadata": {},
   "outputs": [],
   "source": [
    "page_soup = soup(driver.page_source, 'lxml')"
   ]
  },
  {
   "cell_type": "code",
   "execution_count": 14,
   "metadata": {},
   "outputs": [],
   "source": [
    "course_block = page_soup.find(\"div\", {\"class\": \"lfjsbubblemain\"}).find(\"div\", {\"class\": \"courseblock\"})"
   ]
  },
  {
   "cell_type": "code",
   "execution_count": 15,
   "metadata": {},
   "outputs": [
    {
     "data": {
      "text/plain": [
       "'CHEM*1040'"
      ]
     },
     "execution_count": 15,
     "metadata": {},
     "output_type": "execute_result"
    }
   ],
   "source": [
    "course_code = course_block.find(\"span\", {\"class\": \"text detail-code margin--small text--semibold text--big\"}).text\n",
    "course_code"
   ]
  },
  {
   "cell_type": "code",
   "execution_count": 17,
   "metadata": {},
   "outputs": [
    {
     "data": {
      "text/plain": [
       "'General Chemistry I'"
      ]
     },
     "execution_count": 17,
     "metadata": {},
     "output_type": "execute_result"
    }
   ],
   "source": [
    "course_name = course_block.find(\"span\", {\"class\": \"text detail-title margin--small text--semibold text--big\"}).text\n",
    "course_name"
   ]
  },
  {
   "cell_type": "code",
   "execution_count": 18,
   "metadata": {},
   "outputs": [
    {
     "data": {
      "text/plain": [
       "'This course introduces concepts of chemistry, the  central link between the physical and biological  sciences. Principles discussed include chemical  bonding, simple reactions and stoichiometry,  chemical equilibria and solution equilibria  (acids, bases, and buffers), and introductory  organic chemistry.'"
      ]
     },
     "execution_count": 18,
     "metadata": {},
     "output_type": "execute_result"
    }
   ],
   "source": [
    "course_desc = course_block.find(\"p\", {\"class\": \"courseblockextra noindent\"}).text\n",
    "course_desc"
   ]
  },
  {
   "cell_type": "code",
   "execution_count": 19,
   "metadata": {},
   "outputs": [],
   "source": [
    "from selenium.webdriver.common.keys import Keys\n",
    "driver.find_element_by_link_text(link_texts[0]).send_keys(Keys.ESCAPE)"
   ]
  },
  {
   "cell_type": "code",
   "execution_count": 20,
   "metadata": {},
   "outputs": [],
   "source": [
    "driver.find_element_by_link_text(link_texts[1]).click()"
   ]
  },
  {
   "cell_type": "code",
   "execution_count": 21,
   "metadata": {},
   "outputs": [],
   "source": [
    "driver.find_element_by_link_text(link_texts[1]).send_keys(Keys.ESCAPE)"
   ]
  },
  {
   "cell_type": "markdown",
   "metadata": {},
   "source": [
    "# 3. Test run successful! Implement automation script to scrape all courses"
   ]
  },
  {
   "cell_type": "code",
   "execution_count": 22,
   "metadata": {
    "scrolled": true
   },
   "outputs": [
    {
     "name": "stdout",
     "output_type": "stream",
     "text": [
      "Scraped  CHEM*1040\n",
      "Scraped  CIS*1500\n",
      "Scraped  ENGG*1100\n",
      "Scraped  MATH*1200\n",
      "Scraped  PHYS*1130\n",
      "Scraped  ENGG*1210\n",
      "Scraped  ENGG*1500\n",
      "Scraped  MATH*1210\n",
      "Scraped  PHYS*1010\n",
      "Scraped  ENGG*1070\n",
      "Scraped  ENGG*2100\n",
      "Scraped  ENGG*2120\n",
      "Scraped  ENGG*2160\n",
      "Scraped  ENGG*2400\n",
      "Scraped  MATH*2270\n",
      "Scraped  ENGG*2180\n",
      "Scraped  ENGG*2230\n",
      "Scraped  ENGG*2340\n",
      "Scraped  ENGG*2450\n",
      "Scraped  MATH*2130\n",
      "Scraped  STAT*2120\n",
      "Scraped  ENGG*3240\n",
      "Scraped  ENGG*3260\n",
      "Scraped  ENGG*3280\n",
      "Scraped  ENGG*3510\n",
      "Scraped  HIST*1250\n",
      "Scraped  ENGG*3100\n",
      "Scraped  ENGG*3370\n",
      "Scraped  ENGG*3410\n",
      "Scraped  ENGG*3430\n",
      "Scraped  ENGG*3140\n",
      "Scraped  ENGG*4000\n",
      "Scraped  ENGG*4160\n",
      "Successfully scraped 33 courses\n"
     ]
    }
   ],
   "source": [
    "counter = 0\n",
    "course_names = []\n",
    "course_codes = []\n",
    "course_descs = []\n",
    "\n",
    "for link_text in link_texts:\n",
    "    \n",
    "    link = driver.find_element_by_link_text(link_text)\n",
    "    time.sleep(2)\n",
    "    link.click()\n",
    "    time.sleep(3)\n",
    "    \n",
    "    page_soup = soup(driver.page_source, 'lxml')\n",
    "    course_block = page_soup.find(\"div\", {\"class\": \"lfjsbubblemain\"}).find(\"div\", {\"class\": \"courseblock\"})\n",
    "    course_codes.append(course_block.find(\"span\", {\"class\": \"text detail-code margin--small text--semibold text--big\"}).text)\n",
    "    course_names.append(course_block.find(\"span\", {\"class\": \"text detail-title margin--small text--semibold text--big\"}).text)\n",
    "    course_descs.append(course_block.find(\"p\", {\"class\": \"courseblockextra noindent\"}).text)\n",
    "    \n",
    "    print(\"Scraped \", course_codes[-1])\n",
    "    counter += 1\n",
    "    \n",
    "    link.send_keys(Keys.ESCAPE)\n",
    "    time.sleep(2)\n",
    "    \n",
    "    \n",
    "print(\"Successfully scraped {} courses\".format(counter))\n",
    "    "
   ]
  },
  {
   "cell_type": "markdown",
   "metadata": {},
   "source": [
    "# 4. Inspect scraped data and write to CSV"
   ]
  },
  {
   "cell_type": "code",
   "execution_count": 23,
   "metadata": {
    "scrolled": true
   },
   "outputs": [
    {
     "data": {
      "text/plain": [
       "['General Chemistry I',\n",
       " 'Introduction to Programming',\n",
       " 'Engineering and Design I',\n",
       " 'Calculus I',\n",
       " 'Physics with Applications',\n",
       " 'Engineering Mechanics I',\n",
       " 'Engineering Analysis',\n",
       " 'Calculus II',\n",
       " 'Introductory Electricity and Magnetism',\n",
       " 'Occupational Health and Safety',\n",
       " 'Engineering and Design II',\n",
       " 'Material Science',\n",
       " 'Engineering Mechanics II',\n",
       " 'Engineering Systems Analysis',\n",
       " 'Applied Differential Equations',\n",
       " 'Introduction to Manufacturing Processes',\n",
       " 'Fluid Mechanics',\n",
       " 'Kinematics and Dynamics',\n",
       " 'Electric Circuits',\n",
       " 'Numerical Methods',\n",
       " 'Probability and Statistics for Engineers',\n",
       " 'Engineering Economics',\n",
       " 'Thermodynamics',\n",
       " 'Machine Design',\n",
       " 'Electromechanical Devices',\n",
       " 'Science and Technology in a Global  Context',\n",
       " 'Engineering and Design III',\n",
       " 'Applied Fluids and Thermodynamics',\n",
       " 'Systems and Control Theory',\n",
       " 'Heat and Mass Transfer',\n",
       " 'Mechanical Vibration',\n",
       " 'Proposal for Engineering Design IV',\n",
       " 'Mechanical Engineering Design IV']"
      ]
     },
     "execution_count": 23,
     "metadata": {},
     "output_type": "execute_result"
    }
   ],
   "source": [
    "course_names"
   ]
  },
  {
   "cell_type": "code",
   "execution_count": 24,
   "metadata": {
    "scrolled": true
   },
   "outputs": [
    {
     "data": {
      "text/plain": [
       "['CHEM*1040',\n",
       " 'CIS*1500',\n",
       " 'ENGG*1100',\n",
       " 'MATH*1200',\n",
       " 'PHYS*1130',\n",
       " 'ENGG*1210',\n",
       " 'ENGG*1500',\n",
       " 'MATH*1210',\n",
       " 'PHYS*1010',\n",
       " 'ENGG*1070',\n",
       " 'ENGG*2100',\n",
       " 'ENGG*2120',\n",
       " 'ENGG*2160',\n",
       " 'ENGG*2400',\n",
       " 'MATH*2270',\n",
       " 'ENGG*2180',\n",
       " 'ENGG*2230',\n",
       " 'ENGG*2340',\n",
       " 'ENGG*2450',\n",
       " 'MATH*2130',\n",
       " 'STAT*2120',\n",
       " 'ENGG*3240',\n",
       " 'ENGG*3260',\n",
       " 'ENGG*3280',\n",
       " 'ENGG*3510',\n",
       " 'HIST*1250',\n",
       " 'ENGG*3100',\n",
       " 'ENGG*3370',\n",
       " 'ENGG*3410',\n",
       " 'ENGG*3430',\n",
       " 'ENGG*3140',\n",
       " 'ENGG*4000',\n",
       " 'ENGG*4160']"
      ]
     },
     "execution_count": 24,
     "metadata": {},
     "output_type": "execute_result"
    }
   ],
   "source": [
    "course_codes"
   ]
  },
  {
   "cell_type": "code",
   "execution_count": 25,
   "metadata": {},
   "outputs": [
    {
     "data": {
      "text/plain": [
       "['This course introduces concepts of chemistry, the  central link between the physical and biological  sciences. Principles discussed include chemical  bonding, simple reactions and stoichiometry,  chemical equilibria and solution equilibria  (acids, bases, and buffers), and introductory  organic chemistry.',\n",
       " 'This course introduces problem-solving,  programming and data organization techniques  required for applications using a general purpose  programming language. Topics include control  structures, data representation and manipulation,  program logic, development and testing. This  course is intended for students who do not intend  to enroll in further CIS courses. If your degree  requires further CIS courses, CIS*1300, is  required.',\n",
       " \"This course provides an introduction to  engineering and design. An overview of design  processes is covered and students experience a  defined, open-ended design project. Physical  design development is emphasized, supplemented by  elements of analysis. Engineering communications  emphasize the visual form and span engineering  drawings across a spectrum of engineering  disciplines (2D and 3D, realistic and symbolic).  Sketching and computer aided tools are both  developed. Written communications (individual and  team) focus on design. The practice of  professional engineering, ethical principles and  the engineer's role and obligations in society  are all introduced. The coursework is team-based  to reflect the practice of engineering and the  character of the School of Engineering.\",\n",
       " \"This is a theoretical course intended primarily  for students who expect to pursue further studies  in mathematics and its applications. Topics  include inequalities and absolute value; compound  angle formulas for trigonometric functions;  limits and continuity using rigorous definitions;  the derivative and derivative formulas (including  derivatives of trigonometric, exponential and  logarithmic functions); Fermat's theorem; Rolle's  theorem; the mean-value theorem; applications of  the derivative; Riemann sums; the definite  integral; the fundamental theorem of calculus;  applications of the definite integral; the mean  value theorem for integrals.\",\n",
       " 'This is an introductory physics course for  engineering students. Topics include measurement  and error analysis, translational and rotational  kinematics and dynamics, simple harmonic motion,  waves, acoustics, and optics, with an emphasis on  relevant applications of these physical concepts.  The course will conclude with an introduction to  quantum phenomena.',\n",
       " 'This course presents the fundamental principles  of Newtonian mechanics; distributed loading; free  body diagrams; rigid body equilibrium; structural  analysis; internal loading of structural members;  friction; dynamics of particles; linear and  angular momentum of rigid bodies; conservation of  energy; principles of impulse and momentum, and  plane motion of rigid bodies.',\n",
       " 'This course deals with engineering applications  of matrix algebra, vector spaces and computer  techniques to solve linear systems. Topics  include theory and applications of linear  transformations, eigenvalues and eigenvectors,  diagonalization, complex-variable algebra, and  multi-variable functions.',\n",
       " \"This course is a continuation of MATH*1200. It is  a theoretical course intended primarily for  students who need or expect to pursue further  studies in mathematics, physics, chemistry,  engineering and computer science. Topics include  inverse functions, inverse trigonometric  functions, hyperbolic functions, indeterminate  forms and l'Hopital's rule, techniques of  integration, parametric equations, polar  coordinates, Taylor and Maclaurin series;  functions of two or more variables, partial  derivatives, and if time permits, an introduction  to multiple integration.\",\n",
       " \"This is a course for engineering and physical  science students on the phenomena of  electromagnetism and introductory DC circuit  analysis. Topics include electric charges and  fields, electric potential and current, electric  resistance, capacitance, inductance, magnetic  fields, electric circuits, Ohm's Law, and  application of Kirchhoff's Laws to node and mesh  analysis of DC circuits. The course will conclude  with an introduction to AC circuits.\",\n",
       " 'This course presents the legal implications of  occupational health and safety as expressed in  the Environmental and Occupational Health and  Safety Act, and exposes students to methodologies  designed to ensure compliance with the Act. The  course stresses safety initiatives and deals with  specific safety issues such as noise levels,  biosafety, hazardous waste management, safety in  the workplace, radiation safety and industrial  safety.',\n",
       " 'This course is a progression in engineering  design skills with particular emphasis on  computer usage in design, oral communication of  solutions and team skills. Computer usage in  design will include advanced CAD/CAM/CAE tools;  and database management software. An introduction  to safety in engineering practice and design, and  the concept of sustainable development are  covered.',\n",
       " 'Study of the mechanical, electrical, magnetic,  optical and thermal properties of solids. Atomic  order and disorder in solids, single-phase  metals, and multiphase materials (their  equilibria and micro-structure) are examined as a  basis for understanding the causes of material  properties. Interwoven throughout the course is  an introduction to materials selection and design  considerations.',\n",
       " \"Fundamental principles of the mechanics of  deformable materials; stress and strain; Mohr's  circle for transformation of stress and strain;  deflection under load; design of beams, shafts,  columns and pressure vessels; failure theory and  design.\",\n",
       " 'This course provides the foundational skills  required to model and analyze elementary dynamic  engineering systems. The course will focus on  basic mechanical, electrical, thermal and  hydraulic systems under the assumptions of  linearity and time invariance. Students will  learn to identify relevant elements and generate  system models. System behaviours will be analyzed  by solving for such responses as the impulse  response, step response, and sinusoidal  steady-state response using differential  equations, Laplace transform methods, and  computer-based methods. The relationship of such  system parameters as time constant, degree of  damping and resonance frequencies with the  transient and steady-state responses will be  examined. The complex valued system transfer  function will be defined and analyzed.',\n",
       " 'This course covers the solution of differential  equations that arise from problems in engineering  and science. Topics include linear equations of  first and higher order, systems of linear  equations, Laplace transforms, series solutions  of second-order equations, and an introduction to  partial differential equations.',\n",
       " 'This course is designed to provide students with  an overview of a wide variety of manufacturing  processes involved in industrial activities.  While most of the manufacturing processes are to  be introduced during the course, more emphasis  will be given on those processes which are more  common in industry, namely material removal  processes, casting, and forming. In addition to  introducing the various manufacturing process,  mathematical models and several empirical data  and equations describing the various  manufacturing processes will be covered in order  to provide the students with a better  understanding of the relations between the  parameters involved.',\n",
       " 'Analysis of steady ideal and viscous fluid flow  systems using the Continuity, Bernoulli and  Momentum equations. Boundary layer theory is  treated in terms of viscous and pressure drag,  lift and its importance in heat and mass  transfer. Dimensional analysis and dynamic  similitude are studied to provide an  understanding of flow systems analysis and  modeling. Introduction to pipe flow and open  channel flow.',\n",
       " 'The course will cover kinematic and dynamic  analysis including graphical and analytical  methods for kinematic analysis of space,  mechanisms and elementary body motion in space,  static and dynamic force analyses of mechanisms,  gyroscopic forces, dynamics of reciprocating and  rotating machinery, cam and gear mechanisms and  specifications.',\n",
       " 'This course explores the fundamentals of electric  circuit analysis. Course topics include: lumped  circuit abstraction; circuit elements and their  characteristics; nodal and mesh analysis;  linearity and superposition principles;  fundamental circuit theorems; Thevenin and Norton  equivalent circuits; introduction to the ideal  operational amplifier and operational-amplifier  circuits; dynamics of first and second order  circuits including switched circuits; coupled  inductors and transformers; alternate-current  circuits and sinusoidal steady-state analysis  with phasor methods.',\n",
       " 'This course provides a theoretical and practical  introduction to numerical methods for  approximating the solution(s) of linear and  nonlinear problems in the applied sciences. The  topics covered include: solution of a single  nonlinear equation; polynomial interpolation;  numerical differentiation and integration;  solution of initial value and boundary value  problems; and the solution of systems of linear  and nonlinear algebraic equations.',\n",
       " \"The topics covered in this course include: Sample  spaces; probability, conditional probability and  independence; Bayes' theorem; probability  distributions; probability densities; algebra of  expected values; descriptive statistics;  inferences concerning means, variances, and  proportions; curve fitting, the method of least  squares and correlation. An introduction to  quality control and reliability is provided. This  course is recommended for students in the  B.Sc.(Eng.) program.\",\n",
       " 'This course covers the principles of project  evaluation; analysis of capital and operating  costs of engineering alternatives, benefit-cost  ratio; break-even studies, evaluations  recognizing risk, replacement and retirement of  assets; tax considerations, influence of sources  of funds.',\n",
       " 'This course covers macroscopic thermodynamics and  its applications to engineering practice. Topics  include properties of pure substances and  equilibrium, the First Law of thermodynamics  (energy transfer and energy balance in closed and  flow systems), the Second Law of thermodynamics  and its applications (entropy analysis of closed  and flow systems, quantification of  irreversibilities and inefficiencies, quality of  energy, etc.), thermodynamic cycles and exergy.',\n",
       " 'This course provides the concepts, procedures,  and analysis techniques necessary to design  various mechanical elements commonly found in  machines. Failure analysis such as yield criteria  and fatigue are covered. Component design  includes screws, fasteners, shafts, bearings and  lubrication, and gears. The emphasis is on the  use of readily available materials, standard  component, and appropriate design approaches to  achieve safe and efficient system design.',\n",
       " 'The aim of this course is to develop an  understanding of the electrical and  electromechanical principles and their  applications as devices used in engineering. The  course covers magnetic fields of currents and  coils; magnetic materials; magnetic circuits;  induced, electric and magnetic fields (EMF),  inductance, transformers magnetic forces,  permanent magnets and electromagnets. The course  examines the principles of variable-reluctance  devices, stepper motors, moving-coil devices,  direct current (DC) and alternating current (AC)  motors. Semiconductors materials and devices,  diodes, and transistors; principles of modern  electronic devices and their applications in  circuits; as well as operational amplifiers and  digital logics are also studied.',\n",
       " 'This course is an introduction to the culturally  specific ways in which science and technology  have developed historically from the ancient  period through the twenty-first century. Emphasis  will be placed on the patterns in which  scientific knowledge and practices have traveled  and been constructed across cultures and the  interconnected but distinct histories of science  and technology.',\n",
       " \"This course combines the knowledge gained in the  advanced engineering and basic science courses  with the design skills taught in ENGG*1100 and  ENGG*2100 in solving open-ended problems. These  problems are related to the student's major.  Additional design tools are presented, including  model simulation, sensitivity analysis, linear  programming, knowledge-based systems and computer  programming. Complementing these tools are  discussions on writing and public speaking  techniques, codes, safety issues, environmental  assessment and professional management. These  topics are taught with the consideration of  available resources and cost.\",\n",
       " 'This course builds on the fundamentals of fluid  dynamics and thermodynamics introduced in  previous courses by looking at relevant  applications. Topics to be covered include:  heating, ventilation and air conditioning (HVAC);  heat engine systems such as the Carnot cycle for  refrigeration and heat pumps and the Rankine  cycle for vapour power systems; compressible  flow, turbomachinery such as pumps, turbines, and  propellers; and an introduction to combustion.',\n",
       " 'This course introduces the theory and techniques  required to analyze and design of closed loop,  automatic controllers for engineering systems,  with applications in electrical, mechanical, and  biomedical systems. Topics include modeling in  time and frequency domains (including linear time  invariance, causality, and linearization);  sketching and interpreting Bode plots; stability  of closed loop systems (including analysis via  Routh Hurwitz and Nyquist); performance metrics  including gain and phase margin, sensitivity, and  error tracking; and control using ON/OFF, PID,  root locus, and frequency domain (lead/lag)  techniques. Computer tools to aid in control  design and analysis are a crucial component of  the course. Optional advanced topics include but  are not limited to state-space control,  performance limitations, and control of  non-linear systems.',\n",
       " 'Analysis of steady and transient thermal systems  involving heat transfer by conduction, convection  and radiation and of mass transfer by molecular  diffusion and convection. Other topics include  the thermal analysis of heat exchangers and heat  transfer systems involving a change of state.',\n",
       " 'This course will provide students with an  introduction to the fundamental concepts of  vibration engineering using both single and  multiple degrees of freedom concepts. The free  and forced response of these systems will be  covered. Emphasis will be placed on the design of  vibration suppression and isolation of mechanical  systems. Concepts of natural frequencies and mode  shapes and their significance in the solution of  multiple degrees of freedom problems will be  covered. Vibration of rotating machinery,  balancing, condition monitoring, and predictive  vs. preventative maintenance philosophies will be  introduced.',\n",
       " \"In this course students will prepare a proposal  for the design project that will be completed in  the Engineering Design IV course in their program  of study. Teams normally of 3 to 4 students  (single student groups not allowed) will prepare  the proposal, providing details on the proposed  project, identify the group's members and identify    the faculty adviser, who has a P.Eng.. Students  are responsible for creating their own design  group and securing a faculty advisor.\",\n",
       " 'This is the capstone design course for the  Mechanical Engineering program. Teams normally of  3-4 students apply engineering analysis and  design principles to a mechanical engineering  problem. A completely specified solution at the  level of preliminary or final design is required,  including assessment of socio-economic and  environmental impact. This is a small group  design that requires reports and a poster  presentation to a professional standard. Ethics  and legal case studies relevant to professional  engineering practice are presented during the  lectures. Only students currently registered in  ENGG*4000 will be permitted to select this  course.']"
      ]
     },
     "execution_count": 25,
     "metadata": {},
     "output_type": "execute_result"
    }
   ],
   "source": [
    "course_descs"
   ]
  },
  {
   "cell_type": "code",
   "execution_count": 26,
   "metadata": {},
   "outputs": [
    {
     "data": {
      "text/html": [
       "<div>\n",
       "<style scoped>\n",
       "    .dataframe tbody tr th:only-of-type {\n",
       "        vertical-align: middle;\n",
       "    }\n",
       "\n",
       "    .dataframe tbody tr th {\n",
       "        vertical-align: top;\n",
       "    }\n",
       "\n",
       "    .dataframe thead th {\n",
       "        text-align: right;\n",
       "    }\n",
       "</style>\n",
       "<table border=\"1\" class=\"dataframe\">\n",
       "  <thead>\n",
       "    <tr style=\"text-align: right;\">\n",
       "      <th></th>\n",
       "      <th>Course Number</th>\n",
       "      <th>Course Name</th>\n",
       "      <th>Course Description</th>\n",
       "    </tr>\n",
       "  </thead>\n",
       "  <tbody>\n",
       "    <tr>\n",
       "      <th>0</th>\n",
       "      <td>CHEM*1040</td>\n",
       "      <td>General Chemistry I</td>\n",
       "      <td>This course introduces concepts of chemistry, ...</td>\n",
       "    </tr>\n",
       "    <tr>\n",
       "      <th>1</th>\n",
       "      <td>CIS*1500</td>\n",
       "      <td>Introduction to Programming</td>\n",
       "      <td>This course introduces problem-solving,  progr...</td>\n",
       "    </tr>\n",
       "    <tr>\n",
       "      <th>2</th>\n",
       "      <td>ENGG*1100</td>\n",
       "      <td>Engineering and Design I</td>\n",
       "      <td>This course provides an introduction to  engin...</td>\n",
       "    </tr>\n",
       "    <tr>\n",
       "      <th>3</th>\n",
       "      <td>MATH*1200</td>\n",
       "      <td>Calculus I</td>\n",
       "      <td>This is a theoretical course intended primaril...</td>\n",
       "    </tr>\n",
       "    <tr>\n",
       "      <th>4</th>\n",
       "      <td>PHYS*1130</td>\n",
       "      <td>Physics with Applications</td>\n",
       "      <td>This is an introductory physics course for  en...</td>\n",
       "    </tr>\n",
       "    <tr>\n",
       "      <th>5</th>\n",
       "      <td>ENGG*1210</td>\n",
       "      <td>Engineering Mechanics I</td>\n",
       "      <td>This course presents the fundamental principle...</td>\n",
       "    </tr>\n",
       "    <tr>\n",
       "      <th>6</th>\n",
       "      <td>ENGG*1500</td>\n",
       "      <td>Engineering Analysis</td>\n",
       "      <td>This course deals with engineering application...</td>\n",
       "    </tr>\n",
       "    <tr>\n",
       "      <th>7</th>\n",
       "      <td>MATH*1210</td>\n",
       "      <td>Calculus II</td>\n",
       "      <td>This course is a continuation of MATH*1200. It...</td>\n",
       "    </tr>\n",
       "    <tr>\n",
       "      <th>8</th>\n",
       "      <td>PHYS*1010</td>\n",
       "      <td>Introductory Electricity and Magnetism</td>\n",
       "      <td>This is a course for engineering and physical ...</td>\n",
       "    </tr>\n",
       "    <tr>\n",
       "      <th>9</th>\n",
       "      <td>ENGG*1070</td>\n",
       "      <td>Occupational Health and Safety</td>\n",
       "      <td>This course presents the legal implications of...</td>\n",
       "    </tr>\n",
       "    <tr>\n",
       "      <th>10</th>\n",
       "      <td>ENGG*2100</td>\n",
       "      <td>Engineering and Design II</td>\n",
       "      <td>This course is a progression in engineering  d...</td>\n",
       "    </tr>\n",
       "    <tr>\n",
       "      <th>11</th>\n",
       "      <td>ENGG*2120</td>\n",
       "      <td>Material Science</td>\n",
       "      <td>Study of the mechanical, electrical, magnetic,...</td>\n",
       "    </tr>\n",
       "    <tr>\n",
       "      <th>12</th>\n",
       "      <td>ENGG*2160</td>\n",
       "      <td>Engineering Mechanics II</td>\n",
       "      <td>Fundamental principles of the mechanics of  de...</td>\n",
       "    </tr>\n",
       "    <tr>\n",
       "      <th>13</th>\n",
       "      <td>ENGG*2400</td>\n",
       "      <td>Engineering Systems Analysis</td>\n",
       "      <td>This course provides the foundational skills  ...</td>\n",
       "    </tr>\n",
       "    <tr>\n",
       "      <th>14</th>\n",
       "      <td>MATH*2270</td>\n",
       "      <td>Applied Differential Equations</td>\n",
       "      <td>This course covers the solution of differentia...</td>\n",
       "    </tr>\n",
       "    <tr>\n",
       "      <th>15</th>\n",
       "      <td>ENGG*2180</td>\n",
       "      <td>Introduction to Manufacturing Processes</td>\n",
       "      <td>This course is designed to provide students wi...</td>\n",
       "    </tr>\n",
       "    <tr>\n",
       "      <th>16</th>\n",
       "      <td>ENGG*2230</td>\n",
       "      <td>Fluid Mechanics</td>\n",
       "      <td>Analysis of steady ideal and viscous fluid flo...</td>\n",
       "    </tr>\n",
       "    <tr>\n",
       "      <th>17</th>\n",
       "      <td>ENGG*2340</td>\n",
       "      <td>Kinematics and Dynamics</td>\n",
       "      <td>The course will cover kinematic and dynamic  a...</td>\n",
       "    </tr>\n",
       "    <tr>\n",
       "      <th>18</th>\n",
       "      <td>ENGG*2450</td>\n",
       "      <td>Electric Circuits</td>\n",
       "      <td>This course explores the fundamentals of elect...</td>\n",
       "    </tr>\n",
       "    <tr>\n",
       "      <th>19</th>\n",
       "      <td>MATH*2130</td>\n",
       "      <td>Numerical Methods</td>\n",
       "      <td>This course provides a theoretical and practic...</td>\n",
       "    </tr>\n",
       "    <tr>\n",
       "      <th>20</th>\n",
       "      <td>STAT*2120</td>\n",
       "      <td>Probability and Statistics for Engineers</td>\n",
       "      <td>The topics covered in this course include: Sam...</td>\n",
       "    </tr>\n",
       "    <tr>\n",
       "      <th>21</th>\n",
       "      <td>ENGG*3240</td>\n",
       "      <td>Engineering Economics</td>\n",
       "      <td>This course covers the principles of project  ...</td>\n",
       "    </tr>\n",
       "    <tr>\n",
       "      <th>22</th>\n",
       "      <td>ENGG*3260</td>\n",
       "      <td>Thermodynamics</td>\n",
       "      <td>This course covers macroscopic thermodynamics ...</td>\n",
       "    </tr>\n",
       "    <tr>\n",
       "      <th>23</th>\n",
       "      <td>ENGG*3280</td>\n",
       "      <td>Machine Design</td>\n",
       "      <td>This course provides the concepts, procedures,...</td>\n",
       "    </tr>\n",
       "    <tr>\n",
       "      <th>24</th>\n",
       "      <td>ENGG*3510</td>\n",
       "      <td>Electromechanical Devices</td>\n",
       "      <td>The aim of this course is to develop an  under...</td>\n",
       "    </tr>\n",
       "    <tr>\n",
       "      <th>25</th>\n",
       "      <td>HIST*1250</td>\n",
       "      <td>Science and Technology in a Global  Context</td>\n",
       "      <td>This course is an introduction to the cultural...</td>\n",
       "    </tr>\n",
       "    <tr>\n",
       "      <th>26</th>\n",
       "      <td>ENGG*3100</td>\n",
       "      <td>Engineering and Design III</td>\n",
       "      <td>This course combines the knowledge gained in t...</td>\n",
       "    </tr>\n",
       "    <tr>\n",
       "      <th>27</th>\n",
       "      <td>ENGG*3370</td>\n",
       "      <td>Applied Fluids and Thermodynamics</td>\n",
       "      <td>This course builds on the fundamentals of flui...</td>\n",
       "    </tr>\n",
       "    <tr>\n",
       "      <th>28</th>\n",
       "      <td>ENGG*3410</td>\n",
       "      <td>Systems and Control Theory</td>\n",
       "      <td>This course introduces the theory and techniqu...</td>\n",
       "    </tr>\n",
       "    <tr>\n",
       "      <th>29</th>\n",
       "      <td>ENGG*3430</td>\n",
       "      <td>Heat and Mass Transfer</td>\n",
       "      <td>Analysis of steady and transient thermal syste...</td>\n",
       "    </tr>\n",
       "    <tr>\n",
       "      <th>30</th>\n",
       "      <td>ENGG*3140</td>\n",
       "      <td>Mechanical Vibration</td>\n",
       "      <td>This course will provide students with an  int...</td>\n",
       "    </tr>\n",
       "    <tr>\n",
       "      <th>31</th>\n",
       "      <td>ENGG*4000</td>\n",
       "      <td>Proposal for Engineering Design IV</td>\n",
       "      <td>In this course students will prepare a proposa...</td>\n",
       "    </tr>\n",
       "    <tr>\n",
       "      <th>32</th>\n",
       "      <td>ENGG*4160</td>\n",
       "      <td>Mechanical Engineering Design IV</td>\n",
       "      <td>This is the capstone design course for the  Me...</td>\n",
       "    </tr>\n",
       "  </tbody>\n",
       "</table>\n",
       "</div>"
      ],
      "text/plain": [
       "   Course Number                                  Course Name  \\\n",
       "0      CHEM*1040                          General Chemistry I   \n",
       "1       CIS*1500                  Introduction to Programming   \n",
       "2      ENGG*1100                     Engineering and Design I   \n",
       "3      MATH*1200                                   Calculus I   \n",
       "4      PHYS*1130                    Physics with Applications   \n",
       "5      ENGG*1210                      Engineering Mechanics I   \n",
       "6      ENGG*1500                         Engineering Analysis   \n",
       "7      MATH*1210                                  Calculus II   \n",
       "8      PHYS*1010       Introductory Electricity and Magnetism   \n",
       "9      ENGG*1070               Occupational Health and Safety   \n",
       "10     ENGG*2100                    Engineering and Design II   \n",
       "11     ENGG*2120                             Material Science   \n",
       "12     ENGG*2160                     Engineering Mechanics II   \n",
       "13     ENGG*2400                 Engineering Systems Analysis   \n",
       "14     MATH*2270               Applied Differential Equations   \n",
       "15     ENGG*2180      Introduction to Manufacturing Processes   \n",
       "16     ENGG*2230                              Fluid Mechanics   \n",
       "17     ENGG*2340                      Kinematics and Dynamics   \n",
       "18     ENGG*2450                            Electric Circuits   \n",
       "19     MATH*2130                            Numerical Methods   \n",
       "20     STAT*2120     Probability and Statistics for Engineers   \n",
       "21     ENGG*3240                        Engineering Economics   \n",
       "22     ENGG*3260                               Thermodynamics   \n",
       "23     ENGG*3280                               Machine Design   \n",
       "24     ENGG*3510                    Electromechanical Devices   \n",
       "25     HIST*1250  Science and Technology in a Global  Context   \n",
       "26     ENGG*3100                   Engineering and Design III   \n",
       "27     ENGG*3370            Applied Fluids and Thermodynamics   \n",
       "28     ENGG*3410                   Systems and Control Theory   \n",
       "29     ENGG*3430                       Heat and Mass Transfer   \n",
       "30     ENGG*3140                         Mechanical Vibration   \n",
       "31     ENGG*4000           Proposal for Engineering Design IV   \n",
       "32     ENGG*4160             Mechanical Engineering Design IV   \n",
       "\n",
       "                                   Course Description  \n",
       "0   This course introduces concepts of chemistry, ...  \n",
       "1   This course introduces problem-solving,  progr...  \n",
       "2   This course provides an introduction to  engin...  \n",
       "3   This is a theoretical course intended primaril...  \n",
       "4   This is an introductory physics course for  en...  \n",
       "5   This course presents the fundamental principle...  \n",
       "6   This course deals with engineering application...  \n",
       "7   This course is a continuation of MATH*1200. It...  \n",
       "8   This is a course for engineering and physical ...  \n",
       "9   This course presents the legal implications of...  \n",
       "10  This course is a progression in engineering  d...  \n",
       "11  Study of the mechanical, electrical, magnetic,...  \n",
       "12  Fundamental principles of the mechanics of  de...  \n",
       "13  This course provides the foundational skills  ...  \n",
       "14  This course covers the solution of differentia...  \n",
       "15  This course is designed to provide students wi...  \n",
       "16  Analysis of steady ideal and viscous fluid flo...  \n",
       "17  The course will cover kinematic and dynamic  a...  \n",
       "18  This course explores the fundamentals of elect...  \n",
       "19  This course provides a theoretical and practic...  \n",
       "20  The topics covered in this course include: Sam...  \n",
       "21  This course covers the principles of project  ...  \n",
       "22  This course covers macroscopic thermodynamics ...  \n",
       "23  This course provides the concepts, procedures,...  \n",
       "24  The aim of this course is to develop an  under...  \n",
       "25  This course is an introduction to the cultural...  \n",
       "26  This course combines the knowledge gained in t...  \n",
       "27  This course builds on the fundamentals of flui...  \n",
       "28  This course introduces the theory and techniqu...  \n",
       "29  Analysis of steady and transient thermal syste...  \n",
       "30  This course will provide students with an  int...  \n",
       "31  In this course students will prepare a proposa...  \n",
       "32  This is the capstone design course for the  Me...  "
      ]
     },
     "execution_count": 26,
     "metadata": {},
     "output_type": "execute_result"
    }
   ],
   "source": [
    "import pandas as pd\n",
    "\n",
    "df = pd.DataFrame({\n",
    "    \"Course Number\": course_codes,\n",
    "    \"Course Name\": course_names,\n",
    "    \"Course Description\": course_descs    \n",
    "})\n",
    "\n",
    "df"
   ]
  },
  {
   "cell_type": "code",
   "execution_count": 27,
   "metadata": {},
   "outputs": [],
   "source": [
    "df.to_csv('UGuelph_MechEng_Core_(AllYears)_Courses.csv', index = False)"
   ]
  },
  {
   "cell_type": "code",
   "execution_count": 28,
   "metadata": {},
   "outputs": [],
   "source": [
    "driver.quit()"
   ]
  }
 ],
 "metadata": {
  "kernelspec": {
   "display_name": "Python 3",
   "language": "python",
   "name": "python3"
  },
  "language_info": {
   "codemirror_mode": {
    "name": "ipython",
    "version": 3
   },
   "file_extension": ".py",
   "mimetype": "text/x-python",
   "name": "python",
   "nbconvert_exporter": "python",
   "pygments_lexer": "ipython3",
   "version": "3.8.5"
  }
 },
 "nbformat": 4,
 "nbformat_minor": 4
}
