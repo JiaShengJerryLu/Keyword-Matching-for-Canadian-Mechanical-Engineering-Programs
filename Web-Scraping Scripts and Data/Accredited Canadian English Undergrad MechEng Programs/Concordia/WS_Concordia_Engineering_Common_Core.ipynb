{
 "cells": [
  {
   "cell_type": "code",
   "execution_count": 1,
   "metadata": {},
   "outputs": [],
   "source": [
    "from bs4 import BeautifulSoup as soup\n",
    "from urllib.request import urlopen as uReq"
   ]
  },
  {
   "cell_type": "code",
   "execution_count": 2,
   "metadata": {},
   "outputs": [],
   "source": [
    "course_list_url = \"https://www.concordia.ca/academics/undergraduate/calendar/current/sec71/71-10.html#71.20.5\""
   ]
  },
  {
   "cell_type": "code",
   "execution_count": 3,
   "metadata": {},
   "outputs": [],
   "source": [
    "course_data_url = \"https://www.concordia.ca/academics/undergraduate/calendar/current/sec71/71-60.html\""
   ]
  },
  {
   "cell_type": "code",
   "execution_count": 4,
   "metadata": {},
   "outputs": [],
   "source": [
    "uClient = uReq(course_list_url)\n",
    "page_html = uClient.read()\n",
    "uClient.close()\n",
    "page_soup = soup(page_html, \"html.parser\")"
   ]
  },
  {
   "cell_type": "markdown",
   "metadata": {},
   "source": [
    "# 1. Obtain course codes and names"
   ]
  },
  {
   "cell_type": "code",
   "execution_count": 5,
   "metadata": {
    "scrolled": true
   },
   "outputs": [
    {
     "data": {
      "text/plain": [
       "[<tr><td colspan=\"2\" valign=\"top\">\n",
       " <b>Engineering Core</b></td>\n",
       " <td valign=\"top\" width=\"10%\"><i>Credits</i></td>\n",
       " </tr>,\n",
       " <tr>\n",
       " <td width=\"20%\">ELEC 275\n",
       " </td>\n",
       " <td>Principles of Electrical Engineering\n",
       " </td>\n",
       " <td width=\"12%\">3.50 (2)\n",
       " </td>\n",
       " </tr>,\n",
       " <tr>\n",
       " <td width=\"20%\">ENCS 282\n",
       " </td>\n",
       " <td>Technical Writing and Communication\n",
       " </td>\n",
       " <td width=\"12%\">3.00\n",
       " </td>\n",
       " </tr>,\n",
       " <tr>\n",
       " <td width=\"20%\">ENGR 201\n",
       " </td>\n",
       " <td>Professional Practice and Responsibility\n",
       " </td>\n",
       " <td width=\"12%\">1.50\n",
       " </td>\n",
       " </tr>,\n",
       " <tr>\n",
       " <td width=\"20%\">ENGR 202\n",
       " </td>\n",
       " <td>Sustainable Development and Environmental Stewardship\n",
       " </td>\n",
       " <td width=\"12%\">1.50 (1) \n",
       " </td>\n",
       " </tr>,\n",
       " <tr>\n",
       " <td width=\"20%\">ENGR 213\n",
       " </td>\n",
       " <td>Applied Ordinary Differential Equations\n",
       " </td>\n",
       " <td width=\"12%\">3.00\n",
       " </td>\n",
       " </tr>,\n",
       " <tr>\n",
       " <td width=\"20%\">ENGR 233\n",
       " </td>\n",
       " <td>Applied Advanced Calculus\n",
       " </td>\n",
       " <td width=\"12%\">3.00\n",
       " </td>\n",
       " </tr>,\n",
       " <tr>\n",
       " <td width=\"20%\">ENGR 301\n",
       " </td>\n",
       " <td>Engineering Management Principles and Economics\n",
       " </td>\n",
       " <td width=\"12%\">3.00\n",
       " </td>\n",
       " </tr>,\n",
       " <tr>\n",
       " <td width=\"20%\">ENGR 371\n",
       " </td>\n",
       " <td>Probability and Statistics in Engineering\n",
       " </td>\n",
       " <td width=\"12%\">3.00\n",
       " </td>\n",
       " </tr>,\n",
       " <tr>\n",
       " <td width=\"20%\">ENGR 391\n",
       " </td>\n",
       " <td>Numerical Methods in Engineering\n",
       " </td>\n",
       " <td width=\"12%\">3.00 (3)\n",
       " </td>\n",
       " </tr>,\n",
       " <tr>\n",
       " <td width=\"20%\">ENGR 392\n",
       " </td>\n",
       " <td>Impact of Technology on Society</td>\n",
       " <td width=\"12%\">3.00 (4)\n",
       " </td>\n",
       " </tr>,\n",
       " <tr>\n",
       " <td valign=\"top\" width=\"20%\"></td>\n",
       " <td valign=\"top\">General Education elective</td>\n",
       " <td width=\"12%\">3.00 (5)</td>\n",
       " </tr>,\n",
       " <tr><td valign=\"top\" width=\"20%\"> \n",
       " </td>\n",
       " <td valign=\"top\"> \n",
       " </td>\n",
       " <td valign=\"top\" width=\"10%\">_____\n",
       " </td>\n",
       " </tr>,\n",
       " <tr><td valign=\"top\" width=\"20%\"> \n",
       " </td>\n",
       " <td valign=\"top\"> \n",
       " </td>\n",
       " <td valign=\"top\" width=\"10%\">30.50</td>\n",
       " </tr>]"
      ]
     },
     "execution_count": 5,
     "metadata": {},
     "output_type": "execute_result"
    }
   ],
   "source": [
    "table = page_soup.find(\"table\", {\"border\": 0, \"cellspacing\": 0, \"width\": 600})\n",
    "containers = table.findAll(\"tr\")\n",
    "containers"
   ]
  },
  {
   "cell_type": "code",
   "execution_count": 6,
   "metadata": {
    "scrolled": true
   },
   "outputs": [
    {
     "data": {
      "text/plain": [
       "['Engineering Core',\n",
       " 'ELEC 275',\n",
       " 'ENCS 282',\n",
       " 'ENGR 201',\n",
       " 'ENGR 202',\n",
       " 'ENGR 213',\n",
       " 'ENGR 233',\n",
       " 'ENGR 301',\n",
       " 'ENGR 371',\n",
       " 'ENGR 391',\n",
       " 'ENGR 392']"
      ]
     },
     "execution_count": 6,
     "metadata": {},
     "output_type": "execute_result"
    }
   ],
   "source": [
    "course_codes = [container.findAll(\"td\")[0].text.strip() for container in containers if len(container.findAll(\"td\")[0].text.strip())>0]\n",
    "course_codes"
   ]
  },
  {
   "cell_type": "code",
   "execution_count": 7,
   "metadata": {},
   "outputs": [
    {
     "data": {
      "text/plain": [
       "['ELEC 275',\n",
       " 'ENCS 282',\n",
       " 'ENGR 201',\n",
       " 'ENGR 202',\n",
       " 'ENGR 213',\n",
       " 'ENGR 233',\n",
       " 'ENGR 301',\n",
       " 'ENGR 371',\n",
       " 'ENGR 391',\n",
       " 'ENGR 392']"
      ]
     },
     "execution_count": 7,
     "metadata": {},
     "output_type": "execute_result"
    }
   ],
   "source": [
    "course_codes = course_codes[1:]\n",
    "course_codes"
   ]
  },
  {
   "cell_type": "code",
   "execution_count": 8,
   "metadata": {},
   "outputs": [
    {
     "data": {
      "text/plain": [
       "['Principles of Electrical Engineering',\n",
       " 'Technical Writing and Communication',\n",
       " 'Professional Practice and Responsibility',\n",
       " 'Sustainable Development and Environmental Stewardship',\n",
       " 'Applied Ordinary Differential Equations',\n",
       " 'Applied Advanced Calculus',\n",
       " 'Engineering Management Principles and Economics',\n",
       " 'Probability and Statistics in Engineering',\n",
       " 'Numerical Methods in Engineering',\n",
       " 'Impact of Technology on Society']"
      ]
     },
     "execution_count": 8,
     "metadata": {},
     "output_type": "execute_result"
    }
   ],
   "source": [
    "course_names = [container.findAll(\"td\")[1].text.strip() for container in containers if len(container.findAll(\"td\")[0].text.strip())>0]\n",
    "course_names = course_names[1:]\n",
    "course_names"
   ]
  },
  {
   "cell_type": "markdown",
   "metadata": {},
   "source": [
    "# 2. Get HTML of Webpage where all course descriptions can be found"
   ]
  },
  {
   "cell_type": "code",
   "execution_count": 9,
   "metadata": {},
   "outputs": [],
   "source": [
    "uClient = uReq(course_data_url)\n",
    "page_html = uClient.read()\n",
    "uClient.close()\n",
    "page_soup = soup(page_html, \"html.parser\")"
   ]
  },
  {
   "cell_type": "markdown",
   "metadata": {},
   "source": [
    "# 3. Test run - understanding HTML structure and how to extract the desired courses from the HTML"
   ]
  },
  {
   "cell_type": "code",
   "execution_count": 10,
   "metadata": {
    "scrolled": true
   },
   "outputs": [
    {
     "data": {
      "text/plain": [
       "12"
      ]
     },
     "execution_count": 10,
     "metadata": {},
     "output_type": "execute_result"
    }
   ],
   "source": [
    "containers = page_soup.findAll(\"div\", {\"class\": \"accordion-panel section\"})\n",
    "len(containers)"
   ]
  },
  {
   "cell_type": "code",
   "execution_count": 11,
   "metadata": {
    "scrolled": true
   },
   "outputs": [
    {
     "data": {
      "text/plain": [
       "<b>ENCS 272     <i>Composition and Argumentation for Engineers</i></b>"
      ]
     },
     "execution_count": 11,
     "metadata": {},
     "output_type": "execute_result"
    }
   ],
   "source": [
    "course_title = containers[0].find(\"p\").find(\"b\")\n",
    "course_title"
   ]
  },
  {
   "cell_type": "code",
   "execution_count": 12,
   "metadata": {},
   "outputs": [
    {
     "data": {
      "text/plain": [
       "['__bool__',\n",
       " '__call__',\n",
       " '__class__',\n",
       " '__contains__',\n",
       " '__copy__',\n",
       " '__delattr__',\n",
       " '__delitem__',\n",
       " '__dict__',\n",
       " '__dir__',\n",
       " '__doc__',\n",
       " '__eq__',\n",
       " '__format__',\n",
       " '__ge__',\n",
       " '__getattr__',\n",
       " '__getattribute__',\n",
       " '__getitem__',\n",
       " '__gt__',\n",
       " '__hash__',\n",
       " '__init__',\n",
       " '__init_subclass__',\n",
       " '__iter__',\n",
       " '__le__',\n",
       " '__len__',\n",
       " '__lt__',\n",
       " '__module__',\n",
       " '__ne__',\n",
       " '__new__',\n",
       " '__reduce__',\n",
       " '__reduce_ex__',\n",
       " '__repr__',\n",
       " '__setattr__',\n",
       " '__setitem__',\n",
       " '__sizeof__',\n",
       " '__str__',\n",
       " '__subclasshook__',\n",
       " '__unicode__',\n",
       " '__weakref__',\n",
       " '_all_strings',\n",
       " '_find_all',\n",
       " '_find_one',\n",
       " '_is_xml',\n",
       " '_lastRecursiveChild',\n",
       " '_last_descendant',\n",
       " '_should_pretty_print',\n",
       " 'append',\n",
       " 'attrs',\n",
       " 'can_be_empty_element',\n",
       " 'cdata_list_attributes',\n",
       " 'childGenerator',\n",
       " 'children',\n",
       " 'clear',\n",
       " 'contents',\n",
       " 'decode',\n",
       " 'decode_contents',\n",
       " 'decompose',\n",
       " 'decomposed',\n",
       " 'descendants',\n",
       " 'encode',\n",
       " 'encode_contents',\n",
       " 'extend',\n",
       " 'extract',\n",
       " 'fetchNextSiblings',\n",
       " 'fetchParents',\n",
       " 'fetchPrevious',\n",
       " 'fetchPreviousSiblings',\n",
       " 'find',\n",
       " 'findAll',\n",
       " 'findAllNext',\n",
       " 'findAllPrevious',\n",
       " 'findChild',\n",
       " 'findChildren',\n",
       " 'findNext',\n",
       " 'findNextSibling',\n",
       " 'findNextSiblings',\n",
       " 'findParent',\n",
       " 'findParents',\n",
       " 'findPrevious',\n",
       " 'findPreviousSibling',\n",
       " 'findPreviousSiblings',\n",
       " 'find_all',\n",
       " 'find_all_next',\n",
       " 'find_all_previous',\n",
       " 'find_next',\n",
       " 'find_next_sibling',\n",
       " 'find_next_siblings',\n",
       " 'find_parent',\n",
       " 'find_parents',\n",
       " 'find_previous',\n",
       " 'find_previous_sibling',\n",
       " 'find_previous_siblings',\n",
       " 'format_string',\n",
       " 'formatter_for_name',\n",
       " 'get',\n",
       " 'getText',\n",
       " 'get_attribute_list',\n",
       " 'get_text',\n",
       " 'has_attr',\n",
       " 'has_key',\n",
       " 'hidden',\n",
       " 'index',\n",
       " 'insert',\n",
       " 'insert_after',\n",
       " 'insert_before',\n",
       " 'isSelfClosing',\n",
       " 'is_empty_element',\n",
       " 'known_xml',\n",
       " 'name',\n",
       " 'namespace',\n",
       " 'next',\n",
       " 'nextGenerator',\n",
       " 'nextSibling',\n",
       " 'nextSiblingGenerator',\n",
       " 'next_element',\n",
       " 'next_elements',\n",
       " 'next_sibling',\n",
       " 'next_siblings',\n",
       " 'parent',\n",
       " 'parentGenerator',\n",
       " 'parents',\n",
       " 'parserClass',\n",
       " 'parser_class',\n",
       " 'prefix',\n",
       " 'preserve_whitespace_tags',\n",
       " 'prettify',\n",
       " 'previous',\n",
       " 'previousGenerator',\n",
       " 'previousSibling',\n",
       " 'previousSiblingGenerator',\n",
       " 'previous_element',\n",
       " 'previous_elements',\n",
       " 'previous_sibling',\n",
       " 'previous_siblings',\n",
       " 'recursiveChildGenerator',\n",
       " 'renderContents',\n",
       " 'replaceWith',\n",
       " 'replaceWithChildren',\n",
       " 'replace_with',\n",
       " 'replace_with_children',\n",
       " 'select',\n",
       " 'select_one',\n",
       " 'setup',\n",
       " 'smooth',\n",
       " 'sourceline',\n",
       " 'sourcepos',\n",
       " 'string',\n",
       " 'strings',\n",
       " 'stripped_strings',\n",
       " 'text',\n",
       " 'unwrap',\n",
       " 'wrap']"
      ]
     },
     "execution_count": 12,
     "metadata": {},
     "output_type": "execute_result"
    }
   ],
   "source": [
    "dir(course_title)"
   ]
  },
  {
   "cell_type": "code",
   "execution_count": 13,
   "metadata": {},
   "outputs": [
    {
     "data": {
      "text/plain": [
       "'Prerequisite: Completion of all ESL courses required on admission. Fundamentals of English composition and argumentation: grammar; reasoning and persuasion; persuasive proofs; argumentation; structuring and outlining; the problem statement; the body; and the conclusions. Language and persuasion for effective communication in professional engineering. Cultivation of a writing style firmly based on clear and critical thinking skills. Lectures: three hours per week. Tutorial: one hour per week.'"
      ]
     },
     "execution_count": 13,
     "metadata": {},
     "output_type": "execute_result"
    }
   ],
   "source": [
    "course_title.next_element.next_element.next_element.next_element.next_element.next_element.strip()"
   ]
  },
  {
   "cell_type": "code",
   "execution_count": 14,
   "metadata": {},
   "outputs": [
    {
     "data": {
      "text/plain": [
       "'Prerequisite: Completion of all ESL courses required on admission. Fundamentals of English composition and argumentation: grammar; reasoning and persuasion; persuasive proofs; argumentation; structuring and outlining; the problem statement; the body; and the conclusions. Language and persuasion for effective communication in professional engineering. Cultivation of a writing style firmly based on clear and critical thinking skills. Lectures: three hours per week. Tutorial: one hour per week.'"
      ]
     },
     "execution_count": 14,
     "metadata": {},
     "output_type": "execute_result"
    }
   ],
   "source": [
    "course_title.nextSibling.nextSibling.nextSibling.strip()"
   ]
  },
  {
   "cell_type": "code",
   "execution_count": 15,
   "metadata": {},
   "outputs": [
    {
     "data": {
      "text/plain": [
       "'encs'"
      ]
     },
     "execution_count": 15,
     "metadata": {},
     "output_type": "execute_result"
    }
   ],
   "source": [
    "containers[0].div.div.a[\"name\"]"
   ]
  },
  {
   "cell_type": "markdown",
   "metadata": {},
   "source": [
    "# 4. Script to find and scrape all the course descriptions matching the target courses"
   ]
  },
  {
   "cell_type": "code",
   "execution_count": 16,
   "metadata": {},
   "outputs": [
    {
     "data": {
      "text/plain": [
       "10"
      ]
     },
     "execution_count": 16,
     "metadata": {},
     "output_type": "execute_result"
    }
   ],
   "source": [
    "course_descs = []\n",
    "counter = 0\n",
    "\n",
    "for course_name in course_names:\n",
    "    for container in containers:\n",
    "        if container.div.div.a[\"name\"].strip() == course_codes[course_names.index(course_name)].split()[0].lower().strip():\n",
    "            course_title_containers = container.find(\"p\").findAll(\"b\")\n",
    "            for course_title_container in course_title_containers:\n",
    "                if course_title_container.i.text.strip() == course_name:\n",
    "                    course_descs.append(course_title_container.nextSibling.nextSibling.nextSibling.strip())\n",
    "                    counter += 1\n",
    "                    break\n",
    "            break\n",
    "            \n",
    "counter"
   ]
  },
  {
   "cell_type": "markdown",
   "metadata": {},
   "source": [
    "# 5. Inspect, clean, and write to CSV"
   ]
  },
  {
   "cell_type": "code",
   "execution_count": 17,
   "metadata": {
    "scrolled": false
   },
   "outputs": [
    {
     "data": {
      "text/plain": [
       "['Prerequisite: ENGR 213 previously or concurrently; PHYS 205. Fundamentals of electric circuits: Kirchoff’s laws, voltage and current sources, Ohm’s law, series and parallel circuits. Nodal and mesh analysis of DC circuits. Superposition theorem, Thevenin and Norton Equivalents. Use of operational amplifiers. Transient analysis of simple RC, RL and RLC circuits. Steady state analysis: Phasors and impedances, power and power factor. Single and three phase circuits. Magnetic circuits and transformers. Power generation and distribution. Lectures: three hours per week. Tutorial: two hours per week. Laboratory: 15 hours total.',\n",
       " 'Prerequisite: Students must have satisfied the requirements in §71.20.7 by passing the Engineering Writing Test (EWT), or by passing ENCS 272 with a grade of C- or higher. Technical writing form and style. Technical and scientific papers, abstracts, reports. Library research and referencing methods for engineers and computer scientists. Technical communication using information technology: document processing software, computer-assisted presentation, analysis and design of web presentation, choice and use of appropriate tools. Students will prepare an individual major report and make an oral presentation. Lectures: three hours per week. Tutorial: two hours per week.',\n",
       " 'Health and safety issues for engineering projects: Quebec and Canadian legislation; safe work practices; general laboratory safety common to all engineering disciplines, and specific laboratory safety pertaining to particular engineering disciplines. Review of the legal framework in Quebec, particularly the Professional Code and the Engineers Act, as well as professional ethics. Lectures: one and a half hours per week. Tutorial: one hour per week, alternate weeks.',\n",
       " 'Introduction to the concept of sustainable development and the approaches for achieving it. Relationships with economic, social, and technological development. Methods for evaluating sustainability of engineering projects, including utilization of relevant databases and software. Impact of engi\\xadneering design and industrial development on the environment. Case studies. Lectures: one and a half hours per week.',\n",
       " 'Prerequisite: MATH 204 (Cegep Mathematics 105) previously or concurrently; MATH 205 (Cegep Mathematics 203). This course introduces Engineering students to the theory and application of ordinary differential equations. Definition and terminology, initial-value problems, separable differential equations, linear equations, exact equations, solutions by substitution, linear models, orthogonal trajectories, complex numbers, form of complex numbers: powers and roots, theory: linear equations, homogeneous linear equations with constant coefficients, undetermined coefficients, variation of parameters, Cauchy-Euler equation, reduction of order, linear models: initial value, review of power series, power series solutions, theory, homogeneous linear systems, solution by diagonalisation, non-homogeneous linear systems. Eigenvalues and eigenvectors. Lectures: three hours per week. Tutorial: two hours per week.',\n",
       " 'Prerequisite: MATH 204 (Cegep Mathematics 105); MATH 205 (Cegep Mathematics 203). This course introduces Engineering students to the theory and application of advanced calculus. Functions of several variables, partial derivatives, total and exact differentials, approximations with differentials. Tangent plane and normal line to a surface, directional derivatives, gradient. Double and triple integrals. Polar, cylindrical, and spherical coordinates. Change of variables in double and triple integrals. Vector differential calculus; divergence, curl, curvature, line integrals, Green’s theorem, surface integrals, divergence theorem, applications of divergence theorem, Stokes’ theorem. Lectures: three hours per week. Tutorial: two hours per week.',\n",
       " 'Introduction to project delivery systems. Principles of project management; role and activity of a manager; enterprise organizational charts; cost estimating; planning and control. Company finances; interest and time value of money; discounted cash flow; evaluation of projects in private and public sectors; depreciation methods; business tax regulations; decision tree; sensitivity analysis. Lectures: three hours per week. Tutorial: one hour per week.',\n",
       " 'Prerequisite: ENGR 213, 233. Axioms of probability theory. Events. Conditional probability. Bayes theorem. Random variables. Mathematical expectation. Discrete and continuous probability density functions. Transformation of variables. Probabilistic models, statistics, and elements of hypothesis testing (sampling distributions and interval estimation). Introduction to statistical quality control. Applications to engineering problems. Lectures: three hours per week. Tutorial: one hour per week.',\n",
       " 'Prerequisite: ENGR 213, 233; COMP 248 or COEN 243 or MECH 215 or MIAE 215 or BCEE 231. This course focuses on roots of algebraic and transcendental equations; function approximation; numerical differentiation; numerical integration; solution of simultaneous algebraic equations; numerical integration of ordinary differential equations. Lectures: three hours per week. Tutorial: one hour per week.',\n",
       " 'Prerequisite: ENCS 282; ENGR 201, 202. Social history of technology and of science including the industrial revolution and modern times. Engineering and scientific creativity, social and environmental problems created by uncontrolled technology, appropriate technology. Lectures: three hours per week.']"
      ]
     },
     "execution_count": 17,
     "metadata": {},
     "output_type": "execute_result"
    }
   ],
   "source": [
    "course_descs"
   ]
  },
  {
   "cell_type": "code",
   "execution_count": 18,
   "metadata": {},
   "outputs": [],
   "source": [
    "course_descs = [desc.replace(\"\\xad\", \"\") for desc in course_descs]"
   ]
  },
  {
   "cell_type": "code",
   "execution_count": 19,
   "metadata": {},
   "outputs": [
    {
     "data": {
      "text/html": [
       "<div>\n",
       "<style scoped>\n",
       "    .dataframe tbody tr th:only-of-type {\n",
       "        vertical-align: middle;\n",
       "    }\n",
       "\n",
       "    .dataframe tbody tr th {\n",
       "        vertical-align: top;\n",
       "    }\n",
       "\n",
       "    .dataframe thead th {\n",
       "        text-align: right;\n",
       "    }\n",
       "</style>\n",
       "<table border=\"1\" class=\"dataframe\">\n",
       "  <thead>\n",
       "    <tr style=\"text-align: right;\">\n",
       "      <th></th>\n",
       "      <th>Course Number</th>\n",
       "      <th>Course Name</th>\n",
       "      <th>Course Description</th>\n",
       "    </tr>\n",
       "  </thead>\n",
       "  <tbody>\n",
       "    <tr>\n",
       "      <th>0</th>\n",
       "      <td>ELEC 275</td>\n",
       "      <td>Principles of Electrical Engineering</td>\n",
       "      <td>Prerequisite: ENGR 213 previously or concurren...</td>\n",
       "    </tr>\n",
       "    <tr>\n",
       "      <th>1</th>\n",
       "      <td>ENCS 282</td>\n",
       "      <td>Technical Writing and Communication</td>\n",
       "      <td>Prerequisite: Students must have satisfied the...</td>\n",
       "    </tr>\n",
       "    <tr>\n",
       "      <th>2</th>\n",
       "      <td>ENGR 201</td>\n",
       "      <td>Professional Practice and Responsibility</td>\n",
       "      <td>Health and safety issues for engineering proje...</td>\n",
       "    </tr>\n",
       "    <tr>\n",
       "      <th>3</th>\n",
       "      <td>ENGR 202</td>\n",
       "      <td>Sustainable Development and Environmental Stew...</td>\n",
       "      <td>Introduction to the concept of sustainable dev...</td>\n",
       "    </tr>\n",
       "    <tr>\n",
       "      <th>4</th>\n",
       "      <td>ENGR 213</td>\n",
       "      <td>Applied Ordinary Differential Equations</td>\n",
       "      <td>Prerequisite: MATH 204 (Cegep Mathematics 105)...</td>\n",
       "    </tr>\n",
       "    <tr>\n",
       "      <th>5</th>\n",
       "      <td>ENGR 233</td>\n",
       "      <td>Applied Advanced Calculus</td>\n",
       "      <td>Prerequisite: MATH 204 (Cegep Mathematics 105)...</td>\n",
       "    </tr>\n",
       "    <tr>\n",
       "      <th>6</th>\n",
       "      <td>ENGR 301</td>\n",
       "      <td>Engineering Management Principles and Economics</td>\n",
       "      <td>Introduction to project delivery systems. Prin...</td>\n",
       "    </tr>\n",
       "    <tr>\n",
       "      <th>7</th>\n",
       "      <td>ENGR 371</td>\n",
       "      <td>Probability and Statistics in Engineering</td>\n",
       "      <td>Prerequisite: ENGR 213, 233. Axioms of probabi...</td>\n",
       "    </tr>\n",
       "    <tr>\n",
       "      <th>8</th>\n",
       "      <td>ENGR 391</td>\n",
       "      <td>Numerical Methods in Engineering</td>\n",
       "      <td>Prerequisite: ENGR 213, 233; COMP 248 or COEN ...</td>\n",
       "    </tr>\n",
       "    <tr>\n",
       "      <th>9</th>\n",
       "      <td>ENGR 392</td>\n",
       "      <td>Impact of Technology on Society</td>\n",
       "      <td>Prerequisite: ENCS 282; ENGR 201, 202. Social ...</td>\n",
       "    </tr>\n",
       "  </tbody>\n",
       "</table>\n",
       "</div>"
      ],
      "text/plain": [
       "  Course Number                                        Course Name  \\\n",
       "0      ELEC 275               Principles of Electrical Engineering   \n",
       "1      ENCS 282                Technical Writing and Communication   \n",
       "2      ENGR 201           Professional Practice and Responsibility   \n",
       "3      ENGR 202  Sustainable Development and Environmental Stew...   \n",
       "4      ENGR 213            Applied Ordinary Differential Equations   \n",
       "5      ENGR 233                          Applied Advanced Calculus   \n",
       "6      ENGR 301    Engineering Management Principles and Economics   \n",
       "7      ENGR 371          Probability and Statistics in Engineering   \n",
       "8      ENGR 391                   Numerical Methods in Engineering   \n",
       "9      ENGR 392                    Impact of Technology on Society   \n",
       "\n",
       "                                  Course Description  \n",
       "0  Prerequisite: ENGR 213 previously or concurren...  \n",
       "1  Prerequisite: Students must have satisfied the...  \n",
       "2  Health and safety issues for engineering proje...  \n",
       "3  Introduction to the concept of sustainable dev...  \n",
       "4  Prerequisite: MATH 204 (Cegep Mathematics 105)...  \n",
       "5  Prerequisite: MATH 204 (Cegep Mathematics 105)...  \n",
       "6  Introduction to project delivery systems. Prin...  \n",
       "7  Prerequisite: ENGR 213, 233. Axioms of probabi...  \n",
       "8  Prerequisite: ENGR 213, 233; COMP 248 or COEN ...  \n",
       "9  Prerequisite: ENCS 282; ENGR 201, 202. Social ...  "
      ]
     },
     "execution_count": 19,
     "metadata": {},
     "output_type": "execute_result"
    }
   ],
   "source": [
    "import pandas as pd\n",
    "\n",
    "df = pd.DataFrame({\n",
    "    \n",
    "    \"Course Number\": course_codes,\n",
    "    \"Course Name\": course_names,\n",
    "    \"Course Description\": course_descs    \n",
    "    \n",
    "})\n",
    "\n",
    "df"
   ]
  },
  {
   "cell_type": "code",
   "execution_count": 20,
   "metadata": {},
   "outputs": [],
   "source": [
    "df.to_csv('Concordia_Engineering_Common_Core_Courses.csv', index = False)"
   ]
  }
 ],
 "metadata": {
  "kernelspec": {
   "display_name": "Python 3",
   "language": "python",
   "name": "python3"
  },
  "language_info": {
   "codemirror_mode": {
    "name": "ipython",
    "version": 3
   },
   "file_extension": ".py",
   "mimetype": "text/x-python",
   "name": "python",
   "nbconvert_exporter": "python",
   "pygments_lexer": "ipython3",
   "version": "3.8.5"
  }
 },
 "nbformat": 4,
 "nbformat_minor": 4
}
