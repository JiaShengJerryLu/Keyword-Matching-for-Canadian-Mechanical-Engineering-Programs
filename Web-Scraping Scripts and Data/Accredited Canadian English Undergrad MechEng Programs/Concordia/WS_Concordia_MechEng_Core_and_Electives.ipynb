{
 "cells": [
  {
   "cell_type": "code",
   "execution_count": 1,
   "metadata": {},
   "outputs": [],
   "source": [
    "from bs4 import BeautifulSoup as soup\n",
    "from urllib.request import urlopen as uReq"
   ]
  },
  {
   "cell_type": "code",
   "execution_count": 2,
   "metadata": {},
   "outputs": [],
   "source": [
    "course_list_url = \"https://www.concordia.ca/academics/undergraduate/calendar/current/sec71/71-40.html\""
   ]
  },
  {
   "cell_type": "code",
   "execution_count": 3,
   "metadata": {},
   "outputs": [],
   "source": [
    "course_data_url = \"https://www.concordia.ca/academics/undergraduate/calendar/current/sec71/71-60.html\""
   ]
  },
  {
   "cell_type": "code",
   "execution_count": 4,
   "metadata": {},
   "outputs": [],
   "source": [
    "uClient = uReq(course_list_url)\n",
    "page_html = uClient.read()\n",
    "uClient.close()\n",
    "page_soup = soup(page_html, \"html.parser\")"
   ]
  },
  {
   "cell_type": "markdown",
   "metadata": {},
   "source": [
    "# 1. Obtain course codes and names"
   ]
  },
  {
   "cell_type": "code",
   "execution_count": 5,
   "metadata": {},
   "outputs": [
    {
     "data": {
      "text/plain": [
       "108"
      ]
     },
     "execution_count": 5,
     "metadata": {},
     "output_type": "execute_result"
    }
   ],
   "source": [
    "tables = page_soup.find(\"div\", {\"class\": \"content-main parsys\"}).findAll(\"table\", {\"border\": 0, \"cellspacing\": 0, \"width\": 620})[:7]\n",
    "containers = [table.findAll(\"tr\") for table in tables]\n",
    "containers = [tr for container in containers for tr in container]\n",
    "len(containers)"
   ]
  },
  {
   "cell_type": "code",
   "execution_count": 6,
   "metadata": {},
   "outputs": [
    {
     "data": {
      "text/plain": [
       "106"
      ]
     },
     "execution_count": 6,
     "metadata": {},
     "output_type": "execute_result"
    }
   ],
   "source": [
    "course_codes = [container.findAll(\"td\")[0].text.strip() for container in containers if len(container.findAll(\"td\")[0].text.strip())>0]\n",
    "len(course_codes)"
   ]
  },
  {
   "cell_type": "code",
   "execution_count": 7,
   "metadata": {
    "scrolled": true
   },
   "outputs": [
    {
     "data": {
      "text/plain": [
       "['Mechanical Engineering Core',\n",
       " 'ENGR 242',\n",
       " 'ENGR 243',\n",
       " 'ENGR 244',\n",
       " 'ENGR 251',\n",
       " 'ENGR 311',\n",
       " 'ENGR 361',\n",
       " 'MECH 321',\n",
       " 'MECH 343',\n",
       " 'MECH 344',\n",
       " 'MECH 351',\n",
       " 'MECH 352',\n",
       " 'MECH 361',\n",
       " 'MECH 368',\n",
       " 'MECH 370',\n",
       " 'MECH 371',\n",
       " 'MECH 375',\n",
       " 'MECH 390',\n",
       " 'MECH 490',\n",
       " 'MIAE 211',\n",
       " 'MIAE 215',\n",
       " 'MIAE 221',\n",
       " 'MIAE 311',\n",
       " 'MIAE 312',\n",
       " 'MIAE 313',\n",
       " 'MIAE 380',\n",
       " 'Aerospace',\n",
       " 'AERO 417',\n",
       " 'AERO 446',\n",
       " 'AERO 455',\n",
       " 'AERO 462',\n",
       " 'AERO 464',\n",
       " 'AERO 465',\n",
       " 'AERO 480',\n",
       " 'AERO 482',\n",
       " 'AERO 485',\n",
       " 'AERO 486',\n",
       " 'AERO 487',\n",
       " 'ENGR 411',\n",
       " 'ENGR 412',\n",
       " 'MECH 498',\n",
       " 'Design and Manufacturing',\n",
       " 'ENGR 411',\n",
       " 'ENGR 412',\n",
       " 'INDU 372',\n",
       " 'INDU 410',\n",
       " 'INDU 411',\n",
       " 'MECH 412',\n",
       " 'MECH 414',\n",
       " 'MECH 421',\n",
       " 'MECH 422',\n",
       " 'MECH 423',\n",
       " 'MECH 424',\n",
       " 'MECH 425',\n",
       " 'MECH 468',\n",
       " 'MECH 476',\n",
       " 'MECH 498',\n",
       " 'Systems and Mechatronics',\n",
       " 'AERO 480',\n",
       " 'AERO 482',\n",
       " 'ENGR 411',\n",
       " 'ENGR 412',\n",
       " 'MECH 411',\n",
       " 'MECH 415',\n",
       " 'MECH 463',\n",
       " 'MECH 471',\n",
       " 'MECH 472',\n",
       " 'MECH 473',\n",
       " 'MECH 474',\n",
       " 'MECH 498',\n",
       " 'Thermo-Fluids and Propulsion',\n",
       " 'AERO 455',\n",
       " 'AERO 462',\n",
       " 'AERO 465',\n",
       " 'ENGR 411',\n",
       " 'ENGR 412',\n",
       " 'MECH 411',\n",
       " 'MECH 415',\n",
       " 'MECH 452',\n",
       " 'MECH 453',\n",
       " 'MECH 461',\n",
       " 'MECH 463',\n",
       " 'MECH 468',\n",
       " 'MECH 498',\n",
       " 'Vehicle Systems',\n",
       " 'ENGR 411',\n",
       " 'ENGR 412',\n",
       " 'MECH 411',\n",
       " 'MECH 415',\n",
       " 'MECH 444',\n",
       " 'MECH 447',\n",
       " 'MECH 454',\n",
       " 'MECH 473',\n",
       " 'MECH 498',\n",
       " 'Stress Analysis',\n",
       " 'AERO 431',\n",
       " 'AERO 486',\n",
       " 'ENGR 411',\n",
       " 'ENGR 412',\n",
       " 'MECH 411',\n",
       " 'MECH 412',\n",
       " 'MECH 415',\n",
       " 'MECH 422',\n",
       " 'MECH 426',\n",
       " 'MECH 460',\n",
       " 'MECH 498']"
      ]
     },
     "execution_count": 7,
     "metadata": {},
     "output_type": "execute_result"
    }
   ],
   "source": [
    "course_codes"
   ]
  },
  {
   "cell_type": "code",
   "execution_count": 8,
   "metadata": {
    "scrolled": true
   },
   "outputs": [
    {
     "data": {
      "text/plain": [
       "['ENGR 242',\n",
       " 'ENGR 243',\n",
       " 'ENGR 244',\n",
       " 'ENGR 251',\n",
       " 'ENGR 311',\n",
       " 'ENGR 361',\n",
       " 'MECH 321',\n",
       " 'MECH 343',\n",
       " 'MECH 344',\n",
       " 'MECH 351',\n",
       " 'MECH 352',\n",
       " 'MECH 361',\n",
       " 'MECH 368',\n",
       " 'MECH 370',\n",
       " 'MECH 371',\n",
       " 'MECH 375',\n",
       " 'MECH 390',\n",
       " 'MECH 490',\n",
       " 'MIAE 211',\n",
       " 'MIAE 215',\n",
       " 'MIAE 221',\n",
       " 'MIAE 311',\n",
       " 'MIAE 312',\n",
       " 'MIAE 313',\n",
       " 'MIAE 380',\n",
       " 'AERO 417',\n",
       " 'AERO 446',\n",
       " 'AERO 455',\n",
       " 'AERO 462',\n",
       " 'AERO 464',\n",
       " 'AERO 465',\n",
       " 'AERO 480',\n",
       " 'AERO 482',\n",
       " 'AERO 485',\n",
       " 'AERO 486',\n",
       " 'AERO 487',\n",
       " 'ENGR 411',\n",
       " 'ENGR 412',\n",
       " 'MECH 498',\n",
       " 'ENGR 411',\n",
       " 'ENGR 412',\n",
       " 'INDU 372',\n",
       " 'INDU 410',\n",
       " 'INDU 411',\n",
       " 'MECH 412',\n",
       " 'MECH 414',\n",
       " 'MECH 421',\n",
       " 'MECH 422',\n",
       " 'MECH 423',\n",
       " 'MECH 424',\n",
       " 'MECH 425',\n",
       " 'MECH 468',\n",
       " 'MECH 476',\n",
       " 'MECH 498',\n",
       " 'AERO 480',\n",
       " 'AERO 482',\n",
       " 'ENGR 411',\n",
       " 'ENGR 412',\n",
       " 'MECH 411',\n",
       " 'MECH 415',\n",
       " 'MECH 463',\n",
       " 'MECH 471',\n",
       " 'MECH 472',\n",
       " 'MECH 473',\n",
       " 'MECH 474',\n",
       " 'MECH 498',\n",
       " 'AERO 455',\n",
       " 'AERO 462',\n",
       " 'AERO 465',\n",
       " 'ENGR 411',\n",
       " 'ENGR 412',\n",
       " 'MECH 411',\n",
       " 'MECH 415',\n",
       " 'MECH 452',\n",
       " 'MECH 453',\n",
       " 'MECH 461',\n",
       " 'MECH 463',\n",
       " 'MECH 468',\n",
       " 'MECH 498',\n",
       " 'ENGR 411',\n",
       " 'ENGR 412',\n",
       " 'MECH 411',\n",
       " 'MECH 415',\n",
       " 'MECH 444',\n",
       " 'MECH 447',\n",
       " 'MECH 454',\n",
       " 'MECH 473',\n",
       " 'MECH 498',\n",
       " 'AERO 431',\n",
       " 'AERO 486',\n",
       " 'ENGR 411',\n",
       " 'ENGR 412',\n",
       " 'MECH 411',\n",
       " 'MECH 412',\n",
       " 'MECH 415',\n",
       " 'MECH 422',\n",
       " 'MECH 426',\n",
       " 'MECH 460',\n",
       " 'MECH 498']"
      ]
     },
     "execution_count": 8,
     "metadata": {},
     "output_type": "execute_result"
    }
   ],
   "source": [
    "import re\n",
    "course_codes = [code for code in course_codes if bool(re.match(\"[A-Z]{4} [0-9]{3}\", code))]\n",
    "course_codes"
   ]
  },
  {
   "cell_type": "code",
   "execution_count": 9,
   "metadata": {
    "scrolled": true
   },
   "outputs": [
    {
     "data": {
      "text/plain": [
       "['Credits',\n",
       " 'Statics',\n",
       " 'Dynamics',\n",
       " 'Mechanics of Materials',\n",
       " 'Thermodynamics I',\n",
       " 'Transform Calculus and\\n\\xa0\\xa0\\xa0\\xa0\\xa0Partial Differential Equations',\n",
       " 'Fluid Mechanics I',\n",
       " 'Properties and Failure of Materials',\n",
       " 'Theory of Machines',\n",
       " 'Machine Element Design',\n",
       " 'Thermodynamics II',\n",
       " 'Heat Transfer I',\n",
       " 'Fluid Mechanics II',\n",
       " 'Electronics for Mechanical Engineers',\n",
       " 'Modelling and Analysis of Dynamic Systems',\n",
       " 'Analysis and Design of Control Systems',\n",
       " 'Mechanical Vibrations',\n",
       " 'Mechanical Engineering Design Project',\n",
       " 'Capstone Mechanical Engineering Design Project*',\n",
       " 'Mechanical Engineering Drawing',\n",
       " 'Programming for Mechanical and\\n\\xa0\\xa0\\xa0\\xa0\\xa0Industrial Engineers',\n",
       " 'Materials Science',\n",
       " 'Manufacturing Processes',\n",
       " 'Engineering Design and\\n\\xa0\\xa0\\xa0\\xa0\\xa0Manufacturing Processes Lab',\n",
       " 'Machine Drawing and Design',\n",
       " 'Product Design and Development',\n",
       " '',\n",
       " 'Standards, Regulations and Certification',\n",
       " 'Aerospace Vehicle Performance',\n",
       " 'Computational Fluid Dynamics for\\n\\xa0\\xa0\\xa0\\xa0\\xa0Aerospace Applications',\n",
       " 'Turbomachinery and Propulsion',\n",
       " 'Aerodynamics',\n",
       " 'Gas Turbine Design',\n",
       " 'Flight Control Systems',\n",
       " 'Avionic Navigation Systems',\n",
       " 'Introduction to Space Systems',\n",
       " 'Aircraft Stress Analysis',\n",
       " 'Design of Aircraft Structures',\n",
       " 'Special Technical Report',\n",
       " 'Honours Research Project',\n",
       " 'Topics in Mechanical Engineering',\n",
       " 'Credits',\n",
       " 'Special Technical Report',\n",
       " 'Honours Research Project',\n",
       " 'Quality Control and Reliability',\n",
       " 'Safety Engineering',\n",
       " 'Computer Integrated Manufacturing',\n",
       " 'Computer‑Aided Mechanical Design',\n",
       " 'Computer Numerically Controlled Machining',\n",
       " 'Mechanical Shaping of Metals and Plastics',\n",
       " 'Mechanical Behaviour of Polymer Composite Materials',\n",
       " 'Casting, Welding, Heat Treating, and\\n\\xa0\\xa0\\xa0\\xa0\\xa0Non‑Destructive Testing',\n",
       " 'MEMS – Design and Fabrication',\n",
       " 'Manufacturing of Composites',\n",
       " 'Wind Turbine Engineering',\n",
       " 'Generative Design and\\n\\xa0\\xa0\\xa0\\xa0\\xa0Manufacturing in Engineering',\n",
       " 'Topics in Mechanical Engineering',\n",
       " 'Credits',\n",
       " 'Flight Control Systems',\n",
       " 'Avionic Navigation Systems',\n",
       " 'Special Technical Report',\n",
       " 'Honours Research Project',\n",
       " 'Instrumentation and Measurements',\n",
       " 'Advanced Programming for Mechanical and \\n\\xa0\\xa0\\xa0\\xa0\\xa0Industrial Engineers',\n",
       " 'Fluid Power Control',\n",
       " 'Microcontrollers for Mechatronics',\n",
       " 'Mechatronics and Automation',\n",
       " 'Control System Design',\n",
       " 'Mechatronics',\n",
       " 'Topics in Mechanical Engineering',\n",
       " 'Credits',\n",
       " 'Computational Fluid Dynamics for\\n\\xa0\\xa0\\xa0\\xa0\\xa0Aerospace Applications',\n",
       " 'Turbomachinery and Propulsion',\n",
       " 'Gas Turbine Design',\n",
       " 'Special Technical Report',\n",
       " 'Honours Research Project',\n",
       " 'Instrumentation and Measurements',\n",
       " 'Advanced Programming for Mechanical and\\n\\xa0\\xa0\\xa0\\xa0\\xa0Industrial Engineers',\n",
       " 'Heat Transfer II',\n",
       " 'Heating, Ventilation and Air Conditioning Systems',\n",
       " 'Gas Dynamics',\n",
       " 'Fluid Power Control',\n",
       " 'Wind Turbine Engineering',\n",
       " 'Topics in Mechanical Engineering',\n",
       " 'Credits',\n",
       " 'Special Technical Report',\n",
       " 'Honours Research Project',\n",
       " 'Instrumentation and Measurements',\n",
       " 'Advanced Programming for Mechanical and\\n\\xa0\\xa0\\xa0\\xa0\\xa0Industrial Engineers',\n",
       " 'Guided Vehicle Systems',\n",
       " 'Fundamentals of Vehicle System Design',\n",
       " 'Vehicular Internal Combustion Engines',\n",
       " 'Control System Design',\n",
       " 'Topics in Mechanical Engineering',\n",
       " 'Credits',\n",
       " 'Principles of Aeroelasticity',\n",
       " 'Aircraft Stress Analysis',\n",
       " 'Special Technical Report',\n",
       " 'Honours Research Project',\n",
       " 'Instrumentation and Measurements',\n",
       " 'Computer‑Aided Mechanical Design',\n",
       " 'Advanced Programming for Mechanical and\\n\\xa0\\xa0\\xa0\\xa0\\xa0Industrial Engineers',\n",
       " 'Mechanical Behaviour of \\n\\xa0\\xa0\\xa0\\xa0\\xa0Polymer Composite Materials',\n",
       " 'Stress and Failure Analysis of Machinery',\n",
       " 'Finite Element Analysis',\n",
       " 'Topics in Mechanical Engineering']"
      ]
     },
     "execution_count": 9,
     "metadata": {},
     "output_type": "execute_result"
    }
   ],
   "source": [
    "course_names = [container.findAll(\"td\")[1].text.strip() for container in containers if len(container.findAll(\"td\")[0].text.strip())>0]\n",
    "course_names"
   ]
  },
  {
   "cell_type": "code",
   "execution_count": 10,
   "metadata": {
    "scrolled": true
   },
   "outputs": [
    {
     "data": {
      "text/plain": [
       "['Statics',\n",
       " 'Dynamics',\n",
       " 'Mechanics of Materials',\n",
       " 'Thermodynamics I',\n",
       " 'Transform Calculus and Partial Differential Equations',\n",
       " 'Fluid Mechanics I',\n",
       " 'Properties and Failure of Materials',\n",
       " 'Theory of Machines',\n",
       " 'Machine Element Design',\n",
       " 'Thermodynamics II',\n",
       " 'Heat Transfer I',\n",
       " 'Fluid Mechanics II',\n",
       " 'Electronics for Mechanical Engineers',\n",
       " 'Modelling and Analysis of Dynamic Systems',\n",
       " 'Analysis and Design of Control Systems',\n",
       " 'Mechanical Vibrations',\n",
       " 'Mechanical Engineering Design Project',\n",
       " 'Capstone Mechanical Engineering Design Project',\n",
       " 'Mechanical Engineering Drawing',\n",
       " 'Programming for Mechanical and Industrial Engineers',\n",
       " 'Materials Science',\n",
       " 'Manufacturing Processes',\n",
       " 'Engineering Design and Manufacturing Processes Lab',\n",
       " 'Machine Drawing and Design',\n",
       " 'Product Design and Development',\n",
       " 'Standards, Regulations and Certification',\n",
       " 'Aerospace Vehicle Performance',\n",
       " 'Computational Fluid Dynamics for Aerospace Applications',\n",
       " 'Turbomachinery and Propulsion',\n",
       " 'Aerodynamics',\n",
       " 'Gas Turbine Design',\n",
       " 'Flight Control Systems',\n",
       " 'Avionic Navigation Systems',\n",
       " 'Introduction to Space Systems',\n",
       " 'Aircraft Stress Analysis',\n",
       " 'Design of Aircraft Structures',\n",
       " 'Special Technical Report',\n",
       " 'Honours Research Project',\n",
       " 'Topics in Mechanical Engineering',\n",
       " 'Special Technical Report',\n",
       " 'Honours Research Project',\n",
       " 'Quality Control and Reliability',\n",
       " 'Safety Engineering',\n",
       " 'Computer Integrated Manufacturing',\n",
       " 'Computer-Aided Mechanical Design',\n",
       " 'Computer Numerically Controlled Machining',\n",
       " 'Mechanical Shaping of Metals and Plastics',\n",
       " 'Mechanical Behaviour of Polymer Composite Materials',\n",
       " 'Casting, Welding, Heat Treating, and Non-Destructive Testing',\n",
       " 'MEMS - Design and Fabrication',\n",
       " 'Manufacturing of Composites',\n",
       " 'Wind Turbine Engineering',\n",
       " 'Generative Design and Manufacturing in Engineering',\n",
       " 'Topics in Mechanical Engineering',\n",
       " 'Flight Control Systems',\n",
       " 'Avionic Navigation Systems',\n",
       " 'Special Technical Report',\n",
       " 'Honours Research Project',\n",
       " 'Instrumentation and Measurements',\n",
       " 'Advanced Programming for Mechanical and Industrial Engineers',\n",
       " 'Fluid Power Control',\n",
       " 'Microcontrollers for Mechatronics',\n",
       " 'Mechatronics and Automation',\n",
       " 'Control System Design',\n",
       " 'Mechatronics',\n",
       " 'Topics in Mechanical Engineering',\n",
       " 'Computational Fluid Dynamics for Aerospace Applications',\n",
       " 'Turbomachinery and Propulsion',\n",
       " 'Gas Turbine Design',\n",
       " 'Special Technical Report',\n",
       " 'Honours Research Project',\n",
       " 'Instrumentation and Measurements',\n",
       " 'Advanced Programming for Mechanical and Industrial Engineers',\n",
       " 'Heat Transfer II',\n",
       " 'Heating, Ventilation and Air Conditioning Systems',\n",
       " 'Gas Dynamics',\n",
       " 'Fluid Power Control',\n",
       " 'Wind Turbine Engineering',\n",
       " 'Topics in Mechanical Engineering',\n",
       " 'Special Technical Report',\n",
       " 'Honours Research Project',\n",
       " 'Instrumentation and Measurements',\n",
       " 'Advanced Programming for Mechanical and Industrial Engineers',\n",
       " 'Guided Vehicle Systems',\n",
       " 'Fundamentals of Vehicle System Design',\n",
       " 'Vehicular Internal Combustion Engines',\n",
       " 'Control System Design',\n",
       " 'Topics in Mechanical Engineering',\n",
       " 'Principles of Aeroelasticity',\n",
       " 'Aircraft Stress Analysis',\n",
       " 'Special Technical Report',\n",
       " 'Honours Research Project',\n",
       " 'Instrumentation and Measurements',\n",
       " 'Computer-Aided Mechanical Design',\n",
       " 'Advanced Programming for Mechanical and Industrial Engineers',\n",
       " 'Mechanical Behaviour of Polymer Composite Materials',\n",
       " 'Stress and Failure Analysis of Machinery',\n",
       " 'Finite Element Analysis',\n",
       " 'Topics in Mechanical Engineering']"
      ]
     },
     "execution_count": 10,
     "metadata": {},
     "output_type": "execute_result"
    }
   ],
   "source": [
    "course_names = [name.replace(\"\\n\\xa0\\xa0\\xa0\\xa0\\xa0\", \" \") for name in course_names if name != \"Credits\" and len(name) > 0]\n",
    "course_names = [name.replace(\"  \", \" \").replace(\"*\", \"\").replace(\"‑\", \"-\").replace(\"–\", \"-\") for name in course_names]\n",
    "course_names"
   ]
  },
  {
   "cell_type": "code",
   "execution_count": 11,
   "metadata": {},
   "outputs": [
    {
     "data": {
      "text/plain": [
       "99"
      ]
     },
     "execution_count": 11,
     "metadata": {},
     "output_type": "execute_result"
    }
   ],
   "source": [
    "len(course_names)"
   ]
  },
  {
   "cell_type": "code",
   "execution_count": 12,
   "metadata": {},
   "outputs": [
    {
     "data": {
      "text/plain": [
       "99"
      ]
     },
     "execution_count": 12,
     "metadata": {},
     "output_type": "execute_result"
    }
   ],
   "source": [
    "len(course_codes)"
   ]
  },
  {
   "cell_type": "code",
   "execution_count": 13,
   "metadata": {},
   "outputs": [
    {
     "name": "stdout",
     "output_type": "stream",
     "text": [
      "67\n",
      "67\n"
     ]
    }
   ],
   "source": [
    "course_names = list(dict.fromkeys(course_names))\n",
    "course_codes = list(dict.fromkeys(course_codes))\n",
    "print(len(course_names))\n",
    "print(len(course_codes))"
   ]
  },
  {
   "cell_type": "markdown",
   "metadata": {},
   "source": [
    "# 2. Get HTML of Webpage where all course descriptions can be found"
   ]
  },
  {
   "cell_type": "code",
   "execution_count": 14,
   "metadata": {},
   "outputs": [],
   "source": [
    "uClient = uReq(course_data_url)\n",
    "page_html = uClient.read()\n",
    "uClient.close()\n",
    "page_soup = soup(page_html, \"html.parser\")"
   ]
  },
  {
   "cell_type": "markdown",
   "metadata": {},
   "source": [
    "# 3. Script to find and scrape all the course descriptions matching the target courses"
   ]
  },
  {
   "cell_type": "code",
   "execution_count": 15,
   "metadata": {},
   "outputs": [
    {
     "data": {
      "text/plain": [
       "12"
      ]
     },
     "execution_count": 15,
     "metadata": {},
     "output_type": "execute_result"
    }
   ],
   "source": [
    "containers = page_soup.findAll(\"div\", {\"class\": \"accordion-panel section\"})\n",
    "len(containers)"
   ]
  },
  {
   "cell_type": "code",
   "execution_count": 16,
   "metadata": {
    "scrolled": true
   },
   "outputs": [
    {
     "name": "stdout",
     "output_type": "stream",
     "text": [
      "Scraped  Statics\n",
      "Scraped  Dynamics\n",
      "Scraped  Mechanics of Materials\n",
      "Scraped  Thermodynamics I\n",
      "Scraped  Transform Calculus and Partial Differential Equations\n",
      "Scraped  Fluid Mechanics I\n",
      "Scraped  Properties and Failure of Materials\n",
      "Scraped  Theory of Machines\n",
      "Scraped  Machine Element Design\n",
      "Scraped  Thermodynamics II\n",
      "Scraped  Heat Transfer I\n",
      "Scraped  Fluid Mechanics II\n",
      "Scraped  Electronics for Mechanical Engineers\n",
      "Scraped  Modelling and Analysis of Dynamic Systems\n",
      "Scraped  Analysis and Design of Control Systems\n",
      "Scraped  Mechanical Vibrations\n",
      "Scraped  Mechanical Engineering Design Project\n",
      "Scraped  Capstone Mechanical Engineering Design Project\n",
      "Scraped  Mechanical Engineering Drawing\n",
      "Scraped  Programming for Mechanical and Industrial Engineers\n",
      "Scraped  Materials Science\n",
      "Scraped  Manufacturing Processes\n",
      "Scraped  Engineering Design and Manufacturing Processes Lab\n",
      "Scraped  Machine Drawing and Design\n",
      "Scraped  Product Design and Development\n",
      "Scraped  Standards, Regulations and Certification\n",
      "Scraped  Aerospace Vehicle Performance\n",
      "Scraped  Computational Fluid Dynamics for Aerospace Applications\n",
      "Scraped  Turbomachinery and Propulsion\n",
      "Scraped  Aerodynamics\n",
      "Scraped  Gas Turbine Design\n",
      "Scraped  Flight Control Systems\n",
      "Scraped  Avionic Navigation Systems\n",
      "Scraped  Introduction to Space Systems\n",
      "Scraped  Aircraft Stress Analysis\n",
      "Scraped  Design of Aircraft Structures\n",
      "Scraped  Special Technical Report\n",
      "Scraped  Honours Research Project\n",
      "Scraped  Topics in Mechanical Engineering\n",
      "Scraped  Quality Control and Reliability\n",
      "Scraped  Safety Engineering\n",
      "Scraped  Computer Integrated Manufacturing\n",
      "Scraped  Computer-Aided Mechanical Design\n",
      "Scraped  Computer Numerically Controlled Machining\n",
      "Scraped  Mechanical Shaping of Metals and Plastics\n",
      "Scraped  Mechanical Behaviour of Polymer Composite Materials\n",
      "Scraped  Casting, Welding, Heat Treating, and Non-Destructive Testing\n",
      "Scraped  MEMS - Design and Fabrication\n",
      "Scraped  Manufacturing of Composites\n",
      "Scraped  Wind Turbine Engineering\n",
      "Scraped  Generative Design and Manufacturing in Engineering\n",
      "Scraped  Instrumentation and Measurements\n",
      "Scraped  Advanced Programming for Mechanical and Industrial Engineers\n",
      "Scraped  Fluid Power Control\n",
      "Scraped  Microcontrollers for Mechatronics\n",
      "Scraped  Mechatronics and Automation\n",
      "Scraped  Control System Design\n",
      "Scraped  Mechatronics\n",
      "Scraped  Heat Transfer II\n",
      "Scraped  Heating, Ventilation and Air Conditioning Systems\n",
      "Scraped  Gas Dynamics\n",
      "Scraped  Guided Vehicle Systems\n",
      "Scraped  Fundamentals of Vehicle System Design\n",
      "Scraped  Vehicular Internal Combustion Engines\n",
      "Scraped  Principles of Aeroelasticity\n",
      "Scraped  Stress and Failure Analysis of Machinery\n",
      "Scraped  Finite Element Analysis\n"
     ]
    },
    {
     "data": {
      "text/plain": [
       "67"
      ]
     },
     "execution_count": 16,
     "metadata": {},
     "output_type": "execute_result"
    }
   ],
   "source": [
    "course_descs = []\n",
    "counter = 0\n",
    "\n",
    "for course_name in course_names:\n",
    "    for container in containers:\n",
    "        if container.div.div.a[\"name\"].strip() == course_codes[course_names.index(course_name)].split()[0].lower().strip():\n",
    "            course_title_containers = container.find(\"p\").findAll(\"b\")\n",
    "            for course_title_container in course_title_containers:\n",
    "                try:\n",
    "                    course_title_name = course_title_container.i.text.replace(\"-\", \"-\").replace(\"—\", \"-\").strip()\n",
    "                except AttributeError:\n",
    "                    pass\n",
    "                    \n",
    "                if course_title_name == course_name.strip():\n",
    "                    course_descs.append(course_title_container.nextSibling.nextSibling.nextSibling.strip())\n",
    "                    counter += 1\n",
    "                    print(\"Scraped \", course_name)\n",
    "                    break\n",
    "            break\n",
    "            \n",
    "counter"
   ]
  },
  {
   "cell_type": "code",
   "execution_count": 17,
   "metadata": {},
   "outputs": [
    {
     "data": {
      "text/plain": [
       "67"
      ]
     },
     "execution_count": 17,
     "metadata": {},
     "output_type": "execute_result"
    }
   ],
   "source": [
    "len(course_names)"
   ]
  },
  {
   "cell_type": "code",
   "execution_count": 18,
   "metadata": {},
   "outputs": [
    {
     "data": {
      "text/plain": [
       "67"
      ]
     },
     "execution_count": 18,
     "metadata": {},
     "output_type": "execute_result"
    }
   ],
   "source": [
    "len(course_descs)"
   ]
  },
  {
   "cell_type": "markdown",
   "metadata": {},
   "source": [
    "# 4. Inspect, clean, and write to CSV"
   ]
  },
  {
   "cell_type": "code",
   "execution_count": 19,
   "metadata": {},
   "outputs": [
    {
     "data": {
      "text/plain": [
       "['Prerequisite: ENGR 213 previously or concurrently; PHYS 204; MATH 204. Resultant of force systems; equilibrium of particles and rigid bodies; distributed forces; statically determinate systems; trusses; friction; moments of inertia; virtual work. Shear and bending moment diagrams. Lectures: three hours per week. Tutorial: two hours per week.',\n",
       " 'Prerequisite: ENGR 213, 242. Kinematics of a particle and rigid body; forces and accelerations; work and energy; impulse and momentum; dynamics of a system of particles and rigid bodies, introduction to vibrations. Lectures: three hours per week. Tutorial: two hours per week.',\n",
       " 'Prerequisite: ENGR 213; ENGR 242 or 245; ENGR 233 previously or concurrently. Mechanical behaviour of materials; stress; strain; shear and bending moment diagrams; introduction to inelastic action. Analysis and design of structural and machine elements subjected to axial, torsional, and flexural loadings. Combined stresses and stress transformation. Deflections. Introduction to elastic stability. Lectures: three hours per week. Tutorial: two hours per week. Laboratory: three hours per week, alternate weeks.',\n",
       " 'Prerequisite: MATH 203 (Cegep Mathematics 103). Basic principles of thermodynamics and their application to various systems composed of pure substances and their homogeneous non-reactive mixtures. Simple power production and utilization cycles. Lectures: three hours per week. Tutorial: two hours per week.',\n",
       " 'Prerequisite: ENGR 213, 233. Elements of complex variables. The Laplace transform: Laplace transforms and their properties, solution of linear differential equations with constant coefficients. Further theorems and their applications. The Fourier transform: orthogonal functions, expan\\xadsion of a function in orthogonal functions, the Fourier series, the Fourier integral, the Fourier transform, the convolution theorem. Partial differential equations: physical foundations of partial differential equations, introduction to boundary value problems. Lectures: three hours per week. Tutorial: two hours per week.',\n",
       " 'Prerequisite: ENGR 213, 233, 251. Basic concepts and principles of fluid mechanics. Classification of fluid flow. Hydrostatic forces on plane and curved surfaces, buoyancy and stability, fluids in rigid body motion. Mass, momentum, and energy conservation integral equations. Bernoulli equation. Basic concepts of pipe and duct flow. Introduction to Navier-Stokes equations. Similarity and model studies. Lectures: three hours per week. Tutorial: one hour per week.',\n",
       " 'Prerequisite: MECH 221 or MIAE 221. This course covers the following topics: the service capabilities of alloys and their relationship to microstructure as produced by thermal and mechanical treatments; tensile and torsion tests; elements of dislocation theory; strengthening mechanisms; composite materials; modes of failure of materials; fracture, fatigue, wear, creep, corrosion, radiation damage; failure analysis; material codes; material selection for design. Lectures: three hours per week. Tutorial: one hour per week. Laboratory: two hours per week, alternate weeks.',\n",
       " 'Prerequisite: ENGR 213, 233, 243. Introduction to mechanisms; position and displacement; velocity; acceleration; synthesis of linkage; robotics; static force analysis; dynamic force analysis; forward kinematics and inverse kinematics; introduction to gear analysis and gear box design; kinematic analysis of spatial mechanisms. Lectures: three hours per week. Tutorial: one hour per week. Laboratory: two hours per week, alternate weeks.',\n",
       " 'Prerequisite: ENGR 244; MECH 313 or MIAE 313; MECH 343 previously or concurrently. This course covers the following topics: introduction to machine design; static failure theories; failure of ductile vs. brittle materials under static loading; fatigue failure theories; fatigue loads; notches and stress concentrations; residual stresses; designing for high cycle fatigue; design of shafts, keys and couplings; design of spur gears; spring design; design of screws and fasteners; design of bearings; case studies. Lectures: three hours per week. Tutorial: two hours per week.',\n",
       " 'Prerequisite: ENGR 251. Brief review of ideal gas processes. Semi-perfect gases and the gas tables. Mixtures of gases, gases and vapours, air conditioning processes. Combustion and combustion equilibrium. Applications of thermo\\xaddynamics to power production and utilization systems: study of basic and advanced cycles for gas compression, internal combustion engines, power from steam, gas turbine cycles, and refrigeration. Real gases. Lectures: three hours per week. Tutorial: one hour per week. Laboratory: two hours per week, alternate weeks.',\n",
       " 'Prerequisite: ENGR 311, 361. Analytical and numerical methods for steady-state and transient heat conduction. Empirical and practical relations for forced- and free-convection heat transfer. Radiation heat exchange between black bodies, and between non-black bodies. Gas radiation. Solar radiation. Effect of radiation on temperature measurement. Lectures: three hours per week. Tutorial: one hour per week. Laboratory: two hours per week, alternate weeks.',\n",
       " 'Prerequisite: ENGR 361. Differential analysis of fluid flows, vorticity, stream function, stresses, and strains. Navier-Stokes equations and solutions for parallel flows. Euler’s equations, irrotational and potential flows, plane potential flows. Viscous flows in pipes, laminar and turbulent flows, major and minor losses. Flow over immersed bodies, boundary layers, separation and thickness. Drag, lift and applications. Introduction to compressible flows, speed of sound, Mach cone, and some characteristics of supersonic flows. Lectures: three hours per week. Tutorial: one hour per week. Laboratory: two hours per week, alternate weeks.',\n",
       " 'Prerequisite: PHYS 205; ENGR 311 previously or concurrently. Dependent sources, voltage and current dividers, voltage and current sources, superposition, Thevenin and Norton equivalent sources, linear and nonlinear circuit analysis. Semiconductors and diodes. Bipolar Junction Transistors (BJT), Field Effect Transistors (FET); amplifiers and switches. Operational amplifiers; circuits and frequency response. Digital logic components and circuits. Digital systems. Lectures: three hours per week. Tutorial: one hour per week. Laboratory: two hours per week, alternate weeks.',\n",
       " 'Prerequisite: PHYS 205; ENGR 213; ENGR 311 previously or concurrently; ENGR 245 or 243. Definition and classification of dynamic systems and components. Modelling of dynamic systems containing individual or mixed mechanical, electrical, fluid and thermal elements. Block diagrams representation and simulation techniques using MATLAB/Simulink. Time domain analysis. Transient and steady-state characteristics of dynamic systems. Linearization. Transfer functions. Introduction to feedback control systems. Lectures: three hours per week. Tutorial: one hour per week. Laboratory: two hours per week, alternate weeks.',\n",
       " 'Prerequisite: ENGR 311; MECH 370. Stability of linear feedback systems. Root-Locus method. Frequency response concepts. Stability in the frequency domain. Feedback system design using Root Locus techniques. Compensator concepts and configurations. PID-controller design. Simulation and computer-aided controller design using Matlab/Simulink. Lectures: three hours per week. Tutorial: one hour per week. Laboratory: three hours per week, alternate weeks.',\n",
       " 'Prerequisite: AERO 371 or MECH 370. Transient vibrations under impulsive shock and arbitrary excitation: normal modes, free and forced vibration. Multi-degree of freedom systems, influence coefficients, orthogonality principle, numerical methods. Continuous systems; longitudinal torsional and flexural free and forced vibrations of prismatic bars. Lagrange’s equations. Vibration measure-',\n",
       " 'Prerequisite: ENCS 282; MECH 311 or MIAE 311; MECH 343; MIAE 380; MECH 344 previously or concurrently. This course covers the following topics: the design process; product cost, quality and time to market, open and concept design problems, problem description; geometric and type synthesis; direct and inverse design problems; material selection and load determination; mathematical modelling, analysis, and validation; introduction to Computer-Aided Design and Engineering (CAD and CAE); product evaluation for performance, tolerance, cost, manufacture, assembly, and other measures; design documentation. A team-based design project is an intrinsic part of this course. Lectures: three hours per week. Tutorial: one hour per week. Laboratory: one hour per week.',\n",
       " 'Prerequisite: 75 credits in the program; ENGR 301; MECH 344, 390. This course includes a supervised design, simulation or experimental capstone design project including a preliminary project proposal with complete project plan and a technical report at the end of the fall term; a final report by the group and presentation at the end of the winter term. Lectures: one hour per week, one term. Equivalent laboratory time: three hours per week, two terms.',\n",
       " 'This course is an introduction to graphic language and design — means and techniques. The following topics are covered: the third and the first angle projections; orthographic projection of points, lines, planes and solids; principal and auxiliary views; views in a given direction; sectional views; intersection of lines, planes and solids; development of surfaces; drafting practices; dimensioning, fits and tolerancing; computer-aided drawing and solid modelling; working drawings — detail and assembly drawing; design practice; machine elements representation. Lectures: three hours per week. Tutorial: two hours per week — includes learning of a CAD software. Laboratory: two hours per week, alternate weeks.',\n",
       " 'Prerequisite: MATH 204 (Cegep mathematics 105). This course focuses on writing programs using assignment and sequences; variables and types; operators and expressions; conditional and repetitive statements; input and output; file access; functions; program structure and organization; pointers and dynamic memory allocation; introduction to classes and objects; mechanical and industrial engineering applications. Lectures: three hours per week. Tutorial: one hour per week. Laboratory: one hour per week.',\n",
       " 'Prerequisite: CHEM 205 (Cegep Chemistry 101). This course focuses on relationships between properties and internal structure, atomic bonding; molecular, crystalline and amorphous structures, crystalline imperfections and mechanisms of structural change; microstructures and their development from phase diagrams; structures and mechanical properties of polymers and ceramics; thermal, optical, and magnetic properties of materials. Lectures: three hours per week. Tutorial: one hour per week.',\n",
       " 'Prerequisite: MECH 313 or MIAE 313. This course focuses on the fundamentals of manufacturing processes and their limitations, metrology, machine shop practice, safety and health considerations, forming, conventional machining and casting processes, welding and joining, plastic production, and non-conventional machining techniques; sustainable technologies. Laboratory includes instruction and practice on conventional machine tools and a manufacturing project. Lectures: three hours per week. Tutorial: two hours per week, including industrial visits and field trips to local industries.',\n",
       " 'Prerequisite: MIAE 311 previously or concurrently. This laboratory includes instruction and practice on conventional and advanced machine tools and a manufacturing project. Laboratory: equivalent to four hours per week, alternate weeks.',\n",
       " 'Prerequisite: MECH 211 or MIAE 211. This course is an introduction to engi\\xadneering design and design process. The following topics are covered: problem definition, solution formulation, model development and collaboration aspects of design process; the use of drawings and other graphical methods in the process of engineering design; industrial standards and specifications, design of fits, linear and geometrical tolerances. Design projects based on design philosophies will involve design and selection of many standard machine com\\xadponents like mechanical drives, cams, clutches, couplings, brakes, seals, fasteners, springs, and bearings. Drawing representation of standard components is also covered. Design projects are an integral part of this course. Lectures: three hours per week. Tutorial: two hours per week. Laboratory: 12 hours total.',\n",
       " 'Prerequisite: MECH 211 or MIAE 211. This course focuses on development processes and organizations, product planning, identifying customer needs, product specifications, concept generation, concept selection, concept testing, product architecture, industrial design, design for manufacturing, prototyping robust design, patents and intellectual property. Lectures: three hours per week.',\n",
       " 'Prerequisite: ENGR 201. Overview of DoT and other international aviation standards (e.g. FAA), regulations and certification procedures; regulatory areas, namely, pilot training/testing, air traffic procedures, aircraft systems design and airworthiness; development process for new regulations and criteria for certification. Lectures: three hours per week.',\n",
       " 'Prerequisite: MECH 361. Introduction to fixed-wing aircraft operation. Flying environment and its measurement by aircraft instrumentation. Computation of lift and drag, effects of viscosity and compressibility. Review of piston, turboprop, turbojet and turbofan power plants. Operational performance of aircraft in climb, cruise, descent and on ground. Advanced aircraft systems. Operational considerations in aircraft design. Projects on selected topics. Lectures: three hours per week. Tutorial: one hour per week.',\n",
       " 'Prerequisite: ENGR 311, 391; MECH 361. Introduction to computational methods in fluid dynamics using commercial CFD codes; aspects of geometry modelling, structured and unstructured grid generation, solution strategy, and post-processing; conversion of CAD to CFD models; an overview of basic numerical methods for the Navier-Stokes equations with emphasis on accuracy evaluation and efficiency. Elements of turbulence closure modelling. User-defined function for customized physical models into commercial CFD codes. Lectures: three hours per week. Laboratory: three hours per week, alternate weeks.',\n",
       " 'Prerequisite: MECH 351, 361. Aircraft design process, preliminary sizing and thrust requirements. Rotary and fixed wing aerodynamics and stability. Helicopter configurations. Structure and fatigue design considerations. Review of the gas turbine cycle and components arrangement. Turbo-propulsion: turboprop, turbofan, turbojet and turboshafts. Energy transfer in turbo\\xadmachines: Euler equation, velocity triangles. Dimensional analysis of turbomachines. Flow in turbomachines. Three-dimensional flow in turbomachines. Mechanisms of losses in turbo\\xadmachines. Axial-flow turbines and compressors. Centrifugal compressors. Compressor and turbine performance maps; surge and stall. Lectures: three hours per week. Tutorial: one hour per week.',\n",
       " 'Prerequisite: MECH 361. Flow conservation equations, incompressible Navier-Stokes equations, inviscid irrotational and rotational flows: the Euler equations, the potential and stream function equations. Dynamics of an incompressible inviscid flow field: the Kelvin, Stokes, and Helmholtz theorems. Elementary flows and their superposition, panel method for non-lifting bodies. Airfoil and wing characteristics, aerodynamic forces and moments coefficients. Incompressible flows around thin airfoils, Biot-Savart law, vortex sheets. Incompressible flow around thick airfoils, the panel method for lifting bodies. Incompressible flow around wings, Prandtl’s lifting line theory, induced angle and down-wash, unswept wings, swept wings. Compressible subsonic flow: linearized theory, Prandlt-Glauert equation and other compressibility correction rules, the area rule. Transonic flow: Von Karman’s ransonic small disturbance equation, transonic full potential equation, super-critical airfoils. Lectures: three hours per week. Tutorial: one hour per week.',\n",
       " 'Prerequisite: AERO 462. Review of turbo-propulsion types and energy transfer in turbomachines. Two- and three-dimensional flow. Lift and drag for airfoils. Cascade tests and correlations. Aerodynamic losses: physics, mechanisms, control of viscous effects. Preliminary and detailed design of turbines and compressors. Structural and thermal design requirements. Failure considerations: creep, fatigue and corrosion. Performance matching. Combustion and gearbox design. Air and oil systems design requirements. Installations and acoustics. Evolution of design. Recent trends in technologies. Lectures: three hours per week. Laboratory: two hours per week, alternate weeks.',\n",
       " 'Prerequisite: AERO 371 or ELEC 372 or MECH 371 or SOEN 385. Basic flight control and flight dynamics principles. Aircraft dynamic equations and performance data. Implementation of aircraft control: control surfaces and their operations, development of thrust and its control; autopilot systems, their algorithms, dynamics and interaction problems. Flight instruments, principles of operation and dynamics. Cockpit layouts — basic configuration, ergonomic design, control field forces; advanced concepts in instruments, avionics and displays; HUD; flight management systems, and communication equipment. Introduction to flight simulation: overview of visual, audio and motion simulator systems; advanced concepts in flight simulators. Lectures: three hours per week. Laboratory: two hours per week, alternate weeks.',\n",
       " 'Prerequisite: ENGR 371 or COMP 233; AERO 371 or ELEC 372 or MECH 370 or SOEN 385. Basics of modern electronic navigation systems, history of air navigation, earth coordinate and mapping systems; basic theory and analysis of modern electronic navigation instrumentation, communication and radar systems, approach aids, airborne systems, transmitters and antenna coverage; noise and losses, target detection, digital processing, display systems and technology; demonstration of avionic systems using flight simulator. Lectures: three hours per week.',\n",
       " 'Prerequisite: MECH 351, 361. Classification of space propulsion systems; Tsiolkovskj’s equation; ideal rocket and nozzle design; flight performance; basic orbital mechanics; chemical propellant rocket performance analysis; fundamentals of liquid and solid propellant rocket motors; electric, solar, fusion thruster. Lectures: three hours per week.',\n",
       " 'Prerequisite: ENGR 243, 244. Definition of load paths in typical aircraft structures. Derivation of analysis procedures to enable the designer to size preliminary designs. Internal shear flow distributions that balance external loads. Stress analysis of open and closed cell beams; statically indeterminate beams and frames; single and multi cell torque boxes; symmetric heavy fuselage frames. Structural instability of columns, beams, plates and flanges in compression and shear. Centres of twist and flexure; structural warping; margins of safety; concepts of optimum design; lug analysis and mechanical joints; matrix analysis methods leading to the Finite Element method. Stress analysis of thin-walled metallic structures. Lectures: three hours per week.',\n",
       " 'Prerequisite: AERO 486. Design process for aircraft structures. Aero/performance aspects of aircraft structures. Airworthiness and design considerations. Materials. Static, vibratory and aeroelastic loadings. Propulsion-induced loadings. Functions and fabrication of structural components. Design for buckling of aircraft structures: local buckling, instability of stiffened panels, flexural torsional buckling. Design for fracture and fatigue failures. Stress analysis and design of wings, fuselages, stringers, fuselage frames, wing ribs, cut-outs in wings and fuselages, and laminated structures. Design using Finite Element Method. Concept of Optimum Design of Aircraft Structures. Design case studies. Lectures: three hours per week.',\n",
       " 'Prerequisite: ENCS 282; permission of the Department. Students must submit a report on a topic related to the students’ discipline and approved by the Department. The report must present a review of a current engineering problem, a proposal for a design project, or a current engineering practice.',\n",
       " 'Prerequisite: ENCS 282; minimum 75 credits in the BEng program with a cumulative GPA of 3.00 or better; permission of the Department. Students work on a research project in their area of concentration, selected in consultation with and conducted under the supervision of a faculty member of the Department. The student’s work must culminate in a final report, as well as an oral presentation. Students planning to register for this course should consult with the Department prior to term of planned registration. Intended for students with potential interest in graduate programs.',\n",
       " 'Prerequisite: Permission of the Department Chair. This course may be offered in a given year upon the authorization of the Mechanical, Industrial and Aerospace Engineering Department. The course content may vary from offering to offering and will be chosen to complement the elective courses available in a given option or options. Lectures: three hours per week.',\n",
       " 'Prerequisite: ENGR 371. Importance of quality; total quality management; statistical concepts relevant to process control; control charts for variables and attributes; sampling plans. Introduction to reliability models and acceptance testing; issues of standardization. Lectures: three hours per week.',\n",
       " 'Prerequisite: MECH 311 or MIAE 311. This course focuses on the following topics: engineering design for the control of workplace hazards; occupational injuries and diseases; codes and standards; Workplace Hazardous Materials Information Systems (WHMIS); hazard evaluation and control; design criteria; risk assessment; safety in the manufacturing environment; applications in ventilation, air cleaning, noise and vibration. Lectures: three hours per week.',\n",
       " 'Prerequisite: MECH 311 or MIAE 311. This course focuses on concepts and benefits of computer integrated manufacturing (CIM); design for manufacturing; computer-aided design, process planning, manufacturing (computer numerical control parts programming), and inspection; robots in CIM; production planning and scheduling in CIM; system integration. Lectures: three hours per week. Laboratory: two hours per week, alternate weeks.',\n",
       " 'Prerequisite: MECH 313 or MIAE 313. This course is an introduction to computational tools in the design process. The following topics are covered: introduction to the fundamental approaches to computer-aided geometric modelling, physical modelling and engineering simulations; establishing functions and functional specifications with emphasis on geometric tolerancing and dimensioning, manufacturing and assembly evaluation. Lectures: three hours per week. Laboratory: two hours per week, alternate weeks.',\n",
       " 'Prerequisite: MECH 311 or MIAE 311; MECH 412. This course focuses on computer-aided design and manufacturing (CAD/CAM) hardware and software. The following topics are covered: essentials of Computer Numerical Control (CNC) machine tools and systems; process planning and tooling systems for CNC machining, theory of CNC programming of sculptured parts; multi-axis CNC tool path generation; project using CAD/CAM software; CATIA for complex mechanical parts design and a CNC machine tool to manufacture parts. Lectures: three hours per week. Laboratory: two hours per week, alternate weeks.',\n",
       " 'Prerequisite: MECH 221 or MIAE 221. This course focuses on metal forming: extrusion, forging, rolling, drawing, pressing, compacting; shear line theory, sheet forming limits; metal cutting, machinability, tooling; plastics shaping: extrusion, moulding, vacuum forming; consideration of the mechanical parameters critical for process control and computer applications; interaction of materials characteristics with processing to define product properties (cold working, annealing, hot working, super plasticity, thermomechanical treatment); energy conservation, safety, product quality, and liability. Lectures: three hours per week. Laboratory: two hours per week, alternate weeks.',\n",
       " 'Prerequisite: ENGR 233, 244; MECH 221 or MIAE 221. This course focuses on general applications of polymer composite materials in aircraft, aerospace, automobile, marine, recreational, and chemical processing industries. The following topics are covered: mechanics of a unidirectional lamina; transformation of stress, strain, modulus, and compliance; off-axis engineering constants, shear and normal coupling coefficients; in-plane and flexural stiffness and compliance with different laminates, including cross-ply, angle-ply, quasiisotropic, and general bidirectional laminates; hygrothermal effects; strength of laminates and failure criteria; micromechanics. Lectures: three hours per week.',\n",
       " 'Prerequisite: MECH 221 or MIAE 221. This course focuses on comparative analysis of the various techniques of casting, welding, powder fabrication, finishing, and non-destructive testing. The following topics are covered: consideration of the control parameters that are essential to define both automation and robot application; materials behaviour which determines product micro-structure and properties; technology and theory of solidification, normalizing, quenching, surface hardening, tempering, aging, and thermomechanical processing for steels, cast irons and Al, Cu, Ni and Ti alloys; energy conservation, worker safety, quality control, and product liability. Lectures: three hours per week. Laboratory: two hours per week, alternate weeks.',\n",
       " 'Prerequisite: MECH 311 or MIAE 311; MECH 343. This course is an introduction to microsystems and devices; mechanical properties of materials used in microsystems; microfabrication and post-processing techniques; sacrificial and structural layers; lithography, deposition and etching; introduction and design of different types of sensors and actuators; micromotors and other microdevices; mechanical design, finite element modelling; design and fabrication of free-standing structures; microbearings; special techniques: double-sided lithography, electrochemical milling, laser machining, LIGA, influence of IC fabrication methods on mechanical properties; application examples in biomedical, industrial, and space technology areas; integration, bonding and packaging of MEMS devices. Lectures: three hours per week. Laboratory: two hours per week, alternate weeks.',\n",
       " 'Prerequisite: MECH 311 or MIAE 311. This course focuses on fibres and resins. The following topics are covered: hand lay up; autoclave curing; compression molding; filament winding; resin transfer molding; braiding. Injection molding; cutting; joining; thermoset and thermoplastic composites; Polymer Nanocomposites; process modelling and computer simulation; non-destructive evaluation techniques. Lectures: three hours per week. Laboratory: two hours per week, alternate weeks.',\n",
       " 'Prerequisite: MECH 343, 361; MECH 344, 371 previously or concurrently. This course is designed to cover the theoretical and practical areas pertinent to the operation of wind turbines. The following topics are covered: energy in the wind; aerodynamic drag and lift of turbine blades; horizontal axis and vertical axis wind turbine designs; generators; control systems; mechanical load analysis such as blade, tower, generator and gearbox; blade and tower design; turbine braking; economical, environmental and safety aspects.',\n",
       " 'Prerequisite: MECH 313 or MIAE 313; AERO 390 or MECH 390 previously or concurrently. Generative design is a form-finding process that can mimic nature’s evolutionary approach to design. It can start with design goals and then explore innumerable possible permutations of a solution to find the best option. This course provides fundamental information on generative design and manufacturing in engineering. The core techniques from mathematics to artificial intelligence that are commonly used in the creative industry are discussed. The formal paradigms and algorithms used for generation as well as cloud computing are also covered. Lectures: three hours per week.',\n",
       " 'Prerequisite: ENGR 311; AERO 371 or MECH 370. Unified treatment of measurement of physical quantities; static and dynamic characteristics of instruments — calibration, linearity, precision, accuracy, and bias and sensitivity drift; sources of errors; error analysis; experiment planning; data analysis techniques; principles of transducers; signal generation, acquisition and processing; principles and designs of systems for measurement of position, velocity, acceleration, pressure, force, stress, temperature, flow-rate, proximity detection. The course includes demonstration of various instruments. Lectures: three hours per week. Tutorial: one hour per week. Laboratory: two hours per week, alternate weeks.',\n",
       " 'Prerequisite: MECH 215 or MIAE 215. This course focuses on class definitions. The following topics are covered: designing classes and member functions; constructors and destructors; class libraries and their uses; input and output; data abstrac\\xadtion and encapsulation; introduction to software engineering; computer graphics and visualization; numerical methods; advanced mechanical and industrial engineering applications. This course includes a substantial project. Lectures: three hours per week. Tutorial: one hour per week.',\n",
       " 'Prerequisite: ENGR 361; MECH 371. This course is an introduction to fluid power; pneumatic devices; fluidic devices; hydraulic system components; hydraulic and electro-hydraulic systems; dynamic performance of fluid power systems; fluid logic. Lectures: three hours per week. Laboratory: two hours per week, alternate weeks.',\n",
       " 'Prerequisite: ENGR 311; MECH 368. Introduction to the concepts and practices of microcontrollers and their application for the control of electromechanical devices and systems. Study of the internal architecture of microcontrollers; programming in assembly language for specific microcontroller functions and controller algorithms; timing of the microcontroller and interfacing with peripheral devices. Students undertake hands-on project work by controlling the position or speed of a DC motor with a feed-back sensor. Lectures: three hours per week. Laboratory: two hours per week, alternate weeks.',\n",
       " 'Prerequisite: MECH 215 or MIAE 215; MECH 371 previously or concurrently. This course focuses on design and analysis of mechatronic and automation systems. The following topics are covered: selection and integration of actuators, sensors, hardware, and software; computer vision; programming and software design for mechatronic systems; modelling and simulation; design of logic control systems; finite state machine methods; feedback control and trajectory generation; safety logic systems; case studies including automation systems, mobile robots, and unmanned vehicle systems. Lectures: three hours per week. Laboratory: two hours per week, alternate weeks.',\n",
       " 'Prerequisite: ELEC 372 or MECH 371. Analog and digital controller designs. Analog controllers: lead/lag compensators, pole placement, model matching, two-parameter configuration, plant input/output feedback configuration. Digital controllers: difference equations, Z-transform, stability in the Z-domain, digital implementation of analog controllers, equivalent digital plant method, alias signals, selection of sampling time. Introduction to analog/digital state-space: controllability, observability, state feedback, state estimator. PI and PID controllers. Simulink assignments and project. Hardware laboratory project: analog and digital controller design for motor with inertial plus generator load. Lectures: three hours per week. Laboratory: two hours per week, alternate weeks.',\n",
       " 'Prerequisite: ELEC 372 or MECH 371. Introduction to mechatronics; basic elements of mechatronic systems. Measurement systems: including principles of measurement systems; sensors and transducers; signal conditioning processes and circuits; filters and data acquisition. Actuation systems: mechanical actuation systems and electrical actuation systems. Controllers: control modes; PID controller; performance measures; introduction to digital controllers and robust control. Modelling and analysis of mechatronic systems; performance measures; frequency response; transient response analysis; stability analysis. Lectures: three hours per week. Laboratory: three hours per week, alternate weeks.',\n",
       " 'Prerequisite: MECH 351, 352, 361. Heat exchangers. Condensation and boiling heat transfer. Principles of forced convection. Analysis of free convection from a vertical wall. Correlations for free convection in enclosed spaces. Mass transfer. Special topics of heat transfer. Lectures: three hours per week. Laboratory: two hours per week, alternate weeks.',\n",
       " 'Prerequisite: MECH 352. Heating and cooling load calculation. Overview of heating and air conditioning systems. Review: Vapour compression refrigeration cycles, refrigerant properties, psychometrics. Performance characteristic of components: evaporators, condensers, compressors, throttling devices (expansion valves, capillary tubes). System performance characteristics: calculation of system operating conditions based on the capacities of its components and outdoor and indoor conditions. Controls: operational, capacity. Computer-aided design methods. Defrosting. Estimation of energy consumption for heating with heat pumps. Fundamentals of refrigerant piping, water piping, and air distribution systems. Experimental methods for system development. Lectures: three hours per week.',\n",
       " 'Prerequisite: MECH 361. Review of one-dimensional compressible flow. Normal and oblique shock waves; Prandtl-Meyer flow; combined effects in one-dimensional flow; non-ideal gas effects; multi-dimensional flow; linearized flow; method of characteristics. Selected experiments in supersonic flow, convergent-divergent nozzles, hydraulic analog and Fanno tube. Lectures: three hours per week. Laboratory: two hours per week, alternate weeks.',\n",
       " 'Prerequisite: MECH 375. Definition and classification of guided transportation systems. Track characterization: alignment, gage, profile, and cross-level irregularities. Wheel-rail interactions: rolling contact theories, creep forces. Modelling of guided vehicle components: wheel set, suspension, truck and car body configurations, suspension characteristics. Performance evaluation: stability hunting, ride quality. Introduction to ad\\xadvanced vehicles. Lectures: three hours per week.',\n",
       " 'Prerequisite: MECH 343. This course focuses on the fundamentals of vehicle system design. The following topics are covered: mechanics of tires such as rolling resistance, tractive and braking forces, cornering and self-aligning properties, and ride properties; performance characteristics of road vehicles such as transmission design, driving condition diagrams, acceleration, speed and stopping distance, gradability, brake system design, braking performance, braking efficiency, antilock braking system; steering mechanisms such as design and kinematics; handling characteristics of vehicles such as steady-state handling analysis, steady-state and transient responses to steering inputs, transient measurement methods, directional stability; vehicle ride; suspension system design and modelling; ride models; case studies using CarSim. Lectures: three hours per week.',\n",
       " 'Prerequisite: MECH 351, 361. Mechanical design of vehicular engines for different applications. Gas exchange and combustion engine processes. Combustion chambers design. Fuels for vehicular engines. Fuel supply, ignition and control systems. Cooling and lubrication of engines. Emissions formation and control. Engines’ operational characteristics — matching with vehicles. Enhancement of engine performance. Engine testing. Environmental impact of vehicular engines on global pollution. Recent developments in energy efficient and “clean” engines. Design or calculation project of vehicular engine. Lectures: three hours per week.',\n",
       " 'Prerequisite: ENGR 243, 361; MECH 375. This course covers the following topics: aerodynamic loading of elastic airfoils; phenomenon of divergence; effect of flexible control surface on divergence of main structure; divergence of one- and two-dimensional wing models; phenomenon of flutter; flutter of two- and three-dimensional wings; flutter prevention and control; panel\\xa0flutter in high-speed vehicles, flutter of turbomachine bladings, galloping vortex-induced oscillations, bridge buffeting. Lectures: three hours per week.',\n",
       " 'Prerequisite: ENGR 233, 244; AERO 481 or MECH 321. Analysis of stresses, strains and deformations in machine elements; non-symmetric bending of beams; shear centre for thin-walled beams; curved beams; torsion of non-circular shafts and tubes; thick wall cylinders; plates and shells; contact elements; stress concentrations; energy methods; failure modes, analysis and prevention; buckling, fracture, fatigue and creep. Lectures: three hours per week.',\n",
       " 'Prerequisite: ENGR 244, 391. Formulation and application of the finite element method to modelling of engineering problems, including stress analysis, vibrations, and heat transfer. Examples illustrating the direct approach, as well as variational and weighted residual methods. Elements and interpolation functions. Meshing effect. Error analysis. One- and two-dimensional boundary value problems. Development of simple programs and direct experience with general purpose packages currently used in industry for design problems. Lectures: three hours per week. Laboratory: three hours per week, alternate weeks.']"
      ]
     },
     "execution_count": 19,
     "metadata": {},
     "output_type": "execute_result"
    }
   ],
   "source": [
    "course_descs"
   ]
  },
  {
   "cell_type": "code",
   "execution_count": 20,
   "metadata": {},
   "outputs": [],
   "source": [
    "course_descs = [desc.replace(\"\\xad\", \"\").replace(\"\\xa0\", \" \") for desc in course_descs]"
   ]
  },
  {
   "cell_type": "code",
   "execution_count": 21,
   "metadata": {},
   "outputs": [
    {
     "data": {
      "text/plain": [
       "['Prerequisite: ENGR 213 previously or concurrently; PHYS 204; MATH 204. Resultant of force systems; equilibrium of particles and rigid bodies; distributed forces; statically determinate systems; trusses; friction; moments of inertia; virtual work. Shear and bending moment diagrams. Lectures: three hours per week. Tutorial: two hours per week.',\n",
       " 'Prerequisite: ENGR 213, 242. Kinematics of a particle and rigid body; forces and accelerations; work and energy; impulse and momentum; dynamics of a system of particles and rigid bodies, introduction to vibrations. Lectures: three hours per week. Tutorial: two hours per week.',\n",
       " 'Prerequisite: ENGR 213; ENGR 242 or 245; ENGR 233 previously or concurrently. Mechanical behaviour of materials; stress; strain; shear and bending moment diagrams; introduction to inelastic action. Analysis and design of structural and machine elements subjected to axial, torsional, and flexural loadings. Combined stresses and stress transformation. Deflections. Introduction to elastic stability. Lectures: three hours per week. Tutorial: two hours per week. Laboratory: three hours per week, alternate weeks.',\n",
       " 'Prerequisite: MATH 203 (Cegep Mathematics 103). Basic principles of thermodynamics and their application to various systems composed of pure substances and their homogeneous non-reactive mixtures. Simple power production and utilization cycles. Lectures: three hours per week. Tutorial: two hours per week.',\n",
       " 'Prerequisite: ENGR 213, 233. Elements of complex variables. The Laplace transform: Laplace transforms and their properties, solution of linear differential equations with constant coefficients. Further theorems and their applications. The Fourier transform: orthogonal functions, expansion of a function in orthogonal functions, the Fourier series, the Fourier integral, the Fourier transform, the convolution theorem. Partial differential equations: physical foundations of partial differential equations, introduction to boundary value problems. Lectures: three hours per week. Tutorial: two hours per week.',\n",
       " 'Prerequisite: ENGR 213, 233, 251. Basic concepts and principles of fluid mechanics. Classification of fluid flow. Hydrostatic forces on plane and curved surfaces, buoyancy and stability, fluids in rigid body motion. Mass, momentum, and energy conservation integral equations. Bernoulli equation. Basic concepts of pipe and duct flow. Introduction to Navier-Stokes equations. Similarity and model studies. Lectures: three hours per week. Tutorial: one hour per week.',\n",
       " 'Prerequisite: MECH 221 or MIAE 221. This course covers the following topics: the service capabilities of alloys and their relationship to microstructure as produced by thermal and mechanical treatments; tensile and torsion tests; elements of dislocation theory; strengthening mechanisms; composite materials; modes of failure of materials; fracture, fatigue, wear, creep, corrosion, radiation damage; failure analysis; material codes; material selection for design. Lectures: three hours per week. Tutorial: one hour per week. Laboratory: two hours per week, alternate weeks.',\n",
       " 'Prerequisite: ENGR 213, 233, 243. Introduction to mechanisms; position and displacement; velocity; acceleration; synthesis of linkage; robotics; static force analysis; dynamic force analysis; forward kinematics and inverse kinematics; introduction to gear analysis and gear box design; kinematic analysis of spatial mechanisms. Lectures: three hours per week. Tutorial: one hour per week. Laboratory: two hours per week, alternate weeks.',\n",
       " 'Prerequisite: ENGR 244; MECH 313 or MIAE 313; MECH 343 previously or concurrently. This course covers the following topics: introduction to machine design; static failure theories; failure of ductile vs. brittle materials under static loading; fatigue failure theories; fatigue loads; notches and stress concentrations; residual stresses; designing for high cycle fatigue; design of shafts, keys and couplings; design of spur gears; spring design; design of screws and fasteners; design of bearings; case studies. Lectures: three hours per week. Tutorial: two hours per week.',\n",
       " 'Prerequisite: ENGR 251. Brief review of ideal gas processes. Semi-perfect gases and the gas tables. Mixtures of gases, gases and vapours, air conditioning processes. Combustion and combustion equilibrium. Applications of thermodynamics to power production and utilization systems: study of basic and advanced cycles for gas compression, internal combustion engines, power from steam, gas turbine cycles, and refrigeration. Real gases. Lectures: three hours per week. Tutorial: one hour per week. Laboratory: two hours per week, alternate weeks.',\n",
       " 'Prerequisite: ENGR 311, 361. Analytical and numerical methods for steady-state and transient heat conduction. Empirical and practical relations for forced- and free-convection heat transfer. Radiation heat exchange between black bodies, and between non-black bodies. Gas radiation. Solar radiation. Effect of radiation on temperature measurement. Lectures: three hours per week. Tutorial: one hour per week. Laboratory: two hours per week, alternate weeks.',\n",
       " 'Prerequisite: ENGR 361. Differential analysis of fluid flows, vorticity, stream function, stresses, and strains. Navier-Stokes equations and solutions for parallel flows. Euler’s equations, irrotational and potential flows, plane potential flows. Viscous flows in pipes, laminar and turbulent flows, major and minor losses. Flow over immersed bodies, boundary layers, separation and thickness. Drag, lift and applications. Introduction to compressible flows, speed of sound, Mach cone, and some characteristics of supersonic flows. Lectures: three hours per week. Tutorial: one hour per week. Laboratory: two hours per week, alternate weeks.',\n",
       " 'Prerequisite: PHYS 205; ENGR 311 previously or concurrently. Dependent sources, voltage and current dividers, voltage and current sources, superposition, Thevenin and Norton equivalent sources, linear and nonlinear circuit analysis. Semiconductors and diodes. Bipolar Junction Transistors (BJT), Field Effect Transistors (FET); amplifiers and switches. Operational amplifiers; circuits and frequency response. Digital logic components and circuits. Digital systems. Lectures: three hours per week. Tutorial: one hour per week. Laboratory: two hours per week, alternate weeks.',\n",
       " 'Prerequisite: PHYS 205; ENGR 213; ENGR 311 previously or concurrently; ENGR 245 or 243. Definition and classification of dynamic systems and components. Modelling of dynamic systems containing individual or mixed mechanical, electrical, fluid and thermal elements. Block diagrams representation and simulation techniques using MATLAB/Simulink. Time domain analysis. Transient and steady-state characteristics of dynamic systems. Linearization. Transfer functions. Introduction to feedback control systems. Lectures: three hours per week. Tutorial: one hour per week. Laboratory: two hours per week, alternate weeks.',\n",
       " 'Prerequisite: ENGR 311; MECH 370. Stability of linear feedback systems. Root-Locus method. Frequency response concepts. Stability in the frequency domain. Feedback system design using Root Locus techniques. Compensator concepts and configurations. PID-controller design. Simulation and computer-aided controller design using Matlab/Simulink. Lectures: three hours per week. Tutorial: one hour per week. Laboratory: three hours per week, alternate weeks.',\n",
       " 'Prerequisite: AERO 371 or MECH 370. Transient vibrations under impulsive shock and arbitrary excitation: normal modes, free and forced vibration. Multi-degree of freedom systems, influence coefficients, orthogonality principle, numerical methods. Continuous systems; longitudinal torsional and flexural free and forced vibrations of prismatic bars. Lagrange’s equations. Vibration measure-',\n",
       " 'Prerequisite: ENCS 282; MECH 311 or MIAE 311; MECH 343; MIAE 380; MECH 344 previously or concurrently. This course covers the following topics: the design process; product cost, quality and time to market, open and concept design problems, problem description; geometric and type synthesis; direct and inverse design problems; material selection and load determination; mathematical modelling, analysis, and validation; introduction to Computer-Aided Design and Engineering (CAD and CAE); product evaluation for performance, tolerance, cost, manufacture, assembly, and other measures; design documentation. A team-based design project is an intrinsic part of this course. Lectures: three hours per week. Tutorial: one hour per week. Laboratory: one hour per week.',\n",
       " 'Prerequisite: 75 credits in the program; ENGR 301; MECH 344, 390. This course includes a supervised design, simulation or experimental capstone design project including a preliminary project proposal with complete project plan and a technical report at the end of the fall term; a final report by the group and presentation at the end of the winter term. Lectures: one hour per week, one term. Equivalent laboratory time: three hours per week, two terms.',\n",
       " 'This course is an introduction to graphic language and design — means and techniques. The following topics are covered: the third and the first angle projections; orthographic projection of points, lines, planes and solids; principal and auxiliary views; views in a given direction; sectional views; intersection of lines, planes and solids; development of surfaces; drafting practices; dimensioning, fits and tolerancing; computer-aided drawing and solid modelling; working drawings — detail and assembly drawing; design practice; machine elements representation. Lectures: three hours per week. Tutorial: two hours per week — includes learning of a CAD software. Laboratory: two hours per week, alternate weeks.',\n",
       " 'Prerequisite: MATH 204 (Cegep mathematics 105). This course focuses on writing programs using assignment and sequences; variables and types; operators and expressions; conditional and repetitive statements; input and output; file access; functions; program structure and organization; pointers and dynamic memory allocation; introduction to classes and objects; mechanical and industrial engineering applications. Lectures: three hours per week. Tutorial: one hour per week. Laboratory: one hour per week.',\n",
       " 'Prerequisite: CHEM 205 (Cegep Chemistry 101). This course focuses on relationships between properties and internal structure, atomic bonding; molecular, crystalline and amorphous structures, crystalline imperfections and mechanisms of structural change; microstructures and their development from phase diagrams; structures and mechanical properties of polymers and ceramics; thermal, optical, and magnetic properties of materials. Lectures: three hours per week. Tutorial: one hour per week.',\n",
       " 'Prerequisite: MECH 313 or MIAE 313. This course focuses on the fundamentals of manufacturing processes and their limitations, metrology, machine shop practice, safety and health considerations, forming, conventional machining and casting processes, welding and joining, plastic production, and non-conventional machining techniques; sustainable technologies. Laboratory includes instruction and practice on conventional machine tools and a manufacturing project. Lectures: three hours per week. Tutorial: two hours per week, including industrial visits and field trips to local industries.',\n",
       " 'Prerequisite: MIAE 311 previously or concurrently. This laboratory includes instruction and practice on conventional and advanced machine tools and a manufacturing project. Laboratory: equivalent to four hours per week, alternate weeks.',\n",
       " 'Prerequisite: MECH 211 or MIAE 211. This course is an introduction to engineering design and design process. The following topics are covered: problem definition, solution formulation, model development and collaboration aspects of design process; the use of drawings and other graphical methods in the process of engineering design; industrial standards and specifications, design of fits, linear and geometrical tolerances. Design projects based on design philosophies will involve design and selection of many standard machine components like mechanical drives, cams, clutches, couplings, brakes, seals, fasteners, springs, and bearings. Drawing representation of standard components is also covered. Design projects are an integral part of this course. Lectures: three hours per week. Tutorial: two hours per week. Laboratory: 12 hours total.',\n",
       " 'Prerequisite: MECH 211 or MIAE 211. This course focuses on development processes and organizations, product planning, identifying customer needs, product specifications, concept generation, concept selection, concept testing, product architecture, industrial design, design for manufacturing, prototyping robust design, patents and intellectual property. Lectures: three hours per week.',\n",
       " 'Prerequisite: ENGR 201. Overview of DoT and other international aviation standards (e.g. FAA), regulations and certification procedures; regulatory areas, namely, pilot training/testing, air traffic procedures, aircraft systems design and airworthiness; development process for new regulations and criteria for certification. Lectures: three hours per week.',\n",
       " 'Prerequisite: MECH 361. Introduction to fixed-wing aircraft operation. Flying environment and its measurement by aircraft instrumentation. Computation of lift and drag, effects of viscosity and compressibility. Review of piston, turboprop, turbojet and turbofan power plants. Operational performance of aircraft in climb, cruise, descent and on ground. Advanced aircraft systems. Operational considerations in aircraft design. Projects on selected topics. Lectures: three hours per week. Tutorial: one hour per week.',\n",
       " 'Prerequisite: ENGR 311, 391; MECH 361. Introduction to computational methods in fluid dynamics using commercial CFD codes; aspects of geometry modelling, structured and unstructured grid generation, solution strategy, and post-processing; conversion of CAD to CFD models; an overview of basic numerical methods for the Navier-Stokes equations with emphasis on accuracy evaluation and efficiency. Elements of turbulence closure modelling. User-defined function for customized physical models into commercial CFD codes. Lectures: three hours per week. Laboratory: three hours per week, alternate weeks.',\n",
       " 'Prerequisite: MECH 351, 361. Aircraft design process, preliminary sizing and thrust requirements. Rotary and fixed wing aerodynamics and stability. Helicopter configurations. Structure and fatigue design considerations. Review of the gas turbine cycle and components arrangement. Turbo-propulsion: turboprop, turbofan, turbojet and turboshafts. Energy transfer in turbomachines: Euler equation, velocity triangles. Dimensional analysis of turbomachines. Flow in turbomachines. Three-dimensional flow in turbomachines. Mechanisms of losses in turbomachines. Axial-flow turbines and compressors. Centrifugal compressors. Compressor and turbine performance maps; surge and stall. Lectures: three hours per week. Tutorial: one hour per week.',\n",
       " 'Prerequisite: MECH 361. Flow conservation equations, incompressible Navier-Stokes equations, inviscid irrotational and rotational flows: the Euler equations, the potential and stream function equations. Dynamics of an incompressible inviscid flow field: the Kelvin, Stokes, and Helmholtz theorems. Elementary flows and their superposition, panel method for non-lifting bodies. Airfoil and wing characteristics, aerodynamic forces and moments coefficients. Incompressible flows around thin airfoils, Biot-Savart law, vortex sheets. Incompressible flow around thick airfoils, the panel method for lifting bodies. Incompressible flow around wings, Prandtl’s lifting line theory, induced angle and down-wash, unswept wings, swept wings. Compressible subsonic flow: linearized theory, Prandlt-Glauert equation and other compressibility correction rules, the area rule. Transonic flow: Von Karman’s ransonic small disturbance equation, transonic full potential equation, super-critical airfoils. Lectures: three hours per week. Tutorial: one hour per week.',\n",
       " 'Prerequisite: AERO 462. Review of turbo-propulsion types and energy transfer in turbomachines. Two- and three-dimensional flow. Lift and drag for airfoils. Cascade tests and correlations. Aerodynamic losses: physics, mechanisms, control of viscous effects. Preliminary and detailed design of turbines and compressors. Structural and thermal design requirements. Failure considerations: creep, fatigue and corrosion. Performance matching. Combustion and gearbox design. Air and oil systems design requirements. Installations and acoustics. Evolution of design. Recent trends in technologies. Lectures: three hours per week. Laboratory: two hours per week, alternate weeks.',\n",
       " 'Prerequisite: AERO 371 or ELEC 372 or MECH 371 or SOEN 385. Basic flight control and flight dynamics principles. Aircraft dynamic equations and performance data. Implementation of aircraft control: control surfaces and their operations, development of thrust and its control; autopilot systems, their algorithms, dynamics and interaction problems. Flight instruments, principles of operation and dynamics. Cockpit layouts — basic configuration, ergonomic design, control field forces; advanced concepts in instruments, avionics and displays; HUD; flight management systems, and communication equipment. Introduction to flight simulation: overview of visual, audio and motion simulator systems; advanced concepts in flight simulators. Lectures: three hours per week. Laboratory: two hours per week, alternate weeks.',\n",
       " 'Prerequisite: ENGR 371 or COMP 233; AERO 371 or ELEC 372 or MECH 370 or SOEN 385. Basics of modern electronic navigation systems, history of air navigation, earth coordinate and mapping systems; basic theory and analysis of modern electronic navigation instrumentation, communication and radar systems, approach aids, airborne systems, transmitters and antenna coverage; noise and losses, target detection, digital processing, display systems and technology; demonstration of avionic systems using flight simulator. Lectures: three hours per week.',\n",
       " 'Prerequisite: MECH 351, 361. Classification of space propulsion systems; Tsiolkovskj’s equation; ideal rocket and nozzle design; flight performance; basic orbital mechanics; chemical propellant rocket performance analysis; fundamentals of liquid and solid propellant rocket motors; electric, solar, fusion thruster. Lectures: three hours per week.',\n",
       " 'Prerequisite: ENGR 243, 244. Definition of load paths in typical aircraft structures. Derivation of analysis procedures to enable the designer to size preliminary designs. Internal shear flow distributions that balance external loads. Stress analysis of open and closed cell beams; statically indeterminate beams and frames; single and multi cell torque boxes; symmetric heavy fuselage frames. Structural instability of columns, beams, plates and flanges in compression and shear. Centres of twist and flexure; structural warping; margins of safety; concepts of optimum design; lug analysis and mechanical joints; matrix analysis methods leading to the Finite Element method. Stress analysis of thin-walled metallic structures. Lectures: three hours per week.',\n",
       " 'Prerequisite: AERO 486. Design process for aircraft structures. Aero/performance aspects of aircraft structures. Airworthiness and design considerations. Materials. Static, vibratory and aeroelastic loadings. Propulsion-induced loadings. Functions and fabrication of structural components. Design for buckling of aircraft structures: local buckling, instability of stiffened panels, flexural torsional buckling. Design for fracture and fatigue failures. Stress analysis and design of wings, fuselages, stringers, fuselage frames, wing ribs, cut-outs in wings and fuselages, and laminated structures. Design using Finite Element Method. Concept of Optimum Design of Aircraft Structures. Design case studies. Lectures: three hours per week.',\n",
       " 'Prerequisite: ENCS 282; permission of the Department. Students must submit a report on a topic related to the students’ discipline and approved by the Department. The report must present a review of a current engineering problem, a proposal for a design project, or a current engineering practice.',\n",
       " 'Prerequisite: ENCS 282; minimum 75 credits in the BEng program with a cumulative GPA of 3.00 or better; permission of the Department. Students work on a research project in their area of concentration, selected in consultation with and conducted under the supervision of a faculty member of the Department. The student’s work must culminate in a final report, as well as an oral presentation. Students planning to register for this course should consult with the Department prior to term of planned registration. Intended for students with potential interest in graduate programs.',\n",
       " 'Prerequisite: Permission of the Department Chair. This course may be offered in a given year upon the authorization of the Mechanical, Industrial and Aerospace Engineering Department. The course content may vary from offering to offering and will be chosen to complement the elective courses available in a given option or options. Lectures: three hours per week.',\n",
       " 'Prerequisite: ENGR 371. Importance of quality; total quality management; statistical concepts relevant to process control; control charts for variables and attributes; sampling plans. Introduction to reliability models and acceptance testing; issues of standardization. Lectures: three hours per week.',\n",
       " 'Prerequisite: MECH 311 or MIAE 311. This course focuses on the following topics: engineering design for the control of workplace hazards; occupational injuries and diseases; codes and standards; Workplace Hazardous Materials Information Systems (WHMIS); hazard evaluation and control; design criteria; risk assessment; safety in the manufacturing environment; applications in ventilation, air cleaning, noise and vibration. Lectures: three hours per week.',\n",
       " 'Prerequisite: MECH 311 or MIAE 311. This course focuses on concepts and benefits of computer integrated manufacturing (CIM); design for manufacturing; computer-aided design, process planning, manufacturing (computer numerical control parts programming), and inspection; robots in CIM; production planning and scheduling in CIM; system integration. Lectures: three hours per week. Laboratory: two hours per week, alternate weeks.',\n",
       " 'Prerequisite: MECH 313 or MIAE 313. This course is an introduction to computational tools in the design process. The following topics are covered: introduction to the fundamental approaches to computer-aided geometric modelling, physical modelling and engineering simulations; establishing functions and functional specifications with emphasis on geometric tolerancing and dimensioning, manufacturing and assembly evaluation. Lectures: three hours per week. Laboratory: two hours per week, alternate weeks.',\n",
       " 'Prerequisite: MECH 311 or MIAE 311; MECH 412. This course focuses on computer-aided design and manufacturing (CAD/CAM) hardware and software. The following topics are covered: essentials of Computer Numerical Control (CNC) machine tools and systems; process planning and tooling systems for CNC machining, theory of CNC programming of sculptured parts; multi-axis CNC tool path generation; project using CAD/CAM software; CATIA for complex mechanical parts design and a CNC machine tool to manufacture parts. Lectures: three hours per week. Laboratory: two hours per week, alternate weeks.',\n",
       " 'Prerequisite: MECH 221 or MIAE 221. This course focuses on metal forming: extrusion, forging, rolling, drawing, pressing, compacting; shear line theory, sheet forming limits; metal cutting, machinability, tooling; plastics shaping: extrusion, moulding, vacuum forming; consideration of the mechanical parameters critical for process control and computer applications; interaction of materials characteristics with processing to define product properties (cold working, annealing, hot working, super plasticity, thermomechanical treatment); energy conservation, safety, product quality, and liability. Lectures: three hours per week. Laboratory: two hours per week, alternate weeks.',\n",
       " 'Prerequisite: ENGR 233, 244; MECH 221 or MIAE 221. This course focuses on general applications of polymer composite materials in aircraft, aerospace, automobile, marine, recreational, and chemical processing industries. The following topics are covered: mechanics of a unidirectional lamina; transformation of stress, strain, modulus, and compliance; off-axis engineering constants, shear and normal coupling coefficients; in-plane and flexural stiffness and compliance with different laminates, including cross-ply, angle-ply, quasiisotropic, and general bidirectional laminates; hygrothermal effects; strength of laminates and failure criteria; micromechanics. Lectures: three hours per week.',\n",
       " 'Prerequisite: MECH 221 or MIAE 221. This course focuses on comparative analysis of the various techniques of casting, welding, powder fabrication, finishing, and non-destructive testing. The following topics are covered: consideration of the control parameters that are essential to define both automation and robot application; materials behaviour which determines product micro-structure and properties; technology and theory of solidification, normalizing, quenching, surface hardening, tempering, aging, and thermomechanical processing for steels, cast irons and Al, Cu, Ni and Ti alloys; energy conservation, worker safety, quality control, and product liability. Lectures: three hours per week. Laboratory: two hours per week, alternate weeks.',\n",
       " 'Prerequisite: MECH 311 or MIAE 311; MECH 343. This course is an introduction to microsystems and devices; mechanical properties of materials used in microsystems; microfabrication and post-processing techniques; sacrificial and structural layers; lithography, deposition and etching; introduction and design of different types of sensors and actuators; micromotors and other microdevices; mechanical design, finite element modelling; design and fabrication of free-standing structures; microbearings; special techniques: double-sided lithography, electrochemical milling, laser machining, LIGA, influence of IC fabrication methods on mechanical properties; application examples in biomedical, industrial, and space technology areas; integration, bonding and packaging of MEMS devices. Lectures: three hours per week. Laboratory: two hours per week, alternate weeks.',\n",
       " 'Prerequisite: MECH 311 or MIAE 311. This course focuses on fibres and resins. The following topics are covered: hand lay up; autoclave curing; compression molding; filament winding; resin transfer molding; braiding. Injection molding; cutting; joining; thermoset and thermoplastic composites; Polymer Nanocomposites; process modelling and computer simulation; non-destructive evaluation techniques. Lectures: three hours per week. Laboratory: two hours per week, alternate weeks.',\n",
       " 'Prerequisite: MECH 343, 361; MECH 344, 371 previously or concurrently. This course is designed to cover the theoretical and practical areas pertinent to the operation of wind turbines. The following topics are covered: energy in the wind; aerodynamic drag and lift of turbine blades; horizontal axis and vertical axis wind turbine designs; generators; control systems; mechanical load analysis such as blade, tower, generator and gearbox; blade and tower design; turbine braking; economical, environmental and safety aspects.',\n",
       " 'Prerequisite: MECH 313 or MIAE 313; AERO 390 or MECH 390 previously or concurrently. Generative design is a form-finding process that can mimic nature’s evolutionary approach to design. It can start with design goals and then explore innumerable possible permutations of a solution to find the best option. This course provides fundamental information on generative design and manufacturing in engineering. The core techniques from mathematics to artificial intelligence that are commonly used in the creative industry are discussed. The formal paradigms and algorithms used for generation as well as cloud computing are also covered. Lectures: three hours per week.',\n",
       " 'Prerequisite: ENGR 311; AERO 371 or MECH 370. Unified treatment of measurement of physical quantities; static and dynamic characteristics of instruments — calibration, linearity, precision, accuracy, and bias and sensitivity drift; sources of errors; error analysis; experiment planning; data analysis techniques; principles of transducers; signal generation, acquisition and processing; principles and designs of systems for measurement of position, velocity, acceleration, pressure, force, stress, temperature, flow-rate, proximity detection. The course includes demonstration of various instruments. Lectures: three hours per week. Tutorial: one hour per week. Laboratory: two hours per week, alternate weeks.',\n",
       " 'Prerequisite: MECH 215 or MIAE 215. This course focuses on class definitions. The following topics are covered: designing classes and member functions; constructors and destructors; class libraries and their uses; input and output; data abstraction and encapsulation; introduction to software engineering; computer graphics and visualization; numerical methods; advanced mechanical and industrial engineering applications. This course includes a substantial project. Lectures: three hours per week. Tutorial: one hour per week.',\n",
       " 'Prerequisite: ENGR 361; MECH 371. This course is an introduction to fluid power; pneumatic devices; fluidic devices; hydraulic system components; hydraulic and electro-hydraulic systems; dynamic performance of fluid power systems; fluid logic. Lectures: three hours per week. Laboratory: two hours per week, alternate weeks.',\n",
       " 'Prerequisite: ENGR 311; MECH 368. Introduction to the concepts and practices of microcontrollers and their application for the control of electromechanical devices and systems. Study of the internal architecture of microcontrollers; programming in assembly language for specific microcontroller functions and controller algorithms; timing of the microcontroller and interfacing with peripheral devices. Students undertake hands-on project work by controlling the position or speed of a DC motor with a feed-back sensor. Lectures: three hours per week. Laboratory: two hours per week, alternate weeks.',\n",
       " 'Prerequisite: MECH 215 or MIAE 215; MECH 371 previously or concurrently. This course focuses on design and analysis of mechatronic and automation systems. The following topics are covered: selection and integration of actuators, sensors, hardware, and software; computer vision; programming and software design for mechatronic systems; modelling and simulation; design of logic control systems; finite state machine methods; feedback control and trajectory generation; safety logic systems; case studies including automation systems, mobile robots, and unmanned vehicle systems. Lectures: three hours per week. Laboratory: two hours per week, alternate weeks.',\n",
       " 'Prerequisite: ELEC 372 or MECH 371. Analog and digital controller designs. Analog controllers: lead/lag compensators, pole placement, model matching, two-parameter configuration, plant input/output feedback configuration. Digital controllers: difference equations, Z-transform, stability in the Z-domain, digital implementation of analog controllers, equivalent digital plant method, alias signals, selection of sampling time. Introduction to analog/digital state-space: controllability, observability, state feedback, state estimator. PI and PID controllers. Simulink assignments and project. Hardware laboratory project: analog and digital controller design for motor with inertial plus generator load. Lectures: three hours per week. Laboratory: two hours per week, alternate weeks.',\n",
       " 'Prerequisite: ELEC 372 or MECH 371. Introduction to mechatronics; basic elements of mechatronic systems. Measurement systems: including principles of measurement systems; sensors and transducers; signal conditioning processes and circuits; filters and data acquisition. Actuation systems: mechanical actuation systems and electrical actuation systems. Controllers: control modes; PID controller; performance measures; introduction to digital controllers and robust control. Modelling and analysis of mechatronic systems; performance measures; frequency response; transient response analysis; stability analysis. Lectures: three hours per week. Laboratory: three hours per week, alternate weeks.',\n",
       " 'Prerequisite: MECH 351, 352, 361. Heat exchangers. Condensation and boiling heat transfer. Principles of forced convection. Analysis of free convection from a vertical wall. Correlations for free convection in enclosed spaces. Mass transfer. Special topics of heat transfer. Lectures: three hours per week. Laboratory: two hours per week, alternate weeks.',\n",
       " 'Prerequisite: MECH 352. Heating and cooling load calculation. Overview of heating and air conditioning systems. Review: Vapour compression refrigeration cycles, refrigerant properties, psychometrics. Performance characteristic of components: evaporators, condensers, compressors, throttling devices (expansion valves, capillary tubes). System performance characteristics: calculation of system operating conditions based on the capacities of its components and outdoor and indoor conditions. Controls: operational, capacity. Computer-aided design methods. Defrosting. Estimation of energy consumption for heating with heat pumps. Fundamentals of refrigerant piping, water piping, and air distribution systems. Experimental methods for system development. Lectures: three hours per week.',\n",
       " 'Prerequisite: MECH 361. Review of one-dimensional compressible flow. Normal and oblique shock waves; Prandtl-Meyer flow; combined effects in one-dimensional flow; non-ideal gas effects; multi-dimensional flow; linearized flow; method of characteristics. Selected experiments in supersonic flow, convergent-divergent nozzles, hydraulic analog and Fanno tube. Lectures: three hours per week. Laboratory: two hours per week, alternate weeks.',\n",
       " 'Prerequisite: MECH 375. Definition and classification of guided transportation systems. Track characterization: alignment, gage, profile, and cross-level irregularities. Wheel-rail interactions: rolling contact theories, creep forces. Modelling of guided vehicle components: wheel set, suspension, truck and car body configurations, suspension characteristics. Performance evaluation: stability hunting, ride quality. Introduction to advanced vehicles. Lectures: three hours per week.',\n",
       " 'Prerequisite: MECH 343. This course focuses on the fundamentals of vehicle system design. The following topics are covered: mechanics of tires such as rolling resistance, tractive and braking forces, cornering and self-aligning properties, and ride properties; performance characteristics of road vehicles such as transmission design, driving condition diagrams, acceleration, speed and stopping distance, gradability, brake system design, braking performance, braking efficiency, antilock braking system; steering mechanisms such as design and kinematics; handling characteristics of vehicles such as steady-state handling analysis, steady-state and transient responses to steering inputs, transient measurement methods, directional stability; vehicle ride; suspension system design and modelling; ride models; case studies using CarSim. Lectures: three hours per week.',\n",
       " 'Prerequisite: MECH 351, 361. Mechanical design of vehicular engines for different applications. Gas exchange and combustion engine processes. Combustion chambers design. Fuels for vehicular engines. Fuel supply, ignition and control systems. Cooling and lubrication of engines. Emissions formation and control. Engines’ operational characteristics — matching with vehicles. Enhancement of engine performance. Engine testing. Environmental impact of vehicular engines on global pollution. Recent developments in energy efficient and “clean” engines. Design or calculation project of vehicular engine. Lectures: three hours per week.',\n",
       " 'Prerequisite: ENGR 243, 361; MECH 375. This course covers the following topics: aerodynamic loading of elastic airfoils; phenomenon of divergence; effect of flexible control surface on divergence of main structure; divergence of one- and two-dimensional wing models; phenomenon of flutter; flutter of two- and three-dimensional wings; flutter prevention and control; panel flutter in high-speed vehicles, flutter of turbomachine bladings, galloping vortex-induced oscillations, bridge buffeting. Lectures: three hours per week.',\n",
       " 'Prerequisite: ENGR 233, 244; AERO 481 or MECH 321. Analysis of stresses, strains and deformations in machine elements; non-symmetric bending of beams; shear centre for thin-walled beams; curved beams; torsion of non-circular shafts and tubes; thick wall cylinders; plates and shells; contact elements; stress concentrations; energy methods; failure modes, analysis and prevention; buckling, fracture, fatigue and creep. Lectures: three hours per week.',\n",
       " 'Prerequisite: ENGR 244, 391. Formulation and application of the finite element method to modelling of engineering problems, including stress analysis, vibrations, and heat transfer. Examples illustrating the direct approach, as well as variational and weighted residual methods. Elements and interpolation functions. Meshing effect. Error analysis. One- and two-dimensional boundary value problems. Development of simple programs and direct experience with general purpose packages currently used in industry for design problems. Lectures: three hours per week. Laboratory: three hours per week, alternate weeks.']"
      ]
     },
     "execution_count": 21,
     "metadata": {},
     "output_type": "execute_result"
    }
   ],
   "source": [
    "course_descs"
   ]
  },
  {
   "cell_type": "code",
   "execution_count": 22,
   "metadata": {},
   "outputs": [
    {
     "data": {
      "text/html": [
       "<div>\n",
       "<style scoped>\n",
       "    .dataframe tbody tr th:only-of-type {\n",
       "        vertical-align: middle;\n",
       "    }\n",
       "\n",
       "    .dataframe tbody tr th {\n",
       "        vertical-align: top;\n",
       "    }\n",
       "\n",
       "    .dataframe thead th {\n",
       "        text-align: right;\n",
       "    }\n",
       "</style>\n",
       "<table border=\"1\" class=\"dataframe\">\n",
       "  <thead>\n",
       "    <tr style=\"text-align: right;\">\n",
       "      <th></th>\n",
       "      <th>Course Number</th>\n",
       "      <th>Course Name</th>\n",
       "      <th>Course Description</th>\n",
       "    </tr>\n",
       "  </thead>\n",
       "  <tbody>\n",
       "    <tr>\n",
       "      <th>0</th>\n",
       "      <td>ENGR 242</td>\n",
       "      <td>Statics</td>\n",
       "      <td>Prerequisite: ENGR 213 previously or concurren...</td>\n",
       "    </tr>\n",
       "    <tr>\n",
       "      <th>1</th>\n",
       "      <td>ENGR 243</td>\n",
       "      <td>Dynamics</td>\n",
       "      <td>Prerequisite: ENGR 213, 242. Kinematics of a p...</td>\n",
       "    </tr>\n",
       "    <tr>\n",
       "      <th>2</th>\n",
       "      <td>ENGR 244</td>\n",
       "      <td>Mechanics of Materials</td>\n",
       "      <td>Prerequisite: ENGR 213; ENGR 242 or 245; ENGR ...</td>\n",
       "    </tr>\n",
       "    <tr>\n",
       "      <th>3</th>\n",
       "      <td>ENGR 251</td>\n",
       "      <td>Thermodynamics I</td>\n",
       "      <td>Prerequisite: MATH 203 (Cegep Mathematics 103)...</td>\n",
       "    </tr>\n",
       "    <tr>\n",
       "      <th>4</th>\n",
       "      <td>ENGR 311</td>\n",
       "      <td>Transform Calculus and Partial Differential Eq...</td>\n",
       "      <td>Prerequisite: ENGR 213, 233. Elements of compl...</td>\n",
       "    </tr>\n",
       "    <tr>\n",
       "      <th>...</th>\n",
       "      <td>...</td>\n",
       "      <td>...</td>\n",
       "      <td>...</td>\n",
       "    </tr>\n",
       "    <tr>\n",
       "      <th>62</th>\n",
       "      <td>MECH 447</td>\n",
       "      <td>Fundamentals of Vehicle System Design</td>\n",
       "      <td>Prerequisite: MECH 343. This course focuses on...</td>\n",
       "    </tr>\n",
       "    <tr>\n",
       "      <th>63</th>\n",
       "      <td>MECH 454</td>\n",
       "      <td>Vehicular Internal Combustion Engines</td>\n",
       "      <td>Prerequisite: MECH 351, 361. Mechanical design...</td>\n",
       "    </tr>\n",
       "    <tr>\n",
       "      <th>64</th>\n",
       "      <td>AERO 431</td>\n",
       "      <td>Principles of Aeroelasticity</td>\n",
       "      <td>Prerequisite: ENGR 243, 361; MECH 375. This co...</td>\n",
       "    </tr>\n",
       "    <tr>\n",
       "      <th>65</th>\n",
       "      <td>MECH 426</td>\n",
       "      <td>Stress and Failure Analysis of Machinery</td>\n",
       "      <td>Prerequisite: ENGR 233, 244; AERO 481 or MECH ...</td>\n",
       "    </tr>\n",
       "    <tr>\n",
       "      <th>66</th>\n",
       "      <td>MECH 460</td>\n",
       "      <td>Finite Element Analysis</td>\n",
       "      <td>Prerequisite: ENGR 244, 391. Formulation and a...</td>\n",
       "    </tr>\n",
       "  </tbody>\n",
       "</table>\n",
       "<p>67 rows × 3 columns</p>\n",
       "</div>"
      ],
      "text/plain": [
       "   Course Number                                        Course Name  \\\n",
       "0       ENGR 242                                            Statics   \n",
       "1       ENGR 243                                           Dynamics   \n",
       "2       ENGR 244                             Mechanics of Materials   \n",
       "3       ENGR 251                                   Thermodynamics I   \n",
       "4       ENGR 311  Transform Calculus and Partial Differential Eq...   \n",
       "..           ...                                                ...   \n",
       "62      MECH 447              Fundamentals of Vehicle System Design   \n",
       "63      MECH 454              Vehicular Internal Combustion Engines   \n",
       "64      AERO 431                       Principles of Aeroelasticity   \n",
       "65      MECH 426           Stress and Failure Analysis of Machinery   \n",
       "66      MECH 460                            Finite Element Analysis   \n",
       "\n",
       "                                   Course Description  \n",
       "0   Prerequisite: ENGR 213 previously or concurren...  \n",
       "1   Prerequisite: ENGR 213, 242. Kinematics of a p...  \n",
       "2   Prerequisite: ENGR 213; ENGR 242 or 245; ENGR ...  \n",
       "3   Prerequisite: MATH 203 (Cegep Mathematics 103)...  \n",
       "4   Prerequisite: ENGR 213, 233. Elements of compl...  \n",
       "..                                                ...  \n",
       "62  Prerequisite: MECH 343. This course focuses on...  \n",
       "63  Prerequisite: MECH 351, 361. Mechanical design...  \n",
       "64  Prerequisite: ENGR 243, 361; MECH 375. This co...  \n",
       "65  Prerequisite: ENGR 233, 244; AERO 481 or MECH ...  \n",
       "66  Prerequisite: ENGR 244, 391. Formulation and a...  \n",
       "\n",
       "[67 rows x 3 columns]"
      ]
     },
     "execution_count": 22,
     "metadata": {},
     "output_type": "execute_result"
    }
   ],
   "source": [
    "import pandas as pd\n",
    "\n",
    "df = pd.DataFrame({\n",
    "    \n",
    "    \"Course Number\": course_codes,\n",
    "    \"Course Name\": course_names,\n",
    "    \"Course Description\": course_descs    \n",
    "    \n",
    "})\n",
    "\n",
    "df"
   ]
  },
  {
   "cell_type": "code",
   "execution_count": 23,
   "metadata": {},
   "outputs": [],
   "source": [
    "df.to_csv('Concordia_MechEng_Core_and_Electives_Courses.csv', index = False)"
   ]
  }
 ],
 "metadata": {
  "kernelspec": {
   "display_name": "Python 3",
   "language": "python",
   "name": "python3"
  },
  "language_info": {
   "codemirror_mode": {
    "name": "ipython",
    "version": 3
   },
   "file_extension": ".py",
   "mimetype": "text/x-python",
   "name": "python",
   "nbconvert_exporter": "python",
   "pygments_lexer": "ipython3",
   "version": "3.8.5"
  }
 },
 "nbformat": 4,
 "nbformat_minor": 4
}
