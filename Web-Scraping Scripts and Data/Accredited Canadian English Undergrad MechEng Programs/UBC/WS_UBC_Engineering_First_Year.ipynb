{
 "cells": [
  {
   "cell_type": "code",
   "execution_count": 1,
   "metadata": {},
   "outputs": [],
   "source": [
    "from bs4 import BeautifulSoup as soup\n",
    "from urllib.request import urlopen as ureq\n",
    "import time\n",
    "import re"
   ]
  },
  {
   "cell_type": "code",
   "execution_count": 2,
   "metadata": {},
   "outputs": [],
   "source": [
    "url = \"http://www.calendar.ubc.ca/vancouver/index.cfm?tree=12,195,272,33\""
   ]
  },
  {
   "cell_type": "markdown",
   "metadata": {},
   "source": [
    "# 1. Collect course codes to be used to search for course names and descriptions"
   ]
  },
  {
   "cell_type": "code",
   "execution_count": 3,
   "metadata": {},
   "outputs": [],
   "source": [
    "uClient = ureq(url)\n",
    "page_html = uClient.read()\n",
    "uClient.close()\n",
    "page_soup = soup(page_html, \"html.parser\")"
   ]
  },
  {
   "cell_type": "code",
   "execution_count": 4,
   "metadata": {},
   "outputs": [
    {
     "data": {
      "text/plain": [
       "32"
      ]
     },
     "execution_count": 4,
     "metadata": {},
     "output_type": "execute_result"
    }
   ],
   "source": [
    "table = page_soup.find(\"table\")\n",
    "containers = table.findAll(\"td\")\n",
    "len(containers)"
   ]
  },
  {
   "cell_type": "code",
   "execution_count": 5,
   "metadata": {},
   "outputs": [
    {
     "data": {
      "text/plain": [
       "['APSC 100',\n",
       " 'APSC 1011',\n",
       " 'APSC 160',\n",
       " 'CHEM 1541',\n",
       " 'WRDS 1502',\n",
       " 'MATH 100',\n",
       " 'MATH 101',\n",
       " 'MATH 152',\n",
       " 'PHYS 157',\n",
       " 'PHYS 158',\n",
       " 'PHYS 159',\n",
       " 'PHYS 170']"
      ]
     },
     "execution_count": 5,
     "metadata": {},
     "output_type": "execute_result"
    }
   ],
   "source": [
    "course_codes = [container.text.strip() for container in containers if bool(re.match(\"[A-Z]{4} [0-9]{3}\", container.text.strip()))]\n",
    "course_codes"
   ]
  },
  {
   "cell_type": "code",
   "execution_count": 8,
   "metadata": {},
   "outputs": [
    {
     "data": {
      "text/plain": [
       "12"
      ]
     },
     "execution_count": 8,
     "metadata": {},
     "output_type": "execute_result"
    }
   ],
   "source": [
    "len(course_codes)"
   ]
  },
  {
   "cell_type": "code",
   "execution_count": 7,
   "metadata": {},
   "outputs": [
    {
     "data": {
      "text/plain": [
       "['APSC 100',\n",
       " 'APSC 101',\n",
       " 'APSC 160',\n",
       " 'CHEM 154',\n",
       " 'WRDS 150',\n",
       " 'MATH 100',\n",
       " 'MATH 101',\n",
       " 'MATH 152',\n",
       " 'PHYS 157',\n",
       " 'PHYS 158',\n",
       " 'PHYS 159',\n",
       " 'PHYS 170']"
      ]
     },
     "execution_count": 7,
     "metadata": {},
     "output_type": "execute_result"
    }
   ],
   "source": [
    "course_codes = [course_code[:-1] if len(course_code) > 8 else course_code for course_code in course_codes]\n",
    "course_codes"
   ]
  },
  {
   "cell_type": "markdown",
   "metadata": {},
   "source": [
    "# 2. Use the course codes to find and scrape corresponding course names and descriptions"
   ]
  },
  {
   "cell_type": "code",
   "execution_count": 9,
   "metadata": {},
   "outputs": [],
   "source": [
    "subject_links = {\n",
    "    \"MECH\": \"http://www.calendar.ubc.ca/vancouver/courses.cfm?page=code&institution=2&code=MECH\",\n",
    "    \"MATH\": \"http://www.calendar.ubc.ca/vancouver/courses.cfm?page=code&institution=12&code=MATH\",\n",
    "    \"PHYS\": \"http://www.calendar.ubc.ca/vancouver/courses.cfm?page=code&institution=12&code=PHYS\",\n",
    "    \"APSC\": \"http://www.calendar.ubc.ca/vancouver/courses.cfm?page=code&institution=2&code=APSC\",\n",
    "    \"CHEM\": \"http://www.calendar.ubc.ca/vancouver/courses.cfm?page=code&institution=12&code=CHEM\",\n",
    "    \"WRDS\": \"http://www.calendar.ubc.ca/vancouver/courses.cfm?page=code&institution=3&code=WRDS\"\n",
    "}"
   ]
  },
  {
   "cell_type": "code",
   "execution_count": 10,
   "metadata": {},
   "outputs": [
    {
     "name": "stdout",
     "output_type": "stream",
     "text": [
      "scraped  APSC 100\n",
      "scraped  APSC 101\n",
      "scraped  APSC 160\n",
      "scraped  CHEM 154\n",
      "scraped  WRDS 150\n",
      "scraped  MATH 100\n",
      "scraped  MATH 101\n",
      "scraped  MATH 152\n",
      "scraped  PHYS 157\n",
      "scraped  PHYS 158\n",
      "scraped  PHYS 159\n",
      "scraped  PHYS 170\n",
      "12\n"
     ]
    }
   ],
   "source": [
    "course_names = []\n",
    "course_descs = []\n",
    "counter = 0\n",
    "prev_link = \"\"\n",
    "\n",
    "for course_code in course_codes:\n",
    "    \n",
    "    if subject_links[course_code.split()[0]] != prev_link:\n",
    "        uClient = ureq(subject_links[course_code.split()[0]])\n",
    "        time.sleep(2)\n",
    "        page_html = uClient.read()\n",
    "        uClient.close()\n",
    "        page_soup = soup(page_html, \"html.parser\")\n",
    "        prev_link = subject_links[course_code.split()[0]]\n",
    "        \n",
    "    course_title_container = page_soup.find(text = re.compile(\"^\" + course_code))\n",
    "    if course_title_container is None:\n",
    "        print(\"Cannot find \", course_code)\n",
    "    else:\n",
    "        course_names.append(course_title_container.findNext().text)\n",
    "        course_descs.append(course_title_container.findNext().findNext().text.strip())\n",
    "    \n",
    "        counter += 1\n",
    "        print(\"scraped \", course_code)\n",
    "    \n",
    "print(counter)"
   ]
  },
  {
   "cell_type": "markdown",
   "metadata": {},
   "source": [
    "# 3. Inspect collected data and write to CSV"
   ]
  },
  {
   "cell_type": "code",
   "execution_count": 11,
   "metadata": {},
   "outputs": [
    {
     "data": {
      "text/plain": [
       "['Introduction to Engineering I',\n",
       " 'Introduction to Engineering II',\n",
       " 'Introduction to Computation in Engineering Design',\n",
       " 'Chemistry for Engineering',\n",
       " 'Writing and Research in the Disciplines',\n",
       " 'Differential Calculus with Applications to Physical Sciences and Engineering',\n",
       " 'Integral Calculus with Applications to Physical Sciences and Engineering',\n",
       " 'Linear Systems',\n",
       " 'Introductory Physics for Engineers I',\n",
       " 'Introductory Physics for Engineers II',\n",
       " 'Introductory Physics Laboratory for Engineers',\n",
       " 'Mechanics I']"
      ]
     },
     "execution_count": 11,
     "metadata": {},
     "output_type": "execute_result"
    }
   ],
   "source": [
    "course_names"
   ]
  },
  {
   "cell_type": "code",
   "execution_count": 12,
   "metadata": {},
   "outputs": [
    {
     "data": {
      "text/plain": [
       "['An introduction to the engineering profession including: roles and responsibilities of the engineer, the engineering disciplines, sustainability, an introduction to the engineering design process, introduction and application of the relevant foundational scientific principles, prototyping, engineering graphics, technical communication, and engineering ethics. This course is not eligible for Credit/D/Fail grading. [2-2-0]',\n",
       " 'An introduction to the engineering profession including: the engineering design process, sustainability, prototype testing, introduction and application of the relevant foundational scientific principles, team functioning, engineering graphics, and technical communication. This course is not eligible for Credit/D/Fail grading. [2-2-0] Prerequisite: APSC 100.',\n",
       " 'Analysis and simulation, laboratory data acquisition and processing, measurement interfaces, engineering tools, computer systems organization, programming languages. Credit will only be given for one of: APSC 160, CPSC 301, or EOSC 211. This course is not eligible for Credit/D/Fail grading. [3-2-0]',\n",
       " 'Chemical bonding, properties of matter. Chemical thermodynamics with applications to phase equilibria, aqueous equilibria and electrochemistry. Processes at surfaces. [3-3*-0] Prerequisite: CHEM 12.',\n",
       " 'Writing and reading in disciplines across the academy, focusing on practices that research disciplines share and those that differentiate them. This course is not eligible for Credit/D/Fail grading.',\n",
       " 'Derivatives of elementary functions. Applications and modelling: graphing, optimization. Consult the Faculty of Science Credit Exclusion List: www.calendar.ubc.ca/vancouver/index.cfm?tree=12,215,410,414. [3-0-0] Prerequisite: High-school calculus and a score of 80% or higher in BC Principles of Mathematics 12 or Pre-calculus 12.',\n",
       " 'The definite integral, integration techniques, applications, modelling, infinite series. Please consult the Faculty of Science Credit Exclusion List: www.calendar.ubc.ca/vancouver/index.cfm?tree=12,215,410,414. [3-0-0] Prerequisite: One of MATH 100, MATH 102, MATH 104, MATH 110, MATH 120, MATH 180, MATH 184.',\n",
       " '2D and 3D geometry, vectors and matrices, eigenvalues and vibration, physical applications. Laboratories demonstrate computer solutions of large systems. Please consult the Faculty of Science Credit Exclusion List: www.calendar.ubc.ca/vancouver/index.cfm?tree=12,215,410,414. [3-1*-0] Corequisite: MATH 101.',\n",
       " 'Heat, thermodynamics, oscillations, waves, and sound. Please consult the Faculty of Science Credit Exclusion List: www.students.ubc.ca/calendar/index.cfm?tree=12,215,410,414. [3-0-1] Prerequisite: One of PHYS 12, PHYS 100. Corequisite: One of MATH 100, MATH 102, MATH 104, MATH 110, MATH 120, MATH 180, MATH 184.',\n",
       " 'Electricity and magnetism, DC and AC circuits, optics. Please consult the Faculty of Science Credit Exclusion List: www.students.ubc.ca/calendar/index.cfm?tree=12,215,410,414. [3-0-1] Prerequisite: PHYS 157. Corequisite: One of MATH 101, MATH 103, MATH 105, MATH 121.',\n",
       " 'A laboratory course with emphasis on experimental design, measurement and analysis techniques. Please consult the Faculty of Science Credit Exclusion List: www.students.ubc.ca/calendar/index.cfm?tree=12,215,410,414 [0-3-0] Prerequisite: One of PHYS 12, PHYS 100. Corequisite: One of PHYS 157, PHYS 158.',\n",
       " \"Statics of particles, equilibrium or rigid bodies, rigid body statics and internal forces, trusses; kinematics: rectilinear motion; dynamics:  Newton's second law, friction, impulse, momentum, work and energy.  Please consult the Faculty of Science Credit Exclusion List: www.students.ubc.ca/calendar/index.cfm?tree=12,215,410,414. [3-0-1] Prerequisite: One of PHYS 12, PHYS 100 and one of MATH 100, MATH 102, MATH 104, MATH 110, MATH 120, MATH 180, MATH 184. Corequisite: One of MATH 101, MATH 103, MATH 105, MATH 121.\"]"
      ]
     },
     "execution_count": 12,
     "metadata": {},
     "output_type": "execute_result"
    }
   ],
   "source": [
    "course_descs"
   ]
  },
  {
   "cell_type": "code",
   "execution_count": 13,
   "metadata": {},
   "outputs": [
    {
     "data": {
      "text/html": [
       "<div>\n",
       "<style scoped>\n",
       "    .dataframe tbody tr th:only-of-type {\n",
       "        vertical-align: middle;\n",
       "    }\n",
       "\n",
       "    .dataframe tbody tr th {\n",
       "        vertical-align: top;\n",
       "    }\n",
       "\n",
       "    .dataframe thead th {\n",
       "        text-align: right;\n",
       "    }\n",
       "</style>\n",
       "<table border=\"1\" class=\"dataframe\">\n",
       "  <thead>\n",
       "    <tr style=\"text-align: right;\">\n",
       "      <th></th>\n",
       "      <th>Course Number</th>\n",
       "      <th>Course Name</th>\n",
       "      <th>Course Description</th>\n",
       "    </tr>\n",
       "  </thead>\n",
       "  <tbody>\n",
       "    <tr>\n",
       "      <th>0</th>\n",
       "      <td>APSC 100</td>\n",
       "      <td>Introduction to Engineering I</td>\n",
       "      <td>An introduction to the engineering profession ...</td>\n",
       "    </tr>\n",
       "    <tr>\n",
       "      <th>1</th>\n",
       "      <td>APSC 101</td>\n",
       "      <td>Introduction to Engineering II</td>\n",
       "      <td>An introduction to the engineering profession ...</td>\n",
       "    </tr>\n",
       "    <tr>\n",
       "      <th>2</th>\n",
       "      <td>APSC 160</td>\n",
       "      <td>Introduction to Computation in Engineering Design</td>\n",
       "      <td>Analysis and simulation, laboratory data acqui...</td>\n",
       "    </tr>\n",
       "    <tr>\n",
       "      <th>3</th>\n",
       "      <td>CHEM 154</td>\n",
       "      <td>Chemistry for Engineering</td>\n",
       "      <td>Chemical bonding, properties of matter. Chemic...</td>\n",
       "    </tr>\n",
       "    <tr>\n",
       "      <th>4</th>\n",
       "      <td>WRDS 150</td>\n",
       "      <td>Writing and Research in the Disciplines</td>\n",
       "      <td>Writing and reading in disciplines across the ...</td>\n",
       "    </tr>\n",
       "    <tr>\n",
       "      <th>5</th>\n",
       "      <td>MATH 100</td>\n",
       "      <td>Differential Calculus with Applications to Phy...</td>\n",
       "      <td>Derivatives of elementary functions. Applicati...</td>\n",
       "    </tr>\n",
       "    <tr>\n",
       "      <th>6</th>\n",
       "      <td>MATH 101</td>\n",
       "      <td>Integral Calculus with Applications to Physica...</td>\n",
       "      <td>The definite integral, integration techniques,...</td>\n",
       "    </tr>\n",
       "    <tr>\n",
       "      <th>7</th>\n",
       "      <td>MATH 152</td>\n",
       "      <td>Linear Systems</td>\n",
       "      <td>2D and 3D geometry, vectors and matrices, eige...</td>\n",
       "    </tr>\n",
       "    <tr>\n",
       "      <th>8</th>\n",
       "      <td>PHYS 157</td>\n",
       "      <td>Introductory Physics for Engineers I</td>\n",
       "      <td>Heat, thermodynamics, oscillations, waves, and...</td>\n",
       "    </tr>\n",
       "    <tr>\n",
       "      <th>9</th>\n",
       "      <td>PHYS 158</td>\n",
       "      <td>Introductory Physics for Engineers II</td>\n",
       "      <td>Electricity and magnetism, DC and AC circuits,...</td>\n",
       "    </tr>\n",
       "    <tr>\n",
       "      <th>10</th>\n",
       "      <td>PHYS 159</td>\n",
       "      <td>Introductory Physics Laboratory for Engineers</td>\n",
       "      <td>A laboratory course with emphasis on experimen...</td>\n",
       "    </tr>\n",
       "    <tr>\n",
       "      <th>11</th>\n",
       "      <td>PHYS 170</td>\n",
       "      <td>Mechanics I</td>\n",
       "      <td>Statics of particles, equilibrium or rigid bod...</td>\n",
       "    </tr>\n",
       "  </tbody>\n",
       "</table>\n",
       "</div>"
      ],
      "text/plain": [
       "   Course Number                                        Course Name  \\\n",
       "0       APSC 100                      Introduction to Engineering I   \n",
       "1       APSC 101                     Introduction to Engineering II   \n",
       "2       APSC 160  Introduction to Computation in Engineering Design   \n",
       "3       CHEM 154                          Chemistry for Engineering   \n",
       "4       WRDS 150            Writing and Research in the Disciplines   \n",
       "5       MATH 100  Differential Calculus with Applications to Phy...   \n",
       "6       MATH 101  Integral Calculus with Applications to Physica...   \n",
       "7       MATH 152                                     Linear Systems   \n",
       "8       PHYS 157               Introductory Physics for Engineers I   \n",
       "9       PHYS 158              Introductory Physics for Engineers II   \n",
       "10      PHYS 159      Introductory Physics Laboratory for Engineers   \n",
       "11      PHYS 170                                        Mechanics I   \n",
       "\n",
       "                                   Course Description  \n",
       "0   An introduction to the engineering profession ...  \n",
       "1   An introduction to the engineering profession ...  \n",
       "2   Analysis and simulation, laboratory data acqui...  \n",
       "3   Chemical bonding, properties of matter. Chemic...  \n",
       "4   Writing and reading in disciplines across the ...  \n",
       "5   Derivatives of elementary functions. Applicati...  \n",
       "6   The definite integral, integration techniques,...  \n",
       "7   2D and 3D geometry, vectors and matrices, eige...  \n",
       "8   Heat, thermodynamics, oscillations, waves, and...  \n",
       "9   Electricity and magnetism, DC and AC circuits,...  \n",
       "10  A laboratory course with emphasis on experimen...  \n",
       "11  Statics of particles, equilibrium or rigid bod...  "
      ]
     },
     "execution_count": 13,
     "metadata": {},
     "output_type": "execute_result"
    }
   ],
   "source": [
    "import pandas as pd\n",
    "\n",
    "df = pd.DataFrame({\n",
    "    \n",
    "    \"Course Number\": course_codes,\n",
    "    \"Course Name\": course_names,\n",
    "    \"Course Description\": course_descs    \n",
    "    \n",
    "})\n",
    "\n",
    "df"
   ]
  },
  {
   "cell_type": "code",
   "execution_count": 14,
   "metadata": {},
   "outputs": [],
   "source": [
    "df.to_csv('UBC_Engineering_First_Year_Courses.csv', index = False)"
   ]
  }
 ],
 "metadata": {
  "kernelspec": {
   "display_name": "Python 3",
   "language": "python",
   "name": "python3"
  },
  "language_info": {
   "codemirror_mode": {
    "name": "ipython",
    "version": 3
   },
   "file_extension": ".py",
   "mimetype": "text/x-python",
   "name": "python",
   "nbconvert_exporter": "python",
   "pygments_lexer": "ipython3",
   "version": "3.8.5"
  }
 },
 "nbformat": 4,
 "nbformat_minor": 4
}
