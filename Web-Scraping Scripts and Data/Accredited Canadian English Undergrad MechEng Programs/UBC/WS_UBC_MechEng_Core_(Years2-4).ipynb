{
 "cells": [
  {
   "cell_type": "code",
   "execution_count": 1,
   "metadata": {},
   "outputs": [],
   "source": [
    "from bs4 import BeautifulSoup as soup\n",
    "from urllib.request import urlopen as ureq\n",
    "import time\n",
    "import re"
   ]
  },
  {
   "cell_type": "code",
   "execution_count": 2,
   "metadata": {},
   "outputs": [],
   "source": [
    "url = \"http://www.calendar.ubc.ca/vancouver/index.cfm?tree=12,195,272,43\""
   ]
  },
  {
   "cell_type": "markdown",
   "metadata": {},
   "source": [
    "# 1. Collect course codes to be used to search for course names and descriptions"
   ]
  },
  {
   "cell_type": "code",
   "execution_count": 3,
   "metadata": {},
   "outputs": [],
   "source": [
    "# 1. Collect course codes to be used to search for course names and descriptions\n",
    "uClient = ureq(url)\n",
    "page_html = uClient.read()\n",
    "uClient.close()\n",
    "page_soup = soup(page_html, \"html.parser\")"
   ]
  },
  {
   "cell_type": "code",
   "execution_count": 4,
   "metadata": {},
   "outputs": [
    {
     "data": {
      "text/plain": [
       "71"
      ]
     },
     "execution_count": 4,
     "metadata": {},
     "output_type": "execute_result"
    }
   ],
   "source": [
    "table = page_soup.find(\"table\")\n",
    "containers = table.findAll(\"td\")\n",
    "len(containers)"
   ]
  },
  {
   "cell_type": "code",
   "execution_count": 5,
   "metadata": {},
   "outputs": [
    {
     "data": {
      "text/plain": [
       "[<td>\n",
       " \t\t\t\t\t\t\tMATH 254 \n",
       " \t\t\t\t\t\t</td>,\n",
       " <td>\n",
       " \t\t\t\t\t\t\t3 \n",
       " \t\t\t\t\t\t</td>,\n",
       " <td>\n",
       " \t\t\t\t\t\t\tMATH 258 \n",
       " \t\t\t\t\t\t</td>,\n",
       " <td>\n",
       " \t\t\t\t\t\t\t3 \n",
       " \t\t\t\t\t\t</td>,\n",
       " <td>\n",
       " \t\t\t\t\t\t\tMECH 220<sup>1</sup>\n",
       " </td>,\n",
       " <td>\n",
       " \t\t\t\t\t\t\t4 \n",
       " \t\t\t\t\t\t</td>,\n",
       " <td>\n",
       " \t\t\t\t\t\t\tMECH 221 \n",
       " \t\t\t\t\t\t</td>,\n",
       " <td>\n",
       " \t\t\t\t\t\t\t12 \n",
       " \t\t\t\t\t\t</td>,\n",
       " <td>\n",
       " \t\t\t\t\t\t\tMECH 222 \n",
       " \t\t\t\t\t\t</td>,\n",
       " <td>\n",
       " \t\t\t\t\t\t\t6 \n",
       " \t\t\t\t\t\t</td>,\n",
       " <td>\n",
       " \t\t\t\t\t\t\tMECH 223 \n",
       " \t\t\t\t\t\t</td>,\n",
       " <td>\n",
       " \t\t\t\t\t\t\t7 \n",
       " \t\t\t\t\t\t</td>,\n",
       " <td>\n",
       " \t\t\t\t\t\t\tMECH 224 \n",
       " \t\t\t\t\t\t</td>,\n",
       " <td>\n",
       " \t\t\t\t\t\t\t1 \n",
       " \t\t\t\t\t\t</td>,\n",
       " <td>\n",
       " \t\t\t\t\t\t\tMECH 225 \n",
       " \t\t\t\t\t\t</td>,\n",
       " <td>\n",
       " \t\t\t\t\t\t\t1 \n",
       " \t\t\t\t\t\t</td>,\n",
       " <td>\n",
       " \t\t\t\t\t\t\tMECH 226 or MECH 227<sup>2</sup>\n",
       " </td>,\n",
       " <td>\n",
       " \t\t\t\t\t\t\t3 or 5 \n",
       " \t\t\t\t\t\t</td>,\n",
       " <td>\n",
       " \t\t\t\t\t\t\tTotal Credits \n",
       " \t\t\t\t\t\t</td>,\n",
       " <td>\n",
       " \t\t\t\t\t\t\t40 or 42 \n",
       " \t\t\t\t\t\t</td>,\n",
       " <td>\n",
       " \t\t\t\t\t\t\tMECH 305 \n",
       " \t\t\t\t\t\t</td>,\n",
       " <td>\n",
       " \t\t\t\t\t\t\t6 \n",
       " \t\t\t\t\t\t</td>,\n",
       " <td>\n",
       " \t\t\t\t\t\t\tMECH 325 \n",
       " \t\t\t\t\t\t</td>,\n",
       " <td>\n",
       " \t\t\t\t\t\t\t4 \n",
       " \t\t\t\t\t\t</td>,\n",
       " <td>\n",
       " \t\t\t\t\t\t\tMECH 326 or MECH 426 \n",
       " \t\t\t\t\t\t</td>,\n",
       " <td>\n",
       " \t\t\t\t\t\t\t3 \n",
       " \t\t\t\t\t\t</td>,\n",
       " <td>\n",
       " \t\t\t\t\t\t\tMECH 327 \n",
       " \t\t\t\t\t\t</td>,\n",
       " <td>\n",
       " \t\t\t\t\t\t\t3 \n",
       " \t\t\t\t\t\t</td>,\n",
       " <td>\n",
       " \t\t\t\t\t\t\tMECH 328 \n",
       " \t\t\t\t\t\t</td>,\n",
       " <td>\n",
       " \t\t\t\t\t\t\t3 \n",
       " \t\t\t\t\t\t</td>,\n",
       " <td>\n",
       " \t\t\t\t\t\t\tMECH 358 \n",
       " \t\t\t\t\t\t</td>,\n",
       " <td>\n",
       " \t\t\t\t\t\t\t3 \n",
       " \t\t\t\t\t\t</td>,\n",
       " <td>\n",
       " \t\t\t\t\t\t\tMECH 360 \n",
       " \t\t\t\t\t\t</td>,\n",
       " <td>\n",
       " \t\t\t\t\t\t\t3 \n",
       " \t\t\t\t\t\t</td>,\n",
       " <td>\n",
       " \t\t\t\t\t\t\tMECH 368 \n",
       " \t\t\t\t\t\t</td>,\n",
       " <td>\n",
       " \t\t\t\t\t\t\t3 \n",
       " \t\t\t\t\t\t</td>,\n",
       " <td>\n",
       " \t\t\t\t\t\t\tMECH 375 \n",
       " \t\t\t\t\t\t</td>,\n",
       " <td>\n",
       " \t\t\t\t\t\t\t3 \n",
       " \t\t\t\t\t\t</td>,\n",
       " <td>\n",
       " \t\t\t\t\t\t\tMECH 380 \n",
       " \t\t\t\t\t\t</td>,\n",
       " <td>\n",
       " \t\t\t\t\t\t\t3 \n",
       " \t\t\t\t\t\t</td>,\n",
       " <td>\n",
       " \t\t\t\t\t\t\tMECH 392 \n",
       " \t\t\t\t\t\t</td>,\n",
       " <td>\n",
       " \t\t\t\t\t\t\t2 \n",
       " \t\t\t\t\t\t</td>,\n",
       " <td>\n",
       " \t\t\t\t\t\t\tTotal Credits \n",
       " \t\t\t\t\t\t</td>,\n",
       " <td>\n",
       " \t\t\t\t\t\t\t36 \n",
       " \t\t\t\t\t\t</td>,\n",
       " <td>\n",
       " \t\t\t\t\t\t\tAPSC 450 \n",
       " \t\t\t\t\t\t</td>,\n",
       " <td>\n",
       " \t\t\t\t\t\t\t2 \n",
       " \t\t\t\t\t\t</td>,\n",
       " <td>\n",
       " \t\t\t\t\t\t\tELEC 344 \n",
       " \t\t\t\t\t\t</td>,\n",
       " <td>\n",
       " \t\t\t\t\t\t\t3 \n",
       " \t\t\t\t\t\t</td>,\n",
       " <td>\n",
       " \t\t\t\t\t\t\tMECH 329 \n",
       " \t\t\t\t\t\t</td>,\n",
       " <td>\n",
       " \t\t\t\t\t\t\t3 \n",
       " \t\t\t\t\t\t</td>,\n",
       " <td>\n",
       " \t\t\t\t\t\t\tMECH 431 \n",
       " \t\t\t\t\t\t</td>,\n",
       " <td>\n",
       " \t\t\t\t\t\t\t3 \n",
       " \t\t\t\t\t\t</td>,\n",
       " <td>\n",
       " \t\t\t\t\t\t\tMECH 457<sup>3</sup>\n",
       " </td>,\n",
       " <td>\n",
       " \t\t\t\t\t\t\t6 \n",
       " \t\t\t\t\t\t</td>,\n",
       " <td>\n",
       " \t\t\t\t\t\t\tMECH 463 \n",
       " \t\t\t\t\t\t</td>,\n",
       " <td>\n",
       " \t\t\t\t\t\t\t4 \n",
       " \t\t\t\t\t\t</td>,\n",
       " <td>\n",
       " \t\t\t\t\t\t\tMECH 466 \n",
       " \t\t\t\t\t\t</td>,\n",
       " <td>\n",
       " \t\t\t\t\t\t\t4 \n",
       " \t\t\t\t\t\t</td>,\n",
       " <td>\n",
       " \t\t\t\t\t\t\tTechnical electives<sup>4</sup>\n",
       " </td>,\n",
       " <td>\n",
       " \t\t\t\t\t\t\t9 \n",
       " \t\t\t\t\t\t</td>,\n",
       " <td>\n",
       " \t\t\t\t\t\t\tComplementary Studies electives<sup>5</sup>\n",
       " </td>,\n",
       " <td>\n",
       " \t\t\t\t\t\t\t6 \n",
       " \t\t\t\t\t\t</td>,\n",
       " <td>\n",
       " \t\t\t\t\t\t\tTotal Credits \n",
       " \t\t\t\t\t\t</td>,\n",
       " <td>\n",
       " \t\t\t\t\t\t\t40 \n",
       " \t\t\t\t\t\t</td>,\n",
       " <td class=\"footnote\" colspan=\"2\">\n",
       " <sup>1</sup> Taken prior to Term 1 of second year. \n",
       " \t\t\t\t\t\t</td>,\n",
       " <td class=\"footnote\">\n",
       " <sup>2</sup> MECH 227 is taken in the summer after Second Year. \n",
       " \t\t\t\t\t\t</td>,\n",
       " <td class=\"footnote\">\n",
       " </td>,\n",
       " <td class=\"footnote\">\n",
       " <sup>3</sup> MECH 457 may be replaced by APSC 486 and APSC 496 with permission from Department. \n",
       " \t\t\t\t\t\t</td>,\n",
       " <td class=\"footnote\">\n",
       " </td>,\n",
       " <td class=\"footnote\" colspan=\"2\">\n",
       " <sup>4</sup> To be chosen from a course list available on the Department website. \n",
       " \t\t\t\t\t\t</td>,\n",
       " <td class=\"footnote\" colspan=\"2\">\n",
       " <sup>5</sup> See <a href=\"index.cfm?tree=12,195,272,30#1116\">Complementary Studies Courses</a>. \n",
       " \t\t\t\t\t\t</td>]"
      ]
     },
     "execution_count": 5,
     "metadata": {},
     "output_type": "execute_result"
    }
   ],
   "source": [
    "containers"
   ]
  },
  {
   "cell_type": "code",
   "execution_count": 6,
   "metadata": {
    "scrolled": false
   },
   "outputs": [
    {
     "data": {
      "text/plain": [
       "['MATH 254',\n",
       " 'MATH 258',\n",
       " 'MECH 2201',\n",
       " 'MECH 221',\n",
       " 'MECH 222',\n",
       " 'MECH 223',\n",
       " 'MECH 224',\n",
       " 'MECH 225',\n",
       " 'MECH 226 or MECH 2272',\n",
       " 'MECH 305',\n",
       " 'MECH 325',\n",
       " 'MECH 326 or MECH 426',\n",
       " 'MECH 327',\n",
       " 'MECH 328',\n",
       " 'MECH 358',\n",
       " 'MECH 360',\n",
       " 'MECH 368',\n",
       " 'MECH 375',\n",
       " 'MECH 380',\n",
       " 'MECH 392',\n",
       " 'APSC 450',\n",
       " 'ELEC 344',\n",
       " 'MECH 329',\n",
       " 'MECH 431',\n",
       " 'MECH 4573',\n",
       " 'MECH 463',\n",
       " 'MECH 466']"
      ]
     },
     "execution_count": 6,
     "metadata": {},
     "output_type": "execute_result"
    }
   ],
   "source": [
    "course_codes = [container.text.strip() for container in containers if bool(re.match(\"[A-Z]{4} [0-9]{3}\", container.text.strip()))]\n",
    "course_codes"
   ]
  },
  {
   "cell_type": "code",
   "execution_count": 7,
   "metadata": {},
   "outputs": [
    {
     "data": {
      "text/plain": [
       "27"
      ]
     },
     "execution_count": 7,
     "metadata": {},
     "output_type": "execute_result"
    }
   ],
   "source": [
    "len(course_codes)"
   ]
  },
  {
   "cell_type": "code",
   "execution_count": 8,
   "metadata": {},
   "outputs": [
    {
     "data": {
      "text/plain": [
       "['MATH 254',\n",
       " 'MATH 258',\n",
       " 'MECH 2201',\n",
       " 'MECH 221',\n",
       " 'MECH 222',\n",
       " 'MECH 223',\n",
       " 'MECH 224',\n",
       " 'MECH 225',\n",
       " 'MECH 226',\n",
       " 'MECH 2272',\n",
       " 'MECH 305',\n",
       " 'MECH 325',\n",
       " 'MECH 326',\n",
       " 'MECH 426',\n",
       " 'MECH 327',\n",
       " 'MECH 328',\n",
       " 'MECH 358',\n",
       " 'MECH 360',\n",
       " 'MECH 368',\n",
       " 'MECH 375',\n",
       " 'MECH 380',\n",
       " 'MECH 392',\n",
       " 'APSC 450',\n",
       " 'ELEC 344',\n",
       " 'MECH 329',\n",
       " 'MECH 431',\n",
       " 'MECH 4573',\n",
       " 'MECH 463',\n",
       " 'MECH 466']"
      ]
     },
     "execution_count": 8,
     "metadata": {},
     "output_type": "execute_result"
    }
   ],
   "source": [
    "course_codes = [course_code.split(\" or \") for course_code in course_codes]\n",
    "course_codes = [course_code for sub_list in course_codes for course_code in sub_list]\n",
    "course_codes"
   ]
  },
  {
   "cell_type": "code",
   "execution_count": 9,
   "metadata": {},
   "outputs": [
    {
     "data": {
      "text/plain": [
       "29"
      ]
     },
     "execution_count": 9,
     "metadata": {},
     "output_type": "execute_result"
    }
   ],
   "source": [
    "len(course_codes)"
   ]
  },
  {
   "cell_type": "code",
   "execution_count": 10,
   "metadata": {},
   "outputs": [
    {
     "data": {
      "text/plain": [
       "['MATH 254',\n",
       " 'MATH 258',\n",
       " 'MECH 220',\n",
       " 'MECH 221',\n",
       " 'MECH 222',\n",
       " 'MECH 223',\n",
       " 'MECH 224',\n",
       " 'MECH 225',\n",
       " 'MECH 226',\n",
       " 'MECH 227',\n",
       " 'MECH 305',\n",
       " 'MECH 325',\n",
       " 'MECH 326',\n",
       " 'MECH 426',\n",
       " 'MECH 327',\n",
       " 'MECH 328',\n",
       " 'MECH 358',\n",
       " 'MECH 360',\n",
       " 'MECH 368',\n",
       " 'MECH 375',\n",
       " 'MECH 380',\n",
       " 'MECH 392',\n",
       " 'APSC 450',\n",
       " 'ELEC 344',\n",
       " 'MECH 329',\n",
       " 'MECH 431',\n",
       " 'MECH 457',\n",
       " 'MECH 463',\n",
       " 'MECH 466']"
      ]
     },
     "execution_count": 10,
     "metadata": {},
     "output_type": "execute_result"
    }
   ],
   "source": [
    "course_codes = [course_code[:-1] if len(course_code) > 8 else course_code for course_code in course_codes]\n",
    "course_codes"
   ]
  },
  {
   "cell_type": "markdown",
   "metadata": {},
   "source": [
    "# 2. Test run - try to find and scrape the first course"
   ]
  },
  {
   "cell_type": "code",
   "execution_count": 11,
   "metadata": {},
   "outputs": [],
   "source": [
    "subject_links = {\n",
    "    \"MECH\": \"http://www.calendar.ubc.ca/vancouver/courses.cfm?page=code&institution=2&code=MECH\",\n",
    "    \"MATH\": \"http://www.calendar.ubc.ca/vancouver/courses.cfm?page=code&institution=12&code=MATH\",\n",
    "    \"ELEC\": \"http://www.calendar.ubc.ca/vancouver/courses.cfm?page=code&institution=2&code=ELEC\",\n",
    "    \"APSC\": \"http://www.calendar.ubc.ca/vancouver/courses.cfm?page=code&institution=2&code=APSC\"\n",
    "}"
   ]
  },
  {
   "cell_type": "code",
   "execution_count": 21,
   "metadata": {},
   "outputs": [],
   "source": [
    "#test run\n",
    "uClient = ureq(subject_links[course_codes[2].split()[0]])\n",
    "page_html = uClient.read()\n",
    "uClient.close()\n",
    "page_soup = soup(page_html, \"html.parser\")"
   ]
  },
  {
   "cell_type": "code",
   "execution_count": 23,
   "metadata": {},
   "outputs": [
    {
     "data": {
      "text/plain": [
       "'MECH 220 (4)  '"
      ]
     },
     "execution_count": 23,
     "metadata": {},
     "output_type": "execute_result"
    }
   ],
   "source": [
    "course_title_container = page_soup.find(text = re.compile(\"^\" + course_codes[2]))\n",
    "course_title_container"
   ]
  },
  {
   "cell_type": "code",
   "execution_count": 24,
   "metadata": {},
   "outputs": [
    {
     "data": {
      "text/plain": [
       "'Technical Skills Practicum'"
      ]
     },
     "execution_count": 24,
     "metadata": {},
     "output_type": "execute_result"
    }
   ],
   "source": [
    "course_title_container.findNext().text"
   ]
  },
  {
   "cell_type": "code",
   "execution_count": 25,
   "metadata": {},
   "outputs": [
    {
     "data": {
      "text/plain": [
       "'Engineering graphics, spatial visualization, CAD, equation solvers, machine shop practice, electronic circuit construction and troubleshooting, elements of engineering science. This course is not eligible for Credit/D/Fail grading. [1-3-3] Prerequisite: All of APSC 160, MATH 101, MATH 152, PHYS 158, PHYS 170 and one of APSC 100, APSC 150, APSC 151 and one of BMEG 102, PHYS 159 and one of APSC 176, ENGL 112, WRDS 150. Corequisite: MECH 221.'"
      ]
     },
     "execution_count": 25,
     "metadata": {},
     "output_type": "execute_result"
    }
   ],
   "source": [
    "course_title_container.findNext().findNext().text.strip()"
   ]
  },
  {
   "cell_type": "markdown",
   "metadata": {},
   "source": [
    "# 3. Use the course codes to find and scrape corresponding course names and descriptions for all courses"
   ]
  },
  {
   "cell_type": "code",
   "execution_count": 28,
   "metadata": {},
   "outputs": [
    {
     "name": "stdout",
     "output_type": "stream",
     "text": [
      "scraped  MATH 254\n",
      "scraped  MATH 258\n",
      "scraped  MECH 220\n",
      "scraped  MECH 221\n",
      "scraped  MECH 222\n",
      "scraped  MECH 223\n",
      "scraped  MECH 224\n",
      "scraped  MECH 225\n",
      "scraped  MECH 226\n",
      "scraped  MECH 227\n",
      "scraped  MECH 305\n",
      "scraped  MECH 325\n",
      "Cannot find  MECH 326\n",
      "scraped  MECH 426\n",
      "scraped  MECH 327\n",
      "scraped  MECH 328\n",
      "scraped  MECH 358\n",
      "scraped  MECH 360\n",
      "scraped  MECH 368\n",
      "scraped  MECH 375\n",
      "scraped  MECH 380\n",
      "scraped  MECH 392\n",
      "scraped  APSC 450\n",
      "scraped  ELEC 344\n",
      "scraped  MECH 329\n",
      "scraped  MECH 431\n",
      "scraped  MECH 457\n",
      "scraped  MECH 463\n",
      "scraped  MECH 466\n",
      "28\n"
     ]
    }
   ],
   "source": [
    "course_names = []\n",
    "course_descs = []\n",
    "counter = 0\n",
    "prev_link = \"\"\n",
    "\n",
    "for course_code in course_codes:\n",
    "    \n",
    "    if subject_links[course_code.split()[0]] != prev_link:\n",
    "        uClient = ureq(subject_links[course_code.split()[0]])\n",
    "        time.sleep(2)\n",
    "        page_html = uClient.read()\n",
    "        uClient.close()\n",
    "        page_soup = soup(page_html, \"html.parser\")\n",
    "        prev_link = subject_links[course_code.split()[0]]\n",
    "        \n",
    "    course_title_container = page_soup.find(text = re.compile(\"^\" + course_code))\n",
    "    if course_title_container is None:\n",
    "        print(\"Cannot find \", course_code)\n",
    "    else:\n",
    "        course_names.append(course_title_container.findNext().text.strip())\n",
    "        course_descs.append(course_title_container.findNext().findNext().text.strip())\n",
    "    \n",
    "        counter += 1\n",
    "        print(\"scraped \", course_code)\n",
    "    \n",
    "print(counter)"
   ]
  },
  {
   "cell_type": "markdown",
   "metadata": {},
   "source": [
    "# 4. Inspect, clean, and write to CSV"
   ]
  },
  {
   "cell_type": "code",
   "execution_count": 29,
   "metadata": {
    "scrolled": true
   },
   "outputs": [
    {
     "data": {
      "text/plain": [
       "['MATH 254',\n",
       " 'MATH 258',\n",
       " 'MECH 220',\n",
       " 'MECH 221',\n",
       " 'MECH 222',\n",
       " 'MECH 223',\n",
       " 'MECH 224',\n",
       " 'MECH 225',\n",
       " 'MECH 226',\n",
       " 'MECH 227',\n",
       " 'MECH 305',\n",
       " 'MECH 325',\n",
       " 'MECH 326',\n",
       " 'MECH 426',\n",
       " 'MECH 327',\n",
       " 'MECH 328',\n",
       " 'MECH 358',\n",
       " 'MECH 360',\n",
       " 'MECH 368',\n",
       " 'MECH 375',\n",
       " 'MECH 380',\n",
       " 'MECH 392',\n",
       " 'APSC 450',\n",
       " 'ELEC 344',\n",
       " 'MECH 329',\n",
       " 'MECH 431',\n",
       " 'MECH 457',\n",
       " 'MECH 463',\n",
       " 'MECH 466']"
      ]
     },
     "execution_count": 29,
     "metadata": {},
     "output_type": "execute_result"
    }
   ],
   "source": [
    "course_codes"
   ]
  },
  {
   "cell_type": "code",
   "execution_count": 32,
   "metadata": {},
   "outputs": [
    {
     "data": {
      "text/plain": [
       "28"
      ]
     },
     "execution_count": 32,
     "metadata": {},
     "output_type": "execute_result"
    }
   ],
   "source": [
    "course_codes = [code for code in course_codes if code != \"MECH 326\"] #326 does not exist on website\n",
    "len(course_codes)"
   ]
  },
  {
   "cell_type": "code",
   "execution_count": 30,
   "metadata": {},
   "outputs": [
    {
     "data": {
      "text/plain": [
       "['Multivariable and Vector Calculus for Mechanical Engineering',\n",
       " 'Differential Equations for Mechanical Engineering',\n",
       " 'Technical Skills Practicum',\n",
       " 'Engineering Science I',\n",
       " 'Engineering Science II',\n",
       " 'Introduction to the Mechanical Design Process',\n",
       " 'Integration of Engineering Concepts I',\n",
       " 'Integration of Engineering Concepts II',\n",
       " 'Technical Communication for Mechanical Engineers',\n",
       " 'Approaches to Technical Communication for Mechanical Engineers',\n",
       " 'Data Analysis and Mechanical Engineering Laboratories',\n",
       " 'Machine Design',\n",
       " 'Mechanical Design',\n",
       " 'Thermodynamics II',\n",
       " 'Mechanical Engineering Design Project',\n",
       " 'Engineering Analysis',\n",
       " 'Mechanics of Materials',\n",
       " 'Engineering Measurements and Instrumentation',\n",
       " 'Heat Transfer',\n",
       " 'Fluid Dynamics',\n",
       " 'Manufacturing Processes',\n",
       " 'Professional Engineering Practice',\n",
       " 'Applied Electronics and Electromechanics',\n",
       " 'Materials for Mechanical Design',\n",
       " 'Engineering Economics',\n",
       " 'Mechanical Engineering Design Project',\n",
       " 'Mechanical Vibrations',\n",
       " 'Automatic Control']"
      ]
     },
     "execution_count": 30,
     "metadata": {},
     "output_type": "execute_result"
    }
   ],
   "source": [
    "course_names"
   ]
  },
  {
   "cell_type": "code",
   "execution_count": 31,
   "metadata": {
    "scrolled": true
   },
   "outputs": [
    {
     "data": {
      "text/plain": [
       "[\"Partial differentiation, extreme values, multiple integration, vector fields, line and surface integrals, the divergence and Stokes' theorems; applications to fluid mechanics: buoyancy, hydrostatic force, pipe flow, drag; applications to thermodynamics: work, entropy, heat transfer; numerical methods. Emphasis on mechanical engineering applications. [3-0-1*] Prerequisite: MATH 101 and one of MATH 152, MATH 221, MATH 223. Corequisite: All of MECH 222, MECH 225.\",\n",
       " 'First-order equations; linear equations; linear systems; Laplace transforms; trajectory analysis of plane nonlinear systems; translational and rotational vibrations; applications to RLC circuit analysis; numerical and graphical methods. Emphasis on mechanical engineering applications. [3-0-1*] Prerequisite: MATH 101 and one of MATH 152, MATH 221, MATH 223. Corequisite: All of MECH 221, MECH 224.',\n",
       " 'Engineering graphics, spatial visualization, CAD, equation solvers, machine shop practice, electronic circuit construction and troubleshooting, elements of engineering science. This course is not eligible for Credit/D/Fail grading. [1-3-3] Prerequisite: All of APSC 160, MATH 101, MATH 152, PHYS 158, PHYS 170 and one of APSC 100, APSC 150, APSC 151 and one of BMEG 102, PHYS 159 and one of APSC 176, ENGL 112, WRDS 150. Corequisite: MECH 221.',\n",
       " 'Rigid body kinetics and kinematics, basic electrical circuits, work and power, stress and strain, torsion, bending, engineering materials, probability and statistics. This course includes the content of ELEC 203. This course is not eligible for Credit/D/Fail grading. [11-2-1] Prerequisite: All of MATH 101, MATH 152, PHYS 158, PHYS 170 and one of BMEG 102, PHYS 159 and one of APSC 176, ENGL 112, WRDS 150. Corequisite: All of MECH 220, MECH 224.',\n",
       " \"Fluid properties, equations of state. Pressure, buoyancy, hydrostatic forces. Conservation of mass, momentum, and energy. Work and heat; internal energy and enthalpy. Bernoulli's equation. Dimensional analysis, modelling. Turbulent flow in pipes; turbomachinery. Second law and the Carnot cycle; entropy; first and second law analysis of systems. This course is not eligible for Credit/D/Fail grading. [5-2-1] Prerequisite: All of MECH 220, MECH 221. Corequisite: All of MECH 223, MECH 225.\",\n",
       " 'Design methodology, synthesis and analysis. Design projects representing both mechanical mechanism design and thermofluid systems. This course is not eligible for Credit/D/Fail grading. [3-8-0] Prerequisite: All of MECH 220, MECH 221. Corequisite: MECH 222.',\n",
       " 'Integration of the theory and practice of Mechanical Engineering to illustrate the commonality and conceptual connectivity of seemingly different technical areas. Emphasis on dynamics, solid mechanics, materials, electronics, and mathematics. This course is not eligible for Credit/D/Fail grading. [1-0-1] Corequisite: MECH 221.',\n",
       " 'Integration of the theory and practice of Mechanical Engineering to illustrate the commonality and conceptual connectivity of seemingly different technical areas. Emphasis on thermodynamics, fluid mechanics, and mathematics. This course is not eligible for Credit/D/Fail grading. [1-0-1] Corequisite: MECH 222.',\n",
       " 'Written and oral communication. Preparation of design reports, business correspondence, verbal, online, and visual presentation of technical material.  Restricted to students in the second year of Mechanical Engineering. This course is not eligible for Credit/D/Fail grading. [1-0-1;1-0-1] Prerequisite: A score of 65% or higher in one of ENGL 112, WRDS 150, APSC 176. Corequisite: All of MECH 220, MECH 221, MECH 222, MECH 223, MECH 224, MECH 225.',\n",
       " 'Written and oral communication. Preparation of design, business correspondence, verbal, online and visual presentation of technical material. Focus on the linguistic structure and style of technical communication. Restricted to students in Mechanical Engineering. Credit will be granted for only one of MECH 226 or MECH 227. This course is not eligible for Credit/D/Fail grading. [3-0-4] Prerequisite: MECH 220 and one of APSC 176, ENGL 112, WRDS 150.',\n",
       " 'The use of probability and statistical methods for engineering applications. Mechanics of materials, heat transfer, and fluid dynamics. Instrumentation, data acquisition, and data manipulation using modern computational tools. This course is not eligible for Credit/D/Fail grading. [3-5-1*] Prerequisite: All of MECH 220, MECH 223, MECH 224, MECH 225.',\n",
       " 'Selection of flexible drives, bearings, fluid power system components, and couplings. Design of bolted joints and power screws. Design and selection of gears, gear trains, and mechanisms. This course is not eligible for Credit/D/Fail grading. [3-0-3] Prerequisite: One of MECH 223, MECH 260. Corequisite: MECH 360.',\n",
       " 'Design of shafts and welded joints. Fatigue and fracture considerations in design: failure types, failure under static and dynamic loading, fatigue failure, crack initiation, and propagation. Introduction to the FEM in mechanical design. Students can only receive credit for one of MECH 326 or MECH 426. [2-0-3] Prerequisite: One of MECH 223, MECH 260. Corequisite: MECH 360.',\n",
       " 'Air standard and vapor cycles; first and second law of cycles. Exergy. Gas mixtures.  Energy conservation. Equilibrium. Reacting systems. Application to thermofluid systems such as power plants. This course is not eligible for Credit/D/Fail grading. [3-0-1] Prerequisite: Either (a) MECH 225 or (b) one of CHBE 241, ENPH 257 and one of CHBE 251, CIVL 215, MECH 280.',\n",
       " 'Applying the design process, making educated assumptions and decisions, and working in teams to provide a new mechanical design. Weekly lecture discussing product development and various factors affecting the design. This course is not eligible for Credit/D/Fail grading. [1-4-1] Prerequisite: MECH 223. (And third year standing in Mechanical Engineering)',\n",
       " 'Fourier series; auto- and cross-correlation; power spectra; discrete Fourier transform; boundary-value problems; numerical methods; partial differential equations; heat, wave, Laplace, Poisson, and wave equations.  Applications to mechanical engineering and practical computing emphasized.  Credit will be granted for only one of MECH 358 and MATH 358. This course is not eligible for Credit/D/Fail grading. [3-1-0] Prerequisite: All of MECH 224, MECH 225.',\n",
       " \"Beam deflections, singularity functions; use of tabulated solutions; column buckling; Castigliano's theorem, statically indeterminate beams, bending of beams with asymmetric cross-sections, shear centre; principal stresses and stress invariants in three dimensions. This course is not eligible for Credit/D/Fail grading. [3-0-1] Prerequisite: One of MECH 224, MECH 260.\",\n",
       " 'Industrial measurement needs including: architecture of electronic instrumentation systems; electrical representation of physical quantities; sensors and actuators; analog signal processing using linear and non-linear circuits; computer based readout including programming for user-interface and data acquisition. This course is not eligible for Credit/D/Fail grading. [3-1-0] Prerequisite: Either (a) two of MECH 220, MECH 224, ELEC 203 or (b) two of MECH 220, MECH 224, EECE 263 or (c) all of MANU 230, ELEC 203.',\n",
       " 'Steady and transient conduction. Radiation heat transfer. Convective heat and mass transfer in pipes and from external surfaces. Design of heat exchangers. This course is not eligible for Credit/D/Fail grading. [3-0-1] Prerequisite: Either (a) MECH 225 or (b) one of CHBE 241, ENPH 257 and one of CHBE 251, CIVL 215, MECH 280.',\n",
       " 'Review of principles, compressible flow, potential flow, simple laminar viscous flow, boundary layers, flow around bluff bodies. This course is not eligible for Credit/D/Fail grading. [3-0-1] Prerequisite: Either (a) MECH 225 or (b) MATH 255 and one of CHBE 251, CIVL 215, MECH 280 and one of CHBE 241, ENPH 257.',\n",
       " 'Manufacturing characteristics of materials and their control. Metal forming processes, plastic deformations, rolling, forging, drawing, extrusion, sheet metal forming. Machining processes and machine tools, turning, milling, drilling, grinding. Metal fabrication, welding and casting. An introduction to process planning. This course is not eligible for Credit/D/Fail grading. [2-0-0]',\n",
       " 'Legislation affecting the practice of engineering; ethical principles and responsibilities. Management of engineering enterprises; labour relations, safety and environmental legislation. Restricted to engineering undergraduate students in the final year of their program. This course is not eligible for Credit/D/Fail grading. [2-0-0]',\n",
       " 'Characteristics of semiconductor devices; analog circuits; force and torque production; motor principles and torque-speed characteristics; principles of power electronics. Not open to students in Electrical and Computer Engineering. This course is not eligible for Credit/D/Fail grading. [2-2*-2*] Prerequisite: One of ELEC 201, ELEC 203, MECH 221.',\n",
       " 'Selection of material properties for mechanical design. Metals and alloys, ceramics, polymers, composites and other hybrid materials. This course is not eligible for Credit/D/Fail grading. [3-0-1] Prerequisite: Either (a) MECH 224 or (b) all of APSC 278, MECH 260.',\n",
       " 'Discounted cash flows. Sources of funds, cost of capital. Effects of depreciation, taxes, inflation. Evaluation and comparison of economic models for engineering projects. Replacement decisions. Public project analysis. Risk analysis. Project control, inventory analysis, simulation. This course is not eligible for Credit/D/Fail grading. [3-0-0]',\n",
       " 'A capstone design project designed to give students experience in the design/development of practical mechanical devices. Projects are provided by local industry and engineering research laboratories. Credit will be granted for only one of MECH 453, MECH 454, MECH 457, MECH 458, MECH 459, or APSC 496. This course is not eligible for Credit/D/Fail grading. [1-2-2; 1-2-2-] Prerequisite: All of MECH 325, MECH 328, MECH 329, MECH 360 and fourth-year standing in Mechanical Engineering. Corequisite: All of MECH 327, MECH 426.',\n",
       " 'Theory of vibration of mechanical systems. Undamped 1 degree of freedom vibration, forced vibrations and resonance, damping, multiple degree of freedom systems, mode shapes and orthogonality, continuous systems, vibration measuring instruments and frequency spectrum analysis. This course is not eligible for Credit/D/Fail grading. [3-2*-1] Prerequisite: One of MECH 224, MECH 260.',\n",
       " 'Process and system characteristics; transient response; the closed loop; block diagrams and transfer functions; control actions; stability; Nyquist diagrams; Bode diagrams; root locus methods; frequency response; system compensation; nonlinear control systems; digital computer control. Laboratory experiments to support the lecture content. Credit cannot be obtained for both MECH 466 and MECH 467. This course is not eligible for Credit/D/Fail grading. [3-3*-0] Prerequisite: Either (a) all of MECH 220, MECH 221, MECH 463 or (b) all of MATH 255, MECH 463 and one of ELEC 201, ELEC 202, ELEC 204, EECE 251, EECE 253;  or (c) all of ELEC 204, ELEC 221, ENPH 270, MATH 255.']"
      ]
     },
     "execution_count": 31,
     "metadata": {},
     "output_type": "execute_result"
    }
   ],
   "source": [
    "course_descs"
   ]
  },
  {
   "cell_type": "code",
   "execution_count": 33,
   "metadata": {
    "scrolled": true
   },
   "outputs": [
    {
     "data": {
      "text/html": [
       "<div>\n",
       "<style scoped>\n",
       "    .dataframe tbody tr th:only-of-type {\n",
       "        vertical-align: middle;\n",
       "    }\n",
       "\n",
       "    .dataframe tbody tr th {\n",
       "        vertical-align: top;\n",
       "    }\n",
       "\n",
       "    .dataframe thead th {\n",
       "        text-align: right;\n",
       "    }\n",
       "</style>\n",
       "<table border=\"1\" class=\"dataframe\">\n",
       "  <thead>\n",
       "    <tr style=\"text-align: right;\">\n",
       "      <th></th>\n",
       "      <th>Course Number</th>\n",
       "      <th>Course Name</th>\n",
       "      <th>Course Description</th>\n",
       "    </tr>\n",
       "  </thead>\n",
       "  <tbody>\n",
       "    <tr>\n",
       "      <th>0</th>\n",
       "      <td>MATH 254</td>\n",
       "      <td>Multivariable and Vector Calculus for Mechanic...</td>\n",
       "      <td>Partial differentiation, extreme values, multi...</td>\n",
       "    </tr>\n",
       "    <tr>\n",
       "      <th>1</th>\n",
       "      <td>MATH 258</td>\n",
       "      <td>Differential Equations for Mechanical Engineering</td>\n",
       "      <td>First-order equations; linear equations; linea...</td>\n",
       "    </tr>\n",
       "    <tr>\n",
       "      <th>2</th>\n",
       "      <td>MECH 220</td>\n",
       "      <td>Technical Skills Practicum</td>\n",
       "      <td>Engineering graphics, spatial visualization, C...</td>\n",
       "    </tr>\n",
       "    <tr>\n",
       "      <th>3</th>\n",
       "      <td>MECH 221</td>\n",
       "      <td>Engineering Science I</td>\n",
       "      <td>Rigid body kinetics and kinematics, basic elec...</td>\n",
       "    </tr>\n",
       "    <tr>\n",
       "      <th>4</th>\n",
       "      <td>MECH 222</td>\n",
       "      <td>Engineering Science II</td>\n",
       "      <td>Fluid properties, equations of state. Pressure...</td>\n",
       "    </tr>\n",
       "    <tr>\n",
       "      <th>5</th>\n",
       "      <td>MECH 223</td>\n",
       "      <td>Introduction to the Mechanical Design Process</td>\n",
       "      <td>Design methodology, synthesis and analysis. De...</td>\n",
       "    </tr>\n",
       "    <tr>\n",
       "      <th>6</th>\n",
       "      <td>MECH 224</td>\n",
       "      <td>Integration of Engineering Concepts I</td>\n",
       "      <td>Integration of the theory and practice of Mech...</td>\n",
       "    </tr>\n",
       "    <tr>\n",
       "      <th>7</th>\n",
       "      <td>MECH 225</td>\n",
       "      <td>Integration of Engineering Concepts II</td>\n",
       "      <td>Integration of the theory and practice of Mech...</td>\n",
       "    </tr>\n",
       "    <tr>\n",
       "      <th>8</th>\n",
       "      <td>MECH 226</td>\n",
       "      <td>Technical Communication for Mechanical Engineers</td>\n",
       "      <td>Written and oral communication. Preparation of...</td>\n",
       "    </tr>\n",
       "    <tr>\n",
       "      <th>9</th>\n",
       "      <td>MECH 227</td>\n",
       "      <td>Approaches to Technical Communication for Mech...</td>\n",
       "      <td>Written and oral communication. Preparation of...</td>\n",
       "    </tr>\n",
       "    <tr>\n",
       "      <th>10</th>\n",
       "      <td>MECH 305</td>\n",
       "      <td>Data Analysis and Mechanical Engineering Labor...</td>\n",
       "      <td>The use of probability and statistical methods...</td>\n",
       "    </tr>\n",
       "    <tr>\n",
       "      <th>11</th>\n",
       "      <td>MECH 325</td>\n",
       "      <td>Machine Design</td>\n",
       "      <td>Selection of flexible drives, bearings, fluid ...</td>\n",
       "    </tr>\n",
       "    <tr>\n",
       "      <th>12</th>\n",
       "      <td>MECH 426</td>\n",
       "      <td>Mechanical Design</td>\n",
       "      <td>Design of shafts and welded joints. Fatigue an...</td>\n",
       "    </tr>\n",
       "    <tr>\n",
       "      <th>13</th>\n",
       "      <td>MECH 327</td>\n",
       "      <td>Thermodynamics II</td>\n",
       "      <td>Air standard and vapor cycles; first and secon...</td>\n",
       "    </tr>\n",
       "    <tr>\n",
       "      <th>14</th>\n",
       "      <td>MECH 328</td>\n",
       "      <td>Mechanical Engineering Design Project</td>\n",
       "      <td>Applying the design process, making educated a...</td>\n",
       "    </tr>\n",
       "    <tr>\n",
       "      <th>15</th>\n",
       "      <td>MECH 358</td>\n",
       "      <td>Engineering Analysis</td>\n",
       "      <td>Fourier series; auto- and cross-correlation; p...</td>\n",
       "    </tr>\n",
       "    <tr>\n",
       "      <th>16</th>\n",
       "      <td>MECH 360</td>\n",
       "      <td>Mechanics of Materials</td>\n",
       "      <td>Beam deflections, singularity functions; use o...</td>\n",
       "    </tr>\n",
       "    <tr>\n",
       "      <th>17</th>\n",
       "      <td>MECH 368</td>\n",
       "      <td>Engineering Measurements and Instrumentation</td>\n",
       "      <td>Industrial measurement needs including: archit...</td>\n",
       "    </tr>\n",
       "    <tr>\n",
       "      <th>18</th>\n",
       "      <td>MECH 375</td>\n",
       "      <td>Heat Transfer</td>\n",
       "      <td>Steady and transient conduction. Radiation hea...</td>\n",
       "    </tr>\n",
       "    <tr>\n",
       "      <th>19</th>\n",
       "      <td>MECH 380</td>\n",
       "      <td>Fluid Dynamics</td>\n",
       "      <td>Review of principles, compressible flow, poten...</td>\n",
       "    </tr>\n",
       "    <tr>\n",
       "      <th>20</th>\n",
       "      <td>MECH 392</td>\n",
       "      <td>Manufacturing Processes</td>\n",
       "      <td>Manufacturing characteristics of materials and...</td>\n",
       "    </tr>\n",
       "    <tr>\n",
       "      <th>21</th>\n",
       "      <td>APSC 450</td>\n",
       "      <td>Professional Engineering Practice</td>\n",
       "      <td>Legislation affecting the practice of engineer...</td>\n",
       "    </tr>\n",
       "    <tr>\n",
       "      <th>22</th>\n",
       "      <td>ELEC 344</td>\n",
       "      <td>Applied Electronics and Electromechanics</td>\n",
       "      <td>Characteristics of semiconductor devices; anal...</td>\n",
       "    </tr>\n",
       "    <tr>\n",
       "      <th>23</th>\n",
       "      <td>MECH 329</td>\n",
       "      <td>Materials for Mechanical Design</td>\n",
       "      <td>Selection of material properties for mechanica...</td>\n",
       "    </tr>\n",
       "    <tr>\n",
       "      <th>24</th>\n",
       "      <td>MECH 431</td>\n",
       "      <td>Engineering Economics</td>\n",
       "      <td>Discounted cash flows. Sources of funds, cost ...</td>\n",
       "    </tr>\n",
       "    <tr>\n",
       "      <th>25</th>\n",
       "      <td>MECH 457</td>\n",
       "      <td>Mechanical Engineering Design Project</td>\n",
       "      <td>A capstone design project designed to give stu...</td>\n",
       "    </tr>\n",
       "    <tr>\n",
       "      <th>26</th>\n",
       "      <td>MECH 463</td>\n",
       "      <td>Mechanical Vibrations</td>\n",
       "      <td>Theory of vibration of mechanical systems. Und...</td>\n",
       "    </tr>\n",
       "    <tr>\n",
       "      <th>27</th>\n",
       "      <td>MECH 466</td>\n",
       "      <td>Automatic Control</td>\n",
       "      <td>Process and system characteristics; transient ...</td>\n",
       "    </tr>\n",
       "  </tbody>\n",
       "</table>\n",
       "</div>"
      ],
      "text/plain": [
       "   Course Number                                        Course Name  \\\n",
       "0       MATH 254  Multivariable and Vector Calculus for Mechanic...   \n",
       "1       MATH 258  Differential Equations for Mechanical Engineering   \n",
       "2       MECH 220                         Technical Skills Practicum   \n",
       "3       MECH 221                              Engineering Science I   \n",
       "4       MECH 222                             Engineering Science II   \n",
       "5       MECH 223      Introduction to the Mechanical Design Process   \n",
       "6       MECH 224              Integration of Engineering Concepts I   \n",
       "7       MECH 225             Integration of Engineering Concepts II   \n",
       "8       MECH 226   Technical Communication for Mechanical Engineers   \n",
       "9       MECH 227  Approaches to Technical Communication for Mech...   \n",
       "10      MECH 305  Data Analysis and Mechanical Engineering Labor...   \n",
       "11      MECH 325                                     Machine Design   \n",
       "12      MECH 426                                  Mechanical Design   \n",
       "13      MECH 327                                  Thermodynamics II   \n",
       "14      MECH 328              Mechanical Engineering Design Project   \n",
       "15      MECH 358                               Engineering Analysis   \n",
       "16      MECH 360                             Mechanics of Materials   \n",
       "17      MECH 368       Engineering Measurements and Instrumentation   \n",
       "18      MECH 375                                      Heat Transfer   \n",
       "19      MECH 380                                     Fluid Dynamics   \n",
       "20      MECH 392                            Manufacturing Processes   \n",
       "21      APSC 450                  Professional Engineering Practice   \n",
       "22      ELEC 344           Applied Electronics and Electromechanics   \n",
       "23      MECH 329                    Materials for Mechanical Design   \n",
       "24      MECH 431                              Engineering Economics   \n",
       "25      MECH 457              Mechanical Engineering Design Project   \n",
       "26      MECH 463                              Mechanical Vibrations   \n",
       "27      MECH 466                                  Automatic Control   \n",
       "\n",
       "                                   Course Description  \n",
       "0   Partial differentiation, extreme values, multi...  \n",
       "1   First-order equations; linear equations; linea...  \n",
       "2   Engineering graphics, spatial visualization, C...  \n",
       "3   Rigid body kinetics and kinematics, basic elec...  \n",
       "4   Fluid properties, equations of state. Pressure...  \n",
       "5   Design methodology, synthesis and analysis. De...  \n",
       "6   Integration of the theory and practice of Mech...  \n",
       "7   Integration of the theory and practice of Mech...  \n",
       "8   Written and oral communication. Preparation of...  \n",
       "9   Written and oral communication. Preparation of...  \n",
       "10  The use of probability and statistical methods...  \n",
       "11  Selection of flexible drives, bearings, fluid ...  \n",
       "12  Design of shafts and welded joints. Fatigue an...  \n",
       "13  Air standard and vapor cycles; first and secon...  \n",
       "14  Applying the design process, making educated a...  \n",
       "15  Fourier series; auto- and cross-correlation; p...  \n",
       "16  Beam deflections, singularity functions; use o...  \n",
       "17  Industrial measurement needs including: archit...  \n",
       "18  Steady and transient conduction. Radiation hea...  \n",
       "19  Review of principles, compressible flow, poten...  \n",
       "20  Manufacturing characteristics of materials and...  \n",
       "21  Legislation affecting the practice of engineer...  \n",
       "22  Characteristics of semiconductor devices; anal...  \n",
       "23  Selection of material properties for mechanica...  \n",
       "24  Discounted cash flows. Sources of funds, cost ...  \n",
       "25  A capstone design project designed to give stu...  \n",
       "26  Theory of vibration of mechanical systems. Und...  \n",
       "27  Process and system characteristics; transient ...  "
      ]
     },
     "execution_count": 33,
     "metadata": {},
     "output_type": "execute_result"
    }
   ],
   "source": [
    "import pandas as pd\n",
    "\n",
    "df = pd.DataFrame({\n",
    "    \n",
    "    \"Course Number\": course_codes,\n",
    "    \"Course Name\": course_names,\n",
    "    \"Course Description\": course_descs    \n",
    "    \n",
    "})\n",
    "\n",
    "df"
   ]
  },
  {
   "cell_type": "code",
   "execution_count": 34,
   "metadata": {},
   "outputs": [],
   "source": [
    "df.to_csv('UBC_MechEng_Core_(Years2-4)_Courses.csv', index = False)"
   ]
  }
 ],
 "metadata": {
  "kernelspec": {
   "display_name": "Python 3",
   "language": "python",
   "name": "python3"
  },
  "language_info": {
   "codemirror_mode": {
    "name": "ipython",
    "version": 3
   },
   "file_extension": ".py",
   "mimetype": "text/x-python",
   "name": "python",
   "nbconvert_exporter": "python",
   "pygments_lexer": "ipython3",
   "version": "3.8.5"
  }
 },
 "nbformat": 4,
 "nbformat_minor": 4
}
