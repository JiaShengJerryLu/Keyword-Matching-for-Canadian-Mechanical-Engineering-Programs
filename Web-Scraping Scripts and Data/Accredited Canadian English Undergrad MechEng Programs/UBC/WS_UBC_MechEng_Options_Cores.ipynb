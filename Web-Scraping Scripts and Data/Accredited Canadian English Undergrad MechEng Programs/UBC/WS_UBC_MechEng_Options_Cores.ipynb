{
 "cells": [
  {
   "cell_type": "code",
   "execution_count": 1,
   "metadata": {},
   "outputs": [],
   "source": [
    "from bs4 import BeautifulSoup as soup\n",
    "from urllib.request import urlopen as ureq\n",
    "import time\n",
    "import re"
   ]
  },
  {
   "cell_type": "markdown",
   "metadata": {},
   "source": [
    "electives are from the same list as the general mecheng program"
   ]
  },
  {
   "cell_type": "code",
   "execution_count": 2,
   "metadata": {},
   "outputs": [],
   "source": [
    "url = \"http://www.calendar.ubc.ca/vancouver/index.cfm?tree=12,195,272,43\""
   ]
  },
  {
   "cell_type": "code",
   "execution_count": 3,
   "metadata": {},
   "outputs": [],
   "source": [
    "uClient = ureq(url)\n",
    "page_html = uClient.read()\n",
    "uClient.close()\n",
    "page_soup = soup(page_html, \"html.parser\")"
   ]
  },
  {
   "cell_type": "markdown",
   "metadata": {},
   "source": [
    "# Aerospace"
   ]
  },
  {
   "cell_type": "markdown",
   "metadata": {},
   "source": [
    "## 1. Collect course codes"
   ]
  },
  {
   "cell_type": "code",
   "execution_count": 4,
   "metadata": {},
   "outputs": [
    {
     "data": {
      "text/plain": [
       "54"
      ]
     },
     "execution_count": 4,
     "metadata": {},
     "output_type": "execute_result"
    }
   ],
   "source": [
    "table = page_soup.find(\"p\", text = \"Mechanical Engineering Aerospace Option\").findNext(\"table\")\n",
    "containers = table.findAll(\"td\")\n",
    "len(containers)"
   ]
  },
  {
   "cell_type": "code",
   "execution_count": 5,
   "metadata": {},
   "outputs": [
    {
     "data": {
      "text/plain": [
       "['ELEC 344',\n",
       " 'MECH 305',\n",
       " 'MECH 327',\n",
       " 'MECH 328',\n",
       " 'MECH 358',\n",
       " 'MECH 360',\n",
       " 'MECH 375',\n",
       " 'MECH 380',\n",
       " 'MECH 426',\n",
       " 'MECH 466',\n",
       " 'MECH 481',\n",
       " 'APSC 450',\n",
       " 'MECH 431',\n",
       " 'MECH 453 or APSC 4962',\n",
       " 'MECH 462',\n",
       " 'MECH 463',\n",
       " 'MECH 477',\n",
       " 'MECH 479',\n",
       " 'MECH 484',\n",
       " 'MECH 485',\n",
       " 'MECH 489',\n",
       " 'MTRL 494']"
      ]
     },
     "execution_count": 5,
     "metadata": {},
     "output_type": "execute_result"
    }
   ],
   "source": [
    "course_codes = [container.text.strip() for container in containers if bool(re.match(\"[A-Z]{4} [0-9]{3}\", container.text.strip()))]\n",
    "course_codes"
   ]
  },
  {
   "cell_type": "code",
   "execution_count": 6,
   "metadata": {},
   "outputs": [
    {
     "data": {
      "text/plain": [
       "22"
      ]
     },
     "execution_count": 6,
     "metadata": {},
     "output_type": "execute_result"
    }
   ],
   "source": [
    "len(course_codes)"
   ]
  },
  {
   "cell_type": "code",
   "execution_count": 7,
   "metadata": {},
   "outputs": [
    {
     "data": {
      "text/plain": [
       "['ELEC 344',\n",
       " 'MECH 305',\n",
       " 'MECH 327',\n",
       " 'MECH 328',\n",
       " 'MECH 358',\n",
       " 'MECH 360',\n",
       " 'MECH 375',\n",
       " 'MECH 380',\n",
       " 'MECH 426',\n",
       " 'MECH 466',\n",
       " 'MECH 481',\n",
       " 'APSC 450',\n",
       " 'MECH 431',\n",
       " 'MECH 453',\n",
       " 'APSC 4962',\n",
       " 'MECH 462',\n",
       " 'MECH 463',\n",
       " 'MECH 477',\n",
       " 'MECH 479',\n",
       " 'MECH 484',\n",
       " 'MECH 485',\n",
       " 'MECH 489',\n",
       " 'MTRL 494']"
      ]
     },
     "execution_count": 7,
     "metadata": {},
     "output_type": "execute_result"
    }
   ],
   "source": [
    "course_codes = [course_code.split(\" or \") for course_code in course_codes]\n",
    "course_codes = [course_code for sub_list in course_codes for course_code in sub_list]\n",
    "course_codes"
   ]
  },
  {
   "cell_type": "code",
   "execution_count": 8,
   "metadata": {
    "scrolled": false
   },
   "outputs": [
    {
     "data": {
      "text/plain": [
       "['ELEC 344',\n",
       " 'MECH 305',\n",
       " 'MECH 327',\n",
       " 'MECH 328',\n",
       " 'MECH 358',\n",
       " 'MECH 360',\n",
       " 'MECH 375',\n",
       " 'MECH 380',\n",
       " 'MECH 426',\n",
       " 'MECH 466',\n",
       " 'MECH 481',\n",
       " 'APSC 450',\n",
       " 'MECH 431',\n",
       " 'MECH 453',\n",
       " 'APSC 496',\n",
       " 'MECH 462',\n",
       " 'MECH 463',\n",
       " 'MECH 477',\n",
       " 'MECH 479',\n",
       " 'MECH 484',\n",
       " 'MECH 485',\n",
       " 'MECH 489',\n",
       " 'MTRL 494']"
      ]
     },
     "execution_count": 8,
     "metadata": {},
     "output_type": "execute_result"
    }
   ],
   "source": [
    "course_codes = [course_code[:-1] if len(course_code) > 8 else course_code for course_code in course_codes]\n",
    "course_codes"
   ]
  },
  {
   "cell_type": "markdown",
   "metadata": {},
   "source": [
    "## 2. Use course codes to find and scrape corresponding course names and descriptions"
   ]
  },
  {
   "cell_type": "code",
   "execution_count": 9,
   "metadata": {},
   "outputs": [],
   "source": [
    "subject_links = {\n",
    "    \"MECH\": \"http://www.calendar.ubc.ca/vancouver/courses.cfm?page=code&institution=2&code=MECH\",\n",
    "    \"MTRL\": \"http://www.calendar.ubc.ca/vancouver/courses.cfm?page=code&institution=2&code=MTRL\",\n",
    "    \"ELEC\": \"http://www.calendar.ubc.ca/vancouver/courses.cfm?page=code&institution=2&code=ELEC\",\n",
    "    \"APSC\": \"http://www.calendar.ubc.ca/vancouver/courses.cfm?page=code&institution=2&code=APSC\"\n",
    "}"
   ]
  },
  {
   "cell_type": "code",
   "execution_count": 10,
   "metadata": {
    "scrolled": false
   },
   "outputs": [
    {
     "name": "stdout",
     "output_type": "stream",
     "text": [
      "scraped  ELEC 344\n",
      "scraped  MECH 305\n",
      "scraped  MECH 327\n",
      "scraped  MECH 328\n",
      "scraped  MECH 358\n",
      "scraped  MECH 360\n",
      "scraped  MECH 375\n",
      "scraped  MECH 380\n",
      "scraped  MECH 426\n",
      "scraped  MECH 466\n",
      "scraped  MECH 481\n",
      "scraped  APSC 450\n",
      "scraped  MECH 431\n",
      "scraped  MECH 453\n",
      "scraped  APSC 496\n",
      "scraped  MECH 462\n",
      "scraped  MECH 463\n",
      "scraped  MECH 477\n",
      "scraped  MECH 479\n",
      "scraped  MECH 484\n",
      "scraped  MECH 485\n",
      "scraped  MECH 489\n",
      "scraped  MTRL 494\n",
      "23\n"
     ]
    }
   ],
   "source": [
    "course_names = []\n",
    "course_descs = []\n",
    "counter = 0\n",
    "prev_link = \"\"\n",
    "\n",
    "for course_code in course_codes:\n",
    "    \n",
    "    if subject_links[course_code.split()[0]] != prev_link:\n",
    "        uClient = ureq(subject_links[course_code.split()[0]])\n",
    "        time.sleep(2)\n",
    "        page_html = uClient.read()\n",
    "        uClient.close()\n",
    "        page_soup = soup(page_html, \"html.parser\")\n",
    "        prev_link = subject_links[course_code.split()[0]]\n",
    "        \n",
    "    course_title_container = page_soup.find(text = re.compile(\"^\" + course_code))\n",
    "    if course_title_container is None:\n",
    "        print(\"Cannot find \", course_code)\n",
    "    else:\n",
    "        course_names.append(course_title_container.findNext().text.strip())\n",
    "        course_descs.append(course_title_container.findNext().findNext().text.strip())\n",
    "    \n",
    "        counter += 1\n",
    "        print(\"scraped \", course_code)\n",
    "    \n",
    "print(counter)"
   ]
  },
  {
   "cell_type": "markdown",
   "metadata": {},
   "source": [
    "## 3. Inspect and write to CSV"
   ]
  },
  {
   "cell_type": "code",
   "execution_count": 11,
   "metadata": {
    "scrolled": false
   },
   "outputs": [
    {
     "data": {
      "text/plain": [
       "['Applied Electronics and Electromechanics',\n",
       " 'Data Analysis and Mechanical Engineering Laboratories',\n",
       " 'Thermodynamics II',\n",
       " 'Mechanical Engineering Design Project',\n",
       " 'Engineering Analysis',\n",
       " 'Mechanics of Materials',\n",
       " 'Heat Transfer',\n",
       " 'Fluid Dynamics',\n",
       " 'Mechanical Design',\n",
       " 'Automatic Control',\n",
       " 'Aerodynamics of Aircraft I',\n",
       " 'Professional Engineering Practice',\n",
       " 'Engineering Economics',\n",
       " 'Aerospace Design Project',\n",
       " 'Interdisciplinary Engineering Design Project',\n",
       " 'Finite Element Analysis',\n",
       " 'Mechanical Vibrations',\n",
       " 'Aerospace Propulsion',\n",
       " 'Introduction to Computational Fluid Dynamics',\n",
       " 'Aircraft Design: Aerodynamics',\n",
       " 'Aircraft Design: Structures',\n",
       " 'Experimental Thermofluids',\n",
       " 'Composite Materials']"
      ]
     },
     "execution_count": 11,
     "metadata": {},
     "output_type": "execute_result"
    }
   ],
   "source": [
    "course_names"
   ]
  },
  {
   "cell_type": "code",
   "execution_count": 12,
   "metadata": {
    "scrolled": true
   },
   "outputs": [
    {
     "data": {
      "text/plain": [
       "['Characteristics of semiconductor devices; analog circuits; force and torque production; motor principles and torque-speed characteristics; principles of power electronics. Not open to students in Electrical and Computer Engineering. This course is not eligible for Credit/D/Fail grading. [2-2*-2*] Prerequisite: One of ELEC 201, ELEC 203, MECH 221.',\n",
       " 'The use of probability and statistical methods for engineering applications. Mechanics of materials, heat transfer, and fluid dynamics. Instrumentation, data acquisition, and data manipulation using modern computational tools. This course is not eligible for Credit/D/Fail grading. [3-5-1*] Prerequisite: All of MECH 220, MECH 223, MECH 224, MECH 225.',\n",
       " 'Air standard and vapor cycles; first and second law of cycles. Exergy. Gas mixtures.  Energy conservation. Equilibrium. Reacting systems. Application to thermofluid systems such as power plants. This course is not eligible for Credit/D/Fail grading. [3-0-1] Prerequisite: Either (a) MECH 225 or (b) one of CHBE 241, ENPH 257 and one of CHBE 251, CIVL 215, MECH 280.',\n",
       " 'Applying the design process, making educated assumptions and decisions, and working in teams to provide a new mechanical design. Weekly lecture discussing product development and various factors affecting the design. This course is not eligible for Credit/D/Fail grading. [1-4-1] Prerequisite: MECH 223. (And third year standing in Mechanical Engineering)',\n",
       " 'Fourier series; auto- and cross-correlation; power spectra; discrete Fourier transform; boundary-value problems; numerical methods; partial differential equations; heat, wave, Laplace, Poisson, and wave equations.  Applications to mechanical engineering and practical computing emphasized.  Credit will be granted for only one of MECH 358 and MATH 358. This course is not eligible for Credit/D/Fail grading. [3-1-0] Prerequisite: All of MECH 224, MECH 225.',\n",
       " \"Beam deflections, singularity functions; use of tabulated solutions; column buckling; Castigliano's theorem, statically indeterminate beams, bending of beams with asymmetric cross-sections, shear centre; principal stresses and stress invariants in three dimensions. This course is not eligible for Credit/D/Fail grading. [3-0-1] Prerequisite: One of MECH 224, MECH 260.\",\n",
       " 'Steady and transient conduction. Radiation heat transfer. Convective heat and mass transfer in pipes and from external surfaces. Design of heat exchangers. This course is not eligible for Credit/D/Fail grading. [3-0-1] Prerequisite: Either (a) MECH 225 or (b) one of CHBE 241, ENPH 257 and one of CHBE 251, CIVL 215, MECH 280.',\n",
       " 'Review of principles, compressible flow, potential flow, simple laminar viscous flow, boundary layers, flow around bluff bodies. This course is not eligible for Credit/D/Fail grading. [3-0-1] Prerequisite: Either (a) MECH 225 or (b) MATH 255 and one of CHBE 251, CIVL 215, MECH 280 and one of CHBE 241, ENPH 257.',\n",
       " 'Design of shafts and welded joints. Fatigue and fracture considerations in design: failure types, failure under static and dynamic loading, fatigue failure, crack initiation, and propagation. Introduction to the FEM in mechanical design. Students can only receive credit for one of MECH 326 or MECH 426. [2-0-3] Prerequisite: One of MECH 223, MECH 260. Corequisite: MECH 360.',\n",
       " 'Process and system characteristics; transient response; the closed loop; block diagrams and transfer functions; control actions; stability; Nyquist diagrams; Bode diagrams; root locus methods; frequency response; system compensation; nonlinear control systems; digital computer control. Laboratory experiments to support the lecture content. Credit cannot be obtained for both MECH 466 and MECH 467. This course is not eligible for Credit/D/Fail grading. [3-3*-0] Prerequisite: Either (a) all of MECH 220, MECH 221, MECH 463 or (b) all of MATH 255, MECH 463 and one of ELEC 201, ELEC 202, ELEC 204, EECE 251, EECE 253;  or (c) all of ELEC 204, ELEC 221, ENPH 270, MATH 255.',\n",
       " 'Analysis of airfoils and wings. Potential flow, thin airfoil theory, lifting line analysis of wings. Predicting viscous drag. Numerical methods for analysis and design of airfoils and wings. Use of wind tunnels for experimental study of aerodynamics. This course is not eligible for Credit/D/Fail grading. [3-1*-0] Prerequisite: MECH 380.',\n",
       " 'Legislation affecting the practice of engineering; ethical principles and responsibilities. Management of engineering enterprises; labour relations, safety and environmental legislation. Restricted to engineering undergraduate students in the final year of their program. This course is not eligible for Credit/D/Fail grading. [2-0-0]',\n",
       " 'Discounted cash flows. Sources of funds, cost of capital. Effects of depreciation, taxes, inflation. Evaluation and comparison of economic models for engineering projects. Replacement decisions. Public project analysis. Risk analysis. Project control, inventory analysis, simulation. This course is not eligible for Credit/D/Fail grading. [3-0-0]',\n",
       " 'A capstone course to provide students experience in the design/development of practical mechanical and aerospace devices. Projects are provided by local industry and engineering research laboratories. Credit will be granted for only one of MECH 453, MECH 454, MECH 457, MECH 458, MECH 459, or APSC 496. This course is not eligible for Credit/D/Fail grading. [1-2-2; 1-2-2] Prerequisite: All of MECH 327, MECH 328, MECH 360 and fourth-year standing in the Aerospace Option.',\n",
       " 'Projects involving students from several departments. This course is not eligible for Credit/D/Fail grading.',\n",
       " 'Theory and element selection. Virtual work and weighted residual formulation. Linear elastic analysis. Heat transfer analysis. Isoparametic elements. Development of computer programs for simple problems. Utilization of existing computer packages. Application to mechanical engineering problems. This course is not eligible for Credit/D/Fail grading. [2-3*-0] Prerequisite: Either (a) all of MECH 360, MECH 375 or (b) all of MECH 360, MTRL 264.',\n",
       " 'Theory of vibration of mechanical systems. Undamped 1 degree of freedom vibration, forced vibrations and resonance, damping, multiple degree of freedom systems, mode shapes and orthogonality, continuous systems, vibration measuring instruments and frequency spectrum analysis. This course is not eligible for Credit/D/Fail grading. [3-2*-1] Prerequisite: One of MECH 224, MECH 260.',\n",
       " 'Cycle analysis of jet engines, thermodynamic cycles, mechanics and thermodynamics of combustion, components and the performance characteristics of chemical rockets. The detailed analysis of operating characteristics of turbojet, turbofan, turboprop, afterburning, and ramjet propulsion systems. This course is not eligible for Credit/D/Fail grading. [3-0-0] Prerequisite: All of MECH 327, MECH 375, MECH 380.',\n",
       " 'Techniques for numerical solution of ordinary and partial differential equations, including an introduction to the finite difference, finite volume and finite element approaches. Simulation of laminar and turbulent flows, including common turbulent models. Validation techniques. This course is not eligible for Credit/D/Fail grading. [3-1-0] Prerequisite: MECH 380.',\n",
       " 'Aircraft performance, stability and control, loading and air worthiness. Detailed example. This course is not eligible for Credit/D/Fail grading. [2-2-0] Corequisite: MECH 481.',\n",
       " 'Structural components of aircraft, introduction to the finite element method, bending and buckling of thin plates. Design of aircraft wing and fuselage structures, moments of inertia for complex shapes. This course is not eligible for Credit/D/Fail grading. [3-0-1]',\n",
       " 'Experimental uncertainty. Design of experiments. Test facilities. Temperature and pressure measurement techniques and instrumentation. Velocity and flow rate measurement techniques. Flow visualization. Case studies of industrial and research experimental practice. Credit will be granted for only one of MECH 489 or MECH 582. This course is not eligible for Credit/D/Fail grading. [3-2-0] Prerequisite: All of MECH 375, MECH 380.',\n",
       " 'Understanding the properties and the mechanical behaviour of composite materials with emphasis on analysis, design, and manufacturing. This course is not eligible for Credit/D/Fail grading. [3-0-0]']"
      ]
     },
     "execution_count": 12,
     "metadata": {},
     "output_type": "execute_result"
    }
   ],
   "source": [
    "course_descs"
   ]
  },
  {
   "cell_type": "code",
   "execution_count": 13,
   "metadata": {
    "scrolled": true
   },
   "outputs": [
    {
     "data": {
      "text/html": [
       "<div>\n",
       "<style scoped>\n",
       "    .dataframe tbody tr th:only-of-type {\n",
       "        vertical-align: middle;\n",
       "    }\n",
       "\n",
       "    .dataframe tbody tr th {\n",
       "        vertical-align: top;\n",
       "    }\n",
       "\n",
       "    .dataframe thead th {\n",
       "        text-align: right;\n",
       "    }\n",
       "</style>\n",
       "<table border=\"1\" class=\"dataframe\">\n",
       "  <thead>\n",
       "    <tr style=\"text-align: right;\">\n",
       "      <th></th>\n",
       "      <th>Course Number</th>\n",
       "      <th>Course Name</th>\n",
       "      <th>Course Description</th>\n",
       "    </tr>\n",
       "  </thead>\n",
       "  <tbody>\n",
       "    <tr>\n",
       "      <th>0</th>\n",
       "      <td>ELEC 344</td>\n",
       "      <td>Applied Electronics and Electromechanics</td>\n",
       "      <td>Characteristics of semiconductor devices; anal...</td>\n",
       "    </tr>\n",
       "    <tr>\n",
       "      <th>1</th>\n",
       "      <td>MECH 305</td>\n",
       "      <td>Data Analysis and Mechanical Engineering Labor...</td>\n",
       "      <td>The use of probability and statistical methods...</td>\n",
       "    </tr>\n",
       "    <tr>\n",
       "      <th>2</th>\n",
       "      <td>MECH 327</td>\n",
       "      <td>Thermodynamics II</td>\n",
       "      <td>Air standard and vapor cycles; first and secon...</td>\n",
       "    </tr>\n",
       "    <tr>\n",
       "      <th>3</th>\n",
       "      <td>MECH 328</td>\n",
       "      <td>Mechanical Engineering Design Project</td>\n",
       "      <td>Applying the design process, making educated a...</td>\n",
       "    </tr>\n",
       "    <tr>\n",
       "      <th>4</th>\n",
       "      <td>MECH 358</td>\n",
       "      <td>Engineering Analysis</td>\n",
       "      <td>Fourier series; auto- and cross-correlation; p...</td>\n",
       "    </tr>\n",
       "    <tr>\n",
       "      <th>5</th>\n",
       "      <td>MECH 360</td>\n",
       "      <td>Mechanics of Materials</td>\n",
       "      <td>Beam deflections, singularity functions; use o...</td>\n",
       "    </tr>\n",
       "    <tr>\n",
       "      <th>6</th>\n",
       "      <td>MECH 375</td>\n",
       "      <td>Heat Transfer</td>\n",
       "      <td>Steady and transient conduction. Radiation hea...</td>\n",
       "    </tr>\n",
       "    <tr>\n",
       "      <th>7</th>\n",
       "      <td>MECH 380</td>\n",
       "      <td>Fluid Dynamics</td>\n",
       "      <td>Review of principles, compressible flow, poten...</td>\n",
       "    </tr>\n",
       "    <tr>\n",
       "      <th>8</th>\n",
       "      <td>MECH 426</td>\n",
       "      <td>Mechanical Design</td>\n",
       "      <td>Design of shafts and welded joints. Fatigue an...</td>\n",
       "    </tr>\n",
       "    <tr>\n",
       "      <th>9</th>\n",
       "      <td>MECH 466</td>\n",
       "      <td>Automatic Control</td>\n",
       "      <td>Process and system characteristics; transient ...</td>\n",
       "    </tr>\n",
       "    <tr>\n",
       "      <th>10</th>\n",
       "      <td>MECH 481</td>\n",
       "      <td>Aerodynamics of Aircraft I</td>\n",
       "      <td>Analysis of airfoils and wings. Potential flow...</td>\n",
       "    </tr>\n",
       "    <tr>\n",
       "      <th>11</th>\n",
       "      <td>APSC 450</td>\n",
       "      <td>Professional Engineering Practice</td>\n",
       "      <td>Legislation affecting the practice of engineer...</td>\n",
       "    </tr>\n",
       "    <tr>\n",
       "      <th>12</th>\n",
       "      <td>MECH 431</td>\n",
       "      <td>Engineering Economics</td>\n",
       "      <td>Discounted cash flows. Sources of funds, cost ...</td>\n",
       "    </tr>\n",
       "    <tr>\n",
       "      <th>13</th>\n",
       "      <td>MECH 453</td>\n",
       "      <td>Aerospace Design Project</td>\n",
       "      <td>A capstone course to provide students experien...</td>\n",
       "    </tr>\n",
       "    <tr>\n",
       "      <th>14</th>\n",
       "      <td>APSC 496</td>\n",
       "      <td>Interdisciplinary Engineering Design Project</td>\n",
       "      <td>Projects involving students from several depar...</td>\n",
       "    </tr>\n",
       "    <tr>\n",
       "      <th>15</th>\n",
       "      <td>MECH 462</td>\n",
       "      <td>Finite Element Analysis</td>\n",
       "      <td>Theory and element selection. Virtual work and...</td>\n",
       "    </tr>\n",
       "    <tr>\n",
       "      <th>16</th>\n",
       "      <td>MECH 463</td>\n",
       "      <td>Mechanical Vibrations</td>\n",
       "      <td>Theory of vibration of mechanical systems. Und...</td>\n",
       "    </tr>\n",
       "    <tr>\n",
       "      <th>17</th>\n",
       "      <td>MECH 477</td>\n",
       "      <td>Aerospace Propulsion</td>\n",
       "      <td>Cycle analysis of jet engines, thermodynamic c...</td>\n",
       "    </tr>\n",
       "    <tr>\n",
       "      <th>18</th>\n",
       "      <td>MECH 479</td>\n",
       "      <td>Introduction to Computational Fluid Dynamics</td>\n",
       "      <td>Techniques for numerical solution of ordinary ...</td>\n",
       "    </tr>\n",
       "    <tr>\n",
       "      <th>19</th>\n",
       "      <td>MECH 484</td>\n",
       "      <td>Aircraft Design: Aerodynamics</td>\n",
       "      <td>Aircraft performance, stability and control, l...</td>\n",
       "    </tr>\n",
       "    <tr>\n",
       "      <th>20</th>\n",
       "      <td>MECH 485</td>\n",
       "      <td>Aircraft Design: Structures</td>\n",
       "      <td>Structural components of aircraft, introductio...</td>\n",
       "    </tr>\n",
       "    <tr>\n",
       "      <th>21</th>\n",
       "      <td>MECH 489</td>\n",
       "      <td>Experimental Thermofluids</td>\n",
       "      <td>Experimental uncertainty. Design of experiment...</td>\n",
       "    </tr>\n",
       "    <tr>\n",
       "      <th>22</th>\n",
       "      <td>MTRL 494</td>\n",
       "      <td>Composite Materials</td>\n",
       "      <td>Understanding the properties and the mechanica...</td>\n",
       "    </tr>\n",
       "  </tbody>\n",
       "</table>\n",
       "</div>"
      ],
      "text/plain": [
       "   Course Number                                        Course Name  \\\n",
       "0       ELEC 344           Applied Electronics and Electromechanics   \n",
       "1       MECH 305  Data Analysis and Mechanical Engineering Labor...   \n",
       "2       MECH 327                                  Thermodynamics II   \n",
       "3       MECH 328              Mechanical Engineering Design Project   \n",
       "4       MECH 358                               Engineering Analysis   \n",
       "5       MECH 360                             Mechanics of Materials   \n",
       "6       MECH 375                                      Heat Transfer   \n",
       "7       MECH 380                                     Fluid Dynamics   \n",
       "8       MECH 426                                  Mechanical Design   \n",
       "9       MECH 466                                  Automatic Control   \n",
       "10      MECH 481                         Aerodynamics of Aircraft I   \n",
       "11      APSC 450                  Professional Engineering Practice   \n",
       "12      MECH 431                              Engineering Economics   \n",
       "13      MECH 453                           Aerospace Design Project   \n",
       "14      APSC 496       Interdisciplinary Engineering Design Project   \n",
       "15      MECH 462                            Finite Element Analysis   \n",
       "16      MECH 463                              Mechanical Vibrations   \n",
       "17      MECH 477                               Aerospace Propulsion   \n",
       "18      MECH 479       Introduction to Computational Fluid Dynamics   \n",
       "19      MECH 484                      Aircraft Design: Aerodynamics   \n",
       "20      MECH 485                        Aircraft Design: Structures   \n",
       "21      MECH 489                          Experimental Thermofluids   \n",
       "22      MTRL 494                                Composite Materials   \n",
       "\n",
       "                                   Course Description  \n",
       "0   Characteristics of semiconductor devices; anal...  \n",
       "1   The use of probability and statistical methods...  \n",
       "2   Air standard and vapor cycles; first and secon...  \n",
       "3   Applying the design process, making educated a...  \n",
       "4   Fourier series; auto- and cross-correlation; p...  \n",
       "5   Beam deflections, singularity functions; use o...  \n",
       "6   Steady and transient conduction. Radiation hea...  \n",
       "7   Review of principles, compressible flow, poten...  \n",
       "8   Design of shafts and welded joints. Fatigue an...  \n",
       "9   Process and system characteristics; transient ...  \n",
       "10  Analysis of airfoils and wings. Potential flow...  \n",
       "11  Legislation affecting the practice of engineer...  \n",
       "12  Discounted cash flows. Sources of funds, cost ...  \n",
       "13  A capstone course to provide students experien...  \n",
       "14  Projects involving students from several depar...  \n",
       "15  Theory and element selection. Virtual work and...  \n",
       "16  Theory of vibration of mechanical systems. Und...  \n",
       "17  Cycle analysis of jet engines, thermodynamic c...  \n",
       "18  Techniques for numerical solution of ordinary ...  \n",
       "19  Aircraft performance, stability and control, l...  \n",
       "20  Structural components of aircraft, introductio...  \n",
       "21  Experimental uncertainty. Design of experiment...  \n",
       "22  Understanding the properties and the mechanica...  "
      ]
     },
     "execution_count": 13,
     "metadata": {},
     "output_type": "execute_result"
    }
   ],
   "source": [
    "import pandas as pd\n",
    "\n",
    "df = pd.DataFrame({\n",
    "    \n",
    "    \"Course Number\": course_codes,\n",
    "    \"Course Name\": course_names,\n",
    "    \"Course Description\": course_descs    \n",
    "    \n",
    "})\n",
    "\n",
    "df"
   ]
  },
  {
   "cell_type": "code",
   "execution_count": 14,
   "metadata": {},
   "outputs": [],
   "source": [
    "df.to_csv('UBC_MechEng_Aerospace_option_core_(Years2-4)_Courses.csv', index = False)"
   ]
  },
  {
   "cell_type": "markdown",
   "metadata": {},
   "source": [
    "# Biomedical"
   ]
  },
  {
   "cell_type": "markdown",
   "metadata": {},
   "source": [
    "## 1. Collect course codes"
   ]
  },
  {
   "cell_type": "code",
   "execution_count": 15,
   "metadata": {},
   "outputs": [],
   "source": [
    "url = \"http://www.calendar.ubc.ca/vancouver/index.cfm?tree=12,195,272,43\""
   ]
  },
  {
   "cell_type": "code",
   "execution_count": 16,
   "metadata": {},
   "outputs": [],
   "source": [
    "uClient = ureq(url)\n",
    "page_html = uClient.read()\n",
    "uClient.close()\n",
    "page_soup = soup(page_html, \"html.parser\")"
   ]
  },
  {
   "cell_type": "code",
   "execution_count": 17,
   "metadata": {},
   "outputs": [
    {
     "data": {
      "text/plain": [
       "50"
      ]
     },
     "execution_count": 17,
     "metadata": {},
     "output_type": "execute_result"
    }
   ],
   "source": [
    "#only scrape the first table, the second table in this section is missing mech 326 and otherwise equivalent\n",
    "table = page_soup.find(\"h4\", text = \"Biomechanics and Medical Devices Option\").findNext(\"table\")\n",
    "containers = table.findAll(\"td\")\n",
    "len(containers)"
   ]
  },
  {
   "cell_type": "code",
   "execution_count": 18,
   "metadata": {},
   "outputs": [
    {
     "data": {
      "text/plain": [
       "['BMEG 410',\n",
       " 'MECH 305',\n",
       " 'MECH 325',\n",
       " 'MECH 326 or MECH 426',\n",
       " 'MECH 328',\n",
       " 'MECH 358',\n",
       " 'MECH 360',\n",
       " 'MECH 368',\n",
       " 'MECH 375',\n",
       " 'MECH 380',\n",
       " 'MECH 463',\n",
       " 'APSC 450',\n",
       " 'BMEG 456',\n",
       " 'ELEC 344',\n",
       " 'MECH 431',\n",
       " 'MECH 439',\n",
       " 'MECH 4591',\n",
       " 'MECH 466',\n",
       " 'MTRL 495']"
      ]
     },
     "execution_count": 18,
     "metadata": {},
     "output_type": "execute_result"
    }
   ],
   "source": [
    "course_codes = [container.text.strip() for container in containers if bool(re.match(\"[A-Z]{4} [0-9]{3}\", container.text.strip()))]\n",
    "course_codes"
   ]
  },
  {
   "cell_type": "code",
   "execution_count": 19,
   "metadata": {},
   "outputs": [
    {
     "data": {
      "text/plain": [
       "19"
      ]
     },
     "execution_count": 19,
     "metadata": {},
     "output_type": "execute_result"
    }
   ],
   "source": [
    "len(course_codes)"
   ]
  },
  {
   "cell_type": "code",
   "execution_count": 20,
   "metadata": {},
   "outputs": [
    {
     "data": {
      "text/plain": [
       "['BMEG 410',\n",
       " 'MECH 305',\n",
       " 'MECH 325',\n",
       " 'MECH 326',\n",
       " 'MECH 426',\n",
       " 'MECH 328',\n",
       " 'MECH 358',\n",
       " 'MECH 360',\n",
       " 'MECH 368',\n",
       " 'MECH 375',\n",
       " 'MECH 380',\n",
       " 'MECH 463',\n",
       " 'APSC 450',\n",
       " 'BMEG 456',\n",
       " 'ELEC 344',\n",
       " 'MECH 431',\n",
       " 'MECH 439',\n",
       " 'MECH 459',\n",
       " 'MECH 466',\n",
       " 'MTRL 495']"
      ]
     },
     "execution_count": 20,
     "metadata": {},
     "output_type": "execute_result"
    }
   ],
   "source": [
    "course_codes = [course_code.split(\" or \") for course_code in course_codes]\n",
    "course_codes = [course_code for sub_list in course_codes for course_code in sub_list]\n",
    "course_codes = [course_code[:-1] if len(course_code) > 8 else course_code for course_code in course_codes]\n",
    "course_codes"
   ]
  },
  {
   "cell_type": "markdown",
   "metadata": {},
   "source": [
    "## 2. Use course codes to find and scrape corresponding course names and descriptions"
   ]
  },
  {
   "cell_type": "code",
   "execution_count": 21,
   "metadata": {},
   "outputs": [],
   "source": [
    "subject_links = {\n",
    "    \"MECH\": \"http://www.calendar.ubc.ca/vancouver/courses.cfm?page=code&institution=2&code=MECH\",\n",
    "    \"MTRL\": \"http://www.calendar.ubc.ca/vancouver/courses.cfm?page=code&institution=2&code=MTRL\",\n",
    "    \"ELEC\": \"http://www.calendar.ubc.ca/vancouver/courses.cfm?page=code&institution=2&code=ELEC\",\n",
    "    \"APSC\": \"http://www.calendar.ubc.ca/vancouver/courses.cfm?page=code&institution=2&code=APSC\",\n",
    "    \"BMEG\": \"http://www.calendar.ubc.ca/vancouver/courses.cfm?page=code&institution=2&code=BMEG\"\n",
    "}"
   ]
  },
  {
   "cell_type": "code",
   "execution_count": 22,
   "metadata": {},
   "outputs": [
    {
     "name": "stdout",
     "output_type": "stream",
     "text": [
      "scraped  BMEG 410\n",
      "scraped  MECH 305\n",
      "scraped  MECH 325\n",
      "Cannot find  MECH 326\n",
      "scraped  MECH 426\n",
      "scraped  MECH 328\n",
      "scraped  MECH 358\n",
      "scraped  MECH 360\n",
      "scraped  MECH 368\n",
      "scraped  MECH 375\n",
      "scraped  MECH 380\n",
      "scraped  MECH 463\n",
      "scraped  APSC 450\n",
      "scraped  BMEG 456\n",
      "scraped  ELEC 344\n",
      "scraped  MECH 431\n",
      "scraped  MECH 439\n",
      "scraped  MECH 459\n",
      "scraped  MECH 466\n",
      "scraped  MTRL 495\n",
      "19\n"
     ]
    }
   ],
   "source": [
    "course_names = []\n",
    "course_descs = []\n",
    "counter = 0\n",
    "prev_link = \"\"\n",
    "\n",
    "for course_code in course_codes:\n",
    "    \n",
    "    if subject_links[course_code.split()[0]] != prev_link:\n",
    "        uClient = ureq(subject_links[course_code.split()[0]])\n",
    "        time.sleep(2)\n",
    "        page_html = uClient.read()\n",
    "        uClient.close()\n",
    "        page_soup = soup(page_html, \"html.parser\")\n",
    "        prev_link = subject_links[course_code.split()[0]]\n",
    "        \n",
    "    course_title_container = page_soup.find(text = re.compile(\"^\" + course_code))\n",
    "    if course_title_container is None:\n",
    "        print(\"Cannot find \", course_code)\n",
    "    else:\n",
    "        course_names.append(course_title_container.findNext().text.strip())\n",
    "        course_descs.append(course_title_container.findNext().findNext().text.strip())\n",
    "    \n",
    "        counter += 1\n",
    "        print(\"scraped \", course_code)\n",
    "    \n",
    "print(counter)"
   ]
  },
  {
   "cell_type": "code",
   "execution_count": 23,
   "metadata": {
    "scrolled": true
   },
   "outputs": [
    {
     "data": {
      "text/plain": [
       "19"
      ]
     },
     "execution_count": 23,
     "metadata": {},
     "output_type": "execute_result"
    }
   ],
   "source": [
    "course_codes = [code for code in course_codes if code != \"MECH 326\"] #326 does not exist on website\n",
    "len(course_codes)"
   ]
  },
  {
   "cell_type": "markdown",
   "metadata": {},
   "source": [
    "## 3. Inspect and write to CSV"
   ]
  },
  {
   "cell_type": "code",
   "execution_count": 24,
   "metadata": {},
   "outputs": [
    {
     "data": {
      "text/plain": [
       "['Biomedical Equipment, Physiology, and Anatomy',\n",
       " 'Data Analysis and Mechanical Engineering Laboratories',\n",
       " 'Machine Design',\n",
       " 'Mechanical Design',\n",
       " 'Mechanical Engineering Design Project',\n",
       " 'Engineering Analysis',\n",
       " 'Mechanics of Materials',\n",
       " 'Engineering Measurements and Instrumentation',\n",
       " 'Heat Transfer',\n",
       " 'Fluid Dynamics',\n",
       " 'Mechanical Vibrations',\n",
       " 'Professional Engineering Practice',\n",
       " 'Clinical and Industrial Biomedical Engineering',\n",
       " 'Applied Electronics and Electromechanics',\n",
       " 'Engineering Economics',\n",
       " 'Biomechanics Research',\n",
       " 'Biomedical Design Project',\n",
       " 'Automatic Control',\n",
       " 'Biomaterials']"
      ]
     },
     "execution_count": 24,
     "metadata": {},
     "output_type": "execute_result"
    }
   ],
   "source": [
    "course_names"
   ]
  },
  {
   "cell_type": "code",
   "execution_count": 25,
   "metadata": {
    "scrolled": true
   },
   "outputs": [
    {
     "data": {
      "text/plain": [
       "['Principles and operation of biomedical equipment for cardiovascular system, respiratory system, renal dialysis, endoscopy, surgery, and imaging. Functional relationships of biomedical equipment to physiology and anatomy of major body systems. Credit will be granted for only one of BMEG 410 or BMEG 510. [3-0-2*]',\n",
       " 'The use of probability and statistical methods for engineering applications. Mechanics of materials, heat transfer, and fluid dynamics. Instrumentation, data acquisition, and data manipulation using modern computational tools. This course is not eligible for Credit/D/Fail grading. [3-5-1*] Prerequisite: All of MECH 220, MECH 223, MECH 224, MECH 225.',\n",
       " 'Selection of flexible drives, bearings, fluid power system components, and couplings. Design of bolted joints and power screws. Design and selection of gears, gear trains, and mechanisms. This course is not eligible for Credit/D/Fail grading. [3-0-3] Prerequisite: One of MECH 223, MECH 260. Corequisite: MECH 360.',\n",
       " 'Design of shafts and welded joints. Fatigue and fracture considerations in design: failure types, failure under static and dynamic loading, fatigue failure, crack initiation, and propagation. Introduction to the FEM in mechanical design. Students can only receive credit for one of MECH 326 or MECH 426. [2-0-3] Prerequisite: One of MECH 223, MECH 260. Corequisite: MECH 360.',\n",
       " 'Applying the design process, making educated assumptions and decisions, and working in teams to provide a new mechanical design. Weekly lecture discussing product development and various factors affecting the design. This course is not eligible for Credit/D/Fail grading. [1-4-1] Prerequisite: MECH 223. (And third year standing in Mechanical Engineering)',\n",
       " 'Fourier series; auto- and cross-correlation; power spectra; discrete Fourier transform; boundary-value problems; numerical methods; partial differential equations; heat, wave, Laplace, Poisson, and wave equations.  Applications to mechanical engineering and practical computing emphasized.  Credit will be granted for only one of MECH 358 and MATH 358. This course is not eligible for Credit/D/Fail grading. [3-1-0] Prerequisite: All of MECH 224, MECH 225.',\n",
       " \"Beam deflections, singularity functions; use of tabulated solutions; column buckling; Castigliano's theorem, statically indeterminate beams, bending of beams with asymmetric cross-sections, shear centre; principal stresses and stress invariants in three dimensions. This course is not eligible for Credit/D/Fail grading. [3-0-1] Prerequisite: One of MECH 224, MECH 260.\",\n",
       " 'Industrial measurement needs including: architecture of electronic instrumentation systems; electrical representation of physical quantities; sensors and actuators; analog signal processing using linear and non-linear circuits; computer based readout including programming for user-interface and data acquisition. This course is not eligible for Credit/D/Fail grading. [3-1-0] Prerequisite: Either (a) two of MECH 220, MECH 224, ELEC 203 or (b) two of MECH 220, MECH 224, EECE 263 or (c) all of MANU 230, ELEC 203.',\n",
       " 'Steady and transient conduction. Radiation heat transfer. Convective heat and mass transfer in pipes and from external surfaces. Design of heat exchangers. This course is not eligible for Credit/D/Fail grading. [3-0-1] Prerequisite: Either (a) MECH 225 or (b) one of CHBE 241, ENPH 257 and one of CHBE 251, CIVL 215, MECH 280.',\n",
       " 'Review of principles, compressible flow, potential flow, simple laminar viscous flow, boundary layers, flow around bluff bodies. This course is not eligible for Credit/D/Fail grading. [3-0-1] Prerequisite: Either (a) MECH 225 or (b) MATH 255 and one of CHBE 251, CIVL 215, MECH 280 and one of CHBE 241, ENPH 257.',\n",
       " 'Theory of vibration of mechanical systems. Undamped 1 degree of freedom vibration, forced vibrations and resonance, damping, multiple degree of freedom systems, mode shapes and orthogonality, continuous systems, vibration measuring instruments and frequency spectrum analysis. This course is not eligible for Credit/D/Fail grading. [3-2*-1] Prerequisite: One of MECH 224, MECH 260.',\n",
       " 'Legislation affecting the practice of engineering; ethical principles and responsibilities. Management of engineering enterprises; labour relations, safety and environmental legislation. Restricted to engineering undergraduate students in the final year of their program. This course is not eligible for Credit/D/Fail grading. [2-0-0]',\n",
       " 'Principles of clinical practice, Canadian healthcare system, medical approach to diagnosis, ethics and regulations for clinical trials, medical technology management, medical device development and standards, biostatistics. Credit will be granted for only one of BMEG 257, BMEG 456, BMEG 556. This course is not eligible for Credit/D/Fail grading. [3-0-0]',\n",
       " 'Characteristics of semiconductor devices; analog circuits; force and torque production; motor principles and torque-speed characteristics; principles of power electronics. Not open to students in Electrical and Computer Engineering. This course is not eligible for Credit/D/Fail grading. [2-2*-2*] Prerequisite: One of ELEC 201, ELEC 203, MECH 221.',\n",
       " 'Discounted cash flows. Sources of funds, cost of capital. Effects of depreciation, taxes, inflation. Evaluation and comparison of economic models for engineering projects. Replacement decisions. Public project analysis. Risk analysis. Project control, inventory analysis, simulation. This course is not eligible for Credit/D/Fail grading. [3-0-0]',\n",
       " 'Seminar in Biomechanics research. This course is not eligible for Credit/D/Fail grading. [1-0-0]',\n",
       " 'A capstone design program designed to give students experience in the design and development of practical biomedical devices. Projects are provided by local industry and engineering research laboratories. For students in the Biomedical Option only. Credit will be granted for only one of MECH 453, MECH 454, MECH 457, MECH 458, MECH 459, or APSC 496. This course is not eligible for Credit/D/Fail grading. [1-2-2; 1-2-2-] Prerequisite: All of MECH 325, MECH 328, MECH 360 and fourth-year standing in the Biomedical Option. Corequisite: MECH 426.',\n",
       " 'Process and system characteristics; transient response; the closed loop; block diagrams and transfer functions; control actions; stability; Nyquist diagrams; Bode diagrams; root locus methods; frequency response; system compensation; nonlinear control systems; digital computer control. Laboratory experiments to support the lecture content. Credit cannot be obtained for both MECH 466 and MECH 467. This course is not eligible for Credit/D/Fail grading. [3-3*-0] Prerequisite: Either (a) all of MECH 220, MECH 221, MECH 463 or (b) all of MATH 255, MECH 463 and one of ELEC 201, ELEC 202, ELEC 204, EECE 251, EECE 253;  or (c) all of ELEC 204, ELEC 221, ENPH 270, MATH 255.',\n",
       " 'Engineered materials in medical applications with an emphasis on material properties, functionality, design, and material response in the biological environment. This course is not eligible for Credit/D/Fail grading. [2-0-2] Prerequisite: APSC 278. Equivalency: MMAT 495.']"
      ]
     },
     "execution_count": 25,
     "metadata": {},
     "output_type": "execute_result"
    }
   ],
   "source": [
    "course_descs"
   ]
  },
  {
   "cell_type": "code",
   "execution_count": 26,
   "metadata": {},
   "outputs": [
    {
     "data": {
      "text/html": [
       "<div>\n",
       "<style scoped>\n",
       "    .dataframe tbody tr th:only-of-type {\n",
       "        vertical-align: middle;\n",
       "    }\n",
       "\n",
       "    .dataframe tbody tr th {\n",
       "        vertical-align: top;\n",
       "    }\n",
       "\n",
       "    .dataframe thead th {\n",
       "        text-align: right;\n",
       "    }\n",
       "</style>\n",
       "<table border=\"1\" class=\"dataframe\">\n",
       "  <thead>\n",
       "    <tr style=\"text-align: right;\">\n",
       "      <th></th>\n",
       "      <th>Course Number</th>\n",
       "      <th>Course Name</th>\n",
       "      <th>Course Description</th>\n",
       "    </tr>\n",
       "  </thead>\n",
       "  <tbody>\n",
       "    <tr>\n",
       "      <th>0</th>\n",
       "      <td>BMEG 410</td>\n",
       "      <td>Biomedical Equipment, Physiology, and Anatomy</td>\n",
       "      <td>Principles and operation of biomedical equipme...</td>\n",
       "    </tr>\n",
       "    <tr>\n",
       "      <th>1</th>\n",
       "      <td>MECH 305</td>\n",
       "      <td>Data Analysis and Mechanical Engineering Labor...</td>\n",
       "      <td>The use of probability and statistical methods...</td>\n",
       "    </tr>\n",
       "    <tr>\n",
       "      <th>2</th>\n",
       "      <td>MECH 325</td>\n",
       "      <td>Machine Design</td>\n",
       "      <td>Selection of flexible drives, bearings, fluid ...</td>\n",
       "    </tr>\n",
       "    <tr>\n",
       "      <th>3</th>\n",
       "      <td>MECH 426</td>\n",
       "      <td>Mechanical Design</td>\n",
       "      <td>Design of shafts and welded joints. Fatigue an...</td>\n",
       "    </tr>\n",
       "    <tr>\n",
       "      <th>4</th>\n",
       "      <td>MECH 328</td>\n",
       "      <td>Mechanical Engineering Design Project</td>\n",
       "      <td>Applying the design process, making educated a...</td>\n",
       "    </tr>\n",
       "    <tr>\n",
       "      <th>5</th>\n",
       "      <td>MECH 358</td>\n",
       "      <td>Engineering Analysis</td>\n",
       "      <td>Fourier series; auto- and cross-correlation; p...</td>\n",
       "    </tr>\n",
       "    <tr>\n",
       "      <th>6</th>\n",
       "      <td>MECH 360</td>\n",
       "      <td>Mechanics of Materials</td>\n",
       "      <td>Beam deflections, singularity functions; use o...</td>\n",
       "    </tr>\n",
       "    <tr>\n",
       "      <th>7</th>\n",
       "      <td>MECH 368</td>\n",
       "      <td>Engineering Measurements and Instrumentation</td>\n",
       "      <td>Industrial measurement needs including: archit...</td>\n",
       "    </tr>\n",
       "    <tr>\n",
       "      <th>8</th>\n",
       "      <td>MECH 375</td>\n",
       "      <td>Heat Transfer</td>\n",
       "      <td>Steady and transient conduction. Radiation hea...</td>\n",
       "    </tr>\n",
       "    <tr>\n",
       "      <th>9</th>\n",
       "      <td>MECH 380</td>\n",
       "      <td>Fluid Dynamics</td>\n",
       "      <td>Review of principles, compressible flow, poten...</td>\n",
       "    </tr>\n",
       "    <tr>\n",
       "      <th>10</th>\n",
       "      <td>MECH 463</td>\n",
       "      <td>Mechanical Vibrations</td>\n",
       "      <td>Theory of vibration of mechanical systems. Und...</td>\n",
       "    </tr>\n",
       "    <tr>\n",
       "      <th>11</th>\n",
       "      <td>APSC 450</td>\n",
       "      <td>Professional Engineering Practice</td>\n",
       "      <td>Legislation affecting the practice of engineer...</td>\n",
       "    </tr>\n",
       "    <tr>\n",
       "      <th>12</th>\n",
       "      <td>BMEG 456</td>\n",
       "      <td>Clinical and Industrial Biomedical Engineering</td>\n",
       "      <td>Principles of clinical practice, Canadian heal...</td>\n",
       "    </tr>\n",
       "    <tr>\n",
       "      <th>13</th>\n",
       "      <td>ELEC 344</td>\n",
       "      <td>Applied Electronics and Electromechanics</td>\n",
       "      <td>Characteristics of semiconductor devices; anal...</td>\n",
       "    </tr>\n",
       "    <tr>\n",
       "      <th>14</th>\n",
       "      <td>MECH 431</td>\n",
       "      <td>Engineering Economics</td>\n",
       "      <td>Discounted cash flows. Sources of funds, cost ...</td>\n",
       "    </tr>\n",
       "    <tr>\n",
       "      <th>15</th>\n",
       "      <td>MECH 439</td>\n",
       "      <td>Biomechanics Research</td>\n",
       "      <td>Seminar in Biomechanics research. This course ...</td>\n",
       "    </tr>\n",
       "    <tr>\n",
       "      <th>16</th>\n",
       "      <td>MECH 459</td>\n",
       "      <td>Biomedical Design Project</td>\n",
       "      <td>A capstone design program designed to give stu...</td>\n",
       "    </tr>\n",
       "    <tr>\n",
       "      <th>17</th>\n",
       "      <td>MECH 466</td>\n",
       "      <td>Automatic Control</td>\n",
       "      <td>Process and system characteristics; transient ...</td>\n",
       "    </tr>\n",
       "    <tr>\n",
       "      <th>18</th>\n",
       "      <td>MTRL 495</td>\n",
       "      <td>Biomaterials</td>\n",
       "      <td>Engineered materials in medical applications w...</td>\n",
       "    </tr>\n",
       "  </tbody>\n",
       "</table>\n",
       "</div>"
      ],
      "text/plain": [
       "   Course Number                                        Course Name  \\\n",
       "0       BMEG 410      Biomedical Equipment, Physiology, and Anatomy   \n",
       "1       MECH 305  Data Analysis and Mechanical Engineering Labor...   \n",
       "2       MECH 325                                     Machine Design   \n",
       "3       MECH 426                                  Mechanical Design   \n",
       "4       MECH 328              Mechanical Engineering Design Project   \n",
       "5       MECH 358                               Engineering Analysis   \n",
       "6       MECH 360                             Mechanics of Materials   \n",
       "7       MECH 368       Engineering Measurements and Instrumentation   \n",
       "8       MECH 375                                      Heat Transfer   \n",
       "9       MECH 380                                     Fluid Dynamics   \n",
       "10      MECH 463                              Mechanical Vibrations   \n",
       "11      APSC 450                  Professional Engineering Practice   \n",
       "12      BMEG 456     Clinical and Industrial Biomedical Engineering   \n",
       "13      ELEC 344           Applied Electronics and Electromechanics   \n",
       "14      MECH 431                              Engineering Economics   \n",
       "15      MECH 439                              Biomechanics Research   \n",
       "16      MECH 459                          Biomedical Design Project   \n",
       "17      MECH 466                                  Automatic Control   \n",
       "18      MTRL 495                                       Biomaterials   \n",
       "\n",
       "                                   Course Description  \n",
       "0   Principles and operation of biomedical equipme...  \n",
       "1   The use of probability and statistical methods...  \n",
       "2   Selection of flexible drives, bearings, fluid ...  \n",
       "3   Design of shafts and welded joints. Fatigue an...  \n",
       "4   Applying the design process, making educated a...  \n",
       "5   Fourier series; auto- and cross-correlation; p...  \n",
       "6   Beam deflections, singularity functions; use o...  \n",
       "7   Industrial measurement needs including: archit...  \n",
       "8   Steady and transient conduction. Radiation hea...  \n",
       "9   Review of principles, compressible flow, poten...  \n",
       "10  Theory of vibration of mechanical systems. Und...  \n",
       "11  Legislation affecting the practice of engineer...  \n",
       "12  Principles of clinical practice, Canadian heal...  \n",
       "13  Characteristics of semiconductor devices; anal...  \n",
       "14  Discounted cash flows. Sources of funds, cost ...  \n",
       "15  Seminar in Biomechanics research. This course ...  \n",
       "16  A capstone design program designed to give stu...  \n",
       "17  Process and system characteristics; transient ...  \n",
       "18  Engineered materials in medical applications w...  "
      ]
     },
     "execution_count": 26,
     "metadata": {},
     "output_type": "execute_result"
    }
   ],
   "source": [
    "import pandas as pd\n",
    "\n",
    "df = pd.DataFrame({\n",
    "    \n",
    "    \"Course Number\": course_codes,\n",
    "    \"Course Name\": course_names,\n",
    "    \"Course Description\": course_descs    \n",
    "    \n",
    "})\n",
    "\n",
    "df"
   ]
  },
  {
   "cell_type": "code",
   "execution_count": 27,
   "metadata": {},
   "outputs": [],
   "source": [
    "df.to_csv('UBC_MechEng_Biomedical_option_core_(Years2-4)_Courses.csv', index = False)"
   ]
  },
  {
   "cell_type": "markdown",
   "metadata": {},
   "source": [
    "# Mechatronics"
   ]
  },
  {
   "cell_type": "markdown",
   "metadata": {},
   "source": [
    "## 1. Collect course codes"
   ]
  },
  {
   "cell_type": "code",
   "execution_count": 29,
   "metadata": {},
   "outputs": [],
   "source": [
    "url = \"http://www.calendar.ubc.ca/vancouver/index.cfm?tree=12,195,272,43\"\n",
    "uClient = ureq(url)\n",
    "page_html = uClient.read()\n",
    "uClient.close()\n",
    "page_soup = soup(page_html, \"html.parser\")"
   ]
  },
  {
   "cell_type": "code",
   "execution_count": 30,
   "metadata": {},
   "outputs": [
    {
     "data": {
      "text/plain": [
       "['CPEN 312',\n",
       " 'CPSC 259',\n",
       " 'ELEC 302',\n",
       " 'ELEC 343',\n",
       " 'MECH 306',\n",
       " 'MECH 325',\n",
       " 'MECH 328',\n",
       " 'MECH 360',\n",
       " 'MECH 366',\n",
       " 'MECH 375',\n",
       " 'MECH 392',\n",
       " 'MECH 463',\n",
       " 'APSC 450',\n",
       " 'CPEN 333',\n",
       " 'MECH 420',\n",
       " 'MECH 421',\n",
       " 'MECH 423',\n",
       " 'MECH 431',\n",
       " 'MECH 4581',\n",
       " 'MECH 467']"
      ]
     },
     "execution_count": 30,
     "metadata": {},
     "output_type": "execute_result"
    }
   ],
   "source": [
    "table = page_soup.find(\"h4\", text = \"Mechatronics Option\").findNext(\"table\")\n",
    "containers = table.findAll(\"td\")\n",
    "course_codes = [container.text.strip() for container in containers if bool(re.match(\"[A-Z]{4} [0-9]{3}\", container.text.strip()))]\n",
    "course_codes"
   ]
  },
  {
   "cell_type": "code",
   "execution_count": 31,
   "metadata": {},
   "outputs": [
    {
     "data": {
      "text/plain": [
       "['CPEN 312',\n",
       " 'CPSC 259',\n",
       " 'ELEC 302',\n",
       " 'ELEC 343',\n",
       " 'MECH 306',\n",
       " 'MECH 325',\n",
       " 'MECH 328',\n",
       " 'MECH 360',\n",
       " 'MECH 366',\n",
       " 'MECH 375',\n",
       " 'MECH 392',\n",
       " 'MECH 463',\n",
       " 'APSC 450',\n",
       " 'CPEN 333',\n",
       " 'MECH 420',\n",
       " 'MECH 421',\n",
       " 'MECH 423',\n",
       " 'MECH 431',\n",
       " 'MECH 458',\n",
       " 'MECH 467']"
      ]
     },
     "execution_count": 31,
     "metadata": {},
     "output_type": "execute_result"
    }
   ],
   "source": [
    "course_codes = [course_code[:-1] if len(course_code) > 8 else course_code for course_code in course_codes]\n",
    "course_codes"
   ]
  },
  {
   "cell_type": "code",
   "execution_count": 32,
   "metadata": {},
   "outputs": [
    {
     "data": {
      "text/plain": [
       "20"
      ]
     },
     "execution_count": 32,
     "metadata": {},
     "output_type": "execute_result"
    }
   ],
   "source": [
    "len(course_codes)"
   ]
  },
  {
   "cell_type": "markdown",
   "metadata": {},
   "source": [
    "## 2. Use course codes to find and scrape corresponding course names and descriptions"
   ]
  },
  {
   "cell_type": "code",
   "execution_count": 33,
   "metadata": {},
   "outputs": [],
   "source": [
    "subject_links = {\n",
    "    \"MECH\": \"http://www.calendar.ubc.ca/vancouver/courses.cfm?page=code&institution=2&code=MECH\",\n",
    "    \"MATH\": \"http://www.calendar.ubc.ca/vancouver/courses.cfm?page=code&institution=12&code=MATH\",\n",
    "    \"ELEC\": \"http://www.calendar.ubc.ca/vancouver/courses.cfm?page=code&institution=2&code=ELEC\",\n",
    "    \"APSC\": \"http://www.calendar.ubc.ca/vancouver/courses.cfm?page=code&institution=2&code=APSC\",\n",
    "    \"CPEN\": \"http://www.calendar.ubc.ca/vancouver/courses.cfm?page=code&institution=2&code=CPEN\",\n",
    "    \"CPSC\": \"http://www.calendar.ubc.ca/vancouver/courses.cfm?page=code&institution=12&code=CPSC\"\n",
    "}"
   ]
  },
  {
   "cell_type": "code",
   "execution_count": 34,
   "metadata": {},
   "outputs": [
    {
     "name": "stdout",
     "output_type": "stream",
     "text": [
      "scraped  CPEN 312\n",
      "scraped  CPSC 259\n",
      "scraped  ELEC 302\n",
      "scraped  ELEC 343\n",
      "scraped  MECH 306\n",
      "scraped  MECH 325\n",
      "scraped  MECH 328\n",
      "scraped  MECH 360\n",
      "scraped  MECH 366\n",
      "scraped  MECH 375\n",
      "scraped  MECH 392\n",
      "scraped  MECH 463\n",
      "scraped  APSC 450\n",
      "scraped  CPEN 333\n",
      "scraped  MECH 420\n",
      "scraped  MECH 421\n",
      "scraped  MECH 423\n",
      "scraped  MECH 431\n",
      "scraped  MECH 458\n",
      "scraped  MECH 467\n",
      "20\n"
     ]
    }
   ],
   "source": [
    "course_names = []\n",
    "course_descs = []\n",
    "counter = 0\n",
    "prev_link = \"\"\n",
    "\n",
    "for course_code in course_codes:\n",
    "    \n",
    "    if subject_links[course_code.split()[0]] != prev_link:\n",
    "        uClient = ureq(subject_links[course_code.split()[0]])\n",
    "        time.sleep(2)\n",
    "        page_html = uClient.read()\n",
    "        uClient.close()\n",
    "        page_soup = soup(page_html, \"html.parser\")\n",
    "        prev_link = subject_links[course_code.split()[0]]\n",
    "        \n",
    "    course_title_container = page_soup.find(text = re.compile(\"^\" + course_code))\n",
    "    if course_title_container is None:\n",
    "        print(\"Cannot find \", course_code)\n",
    "    else:\n",
    "        course_names.append(course_title_container.findNext().text.strip())\n",
    "        course_descs.append(course_title_container.findNext().findNext().text.strip())\n",
    "    \n",
    "        counter += 1\n",
    "        print(\"scraped \", course_code)\n",
    "    \n",
    "print(counter)"
   ]
  },
  {
   "cell_type": "markdown",
   "metadata": {},
   "source": [
    "## 3. Inspect and write to CSV"
   ]
  },
  {
   "cell_type": "code",
   "execution_count": 36,
   "metadata": {
    "scrolled": true
   },
   "outputs": [
    {
     "data": {
      "text/plain": [
       "['Digital Systems and Microcomputers',\n",
       " 'Data Structures and Algorithms for Electrical Engineers',\n",
       " 'Electronic Circuits for Electromechanical Design',\n",
       " 'Electromechanics',\n",
       " 'Data Analysis and Mechatronics Laboratories',\n",
       " 'Machine Design',\n",
       " 'Mechanical Engineering Design Project',\n",
       " 'Mechanics of Materials',\n",
       " 'Modelling of Mechatronic Systems',\n",
       " 'Heat Transfer',\n",
       " 'Manufacturing Processes',\n",
       " 'Mechanical Vibrations',\n",
       " 'Professional Engineering Practice',\n",
       " 'System Software Engineering',\n",
       " 'Sensors and Actuators',\n",
       " 'Mechatronics System Instrumentation',\n",
       " 'Mechatronic Product Design',\n",
       " 'Engineering Economics',\n",
       " 'Mechatronics Design Project',\n",
       " 'Computer Control of Mechatronics Systems']"
      ]
     },
     "execution_count": 36,
     "metadata": {},
     "output_type": "execute_result"
    }
   ],
   "source": [
    "course_names"
   ]
  },
  {
   "cell_type": "code",
   "execution_count": 37,
   "metadata": {
    "scrolled": true
   },
   "outputs": [
    {
     "data": {
      "text/plain": [
       "['Data representation in digital computers; boolean algebra; the design and optimization and implementation of combinatorial and sequential circuits; modern digital circuit technologies; memory and programmable logic devices; organization and operation of microcomputers; data/address bus organization; input-output interfacing. Credit will be granted for only one of CPEN 312, CPEN 211. This course is not eligible for Credit/D/Fail grading This course is not eligible for Credit/D/Fail grading. [3-2*-0] Prerequisite: One of ELEC 201, ELEC 204, ELEC 203, MECH 221.',\n",
       " 'Advanced procedural programming.  Fundamental algorithms for sorting and searching.  Data structures including lists, trees, and hash tables.  Introduction to scripting languages and file input/output. [3-2-0] Prerequisite: APSC 160.',\n",
       " 'Semiconductor fundamentals; modelling of electronic devices including diodes and transistors; design of power supplies, waveform generators and logic circuits; signals in time and frequency domains; operational amplifiers; active filters; oscillators; device specification and selection. This course is not eligible for Credit/D/Fail grading. [3-2*-0] Prerequisite: One of ELEC 201, ELEC 203, MECH 221.',\n",
       " 'Electromechanical energy conversion; linear actuators; torque/speed of rotating devices; reluctance, stepper, permanent- magnet, induction, brushless-DC motors and DC motors; actuator/motor drive circuits/controllers. Credit will be granted for only one of ELEC 344, ELEC 342, ELEC 343. This course is not eligible for Credit/D/Fail grading. [3-2*-0] Prerequisite: One of ELEC 202, ELEC 302.',\n",
       " 'The use of probability and statistical methods for engineering applications. Mechanics of materials and heat transfer. Instrumentation, data acquisition, and data manipulation using modern computational tools. Common mechanical devices. For students in the Mechatronics Option only. This course is not eligible for Credit/D/Fail grading. [3-3*-1*] Prerequisite: All of MECH 220, MECH 223, MECH 224, MECH 225.',\n",
       " 'Selection of flexible drives, bearings, fluid power system components, and couplings. Design of bolted joints and power screws. Design and selection of gears, gear trains, and mechanisms. This course is not eligible for Credit/D/Fail grading. [3-0-3] Prerequisite: One of MECH 223, MECH 260. Corequisite: MECH 360.',\n",
       " 'Applying the design process, making educated assumptions and decisions, and working in teams to provide a new mechanical design. Weekly lecture discussing product development and various factors affecting the design. This course is not eligible for Credit/D/Fail grading. [1-4-1] Prerequisite: MECH 223. (And third year standing in Mechanical Engineering)',\n",
       " \"Beam deflections, singularity functions; use of tabulated solutions; column buckling; Castigliano's theorem, statically indeterminate beams, bending of beams with asymmetric cross-sections, shear centre; principal stresses and stress invariants in three dimensions. This course is not eligible for Credit/D/Fail grading. [3-0-1] Prerequisite: One of MECH 224, MECH 260.\",\n",
       " 'Modelling of mechanical, electrical, thermal, fluid elements and mixed mechatronic systems. Signal processing, signal conditioning. Sensors, data acquisition systems, actuators. This course is not eligible for Credit/D/Fail grading. [2-2-0] Prerequisite: All of MECH 220, MECH 223, MECH 224, MECH 225.',\n",
       " 'Steady and transient conduction. Radiation heat transfer. Convective heat and mass transfer in pipes and from external surfaces. Design of heat exchangers. This course is not eligible for Credit/D/Fail grading. [3-0-1] Prerequisite: Either (a) MECH 225 or (b) one of CHBE 241, ENPH 257 and one of CHBE 251, CIVL 215, MECH 280.',\n",
       " 'Manufacturing characteristics of materials and their control. Metal forming processes, plastic deformations, rolling, forging, drawing, extrusion, sheet metal forming. Machining processes and machine tools, turning, milling, drilling, grinding. Metal fabrication, welding and casting. An introduction to process planning. This course is not eligible for Credit/D/Fail grading. [2-0-0]',\n",
       " 'Theory of vibration of mechanical systems. Undamped 1 degree of freedom vibration, forced vibrations and resonance, damping, multiple degree of freedom systems, mode shapes and orthogonality, continuous systems, vibration measuring instruments and frequency spectrum analysis. This course is not eligible for Credit/D/Fail grading. [3-2*-1] Prerequisite: One of MECH 224, MECH 260.',\n",
       " 'Legislation affecting the practice of engineering; ethical principles and responsibilities. Management of engineering enterprises; labour relations, safety and environmental legislation. Restricted to engineering undergraduate students in the final year of their program. This course is not eligible for Credit/D/Fail grading. [2-0-0]',\n",
       " 'Use of operating systems abstractions; real-time systems; principles of concurrent and multi-threaded programming; information structures; introduction to object oriented analysis; design, and modelling using UML; software testing. This course is not eligible for Credit/D/Fail grading. [3-2-0] Prerequisite: One of CPSC 259, CPEN 223.',\n",
       " 'Measurement of motion, stress, force, torque, temperature, flow and pressure; principles of sensors and signal conditioning methods; selection and sizing of actuators. This course is not eligible for Credit/D/Fail grading. [2-2-0] Prerequisite: All of MECH 360, MECH 463, MECH 366 and one of ELEC 343, EECE 376.',\n",
       " 'Architecture of mechatronics devices; integration of mechanical, electronics, sensors, actuators, computer and real time software systems; PLC and PC based systems; discrete and continuous automation system design. This course is not eligible for Credit/D/Fail grading. [2-2-2] Prerequisite: MECH 366. Corequisite: MECH 420.',\n",
       " 'Design of mechatronic systems for industrial and human-centric applications; compliant structures; electronic circuits to interface with sensors and actuators; embedded systems; precision timing and control; data acquisition and processing; user interfaces; and product innovation. This course is not eligible for Credit/D/Fail grading. [2-3-1] Prerequisite: All of MECH 366, ELEC 302, CPEN 312 and 4th year standing. Corequisite: CPEN 333.',\n",
       " 'Discounted cash flows. Sources of funds, cost of capital. Effects of depreciation, taxes, inflation. Evaluation and comparison of economic models for engineering projects. Replacement decisions. Public project analysis. Risk analysis. Project control, inventory analysis, simulation. This course is not eligible for Credit/D/Fail grading. [3-0-0]',\n",
       " 'A capstone design program designed to give students experience in the design/development of practical mechanical and mechatronics devices. Projects are provided by local industry and engineering research laboratories. Credit will be granted for only one of MECH 453, MECH 454, MECH 457, MECH 458, MECH 459, or APSC 496. This course is not eligible for Credit/D/Fail grading. [1-2-2; 1-2-2] Prerequisite: All of MECH 325, MECH 328, MECH 360 and fourth-year standing in the Mechatronics Option.',\n",
       " 'Block diagrams and transfer functions, continuous and discrete domain transformations, feedback control system characteristics, control design in both continuous and discrete domain, absolute and relative stability, laboratory examples of Mechatronic systems design. Credit cannot be obtained for both MECH 466 and MECH 467. This course is not eligible for Credit/D/Fail grading. [3-2*-2] Prerequisite: One of MECH 366, MANU 386.']"
      ]
     },
     "execution_count": 37,
     "metadata": {},
     "output_type": "execute_result"
    }
   ],
   "source": [
    "course_descs"
   ]
  },
  {
   "cell_type": "code",
   "execution_count": 38,
   "metadata": {},
   "outputs": [
    {
     "data": {
      "text/html": [
       "<div>\n",
       "<style scoped>\n",
       "    .dataframe tbody tr th:only-of-type {\n",
       "        vertical-align: middle;\n",
       "    }\n",
       "\n",
       "    .dataframe tbody tr th {\n",
       "        vertical-align: top;\n",
       "    }\n",
       "\n",
       "    .dataframe thead th {\n",
       "        text-align: right;\n",
       "    }\n",
       "</style>\n",
       "<table border=\"1\" class=\"dataframe\">\n",
       "  <thead>\n",
       "    <tr style=\"text-align: right;\">\n",
       "      <th></th>\n",
       "      <th>Course Number</th>\n",
       "      <th>Course Name</th>\n",
       "      <th>Course Description</th>\n",
       "    </tr>\n",
       "  </thead>\n",
       "  <tbody>\n",
       "    <tr>\n",
       "      <th>0</th>\n",
       "      <td>CPEN 312</td>\n",
       "      <td>Digital Systems and Microcomputers</td>\n",
       "      <td>Data representation in digital computers; bool...</td>\n",
       "    </tr>\n",
       "    <tr>\n",
       "      <th>1</th>\n",
       "      <td>CPSC 259</td>\n",
       "      <td>Data Structures and Algorithms for Electrical ...</td>\n",
       "      <td>Advanced procedural programming.  Fundamental ...</td>\n",
       "    </tr>\n",
       "    <tr>\n",
       "      <th>2</th>\n",
       "      <td>ELEC 302</td>\n",
       "      <td>Electronic Circuits for Electromechanical Design</td>\n",
       "      <td>Semiconductor fundamentals; modelling of elect...</td>\n",
       "    </tr>\n",
       "    <tr>\n",
       "      <th>3</th>\n",
       "      <td>ELEC 343</td>\n",
       "      <td>Electromechanics</td>\n",
       "      <td>Electromechanical energy conversion; linear ac...</td>\n",
       "    </tr>\n",
       "    <tr>\n",
       "      <th>4</th>\n",
       "      <td>MECH 306</td>\n",
       "      <td>Data Analysis and Mechatronics Laboratories</td>\n",
       "      <td>The use of probability and statistical methods...</td>\n",
       "    </tr>\n",
       "    <tr>\n",
       "      <th>5</th>\n",
       "      <td>MECH 325</td>\n",
       "      <td>Machine Design</td>\n",
       "      <td>Selection of flexible drives, bearings, fluid ...</td>\n",
       "    </tr>\n",
       "    <tr>\n",
       "      <th>6</th>\n",
       "      <td>MECH 328</td>\n",
       "      <td>Mechanical Engineering Design Project</td>\n",
       "      <td>Applying the design process, making educated a...</td>\n",
       "    </tr>\n",
       "    <tr>\n",
       "      <th>7</th>\n",
       "      <td>MECH 360</td>\n",
       "      <td>Mechanics of Materials</td>\n",
       "      <td>Beam deflections, singularity functions; use o...</td>\n",
       "    </tr>\n",
       "    <tr>\n",
       "      <th>8</th>\n",
       "      <td>MECH 366</td>\n",
       "      <td>Modelling of Mechatronic Systems</td>\n",
       "      <td>Modelling of mechanical, electrical, thermal, ...</td>\n",
       "    </tr>\n",
       "    <tr>\n",
       "      <th>9</th>\n",
       "      <td>MECH 375</td>\n",
       "      <td>Heat Transfer</td>\n",
       "      <td>Steady and transient conduction. Radiation hea...</td>\n",
       "    </tr>\n",
       "    <tr>\n",
       "      <th>10</th>\n",
       "      <td>MECH 392</td>\n",
       "      <td>Manufacturing Processes</td>\n",
       "      <td>Manufacturing characteristics of materials and...</td>\n",
       "    </tr>\n",
       "    <tr>\n",
       "      <th>11</th>\n",
       "      <td>MECH 463</td>\n",
       "      <td>Mechanical Vibrations</td>\n",
       "      <td>Theory of vibration of mechanical systems. Und...</td>\n",
       "    </tr>\n",
       "    <tr>\n",
       "      <th>12</th>\n",
       "      <td>APSC 450</td>\n",
       "      <td>Professional Engineering Practice</td>\n",
       "      <td>Legislation affecting the practice of engineer...</td>\n",
       "    </tr>\n",
       "    <tr>\n",
       "      <th>13</th>\n",
       "      <td>CPEN 333</td>\n",
       "      <td>System Software Engineering</td>\n",
       "      <td>Use of operating systems abstractions; real-ti...</td>\n",
       "    </tr>\n",
       "    <tr>\n",
       "      <th>14</th>\n",
       "      <td>MECH 420</td>\n",
       "      <td>Sensors and Actuators</td>\n",
       "      <td>Measurement of motion, stress, force, torque, ...</td>\n",
       "    </tr>\n",
       "    <tr>\n",
       "      <th>15</th>\n",
       "      <td>MECH 421</td>\n",
       "      <td>Mechatronics System Instrumentation</td>\n",
       "      <td>Architecture of mechatronics devices; integrat...</td>\n",
       "    </tr>\n",
       "    <tr>\n",
       "      <th>16</th>\n",
       "      <td>MECH 423</td>\n",
       "      <td>Mechatronic Product Design</td>\n",
       "      <td>Design of mechatronic systems for industrial a...</td>\n",
       "    </tr>\n",
       "    <tr>\n",
       "      <th>17</th>\n",
       "      <td>MECH 431</td>\n",
       "      <td>Engineering Economics</td>\n",
       "      <td>Discounted cash flows. Sources of funds, cost ...</td>\n",
       "    </tr>\n",
       "    <tr>\n",
       "      <th>18</th>\n",
       "      <td>MECH 458</td>\n",
       "      <td>Mechatronics Design Project</td>\n",
       "      <td>A capstone design program designed to give stu...</td>\n",
       "    </tr>\n",
       "    <tr>\n",
       "      <th>19</th>\n",
       "      <td>MECH 467</td>\n",
       "      <td>Computer Control of Mechatronics Systems</td>\n",
       "      <td>Block diagrams and transfer functions, continu...</td>\n",
       "    </tr>\n",
       "  </tbody>\n",
       "</table>\n",
       "</div>"
      ],
      "text/plain": [
       "   Course Number                                        Course Name  \\\n",
       "0       CPEN 312                 Digital Systems and Microcomputers   \n",
       "1       CPSC 259  Data Structures and Algorithms for Electrical ...   \n",
       "2       ELEC 302   Electronic Circuits for Electromechanical Design   \n",
       "3       ELEC 343                                   Electromechanics   \n",
       "4       MECH 306        Data Analysis and Mechatronics Laboratories   \n",
       "5       MECH 325                                     Machine Design   \n",
       "6       MECH 328              Mechanical Engineering Design Project   \n",
       "7       MECH 360                             Mechanics of Materials   \n",
       "8       MECH 366                   Modelling of Mechatronic Systems   \n",
       "9       MECH 375                                      Heat Transfer   \n",
       "10      MECH 392                            Manufacturing Processes   \n",
       "11      MECH 463                              Mechanical Vibrations   \n",
       "12      APSC 450                  Professional Engineering Practice   \n",
       "13      CPEN 333                        System Software Engineering   \n",
       "14      MECH 420                              Sensors and Actuators   \n",
       "15      MECH 421                Mechatronics System Instrumentation   \n",
       "16      MECH 423                         Mechatronic Product Design   \n",
       "17      MECH 431                              Engineering Economics   \n",
       "18      MECH 458                        Mechatronics Design Project   \n",
       "19      MECH 467           Computer Control of Mechatronics Systems   \n",
       "\n",
       "                                   Course Description  \n",
       "0   Data representation in digital computers; bool...  \n",
       "1   Advanced procedural programming.  Fundamental ...  \n",
       "2   Semiconductor fundamentals; modelling of elect...  \n",
       "3   Electromechanical energy conversion; linear ac...  \n",
       "4   The use of probability and statistical methods...  \n",
       "5   Selection of flexible drives, bearings, fluid ...  \n",
       "6   Applying the design process, making educated a...  \n",
       "7   Beam deflections, singularity functions; use o...  \n",
       "8   Modelling of mechanical, electrical, thermal, ...  \n",
       "9   Steady and transient conduction. Radiation hea...  \n",
       "10  Manufacturing characteristics of materials and...  \n",
       "11  Theory of vibration of mechanical systems. Und...  \n",
       "12  Legislation affecting the practice of engineer...  \n",
       "13  Use of operating systems abstractions; real-ti...  \n",
       "14  Measurement of motion, stress, force, torque, ...  \n",
       "15  Architecture of mechatronics devices; integrat...  \n",
       "16  Design of mechatronic systems for industrial a...  \n",
       "17  Discounted cash flows. Sources of funds, cost ...  \n",
       "18  A capstone design program designed to give stu...  \n",
       "19  Block diagrams and transfer functions, continu...  "
      ]
     },
     "execution_count": 38,
     "metadata": {},
     "output_type": "execute_result"
    }
   ],
   "source": [
    "import pandas as pd\n",
    "\n",
    "df = pd.DataFrame({\n",
    "    \n",
    "    \"Course Number\": course_codes,\n",
    "    \"Course Name\": course_names,\n",
    "    \"Course Description\": course_descs    \n",
    "    \n",
    "})\n",
    "\n",
    "df"
   ]
  },
  {
   "cell_type": "code",
   "execution_count": 39,
   "metadata": {},
   "outputs": [],
   "source": [
    "df.to_csv('UBC_MechEng_Mechatronics_option_core_(Years2-4)_Courses.csv', index = False)"
   ]
  },
  {
   "cell_type": "markdown",
   "metadata": {},
   "source": [
    "# Thermofluids"
   ]
  },
  {
   "cell_type": "markdown",
   "metadata": {},
   "source": [
    "## 1. Collect course codes"
   ]
  },
  {
   "cell_type": "code",
   "execution_count": 40,
   "metadata": {},
   "outputs": [],
   "source": [
    "url = \"http://www.calendar.ubc.ca/vancouver/index.cfm?tree=12,195,272,43\"\n",
    "uClient = ureq(url)\n",
    "page_html = uClient.read()\n",
    "uClient.close()\n",
    "page_soup = soup(page_html, \"html.parser\")"
   ]
  },
  {
   "cell_type": "code",
   "execution_count": 41,
   "metadata": {},
   "outputs": [
    {
     "data": {
      "text/plain": [
       "['MECH 305',\n",
       " 'MECH 325',\n",
       " 'MECH 327',\n",
       " 'MECH 328',\n",
       " 'MECH 358',\n",
       " 'MECH 360',\n",
       " 'MECH 375',\n",
       " 'MECH 380',\n",
       " 'MECH 386',\n",
       " 'APSC 450',\n",
       " 'ELEC 344',\n",
       " 'MECH 431',\n",
       " 'MECH 4542',\n",
       " 'MECH 463',\n",
       " 'MECH 466',\n",
       " 'MECH 479',\n",
       " 'MECH 489']"
      ]
     },
     "execution_count": 41,
     "metadata": {},
     "output_type": "execute_result"
    }
   ],
   "source": [
    "table = page_soup.find(\"h4\", text = \"Mechanical Engineering Thermofluids Option\").findNext(\"table\")\n",
    "containers = table.findAll(\"td\")\n",
    "course_codes = [container.text.strip() for container in containers if bool(re.match(\"[A-Z]{4} [0-9]{3}\", container.text.strip()))]\n",
    "course_codes"
   ]
  },
  {
   "cell_type": "code",
   "execution_count": 42,
   "metadata": {},
   "outputs": [
    {
     "data": {
      "text/plain": [
       "['MECH 305',\n",
       " 'MECH 325',\n",
       " 'MECH 327',\n",
       " 'MECH 328',\n",
       " 'MECH 358',\n",
       " 'MECH 360',\n",
       " 'MECH 375',\n",
       " 'MECH 380',\n",
       " 'MECH 386',\n",
       " 'APSC 450',\n",
       " 'ELEC 344',\n",
       " 'MECH 431',\n",
       " 'MECH 454',\n",
       " 'MECH 463',\n",
       " 'MECH 466',\n",
       " 'MECH 479',\n",
       " 'MECH 489']"
      ]
     },
     "execution_count": 42,
     "metadata": {},
     "output_type": "execute_result"
    }
   ],
   "source": [
    "course_codes = [course_code[:-1] if len(course_code) > 8 else course_code for course_code in course_codes]\n",
    "course_codes"
   ]
  },
  {
   "cell_type": "code",
   "execution_count": 43,
   "metadata": {},
   "outputs": [
    {
     "data": {
      "text/plain": [
       "17"
      ]
     },
     "execution_count": 43,
     "metadata": {},
     "output_type": "execute_result"
    }
   ],
   "source": [
    "len(course_codes)"
   ]
  },
  {
   "cell_type": "markdown",
   "metadata": {},
   "source": [
    "## 2. Use course codes to find and scrape corresponding course names and descriptions"
   ]
  },
  {
   "cell_type": "code",
   "execution_count": 44,
   "metadata": {},
   "outputs": [],
   "source": [
    "subject_links = {\n",
    "    \"MECH\": \"http://www.calendar.ubc.ca/vancouver/courses.cfm?page=code&institution=2&code=MECH\",\n",
    "    \"MATH\": \"http://www.calendar.ubc.ca/vancouver/courses.cfm?page=code&institution=12&code=MATH\",\n",
    "    \"ELEC\": \"http://www.calendar.ubc.ca/vancouver/courses.cfm?page=code&institution=2&code=ELEC\",\n",
    "    \"APSC\": \"http://www.calendar.ubc.ca/vancouver/courses.cfm?page=code&institution=2&code=APSC\",\n",
    "    \"CPEN\": \"http://www.calendar.ubc.ca/vancouver/courses.cfm?page=code&institution=2&code=CPEN\",\n",
    "    \"CPSC\": \"http://www.calendar.ubc.ca/vancouver/courses.cfm?page=code&institution=12&code=CPSC\"\n",
    "}"
   ]
  },
  {
   "cell_type": "code",
   "execution_count": 45,
   "metadata": {},
   "outputs": [
    {
     "name": "stdout",
     "output_type": "stream",
     "text": [
      "scraped  MECH 305\n",
      "scraped  MECH 325\n",
      "scraped  MECH 327\n",
      "scraped  MECH 328\n",
      "scraped  MECH 358\n",
      "scraped  MECH 360\n",
      "scraped  MECH 375\n",
      "scraped  MECH 380\n",
      "scraped  MECH 386\n",
      "scraped  APSC 450\n",
      "scraped  ELEC 344\n",
      "scraped  MECH 431\n",
      "scraped  MECH 454\n",
      "scraped  MECH 463\n",
      "scraped  MECH 466\n",
      "scraped  MECH 479\n",
      "scraped  MECH 489\n",
      "17\n"
     ]
    }
   ],
   "source": [
    "course_names = []\n",
    "course_descs = []\n",
    "counter = 0\n",
    "prev_link = \"\"\n",
    "\n",
    "for course_code in course_codes:\n",
    "    \n",
    "    if subject_links[course_code.split()[0]] != prev_link:\n",
    "        uClient = ureq(subject_links[course_code.split()[0]])\n",
    "        time.sleep(2)\n",
    "        page_html = uClient.read()\n",
    "        uClient.close()\n",
    "        page_soup = soup(page_html, \"html.parser\")\n",
    "        prev_link = subject_links[course_code.split()[0]]\n",
    "        \n",
    "    course_title_container = page_soup.find(text = re.compile(\"^\" + course_code))\n",
    "    if course_title_container is None:\n",
    "        print(\"Cannot find \", course_code)\n",
    "    else:\n",
    "        course_names.append(course_title_container.findNext().text.strip())\n",
    "        course_descs.append(course_title_container.findNext().findNext().text.strip())\n",
    "    \n",
    "        counter += 1\n",
    "        print(\"scraped \", course_code)\n",
    "    \n",
    "print(counter)"
   ]
  },
  {
   "cell_type": "markdown",
   "metadata": {},
   "source": [
    "## 3. Inspect and write to CSV"
   ]
  },
  {
   "cell_type": "code",
   "execution_count": 46,
   "metadata": {},
   "outputs": [
    {
     "data": {
      "text/plain": [
       "['Data Analysis and Mechanical Engineering Laboratories',\n",
       " 'Machine Design',\n",
       " 'Thermodynamics II',\n",
       " 'Mechanical Engineering Design Project',\n",
       " 'Engineering Analysis',\n",
       " 'Mechanics of Materials',\n",
       " 'Heat Transfer',\n",
       " 'Fluid Dynamics',\n",
       " 'Industrial Fluid Mechanics',\n",
       " 'Professional Engineering Practice',\n",
       " 'Applied Electronics and Electromechanics',\n",
       " 'Engineering Economics',\n",
       " 'Thermofluids Capstone Design Project',\n",
       " 'Mechanical Vibrations',\n",
       " 'Automatic Control',\n",
       " 'Introduction to Computational Fluid Dynamics',\n",
       " 'Experimental Thermofluids']"
      ]
     },
     "execution_count": 46,
     "metadata": {},
     "output_type": "execute_result"
    }
   ],
   "source": [
    "course_names"
   ]
  },
  {
   "cell_type": "code",
   "execution_count": 47,
   "metadata": {
    "scrolled": true
   },
   "outputs": [
    {
     "data": {
      "text/plain": [
       "['The use of probability and statistical methods for engineering applications. Mechanics of materials, heat transfer, and fluid dynamics. Instrumentation, data acquisition, and data manipulation using modern computational tools. This course is not eligible for Credit/D/Fail grading. [3-5-1*] Prerequisite: All of MECH 220, MECH 223, MECH 224, MECH 225.',\n",
       " 'Selection of flexible drives, bearings, fluid power system components, and couplings. Design of bolted joints and power screws. Design and selection of gears, gear trains, and mechanisms. This course is not eligible for Credit/D/Fail grading. [3-0-3] Prerequisite: One of MECH 223, MECH 260. Corequisite: MECH 360.',\n",
       " 'Air standard and vapor cycles; first and second law of cycles. Exergy. Gas mixtures.  Energy conservation. Equilibrium. Reacting systems. Application to thermofluid systems such as power plants. This course is not eligible for Credit/D/Fail grading. [3-0-1] Prerequisite: Either (a) MECH 225 or (b) one of CHBE 241, ENPH 257 and one of CHBE 251, CIVL 215, MECH 280.',\n",
       " 'Applying the design process, making educated assumptions and decisions, and working in teams to provide a new mechanical design. Weekly lecture discussing product development and various factors affecting the design. This course is not eligible for Credit/D/Fail grading. [1-4-1] Prerequisite: MECH 223. (And third year standing in Mechanical Engineering)',\n",
       " 'Fourier series; auto- and cross-correlation; power spectra; discrete Fourier transform; boundary-value problems; numerical methods; partial differential equations; heat, wave, Laplace, Poisson, and wave equations.  Applications to mechanical engineering and practical computing emphasized.  Credit will be granted for only one of MECH 358 and MATH 358. This course is not eligible for Credit/D/Fail grading. [3-1-0] Prerequisite: All of MECH 224, MECH 225.',\n",
       " \"Beam deflections, singularity functions; use of tabulated solutions; column buckling; Castigliano's theorem, statically indeterminate beams, bending of beams with asymmetric cross-sections, shear centre; principal stresses and stress invariants in three dimensions. This course is not eligible for Credit/D/Fail grading. [3-0-1] Prerequisite: One of MECH 224, MECH 260.\",\n",
       " 'Steady and transient conduction. Radiation heat transfer. Convective heat and mass transfer in pipes and from external surfaces. Design of heat exchangers. This course is not eligible for Credit/D/Fail grading. [3-0-1] Prerequisite: Either (a) MECH 225 or (b) one of CHBE 241, ENPH 257 and one of CHBE 251, CIVL 215, MECH 280.',\n",
       " 'Review of principles, compressible flow, potential flow, simple laminar viscous flow, boundary layers, flow around bluff bodies. This course is not eligible for Credit/D/Fail grading. [3-0-1] Prerequisite: Either (a) MECH 225 or (b) MATH 255 and one of CHBE 251, CIVL 215, MECH 280 and one of CHBE 241, ENPH 257.',\n",
       " 'Analysis of piping networks. Review of pumps, turbines and hydraulic motors. Flow measurement devices such as flow meters and transducers for measuring velocity and pressure. Multiphase flows. Introduction to turbulence, mixing and buoyancy driven flows. This course is not eligible for Credit/D/Fail grading. [3-1-0] Prerequisite: MECH 380.',\n",
       " 'Legislation affecting the practice of engineering; ethical principles and responsibilities. Management of engineering enterprises; labour relations, safety and environmental legislation. Restricted to engineering undergraduate students in the final year of their program. This course is not eligible for Credit/D/Fail grading. [2-0-0]',\n",
       " 'Characteristics of semiconductor devices; analog circuits; force and torque production; motor principles and torque-speed characteristics; principles of power electronics. Not open to students in Electrical and Computer Engineering. This course is not eligible for Credit/D/Fail grading. [2-2*-2*] Prerequisite: One of ELEC 201, ELEC 203, MECH 221.',\n",
       " 'Discounted cash flows. Sources of funds, cost of capital. Effects of depreciation, taxes, inflation. Evaluation and comparison of economic models for engineering projects. Replacement decisions. Public project analysis. Risk analysis. Project control, inventory analysis, simulation. This course is not eligible for Credit/D/Fail grading. [3-0-0]',\n",
       " 'A capstone course to provide students experience in the design/development of practical mechanical and thermofluids devices. Projects are provided by local industry and engineering research laboratories. Credit will be granted for only one of MECH 453, MECH 454, MECH 457, MECH 458, MECH 459, or APSC 496. This course is not eligible for Credit/D/Fail grading. [1-2-2; 1-2-2] Prerequisite: All of MECH 325, MECH 327, MECH 328, MECH 360 and fourth-year standing in the Thermofluids Option.',\n",
       " 'Theory of vibration of mechanical systems. Undamped 1 degree of freedom vibration, forced vibrations and resonance, damping, multiple degree of freedom systems, mode shapes and orthogonality, continuous systems, vibration measuring instruments and frequency spectrum analysis. This course is not eligible for Credit/D/Fail grading. [3-2*-1] Prerequisite: One of MECH 224, MECH 260.',\n",
       " 'Process and system characteristics; transient response; the closed loop; block diagrams and transfer functions; control actions; stability; Nyquist diagrams; Bode diagrams; root locus methods; frequency response; system compensation; nonlinear control systems; digital computer control. Laboratory experiments to support the lecture content. Credit cannot be obtained for both MECH 466 and MECH 467. This course is not eligible for Credit/D/Fail grading. [3-3*-0] Prerequisite: Either (a) all of MECH 220, MECH 221, MECH 463 or (b) all of MATH 255, MECH 463 and one of ELEC 201, ELEC 202, ELEC 204, EECE 251, EECE 253;  or (c) all of ELEC 204, ELEC 221, ENPH 270, MATH 255.',\n",
       " 'Techniques for numerical solution of ordinary and partial differential equations, including an introduction to the finite difference, finite volume and finite element approaches. Simulation of laminar and turbulent flows, including common turbulent models. Validation techniques. This course is not eligible for Credit/D/Fail grading. [3-1-0] Prerequisite: MECH 380.',\n",
       " 'Experimental uncertainty. Design of experiments. Test facilities. Temperature and pressure measurement techniques and instrumentation. Velocity and flow rate measurement techniques. Flow visualization. Case studies of industrial and research experimental practice. Credit will be granted for only one of MECH 489 or MECH 582. This course is not eligible for Credit/D/Fail grading. [3-2-0] Prerequisite: All of MECH 375, MECH 380.']"
      ]
     },
     "execution_count": 47,
     "metadata": {},
     "output_type": "execute_result"
    }
   ],
   "source": [
    "course_descs"
   ]
  },
  {
   "cell_type": "code",
   "execution_count": 48,
   "metadata": {},
   "outputs": [
    {
     "data": {
      "text/html": [
       "<div>\n",
       "<style scoped>\n",
       "    .dataframe tbody tr th:only-of-type {\n",
       "        vertical-align: middle;\n",
       "    }\n",
       "\n",
       "    .dataframe tbody tr th {\n",
       "        vertical-align: top;\n",
       "    }\n",
       "\n",
       "    .dataframe thead th {\n",
       "        text-align: right;\n",
       "    }\n",
       "</style>\n",
       "<table border=\"1\" class=\"dataframe\">\n",
       "  <thead>\n",
       "    <tr style=\"text-align: right;\">\n",
       "      <th></th>\n",
       "      <th>Course Number</th>\n",
       "      <th>Course Name</th>\n",
       "      <th>Course Description</th>\n",
       "    </tr>\n",
       "  </thead>\n",
       "  <tbody>\n",
       "    <tr>\n",
       "      <th>0</th>\n",
       "      <td>MECH 305</td>\n",
       "      <td>Data Analysis and Mechanical Engineering Labor...</td>\n",
       "      <td>The use of probability and statistical methods...</td>\n",
       "    </tr>\n",
       "    <tr>\n",
       "      <th>1</th>\n",
       "      <td>MECH 325</td>\n",
       "      <td>Machine Design</td>\n",
       "      <td>Selection of flexible drives, bearings, fluid ...</td>\n",
       "    </tr>\n",
       "    <tr>\n",
       "      <th>2</th>\n",
       "      <td>MECH 327</td>\n",
       "      <td>Thermodynamics II</td>\n",
       "      <td>Air standard and vapor cycles; first and secon...</td>\n",
       "    </tr>\n",
       "    <tr>\n",
       "      <th>3</th>\n",
       "      <td>MECH 328</td>\n",
       "      <td>Mechanical Engineering Design Project</td>\n",
       "      <td>Applying the design process, making educated a...</td>\n",
       "    </tr>\n",
       "    <tr>\n",
       "      <th>4</th>\n",
       "      <td>MECH 358</td>\n",
       "      <td>Engineering Analysis</td>\n",
       "      <td>Fourier series; auto- and cross-correlation; p...</td>\n",
       "    </tr>\n",
       "    <tr>\n",
       "      <th>5</th>\n",
       "      <td>MECH 360</td>\n",
       "      <td>Mechanics of Materials</td>\n",
       "      <td>Beam deflections, singularity functions; use o...</td>\n",
       "    </tr>\n",
       "    <tr>\n",
       "      <th>6</th>\n",
       "      <td>MECH 375</td>\n",
       "      <td>Heat Transfer</td>\n",
       "      <td>Steady and transient conduction. Radiation hea...</td>\n",
       "    </tr>\n",
       "    <tr>\n",
       "      <th>7</th>\n",
       "      <td>MECH 380</td>\n",
       "      <td>Fluid Dynamics</td>\n",
       "      <td>Review of principles, compressible flow, poten...</td>\n",
       "    </tr>\n",
       "    <tr>\n",
       "      <th>8</th>\n",
       "      <td>MECH 386</td>\n",
       "      <td>Industrial Fluid Mechanics</td>\n",
       "      <td>Analysis of piping networks. Review of pumps, ...</td>\n",
       "    </tr>\n",
       "    <tr>\n",
       "      <th>9</th>\n",
       "      <td>APSC 450</td>\n",
       "      <td>Professional Engineering Practice</td>\n",
       "      <td>Legislation affecting the practice of engineer...</td>\n",
       "    </tr>\n",
       "    <tr>\n",
       "      <th>10</th>\n",
       "      <td>ELEC 344</td>\n",
       "      <td>Applied Electronics and Electromechanics</td>\n",
       "      <td>Characteristics of semiconductor devices; anal...</td>\n",
       "    </tr>\n",
       "    <tr>\n",
       "      <th>11</th>\n",
       "      <td>MECH 431</td>\n",
       "      <td>Engineering Economics</td>\n",
       "      <td>Discounted cash flows. Sources of funds, cost ...</td>\n",
       "    </tr>\n",
       "    <tr>\n",
       "      <th>12</th>\n",
       "      <td>MECH 454</td>\n",
       "      <td>Thermofluids Capstone Design Project</td>\n",
       "      <td>A capstone course to provide students experien...</td>\n",
       "    </tr>\n",
       "    <tr>\n",
       "      <th>13</th>\n",
       "      <td>MECH 463</td>\n",
       "      <td>Mechanical Vibrations</td>\n",
       "      <td>Theory of vibration of mechanical systems. Und...</td>\n",
       "    </tr>\n",
       "    <tr>\n",
       "      <th>14</th>\n",
       "      <td>MECH 466</td>\n",
       "      <td>Automatic Control</td>\n",
       "      <td>Process and system characteristics; transient ...</td>\n",
       "    </tr>\n",
       "    <tr>\n",
       "      <th>15</th>\n",
       "      <td>MECH 479</td>\n",
       "      <td>Introduction to Computational Fluid Dynamics</td>\n",
       "      <td>Techniques for numerical solution of ordinary ...</td>\n",
       "    </tr>\n",
       "    <tr>\n",
       "      <th>16</th>\n",
       "      <td>MECH 489</td>\n",
       "      <td>Experimental Thermofluids</td>\n",
       "      <td>Experimental uncertainty. Design of experiment...</td>\n",
       "    </tr>\n",
       "  </tbody>\n",
       "</table>\n",
       "</div>"
      ],
      "text/plain": [
       "   Course Number                                        Course Name  \\\n",
       "0       MECH 305  Data Analysis and Mechanical Engineering Labor...   \n",
       "1       MECH 325                                     Machine Design   \n",
       "2       MECH 327                                  Thermodynamics II   \n",
       "3       MECH 328              Mechanical Engineering Design Project   \n",
       "4       MECH 358                               Engineering Analysis   \n",
       "5       MECH 360                             Mechanics of Materials   \n",
       "6       MECH 375                                      Heat Transfer   \n",
       "7       MECH 380                                     Fluid Dynamics   \n",
       "8       MECH 386                         Industrial Fluid Mechanics   \n",
       "9       APSC 450                  Professional Engineering Practice   \n",
       "10      ELEC 344           Applied Electronics and Electromechanics   \n",
       "11      MECH 431                              Engineering Economics   \n",
       "12      MECH 454               Thermofluids Capstone Design Project   \n",
       "13      MECH 463                              Mechanical Vibrations   \n",
       "14      MECH 466                                  Automatic Control   \n",
       "15      MECH 479       Introduction to Computational Fluid Dynamics   \n",
       "16      MECH 489                          Experimental Thermofluids   \n",
       "\n",
       "                                   Course Description  \n",
       "0   The use of probability and statistical methods...  \n",
       "1   Selection of flexible drives, bearings, fluid ...  \n",
       "2   Air standard and vapor cycles; first and secon...  \n",
       "3   Applying the design process, making educated a...  \n",
       "4   Fourier series; auto- and cross-correlation; p...  \n",
       "5   Beam deflections, singularity functions; use o...  \n",
       "6   Steady and transient conduction. Radiation hea...  \n",
       "7   Review of principles, compressible flow, poten...  \n",
       "8   Analysis of piping networks. Review of pumps, ...  \n",
       "9   Legislation affecting the practice of engineer...  \n",
       "10  Characteristics of semiconductor devices; anal...  \n",
       "11  Discounted cash flows. Sources of funds, cost ...  \n",
       "12  A capstone course to provide students experien...  \n",
       "13  Theory of vibration of mechanical systems. Und...  \n",
       "14  Process and system characteristics; transient ...  \n",
       "15  Techniques for numerical solution of ordinary ...  \n",
       "16  Experimental uncertainty. Design of experiment...  "
      ]
     },
     "execution_count": 48,
     "metadata": {},
     "output_type": "execute_result"
    }
   ],
   "source": [
    "import pandas as pd\n",
    "\n",
    "df = pd.DataFrame({\n",
    "    \n",
    "    \"Course Number\": course_codes,\n",
    "    \"Course Name\": course_names,\n",
    "    \"Course Description\": course_descs    \n",
    "    \n",
    "})\n",
    "\n",
    "df"
   ]
  },
  {
   "cell_type": "code",
   "execution_count": 49,
   "metadata": {},
   "outputs": [],
   "source": [
    "df.to_csv('UBC_MechEng_Thermofluids_option_core_(Years2-4)_Courses.csv', index = False)"
   ]
  }
 ],
 "metadata": {
  "kernelspec": {
   "display_name": "Python 3",
   "language": "python",
   "name": "python3"
  },
  "language_info": {
   "codemirror_mode": {
    "name": "ipython",
    "version": 3
   },
   "file_extension": ".py",
   "mimetype": "text/x-python",
   "name": "python",
   "nbconvert_exporter": "python",
   "pygments_lexer": "ipython3",
   "version": "3.8.5"
  }
 },
 "nbformat": 4,
 "nbformat_minor": 4
}
