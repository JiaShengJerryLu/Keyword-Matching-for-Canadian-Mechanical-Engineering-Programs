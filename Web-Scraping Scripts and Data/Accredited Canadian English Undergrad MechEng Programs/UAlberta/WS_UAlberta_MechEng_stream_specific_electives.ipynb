{
 "cells": [
  {
   "cell_type": "code",
   "execution_count": 2,
   "metadata": {},
   "outputs": [],
   "source": [
    "from bs4 import BeautifulSoup as soup\n",
    "from selenium import webdriver\n",
    "import time\n",
    "import pandas"
   ]
  },
  {
   "cell_type": "markdown",
   "metadata": {},
   "source": [
    "# 1. Obtain list of scraped core and elective courses. The aim here is to scrape any courses in the \"Elective Streams\" that are not included in the already scraped courses"
   ]
  },
  {
   "cell_type": "code",
   "execution_count": 3,
   "metadata": {},
   "outputs": [
    {
     "data": {
      "text/plain": [
       "103"
      ]
     },
     "execution_count": 3,
     "metadata": {},
     "output_type": "execute_result"
    }
   ],
   "source": [
    "scraped_courses_df = pandas.read_csv(\"UAlberta_MechEng_Core_and_standard_Electives_Courses.csv\")\n",
    "scraped_courses = list(scraped_courses_df[\"Course Number\"])\n",
    "len(scraped_courses)"
   ]
  },
  {
   "cell_type": "code",
   "execution_count": 4,
   "metadata": {
    "scrolled": true
   },
   "outputs": [
    {
     "data": {
      "text/plain": [
       "['CIV E 270',\n",
       " 'ENGG 299',\n",
       " 'MATH 209',\n",
       " 'MEC E 230',\n",
       " 'MEC E 260',\n",
       " 'MEC E 265',\n",
       " 'STAT 235',\n",
       " 'CH E 243',\n",
       " 'ECE 209',\n",
       " 'MAT E 202',\n",
       " 'MATH 201',\n",
       " 'MEC E 200',\n",
       " 'MEC E 250',\n",
       " 'WKEXP 901',\n",
       " 'WKEXP 902',\n",
       " 'MATH 300',\n",
       " 'MEC E 300',\n",
       " 'MEC E 301',\n",
       " 'MEC E 331',\n",
       " 'MEC E 371',\n",
       " 'MEC E 380',\n",
       " 'ENG M 310',\n",
       " 'ENG M 401',\n",
       " 'MEC E 340',\n",
       " 'MEC E 360',\n",
       " 'MEC E 362',\n",
       " 'MEC E 390',\n",
       " 'WKEXP 903',\n",
       " 'WKEXP 904',\n",
       " 'ENGG 404',\n",
       " 'MEC E 430',\n",
       " 'MEC E 480',\n",
       " 'MEC E 463',\n",
       " 'WKEXP 905',\n",
       " 'CH E 448',\n",
       " 'MEC E 420',\n",
       " 'ENGG 400',\n",
       " 'MEC E 403',\n",
       " 'MEC E 451',\n",
       " 'MEC E 460',\n",
       " 'MEC E 467',\n",
       " 'MEC E 468',\n",
       " 'MEC E 539',\n",
       " 'MEC E 563',\n",
       " 'ACCTG 300',\n",
       " 'ACCTG 311',\n",
       " 'B LAW 301',\n",
       " 'B LAW 422',\n",
       " 'B LAW 444',\n",
       " 'BIOCH 200',\n",
       " 'BIOL 107',\n",
       " 'BIOL 108',\n",
       " 'BIOL 207',\n",
       " 'BME 320',\n",
       " 'BME 321',\n",
       " 'BME 513',\n",
       " 'BME 553',\n",
       " 'BME 564',\n",
       " 'CH E 582',\n",
       " 'CHEM 261',\n",
       " 'CHEM 263',\n",
       " 'ECE 405',\n",
       " 'ECE 440',\n",
       " 'ECE 449',\n",
       " 'ENGG 406',\n",
       " 'ENGG 420',\n",
       " 'ENG M 402',\n",
       " 'ENG M 408',\n",
       " 'ENG M 501',\n",
       " 'ENG M 508',\n",
       " 'ENG M 514',\n",
       " 'ENG M 516',\n",
       " 'ENG M 530',\n",
       " 'ENG M 540',\n",
       " 'ENG M 558',\n",
       " 'FIN 301',\n",
       " 'MARK 301',\n",
       " 'MATH 225',\n",
       " 'MATH 311',\n",
       " 'MAT E 345',\n",
       " 'MAT E 466',\n",
       " 'MAT E 495',\n",
       " 'MEC E 364',\n",
       " 'MEC E 409',\n",
       " 'MEC E 415',\n",
       " 'MEC E 443',\n",
       " 'MEC E 464',\n",
       " 'MEC E 466',\n",
       " 'MEC E 469',\n",
       " 'MEC E 485',\n",
       " 'MEC E 494',\n",
       " 'MEC E 495',\n",
       " 'MEC E 537',\n",
       " 'MEC E 541',\n",
       " 'OM 352',\n",
       " 'PET E 275',\n",
       " 'PET E 364',\n",
       " 'PET E 365',\n",
       " 'PET E 366',\n",
       " 'PET E 444',\n",
       " 'PHYS 230',\n",
       " 'SEM 301',\n",
       " 'SEM 321']"
      ]
     },
     "execution_count": 4,
     "metadata": {},
     "output_type": "execute_result"
    }
   ],
   "source": [
    "scraped_courses"
   ]
  },
  {
   "cell_type": "markdown",
   "metadata": {},
   "source": [
    "# 2. Collect course links of the elective stream courses"
   ]
  },
  {
   "cell_type": "code",
   "execution_count": 5,
   "metadata": {},
   "outputs": [],
   "source": [
    "url = \"https://calendar.ualberta.ca/preview_program.php?catoid=34&poid=38711\"\n",
    "\n",
    "chrome_options = webdriver.ChromeOptions()\n",
    "chrome_options.add_argument('--ignore-certificate-errors')\n",
    "chrome_options.add_argument('--incognito')\n",
    "chrome_options.add_argument('--headless')\n",
    "\n",
    "driver = webdriver.Chrome(\"C:\\\\Users\\\\jerry\\\\Downloads\\\\chromedriver\", options=chrome_options)"
   ]
  },
  {
   "cell_type": "code",
   "execution_count": 6,
   "metadata": {},
   "outputs": [],
   "source": [
    "driver.get(url)"
   ]
  },
  {
   "cell_type": "code",
   "execution_count": 7,
   "metadata": {},
   "outputs": [],
   "source": [
    "page_soup = soup(driver.page_source, 'lxml')"
   ]
  },
  {
   "cell_type": "code",
   "execution_count": 8,
   "metadata": {},
   "outputs": [],
   "source": [
    "all_container = page_soup.find(\"div\", {\"class\":\"custom_leftpad_20\"}) #contains all courses in the page"
   ]
  },
  {
   "cell_type": "code",
   "execution_count": 9,
   "metadata": {},
   "outputs": [],
   "source": [
    "containers = all_container.findAll(\"li\", {\"class\": \"acalog-course\"})"
   ]
  },
  {
   "cell_type": "code",
   "execution_count": 12,
   "metadata": {},
   "outputs": [
    {
     "data": {
      "text/plain": [
       "['CIV E 270 - Mechanics of Deformable Bodies I',\n",
       " 'ENGG 299 - Orientation to Cooperative Education',\n",
       " 'MATH 209 - Calculus III',\n",
       " 'MEC E 230 - Introduction to Thermo-Fluid Sciences',\n",
       " 'MEC E 260 - Mechanical Design I',\n",
       " 'MEC E 265 - Engineering Graphics and CAD',\n",
       " 'STAT 235 - Introductory Statistics for Engineering',\n",
       " 'CH E 243 - Engineering Thermodynamics',\n",
       " 'ECE 209 - Fundamentals of Electrical Engineering',\n",
       " 'MAT E 202 - Materials Science II',\n",
       " 'MATH 201 - Differential Equations',\n",
       " 'MEC E 200 - Introduction to Mechanical Engineering',\n",
       " 'MEC E 250 - Engineering Mechanics II',\n",
       " 'WKEXP 901 - Engineering Work Experience I',\n",
       " 'WKEXP 902 - Engineering Work Experience II',\n",
       " 'MATH 300 - Advanced Boundary Value Problems I',\n",
       " 'MEC E 300 - Mechanical Measurements',\n",
       " 'MEC E 301 - Mechanical Engineering Laboratory I',\n",
       " 'MEC E 331 - Fluid Mechanics I',\n",
       " 'MEC E 371 - Heat Transfer',\n",
       " 'MEC E 380 - Advanced Strength of Materials I',\n",
       " 'ENG M 310 - Engineering Economy',\n",
       " 'ENG M 401 - Financial Management for Engineers',\n",
       " 'MEC E 340 - Applied Thermodynamics',\n",
       " 'MEC E 360 - Mechanical Design II',\n",
       " 'MEC E 362 - Mechanics of Machines',\n",
       " 'MEC E 390 - Numerical Methods of Mechanical Engineers',\n",
       " 'WKEXP 903 - Engineering Work Experience III',\n",
       " 'WKEXP 904 - Engineering Work Experience IV',\n",
       " 'MATH 300 - Advanced Boundary Value Problems I',\n",
       " 'MEC E 300 - Mechanical Measurements',\n",
       " 'MEC E 301 - Mechanical Engineering Laboratory I',\n",
       " 'MEC E 331 - Fluid Mechanics I',\n",
       " 'MEC E 371 - Heat Transfer',\n",
       " 'MEC E 380 - Advanced Strength of Materials I',\n",
       " 'ENG M 310 - Engineering Economy',\n",
       " 'ENG M 401 - Financial Management for Engineers',\n",
       " 'MEC E 340 - Applied Thermodynamics',\n",
       " 'MEC E 360 - Mechanical Design II',\n",
       " 'MEC E 362 - Mechanics of Machines',\n",
       " 'MEC E 390 - Numerical Methods of Mechanical Engineers',\n",
       " 'ENGG 404 - Engineering Safety and Risk Management-Leadership in Risk Management',\n",
       " 'MEC E 430 - Fluid Mechanics II',\n",
       " 'MEC E 480 - Advanced Strength of Materials II',\n",
       " 'MEC E 463 - Thermo-Fluids Systems Design',\n",
       " 'WKEXP 905 - Engineering Work Experience V',\n",
       " 'CH E 448 - Process Control for Mechanical Engineers',\n",
       " 'MEC E 420 - Feedback Control Design of Dynamic Systems',\n",
       " 'ENGG 400 - The Practice of the Engineering Profession',\n",
       " 'MEC E 403 - Mechanical Engineering Laboratory II',\n",
       " 'MEC E 451 - Vibrations and Sound',\n",
       " 'MEC E 460 - Design Project',\n",
       " 'MEC E 467 - Modelling and Simulation of Engineering Systems',\n",
       " 'MEC E 468 - Numerical Simulation in Mechanical Engineering Design',\n",
       " 'MEC E 539 - Applied Computational Fluid Dynamics',\n",
       " 'MEC E 563 - Finite Element Method for Mechanical Engineering',\n",
       " 'ACCTG 300 - Introduction to Accounting',\n",
       " 'ACCTG 311 - Introduction to Accounting for Financial Performance',\n",
       " 'B LAW 301 - Legal Foundations of the Canadian Economy',\n",
       " 'B LAW 422 - Law of Business Organizations',\n",
       " 'B LAW 444 - International Business Transactions',\n",
       " 'BIOCH 200 - Introductory Biochemistry',\n",
       " 'BIOL 107 - Introduction to Cell Biology',\n",
       " 'BIOL 108 - Introduction to Biological Diversity',\n",
       " 'BIOL 207 - Molecular Genetics and Heredity',\n",
       " 'BME 320 - Human Anatomy and Physiology: Cells and Tissue',\n",
       " 'BME 321 - Human Anatomy and Physiology: Systems',\n",
       " 'BME 513 - Imaging Methods in Medicine',\n",
       " 'BME 553 - Rehabilitation Engineering: Assisted Movement After Injury',\n",
       " 'BME 564 - Fundamentals of Magnetic Resonance Imaging, MRI',\n",
       " 'CH E 582 - Introduction to Biomaterials',\n",
       " 'CHEM 261 - Organic Chemistry I',\n",
       " 'CHEM 263 - Organic Chemistry II',\n",
       " 'ECE 405 - Biophysical Measurement and Instrumentation',\n",
       " 'ECE 440 - Digital Computer Processing of Images',\n",
       " 'ECE 449 - Intelligent Systems Engineering',\n",
       " 'ENGG 406 - Engineering Safety and Risk Management - Methodologies and Tools',\n",
       " 'ENGG 420 - Engineering Law',\n",
       " 'ENG M 402 - Project Management and Entrepreneurship',\n",
       " 'ENG M 408 - Manufacturing Systems and Engineering',\n",
       " 'ENG M 501 - Production and Operations Management',\n",
       " 'ENG M 508 - Energy Auditing and Management',\n",
       " 'ENG M 514 - Reliability Engineering',\n",
       " 'ENG M 516 - Maintenance Management',\n",
       " 'ENG M 530 - Engineering Project Management',\n",
       " 'ENG M 540 - Introduction to Optimization Models and Algorithms',\n",
       " 'ENG M 558 - Ergonomics and Work Design',\n",
       " 'FIN 301 - Introduction to Finance',\n",
       " 'MARK 301 - Introduction to Marketing',\n",
       " 'MATH 225 - Linear Algebra II',\n",
       " 'MATH 311 - Theory of Functions of a Complex Variable',\n",
       " 'MAT E 345 - Corrosion, Oxidation, and Degradation',\n",
       " 'MAT E 466 - Special Topics in Materials Engineering',\n",
       " 'MAT E 495 - Nanomaterials and Biomedical Applications',\n",
       " 'MEC E 364 - Manufacturing Processes',\n",
       " 'MEC E 409 - Experimental Design Project I',\n",
       " 'MEC E 415 - Busting Myths with Analysis',\n",
       " 'MEC E 430 - Fluid Mechanics II',\n",
       " 'MEC E 443 - Energy Conversion',\n",
       " 'MEC E 464 - Design for Manufacture',\n",
       " 'MEC E 466 - Building Systems Design',\n",
       " 'MEC E 467 - Modelling and Simulation of Engineering Systems',\n",
       " 'MEC E 468 - Numerical Simulation in Mechanical Engineering Design',\n",
       " 'MEC E 469 - Experimental Design Project II',\n",
       " 'MEC E 480 - Advanced Strength of Materials II',\n",
       " 'MEC E 485 - Biomechanical Modelling of Human Tissues and Systems',\n",
       " 'MEC E 494 - Introduction to Research',\n",
       " 'MEC E 495 - Research Project',\n",
       " 'MEC E 537 - Aerodynamics',\n",
       " 'MEC E 539 - Applied Computational Fluid Dynamics',\n",
       " 'MEC E 541 - Combustion Engines',\n",
       " 'MEC E 563 - Finite Element Method for Mechanical Engineering',\n",
       " 'OM 352 - Operations Management',\n",
       " 'PET E 275 - Petroleum Reservoir Fluids',\n",
       " 'PET E 364 - Drilling Engineering',\n",
       " 'PET E 365 - Well Logging and Formation Evaluation',\n",
       " 'PET E 366 - Petroleum Production Operations',\n",
       " 'PET E 444 - Natural Gas Engineering',\n",
       " 'PHYS 230 - Electricity and Magnetism',\n",
       " 'SEM 301 - Behavior in Organizations',\n",
       " 'SEM 321 - Introduction to Strategic Management and Organization Design',\n",
       " 'BME 320 - Human Anatomy and Physiology: Cells and Tissue',\n",
       " 'BME 321 - Human Anatomy and Physiology: Systems',\n",
       " 'BME 513 - Imaging Methods in Medicine',\n",
       " 'BME 553 - Rehabilitation Engineering: Assisted Movement After Injury',\n",
       " 'ECE 405 - Biophysical Measurement and Instrumentation',\n",
       " 'ECE 440 - Digital Computer Processing of Images',\n",
       " 'MEC E 409 - Experimental Design Project I',\n",
       " 'MEC E 469 - Experimental Design Project II',\n",
       " 'MEC E 485 - Biomechanical Modelling of Human Tissues and Systems',\n",
       " 'ENGG 420 - Engineering Law',\n",
       " 'ENG M 402 - Project Management and Entrepreneurship',\n",
       " 'ENG M 501 - Production and Operations Management',\n",
       " 'ENG M 508 - Energy Auditing and Management',\n",
       " 'ENG M 516 - Maintenance Management',\n",
       " 'ENG M 530 - Engineering Project Management',\n",
       " 'ENG M 540 - Introduction to Optimization Models and Algorithms',\n",
       " 'ENG M 558 - Ergonomics and Work Design',\n",
       " 'MEC E 467 - Modelling and Simulation of Engineering Systems',\n",
       " 'ACCTG 300 - Introduction to Accounting',\n",
       " 'B LAW 301 - Legal Foundations of the Canadian Economy',\n",
       " 'FIN 301 - Introduction to Finance',\n",
       " 'MARK 301 - Introduction to Marketing',\n",
       " 'OM 352 - Operations Management',\n",
       " 'SEM 301 - Behavior in Organizations',\n",
       " 'SEM 321 - Introduction to Strategic Management and Organization Design',\n",
       " 'ENG M 514 - Reliability Engineering',\n",
       " 'MEC E 420 - Feedback Control Design of Dynamic Systems',\n",
       " 'MEC E 537 - Aerodynamics',\n",
       " 'MEC E 539 - Applied Computational Fluid Dynamics',\n",
       " 'MEC E 541 - Combustion Engines',\n",
       " 'MEC E 569 - Mechanics and Design of Composite Materials']"
      ]
     },
     "execution_count": 12,
     "metadata": {},
     "output_type": "execute_result"
    }
   ],
   "source": [
    "link_texts = [container.find(\"a\").text.strip() for container in containers]\n",
    "link_texts"
   ]
  },
  {
   "cell_type": "markdown",
   "metadata": {},
   "source": [
    "# 3. Open any courses that haven't been scraped"
   ]
  },
  {
   "cell_type": "code",
   "execution_count": null,
   "metadata": {},
   "outputs": [],
   "source": [
    "for link_text in link_texts:\n",
    "    course_code = link_text.split(\" - \")[0]\n",
    "    if course_code not in scraped_courses:\n",
    "        link = driver.find_element_by_link_text(link_text)\n",
    "        link.click()\n",
    "        time.sleep(3)\n",
    "        print(\"opened \", course_code)"
   ]
  },
  {
   "cell_type": "code",
   "execution_count": 14,
   "metadata": {},
   "outputs": [
    {
     "data": {
      "text/plain": [
       "152"
      ]
     },
     "execution_count": 14,
     "metadata": {},
     "output_type": "execute_result"
    }
   ],
   "source": [
    "len(link_texts)"
   ]
  },
  {
   "cell_type": "code",
   "execution_count": 15,
   "metadata": {},
   "outputs": [
    {
     "data": {
      "text/plain": [
       "103"
      ]
     },
     "execution_count": 15,
     "metadata": {},
     "output_type": "execute_result"
    }
   ],
   "source": [
    "len(scraped_courses)"
   ]
  },
  {
   "cell_type": "code",
   "execution_count": 16,
   "metadata": {},
   "outputs": [
    {
     "data": {
      "text/plain": [
       "104"
      ]
     },
     "execution_count": 16,
     "metadata": {},
     "output_type": "execute_result"
    }
   ],
   "source": [
    "len(list(dict.fromkeys(link_texts)))"
   ]
  },
  {
   "cell_type": "markdown",
   "metadata": {},
   "source": [
    "# 4. There's only one course that haven't been scraped. Obtain updated page html and scrape"
   ]
  },
  {
   "cell_type": "code",
   "execution_count": 21,
   "metadata": {},
   "outputs": [
    {
     "name": "stdout",
     "output_type": "stream",
     "text": [
      "1\n"
     ]
    }
   ],
   "source": [
    "page_soup = soup(driver.page_source, 'lxml')\n",
    "containers = page_soup.findAll(\"li\", {\"class\":\"acalog-course acalog-course-open\"}) #contains all open courses in the page\n",
    "print(len(containers))"
   ]
  },
  {
   "cell_type": "code",
   "execution_count": 22,
   "metadata": {},
   "outputs": [
    {
     "data": {
      "text/plain": [
       "['MEC E 569 - Mechanics and Design of Composite Materials  ★ 3 (fi 6) (either term or Spring/Summer, 3-0-0) Introduction to composite materials. Mechanical characterization and strength theories of a lamina. Micro-mechanical analysis of a lamina. Macro-mechanical analysis of laminates. Failure analysis and design of laminates. Prerequisite: MEC E 380.']"
      ]
     },
     "execution_count": 22,
     "metadata": {},
     "output_type": "execute_result"
    }
   ],
   "source": [
    "course_descs = [container.find(\"div\", {\"class\": None}).text.strip() for container in containers]\n",
    "course_descs"
   ]
  },
  {
   "cell_type": "code",
   "execution_count": 24,
   "metadata": {},
   "outputs": [
    {
     "data": {
      "text/plain": [
       "[' Introduction to composite materials. Mechanical characterization and strength theories of a lamina. Micro-mechanical analysis of a lamina. Macro-mechanical analysis of laminates. Failure analysis and design of laminates. Prerequisite: MEC E 380.']"
      ]
     },
     "execution_count": 24,
     "metadata": {},
     "output_type": "execute_result"
    }
   ],
   "source": [
    "import re\n",
    "course_descs = [re.split(\"\\([A-Za-z0-9 ]{4}\\) \\([A-Za-z0-9, -/.]{10,45}\\)\", desc)[1] for desc in course_descs]\n",
    "course_descs"
   ]
  },
  {
   "cell_type": "code",
   "execution_count": 25,
   "metadata": {},
   "outputs": [
    {
     "data": {
      "text/plain": [
       "['Introduction to composite materials. Mechanical characterization and strength theories of a lamina. Micro-mechanical analysis of a lamina. Macro-mechanical analysis of laminates. Failure analysis and design of laminates. Prerequisite: MEC E 380.']"
      ]
     },
     "execution_count": 25,
     "metadata": {},
     "output_type": "execute_result"
    }
   ],
   "source": [
    "course_descs = [desc.strip() for desc in course_descs]\n",
    "course_descs"
   ]
  },
  {
   "cell_type": "code",
   "execution_count": 26,
   "metadata": {},
   "outputs": [],
   "source": [
    "course_titles = [link_text for link_text in link_texts if link_text.split(\" - \")[0] not in scraped_courses]"
   ]
  },
  {
   "cell_type": "code",
   "execution_count": 27,
   "metadata": {},
   "outputs": [
    {
     "data": {
      "text/plain": [
       "['MEC E 569 - Mechanics and Design of Composite Materials']"
      ]
     },
     "execution_count": 27,
     "metadata": {},
     "output_type": "execute_result"
    }
   ],
   "source": [
    "course_titles"
   ]
  },
  {
   "cell_type": "code",
   "execution_count": 28,
   "metadata": {},
   "outputs": [
    {
     "data": {
      "text/plain": [
       "['Mechanics and Design of Composite Materials']"
      ]
     },
     "execution_count": 28,
     "metadata": {},
     "output_type": "execute_result"
    }
   ],
   "source": [
    "course_names = [title.split(\" - \")[1] for title in course_titles]\n",
    "course_names"
   ]
  },
  {
   "cell_type": "code",
   "execution_count": 29,
   "metadata": {},
   "outputs": [
    {
     "data": {
      "text/plain": [
       "['MEC E 569']"
      ]
     },
     "execution_count": 29,
     "metadata": {},
     "output_type": "execute_result"
    }
   ],
   "source": [
    "course_codes = [title.split(\" - \")[0] for title in course_titles]\n",
    "course_codes"
   ]
  },
  {
   "cell_type": "markdown",
   "metadata": {},
   "source": [
    "# 5. Write to CSV"
   ]
  },
  {
   "cell_type": "code",
   "execution_count": 30,
   "metadata": {},
   "outputs": [
    {
     "data": {
      "text/html": [
       "<div>\n",
       "<style scoped>\n",
       "    .dataframe tbody tr th:only-of-type {\n",
       "        vertical-align: middle;\n",
       "    }\n",
       "\n",
       "    .dataframe tbody tr th {\n",
       "        vertical-align: top;\n",
       "    }\n",
       "\n",
       "    .dataframe thead th {\n",
       "        text-align: right;\n",
       "    }\n",
       "</style>\n",
       "<table border=\"1\" class=\"dataframe\">\n",
       "  <thead>\n",
       "    <tr style=\"text-align: right;\">\n",
       "      <th></th>\n",
       "      <th>Course Number</th>\n",
       "      <th>Course Name</th>\n",
       "      <th>Course Description</th>\n",
       "    </tr>\n",
       "  </thead>\n",
       "  <tbody>\n",
       "    <tr>\n",
       "      <th>0</th>\n",
       "      <td>MEC E 569</td>\n",
       "      <td>Mechanics and Design of Composite Materials</td>\n",
       "      <td>Introduction to composite materials. Mechanica...</td>\n",
       "    </tr>\n",
       "  </tbody>\n",
       "</table>\n",
       "</div>"
      ],
      "text/plain": [
       "  Course Number                                  Course Name  \\\n",
       "0     MEC E 569  Mechanics and Design of Composite Materials   \n",
       "\n",
       "                                  Course Description  \n",
       "0  Introduction to composite materials. Mechanica...  "
      ]
     },
     "execution_count": 30,
     "metadata": {},
     "output_type": "execute_result"
    }
   ],
   "source": [
    "import pandas as pd\n",
    "\n",
    "df = pd.DataFrame({\n",
    "    \"Course Number\": course_codes,\n",
    "    \"Course Name\": course_names,\n",
    "    \"Course Description\": course_descs    \n",
    "})\n",
    "\n",
    "df"
   ]
  },
  {
   "cell_type": "code",
   "execution_count": 31,
   "metadata": {},
   "outputs": [],
   "source": [
    "df.to_csv('UAlberta_MechEng_stream_specific_electives_Courses.csv', index = False)"
   ]
  },
  {
   "cell_type": "code",
   "execution_count": 32,
   "metadata": {},
   "outputs": [],
   "source": [
    "driver.quit()"
   ]
  }
 ],
 "metadata": {
  "kernelspec": {
   "display_name": "Python 3",
   "language": "python",
   "name": "python3"
  },
  "language_info": {
   "codemirror_mode": {
    "name": "ipython",
    "version": 3
   },
   "file_extension": ".py",
   "mimetype": "text/x-python",
   "name": "python",
   "nbconvert_exporter": "python",
   "pygments_lexer": "ipython3",
   "version": "3.8.5"
  }
 },
 "nbformat": 4,
 "nbformat_minor": 4
}
