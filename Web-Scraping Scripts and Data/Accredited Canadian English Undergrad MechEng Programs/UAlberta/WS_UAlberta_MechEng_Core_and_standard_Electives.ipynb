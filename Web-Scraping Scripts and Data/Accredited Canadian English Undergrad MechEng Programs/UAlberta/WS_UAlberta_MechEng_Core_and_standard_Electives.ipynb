{
 "cells": [
  {
   "cell_type": "code",
   "execution_count": 1,
   "metadata": {},
   "outputs": [],
   "source": [
    "from bs4 import BeautifulSoup as soup\n",
    "from selenium import webdriver\n",
    "import time"
   ]
  },
  {
   "cell_type": "code",
   "execution_count": 2,
   "metadata": {},
   "outputs": [],
   "source": [
    "#url of mechanical eng page\n",
    "url = \"https://calendar.ualberta.ca/preview_program.php?catoid=34&poid=38711\"\n",
    "\n",
    "chrome_options = webdriver.ChromeOptions()\n",
    "chrome_options.add_argument('--ignore-certificate-errors')\n",
    "chrome_options.add_argument('--incognito')\n",
    "chrome_options.add_argument('--headless')\n",
    "\n",
    "driver = webdriver.Chrome(\"C:\\\\Users\\\\jerry\\\\Downloads\\\\chromedriver\", options=chrome_options)"
   ]
  },
  {
   "cell_type": "code",
   "execution_count": 3,
   "metadata": {},
   "outputs": [],
   "source": [
    "driver.get(url)"
   ]
  },
  {
   "cell_type": "markdown",
   "metadata": {},
   "source": [
    "# Scrape core courses"
   ]
  },
  {
   "cell_type": "markdown",
   "metadata": {},
   "source": [
    "# 1. Collect all course title links for webdriver to click on"
   ]
  },
  {
   "cell_type": "code",
   "execution_count": 4,
   "metadata": {},
   "outputs": [],
   "source": [
    "page_soup = soup(driver.page_source, 'lxml')"
   ]
  },
  {
   "cell_type": "code",
   "execution_count": 5,
   "metadata": {},
   "outputs": [],
   "source": [
    "all_container = page_soup.find(\"div\", {\"class\":\"custom_leftpad_20\"}) #contains all courses in the page"
   ]
  },
  {
   "cell_type": "code",
   "execution_count": 6,
   "metadata": {},
   "outputs": [
    {
     "data": {
      "text/plain": [
       "<div class=\"custom_leftpad_20\"><div class=\"acalog-core\"><h2><a name=\"EngineeringDisciplines\"></a><a id=\"core_330884\" name=\"engineeringdisciplines\"></a>Engineering Disciplines</h2><hr/><p>To find descriptions of the various disciplines of Engineering, visit <a href=\"https://www.ualberta.ca/engineering/study-with-us/programs/index.html\">Explore our Programs</a> on the Faculty of Engineering website.</p>\n",
       "</div><div class=\"acalog-core\"><h2><a name=\"AdmissionRequirements\"></a><a id=\"core_330885\" name=\"admissionrequirements\"></a>Admission Requirements</h2><hr/><ul>\n",
       "<li><a href=\"content.php?catoid=34&amp;navoid=10115\">General Undergraduate Admission Requirements</a><span style=\"display: none !important\"> </span> </li>\n",
       "<li><a href=\"content.php?catoid=34&amp;navoid=10229\">Admission Requirements for Qualifying Year</a><span style=\"display: none !important\"> </span> </li>\n",
       "</ul>\n",
       "</div><div class=\"acalog-core\"><h2><a name=\"AcademicRegulations\"></a><a id=\"core_330886\" name=\"academicregulations\"></a>Academic Regulations</h2><hr/><ul>\n",
       "<li><a href=\"content.php?catoid=34&amp;navoid=10328\">University Regulations</a><span style=\"display: none !important\"> </span> </li>\n",
       "<li><a href=\"content.php?catoid=34&amp;navoid=10151\">Faculty of Engineering Regulations</a><span style=\"display: none !important\"> </span> </li>\n",
       "</ul>\n",
       "</div><div class=\"acalog-core\"><h2><a name=\"ProgramRequirements\"></a><a id=\"core_331121\" name=\"programrequirements\"></a>Program Requirements</h2><hr/></div><div class=\"custom_leftpad_20\"><div class=\"acalog-core\"><h3><a name=\"Year1\"></a><a id=\"core_331122\" name=\"year1\"></a>Year 1</h3><hr/><p>Requirements for Year 1 can be found in <a href=\"preview_program.php?catoid=34&amp;poid=38077\">BSc in Engineering - Qualifying Year</a><span style=\"display: none !important\"> </span>.</p>\n",
       "<p>Information regarding admission to a specialized program from the Qualifying Year Program can be found in <a href=\"content.php?catoid=34&amp;navoid=10151\">Faculty of Engineering Regulations</a><span style=\"display: none !important\"> </span>.</p>\n",
       "</div><div class=\"acalog-core\"><h3><a name=\"Year2\"></a><a id=\"core_317214\" name=\"year2\"></a>Year 2</h3><hr/></div><div class=\"custom_leftpad_20\"><div class=\"acalog-core\"><h4><a name=\"FallTerm3\"></a><a id=\"core_317215\" name=\"fallterm3\"></a>Fall Term 3</h4><hr/><ul><li class=\"acalog-course\"><span><a aria-expanded=\"false\" href=\"#\" onclick=\"showCourse('34', '372750',this, 'a:2:{s:8:~location~;s:7:~program~;s:4:~core~;s:6:~317215~;}'); return false;\">CIV E 270 - Mechanics of Deformable Bodies I </a></span></li><li class=\"acalog-course\"><span><a aria-expanded=\"false\" href=\"#\" onclick=\"showCourse('34', '374125',this, 'a:2:{s:8:~location~;s:7:~program~;s:4:~core~;s:6:~317215~;}'); return false;\">ENGG 299 - Orientation to Cooperative Education </a></span></li><li class=\"acalog-course\"><span><a aria-expanded=\"false\" href=\"#\" onclick=\"showCourse('34', '375414',this, 'a:2:{s:8:~location~;s:7:~program~;s:4:~core~;s:6:~317215~;}'); return false;\">MATH 209 - Calculus III </a></span></li><li class=\"acalog-course\"><span><a aria-expanded=\"false\" href=\"#\" onclick=\"showCourse('34', '375560',this, 'a:2:{s:8:~location~;s:7:~program~;s:4:~core~;s:6:~317215~;}'); return false;\">MEC E 230 - Introduction to Thermo-Fluid Sciences </a></span></li><li class=\"acalog-course\"><span><a aria-expanded=\"false\" href=\"#\" onclick=\"showCourse('34', '375562',this, 'a:2:{s:8:~location~;s:7:~program~;s:4:~core~;s:6:~317215~;}'); return false;\">MEC E 260 - Mechanical Design I </a></span></li><li class=\"acalog-course\"><span><a aria-expanded=\"false\" href=\"#\" onclick=\"showCourse('34', '375563',this, 'a:2:{s:8:~location~;s:7:~program~;s:4:~core~;s:6:~317215~;}'); return false;\">MEC E 265 - Engineering Graphics and CAD </a></span></li><li class=\"acalog-course\"><span><a aria-expanded=\"false\" href=\"#\" onclick=\"showCourse('34', '377698',this, 'a:2:{s:8:~location~;s:7:~program~;s:4:~core~;s:6:~317215~;}'); return false;\">STAT 235 - Introductory Statistics for Engineering </a></span></li></ul></div><div class=\"acalog-core\"><h4><a name=\"WinterTerm4\"></a><a id=\"core_317216\" name=\"winterterm4\"></a>Winter Term 4</h4><hr/><ul><li class=\"acalog-course\"><span><a aria-expanded=\"false\" href=\"#\" onclick=\"showCourse('34', '372529',this, 'a:2:{s:8:~location~;s:7:~program~;s:4:~core~;s:6:~317216~;}'); return false;\">CH E 243 - Engineering Thermodynamics </a></span></li><li class=\"acalog-course\"><span><a aria-expanded=\"false\" href=\"#\" onclick=\"showCourse('34', '373957',this, 'a:2:{s:8:~location~;s:7:~program~;s:4:~core~;s:6:~317216~;}'); return false;\">ECE 209 - Fundamentals of Electrical Engineering </a></span></li><li class=\"acalog-course\"><span><a aria-expanded=\"false\" href=\"#\" onclick=\"showCourse('34', '378197',this, 'a:2:{s:8:~location~;s:7:~program~;s:4:~core~;s:6:~317216~;}'); return false;\">MAT E 202 - Materials Science II </a></span></li><li class=\"acalog-course\"><span><a aria-expanded=\"false\" href=\"#\" onclick=\"showCourse('34', '375413',this, 'a:2:{s:8:~location~;s:7:~program~;s:4:~core~;s:6:~317216~;}'); return false;\">MATH 201 - Differential Equations </a></span></li><li class=\"acalog-course\"><span><a aria-expanded=\"false\" href=\"#\" onclick=\"showCourse('34', '375559',this, 'a:2:{s:8:~location~;s:7:~program~;s:4:~core~;s:6:~317216~;}'); return false;\">MEC E 200 - Introduction to Mechanical Engineering </a></span></li><li class=\"acalog-course\"><span><a aria-expanded=\"false\" href=\"#\" onclick=\"showCourse('34', '375561',this, 'a:2:{s:8:~location~;s:7:~program~;s:4:~core~;s:6:~317216~;}'); return false;\">MEC E 250 - Engineering Mechanics II </a></span></li></ul></div><div class=\"acalog-core\"><h4><a name=\"Summer\"></a><a id=\"core_317217\" name=\"summer\"></a>Summer</h4><hr/><ul><li class=\"acalog-course\"><span><a aria-expanded=\"false\" href=\"#\" onclick=\"showCourse('34', '377968',this, 'a:2:{s:8:~location~;s:7:~program~;s:4:~core~;s:6:~317217~;}'); return false;\">WKEXP 901 - Engineering Work Experience I </a></span></li></ul></div></div><div class=\"acalog-core\"><h3><a name=\"Year3\"></a><a id=\"core_317218\" name=\"year3\"></a>Year 3</h3><hr/></div><div class=\"custom_leftpad_20\"><div class=\"acalog-core\"><h4><a name=\"Fall\"></a><a id=\"core_317219\" name=\"fall\"></a>Fall</h4><hr/><ul><li class=\"acalog-course\"><span><a aria-expanded=\"false\" href=\"#\" onclick=\"showCourse('34', '377969',this, 'a:2:{s:8:~location~;s:7:~program~;s:4:~core~;s:6:~317219~;}'); return false;\">WKEXP 902 - Engineering Work Experience II </a></span></li></ul></div><div class=\"acalog-core\"><h4><a name=\"WinterTerm5\"></a><a id=\"core_317220\" name=\"winterterm5\"></a>Winter Term 5</h4><hr/></div><div class=\"custom_leftpad_20\"><div class=\"acalog-core\"><h5><a name=\"CourseGroup3A\"></a><a id=\"core_317221\" name=\"coursegroup3a\"></a>Course Group 3A</h5><hr/><ul><li class=\"acalog-course\"><span><a aria-expanded=\"false\" href=\"#\" onclick=\"showCourse('34', '375426',this, 'a:2:{s:8:~location~;s:7:~program~;s:4:~core~;s:6:~317221~;}'); return false;\">MATH 300 - Advanced Boundary Value Problems I </a></span></li><li class=\"acalog-course\"><span><a aria-expanded=\"false\" href=\"#\" onclick=\"showCourse('34', '375564',this, 'a:2:{s:8:~location~;s:7:~program~;s:4:~core~;s:6:~317221~;}'); return false;\">MEC E 300 - Mechanical Measurements </a></span></li><li class=\"acalog-course\"><span><a aria-expanded=\"false\" href=\"#\" onclick=\"showCourse('34', '375565',this, 'a:2:{s:8:~location~;s:7:~program~;s:4:~core~;s:6:~317221~;}'); return false;\">MEC E 301 - Mechanical Engineering Laboratory I </a></span></li><li class=\"acalog-course\"><span><a aria-expanded=\"false\" href=\"#\" onclick=\"showCourse('34', '375567',this, 'a:2:{s:8:~location~;s:7:~program~;s:4:~core~;s:6:~317221~;}'); return false;\">MEC E 331 - Fluid Mechanics I </a></span></li><li class=\"acalog-course\"><span><a aria-expanded=\"false\" href=\"#\" onclick=\"showCourse('34', '375574',this, 'a:2:{s:8:~location~;s:7:~program~;s:4:~core~;s:6:~317221~;}'); return false;\">MEC E 371 - Heat Transfer </a></span></li><li class=\"acalog-course\"><span><a aria-expanded=\"false\" href=\"#\" onclick=\"showCourse('34', '375575',this, 'a:2:{s:8:~location~;s:7:~program~;s:4:~core~;s:6:~317221~;}'); return false;\">MEC E 380 - Advanced Strength of Materials I </a></span></li></ul></div><div class=\"acalog-core\"><h5><a name=\"OR\"></a><a id=\"core_317222\" name=\"or\"></a>OR</h5><hr/></div><div class=\"acalog-core\"><h5><a name=\"CourseGroup3B\"></a><a id=\"core_317223\" name=\"coursegroup3b\"></a>Course Group 3B</h5><hr/><ul><li class=\"acalog-course\"><span><a aria-expanded=\"false\" href=\"#\" onclick=\"showCourse('34', '374093',this, 'a:2:{s:8:~location~;s:7:~program~;s:4:~core~;s:6:~317223~;}'); return false;\">ENG M 310 - Engineering Economy </a> <strong>OR</strong></span></li><li class=\"acalog-course\"><span><a aria-expanded=\"false\" href=\"#\" onclick=\"showCourse('34', '374094',this, 'a:2:{s:8:~location~;s:7:~program~;s:4:~core~;s:6:~317223~;}'); return false;\">ENG M 401 - Financial Management for Engineers </a></span></li><li class=\"acalog-adhoc acalog-adhoc-after\" style=\"list-style: none;\"><p> </p></li><li class=\"acalog-adhoc-list-item acalog-adhoc-after\">Complementary Studies Elective (3-0-0)</li><li class=\"acalog-course\"><span><a aria-expanded=\"false\" href=\"#\" onclick=\"showCourse('34', '375568',this, 'a:2:{s:8:~location~;s:7:~program~;s:4:~core~;s:6:~317223~;}'); return false;\">MEC E 340 - Applied Thermodynamics </a></span></li><li class=\"acalog-course\"><span><a aria-expanded=\"false\" href=\"#\" onclick=\"showCourse('34', '375570',this, 'a:2:{s:8:~location~;s:7:~program~;s:4:~core~;s:6:~317223~;}'); return false;\">MEC E 360 - Mechanical Design II </a></span></li><li class=\"acalog-course\"><span><a aria-expanded=\"false\" href=\"#\" onclick=\"showCourse('34', '375571',this, 'a:2:{s:8:~location~;s:7:~program~;s:4:~core~;s:6:~317223~;}'); return false;\">MEC E 362 - Mechanics of Machines </a></span></li><li class=\"acalog-course\"><span><a aria-expanded=\"false\" href=\"#\" onclick=\"showCourse('34', '375576',this, 'a:2:{s:8:~location~;s:7:~program~;s:4:~core~;s:6:~317223~;}'); return false;\">MEC E 390 - Numerical Methods of Mechanical Engineers </a></span></li></ul></div></div><div class=\"acalog-core\"><h4><a name=\"Summer\"></a><a id=\"core_317224\" name=\"summer\"></a>Summer</h4><hr/><ul><li class=\"acalog-course\"><span><a aria-expanded=\"false\" href=\"#\" onclick=\"showCourse('34', '377970',this, 'a:2:{s:8:~location~;s:7:~program~;s:4:~core~;s:6:~317224~;}'); return false;\">WKEXP 903 - Engineering Work Experience III </a></span></li></ul></div></div><div class=\"acalog-core\"><h3><a name=\"Year4\"></a><a id=\"core_317225\" name=\"year4\"></a>Year 4</h3><hr/></div><div class=\"custom_leftpad_20\"><div class=\"acalog-core\"><h4><a name=\"Fall\"></a><a id=\"core_317226\" name=\"fall\"></a>Fall</h4><hr/><ul><li class=\"acalog-course\"><span><a aria-expanded=\"false\" href=\"#\" onclick=\"showCourse('34', '377971',this, 'a:2:{s:8:~location~;s:7:~program~;s:4:~core~;s:6:~317226~;}'); return false;\">WKEXP 904 - Engineering Work Experience IV </a></span></li></ul></div><div class=\"acalog-core\"><h4><a name=\"WinterTerm6\"></a><a id=\"core_317230\" name=\"winterterm6\"></a>Winter Term 6</h4><hr/></div><div class=\"custom_leftpad_20\"><div class=\"acalog-core\"><h5><a name=\"CourseGroup3A\"></a><a id=\"core_317227\" name=\"coursegroup3a\"></a>Course Group 3A</h5><hr/><ul><li class=\"acalog-course\"><span><a aria-expanded=\"false\" href=\"#\" onclick=\"showCourse('34', '375426',this, 'a:2:{s:8:~location~;s:7:~program~;s:4:~core~;s:6:~317227~;}'); return false;\">MATH 300 - Advanced Boundary Value Problems I </a></span></li><li class=\"acalog-course\"><span><a aria-expanded=\"false\" href=\"#\" onclick=\"showCourse('34', '375564',this, 'a:2:{s:8:~location~;s:7:~program~;s:4:~core~;s:6:~317227~;}'); return false;\">MEC E 300 - Mechanical Measurements </a></span></li><li class=\"acalog-course\"><span><a aria-expanded=\"false\" href=\"#\" onclick=\"showCourse('34', '375565',this, 'a:2:{s:8:~location~;s:7:~program~;s:4:~core~;s:6:~317227~;}'); return false;\">MEC E 301 - Mechanical Engineering Laboratory I </a></span></li><li class=\"acalog-course\"><span><a aria-expanded=\"false\" href=\"#\" onclick=\"showCourse('34', '375567',this, 'a:2:{s:8:~location~;s:7:~program~;s:4:~core~;s:6:~317227~;}'); return false;\">MEC E 331 - Fluid Mechanics I </a></span></li><li class=\"acalog-course\"><span><a aria-expanded=\"false\" href=\"#\" onclick=\"showCourse('34', '375574',this, 'a:2:{s:8:~location~;s:7:~program~;s:4:~core~;s:6:~317227~;}'); return false;\">MEC E 371 - Heat Transfer </a></span></li><li class=\"acalog-course\"><span><a aria-expanded=\"false\" href=\"#\" onclick=\"showCourse('34', '375575',this, 'a:2:{s:8:~location~;s:7:~program~;s:4:~core~;s:6:~317227~;}'); return false;\">MEC E 380 - Advanced Strength of Materials I </a></span></li></ul></div><div class=\"acalog-core\"><h5><a name=\"OR\"></a><a id=\"core_317228\" name=\"or\"></a>OR</h5><hr/></div><div class=\"acalog-core\"><h5><a name=\"CourseGroup3B\"></a><a id=\"core_317229\" name=\"coursegroup3b\"></a>Course Group 3B</h5><hr/><ul><li class=\"acalog-course\"><span><a aria-expanded=\"false\" href=\"#\" onclick=\"showCourse('34', '374093',this, 'a:2:{s:8:~location~;s:7:~program~;s:4:~core~;s:6:~317229~;}'); return false;\">ENG M 310 - Engineering Economy </a> <strong>OR</strong></span></li><li class=\"acalog-course\"><span><a aria-expanded=\"false\" href=\"#\" onclick=\"showCourse('34', '374094',this, 'a:2:{s:8:~location~;s:7:~program~;s:4:~core~;s:6:~317229~;}'); return false;\">ENG M 401 - Financial Management for Engineers </a></span></li><li class=\"acalog-adhoc acalog-adhoc-after\" style=\"list-style: none;\"><p> </p></li><li class=\"acalog-adhoc-list-item acalog-adhoc-after\">Complementary Studies Elective (3-0-0)</li><li class=\"acalog-course\"><span><a aria-expanded=\"false\" href=\"#\" onclick=\"showCourse('34', '375568',this, 'a:2:{s:8:~location~;s:7:~program~;s:4:~core~;s:6:~317229~;}'); return false;\">MEC E 340 - Applied Thermodynamics </a></span></li><li class=\"acalog-course\"><span><a aria-expanded=\"false\" href=\"#\" onclick=\"showCourse('34', '375570',this, 'a:2:{s:8:~location~;s:7:~program~;s:4:~core~;s:6:~317229~;}'); return false;\">MEC E 360 - Mechanical Design II </a></span></li><li class=\"acalog-course\"><span><a aria-expanded=\"false\" href=\"#\" onclick=\"showCourse('34', '375571',this, 'a:2:{s:8:~location~;s:7:~program~;s:4:~core~;s:6:~317229~;}'); return false;\">MEC E 362 - Mechanics of Machines </a></span></li><li class=\"acalog-course\"><span><a aria-expanded=\"false\" href=\"#\" onclick=\"showCourse('34', '375576',this, 'a:2:{s:8:~location~;s:7:~program~;s:4:~core~;s:6:~317229~;}'); return false;\">MEC E 390 - Numerical Methods of Mechanical Engineers </a></span></li></ul></div></div><div class=\"acalog-core\"><h4><a name=\"SummerTerm7\"></a><a id=\"core_317231\" name=\"summerterm7\"></a>Summer Term 7</h4><hr/><ul><li class=\"acalog-course\"><span><a aria-expanded=\"false\" href=\"#\" onclick=\"showCourse('34', '374127',this, 'a:2:{s:8:~location~;s:7:~program~;s:4:~core~;s:6:~317231~;}'); return false;\">ENGG 404 - Engineering Safety and Risk Management-Leadership in Risk Management </a></span></li><li class=\"acalog-adhoc-list-item acalog-adhoc-before\">Program and Technical Elective (3-0-0)</li><li class=\"acalog-adhoc-list-item acalog-adhoc-before\">Program and Technical Elective (3-0-0)</li><li class=\"acalog-adhoc acalog-adhoc-before\" style=\"list-style: none;\"><p> </p></li><li class=\"acalog-course\"><span><a aria-expanded=\"false\" href=\"#\" onclick=\"showCourse('34', '375581',this, 'a:2:{s:8:~location~;s:7:~program~;s:4:~core~;s:6:~317231~;}'); return false;\">MEC E 430 - Fluid Mechanics II </a> <strong>OR</strong></span></li><li class=\"acalog-course\"><span><a aria-expanded=\"false\" href=\"#\" onclick=\"showCourse('34', '375594',this, 'a:2:{s:8:~location~;s:7:~program~;s:4:~core~;s:6:~317231~;}'); return false;\">MEC E 480 - Advanced Strength of Materials II </a></span></li><li class=\"acalog-adhoc acalog-adhoc-after\" style=\"list-style: none;\"><p> </p></li><li class=\"acalog-course\"><span><a aria-expanded=\"false\" href=\"#\" onclick=\"showCourse('34', '375588',this, 'a:2:{s:8:~location~;s:7:~program~;s:4:~core~;s:6:~317231~;}'); return false;\">MEC E 463 - Thermo-Fluids Systems Design </a></span></li><li class=\"acalog-adhoc-list-item acalog-adhoc-after\">Program and Technical Elective (3-0-0)</li></ul></div></div><div class=\"acalog-core\"><h3><a name=\"Year5\"></a><a id=\"core_317232\" name=\"year5\"></a>Year 5</h3><hr/></div><div class=\"custom_leftpad_20\"><div class=\"acalog-core\"><h4><a name=\"Fall\"></a><a id=\"core_317233\" name=\"fall\"></a>Fall</h4><hr/><ul><li class=\"acalog-course\"><span><a aria-expanded=\"false\" href=\"#\" onclick=\"showCourse('34', '377972',this, 'a:2:{s:8:~location~;s:7:~program~;s:4:~core~;s:6:~317233~;}'); return false;\">WKEXP 905 - Engineering Work Experience V </a></span></li></ul></div><div class=\"acalog-core\"><h4><a name=\"WinterTerm8\"></a><a id=\"core_317234\" name=\"winterterm8\"></a>Winter Term 8</h4><hr/><ul><li class=\"acalog-course\"><span><a aria-expanded=\"false\" href=\"#\" onclick=\"showCourse('34', '372543',this, 'a:2:{s:8:~location~;s:7:~program~;s:4:~core~;s:6:~317234~;}'); return false;\">CH E 448 - Process Control for Mechanical Engineers </a> <strong>OR</strong></span></li><li class=\"acalog-course\"><span><a aria-expanded=\"false\" href=\"#\" onclick=\"showCourse('34', '375580',this, 'a:2:{s:8:~location~;s:7:~program~;s:4:~core~;s:6:~317234~;}'); return false;\">MEC E 420 - Feedback Control Design of Dynamic Systems </a></span></li><li class=\"acalog-adhoc acalog-adhoc-after\" style=\"list-style: none;\"><p> </p></li><li class=\"acalog-course\"><span><a aria-expanded=\"false\" href=\"#\" onclick=\"showCourse('34', '374126',this, 'a:2:{s:8:~location~;s:7:~program~;s:4:~core~;s:6:~317234~;}'); return false;\">ENGG 400 - The Practice of the Engineering Profession </a></span></li><li class=\"acalog-adhoc-list-item acalog-adhoc-after\">ITS Elective (3-0-0)</li><li class=\"acalog-course\"><span><a aria-expanded=\"false\" href=\"#\" onclick=\"showCourse('34', '375577',this, 'a:2:{s:8:~location~;s:7:~program~;s:4:~core~;s:6:~317234~;}'); return false;\">MEC E 403 - Mechanical Engineering Laboratory II </a></span></li><li class=\"acalog-course\"><span><a aria-expanded=\"false\" href=\"#\" onclick=\"showCourse('34', '375584',this, 'a:2:{s:8:~location~;s:7:~program~;s:4:~core~;s:6:~317234~;}'); return false;\">MEC E 451 - Vibrations and Sound </a></span></li><li class=\"acalog-course\"><span><a aria-expanded=\"false\" href=\"#\" onclick=\"showCourse('34', '375586',this, 'a:2:{s:8:~location~;s:7:~program~;s:4:~core~;s:6:~317234~;}'); return false;\">MEC E 460 - Design Project </a></span></li><li class=\"acalog-adhoc-list-item acalog-adhoc-after\">Program and Technical Elective (3-0-0)</li></ul></div></div><div class=\"acalog-core\"><h3><a name=\"Note\"></a><a id=\"core_317236\" name=\"note\"></a>Note:</h3><hr/><p>See Program and Technical Electives below for restrictions on the four program electives.</p>\n",
       "</div></div><div class=\"acalog-core\"><h2><a name=\"ComplementaryStudiesAndImpactOfTechnologyOnSocietyITSElectives\"></a><a id=\"core_331106\" name=\"complementarystudiesandimpactoftechnologyonsocietyitselectives\"></a>Complementary Studies and Impact of Technology on Society (ITS) Electives</h2><hr/><p>See <a href=\"preview_program.php?catoid=34&amp;poid=38076\">Complementary Studies and Impact of Technology on Society (ITS) Electives</a><span style=\"display: none !important\"> </span> for a list of approved electives.</p>\n",
       "</div><div class=\"acalog-core\"><h2><a name=\"ProgramAndTechnicalElectives\"></a><a id=\"core_331107\" name=\"programandtechnicalelectives\"></a>Program and Technical Electives</h2><hr/><div class=\"custom_leftpad_20\"><div class=\"acalog-core\"><h3><a name=\"OneProgramElectiveMustBeChosenFromTheFollowing\"></a><a id=\"core_331108\" name=\"oneprogramelectivemustbechosenfromthefollowing\"></a>One program elective must be chosen from the following:</h3><hr/><ul><li class=\"acalog-course\"><span><a aria-expanded=\"false\" href=\"#\" onclick=\"showCourse('34', '375591',this, 'a:2:{s:8:~location~;s:7:~program~;s:4:~core~;s:6:~331108~;}'); return false;\">MEC E 467 - Modelling and Simulation of Engineering Systems </a></span></li><li class=\"acalog-course\"><span><a aria-expanded=\"false\" href=\"#\" onclick=\"showCourse('34', '375592',this, 'a:2:{s:8:~location~;s:7:~program~;s:4:~core~;s:6:~331108~;}'); return false;\">MEC E 468 - Numerical Simulation in Mechanical Engineering Design </a></span></li><li class=\"acalog-course\"><span><a aria-expanded=\"false\" href=\"#\" onclick=\"showCourse('34', '375599',this, 'a:2:{s:8:~location~;s:7:~program~;s:4:~core~;s:6:~331108~;}'); return false;\">MEC E 539 - Applied Computational Fluid Dynamics </a></span></li><li class=\"acalog-course\"><span><a aria-expanded=\"false\" href=\"#\" onclick=\"showCourse('34', '375602',this, 'a:2:{s:8:~location~;s:7:~program~;s:4:~core~;s:6:~331108~;}'); return false;\">MEC E 563 - Finite Element Method for Mechanical Engineering </a></span></li></ul></div><div class=\"acalog-core\"><h3><a name=\"TheRemainingThreeProgramElectivesMustBeChosenFromTheFollowing\"></a><a id=\"core_331109\" name=\"theremainingthreeprogramelectivesmustbechosenfromthefollowing\"></a>The remaining three program electives must be chosen from the following:</h3><hr/><ul><li class=\"acalog-course\"><span><a aria-expanded=\"false\" href=\"#\" onclick=\"showCourse('34', '370979',this, 'a:2:{s:8:~location~;s:7:~program~;s:4:~core~;s:6:~331109~;}'); return false;\">ACCTG 300 - Introduction to Accounting </a></span></li><li class=\"acalog-course\"><span><a aria-expanded=\"false\" href=\"#\" onclick=\"showCourse('34', '370980',this, 'a:2:{s:8:~location~;s:7:~program~;s:4:~core~;s:6:~331109~;}'); return false;\">ACCTG 311 - Introduction to Accounting for Financial Performance </a></span></li><li class=\"acalog-course\"><span><a aria-expanded=\"false\" href=\"#\" onclick=\"showCourse('34', '372479',this, 'a:2:{s:8:~location~;s:7:~program~;s:4:~core~;s:6:~331109~;}'); return false;\">B LAW 301 - Legal Foundations of the Canadian Economy </a></span></li><li class=\"acalog-course\"><span><a aria-expanded=\"false\" href=\"#\" onclick=\"showCourse('34', '372482',this, 'a:2:{s:8:~location~;s:7:~program~;s:4:~core~;s:6:~331109~;}'); return false;\">B LAW 422 - Law of Business Organizations </a></span></li><li class=\"acalog-course\"><span><a aria-expanded=\"false\" href=\"#\" onclick=\"showCourse('34', '372486',this, 'a:2:{s:8:~location~;s:7:~program~;s:4:~core~;s:6:~331109~;}'); return false;\">B LAW 444 - International Business Transactions </a></span></li><li class=\"acalog-course\"><span><a aria-expanded=\"false\" href=\"#\" onclick=\"showCourse('34', '372281',this, 'a:2:{s:8:~location~;s:7:~program~;s:4:~core~;s:6:~331109~;}'); return false;\">BIOCH 200 - Introductory Biochemistry </a></span></li><li class=\"acalog-course\"><span><a aria-expanded=\"false\" href=\"#\" onclick=\"showCourse('34', '372338',this, 'a:2:{s:8:~location~;s:7:~program~;s:4:~core~;s:6:~331109~;}'); return false;\">BIOL 107 - Introduction to Cell Biology </a></span></li><li class=\"acalog-course\"><span><a aria-expanded=\"false\" href=\"#\" onclick=\"showCourse('34', '372339',this, 'a:2:{s:8:~location~;s:7:~program~;s:4:~core~;s:6:~331109~;}'); return false;\">BIOL 108 - Introduction to Biological Diversity </a></span></li><li class=\"acalog-course\"><span><a aria-expanded=\"false\" href=\"#\" onclick=\"showCourse('34', '372341',this, 'a:2:{s:8:~location~;s:7:~program~;s:4:~core~;s:6:~331109~;}'); return false;\">BIOL 207 - Molecular Genetics and Heredity </a></span></li><li class=\"acalog-course\"><span><a aria-expanded=\"false\" href=\"#\" onclick=\"showCourse('34', '372397',this, 'a:2:{s:8:~location~;s:7:~program~;s:4:~core~;s:6:~331109~;}'); return false;\">BME 320 - Human Anatomy and Physiology: Cells and Tissue </a></span></li><li class=\"acalog-course\"><span><a aria-expanded=\"false\" href=\"#\" onclick=\"showCourse('34', '372398',this, 'a:2:{s:8:~location~;s:7:~program~;s:4:~core~;s:6:~331109~;}'); return false;\">BME 321 - Human Anatomy and Physiology: Systems </a></span></li><li class=\"acalog-adhoc-list-item acalog-adhoc-after\"><span style=\"background-color:rgb(246,246,246);color:rgb(61,74,67);float:none;font-family:sans-serif;font-size:16px;font-style:normal;font-weight:400;text-align:left;text-indent:0px;\">BME 410</span></li><li class=\"acalog-course\"><span><a aria-expanded=\"false\" href=\"#\" onclick=\"showCourse('34', '372401',this, 'a:2:{s:8:~location~;s:7:~program~;s:4:~core~;s:6:~331109~;}'); return false;\">BME 513 - Imaging Methods in Medicine </a></span></li><li class=\"acalog-course\"><span><a aria-expanded=\"false\" href=\"#\" onclick=\"showCourse('34', '372404',this, 'a:2:{s:8:~location~;s:7:~program~;s:4:~core~;s:6:~331109~;}'); return false;\">BME 553 - Rehabilitation Engineering: Assisted Movement After Injury </a></span></li><li class=\"acalog-course\"><span><a aria-expanded=\"false\" href=\"#\" onclick=\"showCourse('34', '372405',this, 'a:2:{s:8:~location~;s:7:~program~;s:4:~core~;s:6:~331109~;}'); return false;\">BME 564 - Fundamentals of Magnetic Resonance Imaging, MRI </a></span></li><li class=\"acalog-course\"><span><a aria-expanded=\"false\" href=\"#\" onclick=\"showCourse('34', '372557',this, 'a:2:{s:8:~location~;s:7:~program~;s:4:~core~;s:6:~331109~;}'); return false;\">CH E 582 - Introduction to Biomaterials </a></span></li><li class=\"acalog-course\"><span><a aria-expanded=\"false\" href=\"#\" onclick=\"showCourse('34', '372584',this, 'a:2:{s:8:~location~;s:7:~program~;s:4:~core~;s:6:~331109~;}'); return false;\">CHEM 261 - Organic Chemistry I </a></span></li><li class=\"acalog-course\"><span><a aria-expanded=\"false\" href=\"#\" onclick=\"showCourse('34', '372585',this, 'a:2:{s:8:~location~;s:7:~program~;s:4:~core~;s:6:~331109~;}'); return false;\">CHEM 263 - Organic Chemistry II </a></span></li><li class=\"acalog-course\"><span><a aria-expanded=\"false\" href=\"#\" onclick=\"showCourse('34', '373984',this, 'a:2:{s:8:~location~;s:7:~program~;s:4:~core~;s:6:~331109~;}'); return false;\">ECE 405 - Biophysical Measurement and Instrumentation </a></span></li><li class=\"acalog-course\"><span><a aria-expanded=\"false\" href=\"#\" onclick=\"showCourse('34', '373999',this, 'a:2:{s:8:~location~;s:7:~program~;s:4:~core~;s:6:~331109~;}'); return false;\">ECE 440 - Digital Computer Processing of Images </a></span></li><li class=\"acalog-course\"><span><a aria-expanded=\"false\" href=\"#\" onclick=\"showCourse('34', '374001',this, 'a:2:{s:8:~location~;s:7:~program~;s:4:~core~;s:6:~331109~;}'); return false;\">ECE 449 - Intelligent Systems Engineering </a></span></li><li class=\"acalog-course\"><span><a aria-expanded=\"false\" href=\"#\" onclick=\"showCourse('34', '374128',this, 'a:2:{s:8:~location~;s:7:~program~;s:4:~core~;s:6:~331109~;}'); return false;\">ENGG 406 - Engineering Safety and Risk Management - Methodologies and Tools </a></span></li><li class=\"acalog-course\"><span><a aria-expanded=\"false\" href=\"#\" onclick=\"showCourse('34', '374129',this, 'a:2:{s:8:~location~;s:7:~program~;s:4:~core~;s:6:~331109~;}'); return false;\">ENGG 420 - Engineering Law </a></span></li><li class=\"acalog-course\"><span><a aria-expanded=\"false\" href=\"#\" onclick=\"showCourse('34', '374095',this, 'a:2:{s:8:~location~;s:7:~program~;s:4:~core~;s:6:~331109~;}'); return false;\">ENG M 402 - Project Management and Entrepreneurship </a></span></li><li class=\"acalog-adhoc-list-item acalog-adhoc-after\"><span style=\"background-color:rgb(246,246,246);color:rgb(61,74,67);float:none;font-family:sans-serif;font-size:16px;font-style:normal;font-weight:400;text-align:left;text-indent:0px;\">ENG M 406</span></li><li class=\"acalog-course\"><span><a aria-expanded=\"false\" href=\"#\" onclick=\"showCourse('34', '374098',this, 'a:2:{s:8:~location~;s:7:~program~;s:4:~core~;s:6:~331109~;}'); return false;\">ENG M 408 - Manufacturing Systems and Engineering </a></span></li><li class=\"acalog-course\"><span><a aria-expanded=\"false\" href=\"#\" onclick=\"showCourse('34', '374099',this, 'a:2:{s:8:~location~;s:7:~program~;s:4:~core~;s:6:~331109~;}'); return false;\">ENG M 501 - Production and Operations Management </a></span></li><li class=\"acalog-course\"><span><a aria-expanded=\"false\" href=\"#\" onclick=\"showCourse('34', '374100',this, 'a:2:{s:8:~location~;s:7:~program~;s:4:~core~;s:6:~331109~;}'); return false;\">ENG M 508 - Energy Auditing and Management </a></span></li><li class=\"acalog-adhoc-list-item acalog-adhoc-after\"><span style=\"background-color:rgb(246,246,246);color:rgb(61,74,67);float:none;font-family:sans-serif;font-size:16px;font-style:normal;font-weight:400;text-align:left;text-indent:0px;\">ENG M 510</span></li><li class=\"acalog-course\"><span><a aria-expanded=\"false\" href=\"#\" onclick=\"showCourse('34', '374101',this, 'a:2:{s:8:~location~;s:7:~program~;s:4:~core~;s:6:~331109~;}'); return false;\">ENG M 514 - Reliability Engineering </a></span></li><li class=\"acalog-course\"><span><a aria-expanded=\"false\" href=\"#\" onclick=\"showCourse('34', '374102',this, 'a:2:{s:8:~location~;s:7:~program~;s:4:~core~;s:6:~331109~;}'); return false;\">ENG M 516 - Maintenance Management </a></span></li><li class=\"acalog-course\"><span><a aria-expanded=\"false\" href=\"#\" onclick=\"showCourse('34', '374103',this, 'a:2:{s:8:~location~;s:7:~program~;s:4:~core~;s:6:~331109~;}'); return false;\">ENG M 530 - Engineering Project Management </a></span></li><li class=\"acalog-course\"><span><a aria-expanded=\"false\" href=\"#\" onclick=\"showCourse('34', '374104',this, 'a:2:{s:8:~location~;s:7:~program~;s:4:~core~;s:6:~331109~;}'); return false;\">ENG M 540 - Introduction to Optimization Models and Algorithms </a></span></li><li class=\"acalog-course\"><span><a aria-expanded=\"false\" href=\"#\" onclick=\"showCourse('34', '374105',this, 'a:2:{s:8:~location~;s:7:~program~;s:4:~core~;s:6:~331109~;}'); return false;\">ENG M 558 - Ergonomics and Work Design </a></span></li><li class=\"acalog-course\"><span><a aria-expanded=\"false\" href=\"#\" onclick=\"showCourse('34', '374361',this, 'a:2:{s:8:~location~;s:7:~program~;s:4:~core~;s:6:~331109~;}'); return false;\">FIN 301 - Introduction to Finance </a></span></li><li class=\"acalog-course\"><span><a aria-expanded=\"false\" href=\"#\" onclick=\"showCourse('34', '375313',this, 'a:2:{s:8:~location~;s:7:~program~;s:4:~core~;s:6:~331109~;}'); return false;\">MARK 301 - Introduction to Marketing </a></span></li><li class=\"acalog-course\"><span><a aria-expanded=\"false\" href=\"#\" onclick=\"showCourse('34', '375419',this, 'a:2:{s:8:~location~;s:7:~program~;s:4:~core~;s:6:~331109~;}'); return false;\">MATH 225 - Linear Algebra II </a></span></li><li class=\"acalog-course\"><span><a aria-expanded=\"false\" href=\"#\" onclick=\"showCourse('34', '375428',this, 'a:2:{s:8:~location~;s:7:~program~;s:4:~core~;s:6:~331109~;}'); return false;\">MATH 311 - Theory of Functions of a Complex Variable </a></span></li><li class=\"acalog-course\"><span><a aria-expanded=\"false\" href=\"#\" onclick=\"showCourse('34', '375367',this, 'a:2:{s:8:~location~;s:7:~program~;s:4:~core~;s:6:~331109~;}'); return false;\">MAT E 345 - Corrosion, Oxidation, and Degradation </a></span></li><li class=\"acalog-course\"><span><a aria-expanded=\"false\" href=\"#\" onclick=\"showCourse('34', '375374',this, 'a:2:{s:8:~location~;s:7:~program~;s:4:~core~;s:6:~331109~;}'); return false;\">MAT E 466 - Special Topics in Materials Engineering </a></span></li><li class=\"acalog-course\"><span><a aria-expanded=\"false\" href=\"#\" onclick=\"showCourse('34', '375381',this, 'a:2:{s:8:~location~;s:7:~program~;s:4:~core~;s:6:~331109~;}'); return false;\">MAT E 495 - Nanomaterials and Biomedical Applications </a></span></li><li class=\"acalog-course\"><span><a aria-expanded=\"false\" href=\"#\" onclick=\"showCourse('34', '375572',this, 'a:2:{s:8:~location~;s:7:~program~;s:4:~core~;s:6:~331109~;}'); return false;\">MEC E 364 - Manufacturing Processes </a></span></li><li class=\"acalog-course\"><span><a aria-expanded=\"false\" href=\"#\" onclick=\"showCourse('34', '375578',this, 'a:2:{s:8:~location~;s:7:~program~;s:4:~core~;s:6:~331109~;}'); return false;\">MEC E 409 - Experimental Design Project I </a></span></li><li class=\"acalog-course\"><span><a aria-expanded=\"false\" href=\"#\" onclick=\"showCourse('34', '375579',this, 'a:2:{s:8:~location~;s:7:~program~;s:4:~core~;s:6:~331109~;}'); return false;\">MEC E 415 - Busting Myths with Analysis </a></span></li><li class=\"acalog-course\"><span><a aria-expanded=\"false\" href=\"#\" onclick=\"showCourse('34', '375581',this, 'a:2:{s:8:~location~;s:7:~program~;s:4:~core~;s:6:~331109~;}'); return false;\">MEC E 430 - Fluid Mechanics II </a></span></li><li class=\"acalog-adhoc-list-item acalog-adhoc-after\"><span style=\"background-color:rgb(246,246,246);color:rgb(61,74,67);float:none;font-family:sans-serif;font-size:16px;font-style:normal;font-weight:400;text-align:left;text-indent:0px;\">MEC E 439</span></li><li class=\"acalog-course\"><span><a aria-expanded=\"false\" href=\"#\" onclick=\"showCourse('34', '375583',this, 'a:2:{s:8:~location~;s:7:~program~;s:4:~core~;s:6:~331109~;}'); return false;\">MEC E 443 - Energy Conversion </a></span></li><li class=\"acalog-adhoc-list-item acalog-adhoc-after\"><span style=\"background-color:rgb(246,246,246);color:rgb(61,74,67);float:none;font-family:sans-serif;font-size:16px;font-style:normal;font-weight:400;text-align:left;text-indent:0px;\">MEC E 453</span></li><li class=\"acalog-course\"><span><a aria-expanded=\"false\" href=\"#\" onclick=\"showCourse('34', '375589',this, 'a:2:{s:8:~location~;s:7:~program~;s:4:~core~;s:6:~331109~;}'); return false;\">MEC E 464 - Design for Manufacture </a></span></li><li class=\"acalog-course\"><span><a aria-expanded=\"false\" href=\"#\" onclick=\"showCourse('34', '375590',this, 'a:2:{s:8:~location~;s:7:~program~;s:4:~core~;s:6:~331109~;}'); return false;\">MEC E 466 - Building Systems Design </a></span></li><li class=\"acalog-course\"><span><a aria-expanded=\"false\" href=\"#\" onclick=\"showCourse('34', '375591',this, 'a:2:{s:8:~location~;s:7:~program~;s:4:~core~;s:6:~331109~;}'); return false;\">MEC E 467 - Modelling and Simulation of Engineering Systems </a></span></li><li class=\"acalog-course\"><span><a aria-expanded=\"false\" href=\"#\" onclick=\"showCourse('34', '375592',this, 'a:2:{s:8:~location~;s:7:~program~;s:4:~core~;s:6:~331109~;}'); return false;\">MEC E 468 - Numerical Simulation in Mechanical Engineering Design </a></span></li><li class=\"acalog-course\"><span><a aria-expanded=\"false\" href=\"#\" onclick=\"showCourse('34', '375593',this, 'a:2:{s:8:~location~;s:7:~program~;s:4:~core~;s:6:~331109~;}'); return false;\">MEC E 469 - Experimental Design Project II </a></span></li><li class=\"acalog-course\"><span><a aria-expanded=\"false\" href=\"#\" onclick=\"showCourse('34', '375594',this, 'a:2:{s:8:~location~;s:7:~program~;s:4:~core~;s:6:~331109~;}'); return false;\">MEC E 480 - Advanced Strength of Materials II </a></span></li><li class=\"acalog-course\"><span><a aria-expanded=\"false\" href=\"#\" onclick=\"showCourse('34', '375595',this, 'a:2:{s:8:~location~;s:7:~program~;s:4:~core~;s:6:~331109~;}'); return false;\">MEC E 485 - Biomechanical Modelling of Human Tissues and Systems </a></span></li><li class=\"acalog-adhoc acalog-adhoc-after\" style=\"list-style: none;\"><p> </p></li><li class=\"acalog-course\"><span><a aria-expanded=\"false\" href=\"#\" onclick=\"showCourse('34', '375596',this, 'a:2:{s:8:~location~;s:7:~program~;s:4:~core~;s:6:~331109~;}'); return false;\">MEC E 494 - Introduction to Research </a> <strong>AND</strong></span></li><li class=\"acalog-course\"><span><a aria-expanded=\"false\" href=\"#\" onclick=\"showCourse('34', '375597',this, 'a:2:{s:8:~location~;s:7:~program~;s:4:~core~;s:6:~331109~;}'); return false;\">MEC E 495 - Research Project </a></span></li><li class=\"acalog-adhoc acalog-adhoc-after\" style=\"list-style: none;\"><p> </p></li><li class=\"acalog-course\"><span><a aria-expanded=\"false\" href=\"#\" onclick=\"showCourse('34', '375598',this, 'a:2:{s:8:~location~;s:7:~program~;s:4:~core~;s:6:~331109~;}'); return false;\">MEC E 537 - Aerodynamics </a></span></li><li class=\"acalog-course\"><span><a aria-expanded=\"false\" href=\"#\" onclick=\"showCourse('34', '375599',this, 'a:2:{s:8:~location~;s:7:~program~;s:4:~core~;s:6:~331109~;}'); return false;\">MEC E 539 - Applied Computational Fluid Dynamics </a></span></li><li class=\"acalog-course\"><span><a aria-expanded=\"false\" href=\"#\" onclick=\"showCourse('34', '375600',this, 'a:2:{s:8:~location~;s:7:~program~;s:4:~core~;s:6:~331109~;}'); return false;\">MEC E 541 - Combustion Engines </a></span></li><li class=\"acalog-adhoc-list-item acalog-adhoc-after\"><span style=\"background-color:rgb(246,246,246);color:rgb(61,74,67);float:none;font-family:sans-serif;font-size:16px;font-style:normal;font-weight:400;text-align:left;text-indent:0px;\">MEC E 551</span></li><li class=\"acalog-course\"><span><a aria-expanded=\"false\" href=\"#\" onclick=\"showCourse('34', '375602',this, 'a:2:{s:8:~location~;s:7:~program~;s:4:~core~;s:6:~331109~;}'); return false;\">MEC E 563 - Finite Element Method for Mechanical Engineering </a></span></li><li class=\"acalog-adhoc-list-item acalog-adhoc-after\"><span style=\"background-color:rgb(246,246,246);color:rgb(61,74,67);float:none;font-family:sans-serif;font-size:16px;font-style:normal;font-weight:400;text-align:left;text-indent:0px;\">MEC E 564</span></li><li class=\"acalog-course\"><span><a aria-expanded=\"false\" href=\"#\" onclick=\"showCourse('34', '376354',this, 'a:2:{s:8:~location~;s:7:~program~;s:4:~core~;s:6:~331109~;}'); return false;\">OM 352 - Operations Management </a></span></li><li class=\"acalog-course\"><span><a aria-expanded=\"false\" href=\"#\" onclick=\"showCourse('34', '376409',this, 'a:2:{s:8:~location~;s:7:~program~;s:4:~core~;s:6:~331109~;}'); return false;\">PET E 275 - Petroleum Reservoir Fluids </a></span></li><li class=\"acalog-course\"><span><a aria-expanded=\"false\" href=\"#\" onclick=\"showCourse('34', '376410',this, 'a:2:{s:8:~location~;s:7:~program~;s:4:~core~;s:6:~331109~;}'); return false;\">PET E 364 - Drilling Engineering </a></span></li><li class=\"acalog-course\"><span><a aria-expanded=\"false\" href=\"#\" onclick=\"showCourse('34', '376411',this, 'a:2:{s:8:~location~;s:7:~program~;s:4:~core~;s:6:~331109~;}'); return false;\">PET E 365 - Well Logging and Formation Evaluation </a></span></li><li class=\"acalog-course\"><span><a aria-expanded=\"false\" href=\"#\" onclick=\"showCourse('34', '376412',this, 'a:2:{s:8:~location~;s:7:~program~;s:4:~core~;s:6:~331109~;}'); return false;\">PET E 366 - Petroleum Production Operations </a></span></li><li class=\"acalog-course\"><span><a aria-expanded=\"false\" href=\"#\" onclick=\"showCourse('34', '376414',this, 'a:2:{s:8:~location~;s:7:~program~;s:4:~core~;s:6:~331109~;}'); return false;\">PET E 444 - Natural Gas Engineering </a></span></li><li class=\"acalog-course\"><span><a aria-expanded=\"false\" href=\"#\" onclick=\"showCourse('34', '376822',this, 'a:2:{s:8:~location~;s:7:~program~;s:4:~core~;s:6:~331109~;}'); return false;\">PHYS 230 - Electricity and Magnetism </a></span></li><li class=\"acalog-course\"><span><a aria-expanded=\"false\" href=\"#\" onclick=\"showCourse('34', '377750',this, 'a:2:{s:8:~location~;s:7:~program~;s:4:~core~;s:6:~331109~;}'); return false;\">SEM 301 - Behavior in Organizations </a></span></li><li class=\"acalog-course\"><span><a aria-expanded=\"false\" href=\"#\" onclick=\"showCourse('34', '377753',this, 'a:2:{s:8:~location~;s:7:~program~;s:4:~core~;s:6:~331109~;}'); return false;\">SEM 321 - Introduction to Strategic Management and Organization Design </a></span></li></ul></div><div class=\"custom_leftpad_20\"><div class=\"acalog-core\"><h4><a name=\"Notes\"></a><a id=\"core_331110\" name=\"notes\"></a>Notes</h4><hr/><p>Other courses, including graduate-level ENG M and MEC E courses, may be taken with Department approval. Program elective courses (including transfer courses) must be at 300-level or above unless cleared in  advance by the Department or specified for particular streams.</p>\n",
       "<p>Note that some courses have prerequisites that must be satisfied.</p>\n",
       "</div></div><div class=\"acalog-core\"><h3><a name=\"BiomedicalEngineeringElectiveStream\"></a><a id=\"core_331111\" name=\"biomedicalengineeringelectivestream\"></a>Biomedical Engineering Elective Stream</h3><hr/><p>Students wishing to specialize in the area of biomedical engineering should choose their three program electives from the following courses:</p>\n",
       "<ul><li class=\"acalog-course\"><span><a aria-expanded=\"false\" href=\"#\" onclick=\"showCourse('34', '372397',this, 'a:2:{s:8:~location~;s:7:~program~;s:4:~core~;s:6:~331111~;}'); return false;\">BME 320 - Human Anatomy and Physiology: Cells and Tissue </a></span></li><li class=\"acalog-course\"><span><a aria-expanded=\"false\" href=\"#\" onclick=\"showCourse('34', '372398',this, 'a:2:{s:8:~location~;s:7:~program~;s:4:~core~;s:6:~331111~;}'); return false;\">BME 321 - Human Anatomy and Physiology: Systems </a></span></li><li class=\"acalog-course\"><span><a aria-expanded=\"false\" href=\"#\" onclick=\"showCourse('34', '372401',this, 'a:2:{s:8:~location~;s:7:~program~;s:4:~core~;s:6:~331111~;}'); return false;\">BME 513 - Imaging Methods in Medicine </a></span></li><li class=\"acalog-course\"><span><a aria-expanded=\"false\" href=\"#\" onclick=\"showCourse('34', '372404',this, 'a:2:{s:8:~location~;s:7:~program~;s:4:~core~;s:6:~331111~;}'); return false;\">BME 553 - Rehabilitation Engineering: Assisted Movement After Injury </a></span></li><li class=\"acalog-adhoc-list-item acalog-adhoc-after\"><span style=\"background-color:rgb(246,246,246);color:rgb(61,74,67);float:none;font-family:sans-serif;font-size:16px;font-style:normal;font-weight:400;text-align:left;text-indent:0px;\">BME 583</span></li><li class=\"acalog-course\"><span><a aria-expanded=\"false\" href=\"#\" onclick=\"showCourse('34', '373984',this, 'a:2:{s:8:~location~;s:7:~program~;s:4:~core~;s:6:~331111~;}'); return false;\">ECE 405 - Biophysical Measurement and Instrumentation </a></span></li><li class=\"acalog-course\"><span><a aria-expanded=\"false\" href=\"#\" onclick=\"showCourse('34', '373999',this, 'a:2:{s:8:~location~;s:7:~program~;s:4:~core~;s:6:~331111~;}'); return false;\">ECE 440 - Digital Computer Processing of Images </a></span></li><li class=\"acalog-course\"><span><a aria-expanded=\"false\" href=\"#\" onclick=\"showCourse('34', '375578',this, 'a:2:{s:8:~location~;s:7:~program~;s:4:~core~;s:6:~331111~;}'); return false;\">MEC E 409 - Experimental Design Project I </a></span></li><li class=\"acalog-course\"><span><a aria-expanded=\"false\" href=\"#\" onclick=\"showCourse('34', '375593',this, 'a:2:{s:8:~location~;s:7:~program~;s:4:~core~;s:6:~331111~;}'); return false;\">MEC E 469 - Experimental Design Project II </a></span></li><li class=\"acalog-course\"><span><a aria-expanded=\"false\" href=\"#\" onclick=\"showCourse('34', '375595',this, 'a:2:{s:8:~location~;s:7:~program~;s:4:~core~;s:6:~331111~;}'); return false;\">MEC E 485 - Biomechanical Modelling of Human Tissues and Systems </a></span></li></ul></div><div class=\"custom_leftpad_20\"><div class=\"acalog-core\"><h4><a name=\"Note\"></a><a id=\"core_331112\" name=\"note\"></a>Note:</h4><hr/><p>In particular, BME 320, BME 321, and MEC E 485 are especially recommended.</p>\n",
       "<p>Some of these courses may not be offered every year. See department for details.</p>\n",
       "</div></div><div class=\"acalog-core\"><h3><a name=\"BusinessAndManagementElectiveStream\"></a><a id=\"core_331113\" name=\"businessandmanagementelectivestream\"></a>Business and Management Elective Stream</h3><hr/><p>Students wishing to obtain an introduction to business and management principles should take <a href=\"#tt3036\" id=\"tt3036\" onclick=\"acalogPopup('preview_course.php?catoid=34&amp;coid=374094&amp;print', '3', 770, 530, 'yes');return false;\" rel=\"remote /ajax/preview_course.php?catoid=34&amp;coid=374094&amp;display_options[location]=tooltip&amp;show\" target=\"_blank\">ENG M 401</a><span style=\"display: none !important\"> </span> instead of ENG M 310, ENG M 405 as their ITS elective, and <a href=\"#tt2418\" id=\"tt2418\" onclick=\"acalogPopup('preview_course.php?catoid=34&amp;coid=373460&amp;print', '3', 770, 530, 'yes');return false;\" rel=\"remote /ajax/preview_course.php?catoid=34&amp;coid=373460&amp;display_options[location]=tooltip&amp;show\" target=\"_blank\">ECON 204</a><span style=\"display: none !important\"> </span> as their complementary studies elective in Term 8. In addition, they can choose their program electives from the following:</p>\n",
       "</div><div class=\"custom_leftpad_20\"><div class=\"acalog-core\"><h4><a name=\"WithinTheFacultyOfEngineering\"></a><a id=\"core_331114\" name=\"withinthefacultyofengineering\"></a>Within the Faculty of Engineering:</h4><hr/><ul><li class=\"acalog-course\"><span><a aria-expanded=\"false\" href=\"#\" onclick=\"showCourse('34', '374129',this, 'a:2:{s:8:~location~;s:7:~program~;s:4:~core~;s:6:~331114~;}'); return false;\">ENGG 420 - Engineering Law </a></span></li><li class=\"acalog-course\"><span><a aria-expanded=\"false\" href=\"#\" onclick=\"showCourse('34', '374095',this, 'a:2:{s:8:~location~;s:7:~program~;s:4:~core~;s:6:~331114~;}'); return false;\">ENG M 402 - Project Management and Entrepreneurship </a></span></li><li class=\"acalog-course\"><span><a aria-expanded=\"false\" href=\"#\" onclick=\"showCourse('34', '374099',this, 'a:2:{s:8:~location~;s:7:~program~;s:4:~core~;s:6:~331114~;}'); return false;\">ENG M 501 - Production and Operations Management </a></span></li><li class=\"acalog-course\"><span><a aria-expanded=\"false\" href=\"#\" onclick=\"showCourse('34', '374100',this, 'a:2:{s:8:~location~;s:7:~program~;s:4:~core~;s:6:~331114~;}'); return false;\">ENG M 508 - Energy Auditing and Management </a></span></li><li class=\"acalog-course\"><span><a aria-expanded=\"false\" href=\"#\" onclick=\"showCourse('34', '374102',this, 'a:2:{s:8:~location~;s:7:~program~;s:4:~core~;s:6:~331114~;}'); return false;\">ENG M 516 - Maintenance Management </a></span></li><li class=\"acalog-course\"><span><a aria-expanded=\"false\" href=\"#\" onclick=\"showCourse('34', '374103',this, 'a:2:{s:8:~location~;s:7:~program~;s:4:~core~;s:6:~331114~;}'); return false;\">ENG M 530 - Engineering Project Management </a></span></li><li class=\"acalog-course\"><span><a aria-expanded=\"false\" href=\"#\" onclick=\"showCourse('34', '374104',this, 'a:2:{s:8:~location~;s:7:~program~;s:4:~core~;s:6:~331114~;}'); return false;\">ENG M 540 - Introduction to Optimization Models and Algorithms </a></span></li><li class=\"acalog-course\"><span><a aria-expanded=\"false\" href=\"#\" onclick=\"showCourse('34', '374105',this, 'a:2:{s:8:~location~;s:7:~program~;s:4:~core~;s:6:~331114~;}'); return false;\">ENG M 558 - Ergonomics and Work Design </a></span></li><li class=\"acalog-course\"><span><a aria-expanded=\"false\" href=\"#\" onclick=\"showCourse('34', '375591',this, 'a:2:{s:8:~location~;s:7:~program~;s:4:~core~;s:6:~331114~;}'); return false;\">MEC E 467 - Modelling and Simulation of Engineering Systems </a></span></li></ul></div><div class=\"custom_leftpad_20\"><div class=\"acalog-core\"><h5><a name=\"Note\"></a><a id=\"core_331115\" name=\"note\"></a>Note:</h5><hr/><p>Note that some of these courses may not be offered every year. See department for details.</p>\n",
       "</div></div><div class=\"acalog-core\"><h4><a name=\"WithinTheFacultyOfBusiness\"></a><a id=\"core_331116\" name=\"withinthefacultyofbusiness\"></a>Within the Faculty of Business:</h4><hr/><ul><li class=\"acalog-course\"><span><a aria-expanded=\"false\" href=\"#\" onclick=\"showCourse('34', '370979',this, 'a:2:{s:8:~location~;s:7:~program~;s:4:~core~;s:6:~331116~;}'); return false;\">ACCTG 300 - Introduction to Accounting </a></span></li><li class=\"acalog-course\"><span><a aria-expanded=\"false\" href=\"#\" onclick=\"showCourse('34', '372479',this, 'a:2:{s:8:~location~;s:7:~program~;s:4:~core~;s:6:~331116~;}'); return false;\">B LAW 301 - Legal Foundations of the Canadian Economy </a></span></li><li class=\"acalog-course\"><span><a aria-expanded=\"false\" href=\"#\" onclick=\"showCourse('34', '374361',this, 'a:2:{s:8:~location~;s:7:~program~;s:4:~core~;s:6:~331116~;}'); return false;\">FIN 301 - Introduction to Finance </a></span></li><li class=\"acalog-course\"><span><a aria-expanded=\"false\" href=\"#\" onclick=\"showCourse('34', '375313',this, 'a:2:{s:8:~location~;s:7:~program~;s:4:~core~;s:6:~331116~;}'); return false;\">MARK 301 - Introduction to Marketing </a></span></li><li class=\"acalog-course\"><span><a aria-expanded=\"false\" href=\"#\" onclick=\"showCourse('34', '376354',this, 'a:2:{s:8:~location~;s:7:~program~;s:4:~core~;s:6:~331116~;}'); return false;\">OM 352 - Operations Management </a></span></li><li class=\"acalog-course\"><span><a aria-expanded=\"false\" href=\"#\" onclick=\"showCourse('34', '377750',this, 'a:2:{s:8:~location~;s:7:~program~;s:4:~core~;s:6:~331116~;}'); return false;\">SEM 301 - Behavior in Organizations </a></span></li><li class=\"acalog-course\"><span><a aria-expanded=\"false\" href=\"#\" onclick=\"showCourse('34', '377753',this, 'a:2:{s:8:~location~;s:7:~program~;s:4:~core~;s:6:~331116~;}'); return false;\">SEM 321 - Introduction to Strategic Management and Organization Design </a></span></li></ul></div><div class=\"custom_leftpad_20\"><div class=\"acalog-core\"><h5><a name=\"Notes\"></a><a id=\"core_331117\" name=\"notes\"></a>Notes</h5><hr/><p>Note that admission to FIN 301, MARK 301, SMO 301, SMO 321 is preferentially reserved for students within that Faculty, and is available to engineering students only on a space-available basis.</p>\n",
       "<p>Credit will only be given for one of E E 404 and ENG M 515, and for one of CIV E 592 and OM 352.</p>\n",
       "<p>Specific selection of electives should reflect the student's specific interests and needs.</p>\n",
       "</div></div></div><div class=\"acalog-core\"><h3><a name=\"AerospaceEngineeringElectiveStream\"></a><a id=\"core_331118\" name=\"aerospaceengineeringelectivestream\"></a>Aerospace Engineering Elective Stream</h3><hr/><p>Students wishing to specialize in the area of aerospace engineering should choose their three program electives from the following courses:</p>\n",
       "<ul><li class=\"acalog-course\"><span><a aria-expanded=\"false\" href=\"#\" onclick=\"showCourse('34', '374101',this, 'a:2:{s:8:~location~;s:7:~program~;s:4:~core~;s:6:~331118~;}'); return false;\">ENG M 514 - Reliability Engineering </a></span></li><li class=\"acalog-course\"><span><a aria-expanded=\"false\" href=\"#\" onclick=\"showCourse('34', '375580',this, 'a:2:{s:8:~location~;s:7:~program~;s:4:~core~;s:6:~331118~;}'); return false;\">MEC E 420 - Feedback Control Design of Dynamic Systems </a></span></li><li class=\"acalog-course\"><span><a aria-expanded=\"false\" href=\"#\" onclick=\"showCourse('34', '375598',this, 'a:2:{s:8:~location~;s:7:~program~;s:4:~core~;s:6:~331118~;}'); return false;\">MEC E 537 - Aerodynamics </a></span></li><li class=\"acalog-course\"><span><a aria-expanded=\"false\" href=\"#\" onclick=\"showCourse('34', '375599',this, 'a:2:{s:8:~location~;s:7:~program~;s:4:~core~;s:6:~331118~;}'); return false;\">MEC E 539 - Applied Computational Fluid Dynamics </a></span></li><li class=\"acalog-course\"><span><a aria-expanded=\"false\" href=\"#\" onclick=\"showCourse('34', '375600',this, 'a:2:{s:8:~location~;s:7:~program~;s:4:~core~;s:6:~331118~;}'); return false;\">MEC E 541 - Combustion Engines </a></span></li><li class=\"acalog-course\"><span><a aria-expanded=\"false\" href=\"#\" onclick=\"showCourse('34', '375603',this, 'a:2:{s:8:~location~;s:7:~program~;s:4:~core~;s:6:~331118~;}'); return false;\">MEC E 569 - Mechanics and Design of Composite Materials </a></span></li></ul></div></div></div></div>"
      ]
     },
     "execution_count": 6,
     "metadata": {},
     "output_type": "execute_result"
    }
   ],
   "source": [
    "all_container"
   ]
  },
  {
   "cell_type": "code",
   "execution_count": 7,
   "metadata": {},
   "outputs": [],
   "source": [
    "core_container = all_container.find(\"div\", {\"class\":\"custom_leftpad_20\"})"
   ]
  },
  {
   "cell_type": "code",
   "execution_count": 8,
   "metadata": {},
   "outputs": [
    {
     "data": {
      "text/plain": [
       "<div class=\"custom_leftpad_20\"><div class=\"acalog-core\"><h3><a name=\"Year1\"></a><a id=\"core_331122\" name=\"year1\"></a>Year 1</h3><hr/><p>Requirements for Year 1 can be found in <a href=\"preview_program.php?catoid=34&amp;poid=38077\">BSc in Engineering - Qualifying Year</a><span style=\"display: none !important\"> </span>.</p>\n",
       "<p>Information regarding admission to a specialized program from the Qualifying Year Program can be found in <a href=\"content.php?catoid=34&amp;navoid=10151\">Faculty of Engineering Regulations</a><span style=\"display: none !important\"> </span>.</p>\n",
       "</div><div class=\"acalog-core\"><h3><a name=\"Year2\"></a><a id=\"core_317214\" name=\"year2\"></a>Year 2</h3><hr/></div><div class=\"custom_leftpad_20\"><div class=\"acalog-core\"><h4><a name=\"FallTerm3\"></a><a id=\"core_317215\" name=\"fallterm3\"></a>Fall Term 3</h4><hr/><ul><li class=\"acalog-course\"><span><a aria-expanded=\"false\" href=\"#\" onclick=\"showCourse('34', '372750',this, 'a:2:{s:8:~location~;s:7:~program~;s:4:~core~;s:6:~317215~;}'); return false;\">CIV E 270 - Mechanics of Deformable Bodies I </a></span></li><li class=\"acalog-course\"><span><a aria-expanded=\"false\" href=\"#\" onclick=\"showCourse('34', '374125',this, 'a:2:{s:8:~location~;s:7:~program~;s:4:~core~;s:6:~317215~;}'); return false;\">ENGG 299 - Orientation to Cooperative Education </a></span></li><li class=\"acalog-course\"><span><a aria-expanded=\"false\" href=\"#\" onclick=\"showCourse('34', '375414',this, 'a:2:{s:8:~location~;s:7:~program~;s:4:~core~;s:6:~317215~;}'); return false;\">MATH 209 - Calculus III </a></span></li><li class=\"acalog-course\"><span><a aria-expanded=\"false\" href=\"#\" onclick=\"showCourse('34', '375560',this, 'a:2:{s:8:~location~;s:7:~program~;s:4:~core~;s:6:~317215~;}'); return false;\">MEC E 230 - Introduction to Thermo-Fluid Sciences </a></span></li><li class=\"acalog-course\"><span><a aria-expanded=\"false\" href=\"#\" onclick=\"showCourse('34', '375562',this, 'a:2:{s:8:~location~;s:7:~program~;s:4:~core~;s:6:~317215~;}'); return false;\">MEC E 260 - Mechanical Design I </a></span></li><li class=\"acalog-course\"><span><a aria-expanded=\"false\" href=\"#\" onclick=\"showCourse('34', '375563',this, 'a:2:{s:8:~location~;s:7:~program~;s:4:~core~;s:6:~317215~;}'); return false;\">MEC E 265 - Engineering Graphics and CAD </a></span></li><li class=\"acalog-course\"><span><a aria-expanded=\"false\" href=\"#\" onclick=\"showCourse('34', '377698',this, 'a:2:{s:8:~location~;s:7:~program~;s:4:~core~;s:6:~317215~;}'); return false;\">STAT 235 - Introductory Statistics for Engineering </a></span></li></ul></div><div class=\"acalog-core\"><h4><a name=\"WinterTerm4\"></a><a id=\"core_317216\" name=\"winterterm4\"></a>Winter Term 4</h4><hr/><ul><li class=\"acalog-course\"><span><a aria-expanded=\"false\" href=\"#\" onclick=\"showCourse('34', '372529',this, 'a:2:{s:8:~location~;s:7:~program~;s:4:~core~;s:6:~317216~;}'); return false;\">CH E 243 - Engineering Thermodynamics </a></span></li><li class=\"acalog-course\"><span><a aria-expanded=\"false\" href=\"#\" onclick=\"showCourse('34', '373957',this, 'a:2:{s:8:~location~;s:7:~program~;s:4:~core~;s:6:~317216~;}'); return false;\">ECE 209 - Fundamentals of Electrical Engineering </a></span></li><li class=\"acalog-course\"><span><a aria-expanded=\"false\" href=\"#\" onclick=\"showCourse('34', '378197',this, 'a:2:{s:8:~location~;s:7:~program~;s:4:~core~;s:6:~317216~;}'); return false;\">MAT E 202 - Materials Science II </a></span></li><li class=\"acalog-course\"><span><a aria-expanded=\"false\" href=\"#\" onclick=\"showCourse('34', '375413',this, 'a:2:{s:8:~location~;s:7:~program~;s:4:~core~;s:6:~317216~;}'); return false;\">MATH 201 - Differential Equations </a></span></li><li class=\"acalog-course\"><span><a aria-expanded=\"false\" href=\"#\" onclick=\"showCourse('34', '375559',this, 'a:2:{s:8:~location~;s:7:~program~;s:4:~core~;s:6:~317216~;}'); return false;\">MEC E 200 - Introduction to Mechanical Engineering </a></span></li><li class=\"acalog-course\"><span><a aria-expanded=\"false\" href=\"#\" onclick=\"showCourse('34', '375561',this, 'a:2:{s:8:~location~;s:7:~program~;s:4:~core~;s:6:~317216~;}'); return false;\">MEC E 250 - Engineering Mechanics II </a></span></li></ul></div><div class=\"acalog-core\"><h4><a name=\"Summer\"></a><a id=\"core_317217\" name=\"summer\"></a>Summer</h4><hr/><ul><li class=\"acalog-course\"><span><a aria-expanded=\"false\" href=\"#\" onclick=\"showCourse('34', '377968',this, 'a:2:{s:8:~location~;s:7:~program~;s:4:~core~;s:6:~317217~;}'); return false;\">WKEXP 901 - Engineering Work Experience I </a></span></li></ul></div></div><div class=\"acalog-core\"><h3><a name=\"Year3\"></a><a id=\"core_317218\" name=\"year3\"></a>Year 3</h3><hr/></div><div class=\"custom_leftpad_20\"><div class=\"acalog-core\"><h4><a name=\"Fall\"></a><a id=\"core_317219\" name=\"fall\"></a>Fall</h4><hr/><ul><li class=\"acalog-course\"><span><a aria-expanded=\"false\" href=\"#\" onclick=\"showCourse('34', '377969',this, 'a:2:{s:8:~location~;s:7:~program~;s:4:~core~;s:6:~317219~;}'); return false;\">WKEXP 902 - Engineering Work Experience II </a></span></li></ul></div><div class=\"acalog-core\"><h4><a name=\"WinterTerm5\"></a><a id=\"core_317220\" name=\"winterterm5\"></a>Winter Term 5</h4><hr/></div><div class=\"custom_leftpad_20\"><div class=\"acalog-core\"><h5><a name=\"CourseGroup3A\"></a><a id=\"core_317221\" name=\"coursegroup3a\"></a>Course Group 3A</h5><hr/><ul><li class=\"acalog-course\"><span><a aria-expanded=\"false\" href=\"#\" onclick=\"showCourse('34', '375426',this, 'a:2:{s:8:~location~;s:7:~program~;s:4:~core~;s:6:~317221~;}'); return false;\">MATH 300 - Advanced Boundary Value Problems I </a></span></li><li class=\"acalog-course\"><span><a aria-expanded=\"false\" href=\"#\" onclick=\"showCourse('34', '375564',this, 'a:2:{s:8:~location~;s:7:~program~;s:4:~core~;s:6:~317221~;}'); return false;\">MEC E 300 - Mechanical Measurements </a></span></li><li class=\"acalog-course\"><span><a aria-expanded=\"false\" href=\"#\" onclick=\"showCourse('34', '375565',this, 'a:2:{s:8:~location~;s:7:~program~;s:4:~core~;s:6:~317221~;}'); return false;\">MEC E 301 - Mechanical Engineering Laboratory I </a></span></li><li class=\"acalog-course\"><span><a aria-expanded=\"false\" href=\"#\" onclick=\"showCourse('34', '375567',this, 'a:2:{s:8:~location~;s:7:~program~;s:4:~core~;s:6:~317221~;}'); return false;\">MEC E 331 - Fluid Mechanics I </a></span></li><li class=\"acalog-course\"><span><a aria-expanded=\"false\" href=\"#\" onclick=\"showCourse('34', '375574',this, 'a:2:{s:8:~location~;s:7:~program~;s:4:~core~;s:6:~317221~;}'); return false;\">MEC E 371 - Heat Transfer </a></span></li><li class=\"acalog-course\"><span><a aria-expanded=\"false\" href=\"#\" onclick=\"showCourse('34', '375575',this, 'a:2:{s:8:~location~;s:7:~program~;s:4:~core~;s:6:~317221~;}'); return false;\">MEC E 380 - Advanced Strength of Materials I </a></span></li></ul></div><div class=\"acalog-core\"><h5><a name=\"OR\"></a><a id=\"core_317222\" name=\"or\"></a>OR</h5><hr/></div><div class=\"acalog-core\"><h5><a name=\"CourseGroup3B\"></a><a id=\"core_317223\" name=\"coursegroup3b\"></a>Course Group 3B</h5><hr/><ul><li class=\"acalog-course\"><span><a aria-expanded=\"false\" href=\"#\" onclick=\"showCourse('34', '374093',this, 'a:2:{s:8:~location~;s:7:~program~;s:4:~core~;s:6:~317223~;}'); return false;\">ENG M 310 - Engineering Economy </a> <strong>OR</strong></span></li><li class=\"acalog-course\"><span><a aria-expanded=\"false\" href=\"#\" onclick=\"showCourse('34', '374094',this, 'a:2:{s:8:~location~;s:7:~program~;s:4:~core~;s:6:~317223~;}'); return false;\">ENG M 401 - Financial Management for Engineers </a></span></li><li class=\"acalog-adhoc acalog-adhoc-after\" style=\"list-style: none;\"><p> </p></li><li class=\"acalog-adhoc-list-item acalog-adhoc-after\">Complementary Studies Elective (3-0-0)</li><li class=\"acalog-course\"><span><a aria-expanded=\"false\" href=\"#\" onclick=\"showCourse('34', '375568',this, 'a:2:{s:8:~location~;s:7:~program~;s:4:~core~;s:6:~317223~;}'); return false;\">MEC E 340 - Applied Thermodynamics </a></span></li><li class=\"acalog-course\"><span><a aria-expanded=\"false\" href=\"#\" onclick=\"showCourse('34', '375570',this, 'a:2:{s:8:~location~;s:7:~program~;s:4:~core~;s:6:~317223~;}'); return false;\">MEC E 360 - Mechanical Design II </a></span></li><li class=\"acalog-course\"><span><a aria-expanded=\"false\" href=\"#\" onclick=\"showCourse('34', '375571',this, 'a:2:{s:8:~location~;s:7:~program~;s:4:~core~;s:6:~317223~;}'); return false;\">MEC E 362 - Mechanics of Machines </a></span></li><li class=\"acalog-course\"><span><a aria-expanded=\"false\" href=\"#\" onclick=\"showCourse('34', '375576',this, 'a:2:{s:8:~location~;s:7:~program~;s:4:~core~;s:6:~317223~;}'); return false;\">MEC E 390 - Numerical Methods of Mechanical Engineers </a></span></li></ul></div></div><div class=\"acalog-core\"><h4><a name=\"Summer\"></a><a id=\"core_317224\" name=\"summer\"></a>Summer</h4><hr/><ul><li class=\"acalog-course\"><span><a aria-expanded=\"false\" href=\"#\" onclick=\"showCourse('34', '377970',this, 'a:2:{s:8:~location~;s:7:~program~;s:4:~core~;s:6:~317224~;}'); return false;\">WKEXP 903 - Engineering Work Experience III </a></span></li></ul></div></div><div class=\"acalog-core\"><h3><a name=\"Year4\"></a><a id=\"core_317225\" name=\"year4\"></a>Year 4</h3><hr/></div><div class=\"custom_leftpad_20\"><div class=\"acalog-core\"><h4><a name=\"Fall\"></a><a id=\"core_317226\" name=\"fall\"></a>Fall</h4><hr/><ul><li class=\"acalog-course\"><span><a aria-expanded=\"false\" href=\"#\" onclick=\"showCourse('34', '377971',this, 'a:2:{s:8:~location~;s:7:~program~;s:4:~core~;s:6:~317226~;}'); return false;\">WKEXP 904 - Engineering Work Experience IV </a></span></li></ul></div><div class=\"acalog-core\"><h4><a name=\"WinterTerm6\"></a><a id=\"core_317230\" name=\"winterterm6\"></a>Winter Term 6</h4><hr/></div><div class=\"custom_leftpad_20\"><div class=\"acalog-core\"><h5><a name=\"CourseGroup3A\"></a><a id=\"core_317227\" name=\"coursegroup3a\"></a>Course Group 3A</h5><hr/><ul><li class=\"acalog-course\"><span><a aria-expanded=\"false\" href=\"#\" onclick=\"showCourse('34', '375426',this, 'a:2:{s:8:~location~;s:7:~program~;s:4:~core~;s:6:~317227~;}'); return false;\">MATH 300 - Advanced Boundary Value Problems I </a></span></li><li class=\"acalog-course\"><span><a aria-expanded=\"false\" href=\"#\" onclick=\"showCourse('34', '375564',this, 'a:2:{s:8:~location~;s:7:~program~;s:4:~core~;s:6:~317227~;}'); return false;\">MEC E 300 - Mechanical Measurements </a></span></li><li class=\"acalog-course\"><span><a aria-expanded=\"false\" href=\"#\" onclick=\"showCourse('34', '375565',this, 'a:2:{s:8:~location~;s:7:~program~;s:4:~core~;s:6:~317227~;}'); return false;\">MEC E 301 - Mechanical Engineering Laboratory I </a></span></li><li class=\"acalog-course\"><span><a aria-expanded=\"false\" href=\"#\" onclick=\"showCourse('34', '375567',this, 'a:2:{s:8:~location~;s:7:~program~;s:4:~core~;s:6:~317227~;}'); return false;\">MEC E 331 - Fluid Mechanics I </a></span></li><li class=\"acalog-course\"><span><a aria-expanded=\"false\" href=\"#\" onclick=\"showCourse('34', '375574',this, 'a:2:{s:8:~location~;s:7:~program~;s:4:~core~;s:6:~317227~;}'); return false;\">MEC E 371 - Heat Transfer </a></span></li><li class=\"acalog-course\"><span><a aria-expanded=\"false\" href=\"#\" onclick=\"showCourse('34', '375575',this, 'a:2:{s:8:~location~;s:7:~program~;s:4:~core~;s:6:~317227~;}'); return false;\">MEC E 380 - Advanced Strength of Materials I </a></span></li></ul></div><div class=\"acalog-core\"><h5><a name=\"OR\"></a><a id=\"core_317228\" name=\"or\"></a>OR</h5><hr/></div><div class=\"acalog-core\"><h5><a name=\"CourseGroup3B\"></a><a id=\"core_317229\" name=\"coursegroup3b\"></a>Course Group 3B</h5><hr/><ul><li class=\"acalog-course\"><span><a aria-expanded=\"false\" href=\"#\" onclick=\"showCourse('34', '374093',this, 'a:2:{s:8:~location~;s:7:~program~;s:4:~core~;s:6:~317229~;}'); return false;\">ENG M 310 - Engineering Economy </a> <strong>OR</strong></span></li><li class=\"acalog-course\"><span><a aria-expanded=\"false\" href=\"#\" onclick=\"showCourse('34', '374094',this, 'a:2:{s:8:~location~;s:7:~program~;s:4:~core~;s:6:~317229~;}'); return false;\">ENG M 401 - Financial Management for Engineers </a></span></li><li class=\"acalog-adhoc acalog-adhoc-after\" style=\"list-style: none;\"><p> </p></li><li class=\"acalog-adhoc-list-item acalog-adhoc-after\">Complementary Studies Elective (3-0-0)</li><li class=\"acalog-course\"><span><a aria-expanded=\"false\" href=\"#\" onclick=\"showCourse('34', '375568',this, 'a:2:{s:8:~location~;s:7:~program~;s:4:~core~;s:6:~317229~;}'); return false;\">MEC E 340 - Applied Thermodynamics </a></span></li><li class=\"acalog-course\"><span><a aria-expanded=\"false\" href=\"#\" onclick=\"showCourse('34', '375570',this, 'a:2:{s:8:~location~;s:7:~program~;s:4:~core~;s:6:~317229~;}'); return false;\">MEC E 360 - Mechanical Design II </a></span></li><li class=\"acalog-course\"><span><a aria-expanded=\"false\" href=\"#\" onclick=\"showCourse('34', '375571',this, 'a:2:{s:8:~location~;s:7:~program~;s:4:~core~;s:6:~317229~;}'); return false;\">MEC E 362 - Mechanics of Machines </a></span></li><li class=\"acalog-course\"><span><a aria-expanded=\"false\" href=\"#\" onclick=\"showCourse('34', '375576',this, 'a:2:{s:8:~location~;s:7:~program~;s:4:~core~;s:6:~317229~;}'); return false;\">MEC E 390 - Numerical Methods of Mechanical Engineers </a></span></li></ul></div></div><div class=\"acalog-core\"><h4><a name=\"SummerTerm7\"></a><a id=\"core_317231\" name=\"summerterm7\"></a>Summer Term 7</h4><hr/><ul><li class=\"acalog-course\"><span><a aria-expanded=\"false\" href=\"#\" onclick=\"showCourse('34', '374127',this, 'a:2:{s:8:~location~;s:7:~program~;s:4:~core~;s:6:~317231~;}'); return false;\">ENGG 404 - Engineering Safety and Risk Management-Leadership in Risk Management </a></span></li><li class=\"acalog-adhoc-list-item acalog-adhoc-before\">Program and Technical Elective (3-0-0)</li><li class=\"acalog-adhoc-list-item acalog-adhoc-before\">Program and Technical Elective (3-0-0)</li><li class=\"acalog-adhoc acalog-adhoc-before\" style=\"list-style: none;\"><p> </p></li><li class=\"acalog-course\"><span><a aria-expanded=\"false\" href=\"#\" onclick=\"showCourse('34', '375581',this, 'a:2:{s:8:~location~;s:7:~program~;s:4:~core~;s:6:~317231~;}'); return false;\">MEC E 430 - Fluid Mechanics II </a> <strong>OR</strong></span></li><li class=\"acalog-course\"><span><a aria-expanded=\"false\" href=\"#\" onclick=\"showCourse('34', '375594',this, 'a:2:{s:8:~location~;s:7:~program~;s:4:~core~;s:6:~317231~;}'); return false;\">MEC E 480 - Advanced Strength of Materials II </a></span></li><li class=\"acalog-adhoc acalog-adhoc-after\" style=\"list-style: none;\"><p> </p></li><li class=\"acalog-course\"><span><a aria-expanded=\"false\" href=\"#\" onclick=\"showCourse('34', '375588',this, 'a:2:{s:8:~location~;s:7:~program~;s:4:~core~;s:6:~317231~;}'); return false;\">MEC E 463 - Thermo-Fluids Systems Design </a></span></li><li class=\"acalog-adhoc-list-item acalog-adhoc-after\">Program and Technical Elective (3-0-0)</li></ul></div></div><div class=\"acalog-core\"><h3><a name=\"Year5\"></a><a id=\"core_317232\" name=\"year5\"></a>Year 5</h3><hr/></div><div class=\"custom_leftpad_20\"><div class=\"acalog-core\"><h4><a name=\"Fall\"></a><a id=\"core_317233\" name=\"fall\"></a>Fall</h4><hr/><ul><li class=\"acalog-course\"><span><a aria-expanded=\"false\" href=\"#\" onclick=\"showCourse('34', '377972',this, 'a:2:{s:8:~location~;s:7:~program~;s:4:~core~;s:6:~317233~;}'); return false;\">WKEXP 905 - Engineering Work Experience V </a></span></li></ul></div><div class=\"acalog-core\"><h4><a name=\"WinterTerm8\"></a><a id=\"core_317234\" name=\"winterterm8\"></a>Winter Term 8</h4><hr/><ul><li class=\"acalog-course\"><span><a aria-expanded=\"false\" href=\"#\" onclick=\"showCourse('34', '372543',this, 'a:2:{s:8:~location~;s:7:~program~;s:4:~core~;s:6:~317234~;}'); return false;\">CH E 448 - Process Control for Mechanical Engineers </a> <strong>OR</strong></span></li><li class=\"acalog-course\"><span><a aria-expanded=\"false\" href=\"#\" onclick=\"showCourse('34', '375580',this, 'a:2:{s:8:~location~;s:7:~program~;s:4:~core~;s:6:~317234~;}'); return false;\">MEC E 420 - Feedback Control Design of Dynamic Systems </a></span></li><li class=\"acalog-adhoc acalog-adhoc-after\" style=\"list-style: none;\"><p> </p></li><li class=\"acalog-course\"><span><a aria-expanded=\"false\" href=\"#\" onclick=\"showCourse('34', '374126',this, 'a:2:{s:8:~location~;s:7:~program~;s:4:~core~;s:6:~317234~;}'); return false;\">ENGG 400 - The Practice of the Engineering Profession </a></span></li><li class=\"acalog-adhoc-list-item acalog-adhoc-after\">ITS Elective (3-0-0)</li><li class=\"acalog-course\"><span><a aria-expanded=\"false\" href=\"#\" onclick=\"showCourse('34', '375577',this, 'a:2:{s:8:~location~;s:7:~program~;s:4:~core~;s:6:~317234~;}'); return false;\">MEC E 403 - Mechanical Engineering Laboratory II </a></span></li><li class=\"acalog-course\"><span><a aria-expanded=\"false\" href=\"#\" onclick=\"showCourse('34', '375584',this, 'a:2:{s:8:~location~;s:7:~program~;s:4:~core~;s:6:~317234~;}'); return false;\">MEC E 451 - Vibrations and Sound </a></span></li><li class=\"acalog-course\"><span><a aria-expanded=\"false\" href=\"#\" onclick=\"showCourse('34', '375586',this, 'a:2:{s:8:~location~;s:7:~program~;s:4:~core~;s:6:~317234~;}'); return false;\">MEC E 460 - Design Project </a></span></li><li class=\"acalog-adhoc-list-item acalog-adhoc-after\">Program and Technical Elective (3-0-0)</li></ul></div></div><div class=\"acalog-core\"><h3><a name=\"Note\"></a><a id=\"core_317236\" name=\"note\"></a>Note:</h3><hr/><p>See Program and Technical Electives below for restrictions on the four program electives.</p>\n",
       "</div></div>"
      ]
     },
     "execution_count": 8,
     "metadata": {},
     "output_type": "execute_result"
    }
   ],
   "source": [
    "core_container"
   ]
  },
  {
   "cell_type": "code",
   "execution_count": 9,
   "metadata": {},
   "outputs": [
    {
     "name": "stdout",
     "output_type": "stream",
     "text": [
      "52\n"
     ]
    }
   ],
   "source": [
    "core_course_containers = core_container.findAll(\"li\", {\"class\":\"acalog-course\"}) #contains all courses in the page\n",
    "print(len(core_course_containers))"
   ]
  },
  {
   "cell_type": "code",
   "execution_count": 10,
   "metadata": {},
   "outputs": [
    {
     "data": {
      "text/plain": [
       "52"
      ]
     },
     "execution_count": 10,
     "metadata": {},
     "output_type": "execute_result"
    }
   ],
   "source": [
    "course_titles = [container.find(\"a\").text.strip() for container in core_course_containers]\n",
    "len(course_titles)"
   ]
  },
  {
   "cell_type": "code",
   "execution_count": 11,
   "metadata": {},
   "outputs": [
    {
     "data": {
      "text/plain": [
       "40"
      ]
     },
     "execution_count": 11,
     "metadata": {},
     "output_type": "execute_result"
    }
   ],
   "source": [
    "#remove duplicates\n",
    "course_titles = list(dict.fromkeys(course_titles))\n",
    "len(course_titles)"
   ]
  },
  {
   "cell_type": "code",
   "execution_count": 12,
   "metadata": {
    "scrolled": true
   },
   "outputs": [
    {
     "data": {
      "text/plain": [
       "['CIV E 270 - Mechanics of Deformable Bodies I',\n",
       " 'ENGG 299 - Orientation to Cooperative Education',\n",
       " 'MATH 209 - Calculus III',\n",
       " 'MEC E 230 - Introduction to Thermo-Fluid Sciences',\n",
       " 'MEC E 260 - Mechanical Design I',\n",
       " 'MEC E 265 - Engineering Graphics and CAD',\n",
       " 'STAT 235 - Introductory Statistics for Engineering',\n",
       " 'CH E 243 - Engineering Thermodynamics',\n",
       " 'ECE 209 - Fundamentals of Electrical Engineering',\n",
       " 'MAT E 202 - Materials Science II',\n",
       " 'MATH 201 - Differential Equations',\n",
       " 'MEC E 200 - Introduction to Mechanical Engineering',\n",
       " 'MEC E 250 - Engineering Mechanics II',\n",
       " 'WKEXP 901 - Engineering Work Experience I',\n",
       " 'WKEXP 902 - Engineering Work Experience II',\n",
       " 'MATH 300 - Advanced Boundary Value Problems I',\n",
       " 'MEC E 300 - Mechanical Measurements',\n",
       " 'MEC E 301 - Mechanical Engineering Laboratory I',\n",
       " 'MEC E 331 - Fluid Mechanics I',\n",
       " 'MEC E 371 - Heat Transfer',\n",
       " 'MEC E 380 - Advanced Strength of Materials I',\n",
       " 'ENG M 310 - Engineering Economy',\n",
       " 'ENG M 401 - Financial Management for Engineers',\n",
       " 'MEC E 340 - Applied Thermodynamics',\n",
       " 'MEC E 360 - Mechanical Design II',\n",
       " 'MEC E 362 - Mechanics of Machines',\n",
       " 'MEC E 390 - Numerical Methods of Mechanical Engineers',\n",
       " 'WKEXP 903 - Engineering Work Experience III',\n",
       " 'WKEXP 904 - Engineering Work Experience IV',\n",
       " 'ENGG 404 - Engineering Safety and Risk Management-Leadership in Risk Management',\n",
       " 'MEC E 430 - Fluid Mechanics II',\n",
       " 'MEC E 480 - Advanced Strength of Materials II',\n",
       " 'MEC E 463 - Thermo-Fluids Systems Design',\n",
       " 'WKEXP 905 - Engineering Work Experience V',\n",
       " 'CH E 448 - Process Control for Mechanical Engineers',\n",
       " 'MEC E 420 - Feedback Control Design of Dynamic Systems',\n",
       " 'ENGG 400 - The Practice of the Engineering Profession',\n",
       " 'MEC E 403 - Mechanical Engineering Laboratory II',\n",
       " 'MEC E 451 - Vibrations and Sound',\n",
       " 'MEC E 460 - Design Project']"
      ]
     },
     "execution_count": 12,
     "metadata": {},
     "output_type": "execute_result"
    }
   ],
   "source": [
    "course_titles"
   ]
  },
  {
   "cell_type": "markdown",
   "metadata": {},
   "source": [
    "# 2. Click on each link to open all course info boxes"
   ]
  },
  {
   "cell_type": "code",
   "execution_count": 13,
   "metadata": {},
   "outputs": [],
   "source": [
    "driver.get(url)"
   ]
  },
  {
   "cell_type": "code",
   "execution_count": 14,
   "metadata": {},
   "outputs": [
    {
     "name": "stdout",
     "output_type": "stream",
     "text": [
      "opened  CIV E 270 - Mechanics of Deformable Bodies I\n",
      "opened  ENGG 299 - Orientation to Cooperative Education\n",
      "opened  MATH 209 - Calculus III\n",
      "opened  MEC E 230 - Introduction to Thermo-Fluid Sciences\n",
      "opened  MEC E 260 - Mechanical Design I\n",
      "opened  MEC E 265 - Engineering Graphics and CAD\n",
      "opened  STAT 235 - Introductory Statistics for Engineering\n",
      "opened  CH E 243 - Engineering Thermodynamics\n",
      "opened  ECE 209 - Fundamentals of Electrical Engineering\n",
      "opened  MAT E 202 - Materials Science II\n",
      "opened  MATH 201 - Differential Equations\n",
      "opened  MEC E 200 - Introduction to Mechanical Engineering\n",
      "opened  MEC E 250 - Engineering Mechanics II\n",
      "opened  WKEXP 901 - Engineering Work Experience I\n",
      "opened  WKEXP 902 - Engineering Work Experience II\n",
      "opened  MATH 300 - Advanced Boundary Value Problems I\n",
      "opened  MEC E 300 - Mechanical Measurements\n",
      "opened  MEC E 301 - Mechanical Engineering Laboratory I\n",
      "opened  MEC E 331 - Fluid Mechanics I\n",
      "opened  MEC E 371 - Heat Transfer\n",
      "opened  MEC E 380 - Advanced Strength of Materials I\n",
      "opened  ENG M 310 - Engineering Economy\n",
      "opened  ENG M 401 - Financial Management for Engineers\n",
      "opened  MEC E 340 - Applied Thermodynamics\n",
      "opened  MEC E 360 - Mechanical Design II\n",
      "opened  MEC E 362 - Mechanics of Machines\n",
      "opened  MEC E 390 - Numerical Methods of Mechanical Engineers\n",
      "opened  WKEXP 903 - Engineering Work Experience III\n",
      "opened  WKEXP 904 - Engineering Work Experience IV\n",
      "opened  ENGG 404 - Engineering Safety and Risk Management-Leadership in Risk Management\n",
      "opened  MEC E 430 - Fluid Mechanics II\n",
      "opened  MEC E 480 - Advanced Strength of Materials II\n",
      "opened  MEC E 463 - Thermo-Fluids Systems Design\n",
      "opened  WKEXP 905 - Engineering Work Experience V\n",
      "opened  CH E 448 - Process Control for Mechanical Engineers\n",
      "opened  MEC E 420 - Feedback Control Design of Dynamic Systems\n",
      "opened  ENGG 400 - The Practice of the Engineering Profession\n",
      "opened  MEC E 403 - Mechanical Engineering Laboratory II\n",
      "opened  MEC E 451 - Vibrations and Sound\n",
      "opened  MEC E 460 - Design Project\n"
     ]
    }
   ],
   "source": [
    "for text in course_titles:\n",
    "    link = driver.find_element_by_link_text(text)\n",
    "    link.click()\n",
    "    time.sleep(3)\n",
    "    print(\"opened \", text)"
   ]
  },
  {
   "cell_type": "markdown",
   "metadata": {},
   "source": [
    "# 3. Obtain the updated html of the webpage and scrape all course codes, names, and descriptions in opened course info boxes"
   ]
  },
  {
   "cell_type": "code",
   "execution_count": 15,
   "metadata": {},
   "outputs": [],
   "source": [
    "page_soup = soup(driver.page_source, 'lxml')"
   ]
  },
  {
   "cell_type": "code",
   "execution_count": 16,
   "metadata": {},
   "outputs": [],
   "source": [
    "all_container = page_soup.find(\"div\", {\"class\":\"custom_leftpad_20\"}) #contains all courses in the page"
   ]
  },
  {
   "cell_type": "code",
   "execution_count": 17,
   "metadata": {},
   "outputs": [],
   "source": [
    "core_container = all_container.find(\"div\", {\"class\":\"custom_leftpad_20\"})"
   ]
  },
  {
   "cell_type": "code",
   "execution_count": 18,
   "metadata": {},
   "outputs": [
    {
     "name": "stdout",
     "output_type": "stream",
     "text": [
      "40\n"
     ]
    }
   ],
   "source": [
    "containers = page_soup.findAll(\"li\", {\"class\":\"acalog-course acalog-course-open\"}) #contains all courses in the page\n",
    "print(len(containers))"
   ]
  },
  {
   "cell_type": "code",
   "execution_count": 19,
   "metadata": {},
   "outputs": [
    {
     "data": {
      "text/plain": [
       "['CIV E 270 - Mechanics of Deformable Bodies I  ★ 4.5 (fi 8) (either term or Spring/Summer, 3-0-3) Plane stress and strain; stress-strain relationships; stresses and deformations resulting from axial and transverse loads; buckling of columns; torsion of circular sections; combined stress; statically indeterminate problems. Laboratory to demonstrate mechanical properties and verify assumptions of analysis. Prerequisites: ENGG 130 and MATH 101.',\n",
       " 'ENGG 299 - Orientation to Cooperative Education  ★ 1.5 (fi 3) (first term, 1-1s-0) An examination of the history, philosophy and objectives of Cooperative Education; introduction to the operation of the Cooperative Education Program; self-assessment of transferable skills and work values; preparation of the resume; practice of job interview skills; goal setting on the job; ethics; human rights; and public and worker safety and health considerations including the context of the Alberta Occupational Health and Safety Act. Note: This course is only open to students registered in the Cooperative Education Program and must be taken prior to a student’s first work placement.',\n",
       " 'MATH 209 - Calculus III  ★ 3.5 (fi 6) (either term, 3-0-1) Partial differentiation, derivatives of integrals. Multiple integration using rectangular, cylindrical, and spherical coordinates. Vector Field Theory. Prerequisite: MATH 101. Prerequisite or corequisite: MATH 102. Notes: (1) This course may not be taken for credit if credit has already been obtained in MATH 215 or 317. (2) Students in all sections of this course will write a common final examination. (3) Restricted to Engineering students. Non-Engineering students who take this course will receive *3.0.',\n",
       " 'MEC E 230 - Introduction to Thermo-Fluid Sciences  ★ 3.5 (fi 8) (either term or Spring/Summer, 3-1s-0) Introduction to modes of heat transfer. One dimensional heat conduction. Heat transfer from surfaces. Introduction to fluid mechanics. Fluid properties. Fluid statics. Use of control volumes. Internal flows. Prerequisites: MATH 101, EN PH 131.',\n",
       " 'MEC E 260 - Mechanical Design I  ★ 3.5 (fi 8) (either term or Spring/Summer, 2-0-3) Design morphology, analysis and design of components, mechanical design with electric motors, computer-aided design introduction, design project. Prerequisite: ENGG 160. Corequisite: MEC E 265 and CIV E 270.',\n",
       " 'MEC E 265 - Engineering Graphics and CAD  ★ 3.5 (fi 8) (either term or Spring/Summer, 2-0-3) Engineering drawing and sketching, conventional drafting, computer-aided drawing in 2D and 3D, solid modelling, and computer-aided design.',\n",
       " 'STAT 235 - Introductory Statistics for Engineering  ★ 3.8 (fi 6) (either term or Spring/Summer, 3-0-1.5) Descriptive data analysis. Calculus of Probability. Binomial, multinomial, Poisson, normal, beta, exponential, gamma, hypergeometric, and Weibull distributions. Sampling distributions. Estimation, testing hypotheses, goodness-of-fit tests, and one-way analysis of variance. Linear correlation and regression. Sampling. Quality control. Use of a microcomputer software package for statistical analyses in engineering applications. Prerequisite: MATH 100. Corequisite: MATH 101. Credit may not be obtained in STAT 235 if credit has already been obtained in STAT 141, 151, 222, 265, 266; PSYCO 211, SCI 151 or SOC 210. Intended for Engineering students. Other students who take this course will receive *3.0.',\n",
       " 'CH E 243 - Engineering Thermodynamics  ★ 3.5 (fi 8) (either term or Spring/Summer, 3-1s-0) An introduction to the first and second laws of thermodynamics. Prerequisites: MATH 101.',\n",
       " 'ECE 209 - Fundamentals of Electrical Engineering  ★ 3.8 (fi 8) (either term or Spring/Summer, 3-0-3/2) Physical concepts of passive circuit elements, Kirchhoff’s laws and DC circuit equations. Energy concepts, time domain analysis of AC circuits. Impedance, complex numbers and phasor algebra. AC power concepts, resonance, three phase circuits, introduction to machines. Credit may be obtained in only one of ECE 209, E E 239, ECE 202, or E E 240, unless approved by the Department.',\n",
       " 'MAT E 202 - Materials Science II  ★ 3.5 (fi 8) (either term or Spring/Summer, 3- 1.5s/2-1/3) An introduction to the science of materials relating their mechanical, thermal, electronic, and chemical properties to atomic, molecular, and crystal structure. Ceramic and metallic crystals, glasses, polymers, and composite materials. Multi-phase materials, phase transformations, and strengthening processes. Laboratories and seminars include mechanical properties of materials, microstructure, heat treatment of steel, and hands on design experiments. Prerequisite: CHEM 105 or consent of Department.',\n",
       " 'MATH 201 - Differential Equations  ★ 3.5 (fi 6) (either term or Spring/Summer, 3-0-1) First-order equations; second-order linear equations: reduction of order, variation of parameters; Laplace transform; linear systems; power series; solution by series; separation of variables for PDEs. Prerequisite or corequisite: MATH 209 or 214. Notes: (1) Open only to students in Engineering, Specialization Physics, and Specialization Geophysics. (2) Credit can be obtained in at most one of MATH 201, 334 or 336. (3) Students in all sections of this course will write a common final examination. Non-Engineering students who take this course will receive *3.0.',\n",
       " 'MEC E 200 - Introduction to Mechanical Engineering  ★ 2 (fi 5) (either term or Spring/Summer, 1-2s-0) Introduction to the profession of mechanical engineering with special emphasis of industries in Alberta, including coverage of elements of ethics, equity, concepts of sustainable development and environmental stewardship, public and worker safety and health considerations including the context of the Alberta Occupational Health and Safety Act. Selected guest speakers on design problems in mechanical engineering. Communication skills including written and oral presentations.',\n",
       " 'MEC E 250 - Engineering Mechanics II  ★ 3.5 (fi 8) (either term or Spring/Summer, 3-1s-0) Moments of inertia. Kinematics and kinetics of rigid body motion, energy and momentum methods, impact, mechanical vibrations. Prerequisites: ENGG 130, EN PH 131 and MATH 101. There is a consolidated exam.',\n",
       " 'WKEXP 901 - Engineering Work Experience I  ★ .5 (fi 7) (either term or Spring/Summer, unassigned) A four-month work placement for Engineering students registered in the Cooperative Education Program. This work experience will provide the student with exposure to the practical application of engineering and the general work environment. Evaluation will be based on the employer’s performance appraisal, the student’s work term report, and the student’s ability to learn from the experiences of the work term. Prerequisite: ENGG 299.',\n",
       " 'WKEXP 902 - Engineering Work Experience II  ★ .5 (fi 7) (either term or Spring/Summer, unassigned) A four-month work placement for Engineering students registered in the Cooperative Education Program. This work experience will provide the student with exposure to the practical application of engineering and the general work environment. Evaluation will be based on the employer’s performance appraisal, the student’s work term report, and the student’s ability to learn from the experiences of the work term. Prerequisite: WKEXP 901.',\n",
       " 'MATH 300 - Advanced Boundary Value Problems I  ★ 3 (fi 6) (either term or Spring/Summer, 3-0-0) Derivation of the classical partial differential equations of applied mathematics, solutions using separation of variables. Fourier expansions and their applications to boundary value problems. Introduction to Fourier Transforms. Emphasis on building an appropriate mathematical model from a physical problem, solving the mathematical problem, and carefully interpreting the mathematical results in the context of the original physical problem. Prerequisites: MATH 201 and 209. Notes: (1) Open only to students in Engineering, Specialization Physics, and Specialization Geophysics. (2) Credit can be obtained in at most one of MATH 300 and 337. (3) Course cannot be taken for credit if credit has been obtained in ECE 341.',\n",
       " 'MEC E 300 - Mechanical Measurements  ★ 3.5 (fi 8) (either term or Spring/Summer, 3-1s-0) Characterization and behavior of measuring systems. Statistics and analysis of measurement data; measurement techniques applied to fundamental mechanical engineering phenomena. Prerequisites: CIV E 270, ECE 209, STAT 235. Corequisite: MEC E 330 or MEC E 331.',\n",
       " 'MEC E 301 - Mechanical Engineering Laboratory I  ★ 2.5 (fi 8) (either term or Spring/Summer, 1-0-3) Laboratory experiments in mechanical engineering measurement techniques, treatment of measurement data, introduction to engineering report writing. Corequisite: MEC E 300.',\n",
       " 'MEC E 331 - Fluid Mechanics I  ★ 3.5 (fi 8) (either term or Spring/Summer, 3-0-1) External flow, boundary layers, momentum theories, similitude, fluid metering, fluid friction, fluid friction in pipes, pipe networks. Prerequisites: MEC E 230, 250, MATH 209. Corequisite: CH E 243. Credit can only be granted for one of MEC E 330 or MEC E 331.',\n",
       " 'MEC E 371 - Heat Transfer  ★ 3.5 (fi 8) (either term or Spring/Summer, 3-1s-0) Mechanisms of heat transfer, steady and unsteady heat conduction, numerical analysis, thermal radiation, free and forced convection, heat exchanger analysis and heat transfer with change of phase and mass transfer. Prerequisites: MEC E 230, CH E 243. Corequisites: MATH 300 and MEC E 331. Credit can only be granted for one of MEC E 370 or MEC E 371.',\n",
       " 'MEC E 380 - Advanced Strength of Materials I  ★ 3.5 (fi 8) (either term or Spring/Summer, 3-1s-0) Stress, strain, stress-strain relation, time-independent and time-dependent behavior, virtual work and energy theorems, deformations, indeterminate systems, matrix methods. Prerequisite: MEC E 260 and CIV E 270.',\n",
       " 'ENG M 310 - Engineering Economy  ★ 3 (fi 8) (either term or Spring/Summer, 3-0-0) The application of the fundamentals of economics to engineering alternatives in planning, developing and managing industrial projects. Note: Credit cannot be obtained for more than one of ENGG 310, 401, ENG M 310 or 401.',\n",
       " 'ENG M 401 - Financial Management for Engineers  ★ 3 (fi 8) (either term, 3-0-0) The application of the fundamentals of engineering economics, financial analysis and market assessment to engineering alternatives in the planning, development and ongoing management of industrial enterprises. The course covers the use of engineering, economic, financial and market assessment information in investment and business operation decisions in technology oriented companies. Note: Credit cannot be obtained for more than one of ENGG 310, ENGG 401, ENG M 310, or ENG M 401.',\n",
       " 'MEC E 340 - Applied Thermodynamics  ★ 3.5 (fi 8) (either term or Spring/Summer, 3-0-1) Review of thermodynamic principles. Applications to gas compressors, vapour and gas power cycles, heat pump cycles. Availability analysis. Psychrometrics. Combustion analysis. Prerequisite: CH E 243.',\n",
       " 'MEC E 360 - Mechanical Design II  ★ 3.8 (fi 8) (either term or Spring/Summer, 3-0-1.5) Design procedures, theories of failure, material selection, design for fatigue, creep and relaxation, selection of gears and bearings and application of computer-aided design software. Prerequisite: MEC E 260 and 265, MAT E 202 and CIV E 270. Corequisite: MEC E 362.',\n",
       " 'MEC E 362 - Mechanics of Machines  ★ 3.8 (fi 8) (either term or Spring/Summer, 3-0-1.5) Velocities and acceleration in plane mechanisms, balancing of rotating and reciprocating machinery, gears and gear trains. Prerequisite: MEC E 250.',\n",
       " 'MEC E 390 - Numerical Methods of Mechanical Engineers  ★ 3.5 (fi 8) (either term or Spring/Summer, 3-0-1) Application of numerical methods to mechanical engineering problems; topics include sources and definitions of error, root finding, solutions of linear and non-linear systems of equations, regression, interpolaton, numerical integration and differentiation, solution of initial value and boundary value ordinary differential equations. Applications include dynamics, solid mechanics, heat transfer and fluid flow. Prerequisites: MATH 102 and 201.',\n",
       " 'WKEXP 903 - Engineering Work Experience III  ★ .5 (fi 7) (either term or Spring/Summer, unassigned) A four-month work placement for Engineering students registered in the Cooperative Education Program. This work experience will provide students with personal involvement in the practice of their engineering discipline commensurate with their level of academic preparation. Evaluation will be based on the employer’s performance appraisal, the student’s work term report, and the student’s ability to learn from the experiences of the work term. Prerequisite: WKEXP 902.',\n",
       " 'WKEXP 904 - Engineering Work Experience IV  ★ .5 (fi 7) (either term or Spring/Summer, unassigned) A four-month work placement for Engineering students registered in the Cooperative Education Program. This work experience will provide students with personal involvement in the practice of their engineering discipline commensurate with their level of academic preparation. Evaluation will be based on the employer’s performance appraisal, the student’s work term report, and the student’s ability to learn from the experiences of the work term. Prerequisite: WKEXP 903.',\n",
       " 'ENGG 404 - Engineering Safety and Risk Management-Leadership in Risk Management  ★ 3.8 (fi 8) (either term or Spring/Summer, 3-3s/2-0) Basic concepts of risk and consequences of loss incidents; risk management principles and practices; incident investigation, causation, root cause analysis; process safety management; the roles of government agencies, professional bodies and industry associations; workplace safety; risk-based decision-making processes; leadership and the human-factors side of risk management. The course focuses on the principles and practices of leadership towards the effective application and implementation of risk management in major organizations across all engineering disciplines. Industry virtual tours, case studies, seminars and team projects specific to the student’s engineering program will be used to develop competencies and proficiencies in applying leadership and organizational effectiveness for successful risk management.',\n",
       " 'MEC E 430 - Fluid Mechanics II  ★ 3 (fi 8) (either term or Spring/Summer, 3-0-0) Navier-Stokes equations, introductory computational fluid dynamics, boundary layers, compressible fluid flow (variable area ducts, normal and oblique shock waves, Prantdl-Meyer expansions, adiabatic and isothermal pipe flow), two phase flow. Prerequisite: MEC E 330 or 331.',\n",
       " 'MEC E 480 - Advanced Strength of Materials II  ★ 3 (fi 8) (either term or Spring/Summer, 3-0-0) Special topics for beams, torsion, pressure vessels, plane stress and strain, stability, fracture mechanics. Prerequisites: MEC E 360, 380, MATH 300.',\n",
       " 'MEC E 463 - Thermo-Fluids Systems Design  ★ 4 (fi 8) (either term or Spring/Summer, 3-0-2) Design and optimization of thermo-fluid systems, heating and ventilating equipment and load calculations, system design, piping networks, heat exchanger analysis and design, computer-aided design projects. Prerequisites: MEC E 330 or 331, 340, and 370 or 371.',\n",
       " 'WKEXP 905 - Engineering Work Experience V  ★ 3 (fi 7) (either term or Spring/Summer, unassigned) A four-month work placement for Engineering students registered in the Cooperative Education Program. This work experience will provide students with personal involvement in the practice of their engineering discipline commensurate with their level of academic preparation. Evaluation will be based on the employer’s performance appraisal, the student’s work term report, and the student’s ability to learn from the experiences of the work term. Prerequisite: WKEXP 904.',\n",
       " 'CH E 448 - Process Control for Mechanical Engineers  ★ 4 (fi 8) (second term, 3-1s-3/3) Introduction to systems modeling and transient response analysis with an emphasis on mechanical engineering applications; design and analysis of feedback systems; stability analysis; feedforward control; process control applications. Prerequisites: MATH 201 or equivalent, MATH 209, and MEC E 330 or MEC E 331. Corequisite: MEC E 370 or MEC E 371. Restricted to students registered in the Mechanical Engineering program. Credit may not be obtained in this course if previous credit has been obtained for CH E 446.',\n",
       " 'MEC E 420 - Feedback Control Design of Dynamic Systems  ★ 3.8 (fi 8) (either term or Spring/Summer, 3-0-3/2) Design of linear feedback control systems for command-following error, stability, and dynamic response specifications. PID, Root-locus, frequency response and design techniques. An introduction to structural design limitations. Examples emphasizing Mechanical Engineering systems. Some use of computer aided design with MATLAB/Simulink. Controls Lab - control of mechanical systems. Prerequisites: MEC E 390. Credit can only be granted for one of MEC E 420, ECE 362, CH E 448.',\n",
       " 'ENGG 400 - The Practice of the Engineering Profession  ★ 1 (fi 3) (either term, 1-0-0) The technical and professional duties and responsibilities of the engineer; the ethics of the engineering profession; technical and professional organizations. The role of the engineer in the social environment including elements of equity, concepts of sustainable development and environmental stewardship, public and worker safety and health considerations including the context of the Alberta Occupational Health and Safety Act. Note: Restricted to fourth-year traditional and fifth-year co-op engineering students. Must be taken in last term of program.',\n",
       " 'MEC E 403 - Mechanical Engineering Laboratory II  ★ 2.5 (fi 8) (either term or Spring/Summer, 1-0-3) Selected laboratory experiments in applied mechanics and thermosciences. Prerequisites: MEC E 300, 301, 340 and 360.',\n",
       " 'MEC E 451 - Vibrations and Sound  ★ 3.5 (fi 8) (either term or Spring/Summer, 3-0-1) Free and forced vibration of single degree of freedom systems with and without damping, vibration isolation, free vibration of multi degrees of freedom systems, vibration absorption, beam vibrations, sound waves, sound sources, subjective aspects of noise. Prerequisites: MEC E 250 and MATH 300.',\n",
       " 'MEC E 460 - Design Project  ★ 4.5 (fi 8) (either term or Spring/Summer, 2-1s-4) Feasibility study and detailed design of a project which requires students to exercise creative ability, to make assumptions and decisions based on synthesis of technical knowledge, and in general, devise new designs, rather than analyse existing ones. Prerequisites: MEC E 200, 330 or 331, 340, 360, 362, 370 or 371, 380. Corequisite: ENG M 310 (or ENG M 401).']"
      ]
     },
     "execution_count": 19,
     "metadata": {},
     "output_type": "execute_result"
    }
   ],
   "source": [
    "course_descs = [container.find(\"div\", {\"class\": None}).text.strip() for container in containers]\n",
    "course_descs"
   ]
  },
  {
   "cell_type": "code",
   "execution_count": 22,
   "metadata": {},
   "outputs": [
    {
     "data": {
      "text/plain": [
       "[' Plane stress and strain; stress-strain relationships; stresses and deformations resulting from axial and transverse loads; buckling of columns; torsion of circular sections; combined stress; statically indeterminate problems. Laboratory to demonstrate mechanical properties and verify assumptions of analysis. Prerequisites: ENGG 130 and MATH 101.',\n",
       " ' An examination of the history, philosophy and objectives of Cooperative Education; introduction to the operation of the Cooperative Education Program; self-assessment of transferable skills and work values; preparation of the resume; practice of job interview skills; goal setting on the job; ethics; human rights; and public and worker safety and health considerations including the context of the Alberta Occupational Health and Safety Act. Note: This course is only open to students registered in the Cooperative Education Program and must be taken prior to a student’s first work placement.',\n",
       " ' Partial differentiation, derivatives of integrals. Multiple integration using rectangular, cylindrical, and spherical coordinates. Vector Field Theory. Prerequisite: MATH 101. Prerequisite or corequisite: MATH 102. Notes: (1) This course may not be taken for credit if credit has already been obtained in MATH 215 or 317. (2) Students in all sections of this course will write a common final examination. (3) Restricted to Engineering students. Non-Engineering students who take this course will receive *3.0.',\n",
       " ' Introduction to modes of heat transfer. One dimensional heat conduction. Heat transfer from surfaces. Introduction to fluid mechanics. Fluid properties. Fluid statics. Use of control volumes. Internal flows. Prerequisites: MATH 101, EN PH 131.',\n",
       " ' Design morphology, analysis and design of components, mechanical design with electric motors, computer-aided design introduction, design project. Prerequisite: ENGG 160. Corequisite: MEC E 265 and CIV E 270.',\n",
       " ' Engineering drawing and sketching, conventional drafting, computer-aided drawing in 2D and 3D, solid modelling, and computer-aided design.',\n",
       " ' Descriptive data analysis. Calculus of Probability. Binomial, multinomial, Poisson, normal, beta, exponential, gamma, hypergeometric, and Weibull distributions. Sampling distributions. Estimation, testing hypotheses, goodness-of-fit tests, and one-way analysis of variance. Linear correlation and regression. Sampling. Quality control. Use of a microcomputer software package for statistical analyses in engineering applications. Prerequisite: MATH 100. Corequisite: MATH 101. Credit may not be obtained in STAT 235 if credit has already been obtained in STAT 141, 151, 222, 265, 266; PSYCO 211, SCI 151 or SOC 210. Intended for Engineering students. Other students who take this course will receive *3.0.',\n",
       " ' An introduction to the first and second laws of thermodynamics. Prerequisites: MATH 101.',\n",
       " ' Physical concepts of passive circuit elements, Kirchhoff’s laws and DC circuit equations. Energy concepts, time domain analysis of AC circuits. Impedance, complex numbers and phasor algebra. AC power concepts, resonance, three phase circuits, introduction to machines. Credit may be obtained in only one of ECE 209, E E 239, ECE 202, or E E 240, unless approved by the Department.',\n",
       " ' An introduction to the science of materials relating their mechanical, thermal, electronic, and chemical properties to atomic, molecular, and crystal structure. Ceramic and metallic crystals, glasses, polymers, and composite materials. Multi-phase materials, phase transformations, and strengthening processes. Laboratories and seminars include mechanical properties of materials, microstructure, heat treatment of steel, and hands on design experiments. Prerequisite: CHEM 105 or consent of Department.',\n",
       " ' First-order equations; second-order linear equations: reduction of order, variation of parameters; Laplace transform; linear systems; power series; solution by series; separation of variables for PDEs. Prerequisite or corequisite: MATH 209 or 214. Notes: (1) Open only to students in Engineering, Specialization Physics, and Specialization Geophysics. (2) Credit can be obtained in at most one of MATH 201, 334 or 336. (3) Students in all sections of this course will write a common final examination. Non-Engineering students who take this course will receive *3.0.',\n",
       " ' Introduction to the profession of mechanical engineering with special emphasis of industries in Alberta, including coverage of elements of ethics, equity, concepts of sustainable development and environmental stewardship, public and worker safety and health considerations including the context of the Alberta Occupational Health and Safety Act. Selected guest speakers on design problems in mechanical engineering. Communication skills including written and oral presentations.',\n",
       " ' Moments of inertia. Kinematics and kinetics of rigid body motion, energy and momentum methods, impact, mechanical vibrations. Prerequisites: ENGG 130, EN PH 131 and MATH 101. There is a consolidated exam.',\n",
       " ' A four-month work placement for Engineering students registered in the Cooperative Education Program. This work experience will provide the student with exposure to the practical application of engineering and the general work environment. Evaluation will be based on the employer’s performance appraisal, the student’s work term report, and the student’s ability to learn from the experiences of the work term. Prerequisite: ENGG 299.',\n",
       " ' A four-month work placement for Engineering students registered in the Cooperative Education Program. This work experience will provide the student with exposure to the practical application of engineering and the general work environment. Evaluation will be based on the employer’s performance appraisal, the student’s work term report, and the student’s ability to learn from the experiences of the work term. Prerequisite: WKEXP 901.',\n",
       " ' Derivation of the classical partial differential equations of applied mathematics, solutions using separation of variables. Fourier expansions and their applications to boundary value problems. Introduction to Fourier Transforms. Emphasis on building an appropriate mathematical model from a physical problem, solving the mathematical problem, and carefully interpreting the mathematical results in the context of the original physical problem. Prerequisites: MATH 201 and 209. Notes: (1) Open only to students in Engineering, Specialization Physics, and Specialization Geophysics. (2) Credit can be obtained in at most one of MATH 300 and 337. (3) Course cannot be taken for credit if credit has been obtained in ECE 341.',\n",
       " ' Characterization and behavior of measuring systems. Statistics and analysis of measurement data; measurement techniques applied to fundamental mechanical engineering phenomena. Prerequisites: CIV E 270, ECE 209, STAT 235. Corequisite: MEC E 330 or MEC E 331.',\n",
       " ' Laboratory experiments in mechanical engineering measurement techniques, treatment of measurement data, introduction to engineering report writing. Corequisite: MEC E 300.',\n",
       " ' External flow, boundary layers, momentum theories, similitude, fluid metering, fluid friction, fluid friction in pipes, pipe networks. Prerequisites: MEC E 230, 250, MATH 209. Corequisite: CH E 243. Credit can only be granted for one of MEC E 330 or MEC E 331.',\n",
       " ' Mechanisms of heat transfer, steady and unsteady heat conduction, numerical analysis, thermal radiation, free and forced convection, heat exchanger analysis and heat transfer with change of phase and mass transfer. Prerequisites: MEC E 230, CH E 243. Corequisites: MATH 300 and MEC E 331. Credit can only be granted for one of MEC E 370 or MEC E 371.',\n",
       " ' Stress, strain, stress-strain relation, time-independent and time-dependent behavior, virtual work and energy theorems, deformations, indeterminate systems, matrix methods. Prerequisite: MEC E 260 and CIV E 270.',\n",
       " ' The application of the fundamentals of economics to engineering alternatives in planning, developing and managing industrial projects. Note: Credit cannot be obtained for more than one of ENGG 310, 401, ENG M 310 or 401.',\n",
       " ' The application of the fundamentals of engineering economics, financial analysis and market assessment to engineering alternatives in the planning, development and ongoing management of industrial enterprises. The course covers the use of engineering, economic, financial and market assessment information in investment and business operation decisions in technology oriented companies. Note: Credit cannot be obtained for more than one of ENGG 310, ENGG 401, ENG M 310, or ENG M 401.',\n",
       " ' Review of thermodynamic principles. Applications to gas compressors, vapour and gas power cycles, heat pump cycles. Availability analysis. Psychrometrics. Combustion analysis. Prerequisite: CH E 243.',\n",
       " ' Design procedures, theories of failure, material selection, design for fatigue, creep and relaxation, selection of gears and bearings and application of computer-aided design software. Prerequisite: MEC E 260 and 265, MAT E 202 and CIV E 270. Corequisite: MEC E 362.',\n",
       " ' Velocities and acceleration in plane mechanisms, balancing of rotating and reciprocating machinery, gears and gear trains. Prerequisite: MEC E 250.',\n",
       " ' Application of numerical methods to mechanical engineering problems; topics include sources and definitions of error, root finding, solutions of linear and non-linear systems of equations, regression, interpolaton, numerical integration and differentiation, solution of initial value and boundary value ordinary differential equations. Applications include dynamics, solid mechanics, heat transfer and fluid flow. Prerequisites: MATH 102 and 201.',\n",
       " ' A four-month work placement for Engineering students registered in the Cooperative Education Program. This work experience will provide students with personal involvement in the practice of their engineering discipline commensurate with their level of academic preparation. Evaluation will be based on the employer’s performance appraisal, the student’s work term report, and the student’s ability to learn from the experiences of the work term. Prerequisite: WKEXP 902.',\n",
       " ' A four-month work placement for Engineering students registered in the Cooperative Education Program. This work experience will provide students with personal involvement in the practice of their engineering discipline commensurate with their level of academic preparation. Evaluation will be based on the employer’s performance appraisal, the student’s work term report, and the student’s ability to learn from the experiences of the work term. Prerequisite: WKEXP 903.',\n",
       " ' Basic concepts of risk and consequences of loss incidents; risk management principles and practices; incident investigation, causation, root cause analysis; process safety management; the roles of government agencies, professional bodies and industry associations; workplace safety; risk-based decision-making processes; leadership and the human-factors side of risk management. The course focuses on the principles and practices of leadership towards the effective application and implementation of risk management in major organizations across all engineering disciplines. Industry virtual tours, case studies, seminars and team projects specific to the student’s engineering program will be used to develop competencies and proficiencies in applying leadership and organizational effectiveness for successful risk management.',\n",
       " ' Navier-Stokes equations, introductory computational fluid dynamics, boundary layers, compressible fluid flow (variable area ducts, normal and oblique shock waves, Prantdl-Meyer expansions, adiabatic and isothermal pipe flow), two phase flow. Prerequisite: MEC E 330 or 331.',\n",
       " ' Special topics for beams, torsion, pressure vessels, plane stress and strain, stability, fracture mechanics. Prerequisites: MEC E 360, 380, MATH 300.',\n",
       " ' Design and optimization of thermo-fluid systems, heating and ventilating equipment and load calculations, system design, piping networks, heat exchanger analysis and design, computer-aided design projects. Prerequisites: MEC E 330 or 331, 340, and 370 or 371.',\n",
       " ' A four-month work placement for Engineering students registered in the Cooperative Education Program. This work experience will provide students with personal involvement in the practice of their engineering discipline commensurate with their level of academic preparation. Evaluation will be based on the employer’s performance appraisal, the student’s work term report, and the student’s ability to learn from the experiences of the work term. Prerequisite: WKEXP 904.',\n",
       " ' Introduction to systems modeling and transient response analysis with an emphasis on mechanical engineering applications; design and analysis of feedback systems; stability analysis; feedforward control; process control applications. Prerequisites: MATH 201 or equivalent, MATH 209, and MEC E 330 or MEC E 331. Corequisite: MEC E 370 or MEC E 371. Restricted to students registered in the Mechanical Engineering program. Credit may not be obtained in this course if previous credit has been obtained for CH E 446.',\n",
       " ' Design of linear feedback control systems for command-following error, stability, and dynamic response specifications. PID, Root-locus, frequency response and design techniques. An introduction to structural design limitations. Examples emphasizing Mechanical Engineering systems. Some use of computer aided design with MATLAB/Simulink. Controls Lab - control of mechanical systems. Prerequisites: MEC E 390. Credit can only be granted for one of MEC E 420, ECE 362, CH E 448.',\n",
       " ' The technical and professional duties and responsibilities of the engineer; the ethics of the engineering profession; technical and professional organizations. The role of the engineer in the social environment including elements of equity, concepts of sustainable development and environmental stewardship, public and worker safety and health considerations including the context of the Alberta Occupational Health and Safety Act. Note: Restricted to fourth-year traditional and fifth-year co-op engineering students. Must be taken in last term of program.',\n",
       " ' Selected laboratory experiments in applied mechanics and thermosciences. Prerequisites: MEC E 300, 301, 340 and 360.',\n",
       " ' Free and forced vibration of single degree of freedom systems with and without damping, vibration isolation, free vibration of multi degrees of freedom systems, vibration absorption, beam vibrations, sound waves, sound sources, subjective aspects of noise. Prerequisites: MEC E 250 and MATH 300.',\n",
       " ' Feasibility study and detailed design of a project which requires students to exercise creative ability, to make assumptions and decisions based on synthesis of technical knowledge, and in general, devise new designs, rather than analyse existing ones. Prerequisites: MEC E 200, 330 or 331, 340, 360, 362, 370 or 371, 380. Corequisite: ENG M 310 (or ENG M 401).']"
      ]
     },
     "execution_count": 22,
     "metadata": {},
     "output_type": "execute_result"
    }
   ],
   "source": [
    "import re\n",
    "course_descs = [re.split(\"\\([A-Za-z0-9 ]{4}\\) \\([A-Za-z0-9, -/.]{10,45}\\)\", desc)[1] for desc in course_descs]\n",
    "course_descs"
   ]
  },
  {
   "cell_type": "code",
   "execution_count": 23,
   "metadata": {},
   "outputs": [
    {
     "data": {
      "text/plain": [
       "['Plane stress and strain; stress-strain relationships; stresses and deformations resulting from axial and transverse loads; buckling of columns; torsion of circular sections; combined stress; statically indeterminate problems. Laboratory to demonstrate mechanical properties and verify assumptions of analysis. Prerequisites: ENGG 130 and MATH 101.',\n",
       " 'An examination of the history, philosophy and objectives of Cooperative Education; introduction to the operation of the Cooperative Education Program; self-assessment of transferable skills and work values; preparation of the resume; practice of job interview skills; goal setting on the job; ethics; human rights; and public and worker safety and health considerations including the context of the Alberta Occupational Health and Safety Act. Note: This course is only open to students registered in the Cooperative Education Program and must be taken prior to a student’s first work placement.',\n",
       " 'Partial differentiation, derivatives of integrals. Multiple integration using rectangular, cylindrical, and spherical coordinates. Vector Field Theory. Prerequisite: MATH 101. Prerequisite or corequisite: MATH 102. Notes: (1) This course may not be taken for credit if credit has already been obtained in MATH 215 or 317. (2) Students in all sections of this course will write a common final examination. (3) Restricted to Engineering students. Non-Engineering students who take this course will receive *3.0.',\n",
       " 'Introduction to modes of heat transfer. One dimensional heat conduction. Heat transfer from surfaces. Introduction to fluid mechanics. Fluid properties. Fluid statics. Use of control volumes. Internal flows. Prerequisites: MATH 101, EN PH 131.',\n",
       " 'Design morphology, analysis and design of components, mechanical design with electric motors, computer-aided design introduction, design project. Prerequisite: ENGG 160. Corequisite: MEC E 265 and CIV E 270.',\n",
       " 'Engineering drawing and sketching, conventional drafting, computer-aided drawing in 2D and 3D, solid modelling, and computer-aided design.',\n",
       " 'Descriptive data analysis. Calculus of Probability. Binomial, multinomial, Poisson, normal, beta, exponential, gamma, hypergeometric, and Weibull distributions. Sampling distributions. Estimation, testing hypotheses, goodness-of-fit tests, and one-way analysis of variance. Linear correlation and regression. Sampling. Quality control. Use of a microcomputer software package for statistical analyses in engineering applications. Prerequisite: MATH 100. Corequisite: MATH 101. Credit may not be obtained in STAT 235 if credit has already been obtained in STAT 141, 151, 222, 265, 266; PSYCO 211, SCI 151 or SOC 210. Intended for Engineering students. Other students who take this course will receive *3.0.',\n",
       " 'An introduction to the first and second laws of thermodynamics. Prerequisites: MATH 101.',\n",
       " 'Physical concepts of passive circuit elements, Kirchhoff’s laws and DC circuit equations. Energy concepts, time domain analysis of AC circuits. Impedance, complex numbers and phasor algebra. AC power concepts, resonance, three phase circuits, introduction to machines. Credit may be obtained in only one of ECE 209, E E 239, ECE 202, or E E 240, unless approved by the Department.',\n",
       " 'An introduction to the science of materials relating their mechanical, thermal, electronic, and chemical properties to atomic, molecular, and crystal structure. Ceramic and metallic crystals, glasses, polymers, and composite materials. Multi-phase materials, phase transformations, and strengthening processes. Laboratories and seminars include mechanical properties of materials, microstructure, heat treatment of steel, and hands on design experiments. Prerequisite: CHEM 105 or consent of Department.',\n",
       " 'First-order equations; second-order linear equations: reduction of order, variation of parameters; Laplace transform; linear systems; power series; solution by series; separation of variables for PDEs. Prerequisite or corequisite: MATH 209 or 214. Notes: (1) Open only to students in Engineering, Specialization Physics, and Specialization Geophysics. (2) Credit can be obtained in at most one of MATH 201, 334 or 336. (3) Students in all sections of this course will write a common final examination. Non-Engineering students who take this course will receive *3.0.',\n",
       " 'Introduction to the profession of mechanical engineering with special emphasis of industries in Alberta, including coverage of elements of ethics, equity, concepts of sustainable development and environmental stewardship, public and worker safety and health considerations including the context of the Alberta Occupational Health and Safety Act. Selected guest speakers on design problems in mechanical engineering. Communication skills including written and oral presentations.',\n",
       " 'Moments of inertia. Kinematics and kinetics of rigid body motion, energy and momentum methods, impact, mechanical vibrations. Prerequisites: ENGG 130, EN PH 131 and MATH 101. There is a consolidated exam.',\n",
       " 'A four-month work placement for Engineering students registered in the Cooperative Education Program. This work experience will provide the student with exposure to the practical application of engineering and the general work environment. Evaluation will be based on the employer’s performance appraisal, the student’s work term report, and the student’s ability to learn from the experiences of the work term. Prerequisite: ENGG 299.',\n",
       " 'A four-month work placement for Engineering students registered in the Cooperative Education Program. This work experience will provide the student with exposure to the practical application of engineering and the general work environment. Evaluation will be based on the employer’s performance appraisal, the student’s work term report, and the student’s ability to learn from the experiences of the work term. Prerequisite: WKEXP 901.',\n",
       " 'Derivation of the classical partial differential equations of applied mathematics, solutions using separation of variables. Fourier expansions and their applications to boundary value problems. Introduction to Fourier Transforms. Emphasis on building an appropriate mathematical model from a physical problem, solving the mathematical problem, and carefully interpreting the mathematical results in the context of the original physical problem. Prerequisites: MATH 201 and 209. Notes: (1) Open only to students in Engineering, Specialization Physics, and Specialization Geophysics. (2) Credit can be obtained in at most one of MATH 300 and 337. (3) Course cannot be taken for credit if credit has been obtained in ECE 341.',\n",
       " 'Characterization and behavior of measuring systems. Statistics and analysis of measurement data; measurement techniques applied to fundamental mechanical engineering phenomena. Prerequisites: CIV E 270, ECE 209, STAT 235. Corequisite: MEC E 330 or MEC E 331.',\n",
       " 'Laboratory experiments in mechanical engineering measurement techniques, treatment of measurement data, introduction to engineering report writing. Corequisite: MEC E 300.',\n",
       " 'External flow, boundary layers, momentum theories, similitude, fluid metering, fluid friction, fluid friction in pipes, pipe networks. Prerequisites: MEC E 230, 250, MATH 209. Corequisite: CH E 243. Credit can only be granted for one of MEC E 330 or MEC E 331.',\n",
       " 'Mechanisms of heat transfer, steady and unsteady heat conduction, numerical analysis, thermal radiation, free and forced convection, heat exchanger analysis and heat transfer with change of phase and mass transfer. Prerequisites: MEC E 230, CH E 243. Corequisites: MATH 300 and MEC E 331. Credit can only be granted for one of MEC E 370 or MEC E 371.',\n",
       " 'Stress, strain, stress-strain relation, time-independent and time-dependent behavior, virtual work and energy theorems, deformations, indeterminate systems, matrix methods. Prerequisite: MEC E 260 and CIV E 270.',\n",
       " 'The application of the fundamentals of economics to engineering alternatives in planning, developing and managing industrial projects. Note: Credit cannot be obtained for more than one of ENGG 310, 401, ENG M 310 or 401.',\n",
       " 'The application of the fundamentals of engineering economics, financial analysis and market assessment to engineering alternatives in the planning, development and ongoing management of industrial enterprises. The course covers the use of engineering, economic, financial and market assessment information in investment and business operation decisions in technology oriented companies. Note: Credit cannot be obtained for more than one of ENGG 310, ENGG 401, ENG M 310, or ENG M 401.',\n",
       " 'Review of thermodynamic principles. Applications to gas compressors, vapour and gas power cycles, heat pump cycles. Availability analysis. Psychrometrics. Combustion analysis. Prerequisite: CH E 243.',\n",
       " 'Design procedures, theories of failure, material selection, design for fatigue, creep and relaxation, selection of gears and bearings and application of computer-aided design software. Prerequisite: MEC E 260 and 265, MAT E 202 and CIV E 270. Corequisite: MEC E 362.',\n",
       " 'Velocities and acceleration in plane mechanisms, balancing of rotating and reciprocating machinery, gears and gear trains. Prerequisite: MEC E 250.',\n",
       " 'Application of numerical methods to mechanical engineering problems; topics include sources and definitions of error, root finding, solutions of linear and non-linear systems of equations, regression, interpolaton, numerical integration and differentiation, solution of initial value and boundary value ordinary differential equations. Applications include dynamics, solid mechanics, heat transfer and fluid flow. Prerequisites: MATH 102 and 201.',\n",
       " 'A four-month work placement for Engineering students registered in the Cooperative Education Program. This work experience will provide students with personal involvement in the practice of their engineering discipline commensurate with their level of academic preparation. Evaluation will be based on the employer’s performance appraisal, the student’s work term report, and the student’s ability to learn from the experiences of the work term. Prerequisite: WKEXP 902.',\n",
       " 'A four-month work placement for Engineering students registered in the Cooperative Education Program. This work experience will provide students with personal involvement in the practice of their engineering discipline commensurate with their level of academic preparation. Evaluation will be based on the employer’s performance appraisal, the student’s work term report, and the student’s ability to learn from the experiences of the work term. Prerequisite: WKEXP 903.',\n",
       " 'Basic concepts of risk and consequences of loss incidents; risk management principles and practices; incident investigation, causation, root cause analysis; process safety management; the roles of government agencies, professional bodies and industry associations; workplace safety; risk-based decision-making processes; leadership and the human-factors side of risk management. The course focuses on the principles and practices of leadership towards the effective application and implementation of risk management in major organizations across all engineering disciplines. Industry virtual tours, case studies, seminars and team projects specific to the student’s engineering program will be used to develop competencies and proficiencies in applying leadership and organizational effectiveness for successful risk management.',\n",
       " 'Navier-Stokes equations, introductory computational fluid dynamics, boundary layers, compressible fluid flow (variable area ducts, normal and oblique shock waves, Prantdl-Meyer expansions, adiabatic and isothermal pipe flow), two phase flow. Prerequisite: MEC E 330 or 331.',\n",
       " 'Special topics for beams, torsion, pressure vessels, plane stress and strain, stability, fracture mechanics. Prerequisites: MEC E 360, 380, MATH 300.',\n",
       " 'Design and optimization of thermo-fluid systems, heating and ventilating equipment and load calculations, system design, piping networks, heat exchanger analysis and design, computer-aided design projects. Prerequisites: MEC E 330 or 331, 340, and 370 or 371.',\n",
       " 'A four-month work placement for Engineering students registered in the Cooperative Education Program. This work experience will provide students with personal involvement in the practice of their engineering discipline commensurate with their level of academic preparation. Evaluation will be based on the employer’s performance appraisal, the student’s work term report, and the student’s ability to learn from the experiences of the work term. Prerequisite: WKEXP 904.',\n",
       " 'Introduction to systems modeling and transient response analysis with an emphasis on mechanical engineering applications; design and analysis of feedback systems; stability analysis; feedforward control; process control applications. Prerequisites: MATH 201 or equivalent, MATH 209, and MEC E 330 or MEC E 331. Corequisite: MEC E 370 or MEC E 371. Restricted to students registered in the Mechanical Engineering program. Credit may not be obtained in this course if previous credit has been obtained for CH E 446.',\n",
       " 'Design of linear feedback control systems for command-following error, stability, and dynamic response specifications. PID, Root-locus, frequency response and design techniques. An introduction to structural design limitations. Examples emphasizing Mechanical Engineering systems. Some use of computer aided design with MATLAB/Simulink. Controls Lab - control of mechanical systems. Prerequisites: MEC E 390. Credit can only be granted for one of MEC E 420, ECE 362, CH E 448.',\n",
       " 'The technical and professional duties and responsibilities of the engineer; the ethics of the engineering profession; technical and professional organizations. The role of the engineer in the social environment including elements of equity, concepts of sustainable development and environmental stewardship, public and worker safety and health considerations including the context of the Alberta Occupational Health and Safety Act. Note: Restricted to fourth-year traditional and fifth-year co-op engineering students. Must be taken in last term of program.',\n",
       " 'Selected laboratory experiments in applied mechanics and thermosciences. Prerequisites: MEC E 300, 301, 340 and 360.',\n",
       " 'Free and forced vibration of single degree of freedom systems with and without damping, vibration isolation, free vibration of multi degrees of freedom systems, vibration absorption, beam vibrations, sound waves, sound sources, subjective aspects of noise. Prerequisites: MEC E 250 and MATH 300.',\n",
       " 'Feasibility study and detailed design of a project which requires students to exercise creative ability, to make assumptions and decisions based on synthesis of technical knowledge, and in general, devise new designs, rather than analyse existing ones. Prerequisites: MEC E 200, 330 or 331, 340, 360, 362, 370 or 371, 380. Corequisite: ENG M 310 (or ENG M 401).']"
      ]
     },
     "execution_count": 23,
     "metadata": {},
     "output_type": "execute_result"
    }
   ],
   "source": [
    "course_descs = [desc.strip() for desc in course_descs]\n",
    "course_descs"
   ]
  },
  {
   "cell_type": "code",
   "execution_count": 24,
   "metadata": {
    "scrolled": true
   },
   "outputs": [
    {
     "data": {
      "text/plain": [
       "['Mechanics of Deformable Bodies I',\n",
       " 'Orientation to Cooperative Education',\n",
       " 'Calculus III',\n",
       " 'Introduction to Thermo-Fluid Sciences',\n",
       " 'Mechanical Design I',\n",
       " 'Engineering Graphics and CAD',\n",
       " 'Introductory Statistics for Engineering',\n",
       " 'Engineering Thermodynamics',\n",
       " 'Fundamentals of Electrical Engineering',\n",
       " 'Materials Science II',\n",
       " 'Differential Equations',\n",
       " 'Introduction to Mechanical Engineering',\n",
       " 'Engineering Mechanics II',\n",
       " 'Engineering Work Experience I',\n",
       " 'Engineering Work Experience II',\n",
       " 'Advanced Boundary Value Problems I',\n",
       " 'Mechanical Measurements',\n",
       " 'Mechanical Engineering Laboratory I',\n",
       " 'Fluid Mechanics I',\n",
       " 'Heat Transfer',\n",
       " 'Advanced Strength of Materials I',\n",
       " 'Engineering Economy',\n",
       " 'Financial Management for Engineers',\n",
       " 'Applied Thermodynamics',\n",
       " 'Mechanical Design II',\n",
       " 'Mechanics of Machines',\n",
       " 'Numerical Methods of Mechanical Engineers',\n",
       " 'Engineering Work Experience III',\n",
       " 'Engineering Work Experience IV',\n",
       " 'Engineering Safety and Risk Management-Leadership in Risk Management',\n",
       " 'Fluid Mechanics II',\n",
       " 'Advanced Strength of Materials II',\n",
       " 'Thermo-Fluids Systems Design',\n",
       " 'Engineering Work Experience V',\n",
       " 'Process Control for Mechanical Engineers',\n",
       " 'Feedback Control Design of Dynamic Systems',\n",
       " 'The Practice of the Engineering Profession',\n",
       " 'Mechanical Engineering Laboratory II',\n",
       " 'Vibrations and Sound',\n",
       " 'Design Project']"
      ]
     },
     "execution_count": 24,
     "metadata": {},
     "output_type": "execute_result"
    }
   ],
   "source": [
    "course_names = [title.split(\" - \")[1] for title in course_titles]\n",
    "course_names"
   ]
  },
  {
   "cell_type": "code",
   "execution_count": 25,
   "metadata": {
    "scrolled": true
   },
   "outputs": [
    {
     "data": {
      "text/plain": [
       "['CIV E 270',\n",
       " 'ENGG 299',\n",
       " 'MATH 209',\n",
       " 'MEC E 230',\n",
       " 'MEC E 260',\n",
       " 'MEC E 265',\n",
       " 'STAT 235',\n",
       " 'CH E 243',\n",
       " 'ECE 209',\n",
       " 'MAT E 202',\n",
       " 'MATH 201',\n",
       " 'MEC E 200',\n",
       " 'MEC E 250',\n",
       " 'WKEXP 901',\n",
       " 'WKEXP 902',\n",
       " 'MATH 300',\n",
       " 'MEC E 300',\n",
       " 'MEC E 301',\n",
       " 'MEC E 331',\n",
       " 'MEC E 371',\n",
       " 'MEC E 380',\n",
       " 'ENG M 310',\n",
       " 'ENG M 401',\n",
       " 'MEC E 340',\n",
       " 'MEC E 360',\n",
       " 'MEC E 362',\n",
       " 'MEC E 390',\n",
       " 'WKEXP 903',\n",
       " 'WKEXP 904',\n",
       " 'ENGG 404',\n",
       " 'MEC E 430',\n",
       " 'MEC E 480',\n",
       " 'MEC E 463',\n",
       " 'WKEXP 905',\n",
       " 'CH E 448',\n",
       " 'MEC E 420',\n",
       " 'ENGG 400',\n",
       " 'MEC E 403',\n",
       " 'MEC E 451',\n",
       " 'MEC E 460']"
      ]
     },
     "execution_count": 25,
     "metadata": {},
     "output_type": "execute_result"
    }
   ],
   "source": [
    "course_codes = [title.split(\" - \")[0] for title in course_titles]\n",
    "course_codes"
   ]
  },
  {
   "cell_type": "markdown",
   "metadata": {},
   "source": [
    "# 4. Store info in dataframe"
   ]
  },
  {
   "cell_type": "code",
   "execution_count": 26,
   "metadata": {
    "scrolled": true
   },
   "outputs": [
    {
     "data": {
      "text/html": [
       "<div>\n",
       "<style scoped>\n",
       "    .dataframe tbody tr th:only-of-type {\n",
       "        vertical-align: middle;\n",
       "    }\n",
       "\n",
       "    .dataframe tbody tr th {\n",
       "        vertical-align: top;\n",
       "    }\n",
       "\n",
       "    .dataframe thead th {\n",
       "        text-align: right;\n",
       "    }\n",
       "</style>\n",
       "<table border=\"1\" class=\"dataframe\">\n",
       "  <thead>\n",
       "    <tr style=\"text-align: right;\">\n",
       "      <th></th>\n",
       "      <th>Course Number</th>\n",
       "      <th>Course Name</th>\n",
       "      <th>Course Description</th>\n",
       "    </tr>\n",
       "  </thead>\n",
       "  <tbody>\n",
       "    <tr>\n",
       "      <th>0</th>\n",
       "      <td>CIV E 270</td>\n",
       "      <td>Mechanics of Deformable Bodies I</td>\n",
       "      <td>Plane stress and strain; stress-strain relatio...</td>\n",
       "    </tr>\n",
       "    <tr>\n",
       "      <th>1</th>\n",
       "      <td>ENGG 299</td>\n",
       "      <td>Orientation to Cooperative Education</td>\n",
       "      <td>An examination of the history, philosophy and ...</td>\n",
       "    </tr>\n",
       "    <tr>\n",
       "      <th>2</th>\n",
       "      <td>MATH 209</td>\n",
       "      <td>Calculus III</td>\n",
       "      <td>Partial differentiation, derivatives of integr...</td>\n",
       "    </tr>\n",
       "    <tr>\n",
       "      <th>3</th>\n",
       "      <td>MEC E 230</td>\n",
       "      <td>Introduction to Thermo-Fluid Sciences</td>\n",
       "      <td>Introduction to modes of heat transfer. One di...</td>\n",
       "    </tr>\n",
       "    <tr>\n",
       "      <th>4</th>\n",
       "      <td>MEC E 260</td>\n",
       "      <td>Mechanical Design I</td>\n",
       "      <td>Design morphology, analysis and design of comp...</td>\n",
       "    </tr>\n",
       "    <tr>\n",
       "      <th>5</th>\n",
       "      <td>MEC E 265</td>\n",
       "      <td>Engineering Graphics and CAD</td>\n",
       "      <td>Engineering drawing and sketching, conventiona...</td>\n",
       "    </tr>\n",
       "    <tr>\n",
       "      <th>6</th>\n",
       "      <td>STAT 235</td>\n",
       "      <td>Introductory Statistics for Engineering</td>\n",
       "      <td>Descriptive data analysis. Calculus of Probabi...</td>\n",
       "    </tr>\n",
       "    <tr>\n",
       "      <th>7</th>\n",
       "      <td>CH E 243</td>\n",
       "      <td>Engineering Thermodynamics</td>\n",
       "      <td>An introduction to the first and second laws o...</td>\n",
       "    </tr>\n",
       "    <tr>\n",
       "      <th>8</th>\n",
       "      <td>ECE 209</td>\n",
       "      <td>Fundamentals of Electrical Engineering</td>\n",
       "      <td>Physical concepts of passive circuit elements,...</td>\n",
       "    </tr>\n",
       "    <tr>\n",
       "      <th>9</th>\n",
       "      <td>MAT E 202</td>\n",
       "      <td>Materials Science II</td>\n",
       "      <td>An introduction to the science of materials re...</td>\n",
       "    </tr>\n",
       "    <tr>\n",
       "      <th>10</th>\n",
       "      <td>MATH 201</td>\n",
       "      <td>Differential Equations</td>\n",
       "      <td>First-order equations; second-order linear equ...</td>\n",
       "    </tr>\n",
       "    <tr>\n",
       "      <th>11</th>\n",
       "      <td>MEC E 200</td>\n",
       "      <td>Introduction to Mechanical Engineering</td>\n",
       "      <td>Introduction to the profession of mechanical e...</td>\n",
       "    </tr>\n",
       "    <tr>\n",
       "      <th>12</th>\n",
       "      <td>MEC E 250</td>\n",
       "      <td>Engineering Mechanics II</td>\n",
       "      <td>Moments of inertia. Kinematics and kinetics of...</td>\n",
       "    </tr>\n",
       "    <tr>\n",
       "      <th>13</th>\n",
       "      <td>WKEXP 901</td>\n",
       "      <td>Engineering Work Experience I</td>\n",
       "      <td>A four-month work placement for Engineering st...</td>\n",
       "    </tr>\n",
       "    <tr>\n",
       "      <th>14</th>\n",
       "      <td>WKEXP 902</td>\n",
       "      <td>Engineering Work Experience II</td>\n",
       "      <td>A four-month work placement for Engineering st...</td>\n",
       "    </tr>\n",
       "    <tr>\n",
       "      <th>15</th>\n",
       "      <td>MATH 300</td>\n",
       "      <td>Advanced Boundary Value Problems I</td>\n",
       "      <td>Derivation of the classical partial differenti...</td>\n",
       "    </tr>\n",
       "    <tr>\n",
       "      <th>16</th>\n",
       "      <td>MEC E 300</td>\n",
       "      <td>Mechanical Measurements</td>\n",
       "      <td>Characterization and behavior of measuring sys...</td>\n",
       "    </tr>\n",
       "    <tr>\n",
       "      <th>17</th>\n",
       "      <td>MEC E 301</td>\n",
       "      <td>Mechanical Engineering Laboratory I</td>\n",
       "      <td>Laboratory experiments in mechanical engineeri...</td>\n",
       "    </tr>\n",
       "    <tr>\n",
       "      <th>18</th>\n",
       "      <td>MEC E 331</td>\n",
       "      <td>Fluid Mechanics I</td>\n",
       "      <td>External flow, boundary layers, momentum theor...</td>\n",
       "    </tr>\n",
       "    <tr>\n",
       "      <th>19</th>\n",
       "      <td>MEC E 371</td>\n",
       "      <td>Heat Transfer</td>\n",
       "      <td>Mechanisms of heat transfer, steady and unstea...</td>\n",
       "    </tr>\n",
       "    <tr>\n",
       "      <th>20</th>\n",
       "      <td>MEC E 380</td>\n",
       "      <td>Advanced Strength of Materials I</td>\n",
       "      <td>Stress, strain, stress-strain relation, time-i...</td>\n",
       "    </tr>\n",
       "    <tr>\n",
       "      <th>21</th>\n",
       "      <td>ENG M 310</td>\n",
       "      <td>Engineering Economy</td>\n",
       "      <td>The application of the fundamentals of economi...</td>\n",
       "    </tr>\n",
       "    <tr>\n",
       "      <th>22</th>\n",
       "      <td>ENG M 401</td>\n",
       "      <td>Financial Management for Engineers</td>\n",
       "      <td>The application of the fundamentals of enginee...</td>\n",
       "    </tr>\n",
       "    <tr>\n",
       "      <th>23</th>\n",
       "      <td>MEC E 340</td>\n",
       "      <td>Applied Thermodynamics</td>\n",
       "      <td>Review of thermodynamic principles. Applicatio...</td>\n",
       "    </tr>\n",
       "    <tr>\n",
       "      <th>24</th>\n",
       "      <td>MEC E 360</td>\n",
       "      <td>Mechanical Design II</td>\n",
       "      <td>Design procedures, theories of failure, materi...</td>\n",
       "    </tr>\n",
       "    <tr>\n",
       "      <th>25</th>\n",
       "      <td>MEC E 362</td>\n",
       "      <td>Mechanics of Machines</td>\n",
       "      <td>Velocities and acceleration in plane mechanism...</td>\n",
       "    </tr>\n",
       "    <tr>\n",
       "      <th>26</th>\n",
       "      <td>MEC E 390</td>\n",
       "      <td>Numerical Methods of Mechanical Engineers</td>\n",
       "      <td>Application of numerical methods to mechanical...</td>\n",
       "    </tr>\n",
       "    <tr>\n",
       "      <th>27</th>\n",
       "      <td>WKEXP 903</td>\n",
       "      <td>Engineering Work Experience III</td>\n",
       "      <td>A four-month work placement for Engineering st...</td>\n",
       "    </tr>\n",
       "    <tr>\n",
       "      <th>28</th>\n",
       "      <td>WKEXP 904</td>\n",
       "      <td>Engineering Work Experience IV</td>\n",
       "      <td>A four-month work placement for Engineering st...</td>\n",
       "    </tr>\n",
       "    <tr>\n",
       "      <th>29</th>\n",
       "      <td>ENGG 404</td>\n",
       "      <td>Engineering Safety and Risk Management-Leaders...</td>\n",
       "      <td>Basic concepts of risk and consequences of los...</td>\n",
       "    </tr>\n",
       "    <tr>\n",
       "      <th>30</th>\n",
       "      <td>MEC E 430</td>\n",
       "      <td>Fluid Mechanics II</td>\n",
       "      <td>Navier-Stokes equations, introductory computat...</td>\n",
       "    </tr>\n",
       "    <tr>\n",
       "      <th>31</th>\n",
       "      <td>MEC E 480</td>\n",
       "      <td>Advanced Strength of Materials II</td>\n",
       "      <td>Special topics for beams, torsion, pressure ve...</td>\n",
       "    </tr>\n",
       "    <tr>\n",
       "      <th>32</th>\n",
       "      <td>MEC E 463</td>\n",
       "      <td>Thermo-Fluids Systems Design</td>\n",
       "      <td>Design and optimization of thermo-fluid system...</td>\n",
       "    </tr>\n",
       "    <tr>\n",
       "      <th>33</th>\n",
       "      <td>WKEXP 905</td>\n",
       "      <td>Engineering Work Experience V</td>\n",
       "      <td>A four-month work placement for Engineering st...</td>\n",
       "    </tr>\n",
       "    <tr>\n",
       "      <th>34</th>\n",
       "      <td>CH E 448</td>\n",
       "      <td>Process Control for Mechanical Engineers</td>\n",
       "      <td>Introduction to systems modeling and transient...</td>\n",
       "    </tr>\n",
       "    <tr>\n",
       "      <th>35</th>\n",
       "      <td>MEC E 420</td>\n",
       "      <td>Feedback Control Design of Dynamic Systems</td>\n",
       "      <td>Design of linear feedback control systems for ...</td>\n",
       "    </tr>\n",
       "    <tr>\n",
       "      <th>36</th>\n",
       "      <td>ENGG 400</td>\n",
       "      <td>The Practice of the Engineering Profession</td>\n",
       "      <td>The technical and professional duties and resp...</td>\n",
       "    </tr>\n",
       "    <tr>\n",
       "      <th>37</th>\n",
       "      <td>MEC E 403</td>\n",
       "      <td>Mechanical Engineering Laboratory II</td>\n",
       "      <td>Selected laboratory experiments in applied mec...</td>\n",
       "    </tr>\n",
       "    <tr>\n",
       "      <th>38</th>\n",
       "      <td>MEC E 451</td>\n",
       "      <td>Vibrations and Sound</td>\n",
       "      <td>Free and forced vibration of single degree of ...</td>\n",
       "    </tr>\n",
       "    <tr>\n",
       "      <th>39</th>\n",
       "      <td>MEC E 460</td>\n",
       "      <td>Design Project</td>\n",
       "      <td>Feasibility study and detailed design of a pro...</td>\n",
       "    </tr>\n",
       "  </tbody>\n",
       "</table>\n",
       "</div>"
      ],
      "text/plain": [
       "   Course Number                                        Course Name  \\\n",
       "0      CIV E 270                   Mechanics of Deformable Bodies I   \n",
       "1       ENGG 299               Orientation to Cooperative Education   \n",
       "2       MATH 209                                       Calculus III   \n",
       "3      MEC E 230              Introduction to Thermo-Fluid Sciences   \n",
       "4      MEC E 260                                Mechanical Design I   \n",
       "5      MEC E 265                       Engineering Graphics and CAD   \n",
       "6       STAT 235            Introductory Statistics for Engineering   \n",
       "7       CH E 243                         Engineering Thermodynamics   \n",
       "8        ECE 209             Fundamentals of Electrical Engineering   \n",
       "9      MAT E 202                               Materials Science II   \n",
       "10      MATH 201                             Differential Equations   \n",
       "11     MEC E 200             Introduction to Mechanical Engineering   \n",
       "12     MEC E 250                           Engineering Mechanics II   \n",
       "13     WKEXP 901                      Engineering Work Experience I   \n",
       "14     WKEXP 902                     Engineering Work Experience II   \n",
       "15      MATH 300                 Advanced Boundary Value Problems I   \n",
       "16     MEC E 300                            Mechanical Measurements   \n",
       "17     MEC E 301                Mechanical Engineering Laboratory I   \n",
       "18     MEC E 331                                  Fluid Mechanics I   \n",
       "19     MEC E 371                                      Heat Transfer   \n",
       "20     MEC E 380                   Advanced Strength of Materials I   \n",
       "21     ENG M 310                                Engineering Economy   \n",
       "22     ENG M 401                 Financial Management for Engineers   \n",
       "23     MEC E 340                             Applied Thermodynamics   \n",
       "24     MEC E 360                               Mechanical Design II   \n",
       "25     MEC E 362                              Mechanics of Machines   \n",
       "26     MEC E 390          Numerical Methods of Mechanical Engineers   \n",
       "27     WKEXP 903                    Engineering Work Experience III   \n",
       "28     WKEXP 904                     Engineering Work Experience IV   \n",
       "29      ENGG 404  Engineering Safety and Risk Management-Leaders...   \n",
       "30     MEC E 430                                 Fluid Mechanics II   \n",
       "31     MEC E 480                  Advanced Strength of Materials II   \n",
       "32     MEC E 463                       Thermo-Fluids Systems Design   \n",
       "33     WKEXP 905                      Engineering Work Experience V   \n",
       "34      CH E 448           Process Control for Mechanical Engineers   \n",
       "35     MEC E 420         Feedback Control Design of Dynamic Systems   \n",
       "36      ENGG 400         The Practice of the Engineering Profession   \n",
       "37     MEC E 403               Mechanical Engineering Laboratory II   \n",
       "38     MEC E 451                               Vibrations and Sound   \n",
       "39     MEC E 460                                     Design Project   \n",
       "\n",
       "                                   Course Description  \n",
       "0   Plane stress and strain; stress-strain relatio...  \n",
       "1   An examination of the history, philosophy and ...  \n",
       "2   Partial differentiation, derivatives of integr...  \n",
       "3   Introduction to modes of heat transfer. One di...  \n",
       "4   Design morphology, analysis and design of comp...  \n",
       "5   Engineering drawing and sketching, conventiona...  \n",
       "6   Descriptive data analysis. Calculus of Probabi...  \n",
       "7   An introduction to the first and second laws o...  \n",
       "8   Physical concepts of passive circuit elements,...  \n",
       "9   An introduction to the science of materials re...  \n",
       "10  First-order equations; second-order linear equ...  \n",
       "11  Introduction to the profession of mechanical e...  \n",
       "12  Moments of inertia. Kinematics and kinetics of...  \n",
       "13  A four-month work placement for Engineering st...  \n",
       "14  A four-month work placement for Engineering st...  \n",
       "15  Derivation of the classical partial differenti...  \n",
       "16  Characterization and behavior of measuring sys...  \n",
       "17  Laboratory experiments in mechanical engineeri...  \n",
       "18  External flow, boundary layers, momentum theor...  \n",
       "19  Mechanisms of heat transfer, steady and unstea...  \n",
       "20  Stress, strain, stress-strain relation, time-i...  \n",
       "21  The application of the fundamentals of economi...  \n",
       "22  The application of the fundamentals of enginee...  \n",
       "23  Review of thermodynamic principles. Applicatio...  \n",
       "24  Design procedures, theories of failure, materi...  \n",
       "25  Velocities and acceleration in plane mechanism...  \n",
       "26  Application of numerical methods to mechanical...  \n",
       "27  A four-month work placement for Engineering st...  \n",
       "28  A four-month work placement for Engineering st...  \n",
       "29  Basic concepts of risk and consequences of los...  \n",
       "30  Navier-Stokes equations, introductory computat...  \n",
       "31  Special topics for beams, torsion, pressure ve...  \n",
       "32  Design and optimization of thermo-fluid system...  \n",
       "33  A four-month work placement for Engineering st...  \n",
       "34  Introduction to systems modeling and transient...  \n",
       "35  Design of linear feedback control systems for ...  \n",
       "36  The technical and professional duties and resp...  \n",
       "37  Selected laboratory experiments in applied mec...  \n",
       "38  Free and forced vibration of single degree of ...  \n",
       "39  Feasibility study and detailed design of a pro...  "
      ]
     },
     "execution_count": 26,
     "metadata": {},
     "output_type": "execute_result"
    }
   ],
   "source": [
    "import pandas as pd\n",
    "\n",
    "df = pd.DataFrame({\n",
    "    \"Course Number\": course_codes,\n",
    "    \"Course Name\": course_names,\n",
    "    \"Course Description\": course_descs    \n",
    "})\n",
    "\n",
    "df"
   ]
  },
  {
   "cell_type": "markdown",
   "metadata": {},
   "source": [
    "# Scrape technical electives courses"
   ]
  },
  {
   "cell_type": "markdown",
   "metadata": {},
   "source": [
    "# 1. Collect course title links for webdriver to click on"
   ]
  },
  {
   "cell_type": "code",
   "execution_count": 37,
   "metadata": {},
   "outputs": [],
   "source": [
    "driver.get(url)"
   ]
  },
  {
   "cell_type": "code",
   "execution_count": 38,
   "metadata": {},
   "outputs": [
    {
     "data": {
      "text/plain": [
       "<div class=\"custom_leftpad_20\"><div class=\"acalog-core\"><h3><a name=\"OneProgramElectiveMustBeChosenFromTheFollowing\"></a><a id=\"core_331108\" name=\"oneprogramelectivemustbechosenfromthefollowing\"></a>One program elective must be chosen from the following:</h3><hr/><ul><li class=\"acalog-course\"><span><a aria-expanded=\"false\" href=\"#\" onclick=\"showCourse('34', '375591',this, 'a:2:{s:8:~location~;s:7:~program~;s:4:~core~;s:6:~331108~;}'); return false;\">MEC E 467 - Modelling and Simulation of Engineering Systems </a></span></li><li class=\"acalog-course\"><span><a aria-expanded=\"false\" href=\"#\" onclick=\"showCourse('34', '375592',this, 'a:2:{s:8:~location~;s:7:~program~;s:4:~core~;s:6:~331108~;}'); return false;\">MEC E 468 - Numerical Simulation in Mechanical Engineering Design </a></span></li><li class=\"acalog-course\"><span><a aria-expanded=\"false\" href=\"#\" onclick=\"showCourse('34', '375599',this, 'a:2:{s:8:~location~;s:7:~program~;s:4:~core~;s:6:~331108~;}'); return false;\">MEC E 539 - Applied Computational Fluid Dynamics </a></span></li><li class=\"acalog-course\"><span><a aria-expanded=\"false\" href=\"#\" onclick=\"showCourse('34', '375602',this, 'a:2:{s:8:~location~;s:7:~program~;s:4:~core~;s:6:~331108~;}'); return false;\">MEC E 563 - Finite Element Method for Mechanical Engineering </a></span></li></ul></div><div class=\"acalog-core\"><h3><a name=\"TheRemainingThreeProgramElectivesMustBeChosenFromTheFollowing\"></a><a id=\"core_331109\" name=\"theremainingthreeprogramelectivesmustbechosenfromthefollowing\"></a>The remaining three program electives must be chosen from the following:</h3><hr/><ul><li class=\"acalog-course\"><span><a aria-expanded=\"false\" href=\"#\" onclick=\"showCourse('34', '370979',this, 'a:2:{s:8:~location~;s:7:~program~;s:4:~core~;s:6:~331109~;}'); return false;\">ACCTG 300 - Introduction to Accounting </a></span></li><li class=\"acalog-course\"><span><a aria-expanded=\"false\" href=\"#\" onclick=\"showCourse('34', '370980',this, 'a:2:{s:8:~location~;s:7:~program~;s:4:~core~;s:6:~331109~;}'); return false;\">ACCTG 311 - Introduction to Accounting for Financial Performance </a></span></li><li class=\"acalog-course\"><span><a aria-expanded=\"false\" href=\"#\" onclick=\"showCourse('34', '372479',this, 'a:2:{s:8:~location~;s:7:~program~;s:4:~core~;s:6:~331109~;}'); return false;\">B LAW 301 - Legal Foundations of the Canadian Economy </a></span></li><li class=\"acalog-course\"><span><a aria-expanded=\"false\" href=\"#\" onclick=\"showCourse('34', '372482',this, 'a:2:{s:8:~location~;s:7:~program~;s:4:~core~;s:6:~331109~;}'); return false;\">B LAW 422 - Law of Business Organizations </a></span></li><li class=\"acalog-course\"><span><a aria-expanded=\"false\" href=\"#\" onclick=\"showCourse('34', '372486',this, 'a:2:{s:8:~location~;s:7:~program~;s:4:~core~;s:6:~331109~;}'); return false;\">B LAW 444 - International Business Transactions </a></span></li><li class=\"acalog-course\"><span><a aria-expanded=\"false\" href=\"#\" onclick=\"showCourse('34', '372281',this, 'a:2:{s:8:~location~;s:7:~program~;s:4:~core~;s:6:~331109~;}'); return false;\">BIOCH 200 - Introductory Biochemistry </a></span></li><li class=\"acalog-course\"><span><a aria-expanded=\"false\" href=\"#\" onclick=\"showCourse('34', '372338',this, 'a:2:{s:8:~location~;s:7:~program~;s:4:~core~;s:6:~331109~;}'); return false;\">BIOL 107 - Introduction to Cell Biology </a></span></li><li class=\"acalog-course\"><span><a aria-expanded=\"false\" href=\"#\" onclick=\"showCourse('34', '372339',this, 'a:2:{s:8:~location~;s:7:~program~;s:4:~core~;s:6:~331109~;}'); return false;\">BIOL 108 - Introduction to Biological Diversity </a></span></li><li class=\"acalog-course\"><span><a aria-expanded=\"false\" href=\"#\" onclick=\"showCourse('34', '372341',this, 'a:2:{s:8:~location~;s:7:~program~;s:4:~core~;s:6:~331109~;}'); return false;\">BIOL 207 - Molecular Genetics and Heredity </a></span></li><li class=\"acalog-course\"><span><a aria-expanded=\"false\" href=\"#\" onclick=\"showCourse('34', '372397',this, 'a:2:{s:8:~location~;s:7:~program~;s:4:~core~;s:6:~331109~;}'); return false;\">BME 320 - Human Anatomy and Physiology: Cells and Tissue </a></span></li><li class=\"acalog-course\"><span><a aria-expanded=\"false\" href=\"#\" onclick=\"showCourse('34', '372398',this, 'a:2:{s:8:~location~;s:7:~program~;s:4:~core~;s:6:~331109~;}'); return false;\">BME 321 - Human Anatomy and Physiology: Systems </a></span></li><li class=\"acalog-adhoc-list-item acalog-adhoc-after\"><span style=\"background-color:rgb(246,246,246);color:rgb(61,74,67);float:none;font-family:sans-serif;font-size:16px;font-style:normal;font-weight:400;text-align:left;text-indent:0px;\">BME 410</span></li><li class=\"acalog-course\"><span><a aria-expanded=\"false\" href=\"#\" onclick=\"showCourse('34', '372401',this, 'a:2:{s:8:~location~;s:7:~program~;s:4:~core~;s:6:~331109~;}'); return false;\">BME 513 - Imaging Methods in Medicine </a></span></li><li class=\"acalog-course\"><span><a aria-expanded=\"false\" href=\"#\" onclick=\"showCourse('34', '372404',this, 'a:2:{s:8:~location~;s:7:~program~;s:4:~core~;s:6:~331109~;}'); return false;\">BME 553 - Rehabilitation Engineering: Assisted Movement After Injury </a></span></li><li class=\"acalog-course\"><span><a aria-expanded=\"false\" href=\"#\" onclick=\"showCourse('34', '372405',this, 'a:2:{s:8:~location~;s:7:~program~;s:4:~core~;s:6:~331109~;}'); return false;\">BME 564 - Fundamentals of Magnetic Resonance Imaging, MRI </a></span></li><li class=\"acalog-course\"><span><a aria-expanded=\"false\" href=\"#\" onclick=\"showCourse('34', '372557',this, 'a:2:{s:8:~location~;s:7:~program~;s:4:~core~;s:6:~331109~;}'); return false;\">CH E 582 - Introduction to Biomaterials </a></span></li><li class=\"acalog-course\"><span><a aria-expanded=\"false\" href=\"#\" onclick=\"showCourse('34', '372584',this, 'a:2:{s:8:~location~;s:7:~program~;s:4:~core~;s:6:~331109~;}'); return false;\">CHEM 261 - Organic Chemistry I </a></span></li><li class=\"acalog-course\"><span><a aria-expanded=\"false\" href=\"#\" onclick=\"showCourse('34', '372585',this, 'a:2:{s:8:~location~;s:7:~program~;s:4:~core~;s:6:~331109~;}'); return false;\">CHEM 263 - Organic Chemistry II </a></span></li><li class=\"acalog-course\"><span><a aria-expanded=\"false\" href=\"#\" onclick=\"showCourse('34', '373984',this, 'a:2:{s:8:~location~;s:7:~program~;s:4:~core~;s:6:~331109~;}'); return false;\">ECE 405 - Biophysical Measurement and Instrumentation </a></span></li><li class=\"acalog-course\"><span><a aria-expanded=\"false\" href=\"#\" onclick=\"showCourse('34', '373999',this, 'a:2:{s:8:~location~;s:7:~program~;s:4:~core~;s:6:~331109~;}'); return false;\">ECE 440 - Digital Computer Processing of Images </a></span></li><li class=\"acalog-course\"><span><a aria-expanded=\"false\" href=\"#\" onclick=\"showCourse('34', '374001',this, 'a:2:{s:8:~location~;s:7:~program~;s:4:~core~;s:6:~331109~;}'); return false;\">ECE 449 - Intelligent Systems Engineering </a></span></li><li class=\"acalog-course\"><span><a aria-expanded=\"false\" href=\"#\" onclick=\"showCourse('34', '374128',this, 'a:2:{s:8:~location~;s:7:~program~;s:4:~core~;s:6:~331109~;}'); return false;\">ENGG 406 - Engineering Safety and Risk Management - Methodologies and Tools </a></span></li><li class=\"acalog-course\"><span><a aria-expanded=\"false\" href=\"#\" onclick=\"showCourse('34', '374129',this, 'a:2:{s:8:~location~;s:7:~program~;s:4:~core~;s:6:~331109~;}'); return false;\">ENGG 420 - Engineering Law </a></span></li><li class=\"acalog-course\"><span><a aria-expanded=\"false\" href=\"#\" onclick=\"showCourse('34', '374095',this, 'a:2:{s:8:~location~;s:7:~program~;s:4:~core~;s:6:~331109~;}'); return false;\">ENG M 402 - Project Management and Entrepreneurship </a></span></li><li class=\"acalog-adhoc-list-item acalog-adhoc-after\"><span style=\"background-color:rgb(246,246,246);color:rgb(61,74,67);float:none;font-family:sans-serif;font-size:16px;font-style:normal;font-weight:400;text-align:left;text-indent:0px;\">ENG M 406</span></li><li class=\"acalog-course\"><span><a aria-expanded=\"false\" href=\"#\" onclick=\"showCourse('34', '374098',this, 'a:2:{s:8:~location~;s:7:~program~;s:4:~core~;s:6:~331109~;}'); return false;\">ENG M 408 - Manufacturing Systems and Engineering </a></span></li><li class=\"acalog-course\"><span><a aria-expanded=\"false\" href=\"#\" onclick=\"showCourse('34', '374099',this, 'a:2:{s:8:~location~;s:7:~program~;s:4:~core~;s:6:~331109~;}'); return false;\">ENG M 501 - Production and Operations Management </a></span></li><li class=\"acalog-course\"><span><a aria-expanded=\"false\" href=\"#\" onclick=\"showCourse('34', '374100',this, 'a:2:{s:8:~location~;s:7:~program~;s:4:~core~;s:6:~331109~;}'); return false;\">ENG M 508 - Energy Auditing and Management </a></span></li><li class=\"acalog-adhoc-list-item acalog-adhoc-after\"><span style=\"background-color:rgb(246,246,246);color:rgb(61,74,67);float:none;font-family:sans-serif;font-size:16px;font-style:normal;font-weight:400;text-align:left;text-indent:0px;\">ENG M 510</span></li><li class=\"acalog-course\"><span><a aria-expanded=\"false\" href=\"#\" onclick=\"showCourse('34', '374101',this, 'a:2:{s:8:~location~;s:7:~program~;s:4:~core~;s:6:~331109~;}'); return false;\">ENG M 514 - Reliability Engineering </a></span></li><li class=\"acalog-course\"><span><a aria-expanded=\"false\" href=\"#\" onclick=\"showCourse('34', '374102',this, 'a:2:{s:8:~location~;s:7:~program~;s:4:~core~;s:6:~331109~;}'); return false;\">ENG M 516 - Maintenance Management </a></span></li><li class=\"acalog-course\"><span><a aria-expanded=\"false\" href=\"#\" onclick=\"showCourse('34', '374103',this, 'a:2:{s:8:~location~;s:7:~program~;s:4:~core~;s:6:~331109~;}'); return false;\">ENG M 530 - Engineering Project Management </a></span></li><li class=\"acalog-course\"><span><a aria-expanded=\"false\" href=\"#\" onclick=\"showCourse('34', '374104',this, 'a:2:{s:8:~location~;s:7:~program~;s:4:~core~;s:6:~331109~;}'); return false;\">ENG M 540 - Introduction to Optimization Models and Algorithms </a></span></li><li class=\"acalog-course\"><span><a aria-expanded=\"false\" href=\"#\" onclick=\"showCourse('34', '374105',this, 'a:2:{s:8:~location~;s:7:~program~;s:4:~core~;s:6:~331109~;}'); return false;\">ENG M 558 - Ergonomics and Work Design </a></span></li><li class=\"acalog-course\"><span><a aria-expanded=\"false\" href=\"#\" onclick=\"showCourse('34', '374361',this, 'a:2:{s:8:~location~;s:7:~program~;s:4:~core~;s:6:~331109~;}'); return false;\">FIN 301 - Introduction to Finance </a></span></li><li class=\"acalog-course\"><span><a aria-expanded=\"false\" href=\"#\" onclick=\"showCourse('34', '375313',this, 'a:2:{s:8:~location~;s:7:~program~;s:4:~core~;s:6:~331109~;}'); return false;\">MARK 301 - Introduction to Marketing </a></span></li><li class=\"acalog-course\"><span><a aria-expanded=\"false\" href=\"#\" onclick=\"showCourse('34', '375419',this, 'a:2:{s:8:~location~;s:7:~program~;s:4:~core~;s:6:~331109~;}'); return false;\">MATH 225 - Linear Algebra II </a></span></li><li class=\"acalog-course\"><span><a aria-expanded=\"false\" href=\"#\" onclick=\"showCourse('34', '375428',this, 'a:2:{s:8:~location~;s:7:~program~;s:4:~core~;s:6:~331109~;}'); return false;\">MATH 311 - Theory of Functions of a Complex Variable </a></span></li><li class=\"acalog-course\"><span><a aria-expanded=\"false\" href=\"#\" onclick=\"showCourse('34', '375367',this, 'a:2:{s:8:~location~;s:7:~program~;s:4:~core~;s:6:~331109~;}'); return false;\">MAT E 345 - Corrosion, Oxidation, and Degradation </a></span></li><li class=\"acalog-course\"><span><a aria-expanded=\"false\" href=\"#\" onclick=\"showCourse('34', '375374',this, 'a:2:{s:8:~location~;s:7:~program~;s:4:~core~;s:6:~331109~;}'); return false;\">MAT E 466 - Special Topics in Materials Engineering </a></span></li><li class=\"acalog-course\"><span><a aria-expanded=\"false\" href=\"#\" onclick=\"showCourse('34', '375381',this, 'a:2:{s:8:~location~;s:7:~program~;s:4:~core~;s:6:~331109~;}'); return false;\">MAT E 495 - Nanomaterials and Biomedical Applications </a></span></li><li class=\"acalog-course\"><span><a aria-expanded=\"false\" href=\"#\" onclick=\"showCourse('34', '375572',this, 'a:2:{s:8:~location~;s:7:~program~;s:4:~core~;s:6:~331109~;}'); return false;\">MEC E 364 - Manufacturing Processes </a></span></li><li class=\"acalog-course\"><span><a aria-expanded=\"false\" href=\"#\" onclick=\"showCourse('34', '375578',this, 'a:2:{s:8:~location~;s:7:~program~;s:4:~core~;s:6:~331109~;}'); return false;\">MEC E 409 - Experimental Design Project I </a></span></li><li class=\"acalog-course\"><span><a aria-expanded=\"false\" href=\"#\" onclick=\"showCourse('34', '375579',this, 'a:2:{s:8:~location~;s:7:~program~;s:4:~core~;s:6:~331109~;}'); return false;\">MEC E 415 - Busting Myths with Analysis </a></span></li><li class=\"acalog-course\"><span><a aria-expanded=\"false\" href=\"#\" onclick=\"showCourse('34', '375581',this, 'a:2:{s:8:~location~;s:7:~program~;s:4:~core~;s:6:~331109~;}'); return false;\">MEC E 430 - Fluid Mechanics II </a></span></li><li class=\"acalog-adhoc-list-item acalog-adhoc-after\"><span style=\"background-color:rgb(246,246,246);color:rgb(61,74,67);float:none;font-family:sans-serif;font-size:16px;font-style:normal;font-weight:400;text-align:left;text-indent:0px;\">MEC E 439</span></li><li class=\"acalog-course\"><span><a aria-expanded=\"false\" href=\"#\" onclick=\"showCourse('34', '375583',this, 'a:2:{s:8:~location~;s:7:~program~;s:4:~core~;s:6:~331109~;}'); return false;\">MEC E 443 - Energy Conversion </a></span></li><li class=\"acalog-adhoc-list-item acalog-adhoc-after\"><span style=\"background-color:rgb(246,246,246);color:rgb(61,74,67);float:none;font-family:sans-serif;font-size:16px;font-style:normal;font-weight:400;text-align:left;text-indent:0px;\">MEC E 453</span></li><li class=\"acalog-course\"><span><a aria-expanded=\"false\" href=\"#\" onclick=\"showCourse('34', '375589',this, 'a:2:{s:8:~location~;s:7:~program~;s:4:~core~;s:6:~331109~;}'); return false;\">MEC E 464 - Design for Manufacture </a></span></li><li class=\"acalog-course\"><span><a aria-expanded=\"false\" href=\"#\" onclick=\"showCourse('34', '375590',this, 'a:2:{s:8:~location~;s:7:~program~;s:4:~core~;s:6:~331109~;}'); return false;\">MEC E 466 - Building Systems Design </a></span></li><li class=\"acalog-course\"><span><a aria-expanded=\"false\" href=\"#\" onclick=\"showCourse('34', '375591',this, 'a:2:{s:8:~location~;s:7:~program~;s:4:~core~;s:6:~331109~;}'); return false;\">MEC E 467 - Modelling and Simulation of Engineering Systems </a></span></li><li class=\"acalog-course\"><span><a aria-expanded=\"false\" href=\"#\" onclick=\"showCourse('34', '375592',this, 'a:2:{s:8:~location~;s:7:~program~;s:4:~core~;s:6:~331109~;}'); return false;\">MEC E 468 - Numerical Simulation in Mechanical Engineering Design </a></span></li><li class=\"acalog-course\"><span><a aria-expanded=\"false\" href=\"#\" onclick=\"showCourse('34', '375593',this, 'a:2:{s:8:~location~;s:7:~program~;s:4:~core~;s:6:~331109~;}'); return false;\">MEC E 469 - Experimental Design Project II </a></span></li><li class=\"acalog-course\"><span><a aria-expanded=\"false\" href=\"#\" onclick=\"showCourse('34', '375594',this, 'a:2:{s:8:~location~;s:7:~program~;s:4:~core~;s:6:~331109~;}'); return false;\">MEC E 480 - Advanced Strength of Materials II </a></span></li><li class=\"acalog-course\"><span><a aria-expanded=\"false\" href=\"#\" onclick=\"showCourse('34', '375595',this, 'a:2:{s:8:~location~;s:7:~program~;s:4:~core~;s:6:~331109~;}'); return false;\">MEC E 485 - Biomechanical Modelling of Human Tissues and Systems </a></span></li><li class=\"acalog-adhoc acalog-adhoc-after\" style=\"list-style: none;\"><p> </p></li><li class=\"acalog-course\"><span><a aria-expanded=\"false\" href=\"#\" onclick=\"showCourse('34', '375596',this, 'a:2:{s:8:~location~;s:7:~program~;s:4:~core~;s:6:~331109~;}'); return false;\">MEC E 494 - Introduction to Research </a> <strong>AND</strong></span></li><li class=\"acalog-course\"><span><a aria-expanded=\"false\" href=\"#\" onclick=\"showCourse('34', '375597',this, 'a:2:{s:8:~location~;s:7:~program~;s:4:~core~;s:6:~331109~;}'); return false;\">MEC E 495 - Research Project </a></span></li><li class=\"acalog-adhoc acalog-adhoc-after\" style=\"list-style: none;\"><p> </p></li><li class=\"acalog-course\"><span><a aria-expanded=\"false\" href=\"#\" onclick=\"showCourse('34', '375598',this, 'a:2:{s:8:~location~;s:7:~program~;s:4:~core~;s:6:~331109~;}'); return false;\">MEC E 537 - Aerodynamics </a></span></li><li class=\"acalog-course\"><span><a aria-expanded=\"false\" href=\"#\" onclick=\"showCourse('34', '375599',this, 'a:2:{s:8:~location~;s:7:~program~;s:4:~core~;s:6:~331109~;}'); return false;\">MEC E 539 - Applied Computational Fluid Dynamics </a></span></li><li class=\"acalog-course\"><span><a aria-expanded=\"false\" href=\"#\" onclick=\"showCourse('34', '375600',this, 'a:2:{s:8:~location~;s:7:~program~;s:4:~core~;s:6:~331109~;}'); return false;\">MEC E 541 - Combustion Engines </a></span></li><li class=\"acalog-adhoc-list-item acalog-adhoc-after\"><span style=\"background-color:rgb(246,246,246);color:rgb(61,74,67);float:none;font-family:sans-serif;font-size:16px;font-style:normal;font-weight:400;text-align:left;text-indent:0px;\">MEC E 551</span></li><li class=\"acalog-course\"><span><a aria-expanded=\"false\" href=\"#\" onclick=\"showCourse('34', '375602',this, 'a:2:{s:8:~location~;s:7:~program~;s:4:~core~;s:6:~331109~;}'); return false;\">MEC E 563 - Finite Element Method for Mechanical Engineering </a></span></li><li class=\"acalog-adhoc-list-item acalog-adhoc-after\"><span style=\"background-color:rgb(246,246,246);color:rgb(61,74,67);float:none;font-family:sans-serif;font-size:16px;font-style:normal;font-weight:400;text-align:left;text-indent:0px;\">MEC E 564</span></li><li class=\"acalog-course\"><span><a aria-expanded=\"false\" href=\"#\" onclick=\"showCourse('34', '376354',this, 'a:2:{s:8:~location~;s:7:~program~;s:4:~core~;s:6:~331109~;}'); return false;\">OM 352 - Operations Management </a></span></li><li class=\"acalog-course\"><span><a aria-expanded=\"false\" href=\"#\" onclick=\"showCourse('34', '376409',this, 'a:2:{s:8:~location~;s:7:~program~;s:4:~core~;s:6:~331109~;}'); return false;\">PET E 275 - Petroleum Reservoir Fluids </a></span></li><li class=\"acalog-course\"><span><a aria-expanded=\"false\" href=\"#\" onclick=\"showCourse('34', '376410',this, 'a:2:{s:8:~location~;s:7:~program~;s:4:~core~;s:6:~331109~;}'); return false;\">PET E 364 - Drilling Engineering </a></span></li><li class=\"acalog-course\"><span><a aria-expanded=\"false\" href=\"#\" onclick=\"showCourse('34', '376411',this, 'a:2:{s:8:~location~;s:7:~program~;s:4:~core~;s:6:~331109~;}'); return false;\">PET E 365 - Well Logging and Formation Evaluation </a></span></li><li class=\"acalog-course\"><span><a aria-expanded=\"false\" href=\"#\" onclick=\"showCourse('34', '376412',this, 'a:2:{s:8:~location~;s:7:~program~;s:4:~core~;s:6:~331109~;}'); return false;\">PET E 366 - Petroleum Production Operations </a></span></li><li class=\"acalog-course\"><span><a aria-expanded=\"false\" href=\"#\" onclick=\"showCourse('34', '376414',this, 'a:2:{s:8:~location~;s:7:~program~;s:4:~core~;s:6:~331109~;}'); return false;\">PET E 444 - Natural Gas Engineering </a></span></li><li class=\"acalog-course\"><span><a aria-expanded=\"false\" href=\"#\" onclick=\"showCourse('34', '376822',this, 'a:2:{s:8:~location~;s:7:~program~;s:4:~core~;s:6:~331109~;}'); return false;\">PHYS 230 - Electricity and Magnetism </a></span></li><li class=\"acalog-course\"><span><a aria-expanded=\"false\" href=\"#\" onclick=\"showCourse('34', '377750',this, 'a:2:{s:8:~location~;s:7:~program~;s:4:~core~;s:6:~331109~;}'); return false;\">SEM 301 - Behavior in Organizations </a></span></li><li class=\"acalog-course\"><span><a aria-expanded=\"false\" href=\"#\" onclick=\"showCourse('34', '377753',this, 'a:2:{s:8:~location~;s:7:~program~;s:4:~core~;s:6:~331109~;}'); return false;\">SEM 321 - Introduction to Strategic Management and Organization Design </a></span></li></ul></div><div class=\"custom_leftpad_20\"><div class=\"acalog-core\"><h4><a name=\"Notes\"></a><a id=\"core_331110\" name=\"notes\"></a>Notes</h4><hr/><p>Other courses, including graduate-level ENG M and MEC E courses, may be taken with Department approval. Program elective courses (including transfer courses) must be at 300-level or above unless cleared in  advance by the Department or specified for particular streams.</p>\n",
       "<p>Note that some courses have prerequisites that must be satisfied.</p>\n",
       "</div></div><div class=\"acalog-core\"><h3><a name=\"BiomedicalEngineeringElectiveStream\"></a><a id=\"core_331111\" name=\"biomedicalengineeringelectivestream\"></a>Biomedical Engineering Elective Stream</h3><hr/><p>Students wishing to specialize in the area of biomedical engineering should choose their three program electives from the following courses:</p>\n",
       "<ul><li class=\"acalog-course\"><span><a aria-expanded=\"false\" href=\"#\" onclick=\"showCourse('34', '372397',this, 'a:2:{s:8:~location~;s:7:~program~;s:4:~core~;s:6:~331111~;}'); return false;\">BME 320 - Human Anatomy and Physiology: Cells and Tissue </a></span></li><li class=\"acalog-course\"><span><a aria-expanded=\"false\" href=\"#\" onclick=\"showCourse('34', '372398',this, 'a:2:{s:8:~location~;s:7:~program~;s:4:~core~;s:6:~331111~;}'); return false;\">BME 321 - Human Anatomy and Physiology: Systems </a></span></li><li class=\"acalog-course\"><span><a aria-expanded=\"false\" href=\"#\" onclick=\"showCourse('34', '372401',this, 'a:2:{s:8:~location~;s:7:~program~;s:4:~core~;s:6:~331111~;}'); return false;\">BME 513 - Imaging Methods in Medicine </a></span></li><li class=\"acalog-course\"><span><a aria-expanded=\"false\" href=\"#\" onclick=\"showCourse('34', '372404',this, 'a:2:{s:8:~location~;s:7:~program~;s:4:~core~;s:6:~331111~;}'); return false;\">BME 553 - Rehabilitation Engineering: Assisted Movement After Injury </a></span></li><li class=\"acalog-adhoc-list-item acalog-adhoc-after\"><span style=\"background-color:rgb(246,246,246);color:rgb(61,74,67);float:none;font-family:sans-serif;font-size:16px;font-style:normal;font-weight:400;text-align:left;text-indent:0px;\">BME 583</span></li><li class=\"acalog-course\"><span><a aria-expanded=\"false\" href=\"#\" onclick=\"showCourse('34', '373984',this, 'a:2:{s:8:~location~;s:7:~program~;s:4:~core~;s:6:~331111~;}'); return false;\">ECE 405 - Biophysical Measurement and Instrumentation </a></span></li><li class=\"acalog-course\"><span><a aria-expanded=\"false\" href=\"#\" onclick=\"showCourse('34', '373999',this, 'a:2:{s:8:~location~;s:7:~program~;s:4:~core~;s:6:~331111~;}'); return false;\">ECE 440 - Digital Computer Processing of Images </a></span></li><li class=\"acalog-course\"><span><a aria-expanded=\"false\" href=\"#\" onclick=\"showCourse('34', '375578',this, 'a:2:{s:8:~location~;s:7:~program~;s:4:~core~;s:6:~331111~;}'); return false;\">MEC E 409 - Experimental Design Project I </a></span></li><li class=\"acalog-course\"><span><a aria-expanded=\"false\" href=\"#\" onclick=\"showCourse('34', '375593',this, 'a:2:{s:8:~location~;s:7:~program~;s:4:~core~;s:6:~331111~;}'); return false;\">MEC E 469 - Experimental Design Project II </a></span></li><li class=\"acalog-course\"><span><a aria-expanded=\"false\" href=\"#\" onclick=\"showCourse('34', '375595',this, 'a:2:{s:8:~location~;s:7:~program~;s:4:~core~;s:6:~331111~;}'); return false;\">MEC E 485 - Biomechanical Modelling of Human Tissues and Systems </a></span></li></ul></div><div class=\"custom_leftpad_20\"><div class=\"acalog-core\"><h4><a name=\"Note\"></a><a id=\"core_331112\" name=\"note\"></a>Note:</h4><hr/><p>In particular, BME 320, BME 321, and MEC E 485 are especially recommended.</p>\n",
       "<p>Some of these courses may not be offered every year. See department for details.</p>\n",
       "</div></div><div class=\"acalog-core\"><h3><a name=\"BusinessAndManagementElectiveStream\"></a><a id=\"core_331113\" name=\"businessandmanagementelectivestream\"></a>Business and Management Elective Stream</h3><hr/><p>Students wishing to obtain an introduction to business and management principles should take <a href=\"#tt3036\" id=\"tt3036\" onclick=\"acalogPopup('preview_course.php?catoid=34&amp;coid=374094&amp;print', '3', 770, 530, 'yes');return false;\" rel=\"remote /ajax/preview_course.php?catoid=34&amp;coid=374094&amp;display_options[location]=tooltip&amp;show\" target=\"_blank\">ENG M 401</a><span style=\"display: none !important\"> </span> instead of ENG M 310, ENG M 405 as their ITS elective, and <a href=\"#tt2418\" id=\"tt2418\" onclick=\"acalogPopup('preview_course.php?catoid=34&amp;coid=373460&amp;print', '3', 770, 530, 'yes');return false;\" rel=\"remote /ajax/preview_course.php?catoid=34&amp;coid=373460&amp;display_options[location]=tooltip&amp;show\" target=\"_blank\">ECON 204</a><span style=\"display: none !important\"> </span> as their complementary studies elective in Term 8. In addition, they can choose their program electives from the following:</p>\n",
       "</div><div class=\"custom_leftpad_20\"><div class=\"acalog-core\"><h4><a name=\"WithinTheFacultyOfEngineering\"></a><a id=\"core_331114\" name=\"withinthefacultyofengineering\"></a>Within the Faculty of Engineering:</h4><hr/><ul><li class=\"acalog-course\"><span><a aria-expanded=\"false\" href=\"#\" onclick=\"showCourse('34', '374129',this, 'a:2:{s:8:~location~;s:7:~program~;s:4:~core~;s:6:~331114~;}'); return false;\">ENGG 420 - Engineering Law </a></span></li><li class=\"acalog-course\"><span><a aria-expanded=\"false\" href=\"#\" onclick=\"showCourse('34', '374095',this, 'a:2:{s:8:~location~;s:7:~program~;s:4:~core~;s:6:~331114~;}'); return false;\">ENG M 402 - Project Management and Entrepreneurship </a></span></li><li class=\"acalog-course\"><span><a aria-expanded=\"false\" href=\"#\" onclick=\"showCourse('34', '374099',this, 'a:2:{s:8:~location~;s:7:~program~;s:4:~core~;s:6:~331114~;}'); return false;\">ENG M 501 - Production and Operations Management </a></span></li><li class=\"acalog-course\"><span><a aria-expanded=\"false\" href=\"#\" onclick=\"showCourse('34', '374100',this, 'a:2:{s:8:~location~;s:7:~program~;s:4:~core~;s:6:~331114~;}'); return false;\">ENG M 508 - Energy Auditing and Management </a></span></li><li class=\"acalog-course\"><span><a aria-expanded=\"false\" href=\"#\" onclick=\"showCourse('34', '374102',this, 'a:2:{s:8:~location~;s:7:~program~;s:4:~core~;s:6:~331114~;}'); return false;\">ENG M 516 - Maintenance Management </a></span></li><li class=\"acalog-course\"><span><a aria-expanded=\"false\" href=\"#\" onclick=\"showCourse('34', '374103',this, 'a:2:{s:8:~location~;s:7:~program~;s:4:~core~;s:6:~331114~;}'); return false;\">ENG M 530 - Engineering Project Management </a></span></li><li class=\"acalog-course\"><span><a aria-expanded=\"false\" href=\"#\" onclick=\"showCourse('34', '374104',this, 'a:2:{s:8:~location~;s:7:~program~;s:4:~core~;s:6:~331114~;}'); return false;\">ENG M 540 - Introduction to Optimization Models and Algorithms </a></span></li><li class=\"acalog-course\"><span><a aria-expanded=\"false\" href=\"#\" onclick=\"showCourse('34', '374105',this, 'a:2:{s:8:~location~;s:7:~program~;s:4:~core~;s:6:~331114~;}'); return false;\">ENG M 558 - Ergonomics and Work Design </a></span></li><li class=\"acalog-course\"><span><a aria-expanded=\"false\" href=\"#\" onclick=\"showCourse('34', '375591',this, 'a:2:{s:8:~location~;s:7:~program~;s:4:~core~;s:6:~331114~;}'); return false;\">MEC E 467 - Modelling and Simulation of Engineering Systems </a></span></li></ul></div><div class=\"custom_leftpad_20\"><div class=\"acalog-core\"><h5><a name=\"Note\"></a><a id=\"core_331115\" name=\"note\"></a>Note:</h5><hr/><p>Note that some of these courses may not be offered every year. See department for details.</p>\n",
       "</div></div><div class=\"acalog-core\"><h4><a name=\"WithinTheFacultyOfBusiness\"></a><a id=\"core_331116\" name=\"withinthefacultyofbusiness\"></a>Within the Faculty of Business:</h4><hr/><ul><li class=\"acalog-course\"><span><a aria-expanded=\"false\" href=\"#\" onclick=\"showCourse('34', '370979',this, 'a:2:{s:8:~location~;s:7:~program~;s:4:~core~;s:6:~331116~;}'); return false;\">ACCTG 300 - Introduction to Accounting </a></span></li><li class=\"acalog-course\"><span><a aria-expanded=\"false\" href=\"#\" onclick=\"showCourse('34', '372479',this, 'a:2:{s:8:~location~;s:7:~program~;s:4:~core~;s:6:~331116~;}'); return false;\">B LAW 301 - Legal Foundations of the Canadian Economy </a></span></li><li class=\"acalog-course\"><span><a aria-expanded=\"false\" href=\"#\" onclick=\"showCourse('34', '374361',this, 'a:2:{s:8:~location~;s:7:~program~;s:4:~core~;s:6:~331116~;}'); return false;\">FIN 301 - Introduction to Finance </a></span></li><li class=\"acalog-course\"><span><a aria-expanded=\"false\" href=\"#\" onclick=\"showCourse('34', '375313',this, 'a:2:{s:8:~location~;s:7:~program~;s:4:~core~;s:6:~331116~;}'); return false;\">MARK 301 - Introduction to Marketing </a></span></li><li class=\"acalog-course\"><span><a aria-expanded=\"false\" href=\"#\" onclick=\"showCourse('34', '376354',this, 'a:2:{s:8:~location~;s:7:~program~;s:4:~core~;s:6:~331116~;}'); return false;\">OM 352 - Operations Management </a></span></li><li class=\"acalog-course\"><span><a aria-expanded=\"false\" href=\"#\" onclick=\"showCourse('34', '377750',this, 'a:2:{s:8:~location~;s:7:~program~;s:4:~core~;s:6:~331116~;}'); return false;\">SEM 301 - Behavior in Organizations </a></span></li><li class=\"acalog-course\"><span><a aria-expanded=\"false\" href=\"#\" onclick=\"showCourse('34', '377753',this, 'a:2:{s:8:~location~;s:7:~program~;s:4:~core~;s:6:~331116~;}'); return false;\">SEM 321 - Introduction to Strategic Management and Organization Design </a></span></li></ul></div><div class=\"custom_leftpad_20\"><div class=\"acalog-core\"><h5><a name=\"Notes\"></a><a id=\"core_331117\" name=\"notes\"></a>Notes</h5><hr/><p>Note that admission to FIN 301, MARK 301, SMO 301, SMO 321 is preferentially reserved for students within that Faculty, and is available to engineering students only on a space-available basis.</p>\n",
       "<p>Credit will only be given for one of E E 404 and ENG M 515, and for one of CIV E 592 and OM 352.</p>\n",
       "<p>Specific selection of electives should reflect the student's specific interests and needs.</p>\n",
       "</div></div></div><div class=\"acalog-core\"><h3><a name=\"AerospaceEngineeringElectiveStream\"></a><a id=\"core_331118\" name=\"aerospaceengineeringelectivestream\"></a>Aerospace Engineering Elective Stream</h3><hr/><p>Students wishing to specialize in the area of aerospace engineering should choose their three program electives from the following courses:</p>\n",
       "<ul><li class=\"acalog-course\"><span><a aria-expanded=\"false\" href=\"#\" onclick=\"showCourse('34', '374101',this, 'a:2:{s:8:~location~;s:7:~program~;s:4:~core~;s:6:~331118~;}'); return false;\">ENG M 514 - Reliability Engineering </a></span></li><li class=\"acalog-course\"><span><a aria-expanded=\"false\" href=\"#\" onclick=\"showCourse('34', '375580',this, 'a:2:{s:8:~location~;s:7:~program~;s:4:~core~;s:6:~331118~;}'); return false;\">MEC E 420 - Feedback Control Design of Dynamic Systems </a></span></li><li class=\"acalog-course\"><span><a aria-expanded=\"false\" href=\"#\" onclick=\"showCourse('34', '375598',this, 'a:2:{s:8:~location~;s:7:~program~;s:4:~core~;s:6:~331118~;}'); return false;\">MEC E 537 - Aerodynamics </a></span></li><li class=\"acalog-course\"><span><a aria-expanded=\"false\" href=\"#\" onclick=\"showCourse('34', '375599',this, 'a:2:{s:8:~location~;s:7:~program~;s:4:~core~;s:6:~331118~;}'); return false;\">MEC E 539 - Applied Computational Fluid Dynamics </a></span></li><li class=\"acalog-course\"><span><a aria-expanded=\"false\" href=\"#\" onclick=\"showCourse('34', '375600',this, 'a:2:{s:8:~location~;s:7:~program~;s:4:~core~;s:6:~331118~;}'); return false;\">MEC E 541 - Combustion Engines </a></span></li><li class=\"acalog-course\"><span><a aria-expanded=\"false\" href=\"#\" onclick=\"showCourse('34', '375603',this, 'a:2:{s:8:~location~;s:7:~program~;s:4:~core~;s:6:~331118~;}'); return false;\">MEC E 569 - Mechanics and Design of Composite Materials </a></span></li></ul></div></div>"
      ]
     },
     "execution_count": 38,
     "metadata": {},
     "output_type": "execute_result"
    }
   ],
   "source": [
    "#scrape the general program electives\n",
    "electives_container = all_container.findAll(\"div\", {\"class\":\"custom_leftpad_20\"})[7]\n",
    "electives_container"
   ]
  },
  {
   "cell_type": "code",
   "execution_count": 39,
   "metadata": {},
   "outputs": [
    {
     "data": {
      "text/plain": [
       "[<div class=\"acalog-core\"><h3><a name=\"OneProgramElectiveMustBeChosenFromTheFollowing\"></a><a id=\"core_331108\" name=\"oneprogramelectivemustbechosenfromthefollowing\"></a>One program elective must be chosen from the following:</h3><hr/><ul><li class=\"acalog-course\"><span><a aria-expanded=\"false\" href=\"#\" onclick=\"showCourse('34', '375591',this, 'a:2:{s:8:~location~;s:7:~program~;s:4:~core~;s:6:~331108~;}'); return false;\">MEC E 467 - Modelling and Simulation of Engineering Systems </a></span></li><li class=\"acalog-course\"><span><a aria-expanded=\"false\" href=\"#\" onclick=\"showCourse('34', '375592',this, 'a:2:{s:8:~location~;s:7:~program~;s:4:~core~;s:6:~331108~;}'); return false;\">MEC E 468 - Numerical Simulation in Mechanical Engineering Design </a></span></li><li class=\"acalog-course\"><span><a aria-expanded=\"false\" href=\"#\" onclick=\"showCourse('34', '375599',this, 'a:2:{s:8:~location~;s:7:~program~;s:4:~core~;s:6:~331108~;}'); return false;\">MEC E 539 - Applied Computational Fluid Dynamics </a></span></li><li class=\"acalog-course\"><span><a aria-expanded=\"false\" href=\"#\" onclick=\"showCourse('34', '375602',this, 'a:2:{s:8:~location~;s:7:~program~;s:4:~core~;s:6:~331108~;}'); return false;\">MEC E 563 - Finite Element Method for Mechanical Engineering </a></span></li></ul></div>,\n",
       " <div class=\"acalog-core\"><h3><a name=\"TheRemainingThreeProgramElectivesMustBeChosenFromTheFollowing\"></a><a id=\"core_331109\" name=\"theremainingthreeprogramelectivesmustbechosenfromthefollowing\"></a>The remaining three program electives must be chosen from the following:</h3><hr/><ul><li class=\"acalog-course\"><span><a aria-expanded=\"false\" href=\"#\" onclick=\"showCourse('34', '370979',this, 'a:2:{s:8:~location~;s:7:~program~;s:4:~core~;s:6:~331109~;}'); return false;\">ACCTG 300 - Introduction to Accounting </a></span></li><li class=\"acalog-course\"><span><a aria-expanded=\"false\" href=\"#\" onclick=\"showCourse('34', '370980',this, 'a:2:{s:8:~location~;s:7:~program~;s:4:~core~;s:6:~331109~;}'); return false;\">ACCTG 311 - Introduction to Accounting for Financial Performance </a></span></li><li class=\"acalog-course\"><span><a aria-expanded=\"false\" href=\"#\" onclick=\"showCourse('34', '372479',this, 'a:2:{s:8:~location~;s:7:~program~;s:4:~core~;s:6:~331109~;}'); return false;\">B LAW 301 - Legal Foundations of the Canadian Economy </a></span></li><li class=\"acalog-course\"><span><a aria-expanded=\"false\" href=\"#\" onclick=\"showCourse('34', '372482',this, 'a:2:{s:8:~location~;s:7:~program~;s:4:~core~;s:6:~331109~;}'); return false;\">B LAW 422 - Law of Business Organizations </a></span></li><li class=\"acalog-course\"><span><a aria-expanded=\"false\" href=\"#\" onclick=\"showCourse('34', '372486',this, 'a:2:{s:8:~location~;s:7:~program~;s:4:~core~;s:6:~331109~;}'); return false;\">B LAW 444 - International Business Transactions </a></span></li><li class=\"acalog-course\"><span><a aria-expanded=\"false\" href=\"#\" onclick=\"showCourse('34', '372281',this, 'a:2:{s:8:~location~;s:7:~program~;s:4:~core~;s:6:~331109~;}'); return false;\">BIOCH 200 - Introductory Biochemistry </a></span></li><li class=\"acalog-course\"><span><a aria-expanded=\"false\" href=\"#\" onclick=\"showCourse('34', '372338',this, 'a:2:{s:8:~location~;s:7:~program~;s:4:~core~;s:6:~331109~;}'); return false;\">BIOL 107 - Introduction to Cell Biology </a></span></li><li class=\"acalog-course\"><span><a aria-expanded=\"false\" href=\"#\" onclick=\"showCourse('34', '372339',this, 'a:2:{s:8:~location~;s:7:~program~;s:4:~core~;s:6:~331109~;}'); return false;\">BIOL 108 - Introduction to Biological Diversity </a></span></li><li class=\"acalog-course\"><span><a aria-expanded=\"false\" href=\"#\" onclick=\"showCourse('34', '372341',this, 'a:2:{s:8:~location~;s:7:~program~;s:4:~core~;s:6:~331109~;}'); return false;\">BIOL 207 - Molecular Genetics and Heredity </a></span></li><li class=\"acalog-course\"><span><a aria-expanded=\"false\" href=\"#\" onclick=\"showCourse('34', '372397',this, 'a:2:{s:8:~location~;s:7:~program~;s:4:~core~;s:6:~331109~;}'); return false;\">BME 320 - Human Anatomy and Physiology: Cells and Tissue </a></span></li><li class=\"acalog-course\"><span><a aria-expanded=\"false\" href=\"#\" onclick=\"showCourse('34', '372398',this, 'a:2:{s:8:~location~;s:7:~program~;s:4:~core~;s:6:~331109~;}'); return false;\">BME 321 - Human Anatomy and Physiology: Systems </a></span></li><li class=\"acalog-adhoc-list-item acalog-adhoc-after\"><span style=\"background-color:rgb(246,246,246);color:rgb(61,74,67);float:none;font-family:sans-serif;font-size:16px;font-style:normal;font-weight:400;text-align:left;text-indent:0px;\">BME 410</span></li><li class=\"acalog-course\"><span><a aria-expanded=\"false\" href=\"#\" onclick=\"showCourse('34', '372401',this, 'a:2:{s:8:~location~;s:7:~program~;s:4:~core~;s:6:~331109~;}'); return false;\">BME 513 - Imaging Methods in Medicine </a></span></li><li class=\"acalog-course\"><span><a aria-expanded=\"false\" href=\"#\" onclick=\"showCourse('34', '372404',this, 'a:2:{s:8:~location~;s:7:~program~;s:4:~core~;s:6:~331109~;}'); return false;\">BME 553 - Rehabilitation Engineering: Assisted Movement After Injury </a></span></li><li class=\"acalog-course\"><span><a aria-expanded=\"false\" href=\"#\" onclick=\"showCourse('34', '372405',this, 'a:2:{s:8:~location~;s:7:~program~;s:4:~core~;s:6:~331109~;}'); return false;\">BME 564 - Fundamentals of Magnetic Resonance Imaging, MRI </a></span></li><li class=\"acalog-course\"><span><a aria-expanded=\"false\" href=\"#\" onclick=\"showCourse('34', '372557',this, 'a:2:{s:8:~location~;s:7:~program~;s:4:~core~;s:6:~331109~;}'); return false;\">CH E 582 - Introduction to Biomaterials </a></span></li><li class=\"acalog-course\"><span><a aria-expanded=\"false\" href=\"#\" onclick=\"showCourse('34', '372584',this, 'a:2:{s:8:~location~;s:7:~program~;s:4:~core~;s:6:~331109~;}'); return false;\">CHEM 261 - Organic Chemistry I </a></span></li><li class=\"acalog-course\"><span><a aria-expanded=\"false\" href=\"#\" onclick=\"showCourse('34', '372585',this, 'a:2:{s:8:~location~;s:7:~program~;s:4:~core~;s:6:~331109~;}'); return false;\">CHEM 263 - Organic Chemistry II </a></span></li><li class=\"acalog-course\"><span><a aria-expanded=\"false\" href=\"#\" onclick=\"showCourse('34', '373984',this, 'a:2:{s:8:~location~;s:7:~program~;s:4:~core~;s:6:~331109~;}'); return false;\">ECE 405 - Biophysical Measurement and Instrumentation </a></span></li><li class=\"acalog-course\"><span><a aria-expanded=\"false\" href=\"#\" onclick=\"showCourse('34', '373999',this, 'a:2:{s:8:~location~;s:7:~program~;s:4:~core~;s:6:~331109~;}'); return false;\">ECE 440 - Digital Computer Processing of Images </a></span></li><li class=\"acalog-course\"><span><a aria-expanded=\"false\" href=\"#\" onclick=\"showCourse('34', '374001',this, 'a:2:{s:8:~location~;s:7:~program~;s:4:~core~;s:6:~331109~;}'); return false;\">ECE 449 - Intelligent Systems Engineering </a></span></li><li class=\"acalog-course\"><span><a aria-expanded=\"false\" href=\"#\" onclick=\"showCourse('34', '374128',this, 'a:2:{s:8:~location~;s:7:~program~;s:4:~core~;s:6:~331109~;}'); return false;\">ENGG 406 - Engineering Safety and Risk Management - Methodologies and Tools </a></span></li><li class=\"acalog-course\"><span><a aria-expanded=\"false\" href=\"#\" onclick=\"showCourse('34', '374129',this, 'a:2:{s:8:~location~;s:7:~program~;s:4:~core~;s:6:~331109~;}'); return false;\">ENGG 420 - Engineering Law </a></span></li><li class=\"acalog-course\"><span><a aria-expanded=\"false\" href=\"#\" onclick=\"showCourse('34', '374095',this, 'a:2:{s:8:~location~;s:7:~program~;s:4:~core~;s:6:~331109~;}'); return false;\">ENG M 402 - Project Management and Entrepreneurship </a></span></li><li class=\"acalog-adhoc-list-item acalog-adhoc-after\"><span style=\"background-color:rgb(246,246,246);color:rgb(61,74,67);float:none;font-family:sans-serif;font-size:16px;font-style:normal;font-weight:400;text-align:left;text-indent:0px;\">ENG M 406</span></li><li class=\"acalog-course\"><span><a aria-expanded=\"false\" href=\"#\" onclick=\"showCourse('34', '374098',this, 'a:2:{s:8:~location~;s:7:~program~;s:4:~core~;s:6:~331109~;}'); return false;\">ENG M 408 - Manufacturing Systems and Engineering </a></span></li><li class=\"acalog-course\"><span><a aria-expanded=\"false\" href=\"#\" onclick=\"showCourse('34', '374099',this, 'a:2:{s:8:~location~;s:7:~program~;s:4:~core~;s:6:~331109~;}'); return false;\">ENG M 501 - Production and Operations Management </a></span></li><li class=\"acalog-course\"><span><a aria-expanded=\"false\" href=\"#\" onclick=\"showCourse('34', '374100',this, 'a:2:{s:8:~location~;s:7:~program~;s:4:~core~;s:6:~331109~;}'); return false;\">ENG M 508 - Energy Auditing and Management </a></span></li><li class=\"acalog-adhoc-list-item acalog-adhoc-after\"><span style=\"background-color:rgb(246,246,246);color:rgb(61,74,67);float:none;font-family:sans-serif;font-size:16px;font-style:normal;font-weight:400;text-align:left;text-indent:0px;\">ENG M 510</span></li><li class=\"acalog-course\"><span><a aria-expanded=\"false\" href=\"#\" onclick=\"showCourse('34', '374101',this, 'a:2:{s:8:~location~;s:7:~program~;s:4:~core~;s:6:~331109~;}'); return false;\">ENG M 514 - Reliability Engineering </a></span></li><li class=\"acalog-course\"><span><a aria-expanded=\"false\" href=\"#\" onclick=\"showCourse('34', '374102',this, 'a:2:{s:8:~location~;s:7:~program~;s:4:~core~;s:6:~331109~;}'); return false;\">ENG M 516 - Maintenance Management </a></span></li><li class=\"acalog-course\"><span><a aria-expanded=\"false\" href=\"#\" onclick=\"showCourse('34', '374103',this, 'a:2:{s:8:~location~;s:7:~program~;s:4:~core~;s:6:~331109~;}'); return false;\">ENG M 530 - Engineering Project Management </a></span></li><li class=\"acalog-course\"><span><a aria-expanded=\"false\" href=\"#\" onclick=\"showCourse('34', '374104',this, 'a:2:{s:8:~location~;s:7:~program~;s:4:~core~;s:6:~331109~;}'); return false;\">ENG M 540 - Introduction to Optimization Models and Algorithms </a></span></li><li class=\"acalog-course\"><span><a aria-expanded=\"false\" href=\"#\" onclick=\"showCourse('34', '374105',this, 'a:2:{s:8:~location~;s:7:~program~;s:4:~core~;s:6:~331109~;}'); return false;\">ENG M 558 - Ergonomics and Work Design </a></span></li><li class=\"acalog-course\"><span><a aria-expanded=\"false\" href=\"#\" onclick=\"showCourse('34', '374361',this, 'a:2:{s:8:~location~;s:7:~program~;s:4:~core~;s:6:~331109~;}'); return false;\">FIN 301 - Introduction to Finance </a></span></li><li class=\"acalog-course\"><span><a aria-expanded=\"false\" href=\"#\" onclick=\"showCourse('34', '375313',this, 'a:2:{s:8:~location~;s:7:~program~;s:4:~core~;s:6:~331109~;}'); return false;\">MARK 301 - Introduction to Marketing </a></span></li><li class=\"acalog-course\"><span><a aria-expanded=\"false\" href=\"#\" onclick=\"showCourse('34', '375419',this, 'a:2:{s:8:~location~;s:7:~program~;s:4:~core~;s:6:~331109~;}'); return false;\">MATH 225 - Linear Algebra II </a></span></li><li class=\"acalog-course\"><span><a aria-expanded=\"false\" href=\"#\" onclick=\"showCourse('34', '375428',this, 'a:2:{s:8:~location~;s:7:~program~;s:4:~core~;s:6:~331109~;}'); return false;\">MATH 311 - Theory of Functions of a Complex Variable </a></span></li><li class=\"acalog-course\"><span><a aria-expanded=\"false\" href=\"#\" onclick=\"showCourse('34', '375367',this, 'a:2:{s:8:~location~;s:7:~program~;s:4:~core~;s:6:~331109~;}'); return false;\">MAT E 345 - Corrosion, Oxidation, and Degradation </a></span></li><li class=\"acalog-course\"><span><a aria-expanded=\"false\" href=\"#\" onclick=\"showCourse('34', '375374',this, 'a:2:{s:8:~location~;s:7:~program~;s:4:~core~;s:6:~331109~;}'); return false;\">MAT E 466 - Special Topics in Materials Engineering </a></span></li><li class=\"acalog-course\"><span><a aria-expanded=\"false\" href=\"#\" onclick=\"showCourse('34', '375381',this, 'a:2:{s:8:~location~;s:7:~program~;s:4:~core~;s:6:~331109~;}'); return false;\">MAT E 495 - Nanomaterials and Biomedical Applications </a></span></li><li class=\"acalog-course\"><span><a aria-expanded=\"false\" href=\"#\" onclick=\"showCourse('34', '375572',this, 'a:2:{s:8:~location~;s:7:~program~;s:4:~core~;s:6:~331109~;}'); return false;\">MEC E 364 - Manufacturing Processes </a></span></li><li class=\"acalog-course\"><span><a aria-expanded=\"false\" href=\"#\" onclick=\"showCourse('34', '375578',this, 'a:2:{s:8:~location~;s:7:~program~;s:4:~core~;s:6:~331109~;}'); return false;\">MEC E 409 - Experimental Design Project I </a></span></li><li class=\"acalog-course\"><span><a aria-expanded=\"false\" href=\"#\" onclick=\"showCourse('34', '375579',this, 'a:2:{s:8:~location~;s:7:~program~;s:4:~core~;s:6:~331109~;}'); return false;\">MEC E 415 - Busting Myths with Analysis </a></span></li><li class=\"acalog-course\"><span><a aria-expanded=\"false\" href=\"#\" onclick=\"showCourse('34', '375581',this, 'a:2:{s:8:~location~;s:7:~program~;s:4:~core~;s:6:~331109~;}'); return false;\">MEC E 430 - Fluid Mechanics II </a></span></li><li class=\"acalog-adhoc-list-item acalog-adhoc-after\"><span style=\"background-color:rgb(246,246,246);color:rgb(61,74,67);float:none;font-family:sans-serif;font-size:16px;font-style:normal;font-weight:400;text-align:left;text-indent:0px;\">MEC E 439</span></li><li class=\"acalog-course\"><span><a aria-expanded=\"false\" href=\"#\" onclick=\"showCourse('34', '375583',this, 'a:2:{s:8:~location~;s:7:~program~;s:4:~core~;s:6:~331109~;}'); return false;\">MEC E 443 - Energy Conversion </a></span></li><li class=\"acalog-adhoc-list-item acalog-adhoc-after\"><span style=\"background-color:rgb(246,246,246);color:rgb(61,74,67);float:none;font-family:sans-serif;font-size:16px;font-style:normal;font-weight:400;text-align:left;text-indent:0px;\">MEC E 453</span></li><li class=\"acalog-course\"><span><a aria-expanded=\"false\" href=\"#\" onclick=\"showCourse('34', '375589',this, 'a:2:{s:8:~location~;s:7:~program~;s:4:~core~;s:6:~331109~;}'); return false;\">MEC E 464 - Design for Manufacture </a></span></li><li class=\"acalog-course\"><span><a aria-expanded=\"false\" href=\"#\" onclick=\"showCourse('34', '375590',this, 'a:2:{s:8:~location~;s:7:~program~;s:4:~core~;s:6:~331109~;}'); return false;\">MEC E 466 - Building Systems Design </a></span></li><li class=\"acalog-course\"><span><a aria-expanded=\"false\" href=\"#\" onclick=\"showCourse('34', '375591',this, 'a:2:{s:8:~location~;s:7:~program~;s:4:~core~;s:6:~331109~;}'); return false;\">MEC E 467 - Modelling and Simulation of Engineering Systems </a></span></li><li class=\"acalog-course\"><span><a aria-expanded=\"false\" href=\"#\" onclick=\"showCourse('34', '375592',this, 'a:2:{s:8:~location~;s:7:~program~;s:4:~core~;s:6:~331109~;}'); return false;\">MEC E 468 - Numerical Simulation in Mechanical Engineering Design </a></span></li><li class=\"acalog-course\"><span><a aria-expanded=\"false\" href=\"#\" onclick=\"showCourse('34', '375593',this, 'a:2:{s:8:~location~;s:7:~program~;s:4:~core~;s:6:~331109~;}'); return false;\">MEC E 469 - Experimental Design Project II </a></span></li><li class=\"acalog-course\"><span><a aria-expanded=\"false\" href=\"#\" onclick=\"showCourse('34', '375594',this, 'a:2:{s:8:~location~;s:7:~program~;s:4:~core~;s:6:~331109~;}'); return false;\">MEC E 480 - Advanced Strength of Materials II </a></span></li><li class=\"acalog-course\"><span><a aria-expanded=\"false\" href=\"#\" onclick=\"showCourse('34', '375595',this, 'a:2:{s:8:~location~;s:7:~program~;s:4:~core~;s:6:~331109~;}'); return false;\">MEC E 485 - Biomechanical Modelling of Human Tissues and Systems </a></span></li><li class=\"acalog-adhoc acalog-adhoc-after\" style=\"list-style: none;\"><p> </p></li><li class=\"acalog-course\"><span><a aria-expanded=\"false\" href=\"#\" onclick=\"showCourse('34', '375596',this, 'a:2:{s:8:~location~;s:7:~program~;s:4:~core~;s:6:~331109~;}'); return false;\">MEC E 494 - Introduction to Research </a> <strong>AND</strong></span></li><li class=\"acalog-course\"><span><a aria-expanded=\"false\" href=\"#\" onclick=\"showCourse('34', '375597',this, 'a:2:{s:8:~location~;s:7:~program~;s:4:~core~;s:6:~331109~;}'); return false;\">MEC E 495 - Research Project </a></span></li><li class=\"acalog-adhoc acalog-adhoc-after\" style=\"list-style: none;\"><p> </p></li><li class=\"acalog-course\"><span><a aria-expanded=\"false\" href=\"#\" onclick=\"showCourse('34', '375598',this, 'a:2:{s:8:~location~;s:7:~program~;s:4:~core~;s:6:~331109~;}'); return false;\">MEC E 537 - Aerodynamics </a></span></li><li class=\"acalog-course\"><span><a aria-expanded=\"false\" href=\"#\" onclick=\"showCourse('34', '375599',this, 'a:2:{s:8:~location~;s:7:~program~;s:4:~core~;s:6:~331109~;}'); return false;\">MEC E 539 - Applied Computational Fluid Dynamics </a></span></li><li class=\"acalog-course\"><span><a aria-expanded=\"false\" href=\"#\" onclick=\"showCourse('34', '375600',this, 'a:2:{s:8:~location~;s:7:~program~;s:4:~core~;s:6:~331109~;}'); return false;\">MEC E 541 - Combustion Engines </a></span></li><li class=\"acalog-adhoc-list-item acalog-adhoc-after\"><span style=\"background-color:rgb(246,246,246);color:rgb(61,74,67);float:none;font-family:sans-serif;font-size:16px;font-style:normal;font-weight:400;text-align:left;text-indent:0px;\">MEC E 551</span></li><li class=\"acalog-course\"><span><a aria-expanded=\"false\" href=\"#\" onclick=\"showCourse('34', '375602',this, 'a:2:{s:8:~location~;s:7:~program~;s:4:~core~;s:6:~331109~;}'); return false;\">MEC E 563 - Finite Element Method for Mechanical Engineering </a></span></li><li class=\"acalog-adhoc-list-item acalog-adhoc-after\"><span style=\"background-color:rgb(246,246,246);color:rgb(61,74,67);float:none;font-family:sans-serif;font-size:16px;font-style:normal;font-weight:400;text-align:left;text-indent:0px;\">MEC E 564</span></li><li class=\"acalog-course\"><span><a aria-expanded=\"false\" href=\"#\" onclick=\"showCourse('34', '376354',this, 'a:2:{s:8:~location~;s:7:~program~;s:4:~core~;s:6:~331109~;}'); return false;\">OM 352 - Operations Management </a></span></li><li class=\"acalog-course\"><span><a aria-expanded=\"false\" href=\"#\" onclick=\"showCourse('34', '376409',this, 'a:2:{s:8:~location~;s:7:~program~;s:4:~core~;s:6:~331109~;}'); return false;\">PET E 275 - Petroleum Reservoir Fluids </a></span></li><li class=\"acalog-course\"><span><a aria-expanded=\"false\" href=\"#\" onclick=\"showCourse('34', '376410',this, 'a:2:{s:8:~location~;s:7:~program~;s:4:~core~;s:6:~331109~;}'); return false;\">PET E 364 - Drilling Engineering </a></span></li><li class=\"acalog-course\"><span><a aria-expanded=\"false\" href=\"#\" onclick=\"showCourse('34', '376411',this, 'a:2:{s:8:~location~;s:7:~program~;s:4:~core~;s:6:~331109~;}'); return false;\">PET E 365 - Well Logging and Formation Evaluation </a></span></li><li class=\"acalog-course\"><span><a aria-expanded=\"false\" href=\"#\" onclick=\"showCourse('34', '376412',this, 'a:2:{s:8:~location~;s:7:~program~;s:4:~core~;s:6:~331109~;}'); return false;\">PET E 366 - Petroleum Production Operations </a></span></li><li class=\"acalog-course\"><span><a aria-expanded=\"false\" href=\"#\" onclick=\"showCourse('34', '376414',this, 'a:2:{s:8:~location~;s:7:~program~;s:4:~core~;s:6:~331109~;}'); return false;\">PET E 444 - Natural Gas Engineering </a></span></li><li class=\"acalog-course\"><span><a aria-expanded=\"false\" href=\"#\" onclick=\"showCourse('34', '376822',this, 'a:2:{s:8:~location~;s:7:~program~;s:4:~core~;s:6:~331109~;}'); return false;\">PHYS 230 - Electricity and Magnetism </a></span></li><li class=\"acalog-course\"><span><a aria-expanded=\"false\" href=\"#\" onclick=\"showCourse('34', '377750',this, 'a:2:{s:8:~location~;s:7:~program~;s:4:~core~;s:6:~331109~;}'); return false;\">SEM 301 - Behavior in Organizations </a></span></li><li class=\"acalog-course\"><span><a aria-expanded=\"false\" href=\"#\" onclick=\"showCourse('34', '377753',this, 'a:2:{s:8:~location~;s:7:~program~;s:4:~core~;s:6:~331109~;}'); return false;\">SEM 321 - Introduction to Strategic Management and Organization Design </a></span></li></ul></div>]"
      ]
     },
     "execution_count": 39,
     "metadata": {},
     "output_type": "execute_result"
    }
   ],
   "source": [
    "program_electives_containers = electives_container.findAll(\"div\", {\"class\": \"acalog-core\"})[:2]\n",
    "program_electives_containers"
   ]
  },
  {
   "cell_type": "code",
   "execution_count": 42,
   "metadata": {},
   "outputs": [
    {
     "name": "stdout",
     "output_type": "stream",
     "text": [
      "4\n"
     ]
    }
   ],
   "source": [
    "program_electives_course_container0 = program_electives_containers[0].findAll(\"li\", {\"class\":\"acalog-course\"}) #contains all courses in the page\n",
    "print(len(program_electives_course_container0))"
   ]
  },
  {
   "cell_type": "code",
   "execution_count": 43,
   "metadata": {},
   "outputs": [
    {
     "name": "stdout",
     "output_type": "stream",
     "text": [
      "65\n"
     ]
    }
   ],
   "source": [
    "program_electives_course_container1 = program_electives_containers[1].findAll(\"li\", {\"class\":\"acalog-course\"}) #contains all courses in the page\n",
    "print(len(program_electives_course_container1))"
   ]
  },
  {
   "cell_type": "markdown",
   "metadata": {},
   "source": [
    "# 2. Click on the first group of courses to open their info boxes"
   ]
  },
  {
   "cell_type": "code",
   "execution_count": 44,
   "metadata": {},
   "outputs": [
    {
     "data": {
      "text/plain": [
       "4"
      ]
     },
     "execution_count": 44,
     "metadata": {},
     "output_type": "execute_result"
    }
   ],
   "source": [
    "course_titles = [container.find(\"a\").text.strip() for container in program_electives_course_container0]\n",
    "len(course_titles)"
   ]
  },
  {
   "cell_type": "code",
   "execution_count": 45,
   "metadata": {},
   "outputs": [
    {
     "name": "stdout",
     "output_type": "stream",
     "text": [
      "opened  MEC E 467 - Modelling and Simulation of Engineering Systems\n",
      "opened  MEC E 468 - Numerical Simulation in Mechanical Engineering Design\n",
      "opened  MEC E 539 - Applied Computational Fluid Dynamics\n",
      "opened  MEC E 563 - Finite Element Method for Mechanical Engineering\n"
     ]
    }
   ],
   "source": [
    "for text in course_titles:\n",
    "    link = driver.find_element_by_link_text(text)\n",
    "    link.click()\n",
    "    time.sleep(3)\n",
    "    print(\"opened \", text)"
   ]
  },
  {
   "cell_type": "markdown",
   "metadata": {},
   "source": [
    "# 3. Obtain the updated html of the webpage and scrape the first group of course codes, names, and descriptions"
   ]
  },
  {
   "cell_type": "code",
   "execution_count": 46,
   "metadata": {},
   "outputs": [],
   "source": [
    "page_soup = soup(driver.page_source, 'lxml')"
   ]
  },
  {
   "cell_type": "code",
   "execution_count": 48,
   "metadata": {},
   "outputs": [
    {
     "data": {
      "text/plain": [
       "4"
      ]
     },
     "execution_count": 48,
     "metadata": {},
     "output_type": "execute_result"
    }
   ],
   "source": [
    "all_container = page_soup.find(\"div\", {\"class\":\"custom_leftpad_20\"}) #contains all courses in the page\n",
    "electives_container = all_container.findAll(\"div\", {\"class\":\"custom_leftpad_20\"})[7]\n",
    "program_electives_containers = electives_container.findAll(\"div\", {\"class\": \"acalog-core\"})[:2]\n",
    "program_electives_course_container0 = program_electives_containers[0].findAll(\"li\", {\"class\":\"acalog-course acalog-course-open\"}) #contains all courses in the page\n",
    "len(program_electives_course_container0)"
   ]
  },
  {
   "cell_type": "code",
   "execution_count": 49,
   "metadata": {},
   "outputs": [
    {
     "data": {
      "text/plain": [
       "['MEC E 467 - Modelling and Simulation of Engineering Systems  ★ 4.5 (fi 8) (either term or Spring/Summer, 3-0-3) Modeling and analysis of systems and processes that include technological decision making. Formulation and solution methods for systems including associated resource requirements and other system inputs. Numerical methods for simulation. Projects will involve simulation software to support analysis and design of engineering systems and processes. Prerequisites: MEC E 250 and 390. Note that credit cannot be obtained in both MEC E 467 and ENG M 541.',\n",
       " 'MEC E 468 - Numerical Simulation in Mechanical Engineering Design  ★ 4.5 (fi 8) (either term or Spring/Summer, 3-0-3) Computer modelling in mechanical engineering. Simulation of mechanisms. Stress analysis and heat transfer using commercial software. Emphasis is on numerical model design including testing and verification methods, and the critical interpretation of the computed results. Credit cannot be obtained in both MEC E 468 and 568. Prerequisites: MEC E 265, 362, 370 or 371, 380, 390.',\n",
       " 'MEC E 539 - Applied Computational Fluid Dynamics  ★ 4.5 (fi 6) (either term or Spring/Summer, 3-0-3) Model selection and simplification, grid generation and grid independence, transient and advection terms treatment, turbulence modeling, verification and validation, best practices. Hands-on experience with commercial CFD codes to demonstrate the application of: theory, proper setup and analysis. Prerequisites: MEC E 390, and 331 or equivalent.',\n",
       " 'MEC E 563 - Finite Element Method for Mechanical Engineering  ★ 4.5 (fi 6) (either term or Spring/Summer, 3-0-3) Application of finite element methods to mechanical engineering problems; topics include direct stiffness methods, assembly, constraints, solution techniques, post-processing, element types and the Galkerin procedure. Applications include beam truss and frame analysis, plane strain and stress problems, heat transfer and dynamic analysis Prerequisites: MATH 300, MEC E 360, 390.']"
      ]
     },
     "execution_count": 49,
     "metadata": {},
     "output_type": "execute_result"
    }
   ],
   "source": [
    "course_descs = [container.find(\"div\", {\"class\": None}).text.strip() for container in program_electives_course_container0]\n",
    "course_descs"
   ]
  },
  {
   "cell_type": "code",
   "execution_count": 50,
   "metadata": {},
   "outputs": [],
   "source": [
    "import re\n",
    "course_descs = [re.split(\"\\([A-Za-z0-9 ]{4}\\) \\([A-Za-z0-9, -/.]{10,40}\\)\", desc)[1].strip() for desc in course_descs]"
   ]
  },
  {
   "cell_type": "code",
   "execution_count": 51,
   "metadata": {},
   "outputs": [
    {
     "data": {
      "text/plain": [
       "['Modeling and analysis of systems and processes that include technological decision making. Formulation and solution methods for systems including associated resource requirements and other system inputs. Numerical methods for simulation. Projects will involve simulation software to support analysis and design of engineering systems and processes. Prerequisites: MEC E 250 and 390. Note that credit cannot be obtained in both MEC E 467 and ENG M 541.',\n",
       " 'Computer modelling in mechanical engineering. Simulation of mechanisms. Stress analysis and heat transfer using commercial software. Emphasis is on numerical model design including testing and verification methods, and the critical interpretation of the computed results. Credit cannot be obtained in both MEC E 468 and 568. Prerequisites: MEC E 265, 362, 370 or 371, 380, 390.',\n",
       " 'Model selection and simplification, grid generation and grid independence, transient and advection terms treatment, turbulence modeling, verification and validation, best practices. Hands-on experience with commercial CFD codes to demonstrate the application of: theory, proper setup and analysis. Prerequisites: MEC E 390, and 331 or equivalent.',\n",
       " 'Application of finite element methods to mechanical engineering problems; topics include direct stiffness methods, assembly, constraints, solution techniques, post-processing, element types and the Galkerin procedure. Applications include beam truss and frame analysis, plane strain and stress problems, heat transfer and dynamic analysis Prerequisites: MATH 300, MEC E 360, 390.']"
      ]
     },
     "execution_count": 51,
     "metadata": {},
     "output_type": "execute_result"
    }
   ],
   "source": [
    "course_descs"
   ]
  },
  {
   "cell_type": "code",
   "execution_count": 52,
   "metadata": {},
   "outputs": [
    {
     "data": {
      "text/plain": [
       "['Modelling and Simulation of Engineering Systems',\n",
       " 'Numerical Simulation in Mechanical Engineering Design',\n",
       " 'Applied Computational Fluid Dynamics',\n",
       " 'Finite Element Method for Mechanical Engineering']"
      ]
     },
     "execution_count": 52,
     "metadata": {},
     "output_type": "execute_result"
    }
   ],
   "source": [
    "course_names = [title.split(\" - \")[1] for title in course_titles]\n",
    "course_names"
   ]
  },
  {
   "cell_type": "code",
   "execution_count": 53,
   "metadata": {},
   "outputs": [
    {
     "data": {
      "text/plain": [
       "['MEC E 467', 'MEC E 468', 'MEC E 539', 'MEC E 563']"
      ]
     },
     "execution_count": 53,
     "metadata": {},
     "output_type": "execute_result"
    }
   ],
   "source": [
    "course_codes = [title.split(\" - \")[0] for title in course_titles]\n",
    "course_codes"
   ]
  },
  {
   "cell_type": "markdown",
   "metadata": {},
   "source": [
    "# 4. Append the new scraped data to dataframe"
   ]
  },
  {
   "cell_type": "code",
   "execution_count": 54,
   "metadata": {
    "scrolled": true
   },
   "outputs": [
    {
     "data": {
      "text/html": [
       "<div>\n",
       "<style scoped>\n",
       "    .dataframe tbody tr th:only-of-type {\n",
       "        vertical-align: middle;\n",
       "    }\n",
       "\n",
       "    .dataframe tbody tr th {\n",
       "        vertical-align: top;\n",
       "    }\n",
       "\n",
       "    .dataframe thead th {\n",
       "        text-align: right;\n",
       "    }\n",
       "</style>\n",
       "<table border=\"1\" class=\"dataframe\">\n",
       "  <thead>\n",
       "    <tr style=\"text-align: right;\">\n",
       "      <th></th>\n",
       "      <th>Course Number</th>\n",
       "      <th>Course Name</th>\n",
       "      <th>Course Description</th>\n",
       "    </tr>\n",
       "  </thead>\n",
       "  <tbody>\n",
       "    <tr>\n",
       "      <th>0</th>\n",
       "      <td>CIV E 270</td>\n",
       "      <td>Mechanics of Deformable Bodies I</td>\n",
       "      <td>Plane stress and strain; stress-strain relatio...</td>\n",
       "    </tr>\n",
       "    <tr>\n",
       "      <th>1</th>\n",
       "      <td>ENGG 299</td>\n",
       "      <td>Orientation to Cooperative Education</td>\n",
       "      <td>An examination of the history, philosophy and ...</td>\n",
       "    </tr>\n",
       "    <tr>\n",
       "      <th>2</th>\n",
       "      <td>MATH 209</td>\n",
       "      <td>Calculus III</td>\n",
       "      <td>Partial differentiation, derivatives of integr...</td>\n",
       "    </tr>\n",
       "    <tr>\n",
       "      <th>3</th>\n",
       "      <td>MEC E 230</td>\n",
       "      <td>Introduction to Thermo-Fluid Sciences</td>\n",
       "      <td>Introduction to modes of heat transfer. One di...</td>\n",
       "    </tr>\n",
       "    <tr>\n",
       "      <th>4</th>\n",
       "      <td>MEC E 260</td>\n",
       "      <td>Mechanical Design I</td>\n",
       "      <td>Design morphology, analysis and design of comp...</td>\n",
       "    </tr>\n",
       "    <tr>\n",
       "      <th>5</th>\n",
       "      <td>MEC E 265</td>\n",
       "      <td>Engineering Graphics and CAD</td>\n",
       "      <td>Engineering drawing and sketching, conventiona...</td>\n",
       "    </tr>\n",
       "    <tr>\n",
       "      <th>6</th>\n",
       "      <td>STAT 235</td>\n",
       "      <td>Introductory Statistics for Engineering</td>\n",
       "      <td>Descriptive data analysis. Calculus of Probabi...</td>\n",
       "    </tr>\n",
       "    <tr>\n",
       "      <th>7</th>\n",
       "      <td>CH E 243</td>\n",
       "      <td>Engineering Thermodynamics</td>\n",
       "      <td>An introduction to the first and second laws o...</td>\n",
       "    </tr>\n",
       "    <tr>\n",
       "      <th>8</th>\n",
       "      <td>ECE 209</td>\n",
       "      <td>Fundamentals of Electrical Engineering</td>\n",
       "      <td>Physical concepts of passive circuit elements,...</td>\n",
       "    </tr>\n",
       "    <tr>\n",
       "      <th>9</th>\n",
       "      <td>MAT E 202</td>\n",
       "      <td>Materials Science II</td>\n",
       "      <td>An introduction to the science of materials re...</td>\n",
       "    </tr>\n",
       "    <tr>\n",
       "      <th>10</th>\n",
       "      <td>MATH 201</td>\n",
       "      <td>Differential Equations</td>\n",
       "      <td>First-order equations; second-order linear equ...</td>\n",
       "    </tr>\n",
       "    <tr>\n",
       "      <th>11</th>\n",
       "      <td>MEC E 200</td>\n",
       "      <td>Introduction to Mechanical Engineering</td>\n",
       "      <td>Introduction to the profession of mechanical e...</td>\n",
       "    </tr>\n",
       "    <tr>\n",
       "      <th>12</th>\n",
       "      <td>MEC E 250</td>\n",
       "      <td>Engineering Mechanics II</td>\n",
       "      <td>Moments of inertia. Kinematics and kinetics of...</td>\n",
       "    </tr>\n",
       "    <tr>\n",
       "      <th>13</th>\n",
       "      <td>WKEXP 901</td>\n",
       "      <td>Engineering Work Experience I</td>\n",
       "      <td>A four-month work placement for Engineering st...</td>\n",
       "    </tr>\n",
       "    <tr>\n",
       "      <th>14</th>\n",
       "      <td>WKEXP 902</td>\n",
       "      <td>Engineering Work Experience II</td>\n",
       "      <td>A four-month work placement for Engineering st...</td>\n",
       "    </tr>\n",
       "    <tr>\n",
       "      <th>15</th>\n",
       "      <td>MATH 300</td>\n",
       "      <td>Advanced Boundary Value Problems I</td>\n",
       "      <td>Derivation of the classical partial differenti...</td>\n",
       "    </tr>\n",
       "    <tr>\n",
       "      <th>16</th>\n",
       "      <td>MEC E 300</td>\n",
       "      <td>Mechanical Measurements</td>\n",
       "      <td>Characterization and behavior of measuring sys...</td>\n",
       "    </tr>\n",
       "    <tr>\n",
       "      <th>17</th>\n",
       "      <td>MEC E 301</td>\n",
       "      <td>Mechanical Engineering Laboratory I</td>\n",
       "      <td>Laboratory experiments in mechanical engineeri...</td>\n",
       "    </tr>\n",
       "    <tr>\n",
       "      <th>18</th>\n",
       "      <td>MEC E 331</td>\n",
       "      <td>Fluid Mechanics I</td>\n",
       "      <td>External flow, boundary layers, momentum theor...</td>\n",
       "    </tr>\n",
       "    <tr>\n",
       "      <th>19</th>\n",
       "      <td>MEC E 371</td>\n",
       "      <td>Heat Transfer</td>\n",
       "      <td>Mechanisms of heat transfer, steady and unstea...</td>\n",
       "    </tr>\n",
       "    <tr>\n",
       "      <th>20</th>\n",
       "      <td>MEC E 380</td>\n",
       "      <td>Advanced Strength of Materials I</td>\n",
       "      <td>Stress, strain, stress-strain relation, time-i...</td>\n",
       "    </tr>\n",
       "    <tr>\n",
       "      <th>21</th>\n",
       "      <td>ENG M 310</td>\n",
       "      <td>Engineering Economy</td>\n",
       "      <td>The application of the fundamentals of economi...</td>\n",
       "    </tr>\n",
       "    <tr>\n",
       "      <th>22</th>\n",
       "      <td>ENG M 401</td>\n",
       "      <td>Financial Management for Engineers</td>\n",
       "      <td>The application of the fundamentals of enginee...</td>\n",
       "    </tr>\n",
       "    <tr>\n",
       "      <th>23</th>\n",
       "      <td>MEC E 340</td>\n",
       "      <td>Applied Thermodynamics</td>\n",
       "      <td>Review of thermodynamic principles. Applicatio...</td>\n",
       "    </tr>\n",
       "    <tr>\n",
       "      <th>24</th>\n",
       "      <td>MEC E 360</td>\n",
       "      <td>Mechanical Design II</td>\n",
       "      <td>Design procedures, theories of failure, materi...</td>\n",
       "    </tr>\n",
       "    <tr>\n",
       "      <th>25</th>\n",
       "      <td>MEC E 362</td>\n",
       "      <td>Mechanics of Machines</td>\n",
       "      <td>Velocities and acceleration in plane mechanism...</td>\n",
       "    </tr>\n",
       "    <tr>\n",
       "      <th>26</th>\n",
       "      <td>MEC E 390</td>\n",
       "      <td>Numerical Methods of Mechanical Engineers</td>\n",
       "      <td>Application of numerical methods to mechanical...</td>\n",
       "    </tr>\n",
       "    <tr>\n",
       "      <th>27</th>\n",
       "      <td>WKEXP 903</td>\n",
       "      <td>Engineering Work Experience III</td>\n",
       "      <td>A four-month work placement for Engineering st...</td>\n",
       "    </tr>\n",
       "    <tr>\n",
       "      <th>28</th>\n",
       "      <td>WKEXP 904</td>\n",
       "      <td>Engineering Work Experience IV</td>\n",
       "      <td>A four-month work placement for Engineering st...</td>\n",
       "    </tr>\n",
       "    <tr>\n",
       "      <th>29</th>\n",
       "      <td>ENGG 404</td>\n",
       "      <td>Engineering Safety and Risk Management-Leaders...</td>\n",
       "      <td>Basic concepts of risk and consequences of los...</td>\n",
       "    </tr>\n",
       "    <tr>\n",
       "      <th>30</th>\n",
       "      <td>MEC E 430</td>\n",
       "      <td>Fluid Mechanics II</td>\n",
       "      <td>Navier-Stokes equations, introductory computat...</td>\n",
       "    </tr>\n",
       "    <tr>\n",
       "      <th>31</th>\n",
       "      <td>MEC E 480</td>\n",
       "      <td>Advanced Strength of Materials II</td>\n",
       "      <td>Special topics for beams, torsion, pressure ve...</td>\n",
       "    </tr>\n",
       "    <tr>\n",
       "      <th>32</th>\n",
       "      <td>MEC E 463</td>\n",
       "      <td>Thermo-Fluids Systems Design</td>\n",
       "      <td>Design and optimization of thermo-fluid system...</td>\n",
       "    </tr>\n",
       "    <tr>\n",
       "      <th>33</th>\n",
       "      <td>WKEXP 905</td>\n",
       "      <td>Engineering Work Experience V</td>\n",
       "      <td>A four-month work placement for Engineering st...</td>\n",
       "    </tr>\n",
       "    <tr>\n",
       "      <th>34</th>\n",
       "      <td>CH E 448</td>\n",
       "      <td>Process Control for Mechanical Engineers</td>\n",
       "      <td>Introduction to systems modeling and transient...</td>\n",
       "    </tr>\n",
       "    <tr>\n",
       "      <th>35</th>\n",
       "      <td>MEC E 420</td>\n",
       "      <td>Feedback Control Design of Dynamic Systems</td>\n",
       "      <td>Design of linear feedback control systems for ...</td>\n",
       "    </tr>\n",
       "    <tr>\n",
       "      <th>36</th>\n",
       "      <td>ENGG 400</td>\n",
       "      <td>The Practice of the Engineering Profession</td>\n",
       "      <td>The technical and professional duties and resp...</td>\n",
       "    </tr>\n",
       "    <tr>\n",
       "      <th>37</th>\n",
       "      <td>MEC E 403</td>\n",
       "      <td>Mechanical Engineering Laboratory II</td>\n",
       "      <td>Selected laboratory experiments in applied mec...</td>\n",
       "    </tr>\n",
       "    <tr>\n",
       "      <th>38</th>\n",
       "      <td>MEC E 451</td>\n",
       "      <td>Vibrations and Sound</td>\n",
       "      <td>Free and forced vibration of single degree of ...</td>\n",
       "    </tr>\n",
       "    <tr>\n",
       "      <th>39</th>\n",
       "      <td>MEC E 460</td>\n",
       "      <td>Design Project</td>\n",
       "      <td>Feasibility study and detailed design of a pro...</td>\n",
       "    </tr>\n",
       "    <tr>\n",
       "      <th>40</th>\n",
       "      <td>MEC E 467</td>\n",
       "      <td>Modelling and Simulation of Engineering Systems</td>\n",
       "      <td>Modeling and analysis of systems and processes...</td>\n",
       "    </tr>\n",
       "    <tr>\n",
       "      <th>41</th>\n",
       "      <td>MEC E 468</td>\n",
       "      <td>Numerical Simulation in Mechanical Engineering...</td>\n",
       "      <td>Computer modelling in mechanical engineering. ...</td>\n",
       "    </tr>\n",
       "    <tr>\n",
       "      <th>42</th>\n",
       "      <td>MEC E 539</td>\n",
       "      <td>Applied Computational Fluid Dynamics</td>\n",
       "      <td>Model selection and simplification, grid gener...</td>\n",
       "    </tr>\n",
       "    <tr>\n",
       "      <th>43</th>\n",
       "      <td>MEC E 563</td>\n",
       "      <td>Finite Element Method for Mechanical Engineering</td>\n",
       "      <td>Application of finite element methods to mecha...</td>\n",
       "    </tr>\n",
       "  </tbody>\n",
       "</table>\n",
       "</div>"
      ],
      "text/plain": [
       "   Course Number                                        Course Name  \\\n",
       "0      CIV E 270                   Mechanics of Deformable Bodies I   \n",
       "1       ENGG 299               Orientation to Cooperative Education   \n",
       "2       MATH 209                                       Calculus III   \n",
       "3      MEC E 230              Introduction to Thermo-Fluid Sciences   \n",
       "4      MEC E 260                                Mechanical Design I   \n",
       "5      MEC E 265                       Engineering Graphics and CAD   \n",
       "6       STAT 235            Introductory Statistics for Engineering   \n",
       "7       CH E 243                         Engineering Thermodynamics   \n",
       "8        ECE 209             Fundamentals of Electrical Engineering   \n",
       "9      MAT E 202                               Materials Science II   \n",
       "10      MATH 201                             Differential Equations   \n",
       "11     MEC E 200             Introduction to Mechanical Engineering   \n",
       "12     MEC E 250                           Engineering Mechanics II   \n",
       "13     WKEXP 901                      Engineering Work Experience I   \n",
       "14     WKEXP 902                     Engineering Work Experience II   \n",
       "15      MATH 300                 Advanced Boundary Value Problems I   \n",
       "16     MEC E 300                            Mechanical Measurements   \n",
       "17     MEC E 301                Mechanical Engineering Laboratory I   \n",
       "18     MEC E 331                                  Fluid Mechanics I   \n",
       "19     MEC E 371                                      Heat Transfer   \n",
       "20     MEC E 380                   Advanced Strength of Materials I   \n",
       "21     ENG M 310                                Engineering Economy   \n",
       "22     ENG M 401                 Financial Management for Engineers   \n",
       "23     MEC E 340                             Applied Thermodynamics   \n",
       "24     MEC E 360                               Mechanical Design II   \n",
       "25     MEC E 362                              Mechanics of Machines   \n",
       "26     MEC E 390          Numerical Methods of Mechanical Engineers   \n",
       "27     WKEXP 903                    Engineering Work Experience III   \n",
       "28     WKEXP 904                     Engineering Work Experience IV   \n",
       "29      ENGG 404  Engineering Safety and Risk Management-Leaders...   \n",
       "30     MEC E 430                                 Fluid Mechanics II   \n",
       "31     MEC E 480                  Advanced Strength of Materials II   \n",
       "32     MEC E 463                       Thermo-Fluids Systems Design   \n",
       "33     WKEXP 905                      Engineering Work Experience V   \n",
       "34      CH E 448           Process Control for Mechanical Engineers   \n",
       "35     MEC E 420         Feedback Control Design of Dynamic Systems   \n",
       "36      ENGG 400         The Practice of the Engineering Profession   \n",
       "37     MEC E 403               Mechanical Engineering Laboratory II   \n",
       "38     MEC E 451                               Vibrations and Sound   \n",
       "39     MEC E 460                                     Design Project   \n",
       "40     MEC E 467    Modelling and Simulation of Engineering Systems   \n",
       "41     MEC E 468  Numerical Simulation in Mechanical Engineering...   \n",
       "42     MEC E 539               Applied Computational Fluid Dynamics   \n",
       "43     MEC E 563   Finite Element Method for Mechanical Engineering   \n",
       "\n",
       "                                   Course Description  \n",
       "0   Plane stress and strain; stress-strain relatio...  \n",
       "1   An examination of the history, philosophy and ...  \n",
       "2   Partial differentiation, derivatives of integr...  \n",
       "3   Introduction to modes of heat transfer. One di...  \n",
       "4   Design morphology, analysis and design of comp...  \n",
       "5   Engineering drawing and sketching, conventiona...  \n",
       "6   Descriptive data analysis. Calculus of Probabi...  \n",
       "7   An introduction to the first and second laws o...  \n",
       "8   Physical concepts of passive circuit elements,...  \n",
       "9   An introduction to the science of materials re...  \n",
       "10  First-order equations; second-order linear equ...  \n",
       "11  Introduction to the profession of mechanical e...  \n",
       "12  Moments of inertia. Kinematics and kinetics of...  \n",
       "13  A four-month work placement for Engineering st...  \n",
       "14  A four-month work placement for Engineering st...  \n",
       "15  Derivation of the classical partial differenti...  \n",
       "16  Characterization and behavior of measuring sys...  \n",
       "17  Laboratory experiments in mechanical engineeri...  \n",
       "18  External flow, boundary layers, momentum theor...  \n",
       "19  Mechanisms of heat transfer, steady and unstea...  \n",
       "20  Stress, strain, stress-strain relation, time-i...  \n",
       "21  The application of the fundamentals of economi...  \n",
       "22  The application of the fundamentals of enginee...  \n",
       "23  Review of thermodynamic principles. Applicatio...  \n",
       "24  Design procedures, theories of failure, materi...  \n",
       "25  Velocities and acceleration in plane mechanism...  \n",
       "26  Application of numerical methods to mechanical...  \n",
       "27  A four-month work placement for Engineering st...  \n",
       "28  A four-month work placement for Engineering st...  \n",
       "29  Basic concepts of risk and consequences of los...  \n",
       "30  Navier-Stokes equations, introductory computat...  \n",
       "31  Special topics for beams, torsion, pressure ve...  \n",
       "32  Design and optimization of thermo-fluid system...  \n",
       "33  A four-month work placement for Engineering st...  \n",
       "34  Introduction to systems modeling and transient...  \n",
       "35  Design of linear feedback control systems for ...  \n",
       "36  The technical and professional duties and resp...  \n",
       "37  Selected laboratory experiments in applied mec...  \n",
       "38  Free and forced vibration of single degree of ...  \n",
       "39  Feasibility study and detailed design of a pro...  \n",
       "40  Modeling and analysis of systems and processes...  \n",
       "41  Computer modelling in mechanical engineering. ...  \n",
       "42  Model selection and simplification, grid gener...  \n",
       "43  Application of finite element methods to mecha...  "
      ]
     },
     "execution_count": 54,
     "metadata": {},
     "output_type": "execute_result"
    }
   ],
   "source": [
    "df1 = pd.DataFrame({\n",
    "    \"Course Number\": course_codes,\n",
    "    \"Course Name\": course_names,\n",
    "    \"Course Description\": course_descs    \n",
    "})\n",
    "\n",
    "df = df.append(df1, ignore_index = True, sort = False)\n",
    "\n",
    "df"
   ]
  },
  {
   "cell_type": "markdown",
   "metadata": {},
   "source": [
    "# 5. Click on the second group of courses to open their info boxes"
   ]
  },
  {
   "cell_type": "markdown",
   "metadata": {},
   "source": [
    "yes I could've clicked on every link in one go and it'd be faster."
   ]
  },
  {
   "cell_type": "code",
   "execution_count": 55,
   "metadata": {
    "scrolled": true
   },
   "outputs": [
    {
     "data": {
      "text/plain": [
       "65"
      ]
     },
     "execution_count": 55,
     "metadata": {},
     "output_type": "execute_result"
    }
   ],
   "source": [
    "course_titles = [container.find(\"a\").text.strip() for container in program_electives_course_container1]\n",
    "len(course_titles)"
   ]
  },
  {
   "cell_type": "code",
   "execution_count": 56,
   "metadata": {},
   "outputs": [],
   "source": [
    "driver.get(url)"
   ]
  },
  {
   "cell_type": "code",
   "execution_count": 57,
   "metadata": {
    "scrolled": true
   },
   "outputs": [
    {
     "name": "stdout",
     "output_type": "stream",
     "text": [
      "opened  ACCTG 300 - Introduction to Accounting\n",
      "opened  ACCTG 311 - Introduction to Accounting for Financial Performance\n",
      "opened  B LAW 301 - Legal Foundations of the Canadian Economy\n",
      "opened  B LAW 422 - Law of Business Organizations\n",
      "opened  B LAW 444 - International Business Transactions\n",
      "opened  BIOCH 200 - Introductory Biochemistry\n",
      "opened  BIOL 107 - Introduction to Cell Biology\n",
      "opened  BIOL 108 - Introduction to Biological Diversity\n",
      "opened  BIOL 207 - Molecular Genetics and Heredity\n",
      "opened  BME 320 - Human Anatomy and Physiology: Cells and Tissue\n",
      "opened  BME 321 - Human Anatomy and Physiology: Systems\n",
      "opened  BME 513 - Imaging Methods in Medicine\n",
      "opened  BME 553 - Rehabilitation Engineering: Assisted Movement After Injury\n",
      "opened  BME 564 - Fundamentals of Magnetic Resonance Imaging, MRI\n",
      "opened  CH E 582 - Introduction to Biomaterials\n",
      "opened  CHEM 261 - Organic Chemistry I\n",
      "opened  CHEM 263 - Organic Chemistry II\n",
      "opened  ECE 405 - Biophysical Measurement and Instrumentation\n",
      "opened  ECE 440 - Digital Computer Processing of Images\n",
      "opened  ECE 449 - Intelligent Systems Engineering\n",
      "opened  ENGG 406 - Engineering Safety and Risk Management - Methodologies and Tools\n",
      "opened  ENGG 420 - Engineering Law\n",
      "opened  ENG M 402 - Project Management and Entrepreneurship\n",
      "opened  ENG M 408 - Manufacturing Systems and Engineering\n",
      "opened  ENG M 501 - Production and Operations Management\n",
      "opened  ENG M 508 - Energy Auditing and Management\n",
      "opened  ENG M 514 - Reliability Engineering\n",
      "opened  ENG M 516 - Maintenance Management\n",
      "opened  ENG M 530 - Engineering Project Management\n",
      "opened  ENG M 540 - Introduction to Optimization Models and Algorithms\n",
      "opened  ENG M 558 - Ergonomics and Work Design\n",
      "opened  FIN 301 - Introduction to Finance\n",
      "opened  MARK 301 - Introduction to Marketing\n",
      "opened  MATH 225 - Linear Algebra II\n",
      "opened  MATH 311 - Theory of Functions of a Complex Variable\n",
      "opened  MAT E 345 - Corrosion, Oxidation, and Degradation\n",
      "opened  MAT E 466 - Special Topics in Materials Engineering\n",
      "opened  MAT E 495 - Nanomaterials and Biomedical Applications\n",
      "opened  MEC E 364 - Manufacturing Processes\n",
      "opened  MEC E 409 - Experimental Design Project I\n",
      "opened  MEC E 415 - Busting Myths with Analysis\n",
      "opened  MEC E 430 - Fluid Mechanics II\n",
      "opened  MEC E 443 - Energy Conversion\n",
      "opened  MEC E 464 - Design for Manufacture\n",
      "opened  MEC E 466 - Building Systems Design\n",
      "opened  MEC E 467 - Modelling and Simulation of Engineering Systems\n",
      "opened  MEC E 468 - Numerical Simulation in Mechanical Engineering Design\n",
      "opened  MEC E 469 - Experimental Design Project II\n",
      "opened  MEC E 480 - Advanced Strength of Materials II\n",
      "opened  MEC E 485 - Biomechanical Modelling of Human Tissues and Systems\n",
      "opened  MEC E 494 - Introduction to Research\n",
      "opened  MEC E 495 - Research Project\n",
      "opened  MEC E 537 - Aerodynamics\n",
      "opened  MEC E 539 - Applied Computational Fluid Dynamics\n",
      "opened  MEC E 541 - Combustion Engines\n",
      "opened  MEC E 563 - Finite Element Method for Mechanical Engineering\n",
      "opened  OM 352 - Operations Management\n",
      "opened  PET E 275 - Petroleum Reservoir Fluids\n",
      "opened  PET E 364 - Drilling Engineering\n",
      "opened  PET E 365 - Well Logging and Formation Evaluation\n",
      "opened  PET E 366 - Petroleum Production Operations\n",
      "opened  PET E 444 - Natural Gas Engineering\n",
      "opened  PHYS 230 - Electricity and Magnetism\n",
      "opened  SEM 301 - Behavior in Organizations\n",
      "opened  SEM 321 - Introduction to Strategic Management and Organization Design\n"
     ]
    }
   ],
   "source": [
    "for text in course_titles:\n",
    "    link = driver.find_element_by_link_text(text)\n",
    "    link.click()\n",
    "    time.sleep(3)\n",
    "    print(\"opened \", text)"
   ]
  },
  {
   "cell_type": "markdown",
   "metadata": {},
   "source": [
    "# 6. Obtain the updated html of the webpage and scrape the second group of course codes, names, and descriptions"
   ]
  },
  {
   "cell_type": "code",
   "execution_count": 58,
   "metadata": {},
   "outputs": [],
   "source": [
    "page_soup = soup(driver.page_source, 'lxml')"
   ]
  },
  {
   "cell_type": "code",
   "execution_count": 59,
   "metadata": {},
   "outputs": [
    {
     "data": {
      "text/plain": [
       "59"
      ]
     },
     "execution_count": 59,
     "metadata": {},
     "output_type": "execute_result"
    }
   ],
   "source": [
    "all_container = page_soup.find(\"div\", {\"class\":\"custom_leftpad_20\"}) #contains all courses in the page\n",
    "electives_container = all_container.findAll(\"div\", {\"class\":\"custom_leftpad_20\"})[7]\n",
    "program_electives_containers = electives_container.findAll(\"div\", {\"class\": \"acalog-core\"})[:2]\n",
    "program_electives_course_container1 = program_electives_containers[1].findAll(\"li\", {\"class\":\"acalog-course acalog-course-open\"}) #contains all courses in the page\n",
    "len(program_electives_course_container1)"
   ]
  },
  {
   "cell_type": "code",
   "execution_count": 61,
   "metadata": {},
   "outputs": [
    {
     "data": {
      "text/plain": [
       "['ACCTG 300 - Introduction to Accounting  ★ 3 (fi 6) (either term, 3-0-0) Provides a basic understanding of accounting: how accounting numbers are generated, the meaning of accounting reports, and how to use accounting reports to make decisions. Note: Not open to students registered in the Faculty of Business. Not for credit in the Bachelor of Commerce Program.',\n",
       " 'ACCTG 311 - Introduction to Accounting for Financial Performance  ★ 3 (fi 6) (either term, 3-1.5s-0) How to prepare and interpret financial statements that report to decision makers external to the enterprise, such as shareholders and creditors. Course includes principles and standards of balance sheet valuation, income measurement, financial disclosure and cash flow analysis that link preparation and use of such statements. Prerequisites: ECON 101 and 102.',\n",
       " 'B LAW 301 - Legal Foundations of the Canadian Economy  ★ 3 (fi 6) (either term, 3-0-0) Synoptic view of Canadian legal system, with emphasis on underlying considerations of social policy. While considering the nature, sources, philosophy, and policy objectives of the law, selected topics from the fields of tort and contract will be analyzed. Credit will be granted for only one of B LAW 301 and ENGG 420.',\n",
       " 'B LAW 422 - Law of Business Organizations  ★ 3 (fi 6) (either term, 3-0-0) Introduction to the role of the corporation in the business and commercial life of Canada and Alberta, with emphasis on the small private company. Topics include characteristics of corporate existence, process of incorporation, forming a private company, relationship with third parties, distinction between management and ownership, duties of directors and officers, and shareholder rights. Prerequisite: B LAW 301 or ENGG 420.',\n",
       " 'B LAW 444 - International Business Transactions  ★ 3 (fi 6) (either term, 3-0-0) An overview of current international business patterns and the laws surrounding such patterns, with an emphasis on what makes them different from domestic ones. A major force underlying the internationalization of the world economy has been the rapid, sustained growth of international business, both in the traditional form of international trade and in the newer forms of multinational, global and transnational business. This course is designed to provide the student with a basic understanding of the major rules governing cross-border commercial transaction in the contexts of both substantive and procedural law.',\n",
       " 'BIOCH 200 - Introductory Biochemistry  ★ 3 (fi 6) (either term, 3-0-0) An introduction to the fundamental principles of biochemistry. Protein structure and function; enzymes; lipids and the structure of biological membranes; nucleotides and the structure of nucleic acids; bioenergetics and the catabolism of carbohydrates. Prerequisites: CHEM 101 and CHEM 261 or 164, or SCI 100.',\n",
       " 'BIOL 107 - Introduction to Cell Biology  ★ 3 (fi 6) (either term, 3-0-3) An introduction to cell structure and function. Major topics include the molecules and structures that comprise prokaryotic and eukaryotic cells, the mechanisms by which energy is harvested and used by cells, how cells reproduce, and how information is stored and used within a cell via the processes of DNA replication, transcription, and translation. Prerequisites: Biology 30 and Chemistry 30. Note: BIOL 107 is not a prerequisite for BIOL 108. BIOL 107 and 108 can be taken in either term.',\n",
       " 'BIOL 108 - Introduction to Biological Diversity  ★ 3 (fi 6) (either term, 3-0-3) Examines the major lineages of life on Earth. Overview of evolutionary principles and classification, the history of life, and the key adaptations of prokaryotes, protists, fungi, plants, and animals. Laboratories survey the diversity of biological form and function, and introduce students to data collection and scientific writing. Prerequisite: Biology 30. Note: BIOL 107 is not a prerequisite for BIOL 108. BIOL 107 and 108 can be taken in either term.',\n",
       " 'BIOL 207 - Molecular Genetics and Heredity  ★ 3 (fi 6) (either term, 3-0-3) The chromosomal and molecular basis for the transmission and function of genes. The construction of genetic and physical maps of genes and genomes. Strategies for the isolation of specific genes. Examples of regulatory mechanisms for the expression of the genetic material in both prokaryotes and eukaryotes. Prerequisite: BIOL 107 or SCI 100.',\n",
       " 'BME 320 - Human Anatomy and Physiology: Cells and Tissue  ★ 3 (fi 6) (first term, 3-0-0) An introduction to the fundamental levels of organization of the human body highlighted in engineering terms. The first half of the course will consider the chemical, cellular, and tissue levels of organization. The second half of the course will be devoted to bone, joints, muscle, and neural tissue. Guest lectures will include engineers and medical scientists to discuss the relationship between recent advances in biomedical engineering and the underlying anatomy and physiology. This course is intended for students in the Faculty of Engineering. Students from other faculties must obtain the consent of the Department of Biomedical Engineering. Credit may be obtained for only BME 210 or 320.',\n",
       " 'BME 321 - Human Anatomy and Physiology: Systems  ★ 3 (fi 6) (second term, 3-0-0) An introduction to the organization of the human body at the level of the anatomical systems highlighted in engineering terms. Lectures will be devoted to the circulatory, respiratory, digestive, urinary, nervous and endocrine systems, and fluid, electrolyte and acid-base homeostasis. Guest lectures will include engineers and medical scientists to discuss the relationship between recent advances in biomedical engineering and the underlying anatomy and physiology. This course is intended for students in the Faculty of Engineering. Students from other faculties must obtain the consent of the Department of Biomedical Engineering. Credit may be obtained for only BME 211 or 321. Prerequisite: BME 320 or consent of Instructor.',\n",
       " 'BME 513 - Imaging Methods in Medicine  ★ 3 (fi 6) (second term, 3-0-0) Introduction to basic physical and technological aspects of medical imaging. Emphasis on computed transmission and emission tomography, magnetic resonance, and ultrasound imaging. These methods are developed and contrasted in terms of how imaging information is generated, detected, and processed and how different hardware configurations and other factors limit image quality. Relative diagnostic potential of the imaging methods is also discussed in relation to future prospects of each method.',\n",
       " 'BME 553 - Rehabilitation Engineering: Assisted Movement After Injury  ★ 3 (fi 6) (second term, 3-1s-0) Introduction to rehabilitation techniques for assisting individuals with physical disabilities to reach, stand and walk. Biomechanics of intact and pathological movements and the use of assistive devices such as exoskeletal orthotics, neuroprosthetic devices and locomotor training are emphasized. Students are exposed to the concepts of biomechanical modeling, motion analysis, electrical stimulation, control systems, neuroregeneration, and pharmacology. Prerequisite: BME 320 and 321 or consent of Instructor.',\n",
       " 'BME 564 - Fundamentals of Magnetic Resonance Imaging, MRI  ★ 3 (fi 6) (first term, 3-0-0) Designed for graduate and advanced undergraduate students requiring a thorough grounding in the fundamentals of imaging by means of nuclear magnetic resonance, NMR. Topics include the principles of NMR as applied to imaging, image processing, imaging techniques for achieving specific types of contrast, image artefacts, and typical applications. Prerequisite: Consent of instructor.',\n",
       " 'CH E 582 - Introduction to Biomaterials  ★ 3.5 (fi 6) (either term, 3-1s-0) Survey of materials intended for biological applications; biomaterials-related biological phenomena (protein adsorption, blood coagulation and cell adhesion); biomaterials for engineering of blood vessel, bone and skin tissues. Two fundamental engineering philosophies will be stressed: structure-function relationship and purposeful manipulation for a desired outcome. Prerequisite: BIOL 107 or BME 210 or CH E 484 or consent of Instructor.',\n",
       " 'CHEM 261 - Organic Chemistry I  ★ 3 (fi 6) (either term, 3-0-3) The correlation of structure and chemical bonding in carbon compounds with the physical properties and chemical reactivity of organic molecules. Discussion will be based on functional groups with emphasis on hydrocarbons and derivatives that contain halogens, oxygen, sulfur, and the hydroxy group. Introduction to stereochemistry, three dimensional structure, reaction mechanisms, especially addition to double bonds, nucleophilic substitution and elimination reactions. Prerequisite CHEM 101 or 103. Note: Students who have obtained credit for CHEM 161 or 164 cannot take CHEM 261 for credit. Engineering students who take this course will receive *4.5.',\n",
       " 'CHEM 263 - Organic Chemistry II  ★ 3 (fi 6) (either term, 3-0-3) Continuation of the structural and chemical properties of the basic functional groups of organic compounds including alkynes, aromatic compounds, aldehydes, ketones, carboxylic acids and their derivatives and amines. Illustration of these functional groups in natural products such as carbohydrates, amino acids and proteins, nucleic acids and lipids. Discussion of the application of spectroscopic methods for the structure determination in simple organic molecules. Prerequisites: CHEM 161 or 164 or 261 or SCI 100. Note: Students who have obtained credit for CHEM 163 cannot take CHEM 263 for credit.',\n",
       " 'ECE 405 - Biophysical Measurement and Instrumentation  ★ 3 (fi 8) (first term, 3-0-0) Introduction to the principles of biophysical instrumentation. Various sensors are examined including strain gauges, inductive, capacitive, thermal, and piezoelectric sensors. Methods of measuring blood pressure are discussed. Origin of biopotentials; membrane and action potentials. Measurement of bioelectrical signals such as the ECG and EMG. Electrical safety, noise, impedance matching, and analog-to-digital conversion. Applications of electrodes, biochemical sensors, and lasers. Prerequisite: ECE 203 or E E 250 or consent of the Instructor. Credit may be obtained in only one of ECE 405 or EE BE 512.',\n",
       " 'ECE 440 - Digital Computer Processing of Images  ★ 3.8 (fi 8) (either term, 3-0-3/2) Extension of sampling theory and the Fourier transform to two dimensions, pixel operations including gray-level modification, algebraic and geometric transformations. The design of spatial filters for noise reduction, image sharpening and edge enhancement, and some discussion of interpolation techniques. An introduction to the concepts of image restoration from known degradations and the reconstruction of images from parallel and fan projections. Prerequisite: ECE 340 or E E 338 or consent of Instructor. Credit may be obtained in only one of EE BE 540 or ECE 440.',\n",
       " 'ECE 449 - Intelligent Systems Engineering  ★ 3.8 (fi 8) (either term, 3-0-3/2) Intelligent systems for automatic control and data analysis. The concepts of vagueness and uncertainty, approximate reasoning, fuzzy rule-based systems and fuzzy control. Strategies for learning and adaptation, supervised and reinforcement learning, self-organization and the selection of neural network architectures. Discussion of the principles of search and optimization, evolution and natural selection and genetic algorithms. Introduction to hybrid intelligence. Applications of intelligent systems for pattern recognition, classification, forecasting, decision support, and control. Credit may be obtained in only one of CMPE 449 or ECE 449.',\n",
       " 'ENGG 406 - Engineering Safety and Risk Management - Methodologies and Tools  ★ 3.8 (fi 8) (either term or Spring/Summer, 3-3s/2-0) Introduction to process safety. Basic concepts of fires, explosions and releases. Introduction to process hazards analysis, methodologies and tools. Overview of process safety management frameworks. Case studies and industrial tour(s) demonstrate the application of specialized tools and methodologies in complex industrial operations across all engineering disciplines. Seminars develop competencies and proficiencies in applying these specialized methodologies and tools towards proactive risk management. Requires payment of additional student instructional support fees Refer to the Tuition and Fees page in the University Regulations section of the Calendar. Prerequisite: ENGG 404 or consent of the instructor.',\n",
       " 'ENGG 420 - Engineering Law  ★ 3 (fi 8) (either term, 3-0-0) Contracts; specifications; tenders; bonds; construction contract forms; Public Works Act; building trades; company law; the engineer as an expert witness; patents; trademarks; copyrights; negligence; arbitration. Note: Restricted enrolment. Credit will not be granted for both ENGG 420 and B LAW 301.\\n\\nPlease note [May 5, 2021] - A note about which office approved registration was removed.\\xa0 See Addenda and Errata\\xa0\\xa0for more information.',\n",
       " 'ENG M 402 - Project Management and Entrepreneurship  ★ 3 (fi 8) (either term, 3-0-0) Introduction to the conceptual and practical considerations in identifying and developing new products. The theory and practice of project management applied to the creation of new business activities and ventures will be discussed. Topics include project management, innovation and entrepreneurship, business planning, marketing, and mobilizing human and financial resources. These will be applied in the development of a business plan for a business concept. The course is intended to provide engineering and business students with an awareness of specific planning, budgeting and scheduling techniques that can be used to implement and monitor new business activities. This course is open to Business and Science students with consent of Instructor. Note: Credit cannot be obtained for both ENGG 402 and ENG M 402.',\n",
       " 'ENG M 408 - Manufacturing Systems and Engineering  ★ 3.8 (fi 8) (either term or Spring/Summer, 3-0-3/2) Manufacturing process modeling and system design; computer aided process planning; scheduling of manufacturing activities; computer aided manufacturing; integration for different machining processes; plastic parts and mold design; sheet metal parts and die design; robotics in manufacturing; welding process and control; Design considerations; Shop floor control; and engineering collaboration. Prerequisite: MEC E 265.',\n",
       " 'ENG M 501 - Production and Operations Management  ★ 3 (fi 6) (either term, 3-0-0) Production and operations management, analysis, and design of work, forecasting, inventory management including MRP, JIT, and Kanban, maintenance management, facility layout, operations scheduling, and project planning and management. Credit cannot be obtained in both ENG M 501 and MEC E 513. Prerequisites: one of ENGG 310, 401 or ENG M 310, 401 and STAT 235 or equivalent.',\n",
       " 'ENG M 508 - Energy Auditing and Management  ★ 3 (fi 6) (either term, 3-0-0) Concepts and value of energy management and conservation. Methodologies for energy management in energy intensive systems in various industries. Energy auditing methods and implementation. Energy accounting and economic analysis. Energy audits and maintenance. Exposure to software for energy auditing.',\n",
       " 'ENG M 514 - Reliability Engineering  ★ 3 (fi 6) (either term, 3-0-0) Concepts of reliability, failure rate, maintainability, and availability. Properties of various statistical distributions and their applications in reliability engineering. Failure data analysis techniques including probability plotting. Load and strength interference in mechanical component design. System reliability models and system reliability evaluation methods. Optimal system design considering reliability issues. Prerequisite: STAT 235 or equivalent.',\n",
       " 'ENG M 516 - Maintenance Management  ★ 3 (fi 6) (either term, 3-0-0) Maintenance management of industrial assets. Preventative maintenance decisions. Spare parts provisioning. Predictive maintenance decisions. Reliability centered maintenance. Total productive maintenance. Case studies. Prerequisite: STAT 235 or equivalent.',\n",
       " 'ENG M 530 - Engineering Project Management  ★ 3 (fi 6) (either term or Spring/Summer, 3-0-0) Introduction to project management tools, techniques, templates, and methodologies. This course examines the eight knowledge areas of the Project Management Institute (PMI) which provide an integrated approach to managing engineering projects. Prerequisites: One of ENGG 310, 401 or ENG M 310, 401.',\n",
       " 'ENG M 540 - Introduction to Optimization Models and Algorithms  ★ 3 (fi 6) (either term, 3-0-0) An introduction to optimization methods in solving engineering management problems. Both modeling techniques and algorithms will be covered. Topics include linear programming, formulation and modeling techniques, the simplex method, sensitivity analysis, duality, transportation and network problems, algorithmic and heuristic methods, integer programming, and/or non-linear programming. Credit cannot be obtained in both ENG M 540 and ENG M 640.',\n",
       " 'ENG M 558 - Ergonomics and Work Design  ★ 3 (fi 6) (either term, 3-0-0) Fundamental methods for the analysis of human systems in industrial engineering. Human-machine interaction. Engineering of the workplace and the work environment. Motion and time study. Standards in ergonomics and work design.',\n",
       " 'FIN 301 - Introduction to Finance  ★ 3 (fi 6) (either term, 3-1s-0) Types of securities and basic methods of valuation. Valuation and selection of physical and intellectual assets. Operation of asset markets and market efficiency. Risk measures and risk reduction methods. Financing policy, including choices between debt and equity financing. Note: Students are expected to have basic familiarity with microcomputer applications. Prerequisite: STAT 151, SCI 151 or equivalent. Pre- or corequisite: MGTSC 312, ACCTG 300 or 311.',\n",
       " 'MARK 301 - Introduction to Marketing  ★ 3 (fi 6) (either term, 3-0-0) Students are introduced to the marketing concept and the role of marketing within the overall business framework. The basic tools of marketing are introduced: market segmentation, positioning, product, price, distribution, and promotion, together with marketing research, consumer behavior, planning, and global marketing. A critical theme of the course is the need for the marketing mix to fit with the requirements of consumers, the competitive environment, company strengths, and community expectations. These issues are considered from strategic and tactical perspectives. Prerequisites: ECON 101 or ECON 204.',\n",
       " 'MATH 225 - Linear Algebra II  ★ 3 (fi 6) (either term, 3-0-0) Vector spaces. Inner product spaces. Examples of n-space and the space of continuous functions. Gram-Schmidt process, QR factorization of a matrix and least squares. Linear transformations, change of basis, similarity and diagonalization. Orthogonal diagonalization, quadratic forms. Applications in a variety of fields. Prerequisites: One of MATH 100, 113, 114, 117, 134, 144, 154 or SCI 100, and one of MATH 102, 125 or 127. Note: Credit can be obtained in at most one of MATH 225 or 227.',\n",
       " 'MATH 311 - Theory of Functions of a Complex Variable  ★ 3 (fi 6) (either term, 3-0-0) Complex numbers. Complex series. Functions of a complex variable. Cauchy’s theorem and contour integration. Residue Theorem and its applications. Prerequisite or corequisite: A Calculus IV course.',\n",
       " 'MAT E 345 - Corrosion, Oxidation, and Degradation  ★ 3 (fi 8) (second term, 3-0-0) The environments materials experience in service. Theory of corrosion. The eight forms of corrosion. Corrosion measurements, protection, coatings, materials selection, and designing for corrosion. High temperature oxidation and its control. Degradation of non-metallic materials. Prerequisites: MAT E 201 or 202, and MAT E 341.',\n",
       " 'MAT E 466 - Special Topics in Materials Engineering  ★ 3 (fi 8) (either term or Spring/Summer, 3-0-0) An advanced treatment of selected Materials Engineering topics of current interest. Prerequisite: Consent of Department.',\n",
       " 'MAT E 495 - Nanomaterials and Biomedical Applications  ★ 3.5 (fi 8) (either term or Spring/Summer, 3-1s-0) Survey of nanostructured materials, including processing techniques, properties (mechanical, physical and chemical), characterization, and characterization tools. Introduction to biomedical applications of nanomaterials for diagnosis, therapy and medical implants. Credit may not be obtained in this course if previous credit has been obtained in MAT E 458. Prerequisite: CH E 243 or equivalent, or consent of instructor',\n",
       " 'MEC E 364 - Manufacturing Processes  ★ 3.5 (fi 8) (either term or Spring/Summer, 2-0-3) Primary manufacturing processes including casting, forming, machining, powdered metallurgy and surface technology, interactions between design, materials (metals, polymers, ceramics, composites) and processes, selected field trips and laboratory activities. Requires payment of additional student instructional support fees. Refer to the Tuition and Fees page in the University Regulations section of the Calendar. Prerequisite: MEC E 260.',\n",
       " 'MEC E 409 - Experimental Design Project I  ★ 4 (fi 8) (either term or Spring/Summer, 2-0-4) Selected group projects in experimental measurement and mechanical design. Two to four person groups develop planning, design, testing and report writing skills on projects in applied mechanics, thermosciences and engineering management. Prerequisites: MEC E 301 and ENG M 310 or 401.',\n",
       " 'MEC E 415 - Busting Myths with Analysis  ★ 3 (fi 8) (either term or Spring/Summer, 3-0-0) Engineering analysis is used to examine the veracity of commonly held science and technology myths. Prerequisites: MEC E 330 or 331, 340, 370 or 371, 380, 390, MATH 300.',\n",
       " 'MEC E 443 - Energy Conversion  ★ 3 (fi 8) (either term or Spring/Summer, 3-0-0) Sources, flow and overall efficiency of use of various energy forms in society, thermodynamic analysis of energy conversion devices such as thermoelectric and magnetohydrodynamic generators, solar and fuel cells, energy from fission and fusion reactors. Prerequisite: MEC E 340.',\n",
       " 'MEC E 464 - Design for Manufacture  ★ 4 (fi 3) (either term or Spring/Summer, 1-2s-4) Design of machine components for ease of manufacture. Application of measurement, inspection, and reverse engineering techniques. Preparation of working drawings for manufacturing. Introduction to machining operations, including hands-on machine shop practice. Evaluation of design performance. Sections offered at an increased rate of fee assessment; refer to the Tuition and Fees page in the University Regulations sections of the Calendar. Prerequisites: MEC E 260, 265, 300, and 301.',\n",
       " 'MEC E 466 - Building Systems Design  ★ 4 (fi 8) (either term or Spring/Summer, 3-0-2) Design and analysis of building systems for maintaining the indoor environment. Design of heating, ventilation and air conditioning systems through load calculations, equipment selection and specification. Prerequisites: MEC E 340, 370 or 371.',\n",
       " 'MEC E 469 - Experimental Design Project II  ★ 2.5 (fi 6) (either term or Spring/Summer, 1-0-3) Advanced project in experimental measurement and mechanical designs in applied mechanics, thermosciences and engineering management. Prerequisite: MEC E 409.',\n",
       " 'MEC E 485 - Biomechanical Modelling of Human Tissues and Systems  ★ 3 (fi 8) (either term, 3-0-0) Biomechanics; mechanical characterization of biological tissues using elastic and viscoelastic models. Rheology of blood and flow properties. Static and dynamic analyses of selected physiological systems. Application of biomaterials in external and internal prostheses. Prerequisites: BME 320 and 321; MEC E 300, 362, 380; and MEC E 330 or 331. Credit cannot be obtained in both MEC E 585 and 485.',\n",
       " 'MEC E 494 - Introduction to Research  ★ .5 (fi 2) (either term or Spring/Summer, 0-1s-0) Introduction to methods of mechanical engineering research. Organizational seminars for the research project in the following term. Prerequisites: MEC E 330, 380, and consent of Department.',\n",
       " 'MEC E 495 - Research Project  ★ 3 (fi 8) (either term or Spring/Summer, 0-0-6) Mechanical Engineering undergraduate research project with a faculty member.   Prerequisites: MEC E 494 and consent of Department.',\n",
       " 'MEC E 537 - Aerodynamics  ★ 3 (fi 6) (either term or Spring/Summer, 3-0-0) Boundary layer flow, vorticity, circulation and aerodynamic lift, wing theory, aeronautical applications. Prerequisite: MEC E 330 or 331.',\n",
       " 'MEC E 541 - Combustion Engines  ★ 3 (fi 6) (either term or Spring/Summer, 3-0-0) History of basic cycles, combustion theory including ignition flame propagation and engine knock, cycle analysis with deviations from ideal cycles and performance characteristics, fuels, design and operation of carburation and injection processes, exhaust emissions measurements. Identification of design parameters and their effect on emissions. Prerequisite: MEC E 340.',\n",
       " 'OM 352 - Operations Management  ★ 3 (fi 6) (either term, 3-0-1) A problem-solving course which introduces the student to deterministic and stochastic models which are useful for production planning and operations management in business and government. Note: Students are expected to have basic familiarity with microcomputer applications. Prerequisite: MATH 114 or equivalent and STAT 151 or equivalent.',\n",
       " 'PET E 275 - Petroleum Reservoir Fluids  ★ 3.8 (fi 8) (either term, 3-0-3/2) Qualitative and quantitative phase behavior of petroleum reservoir fluids through the algebraic and numerical application of thermodynamic theory, equations of state, and empirical correlations. Determination of engineering PVT parameters. Oilfield waters. Introduction to mass transfer. Prerequisite: CHEM 105.',\n",
       " 'PET E 364 - Drilling Engineering  ★ 4.3 (fi 8) (either term, 3-1s-3/2) Rotary drilling systems, elements of rock mechanics, properties and field testing procedures of drilling fluids, drilling fluids hydraulics, drill bit hydraulics and mechanics, well control, factors affecting rate of penetration, drill string mechanics, fundamentals of directional drilling. Prerequisites: CH E 312 or equivalent and CIV E 270.',\n",
       " 'PET E 365 - Well Logging and Formation Evaluation  ★ 3.5 (fi 8) (either term, 3-1s-0) Theory and engineering applications of measurements of physical properties of the formation near the well bore; interpretation and use of the information in reservoir engineering. Prerequisite: PET E 275.',\n",
       " 'PET E 366 - Petroleum Production Operations  ★ 3 (fi 8) (second term, 3-0-0) Land units in Western Canada, types and characteristics of well completions, perforating, wellbore damage and simulation, combined inflow and well performance analysis, multiphase flow through conduits, oil well pumping, gas lift, surface facilities and flow measurement, applied mass transfer. Prerequisite: CH E 312.',\n",
       " 'PET E 444 - Natural Gas Engineering  ★ 3 (fi 8) (either term, 3-0-0) Topics include gas properties, reserves estimation, gas well deliverability, gas well testing, gas storage, surface facilities, and transmission. Production of unconventional gas reservoirs (coal beds, hydrates, tight sand and shale gas). Prerequisite: PET E 275.',\n",
       " 'PHYS 230 - Electricity and Magnetism  ★ 3.8 (fi 6) (either term, 3-0-3/2) Electric fields, Gauss’ Law; electric potential; capacitance and dielectrics; electric current and resistance; magnetic fields, Ampere’s Law; Faraday’s Law; inductance; magnetic properties of matter. Prerequisites: PHYS 130 or 146, and MATH 100 or 113 or 114 or 117. Pre- or corequisite: MATH 101 or 115 or 118. For Science students only: SCI 100 may be used in lieu of PHYS 146, MATH 114 and 115. Note: Restricted to Engineering students. Other students who take this course will receive *3.0. Credit may normally be obtained for only one of PHYS 230 or 281.',\n",
       " 'SEM 301 - Behavior in Organizations  ★ 3 (fi 6) (either term, 3-0-0) Provides an understanding of the behavior of individuals in organizations. Draws from psychology, sociology, organization theory and covers topics such as personality, motivation, leadership, communication, conflict, and group dynamics. Prerequisite: Not open to students in the Faculty of Business. Open only to students from other faculties where the course is a requirement. Not to be taken by students with credit in SEM 200, 201 or 310.',\n",
       " 'SEM 321 - Introduction to Strategic Management and Organization Design  ★ 3 (fi 6) (either term, 3-0-0) Explores why organizations such as McDonalds, Northern Telecom, Bennetton, Wal-Mart and the University of Alberta use different patterns of organization. Examines the political and behavioral dynamics of management decision making. Prerequisite: SEM 201, 301 or 310. Open to third- and fourth-year students.']"
      ]
     },
     "execution_count": 61,
     "metadata": {},
     "output_type": "execute_result"
    }
   ],
   "source": [
    "course_descs = [container.find(\"div\", {\"class\": None}).text.strip() for container in program_electives_course_container1]\n",
    "course_descs"
   ]
  },
  {
   "cell_type": "code",
   "execution_count": 62,
   "metadata": {},
   "outputs": [
    {
     "data": {
      "text/plain": [
       "['Provides a basic understanding of accounting: how accounting numbers are generated, the meaning of accounting reports, and how to use accounting reports to make decisions. Note: Not open to students registered in the Faculty of Business. Not for credit in the Bachelor of Commerce Program.',\n",
       " 'How to prepare and interpret financial statements that report to decision makers external to the enterprise, such as shareholders and creditors. Course includes principles and standards of balance sheet valuation, income measurement, financial disclosure and cash flow analysis that link preparation and use of such statements. Prerequisites: ECON 101 and 102.',\n",
       " 'Synoptic view of Canadian legal system, with emphasis on underlying considerations of social policy. While considering the nature, sources, philosophy, and policy objectives of the law, selected topics from the fields of tort and contract will be analyzed. Credit will be granted for only one of B LAW 301 and ENGG 420.',\n",
       " 'Introduction to the role of the corporation in the business and commercial life of Canada and Alberta, with emphasis on the small private company. Topics include characteristics of corporate existence, process of incorporation, forming a private company, relationship with third parties, distinction between management and ownership, duties of directors and officers, and shareholder rights. Prerequisite: B LAW 301 or ENGG 420.',\n",
       " 'An overview of current international business patterns and the laws surrounding such patterns, with an emphasis on what makes them different from domestic ones. A major force underlying the internationalization of the world economy has been the rapid, sustained growth of international business, both in the traditional form of international trade and in the newer forms of multinational, global and transnational business. This course is designed to provide the student with a basic understanding of the major rules governing cross-border commercial transaction in the contexts of both substantive and procedural law.',\n",
       " 'An introduction to the fundamental principles of biochemistry. Protein structure and function; enzymes; lipids and the structure of biological membranes; nucleotides and the structure of nucleic acids; bioenergetics and the catabolism of carbohydrates. Prerequisites: CHEM 101 and CHEM 261 or 164, or SCI 100.',\n",
       " 'An introduction to cell structure and function. Major topics include the molecules and structures that comprise prokaryotic and eukaryotic cells, the mechanisms by which energy is harvested and used by cells, how cells reproduce, and how information is stored and used within a cell via the processes of DNA replication, transcription, and translation. Prerequisites: Biology 30 and Chemistry 30. Note: BIOL 107 is not a prerequisite for BIOL 108. BIOL 107 and 108 can be taken in either term.',\n",
       " 'Examines the major lineages of life on Earth. Overview of evolutionary principles and classification, the history of life, and the key adaptations of prokaryotes, protists, fungi, plants, and animals. Laboratories survey the diversity of biological form and function, and introduce students to data collection and scientific writing. Prerequisite: Biology 30. Note: BIOL 107 is not a prerequisite for BIOL 108. BIOL 107 and 108 can be taken in either term.',\n",
       " 'The chromosomal and molecular basis for the transmission and function of genes. The construction of genetic and physical maps of genes and genomes. Strategies for the isolation of specific genes. Examples of regulatory mechanisms for the expression of the genetic material in both prokaryotes and eukaryotes. Prerequisite: BIOL 107 or SCI 100.',\n",
       " 'An introduction to the fundamental levels of organization of the human body highlighted in engineering terms. The first half of the course will consider the chemical, cellular, and tissue levels of organization. The second half of the course will be devoted to bone, joints, muscle, and neural tissue. Guest lectures will include engineers and medical scientists to discuss the relationship between recent advances in biomedical engineering and the underlying anatomy and physiology. This course is intended for students in the Faculty of Engineering. Students from other faculties must obtain the consent of the Department of Biomedical Engineering. Credit may be obtained for only BME 210 or 320.',\n",
       " 'An introduction to the organization of the human body at the level of the anatomical systems highlighted in engineering terms. Lectures will be devoted to the circulatory, respiratory, digestive, urinary, nervous and endocrine systems, and fluid, electrolyte and acid-base homeostasis. Guest lectures will include engineers and medical scientists to discuss the relationship between recent advances in biomedical engineering and the underlying anatomy and physiology. This course is intended for students in the Faculty of Engineering. Students from other faculties must obtain the consent of the Department of Biomedical Engineering. Credit may be obtained for only BME 211 or 321. Prerequisite: BME 320 or consent of Instructor.',\n",
       " 'Introduction to basic physical and technological aspects of medical imaging. Emphasis on computed transmission and emission tomography, magnetic resonance, and ultrasound imaging. These methods are developed and contrasted in terms of how imaging information is generated, detected, and processed and how different hardware configurations and other factors limit image quality. Relative diagnostic potential of the imaging methods is also discussed in relation to future prospects of each method.',\n",
       " 'Introduction to rehabilitation techniques for assisting individuals with physical disabilities to reach, stand and walk. Biomechanics of intact and pathological movements and the use of assistive devices such as exoskeletal orthotics, neuroprosthetic devices and locomotor training are emphasized. Students are exposed to the concepts of biomechanical modeling, motion analysis, electrical stimulation, control systems, neuroregeneration, and pharmacology. Prerequisite: BME 320 and 321 or consent of Instructor.',\n",
       " 'Designed for graduate and advanced undergraduate students requiring a thorough grounding in the fundamentals of imaging by means of nuclear magnetic resonance, NMR. Topics include the principles of NMR as applied to imaging, image processing, imaging techniques for achieving specific types of contrast, image artefacts, and typical applications. Prerequisite: Consent of instructor.',\n",
       " 'Survey of materials intended for biological applications; biomaterials-related biological phenomena (protein adsorption, blood coagulation and cell adhesion); biomaterials for engineering of blood vessel, bone and skin tissues. Two fundamental engineering philosophies will be stressed: structure-function relationship and purposeful manipulation for a desired outcome. Prerequisite: BIOL 107 or BME 210 or CH E 484 or consent of Instructor.',\n",
       " 'The correlation of structure and chemical bonding in carbon compounds with the physical properties and chemical reactivity of organic molecules. Discussion will be based on functional groups with emphasis on hydrocarbons and derivatives that contain halogens, oxygen, sulfur, and the hydroxy group. Introduction to stereochemistry, three dimensional structure, reaction mechanisms, especially addition to double bonds, nucleophilic substitution and elimination reactions. Prerequisite CHEM 101 or 103. Note: Students who have obtained credit for CHEM 161 or 164 cannot take CHEM 261 for credit. Engineering students who take this course will receive *4.5.',\n",
       " 'Continuation of the structural and chemical properties of the basic functional groups of organic compounds including alkynes, aromatic compounds, aldehydes, ketones, carboxylic acids and their derivatives and amines. Illustration of these functional groups in natural products such as carbohydrates, amino acids and proteins, nucleic acids and lipids. Discussion of the application of spectroscopic methods for the structure determination in simple organic molecules. Prerequisites: CHEM 161 or 164 or 261 or SCI 100. Note: Students who have obtained credit for CHEM 163 cannot take CHEM 263 for credit.',\n",
       " 'Introduction to the principles of biophysical instrumentation. Various sensors are examined including strain gauges, inductive, capacitive, thermal, and piezoelectric sensors. Methods of measuring blood pressure are discussed. Origin of biopotentials; membrane and action potentials. Measurement of bioelectrical signals such as the ECG and EMG. Electrical safety, noise, impedance matching, and analog-to-digital conversion. Applications of electrodes, biochemical sensors, and lasers. Prerequisite: ECE 203 or E E 250 or consent of the Instructor. Credit may be obtained in only one of ECE 405 or EE BE 512.',\n",
       " 'Extension of sampling theory and the Fourier transform to two dimensions, pixel operations including gray-level modification, algebraic and geometric transformations. The design of spatial filters for noise reduction, image sharpening and edge enhancement, and some discussion of interpolation techniques. An introduction to the concepts of image restoration from known degradations and the reconstruction of images from parallel and fan projections. Prerequisite: ECE 340 or E E 338 or consent of Instructor. Credit may be obtained in only one of EE BE 540 or ECE 440.',\n",
       " 'Intelligent systems for automatic control and data analysis. The concepts of vagueness and uncertainty, approximate reasoning, fuzzy rule-based systems and fuzzy control. Strategies for learning and adaptation, supervised and reinforcement learning, self-organization and the selection of neural network architectures. Discussion of the principles of search and optimization, evolution and natural selection and genetic algorithms. Introduction to hybrid intelligence. Applications of intelligent systems for pattern recognition, classification, forecasting, decision support, and control. Credit may be obtained in only one of CMPE 449 or ECE 449.',\n",
       " 'Introduction to process safety. Basic concepts of fires, explosions and releases. Introduction to process hazards analysis, methodologies and tools. Overview of process safety management frameworks. Case studies and industrial tour(s) demonstrate the application of specialized tools and methodologies in complex industrial operations across all engineering disciplines. Seminars develop competencies and proficiencies in applying these specialized methodologies and tools towards proactive risk management. Requires payment of additional student instructional support fees Refer to the Tuition and Fees page in the University Regulations section of the Calendar. Prerequisite: ENGG 404 or consent of the instructor.',\n",
       " 'Contracts; specifications; tenders; bonds; construction contract forms; Public Works Act; building trades; company law; the engineer as an expert witness; patents; trademarks; copyrights; negligence; arbitration. Note: Restricted enrolment. Credit will not be granted for both ENGG 420 and B LAW 301.\\n\\nPlease note [May 5, 2021] - A note about which office approved registration was removed.\\xa0 See Addenda and Errata\\xa0\\xa0for more information.',\n",
       " 'Introduction to the conceptual and practical considerations in identifying and developing new products. The theory and practice of project management applied to the creation of new business activities and ventures will be discussed. Topics include project management, innovation and entrepreneurship, business planning, marketing, and mobilizing human and financial resources. These will be applied in the development of a business plan for a business concept. The course is intended to provide engineering and business students with an awareness of specific planning, budgeting and scheduling techniques that can be used to implement and monitor new business activities. This course is open to Business and Science students with consent of Instructor. Note: Credit cannot be obtained for both ENGG 402 and ENG M 402.',\n",
       " 'Manufacturing process modeling and system design; computer aided process planning; scheduling of manufacturing activities; computer aided manufacturing; integration for different machining processes; plastic parts and mold design; sheet metal parts and die design; robotics in manufacturing; welding process and control; Design considerations; Shop floor control; and engineering collaboration. Prerequisite: MEC E 265.',\n",
       " 'Production and operations management, analysis, and design of work, forecasting, inventory management including MRP, JIT, and Kanban, maintenance management, facility layout, operations scheduling, and project planning and management. Credit cannot be obtained in both ENG M 501 and MEC E 513. Prerequisites: one of ENGG 310, 401 or ENG M 310, 401 and STAT 235 or equivalent.',\n",
       " 'Concepts and value of energy management and conservation. Methodologies for energy management in energy intensive systems in various industries. Energy auditing methods and implementation. Energy accounting and economic analysis. Energy audits and maintenance. Exposure to software for energy auditing.',\n",
       " 'Concepts of reliability, failure rate, maintainability, and availability. Properties of various statistical distributions and their applications in reliability engineering. Failure data analysis techniques including probability plotting. Load and strength interference in mechanical component design. System reliability models and system reliability evaluation methods. Optimal system design considering reliability issues. Prerequisite: STAT 235 or equivalent.',\n",
       " 'Maintenance management of industrial assets. Preventative maintenance decisions. Spare parts provisioning. Predictive maintenance decisions. Reliability centered maintenance. Total productive maintenance. Case studies. Prerequisite: STAT 235 or equivalent.',\n",
       " 'Introduction to project management tools, techniques, templates, and methodologies. This course examines the eight knowledge areas of the Project Management Institute (PMI) which provide an integrated approach to managing engineering projects. Prerequisites: One of ENGG 310, 401 or ENG M 310, 401.',\n",
       " 'An introduction to optimization methods in solving engineering management problems. Both modeling techniques and algorithms will be covered. Topics include linear programming, formulation and modeling techniques, the simplex method, sensitivity analysis, duality, transportation and network problems, algorithmic and heuristic methods, integer programming, and/or non-linear programming. Credit cannot be obtained in both ENG M 540 and ENG M 640.',\n",
       " 'Fundamental methods for the analysis of human systems in industrial engineering. Human-machine interaction. Engineering of the workplace and the work environment. Motion and time study. Standards in ergonomics and work design.',\n",
       " 'Types of securities and basic methods of valuation. Valuation and selection of physical and intellectual assets. Operation of asset markets and market efficiency. Risk measures and risk reduction methods. Financing policy, including choices between debt and equity financing. Note: Students are expected to have basic familiarity with microcomputer applications. Prerequisite: STAT 151, SCI 151 or equivalent. Pre- or corequisite: MGTSC 312, ACCTG 300 or 311.',\n",
       " 'Students are introduced to the marketing concept and the role of marketing within the overall business framework. The basic tools of marketing are introduced: market segmentation, positioning, product, price, distribution, and promotion, together with marketing research, consumer behavior, planning, and global marketing. A critical theme of the course is the need for the marketing mix to fit with the requirements of consumers, the competitive environment, company strengths, and community expectations. These issues are considered from strategic and tactical perspectives. Prerequisites: ECON 101 or ECON 204.',\n",
       " 'Vector spaces. Inner product spaces. Examples of n-space and the space of continuous functions. Gram-Schmidt process, QR factorization of a matrix and least squares. Linear transformations, change of basis, similarity and diagonalization. Orthogonal diagonalization, quadratic forms. Applications in a variety of fields. Prerequisites: One of MATH 100, 113, 114, 117, 134, 144, 154 or SCI 100, and one of MATH 102, 125 or 127. Note: Credit can be obtained in at most one of MATH 225 or 227.',\n",
       " 'Complex numbers. Complex series. Functions of a complex variable. Cauchy’s theorem and contour integration. Residue Theorem and its applications. Prerequisite or corequisite: A Calculus IV course.',\n",
       " 'The environments materials experience in service. Theory of corrosion. The eight forms of corrosion. Corrosion measurements, protection, coatings, materials selection, and designing for corrosion. High temperature oxidation and its control. Degradation of non-metallic materials. Prerequisites: MAT E 201 or 202, and MAT E 341.',\n",
       " 'An advanced treatment of selected Materials Engineering topics of current interest. Prerequisite: Consent of Department.',\n",
       " 'Survey of nanostructured materials, including processing techniques, properties (mechanical, physical and chemical), characterization, and characterization tools. Introduction to biomedical applications of nanomaterials for diagnosis, therapy and medical implants. Credit may not be obtained in this course if previous credit has been obtained in MAT E 458. Prerequisite: CH E 243 or equivalent, or consent of instructor',\n",
       " 'Primary manufacturing processes including casting, forming, machining, powdered metallurgy and surface technology, interactions between design, materials (metals, polymers, ceramics, composites) and processes, selected field trips and laboratory activities. Requires payment of additional student instructional support fees. Refer to the Tuition and Fees page in the University Regulations section of the Calendar. Prerequisite: MEC E 260.',\n",
       " 'Selected group projects in experimental measurement and mechanical design. Two to four person groups develop planning, design, testing and report writing skills on projects in applied mechanics, thermosciences and engineering management. Prerequisites: MEC E 301 and ENG M 310 or 401.',\n",
       " 'Engineering analysis is used to examine the veracity of commonly held science and technology myths. Prerequisites: MEC E 330 or 331, 340, 370 or 371, 380, 390, MATH 300.',\n",
       " 'Sources, flow and overall efficiency of use of various energy forms in society, thermodynamic analysis of energy conversion devices such as thermoelectric and magnetohydrodynamic generators, solar and fuel cells, energy from fission and fusion reactors. Prerequisite: MEC E 340.',\n",
       " 'Design of machine components for ease of manufacture. Application of measurement, inspection, and reverse engineering techniques. Preparation of working drawings for manufacturing. Introduction to machining operations, including hands-on machine shop practice. Evaluation of design performance. Sections offered at an increased rate of fee assessment; refer to the Tuition and Fees page in the University Regulations sections of the Calendar. Prerequisites: MEC E 260, 265, 300, and 301.',\n",
       " 'Design and analysis of building systems for maintaining the indoor environment. Design of heating, ventilation and air conditioning systems through load calculations, equipment selection and specification. Prerequisites: MEC E 340, 370 or 371.',\n",
       " 'Advanced project in experimental measurement and mechanical designs in applied mechanics, thermosciences and engineering management. Prerequisite: MEC E 409.',\n",
       " 'Biomechanics; mechanical characterization of biological tissues using elastic and viscoelastic models. Rheology of blood and flow properties. Static and dynamic analyses of selected physiological systems. Application of biomaterials in external and internal prostheses. Prerequisites: BME 320 and 321; MEC E 300, 362, 380; and MEC E 330 or 331. Credit cannot be obtained in both MEC E 585 and 485.',\n",
       " 'Introduction to methods of mechanical engineering research. Organizational seminars for the research project in the following term. Prerequisites: MEC E 330, 380, and consent of Department.',\n",
       " 'Mechanical Engineering undergraduate research project with a faculty member.   Prerequisites: MEC E 494 and consent of Department.',\n",
       " 'Boundary layer flow, vorticity, circulation and aerodynamic lift, wing theory, aeronautical applications. Prerequisite: MEC E 330 or 331.',\n",
       " 'History of basic cycles, combustion theory including ignition flame propagation and engine knock, cycle analysis with deviations from ideal cycles and performance characteristics, fuels, design and operation of carburation and injection processes, exhaust emissions measurements. Identification of design parameters and their effect on emissions. Prerequisite: MEC E 340.',\n",
       " 'A problem-solving course which introduces the student to deterministic and stochastic models which are useful for production planning and operations management in business and government. Note: Students are expected to have basic familiarity with microcomputer applications. Prerequisite: MATH 114 or equivalent and STAT 151 or equivalent.',\n",
       " 'Qualitative and quantitative phase behavior of petroleum reservoir fluids through the algebraic and numerical application of thermodynamic theory, equations of state, and empirical correlations. Determination of engineering PVT parameters. Oilfield waters. Introduction to mass transfer. Prerequisite: CHEM 105.',\n",
       " 'Rotary drilling systems, elements of rock mechanics, properties and field testing procedures of drilling fluids, drilling fluids hydraulics, drill bit hydraulics and mechanics, well control, factors affecting rate of penetration, drill string mechanics, fundamentals of directional drilling. Prerequisites: CH E 312 or equivalent and CIV E 270.',\n",
       " 'Theory and engineering applications of measurements of physical properties of the formation near the well bore; interpretation and use of the information in reservoir engineering. Prerequisite: PET E 275.',\n",
       " 'Land units in Western Canada, types and characteristics of well completions, perforating, wellbore damage and simulation, combined inflow and well performance analysis, multiphase flow through conduits, oil well pumping, gas lift, surface facilities and flow measurement, applied mass transfer. Prerequisite: CH E 312.',\n",
       " 'Topics include gas properties, reserves estimation, gas well deliverability, gas well testing, gas storage, surface facilities, and transmission. Production of unconventional gas reservoirs (coal beds, hydrates, tight sand and shale gas). Prerequisite: PET E 275.',\n",
       " 'Electric fields, Gauss’ Law; electric potential; capacitance and dielectrics; electric current and resistance; magnetic fields, Ampere’s Law; Faraday’s Law; inductance; magnetic properties of matter. Prerequisites: PHYS 130 or 146, and MATH 100 or 113 or 114 or 117. Pre- or corequisite: MATH 101 or 115 or 118. For Science students only: SCI 100 may be used in lieu of PHYS 146, MATH 114 and 115. Note: Restricted to Engineering students. Other students who take this course will receive *3.0. Credit may normally be obtained for only one of PHYS 230 or 281.',\n",
       " 'Provides an understanding of the behavior of individuals in organizations. Draws from psychology, sociology, organization theory and covers topics such as personality, motivation, leadership, communication, conflict, and group dynamics. Prerequisite: Not open to students in the Faculty of Business. Open only to students from other faculties where the course is a requirement. Not to be taken by students with credit in SEM 200, 201 or 310.',\n",
       " 'Explores why organizations such as McDonalds, Northern Telecom, Bennetton, Wal-Mart and the University of Alberta use different patterns of organization. Examines the political and behavioral dynamics of management decision making. Prerequisite: SEM 201, 301 or 310. Open to third- and fourth-year students.']"
      ]
     },
     "execution_count": 62,
     "metadata": {},
     "output_type": "execute_result"
    }
   ],
   "source": [
    "import re\n",
    "course_descs = [re.split(\"\\([A-Za-z0-9 ]{4}\\) \\([A-Za-z0-9, -/.]{10,40}\\)\", desc)[1].strip() for desc in course_descs]\n",
    "course_descs"
   ]
  },
  {
   "cell_type": "code",
   "execution_count": 66,
   "metadata": {},
   "outputs": [
    {
     "data": {
      "text/plain": [
       "59"
      ]
     },
     "execution_count": 66,
     "metadata": {},
     "output_type": "execute_result"
    }
   ],
   "source": [
    "course_titles = [title for title in course_titles if title not in [\"MEC E 430 - Fluid Mechanics II\", \"MEC E 480 - Advanced Strength of Materials II\", \"MEC E 467 - Modelling and Simulation of Engineering Systems\", \"MEC E 468 - Numerical Simulation in Mechanical Engineering Design\", \"MEC E 539 - Applied Computational Fluid Dynamics\", \"MEC E 563 - Finite Element Method for Mechanical Engineering\"]]\n",
    "len(course_titles)"
   ]
  },
  {
   "cell_type": "code",
   "execution_count": 67,
   "metadata": {
    "scrolled": true
   },
   "outputs": [
    {
     "data": {
      "text/plain": [
       "['Introduction to Accounting',\n",
       " 'Introduction to Accounting for Financial Performance',\n",
       " 'Legal Foundations of the Canadian Economy',\n",
       " 'Law of Business Organizations',\n",
       " 'International Business Transactions',\n",
       " 'Introductory Biochemistry',\n",
       " 'Introduction to Cell Biology',\n",
       " 'Introduction to Biological Diversity',\n",
       " 'Molecular Genetics and Heredity',\n",
       " 'Human Anatomy and Physiology: Cells and Tissue',\n",
       " 'Human Anatomy and Physiology: Systems',\n",
       " 'Imaging Methods in Medicine',\n",
       " 'Rehabilitation Engineering: Assisted Movement After Injury',\n",
       " 'Fundamentals of Magnetic Resonance Imaging, MRI',\n",
       " 'Introduction to Biomaterials',\n",
       " 'Organic Chemistry I',\n",
       " 'Organic Chemistry II',\n",
       " 'Biophysical Measurement and Instrumentation',\n",
       " 'Digital Computer Processing of Images',\n",
       " 'Intelligent Systems Engineering',\n",
       " 'Engineering Safety and Risk Management',\n",
       " 'Engineering Law',\n",
       " 'Project Management and Entrepreneurship',\n",
       " 'Manufacturing Systems and Engineering',\n",
       " 'Production and Operations Management',\n",
       " 'Energy Auditing and Management',\n",
       " 'Reliability Engineering',\n",
       " 'Maintenance Management',\n",
       " 'Engineering Project Management',\n",
       " 'Introduction to Optimization Models and Algorithms',\n",
       " 'Ergonomics and Work Design',\n",
       " 'Introduction to Finance',\n",
       " 'Introduction to Marketing',\n",
       " 'Linear Algebra II',\n",
       " 'Theory of Functions of a Complex Variable',\n",
       " 'Corrosion, Oxidation, and Degradation',\n",
       " 'Special Topics in Materials Engineering',\n",
       " 'Nanomaterials and Biomedical Applications',\n",
       " 'Manufacturing Processes',\n",
       " 'Experimental Design Project I',\n",
       " 'Busting Myths with Analysis',\n",
       " 'Energy Conversion',\n",
       " 'Design for Manufacture',\n",
       " 'Building Systems Design',\n",
       " 'Experimental Design Project II',\n",
       " 'Biomechanical Modelling of Human Tissues and Systems',\n",
       " 'Introduction to Research',\n",
       " 'Research Project',\n",
       " 'Aerodynamics',\n",
       " 'Combustion Engines',\n",
       " 'Operations Management',\n",
       " 'Petroleum Reservoir Fluids',\n",
       " 'Drilling Engineering',\n",
       " 'Well Logging and Formation Evaluation',\n",
       " 'Petroleum Production Operations',\n",
       " 'Natural Gas Engineering',\n",
       " 'Electricity and Magnetism',\n",
       " 'Behavior in Organizations',\n",
       " 'Introduction to Strategic Management and Organization Design']"
      ]
     },
     "execution_count": 67,
     "metadata": {},
     "output_type": "execute_result"
    }
   ],
   "source": [
    "course_names = [title.split(\" - \")[1] for title in course_titles]\n",
    "course_names"
   ]
  },
  {
   "cell_type": "code",
   "execution_count": 68,
   "metadata": {
    "scrolled": true
   },
   "outputs": [
    {
     "data": {
      "text/plain": [
       "['ACCTG 300',\n",
       " 'ACCTG 311',\n",
       " 'B LAW 301',\n",
       " 'B LAW 422',\n",
       " 'B LAW 444',\n",
       " 'BIOCH 200',\n",
       " 'BIOL 107',\n",
       " 'BIOL 108',\n",
       " 'BIOL 207',\n",
       " 'BME 320',\n",
       " 'BME 321',\n",
       " 'BME 513',\n",
       " 'BME 553',\n",
       " 'BME 564',\n",
       " 'CH E 582',\n",
       " 'CHEM 261',\n",
       " 'CHEM 263',\n",
       " 'ECE 405',\n",
       " 'ECE 440',\n",
       " 'ECE 449',\n",
       " 'ENGG 406',\n",
       " 'ENGG 420',\n",
       " 'ENG M 402',\n",
       " 'ENG M 408',\n",
       " 'ENG M 501',\n",
       " 'ENG M 508',\n",
       " 'ENG M 514',\n",
       " 'ENG M 516',\n",
       " 'ENG M 530',\n",
       " 'ENG M 540',\n",
       " 'ENG M 558',\n",
       " 'FIN 301',\n",
       " 'MARK 301',\n",
       " 'MATH 225',\n",
       " 'MATH 311',\n",
       " 'MAT E 345',\n",
       " 'MAT E 466',\n",
       " 'MAT E 495',\n",
       " 'MEC E 364',\n",
       " 'MEC E 409',\n",
       " 'MEC E 415',\n",
       " 'MEC E 443',\n",
       " 'MEC E 464',\n",
       " 'MEC E 466',\n",
       " 'MEC E 469',\n",
       " 'MEC E 485',\n",
       " 'MEC E 494',\n",
       " 'MEC E 495',\n",
       " 'MEC E 537',\n",
       " 'MEC E 541',\n",
       " 'OM 352',\n",
       " 'PET E 275',\n",
       " 'PET E 364',\n",
       " 'PET E 365',\n",
       " 'PET E 366',\n",
       " 'PET E 444',\n",
       " 'PHYS 230',\n",
       " 'SEM 301',\n",
       " 'SEM 321']"
      ]
     },
     "execution_count": 68,
     "metadata": {},
     "output_type": "execute_result"
    }
   ],
   "source": [
    "course_codes = [title.split(\" - \")[0] for title in course_titles]\n",
    "course_codes"
   ]
  },
  {
   "cell_type": "markdown",
   "metadata": {},
   "source": [
    "# 7. Append the new scraped data to dataframe, and write to CSV"
   ]
  },
  {
   "cell_type": "code",
   "execution_count": 69,
   "metadata": {},
   "outputs": [
    {
     "data": {
      "text/html": [
       "<div>\n",
       "<style scoped>\n",
       "    .dataframe tbody tr th:only-of-type {\n",
       "        vertical-align: middle;\n",
       "    }\n",
       "\n",
       "    .dataframe tbody tr th {\n",
       "        vertical-align: top;\n",
       "    }\n",
       "\n",
       "    .dataframe thead th {\n",
       "        text-align: right;\n",
       "    }\n",
       "</style>\n",
       "<table border=\"1\" class=\"dataframe\">\n",
       "  <thead>\n",
       "    <tr style=\"text-align: right;\">\n",
       "      <th></th>\n",
       "      <th>Course Number</th>\n",
       "      <th>Course Name</th>\n",
       "      <th>Course Description</th>\n",
       "    </tr>\n",
       "  </thead>\n",
       "  <tbody>\n",
       "    <tr>\n",
       "      <th>0</th>\n",
       "      <td>CIV E 270</td>\n",
       "      <td>Mechanics of Deformable Bodies I</td>\n",
       "      <td>Plane stress and strain; stress-strain relatio...</td>\n",
       "    </tr>\n",
       "    <tr>\n",
       "      <th>1</th>\n",
       "      <td>ENGG 299</td>\n",
       "      <td>Orientation to Cooperative Education</td>\n",
       "      <td>An examination of the history, philosophy and ...</td>\n",
       "    </tr>\n",
       "    <tr>\n",
       "      <th>2</th>\n",
       "      <td>MATH 209</td>\n",
       "      <td>Calculus III</td>\n",
       "      <td>Partial differentiation, derivatives of integr...</td>\n",
       "    </tr>\n",
       "    <tr>\n",
       "      <th>3</th>\n",
       "      <td>MEC E 230</td>\n",
       "      <td>Introduction to Thermo-Fluid Sciences</td>\n",
       "      <td>Introduction to modes of heat transfer. One di...</td>\n",
       "    </tr>\n",
       "    <tr>\n",
       "      <th>4</th>\n",
       "      <td>MEC E 260</td>\n",
       "      <td>Mechanical Design I</td>\n",
       "      <td>Design morphology, analysis and design of comp...</td>\n",
       "    </tr>\n",
       "    <tr>\n",
       "      <th>...</th>\n",
       "      <td>...</td>\n",
       "      <td>...</td>\n",
       "      <td>...</td>\n",
       "    </tr>\n",
       "    <tr>\n",
       "      <th>98</th>\n",
       "      <td>PET E 366</td>\n",
       "      <td>Petroleum Production Operations</td>\n",
       "      <td>Land units in Western Canada, types and charac...</td>\n",
       "    </tr>\n",
       "    <tr>\n",
       "      <th>99</th>\n",
       "      <td>PET E 444</td>\n",
       "      <td>Natural Gas Engineering</td>\n",
       "      <td>Topics include gas properties, reserves estima...</td>\n",
       "    </tr>\n",
       "    <tr>\n",
       "      <th>100</th>\n",
       "      <td>PHYS 230</td>\n",
       "      <td>Electricity and Magnetism</td>\n",
       "      <td>Electric fields, Gauss’ Law; electric potentia...</td>\n",
       "    </tr>\n",
       "    <tr>\n",
       "      <th>101</th>\n",
       "      <td>SEM 301</td>\n",
       "      <td>Behavior in Organizations</td>\n",
       "      <td>Provides an understanding of the behavior of i...</td>\n",
       "    </tr>\n",
       "    <tr>\n",
       "      <th>102</th>\n",
       "      <td>SEM 321</td>\n",
       "      <td>Introduction to Strategic Management and Organ...</td>\n",
       "      <td>Explores why organizations such as McDonalds, ...</td>\n",
       "    </tr>\n",
       "  </tbody>\n",
       "</table>\n",
       "<p>103 rows × 3 columns</p>\n",
       "</div>"
      ],
      "text/plain": [
       "    Course Number                                        Course Name  \\\n",
       "0       CIV E 270                   Mechanics of Deformable Bodies I   \n",
       "1        ENGG 299               Orientation to Cooperative Education   \n",
       "2        MATH 209                                       Calculus III   \n",
       "3       MEC E 230              Introduction to Thermo-Fluid Sciences   \n",
       "4       MEC E 260                                Mechanical Design I   \n",
       "..            ...                                                ...   \n",
       "98      PET E 366                    Petroleum Production Operations   \n",
       "99      PET E 444                            Natural Gas Engineering   \n",
       "100      PHYS 230                          Electricity and Magnetism   \n",
       "101       SEM 301                          Behavior in Organizations   \n",
       "102       SEM 321  Introduction to Strategic Management and Organ...   \n",
       "\n",
       "                                    Course Description  \n",
       "0    Plane stress and strain; stress-strain relatio...  \n",
       "1    An examination of the history, philosophy and ...  \n",
       "2    Partial differentiation, derivatives of integr...  \n",
       "3    Introduction to modes of heat transfer. One di...  \n",
       "4    Design morphology, analysis and design of comp...  \n",
       "..                                                 ...  \n",
       "98   Land units in Western Canada, types and charac...  \n",
       "99   Topics include gas properties, reserves estima...  \n",
       "100  Electric fields, Gauss’ Law; electric potentia...  \n",
       "101  Provides an understanding of the behavior of i...  \n",
       "102  Explores why organizations such as McDonalds, ...  \n",
       "\n",
       "[103 rows x 3 columns]"
      ]
     },
     "execution_count": 69,
     "metadata": {},
     "output_type": "execute_result"
    }
   ],
   "source": [
    "df2 = pd.DataFrame({\n",
    "    \"Course Number\": course_codes,\n",
    "    \"Course Name\": course_names,\n",
    "    \"Course Description\": course_descs    \n",
    "})\n",
    "\n",
    "df = df.append(df2, ignore_index = True, sort = False)\n",
    "\n",
    "df"
   ]
  },
  {
   "cell_type": "code",
   "execution_count": 70,
   "metadata": {},
   "outputs": [],
   "source": [
    "df.to_csv('UAlberta_MechEng_Core_and_standard_Electives_Courses.csv', index = False)"
   ]
  },
  {
   "cell_type": "code",
   "execution_count": null,
   "metadata": {},
   "outputs": [],
   "source": [
    "driver.quit()"
   ]
  }
 ],
 "metadata": {
  "kernelspec": {
   "display_name": "Python 3",
   "language": "python",
   "name": "python3"
  },
  "language_info": {
   "codemirror_mode": {
    "name": "ipython",
    "version": 3
   },
   "file_extension": ".py",
   "mimetype": "text/x-python",
   "name": "python",
   "nbconvert_exporter": "python",
   "pygments_lexer": "ipython3",
   "version": "3.8.5"
  }
 },
 "nbformat": 4,
 "nbformat_minor": 4
}
