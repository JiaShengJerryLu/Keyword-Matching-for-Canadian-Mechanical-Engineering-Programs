{
 "cells": [
  {
   "cell_type": "code",
   "execution_count": 1,
   "metadata": {},
   "outputs": [],
   "source": [
    "from bs4 import BeautifulSoup as soup\n",
    "from selenium import webdriver\n",
    "import time"
   ]
  },
  {
   "cell_type": "code",
   "execution_count": 2,
   "metadata": {},
   "outputs": [],
   "source": [
    "#url of mechanical eng page\n",
    "url = \"https://calendar.ualberta.ca/preview_program.php?catoid=34&poid=38077\"\n",
    "\n",
    "chrome_options = webdriver.ChromeOptions()\n",
    "chrome_options.add_argument('--ignore-certificate-errors')\n",
    "chrome_options.add_argument('--incognito')\n",
    "chrome_options.add_argument('--headless')\n",
    "\n",
    "driver = webdriver.Chrome(\"C:\\\\Users\\\\jerry\\\\Downloads\\\\chromedriver\", options=chrome_options)"
   ]
  },
  {
   "cell_type": "code",
   "execution_count": 3,
   "metadata": {},
   "outputs": [],
   "source": [
    "driver.get(url)"
   ]
  },
  {
   "cell_type": "markdown",
   "metadata": {},
   "source": [
    "# 1. Collect course title links for webdriver to click on"
   ]
  },
  {
   "cell_type": "code",
   "execution_count": 5,
   "metadata": {},
   "outputs": [],
   "source": [
    "#handoff to beautiful soup\n",
    "page_soup = soup(driver.page_source, 'lxml')"
   ]
  },
  {
   "cell_type": "code",
   "execution_count": 6,
   "metadata": {
    "scrolled": true
   },
   "outputs": [
    {
     "name": "stdout",
     "output_type": "stream",
     "text": [
      "12\n"
     ]
    }
   ],
   "source": [
    "containers = page_soup.findAll(\"li\", {\"class\":\"acalog-course\"}) #contains all courses in the page\n",
    "print(len(containers))"
   ]
  },
  {
   "cell_type": "code",
   "execution_count": 7,
   "metadata": {
    "scrolled": true
   },
   "outputs": [
    {
     "data": {
      "text/plain": [
       "[<li class=\"acalog-course\"><span><a aria-expanded=\"false\" href=\"#\" onclick=\"showCourse('34', '372577',this, 'a:2:{s:8:~location~;s:7:~program~;s:4:~core~;s:6:~314376~;}'); return false;\">CHEM 103 - Introductory University Chemistry I </a></span></li>,\n",
       " <li class=\"acalog-course\"><span><a aria-expanded=\"false\" href=\"#\" onclick=\"showCourse('34', '374122',this, 'a:2:{s:8:~location~;s:7:~program~;s:4:~core~;s:6:~314376~;}'); return false;\">ENGG 100 - Success in Engineering </a></span></li>,\n",
       " <li class=\"acalog-course\"><span><a aria-expanded=\"false\" href=\"#\" onclick=\"showCourse('34', '374124',this, 'a:2:{s:8:~location~;s:7:~program~;s:4:~core~;s:6:~314376~;}'); return false;\">ENGG 130 - Engineering Mechanics </a></span></li>,\n",
       " <li class=\"acalog-course\"><span><a aria-expanded=\"false\" href=\"#\" onclick=\"showCourse('34', '374132',this, 'a:2:{s:8:~location~;s:7:~program~;s:4:~core~;s:6:~314376~;}'); return false;\">ENGL 199 - English for Engineering Students </a></span></li>,\n",
       " <li class=\"acalog-course\"><span><a aria-expanded=\"false\" href=\"#\" onclick=\"showCourse('34', '375399',this, 'a:2:{s:8:~location~;s:7:~program~;s:4:~core~;s:6:~314376~;}'); return false;\">MATH 100 - Calculus I </a></span></li>,\n",
       " <li class=\"acalog-course\"><span><a aria-expanded=\"false\" href=\"#\" onclick=\"showCourse('34', '376818',this, 'a:2:{s:8:~location~;s:7:~program~;s:4:~core~;s:6:~314376~;}'); return false;\">PHYS 130 - Wave Motion, Optics, and Sound </a></span></li>,\n",
       " <li class=\"acalog-course\"><span><a aria-expanded=\"false\" href=\"#\" onclick=\"showCourse('34', '372578',this, 'a:2:{s:8:~location~;s:7:~program~;s:4:~core~;s:6:~314377~;}'); return false;\">CHEM 105 - Introductory University Chemistry II </a></span></li>,\n",
       " <li class=\"acalog-course\"><span><a aria-expanded=\"false\" href=\"#\" onclick=\"showCourse('34', '374092',this, 'a:2:{s:8:~location~;s:7:~program~;s:4:~core~;s:6:~314377~;}'); return false;\">ENCMP 100 - Computer Programming for Engineers </a></span></li>,\n",
       " <li class=\"acalog-course\"><span><a aria-expanded=\"false\" href=\"#\" onclick=\"showCourse('34', '379300',this, 'a:2:{s:8:~location~;s:7:~program~;s:4:~core~;s:6:~314377~;}'); return false;\">ENGG 160 - Introduction to Engineering Design, Communication, and Profession </a></span></li>,\n",
       " <li class=\"acalog-course\"><span><a aria-expanded=\"false\" href=\"#\" onclick=\"showCourse('34', '374121',this, 'a:2:{s:8:~location~;s:7:~program~;s:4:~core~;s:6:~314377~;}'); return false;\">EN PH 131 - Mechanics </a></span></li>,\n",
       " <li class=\"acalog-course\"><span><a aria-expanded=\"false\" href=\"#\" onclick=\"showCourse('34', '375400',this, 'a:2:{s:8:~location~;s:7:~program~;s:4:~core~;s:6:~314377~;}'); return false;\">MATH 101 - Calculus II </a></span></li>,\n",
       " <li class=\"acalog-course\"><span><a aria-expanded=\"false\" href=\"#\" onclick=\"showCourse('34', '375401',this, 'a:2:{s:8:~location~;s:7:~program~;s:4:~core~;s:6:~314377~;}'); return false;\">MATH 102 - Applied Linear Algebra </a></span></li>]"
      ]
     },
     "execution_count": 7,
     "metadata": {},
     "output_type": "execute_result"
    }
   ],
   "source": [
    "containers"
   ]
  },
  {
   "cell_type": "code",
   "execution_count": 8,
   "metadata": {},
   "outputs": [
    {
     "data": {
      "text/plain": [
       "['CHEM 103 - Introductory University Chemistry I',\n",
       " 'ENGG 100 - Success in Engineering',\n",
       " 'ENGG 130 - Engineering Mechanics',\n",
       " 'ENGL 199 - English for Engineering Students',\n",
       " 'MATH 100 - Calculus I',\n",
       " 'PHYS 130 - Wave Motion, Optics, and Sound',\n",
       " 'CHEM 105 - Introductory University Chemistry II',\n",
       " 'ENCMP 100 - Computer Programming for Engineers',\n",
       " 'ENGG 160 - Introduction to Engineering Design, Communication, and Profession',\n",
       " 'EN PH 131 - Mechanics',\n",
       " 'MATH 101 - Calculus II',\n",
       " 'MATH 102 - Applied Linear Algebra']"
      ]
     },
     "execution_count": 8,
     "metadata": {},
     "output_type": "execute_result"
    }
   ],
   "source": [
    "course_titles = [container.find(\"a\").text.strip() for container in containers]\n",
    "course_titles"
   ]
  },
  {
   "cell_type": "markdown",
   "metadata": {},
   "source": [
    "# 2. Click on each link to open all course info boxes"
   ]
  },
  {
   "cell_type": "code",
   "execution_count": 10,
   "metadata": {},
   "outputs": [],
   "source": [
    "driver.get(url)"
   ]
  },
  {
   "cell_type": "code",
   "execution_count": 11,
   "metadata": {},
   "outputs": [
    {
     "name": "stdout",
     "output_type": "stream",
     "text": [
      "opened  CHEM 103 - Introductory University Chemistry I\n",
      "opened  ENGG 100 - Success in Engineering\n",
      "opened  ENGG 130 - Engineering Mechanics\n",
      "opened  ENGL 199 - English for Engineering Students\n",
      "opened  MATH 100 - Calculus I\n",
      "opened  PHYS 130 - Wave Motion, Optics, and Sound\n",
      "opened  CHEM 105 - Introductory University Chemistry II\n",
      "opened  ENCMP 100 - Computer Programming for Engineers\n",
      "opened  ENGG 160 - Introduction to Engineering Design, Communication, and Profession\n",
      "opened  EN PH 131 - Mechanics\n",
      "opened  MATH 101 - Calculus II\n",
      "opened  MATH 102 - Applied Linear Algebra\n"
     ]
    }
   ],
   "source": [
    "for text in course_titles:\n",
    "    link = driver.find_element_by_link_text(text)\n",
    "    link.click()\n",
    "    time.sleep(3)\n",
    "    print(\"opened \", text)"
   ]
  },
  {
   "cell_type": "markdown",
   "metadata": {},
   "source": [
    "# 3. Obtain the updated html of the webpage and scrape all course codes, names, and descriptions"
   ]
  },
  {
   "cell_type": "code",
   "execution_count": 12,
   "metadata": {},
   "outputs": [],
   "source": [
    "page_soup = soup(driver.page_source, 'lxml')"
   ]
  },
  {
   "cell_type": "code",
   "execution_count": 13,
   "metadata": {},
   "outputs": [
    {
     "name": "stdout",
     "output_type": "stream",
     "text": [
      "12\n"
     ]
    }
   ],
   "source": [
    "containers = page_soup.findAll(\"li\", {\"class\":\"acalog-course acalog-course-open\"}) #contains all courses in the page\n",
    "print(len(containers))"
   ]
  },
  {
   "cell_type": "code",
   "execution_count": 35,
   "metadata": {
    "scrolled": true
   },
   "outputs": [
    {
     "data": {
      "text/plain": [
       "['CHEM 103 - Introductory University Chemistry I  ★ 4.3 (fi 6) (either term, 3-1s-3/2) Atoms and molecules, states of matter, chemistry of the elements. Prerequisite: Chemistry 30, or equivalent. Note: Restricted to Engineering students only. Other students who take this course will receive *3.0.',\n",
       " 'ENGG 100 - Success in Engineering  ★ 1.1 (fi 3) (either term, 1.5-1.5-0/2) An introduction to the Faculty of Engineering, the engineering profession, the skills required for academic success, and the fundamentals of leadership: study and life skills; time management and goal setting; interpersonal skills; career planning; engineering and society including elements of ethics, equity, concepts of sustainable development, environmental stewardship, and public safety.',\n",
       " 'ENGG 130 - Engineering Mechanics  ★ 4 (fi 8) (either term, 3-0-2) Equilibrium of planar systems. Analysis of statically determinate trusses and frames. Friction. Centroids and centres of gravity. Forces and moments in beams. Second moments of area. Note: Students in all sections of this course will write a common final examination. Corequisite: MATH 100.',\n",
       " 'ENGL 199 - English for Engineering Students  ★ 3 (fi 6) (either term, 3-0-0) This course aims to develop the student’s ability to provide effective written and oral information. It will focus on instruction in fundamental writing skills, including building effective sentences and paragraphs, and on learning to communicate clearly across a range of genres and media used in academic and professional contexts, including correspondence and presentations. Students will be introduced to the principles of information gathering, analysis, and citation. Note: Restricted to students in the Faculty of Engineering only.',\n",
       " 'MATH 100 - Calculus I  ★ 3.5 (fi 6) (either term, 3-0-1) Review of numbers, inequalities, functions, analytic geometry; limits, continuity; derivatives and applications, Taylor polynomials; log, exp, and inverse trig functions. Integration, fundamental theorem of calculus substitution, trapezoidal and Simpson’s rules. Prerequisites: Mathematics 30-1 and Mathematics 31. Notes: (1) Credit can be obtained in at most one of MATH 100, 113, 114, 117, 134, 144, 154, or SCI 100. (2) Students in all sections of this course will write a common final examination. (3) Restricted to Engineering students. Non-Engineering students who take this course will receive *3.0.',\n",
       " 'PHYS 130 - Wave Motion, Optics, and Sound  ★ 3.8 (fi 6) (either term, 3-0-3/2) Geometrical optics, optical instruments, oscillations, waves, sound, interference, diffraction. Prerequisites: Mathematics 30-1, Mathematics 31, Physics 30. Corequisite: MATH 100 or 113 or 114 or 117 or 134 or 144 or equivalent. Restricted to Engineering students. Other students who take this course will receive *3.0.',\n",
       " 'CHEM 105 - Introductory University Chemistry II  ★ 3.8 (fi 6) (either term, 3-0-3/2) Rates of reactions, thermodynamics and equilibrium, electrochemistry, modern applications of chemistry. Prerequisite: CHEM 103. Note: Restricted to Engineering students only. Other students who take this course will receive *3.0.',\n",
       " 'ENCMP 100 - Computer Programming for Engineers  ★ 3.8 (fi 8) (either term, 3-0-1.5) Fundamentals of computer programming with emphasis on solving engineering problems. Structure and syntax of computer programs, variables, data types, data structures, control structures, functions, input/output operations, debugging, software development process.',\n",
       " 'ENGG 160 - Introduction to Engineering Design, Communication, and Profession  ★ 2 (fi 5) (either term or Spring/Summer, 1-0-2) Fundamental design process and theory in a multidisciplinary context. Importance, in engineering design, of communications; team work; the engineering disciplines, career fields; professional responsibilities of the engineer including elements of ethics, equity, concepts of sustainable development and environmental stewardship, public and worker safety and health considerations including the context of the Alberta Occupational Health and Safety Act. Corequisite ENGL 199. This course is delivered in a blended format.',\n",
       " 'EN PH 131 - Mechanics  ★ 4.3 (fi 6) (either term, 3-1s-3/2) Kinematics and dynamics of particles; gravitation; work and energy; linear momentum; angular momentum; systems of particles; introduction to dynamics of rigid bodies. Prerequisites: MATH 100 or 117, and ENGG 130. Corequisite: MATH 101 or 118. Restricted to Engineering students. Other students who take this course will receive *3.0.',\n",
       " 'MATH 101 - Calculus II  ★ 3.5 (fi 6) (either term, 3-0-1) Area between curves, techniques of integration. Applications of integration to planar areas and lengths, volumes and masses. First order ordinary differential equations: separable, linear, direction fields, Euler’s method, applications. Infinite series, power series, Taylor expansions with remainder terms. Polar coordinates. Rectangular, spherical and cylindrical coordinates in 3-dimensional space. Parametric curves in the plane and space: graphing, arc length, curvature; normal binormal, tangent plane in 3- dimensional space. Volumes and surface areas of rotation. Prerequisite: MATH 100. Notes: (1) Credit can be obtained in at most one of MATH 101, 115, 118, 136, 146, 156 or SCI 100. (2) Students in all sections of this course will write a common final examination. (3) Restricted to Engineering students. Non-Engineering students who take this course will receive *3.0.',\n",
       " 'MATH 102 - Applied Linear Algebra  ★ 3.5 (fi 6) (either term, 3-0-1) Vectors and matrices, solution of linear equations, equations of lines and planes, determinants, matrix algebra, orthogonality and applications (Gram-Schmidt), eigenvalues and eigenvectors and applications, complex numbers. Prerequisite or corequisite: MATH 100. Notes: (1) Credit can be obtained in at most one of MATH 102, 125, or 127. (2) Students in all sections of this course will write a common final examination. (3) Restricted to Engineering students. Non-Engineering students who take this course will receive *3.0.']"
      ]
     },
     "execution_count": 35,
     "metadata": {},
     "output_type": "execute_result"
    }
   ],
   "source": [
    "course_descs = [container.find(\"div\", {\"class\": None}).text.strip() for container in containers]\n",
    "course_descs"
   ]
  },
  {
   "cell_type": "code",
   "execution_count": 36,
   "metadata": {},
   "outputs": [
    {
     "data": {
      "text/plain": [
       "12"
      ]
     },
     "execution_count": 36,
     "metadata": {},
     "output_type": "execute_result"
    }
   ],
   "source": [
    "len(course_descs)"
   ]
  },
  {
   "cell_type": "markdown",
   "metadata": {},
   "source": [
    "Need to clean up descriptions"
   ]
  },
  {
   "cell_type": "code",
   "execution_count": 37,
   "metadata": {
    "scrolled": true
   },
   "outputs": [],
   "source": [
    "import re\n",
    "course_descs = [re.split(\"\\([A-Za-z0-9 ]{4}\\) \\([A-Za-z0-9, -/.]{10,40}\\)\", desc)[1] for desc in course_descs]"
   ]
  },
  {
   "cell_type": "code",
   "execution_count": 38,
   "metadata": {
    "scrolled": true
   },
   "outputs": [
    {
     "data": {
      "text/plain": [
       "[' Atoms and molecules, states of matter, chemistry of the elements. Prerequisite: Chemistry 30, or equivalent. Note: Restricted to Engineering students only. Other students who take this course will receive *3.0.',\n",
       " ' An introduction to the Faculty of Engineering, the engineering profession, the skills required for academic success, and the fundamentals of leadership: study and life skills; time management and goal setting; interpersonal skills; career planning; engineering and society including elements of ethics, equity, concepts of sustainable development, environmental stewardship, and public safety.',\n",
       " ' Equilibrium of planar systems. Analysis of statically determinate trusses and frames. Friction. Centroids and centres of gravity. Forces and moments in beams. Second moments of area. Note: Students in all sections of this course will write a common final examination. Corequisite: MATH 100.',\n",
       " ' This course aims to develop the student’s ability to provide effective written and oral information. It will focus on instruction in fundamental writing skills, including building effective sentences and paragraphs, and on learning to communicate clearly across a range of genres and media used in academic and professional contexts, including correspondence and presentations. Students will be introduced to the principles of information gathering, analysis, and citation. Note: Restricted to students in the Faculty of Engineering only.',\n",
       " ' Review of numbers, inequalities, functions, analytic geometry; limits, continuity; derivatives and applications, Taylor polynomials; log, exp, and inverse trig functions. Integration, fundamental theorem of calculus substitution, trapezoidal and Simpson’s rules. Prerequisites: Mathematics 30-1 and Mathematics 31. Notes: (1) Credit can be obtained in at most one of MATH 100, 113, 114, 117, 134, 144, 154, or SCI 100. (2) Students in all sections of this course will write a common final examination. (3) Restricted to Engineering students. Non-Engineering students who take this course will receive *3.0.',\n",
       " ' Geometrical optics, optical instruments, oscillations, waves, sound, interference, diffraction. Prerequisites: Mathematics 30-1, Mathematics 31, Physics 30. Corequisite: MATH 100 or 113 or 114 or 117 or 134 or 144 or equivalent. Restricted to Engineering students. Other students who take this course will receive *3.0.',\n",
       " ' Rates of reactions, thermodynamics and equilibrium, electrochemistry, modern applications of chemistry. Prerequisite: CHEM 103. Note: Restricted to Engineering students only. Other students who take this course will receive *3.0.',\n",
       " ' Fundamentals of computer programming with emphasis on solving engineering problems. Structure and syntax of computer programs, variables, data types, data structures, control structures, functions, input/output operations, debugging, software development process.',\n",
       " ' Fundamental design process and theory in a multidisciplinary context. Importance, in engineering design, of communications; team work; the engineering disciplines, career fields; professional responsibilities of the engineer including elements of ethics, equity, concepts of sustainable development and environmental stewardship, public and worker safety and health considerations including the context of the Alberta Occupational Health and Safety Act. Corequisite ENGL 199. This course is delivered in a blended format.',\n",
       " ' Kinematics and dynamics of particles; gravitation; work and energy; linear momentum; angular momentum; systems of particles; introduction to dynamics of rigid bodies. Prerequisites: MATH 100 or 117, and ENGG 130. Corequisite: MATH 101 or 118. Restricted to Engineering students. Other students who take this course will receive *3.0.',\n",
       " ' Area between curves, techniques of integration. Applications of integration to planar areas and lengths, volumes and masses. First order ordinary differential equations: separable, linear, direction fields, Euler’s method, applications. Infinite series, power series, Taylor expansions with remainder terms. Polar coordinates. Rectangular, spherical and cylindrical coordinates in 3-dimensional space. Parametric curves in the plane and space: graphing, arc length, curvature; normal binormal, tangent plane in 3- dimensional space. Volumes and surface areas of rotation. Prerequisite: MATH 100. Notes: (1) Credit can be obtained in at most one of MATH 101, 115, 118, 136, 146, 156 or SCI 100. (2) Students in all sections of this course will write a common final examination. (3) Restricted to Engineering students. Non-Engineering students who take this course will receive *3.0.',\n",
       " ' Vectors and matrices, solution of linear equations, equations of lines and planes, determinants, matrix algebra, orthogonality and applications (Gram-Schmidt), eigenvalues and eigenvectors and applications, complex numbers. Prerequisite or corequisite: MATH 100. Notes: (1) Credit can be obtained in at most one of MATH 102, 125, or 127. (2) Students in all sections of this course will write a common final examination. (3) Restricted to Engineering students. Non-Engineering students who take this course will receive *3.0.']"
      ]
     },
     "execution_count": 38,
     "metadata": {},
     "output_type": "execute_result"
    }
   ],
   "source": [
    "course_descs"
   ]
  },
  {
   "cell_type": "code",
   "execution_count": 39,
   "metadata": {
    "scrolled": true
   },
   "outputs": [
    {
     "data": {
      "text/plain": [
       "['Atoms and molecules, states of matter, chemistry of the elements. Prerequisite: Chemistry 30, or equivalent. Note: Restricted to Engineering students only. Other students who take this course will receive *3.0.',\n",
       " 'An introduction to the Faculty of Engineering, the engineering profession, the skills required for academic success, and the fundamentals of leadership: study and life skills; time management and goal setting; interpersonal skills; career planning; engineering and society including elements of ethics, equity, concepts of sustainable development, environmental stewardship, and public safety.',\n",
       " 'Equilibrium of planar systems. Analysis of statically determinate trusses and frames. Friction. Centroids and centres of gravity. Forces and moments in beams. Second moments of area. Note: Students in all sections of this course will write a common final examination. Corequisite: MATH 100.',\n",
       " 'This course aims to develop the student’s ability to provide effective written and oral information. It will focus on instruction in fundamental writing skills, including building effective sentences and paragraphs, and on learning to communicate clearly across a range of genres and media used in academic and professional contexts, including correspondence and presentations. Students will be introduced to the principles of information gathering, analysis, and citation. Note: Restricted to students in the Faculty of Engineering only.',\n",
       " 'Review of numbers, inequalities, functions, analytic geometry; limits, continuity; derivatives and applications, Taylor polynomials; log, exp, and inverse trig functions. Integration, fundamental theorem of calculus substitution, trapezoidal and Simpson’s rules. Prerequisites: Mathematics 30-1 and Mathematics 31. Notes: (1) Credit can be obtained in at most one of MATH 100, 113, 114, 117, 134, 144, 154, or SCI 100. (2) Students in all sections of this course will write a common final examination. (3) Restricted to Engineering students. Non-Engineering students who take this course will receive *3.0.',\n",
       " 'Geometrical optics, optical instruments, oscillations, waves, sound, interference, diffraction. Prerequisites: Mathematics 30-1, Mathematics 31, Physics 30. Corequisite: MATH 100 or 113 or 114 or 117 or 134 or 144 or equivalent. Restricted to Engineering students. Other students who take this course will receive *3.0.',\n",
       " 'Rates of reactions, thermodynamics and equilibrium, electrochemistry, modern applications of chemistry. Prerequisite: CHEM 103. Note: Restricted to Engineering students only. Other students who take this course will receive *3.0.',\n",
       " 'Fundamentals of computer programming with emphasis on solving engineering problems. Structure and syntax of computer programs, variables, data types, data structures, control structures, functions, input/output operations, debugging, software development process.',\n",
       " 'Fundamental design process and theory in a multidisciplinary context. Importance, in engineering design, of communications; team work; the engineering disciplines, career fields; professional responsibilities of the engineer including elements of ethics, equity, concepts of sustainable development and environmental stewardship, public and worker safety and health considerations including the context of the Alberta Occupational Health and Safety Act. Corequisite ENGL 199. This course is delivered in a blended format.',\n",
       " 'Kinematics and dynamics of particles; gravitation; work and energy; linear momentum; angular momentum; systems of particles; introduction to dynamics of rigid bodies. Prerequisites: MATH 100 or 117, and ENGG 130. Corequisite: MATH 101 or 118. Restricted to Engineering students. Other students who take this course will receive *3.0.',\n",
       " 'Area between curves, techniques of integration. Applications of integration to planar areas and lengths, volumes and masses. First order ordinary differential equations: separable, linear, direction fields, Euler’s method, applications. Infinite series, power series, Taylor expansions with remainder terms. Polar coordinates. Rectangular, spherical and cylindrical coordinates in 3-dimensional space. Parametric curves in the plane and space: graphing, arc length, curvature; normal binormal, tangent plane in 3- dimensional space. Volumes and surface areas of rotation. Prerequisite: MATH 100. Notes: (1) Credit can be obtained in at most one of MATH 101, 115, 118, 136, 146, 156 or SCI 100. (2) Students in all sections of this course will write a common final examination. (3) Restricted to Engineering students. Non-Engineering students who take this course will receive *3.0.',\n",
       " 'Vectors and matrices, solution of linear equations, equations of lines and planes, determinants, matrix algebra, orthogonality and applications (Gram-Schmidt), eigenvalues and eigenvectors and applications, complex numbers. Prerequisite or corequisite: MATH 100. Notes: (1) Credit can be obtained in at most one of MATH 102, 125, or 127. (2) Students in all sections of this course will write a common final examination. (3) Restricted to Engineering students. Non-Engineering students who take this course will receive *3.0.']"
      ]
     },
     "execution_count": 39,
     "metadata": {},
     "output_type": "execute_result"
    }
   ],
   "source": [
    "course_descs = [desc.strip() for desc in course_descs]\n",
    "course_descs"
   ]
  },
  {
   "cell_type": "code",
   "execution_count": 40,
   "metadata": {},
   "outputs": [
    {
     "data": {
      "text/plain": [
       "['Introductory University Chemistry I',\n",
       " 'Success in Engineering',\n",
       " 'Engineering Mechanics',\n",
       " 'English for Engineering Students',\n",
       " 'Calculus I',\n",
       " 'Wave Motion, Optics, and Sound',\n",
       " 'Introductory University Chemistry II',\n",
       " 'Computer Programming for Engineers',\n",
       " 'Introduction to Engineering Design, Communication, and Profession',\n",
       " 'Mechanics',\n",
       " 'Calculus II',\n",
       " 'Applied Linear Algebra']"
      ]
     },
     "execution_count": 40,
     "metadata": {},
     "output_type": "execute_result"
    }
   ],
   "source": [
    "course_names = [title.split(\" - \")[1] for title in course_titles]\n",
    "course_names"
   ]
  },
  {
   "cell_type": "code",
   "execution_count": 41,
   "metadata": {},
   "outputs": [
    {
     "data": {
      "text/plain": [
       "['CHEM 103',\n",
       " 'ENGG 100',\n",
       " 'ENGG 130',\n",
       " 'ENGL 199',\n",
       " 'MATH 100',\n",
       " 'PHYS 130',\n",
       " 'CHEM 105',\n",
       " 'ENCMP 100',\n",
       " 'ENGG 160',\n",
       " 'EN PH 131',\n",
       " 'MATH 101',\n",
       " 'MATH 102']"
      ]
     },
     "execution_count": 41,
     "metadata": {},
     "output_type": "execute_result"
    }
   ],
   "source": [
    "course_codes = [title.split(\" - \")[0] for title in course_titles]\n",
    "course_codes"
   ]
  },
  {
   "cell_type": "markdown",
   "metadata": {},
   "source": [
    "# 4. Write to CSV"
   ]
  },
  {
   "cell_type": "code",
   "execution_count": 42,
   "metadata": {},
   "outputs": [],
   "source": [
    "import pandas as pd\n",
    "\n",
    "df = pd.DataFrame({\n",
    "    \"Course Number\": course_codes,\n",
    "    \"Course Name\": course_names,\n",
    "    \"Course Description\": course_descs    \n",
    "})"
   ]
  },
  {
   "cell_type": "code",
   "execution_count": 43,
   "metadata": {},
   "outputs": [
    {
     "data": {
      "text/html": [
       "<div>\n",
       "<style scoped>\n",
       "    .dataframe tbody tr th:only-of-type {\n",
       "        vertical-align: middle;\n",
       "    }\n",
       "\n",
       "    .dataframe tbody tr th {\n",
       "        vertical-align: top;\n",
       "    }\n",
       "\n",
       "    .dataframe thead th {\n",
       "        text-align: right;\n",
       "    }\n",
       "</style>\n",
       "<table border=\"1\" class=\"dataframe\">\n",
       "  <thead>\n",
       "    <tr style=\"text-align: right;\">\n",
       "      <th></th>\n",
       "      <th>Course Number</th>\n",
       "      <th>Course Name</th>\n",
       "      <th>Course Description</th>\n",
       "    </tr>\n",
       "  </thead>\n",
       "  <tbody>\n",
       "    <tr>\n",
       "      <th>0</th>\n",
       "      <td>CHEM 103</td>\n",
       "      <td>Introductory University Chemistry I</td>\n",
       "      <td>Atoms and molecules, states of matter, chemist...</td>\n",
       "    </tr>\n",
       "    <tr>\n",
       "      <th>1</th>\n",
       "      <td>ENGG 100</td>\n",
       "      <td>Success in Engineering</td>\n",
       "      <td>An introduction to the Faculty of Engineering,...</td>\n",
       "    </tr>\n",
       "    <tr>\n",
       "      <th>2</th>\n",
       "      <td>ENGG 130</td>\n",
       "      <td>Engineering Mechanics</td>\n",
       "      <td>Equilibrium of planar systems. Analysis of sta...</td>\n",
       "    </tr>\n",
       "    <tr>\n",
       "      <th>3</th>\n",
       "      <td>ENGL 199</td>\n",
       "      <td>English for Engineering Students</td>\n",
       "      <td>This course aims to develop the student’s abil...</td>\n",
       "    </tr>\n",
       "    <tr>\n",
       "      <th>4</th>\n",
       "      <td>MATH 100</td>\n",
       "      <td>Calculus I</td>\n",
       "      <td>Review of numbers, inequalities, functions, an...</td>\n",
       "    </tr>\n",
       "    <tr>\n",
       "      <th>5</th>\n",
       "      <td>PHYS 130</td>\n",
       "      <td>Wave Motion, Optics, and Sound</td>\n",
       "      <td>Geometrical optics, optical instruments, oscil...</td>\n",
       "    </tr>\n",
       "    <tr>\n",
       "      <th>6</th>\n",
       "      <td>CHEM 105</td>\n",
       "      <td>Introductory University Chemistry II</td>\n",
       "      <td>Rates of reactions, thermodynamics and equilib...</td>\n",
       "    </tr>\n",
       "    <tr>\n",
       "      <th>7</th>\n",
       "      <td>ENCMP 100</td>\n",
       "      <td>Computer Programming for Engineers</td>\n",
       "      <td>Fundamentals of computer programming with emph...</td>\n",
       "    </tr>\n",
       "    <tr>\n",
       "      <th>8</th>\n",
       "      <td>ENGG 160</td>\n",
       "      <td>Introduction to Engineering Design, Communicat...</td>\n",
       "      <td>Fundamental design process and theory in a mul...</td>\n",
       "    </tr>\n",
       "    <tr>\n",
       "      <th>9</th>\n",
       "      <td>EN PH 131</td>\n",
       "      <td>Mechanics</td>\n",
       "      <td>Kinematics and dynamics of particles; gravitat...</td>\n",
       "    </tr>\n",
       "    <tr>\n",
       "      <th>10</th>\n",
       "      <td>MATH 101</td>\n",
       "      <td>Calculus II</td>\n",
       "      <td>Area between curves, techniques of integration...</td>\n",
       "    </tr>\n",
       "    <tr>\n",
       "      <th>11</th>\n",
       "      <td>MATH 102</td>\n",
       "      <td>Applied Linear Algebra</td>\n",
       "      <td>Vectors and matrices, solution of linear equat...</td>\n",
       "    </tr>\n",
       "  </tbody>\n",
       "</table>\n",
       "</div>"
      ],
      "text/plain": [
       "   Course Number                                        Course Name  \\\n",
       "0       CHEM 103                Introductory University Chemistry I   \n",
       "1       ENGG 100                             Success in Engineering   \n",
       "2       ENGG 130                              Engineering Mechanics   \n",
       "3       ENGL 199                   English for Engineering Students   \n",
       "4       MATH 100                                         Calculus I   \n",
       "5       PHYS 130                     Wave Motion, Optics, and Sound   \n",
       "6       CHEM 105               Introductory University Chemistry II   \n",
       "7      ENCMP 100                 Computer Programming for Engineers   \n",
       "8       ENGG 160  Introduction to Engineering Design, Communicat...   \n",
       "9      EN PH 131                                          Mechanics   \n",
       "10      MATH 101                                        Calculus II   \n",
       "11      MATH 102                             Applied Linear Algebra   \n",
       "\n",
       "                                   Course Description  \n",
       "0   Atoms and molecules, states of matter, chemist...  \n",
       "1   An introduction to the Faculty of Engineering,...  \n",
       "2   Equilibrium of planar systems. Analysis of sta...  \n",
       "3   This course aims to develop the student’s abil...  \n",
       "4   Review of numbers, inequalities, functions, an...  \n",
       "5   Geometrical optics, optical instruments, oscil...  \n",
       "6   Rates of reactions, thermodynamics and equilib...  \n",
       "7   Fundamentals of computer programming with emph...  \n",
       "8   Fundamental design process and theory in a mul...  \n",
       "9   Kinematics and dynamics of particles; gravitat...  \n",
       "10  Area between curves, techniques of integration...  \n",
       "11  Vectors and matrices, solution of linear equat...  "
      ]
     },
     "execution_count": 43,
     "metadata": {},
     "output_type": "execute_result"
    }
   ],
   "source": [
    "df"
   ]
  },
  {
   "cell_type": "code",
   "execution_count": 44,
   "metadata": {},
   "outputs": [],
   "source": [
    "df.to_csv('UAlberta_Engineering_Qualifying_Year_(Year1)_Courses.csv', index = False)"
   ]
  },
  {
   "cell_type": "code",
   "execution_count": null,
   "metadata": {},
   "outputs": [],
   "source": [
    "driver.quit()"
   ]
  }
 ],
 "metadata": {
  "kernelspec": {
   "display_name": "Python 3",
   "language": "python",
   "name": "python3"
  },
  "language_info": {
   "codemirror_mode": {
    "name": "ipython",
    "version": 3
   },
   "file_extension": ".py",
   "mimetype": "text/x-python",
   "name": "python",
   "nbconvert_exporter": "python",
   "pygments_lexer": "ipython3",
   "version": "3.8.5"
  }
 },
 "nbformat": 4,
 "nbformat_minor": 4
}
