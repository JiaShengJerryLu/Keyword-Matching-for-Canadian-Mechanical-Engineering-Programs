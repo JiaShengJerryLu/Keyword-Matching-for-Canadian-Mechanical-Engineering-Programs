{
 "cells": [
  {
   "cell_type": "code",
   "execution_count": 1,
   "metadata": {},
   "outputs": [],
   "source": [
    "from bs4 import BeautifulSoup as soup\n",
    "from urllib.request import urlopen as ureq\n",
    "from selenium import webdriver\n",
    "import time\n",
    "import re"
   ]
  },
  {
   "cell_type": "code",
   "execution_count": 2,
   "metadata": {},
   "outputs": [],
   "source": [
    "url = \"https://academiccalendar.dal.ca/Catalog/ViewCatalog.aspx?pageid=viewcatalog&catalogid=111&chapterid=6741&topicgroupid=29561&loaduseredits=False\""
   ]
  },
  {
   "cell_type": "code",
   "execution_count": 3,
   "metadata": {},
   "outputs": [],
   "source": [
    "'''\n",
    "uclient = ureq(url)\n",
    "page_html = uclient.read()\n",
    "uclient.close()\n",
    "page_soup = soup(page_html, \"html.parser\")\n",
    "'''\n",
    "\n",
    "chrome_options = webdriver.ChromeOptions()\n",
    "chrome_options.add_argument('--ignore-certificate-errors')\n",
    "chrome_options.add_argument('--incognito')\n",
    "#chrome_options.add_argument('--headless')\n",
    "\n",
    "driver = webdriver.Chrome(\"C:\\\\Users\\\\jerry\\\\Downloads\\\\chromedriver\", options=chrome_options)"
   ]
  },
  {
   "cell_type": "code",
   "execution_count": 4,
   "metadata": {},
   "outputs": [],
   "source": [
    "driver.get(url)"
   ]
  },
  {
   "cell_type": "markdown",
   "metadata": {},
   "source": [
    "# 1. Collect course link texts (for driver to click on)"
   ]
  },
  {
   "cell_type": "code",
   "execution_count": 5,
   "metadata": {},
   "outputs": [
    {
     "data": {
      "text/plain": [
       "str"
      ]
     },
     "execution_count": 5,
     "metadata": {},
     "output_type": "execute_result"
    }
   ],
   "source": [
    "page_html = driver.page_source\n",
    "type(page_html)"
   ]
  },
  {
   "cell_type": "code",
   "execution_count": 6,
   "metadata": {
    "scrolled": true
   },
   "outputs": [
    {
     "data": {
      "text/plain": [
       "['MECH 3010',\n",
       " 'MECH 3500',\n",
       " 'MECH 3805',\n",
       " 'CPST 3030',\n",
       " 'ENGM 3356',\n",
       " 'MATL 3500',\n",
       " 'MECH 3020',\n",
       " 'MECH 3305',\n",
       " 'MECH 3660',\n",
       " 'MECH 3705',\n",
       " 'MECH 3900',\n",
       " 'MECH 4015',\n",
       " 'MECH 4300',\n",
       " 'MECH 4600',\n",
       " 'MECH 4805',\n",
       " 'MECH 4025',\n",
       " 'MECH 4500',\n",
       " 'MECH 4900']"
      ]
     },
     "execution_count": 6,
     "metadata": {},
     "output_type": "execute_result"
    }
   ],
   "source": [
    "link_texts = re.findall(\"[A-Z]{4} [0-9]{4}\", page_html)\n",
    "link_texts = list(dict.fromkeys(link_texts))\n",
    "link_texts"
   ]
  },
  {
   "cell_type": "markdown",
   "metadata": {},
   "source": [
    "# 2. Test run - scrape the first course"
   ]
  },
  {
   "cell_type": "code",
   "execution_count": 7,
   "metadata": {},
   "outputs": [
    {
     "data": {
      "text/plain": [
       "'<html xmlns=\"http://www.w3.org/1999/xhtml\" class=\" webkit chrome win js js\"><head id=\"ctl00_ctl00_head\"><title>\\n\\tDalhousie Academic Calendars - View Calendar\\n</title><meta http-equiv=\"X-UA-Compatible\" content=\"IE=edge\"><meta name=\"viewport\" content=\"width=device-width, initial-scale=1\"><link rel=\"stylesheet\" type=\"text/css\" href=\"https://use.typekit.net/cyj6tyg.css\">\\n\\t\\t<script src=\"https://connect.facebook.net/signals/config/2125532231026570?v=2.9.43&amp;r=stable\" async=\"\"></script><script async=\"\" src=\"https://connect.facebook.net/en_US/fbevents.js\"></script><script type=\"text/javascript\" async=\"\" src=\"//www.googleadservices.com/pagead/conversion_async.js\"></script><script type=\"text/javascript\" async=\"\" src=\"//www.googleadservices.com/pagead/conversion_async.js\"></script><script type=\"text/javascript\" async=\"\" src=\"//www.googleadservices.com/pagead/conversion_async.js\"></script><script type=\"text/javascript\" async=\"\" src=\"//www.googleadservices.com/pagead/conversion_async.js\"></script><script type=\"text/javascript\" async=\"\" src=\"//www.googleadservices.com/pagead/conversion_async.js\"></script><script type=\"text/javascript\" async=\"\" src=\"https://www.google-analytics.com/analytics.js\"></script><script async=\"\" src=\"https://www.googletagmanager.com/gtm.js?id=GTM-MXNRGKP\"></script><script type=\"text/javascript\" src=\"/Javascript/Dalhousie2014/jquery.min.js\"></script>\\n\\t\\t<script type=\"text/javascript\" src=\"/Javascript/Dalhousie2014/jquery.uniform.min.js\"></script>\\n\\t\\t<script type=\"text/javascript\" src=\"/Javascript/Dalhousie2014/default.min.js\"></script>\\n\\t\\t<script type=\"text/javascript\" src=\"/Javascript/Dalhousie2014/selectNav.min.js\"></script>\\n\\t\\t<script type=\"text/javascript\" src=\"/Javascript/Dalhousie2014/purl.min.js\"></script>\\n\\t\\t<script type=\"text/javascript\" src=\"/Javascript/Dalhousie2014/default-css-responsive.min.js\"></script>\\n\\n\\n        <script type=\"text/javascript\">\\n\\n\\t        dataLayer = [{ \\n\\t\\t        \\'Full Page Path\\': window.location.host + window.location.pathname \\n\\t        }];\\n\\t        (function(w,d,s,l,i){\\n\\t\\t        w[l]=w[l]||[];w[l].push({ \\n\\t\\t\\t        \\'gtm.start\\': new Date().getTime(),event:\\'gtm.js\\' \\n\\t\\t        });\\n\\t\\t        var f=d.getElementsByTagName(s)[0],\\n\\t\\t\\t        j=d.createElement(s),\\n\\t\\t\\t        dl=l!=\\'dataLayer\\'?\\'&l=\\'+l:\\'\\';\\n\\n\\t\\t        j.async=true;j.src=\\'https://www.googletagmanager.com/gtm.js?id=\\'+i+dl;f.parentNode.insertBefore(j,f);\\n\\t        })(window, document, \\'script\\', \\'dataLayer\\', \\'GTM-MXNRGKP\\');\\n\\n\\t        dataLayer.push({\\n\\n\\t            \\'event\\': \\'AdditionalTracker\\',\\n\\n\\t            \\'trackerID\\': \\'UA-4153104-1\\'\\n\\n\\t        });\\n\\n        </script>\\n\\n\\n\\n\\n\\t<link href=\"../App_Themes/Dalhousie2014/academicunit.css\" type=\"text/css\" rel=\"stylesheet\"><link href=\"../App_Themes/Dalhousie2014/Amanda.css\" type=\"text/css\" rel=\"stylesheet\"><link href=\"../App_Themes/Dalhousie2014/award.css\" type=\"text/css\" rel=\"stylesheet\"><link href=\"../App_Themes/Dalhousie2014/Catalog.css\" type=\"text/css\" rel=\"stylesheet\"><link href=\"../App_Themes/Dalhousie2014/Default.css\" type=\"text/css\" rel=\"stylesheet\"><link href=\"../App_Themes/Dalhousie2014/default.min.css\" type=\"text/css\" rel=\"stylesheet\"><link href=\"../App_Themes/Dalhousie2014/default-theme.min.css\" type=\"text/css\" rel=\"stylesheet\"><link href=\"../App_Themes/Dalhousie2014/Layout.css\" type=\"text/css\" rel=\"stylesheet\"><link href=\"../App_Themes/Dalhousie2014/responsive.css\" type=\"text/css\" rel=\"stylesheet\"><link href=\"../App_Themes/Dalhousie2014/toolsNavigationHeader.min.css\" type=\"text/css\" rel=\"stylesheet\"><script src=\"https://googleads.g.doubleclick.net/pagead/viewthroughconversion/1027188514/?random=1627331293063&amp;cv=9&amp;fst=1627331293063&amp;num=1&amp;guid=ON&amp;resp=GooglemKTybQhCsO&amp;u_h=1080&amp;u_w=1920&amp;u_ah=1040&amp;u_aw=1920&amp;u_cd=24&amp;u_his=3&amp;u_tz=-240&amp;u_java=false&amp;u_nplug=3&amp;u_nmime=4&amp;gtm=2wg7l1&amp;sendb=1&amp;ig=1&amp;frm=0&amp;url=https%3A%2F%2Facademiccalendar.dal.ca%2FCatalog%2FViewCatalog.aspx%3Fpageid%3Dviewcatalog%26topicgroupid%3D29561%26entitytype%3DCID%26entitycode%3DMECH%2B3010&amp;ref=https%3A%2F%2Facademiccalendar.dal.ca%2FCatalog%2FViewCatalog.aspx%3Fpageid%3Dviewcatalog%26catalogid%3D111%26chapterid%3D6741%26topicgroupid%3D29561%26loaduseredits%3DFalse&amp;tiba=Dalhousie%20Academic%20Calendars%20-%20View%20Calendar&amp;hn=www.googleadservices.com&amp;async=1&amp;rfmt=3&amp;fmt=4\"></script><script src=\"https://googleads.g.doubleclick.net/pagead/viewthroughconversion/525530739/?random=1627331293069&amp;cv=9&amp;fst=1627331293069&amp;num=1&amp;guid=ON&amp;resp=GooglemKTybQhCsO&amp;eid=376635471&amp;u_h=1080&amp;u_w=1920&amp;u_ah=1040&amp;u_aw=1920&amp;u_cd=24&amp;u_his=3&amp;u_tz=-240&amp;u_java=false&amp;u_nplug=3&amp;u_nmime=4&amp;gtm=2wg7l1&amp;sendb=1&amp;ig=1&amp;frm=0&amp;url=https%3A%2F%2Facademiccalendar.dal.ca%2FCatalog%2FViewCatalog.aspx%3Fpageid%3Dviewcatalog%26topicgroupid%3D29561%26entitytype%3DCID%26entitycode%3DMECH%2B3010&amp;ref=https%3A%2F%2Facademiccalendar.dal.ca%2FCatalog%2FViewCatalog.aspx%3Fpageid%3Dviewcatalog%26catalogid%3D111%26chapterid%3D6741%26topicgroupid%3D29561%26loaduseredits%3DFalse&amp;tiba=Dalhousie%20Academic%20Calendars%20-%20View%20Calendar&amp;hn=www.googleadservices.com&amp;async=1&amp;rfmt=3&amp;fmt=4\"></script><script src=\"https://googleads.g.doubleclick.net/pagead/viewthroughconversion/520365897/?random=1627331293073&amp;cv=9&amp;fst=1627331293073&amp;num=1&amp;guid=ON&amp;resp=GooglemKTybQhCsO&amp;u_h=1080&amp;u_w=1920&amp;u_ah=1040&amp;u_aw=1920&amp;u_cd=24&amp;u_his=3&amp;u_tz=-240&amp;u_java=false&amp;u_nplug=3&amp;u_nmime=4&amp;gtm=2wg7l1&amp;sendb=1&amp;ig=1&amp;frm=0&amp;url=https%3A%2F%2Facademiccalendar.dal.ca%2FCatalog%2FViewCatalog.aspx%3Fpageid%3Dviewcatalog%26topicgroupid%3D29561%26entitytype%3DCID%26entitycode%3DMECH%2B3010&amp;ref=https%3A%2F%2Facademiccalendar.dal.ca%2FCatalog%2FViewCatalog.aspx%3Fpageid%3Dviewcatalog%26catalogid%3D111%26chapterid%3D6741%26topicgroupid%3D29561%26loaduseredits%3DFalse&amp;tiba=Dalhousie%20Academic%20Calendars%20-%20View%20Calendar&amp;hn=www.googleadservices.com&amp;async=1&amp;rfmt=3&amp;fmt=4\"></script><script src=\"https://googleads.g.doubleclick.net/pagead/viewthroughconversion/1027188514/?random=1627331293077&amp;cv=9&amp;fst=1627331293077&amp;num=1&amp;label=Ceo_CMqN_wUQos7m6QM&amp;guid=ON&amp;resp=GooglemKTybQhCsO&amp;u_h=1080&amp;u_w=1920&amp;u_ah=1040&amp;u_aw=1920&amp;u_cd=24&amp;u_his=3&amp;u_tz=-240&amp;u_java=false&amp;u_nplug=3&amp;u_nmime=4&amp;gtm=2wg7l1&amp;sendb=1&amp;ig=1&amp;frm=0&amp;url=https%3A%2F%2Facademiccalendar.dal.ca%2FCatalog%2FViewCatalog.aspx%3Fpageid%3Dviewcatalog%26topicgroupid%3D29561%26entitytype%3DCID%26entitycode%3DMECH%2B3010&amp;ref=https%3A%2F%2Facademiccalendar.dal.ca%2FCatalog%2FViewCatalog.aspx%3Fpageid%3Dviewcatalog%26catalogid%3D111%26chapterid%3D6741%26topicgroupid%3D29561%26loaduseredits%3DFalse&amp;tiba=Dalhousie%20Academic%20Calendars%20-%20View%20Calendar&amp;hn=www.googleadservices.com&amp;async=1&amp;rfmt=3&amp;fmt=4\"></script><script src=\"https://googleads.g.doubleclick.net/pagead/viewthroughconversion/520359276/?random=1627331293080&amp;cv=9&amp;fst=1627331293080&amp;num=1&amp;guid=ON&amp;resp=GooglemKTybQhCsO&amp;u_h=1080&amp;u_w=1920&amp;u_ah=1040&amp;u_aw=1920&amp;u_cd=24&amp;u_his=3&amp;u_tz=-240&amp;u_java=false&amp;u_nplug=3&amp;u_nmime=4&amp;gtm=2wg7l1&amp;sendb=1&amp;ig=1&amp;frm=0&amp;url=https%3A%2F%2Facademiccalendar.dal.ca%2FCatalog%2FViewCatalog.aspx%3Fpageid%3Dviewcatalog%26topicgroupid%3D29561%26entitytype%3DCID%26entitycode%3DMECH%2B3010&amp;ref=https%3A%2F%2Facademiccalendar.dal.ca%2FCatalog%2FViewCatalog.aspx%3Fpageid%3Dviewcatalog%26catalogid%3D111%26chapterid%3D6741%26topicgroupid%3D29561%26loaduseredits%3DFalse&amp;tiba=Dalhousie%20Academic%20Calendars%20-%20View%20Calendar&amp;hn=www.googleadservices.com&amp;async=1&amp;rfmt=3&amp;fmt=4\"></script></head>\\n\\t<body style=\"overflow: auto;\">\\n\\t<div ng-controller=\"ApplicationController\">\\n\\t\\t<div class=\"siteSearch\" style=\"display: none;\">\\n\\t\\t\\t<form id=\"search\" method=\"get\" action=\"https://www.dal.ca/search.html\">\\n\\t\\t\\t\\t<div class=\"hdr-search\">\\n\\t\\t\\t\\t\\t<input name=\"stype\" value=\"academiccalendar\" type=\"hidden\">\\n\\t\\t\\t\\t\\t<input name=\"_charset_\" value=\"UTF-8\" type=\"hidden\">\\n\\t\\t\\t\\t\\t<div class=\"searchBoxTextWrapper\">\\n\\t\\t\\t\\t\\t\\t<input type=\"text\" name=\"q\" id=\"q\" value=\"Search Dal.ca\" class=\"input-search-box\">\\n\\t\\t\\t\\t\\t</div>\\n\\t\\t\\t\\t\\t<input type=\"submit\" value=\"Search Button\" class=\"search-btn\">\\n\\t\\t\\t\\t</div>\\n\\t\\t\\t</form>\\n\\t\\t</div>\\n\\t\\t<form method=\"post\" action=\"./ViewCatalog.aspx?pageid=viewcatalog&amp;topicgroupid=29561&amp;entitytype=CID&amp;entitycode=MECH+3010\" id=\"aspnetForm\">\\n<div class=\"aspNetHidden\">\\n<input type=\"hidden\" name=\"__EVENTTARGET\" id=\"__EVENTTARGET\" value=\"\">\\n<input type=\"hidden\" name=\"__EVENTARGUMENT\" id=\"__EVENTARGUMENT\" value=\"\">\\n<input type=\"hidden\" name=\"__VIEWSTATE\" id=\"__VIEWSTATE\" value=\"EpUI8E/MXKuy0EWetghXRstG2erMw5kdjrsxY8zJbliFR36y8foYLmuYenRwKy69egX4vkqPm5RYnEPg0KtstRBt2b1BTpYbal6KGy/K1UY6ob2ehxzlBjckBA8TIAobKoBv4xQynnt7dNw/2XD4j57QDIInTv2raXqqjzkaSWKoTkKX8PnIHbeBnDNMfrVUCmoSw4BKrVm4PyYSExGJQ0zEIYm/eLrC5Js8umohHqadmi/DBWyiF+wz6P0OMd8BBFS6fk+cPZiGotqYj/GNikw6rZ4s+1uWRtpWLC8HLR/2Wxy/FLKvT6ys8IKZ5b3AvbTj6G26KKXOtw+TpHQPbz4qSNDQTLQxFNia+2IJTW8=\">\\n</div>\\n\\n<script type=\"text/javascript\">\\n//<![CDATA[\\nvar theForm = document.forms[\\'aspnetForm\\'];\\nfunction __doPostBack(eventTarget, eventArgument) {\\n    if (!theForm.onsubmit || (theForm.onsubmit() != false)) {\\n        theForm.__EVENTTARGET.value = eventTarget;\\n        theForm.__EVENTARGUMENT.value = eventArgument;\\n        theForm.submit();\\n    }\\n}\\n//]]>\\n</script>\\n\\n\\n<script src=\"/WebResource.axd?d=pynGkmcFUV13He1Qd6_TZBgGyl6LXBENX0IATaQHg6rI5pIiHfyXMloZxcNo3nr0lq5U3YCTYJJX5utC0w5uKw2&amp;t=637109961120000000\" type=\"text/javascript\"></script>\\n\\n\\n<script src=\"/ScriptResource.axd?d=yeSNAJTOPtPimTGCAo3LlVW_6TlP5tsRcbYav7rrI5o1T0iHMzL6XuVsSaJfDm6c7W25_xCGMetYWkkHhjL279ItUDuHFgaT_xD-16DbSmle9Ogwdqr8naFBNWKMvjoD0&amp;t=59315791\" type=\"text/javascript\"></script>\\n<script type=\"text/javascript\">\\n//<![CDATA[\\nif (typeof(Sys) === \\'undefined\\') throw new Error(\\'ASP.NET Ajax client-side framework failed to load.\\');\\n//]]>\\n</script>\\n\\n<script src=\"/ScriptResource.axd?d=DT3YJR8QaqV61-teuz0hgh0xpfPZSFbUIs_Oy8EN5D20v5oLEAMhuwrDYvMCUP52LqLYgP8xXVRYSpg2LmySLUOZmyWpkQQlFJDaOt8-pBIXVULDHryNBrB0cuTJtZt8T01vEEkiPXzeJaT21UBShg2&amp;t=59315791\" type=\"text/javascript\"></script>\\n<script src=\"../Javascript/Dalhousie2014/jquery.autocomplete.js\" type=\"text/javascript\"></script>\\n<script src=\"../Javascript/jquery.cluetip.js\" type=\"text/javascript\"></script>\\n<script src=\"../Javascript/jquery.json.min.js\" type=\"text/javascript\"></script>\\n<script src=\"../Javascript/Dalhousie2014/jquery.contextmenu.r2.js\" type=\"text/javascript\"></script>\\n<script src=\"../Javascript/jquery.form.js\" type=\"text/javascript\"></script>\\n<script src=\"../Javascript/Dalhousie2014/jquery.deac.js\" type=\"text/javascript\"></script>\\n<script src=\"../Javascript/jquery.jqprint.0.3.js\" type=\"text/javascript\"></script>\\n<script src=\"../Javascript/jquery.jeditable.js\" type=\"text/javascript\"></script>\\n<script src=\"/ScriptResource.axd?d=xXyXm_bRgGX8bUPGrtt_ntYSwo1rw-UuRjR1lYktz8end7tLrgUaZgy8oz1C-eDyMz1pWLDL_dIjo35K0fPpWfwKpPOOOFpF6rtbSiHtDRH4RGXkBxG0vO0j4RKiVHD10bVyXJ4EMB6G_qgPcriOGADe0HZDx9VMtvIgxMwvHPEe6mT5KBdu1RyktqnaH5Qn0&amp;t=ea3fc92\" type=\"text/javascript\"></script>\\n<script src=\"/ScriptResource.axd?d=atBqXbZSvsNYIJdMUft-9cvPBoZYjMEf2UEUDAuxd4W9YonBSLUNGr7Trsi2SHbfoWCZ_oqAVzcJ_nL_o-PgeH0s8jWPEWO08bYeZQpJkGSRhy8tjNhzVp7RiQoQaDYo94bHViLsGh2ronNIjhxZON1B507OMkHb7rxdc2Wx8K7SiyNuwoRlOoVusXizVdlP0&amp;t=ea3fc92\" type=\"text/javascript\"></script>\\n<script type=\"text/javascript\">\\n//<![CDATA[\\nvar PageMethods = function() {\\nPageMethods.initializeBase(this);\\nthis._timeout = 0;\\nthis._userContext = null;\\nthis._succeeded = null;\\nthis._failed = null;\\n}\\nPageMethods.prototype = {\\n_get_path:function() {\\n var p = this.get_path();\\n if (p) return p;\\n else return PageMethods._staticInstance.get_path();},\\nHasPermissionGroup:function(groupCode,succeededCallback, failedCallback, userContext) {\\n/// <param name=\"groupCode\" type=\"String\">System.String</param>\\n/// <param name=\"succeededCallback\" type=\"Function\" optional=\"true\" mayBeNull=\"true\"></param>\\n/// <param name=\"failedCallback\" type=\"Function\" optional=\"true\" mayBeNull=\"true\"></param>\\n/// <param name=\"userContext\" optional=\"true\" mayBeNull=\"true\"></param>\\nreturn this._invoke(this._get_path(), \\'HasPermissionGroup\\',false,{groupCode:groupCode},succeededCallback,failedCallback,userContext); }}\\nPageMethods.registerClass(\\'PageMethods\\',Sys.Net.WebServiceProxy);\\nPageMethods._staticInstance = new PageMethods();\\nPageMethods.set_path = function(value) {\\nPageMethods._staticInstance.set_path(value); }\\nPageMethods.get_path = function() { \\n/// <value type=\"String\" mayBeNull=\"true\">The service url.</value>\\nreturn PageMethods._staticInstance.get_path();}\\nPageMethods.set_timeout = function(value) {\\nPageMethods._staticInstance.set_timeout(value); }\\nPageMethods.get_timeout = function() { \\n/// <value type=\"Number\">The service timeout.</value>\\nreturn PageMethods._staticInstance.get_timeout(); }\\nPageMethods.set_defaultUserContext = function(value) { \\nPageMethods._staticInstance.set_defaultUserContext(value); }\\nPageMethods.get_defaultUserContext = function() { \\n/// <value mayBeNull=\"true\">The service default user context.</value>\\nreturn PageMethods._staticInstance.get_defaultUserContext(); }\\nPageMethods.set_defaultSucceededCallback = function(value) { \\n PageMethods._staticInstance.set_defaultSucceededCallback(value); }\\nPageMethods.get_defaultSucceededCallback = function() { \\n/// <value type=\"Function\" mayBeNull=\"true\">The service default succeeded callback.</value>\\nreturn PageMethods._staticInstance.get_defaultSucceededCallback(); }\\nPageMethods.set_defaultFailedCallback = function(value) { \\nPageMethods._staticInstance.set_defaultFailedCallback(value); }\\nPageMethods.get_defaultFailedCallback = function() { \\n/// <value type=\"Function\" mayBeNull=\"true\">The service default failed callback.</value>\\nreturn PageMethods._staticInstance.get_defaultFailedCallback(); }\\nPageMethods.set_enableJsonp = function(value) { PageMethods._staticInstance.set_enableJsonp(value); }\\nPageMethods.get_enableJsonp = function() { \\n/// <value type=\"Boolean\">Specifies whether the service supports JSONP for cross domain calling.</value>\\nreturn PageMethods._staticInstance.get_enableJsonp(); }\\nPageMethods.set_jsonpCallbackParameter = function(value) { PageMethods._staticInstance.set_jsonpCallbackParameter(value); }\\nPageMethods.get_jsonpCallbackParameter = function() { \\n/// <value type=\"String\">Specifies the parameter name that contains the callback function name for a JSONP request.</value>\\nreturn PageMethods._staticInstance.get_jsonpCallbackParameter(); }\\nPageMethods.set_path(\"ViewCatalog.aspx\");\\nPageMethods.HasPermissionGroup= function(groupCode,onSuccess,onFailed,userContext) {\\n/// <param name=\"groupCode\" type=\"String\">System.String</param>\\n/// <param name=\"succeededCallback\" type=\"Function\" optional=\"true\" mayBeNull=\"true\"></param>\\n/// <param name=\"failedCallback\" type=\"Function\" optional=\"true\" mayBeNull=\"true\"></param>\\n/// <param name=\"userContext\" optional=\"true\" mayBeNull=\"true\"></param>\\nPageMethods._staticInstance.HasPermissionGroup(groupCode,onSuccess,onFailed,userContext); }\\n//]]>\\n</script>\\n\\n<div class=\"aspNetHidden\">\\n\\n\\t<input type=\"hidden\" name=\"__VIEWSTATEGENERATOR\" id=\"__VIEWSTATEGENERATOR\" value=\"B93BE46D\">\\n\\t<input type=\"hidden\" name=\"__EVENTVALIDATION\" id=\"__EVENTVALIDATION\" value=\"0GFUoV7/riWd4hfumT12a3mCNk0Jopna6wu+NBV73yObLcboEJN2mCsFLJLT64Vyv/aitVgrrilZNWVOSUaa2tQldnnCbVprZP1+eprS08Q9/xeiSaSrkBlMFyJgdAkj\">\\n</div>\\n\\t\\t\\t<script type=\"text/javascript\">\\n//<![CDATA[\\nSys.WebForms.PageRequestManager._initialize(\\'ctl00$ctl00$sm\\', \\'aspnetForm\\', [], [], [], 360000, \\'ctl00$ctl00\\');\\n//]]>\\n</script>\\n\\n\\n\\t\\t\\t<!-- DALHOUSIE MAIN -->\\n\\n\\t\\t\\t<!--\\n\\t\\t\\tBase template does not contain the emergency notification code.\\n\\t\\t\\tThis is overridden in any template that needs the component on the page.\\n\\t\\t\\t-->\\n\\t\\t\\t<div class=\"parsys tool-navigation-menu iparsys\">\\n\\t\\t\\t\\t<div class=\"section\">\\n\\t\\t\\t\\t\\t<div class=\"new\"></div>\\n\\t\\t\\t\\t</div>\\n\\t\\t\\t\\t<div class=\"iparys_inherited\">\\n\\t\\t\\t\\t\\t<div class=\"parsys tool-navigation-menu iparsys\">\\n\\t\\t\\t\\t\\t\\t<div class=\"toolsNavigationHeader section\">\\n\\t\\t\\t\\t\\t\\t\\t<div class=\"blk-menu\">\\n\\t\\t\\t\\t\\t\\t\\t\\t<div class=\"ctn-boundary\">\\n\\t\\t\\t\\t\\t\\t\\t\\t\\t<ul id=\"navbar\">\\n\\t\\t\\t\\t\\t\\t\\t\\t\\t\\t<li>\\n\\t\\t\\t\\t\\t\\t\\t\\t\\t\\t\\t<a href=\"https://www.dal.ca/current_students.html\">Current Students</a>\\n\\t\\t\\t\\t\\t\\t\\t\\t\\t\\t</li>\\n\\t\\t\\t\\t\\t\\t\\t\\t\\t\\t<li>\\n\\t\\t\\t\\t\\t\\t\\t\\t\\t\\t\\t<a href=\"https://www.dal.ca/faculty_staff.html\">Faculty &amp; Staff</a>\\n\\t\\t\\t\\t\\t\\t\\t\\t\\t\\t</li>\\n\\t\\t\\t\\t\\t\\t\\t\\t\\t\\t<li>\\n\\t\\t\\t\\t\\t\\t\\t\\t\\t\\t\\t<a class=\"regular arrow\" href=\"#\">Campuses</a>\\n\\t\\t\\t\\t\\t\\t\\t\\t\\t\\t\\t<ul style=\"display:none;\">\\n\\t\\t\\t\\t\\t\\t\\t\\t\\t\\t\\t\\t<li>\\n\\t\\t\\t\\t\\t\\t\\t\\t\\t\\t\\t\\t\\t<a href=\"https://www.dal.ca/about-dal/agricultural-campus.html\">Agricultural Campus (Truro)</a>\\n\\t\\t\\t\\t\\t\\t\\t\\t\\t\\t\\t\\t</li>\\n\\t\\t\\t\\t\\t\\t\\t\\t\\t\\t\\t\\t<li>\\n\\t\\t\\t\\t\\t\\t\\t\\t\\t\\t\\t\\t\\t<a href=\"https://www.dal.ca/about-dal/student-experience/halifax-campuses.html\">Halifax Campuses</a>\\n\\t\\t\\t\\t\\t\\t\\t\\t\\t\\t\\t\\t</li>\\n\\t\\t\\t\\t\\t\\t\\t\\t\\t\\t\\t</ul>\\n\\t\\t\\t\\t\\t\\t\\t\\t\\t\\t</li>\\n\\t\\t\\t\\t\\t\\t\\t\\t\\t\\t<li>\\n\\t\\t\\t\\t\\t\\t\\t\\t\\t\\t\\t<a href=\"https://directory.dal.ca/\">Directory</a>\\n\\t\\t\\t\\t\\t\\t\\t\\t\\t\\t</li>\\n\\t\\t\\t\\t\\t\\t\\t\\t\\t\\t<li>\\n\\t\\t\\t\\t\\t\\t\\t\\t\\t\\t\\t<a href=\"http://campusmap.dal.ca/\">Campus Maps</a>\\n\\t\\t\\t\\t\\t\\t\\t\\t\\t\\t</li>\\n\\t\\t\\t\\t\\t\\t\\t\\t\\t\\t<li>\\n\\t\\t\\t\\t\\t\\t\\t\\t\\t\\t\\t<a href=\"https://my.dal.ca\"><i>my</i>Dal</a>\\n\\t\\t\\t\\t\\t\\t\\t\\t\\t\\t</li>\\n\\t\\t\\t\\t\\t\\t\\t\\t\\t\\t<li>\\n\\t\\t\\t\\t\\t\\t\\t\\t\\t\\t\\t<a href=\"https://dalonline.dal.ca\">Dal Online</a>\\n\\t\\t\\t\\t\\t\\t\\t\\t\\t\\t</li>\\n\\t\\t\\t\\t\\t\\t\\t\\t\\t\\t<li>\\n\\t\\t\\t\\t\\t\\t\\t\\t\\t\\t\\t<a href=\"https://www.dal.ca/brightspace\">Brightspace</a>\\n\\t\\t\\t\\t\\t\\t\\t\\t\\t\\t</li>\\n\\t\\t\\t\\t\\t\\t\\t\\t\\t</ul>\\n\\t\\t\\t\\t\\t\\t\\t\\t</div><!--endof ctn-boundary-->\\n\\t\\t\\t\\t\\t\\t\\t</div><!--endof blk-menu-->\\n\\n\\t\\t\\t\\t\\t\\t\\t<div class=\"blk-menu mobile \">\\n\\t\\t\\t\\t\\t\\t\\t\\t<div class=\"ctn-boundary\">\\n\\t\\t\\t\\t\\t\\t\\t\\t\\t<ul id=\"navbar-mobile\">\\n\\t\\t\\t\\t\\t\\t\\t\\t\\t\\t<li>\\n\\t\\t\\t\\t\\t\\t\\t\\t\\t\\t\\t<a href=\"https://my.dal.ca\"><i>my</i>Dal</a>\\n\\t\\t\\t\\t\\t\\t\\t\\t\\t\\t</li>\\n\\t\\t\\t\\t\\t\\t\\t\\t\\t\\t<li>\\n\\t\\t\\t\\t\\t\\t\\t\\t\\t\\t\\t<a class=\"middle\" href=\"https://directory.dal.ca/\">Directory</a>\\n\\t\\t\\t\\t\\t\\t\\t\\t\\t\\t</li>\\n\\t\\t\\t\\t\\t\\t\\t\\t\\t\\t<li>\\n\\t\\t\\t\\t\\t\\t\\t\\t\\t\\t\\t<a href=\"https://campusmap.dal.ca/\">Maps</a>\\n\\t\\t\\t\\t\\t\\t\\t\\t\\t\\t</li>\\n\\t\\t\\t\\t\\t\\t\\t\\t\\t</ul>\\n\\t\\t\\t\\t\\t\\t\\t\\t\\t<div class=\"selector\" id=\"uniform-mobile-more\"><span></span><select id=\"mobile-more\" class=\"mobile-more\" style=\"opacity: 0;\">\\n\\t\\t\\t\\t\\t\\t\\t\\t\\t\\t<option value=\"#\" class=\"empty_menu_item\"></option>\\n\\t\\t\\t\\t\\t\\t\\t\\t\\t\\t<option value=\"https://dalonline.dal.ca\">Dal Online</option>\\n\\t\\t\\t\\t\\t\\t\\t\\t\\t\\t<option value=\"https://www.dal.ca/faculty_staff.html\">Faculty &amp; Staff</option>\\n\\t\\t\\t\\t\\t\\t\\t\\t\\t\\t<option value=\"https://www.dal.ca/current_students.html\">Students</option>\\n\\t\\t\\t\\t\\t\\t\\t\\t\\t</select></div>\\n\\t\\t\\t\\t\\t\\t\\t\\t</div><!--endof ctn-boundary-->\\n\\t\\t\\t\\t\\t\\t\\t</div><!--endof blk-menu mobile-->\\n\\t\\t\\t\\t\\t\\t\\t<div class=\"clearfloat\"></div>\\n\\t\\t\\t\\t\\t\\t</div>\\n\\t\\t\\t\\t\\t</div>\\n\\t\\t\\t\\t</div>\\n\\t\\t\\t</div>\\n\\t\\t\\t<div id=\"wrapper\">\\n\\t\\t\\t\\t<div class=\"header\">\\n\\t\\t\\t\\t\\t<div class=\"ctn-boundary clearfix\" style=\"position:relative;\">\\n\\t\\t\\t\\t\\t\\t<div class=\"subsite-give\">\\n\\t\\t\\t\\t\\t\\t\\t<span class=\"subsite-give-link\"> <a href=\"https://alumniapps2.dal.ca/giving/index\">Support student success</a> </span>\\n\\t\\t\\t\\t\\t\\t\\t<a href=\"https://alumniapps2.dal.ca/giving/index\" class=\"subsite-give-button\">Support Dal</a>\\n\\t\\t\\t\\t\\t\\t</div>\\n\\t\\t\\t\\t\\t\\t<h2><a href=\"https://www.dal.ca/\" title=\"Back to Dalhousie University Home Page\">Dalhousie University - Inspiring Minds</a></h2>\\n\\t\\t\\t\\t\\t\\t<div id=\"accessHelpers\">\\n\\t\\t\\t\\t\\t\\t\\t<p id=\"skipToContent\">\\n\\t\\t\\t\\t\\t\\t\\t\\t<a href=\"#skipContent\">Skip To Content</a>\\n\\t\\t\\t\\t\\t\\t\\t</p>\\n\\t\\t\\t\\t\\t\\t</div>\\n\\n\\t\\t\\t\\t\\t\\t<div class=\"hdr-tools\">\\n\\t\\t\\t\\t\\t\\t\\t<span class=\"give-link\"> <a href=\"https://alumniapps2.dal.ca/giving/index\">Support Dal</a> </span>\\n\\t\\t\\t\\t\\t\\t</div>\\n\\t\\t\\t\\t\\t</div>\\n\\t\\t\\t\\t\\t<!-- end-of ctn-boundary -->\\n\\t\\t\\t\\t</div><!-- Header -->\\n\\n\\t\\t\\t\\t<div class=\"mainnav\">\\n\\t\\t\\t\\t\\t<div class=\"mn-wrapper\">\\n\\t\\t\\t\\t\\t\\t<div class=\"ctn-boundary\">\\n\\t\\t\\t\\t\\t\\t\\t<ul>\\n\\t\\t\\t\\t\\t\\t\\t\\t<li class=\"first-child\">\\n\\t\\t\\t\\t\\t\\t\\t\\t\\t<a href=\"https://www.dal.ca/about-dal.html\">About</a>\\n\\t\\t\\t\\t\\t\\t\\t\\t</li>\\n\\t\\t\\t\\t\\t\\t\\t\\t<li>\\n\\t\\t\\t\\t\\t\\t\\t\\t\\t<a href=\"https://www.dal.ca/admissions.html\">Admissions</a>\\n\\t\\t\\t\\t\\t\\t\\t\\t</li>\\n\\t\\t\\t\\t\\t\\t\\t\\t<li class=\"active \">\\n\\t\\t\\t\\t\\t\\t\\t\\t\\t<a href=\"https://www.dal.ca/academics.html\">Academics</a>\\n\\t\\t\\t\\t\\t\\t\\t\\t</li>\\n\\t\\t\\t\\t\\t\\t\\t\\t<li>\\n\\t\\t\\t\\t\\t\\t\\t\\t\\t<a href=\"https://www.dal.ca/campus_life.html\">Campus Life</a>\\n\\t\\t\\t\\t\\t\\t\\t\\t</li>\\n\\t\\t\\t\\t\\t\\t\\t\\t<li>\\n\\t\\t\\t\\t\\t\\t\\t\\t\\t<a href=\"https://libraries.dal.ca/\">Libraries</a>\\n\\t\\t\\t\\t\\t\\t\\t\\t</li>\\n\\t\\t\\t\\t\\t\\t\\t\\t<li>\\n\\t\\t\\t\\t\\t\\t\\t\\t\\t<a href=\"https://www.dal.ca/research.html\">Research</a>\\n\\t\\t\\t\\t\\t\\t\\t\\t</li>\\n\\t\\t\\t\\t\\t\\t\\t\\t<li>\\n\\t\\t\\t\\t\\t\\t\\t\\t\\t<a href=\"https://www.dal.ca/alumni.html\">Alumni</a>\\n\\t\\t\\t\\t\\t\\t\\t\\t</li>\\n\\t\\t\\t\\t\\t\\t\\t\\t<li>\\n\\t\\t\\t\\t\\t\\t\\t\\t\\t<a href=\"https://www.dal.ca/news.html\">News &amp; Events</a>\\n\\t\\t\\t\\t\\t\\t\\t\\t</li>\\n\\t\\t\\t\\t\\t\\t\\t\\t<li class=\"last-child\">\\n\\t\\t\\t\\t\\t\\t\\t\\t\\t<a href=\"https://www.dal.ca/search.html\">Search Dal.ca</a>\\n\\t\\t\\t\\t\\t\\t\\t\\t</li>\\n\\t\\t\\t\\t\\t\\t\\t</ul>\\n\\n\\t\\t\\t\\t\\t\\t\\t<div class=\"selector\" id=\"uniform-mobile_dal_menu\"><span></span><select class=\"mobile_dal_menu\" id=\"mobile_dal_menu\" style=\"opacity: 0;\">\\n\\t\\t\\t\\t\\t\\t\\t\\t<option value=\"#\" class=\"empty_menu_item\"></option>\\n\\t\\t\\t\\t\\t\\t\\t\\t<option value=\"https://www.dal.ca/about-dal.html\">About</option>\\n\\t\\t\\t\\t\\t\\t\\t\\t<option value=\"https://www.dal.ca/admissions.html\">Admissions</option>\\n\\t\\t\\t\\t\\t\\t\\t\\t<option value=\"https://www.dal.ca/academics.html\">Academics</option>\\n\\t\\t\\t\\t\\t\\t\\t\\t<option value=\"https://www.dal.ca/campus_life.html\">Campus Life</option>\\n\\t\\t\\t\\t\\t\\t\\t\\t<option value=\"https://libraries.dal.ca/\">Libraries</option>\\n\\t\\t\\t\\t\\t\\t\\t\\t<option value=\"https://www.dal.ca/research.html\">Research</option>\\n\\t\\t\\t\\t\\t\\t\\t\\t<option value=\"https://www.dal.ca/alumni.html\">Alumni</option>\\n\\t\\t\\t\\t\\t\\t\\t\\t<option value=\"https://www.dal.ca/news.html\">News &amp; Events</option>\\n\\t\\t\\t\\t\\t\\t\\t\\t<option value=\"https://www.dal.ca/search.html\">Search Dal.ca</option>\\n\\t\\t\\t\\t\\t\\t\\t</select></div>\\n\\t\\t\\t\\t\\t\\t</div>\\n\\t\\t\\t\\t\\t\\t<div class=\"mn-bg\">\\n\\n\\t\\t\\t\\t\\t\\t\\t&nbsp;\\n\\t\\t\\t\\t\\t\\t</div>\\n\\t\\t\\t\\t\\t</div>\\n\\t\\t\\t\\t</div><!-- Main Navigation -->\\n\\t\\t\\t\\t<div class=\"banner\">\\n\\t\\t\\t\\t    <div class=\"background-adaptive-image backgroundAdaptiveImage\">\\n\\t\\t\\t\\t<script type=\"text/javascript\" src=\"https://cdn.dal.ca/etc/designs/dalhousie/clientlibs/global/adaptiveImages.lt_21a6528f92331e036f7ccd1798461ce7.min.js\"></script>\\n\\t\\t\\t\\t<picture title=\"\" class=\"\">\\n\\t\\t\\t\\t                <!--[if IE 9]><video style=\"display: none;\"><![endif]-->\\n\\t\\t\\t\\t                <!--[if lte IE 8]><source srcset=\"/App_Themes/Dalhousie2014/dalhousie-images/img-bannerAbout.jpg\" media=\"(min-width : 0px)\" /><![endif]-->\\n\\t\\t\\t\\t                <source srcset=\"/App_Themes/Dalhousie2014/dalhousie-images/img-bannerAbout.jpg\" media=\"(min-width : 641px)\"><!--[if IE 9]></video><![endif]-->\\n\\t\\t\\t\\t                <img srcset=\"/App_Themes/Dalhousie2014/dalhousie-images/img-bannerAbout.jpg\" alt=\"\" title=\"\" class=\"\">\\n\\t\\t\\t\\t            </picture>\\n\\n\\t\\t\\t\\t            </div>\\n\\t\\t\\t\\t</div><!-- Banner -->\\n\\n\\n\\t\\t\\t\\t<div class=\"content\" id=\"skipContent\">\\n\\t\\t\\t\\t\\t<div class=\"ctn-boundary\">\\n\\t\\t\\t\\t\\t\\t<div class=\"ctn-wrapper\">\\n\\t\\t\\t\\t\\t\\t\\t<!-- Subsite Header -->\\n\\t\\t\\t\\t\\t\\t\\t<div class=\"subsite-header\">\\n\\t\\t\\t\\t\\t\\t\\t\\t<div class=\"subsiteHeader\">\\n\\t\\t\\t\\t\\t\\t\\t\\t\\t<style type=\"text/css\">\\n\\t\\t\\t\\t\\t\\t\\t\\t\\t\\th2 div {\\n\\t\\t\\t\\t\\t\\t\\t\\t\\t\\t\\tdisplay: inline;\\n\\t\\t\\t\\t\\t\\t\\t\\t\\t\\t}\\n\\t\\t\\t\\t\\t\\t\\t\\t\\t</style>\\n\\t\\t\\t\\t\\t\\t\\t\\t\\t<div class=\"clearfix\">\\n\\t\\t\\t\\t\\t\\t\\t\\t\\t\\t<h2><a href=\"/Catalog/ViewCatalog.aspx\" title=\"Back to Academic Calendars\">Academic Calendars</a></h2>\\n\\n\\t\\t\\t\\t\\t\\t\\t\\t\\t\\t<div class=\"siteSearch\">\\n\\t\\t\\t\\t\\t\\t\\t\\t\\t\\t\\t<div id=\"search\">\\n\\t\\t\\t\\t\\t\\t\\t\\t\\t\\t\\t</div>\\n\\t\\t\\t\\t\\t\\t\\t\\t\\t\\t\\t<!--/search-->\\n\\t\\t\\t\\t\\t\\t\\t\\t\\t\\t</div><span id=\"mobile_site_menu\"><div id=\"mobile_site_nav_container\"><div class=\"selector\" id=\"uniform-selectnav1\"><span>Site Menu</span><select class=\"selectnav\" id=\"selectnav1\" style=\"opacity: 0;\"><option value=\"/Catalog/ViewCatalog.aspx\">Home</option><option value=\"https://academiccalendar.dal.ca/Catalog/ViewCatalog.aspx?pageid=viewcatalog&amp;catalogid=111\">Undergraduate Calendar</option><option value=\"https://academiccalendar.dal.ca/Catalog/ViewCatalog.aspx?pageid=viewcatalog&amp;catalogid=112\">Graduate Calendar</option><option value=\"https://academiccalendar.dal.ca/Catalog/ViewCatalog.aspx?pageid=viewcatalog&amp;catalogid=113\">Dentistry, Law and Medicine Calendar</option><option value=\"https://academiccalendar.dal.ca/Catalog/ViewCatalog.aspx?pageid=viewcatalog&amp;catalogid=115\">PDF Versions</option></select></div></div><div class=\"mobile_site_search\"></div></span>\\n\\t\\t\\t\\t\\t\\t\\t\\t\\t</div>\\n\\t\\t\\t\\t\\t\\t\\t\\t</div>\\n\\t\\t\\t\\t\\t\\t\\t\\t<div class=\"subsite-mainnav\">\\n\\t\\t\\t\\t\\t\\t\\t\\t\\t<ul class=\"clearfix\">\\n\\t\\t\\t\\t\\t\\t\\t\\t\\t\\t<li class=\"first-child\">\\n\\t\\t\\t\\t\\t\\t\\t\\t\\t\\t\\t<a href=\"/Catalog/ViewCatalog.aspx?pageid=viewcatalog&amp;catalogid=111\">Undergraduate Calendar</a>\\n\\t\\t\\t\\t\\t\\t\\t\\t\\t\\t</li>\\n\\t\\t\\t\\t\\t\\t\\t\\t\\t\\t<li>\\n\\t\\t\\t\\t\\t\\t\\t\\t\\t\\t\\t<a href=\"/Catalog/ViewCatalog.aspx?pageid=viewcatalog&amp;catalogid=112\">Graduate Calendar</a>\\n\\t\\t\\t\\t\\t\\t\\t\\t\\t\\t</li>\\n\\t\\t\\t\\t\\t\\t\\t\\t\\t\\t<li>\\n\\t\\t\\t\\t\\t\\t\\t\\t\\t\\t\\t<a href=\"/Catalog/ViewCatalog.aspx?pageid=viewcatalog&amp;catalogid=113\">Dentistry, Law and Medicine Calendar</a>\\n\\t\\t\\t\\t\\t\\t\\t\\t\\t\\t</li>\\n\\t\\t\\t\\t\\t\\t\\t\\t\\t\\t<li>\\n\\t\\t\\t\\t\\t\\t\\t\\t\\t\\t\\t<a href=\"/Catalog/ViewCatalog.aspx?pageid=viewcatalog&amp;catalogid=115\">PDF Versions</a>\\n\\t\\t\\t\\t\\t\\t\\t\\t\\t\\t</li>\\n\\t\\t\\t\\t\\t\\t\\t\\t\\t</ul>\\n\\t\\t\\t\\t\\t\\t\\t\\t</div>\\n\\t\\t\\t\\t\\t\\t\\t</div><!-- end-of subsite-header -->\\n\\n\\t\\t\\t\\t\\t\\t\\t<div class=\"subsite-content\">\\n\\t\\t\\t\\t\\t\\t\\t\\t\\n\\t\\t\\t\\t\\t\\t\\t\\t\\n\\n<div id=\"breadCrumbContainer\" style=\"padding-bottom:10px;padding-top:5px;\" class=\"breadcrumb\">\\n\\t<a id=\"ctl00_ctl00_mainLayoutContent_breadCrumb_catalogLink\" href=\"/Catalog/ViewCatalog.aspx?pageid=viewcatalog&amp;catalogid=111&amp;loaduseredits=False\">Undergraduate 2021/2022</a>&nbsp;<img id=\"ctl00_ctl00_mainLayoutContent_breadCrumb_parentChapterLinkSpacer_0Image\" src=\"/App_Themes/Dalhousie2014/Images/SiteMapPath.gif\" alt=\"Next Level\">&nbsp;<a id=\"ctl00_ctl00_mainLayoutContent_breadCrumb_parentChapterLink_0\" href=\"/Catalog/ViewCatalog.aspx?pageid=viewcatalog&amp;catalogid=111&amp;chapterid=6726&amp;loaduseredits=False\">Faculty of Engineering</a>&nbsp;<img id=\"ctl00_ctl00_mainLayoutContent_breadCrumb_parentChapterLinkSpacer_1Image\" src=\"/App_Themes/Dalhousie2014/Images/SiteMapPath.gif\" alt=\"Next Level\">&nbsp;<a id=\"ctl00_ctl00_mainLayoutContent_breadCrumb_parentChapterLink_1\" href=\"/Catalog/ViewCatalog.aspx?pageid=viewcatalog&amp;catalogid=111&amp;chapterid=6741&amp;loaduseredits=False\">Mechanical Engineering</a>&nbsp;<img id=\"ctl00_ctl00_mainLayoutContent_breadCrumb_topicGroupLinkSpacerImage\" src=\"/App_Themes/Dalhousie2014/Images/SiteMapPath.gif\" alt=\"Next Level\">&nbsp;<span class=\"label\">Co-op Program</span>\\n</div>\\n<div class=\"sidebar\">\\n\\t<div class=\"navigationRight\">\\n\\t\\t<div class=\"sidenav\">\\n<ul id=\"ctl00_ctl00_mainLayoutContent_CatalogNavigationMenu1_navigationMenu\" class=\"catalognavigationmenu nav nav-sidebar\"><li class=\"catalognavigationmenu-home navmenu-home-1\"><a id=\"ctl00_ctl00_mainLayoutContent_CatalogNavigationMenu1_homeLink\" href=\"/Catalog/ViewCatalog.aspx?pageid=viewcatalog&amp;loaduseredits=False\">Academic Calendars</a></li><li class=\"catalognavigationmenu-catalog-parent\"><a id=\"ctl00_ctl00_mainLayoutContent_CatalogNavigationMenu1_menuItem_CLG_111\" href=\"/Catalog/ViewCatalog.aspx?pageid=viewcatalog&amp;catalogid=111&amp;loaduseredits=False\">Undergraduate 2021/2022</a></li><li class=\"catalognavigationmenu-chapter-parent\"><a id=\"ctl00_ctl00_mainLayoutContent_CatalogNavigationMenu1_menuItem_CHA_6726\" href=\"/Catalog/ViewCatalog.aspx?pageid=viewcatalog&amp;catalogid=111&amp;chapterid=6726&amp;loaduseredits=False\">Faculty of Engineering</a></li><li class=\"catalognavigationmenu-chapter-parent\"><a id=\"ctl00_ctl00_mainLayoutContent_CatalogNavigationMenu1_menuItem_CHA_6741\" href=\"/Catalog/ViewCatalog.aspx?pageid=viewcatalog&amp;catalogid=111&amp;chapterid=6741&amp;loaduseredits=False\">Mechanical Engineering</a></li><li class=\"catalognavigationmenu-topicgroup\"><a id=\"ctl00_ctl00_mainLayoutContent_CatalogNavigationMenu1_menuItem_TPG_29564\" href=\"/Catalog/ViewCatalog.aspx?pageid=viewcatalog&amp;catalogid=111&amp;chapterid=6741&amp;topicgroupid=29564&amp;loaduseredits=False\">Mechanical Engineering</a></li><li class=\"catalognavigationmenu-topicgroup\"><a id=\"ctl00_ctl00_mainLayoutContent_CatalogNavigationMenu1_menuItem_TPG_29565\" href=\"/Catalog/ViewCatalog.aspx?pageid=viewcatalog&amp;catalogid=111&amp;chapterid=6741&amp;topicgroupid=29565&amp;loaduseredits=False\">Staff</a></li><li class=\"catalognavigationmenu-topicgroup-selected\"><a id=\"ctl00_ctl00_mainLayoutContent_CatalogNavigationMenu1_menuItem_TPG_29561\" href=\"/Catalog/ViewCatalog.aspx?pageid=viewcatalog&amp;catalogid=111&amp;chapterid=6741&amp;topicgroupid=29561&amp;loaduseredits=False\">Co-op Program</a></li><li class=\"catalognavigationmenu-topicgroup\"><a id=\"ctl00_ctl00_mainLayoutContent_CatalogNavigationMenu1_menuItem_TPG_29562\" href=\"/Catalog/ViewCatalog.aspx?pageid=viewcatalog&amp;catalogid=111&amp;chapterid=6741&amp;topicgroupid=29562&amp;loaduseredits=False\">Non Co-op Program</a></li><li class=\"catalognavigationmenu-topicgroup\"><a id=\"ctl00_ctl00_mainLayoutContent_CatalogNavigationMenu1_menuItem_TPG_29560\" href=\"/Catalog/ViewCatalog.aspx?pageid=viewcatalog&amp;catalogid=111&amp;chapterid=6741&amp;topicgroupid=29560&amp;loaduseredits=False\">Technical Elective Courses</a></li><li class=\"catalognavigationmenu-topicgroup\"><a id=\"ctl00_ctl00_mainLayoutContent_CatalogNavigationMenu1_menuItem_TPG_29563\" href=\"/Catalog/ViewCatalog.aspx?pageid=viewcatalog&amp;catalogid=111&amp;chapterid=6741&amp;topicgroupid=29563&amp;loaduseredits=False\">Materials Engineering</a></li><li class=\"catalognavigationmenu-chapter\"><a id=\"ctl00_ctl00_mainLayoutContent_CatalogNavigationMenu1_menuItem_CHA_6742\" href=\"/Catalog/ViewCatalog.aspx?pageid=viewcatalog&amp;catalogid=111&amp;chapterid=6742&amp;loaduseredits=False\">Courses</a></li></ul>\\n\\t\\t</div>\\n\\t</div>\\n</div>\\n<div class=\"maincontent\">\\n<!-- CATALOG CONTENT -->\\n<span id=\"ctl00_ctl00_mainLayoutContent_pageTitle\" class=\"catalogtitle\">Co-op Program - Machine Design: Loading of Components</span>\\n\\n\\t\\n\\n<b>MECH 3010&nbsp;&nbsp; Machine Design: Loading of Components</b> <br>\\n\\nCREDIT HOURS: 3<br>\\n\\nThe application of basic methods and concepts of strength of materials to machine design including design concepts, stress, and theories of failure is developed. Topics include: load analysis, materials, static stresses, strain and deflection, failure, impact, fatigue, surface damage. Applications include: screw fastenings, springs.<br>\\n\\n\\n\\n\\nFORMAT: <ul><li>Lecture</li><li>Lab</li><li>Tutorial</li></ul><br>\\n\\n\\n\\n\\n\\n\\n\\n\\n\\n\\n\\n\\t\\t\\n\\nPREREQUISITES: MECH 2100.03 or <a href=\"/Catalog/ViewCatalog.aspx?pageid=viewcatalog&amp;topicgroupid=29561&amp;entitytype=CID&amp;entitycode=ENGI+2203\" title=\"ENGI 2203\">ENGI 2203</a>.03, <a href=\"/Catalog/ViewCatalog.aspx?pageid=viewcatalog&amp;topicgroupid=29561&amp;entitytype=CID&amp;entitycode=ENGI+2400\" title=\"ENGI 2400\">ENGI 2400</a>.03<br>\\n\\n\\n\\n\\n\\n\\n\\n\\t\\n\\n<!-- CATALOG CONTENT -->\\n<a onclick=\"history.back();return false;\" id=\"ctl00_ctl00_mainLayoutContent_backButton\" href=\"javascript:__doPostBack(\\'ctl00$ctl00$mainLayoutContent$backButton\\',\\'\\')\">Back</a>\\n</div>\\n\\n\\n\\t\\t\\t\\t\\t\\t\\t</div>\\n\\t\\t\\t\\t\\t\\t</div>\\n\\t\\t\\t\\t\\t</div>\\n\\t\\t\\t\\t</div>\\n\\t\\t\\t\\t<div class=\"footer footerComp\">\\n\\t\\t\\t\\t\\t<div id=\"main_footer\" class=\"footer\">\\n\\t\\t\\t\\t\\t\\t<div class=\"ctn-boundary\">\\n\\t\\t\\t\\t\\t\\t\\t<div class=\"cols2\">\\n\\t\\t\\t\\t\\t\\t\\t\\t<div class=\"col-first\">\\n\\t\\t\\t\\t\\t\\t\\t\\t\\t<div class=\"col-content\">\\n\\t\\t\\t\\t\\t\\t\\t\\t\\t\\t<p>\\n\\t\\t\\t\\t\\t\\t\\t\\t\\t\\t\\t<b>Dalhousie University</b>\\n\\t\\t\\t\\t\\t\\t\\t\\t\\t\\t\\t<br>\\n\\t\\t\\t\\t\\t\\t\\t\\t\\t\\t\\tHalifax, Nova Scotia, Canada B3H 4R2\\n\\t\\t\\t\\t\\t\\t\\t\\t\\t\\t\\t<br>\\n\\t\\t\\t\\t\\t\\t\\t\\t\\t\\t\\t1.902.494.2211\\n\\t\\t\\t\\t\\t\\t\\t\\t\\t\\t</p>\\n\\t\\t\\t\\t\\t\\t\\t\\t\\t\\t<p>\\n\\t\\t\\t\\t\\t\\t\\t\\t\\t\\t\\t<b>Agricultural Campus </b>\\n\\t\\t\\t\\t\\t\\t\\t\\t\\t\\t\\t<br>\\n\\t\\t\\t\\t\\t\\t\\t\\t\\t\\t\\tTruro, Nova Scotia, Canada&nbsp; B2N 5E3\\n\\t\\t\\t\\t\\t\\t\\t\\t\\t\\t\\t<br>\\n\\t\\t\\t\\t\\t\\t\\t\\t\\t\\t\\t1.902.893.6600\\n\\t\\t\\t\\t\\t\\t\\t\\t\\t\\t</p>\\n\\t\\t\\t\\t\\t\\t\\t\\t\\t</div>\\n\\t\\t\\t\\t\\t\\t\\t\\t</div>\\n\\t\\t\\t\\t\\t\\t\\t\\t<div class=\"col-last\">\\n\\t\\t\\t\\t\\t\\t\\t\\t\\t<div class=\"col-content\">\\n\\t\\t\\t\\t\\t\\t\\t\\t\\t\\t<ul>\\n\\t\\t\\t\\t\\t\\t\\t\\t\\t\\t\\t<li class=\"first-child\">\\n\\t\\t\\t\\t\\t\\t\\t\\t\\t\\t\\t\\t<a href=\"https://www.dal.ca/contact_us.html\">Contact Us</a>\\n\\t\\t\\t\\t\\t\\t\\t\\t\\t\\t\\t</li>\\n\\t\\t\\t\\t\\t\\t\\t\\t\\t\\t\\t<li>\\n\\t\\t\\t\\t\\t\\t\\t\\t\\t\\t\\t\\t<a href=\"https://directory.dal.ca\">Campus Directory</a>\\n\\t\\t\\t\\t\\t\\t\\t\\t\\t\\t\\t</li>\\n\\t\\t\\t\\t\\t\\t\\t\\t\\t\\t\\t<li>\\n\\t\\t\\t\\t\\t\\t\\t\\t\\t\\t\\t\\t<a target=\"_blank\" href=\"http://careerservicescentre.dal.ca\">Student Career Services</a>\\n\\t\\t\\t\\t\\t\\t\\t\\t\\t\\t\\t</li>\\n\\t\\t\\t\\t\\t\\t\\t\\t\\t\\t\\t<li class=\"last-child\">\\n\\t\\t\\t\\t\\t\\t\\t\\t\\t\\t\\t\\t<a target=\"_blank\" href=\"http://staffingservices.dal.ca/Employment/\">Employment with Dalhousie\\n\\t\\t\\t\\t\\t\\t\\t\\t\\t\\t\\t<br></a>\\n\\t\\t\\t\\t\\t\\t\\t\\t\\t\\t\\t</li>\\n\\t\\t\\t\\t\\t\\t\\t\\t\\t\\t</ul>\\n\\t\\t\\t\\t\\t\\t\\t\\t\\t\\t<ul>\\n\\t\\t\\t\\t\\t\\t\\t\\t\\t\\t\\t<li class=\"first-child\">\\n\\t\\t\\t\\t\\t\\t\\t\\t\\t\\t\\t\\t<a href=\"https://www.dal.ca/privacy_statement.html\">Privacy Statement</a>\\n\\t\\t\\t\\t\\t\\t\\t\\t\\t\\t\\t</li>\\n\\t\\t\\t\\t\\t\\t\\t\\t\\t\\t\\t<li>\\n\\t\\t\\t\\t\\t\\t\\t\\t\\t\\t\\t\\t<a href=\"https://www.dal.ca/terms_of_use.html\">Terms of Use</a>\\n\\t\\t\\t\\t\\t\\t\\t\\t\\t\\t\\t</li>\\n\\t\\t\\t\\t\\t\\t\\t\\t\\t\\t\\t<li class=\"last-child\">\\n\\t\\t\\t\\t\\t\\t\\t\\t\\t\\t\\t\\t<a href=\"http://media.dal.ca\" target=\"_blank\">Media Centre</a>\\n\\t\\t\\t\\t\\t\\t\\t\\t\\t\\t\\t</li>\\n\\t\\t\\t\\t\\t\\t\\t\\t\\t\\t</ul>\\n\\t\\t\\t\\t\\t\\t\\t\\t\\t</div>\\n\\t\\t\\t\\t\\t\\t\\t\\t</div>\\n\\t\\t\\t\\t\\t\\t\\t</div>\\n\\t\\t\\t\\t\\t\\t</div>\\n\\t\\t\\t\\t\\t</div>\\n\\t\\t\\t\\t\\t<!-- Footer -->\\n\\t\\t\\t\\t</div>\\n\\t\\t\\t</div><!-- end-of wrapper -->\\n\\n\\t\\t\\t<!-- /DALHOUSIE MAIN -->\\n\\n\\t\\t\\t<link rel=\"stylesheet\" href=\"https://cdn.dal.ca/etc/designs/dalhousie/clientlibs/global/feedback.lt_0da98b229a26e86d440689f37bf4b53d.min.css\" type=\"text/css\">\\n\\t\\t\\t<script type=\"text/javascript\" src=\"/Javascript/Dalhousie2014/feedback.min.js\"></script>\\n\\t\\t\\t<div class=\"feedback_container processesed\">\\n\\t\\t\\t    <div id=\"kampyle_button\" style=\"display: block;\">\\n\\t\\t\\t        <div id=\"kampyle_container\">\\n\\t\\t\\t            <a href=\"//www.dal.ca/contact_us.html\" id=\"kampylink\">\\n\\t\\t\\t                <span id=\"kampyle_span\">\\n\\t\\t\\t                    &nbsp;\\n\\t\\t\\t                </span>\\n\\t\\t\\t            </a>\\n\\t\\t\\t        </div>\\n\\t\\t\\t    </div>\\n\\t\\t\\t    <div id=\"kampyle_button_responsive\">\\n\\t\\t\\t        <a href=\"//www.dal.ca/contact_us.html\" id=\"kampylelink_responsive\"></a>\\n\\t\\t\\t    </div>\\n\\t\\t\\t</div>\\n\\t\\t\\n\\n<script type=\"text/javascript\">\\n//<![CDATA[\\nif (history.length == 0) $j(\\'#ctl00_ctl00_mainLayoutContent_backButton\\').css(\\'display\\', \\'none\\');//]]>\\n</script>\\n</form>\\n\\t</div>\\n<script type=\"text/javascript\" id=\"\">!function(b,e,f,g,a,c,d){b.fbq||(a=b.fbq=function(){a.callMethod?a.callMethod.apply(a,arguments):a.queue.push(arguments)},b._fbq||(b._fbq=a),a.push=a,a.loaded=!0,a.version=\"2.0\",a.queue=[],c=e.createElement(f),c.async=!0,c.src=g,d=e.getElementsByTagName(f)[0],d.parentNode.insertBefore(c,d))}(window,document,\"script\",\"https://connect.facebook.net/en_US/fbevents.js\");fbq(\"init\",\"2125532231026570\");fbq(\"track\",\"PageView\");</script>\\n<noscript><img height=\"1\" width=\"1\" style=\"display:none\" src=\"https://www.facebook.com/tr?id=2125532231026570&amp;ev=PageView&amp;noscript=1\"></noscript>\\n\\n\\t\\n\\n\\n<script>\\n\\tvar currentTab = \"first\";\\n\\n\\tSys.Application.add_load(function() {\\n\\t\\tif ( typeof $j.fn.cluetip == \\'function\\') {\\n\\t\\t\\t$j(\\'a.topictooltip\\').cluetip({\\n\\t\\t\\t\\twidth : \\'430px\\',\\n\\t\\t\\t\\tsticky : false,\\n\\t\\t\\t\\tactivation : \\'hover\\',\\n\\t\\t\\t\\tarrows : true,\\n\\t\\t\\t\\tdropShadow : true,\\n\\t\\t\\t\\tajaxProcess : function(data) {\\n\\t\\t\\t\\t\\treturn $j(data).find(\\'.topic-tooltip-detail\\').html();\\n\\t\\t\\t\\t}\\n\\t\\t\\t});\\n\\t\\t}\\n\\n\\t\\t// Initialize which tab is displayed initially.\\n\\t\\tcurrentTab = \"first\";\\n\\t});\\n\\n\\t// Toggle the currently selected tab.\\n\\tfunction ToggleTab(selectedTab) {\\n\\t\\t// Turn off \\'selected\\' on old tab\\n\\t\\t$j(\\'#\\' + currentTab).removeClass(\\'ui-state-default ui-corner-right ui-tabs-selected ui-state-active\\');\\n\\t\\t$j(\\'#\\' + currentTab).addClass(\\'ui-state-default ui-corner-right\\');\\n\\n\\t\\t// Turn on \\'selected\\' on new tab\\n\\t\\t$j(\\'#\\' + selectedTab).removeClass(\\'ui-state-default ui-corner-right\\');\\n\\t\\t$j(\\'#\\' + selectedTab).addClass(\\'ui-state-default ui-corner-right ui-tabs-selected ui-state-active\\');\\n\\n\\t\\t// Hide old content\\n\\t\\t$j(\\'#\\' + currentTab + \\'TabContent\\').hide();\\n\\n\\t\\t// Show new content\\n\\t\\t$j(\\'#\\' + selectedTab + \\'TabContent\\').show();\\n\\n\\t\\t// Store new current tab\\n\\t\\tcurrentTab = selectedTab;\\n\\t}\\n</script>\\n<script type=\"text/javascript\" id=\"\">var addthis_config=addthis_config||{};addthis_config.pubid=\"ra-5452677525be364e\";addthis_config.data_ga_property=\"[object Object]\";</script><iframe src=\"https://bid.g.doubleclick.net/xbbe/pixel?d=KAE\" style=\"display: none;\"></iframe></body></html>'"
      ]
     },
     "execution_count": 7,
     "metadata": {},
     "output_type": "execute_result"
    }
   ],
   "source": [
    "link = driver.find_element_by_link_text(link_texts[0])\n",
    "link.click()\n",
    "time.sleep(2)\n",
    "driver.page_source"
   ]
  },
  {
   "cell_type": "code",
   "execution_count": 8,
   "metadata": {
    "scrolled": true
   },
   "outputs": [
    {
     "data": {
      "text/plain": [
       "'\\n\\nCo-op Program - Machine Design: Loading of Components\\nMECH 3010\\xa0\\xa0 Machine Design: Loading of Components \\n\\nCREDIT HOURS: 3\\n\\nThe application of basic methods and concepts of strength of materials to machine design including design concepts, stress, and theories of failure is developed. Topics include: load analysis, materials, static stresses, strain and deflection, failure, impact, fatigue, surface damage. Applications include: screw fastenings, springs.\\n\\n\\n\\n\\nFORMAT: LectureLabTutorial\\n\\n\\n\\n\\n\\n\\n\\n\\n\\n\\n\\n\\t\\t\\n\\nPREREQUISITES: MECH 2100.03 or ENGI 2203.03, ENGI 2400.03\\n\\nBack\\n'"
      ]
     },
     "execution_count": 8,
     "metadata": {},
     "output_type": "execute_result"
    }
   ],
   "source": [
    "page_soup = soup(driver.page_source, 'lxml')\n",
    "container = page_soup.find(\"div\", {\"class\": \"maincontent\"})\n",
    "container.text"
   ]
  },
  {
   "cell_type": "code",
   "execution_count": 9,
   "metadata": {},
   "outputs": [
    {
     "data": {
      "text/plain": [
       "['MECH 3010', ' Machine Design: Loading of Components']"
      ]
     },
     "execution_count": 9,
     "metadata": {},
     "output_type": "execute_result"
    }
   ],
   "source": [
    "container.find(\"b\").text.split(\"\\xa0\\xa0\")"
   ]
  },
  {
   "cell_type": "code",
   "execution_count": 10,
   "metadata": {
    "scrolled": true
   },
   "outputs": [
    {
     "data": {
      "text/plain": [
       "['',\n",
       " 'Co-op Program - Machine Design: Loading of Components',\n",
       " 'MECH 3010\\xa0\\xa0 Machine Design: Loading of Components ',\n",
       " 'CREDIT HOURS: 3',\n",
       " 'The application of basic methods and concepts of strength of materials to machine design including design concepts, stress, and theories of failure is developed. Topics include: load analysis, materials, static stresses, strain and deflection, failure, impact, fatigue, surface damage. Applications include: screw fastenings, springs.',\n",
       " 'FORMAT: LectureLabTutorial',\n",
       " '\\t\\t',\n",
       " 'PREREQUISITES: MECH 2100.03 or ENGI 2203.03, ENGI 2400.03',\n",
       " 'Back',\n",
       " '']"
      ]
     },
     "execution_count": 10,
     "metadata": {},
     "output_type": "execute_result"
    }
   ],
   "source": [
    "re.split(r'\\n+', container.text)"
   ]
  },
  {
   "cell_type": "code",
   "execution_count": 11,
   "metadata": {},
   "outputs": [],
   "source": [
    "driver.back()"
   ]
  },
  {
   "cell_type": "markdown",
   "metadata": {},
   "source": [
    "# 3. Test run complete. Implement Automation script to scrape all courses"
   ]
  },
  {
   "cell_type": "code",
   "execution_count": 20,
   "metadata": {},
   "outputs": [
    {
     "name": "stdout",
     "output_type": "stream",
     "text": [
      "Scraped  MECH 4900\n",
      "Scraped  MECH 4500\n",
      "Scraped  MECH 4025\n",
      "Scraped  MECH 4805\n",
      "Scraped  MECH 4600\n",
      "Scraped  MECH 4300\n",
      "Scraped  MECH 4015\n",
      "Scraped  MECH 3900\n",
      "Scraped  MECH 3705\n",
      "Scraped  MECH 3660\n",
      "Scraped  MECH 3305\n",
      "Scraped  MECH 3020\n",
      "Scraped  MATL 3500\n",
      "Scraped  ENGM 3356\n",
      "Scraped  CPST 3030\n",
      "Scraped  MECH 3805\n",
      "Scraped  MECH 3500\n",
      "Scraped  MECH 3010\n",
      "Finished scraping 18 courses\n"
     ]
    }
   ],
   "source": [
    "course_codes = []\n",
    "course_names = []\n",
    "course_descs = []\n",
    "counter = 0\n",
    "\n",
    "for link_text in link_texts[::-1]: #when links are clicked from top to bottom some overlapping occurs in the links that lead to errors. So click links from bottom to top\n",
    "    \n",
    "    #go to course webpage\n",
    "    link = driver.find_element_by_link_text(link_text)\n",
    "    time.sleep(2)\n",
    "    link.click()\n",
    "    time.sleep(3)\n",
    "    page_source = driver.page_source\n",
    "    \n",
    "    #handoff to beautiful soup\n",
    "    page_soup = soup(page_source, 'lxml')\n",
    "    container = page_soup.find(\"div\", {\"class\": \"maincontent\"})\n",
    "    \n",
    "    course_code = container.find(\"b\").text.split(\"\\xa0\\xa0\")[0].strip()\n",
    "    course_name = container.find(\"b\").text.split(\"\\xa0\\xa0\")[1].strip()\n",
    "    \n",
    "    texts = re.split(r'\\n+', container.text)\n",
    "    texts = [text for text in texts if (len(text)>5) and (\"REQUISITES:\" not in text) and (\"FORMAT\" not in text)]\n",
    "    \n",
    "    #assume the course description is the longest string in the texts list\n",
    "    course_desc = max(texts, key = len).strip()\n",
    "    \n",
    "    course_codes.append(course_code)\n",
    "    course_names.append(course_name)\n",
    "    course_descs.append(course_desc)\n",
    "    \n",
    "    counter += 1\n",
    "    print(\"Scraped \", course_code)\n",
    "    \n",
    "    #go back to course list webpage\n",
    "    driver.back()\n",
    "    time.sleep(3)\n",
    "    \n",
    "print(\"Finished scraping {} courses\".format(counter))"
   ]
  },
  {
   "cell_type": "code",
   "execution_count": 21,
   "metadata": {
    "scrolled": false
   },
   "outputs": [
    {
     "data": {
      "text/plain": [
       "18"
      ]
     },
     "execution_count": 21,
     "metadata": {},
     "output_type": "execute_result"
    }
   ],
   "source": [
    "len(course_codes)"
   ]
  },
  {
   "cell_type": "code",
   "execution_count": 22,
   "metadata": {},
   "outputs": [
    {
     "data": {
      "text/plain": [
       "18"
      ]
     },
     "execution_count": 22,
     "metadata": {},
     "output_type": "execute_result"
    }
   ],
   "source": [
    "len(course_names)"
   ]
  },
  {
   "cell_type": "code",
   "execution_count": 23,
   "metadata": {},
   "outputs": [
    {
     "data": {
      "text/plain": [
       "18"
      ]
     },
     "execution_count": 23,
     "metadata": {},
     "output_type": "execute_result"
    }
   ],
   "source": [
    "len(course_descs)"
   ]
  },
  {
   "cell_type": "markdown",
   "metadata": {},
   "source": [
    "# 4. Inspect, clean, and write to CSV"
   ]
  },
  {
   "cell_type": "code",
   "execution_count": 24,
   "metadata": {},
   "outputs": [
    {
     "data": {
      "text/plain": [
       "['MECH 4900',\n",
       " 'MECH 4500',\n",
       " 'MECH 4025',\n",
       " 'MECH 4805',\n",
       " 'MECH 4600',\n",
       " 'MECH 4300',\n",
       " 'MECH 4015',\n",
       " 'MECH 3900',\n",
       " 'MECH 3705',\n",
       " 'MECH 3660',\n",
       " 'MECH 3305',\n",
       " 'MECH 3020',\n",
       " 'MATL 3500',\n",
       " 'ENGM 3356',\n",
       " 'CPST 3030',\n",
       " 'MECH 3805',\n",
       " 'MECH 3500',\n",
       " 'MECH 3010']"
      ]
     },
     "execution_count": 24,
     "metadata": {},
     "output_type": "execute_result"
    }
   ],
   "source": [
    "course_codes"
   ]
  },
  {
   "cell_type": "code",
   "execution_count": 25,
   "metadata": {},
   "outputs": [
    {
     "data": {
      "text/plain": [
       "['Systems II',\n",
       " 'Vibrations',\n",
       " 'Design Project II',\n",
       " 'Thermo-Fluid Engineering III',\n",
       " 'Engineering Measurements',\n",
       " 'Stress Analysis',\n",
       " 'Design Project I',\n",
       " 'Systems I',\n",
       " 'Heat Transfer',\n",
       " 'Finite Element Method in Mechanical Design',\n",
       " 'Fluid Mechanics',\n",
       " 'Machine Design: Power Components',\n",
       " 'Materials Engineering',\n",
       " 'Numerical Methods and Partial Differential Equations',\n",
       " 'Engineering in Society II',\n",
       " 'Mechanical Engineering Thermodynamics',\n",
       " 'Dynamics of Machines',\n",
       " 'Machine Design: Loading of Components']"
      ]
     },
     "execution_count": 25,
     "metadata": {},
     "output_type": "execute_result"
    }
   ],
   "source": [
    "course_names"
   ]
  },
  {
   "cell_type": "code",
   "execution_count": 26,
   "metadata": {
    "scrolled": true
   },
   "outputs": [
    {
     "data": {
      "text/plain": [
       "['Response characteristics of open loop and feedback control systems are studied. Various controller types and their uses are analyzed. Techniques such as root-locus diagrams and Bode & Nichols plots are used for stability and performance evaluation. Digital simulations and experiments on computer-based control systems are done in the laboratory portion.',\n",
       " 'Single and multiple degree of freedom lumped parameter systems subjected to harmonic and transient excitation are examined. Analytical as well as numerical solutions are covered. Vibrations of continuous systems such as beams and shafts are introduced. Laboratory experiments deal with vibration of lumped parameter physical models as well as vibrations of rotating machinery. Vibration control in industrial applications is emphasized and the effects of whole body vibration on humans is treated as a safety issue.',\n",
       " 'This course is a direct continuation of Design Project I leading to the implementation of the student team design. All projects involve evaluation/testing of student designs, this is usually done via a constructed physical prototype or a model. Students produce a final technical report, conduct peer evaluations and give a formal presentation.',\n",
       " 'This class combines and builds on the knowledge and experiences gained from earlier Thermodynamics, Fluid Mechanics and Heat Transfer courses. the concepts of ideal gas mixtures and psychrometric applications, combustion and chemical equilibrium are introduced. Heat exchanger are studies, using the LMTD and the effectiveness-NTU methods. Numerical modeling of thermo-fluid phenomena are presented using computational fluid dynamics and computational heat transfer: the finite volume method and the finite element method are both used and applied.',\n",
       " 'The static and dynamic characteristics of first and second order transducers and measurement systems are examined. The experimental versus theoretical approach to engineering problems is studied. Topics include data acquisition, analysis, and presentation, including the probabilistic nature of engineering measurements. The course is laboratory intensive covering measurements of force, strain, temperature, pressure, velocity, and fluid flow. Computers are used extensively in the laboratory experiments.',\n",
       " \"Course topics include: general state of stress, equilibrium equations, stress-strain-temperature relations, plane stress, axisymmetrical stress problems, thick cylindrical pressure vessels, rotating disks, bending of rectangular and circular plates, torsion of non-circular members, membrane analogy, thin-walled hollow sections, non-symmetrical bending, properties of cross-sections, shear center, composite beams, plastic hinge.  Energy Methods, Castigliano's theorems, statically indeterminate problems.\",\n",
       " 'This course provides a project-based exercise in the engineering design process in a real world engineering context. Students work in teams and are expected to take the project from its preliminary stage through the design stages to the ultimate completion of the design including: technical reports with calculations, engineering drawings, peer evaluation, oral presentations and possibly a physical prototype or model.',\n",
       " 'The course deals with the analysis of dynamic physical systems. Ordinary-differential-equation models are developed for mechanical, thermal, fluid and electrical systems. System equations are solved using classical methods and Laplace-transform techniques. S-plane characteristics are introduced, as are block-diagram & state-space representations. Systems are simulated by digital computer in the laboratory portion.',\n",
       " \"This course is an introduction to the three modes of heat transfer: conduction, convection and radiation.  Topics covered in conduction include steady-state and transient conduction, in one and two-dimensional system, and the study of extended surfaces. Force and free convection for internal and external flows are examined. The fundamentals of radiation heat transfer are covered, including blackbody radiation, gray surfaces, Kirchhoff's law and radiation exchange between surfaces.\",\n",
       " 'This course deals with the application of the finite element method to stress analysis problems encountered in mechanical design. Introduction to the finite element method is followed by extensive applications to the design of machine and structural components. Mechanical and thermal stresses in trusses, beams, axisymmetric, shell, and 3D solid elements are considered. Professional finite element modeling best practices are discussed. A finite element pre-processor, code, post-processor are introduced and used in the course assignments.',\n",
       " 'This course presents the dynamic governing equations of fluid flow in differential forms: continuity, Navier-Stokes and energy.  Concepts of stream function, vorticity and velocity potential are also introduced.  The physics and modeling of Turbulence in fluid systems is shown. The boundary layer theory is shown and flow past immersed bodies are studied: concepts of drag and lift forces are presented. Compressible flow is introduced: speed of sound, nozzle and diffuser, shock waves, Rayleigh and Fanno flow are all studied.',\n",
       " 'The use of engineering principles in the design of machine power components is developed. Topics include: Lubrication and sliding bearings, roller bearings, spur gears, helical, bevel and worm gears, shafts, clutches and brakes, power transmissions such as belts and chains.',\n",
       " 'This course correlates properties of engineering materials with their structure. Laboratory objectives include preparation of reports in publication format and illustration of lecture material. Basic concepts of crystallography, chemical bonding and binary phase diagrams are introduced. These are used to describe properties of metallic and nonmetallic materials and how these may be controlled by engineers. Materials discussed include ferrous and nonferrous metals and alloys, ceramics, composites and semiconductors.',\n",
       " \"This course provides an introduction to Numerical Analysis and Partial Differential Equations with emphasis on solution of problems related to Mechanical Engineering. The following topics are covered: approximations and errors; roots of non-linear equations; systems of equations, curve fitting; numerical integration and differentiation; numerical solution of ordinary differential equations; partial differential equations, separation of variables, solution of the equation, wave equation, and Laplace's equation with various boundary conditions; numerical solutions of partial differential equations.\",\n",
       " 'The course provides an overview of the concepts and interrelationships among sustainable development, environmental stewardship and public health and safety in relation to engineering practice.  These concepts will be examined through historical examples and current theory and practice of the engineering profession.  Lectures and discussion will consider global ecosystem functions, human interactions with the environment, methods of reducing human impacts; methods of achieving sustainability, engineering challenges to enhance sustainable development; and factors that influence occupational health and safety from engineering and management viewpoints.  Students will be exposed to management methods and tools such as environmental auditing, ISO 14000, risk analysis and WHMIS and will be expected to consider class topics in relation to their own area of engineering specialization.',\n",
       " 'This course builds on the thermodynamics concepts presented in Thermo-Fluid Engineering I. Introductory concepts of cycles, processes, heat and work are reviewed. The first and second law of thermodynamics are applied to open and closed systems, both steady-state and transient processes. Availability and exergy analysis are presented. Vapour and gas power and refrigeration cycles are studied; absorption refrigeration cycles and refrigerants are also discussed.',\n",
       " 'The course focuses on design of mechanism, their motion, static and dynamic loads, and power transmission. It includes planar and spatial 4-bar and 6-bar linkages, cam mechanisms, gear trains, rotor systems, and manipulators. Linkage inversion, transformation, and synthesis are used for design of new mechanisms. Graphic, analytical, computer, and physical modeling techniques are used. Many real life mechanisms are analyzed.',\n",
       " 'The application of basic methods and concepts of strength of materials to machine design including design concepts, stress, and theories of failure is developed. Topics include: load analysis, materials, static stresses, strain and deflection, failure, impact, fatigue, surface damage. Applications include: screw fastenings, springs.']"
      ]
     },
     "execution_count": 26,
     "metadata": {},
     "output_type": "execute_result"
    }
   ],
   "source": [
    "course_descs"
   ]
  },
  {
   "cell_type": "code",
   "execution_count": 27,
   "metadata": {},
   "outputs": [],
   "source": [
    "import pandas as pd\n",
    "\n",
    "course_codes = course_codes[::-1]\n",
    "course_names = course_names[::-1]\n",
    "course_descs = course_descs[::-1]\n",
    "\n",
    "df = pd.DataFrame({\n",
    "    \n",
    "    \"Course Number\": course_codes,\n",
    "    \"Course Name\": course_names,\n",
    "    \"Course Description\": course_descs\n",
    "})\n",
    "\n",
    "df.to_csv('Dalhousie_MechEng_Core_(Year3-4)_Courses.csv', index = False)"
   ]
  },
  {
   "cell_type": "code",
   "execution_count": 28,
   "metadata": {},
   "outputs": [],
   "source": [
    "driver.quit()"
   ]
  },
  {
   "cell_type": "code",
   "execution_count": null,
   "metadata": {},
   "outputs": [],
   "source": []
  }
 ],
 "metadata": {
  "kernelspec": {
   "display_name": "Python 3",
   "language": "python",
   "name": "python3"
  },
  "language_info": {
   "codemirror_mode": {
    "name": "ipython",
    "version": 3
   },
   "file_extension": ".py",
   "mimetype": "text/x-python",
   "name": "python",
   "nbconvert_exporter": "python",
   "pygments_lexer": "ipython3",
   "version": "3.8.5"
  }
 },
 "nbformat": 4,
 "nbformat_minor": 4
}
