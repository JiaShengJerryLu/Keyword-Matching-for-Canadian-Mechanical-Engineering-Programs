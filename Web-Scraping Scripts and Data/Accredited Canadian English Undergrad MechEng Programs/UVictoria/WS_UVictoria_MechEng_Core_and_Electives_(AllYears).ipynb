{
 "cells": [
  {
   "cell_type": "code",
   "execution_count": 1,
   "metadata": {},
   "outputs": [],
   "source": [
    "from bs4 import BeautifulSoup as soup\n",
    "from urllib.request import urlopen as ureq\n",
    "from selenium import webdriver\n",
    "import time\n",
    "import re"
   ]
  },
  {
   "cell_type": "code",
   "execution_count": 2,
   "metadata": {},
   "outputs": [],
   "source": [
    "url = \"https://www.uvic.ca/calendar/future/undergrad/index.php#/programs/SkYVTmCzE?bc=true&bcCurrent=Mechanical%20Engineering&bcItemType=programs\""
   ]
  },
  {
   "cell_type": "code",
   "execution_count": 3,
   "metadata": {},
   "outputs": [],
   "source": [
    "chrome_options = webdriver.ChromeOptions()\n",
    "chrome_options.add_argument('--ignore-certificate-errors')\n",
    "chrome_options.add_argument('--incognito')\n",
    "#chrome_options.add_argument('--headless')\n",
    "\n",
    "driver = webdriver.Chrome(\"C:\\\\Users\\\\jerry\\\\Downloads\\\\chromedriver\", options=chrome_options)"
   ]
  },
  {
   "cell_type": "markdown",
   "metadata": {},
   "source": [
    "# 1. Collect course link texts for driver to click on"
   ]
  },
  {
   "cell_type": "code",
   "execution_count": 4,
   "metadata": {},
   "outputs": [],
   "source": [
    "driver.get(url)\n",
    "time.sleep(5)\n",
    "page_soup = soup(driver.page_source, 'lxml')"
   ]
  },
  {
   "cell_type": "code",
   "execution_count": 5,
   "metadata": {
    "scrolled": true
   },
   "outputs": [],
   "source": [
    "core_container = page_soup.findAll(\"div\", {\"class\": \"noBreak\"})[3]"
   ]
  },
  {
   "cell_type": "code",
   "execution_count": 6,
   "metadata": {
    "scrolled": true
   },
   "outputs": [
    {
     "data": {
      "text/plain": [
       "['CHEM150',\n",
       " 'CSC111',\n",
       " 'ENGR110',\n",
       " 'ENGR120',\n",
       " 'ENGR130',\n",
       " 'ENGR141',\n",
       " 'MATH100',\n",
       " 'MATH109',\n",
       " 'MATH101',\n",
       " 'MATH110',\n",
       " 'PHYS110',\n",
       " 'PHYS111',\n",
       " 'CSC116',\n",
       " 'ECE216',\n",
       " 'ECE250',\n",
       " 'ENGR297',\n",
       " 'MATH200',\n",
       " 'MATH204',\n",
       " 'MECH200',\n",
       " 'MECH220',\n",
       " 'MECH240',\n",
       " 'MECH242',\n",
       " 'MECH285',\n",
       " 'STAT254',\n",
       " 'CSC349A',\n",
       " 'ECE365',\n",
       " 'ECON180',\n",
       " 'MECH320',\n",
       " 'MECH330',\n",
       " 'MECH335',\n",
       " 'MECH345',\n",
       " 'MECH350',\n",
       " 'MECH360',\n",
       " 'MECH380',\n",
       " 'MECH390',\n",
       " 'MECH395',\n",
       " 'ENGR446',\n",
       " 'ENGR498',\n",
       " 'MECH400',\n",
       " 'MECH462',\n",
       " 'MECH410',\n",
       " 'MECH442',\n",
       " 'MECH455',\n",
       " 'MECH458',\n",
       " 'MECH460',\n",
       " 'MECH475',\n",
       " 'MECH493']"
      ]
     },
     "execution_count": 6,
     "metadata": {},
     "output_type": "execute_result"
    }
   ],
   "source": [
    "links = core_container.findAll(\"a\")\n",
    "link_texts = [link.text for link in links]\n",
    "link_texts"
   ]
  },
  {
   "cell_type": "code",
   "execution_count": 7,
   "metadata": {},
   "outputs": [
    {
     "data": {
      "text/plain": [
       "47"
      ]
     },
     "execution_count": 7,
     "metadata": {},
     "output_type": "execute_result"
    }
   ],
   "source": [
    "len(link_texts)"
   ]
  },
  {
   "cell_type": "code",
   "execution_count": 8,
   "metadata": {
    "scrolled": true
   },
   "outputs": [],
   "source": [
    "electives_container = page_soup.findAll(\"div\", {\"class\": \"noBreak\"})[5]"
   ]
  },
  {
   "cell_type": "code",
   "execution_count": 9,
   "metadata": {
    "scrolled": true
   },
   "outputs": [
    {
     "data": {
      "text/plain": [
       "['CHEM150',\n",
       " 'CSC111',\n",
       " 'ENGR110',\n",
       " 'ENGR120',\n",
       " 'ENGR130',\n",
       " 'ENGR141',\n",
       " 'MATH100',\n",
       " 'MATH109',\n",
       " 'MATH101',\n",
       " 'MATH110',\n",
       " 'PHYS110',\n",
       " 'PHYS111',\n",
       " 'CSC116',\n",
       " 'ECE216',\n",
       " 'ECE250',\n",
       " 'ENGR297',\n",
       " 'MATH200',\n",
       " 'MATH204',\n",
       " 'MECH200',\n",
       " 'MECH220',\n",
       " 'MECH240',\n",
       " 'MECH242',\n",
       " 'MECH285',\n",
       " 'STAT254',\n",
       " 'CSC349A',\n",
       " 'ECE365',\n",
       " 'ECON180',\n",
       " 'MECH320',\n",
       " 'MECH330',\n",
       " 'MECH335',\n",
       " 'MECH345',\n",
       " 'MECH350',\n",
       " 'MECH360',\n",
       " 'MECH380',\n",
       " 'MECH390',\n",
       " 'MECH395',\n",
       " 'ENGR446',\n",
       " 'ENGR498',\n",
       " 'MECH400',\n",
       " 'MECH462',\n",
       " 'MECH410',\n",
       " 'MECH442',\n",
       " 'MECH455',\n",
       " 'MECH458',\n",
       " 'MECH460',\n",
       " 'MECH475',\n",
       " 'MECH493',\n",
       " 'MECH410',\n",
       " 'MECH420',\n",
       " 'MECH460',\n",
       " 'MECH466',\n",
       " 'MECH495',\n",
       " 'MECH497',\n",
       " 'MECH472',\n",
       " 'MECH473',\n",
       " 'MECH481',\n",
       " 'MECH448',\n",
       " 'MECH452',\n",
       " 'MECH472',\n",
       " 'MECH481',\n",
       " 'MECH483',\n",
       " 'MECH443',\n",
       " 'MECH444',\n",
       " 'MECH445',\n",
       " 'MECH446',\n",
       " 'MECH447',\n",
       " 'MECH449',\n",
       " 'MECH459',\n",
       " 'MECH493',\n",
       " 'MECH494',\n",
       " 'MECH497',\n",
       " 'MECH443',\n",
       " 'MECH444',\n",
       " 'MECH446',\n",
       " 'MECH447',\n",
       " 'MECH475',\n",
       " 'MECH492',\n",
       " 'MECH493',\n",
       " 'MECH494',\n",
       " 'MECH495',\n",
       " 'MECH421',\n",
       " 'MECH430',\n",
       " 'MECH455',\n",
       " 'MECH458',\n",
       " 'MECH459',\n",
       " 'MECH485',\n",
       " 'MECH450A',\n",
       " 'MECH450B',\n",
       " 'MECH450C',\n",
       " 'MECH450D',\n",
       " 'MECH450E',\n",
       " 'MECH450F',\n",
       " 'MECH498',\n",
       " 'MECH499']"
      ]
     },
     "execution_count": 9,
     "metadata": {},
     "output_type": "execute_result"
    }
   ],
   "source": [
    "link_texts += [container.text for container in electives_container.findAll(\"a\")]\n",
    "link_texts"
   ]
  },
  {
   "cell_type": "code",
   "execution_count": 10,
   "metadata": {},
   "outputs": [
    {
     "data": {
      "text/plain": [
       "77"
      ]
     },
     "execution_count": 10,
     "metadata": {},
     "output_type": "execute_result"
    }
   ],
   "source": [
    "link_texts = list(dict.fromkeys(link_texts))\n",
    "len(link_texts)"
   ]
  },
  {
   "cell_type": "markdown",
   "metadata": {},
   "source": [
    "# 2. Test run - try to scrape first course"
   ]
  },
  {
   "cell_type": "code",
   "execution_count": 11,
   "metadata": {},
   "outputs": [
    {
     "data": {
      "text/plain": [
       "'https://www.uvic.ca/calendar/future/undergrad/index.php#/courses/view/5d1f6e3494e82e2400a23437'"
      ]
     },
     "execution_count": 11,
     "metadata": {},
     "output_type": "execute_result"
    }
   ],
   "source": [
    "driver.get(url)\n",
    "time.sleep(5)\n",
    "driver.find_element_by_link_text(link_texts[0]).click()\n",
    "time.sleep(5)\n",
    "driver.current_url"
   ]
  },
  {
   "cell_type": "code",
   "execution_count": 12,
   "metadata": {},
   "outputs": [],
   "source": [
    "page_soup = soup(driver.page_source, 'lxml')"
   ]
  },
  {
   "cell_type": "code",
   "execution_count": 13,
   "metadata": {},
   "outputs": [
    {
     "data": {
      "text/plain": [
       "'Atomic and molecular structure; periodicity, chemical bonding; gases, liquids, and solids; phase equilibria; equilibrium; thermochemistry; chemical thermodynamics; electrochemistry.'"
      ]
     },
     "execution_count": 13,
     "metadata": {},
     "output_type": "execute_result"
    }
   ],
   "source": [
    "container = page_soup.find(\"div\", {\"class\": \"course-view__itemDetailContainer___2tFFK\"})\n",
    "course_desc = container.find(\"p\").text.strip()\n",
    "course_desc"
   ]
  },
  {
   "cell_type": "code",
   "execution_count": 14,
   "metadata": {},
   "outputs": [
    {
     "data": {
      "text/plain": [
       "'CHEM150 - Engineering Chemistry'"
      ]
     },
     "execution_count": 14,
     "metadata": {},
     "output_type": "execute_result"
    }
   ],
   "source": [
    "course_title = container.find(\"h2\").text.strip()\n",
    "course_title"
   ]
  },
  {
   "cell_type": "code",
   "execution_count": 15,
   "metadata": {},
   "outputs": [
    {
     "data": {
      "text/plain": [
       "'CHEM150'"
      ]
     },
     "execution_count": 15,
     "metadata": {},
     "output_type": "execute_result"
    }
   ],
   "source": [
    "course_code = course_title.split(\" - \")[0]\n",
    "course_code"
   ]
  },
  {
   "cell_type": "code",
   "execution_count": 16,
   "metadata": {},
   "outputs": [
    {
     "data": {
      "text/plain": [
       "'Engineering Chemistry'"
      ]
     },
     "execution_count": 16,
     "metadata": {},
     "output_type": "execute_result"
    }
   ],
   "source": [
    "course_name = course_title.split(\" - \")[1]\n",
    "course_name"
   ]
  },
  {
   "cell_type": "markdown",
   "metadata": {},
   "source": [
    "# 3. Test run successful. Implement automation script to scrape all courses"
   ]
  },
  {
   "cell_type": "code",
   "execution_count": 19,
   "metadata": {
    "scrolled": true
   },
   "outputs": [
    {
     "name": "stdout",
     "output_type": "stream",
     "text": [
      "Scraped  CHEM150\n",
      "Scraped  CSC111\n",
      "Scraped  ENGR110\n",
      "Scraped  ENGR120\n",
      "Scraped  ENGR130\n",
      "Scraped  ENGR141\n",
      "Scraped  MATH100\n",
      "Scraped  MATH109\n",
      "Scraped  MATH101\n",
      "Scraped  MATH110\n",
      "Scraped  PHYS110\n",
      "Scraped  PHYS111\n",
      "Scraped  CSC116\n",
      "Scraped  ECE216\n",
      "encountered no link for ECE250 , retrying\n",
      "Scraped  ECE250\n",
      "Scraped  ENGR297\n",
      "Scraped  MATH200\n",
      "Scraped  MATH204\n",
      "Scraped  MECH200\n",
      "Scraped  MECH220\n",
      "Scraped  MECH240\n",
      "Scraped  MECH242\n",
      "Scraped  MECH285\n",
      "Scraped  STAT254\n",
      "Scraped  CSC349A\n",
      "Scraped  ECE365\n",
      "Scraped  ECON180\n",
      "Scraped  MECH320\n",
      "Scraped  MECH330\n",
      "Scraped  MECH335\n",
      "Scraped  MECH345\n",
      "Scraped  MECH350\n",
      "Scraped  MECH360\n",
      "Scraped  MECH380\n",
      "Scraped  MECH390\n",
      "Scraped  MECH395\n",
      "Scraped  ENGR446\n",
      "Scraped  ENGR498\n",
      "Scraped  MECH400\n",
      "Scraped  MECH462\n",
      "Scraped  MECH410\n",
      "Scraped  MECH442\n",
      "Scraped  MECH455\n",
      "Scraped  MECH458\n",
      "encountered Attribute error\n",
      "Scraped  MECH460\n",
      "Scraped  MECH475\n",
      "Scraped  MECH493\n",
      "Scraped  MECH420\n",
      "Scraped  MECH466\n",
      "Scraped  MECH495\n",
      "Scraped  MECH497\n",
      "Scraped  MECH472\n",
      "Scraped  MECH473\n",
      "Scraped  MECH481\n",
      "Scraped  MECH448\n",
      "Scraped  MECH452\n",
      "Scraped  MECH483\n",
      "Scraped  MECH443\n",
      "Scraped  MECH444\n",
      "Scraped  MECH445\n",
      "Scraped  MECH446\n",
      "encountered no link for MECH447 , retrying\n",
      "Scraped  MECH447\n",
      "Scraped  MECH449\n",
      "Scraped  MECH459\n",
      "Scraped  MECH494\n",
      "Scraped  MECH492\n",
      "Scraped  MECH421\n",
      "Scraped  MECH430\n",
      "Scraped  MECH485\n",
      "encountered Attribute error\n",
      "Scraped  MECH450A\n",
      "Scraped  MECH450B\n",
      "Scraped  MECH450C\n",
      "Scraped  MECH450D\n",
      "Scraped  MECH450E\n",
      "Scraped  MECH450F\n",
      "Scraped  MECH498\n",
      "Scraped  MECH499\n",
      "Finished scraping 77 courses\n"
     ]
    }
   ],
   "source": [
    "from selenium.common.exceptions import NoSuchElementException\n",
    "\n",
    "course_codes = []\n",
    "course_names = []\n",
    "course_descs = []\n",
    "counter = 0\n",
    "\n",
    "driver.get(\"https://www.uvic.ca/calendar/future/undergrad/index.php#/programs/SkYVTmCzE?bc=true&bcCurrent=Mechanical%20Engineering&bcItemType=programs\")\n",
    "time.sleep(5)\n",
    "\n",
    "for link_text in link_texts:\n",
    "    #go to course page\n",
    "    try:\n",
    "        link = driver.find_element_by_link_text(link_text)\n",
    "    except NoSuchElementException:\n",
    "        print(\"encountered no link for {}\".format(link_text), \", retrying\")\n",
    "        driver.refresh()\n",
    "        time.sleep(5)\n",
    "        \n",
    "        try:\n",
    "            link = driver.find_element_by_link_text(link_text)\n",
    "        except:\n",
    "            NoSuchElementException\n",
    "            print(\"no link for {}\".format(link_text))\n",
    "            continue\n",
    "\n",
    "    time.sleep(2)\n",
    "    link.click()    \n",
    "    time.sleep(3)\n",
    "    \n",
    "    #scrape course info\n",
    "    try:\n",
    "        page_soup = soup(driver.page_source, 'lxml')\n",
    "        container = page_soup.find(\"div\", {\"class\": \"course-view__itemDetailContainer___2tFFK\"})\n",
    "        course_title = container.find(\"h2\").text.strip()\n",
    "    except AttributeError:\n",
    "        print(\"encountered Attribute error\")\n",
    "        driver.refresh()\n",
    "        time.sleep(5)\n",
    "        \n",
    "        page_soup = soup(driver.page_source, 'lxml')\n",
    "        container = page_soup.find(\"div\", {\"class\": \"course-view__itemDetailContainer___2tFFK\"})\n",
    "        course_title = container.find(\"h2\").text.strip()       \n",
    "    \n",
    "    course_code = course_title.split(\" - \")[0]\n",
    "    course_name = course_title.split(\" - \")[1]\n",
    "    course_desc = container.find(\"p\").text.strip()\n",
    "    \n",
    "    course_codes.append(course_code)\n",
    "    course_names.append(course_name)\n",
    "    course_descs.append(course_desc)\n",
    "    \n",
    "    print(\"Scraped \", course_codes[-1])\n",
    "    counter += 1\n",
    "    \n",
    "    #go to course list page\n",
    "    driver.back()\n",
    "    time.sleep(3)\n",
    "        \n",
    "print(\"Finished scraping {} courses\".format(counter))"
   ]
  },
  {
   "cell_type": "markdown",
   "metadata": {},
   "source": [
    "# 4. Inspect and write CSV"
   ]
  },
  {
   "cell_type": "code",
   "execution_count": 20,
   "metadata": {
    "scrolled": true
   },
   "outputs": [
    {
     "data": {
      "text/plain": [
       "['CHEM150',\n",
       " 'CSC111',\n",
       " 'ENGR110',\n",
       " 'ENGR120',\n",
       " 'ENGR130',\n",
       " 'ENGR141',\n",
       " 'MATH100',\n",
       " 'MATH109',\n",
       " 'MATH101',\n",
       " 'MATH110',\n",
       " 'PHYS110',\n",
       " 'PHYS111',\n",
       " 'CSC116',\n",
       " 'ECE216',\n",
       " 'ECE250',\n",
       " 'ENGR297',\n",
       " 'MATH200',\n",
       " 'MATH204',\n",
       " 'MECH200',\n",
       " 'MECH220',\n",
       " 'MECH240',\n",
       " 'MECH242',\n",
       " 'MECH285',\n",
       " 'STAT254',\n",
       " 'CSC349A',\n",
       " 'ECE365',\n",
       " 'ECON180',\n",
       " 'MECH320',\n",
       " 'MECH330',\n",
       " 'MECH335',\n",
       " 'MECH345',\n",
       " 'MECH350',\n",
       " 'MECH360',\n",
       " 'MECH380',\n",
       " 'MECH390',\n",
       " 'MECH395',\n",
       " 'ENGR446',\n",
       " 'ENGR498',\n",
       " 'MECH400',\n",
       " 'MECH462',\n",
       " 'MECH410',\n",
       " 'MECH442',\n",
       " 'MECH455',\n",
       " 'MECH458',\n",
       " 'MECH460',\n",
       " 'MECH475',\n",
       " 'MECH493',\n",
       " 'MECH420',\n",
       " 'MECH466',\n",
       " 'MECH495',\n",
       " 'MECH497',\n",
       " 'MECH472',\n",
       " 'MECH473',\n",
       " 'MECH481',\n",
       " 'MECH448',\n",
       " 'MECH452',\n",
       " 'MECH483',\n",
       " 'MECH443',\n",
       " 'MECH444',\n",
       " 'MECH445',\n",
       " 'MECH446',\n",
       " 'MECH447',\n",
       " 'MECH449',\n",
       " 'MECH459',\n",
       " 'MECH494',\n",
       " 'MECH492',\n",
       " 'MECH421',\n",
       " 'MECH430',\n",
       " 'MECH485',\n",
       " 'MECH450A',\n",
       " 'MECH450B',\n",
       " 'MECH450C',\n",
       " 'MECH450D',\n",
       " 'MECH450E',\n",
       " 'MECH450F',\n",
       " 'MECH498',\n",
       " 'MECH499']"
      ]
     },
     "execution_count": 20,
     "metadata": {},
     "output_type": "execute_result"
    }
   ],
   "source": [
    "course_codes"
   ]
  },
  {
   "cell_type": "code",
   "execution_count": 21,
   "metadata": {
    "scrolled": true
   },
   "outputs": [
    {
     "data": {
      "text/plain": [
       "['Engineering Chemistry',\n",
       " 'Fundamentals of Programming with Engineering Applications',\n",
       " 'Design and Communication I',\n",
       " 'Design and Communication II',\n",
       " 'Introduction to Professional Practice',\n",
       " 'Engineering Mechanics',\n",
       " 'Calculus I',\n",
       " 'Introduction to Calculus',\n",
       " 'Calculus II',\n",
       " 'Matrix Algebra for Engineers',\n",
       " 'Introductory Physics I',\n",
       " 'Introductory Physics II',\n",
       " 'Fundamentals of Programming with Engineering Applications II',\n",
       " 'Electricity and Magnetism',\n",
       " 'Linear Circuits I',\n",
       " 'Technology and Society',\n",
       " 'Calculus III',\n",
       " 'Calculus IV',\n",
       " 'Engineering Drawing, CAD and Manufacturing',\n",
       " 'Mechanics of Solids I',\n",
       " 'Thermodynamics',\n",
       " 'Dynamics',\n",
       " 'Properties of Engineering Materials',\n",
       " 'Probability and Statistics for Engineers',\n",
       " 'Numerical Analysis',\n",
       " 'Applied Electronics and Electrical Machines',\n",
       " 'Introduction to Economics and Financial Project Evaluation',\n",
       " 'Mechanics of Solids II',\n",
       " 'Introduction to Mechanical Vibrations',\n",
       " 'Theory of Mechanisms',\n",
       " 'Mechanics of Fluids',\n",
       " 'Engineering Design',\n",
       " 'Design of Mechanical Elements',\n",
       " 'Automatic Control Engineering',\n",
       " 'Energy Conversion',\n",
       " 'Heat Transfer',\n",
       " 'Technical Report',\n",
       " 'Engineering Law',\n",
       " 'Capstone Design Project',\n",
       " 'Small Business Startup and Organization',\n",
       " 'Computer-Aided Design and Engineering',\n",
       " 'Heating, Ventilation and Air Conditioning',\n",
       " 'Instrumentation',\n",
       " 'Mechatronics',\n",
       " 'Computer-Aided Manufacturing',\n",
       " 'Aircraft Design',\n",
       " 'Design of Thermo-Fluid Systems',\n",
       " 'Finite Element Applications',\n",
       " 'Microelectromechanical Systems',\n",
       " 'Computational Fluid Dynamics and Heat Transfer',\n",
       " 'Green Vehicle Technology Project',\n",
       " 'Introduction to Electron Microscopy',\n",
       " 'Ferrous and Non-Ferrous Metals',\n",
       " 'Biomaterials and Tissue Engineering',\n",
       " 'Introduction to Musculoskeletal Biomechanics',\n",
       " 'Microfluidics for Biomedical and Energy Applications',\n",
       " 'Mechanics and Energy Conversion for Living Cells',\n",
       " 'Advanced Thermodynamics',\n",
       " 'Wind Power Systems',\n",
       " 'Cryogenic Engineering',\n",
       " 'Introduction to Ocean Engineering',\n",
       " 'Energy Systems',\n",
       " 'Fuel Cell Technology',\n",
       " 'Fundamentals of Hybrid Electric Vehicles',\n",
       " 'Thermofluids and Introduction to Mass Transfer',\n",
       " 'Transport Phenomena',\n",
       " 'Mechanical Vibrations',\n",
       " 'Robotics',\n",
       " 'Mechanism and Manipulator Synthesis',\n",
       " 'Special Topics',\n",
       " 'Special Topics',\n",
       " 'Special Topics',\n",
       " 'Special Topics',\n",
       " 'Special Topics',\n",
       " 'Special Topics',\n",
       " 'Honours Thesis',\n",
       " 'Technical Project']"
      ]
     },
     "execution_count": 21,
     "metadata": {},
     "output_type": "execute_result"
    }
   ],
   "source": [
    "course_names"
   ]
  },
  {
   "cell_type": "code",
   "execution_count": 23,
   "metadata": {
    "scrolled": true
   },
   "outputs": [
    {
     "data": {
      "text/plain": [
       "['Atomic and molecular structure; periodicity, chemical bonding; gases, liquids, and solids; phase equilibria; equilibrium; thermochemistry; chemical thermodynamics; electrochemistry.',\n",
       " 'Fundamentals of computer programming with real-world engineering examples using an imperative programming language. Topics include variables, data types, statements, control structures, functions, parameter passing mechanisms, expressions, data structures, files, pointers, storage allocation, elementary searching and sorting, recursion, encapsulation, modularity, incremental development, testing and debugging.',\n",
       " 'Introductory principles of engineering design processes through practical projects to be undertaken by teams of students; integrated development and demonstration of writing, research, design and presentation skills through research and design projects. Writing, research and organizational skills appropriate for University level writing.',\n",
       " 'Principles of engineering science and design applied to practical projects undertaken by student teams; Integrated development and demonstration of writing, research, design and presentation skills; Referencing methods for scientific and technical literature; Characteristics of effective technical and scientific style; Emphasis on clarity, precision, and consistency; Practical experience in writing short technical documents such as memoranda, letters, abstracts, reports, papers, manuals, brochures, and specifications.',\n",
       " 'Awareness of the role and responsibilities of Professional Engineers in society with respect to the environment, ethics, equity, public and worker safety and health considerations. Introduction to technical and other forms of work term and/or work experience report preparation, understanding national and international placement standards, WorkSafeBC standards, engineering logbooks. Development of effective interview techniques, skill assessment and analysis, career management and development. Preparation of resumés and cover letters.',\n",
       " 'Forces, moments of forces, couples, resultants of force systems; distributed loads; hydrostatics; conditions of equilibrium and applications to particles and rigid bodies in two dimensions; analysis of statically determinate structures including beams, trusses and arches; bending moment and shear force diagrams; dry friction.',\n",
       " \"Review of analytic geometry; functions and graphs; limits; derivatives; techniques and applications of differentiation; antiderivatives; the definite integral and area; logarithmic and exponential functions; trigonometric functions; Newton's, Simpson's and trapezoidal methods; l'Hopital's rule.\",\n",
       " \"A first course intended for students with no previous exposure to calculus. Review of analytic geometry; functions and graphs; limits; derivatives; techniques and applications of differentiation; antiderivatives; the definite integral and area; logarithmic and exponential functions; trigonometric functions; Newton's, Simpson's and trapezoidal methods; l'Hopital's rule.\",\n",
       " \"Volumes; arc length and surface area; techniques of integration with applications; polar coordinates and area; Taylor's formula; improper integrals; series and tests for convergence; power series and Taylor series; complex numbers.\",\n",
       " 'Complex numbers, matrices and basic matrix operations, vectors, linear equations, determinants, eigenvalues and eigenvectors, linear dependence and independence, orthogonality.',\n",
       " \"Newton's laws; particle dynamics and curvilinear motion; force and momentum; kinetic and potential energy; circular and rotational motion; thermal physics; gravitational and electric forces. Engineering and Physical Science applications.\",\n",
       " 'Heat engines; harmonic motion; wave motion; geometric and wave optics; modern physics. Engineering and Physical Science applications.',\n",
       " 'Development of software for real-world engineering applications using both imperative and object-oriented approaches. Topics include basic algorithms and data structures, abstract data types, generic collection types, design of large programs, using and building software libraries, user interfaces, debugging techniques, software documentation.',\n",
       " \"Electric charge, Coulomb's Law, electrostatic forces, electric field, Gauss's Law, electric potential, stored energy. Electric current, conduction in a vacuum and in material media, displacement current, magnetic field of a current, force on a current carrying wire, magnetic induction, electromotive force, energy stored in a magnetic field. Magnetism and magnetic circuits. Time varying fields. Capacitance, resistance, inductance, and their characterization. Transmission lines.\",\n",
       " \"Circuit analysis and design techniques. Resistors, sources, Kirchoff's voltage and current laws. Theorems: linearity, superposition, Thevenin, Norton. Node and loop analysis. Capacitors and inductors, series and parallel connections, stored energies. Analysis of first- and second-order circuits. Forced and natural responses. Phasors, impedance and admittance. Network theorems using phasors. Series and parallel resonance. RMS quantities, complex power. Maximum power transfer. Three-phase circuits, Y- and Delta-loads.\",\n",
       " 'Introduction to the effects of technology on society including the ethical, environmental, cultural, social, economic and political issues raised by technological change. The concepts of sustainability, civil society, engineering law (negligence and product liability torts, contract law and consumer protection statutes) and environmental stewardship are addressed in the context of systems engineering design.',\n",
       " 'Vectors and vector functions; solid analytic geometry; partial differentiation; directional derivatives and the gradient vector; Lagrange multipliers; multiple integration with applications; cylindrical and spherical coordinates; change of variables; surface area; introduction to line and surface integrals.',\n",
       " \"Vector fields; div, grad and curl operators; line integrals; Green's Theorem; surface integrals; flux; Divergence Theorem; Stokes' Theorem; multivariate Taylor series; Fourier series; first and second order differential equations with applications; variation of parameters; reduction of order; power series solutions about ordinary points; Laplace transform.\",\n",
       " 'Sketching, orthographic and isometric projections, multiple and sectional views, dimensioning and tolerancing, part and assembly drawings; 3D geometric modelling and engineering drawing generation using CAD software; introduction of manufacturing processes and machining operations, design for manufacturing and assembly, metrology, inspection; and machine shop practise through hands-on experience.',\n",
       " \"Review of bending moment and shear force diagrams for beams. Introduction of stress and strain; axial loading, torsion, pure bending and transverse loading. Status failure and factors of safety. Stress and strain transformation in two dimensions. Mohr's circle. Beam deflection, stability of columns. Energy methods.\",\n",
       " 'Properties and states of simple substances, P-v-T processes, equations of state, ideal gas law, first law of thermodynamics, control volume and control mass analyses, first law thermal efficiency, simple steady flow devices, heat engines, refrigerators, heat pumps, Carnot cycle, entropy, principle of increase of entropy, second law of thermodynamics, reversibility.',\n",
       " 'Kinematics and dynamics of rigid bodies; analysis of planar rigid body motion using translating and rotating axes; two-dimensional rigid body dynamics using force/acceleration, work/energy and impulse/momentum methods; applications to one degree of freedom planar mechanisms and vibrations; introduction to three-dimensional rigid body dynamics.',\n",
       " 'Atomic structure, arrangement and movement; microstructural development and heat treatment; physical properties of ferrous and nonferrous metals, semiconductors, ceramics, polymers and composites; corrosion and mechanical properties.',\n",
       " 'Probability axioms, properties of probability, counting techniques, conditional probability, independence, random variables, discrete and continuous probability distributions, expectation, variance; binomial, hypergeometric, negative binomial, Poisson, uniform, normal, gamma and exponential distributions; discrete and continuous joint distributions, independent random variables, expectation of functions of random vectors, covariance, random samples and sampling distributions, central limit theorem; point and interval estimation; hypothesis testing; linear regression and correlation.',\n",
       " 'An introduction to selected topics in Numerical Analysis. Typical areas covered: error analysis, roots of equations, systems of linear equations, linear programming, interpolation, numerical integration, and ordinary differential equations.',\n",
       " 'Characteristics of electronic devices including diodes, bipolar junction transistors and operational amplifiers; analysis of practical electronic circuits such as rectifiers, voltage regulators, amplifiers and filters; fundamentals of electromechanical energy conversion; transformers and actuators; operating principles of rotating electric machines: dc machines and ac machines.',\n",
       " 'A concentrated introduction to principles of economics, project management, and financial project evaluation and selection for Engineering students. Economics topics include supply and demand, multipliers and tax incidence. Financial project evaluation topics include discounted cash flow, benefit-cost analysis, financial accounting, and decision-making considering depreciation, inflation, taxes and risk. Project management topics include work breakdown structures, the critical path method and crashing. Assumes competency in calculus, algebra and familiarity with computer spreadsheet software.',\n",
       " 'Theory of stress and infinitesimal strain in three dimensions, stress and strain tensors and equilibrium equations. Theory of elasticity in Cartesian polar coordinates and its application to curved beams, torsion of prismatic bars, thick walled cylinders, axisymmetrical loaded disks, and plate theory. Introduction to fracture mechanics and to finite element analysis of frames and trusses.',\n",
       " 'Vibrations of single degree of freedom systems; free undamped and damped vibration characteristics, harmonic forcing, frequency response functions, Fourier series method for periodic forcing. Multi degree of freedom systems; frequencies and modes analysis, matrix methods, and orthogonality of modes. Free and forced vibration characteristics of undamped and damped multi degree of freedom systems. Applications in vibration isolation and control.',\n",
       " 'Types of mechanisms. Analysis of the kinematics of closed loop linkages using graphical, vector and complex number methods. Follower motion synthesis and design of cam profiles. Gear terminology and the analysis of gear trains. Analysis of static and dynamic loading of mechanisms; flywheel design. Introduction to linkage synthesis, spatial open loop mechanisms with applications to manipulators.',\n",
       " 'Properties of fluids. Basic flow analysis techniques. Basic concepts: velocity field, stress, flow patterns, classification of fluid motion. Fluid statics: pressure distribution; hydrostatic forces on submerged surfaces; buoyancy and stability. Integral analysis of fluid motion: conservation of mass, momentum balance, energy balance. Dimensional Analysis and Similitude. Laminar and turbulent flow in pipes and pipe systems. Laminar and turbulent boundary layers, flow around bodies, lift and drag.',\n",
       " 'Design methodology; recognizing and defining open-ended engineering problems, problem definition, concept generation, project planning, modelling, analysis, decision making, design synthesis, prototyping and testing. Students complete a series of design oriented projects in small teams to develop teamwork skills.',\n",
       " 'Quantitative design methods; review of stress analysis, load determination and static failure theories; fatigue failure arising from time-varying loads; design of specific machine elements: shafts, bearings, gears, screws and fasteners, clutches and brakes; life cycle design methods.',\n",
       " 'Modelling dynamic systems (linear systems and feedback control). Transfer function based analysis and design (transfer functions, root-locus, stability, transient responses). Frequency characteristics design methods (frequency responses, stability, gain and phase margins, system compensation). State-space design methods (state transition matrix, state feedback and shaping dynamic responses; linear observers).',\n",
       " 'Thermal power generation, vapour and gas cycles, refrigeration and heat pumps. Compressible flow. Non reacting gas mixtures and psychometrics. Reacting mixtures, combustion. Exergy (ability to produce work) and second law analysis.',\n",
       " 'Heat transfer modes. Analysis of steady and transient conduction in solids. Principles of convection: heat transfer under laminar and turbulent flow over flat plates and around bodies; convective heat transfer inside pipes. Thermal radiation physics and radiation between multiple black and gray surfaces.',\n",
       " 'A major technical report demonstrating written communication and analytical skills. Includes development and approval of topic, adherence to reporting guidelines and management of time constraints.',\n",
       " 'Sources and classification of law; professional engineering legislation, registration and discipline; introduction to tort law including negligence; introduction to contract law including employment law. Ethics in professional practice.',\n",
       " 'Complete design of a product or a system; specification of function, analysis, selection of materials, strength calculations, preparation of working drawings, cost analysis and tenders, preparation of final design report and symposium presentation of final design. Weekly seminar series featuring topics related to design, safety, marketing and management.',\n",
       " 'Development and analysis of business plans with applications to engineering; Principles of entrepreneurship and business startup; Business model canvas and strategy. Market research, analysis and building financial projections; Pivoting concept, and venture intelligence quotient. Modern finance and fundraising methods. Includes a significant team-based business-planning project, and final project presentation.',\n",
       " 'Fundamentals of computer graphics; geometric modeling of solids and curved surfaces of mechanical parts; part and assembly drawing generation; integrated CAD/CAE/CAM system for modelling, simulation, analysis using FEA and CFD, CNC tool path generation and design optimization; input and output of CAD systems, data management and customization of CAD/CAE/CAM systems.',\n",
       " 'Theory and analysis of standard HVAC components and systems. Review of thermodynamics and multimode heat and mass transfer. Thermal comfort, sensible heat and heating and cooling loads for buildings. HVAC system needs and classifications. Review of fluid mechanics, fan and duct design, energy conservation and green design principles.',\n",
       " 'Overview of fundamental issues associated with measurement systems; response of 0th, 1st, and 2nd order systems, components in a measurement system, effects of digitization, sampling, aliasing, noise, quantization error. Frequency Response Function, voltage conversion, loading effects and filtering. Sensors and transducers for common physical measurements, including Optical techniques and sensors. Laboratories incorporate all elements of the lectures, with students designing and building complete measurement systems with digital acquisition.',\n",
       " 'Introduction to mechatronic systems; modelling of mixed mechatronic systems; microcontroller programming and interfacing; data acquisition; sensors and actuators; control architectures and case studies in mechatronics systems.',\n",
       " 'Introduction to machining operations features of numerically controlled machine tools, and types of CNC programming. Manual part programming with G-codes, canned cycles, subprograms, and simulation program. NC machine tools and control and machine tool kinematics. CNC machining of curved surfaces, and surface machining strategies. Rapid prototyping or 3D printing. Machining mechanics and dynamics',\n",
       " 'Flight vehicle conceptual and preliminary design. Market analysis. Mission requirements, sizing, trade-offs. Aircraft general arrangement, fuselage, wing, empennage, landing gear design. Weight and balance. Stability and control. Drag polar. Aircraft structural arrangement, maneuvering envelope. Project.',\n",
       " 'An advanced design course in thermofluids systems. Groups of three or four students select project topics that involve the design of thermofluids systems such as power generation and refrigeration cycles, pump and piping systems, heat exchangers and heat exchanger networks, and air-conditioning and heating systems. Alternatively, students can propose their own projects in other areas of thermofluid systems.',\n",
       " 'Formulation and application of the finite element method for modelling mechanical systems, including stress and vibration problems; stiffness method, stiffness and mass matrices, generalized force, numerical procedures; development of simple programs and exposure to general purpose packages.',\n",
       " 'Principles of MEMS theory, design and fabrication. Topics include: scaling law principles: micro-mechanical structures for sensing and actuation; electrostatic, micro-thermal, piezoresistive, piezoelectric and micro-magnetic devices; micro-fluidics; micro-optics; microassembly and packaging. Case studies of MEMS device operation and micro-fabrication.',\n",
       " 'Methods of predictions and historical perspective; governing differential equations of heat transfer and fluid flow; finite difference methods; discretization schemes; application to heat conduction problems; introduction to control volume formulation for fluid flow and to turbulence modelling; accuracy and convergence considerations. Individual term projects using a CFD program.',\n",
       " 'General background of Hybrid Electric Vehicle (HEV) technologies; green vehicle technology training by industry experts; design using advanced modeling and simulation tools; design, analysis, prototyping and testing of vehicle subsystems or key components for green vehicle technology development. Each student presents a complete report at the end of the term and makes an oral presentation of the findings.',\n",
       " 'An introduction to Scanning Electron Microscopy, Transmission Electron Microscopy, Analytical Electron Microscopy and Electron Diffraction used for the characterization of advanced materials and their atomic structures.',\n",
       " 'Mechanical, thermal, electrical, photonic and magnetic properties of materials, the iron-carbon and iron-cementite phase diagrams; nucleation and growth of microstructural constituents; the martensite phase transformation; time-temperature-transformation (TTT) curves; properties affected by quenching, tempering and annealing; alloy additions; structural, high strength and speciality steels; welding; tools and stainless steels; cast irons; superalloys; copper, aluminum, magnesium and titanium alloys; metal matrix composites.',\n",
       " 'Introduction to the types of biomaterials and their associated properties. Experimental characterization techniques including microscopy, detection of chemical compositions, protein adsorption and immunoreactivity. Methods for combining biomaterials with cells to engineer tissues.',\n",
       " 'Engineering analysis of musculoskeletal (MSk) systems. Study of basic MSk anatomy and nomenclature, effects of muscle, bone, tendons, and ligaments on MSk biomechanics. Biomechanical kinematic and force via first principles and spatial transformation methods. Technologies and methods used to assess MSk biomechanical variables. Applications of above concepts to computer assisted surgery and computational modelling.',\n",
       " 'Transport phenomena in microscale. Fundamentals of microfabrication techniques for microfluidic devices. Flow control in microfluidic systems. Recent advances in designing microscale diagnostics and analytical systems. An overview of the applications of microfluidic systems in biology and the concept of organ-on-chip. An overview of the use of microscale technologies for energy applications.',\n",
       " 'Engineering introduction to cell architecture. Cell components and their functions. Families of molecules used by cells. The role of water in cell architecture. Proteins -the machine systems of cells. DNA. Energy conversion and the control of metabolic processes. Mechanics of the cytoskeleton and cell membranes. Developments in diagnostic and treatment systems based on cell mechanobiology. Readings in bio-inspired engineering systems, biotechnology, tissue regeneration, molecular diagnostics and targeted drug delivery.',\n",
       " 'Thermodynamic potentials: Maxwell relations, stability criteria. Barometric formula: applications to clouds, solar chimney, etc. Phase mixtures: chemical potential, osmosis, phase equilibrium, Gibbs phase rule, phase diagrams, fugacity and activity. Reacting mixtures: law of mass action and applications, enthalpy and entropy constants, heat of reaction, combustion, flames, adiabatic flame temperature, reaction rates. Thermodynamics of fuel cells: efficiency, causes of losses, comparison with heat engines.',\n",
       " 'History of wind power. Wind resource characteristics. Aerodynamic analysis: steady and unsteady rotor flow models, sectional aerodynamics. Aeroelastic response: structural models, degree of freedom reduction, time-domain simulation. Control: objectives, hierarchy, methods, classical and modern approaches. Electrical aspects: generator concepts and control, grid integration. Component design and structural analysis. Wind farms. Levelized cost of energy.',\n",
       " 'Cryogenics: definition and applications. Properties of materials at low temperatures, storage systems for liquid cryogens, refrigeration and liquefaction cycles. Bulk and mobile storage systems for hydrogen and natural gas. Overview of gas expansion cycles - Linde, Claude, hybrid - with a focus on natural gas and hydrogen liquefaction. Regenerative cycles, magnetic refrigeration, regenerator analysis.',\n",
       " 'Application of mechanical engineering principles to the mathematical modeling, analysis, simulation and design of floating offshore infrastructure. Ocean wave kinematics: Airy wave theory, wave spectra, sea-state descriptions. Rigid body dynamics: Euler angle transformations, Newton-Euler equations of motion. Hydrostatics: buoyancy, metacentric height, waterplane moments. Hydrodynamics: added mass, drag, Cummins equation for radiation damping, wave excitation. Use of potential flow solvers for the calculation of hydrodynamic coefficients.',\n",
       " 'Characteristics of energy systems: evolution, energy currencies, energy sources, dynamics of energy systems. Levelized cost of energy, screening curves. Electrification, system requirements, variability, generation mixtures, and dispatch. The role of storage: characteristics of storage technologies, analysis of storage impacts, cost. Issues associated with the delivery of energy services such as sustainability, emissions, cost and energy intensity.',\n",
       " 'Overview and status of various fuel cell technologies. Fundamentals: fuel cell thermodynamics; electrode kinetics; performance and efficiency; transport processes. Proton Exchange Membrane Fuel Cells (PEMFCs). Solid Oxide Fuel Cells (SOFCs). Fuelling issues. Fuel cell systems and applications.',\n",
       " 'Advance of hybrid electric propulsion technology; hybrid electric powertrain system and key components, engines, fuel cells, transmissions, energy storage systems; and electric drives; modeling and simulation of vehicle performance, energy efficiency and emissions using advanced modeling tools; design and control optimization of hybrid electric propulsion systems for vehicles and marine vessels.',\n",
       " 'Kinematics. Conservation of mass, balance of momentum, balance of energy, and entropy inequality. Differential analysis of fluid motion. Boundary layer approximation. Turbulence. Introduction to diffusion mass transfer. Introduction to flow in porous media.',\n",
       " 'Thermomechanics: introduction, kinematics, motion, stress, thermodynamics, fundamental principles. Constitutive equations of mixtures: Newtonian fluids, binary mixtures, field equations. Mass transport: diffusivity, mechanisms of mass transport, examples of concentration distribution in solids, and binary and ternary fluid mixtures.',\n",
       " 'Multi-mass linear systems; flexibility and stiffness matrices, natural frequencies, mode shapes and orthogonal properties, damped or undamped response to arbitrary force. Linear continuous systems; axial and torsional vibration of rods, shafts and beams with attached mass or stiffness. Non-linear vibrations; basic methods for solution. Random vibration; elements for describing random response, Fourier transforms and frequency response functions.',\n",
       " 'Structure and specifications of robot manipulators; homogeneous transformations; kinematic equations and motion trajectories; dynamic models of robotic manipulators; position and force control; use of robots in industrial applications.',\n",
       " 'Synthesis of mechanisms for function generation and rigid body guidance. Graphical, analytical, and optimization based methods of synthesis. Mechanism cognates, Chebychev spacing, Burmister curves. Manipulator joint layout synthesis for spatial positioning and orientation. Application to serial, parallel and hybrid configurations. Conditions of singularity and uncertainty.',\n",
       " 'Presents material in an emerging field or one not covered in regular offerings. Some topics may require laboratory work as well as lectures. Entrance is restricted to third- and fourth-year students who meet the prerequisite specified for the topic to be offered.',\n",
       " 'Presents material in an emerging field or one not covered in regular offerings. Some topics may require laboratory work as well as lectures. Entrance is restricted to third- and fourth-year students who meet the prerequisite specified for the topic to be offered.',\n",
       " 'Presents material in an emerging field or one not covered in regular offerings.Some topics may require laboratory work as well as lectures. Entrance is restricted to third- and fourth-year students who meet the prerequisite specified for the topic to be offered.',\n",
       " 'Presents material in an emerging field or one not covered in regular offerings. Some topics may require laboratory work as well as lectures. Entrance is restricted to third- and fourth-year students who meet the prerequisite specified for the topic to be offered.',\n",
       " 'Presents material in an emerging field or one not covered in regular offerings. Some topics may require laboratory work as well as lectures. Entrance is restricted to third- and fourth-year students who meet the prerequisite specified for the topic to be offered.',\n",
       " 'Presents material in an emerging field or one not covered in regular offerings. Some topics may require laboratory work as well as lectures. Entrance is restricted to third- and fourth-year students who meet the prerequisite specified for the topic to be offered.',\n",
       " 'Provides an opportunity to carry out a major design or research project under the supervision of a faculty member. The project requires independent study of the current technical literature and independent research or design work. Each student presents a complete report at the end of the term and makes an oral presentation of the findings.',\n",
       " 'Provides an opportunity to carry out a design or research project of a technical level similar to 4th year electives, under the supervision of a faculty member. Requires independent study of current technical literature. When feasible, the design should be assessed in the laboratory. A complete report must be presented at the end of the term.']"
      ]
     },
     "execution_count": 23,
     "metadata": {},
     "output_type": "execute_result"
    }
   ],
   "source": [
    "course_descs"
   ]
  },
  {
   "cell_type": "code",
   "execution_count": 25,
   "metadata": {},
   "outputs": [
    {
     "data": {
      "text/html": [
       "<div>\n",
       "<style scoped>\n",
       "    .dataframe tbody tr th:only-of-type {\n",
       "        vertical-align: middle;\n",
       "    }\n",
       "\n",
       "    .dataframe tbody tr th {\n",
       "        vertical-align: top;\n",
       "    }\n",
       "\n",
       "    .dataframe thead th {\n",
       "        text-align: right;\n",
       "    }\n",
       "</style>\n",
       "<table border=\"1\" class=\"dataframe\">\n",
       "  <thead>\n",
       "    <tr style=\"text-align: right;\">\n",
       "      <th></th>\n",
       "      <th>Course Number</th>\n",
       "      <th>Course Name</th>\n",
       "      <th>Course Description</th>\n",
       "    </tr>\n",
       "  </thead>\n",
       "  <tbody>\n",
       "    <tr>\n",
       "      <th>0</th>\n",
       "      <td>CHEM150</td>\n",
       "      <td>Engineering Chemistry</td>\n",
       "      <td>Atomic and molecular structure; periodicity, c...</td>\n",
       "    </tr>\n",
       "    <tr>\n",
       "      <th>1</th>\n",
       "      <td>CSC111</td>\n",
       "      <td>Fundamentals of Programming with Engineering A...</td>\n",
       "      <td>Fundamentals of computer programming with real...</td>\n",
       "    </tr>\n",
       "    <tr>\n",
       "      <th>2</th>\n",
       "      <td>ENGR110</td>\n",
       "      <td>Design and Communication I</td>\n",
       "      <td>Introductory principles of engineering design ...</td>\n",
       "    </tr>\n",
       "    <tr>\n",
       "      <th>3</th>\n",
       "      <td>ENGR120</td>\n",
       "      <td>Design and Communication II</td>\n",
       "      <td>Principles of engineering science and design a...</td>\n",
       "    </tr>\n",
       "    <tr>\n",
       "      <th>4</th>\n",
       "      <td>ENGR130</td>\n",
       "      <td>Introduction to Professional Practice</td>\n",
       "      <td>Awareness of the role and responsibilities of ...</td>\n",
       "    </tr>\n",
       "    <tr>\n",
       "      <th>...</th>\n",
       "      <td>...</td>\n",
       "      <td>...</td>\n",
       "      <td>...</td>\n",
       "    </tr>\n",
       "    <tr>\n",
       "      <th>72</th>\n",
       "      <td>MECH450D</td>\n",
       "      <td>Special Topics</td>\n",
       "      <td>Presents material in an emerging field or one ...</td>\n",
       "    </tr>\n",
       "    <tr>\n",
       "      <th>73</th>\n",
       "      <td>MECH450E</td>\n",
       "      <td>Special Topics</td>\n",
       "      <td>Presents material in an emerging field or one ...</td>\n",
       "    </tr>\n",
       "    <tr>\n",
       "      <th>74</th>\n",
       "      <td>MECH450F</td>\n",
       "      <td>Special Topics</td>\n",
       "      <td>Presents material in an emerging field or one ...</td>\n",
       "    </tr>\n",
       "    <tr>\n",
       "      <th>75</th>\n",
       "      <td>MECH498</td>\n",
       "      <td>Honours Thesis</td>\n",
       "      <td>Provides an opportunity to carry out a major d...</td>\n",
       "    </tr>\n",
       "    <tr>\n",
       "      <th>76</th>\n",
       "      <td>MECH499</td>\n",
       "      <td>Technical Project</td>\n",
       "      <td>Provides an opportunity to carry out a design ...</td>\n",
       "    </tr>\n",
       "  </tbody>\n",
       "</table>\n",
       "<p>77 rows × 3 columns</p>\n",
       "</div>"
      ],
      "text/plain": [
       "   Course Number                                        Course Name  \\\n",
       "0        CHEM150                              Engineering Chemistry   \n",
       "1         CSC111  Fundamentals of Programming with Engineering A...   \n",
       "2        ENGR110                         Design and Communication I   \n",
       "3        ENGR120                        Design and Communication II   \n",
       "4        ENGR130              Introduction to Professional Practice   \n",
       "..           ...                                                ...   \n",
       "72      MECH450D                                     Special Topics   \n",
       "73      MECH450E                                     Special Topics   \n",
       "74      MECH450F                                     Special Topics   \n",
       "75       MECH498                                     Honours Thesis   \n",
       "76       MECH499                                  Technical Project   \n",
       "\n",
       "                                   Course Description  \n",
       "0   Atomic and molecular structure; periodicity, c...  \n",
       "1   Fundamentals of computer programming with real...  \n",
       "2   Introductory principles of engineering design ...  \n",
       "3   Principles of engineering science and design a...  \n",
       "4   Awareness of the role and responsibilities of ...  \n",
       "..                                                ...  \n",
       "72  Presents material in an emerging field or one ...  \n",
       "73  Presents material in an emerging field or one ...  \n",
       "74  Presents material in an emerging field or one ...  \n",
       "75  Provides an opportunity to carry out a major d...  \n",
       "76  Provides an opportunity to carry out a design ...  \n",
       "\n",
       "[77 rows x 3 columns]"
      ]
     },
     "execution_count": 25,
     "metadata": {},
     "output_type": "execute_result"
    }
   ],
   "source": [
    "import pandas as pd\n",
    "\n",
    "df = pd.DataFrame({\n",
    "    \"Course Number\": course_codes,\n",
    "    \"Course Name\": course_names,\n",
    "    \"Course Description\": course_descs\n",
    "})\n",
    "\n",
    "df"
   ]
  },
  {
   "cell_type": "code",
   "execution_count": 26,
   "metadata": {
    "scrolled": true
   },
   "outputs": [],
   "source": [
    "df.to_csv('UVictoria_MechEng_Core_and_Electives_(AllYears)_Courses.csv', index = False)"
   ]
  },
  {
   "cell_type": "code",
   "execution_count": 27,
   "metadata": {},
   "outputs": [],
   "source": [
    "driver.quit()"
   ]
  }
 ],
 "metadata": {
  "kernelspec": {
   "display_name": "Python 3",
   "language": "python",
   "name": "python3"
  },
  "language_info": {
   "codemirror_mode": {
    "name": "ipython",
    "version": 3
   },
   "file_extension": ".py",
   "mimetype": "text/x-python",
   "name": "python",
   "nbconvert_exporter": "python",
   "pygments_lexer": "ipython3",
   "version": "3.8.5"
  }
 },
 "nbformat": 4,
 "nbformat_minor": 4
}
