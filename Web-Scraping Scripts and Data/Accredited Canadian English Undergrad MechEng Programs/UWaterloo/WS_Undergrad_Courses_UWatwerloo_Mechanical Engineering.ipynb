{
 "cells": [
  {
   "cell_type": "code",
   "execution_count": 1,
   "metadata": {},
   "outputs": [],
   "source": [
    "import requests as rs\n",
    "from bs4 import BeautifulSoup as soup\n",
    "from urllib.request import urlopen as uReq"
   ]
  },
  {
   "cell_type": "code",
   "execution_count": 2,
   "metadata": {},
   "outputs": [],
   "source": [
    "url1 = 'https://ucalendar.uwaterloo.ca/2122/COURSE/course-ME.html'"
   ]
  },
  {
   "cell_type": "code",
   "execution_count": 3,
   "metadata": {},
   "outputs": [],
   "source": [
    "#uClient = uReq(url1)\n",
    "#page_html = uClient.read()\n",
    "#uClient.close()\n",
    "#page_soup = soup(page_html, \"html.parser\")\n",
    "r = rs.get(url1)\n",
    "page_soup = soup(r.content)"
   ]
  },
  {
   "cell_type": "code",
   "execution_count": 4,
   "metadata": {},
   "outputs": [
    {
     "name": "stdout",
     "output_type": "stream",
     "text": [
      "64\n"
     ]
    }
   ],
   "source": [
    "containers = page_soup.findAll(\"div\",{\"class\":\"divTable\"})\n",
    "print(len(containers))"
   ]
  },
  {
   "cell_type": "code",
   "execution_count": 6,
   "metadata": {},
   "outputs": [
    {
     "name": "stdout",
     "output_type": "stream",
     "text": [
      "<div class=\"divTable\">\n",
      " <div class=\"divTableCell\">\n",
      "  <strong>\n",
      "   <a name=\"ME100B\">\n",
      "   </a>\n",
      "   ME 100B SEM 0.00\n",
      "  </strong>\n",
      " </div>\n",
      " <div class=\"divTableCell crseid\">\n",
      "  Course ID: 013359\n",
      " </div>\n",
      " <div class=\"divTableCell colspan-2\">\n",
      "  <strong>\n",
      "   Seminar\n",
      "  </strong>\n",
      " </div>\n",
      " <div class=\"divTableCell colspan-2\">\n",
      "  Discussion of the structure of and options within the mechanical engineering curriculum; of the operation of department, faculty, university, technical societies; of student team and graduate school opportunities; of safety training; and of subject material in support of core courses.  [Offered:  W,S]\n",
      " </div>\n",
      " <div class=\"divTableCell colspan-2\">\n",
      "  <em>\n",
      "  </em>\n",
      " </div>\n",
      " <div class=\"divTableCell colspan-2\">\n",
      "  <em>\n",
      "   Prereq: Level at least 1B Mechanical Engineering.\n",
      "  </em>\n",
      " </div>\n",
      " <div class=\"divTableCell colspan-2\">\n",
      "  <em>\n",
      "   Antireq: GENE 123\n",
      "  </em>\n",
      " </div>\n",
      "</div>\n"
     ]
    }
   ],
   "source": [
    "print(soup.prettify(containers[1]))"
   ]
  },
  {
   "cell_type": "code",
   "execution_count": 6,
   "metadata": {},
   "outputs": [
    {
     "name": "stdout",
     "output_type": "stream",
     "text": [
      "ME 100 LAB,LEC,TUT 0.75\n",
      "Introduction to Mechanical Engineering Practice 1\n"
     ]
    }
   ],
   "source": [
    "course_nn = containers[0].findAll(\"strong\")\n",
    "course_number = course_nn[0].text\n",
    "course_name = course_nn[1].text\n",
    "print(course_number)\n",
    "print(course_name)"
   ]
  },
  {
   "cell_type": "code",
   "execution_count": 7,
   "metadata": {},
   "outputs": [
    {
     "name": "stdout",
     "output_type": "stream",
     "text": [
      "4\n",
      "This course is focused on fundamental knowledge and skills essential for academic and professional development in mechanical engineering. It covers basic methods and principles used by mechanical engineers, e.g., fundamentals of technical communication, the design process and problem solving, measurements and data analysis, engineering professionalism, safety, and intellectual property. The fundamentals of engineering graphical communication using computer-aided design (CAD) and freehand sketching will be a significant component of this course. Written, graphical and oral communications are emphasized. Examples are drawn from Mechanical Engineering. [Offered: F]\n"
     ]
    }
   ],
   "source": [
    "course_desc = containers[0].findAll(\"div\",{\"class\":\"divTableCell colspan-2\"})\n",
    "print(len(course_desc))\n",
    "print(course_desc[1].text)"
   ]
  },
  {
   "cell_type": "code",
   "execution_count": 8,
   "metadata": {},
   "outputs": [],
   "source": [
    "import pandas as pd\n",
    "import numpy as np\n",
    "\n",
    "df = pd.DataFrame(columns =[\"Course Number\",\"Course Name\",\"Course Description\"])"
   ]
  },
  {
   "cell_type": "code",
   "execution_count": 9,
   "metadata": {},
   "outputs": [],
   "source": [
    "for i in range (len(containers)):\n",
    "    course_nn = containers[i].findAll(\"strong\")\n",
    "    course_number = course_nn[0].text\n",
    "    course_name = course_nn[1].text\n",
    "    course_desc = containers[i].findAll(\"div\",{\"class\":\"divTableCell colspan-2\"})\n",
    "    new = {\"Course Number\":course_number,\"Course Name\":course_name,\"Course Description\":course_desc[1].text}\n",
    "    df = df.append(new,ignore_index=True)"
   ]
  },
  {
   "cell_type": "code",
   "execution_count": 10,
   "metadata": {},
   "outputs": [
    {
     "data": {
      "text/html": [
       "<div>\n",
       "<style scoped>\n",
       "    .dataframe tbody tr th:only-of-type {\n",
       "        vertical-align: middle;\n",
       "    }\n",
       "\n",
       "    .dataframe tbody tr th {\n",
       "        vertical-align: top;\n",
       "    }\n",
       "\n",
       "    .dataframe thead th {\n",
       "        text-align: right;\n",
       "    }\n",
       "</style>\n",
       "<table border=\"1\" class=\"dataframe\">\n",
       "  <thead>\n",
       "    <tr style=\"text-align: right;\">\n",
       "      <th></th>\n",
       "      <th>Course Number</th>\n",
       "      <th>Course Name</th>\n",
       "      <th>Course Description</th>\n",
       "    </tr>\n",
       "  </thead>\n",
       "  <tbody>\n",
       "    <tr>\n",
       "      <th>0</th>\n",
       "      <td>ME 100 LAB,LEC,TUT 0.75</td>\n",
       "      <td>Introduction to Mechanical Engineering Practice 1</td>\n",
       "      <td>This course is focused on fundamental knowledg...</td>\n",
       "    </tr>\n",
       "    <tr>\n",
       "      <th>1</th>\n",
       "      <td>ME 100B SEM 0.00</td>\n",
       "      <td>Seminar</td>\n",
       "      <td>Discussion of the structure of and options wit...</td>\n",
       "    </tr>\n",
       "    <tr>\n",
       "      <th>2</th>\n",
       "      <td>ME 101 LAB,LEC,TUT 0.75</td>\n",
       "      <td>Introduction to Mechanical Engineering Practice 2</td>\n",
       "      <td>This course is a continuation of ME 100 and is...</td>\n",
       "    </tr>\n",
       "    <tr>\n",
       "      <th>3</th>\n",
       "      <td>ME 115 LAB,LEC,PRJ,TST,TUT 0.50</td>\n",
       "      <td>Structure and Properties of Materials</td>\n",
       "      <td>The relevance of materials to engineering prac...</td>\n",
       "    </tr>\n",
       "    <tr>\n",
       "      <th>4</th>\n",
       "      <td>ME 123 LAB,LEC,TST,TUT 0.50</td>\n",
       "      <td>Electrical Engineering for Mechanical Engineers</td>\n",
       "      <td>Definitions of electric and magnetic fields. I...</td>\n",
       "    </tr>\n",
       "    <tr>\n",
       "      <th>...</th>\n",
       "      <td>...</td>\n",
       "      <td>...</td>\n",
       "      <td>...</td>\n",
       "    </tr>\n",
       "    <tr>\n",
       "      <th>59</th>\n",
       "      <td>ME 595 LEC 0.50</td>\n",
       "      <td>Special Topics in Mechanical Engineering</td>\n",
       "      <td>Various courses dealing with selected topics a...</td>\n",
       "    </tr>\n",
       "    <tr>\n",
       "      <th>60</th>\n",
       "      <td>ME 596 LEC 0.50</td>\n",
       "      <td>Special Topics in Mechanical Engineering</td>\n",
       "      <td>Various courses dealing with selected topics a...</td>\n",
       "    </tr>\n",
       "    <tr>\n",
       "      <th>61</th>\n",
       "      <td>ME 597 LEC 0.50</td>\n",
       "      <td>Special Topics in Mechanical Engineering</td>\n",
       "      <td>Various courses dealing with selected topics a...</td>\n",
       "    </tr>\n",
       "    <tr>\n",
       "      <th>62</th>\n",
       "      <td>ME 598 LEC 0.50</td>\n",
       "      <td>Special Topics in Mechanical Engineering</td>\n",
       "      <td>Various courses dealing with selected topics a...</td>\n",
       "    </tr>\n",
       "    <tr>\n",
       "      <th>63</th>\n",
       "      <td>ME 599 LEC 0.50</td>\n",
       "      <td>Special Topics in Mechanical Engineering</td>\n",
       "      <td>Various courses dealing with selected topics a...</td>\n",
       "    </tr>\n",
       "  </tbody>\n",
       "</table>\n",
       "<p>64 rows × 3 columns</p>\n",
       "</div>"
      ],
      "text/plain": [
       "                      Course Number  \\\n",
       "0           ME 100 LAB,LEC,TUT 0.75   \n",
       "1                  ME 100B SEM 0.00   \n",
       "2           ME 101 LAB,LEC,TUT 0.75   \n",
       "3   ME 115 LAB,LEC,PRJ,TST,TUT 0.50   \n",
       "4       ME 123 LAB,LEC,TST,TUT 0.50   \n",
       "..                              ...   \n",
       "59                  ME 595 LEC 0.50   \n",
       "60                  ME 596 LEC 0.50   \n",
       "61                  ME 597 LEC 0.50   \n",
       "62                  ME 598 LEC 0.50   \n",
       "63                  ME 599 LEC 0.50   \n",
       "\n",
       "                                          Course Name  \\\n",
       "0   Introduction to Mechanical Engineering Practice 1   \n",
       "1                                             Seminar   \n",
       "2   Introduction to Mechanical Engineering Practice 2   \n",
       "3               Structure and Properties of Materials   \n",
       "4     Electrical Engineering for Mechanical Engineers   \n",
       "..                                                ...   \n",
       "59           Special Topics in Mechanical Engineering   \n",
       "60           Special Topics in Mechanical Engineering   \n",
       "61           Special Topics in Mechanical Engineering   \n",
       "62           Special Topics in Mechanical Engineering   \n",
       "63           Special Topics in Mechanical Engineering   \n",
       "\n",
       "                                   Course Description  \n",
       "0   This course is focused on fundamental knowledg...  \n",
       "1   Discussion of the structure of and options wit...  \n",
       "2   This course is a continuation of ME 100 and is...  \n",
       "3   The relevance of materials to engineering prac...  \n",
       "4   Definitions of electric and magnetic fields. I...  \n",
       "..                                                ...  \n",
       "59  Various courses dealing with selected topics a...  \n",
       "60  Various courses dealing with selected topics a...  \n",
       "61  Various courses dealing with selected topics a...  \n",
       "62  Various courses dealing with selected topics a...  \n",
       "63  Various courses dealing with selected topics a...  \n",
       "\n",
       "[64 rows x 3 columns]"
      ]
     },
     "execution_count": 10,
     "metadata": {},
     "output_type": "execute_result"
    }
   ],
   "source": [
    "df"
   ]
  },
  {
   "cell_type": "code",
   "execution_count": 11,
   "metadata": {},
   "outputs": [],
   "source": [
    "df.to_csv('UWaterloo_Mechanical Eng courses.csv', index = False)"
   ]
  },
  {
   "cell_type": "code",
   "execution_count": null,
   "metadata": {},
   "outputs": [],
   "source": []
  }
 ],
 "metadata": {
  "kernelspec": {
   "display_name": "Python 3",
   "language": "python",
   "name": "python3"
  },
  "language_info": {
   "codemirror_mode": {
    "name": "ipython",
    "version": 3
   },
   "file_extension": ".py",
   "mimetype": "text/x-python",
   "name": "python",
   "nbconvert_exporter": "python",
   "pygments_lexer": "ipython3",
   "version": "3.8.5"
  }
 },
 "nbformat": 4,
 "nbformat_minor": 4
}
