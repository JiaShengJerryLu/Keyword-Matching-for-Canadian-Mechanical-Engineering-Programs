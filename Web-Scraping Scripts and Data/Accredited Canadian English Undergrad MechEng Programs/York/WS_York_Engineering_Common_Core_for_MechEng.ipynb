{
 "cells": [
  {
   "cell_type": "code",
   "execution_count": 1,
   "metadata": {},
   "outputs": [],
   "source": [
    "from bs4 import BeautifulSoup as soup\n",
    "from urllib.request import urlopen as ureq\n",
    "from selenium import webdriver\n",
    "import time\n",
    "import re"
   ]
  },
  {
   "cell_type": "code",
   "execution_count": 2,
   "metadata": {},
   "outputs": [],
   "source": [
    "url = \"https://calendars.students.yorku.ca/2021-2022/programs/LE/mechanical-engineering\""
   ]
  },
  {
   "cell_type": "code",
   "execution_count": 3,
   "metadata": {},
   "outputs": [],
   "source": [
    "chrome_options = webdriver.ChromeOptions()\n",
    "chrome_options.add_argument('--ignore-certificate-errors')\n",
    "chrome_options.add_argument('--incognito')\n",
    "#chrome_options.add_argument('--headless')\n",
    "\n",
    "driver = webdriver.Chrome(\"C:\\\\Users\\\\jerry\\\\Downloads\\\\chromedriver\", options=chrome_options)"
   ]
  },
  {
   "cell_type": "markdown",
   "metadata": {},
   "source": [
    "# 1. Locate tab where the courses are listed and collect the course links"
   ]
  },
  {
   "cell_type": "code",
   "execution_count": 4,
   "metadata": {},
   "outputs": [],
   "source": [
    "driver.get(url)"
   ]
  },
  {
   "cell_type": "code",
   "execution_count": 5,
   "metadata": {},
   "outputs": [],
   "source": [
    "driver.find_element_by_link_text(\"Degree Requirements\").click()"
   ]
  },
  {
   "cell_type": "code",
   "execution_count": 6,
   "metadata": {},
   "outputs": [],
   "source": [
    "driver.find_element_by_link_text(\"Faculty-Wide Degree Requirements\").click()"
   ]
  },
  {
   "cell_type": "code",
   "execution_count": 7,
   "metadata": {},
   "outputs": [],
   "source": [
    "driver.find_element_by_id(\"ui-id-7\").click()"
   ]
  },
  {
   "cell_type": "code",
   "execution_count": 8,
   "metadata": {},
   "outputs": [],
   "source": [
    "driver.find_element_by_id(\"ui-id-7\").click()"
   ]
  },
  {
   "cell_type": "code",
   "execution_count": 9,
   "metadata": {},
   "outputs": [],
   "source": [
    "page_soup = soup(driver.page_source, 'lxml')"
   ]
  },
  {
   "cell_type": "code",
   "execution_count": 10,
   "metadata": {},
   "outputs": [
    {
     "data": {
      "text/plain": [
       "20"
      ]
     },
     "execution_count": 10,
     "metadata": {},
     "output_type": "execute_result"
    }
   ],
   "source": [
    "containers = page_soup.find(\"div\", {\"id\": \"specialized-honours-bachelor-of-engineering-specialized-honours-beng\"}).find(\"ul\").findAll(\"a\")\n",
    "len(containers)"
   ]
  },
  {
   "cell_type": "code",
   "execution_count": 11,
   "metadata": {},
   "outputs": [
    {
     "data": {
      "text/plain": [
       "['SC/CHEM 1100 4.00',\n",
       " 'LE/EECS 1011 3.00',\n",
       " 'LE/EECS 1021 3.00',\n",
       " 'LE/ENG 1101 4.00',\n",
       " 'LE/ENG 1102 4.00',\n",
       " 'LE/ENG 2001 3.00',\n",
       " 'LE/ENG 2003 3.00',\n",
       " 'LE/ENG 3000 3.00',\n",
       " 'LE/ENG 4000 6.00',\n",
       " 'EU/ENVS 2150 3.00',\n",
       " 'LE/ESSE 2210 3.00',\n",
       " 'SC/MATH 1013 3.00',\n",
       " 'SC/MATH 1014 3.00',\n",
       " 'SC/MATH 1025 3.00',\n",
       " 'SC/MATH 2015 3.00',\n",
       " 'SC/MATH 2930 3.00',\n",
       " 'SC/PHYS 1800 3.00',\n",
       " 'SC/PHYS 1801 3.00',\n",
       " 'LE/ESSE 1012 3.00']"
      ]
     },
     "execution_count": 11,
     "metadata": {},
     "output_type": "execute_result"
    }
   ],
   "source": [
    "link_texts = [container.text.strip() for container in containers if container.text != \"LE/EECS 1028 3.00\"] #this course does not apply to mecheng\n",
    "link_texts"
   ]
  },
  {
   "cell_type": "code",
   "execution_count": 12,
   "metadata": {},
   "outputs": [
    {
     "data": {
      "text/plain": [
       "19"
      ]
     },
     "execution_count": 12,
     "metadata": {},
     "output_type": "execute_result"
    }
   ],
   "source": [
    "len(link_texts)"
   ]
  },
  {
   "cell_type": "markdown",
   "metadata": {},
   "source": [
    "# 2. Test run - scrape the first course"
   ]
  },
  {
   "cell_type": "code",
   "execution_count": 13,
   "metadata": {},
   "outputs": [],
   "source": [
    "driver.find_element_by_link_text(link_texts[0]).click()"
   ]
  },
  {
   "cell_type": "code",
   "execution_count": 14,
   "metadata": {},
   "outputs": [],
   "source": [
    "page_soup = soup(driver.page_source, 'lxml')"
   ]
  },
  {
   "cell_type": "code",
   "execution_count": 15,
   "metadata": {},
   "outputs": [
    {
     "data": {
      "text/plain": [
       "'SC/CHEM 1100   4.00 \\xa0\\xa0Chemistry and Materials Science for Engineers'"
      ]
     },
     "execution_count": 15,
     "metadata": {},
     "output_type": "execute_result"
    }
   ],
   "source": [
    "course_title = page_soup.find(\"h1\").text.strip()\n",
    "course_title"
   ]
  },
  {
   "cell_type": "code",
   "execution_count": 16,
   "metadata": {},
   "outputs": [
    {
     "data": {
      "text/plain": [
       "'SC/CHEM 1100'"
      ]
     },
     "execution_count": 16,
     "metadata": {},
     "output_type": "execute_result"
    }
   ],
   "source": [
    "course_code = re.split(\"\\s+ [0-9\\.]+ \\s+\", course_title)[0]\n",
    "course_code"
   ]
  },
  {
   "cell_type": "code",
   "execution_count": 17,
   "metadata": {},
   "outputs": [
    {
     "data": {
      "text/plain": [
       "'Chemistry and Materials Science for Engineers'"
      ]
     },
     "execution_count": 17,
     "metadata": {},
     "output_type": "execute_result"
    }
   ],
   "source": [
    "course_name = re.split(\"\\s+ [0-9\\.]+ \\s+\", course_title)[1]\n",
    "course_name"
   ]
  },
  {
   "cell_type": "code",
   "execution_count": 18,
   "metadata": {},
   "outputs": [
    {
     "data": {
      "text/plain": [
       "'The course is designed for Engineering students interested in refreshing and expending their general chemistry knowledge while exploring the relationship between structure of matter, properties and processing. This course will focus mainly at covering important introductory concept to understand solution chemistry including reactivity, thermochemistry, structure and properties of materials. The course is divided in six sections. The first section covers an introduction to the topic of Materials Science and its impact on our daily lives as well as future trends and review key chemistry concepts required for this course. The second section will present the states of matter (gas, liquid and solid), their physical characteristics and the forces holding materials together (bonding and intermolecular forces). The third section will expend on the liquid phase and properties of solutions including equilibrium, solubility, pH and pKa. The fourth section will deal with thermochemistry and its first law with an emphasis on enthalpy as well as phase changes and phase diagrams. Section six will present an introduction to the properties of solids (electronic and mechanical) and criteria in the selection of materials will also be discussed. Section seven will present in more details structure-properties and processing of soft materials (natural and artificial polymer) in the context of the material covered in the other sections. Prerequisites: 12U chemistry or equivalent. Course credit exclusion: SC/CHEM 1000 3.00.'"
      ]
     },
     "execution_count": 18,
     "metadata": {},
     "output_type": "execute_result"
    }
   ],
   "source": [
    "course_desc = page_soup.find(\"p\", text=\"Course Description:\").findNextSibling().text.strip()\n",
    "course_desc"
   ]
  },
  {
   "cell_type": "code",
   "execution_count": 19,
   "metadata": {},
   "outputs": [],
   "source": [
    "driver.back()"
   ]
  },
  {
   "cell_type": "markdown",
   "metadata": {},
   "source": [
    "# 3. Test run successful. Implement automation script to scrape all courses"
   ]
  },
  {
   "cell_type": "code",
   "execution_count": 24,
   "metadata": {
    "scrolled": true
   },
   "outputs": [
    {
     "name": "stdout",
     "output_type": "stream",
     "text": [
      "Scraped  SC/CHEM 1100  Courses Scraped:  1\n",
      "Scraped  LE/EECS 1011  Courses Scraped:  2\n",
      "Scraped  LE/EECS 1021  Courses Scraped:  3\n",
      "Scraped  LE/ENG  1101  Courses Scraped:  4\n",
      "Scraped  LE/ENG  1102  Courses Scraped:  5\n",
      "Scraped  LE/ENG  2001  Courses Scraped:  6\n",
      "Scraped  LE/ENG  2003  Courses Scraped:  7\n",
      "Scraped  LE/ENG  3000  Courses Scraped:  8\n",
      "Scraped  LE/ENG  4000  Courses Scraped:  9\n",
      "Course info unavailable\n",
      "\n",
      "Scraped  LE/ESSE 2210  Courses Scraped:  10\n",
      "Scraped  SC/MATH 1013  Courses Scraped:  11\n",
      "Scraped  SC/MATH 1014  Courses Scraped:  12\n",
      "Scraped  SC/MATH 1025  Courses Scraped:  13\n",
      "Scraped  SC/MATH 2015  Courses Scraped:  14\n",
      "Scraped  SC/MATH 2930  Courses Scraped:  15\n",
      "Scraped  SC/PHYS 1800  Courses Scraped:  16\n",
      "Scraped  SC/PHYS 1801  Courses Scraped:  17\n",
      "Scraped  LE/ESSE 1012  Courses Scraped:  18\n",
      "Finished scraping 18 courses\n"
     ]
    }
   ],
   "source": [
    "from selenium.common.exceptions import NoSuchElementException\n",
    "\n",
    "course_codes = []\n",
    "course_names = []\n",
    "course_descs = []\n",
    "counter = 0\n",
    "\n",
    "driver.get(url)\n",
    "time.sleep(3)\n",
    "    \n",
    "for link_text in link_texts:\n",
    "    \n",
    "    driver.find_element_by_link_text(\"Degree Requirements\").click()\n",
    "    time.sleep(1)\n",
    "    driver.find_element_by_link_text(\"Faculty-Wide Degree Requirements\").click()\n",
    "    time.sleep(1)\n",
    "    driver.find_element_by_id(\"ui-id-7\").click()\n",
    "    time.sleep(1)\n",
    "    driver.find_element_by_id(\"ui-id-7\").click()\n",
    "    time.sleep(1)\n",
    "    try:\n",
    "        link = driver.find_element_by_link_text(link_text)\n",
    "    except NoSuchElementException:\n",
    "        print(\"no link for {}\".format(link_text))\n",
    "        continue\n",
    "    time.sleep(1)\n",
    "    link.click()    \n",
    "    time.sleep(3)\n",
    "    \n",
    "    #scrape course info\n",
    "    page_soup = soup(driver.page_source, 'lxml')\n",
    "    try:\n",
    "        course_title = page_soup.find(\"h1\").text.strip()\n",
    "    except AttributeError:\n",
    "        print(\"Course info unavailable\")\n",
    "        print()\n",
    "        driver.back()\n",
    "        time.sleep(3)\n",
    "        continue\n",
    "    course_code = re.split(\"   [0-9\\.]+\\s+\", course_title)[0].strip()\n",
    "    course_name = re.split(\"   [0-9\\.]+\\s+\", course_title)[1].strip()\n",
    "    course_desc = page_soup.find(\"p\", text=\"Course Description:\").findNextSibling().text.strip()\n",
    "    \n",
    "    course_codes.append(course_code)\n",
    "    course_names.append(course_name)\n",
    "    course_descs.append(course_desc)\n",
    "    \n",
    "    counter += 1\n",
    "    print(\"Scraped \", course_codes[-1], \" Courses Scraped: \", counter)    \n",
    "    \n",
    "    #go to course list page\n",
    "    driver.get(url)\n",
    "    time.sleep(3)\n",
    "        \n",
    "print(\"Finished scraping {} courses\".format(counter))\n"
   ]
  },
  {
   "cell_type": "markdown",
   "metadata": {},
   "source": [
    "# 4. Inspect, clean, and write to CSV"
   ]
  },
  {
   "cell_type": "code",
   "execution_count": 25,
   "metadata": {},
   "outputs": [
    {
     "data": {
      "text/plain": [
       "18"
      ]
     },
     "execution_count": 25,
     "metadata": {},
     "output_type": "execute_result"
    }
   ],
   "source": [
    "len(course_codes)"
   ]
  },
  {
   "cell_type": "code",
   "execution_count": 26,
   "metadata": {},
   "outputs": [
    {
     "data": {
      "text/plain": [
       "18"
      ]
     },
     "execution_count": 26,
     "metadata": {},
     "output_type": "execute_result"
    }
   ],
   "source": [
    "len(list(dict.fromkeys(course_codes)))"
   ]
  },
  {
   "cell_type": "code",
   "execution_count": 27,
   "metadata": {},
   "outputs": [
    {
     "data": {
      "text/plain": [
       "['SC/CHEM 1100',\n",
       " 'LE/EECS 1011',\n",
       " 'LE/EECS 1021',\n",
       " 'LE/ENG  1101',\n",
       " 'LE/ENG  1102',\n",
       " 'LE/ENG  2001',\n",
       " 'LE/ENG  2003',\n",
       " 'LE/ENG  3000',\n",
       " 'LE/ENG  4000',\n",
       " 'LE/ESSE 2210',\n",
       " 'SC/MATH 1013',\n",
       " 'SC/MATH 1014',\n",
       " 'SC/MATH 1025',\n",
       " 'SC/MATH 2015',\n",
       " 'SC/MATH 2930',\n",
       " 'SC/PHYS 1800',\n",
       " 'SC/PHYS 1801',\n",
       " 'LE/ESSE 1012']"
      ]
     },
     "execution_count": 27,
     "metadata": {},
     "output_type": "execute_result"
    }
   ],
   "source": [
    "course_codes"
   ]
  },
  {
   "cell_type": "code",
   "execution_count": 28,
   "metadata": {},
   "outputs": [
    {
     "data": {
      "text/plain": [
       "['Chemistry and Materials Science for Engineers',\n",
       " 'Computational Thinking through Mechatronics',\n",
       " 'Object Oriented Programming from Sensors to Actuators',\n",
       " 'Renaissance Engineer 1: Ethics, Communication & Problem Solving',\n",
       " 'Renaissance Engineer 2: Engineering Design Principles',\n",
       " 'Engineering Projects: Management, Economics and Safety',\n",
       " 'Effective Engineering Communication',\n",
       " 'Professional Engineering Practice',\n",
       " 'Engineering Project (Capstone)',\n",
       " 'Engineering and the Environment',\n",
       " 'Applied Calculus I',\n",
       " 'Applied Calculus II',\n",
       " 'Applied Linear Algebra',\n",
       " 'Applied Multivariate and Vector Calculus',\n",
       " 'Introductory Probability and Statistics',\n",
       " 'Engineering Mechanics',\n",
       " 'Electricity, Magnetism and Optics for Engineers',\n",
       " 'The Earth Environment']"
      ]
     },
     "execution_count": 28,
     "metadata": {},
     "output_type": "execute_result"
    }
   ],
   "source": [
    "course_names"
   ]
  },
  {
   "cell_type": "code",
   "execution_count": 29,
   "metadata": {
    "scrolled": true
   },
   "outputs": [
    {
     "data": {
      "text/plain": [
       "['The course is designed for Engineering students interested in refreshing and expending their general chemistry knowledge while exploring the relationship between structure of matter, properties and processing. This course will focus mainly at covering important introductory concept to understand solution chemistry including reactivity, thermochemistry, structure and properties of materials. The course is divided in six sections. The first section covers an introduction to the topic of Materials Science and its impact on our daily lives as well as future trends and review key chemistry concepts required for this course. The second section will present the states of matter (gas, liquid and solid), their physical characteristics and the forces holding materials together (bonding and intermolecular forces). The third section will expend on the liquid phase and properties of solutions including equilibrium, solubility, pH and pKa. The fourth section will deal with thermochemistry and its first law with an emphasis on enthalpy as well as phase changes and phase diagrams. Section six will present an introduction to the properties of solids (electronic and mechanical) and criteria in the selection of materials will also be discussed. Section seven will present in more details structure-properties and processing of soft materials (natural and artificial polymer) in the context of the material covered in the other sections. Prerequisites: 12U chemistry or equivalent. Course credit exclusion: SC/CHEM 1000 3.00.',\n",
       " 'The Objectives of 1011 are threefold: providing a first exposure to procedural programming, teaching students a set of soft computing skills (such as reasoning about algorithms, tracing programs, test-driven development), and demonstrating how computers are used in a variety of engineering disciplines. It uses problem-based pedagogy to expose the underlying concepts and an experiential laboratory to implement them. An integrated computing environment (such as MATLAB) is used so that students can pick up key programming concepts(such as variables and control flow) without being exposed to complex or abstract constructs. The problems are chosen with consultation with the various engineering disciplines in the Faculty with a view of exposing how computing is used in these disciplines. Course credit exclusions: LE/EECS1541 3.00.',\n",
       " '\"Introduces student to computational thinking - a process-based approach to problem solving. It uses a problem-based pedagogy to expose the underlying concepts and an experiential laboratory to implement them. The programming language is chosen so that it is widely used in a variety of applications, is object-oriented, and is of industrial strength (Java is an example of such a language). The problems are chosen in order to expose abstract programming concepts by immersing them in relevant and engaging applications. The experiential laboratory is based on sensors and actuators that connect to a computer. The problems are chosen with consultation with the various engineering disciplines in the Faculty with a view of exposing how computing is used in these disciplines. Prerequisites: LE/EECS1011 3.00. Course credit exclusions: LE/EECS 1022 3.00. Previously offered as: LE/EECS1020 3.00, LE/CSE 1020 3.00.',\n",
       " 'Who is an engineer and what are his/her ethical and academic integrity obligations; communications strategies for technical subjects in oral and written forms; dealing with ambiguity, uncertainties, and open ended problems in a technical context, problem definition strategies.',\n",
       " 'This course will cover: engineering design methodology; features and elements of good design with environment and human interface considerations; aesthetics in design and idea communication using graphics and technical drawings. Prerequisite: LE/ENG 1101 4.00.',\n",
       " 'Introduction to the management, economics and safety as they relate to engineering projects, including the following. Project management: work breakdown structures, Gantt charts, logic diagrams and change management. Engineering economics: time value of money, comparison methods, rates of return. Workplace safety. Group design projects. Prerequisites: LE/ENG 1101 4.00 or LE/ENG 1000 6.00.',\n",
       " 'Students learn to effectively employ communication strategies essential to a successful engineering career, including the social, rhetorical, ethical, and practical aspects of professional communications. The focus is on building individuals\\x92 confidence and judgment through communications assignments based on case studies. Prerequisite: LE/ENG 1101 4.00.',\n",
       " 'An introduction to the legal and ethical frameworks of the engineering profession, preparing students for the Professional Practice Examination required for certification as a professional engineer. Also covered are associated professional issues such as entrepreneurship, intellectual property and patents. Prerequisites: LE/ENG 2001 3.00. Course credit exclusions: LE/EECS 3000 3.00',\n",
       " 'The project will include significant elements of design and implementation. The format is intended to resemble engineering projects in practice, including specifications, background research, innovative solutions, analysis, testing and communication. 2 terms. Prerequisite(s): 21 3000-level science or engineering credits in the Engineering Program, exclusive of LE/ENG 3000 3.00. Prerequisite or corequisite: LE/ENG 3000 3.00. Course credit exclusions: CIVL4000 , ESSE4000.',\n",
       " 'This course surveys a variety of Canadian case studies in environmental sustainability from an engineering perspective. The goal of this course is to provide students with exposure to the social aspects of large infrastructure projects, including the environmental assessment and stakeholder consultation processes. Climate change mitigation and adaptation are strong themes of this course.',\n",
       " 'Introduction to the theory and applications of both differential and integral calculus. Limits. Derivatives of algebraic and trigonometric functions. Riemann sums, definite integrals and the Fundamental Theorem of Calculus. Logarithms and exponentials, Extreme value problems, Related rates, Areas and Volumes. Prerequisite: SC/MATH 1520 3.00, or 12U Calculus and Vectors (MCV4U) or equivalent. Course credit exclusions: SC/MATH 1300 3.00, SC/MATH 1505 6.00, SC/MATH 1530 3.00, SC/MATH 1550 6.00, GL/MATH/MODR 1930 3.00, AP/ECON 1530 3.00, SC/ISCI 1401 3.00 and SC/ISCI 1410 6.00.',\n",
       " 'Calculus in Polar Coordinates. Techniques of Integration. Indeterminate Forms. Improper Integrals. Sequences, infinite series and power series. Approximations. Introduction to ordinary differential equations. Prerequisite(s): One of SC/MATH 1013 3.00, SC/MATH 1300 3.00, GL/MATH 1901 3.00, or SC/ISCI 1401 3.00 ; for non-science students only, six credits from SC/MATH 1530 3.00 and SC/MATH 1540 3.00, SC/MATH 1550 6.00, AP/ECON 1530 3.00 and AP/ECON 1540 3.00. Course credit exclusions: SC/MATH 1310 3.00, SC/MATH 1505 6.00, GL/MATH/MODR 1940 3.00, SC/ISCI 1402 3.00, SC/ISCI 1410 6.00.',\n",
       " 'Topics include spherical and cylindrical coordinates in Euclidean 3-space, general matrix algebra, determinants, vector space concepts for Euclidean n-space (e.g. linear dependence and independence, basis, dimension, linear transformations etc.), an introduction to eigenvalues and eigenvectors. Prerequisites: 12U Advanced functions (MHF4U) or equivalent. Course credit exclusions: SC/MATH 1021 3.00, SC/MATH 2221 3.00, GL/MATH/MODR 2650 3.00.',\n",
       " 'Topics covered include partial derivatives; grad, div, curl and Laplacian operators; line and surface integrals; theorems of Gauss and Stokes; double and triple integrals in various coordinate systems; extrema and Taylor series for multivariate functions. Prerequisite: One of SC/MATH 1010 3.00, SC/MATH 1014 3.00, SC/MATH 1310 3.00; or SC/MATH 1505 6.00 plus permission of the course coordinator. Course credit exclusions: SC/MATH 2010 3.00, SC/MATH 2310 3.00, GL/MATH 2670 3.00, GL/MODR 2670 3.00, GL/MATH 3200 3.00.',\n",
       " 'This is an applied probability and statistics course for engineering students. The aim is to provide an application oriented introduction to probability and statistics. The examples will be from a wide selection of engineering disciplines. The probability component is about 30% of the lectures. About 40% of the time, the lectures and tutorials focus on solving practical statistical problems that emerge from engineering problems. Prerequisites: SC/MATH 1014 3.00 or equivalent; SC/MATH 1025 3.00 or equivalent; LE/EECS 1011 3.00 or equivalent. Course credit exclusions: SC/MATH 1131 3.00; SC/MATH 2560 3.00; SC/MATH 2570 3.00; SC/MATH 2565 3.00.',\n",
       " 'Survey of the fundamental concepts of statics and dynamics with an emphasis on engineering applications. This is a calculus-based course intended primarily for engineering students.\\nPrerequisites: 12U Physics or OAC Physics or SC/PHYS 1510 4.00. MHF4U Advanced Functions and MCV4U Calculus and Vectors, or 12U Advanced Functions and Introductory Calculus, or OAC Algebra and OAC Calculus. Corequisites: SC/MATH 1013 3.00 or SC/MATH 1300 3.00 or SC/MATH 1505 6.00. Course Credit Exclusions: SC/PHYS 1010 6.00, SC/PHYS 1410 6.00, SC/PHYS 1420 6.00; SC/ISCI 1310 6.00; SC/ISCI 1301 3.00.',\n",
       " 'A survey of physics in which fundamental concepts in electricity, magnetism and optics are emphasized through engineering applications. This is a calculus-based course intended primarily for engineering students. Prerequisite: SC/PHYS 1800 3.00 and SC/MATH 1013 3.00 or equivalent.  Corequisites: SC/MATH 1014 3.00 or SC/MATH 1310 3.00 or SC/MATH 1505 6.00. Course Credit Exclusions: SC/PHYS 1010 6.00, SC/PHYS 1410 6.00, SC/PHYS 1420 6.00; SC/ISCI 1310 6.00; SC/ISCI 1302 3.00.',\n",
       " 'Provides essential topics in Earth environment (Earth and oceanic science, atmospheric science, and geology) and explores the\\nrole played by global and local scale processes in shaping our planet. Concepts are described; the latest technology discussed, and links\\nbetween engineering disciplines are provided. The course lectures are complemented by hands-on laboratory and field experience.\\nPrerequisites: 12U calculus and vectors or 12U advanced functions, or SC/MATH 1515 3.00; 12U physics or SC/PHYS 1510 4.00.\\nCorequisites: LE/ENG 1101 4.00; LE/ENG 1102 4.00; SC/PHYS 1800 3.00, SC/PHYS 1801 3.00.']"
      ]
     },
     "execution_count": 29,
     "metadata": {},
     "output_type": "execute_result"
    }
   ],
   "source": [
    "course_descs"
   ]
  },
  {
   "cell_type": "code",
   "execution_count": 30,
   "metadata": {},
   "outputs": [],
   "source": [
    "course_descs = [desc.replace(\"\\n\", \" \") for desc in course_descs]"
   ]
  },
  {
   "cell_type": "code",
   "execution_count": 31,
   "metadata": {
    "scrolled": true
   },
   "outputs": [
    {
     "data": {
      "text/plain": [
       "['The course is designed for Engineering students interested in refreshing and expending their general chemistry knowledge while exploring the relationship between structure of matter, properties and processing. This course will focus mainly at covering important introductory concept to understand solution chemistry including reactivity, thermochemistry, structure and properties of materials. The course is divided in six sections. The first section covers an introduction to the topic of Materials Science and its impact on our daily lives as well as future trends and review key chemistry concepts required for this course. The second section will present the states of matter (gas, liquid and solid), their physical characteristics and the forces holding materials together (bonding and intermolecular forces). The third section will expend on the liquid phase and properties of solutions including equilibrium, solubility, pH and pKa. The fourth section will deal with thermochemistry and its first law with an emphasis on enthalpy as well as phase changes and phase diagrams. Section six will present an introduction to the properties of solids (electronic and mechanical) and criteria in the selection of materials will also be discussed. Section seven will present in more details structure-properties and processing of soft materials (natural and artificial polymer) in the context of the material covered in the other sections. Prerequisites: 12U chemistry or equivalent. Course credit exclusion: SC/CHEM 1000 3.00.',\n",
       " 'The Objectives of 1011 are threefold: providing a first exposure to procedural programming, teaching students a set of soft computing skills (such as reasoning about algorithms, tracing programs, test-driven development), and demonstrating how computers are used in a variety of engineering disciplines. It uses problem-based pedagogy to expose the underlying concepts and an experiential laboratory to implement them. An integrated computing environment (such as MATLAB) is used so that students can pick up key programming concepts(such as variables and control flow) without being exposed to complex or abstract constructs. The problems are chosen with consultation with the various engineering disciplines in the Faculty with a view of exposing how computing is used in these disciplines. Course credit exclusions: LE/EECS1541 3.00.',\n",
       " '\"Introduces student to computational thinking - a process-based approach to problem solving. It uses a problem-based pedagogy to expose the underlying concepts and an experiential laboratory to implement them. The programming language is chosen so that it is widely used in a variety of applications, is object-oriented, and is of industrial strength (Java is an example of such a language). The problems are chosen in order to expose abstract programming concepts by immersing them in relevant and engaging applications. The experiential laboratory is based on sensors and actuators that connect to a computer. The problems are chosen with consultation with the various engineering disciplines in the Faculty with a view of exposing how computing is used in these disciplines. Prerequisites: LE/EECS1011 3.00. Course credit exclusions: LE/EECS 1022 3.00. Previously offered as: LE/EECS1020 3.00, LE/CSE 1020 3.00.',\n",
       " 'Who is an engineer and what are his/her ethical and academic integrity obligations; communications strategies for technical subjects in oral and written forms; dealing with ambiguity, uncertainties, and open ended problems in a technical context, problem definition strategies.',\n",
       " 'This course will cover: engineering design methodology; features and elements of good design with environment and human interface considerations; aesthetics in design and idea communication using graphics and technical drawings. Prerequisite: LE/ENG 1101 4.00.',\n",
       " 'Introduction to the management, economics and safety as they relate to engineering projects, including the following. Project management: work breakdown structures, Gantt charts, logic diagrams and change management. Engineering economics: time value of money, comparison methods, rates of return. Workplace safety. Group design projects. Prerequisites: LE/ENG 1101 4.00 or LE/ENG 1000 6.00.',\n",
       " 'Students learn to effectively employ communication strategies essential to a successful engineering career, including the social, rhetorical, ethical, and practical aspects of professional communications. The focus is on building individuals\\x92 confidence and judgment through communications assignments based on case studies. Prerequisite: LE/ENG 1101 4.00.',\n",
       " 'An introduction to the legal and ethical frameworks of the engineering profession, preparing students for the Professional Practice Examination required for certification as a professional engineer. Also covered are associated professional issues such as entrepreneurship, intellectual property and patents. Prerequisites: LE/ENG 2001 3.00. Course credit exclusions: LE/EECS 3000 3.00',\n",
       " 'The project will include significant elements of design and implementation. The format is intended to resemble engineering projects in practice, including specifications, background research, innovative solutions, analysis, testing and communication. 2 terms. Prerequisite(s): 21 3000-level science or engineering credits in the Engineering Program, exclusive of LE/ENG 3000 3.00. Prerequisite or corequisite: LE/ENG 3000 3.00. Course credit exclusions: CIVL4000 , ESSE4000.',\n",
       " 'This course surveys a variety of Canadian case studies in environmental sustainability from an engineering perspective. The goal of this course is to provide students with exposure to the social aspects of large infrastructure projects, including the environmental assessment and stakeholder consultation processes. Climate change mitigation and adaptation are strong themes of this course.',\n",
       " 'Introduction to the theory and applications of both differential and integral calculus. Limits. Derivatives of algebraic and trigonometric functions. Riemann sums, definite integrals and the Fundamental Theorem of Calculus. Logarithms and exponentials, Extreme value problems, Related rates, Areas and Volumes. Prerequisite: SC/MATH 1520 3.00, or 12U Calculus and Vectors (MCV4U) or equivalent. Course credit exclusions: SC/MATH 1300 3.00, SC/MATH 1505 6.00, SC/MATH 1530 3.00, SC/MATH 1550 6.00, GL/MATH/MODR 1930 3.00, AP/ECON 1530 3.00, SC/ISCI 1401 3.00 and SC/ISCI 1410 6.00.',\n",
       " 'Calculus in Polar Coordinates. Techniques of Integration. Indeterminate Forms. Improper Integrals. Sequences, infinite series and power series. Approximations. Introduction to ordinary differential equations. Prerequisite(s): One of SC/MATH 1013 3.00, SC/MATH 1300 3.00, GL/MATH 1901 3.00, or SC/ISCI 1401 3.00 ; for non-science students only, six credits from SC/MATH 1530 3.00 and SC/MATH 1540 3.00, SC/MATH 1550 6.00, AP/ECON 1530 3.00 and AP/ECON 1540 3.00. Course credit exclusions: SC/MATH 1310 3.00, SC/MATH 1505 6.00, GL/MATH/MODR 1940 3.00, SC/ISCI 1402 3.00, SC/ISCI 1410 6.00.',\n",
       " 'Topics include spherical and cylindrical coordinates in Euclidean 3-space, general matrix algebra, determinants, vector space concepts for Euclidean n-space (e.g. linear dependence and independence, basis, dimension, linear transformations etc.), an introduction to eigenvalues and eigenvectors. Prerequisites: 12U Advanced functions (MHF4U) or equivalent. Course credit exclusions: SC/MATH 1021 3.00, SC/MATH 2221 3.00, GL/MATH/MODR 2650 3.00.',\n",
       " 'Topics covered include partial derivatives; grad, div, curl and Laplacian operators; line and surface integrals; theorems of Gauss and Stokes; double and triple integrals in various coordinate systems; extrema and Taylor series for multivariate functions. Prerequisite: One of SC/MATH 1010 3.00, SC/MATH 1014 3.00, SC/MATH 1310 3.00; or SC/MATH 1505 6.00 plus permission of the course coordinator. Course credit exclusions: SC/MATH 2010 3.00, SC/MATH 2310 3.00, GL/MATH 2670 3.00, GL/MODR 2670 3.00, GL/MATH 3200 3.00.',\n",
       " 'This is an applied probability and statistics course for engineering students. The aim is to provide an application oriented introduction to probability and statistics. The examples will be from a wide selection of engineering disciplines. The probability component is about 30% of the lectures. About 40% of the time, the lectures and tutorials focus on solving practical statistical problems that emerge from engineering problems. Prerequisites: SC/MATH 1014 3.00 or equivalent; SC/MATH 1025 3.00 or equivalent; LE/EECS 1011 3.00 or equivalent. Course credit exclusions: SC/MATH 1131 3.00; SC/MATH 2560 3.00; SC/MATH 2570 3.00; SC/MATH 2565 3.00.',\n",
       " 'Survey of the fundamental concepts of statics and dynamics with an emphasis on engineering applications. This is a calculus-based course intended primarily for engineering students. Prerequisites: 12U Physics or OAC Physics or SC/PHYS 1510 4.00. MHF4U Advanced Functions and MCV4U Calculus and Vectors, or 12U Advanced Functions and Introductory Calculus, or OAC Algebra and OAC Calculus. Corequisites: SC/MATH 1013 3.00 or SC/MATH 1300 3.00 or SC/MATH 1505 6.00. Course Credit Exclusions: SC/PHYS 1010 6.00, SC/PHYS 1410 6.00, SC/PHYS 1420 6.00; SC/ISCI 1310 6.00; SC/ISCI 1301 3.00.',\n",
       " 'A survey of physics in which fundamental concepts in electricity, magnetism and optics are emphasized through engineering applications. This is a calculus-based course intended primarily for engineering students. Prerequisite: SC/PHYS 1800 3.00 and SC/MATH 1013 3.00 or equivalent.  Corequisites: SC/MATH 1014 3.00 or SC/MATH 1310 3.00 or SC/MATH 1505 6.00. Course Credit Exclusions: SC/PHYS 1010 6.00, SC/PHYS 1410 6.00, SC/PHYS 1420 6.00; SC/ISCI 1310 6.00; SC/ISCI 1302 3.00.',\n",
       " 'Provides essential topics in Earth environment (Earth and oceanic science, atmospheric science, and geology) and explores the role played by global and local scale processes in shaping our planet. Concepts are described; the latest technology discussed, and links between engineering disciplines are provided. The course lectures are complemented by hands-on laboratory and field experience. Prerequisites: 12U calculus and vectors or 12U advanced functions, or SC/MATH 1515 3.00; 12U physics or SC/PHYS 1510 4.00. Corequisites: LE/ENG 1101 4.00; LE/ENG 1102 4.00; SC/PHYS 1800 3.00, SC/PHYS 1801 3.00.']"
      ]
     },
     "execution_count": 31,
     "metadata": {},
     "output_type": "execute_result"
    }
   ],
   "source": [
    "course_descs"
   ]
  },
  {
   "cell_type": "code",
   "execution_count": 32,
   "metadata": {},
   "outputs": [
    {
     "data": {
      "text/html": [
       "<div>\n",
       "<style scoped>\n",
       "    .dataframe tbody tr th:only-of-type {\n",
       "        vertical-align: middle;\n",
       "    }\n",
       "\n",
       "    .dataframe tbody tr th {\n",
       "        vertical-align: top;\n",
       "    }\n",
       "\n",
       "    .dataframe thead th {\n",
       "        text-align: right;\n",
       "    }\n",
       "</style>\n",
       "<table border=\"1\" class=\"dataframe\">\n",
       "  <thead>\n",
       "    <tr style=\"text-align: right;\">\n",
       "      <th></th>\n",
       "      <th>Course Number</th>\n",
       "      <th>Course Name</th>\n",
       "      <th>Course Description</th>\n",
       "    </tr>\n",
       "  </thead>\n",
       "  <tbody>\n",
       "    <tr>\n",
       "      <th>0</th>\n",
       "      <td>SC/CHEM 1100</td>\n",
       "      <td>Chemistry and Materials Science for Engineers</td>\n",
       "      <td>The course is designed for Engineering student...</td>\n",
       "    </tr>\n",
       "    <tr>\n",
       "      <th>1</th>\n",
       "      <td>LE/EECS 1011</td>\n",
       "      <td>Computational Thinking through Mechatronics</td>\n",
       "      <td>The Objectives of 1011 are threefold: providin...</td>\n",
       "    </tr>\n",
       "    <tr>\n",
       "      <th>2</th>\n",
       "      <td>LE/EECS 1021</td>\n",
       "      <td>Object Oriented Programming from Sensors to Ac...</td>\n",
       "      <td>\"Introduces student to computational thinking ...</td>\n",
       "    </tr>\n",
       "    <tr>\n",
       "      <th>3</th>\n",
       "      <td>LE/ENG  1101</td>\n",
       "      <td>Renaissance Engineer 1: Ethics, Communication ...</td>\n",
       "      <td>Who is an engineer and what are his/her ethica...</td>\n",
       "    </tr>\n",
       "    <tr>\n",
       "      <th>4</th>\n",
       "      <td>LE/ENG  1102</td>\n",
       "      <td>Renaissance Engineer 2: Engineering Design Pri...</td>\n",
       "      <td>This course will cover: engineering design met...</td>\n",
       "    </tr>\n",
       "    <tr>\n",
       "      <th>5</th>\n",
       "      <td>LE/ENG  2001</td>\n",
       "      <td>Engineering Projects: Management, Economics an...</td>\n",
       "      <td>Introduction to the management, economics and ...</td>\n",
       "    </tr>\n",
       "    <tr>\n",
       "      <th>6</th>\n",
       "      <td>LE/ENG  2003</td>\n",
       "      <td>Effective Engineering Communication</td>\n",
       "      <td>Students learn to effectively employ communica...</td>\n",
       "    </tr>\n",
       "    <tr>\n",
       "      <th>7</th>\n",
       "      <td>LE/ENG  3000</td>\n",
       "      <td>Professional Engineering Practice</td>\n",
       "      <td>An introduction to the legal and ethical frame...</td>\n",
       "    </tr>\n",
       "    <tr>\n",
       "      <th>8</th>\n",
       "      <td>LE/ENG  4000</td>\n",
       "      <td>Engineering Project (Capstone)</td>\n",
       "      <td>The project will include significant elements ...</td>\n",
       "    </tr>\n",
       "    <tr>\n",
       "      <th>9</th>\n",
       "      <td>LE/ESSE 2210</td>\n",
       "      <td>Engineering and the Environment</td>\n",
       "      <td>This course surveys a variety of Canadian case...</td>\n",
       "    </tr>\n",
       "    <tr>\n",
       "      <th>10</th>\n",
       "      <td>SC/MATH 1013</td>\n",
       "      <td>Applied Calculus I</td>\n",
       "      <td>Introduction to the theory and applications of...</td>\n",
       "    </tr>\n",
       "    <tr>\n",
       "      <th>11</th>\n",
       "      <td>SC/MATH 1014</td>\n",
       "      <td>Applied Calculus II</td>\n",
       "      <td>Calculus in Polar Coordinates. Techniques of I...</td>\n",
       "    </tr>\n",
       "    <tr>\n",
       "      <th>12</th>\n",
       "      <td>SC/MATH 1025</td>\n",
       "      <td>Applied Linear Algebra</td>\n",
       "      <td>Topics include spherical and cylindrical coord...</td>\n",
       "    </tr>\n",
       "    <tr>\n",
       "      <th>13</th>\n",
       "      <td>SC/MATH 2015</td>\n",
       "      <td>Applied Multivariate and Vector Calculus</td>\n",
       "      <td>Topics covered include partial derivatives; gr...</td>\n",
       "    </tr>\n",
       "    <tr>\n",
       "      <th>14</th>\n",
       "      <td>SC/MATH 2930</td>\n",
       "      <td>Introductory Probability and Statistics</td>\n",
       "      <td>This is an applied probability and statistics ...</td>\n",
       "    </tr>\n",
       "    <tr>\n",
       "      <th>15</th>\n",
       "      <td>SC/PHYS 1800</td>\n",
       "      <td>Engineering Mechanics</td>\n",
       "      <td>Survey of the fundamental concepts of statics ...</td>\n",
       "    </tr>\n",
       "    <tr>\n",
       "      <th>16</th>\n",
       "      <td>SC/PHYS 1801</td>\n",
       "      <td>Electricity, Magnetism and Optics for Engineers</td>\n",
       "      <td>A survey of physics in which fundamental conce...</td>\n",
       "    </tr>\n",
       "    <tr>\n",
       "      <th>17</th>\n",
       "      <td>LE/ESSE 1012</td>\n",
       "      <td>The Earth Environment</td>\n",
       "      <td>Provides essential topics in Earth environment...</td>\n",
       "    </tr>\n",
       "  </tbody>\n",
       "</table>\n",
       "</div>"
      ],
      "text/plain": [
       "   Course Number                                        Course Name  \\\n",
       "0   SC/CHEM 1100      Chemistry and Materials Science for Engineers   \n",
       "1   LE/EECS 1011        Computational Thinking through Mechatronics   \n",
       "2   LE/EECS 1021  Object Oriented Programming from Sensors to Ac...   \n",
       "3   LE/ENG  1101  Renaissance Engineer 1: Ethics, Communication ...   \n",
       "4   LE/ENG  1102  Renaissance Engineer 2: Engineering Design Pri...   \n",
       "5   LE/ENG  2001  Engineering Projects: Management, Economics an...   \n",
       "6   LE/ENG  2003                Effective Engineering Communication   \n",
       "7   LE/ENG  3000                  Professional Engineering Practice   \n",
       "8   LE/ENG  4000                     Engineering Project (Capstone)   \n",
       "9   LE/ESSE 2210                    Engineering and the Environment   \n",
       "10  SC/MATH 1013                                 Applied Calculus I   \n",
       "11  SC/MATH 1014                                Applied Calculus II   \n",
       "12  SC/MATH 1025                             Applied Linear Algebra   \n",
       "13  SC/MATH 2015           Applied Multivariate and Vector Calculus   \n",
       "14  SC/MATH 2930            Introductory Probability and Statistics   \n",
       "15  SC/PHYS 1800                              Engineering Mechanics   \n",
       "16  SC/PHYS 1801    Electricity, Magnetism and Optics for Engineers   \n",
       "17  LE/ESSE 1012                              The Earth Environment   \n",
       "\n",
       "                                   Course Description  \n",
       "0   The course is designed for Engineering student...  \n",
       "1   The Objectives of 1011 are threefold: providin...  \n",
       "2   \"Introduces student to computational thinking ...  \n",
       "3   Who is an engineer and what are his/her ethica...  \n",
       "4   This course will cover: engineering design met...  \n",
       "5   Introduction to the management, economics and ...  \n",
       "6   Students learn to effectively employ communica...  \n",
       "7   An introduction to the legal and ethical frame...  \n",
       "8   The project will include significant elements ...  \n",
       "9   This course surveys a variety of Canadian case...  \n",
       "10  Introduction to the theory and applications of...  \n",
       "11  Calculus in Polar Coordinates. Techniques of I...  \n",
       "12  Topics include spherical and cylindrical coord...  \n",
       "13  Topics covered include partial derivatives; gr...  \n",
       "14  This is an applied probability and statistics ...  \n",
       "15  Survey of the fundamental concepts of statics ...  \n",
       "16  A survey of physics in which fundamental conce...  \n",
       "17  Provides essential topics in Earth environment...  "
      ]
     },
     "execution_count": 32,
     "metadata": {},
     "output_type": "execute_result"
    }
   ],
   "source": [
    "import pandas as pd\n",
    "\n",
    "df = pd.DataFrame({\n",
    "    \"Course Number\": course_codes,\n",
    "    \"Course Name\": course_names,\n",
    "    \"Course Description\": course_descs\n",
    "})\n",
    "\n",
    "df"
   ]
  },
  {
   "cell_type": "code",
   "execution_count": 33,
   "metadata": {},
   "outputs": [],
   "source": [
    "df.to_csv('York_Engineering_Common_Core_for_MechEng_Courses.csv', index = False)"
   ]
  },
  {
   "cell_type": "code",
   "execution_count": 34,
   "metadata": {},
   "outputs": [],
   "source": [
    "driver.quit()"
   ]
  }
 ],
 "metadata": {
  "kernelspec": {
   "display_name": "Python 3",
   "language": "python",
   "name": "python3"
  },
  "language_info": {
   "codemirror_mode": {
    "name": "ipython",
    "version": 3
   },
   "file_extension": ".py",
   "mimetype": "text/x-python",
   "name": "python",
   "nbconvert_exporter": "python",
   "pygments_lexer": "ipython3",
   "version": "3.8.5"
  }
 },
 "nbformat": 4,
 "nbformat_minor": 4
}
