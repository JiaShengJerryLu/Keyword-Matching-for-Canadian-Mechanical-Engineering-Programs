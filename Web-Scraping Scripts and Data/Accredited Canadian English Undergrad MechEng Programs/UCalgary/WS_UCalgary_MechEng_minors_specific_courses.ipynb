{
 "cells": [
  {
   "cell_type": "code",
   "execution_count": 1,
   "metadata": {},
   "outputs": [],
   "source": [
    "from bs4 import BeautifulSoup as soup\n",
    "from selenium import webdriver\n",
    "import time\n",
    "import pandas"
   ]
  },
  {
   "cell_type": "code",
   "execution_count": 2,
   "metadata": {},
   "outputs": [
    {
     "data": {
      "text/plain": [
       "67"
      ]
     },
     "execution_count": 2,
     "metadata": {},
     "output_type": "execute_result"
    }
   ],
   "source": [
    "scraped_courses_df = pandas.read_csv(\"UCalgary_MechEng_Core_and_Elective_(Year2-4)_Courses.csv\")\n",
    "scraped_courses = list(scraped_courses_df[\"Course Number\"])\n",
    "len(scraped_courses)"
   ]
  },
  {
   "cell_type": "code",
   "execution_count": 3,
   "metadata": {
    "scrolled": true
   },
   "outputs": [
    {
     "data": {
      "text/plain": [
       "['Chemistry 379',\n",
       " 'Digital Engineering 319',\n",
       " 'Digital Engineering 407',\n",
       " 'Engineering 311',\n",
       " 'Engineering 349',\n",
       " 'Manufacturing Engineering 417',\n",
       " 'Mechanical Engineering 101',\n",
       " 'Mechanical Engineering 317',\n",
       " 'Mechanical Engineering 337',\n",
       " 'Mechanical Engineering 339',\n",
       " 'Mechanical Engineering 341',\n",
       " 'Mechanical Engineering 421',\n",
       " 'Mechanical Engineering 461',\n",
       " 'Mechanical Engineering 471',\n",
       " 'Mechanical Engineering 473',\n",
       " 'Mechanical Engineering 479',\n",
       " 'Mechanical Engineering 485',\n",
       " 'Mechanical Engineering 493',\n",
       " 'Mechanical Engineering 495',\n",
       " 'Mechanical Engineering 585',\n",
       " 'Mechanical Engineering 599',\n",
       " 'Engineering 501',\n",
       " 'Engineering 502',\n",
       " 'Mechanical Engineering 502',\n",
       " 'Engineering 503',\n",
       " 'Engineering 504',\n",
       " 'Mechanical Engineering 501',\n",
       " 'Mathematics 375',\n",
       " 'Physics 365',\n",
       " 'Physics 369',\n",
       " 'Biomedical Engineering 509',\n",
       " 'Biomedical Engineering 515',\n",
       " 'Biomedical Engineering 523',\n",
       " 'Biomedical Engineering 525',\n",
       " 'Energy and Environment, Engineering 575',\n",
       " 'Engineering 515',\n",
       " 'Mechanical Engineering 505',\n",
       " 'Mechanical Engineering 519',\n",
       " 'Mechanical Engineering 521',\n",
       " 'Mechanical Engineering 547',\n",
       " 'Mechanical Engineering 561',\n",
       " 'Petroleum Engineering 561',\n",
       " 'Mechanical Engineering 570',\n",
       " 'Mechanical Engineering 571',\n",
       " 'Mechanical Engineering 572',\n",
       " 'Mechanical Engineering 573',\n",
       " 'Mechanical Engineering 574',\n",
       " 'Mechanical Engineering 583',\n",
       " 'Mechanical Engineering 587',\n",
       " 'Mechanical Engineering 595',\n",
       " 'Mechanical Engineering 597',\n",
       " 'Manufacturing Engineering 501',\n",
       " 'Manufacturing Engineering 503',\n",
       " 'Manufacturing Engineering 509',\n",
       " 'Manufacturing Engineering 514',\n",
       " 'Manufacturing Engineering 517',\n",
       " 'Manufacturing Engineering 527',\n",
       " 'Manufacturing Engineering 533',\n",
       " 'Petroleum Engineering 521',\n",
       " 'Petroleum Engineering 555',\n",
       " 'Petroleum Engineering 563',\n",
       " 'Engineering 209',\n",
       " 'Economics 209',\n",
       " 'Engineering 481',\n",
       " 'Engineering 213',\n",
       " 'Communication and Media Studies 363',\n",
       " 'Engineering 513']"
      ]
     },
     "execution_count": 3,
     "metadata": {},
     "output_type": "execute_result"
    }
   ],
   "source": [
    "scraped_courses"
   ]
  },
  {
   "cell_type": "code",
   "execution_count": 4,
   "metadata": {},
   "outputs": [],
   "source": [
    "url = \"https://ucalgary.ca/pubs/calendar/current/en-4-8.html\""
   ]
  },
  {
   "cell_type": "code",
   "execution_count": 5,
   "metadata": {},
   "outputs": [],
   "source": [
    "chrome_options = webdriver.ChromeOptions()\n",
    "chrome_options.add_argument('--ignore-certificate-errors')\n",
    "chrome_options.add_argument('--incognito')\n",
    "chrome_options.add_argument('--headless')\n",
    "\n",
    "driver = webdriver.Chrome(\"C:\\\\Users\\\\jerry\\\\Downloads\\\\chromedriver\", options=chrome_options)"
   ]
  },
  {
   "cell_type": "markdown",
   "metadata": {},
   "source": [
    "# Aerospace minor"
   ]
  },
  {
   "cell_type": "markdown",
   "metadata": {},
   "source": [
    "## 1. Collect core and elective course link texts for webdriver to click on"
   ]
  },
  {
   "cell_type": "code",
   "execution_count": 25,
   "metadata": {},
   "outputs": [],
   "source": [
    "driver.get(url)"
   ]
  },
  {
   "cell_type": "code",
   "execution_count": 26,
   "metadata": {},
   "outputs": [],
   "source": [
    "page_soup = soup(driver.page_source, 'lxml')"
   ]
  },
  {
   "cell_type": "code",
   "execution_count": 27,
   "metadata": {},
   "outputs": [],
   "source": [
    "aerospace_core_container = page_soup.find(\"span\", {\"id\": \"ctl00_ctl00_pageContent_ctl02_ctl02_cnBody\"}).find(\"ul\")"
   ]
  },
  {
   "cell_type": "code",
   "execution_count": 28,
   "metadata": {},
   "outputs": [
    {
     "data": {
      "text/plain": [
       "['Aerospace Engineering 410',\n",
       " '411',\n",
       " 'Electrical Engineering 301',\n",
       " 'Engineering 501',\n",
       " '502',\n",
       " 'Geomatics Engineering 333',\n",
       " 'Aerospace Engineering Technical Electives ']"
      ]
     },
     "execution_count": 28,
     "metadata": {},
     "output_type": "execute_result"
    }
   ],
   "source": [
    "core_link_texts = aerospace_core_container.findAll(\"a\", {\"class\": \"link-text\"})\n",
    "core_link_texts = [link_text.text for link_text in core_link_texts]\n",
    "core_link_texts"
   ]
  },
  {
   "cell_type": "code",
   "execution_count": 29,
   "metadata": {},
   "outputs": [
    {
     "data": {
      "text/plain": [
       "['Aerospace Engineering 410',\n",
       " '411',\n",
       " 'Electrical Engineering 301',\n",
       " 'Engineering 501',\n",
       " '502',\n",
       " 'Geomatics Engineering 333']"
      ]
     },
     "execution_count": 29,
     "metadata": {},
     "output_type": "execute_result"
    }
   ],
   "source": [
    "import re\n",
    "core_link_texts = [link_text for link_text in core_link_texts if bool(re.match(\"[A-Za-z, ]*[0-9]{3}\", link_text))]\n",
    "core_link_texts"
   ]
  },
  {
   "cell_type": "code",
   "execution_count": 30,
   "metadata": {},
   "outputs": [],
   "source": [
    "driver.get(\"https://ucalgary.ca/pubs/calendar/current/en-4-14.html\")"
   ]
  },
  {
   "cell_type": "code",
   "execution_count": 31,
   "metadata": {},
   "outputs": [],
   "source": [
    "page_soup = soup(driver.page_source, 'lxml')"
   ]
  },
  {
   "cell_type": "code",
   "execution_count": 32,
   "metadata": {},
   "outputs": [],
   "source": [
    "aero_electives_container = page_soup.find(\"span\", {\"id\": \"ctl00_ctl00_pageContent_ctl02_ctl02_cnBody\"}).find(\"ul\")"
   ]
  },
  {
   "cell_type": "code",
   "execution_count": 33,
   "metadata": {
    "scrolled": true
   },
   "outputs": [
    {
     "data": {
      "text/plain": [
       "['Computer Engineering 511',\n",
       " 'Electrical Engineering 519',\n",
       " '503',\n",
       " '541',\n",
       " '569',\n",
       " '574',\n",
       " 'Software Engineering 401',\n",
       " '550',\n",
       " 'Software Engineering for Engineers 544',\n",
       " 'Electrical Engineering 441',\n",
       " '519',\n",
       " 'Geomatics Engineering 585',\n",
       " '589',\n",
       " '615',\n",
       " '623',\n",
       " '625',\n",
       " 'Software Engineering 401',\n",
       " 'Mechanical Engineering 570',\n",
       " '572',\n",
       " '574',\n",
       " '595',\n",
       " '597',\n",
       " 'Software Engineering 401',\n",
       " 'Mechanical Engineering 521',\n",
       " '547',\n",
       " '571',\n",
       " '573',\n",
       " 'Software Engineering 401']"
      ]
     },
     "execution_count": 33,
     "metadata": {},
     "output_type": "execute_result"
    }
   ],
   "source": [
    "elec_link_texts = aero_electives_container.findAll(\"a\", {\"class\": \"link-text\"})\n",
    "elec_link_texts = [link_text.text for link_text in elec_link_texts]\n",
    "elec_link_texts"
   ]
  },
  {
   "cell_type": "code",
   "execution_count": 34,
   "metadata": {
    "scrolled": true
   },
   "outputs": [
    {
     "data": {
      "text/plain": [
       "['Computer Engineering 511',\n",
       " 'Electrical Engineering 519',\n",
       " '503',\n",
       " '541',\n",
       " '569',\n",
       " '574',\n",
       " 'Software Engineering 401',\n",
       " '550',\n",
       " 'Software Engineering for Engineers 544',\n",
       " 'Electrical Engineering 441',\n",
       " '519',\n",
       " 'Geomatics Engineering 585',\n",
       " '589',\n",
       " '615',\n",
       " '623',\n",
       " '625',\n",
       " 'Software Engineering 401',\n",
       " 'Mechanical Engineering 570',\n",
       " '572',\n",
       " '574',\n",
       " '595',\n",
       " '597',\n",
       " 'Software Engineering 401',\n",
       " 'Mechanical Engineering 521',\n",
       " '547',\n",
       " '571',\n",
       " '573',\n",
       " 'Software Engineering 401']"
      ]
     },
     "execution_count": 34,
     "metadata": {},
     "output_type": "execute_result"
    }
   ],
   "source": [
    "elec_link_texts = [link_text for link_text in elec_link_texts if bool(re.match(\"[A-Za-z, ]*[0-9]{3}\", link_text))]\n",
    "elec_link_texts"
   ]
  },
  {
   "cell_type": "markdown",
   "metadata": {},
   "source": [
    "## 2. Scrape core courses"
   ]
  },
  {
   "cell_type": "code",
   "execution_count": 37,
   "metadata": {},
   "outputs": [],
   "source": [
    "link_texts = core_link_texts"
   ]
  },
  {
   "cell_type": "code",
   "execution_count": 39,
   "metadata": {},
   "outputs": [
    {
     "name": "stdout",
     "output_type": "stream",
     "text": [
      "Scraped  Aerospace Engineering 410\n",
      "Scraped  Aerospace Engineering 411\n",
      "Scraped  Software Engineering for Engineers 411\n",
      "Scraped  Electrical Engineering 301\n",
      "Scraped  Engineering 501\n",
      "Scraped  Engineering 502\n",
      "Scraped  Mechanical Engineering 502\n",
      "Scraped  Geomatics Engineering 333\n",
      "Finished scraping 8 courses\n"
     ]
    }
   ],
   "source": [
    "from selenium.common.exceptions import NoSuchElementException\n",
    "from selenium.common.exceptions import StaleElementReferenceException\n",
    "\n",
    "core_course_codes = []\n",
    "core_course_names = []\n",
    "core_course_descs = []\n",
    "counter = 0\n",
    "\n",
    "visited_ids = [] #to keep track of which link has been clicked and avoid clicking on links with the same course code\n",
    "#ex. multiple links in the page has text \"502\" - mech 502 and eng 502\n",
    "\n",
    "driver.get(\"https://ucalgary.ca/pubs/calendar/current/en-4-8.html\")\n",
    "time.sleep(3)\n",
    "    \n",
    "for link_text in link_texts:\n",
    "    #go to course page\n",
    "    try:\n",
    "        links = driver.find_elements_by_link_text(link_text)\n",
    "    except NoSuchElementException:\n",
    "        print(\"no link for {}\".format(link_text))\n",
    "        continue\n",
    "    time.sleep(2)\n",
    "    \n",
    "    for i in range(len(links)):\n",
    "        \n",
    "        link = driver.find_elements_by_link_text(link_text)[i]\n",
    "        link.click()\n",
    "        time.sleep(2)\n",
    "    \n",
    "        #scrape course info\n",
    "        page_soup = soup(driver.page_source, 'lxml')\n",
    "        #get the id of the table containing the specific course information\n",
    "        starting_index = driver.current_url.index(\"#\")+1\n",
    "        table_id = driver.current_url[starting_index:]\n",
    "        \n",
    "        #check if table id has already been visited\n",
    "        if table_id in visited_ids:\n",
    "            driver.get(\"https://ucalgary.ca/pubs/calendar/current/en-4-8.html\")\n",
    "            time.sleep(2)\n",
    "            continue\n",
    "        \n",
    "        visited_ids.append(table_id)\n",
    "        \n",
    "        #locate the container/table using the id\n",
    "        container = page_soup.find(\"a\", {\"name\": table_id})\n",
    "        container = container.parent\n",
    "        \n",
    "        course_info = container.findAll(\"span\", {\"class\": \"course-code\"})\n",
    "        core_course_codes.append(course_info[0].text.strip() + \" \" + course_info[1].text.strip())\n",
    "        core_course_names.append(course_info[2].text.strip())\n",
    "        core_course_descs.append(container.find(\"span\", {\"class\": \"course-desc\"}).text)\n",
    "        \n",
    "        print(\"Scraped \", core_course_codes[-1])\n",
    "        counter += 1\n",
    "        \n",
    "        #go to course list page\n",
    "        driver.get(\"https://ucalgary.ca/pubs/calendar/current/en-4-8.html\")\n",
    "        time.sleep(2)\n",
    "        \n",
    "print(\"Finished scraping {} courses\".format(counter))"
   ]
  },
  {
   "cell_type": "markdown",
   "metadata": {},
   "source": [
    "## 3. Clean and inspect"
   ]
  },
  {
   "cell_type": "code",
   "execution_count": 40,
   "metadata": {},
   "outputs": [],
   "source": [
    "false_courses = [\"Software Engineering for Engineers 411\", \"Mechanical Engineering 502\"]\n",
    "core_course_codes_final = []\n",
    "core_course_names_final = []\n",
    "core_course_descs_final = []\n",
    "\n",
    "for i in range(len(core_course_codes)):\n",
    "    if core_course_codes[i] not in false_courses:\n",
    "        core_course_codes_final.append(core_course_codes[i])\n",
    "        core_course_names_final.append(core_course_names[i])\n",
    "        core_course_descs_final.append(core_course_descs[i])"
   ]
  },
  {
   "cell_type": "code",
   "execution_count": 41,
   "metadata": {},
   "outputs": [
    {
     "data": {
      "text/plain": [
       "['Aerospace Engineering 410',\n",
       " 'Aerospace Engineering 411',\n",
       " 'Electrical Engineering 301',\n",
       " 'Engineering 501',\n",
       " 'Engineering 502',\n",
       " 'Geomatics Engineering 333']"
      ]
     },
     "execution_count": 41,
     "metadata": {},
     "output_type": "execute_result"
    }
   ],
   "source": [
    "core_course_codes_final"
   ]
  },
  {
   "cell_type": "code",
   "execution_count": 42,
   "metadata": {},
   "outputs": [
    {
     "data": {
      "text/plain": [
       "['Aerospace Analysis and Design',\n",
       " 'Avionics and System Design',\n",
       " 'Instrumentation, Sensors and Interfacing',\n",
       " 'Senior Capstone Design Project I',\n",
       " 'Senior Capstone Design Project II',\n",
       " 'Computing for Geomatics Engineers']"
      ]
     },
     "execution_count": 42,
     "metadata": {},
     "output_type": "execute_result"
    }
   ],
   "source": [
    "core_course_names_final"
   ]
  },
  {
   "cell_type": "code",
   "execution_count": 43,
   "metadata": {
    "scrolled": true
   },
   "outputs": [
    {
     "data": {
      "text/plain": [
       "['Basics of aircraft performance. Topics include: equations of motion; forms of drag; thrust and power; aircraft configuration; weight estimates; and sizing. Teams will design, build and fly a remotely piloted aircraft designed to achieve a certain mission requirement. Students will present their designs with formal design reports and flight demonstrations. ',\n",
       " 'Introduction to avionics (aviation electronics) in modern aerospace vehicle systems. Impact on vehicle design and performance. Topics include: basic concepts of communication, navigation and surveillance (CNS); radio navigation systems; inertial navigation systems; principles of radar systems; and major communication networks. Students will attain a broad understanding of flight instrumentation, computer control of aircraft, flight control algorithms and system-level analysis. Issues of human-computer interaction will also be discussed. ',\n",
       " 'An introduction to essential elements of instrumentation and sensing technology. Topics include embedded system programming, basic inputs such as sensors, switches, and keyboards; basic outputs such as motors, relays, LEDs, displays, and speakers; associated circuitry for inputs and outputs; the basics of communications between devices; and power supplies such as linear, switching, and batteries. Topics will be reinforced through weekly hands-on labs. ',\n",
       " 'A team-based design course in which students apply the knowledge and skills acquired in earlier courses while refining their skills in teamwork and project management. Students work towards innovative, solutions to industry-sponsored design projects, and engage in individual critical reflection on their course activities, team performance, and on their growth as an engineering designer within their undergraduate program. ',\n",
       " 'A continuation of the capstone design project, where student teams build on their design work in Part I.',\n",
       " 'Review of procedural programming and introduction to object-based programming using high level compiled and interpreted languages. Binary and ASCII File I/O, use of function libraries and class libraries. Construction of simple classes. Inheritance and polymorphism. Programming for Geomatics Engineering applications. Visualization and data representation.']"
      ]
     },
     "execution_count": 43,
     "metadata": {},
     "output_type": "execute_result"
    }
   ],
   "source": [
    "core_course_descs_final"
   ]
  },
  {
   "cell_type": "markdown",
   "metadata": {},
   "source": [
    "## 4. Scrape electives courses"
   ]
  },
  {
   "cell_type": "code",
   "execution_count": 45,
   "metadata": {},
   "outputs": [],
   "source": [
    "link_texts = elec_link_texts"
   ]
  },
  {
   "cell_type": "code",
   "execution_count": 62,
   "metadata": {
    "scrolled": true
   },
   "outputs": [
    {
     "name": "stdout",
     "output_type": "stream",
     "text": [
      "Scraped  Computer Engineering 511\n",
      "Scraped  Electrical Engineering 519\n",
      "Scraped  Electrical Engineering 503\n",
      "503 incorrect subject\n",
      "Scraped  Electrical Engineering 541\n",
      "Scraped  Electrical Engineering 569\n",
      "Scraped  Electrical Engineering 574\n",
      "574 incorrect subject\n",
      "Scraped  Software Engineering 401\n",
      "Software Engineering 401 already scraped\n",
      "Software Engineering 401 already scraped\n",
      "Software Engineering 401 already scraped\n",
      "Scraped  Software Engineering 550\n",
      "Scraped  Software Engineering for Engineers 544\n",
      "Scraped  Electrical Engineering 441\n",
      "519 already scraped\n",
      "519 incorrect subject\n",
      "519 incorrect subject\n",
      "Scraped  Geomatics Engineering 585\n",
      "Scraped  Geomatics Engineering 589\n",
      "Scraped  Geomatics Engineering 615\n",
      "Scraped  Geomatics Engineering 623\n",
      "Scraped  Geomatics Engineering 625\n",
      "Software Engineering 401 already scraped\n",
      "Software Engineering 401 already scraped\n",
      "Software Engineering 401 already scraped\n",
      "Software Engineering 401 already scraped\n",
      "Scraped  Mechanical Engineering 570\n",
      "Scraped  Mechanical Engineering 572\n",
      "574 already scraped\n",
      "Scraped  Mechanical Engineering 574\n",
      "Scraped  Mechanical Engineering 595\n",
      "595 already scraped\n",
      "Scraped  Mechanical Engineering 597\n",
      "597 incorrect subject\n",
      "597 already scraped\n",
      "Software Engineering 401 already scraped\n",
      "Software Engineering 401 already scraped\n",
      "Software Engineering 401 already scraped\n",
      "Software Engineering 401 already scraped\n",
      "Scraped  Mechanical Engineering 521\n",
      "Scraped  Mechanical Engineering 547\n",
      "Scraped  Mechanical Engineering 571\n",
      "571 incorrect subject\n",
      "Scraped  Mechanical Engineering 573\n",
      "573 incorrect subject\n",
      "573 incorrect subject\n",
      "573 incorrect subject\n",
      "Software Engineering 401 already scraped\n",
      "Software Engineering 401 already scraped\n",
      "Software Engineering 401 already scraped\n",
      "Software Engineering 401 already scraped\n",
      "Finished scraping 24 courses\n"
     ]
    }
   ],
   "source": [
    "from selenium.common.exceptions import NoSuchElementException\n",
    "from selenium.common.exceptions import StaleElementReferenceException\n",
    "\n",
    "elec_course_codes = []\n",
    "elec_course_names = []\n",
    "elec_course_descs = []\n",
    "counter = 0\n",
    "\n",
    "visited_ids = [] #to keep track of which link has been clicked and avoid clicking on links with the same course code\n",
    "#ex. multiple links in the page has text \"502\" - mech 502 and eng 502\n",
    "\n",
    "driver.get(\"https://ucalgary.ca/pubs/calendar/current/en-4-14.html#44840\")\n",
    "time.sleep(3)\n",
    "    \n",
    "for link_text in link_texts:\n",
    "    #go to course page\n",
    "    try:\n",
    "        links = driver.find_elements_by_link_text(link_text)\n",
    "    except NoSuchElementException:\n",
    "        print(\"no link for {}\".format(link_text))\n",
    "        continue\n",
    "    time.sleep(2)\n",
    "    \n",
    "    for i in range(len(links)):\n",
    "        \n",
    "        link = driver.find_elements_by_link_text(link_text)[i]\n",
    "        link.click()\n",
    "        time.sleep(3)\n",
    "    \n",
    "        #scrape course info\n",
    "        page_soup = soup(driver.page_source, 'lxml')\n",
    "        #get the id of the table containing the specific course information\n",
    "        starting_index = driver.current_url.index(\"#\")+1\n",
    "        table_id = driver.current_url[starting_index:]\n",
    "        \n",
    "        #check if table id has already been visited\n",
    "        if table_id in visited_ids:\n",
    "            driver.get(\"https://ucalgary.ca/pubs/calendar/current/en-4-14.html#44840\")\n",
    "            time.sleep(2)\n",
    "            print(link_text, \"already scraped\")\n",
    "            continue\n",
    "        \n",
    "        #locate the container/table using the id\n",
    "        container = page_soup.find(\"a\", {\"name\": table_id})\n",
    "        container = container.parent\n",
    "        course_info = container.findAll(\"span\", {\"class\": \"course-code\"})\n",
    "        \n",
    "        #check if this course belongs is of the correct subject\n",
    "        if bool(re.match(\"[0-9]{3}\", link_text)) and course_info[0].text.strip() not in elec_course_codes[-1]:\n",
    "            driver.get(\"https://ucalgary.ca/pubs/calendar/current/en-4-14.html#44840\")\n",
    "            time.sleep(2)\n",
    "            print(link_text, \"incorrect subject\")\n",
    "            continue\n",
    "            \n",
    "        visited_ids.append(table_id)\n",
    "        \n",
    "        elec_course_codes.append(course_info[0].text.strip() + \" \" + course_info[1].text.strip())\n",
    "        elec_course_names.append(course_info[2].text.strip())\n",
    "        elec_course_descs.append(container.find(\"span\", {\"class\": \"course-desc\"}).text)\n",
    "        \n",
    "        print(\"Scraped \", elec_course_codes[-1])\n",
    "        counter += 1\n",
    "        \n",
    "        #go to course list page\n",
    "        driver.get(\"https://ucalgary.ca/pubs/calendar/current/en-4-14.html#44840\")\n",
    "        time.sleep(3)\n",
    "        \n",
    "print(\"Finished scraping {} courses\".format(counter))"
   ]
  },
  {
   "cell_type": "code",
   "execution_count": 63,
   "metadata": {
    "scrolled": true
   },
   "outputs": [
    {
     "data": {
      "text/plain": [
       "['Computer Engineering 511',\n",
       " 'Electrical Engineering 519',\n",
       " 'Electrical Engineering 503',\n",
       " 'Electrical Engineering 541',\n",
       " 'Electrical Engineering 569',\n",
       " 'Electrical Engineering 574',\n",
       " 'Software Engineering 401',\n",
       " 'Software Engineering 550',\n",
       " 'Software Engineering for Engineers 544',\n",
       " 'Electrical Engineering 441',\n",
       " 'Geomatics Engineering 585',\n",
       " 'Geomatics Engineering 589',\n",
       " 'Geomatics Engineering 615',\n",
       " 'Geomatics Engineering 623',\n",
       " 'Geomatics Engineering 625',\n",
       " 'Mechanical Engineering 570',\n",
       " 'Mechanical Engineering 572',\n",
       " 'Mechanical Engineering 574',\n",
       " 'Mechanical Engineering 595',\n",
       " 'Mechanical Engineering 597',\n",
       " 'Mechanical Engineering 521',\n",
       " 'Mechanical Engineering 547',\n",
       " 'Mechanical Engineering 571',\n",
       " 'Mechanical Engineering 573']"
      ]
     },
     "execution_count": 63,
     "metadata": {},
     "output_type": "execute_result"
    }
   ],
   "source": [
    "elec_course_codes"
   ]
  },
  {
   "cell_type": "code",
   "execution_count": 64,
   "metadata": {
    "scrolled": true
   },
   "outputs": [
    {
     "data": {
      "text/plain": [
       "['Embedded System Interfacing',\n",
       " 'Special Topics in Electrical Engineering',\n",
       " 'Computer Vision',\n",
       " 'Control Systems II',\n",
       " 'Electronic Systems and Applications',\n",
       " 'Microwave Engineering',\n",
       " 'Software Architecture',\n",
       " 'Engineering Large Scale Analytics Systems',\n",
       " 'Data Science for Software Engineers',\n",
       " 'Control Systems I',\n",
       " 'Wireless Location',\n",
       " '3D Visual Perception',\n",
       " 'Advanced Physical Geodesy',\n",
       " 'Inertial Surveying and INS/GPS Integration',\n",
       " 'Advanced GNSS Theory and Applications',\n",
       " 'Aerodynamics',\n",
       " 'Computational Fluid Dynamics',\n",
       " 'Propulsion',\n",
       " 'Gas Dynamics',\n",
       " 'Turbomachinery',\n",
       " 'Materials II',\n",
       " 'Finite Element Method',\n",
       " 'Aeroelasticity',\n",
       " 'Design and Manufacturing of Lightweight Structures']"
      ]
     },
     "execution_count": 64,
     "metadata": {},
     "output_type": "execute_result"
    }
   ],
   "source": [
    "elec_course_names"
   ]
  },
  {
   "cell_type": "code",
   "execution_count": 65,
   "metadata": {
    "scrolled": true
   },
   "outputs": [
    {
     "data": {
      "text/plain": [
       "['Review of computer architecture; microcontrollers and their instruction sets; interfacing using common input/output devices, debugging and other software engineering practices, strategies for interrupt handling and exception handling; Interfacing using high level and assembly languages; software and hardware optimizations to achieve real time operations; real time operating systems; Embedded real-time applications.',\n",
       " 'Current topics in electrical engineering.',\n",
       " 'Introduction to the fundamentals of image processing and computer vision. Image/video acquisition and raw data matrix manipulation; image processing operations and compression methods; object detection, isolation, and classification; 3D tracking and ego-motion with projective transformations.',\n",
       " 'Introduction to sampled-data control systems, discretization of analog systems, discrete-time signals and systems, causality, time-invariance, z-transforms, stability, asymptotic tracking, state-space models, controllability and observability, pole assignment, deadbeat control, state observers, observer-based control design, optimal control.',\n",
       " '\\nIntroduction to electronic systems; the four elements of electronic monitoring systems; system modelling; sensors; amplifiers; noise characterization; power supplies; frequency conditioning; active filters; analog to digital conversion and anti-aliasing requirements; multichannel data acquisition; real-time conditioning of signals; real-time control.\\n',\n",
       " 'Modelling and analysis of lumped and distributed RF networks, analysis and design of passive structures and impedance matching networks, S parameters, linear modelling of transistors. Power, noise and distortion calculations for communication transceivers, analysis and design of wireless radio link and satellite communication link. Theory, analysis and design of small signal amplifiers, low noise and balanced amplifiers. Prototyping using printed circuit board technology, introduction to Computer Aided Design (CAD) tools and Computer Aided Testing Equipment.',\n",
       " 'Software architectures and design for non-functional software properties. Introduction to program comprehension skills including analysis of existing architectures.',\n",
       " 'Sources and characteristics of large scale data, i.e., \"big data\", large scale data analysis, benefits of large scale data analysis to various industry domains, programming paradigms and middleware technologies for scalable data analysis, algorithms that enable large scale data processing, application of large scale data algorithms in selected application domains, e.g., Web user behaviour analysis and text processing, analytics frameworks.',\n",
       " 'Fundamental topics in data collection, preparation, exploration, mining and machine learning will be covered with a focus on software development. ',\n",
       " 'Component modelling and block diagram representation of feedback control systems. Mathematical modelling of dynamic systems; state-space representation and frequency domain representation of dynamic systems. Transient response analysis and steady-state error analysis. Root-locus analysis and design. Frequency response analysis with Bode and Nyquist stability criterion. Compensation design techniques. Introduction to multi sensor state feedback compensator design. Overview of digital control systems and industrial controllers.',\n",
       " 'Fundamentals of radio-frequency propagation, principles of radio-frequency positioning, observations and their associated error sources. Introduction to self-contained inertial sensors including odometers, gyros, accelerometers, and augmentation of RF methods with self-contained sensors and other data sources. Current systems: Assisted GPS, cellular telephone location techniques, pseudolites, location with wireless computer networks, ultra-wideband. Applications: outdoor and indoor personal location, asset tracking.',\n",
       " 'Photogrammetric, computer-vision and robotic methods for extracting three-dimensional information from images, videos or image sequences. Introduction to Lie Algebra. Projective geometry. Epipolar geometry. Geometry of image triplets. Overview of feature-based matching techniques. View clustering and structure from motion. Bundle adjustment techniques. Optical and scene flow estimation. Deterministic visual SLAM, probabilistic visual SLAM and visual-inertial SLAM. Probabilistic occupancy grid mapping for obstacle avoidance. Other advanced topics in the state-of-the-art visual odometry.',\n",
       " 'Potential theory and geodetic boundary value problems (GBVPs). Solution approaches to the Molodensky problem. Least-squares collocation (LSC). Hilbert spaces with kernel functions. Variational principles, improperly posed problems and regularization. The altimetry-gravimetry and overdetermined GBVPs. Solution of GBVPs by integral techniques, fast Fourier transforms and LSC. Use of heterogeneous data sets and noise propagation. Applications to gravity prediction, geoid determination, deflection estimation, satellite altimetry and airborne gravimetry and gradiometry. Current research activities.',\n",
       " 'Inertial sensors and their application in inertial navigation, existing inertial systems, new developments in strapdown technology. Practical aspects of inertial positioning definition of an operational inertial frame, inertial error models. Effect of inertial sensor errors on the derived navigation parameters, performance characteristics of inertial sensors, calibration of inertial sensors. Mechanization equations in different co-ordinate frames, step by step computation of the navigation parameters from the inertial sensor data introduction to Kalman filtering for optimal error estimation, modelling INS errors by linear state equations, practical issues for the implementation of update measurements (ZUPT, CUPT, Integrated systems), current research activities.',\n",
       " 'Overview of space positioning and navigation systems; concepts and general description. Global Navigation Satellite System signal description. Receiver and antenna characteristics and capabilities; signal measurements indoor; GNSS error sources and biases; atmospheric delays, signal reflection and countermeasures. Mathematical models for static point and relative positioning. Kinematic single point and differential post mission and real time positioning, navigation and location. Augmentation methods. Land, marine, airborne and indoor applications. Case studies.',\n",
       " 'An introductory course in aerodynamics for engineers. Kinematics and dynamics of viscous and inviscid flow; airfoil dynamics including thin airfoil theory and lifting line theory, finite wings, panel methods and airfoil parameters. Boundary layer theory and boundary layer control as applied in aerodynamics. Introduction to computational fluid dynamics and experimental aerodynamics. ',\n",
       " 'An introduction to finite volume and finite element approximations; turbulence modelling, including Reynolds-Averaged Navier-Stokes (RANS), Large Eddy Simulation (LES), and Variational Multi-Scale (VMS) methods; time-marching schemes; linear and non-linear solvers; grid generation and adaptation; post-processing of the solution; and parallel computing (with the focus on MPI).',\n",
       " 'Introduction to propulsion for aerospace vehicles. Air-breathing and rocket propulsion systems analyzed using principles from thermodynamics, fluid mechanics, heat transfer, and combustion. Individual components such as intakes, compressors, combustors, heat exchangers, turbines, and nozzles will be introduced. Performance parameters, such as thermal and propulsive efficiencies, specific fuel consumption, thrust-to-weight ratio, specific impulse, total impulse, characteristic velocity will be used to assess various propulsion concepts.',\n",
       " 'Fundamentals of one-dimensional gas dynamics. Isentropic and non-isentropic flows, applications of dynamical similarity to shock waves. Oblique shocks, supersonic nozzles, flows with friction or heat transfer. Introduction to computational fluid dynamics (CFD).',\n",
       " 'Performance of turbomachines, machine selection, Reynolds number and scale effects. Two dimensional flow in turbomachines, degree of reaction and vector diagrams; flow irreversibilities and loss coefficients; pump, compressor and turbine efficiencies. Design of pumps, fans, centrifugal compressors, axial-flow compressors, and axial-flow turbines. Combination of machines with pipes or ducts.',\n",
       " 'Fundamentals and applications of materials science to engineering design: welding metallurgy; deformation and strength behaviour of real materials; failure analysis; fibre reinforced composites; fracture mechanics; fatigue; and creep.',\n",
       " 'One- and multi-dimensional problems in linear and steady heat conduction and elasticity. Emphasis on: strong and weak formulation of the boundary value problems (BVP) and their approximation by Galerkin’s method; fundamentals of finite element interpolation and construction of interpolation functions for a variety of multi-dimensional element shapes; existence and uniqueness of the solution; error estimates; finite element arrays and data structures employed in computer programs; numerical integration techniques; and mesh construction.',\n",
       " 'Introduction to the interactions between structural dynamics (elastic and inertia forces) and aerodynamic forces. Concepts of static aeroelasticity (lift distribution, divergence and control effectiveness) and dynamic aeroelasticity (flutter) for fixed-wing aircraft. How to derive the equations of motion for complete aeroelastic systems, apply various methods of structural dynamics analysis and perform simplified analysis of static and dynamic aeroelastic phenomena. The elementary methods of incorporating aeroelastic phenomena in aircraft design and the importance of doing so from a practical point of view.',\n",
       " 'Overview of high-performance lightweight materials used in structural applications, namely fibre-reinforced polymer composites. Considerations for material selection, manufacturing, characterization and testing. Failure analysis. Discussion of materials-processing-structure-property relationships. Applications to aerospace fabrication will be discussed. Practical skills to be developed through a laboratory component.']"
      ]
     },
     "execution_count": 65,
     "metadata": {},
     "output_type": "execute_result"
    }
   ],
   "source": [
    "elec_course_descs"
   ]
  },
  {
   "cell_type": "markdown",
   "metadata": {},
   "source": [
    "## 5. Combine scraped data and write to CSV"
   ]
  },
  {
   "cell_type": "code",
   "execution_count": 66,
   "metadata": {},
   "outputs": [],
   "source": [
    "course_codes = core_course_codes_final + elec_course_codes"
   ]
  },
  {
   "cell_type": "code",
   "execution_count": 67,
   "metadata": {},
   "outputs": [],
   "source": [
    "course_names = core_course_names_final + elec_course_names"
   ]
  },
  {
   "cell_type": "code",
   "execution_count": 68,
   "metadata": {},
   "outputs": [],
   "source": [
    "course_descs = core_course_descs_final + elec_course_descs"
   ]
  },
  {
   "cell_type": "code",
   "execution_count": 70,
   "metadata": {},
   "outputs": [],
   "source": [
    "course_descs = [desc.strip() for desc in course_descs]"
   ]
  },
  {
   "cell_type": "code",
   "execution_count": 71,
   "metadata": {
    "scrolled": true
   },
   "outputs": [
    {
     "data": {
      "text/html": [
       "<div>\n",
       "<style scoped>\n",
       "    .dataframe tbody tr th:only-of-type {\n",
       "        vertical-align: middle;\n",
       "    }\n",
       "\n",
       "    .dataframe tbody tr th {\n",
       "        vertical-align: top;\n",
       "    }\n",
       "\n",
       "    .dataframe thead th {\n",
       "        text-align: right;\n",
       "    }\n",
       "</style>\n",
       "<table border=\"1\" class=\"dataframe\">\n",
       "  <thead>\n",
       "    <tr style=\"text-align: right;\">\n",
       "      <th></th>\n",
       "      <th>Course Number</th>\n",
       "      <th>Course Name</th>\n",
       "      <th>Course Description</th>\n",
       "    </tr>\n",
       "  </thead>\n",
       "  <tbody>\n",
       "    <tr>\n",
       "      <th>0</th>\n",
       "      <td>Aerospace Engineering 410</td>\n",
       "      <td>Aerospace Analysis and Design</td>\n",
       "      <td>Basics of aircraft performance. Topics include...</td>\n",
       "    </tr>\n",
       "    <tr>\n",
       "      <th>1</th>\n",
       "      <td>Aerospace Engineering 411</td>\n",
       "      <td>Avionics and System Design</td>\n",
       "      <td>Introduction to avionics (aviation electronics...</td>\n",
       "    </tr>\n",
       "    <tr>\n",
       "      <th>2</th>\n",
       "      <td>Electrical Engineering 301</td>\n",
       "      <td>Instrumentation, Sensors and Interfacing</td>\n",
       "      <td>An introduction to essential elements of instr...</td>\n",
       "    </tr>\n",
       "    <tr>\n",
       "      <th>3</th>\n",
       "      <td>Engineering 501</td>\n",
       "      <td>Senior Capstone Design Project I</td>\n",
       "      <td>A team-based design course in which students a...</td>\n",
       "    </tr>\n",
       "    <tr>\n",
       "      <th>4</th>\n",
       "      <td>Engineering 502</td>\n",
       "      <td>Senior Capstone Design Project II</td>\n",
       "      <td>A continuation of the capstone design project,...</td>\n",
       "    </tr>\n",
       "    <tr>\n",
       "      <th>5</th>\n",
       "      <td>Geomatics Engineering 333</td>\n",
       "      <td>Computing for Geomatics Engineers</td>\n",
       "      <td>Review of procedural programming and introduct...</td>\n",
       "    </tr>\n",
       "    <tr>\n",
       "      <th>6</th>\n",
       "      <td>Computer Engineering 511</td>\n",
       "      <td>Embedded System Interfacing</td>\n",
       "      <td>Review of computer architecture; microcontroll...</td>\n",
       "    </tr>\n",
       "    <tr>\n",
       "      <th>7</th>\n",
       "      <td>Electrical Engineering 519</td>\n",
       "      <td>Special Topics in Electrical Engineering</td>\n",
       "      <td>Current topics in electrical engineering.</td>\n",
       "    </tr>\n",
       "    <tr>\n",
       "      <th>8</th>\n",
       "      <td>Electrical Engineering 503</td>\n",
       "      <td>Computer Vision</td>\n",
       "      <td>Introduction to the fundamentals of image proc...</td>\n",
       "    </tr>\n",
       "    <tr>\n",
       "      <th>9</th>\n",
       "      <td>Electrical Engineering 541</td>\n",
       "      <td>Control Systems II</td>\n",
       "      <td>Introduction to sampled-data control systems, ...</td>\n",
       "    </tr>\n",
       "    <tr>\n",
       "      <th>10</th>\n",
       "      <td>Electrical Engineering 569</td>\n",
       "      <td>Electronic Systems and Applications</td>\n",
       "      <td>Introduction to electronic systems; the four e...</td>\n",
       "    </tr>\n",
       "    <tr>\n",
       "      <th>11</th>\n",
       "      <td>Electrical Engineering 574</td>\n",
       "      <td>Microwave Engineering</td>\n",
       "      <td>Modelling and analysis of lumped and distribut...</td>\n",
       "    </tr>\n",
       "    <tr>\n",
       "      <th>12</th>\n",
       "      <td>Software Engineering 401</td>\n",
       "      <td>Software Architecture</td>\n",
       "      <td>Software architectures and design for non-func...</td>\n",
       "    </tr>\n",
       "    <tr>\n",
       "      <th>13</th>\n",
       "      <td>Software Engineering 550</td>\n",
       "      <td>Engineering Large Scale Analytics Systems</td>\n",
       "      <td>Sources and characteristics of large scale dat...</td>\n",
       "    </tr>\n",
       "    <tr>\n",
       "      <th>14</th>\n",
       "      <td>Software Engineering for Engineers 544</td>\n",
       "      <td>Data Science for Software Engineers</td>\n",
       "      <td>Fundamental topics in data collection, prepara...</td>\n",
       "    </tr>\n",
       "    <tr>\n",
       "      <th>15</th>\n",
       "      <td>Electrical Engineering 441</td>\n",
       "      <td>Control Systems I</td>\n",
       "      <td>Component modelling and block diagram represen...</td>\n",
       "    </tr>\n",
       "    <tr>\n",
       "      <th>16</th>\n",
       "      <td>Geomatics Engineering 585</td>\n",
       "      <td>Wireless Location</td>\n",
       "      <td>Fundamentals of radio-frequency propagation, p...</td>\n",
       "    </tr>\n",
       "    <tr>\n",
       "      <th>17</th>\n",
       "      <td>Geomatics Engineering 589</td>\n",
       "      <td>3D Visual Perception</td>\n",
       "      <td>Photogrammetric, computer-vision and robotic m...</td>\n",
       "    </tr>\n",
       "    <tr>\n",
       "      <th>18</th>\n",
       "      <td>Geomatics Engineering 615</td>\n",
       "      <td>Advanced Physical Geodesy</td>\n",
       "      <td>Potential theory and geodetic boundary value p...</td>\n",
       "    </tr>\n",
       "    <tr>\n",
       "      <th>19</th>\n",
       "      <td>Geomatics Engineering 623</td>\n",
       "      <td>Inertial Surveying and INS/GPS Integration</td>\n",
       "      <td>Inertial sensors and their application in iner...</td>\n",
       "    </tr>\n",
       "    <tr>\n",
       "      <th>20</th>\n",
       "      <td>Geomatics Engineering 625</td>\n",
       "      <td>Advanced GNSS Theory and Applications</td>\n",
       "      <td>Overview of space positioning and navigation s...</td>\n",
       "    </tr>\n",
       "    <tr>\n",
       "      <th>21</th>\n",
       "      <td>Mechanical Engineering 570</td>\n",
       "      <td>Aerodynamics</td>\n",
       "      <td>An introductory course in aerodynamics for eng...</td>\n",
       "    </tr>\n",
       "    <tr>\n",
       "      <th>22</th>\n",
       "      <td>Mechanical Engineering 572</td>\n",
       "      <td>Computational Fluid Dynamics</td>\n",
       "      <td>An introduction to finite volume and finite el...</td>\n",
       "    </tr>\n",
       "    <tr>\n",
       "      <th>23</th>\n",
       "      <td>Mechanical Engineering 574</td>\n",
       "      <td>Propulsion</td>\n",
       "      <td>Introduction to propulsion for aerospace vehic...</td>\n",
       "    </tr>\n",
       "    <tr>\n",
       "      <th>24</th>\n",
       "      <td>Mechanical Engineering 595</td>\n",
       "      <td>Gas Dynamics</td>\n",
       "      <td>Fundamentals of one-dimensional gas dynamics. ...</td>\n",
       "    </tr>\n",
       "    <tr>\n",
       "      <th>25</th>\n",
       "      <td>Mechanical Engineering 597</td>\n",
       "      <td>Turbomachinery</td>\n",
       "      <td>Performance of turbomachines, machine selectio...</td>\n",
       "    </tr>\n",
       "    <tr>\n",
       "      <th>26</th>\n",
       "      <td>Mechanical Engineering 521</td>\n",
       "      <td>Materials II</td>\n",
       "      <td>Fundamentals and applications of materials sci...</td>\n",
       "    </tr>\n",
       "    <tr>\n",
       "      <th>27</th>\n",
       "      <td>Mechanical Engineering 547</td>\n",
       "      <td>Finite Element Method</td>\n",
       "      <td>One- and multi-dimensional problems in linear ...</td>\n",
       "    </tr>\n",
       "    <tr>\n",
       "      <th>28</th>\n",
       "      <td>Mechanical Engineering 571</td>\n",
       "      <td>Aeroelasticity</td>\n",
       "      <td>Introduction to the interactions between struc...</td>\n",
       "    </tr>\n",
       "    <tr>\n",
       "      <th>29</th>\n",
       "      <td>Mechanical Engineering 573</td>\n",
       "      <td>Design and Manufacturing of Lightweight Struct...</td>\n",
       "      <td>Overview of high-performance lightweight mater...</td>\n",
       "    </tr>\n",
       "  </tbody>\n",
       "</table>\n",
       "</div>"
      ],
      "text/plain": [
       "                             Course Number  \\\n",
       "0                Aerospace Engineering 410   \n",
       "1                Aerospace Engineering 411   \n",
       "2               Electrical Engineering 301   \n",
       "3                          Engineering 501   \n",
       "4                          Engineering 502   \n",
       "5                Geomatics Engineering 333   \n",
       "6                 Computer Engineering 511   \n",
       "7               Electrical Engineering 519   \n",
       "8               Electrical Engineering 503   \n",
       "9               Electrical Engineering 541   \n",
       "10              Electrical Engineering 569   \n",
       "11              Electrical Engineering 574   \n",
       "12                Software Engineering 401   \n",
       "13                Software Engineering 550   \n",
       "14  Software Engineering for Engineers 544   \n",
       "15              Electrical Engineering 441   \n",
       "16               Geomatics Engineering 585   \n",
       "17               Geomatics Engineering 589   \n",
       "18               Geomatics Engineering 615   \n",
       "19               Geomatics Engineering 623   \n",
       "20               Geomatics Engineering 625   \n",
       "21              Mechanical Engineering 570   \n",
       "22              Mechanical Engineering 572   \n",
       "23              Mechanical Engineering 574   \n",
       "24              Mechanical Engineering 595   \n",
       "25              Mechanical Engineering 597   \n",
       "26              Mechanical Engineering 521   \n",
       "27              Mechanical Engineering 547   \n",
       "28              Mechanical Engineering 571   \n",
       "29              Mechanical Engineering 573   \n",
       "\n",
       "                                          Course Name  \\\n",
       "0                       Aerospace Analysis and Design   \n",
       "1                          Avionics and System Design   \n",
       "2            Instrumentation, Sensors and Interfacing   \n",
       "3                    Senior Capstone Design Project I   \n",
       "4                   Senior Capstone Design Project II   \n",
       "5                   Computing for Geomatics Engineers   \n",
       "6                         Embedded System Interfacing   \n",
       "7            Special Topics in Electrical Engineering   \n",
       "8                                     Computer Vision   \n",
       "9                                  Control Systems II   \n",
       "10                Electronic Systems and Applications   \n",
       "11                              Microwave Engineering   \n",
       "12                              Software Architecture   \n",
       "13          Engineering Large Scale Analytics Systems   \n",
       "14                Data Science for Software Engineers   \n",
       "15                                  Control Systems I   \n",
       "16                                  Wireless Location   \n",
       "17                               3D Visual Perception   \n",
       "18                          Advanced Physical Geodesy   \n",
       "19         Inertial Surveying and INS/GPS Integration   \n",
       "20              Advanced GNSS Theory and Applications   \n",
       "21                                       Aerodynamics   \n",
       "22                       Computational Fluid Dynamics   \n",
       "23                                         Propulsion   \n",
       "24                                       Gas Dynamics   \n",
       "25                                     Turbomachinery   \n",
       "26                                       Materials II   \n",
       "27                              Finite Element Method   \n",
       "28                                     Aeroelasticity   \n",
       "29  Design and Manufacturing of Lightweight Struct...   \n",
       "\n",
       "                                   Course Description  \n",
       "0   Basics of aircraft performance. Topics include...  \n",
       "1   Introduction to avionics (aviation electronics...  \n",
       "2   An introduction to essential elements of instr...  \n",
       "3   A team-based design course in which students a...  \n",
       "4   A continuation of the capstone design project,...  \n",
       "5   Review of procedural programming and introduct...  \n",
       "6   Review of computer architecture; microcontroll...  \n",
       "7           Current topics in electrical engineering.  \n",
       "8   Introduction to the fundamentals of image proc...  \n",
       "9   Introduction to sampled-data control systems, ...  \n",
       "10  Introduction to electronic systems; the four e...  \n",
       "11  Modelling and analysis of lumped and distribut...  \n",
       "12  Software architectures and design for non-func...  \n",
       "13  Sources and characteristics of large scale dat...  \n",
       "14  Fundamental topics in data collection, prepara...  \n",
       "15  Component modelling and block diagram represen...  \n",
       "16  Fundamentals of radio-frequency propagation, p...  \n",
       "17  Photogrammetric, computer-vision and robotic m...  \n",
       "18  Potential theory and geodetic boundary value p...  \n",
       "19  Inertial sensors and their application in iner...  \n",
       "20  Overview of space positioning and navigation s...  \n",
       "21  An introductory course in aerodynamics for eng...  \n",
       "22  An introduction to finite volume and finite el...  \n",
       "23  Introduction to propulsion for aerospace vehic...  \n",
       "24  Fundamentals of one-dimensional gas dynamics. ...  \n",
       "25  Performance of turbomachines, machine selectio...  \n",
       "26  Fundamentals and applications of materials sci...  \n",
       "27  One- and multi-dimensional problems in linear ...  \n",
       "28  Introduction to the interactions between struc...  \n",
       "29  Overview of high-performance lightweight mater...  "
      ]
     },
     "execution_count": 71,
     "metadata": {},
     "output_type": "execute_result"
    }
   ],
   "source": [
    "import pandas as pd\n",
    "\n",
    "df = pd.DataFrame({\n",
    "    \"Course Number\": course_codes,\n",
    "    \"Course Name\": course_names,\n",
    "    \"Course Description\": course_descs    \n",
    "})\n",
    "\n",
    "df"
   ]
  },
  {
   "cell_type": "code",
   "execution_count": 72,
   "metadata": {},
   "outputs": [],
   "source": [
    "df.to_csv('UCalgary_MechEng_Aerospace_minor_Courses.csv', index = False)"
   ]
  },
  {
   "cell_type": "markdown",
   "metadata": {},
   "source": [
    "# Biomedical"
   ]
  },
  {
   "cell_type": "markdown",
   "metadata": {},
   "source": [
    "## 1. Collect core course link texts for webdriver to click on"
   ]
  },
  {
   "cell_type": "code",
   "execution_count": 73,
   "metadata": {},
   "outputs": [],
   "source": [
    "driver.get(url)"
   ]
  },
  {
   "cell_type": "code",
   "execution_count": 74,
   "metadata": {},
   "outputs": [],
   "source": [
    "page_soup = soup(driver.page_source, 'lxml')"
   ]
  },
  {
   "cell_type": "code",
   "execution_count": 75,
   "metadata": {},
   "outputs": [],
   "source": [
    "biomed_core_container = page_soup.find(\"span\", {\"id\": \"ctl00_ctl00_pageContent_ctl03_ctl02_cnBody\"}).find(\"ul\")"
   ]
  },
  {
   "cell_type": "code",
   "execution_count": 76,
   "metadata": {},
   "outputs": [
    {
     "data": {
      "text/plain": [
       "['Biomedical Engineering 301',\n",
       " '309',\n",
       " '401',\n",
       " '415',\n",
       " 'Biomedical Engineering Technical Electives ',\n",
       " 'Mechanical Engineering Technical Electives ']"
      ]
     },
     "execution_count": 76,
     "metadata": {},
     "output_type": "execute_result"
    }
   ],
   "source": [
    "core_link_texts = biomed_core_container.findAll(\"a\", {\"class\": \"link-text\"})\n",
    "core_link_texts = [link_text.text for link_text in core_link_texts]\n",
    "core_link_texts"
   ]
  },
  {
   "cell_type": "code",
   "execution_count": 77,
   "metadata": {},
   "outputs": [
    {
     "data": {
      "text/plain": [
       "['Biomedical Engineering 301', '309', '401', '415']"
      ]
     },
     "execution_count": 77,
     "metadata": {},
     "output_type": "execute_result"
    }
   ],
   "source": [
    "core_link_texts = [link_text for link_text in core_link_texts if bool(re.match(\"[A-Za-z, ]*[0-9]{3}\", link_text))]\n",
    "core_link_texts"
   ]
  },
  {
   "cell_type": "markdown",
   "metadata": {},
   "source": [
    "## 2. Scrape core courses"
   ]
  },
  {
   "cell_type": "code",
   "execution_count": 79,
   "metadata": {},
   "outputs": [
    {
     "name": "stdout",
     "output_type": "stream",
     "text": [
      "Scraped  Biomedical Engineering 301\n",
      "Scraped  Biomedical Engineering 309\n",
      "Scraped  Biomedical Engineering 401\n",
      "Scraped  Biomedical Engineering 415\n",
      "Finished scraping 4 courses\n"
     ]
    }
   ],
   "source": [
    "link_texts = core_link_texts\n",
    "\n",
    "core_course_codes = []\n",
    "core_course_names = []\n",
    "core_course_descs = []\n",
    "counter = 0\n",
    "\n",
    "visited_ids = [] #to keep track of which link has been clicked and avoid clicking on links with the same course code\n",
    "#ex. multiple links in the page has text \"502\" - mech 502 and eng 502\n",
    "\n",
    "driver.get(\"https://ucalgary.ca/pubs/calendar/current/en-4-8.html\")\n",
    "time.sleep(3)\n",
    "    \n",
    "for link_text in link_texts:\n",
    "    #go to course page\n",
    "    try:\n",
    "        links = driver.find_elements_by_link_text(link_text)\n",
    "    except NoSuchElementException:\n",
    "        print(\"no link for {}\".format(link_text))\n",
    "        continue\n",
    "    time.sleep(2)\n",
    "    \n",
    "    for i in range(len(links)):\n",
    "        \n",
    "        link = driver.find_elements_by_link_text(link_text)[i]\n",
    "        link.click()\n",
    "        time.sleep(2)\n",
    "    \n",
    "        #scrape course info\n",
    "        page_soup = soup(driver.page_source, 'lxml')\n",
    "        #get the id of the table containing the specific course information\n",
    "        starting_index = driver.current_url.index(\"#\")+1\n",
    "        table_id = driver.current_url[starting_index:]\n",
    "        \n",
    "        #check if table id has already been visited\n",
    "        if table_id in visited_ids:\n",
    "            driver.get(\"https://ucalgary.ca/pubs/calendar/current/en-4-8.html\")\n",
    "            time.sleep(2)\n",
    "            print(link_text, \"already scraped\")\n",
    "            continue\n",
    "        \n",
    "        #locate the container/table using the id\n",
    "        container = page_soup.find(\"a\", {\"name\": table_id})\n",
    "        container = container.parent\n",
    "        course_info = container.findAll(\"span\", {\"class\": \"course-code\"})\n",
    "        \n",
    "        #check if this course belongs is of the correct subject\n",
    "        if bool(re.match(\"[0-9]{3}\", link_text)) and course_info[0].text.strip() not in core_course_codes[-1]:\n",
    "            driver.get(\"https://ucalgary.ca/pubs/calendar/current/en-4-8.html\")\n",
    "            time.sleep(2)\n",
    "            print(link_text, \"incorrect subject\")\n",
    "            continue\n",
    "            \n",
    "        visited_ids.append(table_id)\n",
    "        \n",
    "        core_course_codes.append(course_info[0].text.strip() + \" \" + course_info[1].text.strip())\n",
    "        core_course_names.append(course_info[2].text.strip())\n",
    "        core_course_descs.append(container.find(\"span\", {\"class\": \"course-desc\"}).text)\n",
    "        \n",
    "        print(\"Scraped \", core_course_codes[-1])\n",
    "        counter += 1\n",
    "        \n",
    "        #go to course list page\n",
    "        driver.get(\"https://ucalgary.ca/pubs/calendar/current/en-4-8.html\")\n",
    "        time.sleep(2)\n",
    "        \n",
    "print(\"Finished scraping {} courses\".format(counter))"
   ]
  },
  {
   "cell_type": "code",
   "execution_count": 80,
   "metadata": {},
   "outputs": [
    {
     "data": {
      "text/plain": [
       "['Biomedical Engineering 301',\n",
       " 'Biomedical Engineering 309',\n",
       " 'Biomedical Engineering 401',\n",
       " 'Biomedical Engineering 415']"
      ]
     },
     "execution_count": 80,
     "metadata": {},
     "output_type": "execute_result"
    }
   ],
   "source": [
    "core_course_codes"
   ]
  },
  {
   "cell_type": "code",
   "execution_count": 81,
   "metadata": {},
   "outputs": [
    {
     "data": {
      "text/plain": [
       "['Introduction to Biomedical Engineering',\n",
       " 'Anatomy and Physiology for Engineers',\n",
       " 'Fundamentals of Biomedical Device and Technologies',\n",
       " 'Sensor Systems and Data Analytics']"
      ]
     },
     "execution_count": 81,
     "metadata": {},
     "output_type": "execute_result"
    }
   ],
   "source": [
    "core_course_names"
   ]
  },
  {
   "cell_type": "code",
   "execution_count": 82,
   "metadata": {},
   "outputs": [
    {
     "data": {
      "text/plain": [
       "['Fundamentals of biological systems and the application of engineering principles to address challenges in human and animal health. The role of the biomedical engineer in society and in the current industrial landscape. Topics include pharmaceuticals and drug delivery, instrumentation and devices, physiological and biological measurements, biomechanics, imaging and diagnostics, the Canadian health-care system. Applications may include the cardiovascular, neural and musculo-skeletal systems.',\n",
       " 'Physiological terminology and anatomical planes of reference; cell biology and physiology; includes structure and function of musculoskeletal, cardiovascular, nervous, gastrointestinal and respiratory tissues and systems; diseases and disorders of those systems; design constraints for bioengineering products.',\n",
       " 'An introduction to the development of biomedical devices and technologies. Topics may include identifying biomedical needs, concept generation and prototyping, biologically inspired design, human factors related to design, regulatory issues, intellectual property protection, clinical trials, and commercialization considerations. Case studies may be drawn from cardiovascular, neural and musculoskeletal applications.',\n",
       " 'Introduction to matrix and tensor manipulation with focus on computer programming aspects. Sensor systems and design of data collection strategies, with examples in relevant areas of biomedical engineering. Data curation and conditioning including outlier and anomaly pattern detection, noise removal and data reduction. Unsupervised clustering and association mining using machine learning techniques. Supervised classification using advanced machine learning techniques. Completion of a sensor- and data-oriented project in an area of biomedical engineering.']"
      ]
     },
     "execution_count": 82,
     "metadata": {},
     "output_type": "execute_result"
    }
   ],
   "source": [
    "core_course_descs"
   ]
  },
  {
   "cell_type": "markdown",
   "metadata": {},
   "source": [
    "## 3. Collect elective course link texts"
   ]
  },
  {
   "cell_type": "code",
   "execution_count": 83,
   "metadata": {},
   "outputs": [],
   "source": [
    "driver.get(\"https://ucalgary.ca/pubs/calendar/current/en-4-14.html\")"
   ]
  },
  {
   "cell_type": "code",
   "execution_count": 84,
   "metadata": {},
   "outputs": [],
   "source": [
    "page_soup = soup(driver.page_source, 'lxml')"
   ]
  },
  {
   "cell_type": "code",
   "execution_count": 85,
   "metadata": {},
   "outputs": [],
   "source": [
    "biomed_electives_container = page_soup.find(\"span\", {\"id\": \"ctl00_ctl00_pageContent_ctl03_ctl02_cnBody\"}).find(\"ul\")"
   ]
  },
  {
   "cell_type": "code",
   "execution_count": 86,
   "metadata": {},
   "outputs": [
    {
     "data": {
      "text/plain": [
       "['Biomedical Engineering 509',\n",
       " '511',\n",
       " '515',\n",
       " '519',\n",
       " '523',\n",
       " '525',\n",
       " '585',\n",
       " 'Chemical Engineering 535',\n",
       " '539',\n",
       " 'Computer Engineering 509',\n",
       " '511',\n",
       " 'Electrical Engineering 569',\n",
       " '606',\n",
       " 'Engineering 523',\n",
       " 'Manufacturing Engineering 529']"
      ]
     },
     "execution_count": 86,
     "metadata": {},
     "output_type": "execute_result"
    }
   ],
   "source": [
    "elec_link_texts = biomed_electives_container.findAll(\"a\", {\"class\": \"link-text\"})\n",
    "elec_link_texts = [link_text.text for link_text in elec_link_texts]\n",
    "elec_link_texts"
   ]
  },
  {
   "cell_type": "markdown",
   "metadata": {},
   "source": [
    "## 4. Scrape elective courses"
   ]
  },
  {
   "cell_type": "code",
   "execution_count": 95,
   "metadata": {
    "scrolled": true
   },
   "outputs": [
    {
     "name": "stdout",
     "output_type": "stream",
     "text": [
      "Scraped  Biomedical Engineering 509\n",
      "Scraped  Biomedical Engineering 511\n",
      "511 incorrect subject\n",
      "511 incorrect subject\n",
      "Scraped  Biomedical Engineering 515\n",
      "519 incorrect subject\n",
      "Scraped  Biomedical Engineering 519\n",
      "519 incorrect subject\n",
      "Scraped  Biomedical Engineering 523\n",
      "Scraped  Biomedical Engineering 525\n",
      "525 incorrect subject\n",
      "Scraped  Biomedical Engineering 585\n",
      "585 incorrect subject\n",
      "585 incorrect subject\n",
      "Scraped  Chemical Engineering 535\n",
      "Scraped  Chemical Engineering 539\n",
      "Scraped  Computer Engineering 509\n",
      "Computer Engineering 509 already scraped\n",
      "511 already scraped\n",
      "Scraped  Computer Engineering 511\n",
      "511 already scraped\n",
      "Scraped  Electrical Engineering 569\n",
      "Scraped  Electrical Engineering 606\n",
      "Scraped  Engineering 523\n",
      "Engineering 523 already scraped\n",
      "Scraped  Manufacturing Engineering 529\n",
      "Finished scraping 15 courses\n"
     ]
    }
   ],
   "source": [
    "link_texts = elec_link_texts\n",
    "\n",
    "elec_course_codes = []\n",
    "elec_course_names = []\n",
    "elec_course_descs = []\n",
    "counter = 0\n",
    "\n",
    "visited_ids = [] #to keep track of which link has been clicked and avoid clicking on links with the same course code\n",
    "#ex. multiple links in the page has text \"502\" - mech 502 and eng 502\n",
    "\n",
    "driver.get(\"https://ucalgary.ca/pubs/calendar/current/en-4-14.html\")\n",
    "time.sleep(3)\n",
    "    \n",
    "for link_text in link_texts:\n",
    "    #go to course page\n",
    "    try:\n",
    "        links = driver.find_elements_by_link_text(link_text)\n",
    "    except NoSuchElementException:\n",
    "        print(\"no link for {}\".format(link_text))\n",
    "        continue\n",
    "    time.sleep(2)\n",
    "    \n",
    "    for i in range(len(links)):\n",
    "        \n",
    "        link = driver.find_elements_by_link_text(link_text)[i]\n",
    "        link.click()\n",
    "        time.sleep(3)\n",
    "    \n",
    "        #scrape course info\n",
    "        page_soup = soup(driver.page_source, 'lxml')\n",
    "        #get the id of the table containing the specific course information\n",
    "        starting_index = driver.current_url.index(\"#\")+1\n",
    "        table_id = driver.current_url[starting_index:]\n",
    "        \n",
    "        #check if table id has already been visited\n",
    "        if table_id in visited_ids:\n",
    "            driver.get(\"https://ucalgary.ca/pubs/calendar/current/en-4-14.html\")\n",
    "            time.sleep(2)\n",
    "            print(link_text, \"already scraped\")\n",
    "            continue\n",
    "        \n",
    "        #locate the container/table using the id\n",
    "        container = page_soup.find(\"a\", {\"name\": table_id})\n",
    "        container = container.parent\n",
    "        course_info = container.findAll(\"span\", {\"class\": \"course-code\"})\n",
    "        \n",
    "        #check if this course belongs is of the correct subject\n",
    "        subject = course_info[0].text.strip()\n",
    "        if bool(re.match(\"[0-9]{3}\", link_text)) and (subject not in elec_course_codes[-1] or elec_course_codes[-1].split()[0] not in subject):\n",
    "            driver.get(\"https://ucalgary.ca/pubs/calendar/current/en-4-14.html\")\n",
    "            time.sleep(2)\n",
    "            print(link_text, \"incorrect subject\")\n",
    "            continue\n",
    "            \n",
    "        visited_ids.append(table_id)\n",
    "        \n",
    "        elec_course_codes.append(subject + \" \" + course_info[1].text.strip())\n",
    "        elec_course_names.append(course_info[2].text.strip())\n",
    "        elec_course_descs.append(container.find(\"span\", {\"class\": \"course-desc\"}).text.strip())\n",
    "        \n",
    "        print(\"Scraped \", elec_course_codes[-1])\n",
    "        counter += 1\n",
    "        \n",
    "        #go to course list page\n",
    "        driver.get(\"https://ucalgary.ca/pubs/calendar/current/en-4-14.html\")\n",
    "        time.sleep(3)\n",
    "        \n",
    "print(\"Finished scraping {} courses\".format(counter))"
   ]
  },
  {
   "cell_type": "code",
   "execution_count": 96,
   "metadata": {
    "scrolled": true
   },
   "outputs": [
    {
     "data": {
      "text/plain": [
       "['Biomedical Engineering 509',\n",
       " 'Biomedical Engineering 511',\n",
       " 'Biomedical Engineering 515',\n",
       " 'Biomedical Engineering 519',\n",
       " 'Biomedical Engineering 523',\n",
       " 'Biomedical Engineering 525',\n",
       " 'Biomedical Engineering 585',\n",
       " 'Chemical Engineering 535',\n",
       " 'Chemical Engineering 539',\n",
       " 'Computer Engineering 509',\n",
       " 'Computer Engineering 511',\n",
       " 'Electrical Engineering 569',\n",
       " 'Electrical Engineering 606',\n",
       " 'Engineering 523',\n",
       " 'Manufacturing Engineering 529']"
      ]
     },
     "execution_count": 96,
     "metadata": {},
     "output_type": "execute_result"
    }
   ],
   "source": [
    "elec_course_codes"
   ]
  },
  {
   "cell_type": "code",
   "execution_count": 97,
   "metadata": {},
   "outputs": [
    {
     "data": {
      "text/plain": [
       "['Introduction to Biomedical Imaging and Applications',\n",
       " 'Biomaterials and Biocompatibility',\n",
       " 'Bioengineering Methods in Systems Biology and Physiology',\n",
       " 'Special Topics in Biomedical Engineering',\n",
       " 'Biomechanics of Movement',\n",
       " 'Biomechanics of Tissues',\n",
       " 'Molecular, Cellular and Tissue Engineering',\n",
       " 'Principles of Biochemical Engineering',\n",
       " 'Polymer Engineering',\n",
       " 'Fundamentals of Biometric Systems Design',\n",
       " 'Embedded System Interfacing',\n",
       " 'Electronic Systems and Applications',\n",
       " 'Optical Instrumentation',\n",
       " 'Bio-inspired Design',\n",
       " 'Introduction to Microelectromechanical Systems']"
      ]
     },
     "execution_count": 97,
     "metadata": {},
     "output_type": "execute_result"
    }
   ],
   "source": [
    "elec_course_names"
   ]
  },
  {
   "cell_type": "code",
   "execution_count": 98,
   "metadata": {
    "scrolled": true
   },
   "outputs": [
    {
     "data": {
      "text/plain": [
       "['Principles of various imaging modalities used in Biomedical engineering applications, including CT, MRI, ultrasound, PET, SPECT. Image processing operations: filtering, enhancement, feature extraction, pattern recognition and image reconstruction. Image registration and integration of different imaging modalities.',\n",
       " 'Basic chemical and mechanical properties of biological and synthetic materials and their role in biological system health, dysfunction, and repair. Role of microstructure, material properties, and biocompatibility aspects in selection of biomaterials for medical or industrial applications. Incorporation of biomimetic concepts in material design. Topics may include artificial and tissue engineered products, implants, prostheses, biofilms, biosensors, and foreign body response.',\n",
       " 'Concepts from systems theory, differential equations, and stochastic processes applied to physiological and biological systems. Experimental and computational approaches to the study of gene expression and gene networks. Use of quantitative model-based approaches for integrative analysis of physiological and biological functions. Case studies of applications to disease mechanisms and the drug discovery process.',\n",
       " 'Current topics in Biomedical Engineering.',\n",
       " 'Introduction to musculoskeletal biomechanics, including experimental and analytical approaches to the analysis of movement, experimental instrumentation and devices, and joint dynamics. Review of linear algebra. Description of physical space, coordinate systems, optical measurement of marker position. Three-dimensional rigid body kinematics, extraction of the kinematical quantities from the experimental data. Three-dimensional rigid body dynamics, determination of segmental inertial properties, determination of the joint forces and moments, measurement of ground reaction forces, theorem of the impulse. Force sharing problem, method of the Lagrange multipliers, optimisation. Elements of muscle and cartilage mechanics, introduction to the analysis of healthy and pathologic gait. Laboratory experiences complement and reinforce the theory.',\n",
       " 'The structure and functional behaviour of complex tissues which make up the human musculoskeletal system (bone, cartilage, muscles, tendons, ligaments) and cardiovascular systems (heart, blood vessels) will be explained by applying basic principles of continuum mechanics. Introductory topics include: review of linear and tensor algebra, kinematics of continua, deformation gradient, deformation and strain tensors, balance equations and Cauchy stress tensor, stress power and measures of stress. Constitutive equations introduced as they apply to the study of biological tissues; anisotropy and inhomogeneity, fibre-reinforced behaviour. Laboratory experiences complement and reinforce the theory.',\n",
       " 'Concepts, calculations, and methodologies in molecular, cellular and tissue engineering will be discussed and applied to solve problems in the areas of molecular diagnostics, pharmaceuticals, nanomedicine and regenerative medicine. Topics include cell biology and culture, stem cells, bioreactors, biomaterials, drug delivery, fluid dynamics, kinetics, and diffusion.',\n",
       " 'Introduction to biochemistry, enzyme kinetics and cell growth and metabolism. Aspects of mass transfer, heat transfer and fluid flow related to the design of biological process equipment. Fermentations, sterilization and extraction techniques. Treatment of effluents. Introduction to bio-reactor design and scale-up. Introduction to process instrumentation and control.',\n",
       " 'Introduction to polymer science and technology. Molecular structure, processing, rheology, thermal, physical and mechanical properties. Synthetic polymers used in biomedical, manufacturing and other advanced technological applications.',\n",
       " 'Biometric systems, sensors and devices, Integration of Biometric-based hardware and software, Biometric applications.',\n",
       " 'Review of computer architecture; microcontrollers and their instruction sets; interfacing using common input/output devices, debugging and other software engineering practices, strategies for interrupt handling and exception handling; Interfacing using high level and assembly languages; software and hardware optimizations to achieve real time operations; real time operating systems; Embedded real-time applications.',\n",
       " 'Introduction to electronic systems; the four elements of electronic monitoring systems; system modelling; sensors; amplifiers; noise characterization; power supplies; frequency conditioning; active filters; analog to digital conversion and anti-aliasing requirements; multichannel data acquisition; real-time conditioning of signals; real-time control.',\n",
       " 'Review of ray and wave optics. Free-space and fiber optic components. Linear, non-linear, and super-resolution microscopy. Light measurement and characterization. Digital imaging. Solid state light sources. Spectroscopy.',\n",
       " 'This course explores the principles and systems behind evolved natural constructions and processes, and transferring these to device and system design: abstractions of functional morphologies lead to new technical concepts and prototypes. Topics in this course may include: design by analogy, functional morphology, principles and techniques of biomimicry, bio-inspired design methods, technical sketching, bio-inspired computation and modelling, and biomimetic concepts such as self healing, growth, and self-organization.',\n",
       " 'Microelectromechanical systems (MEMS) and devices including microsensors and microactuators. Principles of operation, material properties, fabrication techniques including surface and bulk micro\\xadmachining, IC-derived microfabrication techniques, sensing and actuation principles, sensor dynamics issues, circuit and system issues, packaging, calibration and testing. Illustrative examples include (1) micromachined inertial sensors and actuators for manufacturing processes, (2) microactuator arrays for \"smart surfaces,\" (3) biosensors for medical applications, and (4) transducers for aerospace applications.']"
      ]
     },
     "execution_count": 98,
     "metadata": {},
     "output_type": "execute_result"
    }
   ],
   "source": [
    "elec_course_descs"
   ]
  },
  {
   "cell_type": "markdown",
   "metadata": {},
   "source": [
    "## 5. Combine scraped data and write to CSV"
   ]
  },
  {
   "cell_type": "code",
   "execution_count": 101,
   "metadata": {},
   "outputs": [],
   "source": [
    "course_codes = core_course_codes + elec_course_codes\n",
    "course_names = core_course_names + elec_course_names\n",
    "course_descs = core_course_descs + elec_course_descs"
   ]
  },
  {
   "cell_type": "code",
   "execution_count": 102,
   "metadata": {
    "scrolled": true
   },
   "outputs": [
    {
     "data": {
      "text/html": [
       "<div>\n",
       "<style scoped>\n",
       "    .dataframe tbody tr th:only-of-type {\n",
       "        vertical-align: middle;\n",
       "    }\n",
       "\n",
       "    .dataframe tbody tr th {\n",
       "        vertical-align: top;\n",
       "    }\n",
       "\n",
       "    .dataframe thead th {\n",
       "        text-align: right;\n",
       "    }\n",
       "</style>\n",
       "<table border=\"1\" class=\"dataframe\">\n",
       "  <thead>\n",
       "    <tr style=\"text-align: right;\">\n",
       "      <th></th>\n",
       "      <th>Course Number</th>\n",
       "      <th>Course Name</th>\n",
       "      <th>Course Description</th>\n",
       "    </tr>\n",
       "  </thead>\n",
       "  <tbody>\n",
       "    <tr>\n",
       "      <th>0</th>\n",
       "      <td>Biomedical Engineering 301</td>\n",
       "      <td>Introduction to Biomedical Engineering</td>\n",
       "      <td>Fundamentals of biological systems and the app...</td>\n",
       "    </tr>\n",
       "    <tr>\n",
       "      <th>1</th>\n",
       "      <td>Biomedical Engineering 309</td>\n",
       "      <td>Anatomy and Physiology for Engineers</td>\n",
       "      <td>Physiological terminology and anatomical plane...</td>\n",
       "    </tr>\n",
       "    <tr>\n",
       "      <th>2</th>\n",
       "      <td>Biomedical Engineering 401</td>\n",
       "      <td>Fundamentals of Biomedical Device and Technolo...</td>\n",
       "      <td>An introduction to the development of biomedic...</td>\n",
       "    </tr>\n",
       "    <tr>\n",
       "      <th>3</th>\n",
       "      <td>Biomedical Engineering 415</td>\n",
       "      <td>Sensor Systems and Data Analytics</td>\n",
       "      <td>Introduction to matrix and tensor manipulation...</td>\n",
       "    </tr>\n",
       "    <tr>\n",
       "      <th>4</th>\n",
       "      <td>Biomedical Engineering 509</td>\n",
       "      <td>Introduction to Biomedical Imaging and Applica...</td>\n",
       "      <td>Principles of various imaging modalities used ...</td>\n",
       "    </tr>\n",
       "    <tr>\n",
       "      <th>5</th>\n",
       "      <td>Biomedical Engineering 511</td>\n",
       "      <td>Biomaterials and Biocompatibility</td>\n",
       "      <td>Basic chemical and mechanical properties of bi...</td>\n",
       "    </tr>\n",
       "    <tr>\n",
       "      <th>6</th>\n",
       "      <td>Biomedical Engineering 515</td>\n",
       "      <td>Bioengineering Methods in Systems Biology and ...</td>\n",
       "      <td>Concepts from systems theory, differential equ...</td>\n",
       "    </tr>\n",
       "    <tr>\n",
       "      <th>7</th>\n",
       "      <td>Biomedical Engineering 519</td>\n",
       "      <td>Special Topics in Biomedical Engineering</td>\n",
       "      <td>Current topics in Biomedical Engineering.</td>\n",
       "    </tr>\n",
       "    <tr>\n",
       "      <th>8</th>\n",
       "      <td>Biomedical Engineering 523</td>\n",
       "      <td>Biomechanics of Movement</td>\n",
       "      <td>Introduction to musculoskeletal biomechanics, ...</td>\n",
       "    </tr>\n",
       "    <tr>\n",
       "      <th>9</th>\n",
       "      <td>Biomedical Engineering 525</td>\n",
       "      <td>Biomechanics of Tissues</td>\n",
       "      <td>The structure and functional behaviour of comp...</td>\n",
       "    </tr>\n",
       "    <tr>\n",
       "      <th>10</th>\n",
       "      <td>Biomedical Engineering 585</td>\n",
       "      <td>Molecular, Cellular and Tissue Engineering</td>\n",
       "      <td>Concepts, calculations, and methodologies in m...</td>\n",
       "    </tr>\n",
       "    <tr>\n",
       "      <th>11</th>\n",
       "      <td>Chemical Engineering 535</td>\n",
       "      <td>Principles of Biochemical Engineering</td>\n",
       "      <td>Introduction to biochemistry, enzyme kinetics ...</td>\n",
       "    </tr>\n",
       "    <tr>\n",
       "      <th>12</th>\n",
       "      <td>Chemical Engineering 539</td>\n",
       "      <td>Polymer Engineering</td>\n",
       "      <td>Introduction to polymer science and technology...</td>\n",
       "    </tr>\n",
       "    <tr>\n",
       "      <th>13</th>\n",
       "      <td>Computer Engineering 509</td>\n",
       "      <td>Fundamentals of Biometric Systems Design</td>\n",
       "      <td>Biometric systems, sensors and devices, Integr...</td>\n",
       "    </tr>\n",
       "    <tr>\n",
       "      <th>14</th>\n",
       "      <td>Computer Engineering 511</td>\n",
       "      <td>Embedded System Interfacing</td>\n",
       "      <td>Review of computer architecture; microcontroll...</td>\n",
       "    </tr>\n",
       "    <tr>\n",
       "      <th>15</th>\n",
       "      <td>Electrical Engineering 569</td>\n",
       "      <td>Electronic Systems and Applications</td>\n",
       "      <td>Introduction to electronic systems; the four e...</td>\n",
       "    </tr>\n",
       "    <tr>\n",
       "      <th>16</th>\n",
       "      <td>Electrical Engineering 606</td>\n",
       "      <td>Optical Instrumentation</td>\n",
       "      <td>Review of ray and wave optics. Free-space and ...</td>\n",
       "    </tr>\n",
       "    <tr>\n",
       "      <th>17</th>\n",
       "      <td>Engineering 523</td>\n",
       "      <td>Bio-inspired Design</td>\n",
       "      <td>This course explores the principles and system...</td>\n",
       "    </tr>\n",
       "    <tr>\n",
       "      <th>18</th>\n",
       "      <td>Manufacturing Engineering 529</td>\n",
       "      <td>Introduction to Microelectromechanical Systems</td>\n",
       "      <td>Microelectromechanical systems (MEMS) and devi...</td>\n",
       "    </tr>\n",
       "  </tbody>\n",
       "</table>\n",
       "</div>"
      ],
      "text/plain": [
       "                    Course Number  \\\n",
       "0      Biomedical Engineering 301   \n",
       "1      Biomedical Engineering 309   \n",
       "2      Biomedical Engineering 401   \n",
       "3      Biomedical Engineering 415   \n",
       "4      Biomedical Engineering 509   \n",
       "5      Biomedical Engineering 511   \n",
       "6      Biomedical Engineering 515   \n",
       "7      Biomedical Engineering 519   \n",
       "8      Biomedical Engineering 523   \n",
       "9      Biomedical Engineering 525   \n",
       "10     Biomedical Engineering 585   \n",
       "11       Chemical Engineering 535   \n",
       "12       Chemical Engineering 539   \n",
       "13       Computer Engineering 509   \n",
       "14       Computer Engineering 511   \n",
       "15     Electrical Engineering 569   \n",
       "16     Electrical Engineering 606   \n",
       "17                Engineering 523   \n",
       "18  Manufacturing Engineering 529   \n",
       "\n",
       "                                          Course Name  \\\n",
       "0              Introduction to Biomedical Engineering   \n",
       "1                Anatomy and Physiology for Engineers   \n",
       "2   Fundamentals of Biomedical Device and Technolo...   \n",
       "3                   Sensor Systems and Data Analytics   \n",
       "4   Introduction to Biomedical Imaging and Applica...   \n",
       "5                   Biomaterials and Biocompatibility   \n",
       "6   Bioengineering Methods in Systems Biology and ...   \n",
       "7            Special Topics in Biomedical Engineering   \n",
       "8                            Biomechanics of Movement   \n",
       "9                             Biomechanics of Tissues   \n",
       "10         Molecular, Cellular and Tissue Engineering   \n",
       "11              Principles of Biochemical Engineering   \n",
       "12                                Polymer Engineering   \n",
       "13           Fundamentals of Biometric Systems Design   \n",
       "14                        Embedded System Interfacing   \n",
       "15                Electronic Systems and Applications   \n",
       "16                            Optical Instrumentation   \n",
       "17                                Bio-inspired Design   \n",
       "18     Introduction to Microelectromechanical Systems   \n",
       "\n",
       "                                   Course Description  \n",
       "0   Fundamentals of biological systems and the app...  \n",
       "1   Physiological terminology and anatomical plane...  \n",
       "2   An introduction to the development of biomedic...  \n",
       "3   Introduction to matrix and tensor manipulation...  \n",
       "4   Principles of various imaging modalities used ...  \n",
       "5   Basic chemical and mechanical properties of bi...  \n",
       "6   Concepts from systems theory, differential equ...  \n",
       "7           Current topics in Biomedical Engineering.  \n",
       "8   Introduction to musculoskeletal biomechanics, ...  \n",
       "9   The structure and functional behaviour of comp...  \n",
       "10  Concepts, calculations, and methodologies in m...  \n",
       "11  Introduction to biochemistry, enzyme kinetics ...  \n",
       "12  Introduction to polymer science and technology...  \n",
       "13  Biometric systems, sensors and devices, Integr...  \n",
       "14  Review of computer architecture; microcontroll...  \n",
       "15  Introduction to electronic systems; the four e...  \n",
       "16  Review of ray and wave optics. Free-space and ...  \n",
       "17  This course explores the principles and system...  \n",
       "18  Microelectromechanical systems (MEMS) and devi...  "
      ]
     },
     "execution_count": 102,
     "metadata": {},
     "output_type": "execute_result"
    }
   ],
   "source": [
    "import pandas as pd\n",
    "\n",
    "df = pd.DataFrame({\n",
    "    \"Course Number\": course_codes,\n",
    "    \"Course Name\": course_names,\n",
    "    \"Course Description\": course_descs    \n",
    "})\n",
    "\n",
    "df"
   ]
  },
  {
   "cell_type": "code",
   "execution_count": 103,
   "metadata": {},
   "outputs": [],
   "source": [
    "df.to_csv('UCalgary_MechEng_Biomedical_minor_Courses.csv', index = False)"
   ]
  },
  {
   "cell_type": "markdown",
   "metadata": {},
   "source": [
    "# Digital"
   ]
  },
  {
   "cell_type": "markdown",
   "metadata": {},
   "source": [
    "## 1. Collect core course link texts for webdriver to click on"
   ]
  },
  {
   "cell_type": "code",
   "execution_count": 104,
   "metadata": {},
   "outputs": [],
   "source": [
    "driver.get(url)"
   ]
  },
  {
   "cell_type": "code",
   "execution_count": 105,
   "metadata": {},
   "outputs": [],
   "source": [
    "page_soup = soup(driver.page_source, 'lxml')"
   ]
  },
  {
   "cell_type": "code",
   "execution_count": 106,
   "metadata": {},
   "outputs": [],
   "source": [
    "digital_core_container = page_soup.find(\"span\", {\"id\": \"ctl00_ctl00_pageContent_ctl04_ctl02_cnBody\"}).find(\"ul\")"
   ]
  },
  {
   "cell_type": "code",
   "execution_count": 107,
   "metadata": {},
   "outputs": [
    {
     "data": {
      "text/plain": [
       "['Software Engineering for Engineers 310',\n",
       " '311',\n",
       " '410',\n",
       " '411',\n",
       " '510',\n",
       " '511',\n",
       " 'Digital Engineering Technical Electives']"
      ]
     },
     "execution_count": 107,
     "metadata": {},
     "output_type": "execute_result"
    }
   ],
   "source": [
    "core_link_texts = digital_core_container.findAll(\"a\", {\"class\": \"link-text\"})\n",
    "core_link_texts = [link_text.text for link_text in core_link_texts]\n",
    "core_link_texts"
   ]
  },
  {
   "cell_type": "code",
   "execution_count": 108,
   "metadata": {},
   "outputs": [
    {
     "data": {
      "text/plain": [
       "['Software Engineering for Engineers 310', '311', '410', '411', '510', '511']"
      ]
     },
     "execution_count": 108,
     "metadata": {},
     "output_type": "execute_result"
    }
   ],
   "source": [
    "core_link_texts = [link_text for link_text in core_link_texts if bool(re.match(\"[A-Za-z, ]*[0-9]{3}\", link_text))]\n",
    "core_link_texts"
   ]
  },
  {
   "cell_type": "markdown",
   "metadata": {},
   "source": [
    "## 2. Scrape core courses"
   ]
  },
  {
   "cell_type": "code",
   "execution_count": 113,
   "metadata": {},
   "outputs": [
    {
     "name": "stdout",
     "output_type": "stream",
     "text": [
      "Scraped  Software Engineering for Engineers 310\n",
      "Scraped  Software Engineering for Engineers 311\n",
      "Scraped  Software Engineering for Engineers 410\n",
      "411 incorrect subject\n",
      "Scraped  Software Engineering for Engineers 411\n",
      "Scraped  Software Engineering for Engineers 510\n",
      "Scraped  Software Engineering for Engineers 511\n",
      "Finished scraping 6 courses\n"
     ]
    }
   ],
   "source": [
    "link_texts = core_link_texts\n",
    "\n",
    "core_course_codes = []\n",
    "core_course_names = []\n",
    "core_course_descs = []\n",
    "counter = 0\n",
    "\n",
    "visited_ids = [] #to keep track of which link has been clicked and avoid clicking on links with the same course code\n",
    "#ex. multiple links in the page has text \"502\" - mech 502 and eng 502\n",
    "\n",
    "driver.get(\"https://ucalgary.ca/pubs/calendar/current/en-4-8.html\")\n",
    "time.sleep(3)\n",
    "    \n",
    "for link_text in link_texts:\n",
    "    #go to course page\n",
    "    try:\n",
    "        links = driver.find_elements_by_link_text(link_text)\n",
    "    except NoSuchElementException:\n",
    "        print(\"no link for {}\".format(link_text))\n",
    "        continue\n",
    "    time.sleep(2)\n",
    "    \n",
    "    for i in range(len(links)):\n",
    "        \n",
    "        link = driver.find_elements_by_link_text(link_text)[i]\n",
    "        link.click()\n",
    "        time.sleep(2)\n",
    "    \n",
    "        #scrape course info\n",
    "        page_soup = soup(driver.page_source, 'lxml')\n",
    "        #get the id of the table containing the specific course information\n",
    "        starting_index = driver.current_url.index(\"#\")+1\n",
    "        table_id = driver.current_url[starting_index:]\n",
    "        \n",
    "        #check if table id has already been visited\n",
    "        if table_id in visited_ids:\n",
    "            driver.get(\"https://ucalgary.ca/pubs/calendar/current/en-4-8.html\")\n",
    "            time.sleep(2)\n",
    "            print(link_text, \"already scraped\")\n",
    "            continue\n",
    "        \n",
    "        #locate the container/table using the id\n",
    "        container = page_soup.find(\"a\", {\"name\": table_id})\n",
    "        container = container.parent\n",
    "        course_info = container.findAll(\"span\", {\"class\": \"course-code\"})\n",
    "        \n",
    "        #check if this course belongs is of the correct subject\n",
    "        if bool(re.match(\"[0-9]{3}\", link_text)) and course_info[0].text.strip() not in core_course_codes[-1]:\n",
    "            driver.get(\"https://ucalgary.ca/pubs/calendar/current/en-4-8.html\")\n",
    "            time.sleep(2)\n",
    "            print(link_text, \"incorrect subject\")\n",
    "            continue\n",
    "            \n",
    "        visited_ids.append(table_id)\n",
    "        \n",
    "        core_course_codes.append(course_info[0].text.strip() + \" \" + course_info[1].text.strip())\n",
    "        core_course_names.append(course_info[2].text.strip())\n",
    "        core_course_descs.append(container.find(\"span\", {\"class\": \"course-desc\"}).text.strip())\n",
    "        \n",
    "        print(\"Scraped \", core_course_codes[-1])\n",
    "        counter += 1\n",
    "        \n",
    "        #go to course list page\n",
    "        driver.get(\"https://ucalgary.ca/pubs/calendar/current/en-4-8.html\")\n",
    "        time.sleep(2)\n",
    "        \n",
    "print(\"Finished scraping {} courses\".format(counter))"
   ]
  },
  {
   "cell_type": "code",
   "execution_count": 114,
   "metadata": {},
   "outputs": [
    {
     "data": {
      "text/plain": [
       "['Software Engineering for Engineers 310',\n",
       " 'Software Engineering for Engineers 311',\n",
       " 'Software Engineering for Engineers 410',\n",
       " 'Software Engineering for Engineers 411',\n",
       " 'Software Engineering for Engineers 510',\n",
       " 'Software Engineering for Engineers 511']"
      ]
     },
     "execution_count": 114,
     "metadata": {},
     "output_type": "execute_result"
    }
   ],
   "source": [
    "core_course_codes"
   ]
  },
  {
   "cell_type": "code",
   "execution_count": 115,
   "metadata": {},
   "outputs": [
    {
     "data": {
      "text/plain": [
       "['Fundamentals of Software Design and Development',\n",
       " 'Advanced Software Design and Development',\n",
       " 'Fundamentals of Applied Artificial Intelligence',\n",
       " 'Advanced Applied Artificial Intelligence and Machine Learning',\n",
       " 'Cyber-Physical Systems',\n",
       " 'Industrial Internet of Things Systems and Data Analytics']"
      ]
     },
     "execution_count": 115,
     "metadata": {},
     "output_type": "execute_result"
    }
   ],
   "source": [
    "core_course_names"
   ]
  },
  {
   "cell_type": "code",
   "execution_count": 116,
   "metadata": {},
   "outputs": [
    {
     "data": {
      "text/plain": [
       "['Introduction to design and implementation of software systems for engineering applications. Software design lifecycle. Source code management systems. Debugging and testing techniques. Illustration of common data structures and fundamental algorithms using a high-level language. Libraries for input/output. Software tools to facilitate data analysis and visualization.',\n",
       " 'Principles of software modeling and design. Key elements of object- oriented design. Advanced topics such as concurrent programming, socket programming, event-driven programming, and database programming. Systems integration techniques to build practical applications from engineering domains.',\n",
       " 'Techniques for extracting, cleaning, and visualizing data from engineering applications. Basic numerical computation techniques underlying learning algorithms. Fundamental supervised and unsupervised learning algorithms. Emphasis will be on designing practical applications that leverage existing software libraries and frameworks to solve problems in various engineering disciplines.',\n",
       " 'Advanced supervised and unsupervised learning algorithms. Introduction to modern neural network architectures. Emphasis will be on designing practical applications that leverage existing software libraries and frameworks to solve engineering problems.',\n",
       " 'Fundamental principles related to the design of cyber-physical systems. Techniques to ensure reliability, performance, and security of cyber-physical systems. Emphasis will be on developing practical applications from engineering domains.',\n",
       " 'Fundamentals of Industrial Internet of Things (IIoT) Systems. Digital and software frameworks to support IIoT data analytics.']"
      ]
     },
     "execution_count": 116,
     "metadata": {},
     "output_type": "execute_result"
    }
   ],
   "source": [
    "core_course_descs"
   ]
  },
  {
   "cell_type": "markdown",
   "metadata": {},
   "source": [
    "## 3. Collect elective course link texts"
   ]
  },
  {
   "cell_type": "code",
   "execution_count": 117,
   "metadata": {},
   "outputs": [],
   "source": [
    "driver.get(\"https://ucalgary.ca/pubs/calendar/current/en-4-14.html\")"
   ]
  },
  {
   "cell_type": "code",
   "execution_count": 118,
   "metadata": {},
   "outputs": [],
   "source": [
    "page_soup = soup(driver.page_source, 'lxml')"
   ]
  },
  {
   "cell_type": "code",
   "execution_count": 119,
   "metadata": {},
   "outputs": [],
   "source": [
    "digital_electives_container = page_soup.find(\"span\", {\"id\": \"ctl00_ctl00_pageContent_ctl04_ctl02_cnBody\"}).find(\"ul\")"
   ]
  },
  {
   "cell_type": "code",
   "execution_count": 120,
   "metadata": {},
   "outputs": [
    {
     "data": {
      "text/plain": [
       "['Chemical Engineering 537',\n",
       " '561',\n",
       " '565',\n",
       " 'Electrical Engineering 503',\n",
       " '573',\n",
       " '592',\n",
       " 'Engineering 515',\n",
       " '525',\n",
       " 'Geomatics Engineering 531',\n",
       " '551',\n",
       " '559',\n",
       " '563',\n",
       " '573',\n",
       " '585']"
      ]
     },
     "execution_count": 120,
     "metadata": {},
     "output_type": "execute_result"
    }
   ],
   "source": [
    "elec_link_texts = digital_electives_container.findAll(\"a\", {\"class\": \"link-text\"})\n",
    "elec_link_texts = [link_text.text for link_text in elec_link_texts]\n",
    "elec_link_texts"
   ]
  },
  {
   "cell_type": "markdown",
   "metadata": {},
   "source": [
    "## 4. Scrape elective courses"
   ]
  },
  {
   "cell_type": "code",
   "execution_count": 121,
   "metadata": {
    "scrolled": false
   },
   "outputs": [
    {
     "name": "stdout",
     "output_type": "stream",
     "text": [
      "Scraped  Chemical Engineering 537\n",
      "Scraped  Chemical Engineering 561\n",
      "561 incorrect subject\n",
      "Scraped  Chemical Engineering 565\n",
      "Scraped  Electrical Engineering 503\n",
      "573 incorrect subject\n",
      "Scraped  Electrical Engineering 573\n",
      "573 incorrect subject\n",
      "573 incorrect subject\n",
      "Scraped  Electrical Engineering 592\n",
      "Scraped  Engineering 515\n",
      "525 incorrect subject\n",
      "Scraped  Engineering 525\n",
      "Scraped  Geomatics Engineering 531\n",
      "Scraped  Geomatics Engineering 551\n",
      "Scraped  Geomatics Engineering 559\n",
      "559 already scraped\n",
      "Scraped  Geomatics Engineering 563\n",
      "573 incorrect subject\n",
      "573 already scraped\n",
      "Scraped  Geomatics Engineering 573\n",
      "573 already scraped\n",
      "585 incorrect subject\n",
      "Scraped  Geomatics Engineering 585\n",
      "585 incorrect subject\n",
      "Finished scraping 14 courses\n"
     ]
    }
   ],
   "source": [
    "link_texts = elec_link_texts\n",
    "\n",
    "elec_course_codes = []\n",
    "elec_course_names = []\n",
    "elec_course_descs = []\n",
    "counter = 0\n",
    "\n",
    "visited_ids = [] #to keep track of which link has been clicked and avoid clicking on links with the same course code\n",
    "#ex. multiple links in the page has text \"502\" - mech 502 and eng 502\n",
    "\n",
    "driver.get(\"https://ucalgary.ca/pubs/calendar/current/en-4-14.html\")\n",
    "time.sleep(3)\n",
    "    \n",
    "for link_text in link_texts:\n",
    "    #go to course page\n",
    "    try:\n",
    "        links = driver.find_elements_by_link_text(link_text)\n",
    "    except NoSuchElementException:\n",
    "        print(\"no link for {}\".format(link_text))\n",
    "        continue\n",
    "    time.sleep(2)\n",
    "    \n",
    "    for i in range(len(links)):\n",
    "        \n",
    "        link = driver.find_elements_by_link_text(link_text)[i]\n",
    "        link.click()\n",
    "        time.sleep(3)\n",
    "    \n",
    "        #scrape course info\n",
    "        page_soup = soup(driver.page_source, 'lxml')\n",
    "        #get the id of the table containing the specific course information\n",
    "        starting_index = driver.current_url.index(\"#\")+1\n",
    "        table_id = driver.current_url[starting_index:]\n",
    "        \n",
    "        #check if table id has already been visited\n",
    "        if table_id in visited_ids:\n",
    "            driver.get(\"https://ucalgary.ca/pubs/calendar/current/en-4-14.html\")\n",
    "            time.sleep(2)\n",
    "            print(link_text, \"already scraped\")\n",
    "            continue\n",
    "        \n",
    "        #locate the container/table using the id\n",
    "        container = page_soup.find(\"a\", {\"name\": table_id})\n",
    "        container = container.parent\n",
    "        course_info = container.findAll(\"span\", {\"class\": \"course-code\"})\n",
    "        \n",
    "        #check if this course belongs is of the correct subject\n",
    "        subject = course_info[0].text.strip()\n",
    "        if bool(re.match(\"[0-9]{3}\", link_text)) and (subject not in elec_course_codes[-1] or elec_course_codes[-1].split()[0] not in subject):\n",
    "            driver.get(\"https://ucalgary.ca/pubs/calendar/current/en-4-14.html\")\n",
    "            time.sleep(2)\n",
    "            print(link_text, \"incorrect subject\")\n",
    "            continue\n",
    "            \n",
    "        visited_ids.append(table_id)\n",
    "        \n",
    "        elec_course_codes.append(subject + \" \" + course_info[1].text.strip())\n",
    "        elec_course_names.append(course_info[2].text.strip())\n",
    "        elec_course_descs.append(container.find(\"span\", {\"class\": \"course-desc\"}).text.strip())\n",
    "        \n",
    "        print(\"Scraped \", elec_course_codes[-1])\n",
    "        counter += 1\n",
    "        \n",
    "        #go to course list page\n",
    "        driver.get(\"https://ucalgary.ca/pubs/calendar/current/en-4-14.html\")\n",
    "        time.sleep(3)\n",
    "        \n",
    "print(\"Finished scraping {} courses\".format(counter))"
   ]
  },
  {
   "cell_type": "code",
   "execution_count": 122,
   "metadata": {},
   "outputs": [
    {
     "data": {
      "text/plain": [
       "['Chemical Engineering 537',\n",
       " 'Chemical Engineering 561',\n",
       " 'Chemical Engineering 565',\n",
       " 'Electrical Engineering 503',\n",
       " 'Electrical Engineering 573',\n",
       " 'Electrical Engineering 592',\n",
       " 'Engineering 515',\n",
       " 'Engineering 525',\n",
       " 'Geomatics Engineering 531',\n",
       " 'Geomatics Engineering 551',\n",
       " 'Geomatics Engineering 559',\n",
       " 'Geomatics Engineering 563',\n",
       " 'Geomatics Engineering 573',\n",
       " 'Geomatics Engineering 585']"
      ]
     },
     "execution_count": 122,
     "metadata": {},
     "output_type": "execute_result"
    }
   ],
   "source": [
    "elec_course_codes"
   ]
  },
  {
   "cell_type": "code",
   "execution_count": 123,
   "metadata": {},
   "outputs": [
    {
     "data": {
      "text/plain": [
       "['Computational Thermodynamics',\n",
       " 'Machine Learning for Energy Systems',\n",
       " 'Process Sensors and Data Acquisition',\n",
       " 'Computer Vision',\n",
       " 'Computer Networks',\n",
       " 'Undergraduate Research Thesis I',\n",
       " 'Project Management for Engineers',\n",
       " 'Engineering Entrepreneurship',\n",
       " 'Advanced Photogrammetric and Ranging Techniques',\n",
       " 'Advanced Geospatial Topics',\n",
       " 'Digital Imaging and Applications',\n",
       " 'Data Analysis in Engineering',\n",
       " 'Digital Terrain Modelling',\n",
       " 'Wireless Location']"
      ]
     },
     "execution_count": 123,
     "metadata": {},
     "output_type": "execute_result"
    }
   ],
   "source": [
    "elec_course_names"
   ]
  },
  {
   "cell_type": "code",
   "execution_count": 124,
   "metadata": {
    "scrolled": true
   },
   "outputs": [
    {
     "data": {
      "text/plain": [
       "['Amalgamation of thermodynamic models and computational techniques with application to industrially important thermodynamic problems such as multi-component flash calculations, reacting systems, phase stability and gas hydrates.',\n",
       " 'Applications of Machine Learning, Artificial Intelligence and Optimization in Energy Systems. Review of Statistics, Probability and Data Science Concepts; Supervised and Unsupervised Learning in Python including Regression and Clustering; Data Engineering for Data Filtering and Feature Selection; Optimization. Focus on Application to Problems in the Energy Industry.',\n",
       " 'Introduction to chemical engineering sensors and information processing techniques. Basic concepts of process measurement methods and signals. Data acquisition hardware and software. Identifying errors and uncertainties in process measurements. Filtering and smoothing of process signals. Introduction to Fourier analysis. Devices for measuring temperature, pressure and chemical composition. Common failure modes and error sources. Process instrument calibration.',\n",
       " 'Introduction to the fundamentals of image processing and computer vision. Image/video acquisition and raw data matrix manipulation; image processing operations and compression methods; object detection, isolation, and classification; 3D tracking and ego-motion with projective transformations.',\n",
       " 'Overview of the network protocol stack. Reliable communications over a link; medium access; packet routing; the transport and application layers. Data and network security. Internet and telecommunications packet network architectures. Mathematical network analysis and network performance software tools.',\n",
       " 'A directed studies research project in an area of interest, directed by a project advisor/faculty member. Includes an independent student component covering the scientific process, ethics, review of literature, and writing scientific proposals and manuscripts. Projects may involve experimental, analytical or computer modelling studies.',\n",
       " 'Covers the application of project management principles such as planning, scope development, design, procurement, construction, commissioning and start-up to engineering projects. Class reviews aspects of a current major engineering projects and case studies.',\n",
       " 'This highly experiential course helps the engineering student build a personal practice in entrepreneurship, design thinking, and human-centered design for innovation. Topics include the entrepreneurial mindset; idea generation, validation, and feasibility analysis; product pretotyping and prototyping; and the basics of business design and execution. Leading edge practical tools and frameworks are examined and put to use in authentic learning activities that teach the student to get to first revenues.',\n",
       " 'Geometry and orientation of multi-image networks, self-calibrating bundle adjustment, direct versus indirect geo-referencing, 3D point cloud generation via structure-from-motion approaches, geometry of line cameras, principles of active imaging systems, mathematics of LiDAR mapping (registration and calibration), 3D point-cloud manipulation (feature extraction, segmentation and classification), photogrammetry and LiDAR data integration and fusion.',\n",
       " 'Progress in research, development and applications in the field of geospatial technologies; importance of geospatial knowledge and evolution of geospatial technologies in the last decades; focus on six major geospatial technologies that characterize the so-called Geospatial Revolution; Geoweb, Virtual Globes, Volunteered Geographic Information, Location-Based Services, Big data and geospatial cyber-infrastructure; data/product quality, privacy and confidentiality, and societal implication of these technologies will be discussed.',\n",
       " 'An introduction to digital image processing (IP) and computer vision (CV) concepts, methods and algorithms which will enable the students to implement IP/CV systems or use IP/CV software with emphasis on applications and problem-solving in geomatics engineering including remote-sensing and photogrammetry and in other disciplines including energy and environment engineering. Course components include: image formation and intensity transformation, filtering in the spatial and frequency domain, colour image processing, feature detection and matching, image restoration, image segmentation, mathematical morphology and multi-source image/data fusion.',\n",
       " 'Fundamental of matrix theory, linear systems, probability and statistics. Data classification, analysis and bias identification. Random data acquisition, qualification and analysis. Least squares estimation and data analysis. Random process, stationarity test and kinematic modelling. Kalman filtering and real-time data analysis. Introduction to signal processing and time series analysis. Practical applications of data analysis and processing in geomatics engineering.',\n",
       " 'Digital Terrain Modelling (DTM, DEM, DHM, DTEM) concepts and their implementation and applications in geomatics engineering and other disciplines including energy and environment engineering. Emphasis will be on mathematical techniques used in the acquisition processing, storage, manipulation, and applications of DTM. Models of DTM (Grids, Contours, and TINS), data structures (Delaunay triangulation, Voronoi diagram, Octree, k-D tree) processing (filtering, random sample consensus, surface normal computation), surface representation from point data using moving averages, linear projection, and Kriging techniques. Grid resampling methods and search algorithms used in gridding and interpolation. DTM derivatives (slope maps, aspect maps, viewsheds, and watershed). Applications of DTM in volume computation, and drainage networks.',\n",
       " 'Fundamentals of radio-frequency propagation, principles of radio-frequency positioning, observations and their associated error sources. Introduction to self-contained inertial sensors including odometers, gyros, accelerometers, and augmentation of RF methods with self-contained sensors and other data sources. Current systems: Assisted GPS, cellular telephone location techniques, pseudolites, location with wireless computer networks, ultra-wideband. Applications: outdoor and indoor personal location, asset tracking.']"
      ]
     },
     "execution_count": 124,
     "metadata": {},
     "output_type": "execute_result"
    }
   ],
   "source": [
    "elec_course_descs"
   ]
  },
  {
   "cell_type": "markdown",
   "metadata": {},
   "source": [
    "## 5. Combine scraped data and write to CSV"
   ]
  },
  {
   "cell_type": "code",
   "execution_count": 125,
   "metadata": {},
   "outputs": [],
   "source": [
    "course_codes = core_course_codes + elec_course_codes\n",
    "course_names = core_course_names + elec_course_names\n",
    "course_descs = core_course_descs + elec_course_descs"
   ]
  },
  {
   "cell_type": "code",
   "execution_count": 126,
   "metadata": {
    "scrolled": true
   },
   "outputs": [
    {
     "data": {
      "text/html": [
       "<div>\n",
       "<style scoped>\n",
       "    .dataframe tbody tr th:only-of-type {\n",
       "        vertical-align: middle;\n",
       "    }\n",
       "\n",
       "    .dataframe tbody tr th {\n",
       "        vertical-align: top;\n",
       "    }\n",
       "\n",
       "    .dataframe thead th {\n",
       "        text-align: right;\n",
       "    }\n",
       "</style>\n",
       "<table border=\"1\" class=\"dataframe\">\n",
       "  <thead>\n",
       "    <tr style=\"text-align: right;\">\n",
       "      <th></th>\n",
       "      <th>Course Number</th>\n",
       "      <th>Course Name</th>\n",
       "      <th>Course Description</th>\n",
       "    </tr>\n",
       "  </thead>\n",
       "  <tbody>\n",
       "    <tr>\n",
       "      <th>0</th>\n",
       "      <td>Software Engineering for Engineers 310</td>\n",
       "      <td>Fundamentals of Software Design and Development</td>\n",
       "      <td>Introduction to design and implementation of s...</td>\n",
       "    </tr>\n",
       "    <tr>\n",
       "      <th>1</th>\n",
       "      <td>Software Engineering for Engineers 311</td>\n",
       "      <td>Advanced Software Design and Development</td>\n",
       "      <td>Principles of software modeling and design. Ke...</td>\n",
       "    </tr>\n",
       "    <tr>\n",
       "      <th>2</th>\n",
       "      <td>Software Engineering for Engineers 410</td>\n",
       "      <td>Fundamentals of Applied Artificial Intelligence</td>\n",
       "      <td>Techniques for extracting, cleaning, and visua...</td>\n",
       "    </tr>\n",
       "    <tr>\n",
       "      <th>3</th>\n",
       "      <td>Software Engineering for Engineers 411</td>\n",
       "      <td>Advanced Applied Artificial Intelligence and M...</td>\n",
       "      <td>Advanced supervised and unsupervised learning ...</td>\n",
       "    </tr>\n",
       "    <tr>\n",
       "      <th>4</th>\n",
       "      <td>Software Engineering for Engineers 510</td>\n",
       "      <td>Cyber-Physical Systems</td>\n",
       "      <td>Fundamental principles related to the design o...</td>\n",
       "    </tr>\n",
       "    <tr>\n",
       "      <th>5</th>\n",
       "      <td>Software Engineering for Engineers 511</td>\n",
       "      <td>Industrial Internet of Things Systems and Data...</td>\n",
       "      <td>Fundamentals of Industrial Internet of Things ...</td>\n",
       "    </tr>\n",
       "    <tr>\n",
       "      <th>6</th>\n",
       "      <td>Chemical Engineering 537</td>\n",
       "      <td>Computational Thermodynamics</td>\n",
       "      <td>Amalgamation of thermodynamic models and compu...</td>\n",
       "    </tr>\n",
       "    <tr>\n",
       "      <th>7</th>\n",
       "      <td>Chemical Engineering 561</td>\n",
       "      <td>Machine Learning for Energy Systems</td>\n",
       "      <td>Applications of Machine Learning, Artificial I...</td>\n",
       "    </tr>\n",
       "    <tr>\n",
       "      <th>8</th>\n",
       "      <td>Chemical Engineering 565</td>\n",
       "      <td>Process Sensors and Data Acquisition</td>\n",
       "      <td>Introduction to chemical engineering sensors a...</td>\n",
       "    </tr>\n",
       "    <tr>\n",
       "      <th>9</th>\n",
       "      <td>Electrical Engineering 503</td>\n",
       "      <td>Computer Vision</td>\n",
       "      <td>Introduction to the fundamentals of image proc...</td>\n",
       "    </tr>\n",
       "    <tr>\n",
       "      <th>10</th>\n",
       "      <td>Electrical Engineering 573</td>\n",
       "      <td>Computer Networks</td>\n",
       "      <td>Overview of the network protocol stack. Reliab...</td>\n",
       "    </tr>\n",
       "    <tr>\n",
       "      <th>11</th>\n",
       "      <td>Electrical Engineering 592</td>\n",
       "      <td>Undergraduate Research Thesis I</td>\n",
       "      <td>A directed studies research project in an area...</td>\n",
       "    </tr>\n",
       "    <tr>\n",
       "      <th>12</th>\n",
       "      <td>Engineering 515</td>\n",
       "      <td>Project Management for Engineers</td>\n",
       "      <td>Covers the application of project management p...</td>\n",
       "    </tr>\n",
       "    <tr>\n",
       "      <th>13</th>\n",
       "      <td>Engineering 525</td>\n",
       "      <td>Engineering Entrepreneurship</td>\n",
       "      <td>This highly experiential course helps the engi...</td>\n",
       "    </tr>\n",
       "    <tr>\n",
       "      <th>14</th>\n",
       "      <td>Geomatics Engineering 531</td>\n",
       "      <td>Advanced Photogrammetric and Ranging Techniques</td>\n",
       "      <td>Geometry and orientation of multi-image networ...</td>\n",
       "    </tr>\n",
       "    <tr>\n",
       "      <th>15</th>\n",
       "      <td>Geomatics Engineering 551</td>\n",
       "      <td>Advanced Geospatial Topics</td>\n",
       "      <td>Progress in research, development and applicat...</td>\n",
       "    </tr>\n",
       "    <tr>\n",
       "      <th>16</th>\n",
       "      <td>Geomatics Engineering 559</td>\n",
       "      <td>Digital Imaging and Applications</td>\n",
       "      <td>An introduction to digital image processing (I...</td>\n",
       "    </tr>\n",
       "    <tr>\n",
       "      <th>17</th>\n",
       "      <td>Geomatics Engineering 563</td>\n",
       "      <td>Data Analysis in Engineering</td>\n",
       "      <td>Fundamental of matrix theory, linear systems, ...</td>\n",
       "    </tr>\n",
       "    <tr>\n",
       "      <th>18</th>\n",
       "      <td>Geomatics Engineering 573</td>\n",
       "      <td>Digital Terrain Modelling</td>\n",
       "      <td>Digital Terrain Modelling (DTM, DEM, DHM, DTEM...</td>\n",
       "    </tr>\n",
       "    <tr>\n",
       "      <th>19</th>\n",
       "      <td>Geomatics Engineering 585</td>\n",
       "      <td>Wireless Location</td>\n",
       "      <td>Fundamentals of radio-frequency propagation, p...</td>\n",
       "    </tr>\n",
       "  </tbody>\n",
       "</table>\n",
       "</div>"
      ],
      "text/plain": [
       "                             Course Number  \\\n",
       "0   Software Engineering for Engineers 310   \n",
       "1   Software Engineering for Engineers 311   \n",
       "2   Software Engineering for Engineers 410   \n",
       "3   Software Engineering for Engineers 411   \n",
       "4   Software Engineering for Engineers 510   \n",
       "5   Software Engineering for Engineers 511   \n",
       "6                 Chemical Engineering 537   \n",
       "7                 Chemical Engineering 561   \n",
       "8                 Chemical Engineering 565   \n",
       "9               Electrical Engineering 503   \n",
       "10              Electrical Engineering 573   \n",
       "11              Electrical Engineering 592   \n",
       "12                         Engineering 515   \n",
       "13                         Engineering 525   \n",
       "14               Geomatics Engineering 531   \n",
       "15               Geomatics Engineering 551   \n",
       "16               Geomatics Engineering 559   \n",
       "17               Geomatics Engineering 563   \n",
       "18               Geomatics Engineering 573   \n",
       "19               Geomatics Engineering 585   \n",
       "\n",
       "                                          Course Name  \\\n",
       "0     Fundamentals of Software Design and Development   \n",
       "1            Advanced Software Design and Development   \n",
       "2     Fundamentals of Applied Artificial Intelligence   \n",
       "3   Advanced Applied Artificial Intelligence and M...   \n",
       "4                              Cyber-Physical Systems   \n",
       "5   Industrial Internet of Things Systems and Data...   \n",
       "6                        Computational Thermodynamics   \n",
       "7                 Machine Learning for Energy Systems   \n",
       "8                Process Sensors and Data Acquisition   \n",
       "9                                     Computer Vision   \n",
       "10                                  Computer Networks   \n",
       "11                    Undergraduate Research Thesis I   \n",
       "12                   Project Management for Engineers   \n",
       "13                       Engineering Entrepreneurship   \n",
       "14    Advanced Photogrammetric and Ranging Techniques   \n",
       "15                         Advanced Geospatial Topics   \n",
       "16                   Digital Imaging and Applications   \n",
       "17                       Data Analysis in Engineering   \n",
       "18                          Digital Terrain Modelling   \n",
       "19                                  Wireless Location   \n",
       "\n",
       "                                   Course Description  \n",
       "0   Introduction to design and implementation of s...  \n",
       "1   Principles of software modeling and design. Ke...  \n",
       "2   Techniques for extracting, cleaning, and visua...  \n",
       "3   Advanced supervised and unsupervised learning ...  \n",
       "4   Fundamental principles related to the design o...  \n",
       "5   Fundamentals of Industrial Internet of Things ...  \n",
       "6   Amalgamation of thermodynamic models and compu...  \n",
       "7   Applications of Machine Learning, Artificial I...  \n",
       "8   Introduction to chemical engineering sensors a...  \n",
       "9   Introduction to the fundamentals of image proc...  \n",
       "10  Overview of the network protocol stack. Reliab...  \n",
       "11  A directed studies research project in an area...  \n",
       "12  Covers the application of project management p...  \n",
       "13  This highly experiential course helps the engi...  \n",
       "14  Geometry and orientation of multi-image networ...  \n",
       "15  Progress in research, development and applicat...  \n",
       "16  An introduction to digital image processing (I...  \n",
       "17  Fundamental of matrix theory, linear systems, ...  \n",
       "18  Digital Terrain Modelling (DTM, DEM, DHM, DTEM...  \n",
       "19  Fundamentals of radio-frequency propagation, p...  "
      ]
     },
     "execution_count": 126,
     "metadata": {},
     "output_type": "execute_result"
    }
   ],
   "source": [
    "import pandas as pd\n",
    "\n",
    "df = pd.DataFrame({\n",
    "    \"Course Number\": course_codes,\n",
    "    \"Course Name\": course_names,\n",
    "    \"Course Description\": course_descs    \n",
    "})\n",
    "\n",
    "df"
   ]
  },
  {
   "cell_type": "code",
   "execution_count": 127,
   "metadata": {},
   "outputs": [],
   "source": [
    "df.to_csv('UCalgary_MechEng_Digital_minor_Courses.csv', index = False)"
   ]
  },
  {
   "cell_type": "markdown",
   "metadata": {},
   "source": [
    "# EnergyEnv"
   ]
  },
  {
   "cell_type": "markdown",
   "metadata": {},
   "source": [
    "## 1. Collect core course link texts for webdriver to click on"
   ]
  },
  {
   "cell_type": "code",
   "execution_count": 130,
   "metadata": {},
   "outputs": [],
   "source": [
    "driver.get(url)"
   ]
  },
  {
   "cell_type": "code",
   "execution_count": 131,
   "metadata": {},
   "outputs": [],
   "source": [
    "page_soup = soup(driver.page_source, 'lxml')"
   ]
  },
  {
   "cell_type": "code",
   "execution_count": 132,
   "metadata": {},
   "outputs": [],
   "source": [
    "core_container = page_soup.find(\"span\", {\"id\": \"ctl00_ctl00_pageContent_ctl05_ctl02_cnBody\"}).find(\"ul\")"
   ]
  },
  {
   "cell_type": "code",
   "execution_count": 133,
   "metadata": {},
   "outputs": [
    {
     "data": {
      "text/plain": [
       "['Energy and Environment, Engineering 355',\n",
       " '377',\n",
       " 'Energy Management 301',\n",
       " 'Science 529',\n",
       " 'Energy and Environment Technical Electives ',\n",
       " 'Mechanical Engineering Technical Electives']"
      ]
     },
     "execution_count": 133,
     "metadata": {},
     "output_type": "execute_result"
    }
   ],
   "source": [
    "core_link_texts = core_container.findAll(\"a\", {\"class\": \"link-text\"})\n",
    "core_link_texts = [link_text.text for link_text in core_link_texts]\n",
    "core_link_texts"
   ]
  },
  {
   "cell_type": "code",
   "execution_count": 134,
   "metadata": {},
   "outputs": [
    {
     "data": {
      "text/plain": [
       "['Energy and Environment, Engineering 355',\n",
       " '377',\n",
       " 'Energy Management 301',\n",
       " 'Science 529']"
      ]
     },
     "execution_count": 134,
     "metadata": {},
     "output_type": "execute_result"
    }
   ],
   "source": [
    "core_link_texts = [link_text for link_text in core_link_texts if bool(re.match(\"[A-Za-z, ]*[0-9]{3}\", link_text))]\n",
    "core_link_texts"
   ]
  },
  {
   "cell_type": "markdown",
   "metadata": {},
   "source": [
    "## 2. Scrape core courses"
   ]
  },
  {
   "cell_type": "code",
   "execution_count": 135,
   "metadata": {},
   "outputs": [
    {
     "name": "stdout",
     "output_type": "stream",
     "text": [
      "Scraped  Energy and Environment, Engineering 355\n",
      "Scraped  Energy and Environment, Engineering 377\n",
      "Scraped  Energy Management 301\n",
      "Scraped  Science 529\n",
      "Finished scraping 4 courses\n"
     ]
    }
   ],
   "source": [
    "link_texts = core_link_texts\n",
    "\n",
    "core_course_codes = []\n",
    "core_course_names = []\n",
    "core_course_descs = []\n",
    "counter = 0\n",
    "\n",
    "visited_ids = [] #to keep track of which link has been clicked and avoid clicking on links with the same course code\n",
    "#ex. multiple links in the page has text \"502\" - mech 502 and eng 502\n",
    "\n",
    "driver.get(\"https://ucalgary.ca/pubs/calendar/current/en-4-8.html\")\n",
    "time.sleep(3)\n",
    "    \n",
    "for link_text in link_texts:\n",
    "    #go to course page\n",
    "    try:\n",
    "        links = driver.find_elements_by_link_text(link_text)\n",
    "    except NoSuchElementException:\n",
    "        print(\"no link for {}\".format(link_text))\n",
    "        continue\n",
    "    time.sleep(2)\n",
    "    \n",
    "    for i in range(len(links)):\n",
    "        \n",
    "        link = driver.find_elements_by_link_text(link_text)[i]\n",
    "        link.click()\n",
    "        time.sleep(2)\n",
    "    \n",
    "        #scrape course info\n",
    "        page_soup = soup(driver.page_source, 'lxml')\n",
    "        #get the id of the table containing the specific course information\n",
    "        starting_index = driver.current_url.index(\"#\")+1\n",
    "        table_id = driver.current_url[starting_index:]\n",
    "        \n",
    "        #check if table id has already been visited\n",
    "        if table_id in visited_ids:\n",
    "            driver.get(\"https://ucalgary.ca/pubs/calendar/current/en-4-8.html\")\n",
    "            time.sleep(2)\n",
    "            print(link_text, \"already scraped\")\n",
    "            continue\n",
    "        \n",
    "        #locate the container/table using the id\n",
    "        container = page_soup.find(\"a\", {\"name\": table_id})\n",
    "        container = container.parent\n",
    "        course_info = container.findAll(\"span\", {\"class\": \"course-code\"})\n",
    "        \n",
    "        #check if this course belongs is of the correct subject\n",
    "        if bool(re.match(\"[0-9]{3}\", link_text)) and course_info[0].text.strip() not in core_course_codes[-1]:\n",
    "            driver.get(\"https://ucalgary.ca/pubs/calendar/current/en-4-8.html\")\n",
    "            time.sleep(2)\n",
    "            print(link_text, \"incorrect subject\")\n",
    "            continue\n",
    "            \n",
    "        visited_ids.append(table_id)\n",
    "        \n",
    "        core_course_codes.append(course_info[0].text.strip() + \" \" + course_info[1].text.strip())\n",
    "        core_course_names.append(course_info[2].text.strip())\n",
    "        core_course_descs.append(container.find(\"span\", {\"class\": \"course-desc\"}).text.strip())\n",
    "        \n",
    "        print(\"Scraped \", core_course_codes[-1])\n",
    "        counter += 1\n",
    "        \n",
    "        #go to course list page\n",
    "        driver.get(\"https://ucalgary.ca/pubs/calendar/current/en-4-8.html\")\n",
    "        time.sleep(2)\n",
    "        \n",
    "print(\"Finished scraping {} courses\".format(counter))"
   ]
  },
  {
   "cell_type": "code",
   "execution_count": 136,
   "metadata": {},
   "outputs": [
    {
     "data": {
      "text/plain": [
       "['Energy and Environment, Engineering 355',\n",
       " 'Energy and Environment, Engineering 377',\n",
       " 'Energy Management 301',\n",
       " 'Science 529']"
      ]
     },
     "execution_count": 136,
     "metadata": {},
     "output_type": "execute_result"
    }
   ],
   "source": [
    "core_course_codes"
   ]
  },
  {
   "cell_type": "code",
   "execution_count": 137,
   "metadata": {},
   "outputs": [
    {
     "data": {
      "text/plain": [
       "['Introduction to Energy and the Environment',\n",
       " 'Introduction to Environmental Engineering and Sustainability',\n",
       " 'Electricity Regulation',\n",
       " 'Project Course in Sustainable Energy, Environment and Economy']"
      ]
     },
     "execution_count": 137,
     "metadata": {},
     "output_type": "execute_result"
    }
   ],
   "source": [
    "core_course_names"
   ]
  },
  {
   "cell_type": "code",
   "execution_count": 138,
   "metadata": {},
   "outputs": [
    {
     "data": {
      "text/plain": [
       "['History of energy technologies, energetics of natural systems and agriculture, formation, extraction, and transformations of fossil fuels, renewables such as biomass, solar and wind; and the electricity system, environmental impacts of energy systems, technical options for transforming energy systems to reduce environmental impacts.',\n",
       " 'Theory and practice of environmental engineering. Theory and practice of sustainable development, with a multidisciplinary approach, including components such as engineering, economics, carbon foot-print, policy planning, social license. Comparison of the roles of environmental engineering and sustainable development in society. Environmental and sustainability focused ethics issues including Indigenous engagement, treaty rights and Indigenous rights. Indigenous environmental perspectives. ',\n",
       " 'An examination of energy development and the business, law and policy issues arising from the development of different electricity sources (nuclear and renewable energy sources).',\n",
       " 'Intended to achieve integration across the interdisciplinary energy, environment and economy programs.']"
      ]
     },
     "execution_count": 138,
     "metadata": {},
     "output_type": "execute_result"
    }
   ],
   "source": [
    "core_course_descs"
   ]
  },
  {
   "cell_type": "markdown",
   "metadata": {},
   "source": [
    "## 3. Collect elective course link texts"
   ]
  },
  {
   "cell_type": "code",
   "execution_count": 139,
   "metadata": {},
   "outputs": [],
   "source": [
    "driver.get(\"https://ucalgary.ca/pubs/calendar/current/en-4-14.html\")"
   ]
  },
  {
   "cell_type": "code",
   "execution_count": 140,
   "metadata": {},
   "outputs": [],
   "source": [
    "page_soup = soup(driver.page_source, 'lxml')"
   ]
  },
  {
   "cell_type": "code",
   "execution_count": 141,
   "metadata": {},
   "outputs": [],
   "source": [
    "electives_container = page_soup.find(\"span\", {\"id\": \"ctl00_ctl00_pageContent_ctl05_ctl02_cnBody\"}).find(\"ul\")"
   ]
  },
  {
   "cell_type": "code",
   "execution_count": 142,
   "metadata": {
    "scrolled": true
   },
   "outputs": [
    {
     "data": {
      "text/plain": [
       "['Chemical Engineering 530',\n",
       " 'Civil Engineering 502',\n",
       " '508',\n",
       " '581',\n",
       " 'Computer Engineering 509',\n",
       " '511',\n",
       " 'Electrical Engineering 562',\n",
       " '584',\n",
       " '585',\n",
       " '587',\n",
       " '597',\n",
       " 'Energy and Environment, Engineering 501',\n",
       " '503',\n",
       " '505',\n",
       " '507',\n",
       " '519',\n",
       " '575',\n",
       " '577',\n",
       " 'Engineering 523',\n",
       " 'Geomatics Engineering 551',\n",
       " '559',\n",
       " '573',\n",
       " '583',\n",
       " 'Mechanical Engineering 583',\n",
       " '570',\n",
       " '595',\n",
       " '597',\n",
       " 'Petroleum Engineering 523',\n",
       " '533',\n",
       " '555',\n",
       " '561',\n",
       " '571']"
      ]
     },
     "execution_count": 142,
     "metadata": {},
     "output_type": "execute_result"
    }
   ],
   "source": [
    "elec_link_texts = electives_container.findAll(\"a\", {\"class\": \"link-text\"})\n",
    "elec_link_texts = [link_text.text for link_text in elec_link_texts]\n",
    "elec_link_texts"
   ]
  },
  {
   "cell_type": "markdown",
   "metadata": {},
   "source": [
    "## 4. Scrape elective courses"
   ]
  },
  {
   "cell_type": "code",
   "execution_count": 143,
   "metadata": {
    "scrolled": true
   },
   "outputs": [
    {
     "name": "stdout",
     "output_type": "stream",
     "text": [
      "Scraped  Chemical Engineering 530\n",
      "Scraped  Civil Engineering 502\n",
      "Scraped  Civil Engineering 508\n",
      "Scraped  Civil Engineering 581\n",
      "Scraped  Computer Engineering 509\n",
      "Computer Engineering 509 already scraped\n",
      "511 incorrect subject\n",
      "Scraped  Computer Engineering 511\n",
      "511 already scraped\n",
      "Scraped  Electrical Engineering 562\n",
      "Scraped  Electrical Engineering 584\n",
      "585 incorrect subject\n",
      "585 incorrect subject\n",
      "Scraped  Electrical Engineering 585\n",
      "Scraped  Electrical Engineering 587\n",
      "597 incorrect subject\n",
      "Scraped  Electrical Engineering 597\n",
      "597 incorrect subject\n",
      "Scraped  Energy and Environment, Engineering 501\n",
      "503 incorrect subject\n",
      "Scraped  Energy and Environment, Engineering 503\n",
      "Scraped  Energy and Environment, Engineering 505\n",
      "Scraped  Energy and Environment, Engineering 507\n",
      "519 incorrect subject\n",
      "519 incorrect subject\n",
      "Scraped  Energy and Environment, Engineering 519\n",
      "Scraped  Energy and Environment, Engineering 575\n",
      "Scraped  Energy and Environment, Engineering 577\n",
      "Scraped  Engineering 523\n",
      "Engineering 523 already scraped\n",
      "Scraped  Geomatics Engineering 551\n",
      "Scraped  Geomatics Engineering 559\n",
      "559 already scraped\n",
      "573 incorrect subject\n",
      "573 incorrect subject\n",
      "Scraped  Geomatics Engineering 573\n",
      "573 already scraped\n",
      "Scraped  Geomatics Engineering 583\n",
      "Scraped  Mechanical Engineering 583\n",
      "Scraped  Mechanical Engineering 570\n",
      "Scraped  Mechanical Engineering 595\n",
      "595 already scraped\n",
      "Scraped  Mechanical Engineering 597\n",
      "597 already scraped\n",
      "597 already scraped\n",
      "Scraped  Petroleum Engineering 523\n",
      "Scraped  Petroleum Engineering 533\n",
      "Scraped  Petroleum Engineering 555\n",
      "561 incorrect subject\n",
      "Scraped  Petroleum Engineering 561\n",
      "571 incorrect subject\n",
      "Scraped  Petroleum Engineering 571\n",
      "Finished scraping 32 courses\n"
     ]
    }
   ],
   "source": [
    "link_texts = elec_link_texts\n",
    "\n",
    "elec_course_codes = []\n",
    "elec_course_names = []\n",
    "elec_course_descs = []\n",
    "counter = 0\n",
    "\n",
    "visited_ids = [] #to keep track of which link has been clicked and avoid clicking on links with the same course code\n",
    "#ex. multiple links in the page has text \"502\" - mech 502 and eng 502\n",
    "\n",
    "driver.get(\"https://ucalgary.ca/pubs/calendar/current/en-4-14.html\")\n",
    "time.sleep(3)\n",
    "    \n",
    "for link_text in link_texts:\n",
    "    #go to course page\n",
    "    try:\n",
    "        links = driver.find_elements_by_link_text(link_text)\n",
    "    except NoSuchElementException:\n",
    "        print(\"no link for {}\".format(link_text))\n",
    "        continue\n",
    "    time.sleep(2)\n",
    "    \n",
    "    for i in range(len(links)):\n",
    "        \n",
    "        link = driver.find_elements_by_link_text(link_text)[i]\n",
    "        link.click()\n",
    "        time.sleep(3)\n",
    "    \n",
    "        #scrape course info\n",
    "        page_soup = soup(driver.page_source, 'lxml')\n",
    "        #get the id of the table containing the specific course information\n",
    "        starting_index = driver.current_url.index(\"#\")+1\n",
    "        table_id = driver.current_url[starting_index:]\n",
    "        \n",
    "        #check if table id has already been visited\n",
    "        if table_id in visited_ids:\n",
    "            driver.get(\"https://ucalgary.ca/pubs/calendar/current/en-4-14.html\")\n",
    "            time.sleep(2)\n",
    "            print(link_text, \"already scraped\")\n",
    "            continue\n",
    "        \n",
    "        #locate the container/table using the id\n",
    "        container = page_soup.find(\"a\", {\"name\": table_id})\n",
    "        container = container.parent\n",
    "        course_info = container.findAll(\"span\", {\"class\": \"course-code\"})\n",
    "        \n",
    "        #check if this course belongs is of the correct subject\n",
    "        subject = course_info[0].text.strip()\n",
    "        if bool(re.match(\"[0-9]{3}\", link_text)) and (subject not in elec_course_codes[-1] or elec_course_codes[-1].split()[0] not in subject):\n",
    "            driver.get(\"https://ucalgary.ca/pubs/calendar/current/en-4-14.html\")\n",
    "            time.sleep(2)\n",
    "            print(link_text, \"incorrect subject\")\n",
    "            continue\n",
    "            \n",
    "        visited_ids.append(table_id)\n",
    "        \n",
    "        elec_course_codes.append(subject + \" \" + course_info[1].text.strip())\n",
    "        elec_course_names.append(course_info[2].text.strip())\n",
    "        elec_course_descs.append(container.find(\"span\", {\"class\": \"course-desc\"}).text.strip())\n",
    "        \n",
    "        print(\"Scraped \", elec_course_codes[-1])\n",
    "        counter += 1\n",
    "        \n",
    "        #go to course list page\n",
    "        driver.get(\"https://ucalgary.ca/pubs/calendar/current/en-4-14.html\")\n",
    "        time.sleep(3)\n",
    "        \n",
    "print(\"Finished scraping {} courses\".format(counter))"
   ]
  },
  {
   "cell_type": "code",
   "execution_count": 144,
   "metadata": {
    "scrolled": true
   },
   "outputs": [
    {
     "data": {
      "text/plain": [
       "['Chemical Engineering 530',\n",
       " 'Civil Engineering 502',\n",
       " 'Civil Engineering 508',\n",
       " 'Civil Engineering 581',\n",
       " 'Computer Engineering 509',\n",
       " 'Computer Engineering 511',\n",
       " 'Electrical Engineering 562',\n",
       " 'Electrical Engineering 584',\n",
       " 'Electrical Engineering 585',\n",
       " 'Electrical Engineering 587',\n",
       " 'Electrical Engineering 597',\n",
       " 'Energy and Environment, Engineering 501',\n",
       " 'Energy and Environment, Engineering 503',\n",
       " 'Energy and Environment, Engineering 505',\n",
       " 'Energy and Environment, Engineering 507',\n",
       " 'Energy and Environment, Engineering 519',\n",
       " 'Energy and Environment, Engineering 575',\n",
       " 'Energy and Environment, Engineering 577',\n",
       " 'Engineering 523',\n",
       " 'Geomatics Engineering 551',\n",
       " 'Geomatics Engineering 559',\n",
       " 'Geomatics Engineering 573',\n",
       " 'Geomatics Engineering 583',\n",
       " 'Mechanical Engineering 583',\n",
       " 'Mechanical Engineering 570',\n",
       " 'Mechanical Engineering 595',\n",
       " 'Mechanical Engineering 597',\n",
       " 'Petroleum Engineering 523',\n",
       " 'Petroleum Engineering 533',\n",
       " 'Petroleum Engineering 555',\n",
       " 'Petroleum Engineering 561',\n",
       " 'Petroleum Engineering 571']"
      ]
     },
     "execution_count": 144,
     "metadata": {},
     "output_type": "execute_result"
    }
   ],
   "source": [
    "elec_course_codes"
   ]
  },
  {
   "cell_type": "code",
   "execution_count": 145,
   "metadata": {
    "scrolled": true
   },
   "outputs": [
    {
     "data": {
      "text/plain": [
       "['Electrochemical Engineering',\n",
       " 'Civil Engineering Aspects of Sustainable Communities',\n",
       " 'Environmental Aspects of Energy',\n",
       " 'Environmental Engineering II',\n",
       " 'Fundamentals of Biometric Systems Design',\n",
       " 'Embedded System Interfacing',\n",
       " 'Photovoltaic Systems Engineering',\n",
       " 'Electrical Power Systems in Commercial and Institutional Buildings',\n",
       " 'Introduction to Power Electronics',\n",
       " 'Power Systems Analysis',\n",
       " 'Power Systems Operation and Markets',\n",
       " 'Pollution Prevention and Control for Energy Industry',\n",
       " 'Life Cycle Assessment',\n",
       " 'Effluent Treatment Processes for Energy Industry',\n",
       " 'Introduction to Sustainable Development',\n",
       " 'Special Topics in Energy and Environment',\n",
       " 'Alternative Energy Systems',\n",
       " 'Electrical Transmission System Planning and Operation',\n",
       " 'Bio-inspired Design',\n",
       " 'Advanced Geospatial Topics',\n",
       " 'Digital Imaging and Applications',\n",
       " 'Digital Terrain Modelling',\n",
       " 'Environmental Modelling',\n",
       " 'Mechanical Systems in Buildings',\n",
       " 'Aerodynamics',\n",
       " 'Gas Dynamics',\n",
       " 'Turbomachinery',\n",
       " 'Introduction to Reservoir Engineering',\n",
       " 'Petroleum Production Engineering',\n",
       " 'Oil and Gas Field Safety and Equipment',\n",
       " 'Fuel Science and Technology',\n",
       " 'Unconventional Oil Production']"
      ]
     },
     "execution_count": 145,
     "metadata": {},
     "output_type": "execute_result"
    }
   ],
   "source": [
    "elec_course_names"
   ]
  },
  {
   "cell_type": "code",
   "execution_count": 146,
   "metadata": {},
   "outputs": [
    {
     "data": {
      "text/plain": [
       "['Electrochemical kinetics and thermodynamics. Mass transport in electrochemical cells. Design and modelling of electrochemical cells. Application of electrochemistry to fuel cells, batteries, and water treatment.',\n",
       " 'Definition of sustainability; global urbanization; emissions from transportation systems; economics of urban development from a civil infrastructure point of view, water/wastewater, land use/transportation; public transportation; travel demand management for sustainability; construction industry - energy use and emissions.',\n",
       " 'Environmental assessment and management in the energy sector. Ecological footprint introduction. Site investigation, field techniques and program implementation; remedial planning and design; cost and time analysis; physical, chemical and biological remediation techniques; biomass and waste to energy; energy use and emissions in transportation systems; energy efficiencies and emissions in building construction; assess problems with energy use from an environmental setting; develop and apply engineered solutions; ecological and environmental footprints of energy industries.',\n",
       " 'Water and wastewater quantities and quality, water distribution and wastewater collection systems, hydraulic considerations, design of sanitary sewers, storm drainage systems, physical, chemical, and biological processes for water and wastewater treatment; aeration, coagulation, flocculation, sedimentation, single and multi-media filtration, disinfection, activated sludge system and trickling filter, adsorption, reverse osmosis, membrane filtration, advanced oxidation, sludge processing and disposal, industrial water and wastewater treatment, water conservation, reuse and recycling.',\n",
       " 'Biometric systems, sensors and devices, Integration of Biometric-based hardware and software, Biometric applications.',\n",
       " 'Review of computer architecture; microcontrollers and their instruction sets; interfacing using common input/output devices, debugging and other software engineering practices, strategies for interrupt handling and exception handling; Interfacing using high level and assembly languages; software and hardware optimizations to achieve real time operations; real time operating systems; Embedded real-time applications.',\n",
       " 'Prospect of photovoltaics in Canada; solar radiation; fundamentals of solar cell; photovoltaic system design; grid connected photovoltaic systems; mechanical and environmental considerations.',\n",
       " 'Electrical engineering design and practice applied to the building industry; Power Distribution Components, Types of power distribution systems, Uninterruptible, Emergency and Standby power systems, Bonding and Grounding, Ground Fault Protection, Light and optics, Measurement of light, lighting engineering, and quality of visual environments is discussed. Overview of basic requirements of the National and Alberta Building Code, and the Canadian Electrical Code that most impact design including rules for life safety systems and installation procedures and requirement.',\n",
       " 'Commutation. Diode rectifiers. Fully controlled 3-phase rectifiers. Choppers, inverters, ac controllers. Single-phase switch mode converters: dc-to-dc, ac-to-dc, dc-to-ac. Circuit and state-space averaging techniques. Switching devices and magnetics.',\n",
       " 'Advanced power flow studies including decoupled, fast decoupled and DC power flow analysis, distribution factors and contingency analysis, transmission system loading and performance, transient stability, voltage stability, load frequency control, voltage control of generators, economics of power generation.',\n",
       " \"Power system operation and economic load dispatch, concept of marginal cost, Kuhn-Tucker's conditions of optimum, unit commitment, hydrothermal co-ordination, power flow analysis, optimal power flow, probabilistic production simulation, power pools and electricity markets, market design, auction models, power system reliability, primary and secondary frequency control and AGC, steady-state and transient stability, power sector financing and investment planning.\",\n",
       " 'An overview of environmental laws and regulations. Environmental standards for air quality, water and land. Regulatory approval process for new energy projects. Base-Line Study and Environmental Impact Assessment. Environmental review of new energy projects. Pollution prevention methodology and techniques. Separation and recycle streams. Process modification, integration, analysis and control. Risk assessment.',\n",
       " 'Concepts of life cycle analysis. Applications to energy utilization, environmental consequences, sustainable development, environmental process analysis, and optimization. Inventory, impact and improvement analyses of energy systems. LCA Model development and utilization. Human health and safety considerations.',\n",
       " 'Application of fundamental engineering concepts to develop process design specifications for various unit operations and separation processes used for the treatment of gaseous (air), aqueous (wastewater) and solid effluents from mining, exploration, production, transportation and utilization of carbon-based energy sources.',\n",
       " 'Motivations for development of a sustainable industrial economy. Relationship among economic systems, growth and sustainable alternatives. International dimensions. Roles and responsibilities of stakeholders, including government, industry, and society. Tools for assessing sustainability. Sustainability challenges in industrial economies. Scope for sustainable innovations in the energy, manufacturing, and transportation sectors. Case studies of sustainable development.',\n",
       " 'Current advanced topics in Energy and Environment.',\n",
       " 'Review of electrical machines, thermodynamics, and fluid mechanics. Alternative energy systems such with emphasis on hydro, solar photovoltaics, and wind power for electricity production. System design, cost, and sizing, and environmental impacts of alternative energy systems. Effects of intermittency of power production and integration into the electricity grid. Energy storage.',\n",
       " 'Electricity markets, carbon markets, optimal operation of electricity systems, environmental impacts of transmission networks, regulatory issues.',\n",
       " 'This course explores the principles and systems behind evolved natural constructions and processes, and transferring these to device and system design: abstractions of functional morphologies lead to new technical concepts and prototypes. Topics in this course may include: design by analogy, functional morphology, principles and techniques of biomimicry, bio-inspired design methods, technical sketching, bio-inspired computation and modelling, and biomimetic concepts such as self healing, growth, and self-organization.',\n",
       " 'Progress in research, development and applications in the field of geospatial technologies; importance of geospatial knowledge and evolution of geospatial technologies in the last decades; focus on six major geospatial technologies that characterize the so-called Geospatial Revolution; Geoweb, Virtual Globes, Volunteered Geographic Information, Location-Based Services, Big data and geospatial cyber-infrastructure; data/product quality, privacy and confidentiality, and societal implication of these technologies will be discussed.',\n",
       " 'An introduction to digital image processing (IP) and computer vision (CV) concepts, methods and algorithms which will enable the students to implement IP/CV systems or use IP/CV software with emphasis on applications and problem-solving in geomatics engineering including remote-sensing and photogrammetry and in other disciplines including energy and environment engineering. Course components include: image formation and intensity transformation, filtering in the spatial and frequency domain, colour image processing, feature detection and matching, image restoration, image segmentation, mathematical morphology and multi-source image/data fusion.',\n",
       " 'Digital Terrain Modelling (DTM, DEM, DHM, DTEM) concepts and their implementation and applications in geomatics engineering and other disciplines including energy and environment engineering. Emphasis will be on mathematical techniques used in the acquisition processing, storage, manipulation, and applications of DTM. Models of DTM (Grids, Contours, and TINS), data structures (Delaunay triangulation, Voronoi diagram, Octree, k-D tree) processing (filtering, random sample consensus, surface normal computation), surface representation from point data using moving averages, linear projection, and Kriging techniques. Grid resampling methods and search algorithms used in gridding and interpolation. DTM derivatives (slope maps, aspect maps, viewsheds, and watershed). Applications of DTM in volume computation, and drainage networks.',\n",
       " 'Nature and purpose of environmental modelling; the top-down and the bottom-up approaches; typology of environmental models; definition of fundamental concepts; steps involved in designing and building a model; calibration, verification and validation of models; scale dependency; sensitivity analysis; characteristics, architecture and functioning of selected environmental models.',\n",
       " 'Fundamentals of heating, ventilating, and air conditioning systems in buildings. Heating and cooling loads. Codes, regulations, and standards. System selection, generation equipment, heat exchangers, distribution and driving systems, terminal units, controls and accessories, and cost estimating. Energy efficiency and renewable energy applications. Elevators and escalators. Lifting devices. Sewage systems.',\n",
       " 'An introductory course in aerodynamics for engineers. Kinematics and dynamics of viscous and inviscid flow; airfoil dynamics including thin airfoil theory and lifting line theory, finite wings, panel methods and airfoil parameters. Boundary layer theory and boundary layer control as applied in aerodynamics. Introduction to computational fluid dynamics and experimental aerodynamics.',\n",
       " 'Fundamentals of one-dimensional gas dynamics. Isentropic and non-isentropic flows, applications of dynamical similarity to shock waves. Oblique shocks, supersonic nozzles, flows with friction or heat transfer. Introduction to computational fluid dynamics (CFD).',\n",
       " 'Performance of turbomachines, machine selection, Reynolds number and scale effects. Two dimensional flow in turbomachines, degree of reaction and vector diagrams; flow irreversibilities and loss coefficients; pump, compressor and turbine efficiencies. Design of pumps, fans, centrifugal compressors, axial-flow compressors, and axial-flow turbines. Combination of machines with pipes or ducts.',\n",
       " \"Basic concepts of fluid flow in porous media; important reservoir rock and fluid properties affecting productivity; reserve estimation using volumetric and material balance methods in gas, gas-condensate and oil reservoirs; discussion of different reservoir drive mechanisms; aquifer models; decline analysis; Darcy's Law and single phase flow through porous media. Introduction to well testing, solution of radial diffusivity equation corresponding to infinite-acting and pseudo-steady state flow of slightly compressible fluids and real gases.\",\n",
       " 'Principles of oil and gas production mechanics. Analysis of fluid flow from the formation to the surface facility. Reservoir inflow performance. Wellbore hydraulics and multiphase flow. Nodal analysis for production optimization Acidizing and hydraulic fracturing. Water and gas coning. Diagnosis of production problems. Artificial lift; Sucker pumping; electrical submersible pumps; progressing cavity pumps; gas lift.',\n",
       " 'Review of safety issues, blow outs, fire and other hazards, hydrate formation and decomposition, H2S and other toxic gases, safety standards, impact of petroleum operations on the environment, handling and safe transportation and disposal of petroleum wastes.',\n",
       " 'Classification of fuels. Origin, geology, production and processing of fossil fuels. Supply, consumption and demand for fuels - historical patterns and future trends. Thermodynamics and reaction kinetics of combustion. Physical and chemical properties and influence on fuel utilization. Ecological, efficiency, safety, economic considerations. Non-conventional fuels. Transportation and handling.',\n",
       " 'Description and analysis of heavy oil geology and heavy oil recovery technologies. Discussion of heavy oil production mechanisms and methods, recovery process design, transportation, facilities, marketing, economics, and environmental issues.']"
      ]
     },
     "execution_count": 146,
     "metadata": {},
     "output_type": "execute_result"
    }
   ],
   "source": [
    "elec_course_descs"
   ]
  },
  {
   "cell_type": "markdown",
   "metadata": {},
   "source": [
    "## 5. Combine scraped data and write to CSV"
   ]
  },
  {
   "cell_type": "code",
   "execution_count": 147,
   "metadata": {},
   "outputs": [],
   "source": [
    "course_codes = core_course_codes + elec_course_codes\n",
    "course_names = core_course_names + elec_course_names\n",
    "course_descs = core_course_descs + elec_course_descs"
   ]
  },
  {
   "cell_type": "code",
   "execution_count": 148,
   "metadata": {
    "scrolled": true
   },
   "outputs": [
    {
     "data": {
      "text/html": [
       "<div>\n",
       "<style scoped>\n",
       "    .dataframe tbody tr th:only-of-type {\n",
       "        vertical-align: middle;\n",
       "    }\n",
       "\n",
       "    .dataframe tbody tr th {\n",
       "        vertical-align: top;\n",
       "    }\n",
       "\n",
       "    .dataframe thead th {\n",
       "        text-align: right;\n",
       "    }\n",
       "</style>\n",
       "<table border=\"1\" class=\"dataframe\">\n",
       "  <thead>\n",
       "    <tr style=\"text-align: right;\">\n",
       "      <th></th>\n",
       "      <th>Course Number</th>\n",
       "      <th>Course Name</th>\n",
       "      <th>Course Description</th>\n",
       "    </tr>\n",
       "  </thead>\n",
       "  <tbody>\n",
       "    <tr>\n",
       "      <th>0</th>\n",
       "      <td>Energy and Environment, Engineering 355</td>\n",
       "      <td>Introduction to Energy and the Environment</td>\n",
       "      <td>History of energy technologies, energetics of ...</td>\n",
       "    </tr>\n",
       "    <tr>\n",
       "      <th>1</th>\n",
       "      <td>Energy and Environment, Engineering 377</td>\n",
       "      <td>Introduction to Environmental Engineering and ...</td>\n",
       "      <td>Theory and practice of environmental engineeri...</td>\n",
       "    </tr>\n",
       "    <tr>\n",
       "      <th>2</th>\n",
       "      <td>Energy Management 301</td>\n",
       "      <td>Electricity Regulation</td>\n",
       "      <td>An examination of energy development and the b...</td>\n",
       "    </tr>\n",
       "    <tr>\n",
       "      <th>3</th>\n",
       "      <td>Science 529</td>\n",
       "      <td>Project Course in Sustainable Energy, Environm...</td>\n",
       "      <td>Intended to achieve integration across the int...</td>\n",
       "    </tr>\n",
       "    <tr>\n",
       "      <th>4</th>\n",
       "      <td>Chemical Engineering 530</td>\n",
       "      <td>Electrochemical Engineering</td>\n",
       "      <td>Electrochemical kinetics and thermodynamics. M...</td>\n",
       "    </tr>\n",
       "    <tr>\n",
       "      <th>5</th>\n",
       "      <td>Civil Engineering 502</td>\n",
       "      <td>Civil Engineering Aspects of Sustainable Commu...</td>\n",
       "      <td>Definition of sustainability; global urbanizat...</td>\n",
       "    </tr>\n",
       "    <tr>\n",
       "      <th>6</th>\n",
       "      <td>Civil Engineering 508</td>\n",
       "      <td>Environmental Aspects of Energy</td>\n",
       "      <td>Environmental assessment and management in the...</td>\n",
       "    </tr>\n",
       "    <tr>\n",
       "      <th>7</th>\n",
       "      <td>Civil Engineering 581</td>\n",
       "      <td>Environmental Engineering II</td>\n",
       "      <td>Water and wastewater quantities and quality, w...</td>\n",
       "    </tr>\n",
       "    <tr>\n",
       "      <th>8</th>\n",
       "      <td>Computer Engineering 509</td>\n",
       "      <td>Fundamentals of Biometric Systems Design</td>\n",
       "      <td>Biometric systems, sensors and devices, Integr...</td>\n",
       "    </tr>\n",
       "    <tr>\n",
       "      <th>9</th>\n",
       "      <td>Computer Engineering 511</td>\n",
       "      <td>Embedded System Interfacing</td>\n",
       "      <td>Review of computer architecture; microcontroll...</td>\n",
       "    </tr>\n",
       "    <tr>\n",
       "      <th>10</th>\n",
       "      <td>Electrical Engineering 562</td>\n",
       "      <td>Photovoltaic Systems Engineering</td>\n",
       "      <td>Prospect of photovoltaics in Canada; solar rad...</td>\n",
       "    </tr>\n",
       "    <tr>\n",
       "      <th>11</th>\n",
       "      <td>Electrical Engineering 584</td>\n",
       "      <td>Electrical Power Systems in Commercial and Ins...</td>\n",
       "      <td>Electrical engineering design and practice app...</td>\n",
       "    </tr>\n",
       "    <tr>\n",
       "      <th>12</th>\n",
       "      <td>Electrical Engineering 585</td>\n",
       "      <td>Introduction to Power Electronics</td>\n",
       "      <td>Commutation. Diode rectifiers. Fully controlle...</td>\n",
       "    </tr>\n",
       "    <tr>\n",
       "      <th>13</th>\n",
       "      <td>Electrical Engineering 587</td>\n",
       "      <td>Power Systems Analysis</td>\n",
       "      <td>Advanced power flow studies including decouple...</td>\n",
       "    </tr>\n",
       "    <tr>\n",
       "      <th>14</th>\n",
       "      <td>Electrical Engineering 597</td>\n",
       "      <td>Power Systems Operation and Markets</td>\n",
       "      <td>Power system operation and economic load dispa...</td>\n",
       "    </tr>\n",
       "    <tr>\n",
       "      <th>15</th>\n",
       "      <td>Energy and Environment, Engineering 501</td>\n",
       "      <td>Pollution Prevention and Control for Energy In...</td>\n",
       "      <td>An overview of environmental laws and regulati...</td>\n",
       "    </tr>\n",
       "    <tr>\n",
       "      <th>16</th>\n",
       "      <td>Energy and Environment, Engineering 503</td>\n",
       "      <td>Life Cycle Assessment</td>\n",
       "      <td>Concepts of life cycle analysis. Applications ...</td>\n",
       "    </tr>\n",
       "    <tr>\n",
       "      <th>17</th>\n",
       "      <td>Energy and Environment, Engineering 505</td>\n",
       "      <td>Effluent Treatment Processes for Energy Industry</td>\n",
       "      <td>Application of fundamental engineering concept...</td>\n",
       "    </tr>\n",
       "    <tr>\n",
       "      <th>18</th>\n",
       "      <td>Energy and Environment, Engineering 507</td>\n",
       "      <td>Introduction to Sustainable Development</td>\n",
       "      <td>Motivations for development of a sustainable i...</td>\n",
       "    </tr>\n",
       "    <tr>\n",
       "      <th>19</th>\n",
       "      <td>Energy and Environment, Engineering 519</td>\n",
       "      <td>Special Topics in Energy and Environment</td>\n",
       "      <td>Current advanced topics in Energy and Environm...</td>\n",
       "    </tr>\n",
       "    <tr>\n",
       "      <th>20</th>\n",
       "      <td>Energy and Environment, Engineering 575</td>\n",
       "      <td>Alternative Energy Systems</td>\n",
       "      <td>Review of electrical machines, thermodynamics,...</td>\n",
       "    </tr>\n",
       "    <tr>\n",
       "      <th>21</th>\n",
       "      <td>Energy and Environment, Engineering 577</td>\n",
       "      <td>Electrical Transmission System Planning and Op...</td>\n",
       "      <td>Electricity markets, carbon markets, optimal o...</td>\n",
       "    </tr>\n",
       "    <tr>\n",
       "      <th>22</th>\n",
       "      <td>Engineering 523</td>\n",
       "      <td>Bio-inspired Design</td>\n",
       "      <td>This course explores the principles and system...</td>\n",
       "    </tr>\n",
       "    <tr>\n",
       "      <th>23</th>\n",
       "      <td>Geomatics Engineering 551</td>\n",
       "      <td>Advanced Geospatial Topics</td>\n",
       "      <td>Progress in research, development and applicat...</td>\n",
       "    </tr>\n",
       "    <tr>\n",
       "      <th>24</th>\n",
       "      <td>Geomatics Engineering 559</td>\n",
       "      <td>Digital Imaging and Applications</td>\n",
       "      <td>An introduction to digital image processing (I...</td>\n",
       "    </tr>\n",
       "    <tr>\n",
       "      <th>25</th>\n",
       "      <td>Geomatics Engineering 573</td>\n",
       "      <td>Digital Terrain Modelling</td>\n",
       "      <td>Digital Terrain Modelling (DTM, DEM, DHM, DTEM...</td>\n",
       "    </tr>\n",
       "    <tr>\n",
       "      <th>26</th>\n",
       "      <td>Geomatics Engineering 583</td>\n",
       "      <td>Environmental Modelling</td>\n",
       "      <td>Nature and purpose of environmental modelling;...</td>\n",
       "    </tr>\n",
       "    <tr>\n",
       "      <th>27</th>\n",
       "      <td>Mechanical Engineering 583</td>\n",
       "      <td>Mechanical Systems in Buildings</td>\n",
       "      <td>Fundamentals of heating, ventilating, and air ...</td>\n",
       "    </tr>\n",
       "    <tr>\n",
       "      <th>28</th>\n",
       "      <td>Mechanical Engineering 570</td>\n",
       "      <td>Aerodynamics</td>\n",
       "      <td>An introductory course in aerodynamics for eng...</td>\n",
       "    </tr>\n",
       "    <tr>\n",
       "      <th>29</th>\n",
       "      <td>Mechanical Engineering 595</td>\n",
       "      <td>Gas Dynamics</td>\n",
       "      <td>Fundamentals of one-dimensional gas dynamics. ...</td>\n",
       "    </tr>\n",
       "    <tr>\n",
       "      <th>30</th>\n",
       "      <td>Mechanical Engineering 597</td>\n",
       "      <td>Turbomachinery</td>\n",
       "      <td>Performance of turbomachines, machine selectio...</td>\n",
       "    </tr>\n",
       "    <tr>\n",
       "      <th>31</th>\n",
       "      <td>Petroleum Engineering 523</td>\n",
       "      <td>Introduction to Reservoir Engineering</td>\n",
       "      <td>Basic concepts of fluid flow in porous media; ...</td>\n",
       "    </tr>\n",
       "    <tr>\n",
       "      <th>32</th>\n",
       "      <td>Petroleum Engineering 533</td>\n",
       "      <td>Petroleum Production Engineering</td>\n",
       "      <td>Principles of oil and gas production mechanics...</td>\n",
       "    </tr>\n",
       "    <tr>\n",
       "      <th>33</th>\n",
       "      <td>Petroleum Engineering 555</td>\n",
       "      <td>Oil and Gas Field Safety and Equipment</td>\n",
       "      <td>Review of safety issues, blow outs, fire and o...</td>\n",
       "    </tr>\n",
       "    <tr>\n",
       "      <th>34</th>\n",
       "      <td>Petroleum Engineering 561</td>\n",
       "      <td>Fuel Science and Technology</td>\n",
       "      <td>Classification of fuels. Origin, geology, prod...</td>\n",
       "    </tr>\n",
       "    <tr>\n",
       "      <th>35</th>\n",
       "      <td>Petroleum Engineering 571</td>\n",
       "      <td>Unconventional Oil Production</td>\n",
       "      <td>Description and analysis of heavy oil geology ...</td>\n",
       "    </tr>\n",
       "  </tbody>\n",
       "</table>\n",
       "</div>"
      ],
      "text/plain": [
       "                              Course Number  \\\n",
       "0   Energy and Environment, Engineering 355   \n",
       "1   Energy and Environment, Engineering 377   \n",
       "2                     Energy Management 301   \n",
       "3                               Science 529   \n",
       "4                  Chemical Engineering 530   \n",
       "5                     Civil Engineering 502   \n",
       "6                     Civil Engineering 508   \n",
       "7                     Civil Engineering 581   \n",
       "8                  Computer Engineering 509   \n",
       "9                  Computer Engineering 511   \n",
       "10               Electrical Engineering 562   \n",
       "11               Electrical Engineering 584   \n",
       "12               Electrical Engineering 585   \n",
       "13               Electrical Engineering 587   \n",
       "14               Electrical Engineering 597   \n",
       "15  Energy and Environment, Engineering 501   \n",
       "16  Energy and Environment, Engineering 503   \n",
       "17  Energy and Environment, Engineering 505   \n",
       "18  Energy and Environment, Engineering 507   \n",
       "19  Energy and Environment, Engineering 519   \n",
       "20  Energy and Environment, Engineering 575   \n",
       "21  Energy and Environment, Engineering 577   \n",
       "22                          Engineering 523   \n",
       "23                Geomatics Engineering 551   \n",
       "24                Geomatics Engineering 559   \n",
       "25                Geomatics Engineering 573   \n",
       "26                Geomatics Engineering 583   \n",
       "27               Mechanical Engineering 583   \n",
       "28               Mechanical Engineering 570   \n",
       "29               Mechanical Engineering 595   \n",
       "30               Mechanical Engineering 597   \n",
       "31                Petroleum Engineering 523   \n",
       "32                Petroleum Engineering 533   \n",
       "33                Petroleum Engineering 555   \n",
       "34                Petroleum Engineering 561   \n",
       "35                Petroleum Engineering 571   \n",
       "\n",
       "                                          Course Name  \\\n",
       "0          Introduction to Energy and the Environment   \n",
       "1   Introduction to Environmental Engineering and ...   \n",
       "2                              Electricity Regulation   \n",
       "3   Project Course in Sustainable Energy, Environm...   \n",
       "4                         Electrochemical Engineering   \n",
       "5   Civil Engineering Aspects of Sustainable Commu...   \n",
       "6                     Environmental Aspects of Energy   \n",
       "7                        Environmental Engineering II   \n",
       "8            Fundamentals of Biometric Systems Design   \n",
       "9                         Embedded System Interfacing   \n",
       "10                   Photovoltaic Systems Engineering   \n",
       "11  Electrical Power Systems in Commercial and Ins...   \n",
       "12                  Introduction to Power Electronics   \n",
       "13                             Power Systems Analysis   \n",
       "14                Power Systems Operation and Markets   \n",
       "15  Pollution Prevention and Control for Energy In...   \n",
       "16                              Life Cycle Assessment   \n",
       "17   Effluent Treatment Processes for Energy Industry   \n",
       "18            Introduction to Sustainable Development   \n",
       "19           Special Topics in Energy and Environment   \n",
       "20                         Alternative Energy Systems   \n",
       "21  Electrical Transmission System Planning and Op...   \n",
       "22                                Bio-inspired Design   \n",
       "23                         Advanced Geospatial Topics   \n",
       "24                   Digital Imaging and Applications   \n",
       "25                          Digital Terrain Modelling   \n",
       "26                            Environmental Modelling   \n",
       "27                    Mechanical Systems in Buildings   \n",
       "28                                       Aerodynamics   \n",
       "29                                       Gas Dynamics   \n",
       "30                                     Turbomachinery   \n",
       "31              Introduction to Reservoir Engineering   \n",
       "32                   Petroleum Production Engineering   \n",
       "33             Oil and Gas Field Safety and Equipment   \n",
       "34                        Fuel Science and Technology   \n",
       "35                      Unconventional Oil Production   \n",
       "\n",
       "                                   Course Description  \n",
       "0   History of energy technologies, energetics of ...  \n",
       "1   Theory and practice of environmental engineeri...  \n",
       "2   An examination of energy development and the b...  \n",
       "3   Intended to achieve integration across the int...  \n",
       "4   Electrochemical kinetics and thermodynamics. M...  \n",
       "5   Definition of sustainability; global urbanizat...  \n",
       "6   Environmental assessment and management in the...  \n",
       "7   Water and wastewater quantities and quality, w...  \n",
       "8   Biometric systems, sensors and devices, Integr...  \n",
       "9   Review of computer architecture; microcontroll...  \n",
       "10  Prospect of photovoltaics in Canada; solar rad...  \n",
       "11  Electrical engineering design and practice app...  \n",
       "12  Commutation. Diode rectifiers. Fully controlle...  \n",
       "13  Advanced power flow studies including decouple...  \n",
       "14  Power system operation and economic load dispa...  \n",
       "15  An overview of environmental laws and regulati...  \n",
       "16  Concepts of life cycle analysis. Applications ...  \n",
       "17  Application of fundamental engineering concept...  \n",
       "18  Motivations for development of a sustainable i...  \n",
       "19  Current advanced topics in Energy and Environm...  \n",
       "20  Review of electrical machines, thermodynamics,...  \n",
       "21  Electricity markets, carbon markets, optimal o...  \n",
       "22  This course explores the principles and system...  \n",
       "23  Progress in research, development and applicat...  \n",
       "24  An introduction to digital image processing (I...  \n",
       "25  Digital Terrain Modelling (DTM, DEM, DHM, DTEM...  \n",
       "26  Nature and purpose of environmental modelling;...  \n",
       "27  Fundamentals of heating, ventilating, and air ...  \n",
       "28  An introductory course in aerodynamics for eng...  \n",
       "29  Fundamentals of one-dimensional gas dynamics. ...  \n",
       "30  Performance of turbomachines, machine selectio...  \n",
       "31  Basic concepts of fluid flow in porous media; ...  \n",
       "32  Principles of oil and gas production mechanics...  \n",
       "33  Review of safety issues, blow outs, fire and o...  \n",
       "34  Classification of fuels. Origin, geology, prod...  \n",
       "35  Description and analysis of heavy oil geology ...  "
      ]
     },
     "execution_count": 148,
     "metadata": {},
     "output_type": "execute_result"
    }
   ],
   "source": [
    "import pandas as pd\n",
    "\n",
    "df = pd.DataFrame({\n",
    "    \"Course Number\": course_codes,\n",
    "    \"Course Name\": course_names,\n",
    "    \"Course Description\": course_descs    \n",
    "})\n",
    "\n",
    "df"
   ]
  },
  {
   "cell_type": "code",
   "execution_count": 149,
   "metadata": {},
   "outputs": [],
   "source": [
    "df.to_csv('UCalgary_MechEng_EnergyEnv_minor_Courses.csv', index = False)"
   ]
  },
  {
   "cell_type": "markdown",
   "metadata": {},
   "source": [
    "# Manufacturing"
   ]
  },
  {
   "cell_type": "markdown",
   "metadata": {},
   "source": [
    "## 1. Collect core course link texts for webdriver to click on"
   ]
  },
  {
   "cell_type": "code",
   "execution_count": 150,
   "metadata": {},
   "outputs": [],
   "source": [
    "driver.get(url)"
   ]
  },
  {
   "cell_type": "code",
   "execution_count": 151,
   "metadata": {},
   "outputs": [],
   "source": [
    "page_soup = soup(driver.page_source, 'lxml')"
   ]
  },
  {
   "cell_type": "code",
   "execution_count": 153,
   "metadata": {},
   "outputs": [],
   "source": [
    "core_container = page_soup.find(\"span\", {\"id\": \"ctl00_ctl00_pageContent_ctl06_ctl02_cnBody\"}).find(\"ul\")"
   ]
  },
  {
   "cell_type": "code",
   "execution_count": 154,
   "metadata": {},
   "outputs": [
    {
     "data": {
      "text/plain": [
       "['Manufacturing Engineering 514',\n",
       " 'Manufacturing Engineering Technical Electives']"
      ]
     },
     "execution_count": 154,
     "metadata": {},
     "output_type": "execute_result"
    }
   ],
   "source": [
    "core_link_texts = core_container.findAll(\"a\", {\"class\": \"link-text\"})\n",
    "core_link_texts = [link_text.text for link_text in core_link_texts]\n",
    "core_link_texts"
   ]
  },
  {
   "cell_type": "code",
   "execution_count": 155,
   "metadata": {},
   "outputs": [
    {
     "data": {
      "text/plain": [
       "['Manufacturing Engineering 514']"
      ]
     },
     "execution_count": 155,
     "metadata": {},
     "output_type": "execute_result"
    }
   ],
   "source": [
    "core_link_texts = [link_text for link_text in core_link_texts if bool(re.match(\"[A-Za-z, ]*[0-9]{3}\", link_text))]\n",
    "core_link_texts"
   ]
  },
  {
   "cell_type": "markdown",
   "metadata": {},
   "source": [
    "## 2. Scrape core courses"
   ]
  },
  {
   "cell_type": "code",
   "execution_count": 156,
   "metadata": {},
   "outputs": [
    {
     "name": "stdout",
     "output_type": "stream",
     "text": [
      "Scraped  Manufacturing Engineering 514\n",
      "Finished scraping 1 courses\n"
     ]
    }
   ],
   "source": [
    "link_texts = core_link_texts\n",
    "\n",
    "core_course_codes = []\n",
    "core_course_names = []\n",
    "core_course_descs = []\n",
    "counter = 0\n",
    "\n",
    "visited_ids = [] #to keep track of which link has been clicked and avoid clicking on links with the same course code\n",
    "#ex. multiple links in the page has text \"502\" - mech 502 and eng 502\n",
    "\n",
    "driver.get(\"https://ucalgary.ca/pubs/calendar/current/en-4-8.html\")\n",
    "time.sleep(3)\n",
    "    \n",
    "for link_text in link_texts:\n",
    "    #go to course page\n",
    "    try:\n",
    "        links = driver.find_elements_by_link_text(link_text)\n",
    "    except NoSuchElementException:\n",
    "        print(\"no link for {}\".format(link_text))\n",
    "        continue\n",
    "    time.sleep(2)\n",
    "    \n",
    "    for i in range(len(links)):\n",
    "        \n",
    "        link = driver.find_elements_by_link_text(link_text)[i]\n",
    "        link.click()\n",
    "        time.sleep(2)\n",
    "    \n",
    "        #scrape course info\n",
    "        page_soup = soup(driver.page_source, 'lxml')\n",
    "        #get the id of the table containing the specific course information\n",
    "        starting_index = driver.current_url.index(\"#\")+1\n",
    "        table_id = driver.current_url[starting_index:]\n",
    "        \n",
    "        #check if table id has already been visited\n",
    "        if table_id in visited_ids:\n",
    "            driver.get(\"https://ucalgary.ca/pubs/calendar/current/en-4-8.html\")\n",
    "            time.sleep(2)\n",
    "            print(link_text, \"already scraped\")\n",
    "            continue\n",
    "        \n",
    "        #locate the container/table using the id\n",
    "        container = page_soup.find(\"a\", {\"name\": table_id})\n",
    "        container = container.parent\n",
    "        course_info = container.findAll(\"span\", {\"class\": \"course-code\"})\n",
    "        \n",
    "        #check if this course belongs is of the correct subject\n",
    "        if bool(re.match(\"[0-9]{3}\", link_text)) and course_info[0].text.strip() not in core_course_codes[-1]:\n",
    "            driver.get(\"https://ucalgary.ca/pubs/calendar/current/en-4-8.html\")\n",
    "            time.sleep(2)\n",
    "            print(link_text, \"incorrect subject\")\n",
    "            continue\n",
    "            \n",
    "        visited_ids.append(table_id)\n",
    "        \n",
    "        core_course_codes.append(course_info[0].text.strip() + \" \" + course_info[1].text.strip())\n",
    "        core_course_names.append(course_info[2].text.strip())\n",
    "        core_course_descs.append(container.find(\"span\", {\"class\": \"course-desc\"}).text.strip())\n",
    "        \n",
    "        print(\"Scraped \", core_course_codes[-1])\n",
    "        counter += 1\n",
    "        \n",
    "        #go to course list page\n",
    "        driver.get(\"https://ucalgary.ca/pubs/calendar/current/en-4-8.html\")\n",
    "        time.sleep(2)\n",
    "        \n",
    "print(\"Finished scraping {} courses\".format(counter))"
   ]
  },
  {
   "cell_type": "code",
   "execution_count": 157,
   "metadata": {},
   "outputs": [
    {
     "data": {
      "text/plain": [
       "['Manufacturing Engineering 514']"
      ]
     },
     "execution_count": 157,
     "metadata": {},
     "output_type": "execute_result"
    }
   ],
   "source": [
    "core_course_codes"
   ]
  },
  {
   "cell_type": "code",
   "execution_count": 158,
   "metadata": {},
   "outputs": [
    {
     "data": {
      "text/plain": [
       "['Integrated Manufacturing Systems']"
      ]
     },
     "execution_count": 158,
     "metadata": {},
     "output_type": "execute_result"
    }
   ],
   "source": [
    "core_course_names"
   ]
  },
  {
   "cell_type": "code",
   "execution_count": 159,
   "metadata": {},
   "outputs": [
    {
     "data": {
      "text/plain": [
       "['Fundamentals of integrated and competitive manufacturing. Manufacturing and operations strategy. Topics in production and operations management including: production planning and control systems; inventory management systems; process analysis and improvement; quality management systems.']"
      ]
     },
     "execution_count": 159,
     "metadata": {},
     "output_type": "execute_result"
    }
   ],
   "source": [
    "core_course_descs"
   ]
  },
  {
   "cell_type": "markdown",
   "metadata": {},
   "source": [
    "## 3. Collect elective course link texts"
   ]
  },
  {
   "cell_type": "code",
   "execution_count": 160,
   "metadata": {},
   "outputs": [],
   "source": [
    "driver.get(\"https://ucalgary.ca/pubs/calendar/current/en-4-8.html\")"
   ]
  },
  {
   "cell_type": "code",
   "execution_count": 161,
   "metadata": {},
   "outputs": [],
   "source": [
    "page_soup = soup(driver.page_source, 'lxml')"
   ]
  },
  {
   "cell_type": "code",
   "execution_count": 162,
   "metadata": {},
   "outputs": [],
   "source": [
    "electives_container = page_soup.find(\"span\", {\"id\": \"ctl00_ctl00_pageContent_ctl11_ctl02_cnBody\"}).find(\"ul\")"
   ]
  },
  {
   "cell_type": "code",
   "execution_count": 163,
   "metadata": {},
   "outputs": [
    {
     "data": {
      "text/plain": [
       "['Engineering 515',\n",
       " 'Manufacturing Engineering 501',\n",
       " '503',\n",
       " '509',\n",
       " '517',\n",
       " '527',\n",
       " '533',\n",
       " 'Mechanical Engineering 505']"
      ]
     },
     "execution_count": 163,
     "metadata": {},
     "output_type": "execute_result"
    }
   ],
   "source": [
    "elec_link_texts = electives_container.findAll(\"a\", {\"class\": \"link-text\"})\n",
    "elec_link_texts = [link_text.text for link_text in elec_link_texts]\n",
    "elec_link_texts"
   ]
  },
  {
   "cell_type": "markdown",
   "metadata": {},
   "source": [
    "## 4. Scrape elective courses"
   ]
  },
  {
   "cell_type": "code",
   "execution_count": 165,
   "metadata": {},
   "outputs": [
    {
     "name": "stdout",
     "output_type": "stream",
     "text": [
      "Scraped  Engineering 515\n",
      "Engineering 515 already scraped\n",
      "Scraped  Manufacturing Engineering 501\n",
      "Manufacturing Engineering 501 already scraped\n",
      "Scraped  Manufacturing Engineering 503\n",
      "503 already scraped\n",
      "Scraped  Manufacturing Engineering 509\n",
      "509 already scraped\n",
      "Scraped  Manufacturing Engineering 517\n",
      "517 already scraped\n",
      "Scraped  Manufacturing Engineering 527\n",
      "527 already scraped\n",
      "Scraped  Manufacturing Engineering 533\n",
      "533 already scraped\n",
      "533 already scraped\n",
      "533 incorrect subject\n",
      "Scraped  Mechanical Engineering 505\n",
      "Mechanical Engineering 505 already scraped\n",
      "Mechanical Engineering 505 already scraped\n",
      "Finished scraping 8 courses\n"
     ]
    }
   ],
   "source": [
    "link_texts = elec_link_texts\n",
    "\n",
    "elec_course_codes = []\n",
    "elec_course_names = []\n",
    "elec_course_descs = []\n",
    "counter = 0\n",
    "\n",
    "visited_ids = [] #to keep track of which link has been clicked and avoid clicking on links with the same course code\n",
    "#ex. multiple links in the page has text \"502\" - mech 502 and eng 502\n",
    "\n",
    "driver.get(\"https://ucalgary.ca/pubs/calendar/current/en-4-8.html\")\n",
    "time.sleep(3)\n",
    "    \n",
    "for link_text in link_texts:\n",
    "    #go to course page\n",
    "    try:\n",
    "        links = driver.find_elements_by_link_text(link_text)\n",
    "    except NoSuchElementException:\n",
    "        print(\"no link for {}\".format(link_text))\n",
    "        continue\n",
    "    time.sleep(2)\n",
    "    \n",
    "    for i in range(len(links)):\n",
    "        \n",
    "        link = driver.find_elements_by_link_text(link_text)[i]\n",
    "        link.click()\n",
    "        time.sleep(3)\n",
    "    \n",
    "        #scrape course info\n",
    "        page_soup = soup(driver.page_source, 'lxml')\n",
    "        #get the id of the table containing the specific course information\n",
    "        starting_index = driver.current_url.index(\"#\")+1\n",
    "        table_id = driver.current_url[starting_index:]\n",
    "        \n",
    "        #check if table id has already been visited\n",
    "        if table_id in visited_ids:\n",
    "            driver.get(\"https://ucalgary.ca/pubs/calendar/current/en-4-8.html\")\n",
    "            time.sleep(2)\n",
    "            print(link_text, \"already scraped\")\n",
    "            continue\n",
    "        \n",
    "        #locate the container/table using the id\n",
    "        container = page_soup.find(\"a\", {\"name\": table_id})\n",
    "        container = container.parent\n",
    "        course_info = container.findAll(\"span\", {\"class\": \"course-code\"})\n",
    "        \n",
    "        #check if this course belongs is of the correct subject\n",
    "        subject = course_info[0].text.strip()\n",
    "        if bool(re.match(\"[0-9]{3}\", link_text)) and (subject not in elec_course_codes[-1] or elec_course_codes[-1].split()[0] not in subject):\n",
    "            driver.get(\"https://ucalgary.ca/pubs/calendar/current/en-4-8.html\")\n",
    "            time.sleep(2)\n",
    "            print(link_text, \"incorrect subject\")\n",
    "            continue\n",
    "            \n",
    "        visited_ids.append(table_id)\n",
    "        \n",
    "        elec_course_codes.append(subject + \" \" + course_info[1].text.strip())\n",
    "        elec_course_names.append(course_info[2].text.strip())\n",
    "        elec_course_descs.append(container.find(\"span\", {\"class\": \"course-desc\"}).text.strip())\n",
    "        \n",
    "        print(\"Scraped \", elec_course_codes[-1])\n",
    "        counter += 1\n",
    "        \n",
    "        #go to course list page\n",
    "        driver.get(\"https://ucalgary.ca/pubs/calendar/current/en-4-8.html\")\n",
    "        time.sleep(3)\n",
    "        \n",
    "print(\"Finished scraping {} courses\".format(counter))"
   ]
  },
  {
   "cell_type": "code",
   "execution_count": 166,
   "metadata": {},
   "outputs": [
    {
     "data": {
      "text/plain": [
       "['Engineering 515',\n",
       " 'Manufacturing Engineering 501',\n",
       " 'Manufacturing Engineering 503',\n",
       " 'Manufacturing Engineering 509',\n",
       " 'Manufacturing Engineering 517',\n",
       " 'Manufacturing Engineering 527',\n",
       " 'Manufacturing Engineering 533',\n",
       " 'Mechanical Engineering 505']"
      ]
     },
     "execution_count": 166,
     "metadata": {},
     "output_type": "execute_result"
    }
   ],
   "source": [
    "elec_course_codes"
   ]
  },
  {
   "cell_type": "code",
   "execution_count": 167,
   "metadata": {},
   "outputs": [
    {
     "data": {
      "text/plain": [
       "['Project Management for Engineers',\n",
       " 'Modelling and Simulation of Manufacturing Systems',\n",
       " 'Computer-Aided Design and Manufacturing',\n",
       " 'Advanced Manufacturing Systems',\n",
       " 'Experimental Design and Analysis',\n",
       " 'Project Engineering',\n",
       " 'Computer-Based Control for Industrial Automation',\n",
       " 'Robotics']"
      ]
     },
     "execution_count": 167,
     "metadata": {},
     "output_type": "execute_result"
    }
   ],
   "source": [
    "elec_course_names"
   ]
  },
  {
   "cell_type": "code",
   "execution_count": 168,
   "metadata": {},
   "outputs": [
    {
     "data": {
      "text/plain": [
       "['Covers the application of project management principles such as planning, scope development, design, procurement, construction, commissioning and start-up to engineering projects. Class reviews aspects of a current major engineering projects and case studies.',\n",
       " 'General modelling of production systems. Spreadsheet modelling for capacity analysis. Fundamentals of discrete-event simulation including: key concepts; simulation world views; the simulation study life cycle. Modelling and programming aspects of discrete-event simulation including: verification and validation; simulation animation; interfacing simulation software with other systems. Statistical aspects of discrete-event simulation including: random number and random variate generation; input process modelling; output analysis; variance reduction techniques. Applications of discrete-event simulation to the design and analysis of manufacturing systems.',\n",
       " 'Hardware and software for computer-aided design and manufacturing (CAD/CAM) systems. Geometric modelling, transformation and visualization. Modelling of freeform curves and surfaces. Programming for computer numerically controlled (CNC) machining. Integration of CAD/CAM systems, Applications in motion analysis, structure analysis, optimization, rapid prototyping, reverse engineering and virtual engineering.',\n",
       " 'Manufacturing strategy and competitive manufacturing. Queuing theory and its application to manufacturing systems analysis (including rapid modelling tools). Linear programming and its application to manufacturing systems problems. Scheduling problems in manufacturing. Supply chain modelling and integration. Enterprise resource planning systems.',\n",
       " 'Introduction to statistical Design of Experiments (DOE) techniques for efficient data collection, analysis and interpretation. Analysis of Variance (ANOVA), including blocking and nesting, in full and fractional factorial designs to understand sources of variation in performance. Robust design, including classical response surface and Taguchi techniques, to minimize effects of environmental factors on performance variability. Applications to product and process improvement.',\n",
       " 'The project lifecycle. Project planning, scheduling, and control. Resource considerations. Cost estimating, planning, and performance. Project risk. Project personnel and organizational structures.',\n",
       " 'Concepts of digital control. Digital circuits. Logic Controller architecture, programming using digital logic concepts, and interfacing. I/O devices sensors and actuators. Applications to work cells and production lines.',\n",
       " 'Kinematics, statics, dynamics and control of robot arms. Robot actuators, drives, sensors, and vision. Applications of robots.']"
      ]
     },
     "execution_count": 168,
     "metadata": {},
     "output_type": "execute_result"
    }
   ],
   "source": [
    "elec_course_descs"
   ]
  },
  {
   "cell_type": "markdown",
   "metadata": {},
   "source": [
    "## 5. Combine scraped data and write to CSV"
   ]
  },
  {
   "cell_type": "code",
   "execution_count": 169,
   "metadata": {},
   "outputs": [],
   "source": [
    "course_codes = core_course_codes + elec_course_codes\n",
    "course_names = core_course_names + elec_course_names\n",
    "course_descs = core_course_descs + elec_course_descs"
   ]
  },
  {
   "cell_type": "code",
   "execution_count": 170,
   "metadata": {},
   "outputs": [
    {
     "data": {
      "text/html": [
       "<div>\n",
       "<style scoped>\n",
       "    .dataframe tbody tr th:only-of-type {\n",
       "        vertical-align: middle;\n",
       "    }\n",
       "\n",
       "    .dataframe tbody tr th {\n",
       "        vertical-align: top;\n",
       "    }\n",
       "\n",
       "    .dataframe thead th {\n",
       "        text-align: right;\n",
       "    }\n",
       "</style>\n",
       "<table border=\"1\" class=\"dataframe\">\n",
       "  <thead>\n",
       "    <tr style=\"text-align: right;\">\n",
       "      <th></th>\n",
       "      <th>Course Number</th>\n",
       "      <th>Course Name</th>\n",
       "      <th>Course Description</th>\n",
       "    </tr>\n",
       "  </thead>\n",
       "  <tbody>\n",
       "    <tr>\n",
       "      <th>0</th>\n",
       "      <td>Manufacturing Engineering 514</td>\n",
       "      <td>Integrated Manufacturing Systems</td>\n",
       "      <td>Fundamentals of integrated and competitive man...</td>\n",
       "    </tr>\n",
       "    <tr>\n",
       "      <th>1</th>\n",
       "      <td>Engineering 515</td>\n",
       "      <td>Project Management for Engineers</td>\n",
       "      <td>Covers the application of project management p...</td>\n",
       "    </tr>\n",
       "    <tr>\n",
       "      <th>2</th>\n",
       "      <td>Manufacturing Engineering 501</td>\n",
       "      <td>Modelling and Simulation of Manufacturing Systems</td>\n",
       "      <td>General modelling of production systems. Sprea...</td>\n",
       "    </tr>\n",
       "    <tr>\n",
       "      <th>3</th>\n",
       "      <td>Manufacturing Engineering 503</td>\n",
       "      <td>Computer-Aided Design and Manufacturing</td>\n",
       "      <td>Hardware and software for computer-aided desig...</td>\n",
       "    </tr>\n",
       "    <tr>\n",
       "      <th>4</th>\n",
       "      <td>Manufacturing Engineering 509</td>\n",
       "      <td>Advanced Manufacturing Systems</td>\n",
       "      <td>Manufacturing strategy and competitive manufac...</td>\n",
       "    </tr>\n",
       "    <tr>\n",
       "      <th>5</th>\n",
       "      <td>Manufacturing Engineering 517</td>\n",
       "      <td>Experimental Design and Analysis</td>\n",
       "      <td>Introduction to statistical Design of Experime...</td>\n",
       "    </tr>\n",
       "    <tr>\n",
       "      <th>6</th>\n",
       "      <td>Manufacturing Engineering 527</td>\n",
       "      <td>Project Engineering</td>\n",
       "      <td>The project lifecycle. Project planning, sched...</td>\n",
       "    </tr>\n",
       "    <tr>\n",
       "      <th>7</th>\n",
       "      <td>Manufacturing Engineering 533</td>\n",
       "      <td>Computer-Based Control for Industrial Automation</td>\n",
       "      <td>Concepts of digital control. Digital circuits....</td>\n",
       "    </tr>\n",
       "    <tr>\n",
       "      <th>8</th>\n",
       "      <td>Mechanical Engineering 505</td>\n",
       "      <td>Robotics</td>\n",
       "      <td>Kinematics, statics, dynamics and control of r...</td>\n",
       "    </tr>\n",
       "  </tbody>\n",
       "</table>\n",
       "</div>"
      ],
      "text/plain": [
       "                   Course Number  \\\n",
       "0  Manufacturing Engineering 514   \n",
       "1                Engineering 515   \n",
       "2  Manufacturing Engineering 501   \n",
       "3  Manufacturing Engineering 503   \n",
       "4  Manufacturing Engineering 509   \n",
       "5  Manufacturing Engineering 517   \n",
       "6  Manufacturing Engineering 527   \n",
       "7  Manufacturing Engineering 533   \n",
       "8     Mechanical Engineering 505   \n",
       "\n",
       "                                         Course Name  \\\n",
       "0                   Integrated Manufacturing Systems   \n",
       "1                   Project Management for Engineers   \n",
       "2  Modelling and Simulation of Manufacturing Systems   \n",
       "3            Computer-Aided Design and Manufacturing   \n",
       "4                     Advanced Manufacturing Systems   \n",
       "5                   Experimental Design and Analysis   \n",
       "6                                Project Engineering   \n",
       "7   Computer-Based Control for Industrial Automation   \n",
       "8                                           Robotics   \n",
       "\n",
       "                                  Course Description  \n",
       "0  Fundamentals of integrated and competitive man...  \n",
       "1  Covers the application of project management p...  \n",
       "2  General modelling of production systems. Sprea...  \n",
       "3  Hardware and software for computer-aided desig...  \n",
       "4  Manufacturing strategy and competitive manufac...  \n",
       "5  Introduction to statistical Design of Experime...  \n",
       "6  The project lifecycle. Project planning, sched...  \n",
       "7  Concepts of digital control. Digital circuits....  \n",
       "8  Kinematics, statics, dynamics and control of r...  "
      ]
     },
     "execution_count": 170,
     "metadata": {},
     "output_type": "execute_result"
    }
   ],
   "source": [
    "import pandas as pd\n",
    "\n",
    "df = pd.DataFrame({\n",
    "    \"Course Number\": course_codes,\n",
    "    \"Course Name\": course_names,\n",
    "    \"Course Description\": course_descs    \n",
    "})\n",
    "\n",
    "df"
   ]
  },
  {
   "cell_type": "code",
   "execution_count": 171,
   "metadata": {},
   "outputs": [],
   "source": [
    "df.to_csv('UCalgary_MechEng_Manufacturing_minor_Courses.csv', index = False)"
   ]
  },
  {
   "cell_type": "markdown",
   "metadata": {},
   "source": [
    "# Mechatronics"
   ]
  },
  {
   "cell_type": "markdown",
   "metadata": {},
   "source": [
    "## 1. Collect core course link texts for webdriver to click on"
   ]
  },
  {
   "cell_type": "code",
   "execution_count": 172,
   "metadata": {},
   "outputs": [],
   "source": [
    "driver.get(url)"
   ]
  },
  {
   "cell_type": "code",
   "execution_count": 173,
   "metadata": {},
   "outputs": [],
   "source": [
    "page_soup = soup(driver.page_source, 'lxml')"
   ]
  },
  {
   "cell_type": "code",
   "execution_count": 174,
   "metadata": {},
   "outputs": [],
   "source": [
    "core_container = page_soup.find(\"span\", {\"id\": \"ctl00_ctl00_pageContent_ctl07_ctl02_cnBody\"}).find(\"ul\")"
   ]
  },
  {
   "cell_type": "code",
   "execution_count": 175,
   "metadata": {},
   "outputs": [
    {
     "data": {
      "text/plain": [
       "['Electrical Engineering 301',\n",
       " '327',\n",
       " 'Geomatics Engineering 333',\n",
       " 'Mechanical Engineering 501',\n",
       " '502',\n",
       " '561',\n",
       " '562',\n",
       " 'Mechatronics Technical Electives ']"
      ]
     },
     "execution_count": 175,
     "metadata": {},
     "output_type": "execute_result"
    }
   ],
   "source": [
    "core_link_texts = core_container.findAll(\"a\", {\"class\": \"link-text\"})\n",
    "core_link_texts = [link_text.text for link_text in core_link_texts]\n",
    "core_link_texts"
   ]
  },
  {
   "cell_type": "code",
   "execution_count": 176,
   "metadata": {},
   "outputs": [
    {
     "data": {
      "text/plain": [
       "['Electrical Engineering 301',\n",
       " '327',\n",
       " 'Geomatics Engineering 333',\n",
       " 'Mechanical Engineering 501',\n",
       " '502',\n",
       " '561',\n",
       " '562']"
      ]
     },
     "execution_count": 176,
     "metadata": {},
     "output_type": "execute_result"
    }
   ],
   "source": [
    "core_link_texts = [link_text for link_text in core_link_texts if bool(re.match(\"[A-Za-z, ]*[0-9]{3}\", link_text))]\n",
    "core_link_texts"
   ]
  },
  {
   "cell_type": "markdown",
   "metadata": {},
   "source": [
    "## 2. Scrape core courses"
   ]
  },
  {
   "cell_type": "code",
   "execution_count": 179,
   "metadata": {},
   "outputs": [
    {
     "name": "stdout",
     "output_type": "stream",
     "text": [
      "Scraped  Electrical Engineering 301\n",
      "Electrical Engineering 301 already scraped\n",
      "Scraped  Electrical Engineering 327\n",
      "Scraped  Geomatics Engineering 333\n",
      "Geomatics Engineering 333 already scraped\n",
      "Scraped  Mechanical Engineering 501\n",
      "Mechanical Engineering 501 already scraped\n",
      "Mechanical Engineering 501 already scraped\n",
      "502 incorrect subject\n",
      "Scraped  Mechanical Engineering 502\n",
      "502 incorrect subject\n",
      "502 already scraped\n",
      "502 already scraped\n",
      "502 incorrect subject\n",
      "Scraped  Mechanical Engineering 561\n",
      "561 already scraped\n",
      "561 incorrect subject\n",
      "561 incorrect subject\n",
      "Scraped  Mechanical Engineering 562\n",
      "Finished scraping 7 courses\n"
     ]
    }
   ],
   "source": [
    "link_texts = core_link_texts\n",
    "\n",
    "core_course_codes = []\n",
    "core_course_names = []\n",
    "core_course_descs = []\n",
    "counter = 0\n",
    "\n",
    "visited_ids = [] #to keep track of which link has been clicked and avoid clicking on links with the same course code\n",
    "#ex. multiple links in the page has text \"502\" - mech 502 and eng 502\n",
    "\n",
    "driver.get(\"https://ucalgary.ca/pubs/calendar/current/en-4-8.html\")\n",
    "time.sleep(3)\n",
    "    \n",
    "for link_text in link_texts:\n",
    "    #go to course page\n",
    "    try:\n",
    "        links = driver.find_elements_by_link_text(link_text)\n",
    "    except NoSuchElementException:\n",
    "        print(\"no link for {}\".format(link_text))\n",
    "        continue\n",
    "    time.sleep(2)\n",
    "    \n",
    "    for i in range(len(links)):\n",
    "        \n",
    "        link = driver.find_elements_by_link_text(link_text)[i]\n",
    "        link.click()\n",
    "        time.sleep(2)\n",
    "    \n",
    "        #scrape course info\n",
    "        page_soup = soup(driver.page_source, 'lxml')\n",
    "        #get the id of the table containing the specific course information\n",
    "        starting_index = driver.current_url.index(\"#\")+1\n",
    "        table_id = driver.current_url[starting_index:]\n",
    "        \n",
    "        #check if table id has already been visited\n",
    "        if table_id in visited_ids:\n",
    "            driver.get(\"https://ucalgary.ca/pubs/calendar/current/en-4-8.html\")\n",
    "            time.sleep(2)\n",
    "            print(link_text, \"already scraped\")\n",
    "            continue\n",
    "        \n",
    "        #locate the container/table using the id\n",
    "        container = page_soup.find(\"a\", {\"name\": table_id})\n",
    "        container = container.parent\n",
    "        course_info = container.findAll(\"span\", {\"class\": \"course-code\"})\n",
    "        \n",
    "        #check if this course belongs is of the correct subject\n",
    "        subject = course_info[0].text.strip()\n",
    "        if bool(re.match(\"[0-9]{3}\", link_text)) and (subject not in core_course_codes[-1] or core_course_codes[-1].split()[0] not in subject):\n",
    "            driver.get(\"https://ucalgary.ca/pubs/calendar/current/en-4-8.html\")\n",
    "            time.sleep(2)\n",
    "            print(link_text, \"incorrect subject\")\n",
    "            continue\n",
    "            \n",
    "        visited_ids.append(table_id)\n",
    "        \n",
    "        core_course_codes.append(course_info[0].text.strip() + \" \" + course_info[1].text.strip())\n",
    "        core_course_names.append(course_info[2].text.strip())\n",
    "        core_course_descs.append(container.find(\"span\", {\"class\": \"course-desc\"}).text.strip())\n",
    "        \n",
    "        print(\"Scraped \", core_course_codes[-1])\n",
    "        counter += 1\n",
    "        \n",
    "        #go to course list page\n",
    "        driver.get(\"https://ucalgary.ca/pubs/calendar/current/en-4-8.html\")\n",
    "        time.sleep(2)\n",
    "        \n",
    "print(\"Finished scraping {} courses\".format(counter))"
   ]
  },
  {
   "cell_type": "code",
   "execution_count": 180,
   "metadata": {},
   "outputs": [
    {
     "data": {
      "text/plain": [
       "['Electrical Engineering 301',\n",
       " 'Electrical Engineering 327',\n",
       " 'Geomatics Engineering 333',\n",
       " 'Mechanical Engineering 501',\n",
       " 'Mechanical Engineering 502',\n",
       " 'Mechanical Engineering 561',\n",
       " 'Mechanical Engineering 562']"
      ]
     },
     "execution_count": 180,
     "metadata": {},
     "output_type": "execute_result"
    }
   ],
   "source": [
    "core_course_codes"
   ]
  },
  {
   "cell_type": "code",
   "execution_count": 181,
   "metadata": {},
   "outputs": [
    {
     "data": {
      "text/plain": [
       "['Instrumentation, Sensors and Interfacing',\n",
       " 'Signals and Transforms',\n",
       " 'Computing for Geomatics Engineers',\n",
       " 'Mechanical Engineering Capstone Design Project I',\n",
       " 'Mechanical Engineering Capstone Design Project II',\n",
       " 'Mechatronics Design Laboratory I',\n",
       " 'Mechatronics Design Laboratory II']"
      ]
     },
     "execution_count": 181,
     "metadata": {},
     "output_type": "execute_result"
    }
   ],
   "source": [
    "core_course_names"
   ]
  },
  {
   "cell_type": "code",
   "execution_count": 182,
   "metadata": {},
   "outputs": [
    {
     "data": {
      "text/plain": [
       "['An introduction to essential elements of instrumentation and sensing technology. Topics include embedded system programming, basic inputs such as sensors, switches, and keyboards; basic outputs such as motors, relays, LEDs, displays, and speakers; associated circuitry for inputs and outputs; the basics of communications between devices; and power supplies such as linear, switching, and batteries. Topics will be reinforced through weekly hands-on labs.',\n",
       " 'Continuous-time systems. Impulse response and convolution. Fourier series and Fourier transform. Basics of discrete time signals. Sampling theory. Discrete convolution. Difference equations and the Z-transform. Discrete-time Fourier representations.',\n",
       " 'Review of procedural programming and introduction to object-based programming using high level compiled and interpreted languages. Binary and ASCII File I/O, use of function libraries and class libraries. Construction of simple classes. Inheritance and polymorphism. Programming for Geomatics Engineering applications. Visualization and data representation.',\n",
       " 'A team-based project course with the focus on the design process associated with mechanical and manufacturing engineering. The design process consists of the stages of conceptual design, design development and verification. Project management, teamwork and communication are emphasized for professional development.',\n",
       " 'A continuation of the capstone design project, where student teams build on their design work in Part I.',\n",
       " 'A hands-on laboratory experience in the design and analysis of electro-mechanical components. Introduction to microprocessor-controlled electromechanical systems. Laboratory projects to configure, design, and implement a succession of mechatronic systems. Topics of lectures and labs include aliasing, quantization, electronic feedback, power amplifiers, digital logic, encoder interfacing, and motor control.',\n",
       " 'More sophisticated and in-depth topics in mechatronic systems design explored through laboratory exercises, and complemented by selected lecture topics including practical control aspects of saturation and tuning and machine learning introduction.']"
      ]
     },
     "execution_count": 182,
     "metadata": {},
     "output_type": "execute_result"
    }
   ],
   "source": [
    "core_course_descs"
   ]
  },
  {
   "cell_type": "markdown",
   "metadata": {},
   "source": [
    "## 3. Collect elective course link texts"
   ]
  },
  {
   "cell_type": "code",
   "execution_count": 183,
   "metadata": {},
   "outputs": [],
   "source": [
    "driver.get(\"https://ucalgary.ca/pubs/calendar/current/en-4-8.html\")"
   ]
  },
  {
   "cell_type": "code",
   "execution_count": 184,
   "metadata": {},
   "outputs": [],
   "source": [
    "page_soup = soup(driver.page_source, 'lxml')"
   ]
  },
  {
   "cell_type": "code",
   "execution_count": 185,
   "metadata": {},
   "outputs": [],
   "source": [
    "electives_container = page_soup.find(\"span\", {\"id\": \"ctl00_ctl00_pageContent_ctl12_ctl02_cnBody\"}).find(\"ul\")"
   ]
  },
  {
   "cell_type": "code",
   "execution_count": 186,
   "metadata": {},
   "outputs": [
    {
     "data": {
      "text/plain": [
       "['Electrical Engineering 503',\n",
       " '525',\n",
       " '541',\n",
       " '582',\n",
       " 'Manufacturing Engineering 529',\n",
       " '533',\n",
       " 'Mechanical Engineering 505',\n",
       " '547',\n",
       " '641',\n",
       " '643',\n",
       " '650']"
      ]
     },
     "execution_count": 186,
     "metadata": {},
     "output_type": "execute_result"
    }
   ],
   "source": [
    "elec_link_texts = electives_container.findAll(\"a\", {\"class\": \"link-text\"})\n",
    "elec_link_texts = [link_text.text for link_text in elec_link_texts]\n",
    "elec_link_texts"
   ]
  },
  {
   "cell_type": "markdown",
   "metadata": {},
   "source": [
    "## 4. Scrape elective courses"
   ]
  },
  {
   "cell_type": "code",
   "execution_count": 187,
   "metadata": {},
   "outputs": [
    {
     "name": "stdout",
     "output_type": "stream",
     "text": [
      "Scraped  Electrical Engineering 503\n",
      "525 incorrect subject\n",
      "Scraped  Electrical Engineering 525\n",
      "Scraped  Electrical Engineering 541\n",
      "Scraped  Electrical Engineering 582\n",
      "Scraped  Manufacturing Engineering 529\n",
      "Scraped  Manufacturing Engineering 533\n",
      "533 already scraped\n",
      "533 already scraped\n",
      "533 incorrect subject\n",
      "Scraped  Mechanical Engineering 505\n",
      "Mechanical Engineering 505 already scraped\n",
      "Mechanical Engineering 505 already scraped\n",
      "Scraped  Mechanical Engineering 547\n",
      "547 already scraped\n",
      "Scraped  Mechanical Engineering 641\n",
      "Scraped  Mechanical Engineering 643\n",
      "Scraped  Mechanical Engineering 650\n",
      "Finished scraping 11 courses\n"
     ]
    }
   ],
   "source": [
    "link_texts = elec_link_texts\n",
    "\n",
    "elec_course_codes = []\n",
    "elec_course_names = []\n",
    "elec_course_descs = []\n",
    "counter = 0\n",
    "\n",
    "visited_ids = [] #to keep track of which link has been clicked and avoid clicking on links with the same course code\n",
    "#ex. multiple links in the page has text \"502\" - mech 502 and eng 502\n",
    "\n",
    "driver.get(\"https://ucalgary.ca/pubs/calendar/current/en-4-8.html\")\n",
    "time.sleep(3)\n",
    "    \n",
    "for link_text in link_texts:\n",
    "    #go to course page\n",
    "    try:\n",
    "        links = driver.find_elements_by_link_text(link_text)\n",
    "    except NoSuchElementException:\n",
    "        print(\"no link for {}\".format(link_text))\n",
    "        continue\n",
    "    time.sleep(2)\n",
    "    \n",
    "    for i in range(len(links)):\n",
    "        \n",
    "        link = driver.find_elements_by_link_text(link_text)[i]\n",
    "        link.click()\n",
    "        time.sleep(3)\n",
    "    \n",
    "        #scrape course info\n",
    "        page_soup = soup(driver.page_source, 'lxml')\n",
    "        #get the id of the table containing the specific course information\n",
    "        starting_index = driver.current_url.index(\"#\")+1\n",
    "        table_id = driver.current_url[starting_index:]\n",
    "        \n",
    "        #check if table id has already been visited\n",
    "        if table_id in visited_ids:\n",
    "            driver.get(\"https://ucalgary.ca/pubs/calendar/current/en-4-8.html\")\n",
    "            time.sleep(2)\n",
    "            print(link_text, \"already scraped\")\n",
    "            continue\n",
    "        \n",
    "        #locate the container/table using the id\n",
    "        container = page_soup.find(\"a\", {\"name\": table_id})\n",
    "        container = container.parent\n",
    "        course_info = container.findAll(\"span\", {\"class\": \"course-code\"})\n",
    "        \n",
    "        #check if this course belongs is of the correct subject\n",
    "        subject = course_info[0].text.strip()\n",
    "        if bool(re.match(\"[0-9]{3}\", link_text)) and (subject not in elec_course_codes[-1] or elec_course_codes[-1].split()[0] not in subject):\n",
    "            driver.get(\"https://ucalgary.ca/pubs/calendar/current/en-4-8.html\")\n",
    "            time.sleep(2)\n",
    "            print(link_text, \"incorrect subject\")\n",
    "            continue\n",
    "            \n",
    "        visited_ids.append(table_id)\n",
    "        \n",
    "        elec_course_codes.append(subject + \" \" + course_info[1].text.strip())\n",
    "        elec_course_names.append(course_info[2].text.strip())\n",
    "        elec_course_descs.append(container.find(\"span\", {\"class\": \"course-desc\"}).text.strip())\n",
    "        \n",
    "        print(\"Scraped \", elec_course_codes[-1])\n",
    "        counter += 1\n",
    "        \n",
    "        #go to course list page\n",
    "        driver.get(\"https://ucalgary.ca/pubs/calendar/current/en-4-8.html\")\n",
    "        time.sleep(3)\n",
    "        \n",
    "print(\"Finished scraping {} courses\".format(counter))"
   ]
  },
  {
   "cell_type": "code",
   "execution_count": 188,
   "metadata": {},
   "outputs": [
    {
     "data": {
      "text/plain": [
       "['Electrical Engineering 503',\n",
       " 'Electrical Engineering 525',\n",
       " 'Electrical Engineering 541',\n",
       " 'Electrical Engineering 582',\n",
       " 'Manufacturing Engineering 529',\n",
       " 'Manufacturing Engineering 533',\n",
       " 'Mechanical Engineering 505',\n",
       " 'Mechanical Engineering 547',\n",
       " 'Mechanical Engineering 641',\n",
       " 'Mechanical Engineering 643',\n",
       " 'Mechanical Engineering 650']"
      ]
     },
     "execution_count": 188,
     "metadata": {},
     "output_type": "execute_result"
    }
   ],
   "source": [
    "elec_course_codes"
   ]
  },
  {
   "cell_type": "code",
   "execution_count": 189,
   "metadata": {},
   "outputs": [
    {
     "data": {
      "text/plain": [
       "['Computer Vision',\n",
       " 'Machine Learning for Engineers',\n",
       " 'Control Systems II',\n",
       " 'Modelling and Control of Electric Machines and Drives',\n",
       " 'Introduction to Microelectromechanical Systems',\n",
       " 'Computer-Based Control for Industrial Automation',\n",
       " 'Robotics',\n",
       " 'Finite Element Method',\n",
       " 'Advanced Control Systems',\n",
       " 'Optimal and Adaptive Control',\n",
       " 'Mobile Robotics']"
      ]
     },
     "execution_count": 189,
     "metadata": {},
     "output_type": "execute_result"
    }
   ],
   "source": [
    "elec_course_names"
   ]
  },
  {
   "cell_type": "code",
   "execution_count": 190,
   "metadata": {
    "scrolled": true
   },
   "outputs": [
    {
     "data": {
      "text/plain": [
       "['Introduction to the fundamentals of image processing and computer vision. Image/video acquisition and raw data matrix manipulation; image processing operations and compression methods; object detection, isolation, and classification; 3D tracking and ego-motion with projective transformations.',\n",
       " 'Neural networks: neuron models and network architectures, perceptrons, Widrow-Hoff learning and backpropagation algorithm, associative memory, Hebbian learning, pseudo-inverse learning. Fuzzy systems: basic operations and properties of fuzzy sets; fuzzy rule generation and defuzzification of fuzzy logic; fuzzy neural networks. Applications such as pattern recognition, character recognition, stock market prediction, and control.',\n",
       " 'Introduction to sampled-data control systems, discretization of analog systems, discrete-time signals and systems, causality, time-invariance, z-transforms, stability, asymptotic tracking, state-space models, controllability and observability, pole assignment, deadbeat control, state observers, observer-based control design, optimal control.',\n",
       " 'Principles of electromechanical energy conversion. Rotating Machines (DC, Synchronous and Induction machines). Synchronous Generator voltage and power control, motor drive systems.',\n",
       " 'Microelectromechanical systems (MEMS) and devices including microsensors and microactuators. Principles of operation, material properties, fabrication techniques including surface and bulk micro\\xadmachining, IC-derived microfabrication techniques, sensing and actuation principles, sensor dynamics issues, circuit and system issues, packaging, calibration and testing. Illustrative examples include (1) micromachined inertial sensors and actuators for manufacturing processes, (2) microactuator arrays for \"smart surfaces,\" (3) biosensors for medical applications, and (4) transducers for aerospace applications.',\n",
       " 'Concepts of digital control. Digital circuits. Logic Controller architecture, programming using digital logic concepts, and interfacing. I/O devices sensors and actuators. Applications to work cells and production lines.',\n",
       " 'Kinematics, statics, dynamics and control of robot arms. Robot actuators, drives, sensors, and vision. Applications of robots.',\n",
       " 'One- and multi-dimensional problems in linear and steady heat conduction and elasticity. Emphasis on: strong and weak formulation of the boundary value problems (BVP) and their approximation by Galerkin’s method; fundamentals of finite element interpolation and construction of interpolation functions for a variety of multi-dimensional element shapes; existence and uniqueness of the solution; error estimates; finite element arrays and data structures employed in computer programs; numerical integration techniques; and mesh construction.',\n",
       " 'Introduction to multivariable systems; state space models; analysis of linear systems; stability; Cayley-Hamilton theorem; controllability and observability; state feedback control; pole placement designs; introduction to linear optimal control and estimation; Kalman filtering; separation theorem and duality; performance specifications; controller reduction concepts; introduction to robust control.',\n",
       " 'Discrete time and sampled-data system models and properties; discrete time domain controller design principles; system identification using least-squares analysis; self-tuning control; indirect adaptive control; model reference adaptive control; sliding mode control in continuous and discrete time; optimal design of sliding mode controllers; sensitivity functions and their role in control theoretic performance specification; robust stability and robust performance objectives; Kharitonov stability.',\n",
       " 'Overview of unmanned vehicles, mobile robot locomotion systems, wheeled rovers, walking machines, mobile-manipulators, mobile robot sensors and actuators, simulation, modelling and analysis of mobile robot behaviour, robot-environment interaction analysis, 2D navigation techniques and localization, mobile robot simulation tools.']"
      ]
     },
     "execution_count": 190,
     "metadata": {},
     "output_type": "execute_result"
    }
   ],
   "source": [
    "elec_course_descs"
   ]
  },
  {
   "cell_type": "markdown",
   "metadata": {},
   "source": [
    "## 5. Combine scraped data and write to CSV"
   ]
  },
  {
   "cell_type": "code",
   "execution_count": 191,
   "metadata": {},
   "outputs": [],
   "source": [
    "course_codes = core_course_codes + elec_course_codes\n",
    "course_names = core_course_names + elec_course_names\n",
    "course_descs = core_course_descs + elec_course_descs"
   ]
  },
  {
   "cell_type": "code",
   "execution_count": 192,
   "metadata": {},
   "outputs": [
    {
     "data": {
      "text/html": [
       "<div>\n",
       "<style scoped>\n",
       "    .dataframe tbody tr th:only-of-type {\n",
       "        vertical-align: middle;\n",
       "    }\n",
       "\n",
       "    .dataframe tbody tr th {\n",
       "        vertical-align: top;\n",
       "    }\n",
       "\n",
       "    .dataframe thead th {\n",
       "        text-align: right;\n",
       "    }\n",
       "</style>\n",
       "<table border=\"1\" class=\"dataframe\">\n",
       "  <thead>\n",
       "    <tr style=\"text-align: right;\">\n",
       "      <th></th>\n",
       "      <th>Course Number</th>\n",
       "      <th>Course Name</th>\n",
       "      <th>Course Description</th>\n",
       "    </tr>\n",
       "  </thead>\n",
       "  <tbody>\n",
       "    <tr>\n",
       "      <th>0</th>\n",
       "      <td>Electrical Engineering 301</td>\n",
       "      <td>Instrumentation, Sensors and Interfacing</td>\n",
       "      <td>An introduction to essential elements of instr...</td>\n",
       "    </tr>\n",
       "    <tr>\n",
       "      <th>1</th>\n",
       "      <td>Electrical Engineering 327</td>\n",
       "      <td>Signals and Transforms</td>\n",
       "      <td>Continuous-time systems. Impulse response and ...</td>\n",
       "    </tr>\n",
       "    <tr>\n",
       "      <th>2</th>\n",
       "      <td>Geomatics Engineering 333</td>\n",
       "      <td>Computing for Geomatics Engineers</td>\n",
       "      <td>Review of procedural programming and introduct...</td>\n",
       "    </tr>\n",
       "    <tr>\n",
       "      <th>3</th>\n",
       "      <td>Mechanical Engineering 501</td>\n",
       "      <td>Mechanical Engineering Capstone Design Project I</td>\n",
       "      <td>A team-based project course with the focus on ...</td>\n",
       "    </tr>\n",
       "    <tr>\n",
       "      <th>4</th>\n",
       "      <td>Mechanical Engineering 502</td>\n",
       "      <td>Mechanical Engineering Capstone Design Project II</td>\n",
       "      <td>A continuation of the capstone design project,...</td>\n",
       "    </tr>\n",
       "    <tr>\n",
       "      <th>5</th>\n",
       "      <td>Mechanical Engineering 561</td>\n",
       "      <td>Mechatronics Design Laboratory I</td>\n",
       "      <td>A hands-on laboratory experience in the design...</td>\n",
       "    </tr>\n",
       "    <tr>\n",
       "      <th>6</th>\n",
       "      <td>Mechanical Engineering 562</td>\n",
       "      <td>Mechatronics Design Laboratory II</td>\n",
       "      <td>More sophisticated and in-depth topics in mech...</td>\n",
       "    </tr>\n",
       "    <tr>\n",
       "      <th>7</th>\n",
       "      <td>Electrical Engineering 503</td>\n",
       "      <td>Computer Vision</td>\n",
       "      <td>Introduction to the fundamentals of image proc...</td>\n",
       "    </tr>\n",
       "    <tr>\n",
       "      <th>8</th>\n",
       "      <td>Electrical Engineering 525</td>\n",
       "      <td>Machine Learning for Engineers</td>\n",
       "      <td>Neural networks: neuron models and network arc...</td>\n",
       "    </tr>\n",
       "    <tr>\n",
       "      <th>9</th>\n",
       "      <td>Electrical Engineering 541</td>\n",
       "      <td>Control Systems II</td>\n",
       "      <td>Introduction to sampled-data control systems, ...</td>\n",
       "    </tr>\n",
       "    <tr>\n",
       "      <th>10</th>\n",
       "      <td>Electrical Engineering 582</td>\n",
       "      <td>Modelling and Control of Electric Machines and...</td>\n",
       "      <td>Principles of electromechanical energy convers...</td>\n",
       "    </tr>\n",
       "    <tr>\n",
       "      <th>11</th>\n",
       "      <td>Manufacturing Engineering 529</td>\n",
       "      <td>Introduction to Microelectromechanical Systems</td>\n",
       "      <td>Microelectromechanical systems (MEMS) and devi...</td>\n",
       "    </tr>\n",
       "    <tr>\n",
       "      <th>12</th>\n",
       "      <td>Manufacturing Engineering 533</td>\n",
       "      <td>Computer-Based Control for Industrial Automation</td>\n",
       "      <td>Concepts of digital control. Digital circuits....</td>\n",
       "    </tr>\n",
       "    <tr>\n",
       "      <th>13</th>\n",
       "      <td>Mechanical Engineering 505</td>\n",
       "      <td>Robotics</td>\n",
       "      <td>Kinematics, statics, dynamics and control of r...</td>\n",
       "    </tr>\n",
       "    <tr>\n",
       "      <th>14</th>\n",
       "      <td>Mechanical Engineering 547</td>\n",
       "      <td>Finite Element Method</td>\n",
       "      <td>One- and multi-dimensional problems in linear ...</td>\n",
       "    </tr>\n",
       "    <tr>\n",
       "      <th>15</th>\n",
       "      <td>Mechanical Engineering 641</td>\n",
       "      <td>Advanced Control Systems</td>\n",
       "      <td>Introduction to multivariable systems; state s...</td>\n",
       "    </tr>\n",
       "    <tr>\n",
       "      <th>16</th>\n",
       "      <td>Mechanical Engineering 643</td>\n",
       "      <td>Optimal and Adaptive Control</td>\n",
       "      <td>Discrete time and sampled-data system models a...</td>\n",
       "    </tr>\n",
       "    <tr>\n",
       "      <th>17</th>\n",
       "      <td>Mechanical Engineering 650</td>\n",
       "      <td>Mobile Robotics</td>\n",
       "      <td>Overview of unmanned vehicles, mobile robot lo...</td>\n",
       "    </tr>\n",
       "  </tbody>\n",
       "</table>\n",
       "</div>"
      ],
      "text/plain": [
       "                    Course Number  \\\n",
       "0      Electrical Engineering 301   \n",
       "1      Electrical Engineering 327   \n",
       "2       Geomatics Engineering 333   \n",
       "3      Mechanical Engineering 501   \n",
       "4      Mechanical Engineering 502   \n",
       "5      Mechanical Engineering 561   \n",
       "6      Mechanical Engineering 562   \n",
       "7      Electrical Engineering 503   \n",
       "8      Electrical Engineering 525   \n",
       "9      Electrical Engineering 541   \n",
       "10     Electrical Engineering 582   \n",
       "11  Manufacturing Engineering 529   \n",
       "12  Manufacturing Engineering 533   \n",
       "13     Mechanical Engineering 505   \n",
       "14     Mechanical Engineering 547   \n",
       "15     Mechanical Engineering 641   \n",
       "16     Mechanical Engineering 643   \n",
       "17     Mechanical Engineering 650   \n",
       "\n",
       "                                          Course Name  \\\n",
       "0            Instrumentation, Sensors and Interfacing   \n",
       "1                              Signals and Transforms   \n",
       "2                   Computing for Geomatics Engineers   \n",
       "3    Mechanical Engineering Capstone Design Project I   \n",
       "4   Mechanical Engineering Capstone Design Project II   \n",
       "5                    Mechatronics Design Laboratory I   \n",
       "6                   Mechatronics Design Laboratory II   \n",
       "7                                     Computer Vision   \n",
       "8                      Machine Learning for Engineers   \n",
       "9                                  Control Systems II   \n",
       "10  Modelling and Control of Electric Machines and...   \n",
       "11     Introduction to Microelectromechanical Systems   \n",
       "12   Computer-Based Control for Industrial Automation   \n",
       "13                                           Robotics   \n",
       "14                              Finite Element Method   \n",
       "15                           Advanced Control Systems   \n",
       "16                       Optimal and Adaptive Control   \n",
       "17                                    Mobile Robotics   \n",
       "\n",
       "                                   Course Description  \n",
       "0   An introduction to essential elements of instr...  \n",
       "1   Continuous-time systems. Impulse response and ...  \n",
       "2   Review of procedural programming and introduct...  \n",
       "3   A team-based project course with the focus on ...  \n",
       "4   A continuation of the capstone design project,...  \n",
       "5   A hands-on laboratory experience in the design...  \n",
       "6   More sophisticated and in-depth topics in mech...  \n",
       "7   Introduction to the fundamentals of image proc...  \n",
       "8   Neural networks: neuron models and network arc...  \n",
       "9   Introduction to sampled-data control systems, ...  \n",
       "10  Principles of electromechanical energy convers...  \n",
       "11  Microelectromechanical systems (MEMS) and devi...  \n",
       "12  Concepts of digital control. Digital circuits....  \n",
       "13  Kinematics, statics, dynamics and control of r...  \n",
       "14  One- and multi-dimensional problems in linear ...  \n",
       "15  Introduction to multivariable systems; state s...  \n",
       "16  Discrete time and sampled-data system models a...  \n",
       "17  Overview of unmanned vehicles, mobile robot lo...  "
      ]
     },
     "execution_count": 192,
     "metadata": {},
     "output_type": "execute_result"
    }
   ],
   "source": [
    "import pandas as pd\n",
    "\n",
    "df = pd.DataFrame({\n",
    "    \"Course Number\": course_codes,\n",
    "    \"Course Name\": course_names,\n",
    "    \"Course Description\": course_descs    \n",
    "})\n",
    "\n",
    "df"
   ]
  },
  {
   "cell_type": "code",
   "execution_count": 193,
   "metadata": {},
   "outputs": [],
   "source": [
    "df.to_csv('UCalgary_MechEng_Mechatronics_minor_Courses.csv', index = False)"
   ]
  },
  {
   "cell_type": "markdown",
   "metadata": {},
   "source": [
    "# Petroleum"
   ]
  },
  {
   "cell_type": "markdown",
   "metadata": {},
   "source": [
    "## 1. Collect core course link texts for webdriver to click on"
   ]
  },
  {
   "cell_type": "code",
   "execution_count": 194,
   "metadata": {},
   "outputs": [],
   "source": [
    "driver.get(url)"
   ]
  },
  {
   "cell_type": "code",
   "execution_count": 195,
   "metadata": {},
   "outputs": [],
   "source": [
    "page_soup = soup(driver.page_source, 'lxml')"
   ]
  },
  {
   "cell_type": "code",
   "execution_count": 196,
   "metadata": {},
   "outputs": [],
   "source": [
    "core_container = page_soup.find(\"span\", {\"id\": \"ctl00_ctl00_pageContent_ctl08_ctl02_cnBody\"}).find(\"ul\")"
   ]
  },
  {
   "cell_type": "code",
   "execution_count": 197,
   "metadata": {},
   "outputs": [
    {
     "data": {
      "text/plain": [
       "['Petroleum Engineering 523', 'Petroleum Engineering Technical Electives ']"
      ]
     },
     "execution_count": 197,
     "metadata": {},
     "output_type": "execute_result"
    }
   ],
   "source": [
    "core_link_texts = core_container.findAll(\"a\", {\"class\": \"link-text\"})\n",
    "core_link_texts = [link_text.text for link_text in core_link_texts]\n",
    "core_link_texts"
   ]
  },
  {
   "cell_type": "code",
   "execution_count": 198,
   "metadata": {},
   "outputs": [
    {
     "data": {
      "text/plain": [
       "['Petroleum Engineering 523']"
      ]
     },
     "execution_count": 198,
     "metadata": {},
     "output_type": "execute_result"
    }
   ],
   "source": [
    "core_link_texts = [link_text for link_text in core_link_texts if bool(re.match(\"[A-Za-z, ]*[0-9]{3}\", link_text))]\n",
    "core_link_texts"
   ]
  },
  {
   "cell_type": "markdown",
   "metadata": {},
   "source": [
    "## 2. Scrape core courses"
   ]
  },
  {
   "cell_type": "code",
   "execution_count": 199,
   "metadata": {},
   "outputs": [
    {
     "name": "stdout",
     "output_type": "stream",
     "text": [
      "Scraped  Petroleum Engineering 523\n",
      "Finished scraping 1 courses\n"
     ]
    }
   ],
   "source": [
    "link_texts = core_link_texts\n",
    "\n",
    "core_course_codes = []\n",
    "core_course_names = []\n",
    "core_course_descs = []\n",
    "counter = 0\n",
    "\n",
    "visited_ids = [] #to keep track of which link has been clicked and avoid clicking on links with the same course code\n",
    "#ex. multiple links in the page has text \"502\" - mech 502 and eng 502\n",
    "\n",
    "driver.get(\"https://ucalgary.ca/pubs/calendar/current/en-4-8.html\")\n",
    "time.sleep(3)\n",
    "    \n",
    "for link_text in link_texts:\n",
    "    #go to course page\n",
    "    try:\n",
    "        links = driver.find_elements_by_link_text(link_text)\n",
    "    except NoSuchElementException:\n",
    "        print(\"no link for {}\".format(link_text))\n",
    "        continue\n",
    "    time.sleep(2)\n",
    "    \n",
    "    for i in range(len(links)):\n",
    "        \n",
    "        link = driver.find_elements_by_link_text(link_text)[i]\n",
    "        link.click()\n",
    "        time.sleep(2)\n",
    "    \n",
    "        #scrape course info\n",
    "        page_soup = soup(driver.page_source, 'lxml')\n",
    "        #get the id of the table containing the specific course information\n",
    "        starting_index = driver.current_url.index(\"#\")+1\n",
    "        table_id = driver.current_url[starting_index:]\n",
    "        \n",
    "        #check if table id has already been visited\n",
    "        if table_id in visited_ids:\n",
    "            driver.get(\"https://ucalgary.ca/pubs/calendar/current/en-4-8.html\")\n",
    "            time.sleep(2)\n",
    "            print(link_text, \"already scraped\")\n",
    "            continue\n",
    "        \n",
    "        #locate the container/table using the id\n",
    "        container = page_soup.find(\"a\", {\"name\": table_id})\n",
    "        container = container.parent\n",
    "        course_info = container.findAll(\"span\", {\"class\": \"course-code\"})\n",
    "        \n",
    "        #check if this course belongs is of the correct subject\n",
    "        subject = course_info[0].text.strip()\n",
    "        if bool(re.match(\"[0-9]{3}\", link_text)) and (subject not in core_course_codes[-1] or core_course_codes[-1].split()[0] not in subject):\n",
    "            driver.get(\"https://ucalgary.ca/pubs/calendar/current/en-4-8.html\")\n",
    "            time.sleep(2)\n",
    "            print(link_text, \"incorrect subject\")\n",
    "            continue\n",
    "            \n",
    "        visited_ids.append(table_id)\n",
    "        \n",
    "        core_course_codes.append(course_info[0].text.strip() + \" \" + course_info[1].text.strip())\n",
    "        core_course_names.append(course_info[2].text.strip())\n",
    "        core_course_descs.append(container.find(\"span\", {\"class\": \"course-desc\"}).text.strip())\n",
    "        \n",
    "        print(\"Scraped \", core_course_codes[-1])\n",
    "        counter += 1\n",
    "        \n",
    "        #go to course list page\n",
    "        driver.get(\"https://ucalgary.ca/pubs/calendar/current/en-4-8.html\")\n",
    "        time.sleep(2)\n",
    "        \n",
    "print(\"Finished scraping {} courses\".format(counter))"
   ]
  },
  {
   "cell_type": "code",
   "execution_count": 200,
   "metadata": {},
   "outputs": [
    {
     "data": {
      "text/plain": [
       "['Petroleum Engineering 523']"
      ]
     },
     "execution_count": 200,
     "metadata": {},
     "output_type": "execute_result"
    }
   ],
   "source": [
    "core_course_codes"
   ]
  },
  {
   "cell_type": "code",
   "execution_count": 201,
   "metadata": {},
   "outputs": [
    {
     "data": {
      "text/plain": [
       "['Introduction to Reservoir Engineering']"
      ]
     },
     "execution_count": 201,
     "metadata": {},
     "output_type": "execute_result"
    }
   ],
   "source": [
    "core_course_names"
   ]
  },
  {
   "cell_type": "code",
   "execution_count": 202,
   "metadata": {},
   "outputs": [
    {
     "data": {
      "text/plain": [
       "[\"Basic concepts of fluid flow in porous media; important reservoir rock and fluid properties affecting productivity; reserve estimation using volumetric and material balance methods in gas, gas-condensate and oil reservoirs; discussion of different reservoir drive mechanisms; aquifer models; decline analysis; Darcy's Law and single phase flow through porous media. Introduction to well testing, solution of radial diffusivity equation corresponding to infinite-acting and pseudo-steady state flow of slightly compressible fluids and real gases.\"]"
      ]
     },
     "execution_count": 202,
     "metadata": {},
     "output_type": "execute_result"
    }
   ],
   "source": [
    "core_course_descs"
   ]
  },
  {
   "cell_type": "markdown",
   "metadata": {},
   "source": [
    "## 3. Collect elective course link texts"
   ]
  },
  {
   "cell_type": "code",
   "execution_count": 203,
   "metadata": {},
   "outputs": [],
   "source": [
    "driver.get(\"https://ucalgary.ca/pubs/calendar/current/en-4-8.html\")"
   ]
  },
  {
   "cell_type": "code",
   "execution_count": 204,
   "metadata": {},
   "outputs": [],
   "source": [
    "page_soup = soup(driver.page_source, 'lxml')"
   ]
  },
  {
   "cell_type": "code",
   "execution_count": 205,
   "metadata": {},
   "outputs": [],
   "source": [
    "electives_container = page_soup.find(\"span\", {\"id\": \"ctl00_ctl00_pageContent_ctl13_ctl02_cnBody\"}).find(\"ul\")"
   ]
  },
  {
   "cell_type": "code",
   "execution_count": 206,
   "metadata": {},
   "outputs": [
    {
     "data": {
      "text/plain": [
       "['Geology 377',\n",
       " 'Mechanical Engineering 595',\n",
       " '597',\n",
       " 'Petroleum Engineering 525',\n",
       " '533',\n",
       " '555',\n",
       " '561',\n",
       " '563']"
      ]
     },
     "execution_count": 206,
     "metadata": {},
     "output_type": "execute_result"
    }
   ],
   "source": [
    "elec_link_texts = electives_container.findAll(\"a\", {\"class\": \"link-text\"})\n",
    "elec_link_texts = [link_text.text for link_text in elec_link_texts]\n",
    "elec_link_texts"
   ]
  },
  {
   "cell_type": "markdown",
   "metadata": {},
   "source": [
    "## 4. Scrape electives courses"
   ]
  },
  {
   "cell_type": "code",
   "execution_count": 207,
   "metadata": {},
   "outputs": [
    {
     "name": "stdout",
     "output_type": "stream",
     "text": [
      "Scraped  Geology 377\n",
      "Scraped  Mechanical Engineering 595\n",
      "Scraped  Mechanical Engineering 597\n",
      "597 already scraped\n",
      "Scraped  Petroleum Engineering 525\n",
      "533 incorrect subject\n",
      "533 incorrect subject\n",
      "533 incorrect subject\n",
      "Scraped  Petroleum Engineering 533\n",
      "Scraped  Petroleum Engineering 555\n",
      "555 already scraped\n",
      "561 incorrect subject\n",
      "561 incorrect subject\n",
      "Scraped  Petroleum Engineering 561\n",
      "561 already scraped\n",
      "Scraped  Petroleum Engineering 563\n",
      "563 already scraped\n",
      "Finished scraping 8 courses\n"
     ]
    }
   ],
   "source": [
    "link_texts = elec_link_texts\n",
    "\n",
    "elec_course_codes = []\n",
    "elec_course_names = []\n",
    "elec_course_descs = []\n",
    "counter = 0\n",
    "\n",
    "visited_ids = [] #to keep track of which link has been clicked and avoid clicking on links with the same course code\n",
    "#ex. multiple links in the page has text \"502\" - mech 502 and eng 502\n",
    "\n",
    "driver.get(\"https://ucalgary.ca/pubs/calendar/current/en-4-8.html\")\n",
    "time.sleep(3)\n",
    "    \n",
    "for link_text in link_texts:\n",
    "    #go to course page\n",
    "    try:\n",
    "        links = driver.find_elements_by_link_text(link_text)\n",
    "    except NoSuchElementException:\n",
    "        print(\"no link for {}\".format(link_text))\n",
    "        continue\n",
    "    time.sleep(2)\n",
    "    \n",
    "    for i in range(len(links)):\n",
    "        \n",
    "        link = driver.find_elements_by_link_text(link_text)[i]\n",
    "        link.click()\n",
    "        time.sleep(3)\n",
    "    \n",
    "        #scrape course info\n",
    "        page_soup = soup(driver.page_source, 'lxml')\n",
    "        #get the id of the table containing the specific course information\n",
    "        starting_index = driver.current_url.index(\"#\")+1\n",
    "        table_id = driver.current_url[starting_index:]\n",
    "        \n",
    "        #check if table id has already been visited\n",
    "        if table_id in visited_ids:\n",
    "            driver.get(\"https://ucalgary.ca/pubs/calendar/current/en-4-8.html\")\n",
    "            time.sleep(2)\n",
    "            print(link_text, \"already scraped\")\n",
    "            continue\n",
    "        \n",
    "        #locate the container/table using the id\n",
    "        container = page_soup.find(\"a\", {\"name\": table_id})\n",
    "        container = container.parent\n",
    "        course_info = container.findAll(\"span\", {\"class\": \"course-code\"})\n",
    "        \n",
    "        #check if this course belongs is of the correct subject\n",
    "        subject = course_info[0].text.strip()\n",
    "        if bool(re.match(\"[0-9]{3}\", link_text)) and (subject not in elec_course_codes[-1] or elec_course_codes[-1].split()[0] not in subject):\n",
    "            driver.get(\"https://ucalgary.ca/pubs/calendar/current/en-4-8.html\")\n",
    "            time.sleep(2)\n",
    "            print(link_text, \"incorrect subject\")\n",
    "            continue\n",
    "            \n",
    "        visited_ids.append(table_id)\n",
    "        \n",
    "        elec_course_codes.append(subject + \" \" + course_info[1].text.strip())\n",
    "        elec_course_names.append(course_info[2].text.strip())\n",
    "        elec_course_descs.append(container.find(\"span\", {\"class\": \"course-desc\"}).text.strip())\n",
    "        \n",
    "        print(\"Scraped \", elec_course_codes[-1])\n",
    "        counter += 1\n",
    "        \n",
    "        #go to course list page\n",
    "        driver.get(\"https://ucalgary.ca/pubs/calendar/current/en-4-8.html\")\n",
    "        time.sleep(3)\n",
    "        \n",
    "print(\"Finished scraping {} courses\".format(counter))"
   ]
  },
  {
   "cell_type": "code",
   "execution_count": 208,
   "metadata": {},
   "outputs": [
    {
     "data": {
      "text/plain": [
       "['Geology 377',\n",
       " 'Mechanical Engineering 595',\n",
       " 'Mechanical Engineering 597',\n",
       " 'Petroleum Engineering 525',\n",
       " 'Petroleum Engineering 533',\n",
       " 'Petroleum Engineering 555',\n",
       " 'Petroleum Engineering 561',\n",
       " 'Petroleum Engineering 563']"
      ]
     },
     "execution_count": 208,
     "metadata": {},
     "output_type": "execute_result"
    }
   ],
   "source": [
    "elec_course_codes"
   ]
  },
  {
   "cell_type": "code",
   "execution_count": 209,
   "metadata": {},
   "outputs": [
    {
     "data": {
      "text/plain": [
       "['Petroleum Engineering Geology',\n",
       " 'Gas Dynamics',\n",
       " 'Turbomachinery',\n",
       " 'Waterflooding and Enhanced Oil Recovery',\n",
       " 'Petroleum Production Engineering',\n",
       " 'Oil and Gas Field Safety and Equipment',\n",
       " 'Fuel Science and Technology',\n",
       " 'Corrosion in Engineering Applications']"
      ]
     },
     "execution_count": 209,
     "metadata": {},
     "output_type": "execute_result"
    }
   ],
   "source": [
    "elec_course_names"
   ]
  },
  {
   "cell_type": "code",
   "execution_count": 210,
   "metadata": {
    "scrolled": false
   },
   "outputs": [
    {
     "data": {
      "text/plain": [
       "['The principles and methods of physical geology with special emphasis on their application to the exploitation of oil and gas. Laboratory: properties of minerals and rocks, analysis and interpretation of surface and subsurface maps, interpretation of borehole logs and core, properties of sedimentary rocks.',\n",
       " 'Fundamentals of one-dimensional gas dynamics. Isentropic and non-isentropic flows, applications of dynamical similarity to shock waves. Oblique shocks, supersonic nozzles, flows with friction or heat transfer. Introduction to computational fluid dynamics (CFD).',\n",
       " 'Performance of turbomachines, machine selection, Reynolds number and scale effects. Two dimensional flow in turbomachines, degree of reaction and vector diagrams; flow irreversibilities and loss coefficients; pump, compressor and turbine efficiencies. Design of pumps, fans, centrifugal compressors, axial-flow compressors, and axial-flow turbines. Combination of machines with pipes or ducts.',\n",
       " 'Review of rock-fluid properties; trapping and mobilization of residual oil; displacement theory; linear waterflood calculations; viscous fingering; flood patterns and sweep efficiency considerations; characterization of reservoir heterogeneity; analytical waterflood prediction models; black-oil reservoir simulation models; design engineering aspects of waterflooding; and overview of enhanced recovery methods.',\n",
       " 'Principles of oil and gas production mechanics. Analysis of fluid flow from the formation to the surface facility. Reservoir inflow performance. Wellbore hydraulics and multiphase flow. Nodal analysis for production optimization Acidizing and hydraulic fracturing. Water and gas coning. Diagnosis of production problems. Artificial lift; Sucker pumping; electrical submersible pumps; progressing cavity pumps; gas lift.',\n",
       " 'Review of safety issues, blow outs, fire and other hazards, hydrate formation and decomposition, H2S and other toxic gases, safety standards, impact of petroleum operations on the environment, handling and safe transportation and disposal of petroleum wastes.',\n",
       " 'Classification of fuels. Origin, geology, production and processing of fossil fuels. Supply, consumption and demand for fuels - historical patterns and future trends. Thermodynamics and reaction kinetics of combustion. Physical and chemical properties and influence on fuel utilization. Ecological, efficiency, safety, economic considerations. Non-conventional fuels. Transportation and handling.',\n",
       " 'Electrochemical principle of corrosion reactions. Corrosion thermodynamics and kinetics. Electrochemical corrosion measurement techniques. Passivity and pitting corrosion. Crevice corrosion and galvanic corrosion. Environmentally assisted cracking. Corrosion control techniques including cathodic protection, coatings and inhibitors. Material selection for corrosion resistance.']"
      ]
     },
     "execution_count": 210,
     "metadata": {},
     "output_type": "execute_result"
    }
   ],
   "source": [
    "elec_course_descs"
   ]
  },
  {
   "cell_type": "markdown",
   "metadata": {},
   "source": [
    "## 5. Combine scraped data and write to CSV"
   ]
  },
  {
   "cell_type": "code",
   "execution_count": 211,
   "metadata": {},
   "outputs": [],
   "source": [
    "course_codes = core_course_codes + elec_course_codes\n",
    "course_names = core_course_names + elec_course_names\n",
    "course_descs = core_course_descs + elec_course_descs"
   ]
  },
  {
   "cell_type": "code",
   "execution_count": 212,
   "metadata": {},
   "outputs": [
    {
     "data": {
      "text/html": [
       "<div>\n",
       "<style scoped>\n",
       "    .dataframe tbody tr th:only-of-type {\n",
       "        vertical-align: middle;\n",
       "    }\n",
       "\n",
       "    .dataframe tbody tr th {\n",
       "        vertical-align: top;\n",
       "    }\n",
       "\n",
       "    .dataframe thead th {\n",
       "        text-align: right;\n",
       "    }\n",
       "</style>\n",
       "<table border=\"1\" class=\"dataframe\">\n",
       "  <thead>\n",
       "    <tr style=\"text-align: right;\">\n",
       "      <th></th>\n",
       "      <th>Course Number</th>\n",
       "      <th>Course Name</th>\n",
       "      <th>Course Description</th>\n",
       "    </tr>\n",
       "  </thead>\n",
       "  <tbody>\n",
       "    <tr>\n",
       "      <th>0</th>\n",
       "      <td>Petroleum Engineering 523</td>\n",
       "      <td>Introduction to Reservoir Engineering</td>\n",
       "      <td>Basic concepts of fluid flow in porous media; ...</td>\n",
       "    </tr>\n",
       "    <tr>\n",
       "      <th>1</th>\n",
       "      <td>Geology 377</td>\n",
       "      <td>Petroleum Engineering Geology</td>\n",
       "      <td>The principles and methods of physical geology...</td>\n",
       "    </tr>\n",
       "    <tr>\n",
       "      <th>2</th>\n",
       "      <td>Mechanical Engineering 595</td>\n",
       "      <td>Gas Dynamics</td>\n",
       "      <td>Fundamentals of one-dimensional gas dynamics. ...</td>\n",
       "    </tr>\n",
       "    <tr>\n",
       "      <th>3</th>\n",
       "      <td>Mechanical Engineering 597</td>\n",
       "      <td>Turbomachinery</td>\n",
       "      <td>Performance of turbomachines, machine selectio...</td>\n",
       "    </tr>\n",
       "    <tr>\n",
       "      <th>4</th>\n",
       "      <td>Petroleum Engineering 525</td>\n",
       "      <td>Waterflooding and Enhanced Oil Recovery</td>\n",
       "      <td>Review of rock-fluid properties; trapping and ...</td>\n",
       "    </tr>\n",
       "    <tr>\n",
       "      <th>5</th>\n",
       "      <td>Petroleum Engineering 533</td>\n",
       "      <td>Petroleum Production Engineering</td>\n",
       "      <td>Principles of oil and gas production mechanics...</td>\n",
       "    </tr>\n",
       "    <tr>\n",
       "      <th>6</th>\n",
       "      <td>Petroleum Engineering 555</td>\n",
       "      <td>Oil and Gas Field Safety and Equipment</td>\n",
       "      <td>Review of safety issues, blow outs, fire and o...</td>\n",
       "    </tr>\n",
       "    <tr>\n",
       "      <th>7</th>\n",
       "      <td>Petroleum Engineering 561</td>\n",
       "      <td>Fuel Science and Technology</td>\n",
       "      <td>Classification of fuels. Origin, geology, prod...</td>\n",
       "    </tr>\n",
       "    <tr>\n",
       "      <th>8</th>\n",
       "      <td>Petroleum Engineering 563</td>\n",
       "      <td>Corrosion in Engineering Applications</td>\n",
       "      <td>Electrochemical principle of corrosion reactio...</td>\n",
       "    </tr>\n",
       "  </tbody>\n",
       "</table>\n",
       "</div>"
      ],
      "text/plain": [
       "                Course Number                              Course Name  \\\n",
       "0   Petroleum Engineering 523    Introduction to Reservoir Engineering   \n",
       "1                 Geology 377            Petroleum Engineering Geology   \n",
       "2  Mechanical Engineering 595                             Gas Dynamics   \n",
       "3  Mechanical Engineering 597                           Turbomachinery   \n",
       "4   Petroleum Engineering 525  Waterflooding and Enhanced Oil Recovery   \n",
       "5   Petroleum Engineering 533         Petroleum Production Engineering   \n",
       "6   Petroleum Engineering 555   Oil and Gas Field Safety and Equipment   \n",
       "7   Petroleum Engineering 561              Fuel Science and Technology   \n",
       "8   Petroleum Engineering 563    Corrosion in Engineering Applications   \n",
       "\n",
       "                                  Course Description  \n",
       "0  Basic concepts of fluid flow in porous media; ...  \n",
       "1  The principles and methods of physical geology...  \n",
       "2  Fundamentals of one-dimensional gas dynamics. ...  \n",
       "3  Performance of turbomachines, machine selectio...  \n",
       "4  Review of rock-fluid properties; trapping and ...  \n",
       "5  Principles of oil and gas production mechanics...  \n",
       "6  Review of safety issues, blow outs, fire and o...  \n",
       "7  Classification of fuels. Origin, geology, prod...  \n",
       "8  Electrochemical principle of corrosion reactio...  "
      ]
     },
     "execution_count": 212,
     "metadata": {},
     "output_type": "execute_result"
    }
   ],
   "source": [
    "import pandas as pd\n",
    "\n",
    "df = pd.DataFrame({\n",
    "    \"Course Number\": course_codes,\n",
    "    \"Course Name\": course_names,\n",
    "    \"Course Description\": course_descs    \n",
    "})\n",
    "\n",
    "df"
   ]
  },
  {
   "cell_type": "code",
   "execution_count": 213,
   "metadata": {},
   "outputs": [],
   "source": [
    "df.to_csv('UCalgary_MechEng_Petroleum_minor_Courses.csv', index = False)"
   ]
  },
  {
   "cell_type": "code",
   "execution_count": 214,
   "metadata": {},
   "outputs": [],
   "source": [
    "driver.quit()"
   ]
  }
 ],
 "metadata": {
  "kernelspec": {
   "display_name": "Python 3",
   "language": "python",
   "name": "python3"
  },
  "language_info": {
   "codemirror_mode": {
    "name": "ipython",
    "version": 3
   },
   "file_extension": ".py",
   "mimetype": "text/x-python",
   "name": "python",
   "nbconvert_exporter": "python",
   "pygments_lexer": "ipython3",
   "version": "3.8.5"
  }
 },
 "nbformat": 4,
 "nbformat_minor": 4
}
