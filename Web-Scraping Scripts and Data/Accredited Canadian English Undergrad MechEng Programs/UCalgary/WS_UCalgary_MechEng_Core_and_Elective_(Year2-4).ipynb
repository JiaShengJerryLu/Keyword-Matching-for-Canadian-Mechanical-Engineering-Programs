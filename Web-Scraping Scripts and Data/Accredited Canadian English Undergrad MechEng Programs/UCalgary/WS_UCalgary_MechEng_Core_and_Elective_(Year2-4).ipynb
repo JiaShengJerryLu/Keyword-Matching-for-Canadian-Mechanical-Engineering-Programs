{
 "cells": [
  {
   "cell_type": "code",
   "execution_count": 1,
   "metadata": {},
   "outputs": [],
   "source": [
    "from bs4 import BeautifulSoup as soup\n",
    "from urllib.request import urlopen as ureq\n",
    "from selenium import webdriver\n",
    "import time\n",
    "import re"
   ]
  },
  {
   "cell_type": "code",
   "execution_count": 2,
   "metadata": {},
   "outputs": [],
   "source": [
    "url = \"https://ucalgary.ca/pubs/calendar/current/en-4-8.html\""
   ]
  },
  {
   "cell_type": "code",
   "execution_count": 3,
   "metadata": {},
   "outputs": [],
   "source": [
    "chrome_options = webdriver.ChromeOptions()\n",
    "chrome_options.add_argument('--ignore-certificate-errors')\n",
    "chrome_options.add_argument('--incognito')\n",
    "chrome_options.add_argument('--headless')\n",
    "\n",
    "driver = webdriver.Chrome(\"C:\\\\Users\\\\jerry\\\\Downloads\\\\chromedriver\", options=chrome_options)"
   ]
  },
  {
   "cell_type": "code",
   "execution_count": 4,
   "metadata": {},
   "outputs": [],
   "source": [
    "driver.get(url)\n",
    "time.sleep(3)"
   ]
  },
  {
   "cell_type": "markdown",
   "metadata": {},
   "source": [
    "# 1. Collect Course links for driver to click on"
   ]
  },
  {
   "cell_type": "code",
   "execution_count": 5,
   "metadata": {},
   "outputs": [],
   "source": [
    "page_soup = soup(driver.page_source, 'lxml')"
   ]
  },
  {
   "cell_type": "code",
   "execution_count": 6,
   "metadata": {
    "scrolled": true
   },
   "outputs": [
    {
     "data": {
      "text/plain": [
       "<span class=\"generic-body\" id=\"ctl00_ctl00_pageContent_ctl01_ctl02_cnBody\">\n",
       "<ul>\n",
       "<li>\n",
       "<a class=\"link-text\" href=\"en-4-1.html\">First Year Curriculum</a>\n",
       "</li>\n",
       "<li><a class=\"link-text\" href=\"chemistry.html#43028\">Chemistry 379</a>\n",
       "</li>\n",
       "<li><a class=\"link-text\" href=\"digital-engineering.html#47170\">Digital Engineering 319</a>, <a class=\"link-text\" href=\"digital-engineering.html#47171\">407</a>\n",
       "</li>\n",
       "<li><a class=\"link-text\" href=\"engineering.html#10165\">Engineering 311</a>, <a class=\"link-text\" href=\"engineering.html#10169\">349</a>\n",
       "</li>\n",
       "<li><a class=\"link-text\" href=\"manufacturing-engineering.html#7929\">Manufacturing Engineering 417</a>\n",
       "</li>\n",
       "<li><a class=\"link-text\" href=\"mechanical-engineering.html#7870\">Mechanical Engineering 101</a>, <a class=\"link-text\" href=\"mechanical-engineering.html#42366\">317</a>, <a class=\"link-text\" href=\"mechanical-engineering.html#7871\">337</a>, <a class=\"link-text\" href=\"mechanical-engineering.html#32039\">339</a>, <a class=\"link-text\" href=\"mechanical-engineering.html#7872\">341</a>, <a class=\"link-text\" href=\"mechanical-engineering.html#7873\">421</a>, <a class=\"link-text\" href=\"mechanical-engineering.html#7874\">461</a>, <a class=\"link-text\" href=\"mechanical-engineering.html#7875\">471</a>, <a class=\"link-text\" href=\"mechanical-engineering.html#7876\">473</a>, <a class=\"link-text\" href=\"mechanical-engineering.html#7877\">479</a>, <a class=\"link-text\" href=\"mechanical-engineering.html#7878\">485</a>, <a class=\"link-text\" href=\"mechanical-engineering.html#7879\">493</a>, <a class=\"link-text\" href=\"mechanical-engineering.html#7880\">495</a>, <a class=\"link-text\" href=\"mechanical-engineering.html#7888\">585</a>, <a class=\"link-text\" href=\"mechanical-engineering.html#7893\">599</a>\n",
       "</li>\n",
       "<li>6 units from <a class=\"link-text\" href=\"engineering.html#39789\">Engineering 501</a> and <a class=\"link-text\" href=\"engineering.html#39790\">502</a> or <a class=\"link-text\" href=\"engineering.html#43071\">Engineering 503</a> and <a class=\"link-text\" href=\"engineering.html#43072\">504</a> or <a class=\"link-text\" href=\"mechanical-engineering.html#43921\">Mechanical Engineering 501</a> and <a class=\"link-text\" href=\"mechanical-engineering.html#43922\">502</a>\n",
       "</li>\n",
       "<li>3 units from <a class=\"link-text\" href=\"mathematics.html#40099\">Mathematics 375</a> or Applied Mathematics 307 \n",
       "</li>\n",
       "<li>3 units from <a class=\"link-text\" href=\"physics.html#40332\">Physics 365</a> or <a class=\"link-text\" href=\"physics.html#6040\">369</a>\n",
       "</li>\n",
       "<li>12 units of <a class=\"link-text\" href=\"en-4-8.html#39926\">Mechanical Engineering Technical Electives</a></li>\n",
       "<li>\n",
       "<a class=\"link-text\" href=\"en-3-3.html#3253\">Complementary Studies </a>\n",
       "</li>\n",
       "</ul>\n",
       "</span>"
      ]
     },
     "execution_count": 6,
     "metadata": {},
     "output_type": "execute_result"
    }
   ],
   "source": [
    "core_container = page_soup.find(\"span\", {\"id\": \"ctl00_ctl00_pageContent_ctl01_ctl02_cnBody\"})\n",
    "core_container"
   ]
  },
  {
   "cell_type": "code",
   "execution_count": 7,
   "metadata": {
    "scrolled": true
   },
   "outputs": [
    {
     "data": {
      "text/plain": [
       "<span class=\"generic-body\" id=\"ctl00_ctl00_pageContent_ctl10_ctl02_cnBody\">\n",
       "<p>Students completing the Regular Program may request a maximum of one (1) technical elective substitution from the Associate Head (Undergraduate Studies). NOTE: Not all technical electives may be offered every year.</p>\n",
       "<ul>\n",
       "<li><a class=\"link-text\" href=\"biomedical-engineering.html#9933\">Biomedical Engineering 509</a>, <a class=\"link-text\" href=\"biomedical-engineering.html#9936\">515</a>, <a class=\"link-text\" href=\"biomedical-engineering.html#42189\">523</a>, <a class=\"link-text\" href=\"biomedical-engineering.html#39336\">525</a>\n",
       "</li>\n",
       "<li><a class=\"link-text\" href=\"energy-and-environment-engineering.html#7609\">Energy and Environment, Engineering 575</a>\n",
       "</li>\n",
       "<li><a class=\"link-text\" href=\"engineering.html#40440\">Engineering 515</a>\n",
       "</li>\n",
       "<li><a class=\"link-text\" href=\"mechanical-engineering.html#39333\">Mechanical Engineering 505</a>, <a class=\"link-text\" href=\"mechanical-engineering.html#7881\">519</a>, <a class=\"link-text\" href=\"mechanical-engineering.html#7882\">521</a>, <a class=\"link-text\" href=\"mechanical-engineering.html#7885\">547</a>, <a class=\"link-text\" href=\"mechanical-engineering.html#44812\">561</a>, <a class=\"link-text\" href=\"mechanical-engineering.html#44814\">570</a>, <a class=\"link-text\" href=\"mechanical-engineering.html#44815\">571</a>, <a class=\"link-text\" href=\"mechanical-engineering.html#44816\">572</a>, <a class=\"link-text\" href=\"mechanical-engineering.html#44817\">573</a>, <a class=\"link-text\" href=\"mechanical-engineering.html#44818\">574</a>, <a class=\"link-text\" href=\"mechanical-engineering.html#7887\">583</a>, <a class=\"link-text\" href=\"mechanical-engineering.html#43069\">587</a>, <a class=\"link-text\" href=\"mechanical-engineering.html#7891\">595</a>, <a class=\"link-text\" href=\"mechanical-engineering.html#7892\">597</a>\n",
       "</li>\n",
       "<li><a class=\"link-text\" href=\"manufacturing-engineering.html#7931\">Manufacturing Engineering 501</a>, <a class=\"link-text\" href=\"manufacturing-engineering.html#7932\">503</a>, <a class=\"link-text\" href=\"manufacturing-engineering.html#7934\">509</a>, <a class=\"link-text\" href=\"manufacturing-engineering.html#30150\">514</a>, <a class=\"link-text\" href=\"manufacturing-engineering.html#7938\">517</a>, <a class=\"link-text\" href=\"manufacturing-engineering.html#7941\">527</a>, <a class=\"link-text\" href=\"manufacturing-engineering.html#7943\">533</a>\n",
       "</li>\n",
       "<li><a class=\"link-text\" href=\"petroleum-engineering.html#41001\">Petroleum Engineering 521</a>, <a class=\"link-text\" href=\"petroleum-engineering.html#39334\">555</a>, <a class=\"link-text\" href=\"petroleum-engineering.html#7977\">561</a>, <a class=\"link-text\" href=\"petroleum-engineering.html#7978\">563</a> </li>\n",
       "</ul>\n",
       "</span>"
      ]
     },
     "execution_count": 7,
     "metadata": {},
     "output_type": "execute_result"
    }
   ],
   "source": [
    "technical_elective_container = page_soup.find(\"span\", {\"id\": \"ctl00_ctl00_pageContent_ctl10_ctl02_cnBody\"})\n",
    "technical_elective_container"
   ]
  },
  {
   "cell_type": "code",
   "execution_count": 8,
   "metadata": {
    "scrolled": true
   },
   "outputs": [
    {
     "data": {
      "text/plain": [
       "['First Year Curriculum',\n",
       " 'Chemistry 379',\n",
       " 'Digital Engineering 319',\n",
       " '407',\n",
       " 'Engineering 311',\n",
       " '349',\n",
       " 'Manufacturing Engineering 417',\n",
       " 'Mechanical Engineering 101',\n",
       " '317',\n",
       " '337',\n",
       " '339',\n",
       " '341',\n",
       " '421',\n",
       " '461',\n",
       " '471',\n",
       " '473',\n",
       " '479',\n",
       " '485',\n",
       " '493',\n",
       " '495',\n",
       " '585',\n",
       " '599',\n",
       " 'Engineering 501',\n",
       " '502',\n",
       " 'Engineering 503',\n",
       " '504',\n",
       " 'Mechanical Engineering 501',\n",
       " '502',\n",
       " 'Mathematics 375',\n",
       " 'Physics 365',\n",
       " '369',\n",
       " 'Mechanical Engineering Technical Electives',\n",
       " 'Complementary Studies ',\n",
       " 'Biomedical Engineering 509',\n",
       " '515',\n",
       " '523',\n",
       " '525',\n",
       " 'Energy and Environment, Engineering 575',\n",
       " 'Engineering 515',\n",
       " 'Mechanical Engineering 505',\n",
       " '519',\n",
       " '521',\n",
       " '547',\n",
       " '561',\n",
       " '570',\n",
       " '571',\n",
       " '572',\n",
       " '573',\n",
       " '574',\n",
       " '583',\n",
       " '587',\n",
       " '595',\n",
       " '597',\n",
       " 'Manufacturing Engineering 501',\n",
       " '503',\n",
       " '509',\n",
       " '514',\n",
       " '517',\n",
       " '527',\n",
       " '533',\n",
       " 'Petroleum Engineering 521',\n",
       " '555',\n",
       " '561',\n",
       " '563']"
      ]
     },
     "execution_count": 8,
     "metadata": {},
     "output_type": "execute_result"
    }
   ],
   "source": [
    "link_texts = core_container.findAll(\"a\", {\"class\": \"link-text\"}) + technical_elective_container.findAll(\"a\", {\"class\": \"link-text\"})\n",
    "link_texts = [link_text.text for link_text in link_texts]\n",
    "link_texts"
   ]
  },
  {
   "cell_type": "code",
   "execution_count": 9,
   "metadata": {
    "scrolled": true
   },
   "outputs": [
    {
     "data": {
      "text/plain": [
       "['Chemistry 379',\n",
       " 'Digital Engineering 319',\n",
       " '407',\n",
       " 'Engineering 311',\n",
       " '349',\n",
       " 'Manufacturing Engineering 417',\n",
       " 'Mechanical Engineering 101',\n",
       " '317',\n",
       " '337',\n",
       " '339',\n",
       " '341',\n",
       " '421',\n",
       " '461',\n",
       " '471',\n",
       " '473',\n",
       " '479',\n",
       " '485',\n",
       " '493',\n",
       " '495',\n",
       " '585',\n",
       " '599',\n",
       " 'Engineering 501',\n",
       " '502',\n",
       " 'Engineering 503',\n",
       " '504',\n",
       " 'Mechanical Engineering 501',\n",
       " '502',\n",
       " 'Mathematics 375',\n",
       " 'Physics 365',\n",
       " '369',\n",
       " 'Biomedical Engineering 509',\n",
       " '515',\n",
       " '523',\n",
       " '525',\n",
       " 'Energy and Environment, Engineering 575',\n",
       " 'Engineering 515',\n",
       " 'Mechanical Engineering 505',\n",
       " '519',\n",
       " '521',\n",
       " '547',\n",
       " '561',\n",
       " '570',\n",
       " '571',\n",
       " '572',\n",
       " '573',\n",
       " '574',\n",
       " '583',\n",
       " '587',\n",
       " '595',\n",
       " '597',\n",
       " 'Manufacturing Engineering 501',\n",
       " '503',\n",
       " '509',\n",
       " '514',\n",
       " '517',\n",
       " '527',\n",
       " '533',\n",
       " 'Petroleum Engineering 521',\n",
       " '555',\n",
       " '561',\n",
       " '563']"
      ]
     },
     "execution_count": 9,
     "metadata": {},
     "output_type": "execute_result"
    }
   ],
   "source": [
    "link_texts = [link_text for link_text in link_texts if bool(re.match(\"[A-Za-z, ]*[0-9]{3}\", link_text))]\n",
    "link_texts"
   ]
  },
  {
   "cell_type": "markdown",
   "metadata": {},
   "source": [
    "problem: many link texts are identical but point to different courses"
   ]
  },
  {
   "cell_type": "code",
   "execution_count": 20,
   "metadata": {
    "scrolled": true
   },
   "outputs": [
    {
     "name": "stdout",
     "output_type": "stream",
     "text": [
      "https://ucalgary.ca/pubs/calendar/current/engineering.html#39790\n",
      "https://ucalgary.ca/pubs/calendar/current/mechanical-engineering.html#43922\n",
      "https://ucalgary.ca/pubs/calendar/current/engineering.html#39790\n",
      "https://ucalgary.ca/pubs/calendar/current/mechanical-engineering.html#43922\n",
      "https://ucalgary.ca/pubs/calendar/current/mechanical-engineering.html#43922\n",
      "https://ucalgary.ca/pubs/calendar/current/engineering.html#39790\n"
     ]
    }
   ],
   "source": [
    "driver.get(\"https://ucalgary.ca/pubs/calendar/current/en-4-8.html\")\n",
    "links = driver.find_elements_by_link_text(\"502\")\n",
    "for i in range(len(links)):\n",
    "    link = driver.find_elements_by_link_text(\"502\")[i]\n",
    "    link.click()\n",
    "    time.sleep(3)\n",
    "    print(driver.current_url)\n",
    "    driver.get(\"https://ucalgary.ca/pubs/calendar/current/en-4-8.html\")\n",
    "    time.sleep(3)"
   ]
  },
  {
   "cell_type": "markdown",
   "metadata": {},
   "source": [
    "# 2. Automation script to scrape all courses"
   ]
  },
  {
   "cell_type": "code",
   "execution_count": 21,
   "metadata": {
    "scrolled": true
   },
   "outputs": [
    {
     "name": "stdout",
     "output_type": "stream",
     "text": [
      "Scraped  Chemistry 379\n",
      "Scraped  Digital Engineering 319\n",
      "Scraped  Digital Engineering 407\n",
      "Scraped  Engineering 311\n",
      "Scraped  Engineering 349\n",
      "Scraped  Manufacturing Engineering 417\n",
      "Scraped  Mechanical Engineering 101\n",
      "Scraped  Mechanical Engineering 317\n",
      "Scraped  Mechanical Engineering 337\n",
      "Scraped  Mechanical Engineering 339\n",
      "Scraped  Mechanical Engineering 341\n",
      "Scraped  Mechanical Engineering 421\n",
      "Scraped  Mechanical Engineering 461\n",
      "Scraped  Mechanical Engineering 471\n",
      "Scraped  Mechanical Engineering 473\n",
      "Scraped  Mechanical Engineering 479\n",
      "Scraped  Mechanical Engineering 485\n",
      "Scraped  Mechanical Engineering 493\n",
      "Scraped  Mechanical Engineering 495\n",
      "Scraped  Mechanical Engineering 585\n",
      "Scraped  Mechanical Engineering 599\n",
      "Scraped  Engineering 501\n",
      "Scraped  Engineering 502\n",
      "Scraped  Mechanical Engineering 502\n",
      "Scraped  Engineering 503\n",
      "Scraped  Engineering 504\n",
      "Scraped  Mechanical Engineering 501\n",
      "Scraped  Mathematics 375\n",
      "Scraped  Physics 365\n",
      "Scraped  Physics 369\n",
      "Scraped  Biomedical Engineering 509\n",
      "Scraped  Biomedical Engineering 515\n",
      "Scraped  Biomedical Engineering 523\n",
      "Scraped  Biomedical Engineering 525\n",
      "Scraped  Electrical Engineering 525\n",
      "Scraped  Energy and Environment, Engineering 575\n",
      "Scraped  Engineering 515\n",
      "Scraped  Mechanical Engineering 505\n",
      "Scraped  Mechanical Engineering 519\n",
      "Scraped  Mechanical Engineering 521\n",
      "Scraped  Mechanical Engineering 547\n",
      "Scraped  Mechanical Engineering 561\n",
      "Scraped  Petroleum Engineering 561\n",
      "Scraped  Mechanical Engineering 570\n",
      "Scraped  Mechanical Engineering 571\n",
      "Scraped  Mechanical Engineering 572\n",
      "Scraped  Mechanical Engineering 573\n",
      "Scraped  Mechanical Engineering 574\n",
      "Scraped  Mechanical Engineering 583\n",
      "Scraped  Mechanical Engineering 587\n",
      "Scraped  Mechanical Engineering 595\n",
      "Scraped  Mechanical Engineering 597\n",
      "Scraped  Manufacturing Engineering 501\n",
      "Scraped  Manufacturing Engineering 503\n",
      "Scraped  Manufacturing Engineering 509\n",
      "Scraped  Manufacturing Engineering 514\n",
      "Scraped  Manufacturing Engineering 517\n",
      "Scraped  Manufacturing Engineering 527\n",
      "Scraped  Manufacturing Engineering 533\n",
      "Scraped  Petroleum Engineering 533\n",
      "Scraped  Petroleum Engineering 521\n",
      "Scraped  Petroleum Engineering 555\n",
      "Scraped  Petroleum Engineering 563\n",
      "Finished scraping 63 courses\n"
     ]
    }
   ],
   "source": [
    "from selenium.common.exceptions import NoSuchElementException\n",
    "from selenium.common.exceptions import StaleElementReferenceException\n",
    "\n",
    "course_codes = []\n",
    "course_names = []\n",
    "course_descs = []\n",
    "counter = 0\n",
    "\n",
    "visited_ids = [] #to keep track of which link has been clicked and avoid clicking on links with the same course code\n",
    "#ex. multiple links in the page has text \"502\" - mech 502 and eng 502\n",
    "\n",
    "driver.get(\"https://ucalgary.ca/pubs/calendar/current/en-4-8.html\")\n",
    "    \n",
    "for link_text in link_texts:\n",
    "    #go to course page\n",
    "    try:\n",
    "        links = driver.find_elements_by_link_text(link_text)\n",
    "    except NoSuchElementException:\n",
    "        print(\"no link for {}\".format(link_text))\n",
    "        continue\n",
    "    time.sleep(2)\n",
    "    \n",
    "    for i in range(len(links)):\n",
    "        \n",
    "        link = driver.find_elements_by_link_text(link_text)[i]\n",
    "        link.click()\n",
    "        time.sleep(2)\n",
    "    \n",
    "        #scrape course info\n",
    "        page_soup = soup(driver.page_source, 'lxml')\n",
    "        #get the id of the table containing the specific course information\n",
    "        starting_index = driver.current_url.index(\"#\")+1\n",
    "        table_id = driver.current_url[starting_index:]\n",
    "        \n",
    "        #check if table id has already been visited\n",
    "        if table_id in visited_ids:\n",
    "            driver.get(\"https://ucalgary.ca/pubs/calendar/current/en-4-8.html\")\n",
    "            time.sleep(2)\n",
    "            continue\n",
    "        \n",
    "        visited_ids.append(table_id)\n",
    "        \n",
    "        #locate the container/table using the id\n",
    "        container = page_soup.find(\"a\", {\"name\": table_id})\n",
    "        container = container.parent\n",
    "        \n",
    "        course_info = container.findAll(\"span\", {\"class\": \"course-code\"})\n",
    "        course_codes.append(course_info[0].text.strip() + \" \" + course_info[1].text.strip())\n",
    "        course_names.append(course_info[2].text.strip())\n",
    "        course_descs.append(container.find(\"span\", {\"class\": \"course-desc\"}).text)\n",
    "        \n",
    "        print(\"Scraped \", course_codes[-1])\n",
    "        counter += 1\n",
    "        \n",
    "        #go to course list page\n",
    "        driver.get(\"https://ucalgary.ca/pubs/calendar/current/en-4-8.html\")\n",
    "        time.sleep(2)\n",
    "        \n",
    "print(\"Finished scraping {} courses\".format(counter))"
   ]
  },
  {
   "cell_type": "markdown",
   "metadata": {},
   "source": [
    "NOTE: NEED TO REMOVE Electrical eng 525 AND Petroleum eng 533, NOT REGULAR MECH ENG PROGRAM COURSES. THEY GET SCRAPED DUE TO POOR FORMATTING ON UCALG SITE AND DUPLICATE COURSE CODE LINKS (EX. MULTIPLE 525 LINKS"
   ]
  },
  {
   "cell_type": "code",
   "execution_count": 23,
   "metadata": {},
   "outputs": [
    {
     "name": "stdout",
     "output_type": "stream",
     "text": [
      "61\n",
      "63\n"
     ]
    }
   ],
   "source": [
    "print(len(link_texts))\n",
    "print(len(course_codes))"
   ]
  },
  {
   "cell_type": "code",
   "execution_count": 24,
   "metadata": {},
   "outputs": [],
   "source": [
    "false_courses = [\"Electrical Engineering 525\", \"Petroleum Engineering 533\"]\n",
    "course_codes_final = []\n",
    "course_names_final = []\n",
    "course_descs_final = []\n",
    "\n",
    "for i in range(len(course_codes)):\n",
    "    if course_codes[i] not in false_courses:\n",
    "        course_codes_final.append(course_codes[i])\n",
    "        course_names_final.append(course_names[i])\n",
    "        course_descs_final.append(course_descs[i])"
   ]
  },
  {
   "cell_type": "code",
   "execution_count": 28,
   "metadata": {},
   "outputs": [
    {
     "data": {
      "text/plain": [
       "61"
      ]
     },
     "execution_count": 28,
     "metadata": {},
     "output_type": "execute_result"
    }
   ],
   "source": [
    "len(course_descs_final)"
   ]
  },
  {
   "cell_type": "markdown",
   "metadata": {},
   "source": [
    "# 3. also need to scrape engineering-targeted CSEs"
   ]
  },
  {
   "cell_type": "code",
   "execution_count": 29,
   "metadata": {
    "scrolled": true
   },
   "outputs": [
    {
     "data": {
      "text/plain": [
       "<span class=\"generic-body\" id=\"ctl00_ctl00_pageContent_ctl05_ctl02_cnBody\">\n",
       "<p>The following six complementary studies courses are required for all students<sup>1,2</sup> in the School: </p>\n",
       "<p>(a) <a class=\"link-text\" href=\"engineering.html#10161\">Engineering 209</a> (<a class=\"link-text\" href=\"economics.html#9978\">Economics 209</a>)<sup>3 </sup>- not open to first-year students </p>\n",
       "<p>(b) <a class=\"link-text\" href=\"engineering.html#10173\">Engineering 481</a></p>\n",
       "<p>(c) <a class=\"link-text\" href=\"engineering.html#43070\">Engineering 213</a> <sup></sup>or <a class=\"link-text\" href=\"communication-media-studies.html#7287\">Communications Studies 363</a></p>\n",
       "<p>(d) <a class=\"link-text\" href=\"engineering.html#10174\">Engineering 513</a></p>\n",
       "<p>(e) Two general complementary studies courses (see below) are required for all programs except in the following cases:</p>\n",
       "<ul>\n",
       "<li>For the Chemical Engineering Programs, students are required to take three general complementary studies courses<sup>3</sup></li>\n",
       "</ul>\n",
       "<p>Note inclusions to the list of acceptable general complementary courses for specific programs: </p>\n",
       "<ul>\n",
       "<li><a class=\"link-text\" href=\"energy-management.html#3928\">Energy Management 301</a>, which is required in the Energy and Environment Minor, counts as a general complementary studies course. \n",
       "</li>\n",
       "<li>For Geomatics Engineering Programs (<u>except </u>for Geomatics with Energy and Environment Minor), <a class=\"link-text\" href=\"strategy-and-global-management.html#47040\">Strategy and Global Management 395</a> may be used as a general complementary studies course. <a class=\"link-text\" href=\"geomatics-engineering.html#44859\">Geomatics Engineering 587</a>, which is required in the Aerospace Engineering Minor, counts as a general complementary studies course. </li>\n",
       "</ul>\n",
       "<p>\n",
       "<em>\n",
       "<sup>1</sup>The sequence of complementary studies courses for students in the BSc in Energy Engineering is listed in </em>\n",
       "<a class=\"link-text\" href=\"en-4-6.html\">\n",
       "<em>4.6. Energy Engineering</em>\n",
       "</a>\n",
       "<em>. Students in this program may not use Economics/<a class=\"link-text\" href=\"engineering.html#10161\">Engineering 209</a> or <a class=\"link-text\" href=\"engineering.html#43070\">Engineering 213</a> or <a class=\"link-text\" href=\"communication-media-studies.html#7287\">Communications Studies 363</a>; these students must take two general complementary studies courses.</em>\n",
       "</p>\n",
       "<p>\n",
       "<em>\n",
       "<sup>2</sup>Students in the BSc (Engineering)/BComm program are required to take <a class=\"link-text\" href=\"economics.html#9976\">Economics 201</a> in place of Economics/<a class=\"link-text\" href=\"engineering.html#10161\">Engineering 209</a>; <a class=\"link-text\" href=\"economics.html#9977\">Economics 203</a> and one junior-level English course in place of two general complementary studies courses; and <a class=\"link-text\" href=\"strategy-and-global-management.html#39323\">Strategy and Global Management 217</a> in place of <a class=\"link-text\" href=\"engineering.html#43070\">Engineering 213</a> or <a class=\"link-text\" href=\"communication-media-studies.html#7287\">Communications Studies 363</a>.</em>\n",
       "</p>\n",
       "<p>\n",
       "<em>\n",
       "<sup>3</sup>Students in Chemical Engineering may not use <a class=\"link-text\" href=\"economics.html#9978\">Economics 209</a> or <a class=\"link-text\" href=\"engineering.html#10161\">Engineering 209</a> as a Complementary Studies course; these students must take three general complementary studies courses.</em>\n",
       "</p>\n",
       "</span>"
      ]
     },
     "execution_count": 29,
     "metadata": {},
     "output_type": "execute_result"
    }
   ],
   "source": [
    "cse_url = \"https://ucalgary.ca/pubs/calendar/current/en-3-3.html#3253\"\n",
    "uClient = ureq(cse_url)\n",
    "page_html = uClient.read()\n",
    "uClient.close()\n",
    "cse_page_soup = soup(page_html, \"html.parser\")\n",
    "\n",
    "cse_container = cse_page_soup.find(\"span\", {\"id\": \"ctl00_ctl00_pageContent_ctl05_ctl02_cnBody\"})\n",
    "cse_container"
   ]
  },
  {
   "cell_type": "code",
   "execution_count": 30,
   "metadata": {},
   "outputs": [
    {
     "data": {
      "text/plain": [
       "['Engineering 209',\n",
       " 'Economics 209',\n",
       " 'Engineering 481',\n",
       " 'Engineering 213',\n",
       " 'Communications Studies 363',\n",
       " 'Engineering 513',\n",
       " 'Energy Management 301',\n",
       " 'Strategy and Global Management 395',\n",
       " 'Geomatics Engineering 587',\n",
       " '\\n4.6. Energy Engineering\\n',\n",
       " 'Economics 201',\n",
       " 'Economics 203',\n",
       " 'Strategy and Global Management 217']"
      ]
     },
     "execution_count": 30,
     "metadata": {},
     "output_type": "execute_result"
    }
   ],
   "source": [
    "cse_link_texts = cse_container.findAll(\"a\", {\"class\": \"link-text\"})\n",
    "cse_link_texts = [link_text.text for link_text in cse_link_texts]\n",
    "cse_link_texts = list(dict.fromkeys(cse_link_texts))\n",
    "cse_link_texts"
   ]
  },
  {
   "cell_type": "code",
   "execution_count": 31,
   "metadata": {},
   "outputs": [
    {
     "data": {
      "text/plain": [
       "['Engineering 209',\n",
       " 'Economics 209',\n",
       " 'Engineering 481',\n",
       " 'Engineering 213',\n",
       " 'Communications Studies 363',\n",
       " 'Engineering 513']"
      ]
     },
     "execution_count": 31,
     "metadata": {},
     "output_type": "execute_result"
    }
   ],
   "source": [
    "#only the first 6 cse's are engineering-related and relevant to the mechanical engineering program\n",
    "cse_link_texts = cse_link_texts[:6]\n",
    "cse_link_texts"
   ]
  },
  {
   "cell_type": "code",
   "execution_count": 32,
   "metadata": {},
   "outputs": [
    {
     "name": "stdout",
     "output_type": "stream",
     "text": [
      "Scraped  Engineering 209\n",
      "Scraped  Economics 209\n",
      "Scraped  Engineering 481\n",
      "Scraped  Engineering 213\n",
      "Scraped  Communication and Media Studies 363\n",
      "Scraped  Engineering 513\n",
      "Finished scraping 6 courses\n"
     ]
    }
   ],
   "source": [
    "counter = 0\n",
    "\n",
    "driver.get(\"https://ucalgary.ca/pubs/calendar/current/en-3-3.html#3253\")\n",
    "    \n",
    "for link_text in cse_link_texts:\n",
    "    #go to course page\n",
    "    try:\n",
    "        link = driver.find_element_by_link_text(link_text)\n",
    "    except NoSuchElementException:\n",
    "        print(\"no link for {}\".format(link_text))\n",
    "        continue\n",
    "\n",
    "    time.sleep(2)\n",
    "    link.click()    \n",
    "    time.sleep(2)\n",
    "    \n",
    "    #scrape course info\n",
    "    page_soup = soup(driver.page_source, 'lxml')\n",
    "    #get the id of the table containing the specific course information\n",
    "    starting_index = driver.current_url.index(\"#\")+1\n",
    "    table_id = driver.current_url[starting_index:]\n",
    "    \n",
    "    #locate the container/table using the id\n",
    "    container = page_soup.find(\"a\", {\"name\": table_id})\n",
    "    container = container.parent\n",
    "    \n",
    "    course_info = container.findAll(\"span\", {\"class\": \"course-code\"})\n",
    "    course_codes_final.append(course_info[0].text.strip() + \" \" + course_info[1].text.strip())\n",
    "    course_names_final.append(course_info[2].text.strip())\n",
    "    course_descs_final.append(container.find(\"span\", {\"class\": \"course-desc\"}).text)\n",
    "    \n",
    "    print(\"Scraped \", course_codes_final[-1])\n",
    "    counter += 1\n",
    "    \n",
    "    #go to course list page\n",
    "    driver.back()\n",
    "    time.sleep(2)\n",
    "        \n",
    "print(\"Finished scraping {} courses\".format(counter))"
   ]
  },
  {
   "cell_type": "code",
   "execution_count": 33,
   "metadata": {},
   "outputs": [
    {
     "data": {
      "text/plain": [
       "67"
      ]
     },
     "execution_count": 33,
     "metadata": {},
     "output_type": "execute_result"
    }
   ],
   "source": [
    "len(course_codes_final)"
   ]
  },
  {
   "cell_type": "markdown",
   "metadata": {},
   "source": [
    "# 4. Write to CSV"
   ]
  },
  {
   "cell_type": "code",
   "execution_count": 34,
   "metadata": {},
   "outputs": [
    {
     "data": {
      "text/html": [
       "<div>\n",
       "<style scoped>\n",
       "    .dataframe tbody tr th:only-of-type {\n",
       "        vertical-align: middle;\n",
       "    }\n",
       "\n",
       "    .dataframe tbody tr th {\n",
       "        vertical-align: top;\n",
       "    }\n",
       "\n",
       "    .dataframe thead th {\n",
       "        text-align: right;\n",
       "    }\n",
       "</style>\n",
       "<table border=\"1\" class=\"dataframe\">\n",
       "  <thead>\n",
       "    <tr style=\"text-align: right;\">\n",
       "      <th></th>\n",
       "      <th>Course Number</th>\n",
       "      <th>Course Name</th>\n",
       "      <th>Course Description</th>\n",
       "    </tr>\n",
       "  </thead>\n",
       "  <tbody>\n",
       "    <tr>\n",
       "      <th>0</th>\n",
       "      <td>Chemistry 379</td>\n",
       "      <td>Materials Chemistry for Engineers</td>\n",
       "      <td>An introduction to materials chemistry with in...</td>\n",
       "    </tr>\n",
       "    <tr>\n",
       "      <th>1</th>\n",
       "      <td>Digital Engineering 319</td>\n",
       "      <td>Probability, Statistics and Machine Learning</td>\n",
       "      <td>Presentation and description of data, introduc...</td>\n",
       "    </tr>\n",
       "    <tr>\n",
       "      <th>2</th>\n",
       "      <td>Digital Engineering 407</td>\n",
       "      <td>Computational Numerical Methods</td>\n",
       "      <td>Numerical computational procedures to solve en...</td>\n",
       "    </tr>\n",
       "    <tr>\n",
       "      <th>3</th>\n",
       "      <td>Engineering 311</td>\n",
       "      <td>Engineering Thermodynamics</td>\n",
       "      <td>Energy, thermodynamic systems, properties and ...</td>\n",
       "    </tr>\n",
       "    <tr>\n",
       "      <th>4</th>\n",
       "      <td>Engineering 349</td>\n",
       "      <td>Dynamics</td>\n",
       "      <td>Kinematics of particles and rigid bodies: rect...</td>\n",
       "    </tr>\n",
       "    <tr>\n",
       "      <th>...</th>\n",
       "      <td>...</td>\n",
       "      <td>...</td>\n",
       "      <td>...</td>\n",
       "    </tr>\n",
       "    <tr>\n",
       "      <th>62</th>\n",
       "      <td>Economics 209</td>\n",
       "      <td>Engineering Economics</td>\n",
       "      <td>The basic tools and methodology of engineering...</td>\n",
       "    </tr>\n",
       "    <tr>\n",
       "      <th>63</th>\n",
       "      <td>Engineering 481</td>\n",
       "      <td>Technology and Society</td>\n",
       "      <td>An interpretive course on the interrelationshi...</td>\n",
       "    </tr>\n",
       "    <tr>\n",
       "      <th>64</th>\n",
       "      <td>Engineering 213</td>\n",
       "      <td>Engineering Communication</td>\n",
       "      <td>Professional and technical communication with ...</td>\n",
       "    </tr>\n",
       "    <tr>\n",
       "      <th>65</th>\n",
       "      <td>Communication and Media Studies 363</td>\n",
       "      <td>Professional and Technical Communication</td>\n",
       "      <td>An introduction to professional and technical ...</td>\n",
       "    </tr>\n",
       "    <tr>\n",
       "      <th>66</th>\n",
       "      <td>Engineering 513</td>\n",
       "      <td>The Role and Responsibilities of the Professio...</td>\n",
       "      <td>The professional duties and responsibilities o...</td>\n",
       "    </tr>\n",
       "  </tbody>\n",
       "</table>\n",
       "<p>67 rows × 3 columns</p>\n",
       "</div>"
      ],
      "text/plain": [
       "                          Course Number  \\\n",
       "0                         Chemistry 379   \n",
       "1               Digital Engineering 319   \n",
       "2               Digital Engineering 407   \n",
       "3                       Engineering 311   \n",
       "4                       Engineering 349   \n",
       "..                                  ...   \n",
       "62                        Economics 209   \n",
       "63                      Engineering 481   \n",
       "64                      Engineering 213   \n",
       "65  Communication and Media Studies 363   \n",
       "66                      Engineering 513   \n",
       "\n",
       "                                          Course Name  \\\n",
       "0                   Materials Chemistry for Engineers   \n",
       "1        Probability, Statistics and Machine Learning   \n",
       "2                     Computational Numerical Methods   \n",
       "3                          Engineering Thermodynamics   \n",
       "4                                            Dynamics   \n",
       "..                                                ...   \n",
       "62                              Engineering Economics   \n",
       "63                             Technology and Society   \n",
       "64                          Engineering Communication   \n",
       "65           Professional and Technical Communication   \n",
       "66  The Role and Responsibilities of the Professio...   \n",
       "\n",
       "                                   Course Description  \n",
       "0   An introduction to materials chemistry with in...  \n",
       "1   Presentation and description of data, introduc...  \n",
       "2   Numerical computational procedures to solve en...  \n",
       "3   Energy, thermodynamic systems, properties and ...  \n",
       "4   Kinematics of particles and rigid bodies: rect...  \n",
       "..                                                ...  \n",
       "62  The basic tools and methodology of engineering...  \n",
       "63  An interpretive course on the interrelationshi...  \n",
       "64  Professional and technical communication with ...  \n",
       "65  An introduction to professional and technical ...  \n",
       "66  The professional duties and responsibilities o...  \n",
       "\n",
       "[67 rows x 3 columns]"
      ]
     },
     "execution_count": 34,
     "metadata": {},
     "output_type": "execute_result"
    }
   ],
   "source": [
    "import pandas as pd\n",
    "\n",
    "df = pd.DataFrame({\n",
    "    \"Course Number\": course_codes_final,\n",
    "    \"Course Name\": course_names_final,\n",
    "    \"Course Description\": course_descs_final\n",
    "})\n",
    "\n",
    "df"
   ]
  },
  {
   "cell_type": "code",
   "execution_count": 35,
   "metadata": {},
   "outputs": [],
   "source": [
    "df.to_csv('UCalgary_MechEng_Core_and_Elective_Courses.csv', index = False)"
   ]
  },
  {
   "cell_type": "code",
   "execution_count": null,
   "metadata": {},
   "outputs": [],
   "source": [
    "driver.quit()"
   ]
  }
 ],
 "metadata": {
  "kernelspec": {
   "display_name": "Python 3",
   "language": "python",
   "name": "python3"
  },
  "language_info": {
   "codemirror_mode": {
    "name": "ipython",
    "version": 3
   },
   "file_extension": ".py",
   "mimetype": "text/x-python",
   "name": "python",
   "nbconvert_exporter": "python",
   "pygments_lexer": "ipython3",
   "version": "3.8.5"
  }
 },
 "nbformat": 4,
 "nbformat_minor": 4
}
