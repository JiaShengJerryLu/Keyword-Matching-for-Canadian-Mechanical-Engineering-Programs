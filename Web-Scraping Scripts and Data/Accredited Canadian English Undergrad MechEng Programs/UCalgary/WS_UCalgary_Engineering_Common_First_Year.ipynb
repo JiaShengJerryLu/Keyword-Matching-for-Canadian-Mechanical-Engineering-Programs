{
 "cells": [
  {
   "cell_type": "code",
   "execution_count": 1,
   "metadata": {},
   "outputs": [],
   "source": [
    "from bs4 import BeautifulSoup as soup\n",
    "from urllib.request import urlopen as ureq\n",
    "from selenium import webdriver\n",
    "import time\n",
    "import re"
   ]
  },
  {
   "cell_type": "code",
   "execution_count": 2,
   "metadata": {},
   "outputs": [],
   "source": [
    "url = 'https://ucalgary.ca/pubs/calendar/current/en-4-1.html'"
   ]
  },
  {
   "cell_type": "code",
   "execution_count": 3,
   "metadata": {},
   "outputs": [],
   "source": [
    "chrome_options = webdriver.ChromeOptions()\n",
    "chrome_options.add_argument('--ignore-certificate-errors')\n",
    "chrome_options.add_argument('--incognito')\n",
    "chrome_options.add_argument('--headless')\n",
    "\n",
    "driver = webdriver.Chrome(\"C:\\\\Users\\\\jerry\\\\Downloads\\\\chromedriver\", options=chrome_options)"
   ]
  },
  {
   "cell_type": "code",
   "execution_count": 4,
   "metadata": {},
   "outputs": [],
   "source": [
    "driver.get(url)\n",
    "time.sleep(3)"
   ]
  },
  {
   "cell_type": "markdown",
   "metadata": {},
   "source": [
    "# 1. Collect Course links for driver to click on"
   ]
  },
  {
   "cell_type": "code",
   "execution_count": 5,
   "metadata": {},
   "outputs": [],
   "source": [
    "page_soup = soup(driver.page_source, 'lxml')"
   ]
  },
  {
   "cell_type": "code",
   "execution_count": 6,
   "metadata": {},
   "outputs": [],
   "source": [
    "container = page_soup.find(\"span\", {\"id\": \"ctl00_ctl00_pageContent_ctl00_ctl02_cnBody\"})"
   ]
  },
  {
   "cell_type": "code",
   "execution_count": 9,
   "metadata": {},
   "outputs": [
    {
     "data": {
      "text/plain": [
       "<span class=\"generic-body\" id=\"ctl00_ctl00_pageContent_ctl00_ctl02_cnBody\">\n",
       "<p>The first-year curriculum is common to all programs except Energy Engineering.</p>\n",
       "<ul>\n",
       "<li><a class=\"link-text\" href=\"engineering.html#30141\">Engineering 200</a>, <a class=\"link-text\" href=\"engineering.html#10159\">201</a>, <a class=\"link-text\" href=\"engineering.html#30142\">202</a>, <a class=\"link-text\" href=\"engineering.html#30143\">225</a>\n",
       "</li>\n",
       "<li><a class=\"link-text\" href=\"digital-engineering.html#47158\">Digital Engineering 233</a>\n",
       "</li>\n",
       "<li><a class=\"link-text\" href=\"mathematics.html#40096\">Mathematics 275</a> or Applied Mathematics 217 \n",
       "</li>\n",
       "<li><a class=\"link-text\" href=\"mathematics.html#40097\">Mathematics 277</a> or Applied Mathematics 219 \n",
       "</li>\n",
       "<li><a class=\"link-text\" href=\"mathematics.html#6942\">Mathematics 211</a>\n",
       "</li>\n",
       "<li><a class=\"link-text\" href=\"physics.html#6031\">Physics 259</a>\n",
       "</li>\n",
       "<li><a class=\"link-text\" href=\"chemistry.html#6509\">Chemistry 209</a>\n",
       "</li>\n",
       "<li>General <a class=\"link-text\" href=\"en-3-3.html#3253\">Complementary Studies </a>(3 units) </li>\n",
       "</ul>\n",
       "</span>"
      ]
     },
     "execution_count": 9,
     "metadata": {},
     "output_type": "execute_result"
    }
   ],
   "source": [
    "container"
   ]
  },
  {
   "cell_type": "code",
   "execution_count": 22,
   "metadata": {},
   "outputs": [
    {
     "data": {
      "text/plain": [
       "[<a class=\"link-text\" href=\"engineering.html#30141\">Engineering 200</a>,\n",
       " <a class=\"link-text\" href=\"engineering.html#10159\">201</a>,\n",
       " <a class=\"link-text\" href=\"engineering.html#30142\">202</a>,\n",
       " <a class=\"link-text\" href=\"engineering.html#30143\">225</a>,\n",
       " <a class=\"link-text\" href=\"digital-engineering.html#47158\">Digital Engineering 233</a>,\n",
       " <a class=\"link-text\" href=\"mathematics.html#40096\">Mathematics 275</a>,\n",
       " <a class=\"link-text\" href=\"mathematics.html#40097\">Mathematics 277</a>,\n",
       " <a class=\"link-text\" href=\"mathematics.html#6942\">Mathematics 211</a>,\n",
       " <a class=\"link-text\" href=\"physics.html#6031\">Physics 259</a>,\n",
       " <a class=\"link-text\" href=\"chemistry.html#6509\">Chemistry 209</a>,\n",
       " <a class=\"link-text\" href=\"en-3-3.html#3253\">Complementary Studies </a>]"
      ]
     },
     "execution_count": 22,
     "metadata": {},
     "output_type": "execute_result"
    }
   ],
   "source": [
    "link_texts = container.findAll(\"a\", {\"class\": \"link-text\"})\n",
    "link_texts"
   ]
  },
  {
   "cell_type": "markdown",
   "metadata": {},
   "source": [
    "# 2. Test run - try to scrape the first course"
   ]
  },
  {
   "cell_type": "code",
   "execution_count": 21,
   "metadata": {},
   "outputs": [],
   "source": [
    "pattern = re.compile(\"[A-Za-z ]*[0-9]{3}\")"
   ]
  },
  {
   "cell_type": "code",
   "execution_count": 27,
   "metadata": {},
   "outputs": [
    {
     "data": {
      "text/plain": [
       "'https://ucalgary.ca/pubs/calendar/current/engineering.html#30141'"
      ]
     },
     "execution_count": 27,
     "metadata": {},
     "output_type": "execute_result"
    }
   ],
   "source": [
    "link = driver.find_element_by_partial_link_text(link_text[0].text)\n",
    "link.click()\n",
    "\n",
    "driver.current_url"
   ]
  },
  {
   "cell_type": "markdown",
   "metadata": {},
   "source": [
    " ### will need to extract the table id from the link to identify the target course's container"
   ]
  },
  {
   "cell_type": "code",
   "execution_count": 34,
   "metadata": {},
   "outputs": [
    {
     "data": {
      "text/plain": [
       "str"
      ]
     },
     "execution_count": 34,
     "metadata": {},
     "output_type": "execute_result"
    }
   ],
   "source": [
    "type(driver.current_url)"
   ]
  },
  {
   "cell_type": "code",
   "execution_count": 38,
   "metadata": {},
   "outputs": [
    {
     "data": {
      "text/plain": [
       "'30141'"
      ]
     },
     "execution_count": 38,
     "metadata": {},
     "output_type": "execute_result"
    }
   ],
   "source": [
    "table_id = re.search(\"[0-9]{5}\", driver.current_url)\n",
    "table_id = table_id.group()\n",
    "table_id"
   ]
  },
  {
   "cell_type": "code",
   "execution_count": 39,
   "metadata": {},
   "outputs": [],
   "source": [
    "page_soup = soup(driver.page_source, 'lxml')"
   ]
  },
  {
   "cell_type": "code",
   "execution_count": 43,
   "metadata": {},
   "outputs": [
    {
     "data": {
      "text/plain": [
       "<div class=\"item-container\"><a name=\"30141\"></a>\n",
       "<table align=\"center\" bgcolor=\"white\" border=\"0\" bordercolor=\"#000000\" cellpadding=\"2\" cellspacing=\"0\" width=\"100%\">\n",
       "<tbody><tr>\n",
       "<td>\n",
       "<table border=\"0\" cellpadding=\"2\" cellspacing=\"0\" width=\"100%\">\n",
       "<tbody><tr>\n",
       "<td bgcolor=\"#333333\" valign=\"top\" width=\"10%\"><nobr>\n",
       "<span class=\"course-code\" id=\"ctl00_ctl00_pageContent_ctl03_ctl02_cnCourse\">Engineering</span>\n",
       "<span class=\"course-code\" id=\"ctl00_ctl00_pageContent_ctl03_ctl02_cnCode\">200</span>      </nobr>\n",
       "</td>\n",
       "<td bgcolor=\"#333333\" valign=\"top\" width=\"90%\">\n",
       "<span class=\"course-code\" id=\"ctl00_ctl00_pageContent_ctl03_ctl02_cnTitle\">Engineering Design, Innovation and Entrepreneurship</span>\n",
       "</td>\n",
       "</tr>\n",
       "</tbody></table>\n",
       "</td>\n",
       "</tr>\n",
       "<tr>\n",
       "<td class=\"myCell\">\n",
       "<span class=\"course-desc\" id=\"ctl00_ctl00_pageContent_ctl03_ctl02_cnDescription\">Introduction to agile and iterative design; interdisciplinary application of engineering principles, digital technology, design, communications, leadership, entrepreneurship and project management concepts to a team-based design project with a focus on sustainability and social licences.</span>\n",
       "<span class=\"course-label\" id=\"ctl00_ctl00_pageContent_ctl03_ctl02_Hour\"><br/>Course Hours:</span>\n",
       "<span class=\"course-hours\" id=\"ctl00_ctl00_pageContent_ctl03_ctl02_cnHours\">3 units; (3-1S-3)</span>\n",
       "<span class=\"course-prereq\" id=\"ctl00_ctl00_pageContent_ctl03_ctl02_cnPrerequisites\"></span>\n",
       "<span class=\"course-label\" id=\"ctl00_ctl00_pageContent_ctl03_ctl02_Coreq\"><br/>Corequisite(s):</span>\n",
       "<span class=\"course-coreq\" id=\"ctl00_ctl00_pageContent_ctl03_ctl02_cnCorequisites\"><a class=\"link-text\" href=\"engineering.html#30143\">Engineering 225</a>; and Engineering 233 or <a class=\"link-text\" href=\"digital-engineering.html#47158\">Digital Engineering 233</a>.</span>\n",
       "<span class=\"course-label\" id=\"ctl00_ctl00_pageContent_ctl03_ctl02_Antireq\"><br/>Antirequisite(s):</span>\n",
       "<span class=\"course-antireq\" id=\"ctl00_ctl00_pageContent_ctl03_ctl02_cnAntirequisites\">Credit for <a class=\"link-text\" href=\"engineering.html#30141\">Engineering 200</a> and any of Engineering 251, 253 or <a class=\"link-text\" href=\"energy-engineering.html#41047\">Energy Engineering 200</a> will not be allowed.</span>\n",
       "<span class=\"course-notes\" id=\"ctl00_ctl00_pageContent_ctl03_ctl02_cnNotes\"></span>\n",
       "<span class=\"course-aka\" id=\"ctl00_ctl00_pageContent_ctl03_ctl02_cnAKA\"></span>\n",
       "<span class=\"course-label\" id=\"ctl00_ctl00_pageContent_ctl03_ctl02_Rep\"></span>\n",
       "<span class=\"course-repeat\" id=\"ctl00_ctl00_pageContent_ctl03_ctl02_cnRepeat\"><br/> </span>\n",
       "<span class=\"course-nogpa\" id=\"ctl00_ctl00_pageContent_ctl03_ctl02_cnNoGpa\"></span>\n",
       "</td>\n",
       "</tr>\n",
       "<tr>\n",
       "<td align=\"right\" class=\"backtotop\"><a href=\"#top\">back to top</a></td><td> </td>\n",
       "</tr>\n",
       "</tbody></table>\n",
       "</div>"
      ]
     },
     "execution_count": 43,
     "metadata": {},
     "output_type": "execute_result"
    }
   ],
   "source": [
    "container = page_soup.find(\"a\", {\"name\": table_id})\n",
    "container.parent"
   ]
  },
  {
   "cell_type": "code",
   "execution_count": 48,
   "metadata": {},
   "outputs": [
    {
     "name": "stdout",
     "output_type": "stream",
     "text": [
      "Engineering 200\n",
      "Engineering Design, Innovation and Entrepreneurship\n"
     ]
    }
   ],
   "source": [
    "container = container.parent\n",
    "\n",
    "course_info = container.findAll(\"span\", {\"class\": \"course-code\"})\n",
    "\n",
    "course_code = course_info[0].text + \" \" + course_info[1].text\n",
    "course_name = course_info[2].text\n",
    "\n",
    "print(course_code)\n",
    "print(course_name)"
   ]
  },
  {
   "cell_type": "code",
   "execution_count": 50,
   "metadata": {},
   "outputs": [
    {
     "data": {
      "text/plain": [
       "'Introduction to agile and iterative design; interdisciplinary application of engineering principles, digital technology, design, communications, leadership, entrepreneurship and project management concepts to a team-based design project with a focus on sustainability and social licences.'"
      ]
     },
     "execution_count": 50,
     "metadata": {},
     "output_type": "execute_result"
    }
   ],
   "source": [
    "course_desc = container.find(\"span\", {\"class\": \"course-desc\"}).text\n",
    "course_desc"
   ]
  },
  {
   "cell_type": "code",
   "execution_count": 51,
   "metadata": {},
   "outputs": [
    {
     "data": {
      "text/plain": [
       "'https://ucalgary.ca/pubs/calendar/current/en-4-1.html'"
      ]
     },
     "execution_count": 51,
     "metadata": {},
     "output_type": "execute_result"
    }
   ],
   "source": [
    "driver.back()\n",
    "driver.current_url"
   ]
  },
  {
   "cell_type": "code",
   "execution_count": 67,
   "metadata": {},
   "outputs": [
    {
     "data": {
      "text/plain": [
       "'https://ucalgary.ca/pubs/calendar/current/en-4-1.html'"
      ]
     },
     "execution_count": 67,
     "metadata": {},
     "output_type": "execute_result"
    }
   ],
   "source": [
    "driver.get(\"https://ucalgary.ca/pubs/calendar/current/en-4-1.html\")\n",
    "\n",
    "link = driver.find_element_by_link_text(link_texts[1].text)\n",
    "link.click()\n",
    "page_soup = soup(driver.page_source, 'lxml')\n",
    "table_id = driver.current_url[-5:]\n",
    "container = page_soup.find(\"a\", {\"name\": table_id})\n",
    "driver.back()\n",
    "driver.current_url"
   ]
  },
  {
   "cell_type": "markdown",
   "metadata": {},
   "source": [
    "# 3. Test run complete. Implement automation script to scrape all courses"
   ]
  },
  {
   "cell_type": "code",
   "execution_count": 69,
   "metadata": {},
   "outputs": [
    {
     "name": "stdout",
     "output_type": "stream",
     "text": [
      "Scraped  Engineering 200\n",
      "Scraped  Engineering 201\n",
      "Scraped  Engineering 202\n",
      "Scraped  Engineering 225\n",
      "Scraped  Digital Engineering 233\n",
      "Scraped  Mathematics 275\n",
      "Scraped  Mathematics 277\n",
      "Scraped  Mathematics 211\n",
      "Scraped  Physics 259\n",
      "Scraped  Chemistry 209\n",
      "Finished scraping 10 courses\n"
     ]
    }
   ],
   "source": [
    "from selenium.common.exceptions import NoSuchElementException\n",
    "\n",
    "course_codes = []\n",
    "course_names = []\n",
    "course_descs = []\n",
    "counter = 0\n",
    "\n",
    "driver.get(\"https://ucalgary.ca/pubs/calendar/current/en-4-1.html\")\n",
    "    \n",
    "for link_text in link_texts:\n",
    "    if bool(re.match(pattern, link_text.text)):\n",
    "        #go to course page\n",
    "        try:\n",
    "            link = driver.find_element_by_link_text(link_text.text)\n",
    "        except NoSuchElementException:\n",
    "            print(\"no link for {}\".format(link_text.text))\n",
    "            continue\n",
    "\n",
    "        time.sleep(2)\n",
    "        link.click()    \n",
    "        time.sleep(2)\n",
    "        \n",
    "        #scrape course info\n",
    "        page_soup = soup(driver.page_source, 'lxml')\n",
    "        #get the id of the table containing the specific course information\n",
    "        starting_index = driver.current_url.index(\"#\")+1\n",
    "        table_id = driver.current_url[starting_index:]\n",
    "        \n",
    "        #locate the container/table using the id\n",
    "        container = page_soup.find(\"a\", {\"name\": table_id})\n",
    "        container = container.parent\n",
    "        \n",
    "        course_info = container.findAll(\"span\", {\"class\": \"course-code\"})\n",
    "        course_codes.append(course_info[0].text.strip() + \" \" + course_info[1].text.strip())\n",
    "        course_names.append(course_info[2].text.strip())\n",
    "        course_descs.append(container.find(\"span\", {\"class\": \"course-desc\"}).text)\n",
    "        \n",
    "        print(\"Scraped \", course_codes[-1])\n",
    "        counter += 1\n",
    "        \n",
    "        #go to course list page\n",
    "        driver.back()\n",
    "        time.sleep(2)\n",
    "        \n",
    "print(\"Finished scraping {} courses\".format(counter))"
   ]
  },
  {
   "cell_type": "markdown",
   "metadata": {},
   "source": [
    "# 4. Inspect and write to CSV"
   ]
  },
  {
   "cell_type": "code",
   "execution_count": 70,
   "metadata": {},
   "outputs": [
    {
     "data": {
      "text/plain": [
       "['Engineering 200',\n",
       " 'Engineering 201',\n",
       " 'Engineering 202',\n",
       " 'Engineering 225',\n",
       " 'Digital Engineering 233',\n",
       " 'Mathematics 275',\n",
       " 'Mathematics 277',\n",
       " 'Mathematics 211',\n",
       " 'Physics 259',\n",
       " 'Chemistry 209']"
      ]
     },
     "execution_count": 70,
     "metadata": {},
     "output_type": "execute_result"
    }
   ],
   "source": [
    "course_codes"
   ]
  },
  {
   "cell_type": "code",
   "execution_count": 71,
   "metadata": {},
   "outputs": [
    {
     "data": {
      "text/plain": [
       "['Engineering Design, Innovation and Entrepreneurship',\n",
       " 'Behaviour of Liquids, Gases and Solids',\n",
       " 'Engineering Statics',\n",
       " 'Fundamentals of Electrical Circuits and Machines',\n",
       " 'Programming with Data',\n",
       " 'Calculus for Engineers and Scientists',\n",
       " 'Multivariable Calculus for Engineers and Scientists',\n",
       " 'Linear Methods I',\n",
       " 'Electricity and Magnetism (for students in Engineering)',\n",
       " 'General Chemistry for Engineers']"
      ]
     },
     "execution_count": 71,
     "metadata": {},
     "output_type": "execute_result"
    }
   ],
   "source": [
    "course_names"
   ]
  },
  {
   "cell_type": "code",
   "execution_count": 72,
   "metadata": {
    "scrolled": false
   },
   "outputs": [
    {
     "data": {
      "text/plain": [
       "['Introduction to agile and iterative design; interdisciplinary application of engineering principles, digital technology, design, communications, leadership, entrepreneurship and project management concepts to a team-based design project with a focus on sustainability and social licences.',\n",
       " 'An introduction to the behaviour of fluids and solids; phase transformations, the phase rule and phase diagrams. Ideal and real gases; equations of state and their engineering applications; simple kinetic theory; transport properties of fluids. Liquid state; vapor pressure; shear behaviour; flow of fluids in pipelines. Solids; crystalline and non-crystalline structure; non-equilibrium solid phases; electrical and thermal conductivity; dislocations; stress and strain; creep; fracture.',\n",
       " 'Force vectors; equilibrium of a particle in two and three dimensions; force system resultants; equilibrium of a rigid body in two and three dimensions; internal forces in trusses; frames, machines and beams; bending moment and shear force diagrams; friction; centre of gravity; centroids of areas; composite bodies.',\n",
       " \"Current, voltage and power; Kirchhoff's current and voltage laws; capacitors; electricity and magnetism fundamentals applied to circuit elements and machines; inductors; topics in electrical circuits and systems; instrumentation; circuit design, DC and AC circuit analysis methods; DC and AC machines; first order circuits and transient analysis.\",\n",
       " 'Fundamental programming constructs and data structures. Algorithm development and problem solving. Programming techniques to facilitate data analysis. Obtaining and cleaning data. Data validation. Data manipulation. Data visualization. Introduction to decision making using machine learning. Applications chosen from all engineering disciplines. ',\n",
       " 'An extensive treatment of differential and integral calculus in a single variable, with an emphasis on applications. Differentiation: derivative laws, the mean value theorem, optimization, curve sketching and other applications. Integral calculus: the fundamental theorem of calculus, techniques of integration, improper integrals, and areas of planar regions. Infinite series: power series, Taylor’s theorem and Taylor series. ',\n",
       " 'An introduction to calculus of several real variables: curves and parametrizations, partial differentiation, the chain rule, implicit functions; integration in two and three variables and applications; optimization and Lagrange multipliers. ',\n",
       " 'An introduction to systems of linear equations, vectors in Euclidean space and matrix algebra. Additional topics include linear transformations, determinants, complex numbers, eigenvalues, and applications. ',\n",
       " 'Electric and magnetic fields related to charges and current through Maxwell’s equations. Energy stored in fields, potential energy, and voltage. Conductors, insulators, and dielectrics. Resistance, capacitance, and inductance with applications to RC/RL circuits. ',\n",
       " 'Basic chemical concepts. Atomic and molecular structure. Chemical bonding. Chemical kinetics and equilibria. Acid-base and solubility equilibria. Oxidation-reduction phenomena and electrochemistry. The chemistry of water. The chemistry of energy sources. Basic environmental issues.']"
      ]
     },
     "execution_count": 72,
     "metadata": {},
     "output_type": "execute_result"
    }
   ],
   "source": [
    "course_descs"
   ]
  },
  {
   "cell_type": "code",
   "execution_count": 73,
   "metadata": {},
   "outputs": [],
   "source": [
    "import pandas as pd\n",
    "\n",
    "df = pd.DataFrame({\n",
    "    \n",
    "    \"Course Number\": course_codes,\n",
    "    \"Course Name\": course_names,\n",
    "    \"Course Description\": course_descs\n",
    "    \n",
    "})\n",
    "\n",
    "df.to_csv('UCalgary_Engineering_Common_First_Year_Courses.csv', index = False)"
   ]
  },
  {
   "cell_type": "code",
   "execution_count": null,
   "metadata": {},
   "outputs": [],
   "source": [
    "driver.quit()"
   ]
  }
 ],
 "metadata": {
  "kernelspec": {
   "display_name": "Python 3",
   "language": "python",
   "name": "python3"
  },
  "language_info": {
   "codemirror_mode": {
    "name": "ipython",
    "version": 3
   },
   "file_extension": ".py",
   "mimetype": "text/x-python",
   "name": "python",
   "nbconvert_exporter": "python",
   "pygments_lexer": "ipython3",
   "version": "3.8.5"
  }
 },
 "nbformat": 4,
 "nbformat_minor": 4
}
