{
 "cells": [
  {
   "cell_type": "code",
   "execution_count": 1,
   "metadata": {},
   "outputs": [],
   "source": [
    "from bs4 import BeautifulSoup as soup\n",
    "from urllib.request import urlopen as ureq\n",
    "from selenium import webdriver\n",
    "import time\n",
    "import re"
   ]
  },
  {
   "cell_type": "code",
   "execution_count": 2,
   "metadata": {},
   "outputs": [],
   "source": [
    "url = \"https://www.mun.ca/regoff/calendar/sectionNo=ENGI-1120\""
   ]
  },
  {
   "cell_type": "code",
   "execution_count": 3,
   "metadata": {},
   "outputs": [],
   "source": [
    "chrome_options = webdriver.ChromeOptions()\n",
    "chrome_options.add_argument('--ignore-certificate-errors')\n",
    "chrome_options.add_argument('--incognito')\n",
    "#chrome_options.add_argument('--headless')\n",
    "\n",
    "driver = webdriver.Chrome(\"C:\\\\Users\\\\jerry\\\\Downloads\\\\chromedriver\", options=chrome_options)"
   ]
  },
  {
   "cell_type": "code",
   "execution_count": 4,
   "metadata": {},
   "outputs": [],
   "source": [
    "driver.get(url)"
   ]
  },
  {
   "cell_type": "markdown",
   "metadata": {},
   "source": [
    "# 1. Collect course links for webdriver to click on"
   ]
  },
  {
   "cell_type": "code",
   "execution_count": 5,
   "metadata": {},
   "outputs": [],
   "source": [
    "page_soup = soup(driver.page_source, 'lxml')"
   ]
  },
  {
   "cell_type": "code",
   "execution_count": 6,
   "metadata": {},
   "outputs": [
    {
     "data": {
      "text/plain": [
       "3"
      ]
     },
     "execution_count": 6,
     "metadata": {},
     "output_type": "execute_result"
    }
   ],
   "source": [
    "tables = page_soup.find(\"div\", {\"id\": \"content\"}).findAll(\"table\")\n",
    "len(tables)"
   ]
  },
  {
   "cell_type": "code",
   "execution_count": 18,
   "metadata": {
    "scrolled": true
   },
   "outputs": [
    {
     "data": {
      "text/plain": [
       "[<a class=\"clink\" onclick=\"showcourse('SCI-0910', event, this);\" style=\"color:red;\">1050</a>,\n",
       " <a class=\"clink\" onclick=\"showcourse('ENGI-1247', event, this);\" style=\"color:red;\">1010</a>,\n",
       " <a class=\"clink\" onclick=\"showcourse('ENGI-1248', event, this);\" style=\"color:red;\">1020</a>,\n",
       " <a class=\"clink\" onclick=\"showcourse('ENGI-1249', event, this);\" style=\"color:red;\">1030</a>,\n",
       " <a class=\"clink\" onclick=\"showcourse('ENGI-1250', event, this);\" style=\"color:red;\">1040</a>,\n",
       " <a class=\"clink\" onclick=\"showcourse('SCI-1337', event, this);\" style=\"color:red;\">1000</a>,\n",
       " <a class=\"clink\" onclick=\"showcourse('SCI-1339', event, this);\" style=\"color:red;\">1001</a>,\n",
       " <a class=\"clink\" onclick=\"showcourse('SCI-1356', event, this);\" style=\"color:red;\">2050</a>,\n",
       " <a class=\"clink\" onclick=\"showcourse('SCI-1579', event, this);\" style=\"color:red;\">1050</a>,\n",
       " <a class=\"clink\" onclick=\"showcourse('SCI-1815', event, this);\" style=\"color:red;\">1051</a>,\n",
       " <a class=\"clink\" onclick=\"showcourse('ENGI-2143', event, this);\" style=\"color:red;\">200W</a>,\n",
       " <a class=\"clink\" onclick=\"showcourse('ENGI-2143', event, this);\" style=\"color:red;\">200W</a>,\n",
       " <a class=\"clink\" onclick=\"showcourse('ENGI-1253', event, this);\" style=\"color:red;\">3101</a>,\n",
       " <a class=\"clink\" onclick=\"showcourse('ENGI-1254', event, this);\" style=\"color:red;\">3424</a>,\n",
       " <a class=\"clink\" onclick=\"showcourse('ENGI-1263', event, this);\" style=\"color:red;\">3101</a>,\n",
       " <a class=\"clink\" onclick=\"showcourse('ENGI-1265', event, this);\" style=\"color:red;\">3102</a>,\n",
       " <a class=\"clink\" onclick=\"showcourse('ENGI-1264', event, this);\" style=\"color:red;\">3301</a>,\n",
       " <a class=\"clink\" onclick=\"showcourse('ENGI-1262', event, this);\" style=\"color:red;\">3401</a>,\n",
       " <a class=\"clink\" onclick=\"showcourse('ENGI-2137', event, this);\" style=\"color:red;\">001W</a>,\n",
       " <a class=\"clink\" onclick=\"showcourse('ENGI-2138', event, this);\" style=\"color:red;\">002W</a>,\n",
       " <a class=\"clink\" onclick=\"showcourse('ENGI-1970', event, this);\" style=\"color:red;\">4430</a>,\n",
       " <a class=\"clink\" onclick=\"showcourse('ENGI-1282', event, this);\" style=\"color:red;\">4302</a>,\n",
       " <a class=\"clink\" onclick=\"showcourse('ENGI-1281', event, this);\" style=\"color:red;\">4402</a>,\n",
       " <a class=\"clink\" onclick=\"showcourse('ENGI-1786', event, this);\" style=\"color:red;\">4501</a>,\n",
       " <a class=\"clink\" onclick=\"showcourse('ENGI-1873', event, this);\" style=\"color:red;\">4601</a>,\n",
       " <a class=\"clink\" onclick=\"showcourse('ENGI-2137', event, this);\" style=\"color:red;\">001W</a>,\n",
       " <a class=\"clink\" onclick=\"showcourse('ENGI-2138', event, this);\" style=\"color:red;\">002W</a>,\n",
       " <a class=\"clink\" onclick=\"showcourse('ENGI-2139', event, this);\" style=\"color:red;\">003W</a>,\n",
       " <a class=\"clink\" onclick=\"showcourse('ENGI-1969', event, this);\" style=\"color:red;\">4421</a>,\n",
       " <a class=\"clink\" onclick=\"showcourse('ENGI-1298', event, this);\" style=\"color:red;\">5103</a>,\n",
       " <a class=\"clink\" onclick=\"showcourse('ENGI-1696', event, this);\" style=\"color:red;\">5201</a>,\n",
       " <a class=\"clink\" onclick=\"showcourse('ENGI-1874', event, this);\" style=\"color:red;\">5502</a>,\n",
       " <a class=\"clink\" onclick=\"showcourse('ENGI-1300', event, this);\" style=\"color:red;\">5602</a>,\n",
       " <a class=\"clink\" onclick=\"showcourse('ENGI-2138', event, this);\" style=\"color:red;\">002W</a>,\n",
       " <a class=\"clink\" onclick=\"showcourse('ENGI-2139', event, this);\" style=\"color:red;\">003W</a>,\n",
       " <a class=\"clink\" onclick=\"showcourse('ENGI-2140', event, this);\" style=\"color:red;\">004W</a>,\n",
       " <a class=\"clink\" onclick=\"showcourse('ENGI-1324', event, this);\" style=\"color:red;\">6202</a>,\n",
       " <a class=\"clink\" onclick=\"showcourse('ENGI-1323', event, this);\" style=\"color:red;\">6303</a>,\n",
       " <a class=\"clink\" onclick=\"showcourse('ENGI-1321', event, this);\" style=\"color:red;\">6403</a>,\n",
       " <a class=\"clink\" onclick=\"showcourse('ENGI-1697', event, this);\" style=\"color:red;\">6701</a>,\n",
       " <a class=\"clink\" onclick=\"showcourse('ENGI-1698', event, this);\" style=\"color:red;\">6702</a>,\n",
       " <a class=\"clink\" onclick=\"showcourse('HKR-0531', event, this);\" style=\"color:red;\">2311</a>,\n",
       " <a class=\"clink\" onclick=\"showcourse('ENGI-2139', event, this);\" style=\"color:red;\">003W</a>,\n",
       " <a class=\"clink\" onclick=\"showcourse('ENGI-2140', event, this);\" style=\"color:red;\">004W</a>,\n",
       " <a class=\"clink\" onclick=\"showcourse('ENGI-2141', event, this);\" style=\"color:red;\">005W</a>,\n",
       " <a class=\"clink\" onclick=\"showcourse('ENGI-1700', event, this);\" style=\"color:red;\">7203</a>,\n",
       " <a class=\"clink\" onclick=\"showcourse('ENGI-1353', event, this);\" style=\"color:red;\">7704</a>,\n",
       " <a class=\"clink\" onclick=\"showcourse('HKR-0531', event, this);\" style=\"color:red;\">2311</a>,\n",
       " <a class=\"clink\" onclick=\"showcourse('ENGI-2140', event, this);\" style=\"color:red;\">004W</a>,\n",
       " <a class=\"clink\" onclick=\"showcourse('ENGI-2141', event, this);\" style=\"color:red;\">005W</a>,\n",
       " <a class=\"clink\" onclick=\"showcourse('ENGI-2142', event, this);\" style=\"color:red;\">006W</a>,\n",
       " <a class=\"clink\" onclick=\"showcourse('ENGI-1975', event, this);\" style=\"color:red;\">8152</a>,\n",
       " <a class=\"clink\" onclick=\"showcourse('ENGI-1388', event, this);\" style=\"color:red;\">8705</a>,\n",
       " <a class=\"clink\" onclick=\"showcourse('HKR-0531', event, this);\" style=\"color:red;\">2311</a>,\n",
       " <a class=\"clink\" onclick=\"showcourse('HKR-0440', event, this);\" style=\"color:red;\">4703</a>,\n",
       " <a class=\"clink\" onclick=\"showcourse('ENGI-1352', event, this);\" style=\"color:red;\">7104</a>,\n",
       " <a class=\"clink\" onclick=\"showcourse('ENGI-1699', event, this);\" style=\"color:red;\">7703</a>,\n",
       " <a class=\"clink\" onclick=\"showcourse('ENGI-1389', event, this);\" style=\"color:red;\">8604</a>,\n",
       " <a class=\"clink\" onclick=\"showcourse('ENGI-1701', event, this);\" style=\"color:red;\">7205</a>,\n",
       " <a class=\"clink\" onclick=\"showcourse('ENGI-1699', event, this);\" style=\"color:red;\">7703</a>,\n",
       " <a class=\"clink\" onclick=\"showcourse('ENGI-1702', event, this);\" style=\"color:red;\">8305</a>,\n",
       " <a class=\"clink\" onclick=\"showcourse('ENGI-1307', event, this);\" style=\"color:red;\">6202</a>,\n",
       " <a class=\"clink\" onclick=\"showcourse('ENGI-1367', event, this);\" style=\"color:red;\">7291</a>,\n",
       " <a class=\"clink\" onclick=\"showcourse('ENGI-1366', event, this);\" style=\"color:red;\">8290</a>,\n",
       " <a class=\"clink\" onclick=\"showcourse('ENGI-1350', event, this);\" style=\"color:red;\">7404</a>,\n",
       " <a class=\"clink\" onclick=\"showcourse('ENGI-1351', event, this);\" style=\"color:red;\">7405</a>,\n",
       " <a class=\"clink\" onclick=\"showcourse('ENGI-1386', event, this);\" style=\"color:red;\">8406</a>,\n",
       " <a class=\"clink\" onclick=\"showcourse('ENGI-1598', event, this);\" style=\"color:red;\">7410</a>,\n",
       " <a class=\"clink\" onclick=\"showcourse('ENGI-1859', event, this);\" style=\"color:red;\">8410</a>,\n",
       " <a class=\"clink\" onclick=\"showcourse('ENGI-1356', event, this);\" style=\"color:red;\">7204</a>,\n",
       " <a class=\"clink\" onclick=\"showcourse('ENGI-1701', event, this);\" style=\"color:red;\">7205</a>,\n",
       " <a class=\"clink\" onclick=\"showcourse('ENGI-1355', event, this);\" style=\"color:red;\">7603</a>,\n",
       " <a class=\"clink\" onclick=\"showcourse('ENGI-1703', event, this);\" style=\"color:red;\">8504</a>,\n",
       " <a class=\"clink\" onclick=\"showcourse('ENGI-1936', event, this);\" style=\"color:red;\">7105</a>,\n",
       " <a class=\"clink\" onclick=\"showcourse('ENGI-1355', event, this);\" style=\"color:red;\">7603</a>,\n",
       " <a class=\"clink\" onclick=\"showcourse('ENGI-1387', event, this);\" style=\"color:red;\">8106</a>,\n",
       " <a class=\"clink\" onclick=\"showcourse('ENGI-1391', event, this);\" style=\"color:red;\">8304</a>,\n",
       " <a class=\"clink\" onclick=\"showcourse('ENGI-1390', event, this);\" style=\"color:red;\">8605</a>,\n",
       " <a class=\"clink\" onclick=\"showcourse('ENGI-1937', event, this);\" style=\"color:red;\">8606</a>,\n",
       " <a class=\"clink\" onclick=\"showcourse('ENGI-1346', event, this);\" style=\"color:red;\">7200</a>,\n",
       " <a class=\"clink\" onclick=\"showcourse('ENGI-1598', event, this);\" style=\"color:red;\">7410</a>,\n",
       " <a class=\"clink\" onclick=\"showcourse('ENGI-1859', event, this);\" style=\"color:red;\">8410</a>,\n",
       " <a class=\"clink\" onclick=\"showcourse('ENGI-1379', event, this);\" style=\"color:red;\">8610</a>,\n",
       " <a class=\"clink\" onclick=\"showcourse('ENGI-1356', event, this);\" style=\"color:red;\">7204</a>,\n",
       " <a class=\"clink\" onclick=\"showcourse('ENGI-1391', event, this);\" style=\"color:red;\">8304</a>,\n",
       " <a class=\"clink\" onclick=\"showcourse('ENGI-2129', event, this);\" style=\"color:red;\">8580</a>,\n",
       " <a class=\"clink\" onclick=\"showcourse('ENGI-1351', event, this);\" style=\"color:red;\">7405</a>,\n",
       " <a class=\"clink\" onclick=\"showcourse('ENGI-1935', event, this);\" style=\"color:red;\">7503</a>,\n",
       " <a class=\"clink\" onclick=\"showcourse('ENGI-1387', event, this);\" style=\"color:red;\">8106</a>,\n",
       " <a class=\"clink\" onclick=\"showcourse('ENGI-1363', event, this);\" style=\"color:red;\">7171</a>,\n",
       " <a class=\"clink\" onclick=\"showcourse('ENGI-2018', event, this);\" style=\"color:red;\">7292</a>,\n",
       " <a class=\"clink\" onclick=\"showcourse('ENGI-1364', event, this);\" style=\"color:red;\">8276</a>,\n",
       " <a class=\"clink\" onclick=\"showcourse('ENGI-1370', event, this);\" style=\"color:red;\">8294</a>,\n",
       " <a class=\"clink\" onclick=\"showcourse('ENGI-1935', event, this);\" style=\"color:red;\">7503</a>,\n",
       " <a class=\"clink\" onclick=\"showcourse('ENGI-1355', event, this);\" style=\"color:red;\">7603</a>,\n",
       " <a class=\"clink\" onclick=\"showcourse('ENGI-1938', event, this);\" style=\"color:red;\">8407</a>,\n",
       " <a class=\"clink\" onclick=\"showcourse('ENGI-1703', event, this);\" style=\"color:red;\">8504</a>,\n",
       " <a class=\"clink\" onclick=\"showcourse('ENGI-1393', event, this);\" style=\"color:red;\">8505</a>,\n",
       " <a class=\"clink\" onclick=\"showcourse('ENGI-1704', event, this);\" style=\"color:red;\">8506</a>]"
      ]
     },
     "execution_count": 18,
     "metadata": {},
     "output_type": "execute_result"
    }
   ],
   "source": [
    "link_text_containers = []\n",
    "for table in tables:\n",
    "    sub_containers = table.findAll(\"a\", {\"onclick\": re.compile(\"showcourse\")})\n",
    "    for sub_container in sub_containers:\n",
    "        link_text_containers.append(sub_container)\n",
    "        \n",
    "link_text_containers"
   ]
  },
  {
   "cell_type": "code",
   "execution_count": 19,
   "metadata": {},
   "outputs": [
    {
     "data": {
      "text/plain": [
       "99"
      ]
     },
     "execution_count": 19,
     "metadata": {},
     "output_type": "execute_result"
    }
   ],
   "source": [
    "len(link_text_containers) #some are duplicate links while others have the same code but for diff subjects"
   ]
  },
  {
   "cell_type": "markdown",
   "metadata": {},
   "source": [
    "# 2. Text run - try scraping first course"
   ]
  },
  {
   "cell_type": "code",
   "execution_count": 20,
   "metadata": {},
   "outputs": [],
   "source": [
    "driver.find_element_by_link_text(link_text_containers[0].text).click()"
   ]
  },
  {
   "cell_type": "code",
   "execution_count": 21,
   "metadata": {},
   "outputs": [],
   "source": [
    "page_soup = soup(driver.page_source, 'lxml')\n",
    "course_info = page_soup.find(\"div\", {\"id\": \"tip\", \"class\": \"tip\"})"
   ]
  },
  {
   "cell_type": "code",
   "execution_count": 22,
   "metadata": {},
   "outputs": [
    {
     "data": {
      "text/plain": [
       "'1050'"
      ]
     },
     "execution_count": 22,
     "metadata": {},
     "output_type": "execute_result"
    }
   ],
   "source": [
    "course_info.find(\"p\", {\"class\": \"courseNumber\"}).text.strip()"
   ]
  },
  {
   "cell_type": "code",
   "execution_count": 23,
   "metadata": {},
   "outputs": [
    {
     "data": {
      "text/plain": [
       "'General Chemistry I'"
      ]
     },
     "execution_count": 23,
     "metadata": {},
     "output_type": "execute_result"
    }
   ],
   "source": [
    "course_info.find(\"p\", {\"class\": \"courseTitle\"}).text.strip()"
   ]
  },
  {
   "cell_type": "code",
   "execution_count": 24,
   "metadata": {},
   "outputs": [
    {
     "data": {
      "text/plain": [
       "'builds on basic chemistry concepts from high school. Topics include gases; thermochemistry; atomic structure; periodic properties; chemical bonding including valence bond theory; hybridization and introduction to molecular orbital theory; properties of liquids and solids.'"
      ]
     },
     "execution_count": 24,
     "metadata": {},
     "output_type": "execute_result"
    }
   ],
   "source": [
    "course_info.find(\"div\", {\"class\": \"courseDesc\"}).p.text.strip()"
   ]
  },
  {
   "cell_type": "code",
   "execution_count": 25,
   "metadata": {},
   "outputs": [],
   "source": [
    "driver.find_element_by_link_text(\"Close\").click()"
   ]
  },
  {
   "cell_type": "code",
   "execution_count": 29,
   "metadata": {},
   "outputs": [
    {
     "data": {
      "text/plain": [
       "'Chemistry'"
      ]
     },
     "execution_count": 29,
     "metadata": {},
     "output_type": "execute_result"
    }
   ],
   "source": [
    "#to find the subject name:\n",
    "re.split(\"\\d+\", link_text_containers[0].parent.text)[0].strip()"
   ]
  },
  {
   "cell_type": "code",
   "execution_count": 56,
   "metadata": {},
   "outputs": [],
   "source": [
    "#mapping of subject names to code:\n",
    "subject_codes = {\n",
    "    \n",
    "    \"Chemistry\": \"CHEM\",\n",
    "    \"ENGI\": \"ENGI\",\n",
    "    \"Mathematics\": \"MATH\",\n",
    "    \"Physics\": \"PHYS\",\n",
    "    \"ME\": \"ME\",\n",
    "    \"Human Kinetics and Recreation\": \"HKR\",\n",
    "    \"Process Engineering\": \"PE\",\n",
    "    \"Electrical and Computer Engineering\": \"ECE\",\n",
    "    \"Civil Engineering\": \"CIV\",\n",
    "    \"Recreation\": \"HKR\"\n",
    "}"
   ]
  },
  {
   "cell_type": "markdown",
   "metadata": {},
   "source": [
    "### trial to see if there's a way to keep track of which selenium links have been clicked and which haven't"
   ]
  },
  {
   "cell_type": "code",
   "execution_count": 34,
   "metadata": {},
   "outputs": [
    {
     "data": {
      "text/plain": [
       "[<selenium.webdriver.remote.webelement.WebElement (session=\"b3aefceb7cad805061134108c51ef423\", element=\"4c841185-29c7-40fe-9bb9-984c3506ecca\")>,\n",
       " <selenium.webdriver.remote.webelement.WebElement (session=\"b3aefceb7cad805061134108c51ef423\", element=\"b90bcf6e-7c7e-4e4a-a7d8-c875dbbb53fd\")>]"
      ]
     },
     "execution_count": 34,
     "metadata": {},
     "output_type": "execute_result"
    }
   ],
   "source": [
    "links_found = driver.find_elements_by_link_text(link_text_containers[0].text)\n",
    "links_found"
   ]
  },
  {
   "cell_type": "code",
   "execution_count": 35,
   "metadata": {},
   "outputs": [
    {
     "data": {
      "text/plain": [
       "[<selenium.webdriver.remote.webelement.WebElement (session=\"b3aefceb7cad805061134108c51ef423\", element=\"4c841185-29c7-40fe-9bb9-984c3506ecca\")>]"
      ]
     },
     "execution_count": 35,
     "metadata": {},
     "output_type": "execute_result"
    }
   ],
   "source": [
    "links_clicked = []\n",
    "links_clicked.append(links_found[0])\n",
    "links_clicked"
   ]
  },
  {
   "cell_type": "code",
   "execution_count": 36,
   "metadata": {},
   "outputs": [
    {
     "data": {
      "text/plain": [
       "True"
      ]
     },
     "execution_count": 36,
     "metadata": {},
     "output_type": "execute_result"
    }
   ],
   "source": [
    "driver.find_element_by_link_text(link_text_containers[0].text) in links_clicked"
   ]
  },
  {
   "cell_type": "code",
   "execution_count": 38,
   "metadata": {},
   "outputs": [
    {
     "data": {
      "text/plain": [
       "False"
      ]
     },
     "execution_count": 38,
     "metadata": {},
     "output_type": "execute_result"
    }
   ],
   "source": [
    "driver.find_elements_by_link_text(link_text_containers[0].text)[1] in links_clicked"
   ]
  },
  {
   "cell_type": "code",
   "execution_count": 39,
   "metadata": {},
   "outputs": [
    {
     "data": {
      "text/plain": [
       "[<selenium.webdriver.remote.webelement.WebElement (session=\"b3aefceb7cad805061134108c51ef423\", element=\"c1c57615-b5fc-4699-a92a-5c4dc9277343\")>,\n",
       " <selenium.webdriver.remote.webelement.WebElement (session=\"b3aefceb7cad805061134108c51ef423\", element=\"2883a42b-cc0b-440e-895b-6a291fa1e71a\")>,\n",
       " <selenium.webdriver.remote.webelement.WebElement (session=\"b3aefceb7cad805061134108c51ef423\", element=\"a06fc4aa-b26f-4d1a-9f7b-2aeebdd754c2\")>]"
      ]
     },
     "execution_count": 39,
     "metadata": {},
     "output_type": "execute_result"
    }
   ],
   "source": [
    "links_found = driver.find_elements_by_link_text(\"003W\")\n",
    "links_found"
   ]
  },
  {
   "cell_type": "code",
   "execution_count": 40,
   "metadata": {},
   "outputs": [],
   "source": [
    "links_clicked.append(links_found[0])"
   ]
  },
  {
   "cell_type": "code",
   "execution_count": 42,
   "metadata": {
    "scrolled": true
   },
   "outputs": [
    {
     "data": {
      "text/plain": [
       "False"
      ]
     },
     "execution_count": 42,
     "metadata": {},
     "output_type": "execute_result"
    }
   ],
   "source": [
    "links_found[1] in links_clicked"
   ]
  },
  {
   "cell_type": "markdown",
   "metadata": {},
   "source": [
    "# 3. Implement Automation script to scrape all courses"
   ]
  },
  {
   "cell_type": "code",
   "execution_count": 58,
   "metadata": {
    "scrolled": true
   },
   "outputs": [
    {
     "name": "stdout",
     "output_type": "stream",
     "text": [
      "Scraped  CHEM 1050\n",
      "Scraped  ENGI 1010\n",
      "Scraped  ENGI 1020\n",
      "Scraped  ENGI 1030\n",
      "Scraped  ENGI 1040\n",
      "Scraped  MATH 1000\n",
      "Scraped  MATH 1001\n",
      "Scraped  MATH 2050\n",
      "Scraped  PHYS 1050\n",
      "Scraped  PHYS 1051\n",
      "Scraped  ENGI 200W\n",
      "Scraped  ENGI 200W\n",
      "Scraped  ENGI 3101\n",
      "Scraped  ENGI 3424\n",
      "Scraped  ME 3101\n",
      "Scraped  ME 3102\n",
      "Scraped  ME 3301\n",
      "Scraped  ME 3401\n",
      "Scraped  ENGI 001W\n",
      "Scraped  ENGI 002W\n",
      "Scraped  ENGI 4430\n",
      "Scraped  ME 4302\n",
      "Scraped  ME 4402\n",
      "Scraped  ME 4501\n",
      "Scraped  ME 4601\n",
      "Scraped  ENGI 001W\n",
      "Scraped  ENGI 002W\n",
      "Scraped  ENGI 003W\n",
      "Scraped  ENGI 4421\n",
      "Scraped  ME 5103\n",
      "Scraped  ME 5201\n",
      "Scraped  ME 5502\n",
      "Scraped  ME 5602\n",
      "Scraped  ENGI 002W\n",
      "Scraped  ENGI 003W\n",
      "Scraped  ENGI 004W\n",
      "Scraped  ME 6202\n",
      "Scraped  ME 6303\n",
      "Scraped  ME 6403\n",
      "Scraped  ME 6701\n",
      "Scraped  ME 6702\n",
      "Scraped  HKR 2311\n",
      "Scraped  ENGI 003W\n",
      "Scraped  ENGI 004W\n",
      "Scraped  ENGI 005W\n",
      "Scraped  ME 7203\n",
      "Scraped  ME 7704\n",
      "Scraped  HKR 2311\n",
      "Scraped  ENGI 004W\n",
      "Scraped  ENGI 005W\n",
      "Scraped  ENGI 006W\n",
      "Scraped  ENGI 8152\n",
      "Scraped  ME 8705\n",
      "Scraped  HKR 2311\n",
      "Scraped  HKR 4703\n",
      "Scraped  ME 7104\n",
      "Scraped  ME 7703\n",
      "Scraped  ME 8604\n",
      "Scraped  ME 7205\n",
      "Scraped  ME 7703\n",
      "Scraped  ME 8305\n",
      "Scraped  PE 6202\n",
      "Scraped  PE 7291\n",
      "Scraped  PE 8290\n",
      "Scraped  ME 7404\n",
      "Scraped  ME 7405\n",
      "Scraped  ME 8406\n",
      "Scraped  ECE 7410\n",
      "Scraped  ECE 8410\n",
      "Scraped  ME 7204\n",
      "Scraped  ME 7205\n",
      "Scraped  ME 7603\n",
      "Scraped  ME 8504\n",
      "Scraped  ME 7105\n",
      "Scraped  ME 7603\n",
      "Scraped  ME 8106\n",
      "Scraped  ME 8304\n",
      "Scraped  ME 8605\n",
      "Scraped  ME 8606\n",
      "Scraped  ECE 7200\n",
      "Scraped  ECE 7410\n",
      "Scraped  ECE 8410\n",
      "Scraped  ECE 8610\n",
      "Scraped  ME 7204\n",
      "Scraped  ME 8304\n",
      "Scraped  CIV 8580\n",
      "Scraped  ME 7405\n",
      "Scraped  ME 7503\n",
      "Scraped  ME 8106\n",
      "Scraped  PE 7171\n",
      "Scraped  PE 7292\n",
      "Scraped  PE 8276\n",
      "Scraped  PE 8294\n",
      "Scraped  ME 7503\n",
      "Scraped  ME 7603\n",
      "Scraped  ME 8407\n",
      "Scraped  ME 8504\n",
      "Scraped  ME 8505\n",
      "Scraped  ME 8506\n",
      "scraped 99 courses\n"
     ]
    }
   ],
   "source": [
    "counter = 0\n",
    "course_codes = []\n",
    "course_names = []\n",
    "course_descs = []\n",
    "\n",
    "links_clicked = []\n",
    "\n",
    "for link_text_container in link_text_containers:\n",
    "    \n",
    "    #find all links with that text\n",
    "    links_found = driver.find_elements_by_link_text(link_text_container.text)\n",
    "    time.sleep(1)\n",
    "    \n",
    "    #check if each link has been clicked\n",
    "    #for the links that haven't been clicked, click them, scrape, and add them to the list of clicked links\n",
    "    for link in links_found:\n",
    "        if link not in links_clicked:\n",
    "            link.click()\n",
    "            time.sleep(3)\n",
    "            \n",
    "            page_soup = soup(driver.page_source, 'lxml')\n",
    "            course_info = page_soup.find(\"div\", {\"id\": \"tip\", \"class\": \"tip\"})\n",
    "            \n",
    "            subject_text = re.split(\"\\d+\", link_text_container.parent.text)[0].strip()\n",
    "            if len(subject_text.split()) > 4:\n",
    "                subject_text = subject_text.split()[-1]\n",
    "            \n",
    "            subject = subject_codes[subject_text]\n",
    "            course_code = subject + \" \" + course_info.find(\"p\", {\"class\": \"courseNumber\"}).text.strip()\n",
    "            course_name = course_info.find(\"p\", {\"class\": \"courseTitle\"}).text.strip()\n",
    "            course_desc = course_info.find(\"div\", {\"class\": \"courseDesc\"}).p.text.strip()\n",
    "            \n",
    "            course_codes.append(course_code)\n",
    "            course_names.append(course_name)\n",
    "            course_descs.append(course_desc)\n",
    "            \n",
    "            print(\"Scraped \", course_codes[-1])\n",
    "            counter += 1\n",
    "            driver.find_element_by_link_text(\"Close\").click()\n",
    "            time.sleep(3)\n",
    "            links_clicked.append(link)\n",
    "            break\n",
    "            \n",
    "print(\"scraped {} courses\".format(counter))   "
   ]
  },
  {
   "cell_type": "markdown",
   "metadata": {},
   "source": [
    "# 4. Inspect, clean, and write to CSV"
   ]
  },
  {
   "cell_type": "code",
   "execution_count": 59,
   "metadata": {
    "scrolled": true
   },
   "outputs": [
    {
     "data": {
      "text/plain": [
       "['CHEM 1050',\n",
       " 'ENGI 1010',\n",
       " 'ENGI 1020',\n",
       " 'ENGI 1030',\n",
       " 'ENGI 1040',\n",
       " 'MATH 1000',\n",
       " 'MATH 1001',\n",
       " 'MATH 2050',\n",
       " 'PHYS 1050',\n",
       " 'PHYS 1051',\n",
       " 'ENGI 200W',\n",
       " 'ENGI 200W',\n",
       " 'ENGI 3101',\n",
       " 'ENGI 3424',\n",
       " 'ME 3101',\n",
       " 'ME 3102',\n",
       " 'ME 3301',\n",
       " 'ME 3401',\n",
       " 'ENGI 001W',\n",
       " 'ENGI 002W',\n",
       " 'ENGI 4430',\n",
       " 'ME 4302',\n",
       " 'ME 4402',\n",
       " 'ME 4501',\n",
       " 'ME 4601',\n",
       " 'ENGI 001W',\n",
       " 'ENGI 002W',\n",
       " 'ENGI 003W',\n",
       " 'ENGI 4421',\n",
       " 'ME 5103',\n",
       " 'ME 5201',\n",
       " 'ME 5502',\n",
       " 'ME 5602',\n",
       " 'ENGI 002W',\n",
       " 'ENGI 003W',\n",
       " 'ENGI 004W',\n",
       " 'ME 6202',\n",
       " 'ME 6303',\n",
       " 'ME 6403',\n",
       " 'ME 6701',\n",
       " 'ME 6702',\n",
       " 'HKR 2311',\n",
       " 'ENGI 003W',\n",
       " 'ENGI 004W',\n",
       " 'ENGI 005W',\n",
       " 'ME 7203',\n",
       " 'ME 7704',\n",
       " 'HKR 2311',\n",
       " 'ENGI 004W',\n",
       " 'ENGI 005W',\n",
       " 'ENGI 006W',\n",
       " 'ENGI 8152',\n",
       " 'ME 8705',\n",
       " 'HKR 2311',\n",
       " 'HKR 4703',\n",
       " 'ME 7104',\n",
       " 'ME 7703',\n",
       " 'ME 8604',\n",
       " 'ME 7205',\n",
       " 'ME 7703',\n",
       " 'ME 8305',\n",
       " 'PE 6202',\n",
       " 'PE 7291',\n",
       " 'PE 8290',\n",
       " 'ME 7404',\n",
       " 'ME 7405',\n",
       " 'ME 8406',\n",
       " 'ECE 7410',\n",
       " 'ECE 8410',\n",
       " 'ME 7204',\n",
       " 'ME 7205',\n",
       " 'ME 7603',\n",
       " 'ME 8504',\n",
       " 'ME 7105',\n",
       " 'ME 7603',\n",
       " 'ME 8106',\n",
       " 'ME 8304',\n",
       " 'ME 8605',\n",
       " 'ME 8606',\n",
       " 'ECE 7200',\n",
       " 'ECE 7410',\n",
       " 'ECE 8410',\n",
       " 'ECE 8610',\n",
       " 'ME 7204',\n",
       " 'ME 8304',\n",
       " 'CIV 8580',\n",
       " 'ME 7405',\n",
       " 'ME 7503',\n",
       " 'ME 8106',\n",
       " 'PE 7171',\n",
       " 'PE 7292',\n",
       " 'PE 8276',\n",
       " 'PE 8294',\n",
       " 'ME 7503',\n",
       " 'ME 7603',\n",
       " 'ME 8407',\n",
       " 'ME 8504',\n",
       " 'ME 8505',\n",
       " 'ME 8506']"
      ]
     },
     "execution_count": 59,
     "metadata": {},
     "output_type": "execute_result"
    }
   ],
   "source": [
    "course_codes"
   ]
  },
  {
   "cell_type": "code",
   "execution_count": 60,
   "metadata": {
    "scrolled": true
   },
   "outputs": [
    {
     "data": {
      "text/plain": [
       "['General Chemistry I',\n",
       " 'Engineering Statics',\n",
       " 'Introduction to Programming',\n",
       " 'Engineering Graphics and Design',\n",
       " 'Mechanisms and Electric Circuits',\n",
       " 'Calculus I',\n",
       " 'Calculus II',\n",
       " 'Linear Algebra I',\n",
       " 'General Physics I: Mechanics',\n",
       " 'General Physics II: Oscillations, Waves, Electromagnetism',\n",
       " 'Work Term Preparation and Professional Development',\n",
       " 'Work Term Preparation and Professional Development',\n",
       " 'Engineering Professionalism I',\n",
       " 'Engineering Mathematics',\n",
       " 'Chemistry and Physics of Engineering Materials I',\n",
       " 'Production Technology',\n",
       " 'Dynamics',\n",
       " 'Thermodynamics I',\n",
       " 'Engineering Work Term 1',\n",
       " 'Engineering Work Term 2',\n",
       " 'Advanced Calculus for Engineering',\n",
       " 'Mechanisms and Machines',\n",
       " 'Thermodynamics II',\n",
       " 'Fluid Mechanics I',\n",
       " 'Mechanics of Solids I',\n",
       " 'Engineering Work Term 1',\n",
       " 'Engineering Work Term 2',\n",
       " 'Engineering Work Term 3',\n",
       " 'Probability and Statistics',\n",
       " 'Chemistry and Physics of Engineering Materials II',\n",
       " 'Mechatronics I',\n",
       " 'Fluid Mechanics II',\n",
       " 'Mechanics of Solids II',\n",
       " 'Engineering Work Term 2',\n",
       " 'Engineering Work Term 3',\n",
       " 'Engineering Work Term 4',\n",
       " 'Control Systems I',\n",
       " 'Mechanical Vibrations',\n",
       " 'Heat Transfer I',\n",
       " 'Computer Aided Engineering Applications',\n",
       " 'Mechanical Component Design I',\n",
       " 'Introduction to Anatomy and Physiology',\n",
       " 'Engineering Work Term 3',\n",
       " 'Engineering Work Term 4',\n",
       " 'Engineering Work Term 5',\n",
       " 'Instrumentation and Experimental Design',\n",
       " 'Mechanical Design Project I',\n",
       " 'Introduction to Anatomy and Physiology',\n",
       " 'Engineering Work Term 4',\n",
       " 'Engineering Work Term 5',\n",
       " 'Engineering Work Term 6',\n",
       " 'Engineering Professionalism II',\n",
       " 'Mechanical Design Project II',\n",
       " 'Introduction to Anatomy and Physiology',\n",
       " 'Occupational Ergonomics and Sport Biomechanics',\n",
       " 'Industrial Materials',\n",
       " 'Mechanical Component Design II',\n",
       " 'Fatigue and Fracture Mechanics',\n",
       " 'Mechatronics II',\n",
       " 'Mechanical Component Design II',\n",
       " 'Modelling and Simulation of Dynamic Systems',\n",
       " 'Offshore Petroleum Geology and Technology',\n",
       " 'Petroleum Production Engineering',\n",
       " 'Reservoir Engineering',\n",
       " 'Heat Transfer II',\n",
       " 'Mechanical Equipment',\n",
       " 'Design of Thermal Systems',\n",
       " 'Image Processing and Applications',\n",
       " 'Computer Vision',\n",
       " 'Robotics and Automation',\n",
       " 'Mechatronics II',\n",
       " 'Finite Element Analysis',\n",
       " 'Computational Fluid Dynamics',\n",
       " 'Welding and Joining Processes',\n",
       " 'Finite Element Analysis',\n",
       " 'Corrosion and Corrosion Control',\n",
       " 'Machine Dynamics',\n",
       " 'Pressure Component Design',\n",
       " 'Mechanical Behaviour of Composites',\n",
       " 'Control Systems II',\n",
       " 'Image Processing and Applications',\n",
       " 'Computer Vision',\n",
       " 'Filter Synthesis',\n",
       " 'Robotics and Automation',\n",
       " 'Machine Dynamics',\n",
       " 'Subsea Pipeline Engineering',\n",
       " 'Mechanical Equipment',\n",
       " 'Gas Dynamics',\n",
       " 'Corrosion and Corrosion Control',\n",
       " 'Safety and Risk Engineering',\n",
       " 'Drilling Engineering',\n",
       " 'Natural Gas Engineering',\n",
       " 'Downstream Processing',\n",
       " 'Gas Dynamics',\n",
       " 'Finite Element Analysis',\n",
       " 'Sustainable Energy Systems',\n",
       " 'Computational Fluid Dynamics',\n",
       " 'Fluid Structure Interactions',\n",
       " 'Advanced Fluid Dynamics']"
      ]
     },
     "execution_count": 60,
     "metadata": {},
     "output_type": "execute_result"
    }
   ],
   "source": [
    "course_names"
   ]
  },
  {
   "cell_type": "code",
   "execution_count": 61,
   "metadata": {},
   "outputs": [
    {
     "data": {
      "text/plain": [
       "['builds on basic chemistry concepts from high school. Topics include gases; thermochemistry; atomic structure; periodic properties; chemical bonding including valence bond theory; hybridization and introduction to molecular orbital theory; properties of liquids and solids.',\n",
       " 'is the first course in Engineering mechanics. Forces and moments are described with vector algebra, leading to a description of the equilibrium conditions for particles and solid bodies. The importance of free body diagrams is highlighted. This knowledge is then applied to the analysis of trusses, frames and machines. Additional topics include an examination of friction and the concepts of centre of force, centroids and second moments of area.',\n",
       " 'is an introduction to algorithmic problem solving techniques and computer programming, including basic program control structures (sequence, call, branch, loop) and data representations, functional decomposition, and design by contract. Exercises and examples are drawn from a variety of engineering disciplines and are implemented using a standard modern programming language.',\n",
       " 'provides two complementary competencies. Firstly, it provides an introduction to the fundamentals of graphic communication, including orthographic projections, three dimensional pictorials, sectioning and dimensioning. Both sketching and CAD are utilized. Secondly, the course introduces students to standard design methodologies. The graphics and design competencies are reinforced through lab and project exercises.',\n",
       " 'is offered in two serial modules, including laboratory and workshop practice, and a team project to expose students to the concept of system integration involving electrical and mechanical systems. The electrical module provides an introduction to dc circuits, with an analysis of dc circuits used in control, measurement and instrumentation systems. The mechanism module provides an introduction to machine components such as belts, pulleys, gears, and simple linkages. The laboratory and workshop component introduces students to hands-on practice in basic laboratory instruments, tools and safety procedures. A team project involves the construction, assembly and testing of a simple mechanism.',\n",
       " 'is an introduction to differential calculus, including algebraic, trigonometric, exponential, logarithmic, inverse trigonometric and hyperbolic functions. Applications include kinematics, related rates problems, curve sketching and optimization.',\n",
       " 'is an introduction to integral calculus, including Riemann sums, techniques of integration and improper integrals. Applications include exponential growth and decay, areas between curves and volumes of solids of revolution.',\n",
       " 'includes the topics: Euclidean n-space, vector operations in 2- and 3-space, complex numbers, linear transformations on n-space, matrices, determinants, and systems of linear equations.',\n",
       " 'is a calculus-based introduction to mechanics. The course emphasizes problem solving, beginning with a review of vectors and one-dimensional kinematics. The main part of the course covers motion in two dimensions, forces and Newton’s Laws, energy, momentum, rotational motion and torque, and finally oscillations. For details regarding recommendations for students taking PHYS 1050, see Note 4 under Physics and Physical Oceanography.',\n",
       " 'is a calculus-based introduction to oscillations, wave motion, and electromagnetism. Topics include: simple harmonic motion; travelling waves, sound waves, and standing waves; electric fields and potentials; magnetic forces and fields; electric current and resistance; and electromagnetic waves.',\n",
       " 'introduces the Co-operative Education process and professional development, and prepares the student for work terms. This course is designed to assist students to apply for, interview and obtain the first work term, as well as to be prepared for a professional work environment. It is a one semester course offered during the Fall and Winter semesters of Engineering One, prior to a student’s first work term competition. This course is graded PAS or FAL.',\n",
       " 'introduces the Co-operative Education process and professional development, and prepares the student for work terms. This course is designed to assist students to apply for, interview and obtain the first work term, as well as to be prepared for a professional work environment. It is a one semester course offered during the Fall and Winter semesters of Engineering One, prior to a student’s first work term competition. This course is graded PAS or FAL.',\n",
       " 'examines issues associated with professional engineering practice and with functioning effectively in the workplace. Topics include communication, workplace and professional ethics, information literacy, equity, gender, diversity, and occupational health and safety (including first-aid). This is a writing-intensive course with a critically-reflective component. Current accreditation graduate attributes are introduced for further development throughout the program.',\n",
       " 'includes ordinary differential equations of first order and first degree; linear ordinary differential equations of higher order, methods of undetermined coefficients and variation of parameters; applications to electric circuits and mass-spring systems; Laplace transforms; partial differentiation; convergence of series; Taylor and binomial series; remainder term; and an introduction to Fourier series.',\n",
       " '(same as the former ENGI 3911) is an introduction to the structure and properties of engineering materials, in particular materials, semiconductors, ceramics, glasses and polymers. Topics include a review of atomic bonding, discussion of basic crystalline and amorphous structures, point and line defects, and the role these structural features play in elastic and plastic deformations, yield, fracture, glass transition, thermal conductivity, thermal expansion, specific heat and electrical conductivity.',\n",
       " '(same as the former ENGI 3941) includes an overview of production: production strategies; dimensioning and tolerancing; basic material removal process; forming and shaping process; casting; molding, extrusion and joining processes; computer aided machining; new technologies; design for manufacture.',\n",
       " '(same as the former ENGI 3934) includes kinematics and kinetics of particles using rectangular, normal/tangential and polar coordinates; relative motion using rotating axes; two-dimensional kinematics and kinetics of rigid bodies; force-acceleration, work-energy and impulse-momentum methods.',\n",
       " '(same as the former ENGI 3901) is a macroscopic approach to heat, work, and energy; properties of pure substances; conservation of mass, energy for open and closed systems; thermal efficiency and coefficient of performance; second law of thermodynamics; and its corollaries; entropy; second law analysis of thermodynamic systems; second law efficiency; and an introduction to simple thermodynamic cycles.',\n",
       " 'provides opportunity for an introductory experience in an engineering work environment. Students are expected to learn, develop and practise the basic standards of behaviour, discipline and performance normally found in a professional work environment. They are expected to learn the basics of technical writing and to become familiar with the various communications tools used in an engineering work environment.',\n",
       " 'requires students, under supervision, to contribute positively to the engineering and problem solving processes practised in the work environment. They are expected to set objectives, take direction, work independently as required, learn professional behaviours, and function as effective team members. An ability to investigate work-related concepts should be demonstrated. Students should become better familiarized with the use of engineering tools, data analysis, prioritization of assignments, and effective communication of technical information.',\n",
       " 'iincludes parametric vector functions; polar curves; gradient, divergence and curl; multiple integration; vector calculus, theorems of Green, Stokes and Gauss; an introduction to partial differential equations; and application of advanced calculus to relevant engineering problems.',\n",
       " '(same as the former ENGI 4932) includes an overview of mechanisms within machines; analytical and computer-aided methods for position, velocity, and acceleration analysis of moving mechanisms; power transmission; kinematics and kinetics of planar mechanisms; static and dynamic loads on mechanisms and an introduction to mechanism synthesis. Students will complete an analysis project.',\n",
       " '(same as the former ENGI 4901) examines thermodynamic cycles: power and refrigeration applications; human comfort and air conditioning: mixture of gases and vapours, humidity, psychrometrics; chemically reacting mixtures and combustion; exergy analysis.',\n",
       " '(same as the former ENGI 4961, the former ENGI 5961) examines fluid statics; fluid flow phenomena; control volume analysis; conservation of mass, momentum, and energy; Bernoulli equation; head losses, applications of conservation laws: flow measurement devices; pipe networks; momentum devices, dimensional analysis, boundary layer phenomena, lift and drag.',\n",
       " '(same as the former ENGI 4934) examines stress and strain analysis applied to bars and beams in axial, torsion and bending; beam deflection, plane stress and strain, stress and strain transformations in two dimensions and Mohr’s circle.',\n",
       " 'provides opportunity for an introductory experience in an engineering work environment. Students are expected to learn, develop and practise the basic standards of behaviour, discipline and performance normally found in a professional work environment. They are expected to learn the basics of technical writing and to become familiar with the various communications tools used in an engineering work environment.',\n",
       " 'requires students, under supervision, to contribute positively to the engineering and problem solving processes practised in the work environment. They are expected to set objectives, take direction, work independently as required, learn professional behaviours, and function as effective team members. An ability to investigate work-related concepts should be demonstrated. Students should become better familiarized with the use of engineering tools, data analysis, prioritization of assignments, and effective communication of technical information.',\n",
       " 'requires greater participation in the students’ engineering discipline. They become more experienced and proficient in problem solving and use of appropriate design processes. They should demonstrate speed and accuracy in their work, accept greater responsibility and be able to function with less direct supervision. Good judgement, increased initiative and improved analytical skills are expected to develop at this stage. Students should better appreciate the attitudes, responsibilities, and ethics expected of engineers.',\n",
       " 'includes probability, probability distributions, probability densities, sampling distribution, hypothesis testing, regression and correlation.',\n",
       " '(same as the former ENGI 5911) examines aspects of chemical and physical processes and microscopic structure relevant to the production and use of engineering materials, focussing on metals, alloys, silicates, Portland cement, plastics and adhesives, composites, and wood. Topics include solid-state solutions and compounds, alloy structures, phase diagrams, reaction rates, solid-state transformations, polymerization, oxidation and corrosion, hardness, creep, fatigue, fracture toughness and visco-elastic deformation.',\n",
       " '(same as the former ENGI 5952) involves modelling of electro-mechanical systems and introduction to basic analog and digital electronic devices. Topics covered include lumped-parameter modelling of electro-mechanical systems, basic electronic components and semiconductors, introduction to op amps, digital logic and number systems, microcontroller technology and interfacing (switches, LEDs, steppers, solenoids, A/D and D/A conversion).',\n",
       " '(same as the former ENGI 5962) examines differential analysis of fluid motion; conservation of mass: continuity equation; conservation of momentum: Navier-Stokes equations; conservation of energy; basic film lubrication theory, boundary layer flows; compressible flows.',\n",
       " '(same as the former ENGI 5931) examines stresses due to combined loads, asymmetric bending, transformation of stresses and strains, principal stresses and strains (in two and three dimensions), static failure theories, stress concentration, energy methods, method of superposition, buckling of columns, thin- and thick-walled pressure vessels and contact stresses.',\n",
       " 'requires students, under supervision, to contribute positively to the engineering and problem solving processes practised in the work environment. They are expected to set objectives, take direction, work independently as required, learn professional behaviours, and function as effective team members. An ability to investigate work-related concepts should be demonstrated. Students should become better familiarized with the use of engineering tools, data analysis, prioritization of assignments, and effective communication of technical information.',\n",
       " 'requires greater participation in the students’ engineering discipline. They become more experienced and proficient in problem solving and use of appropriate design processes. They should demonstrate speed and accuracy in their work, accept greater responsibility and be able to function with less direct supervision. Good judgement, increased initiative and improved analytical skills are expected to develop at this stage. Students should better appreciate the attitudes, responsibilities, and ethics expected of engineers.',\n",
       " 'requires students to engage in complex facets of engineering. Participation in their selected engineering discipline is expected. Students should be able to contribute independently to design and/or problem solving processes, understand their responsibility to society and the environment, understand project management strategies, think critically, and use engineering tools appropriately. The level of responsibility should reflect their academic background and experience. Good teamwork skills are expected and leadership skills may be developed.',\n",
       " '(same as the former ENGI 6951) examines modeling, analysis and design of feedback control systems using classical controller design methods. Topics covered include linear system modelling using Laplace transforms, control system stability, time domain analysis - root locus design, frequency domain analysis - bode diagram and Nyquist design, PID Control.',\n",
       " '(same as the former ENGI 6933) examines single degree of freedom systems: free vibration, energy methods, response to harmonic excitation, response to arbitrary inputs, rotating unbalance, vibration isolation; two degree of freedom systems: natural frequencies and mode shapes, vibration absorption.',\n",
       " '(same as the former ENGI 6901) examines modes of heat transfer; conduction: steady 1-D conduction, thermal resistance, extended surfaces (fins), lumped capacitance analysis, 1-D transient conduction; convection: Newton’s law of cooling, convection heat transfer coefficient, external boundary layer flows, internal flows; radiation: principles, properties, exchange factors, black body radiation, and enclosures, radiation shields.',\n",
       " '(same as the former ENGI 6928, the former ENGI 7928) introduces a variety of Computer Aided Engineering (CAE) applications based on advanced 3D CAD modelling. The fundamentals of 3D modelling are covered. CAE include assembly modelling, mechanism animation and finite element analysis. Applications include Computer Aided Manufacturing (CAM); model based inspection; reverse engineering; document/drawing production; data exchange; and data management. Lab exercises provide exposure to solid modelling and CAE applications using CAD/CAM/CAE tools.',\n",
       " '(same as the former ENGI 5927, the former ENGI 6929) examines adequacy assessment and synthesis of machine elements with a focus on failure prevention, safety factors, and strength; static failure and fatigue analysis of components. Topics include the design of power screws, bolted connections, welds, and shafts.',\n",
       " 'is designed to provide students with general overview of the anatomy and physiology of the human body. Students will explore skeletal, muscular, neural and cardiorespiratory systems in addition to a very brief introduction to cell structure and ‘cellular’ muscle function.',\n",
       " 'requires greater participation in the students’ engineering discipline. They become more experienced and proficient in problem solving and use of appropriate design processes. They should demonstrate speed and accuracy in their work, accept greater responsibility and be able to function with less direct supervision. Good judgement, increased initiative and improved analytical skills are expected to develop at this stage. Students should better appreciate the attitudes, responsibilities, and ethics expected of engineers.',\n",
       " 'requires students to engage in complex facets of engineering. Participation in their selected engineering discipline is expected. Students should be able to contribute independently to design and/or problem solving processes, understand their responsibility to society and the environment, understand project management strategies, think critically, and use engineering tools appropriately. The level of responsibility should reflect their academic background and experience. Good teamwork skills are expected and leadership skills may be developed.',\n",
       " 'requires students to continue to engage in advanced facets of engineering. Participation in their selected engineering discipline is expected. Students should apply skills independently in engineering analysis, contribute to a safe work environment, and utilize engineering tools while understanding their limitations. They will contribute significantly to design and/or problem solving processes, and demonstrate project management and leadership abilities. The level of responsibility should be commensurate with their academic background and experience.',\n",
       " '(same as the former ENGI 7930) involves analysis and design of mechanical measurement systems and multi factor experiments. Topics covered include static and dynamic characteristics of sensors, Fourier transforms, sampling theorem and signal conditioning, uncertainty analysis of sensors, sensors for motion control, load sensing and process control, one factor vs multi factor experiments, factorial design and analysis, partial factorial design and blocking, response surface methodology (RSM).',\n",
       " '(same as the former ENGI 7926) is the first of two capstone design courses in Mechanical Engineering. In this course mechanical students are organized into small groups or teams, which must complete a design challenge. The project is presented as an open-ended problem statement with specific performance objectives. The system must be designed, prototyped and tested during the semester. Each team is a small consulting firm and is required to document its object planning as well as its design.',\n",
       " 'is designed to provide students with general overview of the anatomy and physiology of the human body. Students will explore skeletal, muscular, neural and cardiorespiratory systems in addition to a very brief introduction to cell structure and ‘cellular’ muscle function.',\n",
       " 'requires students to engage in complex facets of engineering. Participation in their selected engineering discipline is expected. Students should be able to contribute independently to design and/or problem solving processes, understand their responsibility to society and the environment, understand project management strategies, think critically, and use engineering tools appropriately. The level of responsibility should reflect their academic background and experience. Good teamwork skills are expected and leadership skills may be developed.',\n",
       " 'requires students to continue to engage in advanced facets of engineering. Participation in their selected engineering discipline is expected. Students should apply skills independently in engineering analysis, contribute to a safe work environment, and utilize engineering tools while understanding their limitations. They will contribute significantly to design and/or problem solving processes, and demonstrate project management and leadership abilities. The level of responsibility should be commensurate with their academic background and experience.',\n",
       " 'requires students to further engage in various advanced facets of engineering. Participation in their selected engineering discipline is expected. Students should gain further appreciation of the use and importance of acquired analytical skills in engineering analysis, and significantly contribute to design and/or problem solving processes. The level of responsibility should be commensurate with their academic background and experience. Work scope should be mostly independent, with longer timelines, and with the possibility of leadership opportunities.',\n",
       " '(same as the former ENGI 7102) examines the demands upon the 21st Century engineer. Topics include the roles and responsibilities of the professional engineer in society, the Engineering Code of Ethics, sustainable development, environmental stewardship, the place of technology in society and the nature of technological decisions. Students will reflect on their entire course of studies, in the context of current accreditation graduate attributes. This is a writing-intensive course with a critically-reflective component.',\n",
       " '(same as the former ENGI 8926) is the Mechanical Engineering capstone project, building on skills acquired in ME 7704. Student teams choose a unique design challenge and proceed to generate a solution. Problems are often drawn from industry and, where possible, interdisciplinary interaction is encouraged. The problem proponent will act as the “client” and the team is expected to generate a solution. Emphasis is placed on oral and written communication and technical aspects. Wherever possible, elements should be prototyped and tested.',\n",
       " 'is designed to provide students with general overview of the anatomy and physiology of the human body. Students will explore skeletal, muscular, neural and cardiorespiratory systems in addition to a very brief introduction to cell structure and ‘cellular’ muscle function.',\n",
       " 'focuses on the contrast between biomechanical analyses of workplace tasks and athletic movement. Students will conduct a detailed biomechanical analysis of a given movement, in the workplace or for a given sport, with regard to both the probability of injury and optimization of performance.',\n",
       " '(same as the former ENGI 7911) includes metals and alloy systems, strengthening mechanisms of metals, iron-carbon alloys, corrosion resistant alloys, light metals and their alloys, copper and nickel base alloys, super alloys, the function of alloying elements in metals, heat treatments, surface hardening, and surface modification.',\n",
       " '(same as the former ENGI 6927, the former ENGI 7929) is a continuation of the ME 6702 course in analysis and synthesis of machinery, including advanced analysis of machine elements such as clutches, brakes, couplings, journal bearings and gears. Advanced machine design concepts are examined, such as reliability, optimization and techniques for stimulating innovative design. A synthesis project involving the machine elements studied is usually included.',\n",
       " '(same as the former ENGI 8933) is an introduction to fatigue and fracture analysis of metallic components, failure mechanisms, fracture mechanisms, effects of cracks, notches, collapse; linear elastic fracture mechanic analysis; design of components to avoid fracture; fatigue crack propagation, fracture initiation, crack arrest; and fracture toughness measurements.',\n",
       " '(same as the former ENGI 7953) emphasizes the integration of the core technologies on which contemporary, mechatronic designs are based. Topics covered include combinational logic circuit design, sequential logic circuit design, modelling and control of servo motors, selection, sizing, and modelling of servo valves and hydraulic actuators, microcontroller technology and interfacing (relays, timers, PWM control, interrupts, digital communication).',\n",
       " '(same as the former ENGI 6927, the former ENGI 7929) is a continuation of the ME 6702 course in analysis and synthesis of machinery, including advanced analysis of machine elements such as clutches, brakes, couplings, journal bearings and gears. Advanced machine design concepts are examined, such as reliability, optimization and techniques for stimulating innovative design. A synthesis project involving the machine elements studied is usually included.',\n",
       " '(same as the former ENGI 8946) emphasizes interdisciplinary system models, equation formulation and structure, and model complexity. The bond graph modelling language will be introduced to simulate systems containing mechanical, electrical, thermal, hydraulic, and magnetic components.',\n",
       " '(same as the former ENGI 6602) introduces basic concepts in geology and geophysics, from the origins of hydrocarbons through migration in the Earth’s crust, accumulation in reservoirs and the strategies used to discover and to exploit liquids found in the subsurface. Topics include the offshore oil and gas industry in harsh environment, platforms and structures, exploration phase of offshore oil development, production drilling and completion, and oil and gas transportation system',\n",
       " '(same as the former ENGI 8691) examines the procedures and equipment necessary for preparing a well to produce hydrocarbons, maximizing flow rate during the life of the well; techniques for well productivity analysis in under-saturated, saturated, and natural gas reservoirs; well completion configuration tubulars; packers and subsurface flow control devices; completion and work over fluids; perforating oil and gas wells; formation damage; surfactants for well treatment; hydraulic fracturing; acidizing; scale deposition, removal, and prevention; work over and completion rigs; artificial lift.',\n",
       " '(same as the former ENGI 8690) examines fluid pressure regimes, oil recovery factors, calculation of hydrocarbon volumes, reservoir rock characteristics, reservoir fluid properties, porosity and permeability, material balance, and well test analysis.',\n",
       " '(same as the former ENGI 7901) examines advanced topics in heat transfer; multidimensional heat conduction: shape factors, numerical methods, moving heat sources; phase change heat transfer: melting, solidification, condensation, and boiling; natural convection: external flows, internal flows; multimode heat transfer; and environmental radiation.',\n",
       " '(same as the former ENGI 7903) examines performance characteristics of mechanical equipment; fluid power devices: pipes; valves; turbomachinery: pumps; fans; blowers; compressors; heat transfer devices: heat exchangers; boilers, and cooling towers.',\n",
       " '(same as the former ENGI 8903) examines thermal system design; modeling of thermal systems; steady and transient system simulation; single and multi-variable optimization; overall system performance; thermodynamic optimization; selected design case studies.',\n",
       " '(same as the former ENGI 7854) presents fundamental theoretical and practical concepts of image processing and analysis. These concepts include image enhancement and filtering, frequency domain analysis, morphological image operations, image segmentation, and feature extraction. The course enables the use of these concepts to automatically process and analyze images and videos from various real-world applications such as biomedical imaging, visual surveillance, and robotics.',\n",
       " '(same as Computer Science 4301, the former ENGI 8814) studies how to develop methods that enable a machine to \"understand\" or analyze images. The course introduces the fundamental problems in computer vision and the state-of-the-art approaches that address them. Topics include feature detection and matching, geometric and multi-view vision, structure from X, segmentation, object tracking and visual recognition.',\n",
       " '(same as the former ENGI 7952) provides the fundamentals in robotic manipulators and arms. The course provides basic understanding in coordinate transformations for spatial description, both kinematical and kinetic analysis, forces and dynamics and finally trajectory generations and path planning.',\n",
       " '(same as the former ENGI 7953) emphasizes the integration of the core technologies on which contemporary, mechatronic designs are based. Topics covered include combinational logic circuit design, sequential logic circuit design, modelling and control of servo motors, selection, sizing, and modelling of servo valves and hydraulic actuators, microcontroller technology and interfacing (relays, timers, PWM control, interrupts, digital communication).',\n",
       " '(same as the former ENGI 7934) includes a review of basic concepts required for FEA, basics of stiffness formulation, direct stiffness method, displacement method, one dimensional elements, trusses and frames. Topics include 1D fluid and heat transfer elements, automated analysis and modelling concepts, higher order elements, two dimensional elements - plane stress and plane strain, introduction to 3D elements, introduction to advanced topics and isoparametric formulation.',\n",
       " '(same as the former ENGI 8947) begins with a review of the equations governing viscous fluid flows and heat transfer. The course includes heat conduction, convection-diffusion, and fluid flow equations; gridding, dependent variable interpolation, discretized equations, solution of the discretized equations, transients and nonlinearities; testing and validation of CFD codes, standard test problems.',\n",
       " '(same as the former ENGI 8971) introduces modern welding and joining processes for metallic materials, polymers, and ceramics. Fundamentals of materials joining processes and the impact of the process parameters on the weld geometry, mechanical properties, and quality are discussed. Laboratory exercises will provide hands-on experience with some industrially significant welding processes.',\n",
       " '(same as the former ENGI 7934) includes a review of basic concepts required for FEA, basics of stiffness formulation, direct stiffness method, displacement method, one dimensional elements, trusses and frames. Topics include 1D fluid and heat transfer elements, automated analysis and modelling concepts, higher order elements, two dimensional elements - plane stress and plane strain, introduction to 3D elements, introduction to advanced topics and isoparametric formulation.',\n",
       " '(same as the former ENGI 8911) examines forms of corrosion; the electrochemical nature of the corrosion process; the mixed potential theory, Purbaix diagrams and Evan diagrams; corrosion testing, control use by use of materials, selection, cathodic protection, inhibitors, and coatings. There are case studies of selected corrosion problems.',\n",
       " '(same as the former ENGI 8937) reviews mechanism kinematics and inverse dynamics (prediction of unknown forces and torques required to create a known motion) and continues with forward dynamic analysis of mechanisms (predicting unknown motion due to applied forces and torques) using student-generated computer code and commercial software. Practical applications of dynamics are explored, such as engine shaking forces, balancing of machinery, shaft vibration, design of flywheels, and gyroscopic effects.',\n",
       " '(same as the former ENGI 8935) includes pressure vessel design philosophy; membrane theory of shells; stress categories; discontinuous stresses; design of pressure vessel components according to ASME Boiler and pressure vessel and piping codes. There is a design project involving pressure vessel components.',\n",
       " '(same as the former ENGI 8982) includes stress-strain behaviour of composites, properties of matrix and reinforcing materials, mechanics of fibre-reinforced composites, lamina and laminate analysis, and an introduction to manufacturing methods.',\n",
       " '(same as the former ENGI 7825) examines state space models for multi-input/output systems; observability, controllability; state feedback without and with integral controller structure, state observers; quadratic optimal regulator and tracking control strategies; discrete-time state equations; and an introduction to optimal control.',\n",
       " '(same as the former ENGI 7854) presents fundamental theoretical and practical concepts of image processing and analysis. These concepts include image enhancement and filtering, frequency domain analysis, morphological image operations, image segmentation, and feature extraction. The course enables the use of these concepts to automatically process and analyze images and videos from various real-world applications such as biomedical imaging, visual surveillance, and robotics.',\n",
       " '(same as Computer Science 4301, the former ENGI 8814) studies how to develop methods that enable a machine to \"understand\" or analyze images. The course introduces the fundamental problems in computer vision and the state-of-the-art approaches that address them. Topics include feature detection and matching, geometric and multi-view vision, structure from X, segmentation, object tracking and visual recognition.',\n",
       " '(same as the former ENGI 8826) introduces analog filters. Topics include transfer functions and frequency response of filters; design of first order passive and active filters; design and analysis of filter circuits such as biquad circuit, Sallen-Key circuit, multiple feedback circuit and state variable filter; RC-CR transformation; cascade design principle; design of Butterworth, Chebyshev and elliptic filters, Bessel-Thomson filters, switched capacitor filters; and the use of Matlab for design of analog filters.',\n",
       " '(same as the former ENGI 7952) provides the fundamentals in robotic manipulators and arms. The course provides basic understanding in coordinate transformations for spatial description, both kinematical and kinetic analysis, forces and dynamics and finally trajectory generations and path planning.',\n",
       " '(same as the former ENGI 8937) reviews mechanism kinematics and inverse dynamics (prediction of unknown forces and torques required to create a known motion) and continues with forward dynamic analysis of mechanisms (predicting unknown motion due to applied forces and torques) using student-generated computer code and commercial software. Practical applications of dynamics are explored, such as engine shaking forces, balancing of machinery, shaft vibration, design of flywheels, and gyroscopic effects.',\n",
       " '(same as the former ENGI 8673) provides an introduction to subsea pipeline engineering with a focus on the mechanical design of offshore pipelines. Stress-based, design-based and limit-states design for strength and stability are examined. Other fundamental pipeline engineering design issues such as materials specification, flow assurance and installation are reviewed. Principles of geotechnical engineering and pipeline/soil interaction analysis techniques are investigated. Special topics are also reviewed.',\n",
       " '(same as the former ENGI 7903) examines performance characteristics of mechanical equipment; fluid power devices: pipes; valves; turbomachinery: pumps; fans; blowers; compressors; heat transfer devices: heat exchangers; boilers, and cooling towers.',\n",
       " '(same as the former ENGI 8970) begins with an introduction to compressible gas flows, then considers fundamental laws of compressible fluid flow; wave propagation in compressible fluids; isentropic flow of a perfect gas; normal and oblique shock waves; Prandtl-Meyer flows; external compressible flows; flow in ducts, flow with friction (Fanno) and heat transfer (Rayleigh); imperfect gas effects; and measurement of compressible flows.',\n",
       " '(same as the former ENGI 8911) examines forms of corrosion; the electrochemical nature of the corrosion process; the mixed potential theory, Purbaix diagrams and Evan diagrams; corrosion testing, control use by use of materials, selection, cathodic protection, inhibitors, and coatings. There are case studies of selected corrosion problems.',\n",
       " '(same as the former ENGI 8671) begins with an overview of safety and risk issues in the offshore oil and gas industry. The course examines regulatory requirements; hazards and structured analysis tools; risk terminology and quantified risk analysis (QRA) techniques; and safety assessment studies. The course includes project and case studies.',\n",
       " '(same as the former ENGI 8692) covers both offshore and onshore drilling operations and includes: rotary drilling rig operations, well construction sequence, drill string, drill bits, well bore hydraulics, casing and well heads, cementing, well control, directional and horizontal drilling, well planning and fishing operations, and extended reach, horizontal and multilateral well drilling techniques.',\n",
       " '(same as the former ENGI 8676) covers process description, design methods, operating procedures, and troubleshooting aspects of gas production facilities including inlet separation operations, hydrate prevention and control, gas dehydration, NGL recovery and dew point control, gas transmission and pipeline design and transportation systems.',\n",
       " '(same as the former ENGI 8694) includes: oil and natural gas processing, oil and gas storage facilities and their design, oil and gas separation processes, petroleum refining processes, and de-bottle necking.',\n",
       " '(same as the former ENGI 8970) begins with an introduction to compressible gas flows, then considers fundamental laws of compressible fluid flow; wave propagation in compressible fluids; isentropic flow of a perfect gas; normal and oblique shock waves; Prandtl-Meyer flows; external compressible flows; flow in ducts, flow with friction (Fanno) and heat transfer (Rayleigh); imperfect gas effects; and measurement of compressible flows.',\n",
       " '(same as the former ENGI 7934) includes a review of basic concepts required for FEA, basics of stiffness formulation, direct stiffness method, displacement method, one dimensional elements, trusses and frames. Topics include 1D fluid and heat transfer elements, automated analysis and modelling concepts, higher order elements, two dimensional elements - plane stress and plane strain, introduction to 3D elements, introduction to advanced topics and isoparametric formulation.',\n",
       " '(same as the former ENGI 8984) examines thermo-fluid features of energy conversion and storage technologies. Topics include nuclear power, wind power, biorenewable and nonconventional fuels, fuel cells, carbon capture and sequestration, photovoltaics, solar thermal, energy storage, and hydroelectric power systems.',\n",
       " '(same as the former ENGI 8947) begins with a review of the equations governing viscous fluid flows and heat transfer. The course includes heat conduction, convection-diffusion, and fluid flow equations; gridding, dependent variable interpolation, discretized equations, solution of the discretized equations, transients and nonlinearities; testing and validation of CFD codes, standard test problems.',\n",
       " '(same as the former ENGI 8964) examines structural vibrations generated by fluid flow. These vibrations can be transient or they can take the form of instability or resonance. The course deals with the following fluid structure interactions: (1) Flow induced vibration of structures (2) Unsteady flow in pipe networks (3) Water wave interactions with structures.',\n",
       " \"(same as the former ENGI 8965) includes fluid kinematics; equations of fluid dynamics: Navier-Stokes equations, Euler's equations, Stokes' equations, vorticity transport; advanced topics in: low Reynolds flows, unsteady viscous flows, boundary layer analysis, potential flows; introduction to turbulent flow; free shear flows.\"]"
      ]
     },
     "execution_count": 61,
     "metadata": {},
     "output_type": "execute_result"
    }
   ],
   "source": [
    "course_descs"
   ]
  },
  {
   "cell_type": "code",
   "execution_count": 62,
   "metadata": {},
   "outputs": [
    {
     "data": {
      "text/plain": [
       "True"
      ]
     },
     "execution_count": 62,
     "metadata": {},
     "output_type": "execute_result"
    }
   ],
   "source": [
    "len(course_names) == len(course_codes) == len(course_descs)"
   ]
  },
  {
   "cell_type": "code",
   "execution_count": 63,
   "metadata": {},
   "outputs": [
    {
     "data": {
      "text/plain": [
       "99"
      ]
     },
     "execution_count": 63,
     "metadata": {},
     "output_type": "execute_result"
    }
   ],
   "source": [
    "len(course_names)"
   ]
  },
  {
   "cell_type": "code",
   "execution_count": 64,
   "metadata": {},
   "outputs": [
    {
     "name": "stdout",
     "output_type": "stream",
     "text": [
      "76\n"
     ]
    }
   ],
   "source": [
    "course_codes1 = []\n",
    "course_names1 = []\n",
    "course_descs1 = []\n",
    "counter = 0\n",
    "\n",
    "for i in range(len(course_codes)):\n",
    "    if course_codes[i] not in course_codes1:\n",
    "        course_codes1.append(course_codes[i])\n",
    "        course_names1.append(course_names[i])\n",
    "        course_descs1.append(course_descs[i])\n",
    "        counter += 1\n",
    "        \n",
    "print(counter)"
   ]
  },
  {
   "cell_type": "code",
   "execution_count": 66,
   "metadata": {},
   "outputs": [
    {
     "data": {
      "text/html": [
       "<div>\n",
       "<style scoped>\n",
       "    .dataframe tbody tr th:only-of-type {\n",
       "        vertical-align: middle;\n",
       "    }\n",
       "\n",
       "    .dataframe tbody tr th {\n",
       "        vertical-align: top;\n",
       "    }\n",
       "\n",
       "    .dataframe thead th {\n",
       "        text-align: right;\n",
       "    }\n",
       "</style>\n",
       "<table border=\"1\" class=\"dataframe\">\n",
       "  <thead>\n",
       "    <tr style=\"text-align: right;\">\n",
       "      <th></th>\n",
       "      <th>Course Number</th>\n",
       "      <th>Course Name</th>\n",
       "      <th>Course Description</th>\n",
       "    </tr>\n",
       "  </thead>\n",
       "  <tbody>\n",
       "    <tr>\n",
       "      <th>0</th>\n",
       "      <td>CHEM 1050</td>\n",
       "      <td>General Chemistry I</td>\n",
       "      <td>builds on basic chemistry concepts from high s...</td>\n",
       "    </tr>\n",
       "    <tr>\n",
       "      <th>1</th>\n",
       "      <td>ENGI 1010</td>\n",
       "      <td>Engineering Statics</td>\n",
       "      <td>is the first course in Engineering mechanics. ...</td>\n",
       "    </tr>\n",
       "    <tr>\n",
       "      <th>2</th>\n",
       "      <td>ENGI 1020</td>\n",
       "      <td>Introduction to Programming</td>\n",
       "      <td>is an introduction to algorithmic problem solv...</td>\n",
       "    </tr>\n",
       "    <tr>\n",
       "      <th>3</th>\n",
       "      <td>ENGI 1030</td>\n",
       "      <td>Engineering Graphics and Design</td>\n",
       "      <td>provides two complementary competencies. First...</td>\n",
       "    </tr>\n",
       "    <tr>\n",
       "      <th>4</th>\n",
       "      <td>ENGI 1040</td>\n",
       "      <td>Mechanisms and Electric Circuits</td>\n",
       "      <td>is offered in two serial modules, including la...</td>\n",
       "    </tr>\n",
       "    <tr>\n",
       "      <th>...</th>\n",
       "      <td>...</td>\n",
       "      <td>...</td>\n",
       "      <td>...</td>\n",
       "    </tr>\n",
       "    <tr>\n",
       "      <th>71</th>\n",
       "      <td>PE 8276</td>\n",
       "      <td>Natural Gas Engineering</td>\n",
       "      <td>(same as the former ENGI 8676) covers process ...</td>\n",
       "    </tr>\n",
       "    <tr>\n",
       "      <th>72</th>\n",
       "      <td>PE 8294</td>\n",
       "      <td>Downstream Processing</td>\n",
       "      <td>(same as the former ENGI 8694) includes: oil a...</td>\n",
       "    </tr>\n",
       "    <tr>\n",
       "      <th>73</th>\n",
       "      <td>ME 8407</td>\n",
       "      <td>Sustainable Energy Systems</td>\n",
       "      <td>(same as the former ENGI 8984) examines thermo...</td>\n",
       "    </tr>\n",
       "    <tr>\n",
       "      <th>74</th>\n",
       "      <td>ME 8505</td>\n",
       "      <td>Fluid Structure Interactions</td>\n",
       "      <td>(same as the former ENGI 8964) examines struct...</td>\n",
       "    </tr>\n",
       "    <tr>\n",
       "      <th>75</th>\n",
       "      <td>ME 8506</td>\n",
       "      <td>Advanced Fluid Dynamics</td>\n",
       "      <td>(same as the former ENGI 8965) includes fluid ...</td>\n",
       "    </tr>\n",
       "  </tbody>\n",
       "</table>\n",
       "<p>76 rows × 3 columns</p>\n",
       "</div>"
      ],
      "text/plain": [
       "   Course Number                       Course Name  \\\n",
       "0      CHEM 1050               General Chemistry I   \n",
       "1      ENGI 1010               Engineering Statics   \n",
       "2      ENGI 1020       Introduction to Programming   \n",
       "3      ENGI 1030   Engineering Graphics and Design   \n",
       "4      ENGI 1040  Mechanisms and Electric Circuits   \n",
       "..           ...                               ...   \n",
       "71       PE 8276           Natural Gas Engineering   \n",
       "72       PE 8294             Downstream Processing   \n",
       "73       ME 8407        Sustainable Energy Systems   \n",
       "74       ME 8505      Fluid Structure Interactions   \n",
       "75       ME 8506           Advanced Fluid Dynamics   \n",
       "\n",
       "                                   Course Description  \n",
       "0   builds on basic chemistry concepts from high s...  \n",
       "1   is the first course in Engineering mechanics. ...  \n",
       "2   is an introduction to algorithmic problem solv...  \n",
       "3   provides two complementary competencies. First...  \n",
       "4   is offered in two serial modules, including la...  \n",
       "..                                                ...  \n",
       "71  (same as the former ENGI 8676) covers process ...  \n",
       "72  (same as the former ENGI 8694) includes: oil a...  \n",
       "73  (same as the former ENGI 8984) examines thermo...  \n",
       "74  (same as the former ENGI 8964) examines struct...  \n",
       "75  (same as the former ENGI 8965) includes fluid ...  \n",
       "\n",
       "[76 rows x 3 columns]"
      ]
     },
     "execution_count": 66,
     "metadata": {},
     "output_type": "execute_result"
    }
   ],
   "source": [
    "import pandas as pd\n",
    "\n",
    "df = pd.DataFrame({\n",
    "    \n",
    "    \"Course Number\": course_codes1,\n",
    "    \"Course Name\": course_names1,\n",
    "    \"Course Description\": course_descs1\n",
    "    \n",
    "})\n",
    "\n",
    "df"
   ]
  },
  {
   "cell_type": "code",
   "execution_count": 67,
   "metadata": {},
   "outputs": [],
   "source": [
    "df.to_csv('Memorial_University_MechEng_Core_and_Electives_(AllYears)_Courses.csv', index = False)"
   ]
  },
  {
   "cell_type": "code",
   "execution_count": 68,
   "metadata": {},
   "outputs": [],
   "source": [
    "driver.quit()"
   ]
  }
 ],
 "metadata": {
  "kernelspec": {
   "display_name": "Python 3",
   "language": "python",
   "name": "python3"
  },
  "language_info": {
   "codemirror_mode": {
    "name": "ipython",
    "version": 3
   },
   "file_extension": ".py",
   "mimetype": "text/x-python",
   "name": "python",
   "nbconvert_exporter": "python",
   "pygments_lexer": "ipython3",
   "version": "3.8.5"
  }
 },
 "nbformat": 4,
 "nbformat_minor": 4
}
