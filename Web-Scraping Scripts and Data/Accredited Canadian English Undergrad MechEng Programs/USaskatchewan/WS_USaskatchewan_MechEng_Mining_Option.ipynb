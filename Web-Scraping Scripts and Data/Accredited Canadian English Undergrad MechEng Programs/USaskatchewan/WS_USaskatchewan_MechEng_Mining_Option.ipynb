{
 "cells": [
  {
   "cell_type": "code",
   "execution_count": 2,
   "metadata": {},
   "outputs": [],
   "source": [
    "from bs4 import BeautifulSoup as soup\n",
    "from urllib.request import urlopen as ureq\n",
    "from selenium import webdriver\n",
    "import time\n",
    "import re"
   ]
  },
  {
   "cell_type": "code",
   "execution_count": 10,
   "metadata": {},
   "outputs": [],
   "source": [
    "url = \"https://programs.usask.ca/engineering/mechanical-engineering/be-mining-option.php#Requirements18creditunits\""
   ]
  },
  {
   "cell_type": "code",
   "execution_count": 4,
   "metadata": {},
   "outputs": [],
   "source": [
    "chrome_options = webdriver.ChromeOptions()\n",
    "chrome_options.add_argument('--ignore-certificate-errors')\n",
    "chrome_options.add_argument('--incognito')\n",
    "chrome_options.add_argument('--headless')\n",
    "\n",
    "driver = webdriver.Chrome(\"C:\\\\Users\\\\jerry\\\\Downloads\\\\chromedriver\", options=chrome_options)"
   ]
  },
  {
   "cell_type": "code",
   "execution_count": 11,
   "metadata": {},
   "outputs": [],
   "source": [
    "driver.get(url)"
   ]
  },
  {
   "cell_type": "markdown",
   "metadata": {},
   "source": [
    "# 1. Collect course links for webdriver to click on"
   ]
  },
  {
   "cell_type": "code",
   "execution_count": 12,
   "metadata": {},
   "outputs": [],
   "source": [
    "page_soup = soup(driver.page_source, 'lxml')"
   ]
  },
  {
   "cell_type": "code",
   "execution_count": 14,
   "metadata": {},
   "outputs": [
    {
     "data": {
      "text/plain": [
       "['EPIP 401.0',\n",
       " 'EPIP 402.0',\n",
       " 'EPIP 403.0',\n",
       " 'GEOE 377.3',\n",
       " 'GEOL 121.3',\n",
       " 'ME 490.3',\n",
       " 'GEOL 224.3',\n",
       " 'GEOL 245.3',\n",
       " 'GEOL 258.3',\n",
       " 'CHE 453.3',\n",
       " 'GEOE 315.3',\n",
       " 'GEOE 380.3',\n",
       " 'ME 491.3',\n",
       " 'ME 492.3',\n",
       " 'ME 493.3',\n",
       " 'ME 497.3']"
      ]
     },
     "execution_count": 14,
     "metadata": {},
     "output_type": "execute_result"
    }
   ],
   "source": [
    "containers = page_soup.find(\"section\", {\"id\": \"Requirements18creditunits\"}).findAll(\"a\")\n",
    "link_texts = [container.text.strip() for container in containers]\n",
    "link_texts"
   ]
  },
  {
   "cell_type": "code",
   "execution_count": 15,
   "metadata": {},
   "outputs": [
    {
     "data": {
      "text/plain": [
       "16"
      ]
     },
     "execution_count": 15,
     "metadata": {},
     "output_type": "execute_result"
    }
   ],
   "source": [
    "len(link_texts)"
   ]
  },
  {
   "cell_type": "markdown",
   "metadata": {},
   "source": [
    "# 2. Automation script to script all courses"
   ]
  },
  {
   "cell_type": "code",
   "execution_count": 16,
   "metadata": {},
   "outputs": [
    {
     "name": "stdout",
     "output_type": "stream",
     "text": [
      "Scraped  EPIP 401\n",
      "Scraped  EPIP 402\n",
      "Scraped  EPIP 403\n",
      "Scraped  GEOE 377\n",
      "Scraped  GEOL 121\n",
      "Scraped  ME 490\n",
      "Scraped  GEOL 224\n",
      "Scraped  GEOL 245\n",
      "Scraped  GEOL 258\n",
      "Scraped  CHE 453\n",
      "Scraped  GEOE 315\n",
      "Scraped  GEOE 380\n",
      "Scraped  ME 491\n",
      "Scraped  ME 492\n",
      "Scraped  ME 493\n",
      "Scraped  ME 497\n",
      "Finished scraping 16 courses\n"
     ]
    }
   ],
   "source": [
    "from selenium.common.exceptions import NoSuchElementException\n",
    "\n",
    "course_codes = []\n",
    "course_names = []\n",
    "course_descs = []\n",
    "counter = 0\n",
    "\n",
    "for course in link_texts:\n",
    "    \n",
    "    #go to course page\n",
    "    try:\n",
    "        link = driver.find_element_by_link_text(course)\n",
    "    except NoSuchElementException:\n",
    "        print(\"no link for {}\".format(course))\n",
    "        continue\n",
    "        \n",
    "    time.sleep(2)\n",
    "    link.click()    \n",
    "    time.sleep(2)\n",
    "    page_soup = soup(driver.page_source, 'lxml')\n",
    "    \n",
    "    #scrape data\n",
    "    course_codes.append(page_soup.find(\"h1\", {\"class\": \"uofs-page-title\"}).text.strip()[:-2])\n",
    "    course_names.append(page_soup.find(\"p\", {\"class\": \"lead\"}).text.strip())\n",
    "    course_descs.append(page_soup.findAll(\"div\", {\"class\": \"uofs-subsection\"})[1].find(\"p\").text.strip())\n",
    "    \n",
    "    print(\"Scraped \", course_codes[-1])\n",
    "    counter += 1\n",
    "    \n",
    "    driver.back()\n",
    "    time.sleep(2)\n",
    "    \n",
    "print(\"Finished scraping {} courses\".format(counter))"
   ]
  },
  {
   "cell_type": "markdown",
   "metadata": {},
   "source": [
    "# 3. Inspect and write to CSV"
   ]
  },
  {
   "cell_type": "code",
   "execution_count": null,
   "metadata": {},
   "outputs": [],
   "source": [
    "course_codes"
   ]
  },
  {
   "cell_type": "code",
   "execution_count": 18,
   "metadata": {},
   "outputs": [
    {
     "data": {
      "text/plain": [
       "['Internship Placement I',\n",
       " 'Internship Placement II',\n",
       " 'Internship Placement III',\n",
       " 'Fundamentals of Mining and Mineral Processing',\n",
       " 'Earth Processes',\n",
       " 'Design of Fluid Power Circuits',\n",
       " 'Mineralogy',\n",
       " 'Introduction to Sedimentary Rocks',\n",
       " 'Structural Geology',\n",
       " 'Corrosion Engineering',\n",
       " 'Rock Mechanics',\n",
       " 'Mine Ventilation',\n",
       " 'Thermal Systems Design',\n",
       " 'Materials in Engineering Design',\n",
       " 'Advanced Mechanical Design',\n",
       " 'Acoustics and Vibrations in Design']"
      ]
     },
     "execution_count": 18,
     "metadata": {},
     "output_type": "execute_result"
    }
   ],
   "source": [
    "course_names"
   ]
  },
  {
   "cell_type": "code",
   "execution_count": 19,
   "metadata": {
    "scrolled": true
   },
   "outputs": [
    {
     "data": {
      "text/plain": [
       "['The Engineering Student Centre, College of Engineering will register Internship students in this 0- credit unit course for the first 4-month installment of the 8 to 16 month internship placement. This course is graded on a Pass/Fail basis.',\n",
       " 'The Engineering Student Centre, College of Engineering will register Internship students in this 0- credit unit course for the second 4-month installment of the 8 to 16 month internship placement. This course is graded on a Pass/Fail basis.',\n",
       " 'The Engineering Student Centre, College of Engineering will register Internship students in this 0- credit unit course for the third 4-month installment of the 12 to 16 month internship placement. This course is graded on a Pass/Fail basis.',\n",
       " 'Provides the student with a basic understanding of mining engineering and the mining industry. The mining component of the course will introduce the drill and blast cycle, mining methods, and the economic evaluation of mineral properties. The mineral process-engineering component will introduce mineral separation processes including gravity, electrostatic and flotation separation.',\n",
       " 'Follows the same lectures as GEOL 108. The laboratory component satisfies the requirements of students in Program Type C (B.Sc. programs). Students in the College of Education who wish to take a course in Earth Science and require a laboratory component are advised to take this course.',\n",
       " 'An introduction to the design of industrial and Fluid Power circuits. The operation and design of basic components are considered. A methodology to the design of industrial circuits is introduced and applied to industrial applications. Design criteria for open loop applications are introduced.',\n",
       " 'Crystalline materials and their properties; crystal chemistry and chemical equilibria in natural systems; mineral properties and classification, and particularly rock-forming mineral groups; mineral genesis.',\n",
       " 'Provides a general introduction to sedimentary rocks, sedimentary processes, and the depositional environments in which these rocks form.  Stratigraphic concepts are introduced with specific reference to the relationship between sedimentary rock units.   Laboratories focus on the identification of sedimentary rocks and structures in hand specimen.',\n",
       " 'An introduction to the structural features of rocks including discussions of their origin and use. The description of folds, faults, and joints are emphasized, along with outcrop relationships of intrusive bodies. Other topics will include tectonics, orogeny, stratigraphic facing, and non-orogenic process, such as salt doming and glacial thrusting. Laboratories will introduce mapping techniques and the analysis of geological maps.',\n",
       " 'Intended for engineers and others who wish to develop an appreciation of the principles of corrosion and corrosion control and their application to the selection of materials of construction and the protection of engineering systems.',\n",
       " 'Physical properties of rock. Rock stress-deformation behaviour and failure. Laboratory and in situ testing.',\n",
       " 'This is an underground mine ventilation design course in which the theory of mine ventilation and air conditioning are presented and applied to various mine designs. Topics covered include: Saskatchewan regulations and engineering design criteria, measuring and modeling air flow in ventilation networks, calculation of head losses, ventilation system design, natural ventilation, selection of mine ventilation fans, occupational health hazards of mine gases and dusts, air heating and cooling, and aspects of the economics of mine ventilation.',\n",
       " 'A design course involving the application of the fundamentals of thermodynamics. Topics may vary depending on the choice of design project, but would typically include psychrometrics, internal and external energy gains, heating and cooling loads, duct and piping design, overall thermal design specifications and system component design and selection.',\n",
       " 'Emphasizes materials engineering in the design process. It covers an overview of available engineering materials and their selection based on mechanical properties, surface durability and cost.',\n",
       " 'Deals with advanced mechanical design topics. It is considered as a continuation of Machine Design, but with an emphasis on the use of integrated design software. The course includes use of finite element and other software, such as ANSYS, SolidWorks, and MATLAB in design. One portion of the course discusses the design process and introduces the design optimization methodology and integrated design optimization software, which will be used for solving unconstrained, constrained, and multi-objective optimal design problems. The course also includes design of systems under shock and impact loading, vibration isolation and control.',\n",
       " \"This course is an introduction to acoustics and vibrations in design. Free, and forced vibrations of systems will be examined. Applied theory includes the study of the fundamental single-degree-of-freedom (DOF) and the 2DOF systems using Newton's law of motion, the energy method, Lagrange's equations, and determination of natural frequencies, acoustics, properties, and noise standards. Design part of the course includes systems under shock and impact loading, vibration isolation and control. In addition the course will include noise control and design of mechanical systems for noise reduction. The course includes design oriented lab and assignments, and design based project.\"]"
      ]
     },
     "execution_count": 19,
     "metadata": {},
     "output_type": "execute_result"
    }
   ],
   "source": [
    "course_descs"
   ]
  },
  {
   "cell_type": "code",
   "execution_count": 20,
   "metadata": {
    "scrolled": true
   },
   "outputs": [
    {
     "data": {
      "text/html": [
       "<div>\n",
       "<style scoped>\n",
       "    .dataframe tbody tr th:only-of-type {\n",
       "        vertical-align: middle;\n",
       "    }\n",
       "\n",
       "    .dataframe tbody tr th {\n",
       "        vertical-align: top;\n",
       "    }\n",
       "\n",
       "    .dataframe thead th {\n",
       "        text-align: right;\n",
       "    }\n",
       "</style>\n",
       "<table border=\"1\" class=\"dataframe\">\n",
       "  <thead>\n",
       "    <tr style=\"text-align: right;\">\n",
       "      <th></th>\n",
       "      <th>Course Number</th>\n",
       "      <th>Course Name</th>\n",
       "      <th>Course Description</th>\n",
       "    </tr>\n",
       "  </thead>\n",
       "  <tbody>\n",
       "    <tr>\n",
       "      <th>0</th>\n",
       "      <td>EPIP 401</td>\n",
       "      <td>Internship Placement I</td>\n",
       "      <td>The Engineering Student Centre, College of Eng...</td>\n",
       "    </tr>\n",
       "    <tr>\n",
       "      <th>1</th>\n",
       "      <td>EPIP 402</td>\n",
       "      <td>Internship Placement II</td>\n",
       "      <td>The Engineering Student Centre, College of Eng...</td>\n",
       "    </tr>\n",
       "    <tr>\n",
       "      <th>2</th>\n",
       "      <td>EPIP 403</td>\n",
       "      <td>Internship Placement III</td>\n",
       "      <td>The Engineering Student Centre, College of Eng...</td>\n",
       "    </tr>\n",
       "    <tr>\n",
       "      <th>3</th>\n",
       "      <td>GEOE 377</td>\n",
       "      <td>Fundamentals of Mining and Mineral Processing</td>\n",
       "      <td>Provides the student with a basic understandin...</td>\n",
       "    </tr>\n",
       "    <tr>\n",
       "      <th>4</th>\n",
       "      <td>GEOL 121</td>\n",
       "      <td>Earth Processes</td>\n",
       "      <td>Follows the same lectures as GEOL 108. The lab...</td>\n",
       "    </tr>\n",
       "    <tr>\n",
       "      <th>5</th>\n",
       "      <td>ME 490</td>\n",
       "      <td>Design of Fluid Power Circuits</td>\n",
       "      <td>An introduction to the design of industrial an...</td>\n",
       "    </tr>\n",
       "    <tr>\n",
       "      <th>6</th>\n",
       "      <td>GEOL 224</td>\n",
       "      <td>Mineralogy</td>\n",
       "      <td>Crystalline materials and their properties; cr...</td>\n",
       "    </tr>\n",
       "    <tr>\n",
       "      <th>7</th>\n",
       "      <td>GEOL 245</td>\n",
       "      <td>Introduction to Sedimentary Rocks</td>\n",
       "      <td>Provides a general introduction to sedimentary...</td>\n",
       "    </tr>\n",
       "    <tr>\n",
       "      <th>8</th>\n",
       "      <td>GEOL 258</td>\n",
       "      <td>Structural Geology</td>\n",
       "      <td>An introduction to the structural features of ...</td>\n",
       "    </tr>\n",
       "    <tr>\n",
       "      <th>9</th>\n",
       "      <td>CHE 453</td>\n",
       "      <td>Corrosion Engineering</td>\n",
       "      <td>Intended for engineers and others who wish to ...</td>\n",
       "    </tr>\n",
       "    <tr>\n",
       "      <th>10</th>\n",
       "      <td>GEOE 315</td>\n",
       "      <td>Rock Mechanics</td>\n",
       "      <td>Physical properties of rock. Rock stress-defor...</td>\n",
       "    </tr>\n",
       "    <tr>\n",
       "      <th>11</th>\n",
       "      <td>GEOE 380</td>\n",
       "      <td>Mine Ventilation</td>\n",
       "      <td>This is an underground mine ventilation design...</td>\n",
       "    </tr>\n",
       "    <tr>\n",
       "      <th>12</th>\n",
       "      <td>ME 491</td>\n",
       "      <td>Thermal Systems Design</td>\n",
       "      <td>A design course involving the application of t...</td>\n",
       "    </tr>\n",
       "    <tr>\n",
       "      <th>13</th>\n",
       "      <td>ME 492</td>\n",
       "      <td>Materials in Engineering Design</td>\n",
       "      <td>Emphasizes materials engineering in the design...</td>\n",
       "    </tr>\n",
       "    <tr>\n",
       "      <th>14</th>\n",
       "      <td>ME 493</td>\n",
       "      <td>Advanced Mechanical Design</td>\n",
       "      <td>Deals with advanced mechanical design topics. ...</td>\n",
       "    </tr>\n",
       "    <tr>\n",
       "      <th>15</th>\n",
       "      <td>ME 497</td>\n",
       "      <td>Acoustics and Vibrations in Design</td>\n",
       "      <td>This course is an introduction to acoustics an...</td>\n",
       "    </tr>\n",
       "  </tbody>\n",
       "</table>\n",
       "</div>"
      ],
      "text/plain": [
       "   Course Number                                    Course Name  \\\n",
       "0       EPIP 401                         Internship Placement I   \n",
       "1       EPIP 402                        Internship Placement II   \n",
       "2       EPIP 403                       Internship Placement III   \n",
       "3       GEOE 377  Fundamentals of Mining and Mineral Processing   \n",
       "4       GEOL 121                                Earth Processes   \n",
       "5         ME 490                 Design of Fluid Power Circuits   \n",
       "6       GEOL 224                                     Mineralogy   \n",
       "7       GEOL 245              Introduction to Sedimentary Rocks   \n",
       "8       GEOL 258                             Structural Geology   \n",
       "9        CHE 453                          Corrosion Engineering   \n",
       "10      GEOE 315                                 Rock Mechanics   \n",
       "11      GEOE 380                               Mine Ventilation   \n",
       "12        ME 491                         Thermal Systems Design   \n",
       "13        ME 492                Materials in Engineering Design   \n",
       "14        ME 493                     Advanced Mechanical Design   \n",
       "15        ME 497             Acoustics and Vibrations in Design   \n",
       "\n",
       "                                   Course Description  \n",
       "0   The Engineering Student Centre, College of Eng...  \n",
       "1   The Engineering Student Centre, College of Eng...  \n",
       "2   The Engineering Student Centre, College of Eng...  \n",
       "3   Provides the student with a basic understandin...  \n",
       "4   Follows the same lectures as GEOL 108. The lab...  \n",
       "5   An introduction to the design of industrial an...  \n",
       "6   Crystalline materials and their properties; cr...  \n",
       "7   Provides a general introduction to sedimentary...  \n",
       "8   An introduction to the structural features of ...  \n",
       "9   Intended for engineers and others who wish to ...  \n",
       "10  Physical properties of rock. Rock stress-defor...  \n",
       "11  This is an underground mine ventilation design...  \n",
       "12  A design course involving the application of t...  \n",
       "13  Emphasizes materials engineering in the design...  \n",
       "14  Deals with advanced mechanical design topics. ...  \n",
       "15  This course is an introduction to acoustics an...  "
      ]
     },
     "execution_count": 20,
     "metadata": {},
     "output_type": "execute_result"
    }
   ],
   "source": [
    "import pandas as pd\n",
    "\n",
    "df = pd.DataFrame({\n",
    "    \n",
    "    \"Course Number\": course_codes,\n",
    "    \"Course Name\": course_names,\n",
    "    \"Course Description\": course_descs    \n",
    "    \n",
    "})\n",
    "\n",
    "df"
   ]
  },
  {
   "cell_type": "code",
   "execution_count": 21,
   "metadata": {},
   "outputs": [],
   "source": [
    "df.to_csv('USaskatchewan_MechEng_Mining_Option_Courses.csv', index = False)"
   ]
  },
  {
   "cell_type": "code",
   "execution_count": 22,
   "metadata": {},
   "outputs": [],
   "source": [
    "driver.quit()"
   ]
  }
 ],
 "metadata": {
  "kernelspec": {
   "display_name": "Python 3",
   "language": "python",
   "name": "python3"
  },
  "language_info": {
   "codemirror_mode": {
    "name": "ipython",
    "version": 3
   },
   "file_extension": ".py",
   "mimetype": "text/x-python",
   "name": "python",
   "nbconvert_exporter": "python",
   "pygments_lexer": "ipython3",
   "version": "3.8.5"
  }
 },
 "nbformat": 4,
 "nbformat_minor": 4
}
