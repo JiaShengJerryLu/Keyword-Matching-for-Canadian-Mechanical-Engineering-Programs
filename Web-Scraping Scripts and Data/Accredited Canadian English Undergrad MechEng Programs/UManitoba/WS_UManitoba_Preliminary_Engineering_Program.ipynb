{
 "cells": [
  {
   "cell_type": "code",
   "execution_count": 1,
   "metadata": {},
   "outputs": [],
   "source": [
    "from bs4 import BeautifulSoup as soup\n",
    "from urllib.request import urlopen as ureq\n",
    "from selenium import webdriver\n",
    "import time\n",
    "import re"
   ]
  },
  {
   "cell_type": "code",
   "execution_count": 2,
   "metadata": {},
   "outputs": [],
   "source": [
    "url = \"https://catalog.umanitoba.ca/undergraduate-studies/engineering/mechanical-engineering/mechanical-engineering-bsc/index.html#preliminaryengineeringprogramtext\""
   ]
  },
  {
   "cell_type": "code",
   "execution_count": 4,
   "metadata": {},
   "outputs": [],
   "source": [
    "chrome_options = webdriver.ChromeOptions()\n",
    "chrome_options.add_argument('--ignore-certificate-errors')\n",
    "chrome_options.add_argument('--incognito')\n",
    "#chrome_options.add_argument('--headless')\n",
    "\n",
    "driver = webdriver.Chrome(\"C:\\\\Users\\\\jerry\\\\Downloads\\\\chromedriver\", options=chrome_options)"
   ]
  },
  {
   "cell_type": "code",
   "execution_count": 10,
   "metadata": {
    "scrolled": false
   },
   "outputs": [],
   "source": [
    "driver.get(url)"
   ]
  },
  {
   "cell_type": "markdown",
   "metadata": {},
   "source": [
    "# 1. Collect course link texts for driver to click on"
   ]
  },
  {
   "cell_type": "code",
   "execution_count": 11,
   "metadata": {},
   "outputs": [],
   "source": [
    "page_soup = soup(driver.page_source, 'lxml')"
   ]
  },
  {
   "cell_type": "code",
   "execution_count": 14,
   "metadata": {},
   "outputs": [
    {
     "data": {
      "text/plain": [
       "12"
      ]
     },
     "execution_count": 14,
     "metadata": {},
     "output_type": "execute_result"
    }
   ],
   "source": [
    "containers = page_soup.find(\"div\", {\"id\": \"preliminaryengineeringprogramtextcontainer\"}).find(\"table\", {\"class\": \"sc_courselist\"}).find(\"tbody\").findAll(\"a\")\n",
    "len(containers)"
   ]
  },
  {
   "cell_type": "code",
   "execution_count": 15,
   "metadata": {},
   "outputs": [
    {
     "data": {
      "text/plain": [
       "['CHEM\\xa01100',\n",
       " 'CHEM\\xa01122',\n",
       " 'COMP\\xa01012',\n",
       " 'ENG\\xa01430',\n",
       " 'ENG\\xa01440',\n",
       " 'ENG\\xa01450',\n",
       " 'ENG\\xa01460',\n",
       " 'MATH\\xa01210',\n",
       " 'MATH\\xa01510',\n",
       " 'MATH\\xa01710',\n",
       " 'PHIL\\xa01290',\n",
       " 'PHYS\\xa01050']"
      ]
     },
     "execution_count": 15,
     "metadata": {},
     "output_type": "execute_result"
    }
   ],
   "source": [
    "link_texts = [container.text for container in containers]\n",
    "link_texts"
   ]
  },
  {
   "cell_type": "code",
   "execution_count": 17,
   "metadata": {},
   "outputs": [
    {
     "data": {
      "text/plain": [
       "<selenium.webdriver.remote.webelement.WebElement (session=\"c8b850ce1c11259ded7fd9b9ccebd5c7\", element=\"a645ba9e-b517-459f-ab27-2bbe03de9e3f\")>"
      ]
     },
     "execution_count": 17,
     "metadata": {},
     "output_type": "execute_result"
    }
   ],
   "source": [
    "driver.find_element_by_link_text(\"CHEM 1100\")"
   ]
  },
  {
   "cell_type": "code",
   "execution_count": 18,
   "metadata": {},
   "outputs": [
    {
     "data": {
      "text/plain": [
       "['CHEM 1100',\n",
       " 'CHEM 1122',\n",
       " 'COMP 1012',\n",
       " 'ENG 1430',\n",
       " 'ENG 1440',\n",
       " 'ENG 1450',\n",
       " 'ENG 1460',\n",
       " 'MATH 1210',\n",
       " 'MATH 1510',\n",
       " 'MATH 1710',\n",
       " 'PHIL 1290',\n",
       " 'PHYS 1050']"
      ]
     },
     "execution_count": 18,
     "metadata": {},
     "output_type": "execute_result"
    }
   ],
   "source": [
    "link_texts = [link_text.replace(\"\\xa0\", \" \") for link_text in link_texts]\n",
    "link_texts"
   ]
  },
  {
   "cell_type": "markdown",
   "metadata": {},
   "source": [
    "# 2. Test run - try scraping the first course"
   ]
  },
  {
   "cell_type": "code",
   "execution_count": 19,
   "metadata": {},
   "outputs": [],
   "source": [
    "driver.find_element_by_link_text(\"CHEM 1100\").click()"
   ]
  },
  {
   "cell_type": "code",
   "execution_count": 20,
   "metadata": {},
   "outputs": [],
   "source": [
    "page_soup = soup(driver.page_source, 'lxml')"
   ]
  },
  {
   "cell_type": "code",
   "execution_count": 21,
   "metadata": {},
   "outputs": [
    {
     "data": {
      "text/plain": [
       "<div class=\"courseblock\"><div class=\"cols noindent\"><span class=\"text col-3 detail-code margin--tiny text--semibold text--big\"><strong>CHEM 1100</strong></span>  <span class=\"text col-7 detail-title margin--tiny text--semibold text--big\"><strong>Introductory Chemistry 1: Atomic and Molecular Structure and Energetics</strong></span>  <span class=\"text detail-hours_html margin--tiny text--semibold text--big\"><strong>3 cr</strong></span>  </div><div class=\"noindent\"><p class=\"courseblockextra noindent\">This course provides a basic understanding of the fundamentals of chemistry. By the end of this course, students will understand the periodic table, energy in chemistry, atomic and molecular structures, and the concept of chemical reactivity. May not be held with the former CHEM 1300 or <a class=\"bubblelink code\" href=\"/search/?P=CHEM%201301\" onclick=\"return showCourse(this, 'CHEM 1301');\" title=\"CHEM 1301\">CHEM 1301</a>.</p></div><div class=\"noindent\"><p class=\"courseblockextra noindent\"><span><strong>PR/CR: A minimum grade of C is required unless otherwise indicated.</strong><br/>\n",
       "Prerequisites: [one of Chemistry 40S (50%), CSKL 0100 (P), or the former <a class=\"bubblelink code\" href=\"/search/?P=CHEM%200900\" onclick=\"return showCourse(this, 'CHEM 0900');\" title=\"CHEM 0900\">CHEM 0900</a> (P)] and [one of Applied Mathematics 40S (50%), Pre-calculus Mathematics 40S (50%), the former Mathematics 40S (300) (50%), or MSKL 0100].</span></p></div><div class=\"noindent\"></div><div class=\"noindent\"></div><div class=\"noindent\"><p class=\"courseblockextra noindent\"><span><strong>Attributes:</strong> Science, Recommended Intro Courses</span></p></div></div>"
      ]
     },
     "execution_count": 21,
     "metadata": {},
     "output_type": "execute_result"
    }
   ],
   "source": [
    "course_block = page_soup.find(\"div\", {\"class\": \"lfjsbubble\"}).find(\"div\", {\"class\": \"courseblock\"})\n",
    "course_block"
   ]
  },
  {
   "cell_type": "code",
   "execution_count": 23,
   "metadata": {},
   "outputs": [
    {
     "data": {
      "text/plain": [
       "'CHEM 1100'"
      ]
     },
     "execution_count": 23,
     "metadata": {},
     "output_type": "execute_result"
    }
   ],
   "source": [
    "course_code = course_block.find(\"div\", {\"class\": \"cols noindent\"}).findAll(\"span\")[0].text\n",
    "course_code"
   ]
  },
  {
   "cell_type": "code",
   "execution_count": 24,
   "metadata": {},
   "outputs": [
    {
     "data": {
      "text/plain": [
       "'Introductory Chemistry 1: Atomic and Molecular Structure and Energetics'"
      ]
     },
     "execution_count": 24,
     "metadata": {},
     "output_type": "execute_result"
    }
   ],
   "source": [
    "course_name = course_block.find(\"div\", {\"class\": \"cols noindent\"}).findAll(\"span\")[1].text\n",
    "course_name"
   ]
  },
  {
   "cell_type": "code",
   "execution_count": 31,
   "metadata": {},
   "outputs": [
    {
     "data": {
      "text/plain": [
       "'This course provides a basic understanding of the fundamentals of chemistry. By the end of this course, students will understand the periodic table, energy in chemistry, atomic and molecular structures, and the concept of chemical reactivity. May not be held with the former CHEM 1300 or CHEM 1301.'"
      ]
     },
     "execution_count": 31,
     "metadata": {},
     "output_type": "execute_result"
    }
   ],
   "source": [
    "course_desc = course_block.find(\"p\").text.replace(\"\\xa0\", \" \")\n",
    "course_desc"
   ]
  },
  {
   "cell_type": "code",
   "execution_count": 26,
   "metadata": {},
   "outputs": [
    {
     "data": {
      "text/plain": [
       "'This course provides a basic understanding of the fundamentals of chemistry. By the end of this course, students will understand the periodic table, energy in chemistry, atomic and molecular structures, and the concept of chemical reactivity. May not be held with the former CHEM 1300 or CHEM 1301.'"
      ]
     },
     "execution_count": 26,
     "metadata": {},
     "output_type": "execute_result"
    }
   ],
   "source": [
    "course_desc = course_desc.replace(\"\\xa0\", \" \")\n",
    "course_desc"
   ]
  },
  {
   "cell_type": "code",
   "execution_count": 28,
   "metadata": {
    "scrolled": true
   },
   "outputs": [],
   "source": [
    "from selenium.webdriver.common.keys import Keys\n",
    "driver.find_element_by_link_text(\"CHEM 1100\").send_keys(Keys.ESCAPE)"
   ]
  },
  {
   "cell_type": "code",
   "execution_count": 30,
   "metadata": {},
   "outputs": [],
   "source": [
    "driver.find_element_by_link_text(\"ENG 1460\").click()"
   ]
  },
  {
   "cell_type": "markdown",
   "metadata": {},
   "source": [
    "# 3. Test run successful. Implement automation script to scrape all courses"
   ]
  },
  {
   "cell_type": "code",
   "execution_count": 32,
   "metadata": {},
   "outputs": [
    {
     "name": "stdout",
     "output_type": "stream",
     "text": [
      "Scraped  CHEM 1100\n",
      "Scraped  CHEM 1122\n",
      "Scraped  COMP 1012\n",
      "Scraped  ENG 1430\n",
      "Scraped  ENG 1440\n",
      "Scraped  ENG 1450\n",
      "Scraped  ENG 1460\n",
      "Scraped  MATH 1210\n",
      "Scraped  MATH 1510\n",
      "Scraped  MATH 1710\n",
      "Scraped  PHIL 1290\n",
      "Scraped  PHYS 1050\n",
      "Successfully scraped 12 courses\n"
     ]
    }
   ],
   "source": [
    "counter = 0\n",
    "course_names = []\n",
    "course_codes = []\n",
    "course_descs = []\n",
    "\n",
    "driver.get(url)\n",
    "time.sleep(5)\n",
    "\n",
    "for link_text in link_texts:\n",
    "    \n",
    "    link = driver.find_element_by_link_text(link_text)\n",
    "    time.sleep(2)\n",
    "    link.click()\n",
    "    time.sleep(3)\n",
    "    \n",
    "    page_soup = soup(driver.page_source, 'lxml')\n",
    "    course_block = page_soup.find(\"div\", {\"class\": \"lfjsbubble\"}).find(\"div\", {\"class\": \"courseblock\"})\n",
    "    course_codes.append(course_block.find(\"div\", {\"class\": \"cols noindent\"}).findAll(\"span\")[0].text.strip())\n",
    "    course_names.append(course_block.find(\"div\", {\"class\": \"cols noindent\"}).findAll(\"span\")[1].text.strip())\n",
    "    course_descs.append(course_block.find(\"p\").text.strip().replace(\"\\xa0\", \" \"))\n",
    "    \n",
    "    print(\"Scraped \", course_codes[-1])\n",
    "    counter += 1\n",
    "    \n",
    "    link.send_keys(Keys.ESCAPE)\n",
    "    time.sleep(2)\n",
    "    \n",
    "    \n",
    "print(\"Successfully scraped {} courses\".format(counter))\n",
    "    "
   ]
  },
  {
   "cell_type": "markdown",
   "metadata": {},
   "source": [
    "# 4. Inspect and write to CSV"
   ]
  },
  {
   "cell_type": "code",
   "execution_count": 33,
   "metadata": {},
   "outputs": [
    {
     "data": {
      "text/plain": [
       "['CHEM 1100',\n",
       " 'CHEM 1122',\n",
       " 'COMP 1012',\n",
       " 'ENG 1430',\n",
       " 'ENG 1440',\n",
       " 'ENG 1450',\n",
       " 'ENG 1460',\n",
       " 'MATH 1210',\n",
       " 'MATH 1510',\n",
       " 'MATH 1710',\n",
       " 'PHIL 1290',\n",
       " 'PHYS 1050']"
      ]
     },
     "execution_count": 33,
     "metadata": {},
     "output_type": "execute_result"
    }
   ],
   "source": [
    "course_codes"
   ]
  },
  {
   "cell_type": "code",
   "execution_count": 34,
   "metadata": {},
   "outputs": [
    {
     "data": {
      "text/plain": [
       "['Introductory Chemistry 1: Atomic and Molecular Structure and Energetics',\n",
       " 'Introduction to Chemical Techniques for Engineering 1',\n",
       " 'Computer Programming for Scientists and Engineers',\n",
       " 'Design in Engineering',\n",
       " 'Introduction to Statics',\n",
       " 'Introduction to Electrical and Computer Engineering',\n",
       " 'Introduction to Thermal Sciences',\n",
       " 'Techniques of Classical and Linear Algebra',\n",
       " 'Applied Calculus 1',\n",
       " 'Applied Calculus 2',\n",
       " 'Critical Thinking',\n",
       " 'Physics 1: Mechanics']"
      ]
     },
     "execution_count": 34,
     "metadata": {},
     "output_type": "execute_result"
    }
   ],
   "source": [
    "course_names"
   ]
  },
  {
   "cell_type": "code",
   "execution_count": 35,
   "metadata": {
    "scrolled": true
   },
   "outputs": [
    {
     "data": {
      "text/plain": [
       "['This course provides a basic understanding of the fundamentals of chemistry. By the end of this course, students will understand the periodic table, energy in chemistry, atomic and molecular structures, and the concept of chemical reactivity. May not be held with the former CHEM 1300 or CHEM 1301.',\n",
       " 'For Price Faculty of Engineering students only. This course builds understanding in chemistry through active learning in the lab. By performing lab experiments, students will gain skills in making observations, safe handling of chemicals, handling laboratory equipment, quantitative analysis, data processing, and scientific communication. These skills are fundamental for student success in chemistry. In addition, students will be given a broader appreciation of chemistry in the world by introducing them to chemical sustainability, chemical responsibility and chemical applications. May not be held with CHEM 1120, the former CHEM 1310 or CHEM 1311.',\n",
       " '(Lab Required) An introduction to computer programming suitable for solving problems in science and engineering. Students will implement algorithms for numerical processing, statistical analysis and matrix operations. Not to be held with COMP 1010, COMP 1011 or COMP 1013.',\n",
       " 'The creative process; the design process; working in a team. The engineering profession from the perspective of students and professionals. Academic, legal and ethical considerations.',\n",
       " '(Lab required) Statics of particles; rigid bodies, equilibrium of rigid bodies; analysis of structures; distributed forces. Not to be held with ENG 1441.',\n",
       " \"(Lab required) Part I: Current, voltage, energy, potential, power Ohm's law; independent sources; capacitor, inductor, ideal diode, op-amp; Kirchoff's law; simple circuits (Resistive, RC, RL, OP-Amp; Diode); introduction to ac theory (Sinusoidal waveform, phase relations of voltage and current waveforms for R,L,C. RL and RC circuits). Part II: Applications (Digital Logic, motors).\",\n",
       " '(Lab required) Properties of pure substances; first law for closed systems; first law for open systems; second law; examples of power cycles and refrigeration cycles.',\n",
       " '(Lab Required) To introduce a variety of practical algebraic concepts and skills necessary for the study of calculus and advanced engineering mathematics. The emphasis of this course is in the development of methodology and algebraic skill necessary for successful completion of subsequent engineering mathematics courses. This course is intended for Engineering and Geophysics students only. May not be held with MATH 1200, MATH 1201, MATH 1211, MATH 1220, MATH 1300, MATH 1301, or MATH 1310.',\n",
       " '(Lab Required) Functions and graphs; limits and continuity; differentiation of functions defined explicitly, implicitly and parametrically; applications of derivatives to velocity and acceleration, related rates, maxima and minima; differentials, indefinite and definite integrals, application of integration to area. Physical applications in this course make it especially suitable for students intending to take programs in engineering. May not be held with MATH 1230, MATH 1500, MATH 1501, MATH 1520, the former MATH 1530, the former MATH 1680, or MATH 1690.',\n",
       " '(Lab Required) Applications of integration to volumes, centres of mass, moments of inertia, work and fluid pressure; differentiation of trigonometric, inverse trigonometric, exponential, and logarithmic functions; techniques of integration; polar coordinates. Physical applications in this course make it especially suitable for students intending to take programs in engineering. May not be held with MATH 1232, MATH 1690, MATH 1700, MATH 1701.',\n",
       " 'A course which helps students to think clearly and critically, and to present, defend, and evaluate arguments. The instructor will discuss good and bad reasoning, everyday fallacies, some specific argument forms such as the categorical syllogism, and ways and means of defining words. Students may not hold credit for PHIL 1290 and any of: PHIL 1291 or the former PHIL 1320 or PHIL 1321.',\n",
       " \"(Lab required) It's rocket science! Mechanics is the science of describing (Kinematics) and explaining (Dynamics) motion. The basic concepts of calculus together with laws of conservation of momentum and energy are used to develop the tools required to describe, analyze and predict the outcomes of linear and rotational motion in simple mechanical systems. A brief introduction to the Einstein theory of special relativity provides a taste of modern approaches to this subject. This course develops a strong scientific foundation for students considering a program of study in engineering or the physical sciences. May not be held with PHYS 1020, PHYS 1021, PHYS 1051, the former PHYS 1410, or the former PHYS 1420.\"]"
      ]
     },
     "execution_count": 35,
     "metadata": {},
     "output_type": "execute_result"
    }
   ],
   "source": [
    "course_descs"
   ]
  },
  {
   "cell_type": "code",
   "execution_count": 36,
   "metadata": {
    "scrolled": false
   },
   "outputs": [
    {
     "data": {
      "text/html": [
       "<div>\n",
       "<style scoped>\n",
       "    .dataframe tbody tr th:only-of-type {\n",
       "        vertical-align: middle;\n",
       "    }\n",
       "\n",
       "    .dataframe tbody tr th {\n",
       "        vertical-align: top;\n",
       "    }\n",
       "\n",
       "    .dataframe thead th {\n",
       "        text-align: right;\n",
       "    }\n",
       "</style>\n",
       "<table border=\"1\" class=\"dataframe\">\n",
       "  <thead>\n",
       "    <tr style=\"text-align: right;\">\n",
       "      <th></th>\n",
       "      <th>Course Number</th>\n",
       "      <th>Course Name</th>\n",
       "      <th>Course Description</th>\n",
       "    </tr>\n",
       "  </thead>\n",
       "  <tbody>\n",
       "    <tr>\n",
       "      <th>0</th>\n",
       "      <td>CHEM 1100</td>\n",
       "      <td>Introductory Chemistry 1: Atomic and Molecular...</td>\n",
       "      <td>This course provides a basic understanding of ...</td>\n",
       "    </tr>\n",
       "    <tr>\n",
       "      <th>1</th>\n",
       "      <td>CHEM 1122</td>\n",
       "      <td>Introduction to Chemical Techniques for Engine...</td>\n",
       "      <td>For Price Faculty of Engineering students only...</td>\n",
       "    </tr>\n",
       "    <tr>\n",
       "      <th>2</th>\n",
       "      <td>COMP 1012</td>\n",
       "      <td>Computer Programming for Scientists and Engineers</td>\n",
       "      <td>(Lab Required) An introduction to computer pro...</td>\n",
       "    </tr>\n",
       "    <tr>\n",
       "      <th>3</th>\n",
       "      <td>ENG 1430</td>\n",
       "      <td>Design in Engineering</td>\n",
       "      <td>The creative process; the design process; work...</td>\n",
       "    </tr>\n",
       "    <tr>\n",
       "      <th>4</th>\n",
       "      <td>ENG 1440</td>\n",
       "      <td>Introduction to Statics</td>\n",
       "      <td>(Lab required) Statics of particles; rigid bod...</td>\n",
       "    </tr>\n",
       "    <tr>\n",
       "      <th>5</th>\n",
       "      <td>ENG 1450</td>\n",
       "      <td>Introduction to Electrical and Computer Engine...</td>\n",
       "      <td>(Lab required) Part I: Current, voltage, energ...</td>\n",
       "    </tr>\n",
       "    <tr>\n",
       "      <th>6</th>\n",
       "      <td>ENG 1460</td>\n",
       "      <td>Introduction to Thermal Sciences</td>\n",
       "      <td>(Lab required) Properties of pure substances; ...</td>\n",
       "    </tr>\n",
       "    <tr>\n",
       "      <th>7</th>\n",
       "      <td>MATH 1210</td>\n",
       "      <td>Techniques of Classical and Linear Algebra</td>\n",
       "      <td>(Lab Required) To introduce a variety of pract...</td>\n",
       "    </tr>\n",
       "    <tr>\n",
       "      <th>8</th>\n",
       "      <td>MATH 1510</td>\n",
       "      <td>Applied Calculus 1</td>\n",
       "      <td>(Lab Required) Functions and graphs; limits an...</td>\n",
       "    </tr>\n",
       "    <tr>\n",
       "      <th>9</th>\n",
       "      <td>MATH 1710</td>\n",
       "      <td>Applied Calculus 2</td>\n",
       "      <td>(Lab Required) Applications of integration to ...</td>\n",
       "    </tr>\n",
       "    <tr>\n",
       "      <th>10</th>\n",
       "      <td>PHIL 1290</td>\n",
       "      <td>Critical Thinking</td>\n",
       "      <td>A course which helps students to think clearly...</td>\n",
       "    </tr>\n",
       "    <tr>\n",
       "      <th>11</th>\n",
       "      <td>PHYS 1050</td>\n",
       "      <td>Physics 1: Mechanics</td>\n",
       "      <td>(Lab required) It's rocket science! Mechanics ...</td>\n",
       "    </tr>\n",
       "  </tbody>\n",
       "</table>\n",
       "</div>"
      ],
      "text/plain": [
       "   Course Number                                        Course Name  \\\n",
       "0      CHEM 1100  Introductory Chemistry 1: Atomic and Molecular...   \n",
       "1      CHEM 1122  Introduction to Chemical Techniques for Engine...   \n",
       "2      COMP 1012  Computer Programming for Scientists and Engineers   \n",
       "3       ENG 1430                              Design in Engineering   \n",
       "4       ENG 1440                            Introduction to Statics   \n",
       "5       ENG 1450  Introduction to Electrical and Computer Engine...   \n",
       "6       ENG 1460                   Introduction to Thermal Sciences   \n",
       "7      MATH 1210         Techniques of Classical and Linear Algebra   \n",
       "8      MATH 1510                                 Applied Calculus 1   \n",
       "9      MATH 1710                                 Applied Calculus 2   \n",
       "10     PHIL 1290                                  Critical Thinking   \n",
       "11     PHYS 1050                               Physics 1: Mechanics   \n",
       "\n",
       "                                   Course Description  \n",
       "0   This course provides a basic understanding of ...  \n",
       "1   For Price Faculty of Engineering students only...  \n",
       "2   (Lab Required) An introduction to computer pro...  \n",
       "3   The creative process; the design process; work...  \n",
       "4   (Lab required) Statics of particles; rigid bod...  \n",
       "5   (Lab required) Part I: Current, voltage, energ...  \n",
       "6   (Lab required) Properties of pure substances; ...  \n",
       "7   (Lab Required) To introduce a variety of pract...  \n",
       "8   (Lab Required) Functions and graphs; limits an...  \n",
       "9   (Lab Required) Applications of integration to ...  \n",
       "10  A course which helps students to think clearly...  \n",
       "11  (Lab required) It's rocket science! Mechanics ...  "
      ]
     },
     "execution_count": 36,
     "metadata": {},
     "output_type": "execute_result"
    }
   ],
   "source": [
    "import pandas as pd\n",
    "\n",
    "df = pd.DataFrame({\n",
    "    \"Course Number\": course_codes,\n",
    "    \"Course Name\": course_names,\n",
    "    \"Course Description\": course_descs    \n",
    "})\n",
    "\n",
    "df"
   ]
  },
  {
   "cell_type": "code",
   "execution_count": 37,
   "metadata": {},
   "outputs": [],
   "source": [
    "df.to_csv('UManitoba_Preliminary_Engineering_Program_Courses.csv', index = False)"
   ]
  },
  {
   "cell_type": "code",
   "execution_count": 38,
   "metadata": {},
   "outputs": [],
   "source": [
    "driver.quit()"
   ]
  }
 ],
 "metadata": {
  "kernelspec": {
   "display_name": "Python 3",
   "language": "python",
   "name": "python3"
  },
  "language_info": {
   "codemirror_mode": {
    "name": "ipython",
    "version": 3
   },
   "file_extension": ".py",
   "mimetype": "text/x-python",
   "name": "python",
   "nbconvert_exporter": "python",
   "pygments_lexer": "ipython3",
   "version": "3.8.5"
  }
 },
 "nbformat": 4,
 "nbformat_minor": 4
}
