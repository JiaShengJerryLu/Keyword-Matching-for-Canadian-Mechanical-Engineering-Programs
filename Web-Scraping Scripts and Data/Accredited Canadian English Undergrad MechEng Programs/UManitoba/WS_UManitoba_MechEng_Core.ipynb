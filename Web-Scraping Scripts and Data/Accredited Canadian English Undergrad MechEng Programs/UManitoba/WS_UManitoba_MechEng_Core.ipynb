{
 "cells": [
  {
   "cell_type": "code",
   "execution_count": 1,
   "metadata": {},
   "outputs": [],
   "source": [
    "from bs4 import BeautifulSoup as soup\n",
    "from selenium import webdriver\n",
    "import time"
   ]
  },
  {
   "cell_type": "code",
   "execution_count": 2,
   "metadata": {},
   "outputs": [],
   "source": [
    "url = \"https://catalog.umanitoba.ca/undergraduate-studies/engineering/mechanical-engineering/mechanical-engineering-bsc/index.html#degreerequirementstext\""
   ]
  },
  {
   "cell_type": "code",
   "execution_count": 3,
   "metadata": {},
   "outputs": [],
   "source": [
    "chrome_options = webdriver.ChromeOptions()\n",
    "chrome_options.add_argument('--ignore-certificate-errors')\n",
    "chrome_options.add_argument('--incognito')\n",
    "chrome_options.add_argument('--headless')\n",
    "\n",
    "driver = webdriver.Chrome(\"C:\\\\Users\\\\jerry\\\\Downloads\\\\chromedriver\", options=chrome_options)"
   ]
  },
  {
   "cell_type": "code",
   "execution_count": 4,
   "metadata": {},
   "outputs": [],
   "source": [
    "driver.get(url)"
   ]
  },
  {
   "cell_type": "markdown",
   "metadata": {},
   "source": [
    "# 1. Collect course link texts for driver to click on"
   ]
  },
  {
   "cell_type": "code",
   "execution_count": 5,
   "metadata": {},
   "outputs": [],
   "source": [
    "page_soup = soup(driver.page_source, 'lxml')"
   ]
  },
  {
   "cell_type": "code",
   "execution_count": 6,
   "metadata": {},
   "outputs": [
    {
     "data": {
      "text/plain": [
       "28"
      ]
     },
     "execution_count": 6,
     "metadata": {},
     "output_type": "execute_result"
    }
   ],
   "source": [
    "containers = page_soup.find(\"div\", {\"id\": \"degreerequirementstextcontainer\"}).find(\"table\", {\"class\": \"sc_courselist\"}).find(\"tbody\").findAll(\"a\")\n",
    "len(containers)"
   ]
  },
  {
   "cell_type": "code",
   "execution_count": 7,
   "metadata": {
    "scrolled": true
   },
   "outputs": [
    {
     "data": {
      "text/plain": [
       "['ENG 3000',\n",
       " 'ENG 3020',\n",
       " 'ECE 3010',\n",
       " 'ENG 2030',\n",
       " 'ENG 2040',\n",
       " 'MATH 2130',\n",
       " 'MATH 2132',\n",
       " 'MATH 3132',\n",
       " 'MECH 2112',\n",
       " 'MECH 2150',\n",
       " 'MECH 2202',\n",
       " 'MECH 2222',\n",
       " 'MECH 2262',\n",
       " 'MECH 2272',\n",
       " 'MECH 3170',\n",
       " 'MECH 3420',\n",
       " 'MECH 3430',\n",
       " 'MECH 3460',\n",
       " 'MECH 3482',\n",
       " 'MECH 3492',\n",
       " 'MECH 3502',\n",
       " 'MECH 3542',\n",
       " 'MECH 3652',\n",
       " 'MECH 3982',\n",
       " 'MECH 3992',\n",
       " 'MECH 4860',\n",
       " 'PHYS 1070',\n",
       " 'STAT 2220']"
      ]
     },
     "execution_count": 7,
     "metadata": {},
     "output_type": "execute_result"
    }
   ],
   "source": [
    "link_texts = [container.text.replace(\"\\xa0\", \" \") for container in containers]\n",
    "link_texts"
   ]
  },
  {
   "cell_type": "markdown",
   "metadata": {},
   "source": [
    "# 2. Automation script to scrape all courses"
   ]
  },
  {
   "cell_type": "code",
   "execution_count": 10,
   "metadata": {
    "scrolled": true
   },
   "outputs": [
    {
     "name": "stdout",
     "output_type": "stream",
     "text": [
      "Scraped  ENG 3000\n",
      "Scraped  ENG 3020\n",
      "Scraped  ECE 3010\n",
      "Scraped  ENG 2030\n",
      "Scraped  ENG 2040\n",
      "Scraped  MATH 2130\n",
      "Scraped  MATH 2132\n",
      "Scraped  MATH 3132\n",
      "Scraped  MECH 2112\n",
      "Scraped  MECH 2150\n",
      "Scraped  MECH 2202\n",
      "Scraped  MECH 2222\n",
      "Scraped  MECH 2262\n",
      "Scraped  MECH 2272\n",
      "Scraped  MECH 3170\n",
      "Scraped  MECH 3420\n",
      "Scraped  MECH 3430\n",
      "Scraped  MECH 3460\n",
      "Scraped  MECH 3482\n",
      "Scraped  MECH 3492\n",
      "Scraped  MECH 3502\n",
      "Scraped  MECH 3542\n",
      "Scraped  MECH 3652\n",
      "Scraped  MECH 3982\n",
      "Scraped  MECH 3992\n",
      "Scraped  MECH 4860\n",
      "Scraped  PHYS 1070\n",
      "Scraped  STAT 2220\n",
      "Successfully scraped 28 courses\n"
     ]
    }
   ],
   "source": [
    "from selenium.webdriver.common.keys import Keys\n",
    "\n",
    "counter = 0\n",
    "course_names = []\n",
    "course_codes = []\n",
    "course_descs = []\n",
    "\n",
    "driver.get(url)\n",
    "time.sleep(5)\n",
    "\n",
    "for link_text in link_texts:\n",
    "    \n",
    "    link = driver.find_element_by_link_text(link_text)\n",
    "    time.sleep(2)\n",
    "    link.click()\n",
    "    time.sleep(3)\n",
    "    \n",
    "    page_soup = soup(driver.page_source, 'lxml')\n",
    "    course_block = page_soup.find(\"div\", {\"class\": \"lfjsbubble\"}).find(\"div\", {\"class\": \"courseblock\"})\n",
    "    \n",
    "    course_codes.append(course_block.find(\"div\", {\"class\": \"cols noindent\"}).findAll(\"span\")[0].text.strip())\n",
    "    course_names.append(course_block.find(\"div\", {\"class\": \"cols noindent\"}).findAll(\"span\")[1].text.strip())\n",
    "    course_descs.append(course_block.find(\"p\").text.strip().replace(\"\\xa0\", \" \"))\n",
    "    \n",
    "    print(\"Scraped \", course_codes[-1])\n",
    "    counter += 1\n",
    "    \n",
    "    link.send_keys(Keys.ESCAPE)\n",
    "    time.sleep(2)\n",
    "    \n",
    "    \n",
    "print(\"Successfully scraped {} courses\".format(counter))"
   ]
  },
  {
   "cell_type": "markdown",
   "metadata": {},
   "source": [
    "# 3. Inspect and write to CSV"
   ]
  },
  {
   "cell_type": "code",
   "execution_count": 11,
   "metadata": {
    "scrolled": true
   },
   "outputs": [
    {
     "data": {
      "text/plain": [
       "['Engineering Economics',\n",
       " 'Technology, Society and the Future',\n",
       " 'Elements of Electric Machines and Digital Systems',\n",
       " 'Engineering Communication: Strategies for the Profession',\n",
       " 'Engineering Communication: Strategies, Practice and Design',\n",
       " 'Engineering Mathematical Analysis 1',\n",
       " 'Engineering Mathematical Analysis 2',\n",
       " 'Engineering Mathematical Analysis 3',\n",
       " 'Fundamentals of Mechanical and Computer Aided Design',\n",
       " 'Mechanical Engineering Modelling and Numerical Methods',\n",
       " 'Thermodynamics',\n",
       " 'Mechanics of Materials',\n",
       " 'Fundamentals of Fluid Mechanics',\n",
       " 'Engineering Materials 1',\n",
       " 'Project Management',\n",
       " 'Vibrations and Acoustics',\n",
       " 'Measurements and Control',\n",
       " 'Heat Transfer',\n",
       " 'Kinematics and Dynamics',\n",
       " 'Fluid Mechanics and Applications',\n",
       " 'Stress Analysis and Design',\n",
       " 'Engineering Materials 2',\n",
       " 'Machine Design',\n",
       " 'Mechanical Laboratories in Solid Mechanics',\n",
       " 'Mechanical Laboratories in Thermofluids',\n",
       " 'Engineering Design',\n",
       " 'Physics 2: Waves and Modern Physics',\n",
       " 'Contemporary Statistics for Engineers']"
      ]
     },
     "execution_count": 11,
     "metadata": {},
     "output_type": "execute_result"
    }
   ],
   "source": [
    "course_names"
   ]
  },
  {
   "cell_type": "code",
   "execution_count": 12,
   "metadata": {
    "scrolled": true
   },
   "outputs": [
    {
     "data": {
      "text/plain": [
       "['ENG 3000',\n",
       " 'ENG 3020',\n",
       " 'ECE 3010',\n",
       " 'ENG 2030',\n",
       " 'ENG 2040',\n",
       " 'MATH 2130',\n",
       " 'MATH 2132',\n",
       " 'MATH 3132',\n",
       " 'MECH 2112',\n",
       " 'MECH 2150',\n",
       " 'MECH 2202',\n",
       " 'MECH 2222',\n",
       " 'MECH 2262',\n",
       " 'MECH 2272',\n",
       " 'MECH 3170',\n",
       " 'MECH 3420',\n",
       " 'MECH 3430',\n",
       " 'MECH 3460',\n",
       " 'MECH 3482',\n",
       " 'MECH 3492',\n",
       " 'MECH 3502',\n",
       " 'MECH 3542',\n",
       " 'MECH 3652',\n",
       " 'MECH 3982',\n",
       " 'MECH 3992',\n",
       " 'MECH 4860',\n",
       " 'PHYS 1070',\n",
       " 'STAT 2220']"
      ]
     },
     "execution_count": 12,
     "metadata": {},
     "output_type": "execute_result"
    }
   ],
   "source": [
    "course_codes"
   ]
  },
  {
   "cell_type": "code",
   "execution_count": 13,
   "metadata": {
    "scrolled": true
   },
   "outputs": [
    {
     "data": {
      "text/plain": [
       "['This course offers an introduction to the economic aspects of the engineering discipline. It covers applied economic concepts such as: time value of money, taxation in cash flows, breakeven points, inflation of goods, cost/benefit ratios, income and depreciation, and general microeconomic concepts. The focus includes analysis techniques such as: cash flow analysis, cost-based analysis, rate of return analysis, sensitivity analysis, replacement analysis, and risk mitigation. Concepts are introduced in the context of sustainability and project management fundamentals in a professional practice setting. May not be held with CIVL 4050.',\n",
       " 'Impact of technology and technological change on society-past, present, future; specific technologies, e.g. construction. machine power, computers, communications, medical, military: the process of technological change; invisible effects of technology; technology and resource use; sustainable development, limits to growth and the role of technology. May not be held with CIVL 4460 or ANTH 2430.',\n",
       " '(Lab required) Introduction to elementary concepts in ac circuits, electric machines, and digital sub-systems. Topics include electrical impedance, capacitors, inductors, electric motors, logic gates, decoders, multiplexing, flip flops, registers, microprocessor structures, I/O and data acquisition. Not available to students in Electrical or Computer Engineering.',\n",
       " \"Students work in a team-based environment to produce deliverables comparable to the engineering workplace. In-class tutorials focus on the sharpening of individual students' writing skills through an analytical, problem-solving and critical thinking approach. Students are exposed to a variety of communicative scenarios and emphasis is placed on development of a repertoire of skills necessary for effective communication in the engineering profession. Not to be held with the former ENG 2010.\",\n",
       " 'This team-based course focuses on a rhetorical approach, communication strategies and guided practice in the design of engineering communications. May not be held with the former ENG 2010.',\n",
       " '(Lab required) Multivariable differential and integral calculus up to and including multiple integrals in cylindrical and spherical coordinates. This course is intended for students in Engineering and Geophysics programs. May not be held for credit with MATH 2150, MATH 2151, MATH 2720, MATH 2721, the former MATH 2110, or the former MATH 2750.',\n",
       " '(Lab required) Infinite series, Taylor and Maclaurin Series; ordinary differential equations including Laplace transforms. This course is intended for students in Engineering and Geophysics programs. May not be held for credit with the former MATH 2100, the former MATH 2730, the former MATH 2731, the former MATH 2800, or the former MATH 2801.',\n",
       " '(Lab required) Vector integral calculus; series of Ordinary differential equations; Fourier series and Partial differential equations. This course is intended for students in Engineering and Geophysics programs. May not be held with former MATH 3100, the former MATH 3740, or the former MATH 3800.',\n",
       " '(Lab required) Provide instruction on the application of computer aided design software packages. The students will work in groups in the design and development of a product using CAD packages and digital fabrication technologies. May not be held for credit with CIVL 2830, the former ENG 2020, ENG 2022, MECH 2010, or MECH 2012.',\n",
       " '(Lab required) A case-study-based introduction to modelling and numerical methods with mechanical engineering applications. Selected problems, primarily from second and third year mechanical engineering course material, will be used to teach modelling. Derivation and application of appropriate numerical methods will be performed to solve the case study problems using a hands-on approach. A high level computer language and accompanying toolkit/built-in functions will be introduced for solution of the cases. May not be held for credit with MATH 2120.',\n",
       " '(Lab required) Cycles, transient flow processes, entropy, gas mixtures, psychrometry combustion. May not be held for credit with MECH 2200.',\n",
       " '(Lab required) Topics covered in this course include: axial and torsional loading, stress-strain and deformation in statically determinate/indeterminate systems, thermally induced stress, and stresses in beams (including reinforced beams) under pure bending and bending with shear. The mechanical properties of materials under various loading modes will be addressed.',\n",
       " '(Lab required) Fundamental concepts used in the analysis of fluid behaviour, pressure in stationary fluids, forces on submerged surfaces, buoyancy, integral methods, Bernoulli equation, pipeline analysis. May not be held for credit with the former MECH 2260.',\n",
       " '(Lab required) Introduction to engineering materials; defects, strengthening mechanisms, and plasticity in engineering metals and alloys; fundamentals and application of heat treatment of metallic materials including topics such as diffusion, phase diagram, phase transformation, and thermal processing; mechanical properties of engineering metallic materials and their relationship to structure, defects, various strengthening mechanisms, and processing; structure of non-metallic polymers and ceramics. May not be held for credit with MECH 2270, MECH 2290 or MECH 3540. Prerequisites; [CHEM 2240 or CHEM 1310] and [MECH 2222 (or MECH 2220)].',\n",
       " '(Lab required) Topics covered include project planning, scheduling, resource allocation, process analysis, layout and control. The course will make use of industrial projects for developing a strong design and analytical approach pertinent to project management. May not be held for credit with the former MECH 4170.',\n",
       " '(Lab required) Vibrations and computer simulations of single-degree-of-freedom systems, viscous and friction damping, MD of systems and modal analysis, measurement and sources of noise, noise control.',\n",
       " '(Lab required) Mathematical modelling of mechanical systems. Feedback systems and stability. Digital control; analog to digital and digital to analog control systems.',\n",
       " '( Lab required) This is the first course in heat transfer. Topics covered include fundamental concepts relevant to heat transfer analysis, steady-state and transient conduction, forced and free convection, external and internal flows, heat exchangers and fundamentals of radiation. May not be held for credit with the former MECH 3470.',\n",
       " '(Lab required) Fundamentals of 2D and 3D rigid body motions (kinematics) and the forces/moments (kinetics) needed to produce such motions. Applications will emphasize elements of machine design. May not be held for credit with MECH 2120 or MECH 3480.',\n",
       " '(Lab required) The angular momentum principle, introduction to differential analysis of fluid motion, internal and external incompressible viscous flow, fluid machinery and multiple-path systems, fluid coupling and torque couplings and torque converters. May not be held for credit with the former MECH 3490.',\n",
       " '(Lab required) Strength and stability of columns, torsion of thin-walled members, unsymmetric loading and shear centres, beam deflection and energy methods. May not be held for credit with MECH 2220 or MECH 3500.',\n",
       " '(Lab required) Mechanical properties of engineering non-metallic materials such as polymers, ceramics and composites, and their relationship to structure and processing; introduction to various shaping and joining processes used in manufacturing, their advantages and limitations; selection and application of engineering materials. May not be held for credit with MECH 2270, MECH 2290 or MECH 3540.',\n",
       " '(Lab required) Stress and failure analysis and the design of machine elements; shafts and couplings, threaded fasteners and power screws, clutches and power transmission components; spur, bevel, worm and helical gears; lubrication, journal and roller bearings. May not be held for credit with MECH 4650.',\n",
       " '(Lab required) Laboratory course on topics that compliment and reinforce concepts developed in second and third year mechanical engineering courses in mechanics of solids and structures, and vibrations. May not be held for credit with the former MECH 3980, MECH 4980, or MECH 4990.',\n",
       " '(Lab required) Laboratory course on topics that compliment and reinforce concepts developed in second and third year mechanical engineering courses in thermofluids. May not be held for credit with the former MECH 3980, MECH 4980, or MECH 4990.',\n",
       " '(Lab required) Design projects; teams of students prepare written and oral design reports on solutions to specific problems from Manitoba industries; series of seminars by invited speakers.',\n",
       " '(Lab Required) At the heart of modern communications, waves and oscillations are key to understanding the world around us from subatomic scales to biology, traffic flow, the stock market, climate change and the cosmos itself. Learn about the mysterious quantum world, the basis of the latest nanotechnology, where particles are waves and waves are particles. Explore Bohr\\'s model of the atom and discover Heisenberg\\'s Uncertainty Principle. This calculus based course addresses the underlying concepts for all modern science and engineering. This course, like Physics 1 (PHYS 1050), is intended for students considering a program in the physical sciences. Recommended for entry into the Honours programs (with a grade of \"B\").  May not be held for credit with PHYS 1071, the former PHYS 1410, the former PHYS 1420, or PHYS 2152.',\n",
       " '(Lab Required) Descriptive statistics, basic probability concepts, special statistical distributions, statistical inference-estimation and hypothesis testing, regression, reliability, statistical process control. May not be held with STAT 1000, STAT 1001 or STAT 1150.']"
      ]
     },
     "execution_count": 13,
     "metadata": {},
     "output_type": "execute_result"
    }
   ],
   "source": [
    "course_descs"
   ]
  },
  {
   "cell_type": "code",
   "execution_count": 14,
   "metadata": {
    "scrolled": true
   },
   "outputs": [
    {
     "data": {
      "text/html": [
       "<div>\n",
       "<style scoped>\n",
       "    .dataframe tbody tr th:only-of-type {\n",
       "        vertical-align: middle;\n",
       "    }\n",
       "\n",
       "    .dataframe tbody tr th {\n",
       "        vertical-align: top;\n",
       "    }\n",
       "\n",
       "    .dataframe thead th {\n",
       "        text-align: right;\n",
       "    }\n",
       "</style>\n",
       "<table border=\"1\" class=\"dataframe\">\n",
       "  <thead>\n",
       "    <tr style=\"text-align: right;\">\n",
       "      <th></th>\n",
       "      <th>Course Number</th>\n",
       "      <th>Course Name</th>\n",
       "      <th>Course Description</th>\n",
       "    </tr>\n",
       "  </thead>\n",
       "  <tbody>\n",
       "    <tr>\n",
       "      <th>0</th>\n",
       "      <td>ENG 3000</td>\n",
       "      <td>Engineering Economics</td>\n",
       "      <td>This course offers an introduction to the econ...</td>\n",
       "    </tr>\n",
       "    <tr>\n",
       "      <th>1</th>\n",
       "      <td>ENG 3020</td>\n",
       "      <td>Technology, Society and the Future</td>\n",
       "      <td>Impact of technology and technological change ...</td>\n",
       "    </tr>\n",
       "    <tr>\n",
       "      <th>2</th>\n",
       "      <td>ECE 3010</td>\n",
       "      <td>Elements of Electric Machines and Digital Systems</td>\n",
       "      <td>(Lab required) Introduction to elementary conc...</td>\n",
       "    </tr>\n",
       "    <tr>\n",
       "      <th>3</th>\n",
       "      <td>ENG 2030</td>\n",
       "      <td>Engineering Communication: Strategies for the ...</td>\n",
       "      <td>Students work in a team-based environment to p...</td>\n",
       "    </tr>\n",
       "    <tr>\n",
       "      <th>4</th>\n",
       "      <td>ENG 2040</td>\n",
       "      <td>Engineering Communication: Strategies, Practic...</td>\n",
       "      <td>This team-based course focuses on a rhetorical...</td>\n",
       "    </tr>\n",
       "    <tr>\n",
       "      <th>5</th>\n",
       "      <td>MATH 2130</td>\n",
       "      <td>Engineering Mathematical Analysis 1</td>\n",
       "      <td>(Lab required) Multivariable differential and ...</td>\n",
       "    </tr>\n",
       "    <tr>\n",
       "      <th>6</th>\n",
       "      <td>MATH 2132</td>\n",
       "      <td>Engineering Mathematical Analysis 2</td>\n",
       "      <td>(Lab required) Infinite series, Taylor and Mac...</td>\n",
       "    </tr>\n",
       "    <tr>\n",
       "      <th>7</th>\n",
       "      <td>MATH 3132</td>\n",
       "      <td>Engineering Mathematical Analysis 3</td>\n",
       "      <td>(Lab required) Vector integral calculus; serie...</td>\n",
       "    </tr>\n",
       "    <tr>\n",
       "      <th>8</th>\n",
       "      <td>MECH 2112</td>\n",
       "      <td>Fundamentals of Mechanical and Computer Aided ...</td>\n",
       "      <td>(Lab required) Provide instruction on the appl...</td>\n",
       "    </tr>\n",
       "    <tr>\n",
       "      <th>9</th>\n",
       "      <td>MECH 2150</td>\n",
       "      <td>Mechanical Engineering Modelling and Numerical...</td>\n",
       "      <td>(Lab required) A case-study-based introduction...</td>\n",
       "    </tr>\n",
       "    <tr>\n",
       "      <th>10</th>\n",
       "      <td>MECH 2202</td>\n",
       "      <td>Thermodynamics</td>\n",
       "      <td>(Lab required) Cycles, transient flow processe...</td>\n",
       "    </tr>\n",
       "    <tr>\n",
       "      <th>11</th>\n",
       "      <td>MECH 2222</td>\n",
       "      <td>Mechanics of Materials</td>\n",
       "      <td>(Lab required) Topics covered in this course i...</td>\n",
       "    </tr>\n",
       "    <tr>\n",
       "      <th>12</th>\n",
       "      <td>MECH 2262</td>\n",
       "      <td>Fundamentals of Fluid Mechanics</td>\n",
       "      <td>(Lab required) Fundamental concepts used in th...</td>\n",
       "    </tr>\n",
       "    <tr>\n",
       "      <th>13</th>\n",
       "      <td>MECH 2272</td>\n",
       "      <td>Engineering Materials 1</td>\n",
       "      <td>(Lab required) Introduction to engineering mat...</td>\n",
       "    </tr>\n",
       "    <tr>\n",
       "      <th>14</th>\n",
       "      <td>MECH 3170</td>\n",
       "      <td>Project Management</td>\n",
       "      <td>(Lab required) Topics covered include project ...</td>\n",
       "    </tr>\n",
       "    <tr>\n",
       "      <th>15</th>\n",
       "      <td>MECH 3420</td>\n",
       "      <td>Vibrations and Acoustics</td>\n",
       "      <td>(Lab required) Vibrations and computer simulat...</td>\n",
       "    </tr>\n",
       "    <tr>\n",
       "      <th>16</th>\n",
       "      <td>MECH 3430</td>\n",
       "      <td>Measurements and Control</td>\n",
       "      <td>(Lab required) Mathematical modelling of mecha...</td>\n",
       "    </tr>\n",
       "    <tr>\n",
       "      <th>17</th>\n",
       "      <td>MECH 3460</td>\n",
       "      <td>Heat Transfer</td>\n",
       "      <td>( Lab required) This is the first course in he...</td>\n",
       "    </tr>\n",
       "    <tr>\n",
       "      <th>18</th>\n",
       "      <td>MECH 3482</td>\n",
       "      <td>Kinematics and Dynamics</td>\n",
       "      <td>(Lab required) Fundamentals of 2D and 3D rigid...</td>\n",
       "    </tr>\n",
       "    <tr>\n",
       "      <th>19</th>\n",
       "      <td>MECH 3492</td>\n",
       "      <td>Fluid Mechanics and Applications</td>\n",
       "      <td>(Lab required) The angular momentum principle,...</td>\n",
       "    </tr>\n",
       "    <tr>\n",
       "      <th>20</th>\n",
       "      <td>MECH 3502</td>\n",
       "      <td>Stress Analysis and Design</td>\n",
       "      <td>(Lab required) Strength and stability of colum...</td>\n",
       "    </tr>\n",
       "    <tr>\n",
       "      <th>21</th>\n",
       "      <td>MECH 3542</td>\n",
       "      <td>Engineering Materials 2</td>\n",
       "      <td>(Lab required) Mechanical properties of engine...</td>\n",
       "    </tr>\n",
       "    <tr>\n",
       "      <th>22</th>\n",
       "      <td>MECH 3652</td>\n",
       "      <td>Machine Design</td>\n",
       "      <td>(Lab required) Stress and failure analysis and...</td>\n",
       "    </tr>\n",
       "    <tr>\n",
       "      <th>23</th>\n",
       "      <td>MECH 3982</td>\n",
       "      <td>Mechanical Laboratories in Solid Mechanics</td>\n",
       "      <td>(Lab required) Laboratory course on topics tha...</td>\n",
       "    </tr>\n",
       "    <tr>\n",
       "      <th>24</th>\n",
       "      <td>MECH 3992</td>\n",
       "      <td>Mechanical Laboratories in Thermofluids</td>\n",
       "      <td>(Lab required) Laboratory course on topics tha...</td>\n",
       "    </tr>\n",
       "    <tr>\n",
       "      <th>25</th>\n",
       "      <td>MECH 4860</td>\n",
       "      <td>Engineering Design</td>\n",
       "      <td>(Lab required) Design projects; teams of stude...</td>\n",
       "    </tr>\n",
       "    <tr>\n",
       "      <th>26</th>\n",
       "      <td>PHYS 1070</td>\n",
       "      <td>Physics 2: Waves and Modern Physics</td>\n",
       "      <td>(Lab Required) At the heart of modern communic...</td>\n",
       "    </tr>\n",
       "    <tr>\n",
       "      <th>27</th>\n",
       "      <td>STAT 2220</td>\n",
       "      <td>Contemporary Statistics for Engineers</td>\n",
       "      <td>(Lab Required) Descriptive statistics, basic p...</td>\n",
       "    </tr>\n",
       "  </tbody>\n",
       "</table>\n",
       "</div>"
      ],
      "text/plain": [
       "   Course Number                                        Course Name  \\\n",
       "0       ENG 3000                              Engineering Economics   \n",
       "1       ENG 3020                 Technology, Society and the Future   \n",
       "2       ECE 3010  Elements of Electric Machines and Digital Systems   \n",
       "3       ENG 2030  Engineering Communication: Strategies for the ...   \n",
       "4       ENG 2040  Engineering Communication: Strategies, Practic...   \n",
       "5      MATH 2130                Engineering Mathematical Analysis 1   \n",
       "6      MATH 2132                Engineering Mathematical Analysis 2   \n",
       "7      MATH 3132                Engineering Mathematical Analysis 3   \n",
       "8      MECH 2112  Fundamentals of Mechanical and Computer Aided ...   \n",
       "9      MECH 2150  Mechanical Engineering Modelling and Numerical...   \n",
       "10     MECH 2202                                     Thermodynamics   \n",
       "11     MECH 2222                             Mechanics of Materials   \n",
       "12     MECH 2262                    Fundamentals of Fluid Mechanics   \n",
       "13     MECH 2272                            Engineering Materials 1   \n",
       "14     MECH 3170                                 Project Management   \n",
       "15     MECH 3420                           Vibrations and Acoustics   \n",
       "16     MECH 3430                           Measurements and Control   \n",
       "17     MECH 3460                                      Heat Transfer   \n",
       "18     MECH 3482                            Kinematics and Dynamics   \n",
       "19     MECH 3492                   Fluid Mechanics and Applications   \n",
       "20     MECH 3502                         Stress Analysis and Design   \n",
       "21     MECH 3542                            Engineering Materials 2   \n",
       "22     MECH 3652                                     Machine Design   \n",
       "23     MECH 3982         Mechanical Laboratories in Solid Mechanics   \n",
       "24     MECH 3992            Mechanical Laboratories in Thermofluids   \n",
       "25     MECH 4860                                 Engineering Design   \n",
       "26     PHYS 1070                Physics 2: Waves and Modern Physics   \n",
       "27     STAT 2220              Contemporary Statistics for Engineers   \n",
       "\n",
       "                                   Course Description  \n",
       "0   This course offers an introduction to the econ...  \n",
       "1   Impact of technology and technological change ...  \n",
       "2   (Lab required) Introduction to elementary conc...  \n",
       "3   Students work in a team-based environment to p...  \n",
       "4   This team-based course focuses on a rhetorical...  \n",
       "5   (Lab required) Multivariable differential and ...  \n",
       "6   (Lab required) Infinite series, Taylor and Mac...  \n",
       "7   (Lab required) Vector integral calculus; serie...  \n",
       "8   (Lab required) Provide instruction on the appl...  \n",
       "9   (Lab required) A case-study-based introduction...  \n",
       "10  (Lab required) Cycles, transient flow processe...  \n",
       "11  (Lab required) Topics covered in this course i...  \n",
       "12  (Lab required) Fundamental concepts used in th...  \n",
       "13  (Lab required) Introduction to engineering mat...  \n",
       "14  (Lab required) Topics covered include project ...  \n",
       "15  (Lab required) Vibrations and computer simulat...  \n",
       "16  (Lab required) Mathematical modelling of mecha...  \n",
       "17  ( Lab required) This is the first course in he...  \n",
       "18  (Lab required) Fundamentals of 2D and 3D rigid...  \n",
       "19  (Lab required) The angular momentum principle,...  \n",
       "20  (Lab required) Strength and stability of colum...  \n",
       "21  (Lab required) Mechanical properties of engine...  \n",
       "22  (Lab required) Stress and failure analysis and...  \n",
       "23  (Lab required) Laboratory course on topics tha...  \n",
       "24  (Lab required) Laboratory course on topics tha...  \n",
       "25  (Lab required) Design projects; teams of stude...  \n",
       "26  (Lab Required) At the heart of modern communic...  \n",
       "27  (Lab Required) Descriptive statistics, basic p...  "
      ]
     },
     "execution_count": 14,
     "metadata": {},
     "output_type": "execute_result"
    }
   ],
   "source": [
    "import pandas as pd\n",
    "\n",
    "df = pd.DataFrame({\n",
    "    \"Course Number\": course_codes,\n",
    "    \"Course Name\": course_names,\n",
    "    \"Course Description\": course_descs    \n",
    "})\n",
    "\n",
    "df"
   ]
  },
  {
   "cell_type": "code",
   "execution_count": 15,
   "metadata": {},
   "outputs": [],
   "source": [
    "df.to_csv('UManitoba_MechEng_Core_Courses.csv', index = False)"
   ]
  },
  {
   "cell_type": "code",
   "execution_count": 17,
   "metadata": {},
   "outputs": [],
   "source": [
    "driver.quit()"
   ]
  }
 ],
 "metadata": {
  "kernelspec": {
   "display_name": "Python 3",
   "language": "python",
   "name": "python3"
  },
  "language_info": {
   "codemirror_mode": {
    "name": "ipython",
    "version": 3
   },
   "file_extension": ".py",
   "mimetype": "text/x-python",
   "name": "python",
   "nbconvert_exporter": "python",
   "pygments_lexer": "ipython3",
   "version": "3.8.5"
  }
 },
 "nbformat": 4,
 "nbformat_minor": 4
}
