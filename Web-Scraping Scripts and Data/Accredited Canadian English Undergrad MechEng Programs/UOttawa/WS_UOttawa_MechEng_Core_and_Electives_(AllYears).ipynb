{
 "cells": [
  {
   "cell_type": "code",
   "execution_count": 1,
   "metadata": {},
   "outputs": [],
   "source": [
    "from bs4 import BeautifulSoup as soup\n",
    "from urllib.request import urlopen as ureq\n",
    "from selenium import webdriver\n",
    "import time\n",
    "import re"
   ]
  },
  {
   "cell_type": "code",
   "execution_count": 7,
   "metadata": {},
   "outputs": [],
   "source": [
    "url = \"https://catalogue.uottawa.ca/en/undergrad/basc-mechanical-engineering/#programrequirementstext\""
   ]
  },
  {
   "cell_type": "code",
   "execution_count": 3,
   "metadata": {},
   "outputs": [],
   "source": [
    "chrome_options = webdriver.ChromeOptions()\n",
    "chrome_options.add_argument('--ignore-certificate-errors')\n",
    "chrome_options.add_argument('--incognito')\n",
    "#chrome_options.add_argument('--headless')\n",
    "\n",
    "driver = webdriver.Chrome(\"C:\\\\Users\\\\jerry\\\\Downloads\\\\chromedriver\", options=chrome_options)"
   ]
  },
  {
   "cell_type": "code",
   "execution_count": 8,
   "metadata": {},
   "outputs": [],
   "source": [
    "driver.get(url)"
   ]
  },
  {
   "cell_type": "markdown",
   "metadata": {},
   "source": [
    "# 1. Collect course link texts for webdriver to click on"
   ]
  },
  {
   "cell_type": "code",
   "execution_count": 9,
   "metadata": {},
   "outputs": [],
   "source": [
    "page_soup = soup(driver.page_source, 'lxml')"
   ]
  },
  {
   "cell_type": "code",
   "execution_count": 11,
   "metadata": {},
   "outputs": [],
   "source": [
    "tables = page_soup.find(\"section\", {\"id\": \"content-container\"}).findAll(\"table\", {\"class\": \"sc_courselist\"})"
   ]
  },
  {
   "cell_type": "code",
   "execution_count": 13,
   "metadata": {},
   "outputs": [],
   "source": [
    "list_of_containers = [table.tbody.findAll(\"a\") for table in tables]"
   ]
  },
  {
   "cell_type": "code",
   "execution_count": 15,
   "metadata": {},
   "outputs": [
    {
     "data": {
      "text/plain": [
       "66"
      ]
     },
     "execution_count": 15,
     "metadata": {},
     "output_type": "execute_result"
    }
   ],
   "source": [
    "containers = [container for container_list in list_of_containers for container in container_list]\n",
    "len(containers)"
   ]
  },
  {
   "cell_type": "code",
   "execution_count": 16,
   "metadata": {
    "scrolled": true
   },
   "outputs": [
    {
     "data": {
      "text/plain": [
       "['CHM\\xa01311',\n",
       " 'ENG\\xa01112',\n",
       " 'GNG\\xa01103',\n",
       " 'GNG\\xa01105',\n",
       " 'GNG\\xa01106',\n",
       " 'MAT\\xa01320',\n",
       " 'MAT\\xa01322',\n",
       " 'MAT\\xa01341',\n",
       " 'MCG\\xa01100',\n",
       " 'PHY\\xa01122',\n",
       " 'CVG\\xa02140',\n",
       " 'ELG\\xa02336',\n",
       " 'GNG\\xa02101',\n",
       " 'MAT\\xa02322',\n",
       " 'MAT\\xa02377',\n",
       " 'MAT\\xa02384',\n",
       " 'MCG\\xa02101',\n",
       " 'MCG\\xa02108',\n",
       " 'MCG\\xa02130',\n",
       " 'MCG\\xa02131',\n",
       " 'MCG\\xa02360',\n",
       " 'MCG\\xa02361',\n",
       " 'ELG\\xa03336',\n",
       " 'GNG\\xa04170',\n",
       " 'MAT\\xa03320',\n",
       " 'MCG\\xa03110',\n",
       " 'MCG\\xa03130',\n",
       " 'MCG\\xa03131',\n",
       " 'MCG\\xa03145',\n",
       " 'MCG\\xa03306',\n",
       " 'MCG\\xa03307',\n",
       " 'MCG\\xa03340',\n",
       " 'MCG\\xa03341',\n",
       " 'GNG\\xa04120',\n",
       " 'HIS\\xa02129',\n",
       " 'PHI\\xa02394',\n",
       " 'MCG\\xa04308',\n",
       " 'MCG\\xa04322',\n",
       " 'MCG\\xa04328',\n",
       " 'MCG\\xa04340',\n",
       " 'MCG\\xa04104',\n",
       " 'MCG\\xa04110',\n",
       " 'MCG\\xa04111',\n",
       " 'MCG\\xa04126',\n",
       " 'MCG\\xa04128',\n",
       " 'MCG\\xa04139',\n",
       " 'MCG\\xa04325',\n",
       " 'MCG\\xa04345',\n",
       " 'MCG\\xa04102',\n",
       " 'MCG\\xa04107',\n",
       " 'MCG\\xa04127',\n",
       " 'MCG\\xa04155',\n",
       " 'MCG\\xa04329',\n",
       " 'MCG\\xa04130',\n",
       " 'MCG\\xa04132',\n",
       " 'MCG\\xa04133',\n",
       " 'MCG\\xa04134',\n",
       " 'MCG\\xa04136',\n",
       " 'GNG\\xa04128',\n",
       " 'MCG\\xa04100',\n",
       " 'MCG\\xa04142',\n",
       " 'MCG\\xa04143',\n",
       " 'MCG\\xa04144',\n",
       " 'MCG\\xa04190',\n",
       " 'MCG\\xa04191',\n",
       " 'MCG\\xa04220']"
      ]
     },
     "execution_count": 16,
     "metadata": {},
     "output_type": "execute_result"
    }
   ],
   "source": [
    "link_texts = [container.text for container in containers]\n",
    "link_texts"
   ]
  },
  {
   "cell_type": "code",
   "execution_count": 19,
   "metadata": {
    "scrolled": true
   },
   "outputs": [
    {
     "data": {
      "text/plain": [
       "['CHM 1311',\n",
       " 'ENG 1112',\n",
       " 'GNG 1103',\n",
       " 'GNG 1105',\n",
       " 'GNG 1106',\n",
       " 'MAT 1320',\n",
       " 'MAT 1322',\n",
       " 'MAT 1341',\n",
       " 'MCG 1100',\n",
       " 'PHY 1122',\n",
       " 'CVG 2140',\n",
       " 'ELG 2336',\n",
       " 'GNG 2101',\n",
       " 'MAT 2322',\n",
       " 'MAT 2377',\n",
       " 'MAT 2384',\n",
       " 'MCG 2101',\n",
       " 'MCG 2108',\n",
       " 'MCG 2130',\n",
       " 'MCG 2131',\n",
       " 'MCG 2360',\n",
       " 'MCG 2361',\n",
       " 'ELG 3336',\n",
       " 'GNG 4170',\n",
       " 'MAT 3320',\n",
       " 'MCG 3110',\n",
       " 'MCG 3130',\n",
       " 'MCG 3131',\n",
       " 'MCG 3145',\n",
       " 'MCG 3306',\n",
       " 'MCG 3307',\n",
       " 'MCG 3340',\n",
       " 'MCG 3341',\n",
       " 'GNG 4120',\n",
       " 'HIS 2129',\n",
       " 'PHI 2394',\n",
       " 'MCG 4308',\n",
       " 'MCG 4322',\n",
       " 'MCG 4328',\n",
       " 'MCG 4340',\n",
       " 'MCG 4104',\n",
       " 'MCG 4110',\n",
       " 'MCG 4111',\n",
       " 'MCG 4126',\n",
       " 'MCG 4128',\n",
       " 'MCG 4139',\n",
       " 'MCG 4325',\n",
       " 'MCG 4345',\n",
       " 'MCG 4102',\n",
       " 'MCG 4107',\n",
       " 'MCG 4127',\n",
       " 'MCG 4155',\n",
       " 'MCG 4329',\n",
       " 'MCG 4130',\n",
       " 'MCG 4132',\n",
       " 'MCG 4133',\n",
       " 'MCG 4134',\n",
       " 'MCG 4136',\n",
       " 'GNG 4128',\n",
       " 'MCG 4100',\n",
       " 'MCG 4142',\n",
       " 'MCG 4143',\n",
       " 'MCG 4144',\n",
       " 'MCG 4190',\n",
       " 'MCG 4191',\n",
       " 'MCG 4220']"
      ]
     },
     "execution_count": 19,
     "metadata": {},
     "output_type": "execute_result"
    }
   ],
   "source": [
    "link_texts = [link_text.replace(\"\\xa0\", \" \") for link_text in link_texts]\n",
    "link_texts"
   ]
  },
  {
   "cell_type": "markdown",
   "metadata": {},
   "source": [
    "# 2. Test run - try to scrape the first course"
   ]
  },
  {
   "cell_type": "code",
   "execution_count": 29,
   "metadata": {},
   "outputs": [],
   "source": [
    "driver.find_element_by_link_text(\"CHM 1311\").click()"
   ]
  },
  {
   "cell_type": "code",
   "execution_count": 30,
   "metadata": {},
   "outputs": [],
   "source": [
    "page_soup = soup(driver.page_source, 'lxml')"
   ]
  },
  {
   "cell_type": "code",
   "execution_count": 31,
   "metadata": {},
   "outputs": [],
   "source": [
    "container = page_soup.find(\"div\", {\"class\": \"lfjsbubble\"}).find(\"div\", {\"class\": \"courseblock\"})"
   ]
  },
  {
   "cell_type": "code",
   "execution_count": 32,
   "metadata": {},
   "outputs": [
    {
     "data": {
      "text/plain": [
       "'CHM 1311 Principles of Chemistry'"
      ]
     },
     "execution_count": 32,
     "metadata": {},
     "output_type": "execute_result"
    }
   ],
   "source": [
    "course_title = container.find(\"p\", {\"class\": \"courseblocktitle noindent\"}).text.replace(\"\\xa0\", \" \").split(\" (\")[0]\n",
    "course_title"
   ]
  },
  {
   "cell_type": "code",
   "execution_count": 33,
   "metadata": {},
   "outputs": [
    {
     "data": {
      "text/plain": [
       "'Chemical bonding, molecular geometry, chemical equations and quantitative relations, gas, liquids and solids, solutions, redox reactions,  electrochemistry, kinetics and equilibrium,  ionic equilibria, acids and bases in solution, pH. Courses CHM 1311, CHM 1301 cannot be combined for units. Previously CHM 1310.'"
      ]
     },
     "execution_count": 33,
     "metadata": {},
     "output_type": "execute_result"
    }
   ],
   "source": [
    "course_desc = container.find(\"p\", {\"class\": \"courseblockdesc noindent\"}).text.strip().replace(\"\\xa0\", \" \")\n",
    "course_desc"
   ]
  },
  {
   "cell_type": "code",
   "execution_count": 34,
   "metadata": {},
   "outputs": [
    {
     "data": {
      "text/plain": [
       "'CHM 1311'"
      ]
     },
     "execution_count": 34,
     "metadata": {},
     "output_type": "execute_result"
    }
   ],
   "source": [
    "\" \".join(course_title.split(\" \")[:2])"
   ]
  },
  {
   "cell_type": "code",
   "execution_count": 35,
   "metadata": {},
   "outputs": [
    {
     "data": {
      "text/plain": [
       "'Principles of Chemistry'"
      ]
     },
     "execution_count": 35,
     "metadata": {},
     "output_type": "execute_result"
    }
   ],
   "source": [
    "\" \".join(course_title.split(\" \")[2:])"
   ]
  },
  {
   "cell_type": "code",
   "execution_count": 26,
   "metadata": {},
   "outputs": [],
   "source": [
    "driver.find_element_by_id(\"lfjsbubbleclose\").click()"
   ]
  },
  {
   "cell_type": "code",
   "execution_count": 27,
   "metadata": {},
   "outputs": [],
   "source": [
    "driver.find_element_by_link_text(link_texts[1]).click()"
   ]
  },
  {
   "cell_type": "code",
   "execution_count": 28,
   "metadata": {},
   "outputs": [],
   "source": [
    "driver.find_element_by_id(\"lfjsbubbleclose\").click()"
   ]
  },
  {
   "cell_type": "markdown",
   "metadata": {},
   "source": [
    "# 3. Test run successful! Implement automation script to scrape all courses"
   ]
  },
  {
   "cell_type": "code",
   "execution_count": 36,
   "metadata": {
    "scrolled": true
   },
   "outputs": [
    {
     "name": "stdout",
     "output_type": "stream",
     "text": [
      "Scraped  CHM 1311\n",
      "Scraped  ENG 1112\n",
      "Scraped  GNG 1103\n",
      "Scraped  GNG 1105\n",
      "Scraped  GNG 1106\n",
      "Scraped  MAT 1320\n",
      "Scraped  MAT 1322\n",
      "Scraped  MAT 1341\n",
      "Scraped  MCG 1100\n",
      "Scraped  PHY 1122\n",
      "Scraped  CVG 2140\n",
      "Scraped  ELG 2336\n",
      "Scraped  GNG 2101\n",
      "Scraped  MAT 2322\n",
      "Scraped  MAT 2377\n",
      "Scraped  MAT 2384\n",
      "Scraped  MCG 2101\n",
      "Scraped  MCG 2108\n",
      "Scraped  MCG 2130\n",
      "Scraped  MCG 2131\n",
      "Scraped  MCG 2360\n",
      "Scraped  MCG 2361\n",
      "Scraped  ELG 3336\n",
      "Scraped  GNG 4170\n",
      "Scraped  MAT 3320\n",
      "Scraped  MCG 3110\n",
      "Scraped  MCG 3130\n",
      "Scraped  MCG 3131\n",
      "Scraped  MCG 3145\n",
      "Scraped  MCG 3306\n",
      "Scraped  MCG 3307\n",
      "Scraped  MCG 3340\n",
      "Scraped  MCG 3341\n",
      "Scraped  GNG 4120\n",
      "Scraped  HIS 2129\n",
      "Scraped  PHI 2394\n",
      "Scraped  MCG 4308\n",
      "Scraped  MCG 4322\n",
      "Scraped  MCG 4328\n",
      "Scraped  MCG 4340\n",
      "Scraped  MCG 4104\n",
      "Scraped  MCG 4110\n",
      "Scraped  MCG 4111\n",
      "Scraped  MCG 4126\n",
      "Scraped  MCG 4128\n",
      "Scraped  MCG 4139\n",
      "Scraped  MCG 4325\n",
      "Scraped  MCG 4345\n",
      "Scraped  MCG 4102\n",
      "Scraped  MCG 4107\n",
      "Scraped  MCG 4127\n",
      "Scraped  MCG 4155\n",
      "Scraped  MCG 4329\n",
      "Scraped  MCG 4130\n",
      "Scraped  MCG 4132\n",
      "Scraped  MCG 4133\n",
      "Scraped  MCG 4134\n",
      "Scraped  MCG 4136\n",
      "Scraped  GNG 4128\n",
      "Scraped  MCG 4100\n",
      "Scraped  MCG 4142\n",
      "Scraped  MCG 4143\n",
      "Scraped  MCG 4144\n",
      "Scraped  MCG 4190\n",
      "Scraped  MCG 4191\n",
      "Scraped  MCG 4220\n",
      "scraped 66 courses\n"
     ]
    }
   ],
   "source": [
    "counter = 0\n",
    "course_codes = []\n",
    "course_names = []\n",
    "course_descs = []\n",
    "\n",
    "for link_text in link_texts:\n",
    "    \n",
    "    driver.get(url)\n",
    "    time.sleep(3)\n",
    "    \n",
    "    link = driver.find_element_by_link_text(link_text)\n",
    "    time.sleep(2)\n",
    "    \n",
    "    link.click()\n",
    "    time.sleep(3)\n",
    "    \n",
    "    page_soup = soup(driver.page_source, 'lxml')\n",
    "    container = page_soup.find(\"div\", {\"class\": \"lfjsbubble\"}).find(\"div\", {\"class\": \"courseblock\"})\n",
    "    course_title = container.find(\"p\", {\"class\": \"courseblocktitle noindent\"}).text.replace(\"\\xa0\", \" \").split(\" (\")[0]\n",
    "    \n",
    "    course_codes.append(\" \".join(course_title.split(\" \")[:2]))\n",
    "    course_names.append(\" \".join(course_title.split(\" \")[2:]))\n",
    "    course_descs.append(container.find(\"p\", {\"class\": \"courseblockdesc noindent\"}).text.strip().replace(\"\\xa0\", \" \"))\n",
    "    \n",
    "    print(\"Scraped \", course_codes[-1])\n",
    "    counter += 1\n",
    "    \n",
    "print(\"scraped {} courses\".format(counter))"
   ]
  },
  {
   "cell_type": "markdown",
   "metadata": {},
   "source": [
    "# 4. Inspect and write to CSV"
   ]
  },
  {
   "cell_type": "code",
   "execution_count": 37,
   "metadata": {
    "scrolled": true
   },
   "outputs": [
    {
     "data": {
      "text/plain": [
       "['CHM 1311',\n",
       " 'ENG 1112',\n",
       " 'GNG 1103',\n",
       " 'GNG 1105',\n",
       " 'GNG 1106',\n",
       " 'MAT 1320',\n",
       " 'MAT 1322',\n",
       " 'MAT 1341',\n",
       " 'MCG 1100',\n",
       " 'PHY 1122',\n",
       " 'CVG 2140',\n",
       " 'ELG 2336',\n",
       " 'GNG 2101',\n",
       " 'MAT 2322',\n",
       " 'MAT 2377',\n",
       " 'MAT 2384',\n",
       " 'MCG 2101',\n",
       " 'MCG 2108',\n",
       " 'MCG 2130',\n",
       " 'MCG 2131',\n",
       " 'MCG 2360',\n",
       " 'MCG 2361',\n",
       " 'ELG 3336',\n",
       " 'GNG 4170',\n",
       " 'MAT 3320',\n",
       " 'MCG 3110',\n",
       " 'MCG 3130',\n",
       " 'MCG 3131',\n",
       " 'MCG 3145',\n",
       " 'MCG 3306',\n",
       " 'MCG 3307',\n",
       " 'MCG 3340',\n",
       " 'MCG 3341',\n",
       " 'GNG 4120',\n",
       " 'HIS 2129',\n",
       " 'PHI 2394',\n",
       " 'MCG 4308',\n",
       " 'MCG 4322',\n",
       " 'MCG 4328',\n",
       " 'MCG 4340',\n",
       " 'MCG 4104',\n",
       " 'MCG 4110',\n",
       " 'MCG 4111',\n",
       " 'MCG 4126',\n",
       " 'MCG 4128',\n",
       " 'MCG 4139',\n",
       " 'MCG 4325',\n",
       " 'MCG 4345',\n",
       " 'MCG 4102',\n",
       " 'MCG 4107',\n",
       " 'MCG 4127',\n",
       " 'MCG 4155',\n",
       " 'MCG 4329',\n",
       " 'MCG 4130',\n",
       " 'MCG 4132',\n",
       " 'MCG 4133',\n",
       " 'MCG 4134',\n",
       " 'MCG 4136',\n",
       " 'GNG 4128',\n",
       " 'MCG 4100',\n",
       " 'MCG 4142',\n",
       " 'MCG 4143',\n",
       " 'MCG 4144',\n",
       " 'MCG 4190',\n",
       " 'MCG 4191',\n",
       " 'MCG 4220']"
      ]
     },
     "execution_count": 37,
     "metadata": {},
     "output_type": "execute_result"
    }
   ],
   "source": [
    "course_codes"
   ]
  },
  {
   "cell_type": "code",
   "execution_count": 38,
   "metadata": {
    "scrolled": true
   },
   "outputs": [
    {
     "data": {
      "text/plain": [
       "['Principles of Chemistry',\n",
       " 'Technical Report Writing',\n",
       " 'Engineering Design',\n",
       " 'Engineering Mechanics',\n",
       " 'Fundamentals of Engineering Computation',\n",
       " 'Calculus I',\n",
       " 'Calculus II',\n",
       " 'Introduction to Linear Algebra',\n",
       " 'Introduction to Mechanical Engineering',\n",
       " 'Fundamentals of Physics II',\n",
       " 'Mechanics of Materials I',\n",
       " 'Electric Circuits and Machines for Mechanical Engineering',\n",
       " 'Introduction to Product Development and Management for Engineers and Computer Scientists',\n",
       " 'Calculus III for Engineers',\n",
       " 'Probability and Statistics for Engineers',\n",
       " 'Ordinary Differential Equations and Numerical Methods',\n",
       " 'Introduction to Design',\n",
       " 'Mechanics II',\n",
       " 'Thermodynamics I',\n",
       " 'Thermodynamics II',\n",
       " 'Engineering Materials I',\n",
       " 'Engineering Materials II',\n",
       " 'Electronics for Mechanical Engineers',\n",
       " 'Engineering Law',\n",
       " 'Mathematics for Engineers',\n",
       " 'Heat Transfer',\n",
       " 'Dynamics of Machinery',\n",
       " 'Machine Design',\n",
       " 'Advanced Strength of Materials',\n",
       " 'System Dynamics',\n",
       " 'Control Systems',\n",
       " 'Fluid Mechanics I',\n",
       " 'Fluid Mechanics II',\n",
       " 'Technology Entrepreneurship for Engineers and Computer Scientists',\n",
       " 'Technology, Society and Environment Since 1800',\n",
       " 'Scientific Thought and Social Values',\n",
       " 'Mechanical Vibration Analysis',\n",
       " 'Computer-Aided Design',\n",
       " 'Manufacturing',\n",
       " 'Mechanical Engineering Laboratory',\n",
       " 'Building Energy Systems',\n",
       " 'Fluid Machinery',\n",
       " 'Internal Combustion Engines',\n",
       " 'Energy Conversion',\n",
       " 'Basic Nuclear Engineering',\n",
       " 'Computational Methods in Fluid and Heat Transfer',\n",
       " 'Gas Dynamics',\n",
       " 'Aerodynamics',\n",
       " 'Finite Element Analysis',\n",
       " 'Dynamics II',\n",
       " 'Computational Methods in Mechanical Engineering',\n",
       " 'Advanced Engineering Materials',\n",
       " 'Reliability and Maintainability in Engineering Design',\n",
       " 'Industrial Planning',\n",
       " 'Robot Mechanics',\n",
       " 'Automation Design and Control',\n",
       " 'Robot Design and Control',\n",
       " 'Mechatronics',\n",
       " 'Introduction to Nuclear Engineering',\n",
       " 'Thesis',\n",
       " 'Corrosion: Principles, Prevention and Control',\n",
       " 'Product Design and Development',\n",
       " 'Introduction to Composite Materials',\n",
       " 'Selected Topics I',\n",
       " 'Selected Topics II',\n",
       " 'Thesis']"
      ]
     },
     "execution_count": 38,
     "metadata": {},
     "output_type": "execute_result"
    }
   ],
   "source": [
    "course_names"
   ]
  },
  {
   "cell_type": "code",
   "execution_count": 39,
   "metadata": {},
   "outputs": [
    {
     "data": {
      "text/plain": [
       "['Chemical bonding, molecular geometry, chemical equations and quantitative relations, gas, liquids and solids, solutions, redox reactions,  electrochemistry, kinetics and equilibrium,  ionic equilibria, acids and bases in solution, pH. Courses CHM 1311, CHM 1301 cannot be combined for units. Previously CHM 1310.',\n",
       " 'Practice in the writing of technical reports. Topics include exposition, argumentation, presentation of technical data, and effective communication. Frequent written exercises and development of composition skills. Use of Writing Centre resources required outside regular class hours.',\n",
       " 'A hands-on, team-based introduction to engineering design for engineers and computer scientists. Topics include design thinking, engineering design process, prototyping, engineering economics, safety, ethics and project management.',\n",
       " 'Concepts of engineering mechanics. Statics of particles and rigid bodies. Free body diagrams. Simple structures, including trusses, frames and machines. Rectilinear and curvilinear motion.',\n",
       " 'Introduction to computer systems. Problem solving for engineering case studies. Emphasis is on the design of algorithms and their implementation for solving engineering problems using C.  Introduction to Visual Basic.',\n",
       " \"Intuitive definition of limits; continuity, statement of intermediate value theorem.  Quick review of basic derivative formulas: products, chain rule, exponentials, and trigonometric functions. Derivatives of quotients, logarithms, inverse trigonometric functions. Finite difference approximations of derivatives. Analysis of functions via the first and the second derivatives; statements of extreme and mean value theorems.  L'Hospital's rule. Implicit differentiation, related rates, optimization, linear approximation, Newton s method. The definite integral and the fundamental theorem of calculus. Antiderivatives of elementary functions, techniques of integration (integration by parts, substitutions, partial fractions).  Numerical integration: mid-point, trapezoidal rule and Simpson's rule; error analysis.\",\n",
       " \"Improper integrals.  Applications of the integral.  Separable differential equations.  Euler's method for differential equations. Sequences, series.  Taylor's formula and series.  Functions of two and three variables.  Partial derivatives, the chain rule, directional derivatives, tangent planes and normal lines.\",\n",
       " 'Review of complex numbers. The fundamental theorem of algebra. Review of vector and scalar products, projections. Introduction to vector spaces, linear independence, bases; function spaces. Solution of systems of linear equations, matrix algebra, determinants, eigenvalues and eigenvectors. Gram Schmidt,  orthogonal projections. Linear transformations, kernel and image, their standard matrices. Applications (e.g. geometry, networks, differential equations)',\n",
       " 'Basics of graphical communication, conventional and computer-aided. Sketching, orthographic projections, assembly drawings, solid modelling. Dissection of simple mechanical systems, measurements, report writing.',\n",
       " 'Heat and thermodynamics.  Hydrostatics and hydrodynamics.  Geometrical optics.  Wave theory, Physical optics.  Electrostatics.  Direct current circuits.  A second course intended primarily for students in the physical sciences and engineering.  A familiarity with vector algebra and some understanding of calculus is assumed.  An additional problem class of one hour per week is offered with the course. Includes a 3 hour lab in alternate weeks. This course is normally a sequel to PHY 1121.',\n",
       " 'Stress and strain, mechanical properties of materials, bending moment and shear force diagrams; stresses and deformations in members subjected to tension, compression, shear and torsion; flexural and shearing stresses in beams; deflection of beams; combined stresses.',\n",
       " 'Network theorems. Forced and transient response to deterministic inputs. Sinusoidal steady-state response of circuits. Magnetic theory and circuits. Transformers. Electromechanical energy conversion. Introduction to AC circuits, three phase power. DC machines, AC machines, torque-speed curves and efficiency. Laboratory experiments.',\n",
       " 'A hands-on, team-based introduction to product development and management principles for engineers and computer scientists and their impact on social and economic aspects of engineering practice. Topics include creativity and innovation product development process, engineering project management, market evaluation and identification, engineering economics, technology entrepreneurship.',\n",
       " 'Extrema of functions of several variables.  Multiple integration and applications.  Vector fields and their derivatives.  Curves.  Vector differential operators.  Line integrals.  Surfaces and surface integrals.  Theorems of Stokes, Gauss, etc.',\n",
       " 'A concise survey of: combinatorial analysis; probability and random variables; discrete and continuous densities and distribution functions; expectation and variance; normal (Gaussian), binomial and Poisson distributions; statistical estimation and hypothesis testing; method of least squares, correlation and regression. The emphasis is on statistics and quality control methods for engineers. The courses MAT 2377, MAT 1371, MAT 1372, MAT 2371, MAT 2375, MAT 2378, MAT 2379, ADM 2303, ECO 3150, HSS 2381, PSY 2106 cannot be combined for units.',\n",
       " 'General concepts. First order equations. Linear differential equations of higher order. Differential operators. Laplace transforms. Systems of differential equations. Series solutions about ordinary points. Numerical methods including error analysis; numerical differentiation, integration and solutions of differential equations.',\n",
       " 'The design process. Mechanical components-nomenclature and function. Project management. Technical report writing and oral presentations. Group design project.',\n",
       " \"Review of co-ordinate systems and particle kinematics. Moving co-ordinates, rigid body kinematics of translation and rotation. Impulse and momentum, work and energy. D'Alembert formulation and multi-degree-of-freedom systems. Euler's equations, gyroscopic torques. Principle of virtual work, Lagrange's equations, generalized forces.\",\n",
       " 'Fundamentals of engineering thermodynamics. Properties and state, properties tables, first law of thermodynamics for control mass and control volume systems, second law, entropy and its applications.',\n",
       " 'Extension of thermodynamics principles to mixtures, psychrometrics, real gases and chemical reactions. Application of thermodynamics to standard power and refrigeration cycles. Laboratory experiments.',\n",
       " 'Introduction to structures of engineering metals and their mechanical properties. Defect structures; elastic and plastic deformation, strengthening processes. Introduction to equilibrium phase diagrams. Heat treatment of ferrous alloys. Introduction to fracture, corrosion, welding, and time dependent deformation in metals.',\n",
       " 'Processing, strengthening mechanisms, properties and applications of structural ceramics, polymers and composite materials. Corrosion prevention and control. Laboratory experiments.',\n",
       " 'Semiconductor device characteristics and applications. Power supplies and regulators. Operational amplifiers and applications. Power amplifiers. Digital logic. Gates and gate circuits. Logic families. Combinational logic. Introduction to electronics for measurement and instrumentation. Introduction to power electronics. Laboratory experiments.',\n",
       " \"Basic features of laws and practice relating to contracts, agency, property, water rights, forms of business organizations, sales, insurance, utilities, labour, government regulation of business, negotiable instruments, workers' compensation, liens, bankruptcy, patents, copyrights, trademarks; ethical responsibilities, professional registration; special emphasis on contract documents used on construction work.\",\n",
       " 'Series solutions of ordinary differential equations. Legendre and Bessel functions. Sturm-Liouville problems, orthogonal functions. Fourier series.  Partial differential equations:  introduction and applications.',\n",
       " 'Fundamental principles of heat transmission by conduction, convection and radiation. Application of these principles to the solution of engineering problems.',\n",
       " 'Masses, motions and forces in machines. Engine force analysis. Flywheels and balancing. Vibrations of machinery and of shafting.',\n",
       " 'The application of the theory of mechanics of materials to the design of machine elements.',\n",
       " \"Review of stress and strain at a point. Stress and strain transformations. Theories of failure and their application to design problems. Shear centre, bending of members in multiple plane. Energy methods, Castigliano's theorems, applications to straight and curved members. Torsion of these sections, non-circular sections. Impact stresses.\",\n",
       " 'Modelling of mechanical, electrical, fluid and thermal systems using lumped parameter approach. Concepts of through and across variables in systems. Block diagram for system representation. Linearization and solution of system equations. Transient and frequency response of physical systems.',\n",
       " 'Feedback theory. Time and frequency domain analysis of feedback control systems. Stability criteria. Design of simple feedback control systems and compensation techniques. Statespace analysis of systems. Laboratory experiments.',\n",
       " 'Fundamental concepts. Fluid statics. Fundamental laws of fluid motion. Dimensional analysis and similitude. Internal flows.',\n",
       " 'External flows, aerodynamics. Differential treatment of fluid motion. Computational fluid dynamics. Fluid machinery. Compressible flow. Laboratory experiments.',\n",
       " 'Hands-on introduction to the many dimensions of starting and growing a technology company.  How to evaluate market opportunities, develop a product that customers need, raise capital and build a winning team.  Skills and tools to turn technical ideas into profitable sustainable businesses.',\n",
       " 'Examination of the role of technology in social, economic and environmental change in industrial and \"post-industrial\" society.',\n",
       " 'The nature of scientific thought and the relationships between science and culture, religion, politics, technology and society at large.',\n",
       " 'Analysis of natural frequencies of single degree and multi-degree-of-freedom discrete systems. Their response to excitation forces and amplitude. Analysis with complex variables. Analysis of natural frequencies of multi-degree-of-freedom and continuous systems such as beams and plates. Introduction to energy techniques for solving beam and plate problems.',\n",
       " 'Major group design project integrating concepts from all major areas of mechanical engineering.  The design process; conceptual design, synthesis and analysis, design optimization, parametric design and design system integration.',\n",
       " 'Metal casting processes. Bulk deformation processes, including rolling, forging, extrusion and drawing. Sheet forming processes. Powder metallurgy. Machining. Joining processes. Laboratory experiments.',\n",
       " 'Professional engineering practice and ethics, societal and environmental obligations of the engineer, workplace health and safety. Laboratory experiments on mechanical engineering systems.',\n",
       " 'The theory and application of the principles of heating, ventilating and air conditioning are applied to engineering systems. The thermodynamic properties of air-water mixtures are discussed in relation to heating and cooling load calculations. Current engineering systems are studied.',\n",
       " 'Review of fluid mechanics and thermodynamics of turbomachinery and positive displacement fluid machinery. Performance characteristics, selection and comparison of types.',\n",
       " 'The theory, thermodynamics, and mechanical principles of internal combustion engines. Basic engine types and their operation. Engine testing. Theories of combustion. Economy and selection of various engines for different purposes. Fuels.',\n",
       " 'Fuels, combustion fundamentals, pollutant formation and control, nuclear energy, solar energy, refrigeration, and other energy conversion systems.',\n",
       " 'Review of atomic structure and radioactive decay, nuclear reactions and the fission process; health physics and biological radiation protections. Radioisotope applications; engineering principles of nuclear reactors; energy production and distribution reactor, heat transfer; radiation damage and materials; reactor types.',\n",
       " 'Models and simulation. Governing differential equations. Discretization concepts. Finite difference formulation. Control volume formulation. Examples of computer programs for the calculation of fluid flow and temperature fields.',\n",
       " 'Compressible flow, wave propagation in compressible media; isentropic flow of a perfect gas; normal shock waves, oblique shock waves and their applications; Prandtl Meyer flow; flow with friction and flow heat addition or heat loss.',\n",
       " 'Potential flow analysis. Thin airfoil theory. Computation of flow about bodies. Laminar and turbulent boundary layer techniques.',\n",
       " 'Review of matrix algebra and matrix structural analysis. Fundamentals of the finite element method. Simple one- and two-dimensional elements. Elementary programming in stress analysis, heat transfer and fluid flow. Preprocessing, post-processing. Use of commercial programs.',\n",
       " \"Modelling, problem formulation and analysis of rigid body, multi-degree-of-freedom, mechanical, gyrodynamic, electro-mechanical, and vibrational systems using Newton, D'Alembert, Euler and Lagrange methods. Introduction to central force motion.\",\n",
       " 'Solution of ordinary and partial differential equations in mechanical engineering by numerical techniques on computers. Matrix methods. Eigenvalue computation. Finite difference and finite element methods for solid mechanics, fluid mechanics and heat transfer problems.',\n",
       " 'Topics are covered in this course from a materials perspective. Materials selection and use. Materials forming. Fracture, failure analysis and fracture mechanics. Welding and materials joining.',\n",
       " 'Reliability and maintainability engineering history and current trend. The bathtub hazard rate concept. Equipment hazard rate models. Static and dynamic redundant configurations to improve product reliability during the design phase. Equipment reliability evaluation techniques. Mechanical component reliability evaluation methods. Failure modes and effect analysis: a useful engineering design tool. Design for product maintainability. Mechanical equipment replacement policies.',\n",
       " 'A study of the methods and practices used in industrial planning, such as the organization of engineering activities and interfacing with the various branches of industrial units, cost estimation, operations and production design.',\n",
       " 'Robotics overview. Transformations. Basics of robot kinematics, statics and dynamics. Introduction to industrial robots and programming.',\n",
       " 'Concepts of batch and mass production. Sequencing and timing of the production cell operation. Cell balancing. Design and operational characteristics of hard and flexible manufacturing cells. Automated inspection. Programmable logic controllers. Computer-based cell controller. Cell design evaluation.',\n",
       " 'Classification of robot manipulators. Forward and Inverse Kinematics. Design of joint actuating systems. Independent joint control. Point-to-point control. Path planning and trajectory control. Computed torque technique. Compliance and force control. Sensory components for robot control. End of arm tooling.',\n",
       " 'Models for passive and active components for electro-mechanical systems. Network representation of signals and energy transmission and conversion.  Selection of sensors and actuators for the control of mechanical systems.  Modelling and simulation for the design of mixed dynamic systems.',\n",
       " 'Review of atoms and nuclei. Interactions of radiation with matter. Nuclear reactions. Radioactivity, fission and fusion reactors. Nuclear fuel reserves and resources. Nuclear reactors and nuclear power. Neutron diffusion and moderation. Nuclear reactor theory. Heat removal from nuclear reactors. Energy production and distribution. Radioactive waste disposal. Radiation protection. Reactor licensing, safety and the environment. Various applications.',\n",
       " 'A student in the fourth year of Mechanical Engineering may elect to prepare a written thesis on an approved research topic,  to be completed in one semester.',\n",
       " 'The effects and economic impact of corrosion. Basic concepts and principles of corrosion. Forms of corrosion. Corrosion recognition and prevention in engineering structures and devices. Corrosion characteristics of structural and engineering materials. Corrosion control. Corrosion testing and monitoring. Techniques for diagnosis of corrosion failures. Case studies.',\n",
       " 'A project-based course in which teams of students conceive, design and prototype a physical product. Topics include identifying customer needs, concept generation, product architecture, industrial design, and design-for-manufacturing.',\n",
       " 'Constituent materials. Industrial material forms. Manufacturing processes. Design for manufacture. Micromechanics of fibre-reinforced materials. Classic lamination theory. Introduction to failure. Design and analysis of laminated structures. Case studies.',\n",
       " 'Discussion of recent progress in mechanical engineering.',\n",
       " 'Discussion of recent progress in mechanical engineering.',\n",
       " 'A student in the fourth year of Mechanical Engineering may elect to prepare a written thesis on an approved research topic, to be completed in two semesters.']"
      ]
     },
     "execution_count": 39,
     "metadata": {},
     "output_type": "execute_result"
    }
   ],
   "source": [
    "course_descs"
   ]
  },
  {
   "cell_type": "code",
   "execution_count": 40,
   "metadata": {},
   "outputs": [
    {
     "data": {
      "text/html": [
       "<div>\n",
       "<style scoped>\n",
       "    .dataframe tbody tr th:only-of-type {\n",
       "        vertical-align: middle;\n",
       "    }\n",
       "\n",
       "    .dataframe tbody tr th {\n",
       "        vertical-align: top;\n",
       "    }\n",
       "\n",
       "    .dataframe thead th {\n",
       "        text-align: right;\n",
       "    }\n",
       "</style>\n",
       "<table border=\"1\" class=\"dataframe\">\n",
       "  <thead>\n",
       "    <tr style=\"text-align: right;\">\n",
       "      <th></th>\n",
       "      <th>Course Number</th>\n",
       "      <th>Course Name</th>\n",
       "      <th>Course Description</th>\n",
       "    </tr>\n",
       "  </thead>\n",
       "  <tbody>\n",
       "    <tr>\n",
       "      <th>0</th>\n",
       "      <td>CHM 1311</td>\n",
       "      <td>Principles of Chemistry</td>\n",
       "      <td>Chemical bonding, molecular geometry, chemical...</td>\n",
       "    </tr>\n",
       "    <tr>\n",
       "      <th>1</th>\n",
       "      <td>ENG 1112</td>\n",
       "      <td>Technical Report Writing</td>\n",
       "      <td>Practice in the writing of technical reports. ...</td>\n",
       "    </tr>\n",
       "    <tr>\n",
       "      <th>2</th>\n",
       "      <td>GNG 1103</td>\n",
       "      <td>Engineering Design</td>\n",
       "      <td>A hands-on, team-based introduction to enginee...</td>\n",
       "    </tr>\n",
       "    <tr>\n",
       "      <th>3</th>\n",
       "      <td>GNG 1105</td>\n",
       "      <td>Engineering Mechanics</td>\n",
       "      <td>Concepts of engineering mechanics. Statics of ...</td>\n",
       "    </tr>\n",
       "    <tr>\n",
       "      <th>4</th>\n",
       "      <td>GNG 1106</td>\n",
       "      <td>Fundamentals of Engineering Computation</td>\n",
       "      <td>Introduction to computer systems. Problem solv...</td>\n",
       "    </tr>\n",
       "    <tr>\n",
       "      <th>...</th>\n",
       "      <td>...</td>\n",
       "      <td>...</td>\n",
       "      <td>...</td>\n",
       "    </tr>\n",
       "    <tr>\n",
       "      <th>61</th>\n",
       "      <td>MCG 4143</td>\n",
       "      <td>Product Design and Development</td>\n",
       "      <td>A project-based course in which teams of stude...</td>\n",
       "    </tr>\n",
       "    <tr>\n",
       "      <th>62</th>\n",
       "      <td>MCG 4144</td>\n",
       "      <td>Introduction to Composite Materials</td>\n",
       "      <td>Constituent materials. Industrial material for...</td>\n",
       "    </tr>\n",
       "    <tr>\n",
       "      <th>63</th>\n",
       "      <td>MCG 4190</td>\n",
       "      <td>Selected Topics I</td>\n",
       "      <td>Discussion of recent progress in mechanical en...</td>\n",
       "    </tr>\n",
       "    <tr>\n",
       "      <th>64</th>\n",
       "      <td>MCG 4191</td>\n",
       "      <td>Selected Topics II</td>\n",
       "      <td>Discussion of recent progress in mechanical en...</td>\n",
       "    </tr>\n",
       "    <tr>\n",
       "      <th>65</th>\n",
       "      <td>MCG 4220</td>\n",
       "      <td>Thesis</td>\n",
       "      <td>A student in the fourth year of Mechanical Eng...</td>\n",
       "    </tr>\n",
       "  </tbody>\n",
       "</table>\n",
       "<p>66 rows × 3 columns</p>\n",
       "</div>"
      ],
      "text/plain": [
       "   Course Number                              Course Name  \\\n",
       "0       CHM 1311                  Principles of Chemistry   \n",
       "1       ENG 1112                 Technical Report Writing   \n",
       "2       GNG 1103                       Engineering Design   \n",
       "3       GNG 1105                    Engineering Mechanics   \n",
       "4       GNG 1106  Fundamentals of Engineering Computation   \n",
       "..           ...                                      ...   \n",
       "61      MCG 4143           Product Design and Development   \n",
       "62      MCG 4144      Introduction to Composite Materials   \n",
       "63      MCG 4190                        Selected Topics I   \n",
       "64      MCG 4191                       Selected Topics II   \n",
       "65      MCG 4220                                   Thesis   \n",
       "\n",
       "                                   Course Description  \n",
       "0   Chemical bonding, molecular geometry, chemical...  \n",
       "1   Practice in the writing of technical reports. ...  \n",
       "2   A hands-on, team-based introduction to enginee...  \n",
       "3   Concepts of engineering mechanics. Statics of ...  \n",
       "4   Introduction to computer systems. Problem solv...  \n",
       "..                                                ...  \n",
       "61  A project-based course in which teams of stude...  \n",
       "62  Constituent materials. Industrial material for...  \n",
       "63  Discussion of recent progress in mechanical en...  \n",
       "64  Discussion of recent progress in mechanical en...  \n",
       "65  A student in the fourth year of Mechanical Eng...  \n",
       "\n",
       "[66 rows x 3 columns]"
      ]
     },
     "execution_count": 40,
     "metadata": {},
     "output_type": "execute_result"
    }
   ],
   "source": [
    "import pandas as pd\n",
    "\n",
    "df = pd.DataFrame({\n",
    "    \"Course Number\": course_codes,\n",
    "    \"Course Name\": course_names,\n",
    "    \"Course Description\": course_descs    \n",
    "})\n",
    "\n",
    "df"
   ]
  },
  {
   "cell_type": "code",
   "execution_count": 41,
   "metadata": {},
   "outputs": [],
   "source": [
    "df.to_csv('UOttawa_MechEng_Core_and_Electives_(AllYears)_Courses.csv', index = False)"
   ]
  },
  {
   "cell_type": "code",
   "execution_count": 42,
   "metadata": {},
   "outputs": [],
   "source": [
    "driver.quit()"
   ]
  }
 ],
 "metadata": {
  "kernelspec": {
   "display_name": "Python 3",
   "language": "python",
   "name": "python3"
  },
  "language_info": {
   "codemirror_mode": {
    "name": "ipython",
    "version": 3
   },
   "file_extension": ".py",
   "mimetype": "text/x-python",
   "name": "python",
   "nbconvert_exporter": "python",
   "pygments_lexer": "ipython3",
   "version": "3.8.5"
  }
 },
 "nbformat": 4,
 "nbformat_minor": 4
}
