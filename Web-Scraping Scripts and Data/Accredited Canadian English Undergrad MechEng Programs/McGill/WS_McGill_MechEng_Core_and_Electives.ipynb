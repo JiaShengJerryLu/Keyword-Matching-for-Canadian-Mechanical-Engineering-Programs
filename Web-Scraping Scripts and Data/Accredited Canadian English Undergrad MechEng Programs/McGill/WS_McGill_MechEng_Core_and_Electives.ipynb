{
 "cells": [
  {
   "cell_type": "code",
   "execution_count": 1,
   "metadata": {},
   "outputs": [],
   "source": [
    "from bs4 import BeautifulSoup as soup\n",
    "from urllib.request import urlopen as uReq"
   ]
  },
  {
   "cell_type": "code",
   "execution_count": 2,
   "metadata": {},
   "outputs": [],
   "source": [
    "url = \"https://www.mcgill.ca/study/2020-2021/faculties/engineering/undergraduate/programs/bachelor-engineering-beng-mechanical-engineering\""
   ]
  },
  {
   "cell_type": "code",
   "execution_count": 3,
   "metadata": {},
   "outputs": [],
   "source": [
    "uClient = uReq(url)\n",
    "page_html = uClient.read()\n",
    "uClient.close()\n",
    "page_soup = soup(page_html, \"html.parser\")"
   ]
  },
  {
   "cell_type": "markdown",
   "metadata": {},
   "source": [
    "# 1. Obtain course titles"
   ]
  },
  {
   "cell_type": "code",
   "execution_count": 4,
   "metadata": {},
   "outputs": [
    {
     "data": {
      "text/plain": [
       "6"
      ]
     },
     "execution_count": 4,
     "metadata": {},
     "output_type": "execute_result"
    }
   ],
   "source": [
    "course_blocks = page_soup.findAll(\"ul\", {\"class\": \"program-set\"})\n",
    "len(course_blocks)"
   ]
  },
  {
   "cell_type": "code",
   "execution_count": 5,
   "metadata": {},
   "outputs": [
    {
     "data": {
      "text/plain": [
       "4"
      ]
     },
     "execution_count": 5,
     "metadata": {},
     "output_type": "execute_result"
    }
   ],
   "source": [
    "course_blocks_eng = course_blocks[:-2]\n",
    "len(course_blocks_eng)"
   ]
  },
  {
   "cell_type": "code",
   "execution_count": 6,
   "metadata": {},
   "outputs": [
    {
     "data": {
      "text/plain": [
       "63"
      ]
     },
     "execution_count": 6,
     "metadata": {},
     "output_type": "execute_result"
    }
   ],
   "source": [
    "#each container contains code, name, and desc for a course\n",
    "containers = [container for course_block in course_blocks_eng for container in course_block.findAll(\"li\", {\"class\": \"program-course\"})]\n",
    "len(containers)"
   ]
  },
  {
   "cell_type": "code",
   "execution_count": 15,
   "metadata": {},
   "outputs": [
    {
     "data": {
      "text/plain": [
       "63"
      ]
     },
     "execution_count": 15,
     "metadata": {},
     "output_type": "execute_result"
    }
   ],
   "source": [
    "import re\n",
    "course_titles = [re.split(\" \\([0-9]+ credit[s]*\\)\", container.a.text.strip())[0] for container in containers]\n",
    "len(course_titles)"
   ]
  },
  {
   "cell_type": "code",
   "execution_count": 16,
   "metadata": {
    "scrolled": true
   },
   "outputs": [
    {
     "data": {
      "text/plain": [
       "['CHEM 110 General Chemistry 1',\n",
       " 'CHEM 120 General Chemistry 2',\n",
       " 'MATH 133 Linear Algebra and Geometry',\n",
       " 'MATH 140 Calculus 1',\n",
       " 'MATH 141 Calculus 2',\n",
       " 'PHYS 131 Mechanics and Waves',\n",
       " 'PHYS 142 Electromagnetism and Optics',\n",
       " 'CCOM 206 Communication in Engineering',\n",
       " 'CIVE 207 Solid Mechanics',\n",
       " 'COMP 208 Computer Programming for Physical Sciences and\\r Engineering\\r',\n",
       " 'ECSE 461 Electric Machinery',\n",
       " 'FACC 100 Introduction to the Engineering Profession',\n",
       " 'FACC 250 Responsibilities of the Professional Engineer',\n",
       " 'FACC 300 Engineering Economy',\n",
       " 'FACC 400 Engineering Professional Practice',\n",
       " 'MATH 262 Intermediate Calculus',\n",
       " 'MATH 263 Ordinary Differential Equations for Engineers',\n",
       " 'MATH 264 Advanced Calculus for Engineers',\n",
       " 'MATH 271 Linear Algebra and Partial Differential Equations',\n",
       " 'MIME 260 Materials Science and Engineering',\n",
       " 'MECH 201 Introduction to Mechanical Engineering',\n",
       " 'MECH 210 Mechanics 1',\n",
       " 'MECH 220 Mechanics 2',\n",
       " 'MECH 240 Thermodynamics 1',\n",
       " 'MECH 262 Statistics and Measurement Laboratory',\n",
       " 'MECH 290 Design Graphics for Mechanical Engineering',\n",
       " 'MECH 292 Design 1: Conceptual Design',\n",
       " 'MECH 309 Numerical Methods in Mechanical Engineering',\n",
       " 'MECH 314 Dynamics of Mechanisms',\n",
       " 'MECH 315 Mechanics 3',\n",
       " 'MECH 321 Mechanics of Deformable Solids',\n",
       " 'MECH 331 Fluid Mechanics 1',\n",
       " 'MECH 341 Thermodynamics 2',\n",
       " 'MECH 346 Heat Transfer',\n",
       " 'MECH 360 Principles of Manufacturing',\n",
       " 'MECH 362 Mechanical Laboratory 1',\n",
       " 'MECH 383 Applied Electronics and Instrumentation',\n",
       " 'MECH 393 Design 2: Machine Element Design',\n",
       " 'MECH 412 System Dynamics and Control',\n",
       " 'MECH 430 Fluid Mechanics 2',\n",
       " 'MECH 463D1 Design 3: Mechanical Engineering Project',\n",
       " 'MECH 463D2 Design 3: Mechanical Engineering Project',\n",
       " 'CHEE 563 Biofluids and Cardiovascular Mechanics',\n",
       " 'MECH 497 Value Engineering',\n",
       " 'MECH 498 Interdisciplinary Design Project 1',\n",
       " 'MECH 499 Interdisciplinary Design Project 2',\n",
       " 'MECH 513 Control Systems',\n",
       " 'MECH 529 Discrete Manufacturing Systems',\n",
       " 'MECH 530 Mechanics of Composite Materials',\n",
       " 'MECH 532 Aircraft Performance, Stability and Control',\n",
       " 'MECH 535 Turbomachinery and Propulsion',\n",
       " 'MECH 536 Aerospace\\r Structures',\n",
       " 'MECH 541 Kinematic Synthesis',\n",
       " 'MECH 543 Design with Composite Materials',\n",
       " 'MECH 544 Processing of Composite Materials',\n",
       " 'MECH 553 Design and Manufacture of Microdevices',\n",
       " 'MECH 557 Mechatronic Design',\n",
       " 'MECH 559 Engineering Systems Optimization',\n",
       " 'MECH 560 Eco-design and Product Life Cycle Assessment\\r',\n",
       " 'MECH 563 Biofluids and Cardiovascular Mechanics',\n",
       " 'MECH 565 Fluid Flow and Heat Transfer Equipment',\n",
       " 'MECH 573 Mechanics of Robotic Systems',\n",
       " 'MECH 577 Optimum Design']"
      ]
     },
     "execution_count": 16,
     "metadata": {},
     "output_type": "execute_result"
    }
   ],
   "source": [
    "course_titles"
   ]
  },
  {
   "cell_type": "code",
   "execution_count": 17,
   "metadata": {
    "scrolled": true
   },
   "outputs": [
    {
     "data": {
      "text/plain": [
       "['CHEM 110 General Chemistry 1',\n",
       " 'CHEM 120 General Chemistry 2',\n",
       " 'MATH 133 Linear Algebra and Geometry',\n",
       " 'MATH 140 Calculus 1',\n",
       " 'MATH 141 Calculus 2',\n",
       " 'PHYS 131 Mechanics and Waves',\n",
       " 'PHYS 142 Electromagnetism and Optics',\n",
       " 'CCOM 206 Communication in Engineering',\n",
       " 'CIVE 207 Solid Mechanics',\n",
       " 'COMP 208 Computer Programming for Physical Sciences and Engineering',\n",
       " 'ECSE 461 Electric Machinery',\n",
       " 'FACC 100 Introduction to the Engineering Profession',\n",
       " 'FACC 250 Responsibilities of the Professional Engineer',\n",
       " 'FACC 300 Engineering Economy',\n",
       " 'FACC 400 Engineering Professional Practice',\n",
       " 'MATH 262 Intermediate Calculus',\n",
       " 'MATH 263 Ordinary Differential Equations for Engineers',\n",
       " 'MATH 264 Advanced Calculus for Engineers',\n",
       " 'MATH 271 Linear Algebra and Partial Differential Equations',\n",
       " 'MIME 260 Materials Science and Engineering',\n",
       " 'MECH 201 Introduction to Mechanical Engineering',\n",
       " 'MECH 210 Mechanics 1',\n",
       " 'MECH 220 Mechanics 2',\n",
       " 'MECH 240 Thermodynamics 1',\n",
       " 'MECH 262 Statistics and Measurement Laboratory',\n",
       " 'MECH 290 Design Graphics for Mechanical Engineering',\n",
       " 'MECH 292 Design 1: Conceptual Design',\n",
       " 'MECH 309 Numerical Methods in Mechanical Engineering',\n",
       " 'MECH 314 Dynamics of Mechanisms',\n",
       " 'MECH 315 Mechanics 3',\n",
       " 'MECH 321 Mechanics of Deformable Solids',\n",
       " 'MECH 331 Fluid Mechanics 1',\n",
       " 'MECH 341 Thermodynamics 2',\n",
       " 'MECH 346 Heat Transfer',\n",
       " 'MECH 360 Principles of Manufacturing',\n",
       " 'MECH 362 Mechanical Laboratory 1',\n",
       " 'MECH 383 Applied Electronics and Instrumentation',\n",
       " 'MECH 393 Design 2: Machine Element Design',\n",
       " 'MECH 412 System Dynamics and Control',\n",
       " 'MECH 430 Fluid Mechanics 2',\n",
       " 'MECH 463D1 Design 3: Mechanical Engineering Project',\n",
       " 'MECH 463D2 Design 3: Mechanical Engineering Project',\n",
       " 'CHEE 563 Biofluids and Cardiovascular Mechanics',\n",
       " 'MECH 497 Value Engineering',\n",
       " 'MECH 498 Interdisciplinary Design Project 1',\n",
       " 'MECH 499 Interdisciplinary Design Project 2',\n",
       " 'MECH 513 Control Systems',\n",
       " 'MECH 529 Discrete Manufacturing Systems',\n",
       " 'MECH 530 Mechanics of Composite Materials',\n",
       " 'MECH 532 Aircraft Performance, Stability and Control',\n",
       " 'MECH 535 Turbomachinery and Propulsion',\n",
       " 'MECH 536 Aerospace Structures',\n",
       " 'MECH 541 Kinematic Synthesis',\n",
       " 'MECH 543 Design with Composite Materials',\n",
       " 'MECH 544 Processing of Composite Materials',\n",
       " 'MECH 553 Design and Manufacture of Microdevices',\n",
       " 'MECH 557 Mechatronic Design',\n",
       " 'MECH 559 Engineering Systems Optimization',\n",
       " 'MECH 560 Eco-design and Product Life Cycle Assessment',\n",
       " 'MECH 563 Biofluids and Cardiovascular Mechanics',\n",
       " 'MECH 565 Fluid Flow and Heat Transfer Equipment',\n",
       " 'MECH 573 Mechanics of Robotic Systems',\n",
       " 'MECH 577 Optimum Design']"
      ]
     },
     "execution_count": 17,
     "metadata": {},
     "output_type": "execute_result"
    }
   ],
   "source": [
    "course_titles = [title.replace(\"\\r\", \"\") for title in course_titles]\n",
    "course_titles"
   ]
  },
  {
   "cell_type": "markdown",
   "metadata": {},
   "source": [
    "# 2. Obtain course codes and course names from course titles"
   ]
  },
  {
   "cell_type": "code",
   "execution_count": 21,
   "metadata": {
    "scrolled": true
   },
   "outputs": [
    {
     "data": {
      "text/plain": [
       "['CHEM 110',\n",
       " 'CHEM 120',\n",
       " 'MATH 133',\n",
       " 'MATH 140',\n",
       " 'MATH 141',\n",
       " 'PHYS 131',\n",
       " 'PHYS 142',\n",
       " 'CCOM 206',\n",
       " 'CIVE 207',\n",
       " 'COMP 208',\n",
       " 'ECSE 461',\n",
       " 'FACC 100',\n",
       " 'FACC 250',\n",
       " 'FACC 300',\n",
       " 'FACC 400',\n",
       " 'MATH 262',\n",
       " 'MATH 263',\n",
       " 'MATH 264',\n",
       " 'MATH 271',\n",
       " 'MIME 260',\n",
       " 'MECH 201',\n",
       " 'MECH 210',\n",
       " 'MECH 220',\n",
       " 'MECH 240',\n",
       " 'MECH 262',\n",
       " 'MECH 290',\n",
       " 'MECH 292',\n",
       " 'MECH 309',\n",
       " 'MECH 314',\n",
       " 'MECH 315',\n",
       " 'MECH 321',\n",
       " 'MECH 331',\n",
       " 'MECH 341',\n",
       " 'MECH 346',\n",
       " 'MECH 360',\n",
       " 'MECH 362',\n",
       " 'MECH 383',\n",
       " 'MECH 393',\n",
       " 'MECH 412',\n",
       " 'MECH 430',\n",
       " 'MECH 463D1',\n",
       " 'MECH 463D2',\n",
       " 'CHEE 563',\n",
       " 'MECH 497',\n",
       " 'MECH 498',\n",
       " 'MECH 499',\n",
       " 'MECH 513',\n",
       " 'MECH 529',\n",
       " 'MECH 530',\n",
       " 'MECH 532',\n",
       " 'MECH 535',\n",
       " 'MECH 536',\n",
       " 'MECH 541',\n",
       " 'MECH 543',\n",
       " 'MECH 544',\n",
       " 'MECH 553',\n",
       " 'MECH 557',\n",
       " 'MECH 559',\n",
       " 'MECH 560',\n",
       " 'MECH 563',\n",
       " 'MECH 565',\n",
       " 'MECH 573',\n",
       " 'MECH 577']"
      ]
     },
     "execution_count": 21,
     "metadata": {},
     "output_type": "execute_result"
    }
   ],
   "source": [
    "course_codes = [\" \".join(title.split()[:2]) for title in course_titles]\n",
    "course_codes"
   ]
  },
  {
   "cell_type": "code",
   "execution_count": 22,
   "metadata": {
    "scrolled": true
   },
   "outputs": [
    {
     "data": {
      "text/plain": [
       "['General Chemistry 1',\n",
       " 'General Chemistry 2',\n",
       " 'Linear Algebra and Geometry',\n",
       " 'Calculus 1',\n",
       " 'Calculus 2',\n",
       " 'Mechanics and Waves',\n",
       " 'Electromagnetism and Optics',\n",
       " 'Communication in Engineering',\n",
       " 'Solid Mechanics',\n",
       " 'Computer Programming for Physical Sciences and Engineering',\n",
       " 'Electric Machinery',\n",
       " 'Introduction to the Engineering Profession',\n",
       " 'Responsibilities of the Professional Engineer',\n",
       " 'Engineering Economy',\n",
       " 'Engineering Professional Practice',\n",
       " 'Intermediate Calculus',\n",
       " 'Ordinary Differential Equations for Engineers',\n",
       " 'Advanced Calculus for Engineers',\n",
       " 'Linear Algebra and Partial Differential Equations',\n",
       " 'Materials Science and Engineering',\n",
       " 'Introduction to Mechanical Engineering',\n",
       " 'Mechanics 1',\n",
       " 'Mechanics 2',\n",
       " 'Thermodynamics 1',\n",
       " 'Statistics and Measurement Laboratory',\n",
       " 'Design Graphics for Mechanical Engineering',\n",
       " 'Design 1: Conceptual Design',\n",
       " 'Numerical Methods in Mechanical Engineering',\n",
       " 'Dynamics of Mechanisms',\n",
       " 'Mechanics 3',\n",
       " 'Mechanics of Deformable Solids',\n",
       " 'Fluid Mechanics 1',\n",
       " 'Thermodynamics 2',\n",
       " 'Heat Transfer',\n",
       " 'Principles of Manufacturing',\n",
       " 'Mechanical Laboratory 1',\n",
       " 'Applied Electronics and Instrumentation',\n",
       " 'Design 2: Machine Element Design',\n",
       " 'System Dynamics and Control',\n",
       " 'Fluid Mechanics 2',\n",
       " 'Design 3: Mechanical Engineering Project',\n",
       " 'Design 3: Mechanical Engineering Project',\n",
       " 'Biofluids and Cardiovascular Mechanics',\n",
       " 'Value Engineering',\n",
       " 'Interdisciplinary Design Project 1',\n",
       " 'Interdisciplinary Design Project 2',\n",
       " 'Control Systems',\n",
       " 'Discrete Manufacturing Systems',\n",
       " 'Mechanics of Composite Materials',\n",
       " 'Aircraft Performance, Stability and Control',\n",
       " 'Turbomachinery and Propulsion',\n",
       " 'Aerospace Structures',\n",
       " 'Kinematic Synthesis',\n",
       " 'Design with Composite Materials',\n",
       " 'Processing of Composite Materials',\n",
       " 'Design and Manufacture of Microdevices',\n",
       " 'Mechatronic Design',\n",
       " 'Engineering Systems Optimization',\n",
       " 'Eco-design and Product Life Cycle Assessment',\n",
       " 'Biofluids and Cardiovascular Mechanics',\n",
       " 'Fluid Flow and Heat Transfer Equipment',\n",
       " 'Mechanics of Robotic Systems',\n",
       " 'Optimum Design']"
      ]
     },
     "execution_count": 22,
     "metadata": {},
     "output_type": "execute_result"
    }
   ],
   "source": [
    "course_names = [\" \".join(title.split()[2:]) for title in course_titles]\n",
    "course_names"
   ]
  },
  {
   "cell_type": "markdown",
   "metadata": {},
   "source": [
    "# 3. Obtain course descriptions"
   ]
  },
  {
   "cell_type": "code",
   "execution_count": 18,
   "metadata": {},
   "outputs": [
    {
     "data": {
      "text/plain": [
       "63"
      ]
     },
     "execution_count": 18,
     "metadata": {},
     "output_type": "execute_result"
    }
   ],
   "source": [
    "course_descs = [container.find(\"div\", {\"class\": \"content\"}).p.text.strip() for container in containers]\n",
    "len(course_descs)"
   ]
  },
  {
   "cell_type": "code",
   "execution_count": 19,
   "metadata": {},
   "outputs": [
    {
     "data": {
      "text/plain": [
       "['Chemistry : A study of the fundamental principles of atomic structure, radiation and nuclear chemistry, valence theory, coordination chemistry, and the periodic table.',\n",
       " 'Chemistry : A study of the fundamental principles of physical chemistry.',\n",
       " 'Mathematics & Statistics (Sci) : Systems of linear equations, matrices, inverses, determinants; geometric vectors in three dimensions, dot product, cross product, lines and planes; introduction to vector spaces, linear dependence and independence, bases. Linear transformations. Eigenvalues and diagonalization.',\n",
       " 'Mathematics & Statistics (Sci) : Review of functions and graphs. Limits, continuity, derivative. Differentiation of elementary functions. Antidifferentiation. Applications.',\n",
       " 'Mathematics & Statistics (Sci) : The definite integral. Techniques of integration. Applications. Introduction to sequences and series.',\n",
       " 'Physics : The basic laws and principles of Newtonian mechanics; oscillations, waves, and wave optics.',\n",
       " 'Physics : The basic laws of electricity and magnetism; geometrical optics.',\n",
       " 'Communication (CCE) : Written and oral communication in Engineering (in English): strategies for generating, developing, organizing, and presenting ideas in a technical setting; problem-solving; communicating to different audiences; editing and revising; and public speaking. Course work based on academic, technical, and professional writing in engineering.',\n",
       " \"Civil Engineering : Stress-strain relationships; elastic and inelastic behaviour; performance criteria. Elementary and compound stress states, Mohr's circle. Shear strains, torsion. Bending and shear stresses in flexural members. Deflections of beams. Statically indeterminate systems under flexural and axial loads. Columns. Dynamic loading.\",\n",
       " 'Computer Science (Sci) : Programming and problem solving in a high level computer language: variables, expressions, types, functions, conditionals, loops, objects and classes. Introduction to algorithms such as searching and sorting. Modular software design, libraries, file input and output, debugging. Emphasis on applications in Physical Sciences\\nand Engineering, such as root finding, numerical integration, diffusion, Monte Carlo methods.',\n",
       " 'Electrical Engineering : Electric and magnetic circuits. Notions of electromechanical energy conversion applied to electrical machines. Basic electrical machines - transformers, direct-current motors, synchronous motors and generators, three phase and single phase induction machines. Elements of modern electronically controlled electric drive systems.',\n",
       " \"Faculty Course : Introduction to engineering practice; rights and code of conduct for students; professional conduct and ethics; engineer's duty to society and the environment; sustainable development; occupational health and safety; overview of the engineering disciplines taught at McGill.\",\n",
       " 'Faculty Course : A course designed to provide all Engineering students with further training regarding their responsibilities as future Professional Engineers. Particular focus will be placed on three professional characteristics that future engineers must demonstrate: i) professionalism, ii) ethical and equitable behaviour, and iii) consideration of the impact of engineering on society and the environment.',\n",
       " 'Faculty Course : Introduction to the basic concepts required for the economic assessment of engineering projects. Topics include: accounting methods, marginal analysis, cash flow and time value of money, taxation and depreciation, discounted cash flow analysis techniques, cost of capital, inflation, sensitivity and risk analysis, analysis of R and D, ongoing as well as new investment opportunities.',\n",
       " 'Faculty Course : Laws, regulations and codes governing engineering professional practice. Responsibility and liability. Environmental legislation. Project and organization management. Relations between engineer and client. Technical practice - analysis, design, execution and operation.',\n",
       " \"Mathematics & Statistics (Sci) : Series and power series, including Taylor's theorem. Brief review of vector geometry. Vector functions and curves. Partial differentiation and differential calculus for vector valued functions. Unconstrained and constrained extremal problems. Multiple integrals including surface area and change of variables.\",\n",
       " 'Mathematics & Statistics (Sci) : First order ODEs. Second and higher order linear ODEs. Series solutions at ordinary and regular singular points. Laplace transforms. Linear systems of differential equations with a short review of linear algebra.',\n",
       " 'Mathematics & Statistics (Sci) : Review of multiple integrals. Differential and integral calculus of vector fields including the theorems of Gauss, Green, and Stokes. Introduction to partial differential equations, separation of variables, Sturm-Liouville problems, and Fourier series.',\n",
       " 'Mathematics & Statistics (Sci) : Applied Linear Algebra. Linear Systems of Ordinary Differential Equations. Power Series Solutions. Partial Differential Equations. Sturm-Liouville Theory and Applications. Fourier Transforms.',\n",
       " 'Mining & Materials Engineering : Structure properties and fabrication of metals, polymers, ceramics, composites; engineering properties: tensile, fracture, creep, oxidation, corrosion, friction, wear; fabrication and joining methods; principles of materials selection.',\n",
       " 'Mechanical Engineering : The practice of Mechanical Engineering: its scope and context. The role of Design. Introduction to the Design process. The role of engineering analysis and socio-economic factors in Design. Introduction to the individual mechanical engineering subjects and their role in Design. Case studies.',\n",
       " 'Mechanical Engineering : Static equilibrium of particles and rigid bodies. Beams, trusses, frames and machines. Concept of work and energy. Static equilibrium and stability.',\n",
       " 'Mechanical Engineering : Kinematics of particles and rigid bodies. Particle dynamics: force-momentum and work-energy approaches. Kinematics and kinetics of rigid bodies.',\n",
       " 'Mechanical Engineering : Thermodynamic systems and properties. First law of thermodynamics: energy, work and heat. State principle, p-v-T surfaces, phase equilibrium, ideal gas model. Second law of thermodynamics, entropy, exergy analysis. Energy analysis applied to steady and transient engineering systems including heat engines, refrigerators and heat pumps, air compressors.',\n",
       " 'Mechanical Engineering : Introduction to probability: conditional probability, binomial and Poisson distributions, random variables, laws of large numbers. Statistical analysis associated with measurements; regression and correlation. Basic experimental laboratory techniques, including the measurement of strain, pressure, force, position, and temperature.',\n",
       " 'Mechanical Engineering : The design process, including free-hand sketching; from geometry construction to manufacturing drawings; the technology and standards of engineering graphic communication; designing with CAD software. The role of visualization in the production of mechanical engineering designs.',\n",
       " 'Mechanical Engineering : Introduction to design. Problem formulation, idea generation, feasibility study, preliminary design, design, analysis, design evaluation, project management, and optimal design.',\n",
       " 'Mechanical Engineering : Numerical techniques for problems commonly encountered in Mechanical Engineering are presented. Chebyshev interpolation, quadrature, roots of equations in one or more variables, matrices, curve fitting, splines and ordinary differential equations. The emphasis is on the analysis and understanding of the problem rather than the details of the actual numerical program.',\n",
       " 'Mechanical Engineering : First principles of analysis; motion; position; displacement; velocity; acceleration; force; inertia and its effects. Kinematic and dynamic analysis of rigid bodies in pure rotation and in pin-connected systems; dynamic balance. Rigid bodies in rolling contact; planetary gear-trains. Bodies in sliding contact; lower and higher sliding pairs.',\n",
       " \"Mechanical Engineering : Single-degree-of-freedom systems; free vibrations; effect of damping; response to harmonic, periodic and arbitrary excitation. Lagrange's equations of motion. Vibrations of multi-degree-of-freedom systems. Continuous systems.\",\n",
       " 'Mechanical Engineering : Modern phenomenological theories of the behaviour of engineering materials. Stress and strain concepts and introduction to constitutive theory. Applications of theory of elasticity and thermoelasticity. Introduction to finite element stress analysis methods.',\n",
       " 'Mechanical Engineering : Physical properties of fluids. Kinematics and dynamics of fluid flow: stress in a continuum, rates of strain, rotation. Control volume analysis; conservation of mass, linear momentum and energy; Euler and Bernoulli equations; Flow measurement. Dimensional analysis and dynamical similarity. Laminar and turbulent flow in pipes and boundary layers.',\n",
       " 'Mechanical Engineering : Generalized thermodynamics relations. Real gas effects, gas tables, dense gas equations of state and generalized compressibility, enthalpy, and entropy charts. Vapour and gas power cycles (coal/nuclear power plants). Refrigerators and heat pumps. Psychrometry and air conditioning processes. Thermodynamics of reactive gas mixtures.',\n",
       " 'Mechanical Engineering : Basic concepts and overview. Steady and unsteady heat conduction. Fin Theory. Convective heat transfer: governing equations; dimensionless parameters; analogy between momentum and heat transfer. Design correlations for forced, natural, and mixed convection. Heat exchangers. Radiative heat transfer: black- and gray-body radiation; shape factors; enclosure theory. Thermal engineering design project.',\n",
       " 'Mechanical Engineering : Theory and practice of modern manufacturing processes: machining, forming, and casting. Producing parts using computer assisted tools from CAD to CNC machining followed by measurement of part quality. Hands-on machining of parts.',\n",
       " 'Mechanical Engineering : Experiments will be performed in four areas: MECH 240 Thermodynamics, MECH 315 Vibrations, MECH 331 Fluid Mechanics 1, and MECH 346 Heat Transfer. Students should sign up to do experiments in one or more areas the term following the completion of one or more of the above courses. Students will not formally register for this course until the term in which they will complete all of the experiments.',\n",
       " 'Mechanical Engineering : Discrete and integrated components, both analogue and digital. Characteristics of passive elements. Semiconductors, amplifiers, filters, oscillators, modulators, power supplies and nonlinear devices. Introduction to digital electronics. Transducer/signal conditioner interfacing considerations.',\n",
       " 'Mechanical Engineering : The design of machine elements for strength requirements in consideration of various methods of manufacture. Synthesis of mechanical systems to fulfill performance requirements, following the engineering design process. Static and fatigue failure prevention. Students form groups to work on a design project.',\n",
       " 'Mechanical Engineering : Modelling of physical linear time-invariant systems using transfer functions. Transient and steady-state response specifications. State space representation of systems. Frequency-response characterization. Stability. Feedback control systems. PID controller design. Root locus and frequency response design methods. Lead, lag and PID compensators.',\n",
       " 'Mechanical Engineering : Review of thermodynamics of gases, one dimensional isentropic flow and choking. Nozzles and wind tunnels. Normal shock waves. Flow in constant area ducts with friction and heat exchange. Compressible irrotational flow. Oblique shock waves and Prandtl-Meyer expansion. Supersonic aerofoil and wing theory.',\n",
       " 'Mechanical Engineering : Team project work typically involving the design, fabrication, verification, and application of a mechanical device/system, or experimental facility. The project work is complemented with lectures in the Fall term on topics related to design and management of design projects. Emphasis is on the completion of a project of professional quality.',\n",
       " 'Mechanical Engineering : See MECH 463D1 for course description.',\n",
       " 'Chemical Engineering : Basic principles of circulation including vascular fluid and solid mechanics, modelling techniques, clinical and experimental methods and the design of cardiovascular devices.',\n",
       " 'Mechanical Engineering : Value Engineering is an in-depth analysis of an industrial product or process with a view to improving its design and/or performance to increase its worth. This is a workshop type of course. Projects will be supplied by industrial firms and students will work in teams with industrial personnel.',\n",
       " 'Mechanical Engineering : Completion of an individual project on an interdisciplinary theme with emphasis on a balanced combination on analysis and synthesis.',\n",
       " 'Mechanical Engineering : The individual project initiated in MECH 498 is continued and finalized in this course.',\n",
       " 'Mechanical Engineering : State-space modelling and related linear algebra.  Controllability and observability of linear time-invariant systems and corresponding tests, system realizations. Stability: Bounded-Input-Bounded-Output (BIBO), internal, Lyapunov.  Linear state feedback control: pole placement and root locus design methods, linear quadratic regulator.  State observers: full- and reduced-order designs, separation principle, Linear Quadratic Gaussian (LQG) design. Introduction to optimal control and optimal state estimation.',\n",
       " 'Mechanical Engineering : An overview of present day production machines and systems with special emphasis on automation, computer control and integration techniques. Material handling, automatic inspection, process monitoring, maintenance. Socio-economic and environmental issues. Laboratory experience with factory simulation.',\n",
       " 'Mechanical Engineering : Fiber-reinforced composites. Stress, strain, and strength of composite laminates and honeycomb structures. Failure modes and failure criteria. Environmental effects. Manufacturing processes. Design of composite structures. Computer modelling of composites. Computer techniques are utilized throughout the course.',\n",
       " 'Mechanical Engineering : Aircraft performance criteria such as range, endurance, rate of climb, maximum ceiling for steady and accelerated flight. Landing and take-off distances. Static and dynamic stability in the longitudinal (stick-fixed and stick-free) and coupled lateral and directional modes. Control response for all three modes.',\n",
       " 'Mechanical Engineering : Introduction to propulsion: turboprops, turbofans and turbojets. Review of thermodynamic cycles. Euler turbine equation. Velocity triangles. Axial-flow compressors and pumps. Centrifugal compressors and pumps. Axial-flow turbines. Loss mechanisms. Dimensional analysis of turbomachines. Performance maps. 3-D effects. Introduction to numerical methods in turbomachines. Prediction of performance of gas turbines.',\n",
       " 'Mechanical Engineering : Aircraft and spacecraft structural components and loads. Bending, shear, torsion and buckling of thin-walled open and closed sections. Structural idealization. Principle of stiffener / web construction. Trusses and isogrid structures. Wing spars and box beams. Fuselage frames and wing ribs. Analysis of riveted, bolted and\\nadhesive joints. Sandwich structures analysis. Thermoelasticity analysis for spacecraft structures.',\n",
       " 'Mechanical Engineering : The role of kinematic synthesis within the design process. Degree of freedom. Kinematic pairs and bonds. Groups and subgroups of displacements. Applications to the qualitative synthesis of parallel-kinematics machines with three and four degrees of freedom. Function, motion and path generation problems in planar, spherical and spatial four-bar linkages. Extensions to six-bar linkages. Cam mechanisms.',\n",
       " 'Mechanical Engineering : Material systems/selection process. Cost vs. performance. Laminate layup procedures. Theory and application of filament winding of composite cylinders. Regular oven and autoclave oven curing, analysis of resulting material performance. Practical design considerations and tooling. Analysis of environmental considerations. Joining techniques. Analysis of test methods. Theory of repair techniques.',\n",
       " 'Mechanical Engineering : Composite processing science basic principles. Reinforcement properties; permeability, compaction. Resin properties; curing, viscosity, shrinkage. Heat transfer and cure kinetics; cure cycle optimization. Resin flow; infusion, thickness variations, fiber volume fraction distribution. Residual stresses; tool-part interaction, warpage control, spring-back, tool design. Thermoplastic composites; crystallization control, melting and consolidation.',\n",
       " 'Mechanical Engineering : Introduction to microelectromechanical systems (MEMS). Micromachining techniques (thin-film deposition; lithography; etching; bonding). Microscale mechanical behaviour (deformation and fracture; residual stresses; adhesion; experimental techniques). Materials- and process-selection. Process integration. Design of microdevice components to meet specified performance and reliability targets using realistic manufacturing processes.',\n",
       " 'Mechanical Engineering : Team project course on the design, modelling, model validation, and control of complete mechatronic systems, constructed with modern sensors, actuators, real-time operating systems, embedded controllers, and intelligent control.',\n",
       " 'Mechanical Engineering : Introduction to systems-oriented engineering design optimization. Emphasis on i) understanding and representing engineering systems and their structure, ii) obtaining, developing, and managing adequate computational (physics- and data-based) models for their analysis, iii) constructing appropriate design models for their synthesis, and iv) applying suitable algorithms for their numerical optimization while accounting for systems integration issues. Advanced topics such as coordination of distributed problems and non-deterministic design optimization methods.',\n",
       " 'Mechanical Engineering : Fundamentals of both product and process engineering with an emphasis on life cycle models and sustainability. Practical and theoretical topics, methodologies,\\nprinciples, and techniques. Practical methods such as Life Cycle Analysis, eco-design strategies, streamlined Life Cycle Assessment, environmental impact\\nassessment, and Life Cycle Engineering. Introduction to important product development theories and life cycle assessment theories.',\n",
       " 'Mechanical Engineering : Basic principles of circulation including vascular fluid and solid mechanics, modelling techniques, clinical and experimental methods and the design of cardiovascular devices.',\n",
       " 'Mechanical Engineering : Pipes and piping systems, pumps, and valves. Fans and building air distribution systems. Basic thermal design methods for fins and heat exchangers. Thermal design of shell-and-tube and compact heat exchangers.',\n",
       " 'Mechanical Engineering : Manipulator performance and design. Pick-and-place and continuous-path operations. Computation of rigid-body angular velocity and acceleration from point-data measurements. Inverse kinematics of serial manipulators with coupled architectures; kinetostatics of multifingered hands and walking machines. Kinematics and dynamics of parallel manipulators and wheeled mobile robots.',\n",
       " 'Mechanical Engineering : The role of optimization within the design process: Design methodology and philosophy. Constrained optimization: The Kuhn-Tucker conditions. Techniques of linear and non-linear programming. The simplex and the complex methods. Sensitivity of the design to manufacturing errors. Robustness of the design to manufacturing and operation errors.']"
      ]
     },
     "execution_count": 19,
     "metadata": {},
     "output_type": "execute_result"
    }
   ],
   "source": [
    "course_descs"
   ]
  },
  {
   "cell_type": "markdown",
   "metadata": {},
   "source": [
    "# 4. Write to CSV"
   ]
  },
  {
   "cell_type": "code",
   "execution_count": 23,
   "metadata": {},
   "outputs": [
    {
     "data": {
      "text/html": [
       "<div>\n",
       "<style scoped>\n",
       "    .dataframe tbody tr th:only-of-type {\n",
       "        vertical-align: middle;\n",
       "    }\n",
       "\n",
       "    .dataframe tbody tr th {\n",
       "        vertical-align: top;\n",
       "    }\n",
       "\n",
       "    .dataframe thead th {\n",
       "        text-align: right;\n",
       "    }\n",
       "</style>\n",
       "<table border=\"1\" class=\"dataframe\">\n",
       "  <thead>\n",
       "    <tr style=\"text-align: right;\">\n",
       "      <th></th>\n",
       "      <th>Course Number</th>\n",
       "      <th>Course Name</th>\n",
       "      <th>Course Description</th>\n",
       "    </tr>\n",
       "  </thead>\n",
       "  <tbody>\n",
       "    <tr>\n",
       "      <th>0</th>\n",
       "      <td>CHEM 110</td>\n",
       "      <td>General Chemistry 1</td>\n",
       "      <td>Chemistry : A study of the fundamental princip...</td>\n",
       "    </tr>\n",
       "    <tr>\n",
       "      <th>1</th>\n",
       "      <td>CHEM 120</td>\n",
       "      <td>General Chemistry 2</td>\n",
       "      <td>Chemistry : A study of the fundamental princip...</td>\n",
       "    </tr>\n",
       "    <tr>\n",
       "      <th>2</th>\n",
       "      <td>MATH 133</td>\n",
       "      <td>Linear Algebra and Geometry</td>\n",
       "      <td>Mathematics &amp; Statistics (Sci) : Systems of li...</td>\n",
       "    </tr>\n",
       "    <tr>\n",
       "      <th>3</th>\n",
       "      <td>MATH 140</td>\n",
       "      <td>Calculus 1</td>\n",
       "      <td>Mathematics &amp; Statistics (Sci) : Review of fun...</td>\n",
       "    </tr>\n",
       "    <tr>\n",
       "      <th>4</th>\n",
       "      <td>MATH 141</td>\n",
       "      <td>Calculus 2</td>\n",
       "      <td>Mathematics &amp; Statistics (Sci) : The definite ...</td>\n",
       "    </tr>\n",
       "    <tr>\n",
       "      <th>...</th>\n",
       "      <td>...</td>\n",
       "      <td>...</td>\n",
       "      <td>...</td>\n",
       "    </tr>\n",
       "    <tr>\n",
       "      <th>58</th>\n",
       "      <td>MECH 560</td>\n",
       "      <td>Eco-design and Product Life Cycle Assessment</td>\n",
       "      <td>Mechanical Engineering : Fundamentals of both ...</td>\n",
       "    </tr>\n",
       "    <tr>\n",
       "      <th>59</th>\n",
       "      <td>MECH 563</td>\n",
       "      <td>Biofluids and Cardiovascular Mechanics</td>\n",
       "      <td>Mechanical Engineering : Basic principles of c...</td>\n",
       "    </tr>\n",
       "    <tr>\n",
       "      <th>60</th>\n",
       "      <td>MECH 565</td>\n",
       "      <td>Fluid Flow and Heat Transfer Equipment</td>\n",
       "      <td>Mechanical Engineering : Pipes and piping syst...</td>\n",
       "    </tr>\n",
       "    <tr>\n",
       "      <th>61</th>\n",
       "      <td>MECH 573</td>\n",
       "      <td>Mechanics of Robotic Systems</td>\n",
       "      <td>Mechanical Engineering : Manipulator performan...</td>\n",
       "    </tr>\n",
       "    <tr>\n",
       "      <th>62</th>\n",
       "      <td>MECH 577</td>\n",
       "      <td>Optimum Design</td>\n",
       "      <td>Mechanical Engineering : The role of optimizat...</td>\n",
       "    </tr>\n",
       "  </tbody>\n",
       "</table>\n",
       "<p>63 rows × 3 columns</p>\n",
       "</div>"
      ],
      "text/plain": [
       "   Course Number                                   Course Name  \\\n",
       "0       CHEM 110                           General Chemistry 1   \n",
       "1       CHEM 120                           General Chemistry 2   \n",
       "2       MATH 133                   Linear Algebra and Geometry   \n",
       "3       MATH 140                                    Calculus 1   \n",
       "4       MATH 141                                    Calculus 2   \n",
       "..           ...                                           ...   \n",
       "58      MECH 560  Eco-design and Product Life Cycle Assessment   \n",
       "59      MECH 563        Biofluids and Cardiovascular Mechanics   \n",
       "60      MECH 565        Fluid Flow and Heat Transfer Equipment   \n",
       "61      MECH 573                  Mechanics of Robotic Systems   \n",
       "62      MECH 577                                Optimum Design   \n",
       "\n",
       "                                   Course Description  \n",
       "0   Chemistry : A study of the fundamental princip...  \n",
       "1   Chemistry : A study of the fundamental princip...  \n",
       "2   Mathematics & Statistics (Sci) : Systems of li...  \n",
       "3   Mathematics & Statistics (Sci) : Review of fun...  \n",
       "4   Mathematics & Statistics (Sci) : The definite ...  \n",
       "..                                                ...  \n",
       "58  Mechanical Engineering : Fundamentals of both ...  \n",
       "59  Mechanical Engineering : Basic principles of c...  \n",
       "60  Mechanical Engineering : Pipes and piping syst...  \n",
       "61  Mechanical Engineering : Manipulator performan...  \n",
       "62  Mechanical Engineering : The role of optimizat...  \n",
       "\n",
       "[63 rows x 3 columns]"
      ]
     },
     "execution_count": 23,
     "metadata": {},
     "output_type": "execute_result"
    }
   ],
   "source": [
    "import pandas as pd\n",
    "\n",
    "df = pd.DataFrame({\n",
    "    \n",
    "    \"Course Number\": course_codes,\n",
    "    \"Course Name\": course_names,\n",
    "    \"Course Description\": course_descs    \n",
    "    \n",
    "})\n",
    "\n",
    "df"
   ]
  },
  {
   "cell_type": "code",
   "execution_count": 24,
   "metadata": {},
   "outputs": [],
   "source": [
    "df.to_csv('McGill_MechEng_Core_and_Electives_Courses.csv', index = False)"
   ]
  },
  {
   "cell_type": "code",
   "execution_count": null,
   "metadata": {},
   "outputs": [],
   "source": []
  }
 ],
 "metadata": {
  "kernelspec": {
   "display_name": "Python 3",
   "language": "python",
   "name": "python3"
  },
  "language_info": {
   "codemirror_mode": {
    "name": "ipython",
    "version": 3
   },
   "file_extension": ".py",
   "mimetype": "text/x-python",
   "name": "python",
   "nbconvert_exporter": "python",
   "pygments_lexer": "ipython3",
   "version": "3.8.5"
  }
 },
 "nbformat": 4,
 "nbformat_minor": 4
}
