{
 "cells": [
  {
   "cell_type": "code",
   "execution_count": 1,
   "metadata": {},
   "outputs": [],
   "source": [
    "from bs4 import BeautifulSoup as soup\n",
    "from urllib.request import urlopen as uReq"
   ]
  },
  {
   "cell_type": "code",
   "execution_count": 2,
   "metadata": {},
   "outputs": [],
   "source": [
    "url = \"https://www.mcgill.ca/study/2020-2021/faculties/engineering/undergraduate/programs/bachelor-engineering-beng-honours-mechanical-engineering\""
   ]
  },
  {
   "cell_type": "code",
   "execution_count": 3,
   "metadata": {},
   "outputs": [],
   "source": [
    "uClient = uReq(url)\n",
    "page_html = uClient.read()\n",
    "uClient.close()\n",
    "page_soup = soup(page_html, \"html.parser\")"
   ]
  },
  {
   "cell_type": "markdown",
   "metadata": {},
   "source": [
    "# 1. Obtain course titles"
   ]
  },
  {
   "cell_type": "code",
   "execution_count": 4,
   "metadata": {},
   "outputs": [
    {
     "data": {
      "text/plain": [
       "8"
      ]
     },
     "execution_count": 4,
     "metadata": {},
     "output_type": "execute_result"
    }
   ],
   "source": [
    "course_blocks = page_soup.findAll(\"ul\", {\"class\": \"program-set\"})\n",
    "len(course_blocks)"
   ]
  },
  {
   "cell_type": "code",
   "execution_count": 5,
   "metadata": {},
   "outputs": [
    {
     "data": {
      "text/plain": [
       "6"
      ]
     },
     "execution_count": 5,
     "metadata": {},
     "output_type": "execute_result"
    }
   ],
   "source": [
    "course_blocks_eng = course_blocks[:-2]\n",
    "len(course_blocks_eng)"
   ]
  },
  {
   "cell_type": "code",
   "execution_count": 6,
   "metadata": {},
   "outputs": [
    {
     "data": {
      "text/plain": [
       "72"
      ]
     },
     "execution_count": 6,
     "metadata": {},
     "output_type": "execute_result"
    }
   ],
   "source": [
    "containers = [container for course_block in course_blocks_eng for container in course_block.findAll(\"li\", {\"class\": \"program-course\"})]\n",
    "len(containers)"
   ]
  },
  {
   "cell_type": "code",
   "execution_count": 7,
   "metadata": {},
   "outputs": [
    {
     "data": {
      "text/plain": [
       "72"
      ]
     },
     "execution_count": 7,
     "metadata": {},
     "output_type": "execute_result"
    }
   ],
   "source": [
    "import re\n",
    "course_titles = [re.split(\" \\([0-9]+ credit[s]*\\)\", container.a.text.strip())[0] for container in containers]\n",
    "len(course_titles)"
   ]
  },
  {
   "cell_type": "code",
   "execution_count": 8,
   "metadata": {
    "scrolled": true
   },
   "outputs": [
    {
     "data": {
      "text/plain": [
       "['CHEM 110 General Chemistry 1',\n",
       " 'CHEM 120 General Chemistry 2',\n",
       " 'MATH 133 Linear Algebra and Geometry',\n",
       " 'MATH 140 Calculus 1',\n",
       " 'MATH 141 Calculus 2',\n",
       " 'PHYS 131 Mechanics and Waves',\n",
       " 'PHYS 142 Electromagnetism and Optics',\n",
       " 'CCOM 206 Communication in Engineering',\n",
       " 'CIVE 207 Solid Mechanics',\n",
       " 'COMP 208 Computer Programming for Physical Sciences and\\r Engineering\\r',\n",
       " 'FACC 100 Introduction to the Engineering Profession',\n",
       " 'FACC 250 Responsibilities of the Professional Engineer',\n",
       " 'FACC 300 Engineering Economy',\n",
       " 'FACC 400 Engineering Professional Practice',\n",
       " 'MATH 262 Intermediate Calculus',\n",
       " 'MATH 263 Ordinary Differential Equations for Engineers',\n",
       " 'MATH 264 Advanced Calculus for Engineers',\n",
       " 'MATH 271 Linear Algebra and Partial Differential Equations',\n",
       " 'MECH 201 Introduction to Mechanical Engineering',\n",
       " 'MECH 210 Mechanics 1',\n",
       " 'MECH 220 Mechanics 2',\n",
       " 'MECH 240 Thermodynamics 1',\n",
       " 'MECH 262 Statistics and Measurement Laboratory',\n",
       " 'MECH 290 Design Graphics for Mechanical Engineering',\n",
       " 'MECH 292 Design 1: Conceptual Design',\n",
       " 'MECH 309 Numerical Methods in Mechanical Engineering',\n",
       " 'MECH 321 Mechanics of Deformable Solids',\n",
       " 'MECH 331 Fluid Mechanics 1',\n",
       " 'MECH 341 Thermodynamics 2',\n",
       " 'MECH 346 Heat Transfer',\n",
       " 'MECH 360 Principles of Manufacturing',\n",
       " 'MECH 362 Mechanical Laboratory 1',\n",
       " 'MECH 383 Applied Electronics and Instrumentation',\n",
       " 'MECH 403D1 Thesis (Honours)',\n",
       " 'MECH 403D2 Thesis (Honours)',\n",
       " 'MECH 404 Honours Thesis 2',\n",
       " 'MECH 419 Advanced Mechanics of Systems',\n",
       " 'MECH 430 Fluid Mechanics 2',\n",
       " 'MECH 494 Honours Design Project',\n",
       " 'MATH 323 Probability',\n",
       " 'MATH 326 Nonlinear Dynamics and Chaos',\n",
       " 'MATH 327 Matrix Numerical Analysis',\n",
       " 'MATH 381 Complex Variables and Transforms',\n",
       " 'MATH 407 Dynamic Programming',\n",
       " 'MATH 417 Linear Optimization',\n",
       " 'MATH 478 Computational Methods in Applied Mathematics\\r',\n",
       " 'MECH 513 Control Systems',\n",
       " 'MECH 546 Finite Element Methods in Solid Mechanics',\n",
       " 'MECH 562 Advanced Fluid Mechanics',\n",
       " 'MECH 577 Optimum Design',\n",
       " 'MECH 578 Advanced Thermodynamics',\n",
       " 'MECH 579 Multidisciplinary Design Optimization',\n",
       " 'CHEE 563 Biofluids and Cardiovascular Mechanics',\n",
       " 'MECH 497 Value Engineering',\n",
       " 'MECH 498 Interdisciplinary Design Project 1',\n",
       " 'MECH 499 Interdisciplinary Design Project 2',\n",
       " 'MECH 513 Control Systems',\n",
       " 'MECH 529 Discrete Manufacturing Systems',\n",
       " 'MECH 530 Mechanics of Composite Materials',\n",
       " 'MECH 532 Aircraft Performance, Stability and Control',\n",
       " 'MECH 535 Turbomachinery and Propulsion',\n",
       " 'MECH 536 Aerospace\\r Structures',\n",
       " 'MECH 541 Kinematic Synthesis',\n",
       " 'MECH 543 Design with Composite Materials',\n",
       " 'MECH 544 Processing of Composite Materials',\n",
       " 'MECH 553 Design and Manufacture of Microdevices',\n",
       " 'MECH 557 Mechatronic Design',\n",
       " 'MECH 559 Engineering Systems Optimization',\n",
       " 'MECH 563 Biofluids and Cardiovascular Mechanics',\n",
       " 'MECH 565 Fluid Flow and Heat Transfer Equipment',\n",
       " 'MECH 573 Mechanics of Robotic Systems',\n",
       " 'MECH 577 Optimum Design']"
      ]
     },
     "execution_count": 8,
     "metadata": {},
     "output_type": "execute_result"
    }
   ],
   "source": [
    "course_titles"
   ]
  },
  {
   "cell_type": "markdown",
   "metadata": {},
   "source": [
    "# 2. Obtain course codes and names from course titles"
   ]
  },
  {
   "cell_type": "code",
   "execution_count": 9,
   "metadata": {
    "scrolled": true
   },
   "outputs": [
    {
     "data": {
      "text/plain": [
       "['CHEM 110',\n",
       " 'CHEM 120',\n",
       " 'MATH 133',\n",
       " 'MATH 140',\n",
       " 'MATH 141',\n",
       " 'PHYS 131',\n",
       " 'PHYS 142',\n",
       " 'CCOM 206',\n",
       " 'CIVE 207',\n",
       " 'COMP 208',\n",
       " 'FACC 100',\n",
       " 'FACC 250',\n",
       " 'FACC 300',\n",
       " 'FACC 400',\n",
       " 'MATH 262',\n",
       " 'MATH 263',\n",
       " 'MATH 264',\n",
       " 'MATH 271',\n",
       " 'MECH 201',\n",
       " 'MECH 210',\n",
       " 'MECH 220',\n",
       " 'MECH 240',\n",
       " 'MECH 262',\n",
       " 'MECH 290',\n",
       " 'MECH 292',\n",
       " 'MECH 309',\n",
       " 'MECH 321',\n",
       " 'MECH 331',\n",
       " 'MECH 341',\n",
       " 'MECH 346',\n",
       " 'MECH 360',\n",
       " 'MECH 362',\n",
       " 'MECH 383',\n",
       " 'MECH 403D1',\n",
       " 'MECH 403D2',\n",
       " 'MECH 404',\n",
       " 'MECH 419',\n",
       " 'MECH 430',\n",
       " 'MECH 494',\n",
       " 'MATH 323',\n",
       " 'MATH 326',\n",
       " 'MATH 327',\n",
       " 'MATH 381',\n",
       " 'MATH 407',\n",
       " 'MATH 417',\n",
       " 'MATH 478',\n",
       " 'MECH 513',\n",
       " 'MECH 546',\n",
       " 'MECH 562',\n",
       " 'MECH 577',\n",
       " 'MECH 578',\n",
       " 'MECH 579',\n",
       " 'CHEE 563',\n",
       " 'MECH 497',\n",
       " 'MECH 498',\n",
       " 'MECH 499',\n",
       " 'MECH 513',\n",
       " 'MECH 529',\n",
       " 'MECH 530',\n",
       " 'MECH 532',\n",
       " 'MECH 535',\n",
       " 'MECH 536',\n",
       " 'MECH 541',\n",
       " 'MECH 543',\n",
       " 'MECH 544',\n",
       " 'MECH 553',\n",
       " 'MECH 557',\n",
       " 'MECH 559',\n",
       " 'MECH 563',\n",
       " 'MECH 565',\n",
       " 'MECH 573',\n",
       " 'MECH 577']"
      ]
     },
     "execution_count": 9,
     "metadata": {},
     "output_type": "execute_result"
    }
   ],
   "source": [
    "course_codes = [\" \".join(title.split()[:2]) for title in course_titles]\n",
    "course_codes"
   ]
  },
  {
   "cell_type": "code",
   "execution_count": 10,
   "metadata": {
    "scrolled": true
   },
   "outputs": [
    {
     "data": {
      "text/plain": [
       "['General Chemistry 1',\n",
       " 'General Chemistry 2',\n",
       " 'Linear Algebra and Geometry',\n",
       " 'Calculus 1',\n",
       " 'Calculus 2',\n",
       " 'Mechanics and Waves',\n",
       " 'Electromagnetism and Optics',\n",
       " 'Communication in Engineering',\n",
       " 'Solid Mechanics',\n",
       " 'Computer Programming for Physical Sciences and Engineering',\n",
       " 'Introduction to the Engineering Profession',\n",
       " 'Responsibilities of the Professional Engineer',\n",
       " 'Engineering Economy',\n",
       " 'Engineering Professional Practice',\n",
       " 'Intermediate Calculus',\n",
       " 'Ordinary Differential Equations for Engineers',\n",
       " 'Advanced Calculus for Engineers',\n",
       " 'Linear Algebra and Partial Differential Equations',\n",
       " 'Introduction to Mechanical Engineering',\n",
       " 'Mechanics 1',\n",
       " 'Mechanics 2',\n",
       " 'Thermodynamics 1',\n",
       " 'Statistics and Measurement Laboratory',\n",
       " 'Design Graphics for Mechanical Engineering',\n",
       " 'Design 1: Conceptual Design',\n",
       " 'Numerical Methods in Mechanical Engineering',\n",
       " 'Mechanics of Deformable Solids',\n",
       " 'Fluid Mechanics 1',\n",
       " 'Thermodynamics 2',\n",
       " 'Heat Transfer',\n",
       " 'Principles of Manufacturing',\n",
       " 'Mechanical Laboratory 1',\n",
       " 'Applied Electronics and Instrumentation',\n",
       " 'Thesis (Honours)',\n",
       " 'Thesis (Honours)',\n",
       " 'Honours Thesis 2',\n",
       " 'Advanced Mechanics of Systems',\n",
       " 'Fluid Mechanics 2',\n",
       " 'Honours Design Project',\n",
       " 'Probability',\n",
       " 'Nonlinear Dynamics and Chaos',\n",
       " 'Matrix Numerical Analysis',\n",
       " 'Complex Variables and Transforms',\n",
       " 'Dynamic Programming',\n",
       " 'Linear Optimization',\n",
       " 'Computational Methods in Applied Mathematics',\n",
       " 'Control Systems',\n",
       " 'Finite Element Methods in Solid Mechanics',\n",
       " 'Advanced Fluid Mechanics',\n",
       " 'Optimum Design',\n",
       " 'Advanced Thermodynamics',\n",
       " 'Multidisciplinary Design Optimization',\n",
       " 'Biofluids and Cardiovascular Mechanics',\n",
       " 'Value Engineering',\n",
       " 'Interdisciplinary Design Project 1',\n",
       " 'Interdisciplinary Design Project 2',\n",
       " 'Control Systems',\n",
       " 'Discrete Manufacturing Systems',\n",
       " 'Mechanics of Composite Materials',\n",
       " 'Aircraft Performance, Stability and Control',\n",
       " 'Turbomachinery and Propulsion',\n",
       " 'Aerospace Structures',\n",
       " 'Kinematic Synthesis',\n",
       " 'Design with Composite Materials',\n",
       " 'Processing of Composite Materials',\n",
       " 'Design and Manufacture of Microdevices',\n",
       " 'Mechatronic Design',\n",
       " 'Engineering Systems Optimization',\n",
       " 'Biofluids and Cardiovascular Mechanics',\n",
       " 'Fluid Flow and Heat Transfer Equipment',\n",
       " 'Mechanics of Robotic Systems',\n",
       " 'Optimum Design']"
      ]
     },
     "execution_count": 10,
     "metadata": {},
     "output_type": "execute_result"
    }
   ],
   "source": [
    "course_names = [\" \".join(title.split()[2:]) for title in course_titles]\n",
    "course_names"
   ]
  },
  {
   "cell_type": "markdown",
   "metadata": {},
   "source": [
    "# 3. Obtain course descriptions"
   ]
  },
  {
   "cell_type": "code",
   "execution_count": 11,
   "metadata": {},
   "outputs": [
    {
     "data": {
      "text/plain": [
       "72"
      ]
     },
     "execution_count": 11,
     "metadata": {},
     "output_type": "execute_result"
    }
   ],
   "source": [
    "course_descs = [container.find(\"div\", {\"class\": \"content\"}).p.text.strip() for container in containers]\n",
    "len(course_descs)"
   ]
  },
  {
   "cell_type": "code",
   "execution_count": 12,
   "metadata": {
    "scrolled": true
   },
   "outputs": [
    {
     "data": {
      "text/plain": [
       "['Chemistry : A study of the fundamental principles of atomic structure, radiation and nuclear chemistry, valence theory, coordination chemistry, and the periodic table.',\n",
       " 'Chemistry : A study of the fundamental principles of physical chemistry.',\n",
       " 'Mathematics & Statistics (Sci) : Systems of linear equations, matrices, inverses, determinants; geometric vectors in three dimensions, dot product, cross product, lines and planes; introduction to vector spaces, linear dependence and independence, bases. Linear transformations. Eigenvalues and diagonalization.',\n",
       " 'Mathematics & Statistics (Sci) : Review of functions and graphs. Limits, continuity, derivative. Differentiation of elementary functions. Antidifferentiation. Applications.',\n",
       " 'Mathematics & Statistics (Sci) : The definite integral. Techniques of integration. Applications. Introduction to sequences and series.',\n",
       " 'Physics : The basic laws and principles of Newtonian mechanics; oscillations, waves, and wave optics.',\n",
       " 'Physics : The basic laws of electricity and magnetism; geometrical optics.',\n",
       " 'Communication (CCE) : Written and oral communication in Engineering (in English): strategies for generating, developing, organizing, and presenting ideas in a technical setting; problem-solving; communicating to different audiences; editing and revising; and public speaking. Course work based on academic, technical, and professional writing in engineering.',\n",
       " \"Civil Engineering : Stress-strain relationships; elastic and inelastic behaviour; performance criteria. Elementary and compound stress states, Mohr's circle. Shear strains, torsion. Bending and shear stresses in flexural members. Deflections of beams. Statically indeterminate systems under flexural and axial loads. Columns. Dynamic loading.\",\n",
       " 'Computer Science (Sci) : Programming and problem solving in a high level computer language: variables, expressions, types, functions, conditionals, loops, objects and classes. Introduction to algorithms such as searching and sorting. Modular software design, libraries, file input and output, debugging. Emphasis on applications in Physical Sciences\\nand Engineering, such as root finding, numerical integration, diffusion, Monte Carlo methods.',\n",
       " \"Faculty Course : Introduction to engineering practice; rights and code of conduct for students; professional conduct and ethics; engineer's duty to society and the environment; sustainable development; occupational health and safety; overview of the engineering disciplines taught at McGill.\",\n",
       " 'Faculty Course : A course designed to provide all Engineering students with further training regarding their responsibilities as future Professional Engineers. Particular focus will be placed on three professional characteristics that future engineers must demonstrate: i) professionalism, ii) ethical and equitable behaviour, and iii) consideration of the impact of engineering on society and the environment.',\n",
       " 'Faculty Course : Introduction to the basic concepts required for the economic assessment of engineering projects. Topics include: accounting methods, marginal analysis, cash flow and time value of money, taxation and depreciation, discounted cash flow analysis techniques, cost of capital, inflation, sensitivity and risk analysis, analysis of R and D, ongoing as well as new investment opportunities.',\n",
       " 'Faculty Course : Laws, regulations and codes governing engineering professional practice. Responsibility and liability. Environmental legislation. Project and organization management. Relations between engineer and client. Technical practice - analysis, design, execution and operation.',\n",
       " \"Mathematics & Statistics (Sci) : Series and power series, including Taylor's theorem. Brief review of vector geometry. Vector functions and curves. Partial differentiation and differential calculus for vector valued functions. Unconstrained and constrained extremal problems. Multiple integrals including surface area and change of variables.\",\n",
       " 'Mathematics & Statistics (Sci) : First order ODEs. Second and higher order linear ODEs. Series solutions at ordinary and regular singular points. Laplace transforms. Linear systems of differential equations with a short review of linear algebra.',\n",
       " 'Mathematics & Statistics (Sci) : Review of multiple integrals. Differential and integral calculus of vector fields including the theorems of Gauss, Green, and Stokes. Introduction to partial differential equations, separation of variables, Sturm-Liouville problems, and Fourier series.',\n",
       " 'Mathematics & Statistics (Sci) : Applied Linear Algebra. Linear Systems of Ordinary Differential Equations. Power Series Solutions. Partial Differential Equations. Sturm-Liouville Theory and Applications. Fourier Transforms.',\n",
       " 'Mechanical Engineering : The practice of Mechanical Engineering: its scope and context. The role of Design. Introduction to the Design process. The role of engineering analysis and socio-economic factors in Design. Introduction to the individual mechanical engineering subjects and their role in Design. Case studies.',\n",
       " 'Mechanical Engineering : Static equilibrium of particles and rigid bodies. Beams, trusses, frames and machines. Concept of work and energy. Static equilibrium and stability.',\n",
       " 'Mechanical Engineering : Kinematics of particles and rigid bodies. Particle dynamics: force-momentum and work-energy approaches. Kinematics and kinetics of rigid bodies.',\n",
       " 'Mechanical Engineering : Thermodynamic systems and properties. First law of thermodynamics: energy, work and heat. State principle, p-v-T surfaces, phase equilibrium, ideal gas model. Second law of thermodynamics, entropy, exergy analysis. Energy analysis applied to steady and transient engineering systems including heat engines, refrigerators and heat pumps, air compressors.',\n",
       " 'Mechanical Engineering : Introduction to probability: conditional probability, binomial and Poisson distributions, random variables, laws of large numbers. Statistical analysis associated with measurements; regression and correlation. Basic experimental laboratory techniques, including the measurement of strain, pressure, force, position, and temperature.',\n",
       " 'Mechanical Engineering : The design process, including free-hand sketching; from geometry construction to manufacturing drawings; the technology and standards of engineering graphic communication; designing with CAD software. The role of visualization in the production of mechanical engineering designs.',\n",
       " 'Mechanical Engineering : Introduction to design. Problem formulation, idea generation, feasibility study, preliminary design, design, analysis, design evaluation, project management, and optimal design.',\n",
       " 'Mechanical Engineering : Numerical techniques for problems commonly encountered in Mechanical Engineering are presented. Chebyshev interpolation, quadrature, roots of equations in one or more variables, matrices, curve fitting, splines and ordinary differential equations. The emphasis is on the analysis and understanding of the problem rather than the details of the actual numerical program.',\n",
       " 'Mechanical Engineering : Modern phenomenological theories of the behaviour of engineering materials. Stress and strain concepts and introduction to constitutive theory. Applications of theory of elasticity and thermoelasticity. Introduction to finite element stress analysis methods.',\n",
       " 'Mechanical Engineering : Physical properties of fluids. Kinematics and dynamics of fluid flow: stress in a continuum, rates of strain, rotation. Control volume analysis; conservation of mass, linear momentum and energy; Euler and Bernoulli equations; Flow measurement. Dimensional analysis and dynamical similarity. Laminar and turbulent flow in pipes and boundary layers.',\n",
       " 'Mechanical Engineering : Generalized thermodynamics relations. Real gas effects, gas tables, dense gas equations of state and generalized compressibility, enthalpy, and entropy charts. Vapour and gas power cycles (coal/nuclear power plants). Refrigerators and heat pumps. Psychrometry and air conditioning processes. Thermodynamics of reactive gas mixtures.',\n",
       " 'Mechanical Engineering : Basic concepts and overview. Steady and unsteady heat conduction. Fin Theory. Convective heat transfer: governing equations; dimensionless parameters; analogy between momentum and heat transfer. Design correlations for forced, natural, and mixed convection. Heat exchangers. Radiative heat transfer: black- and gray-body radiation; shape factors; enclosure theory. Thermal engineering design project.',\n",
       " 'Mechanical Engineering : Theory and practice of modern manufacturing processes: machining, forming, and casting. Producing parts using computer assisted tools from CAD to CNC machining followed by measurement of part quality. Hands-on machining of parts.',\n",
       " 'Mechanical Engineering : Experiments will be performed in four areas: MECH 240 Thermodynamics, MECH 315 Vibrations, MECH 331 Fluid Mechanics 1, and MECH 346 Heat Transfer. Students should sign up to do experiments in one or more areas the term following the completion of one or more of the above courses. Students will not formally register for this course until the term in which they will complete all of the experiments.',\n",
       " 'Mechanical Engineering : Discrete and integrated components, both analogue and digital. Characteristics of passive elements. Semiconductors, amplifiers, filters, oscillators, modulators, power supplies and nonlinear devices. Introduction to digital electronics. Transducer/signal conditioner interfacing considerations.',\n",
       " 'Mechanical Engineering : This course, together with MECH 404, involves a research project containing both engineering theory and design components, and requiring a theoretical and/or experimental investigation. Students are supervised by the course instructor and mentored by one or more staff members. The work culminates with the submission of a thesis.',\n",
       " 'Mechanical Engineering : See MECH 403D1 for course description.',\n",
       " 'Mechanical Engineering : This course is part of the same thesis project as course MECH 403.',\n",
       " \"Mechanical Engineering : Lagrange's equations of motion. Hamilton's principle. Variational methods. Discrete linear systems: analytical and numerical methods. Distributed parameter systems: exact solutions and discretization techniques. Electrical-mechanical-acoustical analogies. Stability of systems. Nonlinear dynamics: phase-plane, perturbation and other methods of solution.\",\n",
       " 'Mechanical Engineering : Review of thermodynamics of gases, one dimensional isentropic flow and choking. Nozzles and wind tunnels. Normal shock waves. Flow in constant area ducts with friction and heat exchange. Compressible irrotational flow. Oblique shock waves and Prandtl-Meyer expansion. Supersonic aerofoil and wing theory.',\n",
       " 'Mechanical Engineering : An advanced design project course with emphasis on analytical solutions, performance prediction and validation, and planning for production. Students are supervised by the course instructor and mentored by one or more staff members.',\n",
       " \"Mathematics & Statistics (Sci) : Sample space, events, conditional probability, independence of events, Bayes' Theorem. Basic combinatorial probability, random variables, discrete and continuous univariate and multivariate distributions. Independence of random variables. Inequalities, weak law of large numbers, central limit theorem.\",\n",
       " 'Mathematics & Statistics (Sci) : Linear systems of differential equations, linear stability theory. Nonlinear systems: existence and uniqueness, numerical methods, one and two dimensional flows, phase space, limit cycles, Poincare-Bendixson theorem, bifurcations, Hopf bifurcation, the Lorenz equations and chaos.',\n",
       " 'Mathematics & Statistics (Sci) : An overview of numerical methods for linear algebra applications and their analysis. Problem classes include linear systems, least squares problems and eigenvalue problems.',\n",
       " \"Mathematics & Statistics (Sci) : Analytic functions, Cauchy-Riemann equations, simple mappings, Cauchy's theorem, Cauchy's integral formula, Taylor and Laurent expansions, residue calculus. Properties of one and two-sided Fourier and Laplace transforms, the complex inversion integral, relation between the Fourier and Laplace transforms, application of transform techniques to the solution of differential equations. The Z-transform and applications to difference equations.\",\n",
       " 'Mathematics & Statistics (Sci) : Sequential decision problems, resource allocation, transportation problems, equipment replacement, integer programming, network analysis, inventory systems, project scheduling, queuing theory calculus of variations, markovian decision processes, stochastic path problems, reliability, discrete and continuous control processes.',\n",
       " 'Mathematics & Statistics (Sci) : An introduction to linear optimization and its applications: Duality theory, fundamental theorem, sensitivity analysis, convexity, simplex algorithm, interior-point methods, quadratic optimization, applications in game theory.',\n",
       " 'Mathematics & Statistics (Sci) : Solution to initial value problems: Linear, Nonlinear Finite Difference Methods: accuracy and stability, Lax equivalence theorem, CFL and von Neumann conditions,\\nFourier analysis: diffusion, dissipation, dispersion, and spectral methods. Solution of large sparse linear systems: iterative methods, preconditioning, incomplete\\nLU, multigrid, Krylov subspaces, conjugate gradient method. Applications to, e.g., weighted least squares, duality, constrained minimization, calculus of variation,\\ninverse problems, regularization, level set methods, Navier-Stokes equations',\n",
       " 'Mechanical Engineering : State-space modelling and related linear algebra.  Controllability and observability of linear time-invariant systems and corresponding tests, system realizations. Stability: Bounded-Input-Bounded-Output (BIBO), internal, Lyapunov.  Linear state feedback control: pole placement and root locus design methods, linear quadratic regulator.  State observers: full- and reduced-order designs, separation principle, Linear Quadratic Gaussian (LQG) design. Introduction to optimal control and optimal state estimation.',\n",
       " 'Mechanical Engineering : Discrete systems; variational formulation and approximation for continuous systems; direct and variational methods of element formulation in 1- 2- and 3 dimensions; formulation of isoparametric finite elements; plate and shell elements; finite element method for static analysis, vibration analysis and structural dynamics; introduction to nonlinear problems.',\n",
       " 'Mechanical Engineering : Conservation laws, control volume analysis, Navier stokes equations, dimensional analysis and limiting forms of N-S equation, laminar viscous flows, boundary layer theory, inviscid potential flows, lift and drag, introduction to turbulence.',\n",
       " 'Mechanical Engineering : The role of optimization within the design process: Design methodology and philosophy. Constrained optimization: The Kuhn-Tucker conditions. Techniques of linear and non-linear programming. The simplex and the complex methods. Sensitivity of the design to manufacturing errors. Robustness of the design to manufacturing and operation errors.',\n",
       " 'Mechanical Engineering : Review of classical mechanics; Boltzmann statistics, thermodynamics of ideal gases; Fermi-Dirac and Bose-Einstein statistics, Gibbsian ensembles; elementary kinetic theory of transport processes, Boltzmann equation, Boltzmann H-theorem and entropy, KBG approximation, discussion on the solution of Boltzmann equation; Maxwell transport equations, derivation of Navier Stokes equations.',\n",
       " 'Mechanical Engineering : A comprehensive introduction to important algorithms in sensitivity analysis and multidisciplinary design optimization of large systems. Topics include: unconstrained and constrained optimization, sensitivity analysis, gradient-free optimization, multi-objective optimization, and various multidisciplinary algorithms and approaches for design optimization.',\n",
       " 'Chemical Engineering : Basic principles of circulation including vascular fluid and solid mechanics, modelling techniques, clinical and experimental methods and the design of cardiovascular devices.',\n",
       " 'Mechanical Engineering : Value Engineering is an in-depth analysis of an industrial product or process with a view to improving its design and/or performance to increase its worth. This is a workshop type of course. Projects will be supplied by industrial firms and students will work in teams with industrial personnel.',\n",
       " 'Mechanical Engineering : Completion of an individual project on an interdisciplinary theme with emphasis on a balanced combination on analysis and synthesis.',\n",
       " 'Mechanical Engineering : The individual project initiated in MECH 498 is continued and finalized in this course.',\n",
       " 'Mechanical Engineering : State-space modelling and related linear algebra.  Controllability and observability of linear time-invariant systems and corresponding tests, system realizations. Stability: Bounded-Input-Bounded-Output (BIBO), internal, Lyapunov.  Linear state feedback control: pole placement and root locus design methods, linear quadratic regulator.  State observers: full- and reduced-order designs, separation principle, Linear Quadratic Gaussian (LQG) design. Introduction to optimal control and optimal state estimation.',\n",
       " 'Mechanical Engineering : An overview of present day production machines and systems with special emphasis on automation, computer control and integration techniques. Material handling, automatic inspection, process monitoring, maintenance. Socio-economic and environmental issues. Laboratory experience with factory simulation.',\n",
       " 'Mechanical Engineering : Fiber-reinforced composites. Stress, strain, and strength of composite laminates and honeycomb structures. Failure modes and failure criteria. Environmental effects. Manufacturing processes. Design of composite structures. Computer modelling of composites. Computer techniques are utilized throughout the course.',\n",
       " 'Mechanical Engineering : Aircraft performance criteria such as range, endurance, rate of climb, maximum ceiling for steady and accelerated flight. Landing and take-off distances. Static and dynamic stability in the longitudinal (stick-fixed and stick-free) and coupled lateral and directional modes. Control response for all three modes.',\n",
       " 'Mechanical Engineering : Introduction to propulsion: turboprops, turbofans and turbojets. Review of thermodynamic cycles. Euler turbine equation. Velocity triangles. Axial-flow compressors and pumps. Centrifugal compressors and pumps. Axial-flow turbines. Loss mechanisms. Dimensional analysis of turbomachines. Performance maps. 3-D effects. Introduction to numerical methods in turbomachines. Prediction of performance of gas turbines.',\n",
       " 'Mechanical Engineering : Aircraft and spacecraft structural components and loads. Bending, shear, torsion and buckling of thin-walled open and closed sections. Structural idealization. Principle of stiffener / web construction. Trusses and isogrid structures. Wing spars and box beams. Fuselage frames and wing ribs. Analysis of riveted, bolted and\\nadhesive joints. Sandwich structures analysis. Thermoelasticity analysis for spacecraft structures.',\n",
       " 'Mechanical Engineering : The role of kinematic synthesis within the design process. Degree of freedom. Kinematic pairs and bonds. Groups and subgroups of displacements. Applications to the qualitative synthesis of parallel-kinematics machines with three and four degrees of freedom. Function, motion and path generation problems in planar, spherical and spatial four-bar linkages. Extensions to six-bar linkages. Cam mechanisms.',\n",
       " 'Mechanical Engineering : Material systems/selection process. Cost vs. performance. Laminate layup procedures. Theory and application of filament winding of composite cylinders. Regular oven and autoclave oven curing, analysis of resulting material performance. Practical design considerations and tooling. Analysis of environmental considerations. Joining techniques. Analysis of test methods. Theory of repair techniques.',\n",
       " 'Mechanical Engineering : Composite processing science basic principles. Reinforcement properties; permeability, compaction. Resin properties; curing, viscosity, shrinkage. Heat transfer and cure kinetics; cure cycle optimization. Resin flow; infusion, thickness variations, fiber volume fraction distribution. Residual stresses; tool-part interaction, warpage control, spring-back, tool design. Thermoplastic composites; crystallization control, melting and consolidation.',\n",
       " 'Mechanical Engineering : Introduction to microelectromechanical systems (MEMS). Micromachining techniques (thin-film deposition; lithography; etching; bonding). Microscale mechanical behaviour (deformation and fracture; residual stresses; adhesion; experimental techniques). Materials- and process-selection. Process integration. Design of microdevice components to meet specified performance and reliability targets using realistic manufacturing processes.',\n",
       " 'Mechanical Engineering : Team project course on the design, modelling, model validation, and control of complete mechatronic systems, constructed with modern sensors, actuators, real-time operating systems, embedded controllers, and intelligent control.',\n",
       " 'Mechanical Engineering : Introduction to systems-oriented engineering design optimization. Emphasis on i) understanding and representing engineering systems and their structure, ii) obtaining, developing, and managing adequate computational (physics- and data-based) models for their analysis, iii) constructing appropriate design models for their synthesis, and iv) applying suitable algorithms for their numerical optimization while accounting for systems integration issues. Advanced topics such as coordination of distributed problems and non-deterministic design optimization methods.',\n",
       " 'Mechanical Engineering : Basic principles of circulation including vascular fluid and solid mechanics, modelling techniques, clinical and experimental methods and the design of cardiovascular devices.',\n",
       " 'Mechanical Engineering : Pipes and piping systems, pumps, and valves. Fans and building air distribution systems. Basic thermal design methods for fins and heat exchangers. Thermal design of shell-and-tube and compact heat exchangers.',\n",
       " 'Mechanical Engineering : Manipulator performance and design. Pick-and-place and continuous-path operations. Computation of rigid-body angular velocity and acceleration from point-data measurements. Inverse kinematics of serial manipulators with coupled architectures; kinetostatics of multifingered hands and walking machines. Kinematics and dynamics of parallel manipulators and wheeled mobile robots.',\n",
       " 'Mechanical Engineering : The role of optimization within the design process: Design methodology and philosophy. Constrained optimization: The Kuhn-Tucker conditions. Techniques of linear and non-linear programming. The simplex and the complex methods. Sensitivity of the design to manufacturing errors. Robustness of the design to manufacturing and operation errors.']"
      ]
     },
     "execution_count": 12,
     "metadata": {},
     "output_type": "execute_result"
    }
   ],
   "source": [
    "course_descs"
   ]
  },
  {
   "cell_type": "markdown",
   "metadata": {},
   "source": [
    "# 4. Clean and write to CSV"
   ]
  },
  {
   "cell_type": "code",
   "execution_count": 13,
   "metadata": {},
   "outputs": [],
   "source": [
    "course_descs = [desc.replace(\"\\n\", \" \") for desc in course_descs]"
   ]
  },
  {
   "cell_type": "code",
   "execution_count": 14,
   "metadata": {},
   "outputs": [
    {
     "data": {
      "text/html": [
       "<div>\n",
       "<style scoped>\n",
       "    .dataframe tbody tr th:only-of-type {\n",
       "        vertical-align: middle;\n",
       "    }\n",
       "\n",
       "    .dataframe tbody tr th {\n",
       "        vertical-align: top;\n",
       "    }\n",
       "\n",
       "    .dataframe thead th {\n",
       "        text-align: right;\n",
       "    }\n",
       "</style>\n",
       "<table border=\"1\" class=\"dataframe\">\n",
       "  <thead>\n",
       "    <tr style=\"text-align: right;\">\n",
       "      <th></th>\n",
       "      <th>Course Number</th>\n",
       "      <th>Course Name</th>\n",
       "      <th>Course Description</th>\n",
       "    </tr>\n",
       "  </thead>\n",
       "  <tbody>\n",
       "    <tr>\n",
       "      <th>0</th>\n",
       "      <td>CHEM 110</td>\n",
       "      <td>General Chemistry 1</td>\n",
       "      <td>Chemistry : A study of the fundamental princip...</td>\n",
       "    </tr>\n",
       "    <tr>\n",
       "      <th>1</th>\n",
       "      <td>CHEM 120</td>\n",
       "      <td>General Chemistry 2</td>\n",
       "      <td>Chemistry : A study of the fundamental princip...</td>\n",
       "    </tr>\n",
       "    <tr>\n",
       "      <th>2</th>\n",
       "      <td>MATH 133</td>\n",
       "      <td>Linear Algebra and Geometry</td>\n",
       "      <td>Mathematics &amp; Statistics (Sci) : Systems of li...</td>\n",
       "    </tr>\n",
       "    <tr>\n",
       "      <th>3</th>\n",
       "      <td>MATH 140</td>\n",
       "      <td>Calculus 1</td>\n",
       "      <td>Mathematics &amp; Statistics (Sci) : Review of fun...</td>\n",
       "    </tr>\n",
       "    <tr>\n",
       "      <th>4</th>\n",
       "      <td>MATH 141</td>\n",
       "      <td>Calculus 2</td>\n",
       "      <td>Mathematics &amp; Statistics (Sci) : The definite ...</td>\n",
       "    </tr>\n",
       "    <tr>\n",
       "      <th>...</th>\n",
       "      <td>...</td>\n",
       "      <td>...</td>\n",
       "      <td>...</td>\n",
       "    </tr>\n",
       "    <tr>\n",
       "      <th>67</th>\n",
       "      <td>MECH 559</td>\n",
       "      <td>Engineering Systems Optimization</td>\n",
       "      <td>Mechanical Engineering : Introduction to syste...</td>\n",
       "    </tr>\n",
       "    <tr>\n",
       "      <th>68</th>\n",
       "      <td>MECH 563</td>\n",
       "      <td>Biofluids and Cardiovascular Mechanics</td>\n",
       "      <td>Mechanical Engineering : Basic principles of c...</td>\n",
       "    </tr>\n",
       "    <tr>\n",
       "      <th>69</th>\n",
       "      <td>MECH 565</td>\n",
       "      <td>Fluid Flow and Heat Transfer Equipment</td>\n",
       "      <td>Mechanical Engineering : Pipes and piping syst...</td>\n",
       "    </tr>\n",
       "    <tr>\n",
       "      <th>70</th>\n",
       "      <td>MECH 573</td>\n",
       "      <td>Mechanics of Robotic Systems</td>\n",
       "      <td>Mechanical Engineering : Manipulator performan...</td>\n",
       "    </tr>\n",
       "    <tr>\n",
       "      <th>71</th>\n",
       "      <td>MECH 577</td>\n",
       "      <td>Optimum Design</td>\n",
       "      <td>Mechanical Engineering : The role of optimizat...</td>\n",
       "    </tr>\n",
       "  </tbody>\n",
       "</table>\n",
       "<p>72 rows × 3 columns</p>\n",
       "</div>"
      ],
      "text/plain": [
       "   Course Number                             Course Name  \\\n",
       "0       CHEM 110                     General Chemistry 1   \n",
       "1       CHEM 120                     General Chemistry 2   \n",
       "2       MATH 133             Linear Algebra and Geometry   \n",
       "3       MATH 140                              Calculus 1   \n",
       "4       MATH 141                              Calculus 2   \n",
       "..           ...                                     ...   \n",
       "67      MECH 559        Engineering Systems Optimization   \n",
       "68      MECH 563  Biofluids and Cardiovascular Mechanics   \n",
       "69      MECH 565  Fluid Flow and Heat Transfer Equipment   \n",
       "70      MECH 573            Mechanics of Robotic Systems   \n",
       "71      MECH 577                          Optimum Design   \n",
       "\n",
       "                                   Course Description  \n",
       "0   Chemistry : A study of the fundamental princip...  \n",
       "1   Chemistry : A study of the fundamental princip...  \n",
       "2   Mathematics & Statistics (Sci) : Systems of li...  \n",
       "3   Mathematics & Statistics (Sci) : Review of fun...  \n",
       "4   Mathematics & Statistics (Sci) : The definite ...  \n",
       "..                                                ...  \n",
       "67  Mechanical Engineering : Introduction to syste...  \n",
       "68  Mechanical Engineering : Basic principles of c...  \n",
       "69  Mechanical Engineering : Pipes and piping syst...  \n",
       "70  Mechanical Engineering : Manipulator performan...  \n",
       "71  Mechanical Engineering : The role of optimizat...  \n",
       "\n",
       "[72 rows x 3 columns]"
      ]
     },
     "execution_count": 14,
     "metadata": {},
     "output_type": "execute_result"
    }
   ],
   "source": [
    "import pandas as pd\n",
    "\n",
    "df = pd.DataFrame({\n",
    "    \n",
    "    \"Course Number\": course_codes,\n",
    "    \"Course Name\": course_names,\n",
    "    \"Course Description\": course_descs    \n",
    "    \n",
    "})\n",
    "\n",
    "df"
   ]
  },
  {
   "cell_type": "code",
   "execution_count": 15,
   "metadata": {},
   "outputs": [],
   "source": [
    "df.to_csv('McGill_Honours_MechEng_Core_and_Electives_Courses.csv', index = False)"
   ]
  }
 ],
 "metadata": {
  "kernelspec": {
   "display_name": "Python 3",
   "language": "python",
   "name": "python3"
  },
  "language_info": {
   "codemirror_mode": {
    "name": "ipython",
    "version": 3
   },
   "file_extension": ".py",
   "mimetype": "text/x-python",
   "name": "python",
   "nbconvert_exporter": "python",
   "pygments_lexer": "ipython3",
   "version": "3.8.5"
  }
 },
 "nbformat": 4,
 "nbformat_minor": 4
}
