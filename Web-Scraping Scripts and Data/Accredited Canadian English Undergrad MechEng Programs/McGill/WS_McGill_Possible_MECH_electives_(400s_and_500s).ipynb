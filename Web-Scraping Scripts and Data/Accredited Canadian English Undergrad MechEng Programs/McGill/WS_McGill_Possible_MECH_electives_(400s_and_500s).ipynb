{
 "cells": [
  {
   "cell_type": "code",
   "execution_count": 1,
   "metadata": {},
   "outputs": [],
   "source": [
    "from bs4 import BeautifulSoup as soup\n",
    "from urllib.request import urlopen as ureq\n",
    "from selenium import webdriver\n",
    "import time\n",
    "import re"
   ]
  },
  {
   "cell_type": "code",
   "execution_count": 2,
   "metadata": {},
   "outputs": [],
   "source": [
    "#listing of all McGill engineering courses, applied filters for mech 400 - 500 level courses\n",
    "url = \"https://www.mcgill.ca/study/2020-2021/faculties/engineering/undergraduate/courses/engineering/undergraduate/engineering/undergraduate?sort_by=field_subject_code&f%5B0%5D=field_subject_code%3AMECH&f%5B1%5D=course_level%3A400&f%5B2%5D=course_level%3A500\""
   ]
  },
  {
   "cell_type": "code",
   "execution_count": 3,
   "metadata": {},
   "outputs": [],
   "source": [
    "chrome_options = webdriver.ChromeOptions()\n",
    "chrome_options.add_argument('--ignore-certificate-errors')\n",
    "chrome_options.add_argument('--incognito')\n",
    "#chrome_options.add_argument('--headless')\n",
    "\n",
    "driver = webdriver.Chrome(\"C:\\\\Users\\\\jerry\\\\Downloads\\\\chromedriver\", options=chrome_options)"
   ]
  },
  {
   "cell_type": "code",
   "execution_count": 4,
   "metadata": {},
   "outputs": [],
   "source": [
    "driver.get(url)"
   ]
  },
  {
   "cell_type": "code",
   "execution_count": 35,
   "metadata": {},
   "outputs": [],
   "source": [
    "page_soup = soup(driver.page_source, 'lxml')"
   ]
  },
  {
   "cell_type": "markdown",
   "metadata": {},
   "source": [
    "# 1. Collect course link texts on the current page"
   ]
  },
  {
   "cell_type": "code",
   "execution_count": 36,
   "metadata": {},
   "outputs": [
    {
     "data": {
      "text/plain": [
       "20"
      ]
     },
     "execution_count": 36,
     "metadata": {},
     "output_type": "execute_result"
    }
   ],
   "source": [
    "containers = page_soup.find(\"div\", {\"class\": \"view-content\"}).findAll(\"a\")\n",
    "len(containers)"
   ]
  },
  {
   "cell_type": "code",
   "execution_count": 37,
   "metadata": {},
   "outputs": [
    {
     "data": {
      "text/plain": [
       "['MECH 403D1 Thesis (Honours) (3 credits)',\n",
       " 'MECH 403D2 Thesis (Honours) (3 credits)',\n",
       " 'MECH 403N1 Thesis (Honours) (3 credits)',\n",
       " 'MECH 403N2 Thesis (Honours) (3 credits)',\n",
       " 'MECH 404 Honours Thesis 2 (3 credits)',\n",
       " 'MECH 412 System Dynamics and Control (3 credits)',\n",
       " 'MECH 419 Advanced Mechanics of Systems (4 credits)',\n",
       " 'MECH 430 Fluid Mechanics 2 (3 credits)',\n",
       " 'MECH 447 Combustion (3 credits)',\n",
       " 'MECH 463D1 Design 3: Mechanical Engineering Project (3 credits)',\n",
       " 'MECH 463D2 Design 3: Mechanical Engineering Project (3 credits)',\n",
       " 'MECH 494 Honours Design Project (3 credits)',\n",
       " 'MECH 497 Value Engineering (3 credits)',\n",
       " 'MECH 498 Interdisciplinary Design Project 1 (3 credits)',\n",
       " 'MECH 499 Interdisciplinary Design Project 2 (3 credits)',\n",
       " 'MECH 500 Selected Topics in Mechanical Engineering (3 credits)',\n",
       " 'MECH 501 Special Topics: Mechanical Engineering (3 credits)',\n",
       " 'MECH 502 Topics in Mechanical Engineering (3 credits)',\n",
       " 'MECH 510 Engineering Acoustics (3 credits)',\n",
       " 'MECH 513 Control Systems (3 credits)']"
      ]
     },
     "execution_count": 37,
     "metadata": {},
     "output_type": "execute_result"
    }
   ],
   "source": [
    "link_texts = [container.text.strip() for container in containers]\n",
    "link_texts"
   ]
  },
  {
   "cell_type": "markdown",
   "metadata": {},
   "source": [
    "# 2. Test run - scrape the first course"
   ]
  },
  {
   "cell_type": "code",
   "execution_count": 8,
   "metadata": {},
   "outputs": [],
   "source": [
    "driver.find_element_by_link_text(link_texts[0]).click()"
   ]
  },
  {
   "cell_type": "code",
   "execution_count": 9,
   "metadata": {},
   "outputs": [],
   "source": [
    "page_soup = soup(driver.page_source, 'lxml')"
   ]
  },
  {
   "cell_type": "code",
   "execution_count": 12,
   "metadata": {},
   "outputs": [],
   "source": [
    "course_title = re.split(\" \\([0-9]+ credit[s]*\\)\", page_soup.find(\"h1\", {\"id\": \"page-title\"}).text.strip())[0]"
   ]
  },
  {
   "cell_type": "code",
   "execution_count": 13,
   "metadata": {},
   "outputs": [
    {
     "data": {
      "text/plain": [
       "'MECH 403D1 Thesis (Honours)'"
      ]
     },
     "execution_count": 13,
     "metadata": {},
     "output_type": "execute_result"
    }
   ],
   "source": [
    "course_title"
   ]
  },
  {
   "cell_type": "code",
   "execution_count": 14,
   "metadata": {},
   "outputs": [
    {
     "data": {
      "text/plain": [
       "'MECH 403D1'"
      ]
     },
     "execution_count": 14,
     "metadata": {},
     "output_type": "execute_result"
    }
   ],
   "source": [
    "course_code = \" \".join(course_title.split()[:2])\n",
    "course_code"
   ]
  },
  {
   "cell_type": "code",
   "execution_count": 15,
   "metadata": {},
   "outputs": [
    {
     "data": {
      "text/plain": [
       "'Thesis (Honours)'"
      ]
     },
     "execution_count": 15,
     "metadata": {},
     "output_type": "execute_result"
    }
   ],
   "source": [
    "course_name = \" \".join(course_title.split()[2:])\n",
    "course_name"
   ]
  },
  {
   "cell_type": "code",
   "execution_count": 17,
   "metadata": {},
   "outputs": [
    {
     "data": {
      "text/plain": [
       "'Mechanical Engineering : This course, together with MECH 404, involves a research project containing both engineering theory and design components, and requiring a theoretical and/or experimental investigation. Students are supervised by the course instructor and mentored by one or more staff members. The work culminates with the submission of a thesis.'"
      ]
     },
     "execution_count": 17,
     "metadata": {},
     "output_type": "execute_result"
    }
   ],
   "source": [
    "course_desc = page_soup.find(\"h3\", text = \"Overview\").findNextSibling().text.strip()\n",
    "course_desc"
   ]
  },
  {
   "cell_type": "code",
   "execution_count": 18,
   "metadata": {},
   "outputs": [],
   "source": [
    "driver.back()"
   ]
  },
  {
   "cell_type": "markdown",
   "metadata": {},
   "source": [
    "# 3. Test clicking the next button"
   ]
  },
  {
   "cell_type": "markdown",
   "metadata": {},
   "source": [
    "there are 5 pages of courses in total. Simulated clicking of the next button 4 times and reached the end"
   ]
  },
  {
   "cell_type": "code",
   "execution_count": 22,
   "metadata": {},
   "outputs": [
    {
     "ename": "NoSuchElementException",
     "evalue": "Message: no such element: Unable to locate element: {\"method\":\"link text\",\"selector\":\"❯\"}\n  (Session info: chrome=91.0.4472.114)\n",
     "output_type": "error",
     "traceback": [
      "\u001b[1;31m---------------------------------------------------------------------------\u001b[0m",
      "\u001b[1;31mNoSuchElementException\u001b[0m                    Traceback (most recent call last)",
      "\u001b[1;32m<ipython-input-22-d33578301cdc>\u001b[0m in \u001b[0;36m<module>\u001b[1;34m\u001b[0m\n\u001b[1;32m----> 1\u001b[1;33m \u001b[0mdriver\u001b[0m\u001b[1;33m.\u001b[0m\u001b[0mfind_element_by_link_text\u001b[0m\u001b[1;33m(\u001b[0m\u001b[1;34m\"❯\"\u001b[0m\u001b[1;33m)\u001b[0m\u001b[1;33m.\u001b[0m\u001b[0mclick\u001b[0m\u001b[1;33m(\u001b[0m\u001b[1;33m)\u001b[0m\u001b[1;33m\u001b[0m\u001b[1;33m\u001b[0m\u001b[0m\n\u001b[0m",
      "\u001b[1;32m~\\anaconda3\\lib\\site-packages\\selenium\\webdriver\\remote\\webdriver.py\u001b[0m in \u001b[0;36mfind_element_by_link_text\u001b[1;34m(self, link_text)\u001b[0m\n\u001b[0;32m    426\u001b[0m             \u001b[0melement\u001b[0m \u001b[1;33m=\u001b[0m \u001b[0mdriver\u001b[0m\u001b[1;33m.\u001b[0m\u001b[0mfind_element_by_link_text\u001b[0m\u001b[1;33m(\u001b[0m\u001b[1;34m'Sign In'\u001b[0m\u001b[1;33m)\u001b[0m\u001b[1;33m\u001b[0m\u001b[1;33m\u001b[0m\u001b[0m\n\u001b[0;32m    427\u001b[0m         \"\"\"\n\u001b[1;32m--> 428\u001b[1;33m         \u001b[1;32mreturn\u001b[0m \u001b[0mself\u001b[0m\u001b[1;33m.\u001b[0m\u001b[0mfind_element\u001b[0m\u001b[1;33m(\u001b[0m\u001b[0mby\u001b[0m\u001b[1;33m=\u001b[0m\u001b[0mBy\u001b[0m\u001b[1;33m.\u001b[0m\u001b[0mLINK_TEXT\u001b[0m\u001b[1;33m,\u001b[0m \u001b[0mvalue\u001b[0m\u001b[1;33m=\u001b[0m\u001b[0mlink_text\u001b[0m\u001b[1;33m)\u001b[0m\u001b[1;33m\u001b[0m\u001b[1;33m\u001b[0m\u001b[0m\n\u001b[0m\u001b[0;32m    429\u001b[0m \u001b[1;33m\u001b[0m\u001b[0m\n\u001b[0;32m    430\u001b[0m     \u001b[1;32mdef\u001b[0m \u001b[0mfind_elements_by_link_text\u001b[0m\u001b[1;33m(\u001b[0m\u001b[0mself\u001b[0m\u001b[1;33m,\u001b[0m \u001b[0mtext\u001b[0m\u001b[1;33m)\u001b[0m\u001b[1;33m:\u001b[0m\u001b[1;33m\u001b[0m\u001b[1;33m\u001b[0m\u001b[0m\n",
      "\u001b[1;32m~\\anaconda3\\lib\\site-packages\\selenium\\webdriver\\remote\\webdriver.py\u001b[0m in \u001b[0;36mfind_element\u001b[1;34m(self, by, value)\u001b[0m\n\u001b[0;32m    974\u001b[0m                 \u001b[0mby\u001b[0m \u001b[1;33m=\u001b[0m \u001b[0mBy\u001b[0m\u001b[1;33m.\u001b[0m\u001b[0mCSS_SELECTOR\u001b[0m\u001b[1;33m\u001b[0m\u001b[1;33m\u001b[0m\u001b[0m\n\u001b[0;32m    975\u001b[0m                 \u001b[0mvalue\u001b[0m \u001b[1;33m=\u001b[0m \u001b[1;34m'[name=\"%s\"]'\u001b[0m \u001b[1;33m%\u001b[0m \u001b[0mvalue\u001b[0m\u001b[1;33m\u001b[0m\u001b[1;33m\u001b[0m\u001b[0m\n\u001b[1;32m--> 976\u001b[1;33m         return self.execute(Command.FIND_ELEMENT, {\n\u001b[0m\u001b[0;32m    977\u001b[0m             \u001b[1;34m'using'\u001b[0m\u001b[1;33m:\u001b[0m \u001b[0mby\u001b[0m\u001b[1;33m,\u001b[0m\u001b[1;33m\u001b[0m\u001b[1;33m\u001b[0m\u001b[0m\n\u001b[0;32m    978\u001b[0m             'value': value})['value']\n",
      "\u001b[1;32m~\\anaconda3\\lib\\site-packages\\selenium\\webdriver\\remote\\webdriver.py\u001b[0m in \u001b[0;36mexecute\u001b[1;34m(self, driver_command, params)\u001b[0m\n\u001b[0;32m    319\u001b[0m         \u001b[0mresponse\u001b[0m \u001b[1;33m=\u001b[0m \u001b[0mself\u001b[0m\u001b[1;33m.\u001b[0m\u001b[0mcommand_executor\u001b[0m\u001b[1;33m.\u001b[0m\u001b[0mexecute\u001b[0m\u001b[1;33m(\u001b[0m\u001b[0mdriver_command\u001b[0m\u001b[1;33m,\u001b[0m \u001b[0mparams\u001b[0m\u001b[1;33m)\u001b[0m\u001b[1;33m\u001b[0m\u001b[1;33m\u001b[0m\u001b[0m\n\u001b[0;32m    320\u001b[0m         \u001b[1;32mif\u001b[0m \u001b[0mresponse\u001b[0m\u001b[1;33m:\u001b[0m\u001b[1;33m\u001b[0m\u001b[1;33m\u001b[0m\u001b[0m\n\u001b[1;32m--> 321\u001b[1;33m             \u001b[0mself\u001b[0m\u001b[1;33m.\u001b[0m\u001b[0merror_handler\u001b[0m\u001b[1;33m.\u001b[0m\u001b[0mcheck_response\u001b[0m\u001b[1;33m(\u001b[0m\u001b[0mresponse\u001b[0m\u001b[1;33m)\u001b[0m\u001b[1;33m\u001b[0m\u001b[1;33m\u001b[0m\u001b[0m\n\u001b[0m\u001b[0;32m    322\u001b[0m             response['value'] = self._unwrap_value(\n\u001b[0;32m    323\u001b[0m                 response.get('value', None))\n",
      "\u001b[1;32m~\\anaconda3\\lib\\site-packages\\selenium\\webdriver\\remote\\errorhandler.py\u001b[0m in \u001b[0;36mcheck_response\u001b[1;34m(self, response)\u001b[0m\n\u001b[0;32m    240\u001b[0m                 \u001b[0malert_text\u001b[0m \u001b[1;33m=\u001b[0m \u001b[0mvalue\u001b[0m\u001b[1;33m[\u001b[0m\u001b[1;34m'alert'\u001b[0m\u001b[1;33m]\u001b[0m\u001b[1;33m.\u001b[0m\u001b[0mget\u001b[0m\u001b[1;33m(\u001b[0m\u001b[1;34m'text'\u001b[0m\u001b[1;33m)\u001b[0m\u001b[1;33m\u001b[0m\u001b[1;33m\u001b[0m\u001b[0m\n\u001b[0;32m    241\u001b[0m             \u001b[1;32mraise\u001b[0m \u001b[0mexception_class\u001b[0m\u001b[1;33m(\u001b[0m\u001b[0mmessage\u001b[0m\u001b[1;33m,\u001b[0m \u001b[0mscreen\u001b[0m\u001b[1;33m,\u001b[0m \u001b[0mstacktrace\u001b[0m\u001b[1;33m,\u001b[0m \u001b[0malert_text\u001b[0m\u001b[1;33m)\u001b[0m\u001b[1;33m\u001b[0m\u001b[1;33m\u001b[0m\u001b[0m\n\u001b[1;32m--> 242\u001b[1;33m         \u001b[1;32mraise\u001b[0m \u001b[0mexception_class\u001b[0m\u001b[1;33m(\u001b[0m\u001b[0mmessage\u001b[0m\u001b[1;33m,\u001b[0m \u001b[0mscreen\u001b[0m\u001b[1;33m,\u001b[0m \u001b[0mstacktrace\u001b[0m\u001b[1;33m)\u001b[0m\u001b[1;33m\u001b[0m\u001b[1;33m\u001b[0m\u001b[0m\n\u001b[0m\u001b[0;32m    243\u001b[0m \u001b[1;33m\u001b[0m\u001b[0m\n\u001b[0;32m    244\u001b[0m     \u001b[1;32mdef\u001b[0m \u001b[0m_value_or_default\u001b[0m\u001b[1;33m(\u001b[0m\u001b[0mself\u001b[0m\u001b[1;33m,\u001b[0m \u001b[0mobj\u001b[0m\u001b[1;33m,\u001b[0m \u001b[0mkey\u001b[0m\u001b[1;33m,\u001b[0m \u001b[0mdefault\u001b[0m\u001b[1;33m)\u001b[0m\u001b[1;33m:\u001b[0m\u001b[1;33m\u001b[0m\u001b[1;33m\u001b[0m\u001b[0m\n",
      "\u001b[1;31mNoSuchElementException\u001b[0m: Message: no such element: Unable to locate element: {\"method\":\"link text\",\"selector\":\"❯\"}\n  (Session info: chrome=91.0.4472.114)\n"
     ]
    }
   ],
   "source": [
    "driver.find_element_by_link_text(\"❯\").click()"
   ]
  },
  {
   "cell_type": "code",
   "execution_count": 34,
   "metadata": {},
   "outputs": [],
   "source": [
    "driver.get(url)"
   ]
  },
  {
   "cell_type": "markdown",
   "metadata": {},
   "source": [
    "# 4. Ready for automation script to scrape all courses in all 5 pages!"
   ]
  },
  {
   "cell_type": "code",
   "execution_count": 38,
   "metadata": {
    "scrolled": true
   },
   "outputs": [
    {
     "name": "stdout",
     "output_type": "stream",
     "text": [
      "Scraped  MECH 403D1\n",
      "Scraped  MECH 403D2\n",
      "Scraped  MECH 403N1\n",
      "Scraped  MECH 403N2\n",
      "Scraped  MECH 404\n",
      "Scraped  MECH 412\n",
      "Scraped  MECH 419\n",
      "Scraped  MECH 430\n",
      "Scraped  MECH 447\n",
      "Scraped  MECH 463D1\n",
      "Scraped  MECH 463D2\n",
      "Scraped  MECH 494\n",
      "Scraped  MECH 497\n",
      "Scraped  MECH 498\n",
      "Scraped  MECH 499\n",
      "Scraped  MECH 500\n",
      "Scraped  MECH 501\n",
      "Scraped  MECH 502\n",
      "Scraped  MECH 510\n",
      "Scraped  MECH 513\n",
      "Scraped  MECH 515\n",
      "Scraped  MECH 516\n",
      "Scraped  MECH 524\n",
      "Scraped  MECH 526\n",
      "Scraped  MECH 528\n",
      "Scraped  MECH 529\n",
      "Scraped  MECH 530\n",
      "Scraped  MECH 532\n",
      "Scraped  MECH 533\n",
      "Scraped  MECH 534\n",
      "Scraped  MECH 535\n",
      "Scraped  MECH 536\n",
      "Scraped  MECH 537\n",
      "Scraped  MECH 538\n",
      "Scraped  MECH 539\n",
      "Scraped  MECH 541\n",
      "Scraped  MECH 542\n",
      "Scraped  MECH 543\n",
      "Scraped  MECH 544\n",
      "Scraped  MECH 546\n",
      "Scraped  MECH 547\n",
      "Scraped  MECH 548\n",
      "Scraped  MECH 550\n",
      "Scraped  MECH 551\n",
      "Scraped  MECH 553\n",
      "Scraped  MECH 554\n",
      "Scraped  MECH 556\n",
      "Scraped  MECH 557\n",
      "Scraped  MECH 559\n",
      "Scraped  MECH 560\n",
      "Scraped  MECH 561\n",
      "Scraped  MECH 562\n",
      "Scraped  MECH 563\n",
      "Scraped  MECH 565\n",
      "Scraped  MECH 566\n",
      "Scraped  MECH 567\n",
      "Scraped  MECH 572\n",
      "Scraped  MECH 573\n",
      "Scraped  MECH 577\n",
      "Scraped  MECH 578\n",
      "Scraped  MECH 579\n",
      "Scraped  MECH 531\n",
      "end has been reached\n",
      "Finished scraping 62 courses\n"
     ]
    }
   ],
   "source": [
    "from selenium.common.exceptions import NoSuchElementException\n",
    "\n",
    "course_names = []\n",
    "course_codes = []\n",
    "course_descs = []\n",
    "counter = 0\n",
    "\n",
    "for link_text in link_texts:\n",
    "    try:\n",
    "        link = driver.find_element_by_link_text(link_text)\n",
    "    except NoSuchElementException:\n",
    "        print(\"no link for {}\".format(link_text))\n",
    "        continue\n",
    "        \n",
    "    time.sleep(1)\n",
    "    link.click()    \n",
    "    time.sleep(3)\n",
    "    page_soup = soup(driver.page_source, 'lxml')\n",
    "    \n",
    "    course_title = re.split(\" \\([0-9]+ credit[s]*\\)\", page_soup.find(\"h1\", {\"id\": \"page-title\"}).text.strip())[0]\n",
    "    course_codes.append(\" \".join(course_title.split()[:2]))\n",
    "    course_names.append(\" \".join(course_title.split()[2:]))\n",
    "    course_descs.append(page_soup.find(\"h3\", text = \"Overview\").findNextSibling().text.strip())\n",
    "    \n",
    "    print(\"Scraped \", course_codes[-1])\n",
    "    counter += 1    \n",
    "    \n",
    "    driver.back()\n",
    "    time.sleep(3)\n",
    "    \n",
    "    #if the last course on the page was just scraped, need to navigate to the next page\n",
    "    if link_text == link_texts[-1]:\n",
    "        try:\n",
    "            driver.find_element_by_link_text(\"❯\").click()\n",
    "        except NoSuchElementException:\n",
    "            print(\"end has been reached\")\n",
    "            break\n",
    "            \n",
    "        time.sleep(3)\n",
    "        page_soup = soup(driver.page_source, 'lxml')\n",
    "        \n",
    "        containers = page_soup.find(\"div\", {\"class\": \"view-content\"}).findAll(\"a\")\n",
    "        link_texts += [container.text.strip().replace(\"\\n\", \"\") for container in containers]\n",
    "\n",
    "        \n",
    "print(\"Finished scraping {} courses\".format(counter))"
   ]
  },
  {
   "cell_type": "markdown",
   "metadata": {},
   "source": [
    "# 5. Inspect collected data and write to CSV"
   ]
  },
  {
   "cell_type": "code",
   "execution_count": 39,
   "metadata": {
    "scrolled": true
   },
   "outputs": [
    {
     "data": {
      "text/plain": [
       "['MECH 403D1',\n",
       " 'MECH 403D2',\n",
       " 'MECH 403N1',\n",
       " 'MECH 403N2',\n",
       " 'MECH 404',\n",
       " 'MECH 412',\n",
       " 'MECH 419',\n",
       " 'MECH 430',\n",
       " 'MECH 447',\n",
       " 'MECH 463D1',\n",
       " 'MECH 463D2',\n",
       " 'MECH 494',\n",
       " 'MECH 497',\n",
       " 'MECH 498',\n",
       " 'MECH 499',\n",
       " 'MECH 500',\n",
       " 'MECH 501',\n",
       " 'MECH 502',\n",
       " 'MECH 510',\n",
       " 'MECH 513',\n",
       " 'MECH 515',\n",
       " 'MECH 516',\n",
       " 'MECH 524',\n",
       " 'MECH 526',\n",
       " 'MECH 528',\n",
       " 'MECH 529',\n",
       " 'MECH 530',\n",
       " 'MECH 532',\n",
       " 'MECH 533',\n",
       " 'MECH 534',\n",
       " 'MECH 535',\n",
       " 'MECH 536',\n",
       " 'MECH 537',\n",
       " 'MECH 538',\n",
       " 'MECH 539',\n",
       " 'MECH 541',\n",
       " 'MECH 542',\n",
       " 'MECH 543',\n",
       " 'MECH 544',\n",
       " 'MECH 546',\n",
       " 'MECH 547',\n",
       " 'MECH 548',\n",
       " 'MECH 550',\n",
       " 'MECH 551',\n",
       " 'MECH 553',\n",
       " 'MECH 554',\n",
       " 'MECH 556',\n",
       " 'MECH 557',\n",
       " 'MECH 559',\n",
       " 'MECH 560',\n",
       " 'MECH 561',\n",
       " 'MECH 562',\n",
       " 'MECH 563',\n",
       " 'MECH 565',\n",
       " 'MECH 566',\n",
       " 'MECH 567',\n",
       " 'MECH 572',\n",
       " 'MECH 573',\n",
       " 'MECH 577',\n",
       " 'MECH 578',\n",
       " 'MECH 579',\n",
       " 'MECH 531']"
      ]
     },
     "execution_count": 39,
     "metadata": {},
     "output_type": "execute_result"
    }
   ],
   "source": [
    "course_codes"
   ]
  },
  {
   "cell_type": "code",
   "execution_count": 40,
   "metadata": {
    "scrolled": true
   },
   "outputs": [
    {
     "data": {
      "text/plain": [
       "['Thesis (Honours)',\n",
       " 'Thesis (Honours)',\n",
       " 'Thesis (Honours)',\n",
       " 'Thesis (Honours)',\n",
       " 'Honours Thesis 2',\n",
       " 'System Dynamics and Control',\n",
       " 'Advanced Mechanics of Systems',\n",
       " 'Fluid Mechanics 2',\n",
       " 'Combustion',\n",
       " 'Design 3: Mechanical Engineering Project',\n",
       " 'Design 3: Mechanical Engineering Project',\n",
       " 'Honours Design Project',\n",
       " 'Value Engineering',\n",
       " 'Interdisciplinary Design Project 1',\n",
       " 'Interdisciplinary Design Project 2',\n",
       " 'Selected Topics in Mechanical Engineering',\n",
       " 'Special Topics: Mechanical Engineering',\n",
       " 'Topics in Mechanical Engineering',\n",
       " 'Engineering Acoustics',\n",
       " 'Control Systems',\n",
       " 'Unsteady Gasdynamics',\n",
       " 'Computational Gasdynamics',\n",
       " 'Computer Integrated Manufacturing',\n",
       " 'Manufacturing and the Environment',\n",
       " 'Product Design',\n",
       " 'Discrete Manufacturing Systems',\n",
       " 'Mechanics of Composite Materials',\n",
       " 'Aircraft Performance, Stability and Control',\n",
       " 'Subsonic Aerodynamics',\n",
       " 'Air Pollution Engineering',\n",
       " 'Turbomachinery and Propulsion',\n",
       " 'Aerospace Structures',\n",
       " 'High-Speed Aerodynamics',\n",
       " 'Unsteady Aerodynamics',\n",
       " 'Computational Aerodynamics',\n",
       " 'Kinematic Synthesis',\n",
       " 'Spacecraft Dynamics',\n",
       " 'Design with Composite Materials',\n",
       " 'Processing of Composite Materials',\n",
       " 'Finite Element Methods in Solid Mechanics',\n",
       " 'Mechanics of Biological Materials',\n",
       " 'Cellular Materials in Natural and Engineering Structures',\n",
       " 'Vibrations of Continuous Systems',\n",
       " 'Nonlinear Dynamics of Shell Structures',\n",
       " 'Design and Manufacture of Microdevices',\n",
       " 'Microprocessors for Mechanical Systems',\n",
       " 'Microfluidics and BioMEMS',\n",
       " 'Mechatronic Design',\n",
       " 'Engineering Systems Optimization',\n",
       " 'Eco-design and Product Life Cycle Assessment',\n",
       " 'Biomechanics of Musculoskeletal Systems',\n",
       " 'Advanced Fluid Mechanics',\n",
       " 'Biofluids and Cardiovascular Mechanics',\n",
       " 'Fluid Flow and Heat Transfer Equipment',\n",
       " 'Fluid-Structure Interactions',\n",
       " 'Structural Dynamics of Turbomachines',\n",
       " 'Mechanics and Control of Robotic Manipulators',\n",
       " 'Mechanics of Robotic Systems',\n",
       " 'Optimum Design',\n",
       " 'Advanced Thermodynamics',\n",
       " 'Multidisciplinary Design Optimization',\n",
       " 'Aeroelasticity']"
      ]
     },
     "execution_count": 40,
     "metadata": {},
     "output_type": "execute_result"
    }
   ],
   "source": [
    "course_names"
   ]
  },
  {
   "cell_type": "code",
   "execution_count": 41,
   "metadata": {},
   "outputs": [
    {
     "data": {
      "text/plain": [
       "['Mechanical Engineering : This course, together with MECH 404, involves a research project containing both engineering theory and design components, and requiring a theoretical and/or experimental investigation. Students are supervised by the course instructor and mentored by one or more staff members. The work culminates with the submission of a thesis.',\n",
       " 'Mechanical Engineering : See MECH 403D1 for course description.',\n",
       " 'Mechanical Engineering : This course, together with MECH 404, involves a research project containing both engineering theory and design components, and requiring a theoretical and/or experimental investigation. Students are supervised by the course instructor and mentored by one or more staff members. The work culminates with the submission of a thesis.',\n",
       " 'Mechanical Engineering : See MECH 403N1 for course description.',\n",
       " 'Mechanical Engineering : This course is part of the same thesis project as course MECH 403.',\n",
       " 'Mechanical Engineering : Modelling of physical linear time-invariant systems using transfer functions. Transient and steady-state response specifications. State space representation of systems. Frequency-response characterization. Stability. Feedback control systems. PID controller design. Root locus and frequency response design methods. Lead, lag and PID compensators.',\n",
       " \"Mechanical Engineering : Lagrange's equations of motion. Hamilton's principle. Variational methods. Discrete linear systems: analytical and numerical methods. Distributed parameter systems: exact solutions and discretization techniques. Electrical-mechanical-acoustical analogies. Stability of systems. Nonlinear dynamics: phase-plane, perturbation and other methods of solution.\",\n",
       " 'Mechanical Engineering : Review of thermodynamics of gases, one dimensional isentropic flow and choking. Nozzles and wind tunnels. Normal shock waves. Flow in constant area ducts with friction and heat exchange. Compressible irrotational flow. Oblique shock waves and Prandtl-Meyer expansion. Supersonic aerofoil and wing theory.',\n",
       " 'Mechanical Engineering : Equilibrium analysis of reacting systems, Hugoniot analysis, flame propagation mechanisms, introduction to chemical kinetics, models for laminar flame propagation, ignition, quenching, flammability limits, turbulent flames, flame instability mechanisms, detonations, solid and liquid combustion.',\n",
       " 'Mechanical Engineering : Team project work typically involving the design, fabrication, verification, and application of a mechanical device/system, or experimental facility. The project work is complemented with lectures in the Fall term on topics related to design and management of design projects. Emphasis is on the completion of a project of professional quality.',\n",
       " 'Mechanical Engineering : See MECH 463D1 for course description.',\n",
       " 'Mechanical Engineering : An advanced design project course with emphasis on analytical solutions, performance prediction and validation, and planning for production. Students are supervised by the course instructor and mentored by one or more staff members.',\n",
       " 'Mechanical Engineering : Value Engineering is an in-depth analysis of an industrial product or process with a view to improving its design and/or performance to increase its worth. This is a workshop type of course. Projects will be supplied by industrial firms and students will work in teams with industrial personnel.',\n",
       " 'Mechanical Engineering : Completion of an individual project on an interdisciplinary theme with emphasis on a balanced combination on analysis and synthesis.',\n",
       " 'Mechanical Engineering : The individual project initiated in MECH 498 is continued and finalized in this course.',\n",
       " 'Mechanical Engineering : A course to allow the introduction of new topics in Mechanical Engineering as needs arise, by regular and visiting staff.',\n",
       " 'Mechanical Engineering : A course to allow the introduction of new topics in Mechanical Engineering as needs arise, by regular and visiting staff.',\n",
       " 'Mechanical Engineering : A course to allow the introduction of new topics in Mechanical Engineering as needs arise, by regular and visiting staff.',\n",
       " 'Mechanical Engineering : Vibratory and acoustic disturbances propagated in homogeneous media. Modelling of acoustic systems using lumped-parameters. Simple sound wave fields, transverse waves in strings and bars, longitudinal waves in bars, and transverse waves in membranes, beams, and plates. Basic wave propagation phenomena and sound source models.',\n",
       " 'Mechanical Engineering : State-space modelling and related linear algebra.  Controllability and observability of linear time-invariant systems and corresponding tests, system realizations. Stability: Bounded-Input-Bounded-Output (BIBO), internal, Lyapunov.  Linear state feedback control: pole placement and root locus design methods, linear quadratic regulator.  State observers: full- and reduced-order designs, separation principle, Linear Quadratic Gaussian (LQG) design. Introduction to optimal control and optimal state estimation.',\n",
       " 'Mechanical Engineering : Fundamentals of unsteady gasdynamics. Shock and detonation waves in gases and condensed material. Condensed explosives: hydrodynamic theory, equations of state, initiation. Shock interactions. Blast wave theory, similarity methods, blast scaling.',\n",
       " 'Mechanical Engineering : Fundamentals of computational fluid dynamics. Numerical methods for hyperbolic conservation laws: first- and higher-order upwind schemes; monotonicity and Godunov theorem; total-variation-diminishing schemes; Riemann solvers; treatment of source terms; multi-dimensional methods. Introduction to grid generation and adaptation. Methodology for the comparison of numerical and experimental results.',\n",
       " 'Mechanical Engineering : A study of the present impact of computers and automation on manufacturing. Computer-aided systems. Information modelling. Information system structures. Study of several types of production systems. Integration issues: inter-and intra-enterprise. Laboratory experience with manufacturing software systems.',\n",
       " 'Mechanical Engineering : Course topics include: clean manufacturing, product and process design for minimizing materials and energy use, the product life cycle, impact of technology on the environment, environmental impact assessment, regulatory process, and managing the \"political\" process.',\n",
       " 'Mechanical Engineering : A study of the design issues present in product life cycle demands. Computer-aided systems. Rapid prototyping. Design for manufacturability. Integration of mechanics, electronics and software in products. Effect on design of product cost, maintainability, recycling, marketability.',\n",
       " 'Mechanical Engineering : An overview of present day production machines and systems with special emphasis on automation, computer control and integration techniques. Material handling, automatic inspection, process monitoring, maintenance. Socio-economic and environmental issues. Laboratory experience with factory simulation.',\n",
       " 'Mechanical Engineering : Fiber-reinforced composites. Stress, strain, and strength of composite laminates and honeycomb structures. Failure modes and failure criteria. Environmental effects. Manufacturing processes. Design of composite structures. Computer modelling of composites. Computer techniques are utilized throughout the course.',\n",
       " 'Mechanical Engineering : Aircraft performance criteria such as range, endurance, rate of climb, maximum ceiling for steady and accelerated flight. Landing and take-off distances. Static and dynamic stability in the longitudinal (stick-fixed and stick-free) and coupled lateral and directional modes. Control response for all three modes.',\n",
       " 'Mechanical Engineering : Kinematics: equations of motion; vorticity and circulation, conformal mapping and flow round simple bodies. Two-dimensional flow round aerofoils. Three-dimensional flows; high and low aspect-ratio wings; airscrews. Wind tunnel interference. Similarity rules for subsonic irrotational flows.',\n",
       " 'Mechanical Engineering : Pollutants from power production and their effects on the environment. Mechanisms of pollutant formation in combustion. Photochemical pollutants and smog, atmospheric dispersion. Pollutant generation from internal combustion engines and stationary power plants. Methods of pollution control (exhaust gas treatment, absorption, filtration, scrubbers, etc.).',\n",
       " 'Mechanical Engineering : Introduction to propulsion: turboprops, turbofans and turbojets. Review of thermodynamic cycles. Euler turbine equation. Velocity triangles. Axial-flow compressors and pumps. Centrifugal compressors and pumps. Axial-flow turbines. Loss mechanisms. Dimensional analysis of turbomachines. Performance maps. 3-D effects. Introduction to numerical methods in turbomachines. Prediction of performance of gas turbines.',\n",
       " 'Mechanical Engineering : Aircraft and spacecraft structural components and loads. Bending, shear, torsion and buckling of thin-walled open and closed sections. Structural idealization. Principle of stiffener / web construction. Trusses and isogrid structures. Wing spars and box beams. Fuselage frames and wing ribs. Analysis of riveted, bolted and\\nadhesive joints. Sandwich structures analysis. Thermoelasticity analysis for spacecraft structures.',\n",
       " 'Mechanical Engineering : Equations of compressible flows. Planar and conical shock waves. Expansion and shock wave interference; shock tubes. Method of characteristics. Supersonic nozzle design. Aerofoil theory in high subsonic, supersonic and hypersonic flows. Conical flows. Yawed, delta and polygonal wings; rolling and pitching rotations. Wing-body systems. Elements of transonic flows.',\n",
       " \"Mechanical Engineering : Fundamental equations of unsteady compressible flows in fixed or moving reference frames. Unsteady flows past bodies in translation and having oscillatory motions. Oscillations of cylindrical pipes or shells subjected to internal flows. Vortex theory of oscillating aerofoils in incompressible flows. Theodorsen's method. Unsteady compressible flow past oscillating aerofoils.\",\n",
       " 'Mechanical Engineering : Fundamental equations. Basic flow singularities. Boundary element methods. Source, doublet and vortex panel methods for 2D and 3D incompressible and compressible flows. Method of characteristics. Euler equations for inviscid rotational flows. Finite-difference and finite-volume methods. Explicit and implicit time-integration methods. Quasi 1D solutions. Nozzle and confined aerofoil applications.',\n",
       " 'Mechanical Engineering : The role of kinematic synthesis within the design process. Degree of freedom. Kinematic pairs and bonds. Groups and subgroups of displacements. Applications to the qualitative synthesis of parallel-kinematics machines with three and four degrees of freedom. Function, motion and path generation problems in planar, spherical and spatial four-bar linkages. Extensions to six-bar linkages. Cam mechanisms.',\n",
       " \"Mechanical Engineering : Review of central force motion; Hohmann and other coplanar transfers, rotation of the orbital plane, patched conic method. Orbital perturbations due to the earth's oblateness, solar-lunar attraction, solar radiation pressure and atmospheric drag. Attitude dynamics of a rigid spacecraft; attitude stabilization and control; attitude manoeuvers; large space structures.\",\n",
       " 'Mechanical Engineering : Material systems/selection process. Cost vs. performance. Laminate layup procedures. Theory and application of filament winding of composite cylinders. Regular oven and autoclave oven curing, analysis of resulting material performance. Practical design considerations and tooling. Analysis of environmental considerations. Joining techniques. Analysis of test methods. Theory of repair techniques.',\n",
       " 'Mechanical Engineering : Composite processing science basic principles. Reinforcement properties; permeability, compaction. Resin properties; curing, viscosity, shrinkage. Heat transfer and cure kinetics; cure cycle optimization. Resin flow; infusion, thickness variations, fiber volume fraction distribution. Residual stresses; tool-part interaction, warpage control, spring-back, tool design. Thermoplastic composites; crystallization control, melting and consolidation.',\n",
       " 'Mechanical Engineering : Discrete systems; variational formulation and approximation for continuous systems; direct and variational methods of element formulation in 1- 2- and 3 dimensions; formulation of isoparametric finite elements; plate and shell elements; finite element method for static analysis, vibration analysis and structural dynamics; introduction to nonlinear problems.',\n",
       " 'Mechanical Engineering : Mechanics of proteins (collagen, keratin), polysaccharides (cellulose, chitin), cells, skin, bone, teeth, seashells, insect and arthropod cuticles. Emphasis on microstructure-property-function relationships and on multiscale approach. State-of-the-art experimental and modelling techniques. Self-healing and adaptive biological materials.',\n",
       " 'Mechanical Engineering : Overview of hierarchical solids exhibiting cellular structure. Cell size, shape and topology of bending and stretching dominated materials, including periodic microtruss lattice, plant cellular tissue and trabecular bone. Theories for modelling the mechanics and the physical properties; design and optimization of multifunctional cellular solids for ultralight aerospace and biomedical applications.',\n",
       " 'Mechanical Engineering : Introduction to continuous systems. Discretization methods. Vibrations of Euler-Bernoulli and Timoshenko beams. Boundary conditions, intermediate supports and penalty method. Strain-displacement relationships for plates/shells. Vibrations of plates and shells. Sloshing and added mass. Effect of geometric imperfections and thermal loads. Introduction to nonlinear dynamics and stability. Introduction to experimental techniques.',\n",
       " 'Mechanical Engineering : Introduction to nonlinear dynamics and stability; softening and hardening systems; bifurcations; Lyapunov exponents; nonlinear strain-displacement relationships; Lagrangian description; plates and shells; nonlinear vibrations of plates and shells; reduced-order models; stability of shells with cardiovascular application; supersonic flutter of circular cylindrical shells (rockets).',\n",
       " 'Mechanical Engineering : Introduction to microelectromechanical systems (MEMS). Micromachining techniques (thin-film deposition; lithography; etching; bonding). Microscale mechanical behaviour (deformation and fracture; residual stresses; adhesion; experimental techniques). Materials- and process-selection. Process integration. Design of microdevice components to meet specified performance and reliability targets using realistic manufacturing processes.',\n",
       " 'Mechanical Engineering : Digital logic and circuits - asynchronous and synchronous design. Microcontroller architectures, organization and programming - assembly and high-level. Analog/ digital/hybrid sensors and actuators. Sensing and conditioning subsystems. Interfacing issues. Real-time issues. Operator interfaces. Laboratory exercises on digital logic design, interfacing and control of peripherals with a final team project.',\n",
       " 'Mechanical Engineering : Fundamentals of micro-electro-mechanical systems (MEMS) and microfluidic devices (also called lab-on-a-chip devices), and their applications to biology and medicine. Topics include: microfabrication techniques, MEMS sensing and actuation principles, microfluidics theories, microfluidic device design, packaging and characterization of MEMS and microfluidic devices, bioanalytical techniques in microfluidics. Students will have the opportunity to conduct two term designs in microfluidics and bioMEMS.',\n",
       " 'Mechanical Engineering : Team project course on the design, modelling, model validation, and control of complete mechatronic systems, constructed with modern sensors, actuators, real-time operating systems, embedded controllers, and intelligent control.',\n",
       " 'Mechanical Engineering : Introduction to systems-oriented engineering design optimization. Emphasis on i) understanding and representing engineering systems and their structure, ii) obtaining, developing, and managing adequate computational (physics- and data-based) models for their analysis, iii) constructing appropriate design models for their synthesis, and iv) applying suitable algorithms for their numerical optimization while accounting for systems integration issues. Advanced topics such as coordination of distributed problems and non-deterministic design optimization methods.',\n",
       " 'Mechanical Engineering : Fundamentals of both product and process engineering with an emphasis on life cycle models and sustainability. Practical and theoretical topics, methodologies,\\nprinciples, and techniques. Practical methods such as Life Cycle Analysis, eco-design strategies, streamlined Life Cycle Assessment, environmental impact\\nassessment, and Life Cycle Engineering. Introduction to important product development theories and life cycle assessment theories.',\n",
       " 'Mechanical Engineering : The musculoskeletal system; general characteristics and classification of tissues and joints. Biomechanics and clinical problems in orthopaedics. Modelling and force analysis of musculoskeletal systems. Passive and active kinematics. Load-deformation properties of passive connective tissue, passive and stimulated muscle response. Experimental approaches, case studies.',\n",
       " 'Mechanical Engineering : Conservation laws, control volume analysis, Navier stokes equations, dimensional analysis and limiting forms of N-S equation, laminar viscous flows, boundary layer theory, inviscid potential flows, lift and drag, introduction to turbulence.',\n",
       " 'Mechanical Engineering : Basic principles of circulation including vascular fluid and solid mechanics, modelling techniques, clinical and experimental methods and the design of cardiovascular devices.',\n",
       " 'Mechanical Engineering : Pipes and piping systems, pumps, and valves. Fans and building air distribution systems. Basic thermal design methods for fins and heat exchangers. Thermal design of shell-and-tube and compact heat exchangers.',\n",
       " 'Mechanical Engineering : Pipes and cylindrical shells containing flow: fundamentals and applications in ocean mining, Coriolis mass-flow meters, heat exchangers, nuclear reactors and aircraft engines; chaos. Cylinders in axial flow and in cross-flow; vortex-shedding and galloping. Cylinder arrays in cross-flow; fluidelastic instabilities. Ovalling of chimneys.',\n",
       " 'Mechanical Engineering : Fundamentals of turbomachines from the standpoint of structural dynamics and vibration analysis, with preference given to aerospace applications involving\\naircraft and helicopter engines. Topics include: introduction to the finite element method, aircraft/helicopter engines architecture and main components, general equations of motion in rotordynamics, advanced modal analysis, Campbell diagrams and critical rotational velocity, mistuning and cyclic symmetry, fluid-structure coupling, flutter analysis, high-cycle fatigue.',\n",
       " 'Mechanical Engineering : Historical development and applications of robotic manipulators. Homogeneous\\ntransformations and geometry. Forward and inverse kinematics, manipulator Jacobian.\\nNewton-Euler and Lagrangian formulations of inverse and forward dynamics. Trajectory\\nplanning for pick-and-place operations. Linear independent joint control and nonlinear model-based control schemes.',\n",
       " 'Mechanical Engineering : Manipulator performance and design. Pick-and-place and continuous-path operations. Computation of rigid-body angular velocity and acceleration from point-data measurements. Inverse kinematics of serial manipulators with coupled architectures; kinetostatics of multifingered hands and walking machines. Kinematics and dynamics of parallel manipulators and wheeled mobile robots.',\n",
       " 'Mechanical Engineering : The role of optimization within the design process: Design methodology and philosophy. Constrained optimization: The Kuhn-Tucker conditions. Techniques of linear and non-linear programming. The simplex and the complex methods. Sensitivity of the design to manufacturing errors. Robustness of the design to manufacturing and operation errors.',\n",
       " 'Mechanical Engineering : Review of classical mechanics; Boltzmann statistics, thermodynamics of ideal gases; Fermi-Dirac and Bose-Einstein statistics, Gibbsian ensembles; elementary kinetic theory of transport processes, Boltzmann equation, Boltzmann H-theorem and entropy, KBG approximation, discussion on the solution of Boltzmann equation; Maxwell transport equations, derivation of Navier Stokes equations.',\n",
       " 'Mechanical Engineering : A comprehensive introduction to important algorithms in sensitivity analysis and multidisciplinary design optimization of large systems. Topics include: unconstrained and constrained optimization, sensitivity analysis, gradient-free optimization, multi-objective optimization, and various multidisciplinary algorithms and approaches for design optimization.',\n",
       " 'Mechanical Engineering : Wing divergence using strip-theory aerodynamics. Effect of aircraft flexibility on the control and stability. Flutter calculations for two-dimensional wings with discussion of three-dimensional effects. Some examples of aeroelastic instability, and the relevant analysis of non-aeronautical problems.']"
      ]
     },
     "execution_count": 41,
     "metadata": {},
     "output_type": "execute_result"
    }
   ],
   "source": [
    "course_descs"
   ]
  },
  {
   "cell_type": "code",
   "execution_count": 42,
   "metadata": {},
   "outputs": [
    {
     "data": {
      "text/html": [
       "<div>\n",
       "<style scoped>\n",
       "    .dataframe tbody tr th:only-of-type {\n",
       "        vertical-align: middle;\n",
       "    }\n",
       "\n",
       "    .dataframe tbody tr th {\n",
       "        vertical-align: top;\n",
       "    }\n",
       "\n",
       "    .dataframe thead th {\n",
       "        text-align: right;\n",
       "    }\n",
       "</style>\n",
       "<table border=\"1\" class=\"dataframe\">\n",
       "  <thead>\n",
       "    <tr style=\"text-align: right;\">\n",
       "      <th></th>\n",
       "      <th>Course Number</th>\n",
       "      <th>Course Name</th>\n",
       "      <th>Course Description</th>\n",
       "    </tr>\n",
       "  </thead>\n",
       "  <tbody>\n",
       "    <tr>\n",
       "      <th>0</th>\n",
       "      <td>MECH 403D1</td>\n",
       "      <td>Thesis (Honours)</td>\n",
       "      <td>Mechanical Engineering : This course, together...</td>\n",
       "    </tr>\n",
       "    <tr>\n",
       "      <th>1</th>\n",
       "      <td>MECH 403D2</td>\n",
       "      <td>Thesis (Honours)</td>\n",
       "      <td>Mechanical Engineering : See MECH 403D1 for co...</td>\n",
       "    </tr>\n",
       "    <tr>\n",
       "      <th>2</th>\n",
       "      <td>MECH 403N1</td>\n",
       "      <td>Thesis (Honours)</td>\n",
       "      <td>Mechanical Engineering : This course, together...</td>\n",
       "    </tr>\n",
       "    <tr>\n",
       "      <th>3</th>\n",
       "      <td>MECH 403N2</td>\n",
       "      <td>Thesis (Honours)</td>\n",
       "      <td>Mechanical Engineering : See MECH 403N1 for co...</td>\n",
       "    </tr>\n",
       "    <tr>\n",
       "      <th>4</th>\n",
       "      <td>MECH 404</td>\n",
       "      <td>Honours Thesis 2</td>\n",
       "      <td>Mechanical Engineering : This course is part o...</td>\n",
       "    </tr>\n",
       "    <tr>\n",
       "      <th>...</th>\n",
       "      <td>...</td>\n",
       "      <td>...</td>\n",
       "      <td>...</td>\n",
       "    </tr>\n",
       "    <tr>\n",
       "      <th>57</th>\n",
       "      <td>MECH 573</td>\n",
       "      <td>Mechanics of Robotic Systems</td>\n",
       "      <td>Mechanical Engineering : Manipulator performan...</td>\n",
       "    </tr>\n",
       "    <tr>\n",
       "      <th>58</th>\n",
       "      <td>MECH 577</td>\n",
       "      <td>Optimum Design</td>\n",
       "      <td>Mechanical Engineering : The role of optimizat...</td>\n",
       "    </tr>\n",
       "    <tr>\n",
       "      <th>59</th>\n",
       "      <td>MECH 578</td>\n",
       "      <td>Advanced Thermodynamics</td>\n",
       "      <td>Mechanical Engineering : Review of classical m...</td>\n",
       "    </tr>\n",
       "    <tr>\n",
       "      <th>60</th>\n",
       "      <td>MECH 579</td>\n",
       "      <td>Multidisciplinary Design Optimization</td>\n",
       "      <td>Mechanical Engineering : A comprehensive intro...</td>\n",
       "    </tr>\n",
       "    <tr>\n",
       "      <th>61</th>\n",
       "      <td>MECH 531</td>\n",
       "      <td>Aeroelasticity</td>\n",
       "      <td>Mechanical Engineering : Wing divergence using...</td>\n",
       "    </tr>\n",
       "  </tbody>\n",
       "</table>\n",
       "<p>62 rows × 3 columns</p>\n",
       "</div>"
      ],
      "text/plain": [
       "   Course Number                            Course Name  \\\n",
       "0     MECH 403D1                       Thesis (Honours)   \n",
       "1     MECH 403D2                       Thesis (Honours)   \n",
       "2     MECH 403N1                       Thesis (Honours)   \n",
       "3     MECH 403N2                       Thesis (Honours)   \n",
       "4       MECH 404                       Honours Thesis 2   \n",
       "..           ...                                    ...   \n",
       "57      MECH 573           Mechanics of Robotic Systems   \n",
       "58      MECH 577                         Optimum Design   \n",
       "59      MECH 578                Advanced Thermodynamics   \n",
       "60      MECH 579  Multidisciplinary Design Optimization   \n",
       "61      MECH 531                         Aeroelasticity   \n",
       "\n",
       "                                   Course Description  \n",
       "0   Mechanical Engineering : This course, together...  \n",
       "1   Mechanical Engineering : See MECH 403D1 for co...  \n",
       "2   Mechanical Engineering : This course, together...  \n",
       "3   Mechanical Engineering : See MECH 403N1 for co...  \n",
       "4   Mechanical Engineering : This course is part o...  \n",
       "..                                                ...  \n",
       "57  Mechanical Engineering : Manipulator performan...  \n",
       "58  Mechanical Engineering : The role of optimizat...  \n",
       "59  Mechanical Engineering : Review of classical m...  \n",
       "60  Mechanical Engineering : A comprehensive intro...  \n",
       "61  Mechanical Engineering : Wing divergence using...  \n",
       "\n",
       "[62 rows x 3 columns]"
      ]
     },
     "execution_count": 42,
     "metadata": {},
     "output_type": "execute_result"
    }
   ],
   "source": [
    "import pandas as pd\n",
    "\n",
    "df = pd.DataFrame({\n",
    "    \n",
    "    \"Course Number\": course_codes,\n",
    "    \"Course Name\": course_names,\n",
    "    \"Course Description\": course_descs    \n",
    "    \n",
    "})\n",
    "\n",
    "df"
   ]
  },
  {
   "cell_type": "code",
   "execution_count": 43,
   "metadata": {},
   "outputs": [],
   "source": [
    "df.to_csv('McGill_Possible_MECH_electives_(400s_and_500s)_Courses.csv', index = False)"
   ]
  },
  {
   "cell_type": "code",
   "execution_count": 44,
   "metadata": {},
   "outputs": [],
   "source": [
    "driver.quit()"
   ]
  }
 ],
 "metadata": {
  "kernelspec": {
   "display_name": "Python 3",
   "language": "python",
   "name": "python3"
  },
  "language_info": {
   "codemirror_mode": {
    "name": "ipython",
    "version": 3
   },
   "file_extension": ".py",
   "mimetype": "text/x-python",
   "name": "python",
   "nbconvert_exporter": "python",
   "pygments_lexer": "ipython3",
   "version": "3.8.5"
  }
 },
 "nbformat": 4,
 "nbformat_minor": 4
}
