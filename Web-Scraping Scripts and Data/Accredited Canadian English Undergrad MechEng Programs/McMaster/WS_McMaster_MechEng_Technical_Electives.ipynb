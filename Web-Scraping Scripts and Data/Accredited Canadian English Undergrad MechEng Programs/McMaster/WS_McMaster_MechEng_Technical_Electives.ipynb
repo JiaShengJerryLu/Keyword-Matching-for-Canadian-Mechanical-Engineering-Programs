{
 "cells": [
  {
   "cell_type": "code",
   "execution_count": 1,
   "metadata": {},
   "outputs": [],
   "source": [
    "from bs4 import BeautifulSoup as soup\n",
    "from urllib.request import urlopen as ureq\n",
    "from selenium import webdriver\n",
    "import time\n",
    "import re"
   ]
  },
  {
   "cell_type": "code",
   "execution_count": 2,
   "metadata": {},
   "outputs": [],
   "source": [
    "url = \"https://academiccalendars.romcmaster.ca/preview_program.php?catoid=41&poid=21907\""
   ]
  },
  {
   "cell_type": "code",
   "execution_count": 3,
   "metadata": {},
   "outputs": [],
   "source": [
    "chrome_options = webdriver.ChromeOptions()\n",
    "chrome_options.add_argument('--ignore-certificate-errors')\n",
    "chrome_options.add_argument('--incognito')\n",
    "#chrome_options.add_argument('--headless')\n",
    "\n",
    "driver = webdriver.Chrome(\"C:\\\\Users\\\\jerry\\\\Downloads\\\\chromedriver\", options=chrome_options)"
   ]
  },
  {
   "cell_type": "code",
   "execution_count": 4,
   "metadata": {},
   "outputs": [],
   "source": [
    "driver.get(url)"
   ]
  },
  {
   "cell_type": "markdown",
   "metadata": {},
   "source": [
    "# 1. Collect course link texts for driver to click open"
   ]
  },
  {
   "cell_type": "code",
   "execution_count": 5,
   "metadata": {},
   "outputs": [],
   "source": [
    "page_soup = soup(driver.page_source, 'lxml')"
   ]
  },
  {
   "cell_type": "code",
   "execution_count": 6,
   "metadata": {},
   "outputs": [
    {
     "data": {
      "text/plain": [
       "46"
      ]
     },
     "execution_count": 6,
     "metadata": {},
     "output_type": "execute_result"
    }
   ],
   "source": [
    "containers = page_soup.find(\"ul\", {\"style\": \"list-style-type:disc;\"}).findAll(\"a\")\n",
    "len(containers)"
   ]
  },
  {
   "cell_type": "code",
   "execution_count": 7,
   "metadata": {
    "scrolled": true
   },
   "outputs": [
    {
     "data": {
      "text/plain": [
       "['CHEMENG 4T03',\n",
       " 'ENGINEER 4T04',\n",
       " 'MATLS 4T03',\n",
       " 'MECHENG 4B03',\n",
       " '4BB3',\n",
       " '4CC3',\n",
       " '4E03',\n",
       " '4H03',\n",
       " '4I03',\n",
       " '4K03',\n",
       " '4L03',\n",
       " '4N03',\n",
       " '4T03',\n",
       " '4Y03',\n",
       " '4Z03',\n",
       " 'CHEMENG 4X03',\n",
       " '4T04',\n",
       " 'MATLS 4T03',\n",
       " 'MECHENG 4B03',\n",
       " '4C03',\n",
       " '4D03',\n",
       " '4E03',\n",
       " '4H03',\n",
       " '4K03',\n",
       " '4N03',\n",
       " '4T03',\n",
       " '4Y03',\n",
       " '4Z03',\n",
       " 'MECHENG 4S03',\n",
       " 'CHEMENG 4X03',\n",
       " 'ENGPHYS 3D03',\n",
       " '4D03',\n",
       " '4NE3',\n",
       " '4P03',\n",
       " 'MECHENG 4AA3',\n",
       " '4I03',\n",
       " '4J03',\n",
       " '4N03',\n",
       " '4O04',\n",
       " '4T03',\n",
       " '4U03',\n",
       " '4W03',\n",
       " '4Y03',\n",
       " 'CIVENG 3K03',\n",
       " 'COMMERCE 4QA3',\n",
       " 'ENGINEER 3N03']"
      ]
     },
     "execution_count": 7,
     "metadata": {},
     "output_type": "execute_result"
    }
   ],
   "source": [
    "link_texts = [container.text for container in containers]\n",
    "link_texts"
   ]
  },
  {
   "cell_type": "markdown",
   "metadata": {},
   "source": [
    "# 2. Test run - try to scrape the first course"
   ]
  },
  {
   "cell_type": "code",
   "execution_count": 13,
   "metadata": {},
   "outputs": [],
   "source": [
    "driver.find_element_by_link_text(link_texts[0]).click()"
   ]
  },
  {
   "cell_type": "code",
   "execution_count": 14,
   "metadata": {},
   "outputs": [],
   "source": [
    "page_soup = soup(driver.page_source, 'lxml')"
   ]
  },
  {
   "cell_type": "code",
   "execution_count": 16,
   "metadata": {},
   "outputs": [
    {
     "data": {
      "text/plain": [
       "<div><h3>CHEMENG 4T03 - Applications of Chemical Engineering in Medicine </h3>    3 unit(s) <br/><hr/>Applications of chemical engineering principles to biological systems and medical problems including examples from hemodynamics, blood oxygenation, artificial kidney systems, controlled drug release, biosensors and biomaterials.<br/>\n",
       "Three lectures; second term<br/>\n",
       "<strong>Prerequisite(s):</strong> Registration in Level III or above in any engineering program or registration in Level IV or above in the Integrated Biomedical Engineering &amp; Health Sciences (IBEHS) Program; or permission of the Department<br/></div>"
      ]
     },
     "execution_count": 16,
     "metadata": {},
     "output_type": "execute_result"
    }
   ],
   "source": [
    "container = page_soup.find(\"table\", {\"class\": \"nopom\"}).find(\"div\", {\"class\": None})\n",
    "container"
   ]
  },
  {
   "cell_type": "code",
   "execution_count": 17,
   "metadata": {},
   "outputs": [
    {
     "data": {
      "text/plain": [
       "'CHEMENG 4T03 - Applications of Chemical Engineering in Medicine'"
      ]
     },
     "execution_count": 17,
     "metadata": {},
     "output_type": "execute_result"
    }
   ],
   "source": [
    "course_title = container.h3.text.strip()\n",
    "course_title"
   ]
  },
  {
   "cell_type": "code",
   "execution_count": 18,
   "metadata": {},
   "outputs": [
    {
     "data": {
      "text/plain": [
       "'Applications of chemical engineering principles to biological systems and medical problems including examples from hemodynamics, blood oxygenation, artificial kidney systems, controlled drug release, biosensors and biomaterials.'"
      ]
     },
     "execution_count": 18,
     "metadata": {},
     "output_type": "execute_result"
    }
   ],
   "source": [
    "course_desc = container.text.split(\"unit(s) \")[1].split(\"\\n\")[0]\n",
    "course_desc"
   ]
  },
  {
   "cell_type": "code",
   "execution_count": 19,
   "metadata": {},
   "outputs": [],
   "source": [
    "driver.find_element_by_link_text(link_texts[0]).click()"
   ]
  },
  {
   "cell_type": "code",
   "execution_count": 20,
   "metadata": {},
   "outputs": [],
   "source": [
    "driver.find_element_by_link_text(link_texts[1]).click()"
   ]
  },
  {
   "cell_type": "markdown",
   "metadata": {},
   "source": [
    "### automating this will be quite difficult, many of the link texts are identical but belong to different courses or do belong to the same course. Many edge cases would exist in an automation script"
   ]
  },
  {
   "cell_type": "code",
   "execution_count": 29,
   "metadata": {
    "scrolled": true
   },
   "outputs": [
    {
     "data": {
      "text/plain": [
       "[<selenium.webdriver.remote.webelement.WebElement (session=\"32155268da36d6877fa49bfc34e0dad2\", element=\"b5d84518-10f8-4653-be49-af08e9cffa8e\")>]"
      ]
     },
     "execution_count": 29,
     "metadata": {},
     "output_type": "execute_result"
    }
   ],
   "source": [
    "driver.find_elements_by_link_text(\"4L03\")"
   ]
  },
  {
   "cell_type": "code",
   "execution_count": 30,
   "metadata": {},
   "outputs": [],
   "source": [
    "driver.find_elements_by_link_text(\"4L03\")[0].click()"
   ]
  },
  {
   "cell_type": "code",
   "execution_count": 31,
   "metadata": {},
   "outputs": [
    {
     "data": {
      "text/plain": [
       "'CHEMENG 4K03 - Reactor Design for Heterogeneous Systems'"
      ]
     },
     "execution_count": 31,
     "metadata": {},
     "output_type": "execute_result"
    }
   ],
   "source": [
    "page_soup = soup(driver.page_source, 'lxml')\n",
    "container = page_soup.find(\"table\", {\"class\": \"nopom\"}).find(\"div\", {\"class\": None})\n",
    "course_title = container.h3.text.strip()\n",
    "course_title"
   ]
  },
  {
   "cell_type": "markdown",
   "metadata": {},
   "source": [
    "# 3. Test run revealed some challenges. Try an automation script to scrape as many courses as possible"
   ]
  },
  {
   "cell_type": "code",
   "execution_count": 33,
   "metadata": {
    "scrolled": true
   },
   "outputs": [
    {
     "name": "stdout",
     "output_type": "stream",
     "text": [
      "Scraped  CHEMENG 4T03\n",
      "Scraped  ENGINEER 4T04\n",
      "Scraped  MATLS 4T03\n",
      "MATLS 4T03  duplicate\n",
      "Scraped  MECHENG 4B03\n",
      "MECHENG 4B03  duplicate\n",
      "Scraped  MECHENG 4BB3\n",
      "Scraped  MECHENG 4CC3\n",
      "Scraped  MECHENG 4E03\n",
      "MECHENG 4E03  duplicate\n",
      "Scraped  MECHENG 4H03\n",
      "MECHENG 4H03  duplicate\n",
      "Scraped  MECHENG 4I03\n",
      "MECHENG 4I03  duplicate\n",
      "Scraped  MECHENG 4L03\n",
      "Scraped  MECHENG 4N03\n",
      "MECHENG 4N03  duplicate\n",
      "MECHENG 4N03  duplicate\n",
      "Scraped  MECHENG 4T03\n",
      "MECHENG 4T03  duplicate\n",
      "MECHENG 4T03  duplicate\n",
      "Scraped  MECHENG 4Y03\n",
      "MECHENG 4Y03  duplicate\n",
      "MECHENG 4Y03  duplicate\n",
      "Scraped  MECHENG 4Z03\n",
      "MECHENG 4Z03  duplicate\n",
      "Scraped  CHEMENG 4X03\n",
      "CHEMENG 4X03  duplicate\n",
      "ENGINEER 4T04  duplicate\n",
      "MATLS 4T03  duplicate\n",
      "MATLS 4T03  duplicate\n",
      "MECHENG 4B03  duplicate\n",
      "MECHENG 4B03  duplicate\n",
      "MECHENG 4C03  wrong\n",
      "MECHENG 4D03  wrong\n",
      "ENGPHYS 4D03  wrong\n",
      "MECHENG 4E03  duplicate\n",
      "MECHENG 4E03  duplicate\n",
      "MECHENG 4H03  duplicate\n",
      "MECHENG 4H03  duplicate\n",
      "MECHENG 4N03  duplicate\n",
      "MECHENG 4N03  duplicate\n",
      "MECHENG 4N03  duplicate\n",
      "MECHENG 4T03  duplicate\n",
      "MECHENG 4T03  duplicate\n",
      "MECHENG 4T03  duplicate\n",
      "MECHENG 4Y03  duplicate\n",
      "MECHENG 4Y03  duplicate\n",
      "MECHENG 4Y03  duplicate\n",
      "MECHENG 4Z03  duplicate\n",
      "MECHENG 4Z03  duplicate\n",
      "Scraped  MECHENG 4S03\n",
      "CHEMENG 4X03  duplicate\n",
      "CHEMENG 4X03  duplicate\n",
      "Scraped  ENGPHYS 3D03\n",
      "MECHENG 4D03  wrong\n",
      "Scraped  ENGPHYS 4D03\n",
      "Scraped  ENGPHYS 4NE3\n",
      "Scraped  ENGPHYS 4P03\n",
      "Scraped  MECHENG 4AA3\n",
      "MECHENG 4I03  duplicate\n",
      "MECHENG 4I03  duplicate\n",
      "Scraped  MECHENG 4J03\n",
      "MECHENG 4N03  duplicate\n",
      "MECHENG 4N03  duplicate\n",
      "MECHENG 4N03  duplicate\n",
      "Scraped  MECHENG 4O04\n",
      "MECHENG 4T03  duplicate\n",
      "MECHENG 4T03  duplicate\n",
      "MECHENG 4T03  duplicate\n",
      "Scraped  MECHENG 4U03\n",
      "Scraped  MECHENG 4W03\n",
      "MECHENG 4Y03  duplicate\n",
      "MECHENG 4Y03  duplicate\n",
      "MECHENG 4Y03  duplicate\n",
      "Scraped  CIVENG 3K03\n",
      "Scraped  COMMERCE 4QA3\n",
      "Scraped  ENGINEER 3N03\n",
      "scraped 28 courses\n"
     ]
    }
   ],
   "source": [
    "counter = 0\n",
    "course_codes = []\n",
    "course_names = []\n",
    "course_descs = []\n",
    "\n",
    "for link_text in link_texts:\n",
    "    \n",
    "    driver.get(url)\n",
    "    time.sleep(2)\n",
    "    links = driver.find_elements_by_link_text(link_text) #obtain a list of all links with this link text\n",
    "    time.sleep(1)\n",
    "    \n",
    "    #iterate through each link and make a descision about whether to scrape its contents or not\n",
    "    for i in range(len(links)):\n",
    "        \n",
    "        driver.get(url)\n",
    "        time.sleep(2)\n",
    "        link = driver.find_elements_by_link_text(link_text)[i]\n",
    "        time.sleep(1)\n",
    "        link.click()\n",
    "        time.sleep(2)\n",
    "    \n",
    "        page_soup = soup(driver.page_source, 'lxml')\n",
    "        container = page_soup.find(\"table\", {\"class\": \"nopom\"}).find(\"div\", {\"class\": None})\n",
    "        \n",
    "        #obtain the true identifier of the course\n",
    "        course_code = container.h3.text.strip().split(\" - \")[0]\n",
    "        \n",
    "        #don't scrape if course already scraped\n",
    "        if course_code in course_codes:\n",
    "            print(course_code, \" duplicate\")\n",
    "            continue\n",
    "        \n",
    "        #special case there might be a mistake on the website, MECH 4K03 is linked to CHEM 4K03. Will have to manually scrape that after\n",
    "        if link_text == \"4K03\":\n",
    "            continue\n",
    "        \n",
    "        #don't scrape if the link text is just the alphanumeric part of the course code (does not show subject) and the current course's subject does not match the subject of the last scraped course\n",
    "        if len(link_text.split()) == 1 and course_code.split()[0] != course_codes[-1].split()[0]:\n",
    "            print(course_code, \" wrong\")\n",
    "            continue\n",
    "        \n",
    "        course_codes.append(course_code)\n",
    "        course_names.append(container.h3.text.strip().split(\" - \")[1])\n",
    "        course_descs.append(container.text.split(\"unit(s) \")[1].split(\"\\n\")[0])\n",
    "        \n",
    "        print(\"Scraped \", course_codes[-1])\n",
    "        counter += 1\n",
    "    \n",
    "print(\"scraped {} courses\".format(counter))"
   ]
  },
  {
   "cell_type": "markdown",
   "metadata": {},
   "source": [
    "### manually scrape mecheng 4k03, 4c03, 4d03. Edge cases in the script"
   ]
  },
  {
   "cell_type": "code",
   "execution_count": 46,
   "metadata": {},
   "outputs": [],
   "source": [
    "driver.get(url)\n",
    "time.sleep(2)"
   ]
  },
  {
   "cell_type": "code",
   "execution_count": 47,
   "metadata": {},
   "outputs": [],
   "source": [
    "driver.find_elements_by_link_text(\"4C03\")[0].click()"
   ]
  },
  {
   "cell_type": "code",
   "execution_count": 48,
   "metadata": {},
   "outputs": [],
   "source": [
    "page_soup = soup(driver.page_source, 'lxml')\n",
    "container = page_soup.find(\"table\", {\"class\": \"nopom\"}).find(\"div\", {\"class\": None})\n",
    "        \n",
    "course_codes.append(container.h3.text.strip().split(\" - \")[0])\n",
    "course_names.append(container.h3.text.strip().split(\" - \")[1])\n",
    "course_descs.append(container.text.split(\"unit(s) \")[1].split(\"\\n\")[0])"
   ]
  },
  {
   "cell_type": "code",
   "execution_count": 50,
   "metadata": {},
   "outputs": [],
   "source": [
    "driver.get(url)\n",
    "time.sleep(2)"
   ]
  },
  {
   "cell_type": "code",
   "execution_count": 51,
   "metadata": {},
   "outputs": [],
   "source": [
    "driver.find_elements_by_link_text(\"4K03\")[1].click()"
   ]
  },
  {
   "cell_type": "code",
   "execution_count": 52,
   "metadata": {},
   "outputs": [],
   "source": [
    "page_soup = soup(driver.page_source, 'lxml')\n",
    "container = page_soup.find(\"table\", {\"class\": \"nopom\"}).find(\"div\", {\"class\": None})\n",
    "        \n",
    "course_codes.append(container.h3.text.strip().split(\" - \")[0])\n",
    "course_names.append(container.h3.text.strip().split(\" - \")[1])\n",
    "course_descs.append(container.text.split(\"unit(s) \")[1].split(\"\\n\")[0])"
   ]
  },
  {
   "cell_type": "code",
   "execution_count": 62,
   "metadata": {},
   "outputs": [],
   "source": [
    "driver.get(url)\n",
    "time.sleep(2)"
   ]
  },
  {
   "cell_type": "code",
   "execution_count": 63,
   "metadata": {},
   "outputs": [],
   "source": [
    "driver.find_elements_by_link_text(\"4D03\")[0].click()"
   ]
  },
  {
   "cell_type": "code",
   "execution_count": 64,
   "metadata": {},
   "outputs": [],
   "source": [
    "page_soup = soup(driver.page_source, 'lxml')\n",
    "container = page_soup.find(\"table\", {\"class\": \"nopom\"}).find(\"div\", {\"class\": None})\n",
    "        \n",
    "course_codes.append(container.h3.text.strip().split(\" - \")[0])\n",
    "course_names.append(container.h3.text.strip().split(\" - \")[1])\n",
    "course_descs.append(container.text.split(\"unit(s) \")[1].split(\"\\n\")[0])"
   ]
  },
  {
   "cell_type": "markdown",
   "metadata": {},
   "source": [
    "# 4. Inspect, clean, and write to CSV"
   ]
  },
  {
   "cell_type": "code",
   "execution_count": 65,
   "metadata": {
    "scrolled": true
   },
   "outputs": [
    {
     "data": {
      "text/plain": [
       "['CHEMENG 4T03',\n",
       " 'ENGINEER 4T04',\n",
       " 'MATLS 4T03',\n",
       " 'MECHENG 4B03',\n",
       " 'MECHENG 4BB3',\n",
       " 'MECHENG 4CC3',\n",
       " 'MECHENG 4E03',\n",
       " 'MECHENG 4H03',\n",
       " 'MECHENG 4I03',\n",
       " 'MECHENG 4L03',\n",
       " 'MECHENG 4N03',\n",
       " 'MECHENG 4T03',\n",
       " 'MECHENG 4Y03',\n",
       " 'MECHENG 4Z03',\n",
       " 'CHEMENG 4X03',\n",
       " 'MECHENG 4S03',\n",
       " 'ENGPHYS 3D03',\n",
       " 'ENGPHYS 4D03',\n",
       " 'ENGPHYS 4NE3',\n",
       " 'ENGPHYS 4P03',\n",
       " 'MECHENG 4AA3',\n",
       " 'MECHENG 4J03',\n",
       " 'MECHENG 4O04',\n",
       " 'MECHENG 4U03',\n",
       " 'MECHENG 4W03',\n",
       " 'CIVENG 3K03',\n",
       " 'COMMERCE 4QA3',\n",
       " 'ENGINEER 3N03',\n",
       " 'MECHENG 4C03',\n",
       " 'MECHENG 4K03',\n",
       " 'MECHENG 4D03']"
      ]
     },
     "execution_count": 65,
     "metadata": {},
     "output_type": "execute_result"
    }
   ],
   "source": [
    "course_codes"
   ]
  },
  {
   "cell_type": "code",
   "execution_count": 66,
   "metadata": {
    "scrolled": true
   },
   "outputs": [
    {
     "data": {
      "text/plain": [
       "['Applications of Chemical Engineering in Medicine',\n",
       " 'Materials Selection in Design and Manufacturing',\n",
       " 'Properties and Processing of Composites',\n",
       " 'Topics in Product Development',\n",
       " 'Biomechanics',\n",
       " 'Experimental and Computational Biomechanics',\n",
       " 'Microelectromechanical Systems (MEMS)',\n",
       " 'Mechatronics',\n",
       " 'Noise Analysis and Control',\n",
       " 'Industrial Design',\n",
       " 'Nanobio Engineering',\n",
       " 'Finite Element Applications',\n",
       " 'Internal Combustion Engines',\n",
       " 'CAD/CAM/CAE',\n",
       " 'Polymer Processing',\n",
       " 'Incompressible Flow',\n",
       " 'Principles of Nuclear Engineering',\n",
       " 'Nuclear Reactor Physics',\n",
       " 'Advanced Nuclear Engineering',\n",
       " 'Nuclear Power Plant Systems and Operation',\n",
       " 'Aerodynamics',\n",
       " 'Introduction to Computational Fluid Mechanics and Heat Transfer',\n",
       " 'Sustainable Energy Systems',\n",
       " 'Compressible Flow and Turbomachinery',\n",
       " 'Air Conditioning and Refrigeration Systems',\n",
       " 'Introduction to Transportation Engineering',\n",
       " 'Operations Modelling and Analysis',\n",
       " 'Electronics and Instrumentation',\n",
       " 'Production Systems Engineering',\n",
       " 'Robotics',\n",
       " 'Manufacturing Processes (Metal Removal)']"
      ]
     },
     "execution_count": 66,
     "metadata": {},
     "output_type": "execute_result"
    }
   ],
   "source": [
    "course_names"
   ]
  },
  {
   "cell_type": "code",
   "execution_count": 67,
   "metadata": {
    "scrolled": true
   },
   "outputs": [
    {
     "data": {
      "text/plain": [
       "['Applications of chemical engineering principles to biological systems and medical problems including examples from hemodynamics, blood oxygenation, artificial kidney systems, controlled drug release, biosensors and biomaterials.',\n",
       " 'Materials indices, materials selection charts, materials selection and design with mechanical and thermo-mechanical constraints, design of hybrid materials, sustainable materials selection and design.',\n",
       " 'Intrinsic properties of matrix materials and fibres; mechanics and thermodynamics of interfaces; mechanical properties and fabrication of engineering composites.',\n",
       " 'Case studies using modern product development methods, value engineering, product specification, rapid product development, lean design and continuous improvement. Product liability and robust design.',\n",
       " 'Application of mechanical engineering principles to biomechanics problems including cellular biomechanics, hemodynamics, circulatory system, respiratory system, muscles and movement and skeletal biomechanics.',\n",
       " 'Introduction to experimental and computational biomechanics including biomechanical testing concepts and application of finite element methods in simulations of biomechanical structures/systems.',\n",
       " 'Introduction, microfabrication and micromachining fundamentals, scaling effects, mechanics and transduction at microscale, actuation and sensing methods - Electrostatic, piezoelectric, thermal, electromagnetic, resonant, tunneling and microfluidic techniques. Capacitative sensors, resonators, lab on chip devices, microfluidic devices, micromirrors, assembly techniques for MEMS, microsystem packaging.',\n",
       " 'Integration of mechanical engineering with electronics and computer control. Sensors, actuators (including pneumatic and hydraulic), modelling using building block and state space methods, model-based control, programming of PLCs with practical demonstrations.',\n",
       " 'Acoustic quantities; noise measurements and analysis; noise standards; sound generation, propagation, absorption, transmission; acoustic materials; noise control techniques; case studies.',\n",
       " 'Introduction for engineering students to the techniques of industrial design, case studies and introduction to illustration techniques.',\n",
       " 'Introduction to nanotechnology, nanomaterials, nanotechnology in living systems, nanotechnology in biomedical devices, nanobiomaterials, characterization of biomaterials, nano-coatings, nano-biofunctional interfaces, biosensing and diagnostics, organs-on-chips.',\n",
       " 'Theory of the finite element method, element derivation, solution procedures. Applications to static and dynamic mechanical systems using a finite element package.',\n",
       " 'This course focuses on internal combustion engines (ICE), including operations, thermodynamics, combustion, and characteristics of gasoline and diesel engines, as well as hybrid powertrains.',\n",
       " 'Solid modelling theory, part creation, assemblies and rigid bodies, mechanism simulation, B-Splines, data exchange, CNC machining and inspection. Major project using computer laboratory facilities.',\n",
       " 'An introduction to the basic principles of polymer processing, stressing the development of models. Rheology of polymers, extrusion, molding, films, fibers, and mixing. Reactive processing.',\n",
       " 'Introduction to internal and external laminar and turbulent incompressible flows. Topics include turbulent boundary layers, aerodynamics and convective heat transfer.',\n",
       " 'Introduction to fission and fusion energy systems. Energetics of nuclear reactions, interactions of radiation with matter, radioactivity, design and operating principles of fission and fusion reactors.',\n",
       " 'Introduction to nuclear fission and the physics of nuclear reactors; reactor statics for homogeneous reactors; reactor kinetics for simple time-dependent situations; effects of saturating fission products (Xe-135); reactivity coefficients',\n",
       " 'Energy generation and conversion, heat transfer and transport in a nuclear reactor. Characteristics and performance of nuclear fuels. Thermal margins and safety limits. Aging of core structural materials. Structural integrity of components.',\n",
       " 'Systems and overall unit operations relevant to nuclear power plants; includes all major reactor and process systems; self-study using interactive nuclear power plant.',\n",
       " 'Forces and moments associated with flow around airfoils and bodies. Finite wings. Potential flow and introduction to panel methods. Thin airfoil theory and symmetric and cambered airfoils. Introduction to aircraft stability and aeroelasticity.',\n",
       " 'Computational Methods for Fluid Mechanics and Heat Transfer covering: concepts of modelling and numerical analysis, governing equations of thermo-fluid problems, finite difference discretization methods. Use of commercial computational software for solving thermo-fluid problems.',\n",
       " 'Assessment of current and future energy systems, covering resources, extraction, conversion with emphasis on meeting regional and global energy needs in a sustainable manner. Different renewable and conventional energy technologies and their attributes. Evaluation and analysis of energy technology systems in the context of political, social, economic and environmental goals.',\n",
       " 'Compressible flows: Fanno and Rayleigh flows, normal and oblique shocks. Turbomachines: axial flow gas and wind turbines, axial flow compressors and fans.',\n",
       " 'Re-examination of laws of thermodynamics, multicomponent vapour systems, psychrometry, air conditioning, mechanical vapour compression refrigeration, absorption refrigeration, heating and cooling load calculations, air quality and human thermal comfort.',\n",
       " 'A transportation impact study serves as the focus for group projects, and provides the context for application of material on traffic flow characteristics, capacity and control for signalized and unsignalized intersections, and travel demand forecasting. Safety; social impacts.',\n",
       " 'A course that looks at productions and operations management as practiced in engineering and manufacturing industries and the services sector.',\n",
       " 'Semiconductor devices; diodes, transistors and silicon-controlled rectifiers. Transistor characteristic and load lines. Amplifier circuits with and without feedback. Rectifier and passive filter circuits. Operational amplifiers and active filters. Digital circuits, Microcomputers, Interfacing.',\n",
       " 'Analytical tools to evaluate and design production systems to meet specified performance metrics. Quantitative and qualitative evaluation of production cells, flexible manufacturing systems and production lines.',\n",
       " 'Fundamental theory and practical applications of robotic manipulators and mobile robots. Equations of motion, robot dynamics and statics, motion planning, introduction to machine vision, basics of robot programming.',\n",
       " 'Fundamentals of metal removing processes, including mechanics and tribological aspects of material removal. Application of theory to the practice of machining processes such as turning, milling, drilling and grinding.']"
      ]
     },
     "execution_count": 67,
     "metadata": {},
     "output_type": "execute_result"
    }
   ],
   "source": [
    "course_descs"
   ]
  },
  {
   "cell_type": "code",
   "execution_count": 68,
   "metadata": {
    "scrolled": true
   },
   "outputs": [
    {
     "data": {
      "text/plain": [
       "['Applications of chemical engineering principles to biological systems and medical problems including examples from hemodynamics, blood oxygenation, artificial kidney systems, controlled drug release, biosensors and biomaterials.',\n",
       " 'Materials indices, materials selection charts, materials selection and design with mechanical and thermo-mechanical constraints, design of hybrid materials, sustainable materials selection and design.',\n",
       " 'Intrinsic properties of matrix materials and fibres; mechanics and thermodynamics of interfaces; mechanical properties and fabrication of engineering composites.',\n",
       " 'Case studies using modern product development methods, value engineering, product specification, rapid product development, lean design and continuous improvement. Product liability and robust design.',\n",
       " 'Application of mechanical engineering principles to biomechanics problems including cellular biomechanics, hemodynamics, circulatory system, respiratory system, muscles and movement and skeletal biomechanics.',\n",
       " 'Introduction to experimental and computational biomechanics including biomechanical testing concepts and application of finite element methods in simulations of biomechanical structures/systems.',\n",
       " 'Introduction, microfabrication and micromachining fundamentals, scaling effects, mechanics and transduction at microscale, actuation and sensing methods - Electrostatic, piezoelectric, thermal, electromagnetic, resonant, tunneling and microfluidic techniques. Capacitative sensors, resonators, lab on chip devices, microfluidic devices, micromirrors, assembly techniques for MEMS, microsystem packaging.',\n",
       " 'Integration of mechanical engineering with electronics and computer control. Sensors, actuators (including pneumatic and hydraulic), modelling using building block and state space methods, model-based control, programming of PLCs with practical demonstrations.',\n",
       " 'Acoustic quantities; noise measurements and analysis; noise standards; sound generation, propagation, absorption, transmission; acoustic materials; noise control techniques; case studies.',\n",
       " 'Introduction for engineering students to the techniques of industrial design, case studies and introduction to illustration techniques.',\n",
       " 'Introduction to nanotechnology, nanomaterials, nanotechnology in living systems, nanotechnology in biomedical devices, nanobiomaterials, characterization of biomaterials, nano-coatings, nano-biofunctional interfaces, biosensing and diagnostics, organs-on-chips.',\n",
       " 'Theory of the finite element method, element derivation, solution procedures. Applications to static and dynamic mechanical systems using a finite element package.',\n",
       " 'This course focuses on internal combustion engines (ICE), including operations, thermodynamics, combustion, and characteristics of gasoline and diesel engines, as well as hybrid powertrains.',\n",
       " 'Solid modelling theory, part creation, assemblies and rigid bodies, mechanism simulation, B-Splines, data exchange, CNC machining and inspection. Major project using computer laboratory facilities.',\n",
       " 'An introduction to the basic principles of polymer processing, stressing the development of models. Rheology of polymers, extrusion, molding, films, fibers, and mixing. Reactive processing.',\n",
       " 'Introduction to internal and external laminar and turbulent incompressible flows. Topics include turbulent boundary layers, aerodynamics and convective heat transfer.',\n",
       " 'Introduction to fission and fusion energy systems. Energetics of nuclear reactions, interactions of radiation with matter, radioactivity, design and operating principles of fission and fusion reactors.',\n",
       " 'Introduction to nuclear fission and the physics of nuclear reactors; reactor statics for homogeneous reactors; reactor kinetics for simple time-dependent situations; effects of saturating fission products (Xe-135); reactivity coefficients',\n",
       " 'Energy generation and conversion, heat transfer and transport in a nuclear reactor. Characteristics and performance of nuclear fuels. Thermal margins and safety limits. Aging of core structural materials. Structural integrity of components.',\n",
       " 'Systems and overall unit operations relevant to nuclear power plants; includes all major reactor and process systems; self-study using interactive nuclear power plant.',\n",
       " 'Forces and moments associated with flow around airfoils and bodies. Finite wings. Potential flow and introduction to panel methods. Thin airfoil theory and symmetric and cambered airfoils. Introduction to aircraft stability and aeroelasticity.',\n",
       " 'Computational Methods for Fluid Mechanics and Heat Transfer covering: concepts of modelling and numerical analysis, governing equations of thermo-fluid problems, finite difference discretization methods. Use of commercial computational software for solving thermo-fluid problems.',\n",
       " 'Assessment of current and future energy systems, covering resources, extraction, conversion with emphasis on meeting regional and global energy needs in a sustainable manner. Different renewable and conventional energy technologies and their attributes. Evaluation and analysis of energy technology systems in the context of political, social, economic and environmental goals.',\n",
       " 'Compressible flows: Fanno and Rayleigh flows, normal and oblique shocks. Turbomachines: axial flow gas and wind turbines, axial flow compressors and fans.',\n",
       " 'Re-examination of laws of thermodynamics, multicomponent vapour systems, psychrometry, air conditioning, mechanical vapour compression refrigeration, absorption refrigeration, heating and cooling load calculations, air quality and human thermal comfort.',\n",
       " 'A transportation impact study serves as the focus for group projects, and provides the context for application of material on traffic flow characteristics, capacity and control for signalized and unsignalized intersections, and travel demand forecasting. Safety; social impacts.',\n",
       " 'A course that looks at productions and operations management as practiced in engineering and manufacturing industries and the services sector.',\n",
       " 'Semiconductor devices; diodes, transistors and silicon-controlled rectifiers. Transistor characteristic and load lines. Amplifier circuits with and without feedback. Rectifier and passive filter circuits. Operational amplifiers and active filters. Digital circuits, Microcomputers, Interfacing.',\n",
       " 'Analytical tools to evaluate and design production systems to meet specified performance metrics. Quantitative and qualitative evaluation of production cells, flexible manufacturing systems and production lines.',\n",
       " 'Fundamental theory and practical applications of robotic manipulators and mobile robots. Equations of motion, robot dynamics and statics, motion planning, introduction to machine vision, basics of robot programming.',\n",
       " 'Fundamentals of metal removing processes, including mechanics and tribological aspects of material removal. Application of theory to the practice of machining processes such as turning, milling, drilling and grinding.']"
      ]
     },
     "execution_count": 68,
     "metadata": {},
     "output_type": "execute_result"
    }
   ],
   "source": [
    "course_descs = [course_desc.split(\"Three lectures\")[0] for course_desc in course_descs]\n",
    "course_descs"
   ]
  },
  {
   "cell_type": "code",
   "execution_count": 69,
   "metadata": {
    "scrolled": true
   },
   "outputs": [
    {
     "data": {
      "text/plain": [
       "['Applications of chemical engineering principles to biological systems and medical problems including examples from hemodynamics, blood oxygenation, artificial kidney systems, controlled drug release, biosensors and biomaterials.',\n",
       " 'Materials indices, materials selection charts, materials selection and design with mechanical and thermo-mechanical constraints, design of hybrid materials, sustainable materials selection and design.',\n",
       " 'Intrinsic properties of matrix materials and fibres; mechanics and thermodynamics of interfaces; mechanical properties and fabrication of engineering composites.',\n",
       " 'Case studies using modern product development methods, value engineering, product specification, rapid product development, lean design and continuous improvement. Product liability and robust design.',\n",
       " 'Application of mechanical engineering principles to biomechanics problems including cellular biomechanics, hemodynamics, circulatory system, respiratory system, muscles and movement and skeletal biomechanics.',\n",
       " 'Introduction to experimental and computational biomechanics including biomechanical testing concepts and application of finite element methods in simulations of biomechanical structures/systems.',\n",
       " 'Introduction, microfabrication and micromachining fundamentals, scaling effects, mechanics and transduction at microscale, actuation and sensing methods - Electrostatic, piezoelectric, thermal, electromagnetic, resonant, tunneling and microfluidic techniques. Capacitative sensors, resonators, lab on chip devices, microfluidic devices, micromirrors, assembly techniques for MEMS, microsystem packaging.',\n",
       " 'Integration of mechanical engineering with electronics and computer control. Sensors, actuators (including pneumatic and hydraulic), modelling using building block and state space methods, model-based control, programming of PLCs with practical demonstrations.',\n",
       " 'Acoustic quantities; noise measurements and analysis; noise standards; sound generation, propagation, absorption, transmission; acoustic materials; noise control techniques; case studies.',\n",
       " 'Introduction for engineering students to the techniques of industrial design, case studies and introduction to illustration techniques.',\n",
       " 'Introduction to nanotechnology, nanomaterials, nanotechnology in living systems, nanotechnology in biomedical devices, nanobiomaterials, characterization of biomaterials, nano-coatings, nano-biofunctional interfaces, biosensing and diagnostics, organs-on-chips.',\n",
       " 'Theory of the finite element method, element derivation, solution procedures. Applications to static and dynamic mechanical systems using a finite element package.',\n",
       " 'This course focuses on internal combustion engines (ICE), including operations, thermodynamics, combustion, and characteristics of gasoline and diesel engines, as well as hybrid powertrains.',\n",
       " 'Solid modelling theory, part creation, assemblies and rigid bodies, mechanism simulation, B-Splines, data exchange, CNC machining and inspection. Major project using computer laboratory facilities.',\n",
       " 'An introduction to the basic principles of polymer processing, stressing the development of models. Rheology of polymers, extrusion, molding, films, fibers, and mixing. Reactive processing.',\n",
       " 'Introduction to internal and external laminar and turbulent incompressible flows. Topics include turbulent boundary layers, aerodynamics and convective heat transfer.',\n",
       " 'Introduction to fission and fusion energy systems. Energetics of nuclear reactions, interactions of radiation with matter, radioactivity, design and operating principles of fission and fusion reactors.',\n",
       " 'Introduction to nuclear fission and the physics of nuclear reactors; reactor statics for homogeneous reactors; reactor kinetics for simple time-dependent situations; effects of saturating fission products (Xe-135); reactivity coefficients',\n",
       " 'Energy generation and conversion, heat transfer and transport in a nuclear reactor. Characteristics and performance of nuclear fuels. Thermal margins and safety limits. Aging of core structural materials. Structural integrity of components.',\n",
       " 'Systems and overall unit operations relevant to nuclear power plants; includes all major reactor and process systems; self-study using interactive nuclear power plant.',\n",
       " 'Forces and moments associated with flow around airfoils and bodies. Finite wings. Potential flow and introduction to panel methods. Thin airfoil theory and symmetric and cambered airfoils. Introduction to aircraft stability and aeroelasticity.',\n",
       " 'Computational Methods for Fluid Mechanics and Heat Transfer covering: concepts of modelling and numerical analysis, governing equations of thermo-fluid problems, finite difference discretization methods. Use of commercial computational software for solving thermo-fluid problems.',\n",
       " 'Assessment of current and future energy systems, covering resources, extraction, conversion with emphasis on meeting regional and global energy needs in a sustainable manner. Different renewable and conventional energy technologies and their attributes. Evaluation and analysis of energy technology systems in the context of political, social, economic and environmental goals.',\n",
       " 'Compressible flows: Fanno and Rayleigh flows, normal and oblique shocks. Turbomachines: axial flow gas and wind turbines, axial flow compressors and fans.',\n",
       " 'Re-examination of laws of thermodynamics, multicomponent vapour systems, psychrometry, air conditioning, mechanical vapour compression refrigeration, absorption refrigeration, heating and cooling load calculations, air quality and human thermal comfort.',\n",
       " 'A transportation impact study serves as the focus for group projects, and provides the context for application of material on traffic flow characteristics, capacity and control for signalized and unsignalized intersections, and travel demand forecasting. Safety; social impacts.',\n",
       " 'A course that looks at productions and operations management as practiced in engineering and manufacturing industries and the services sector.',\n",
       " 'Semiconductor devices; diodes, transistors and silicon-controlled rectifiers. Transistor characteristic and load lines. Amplifier circuits with and without feedback. Rectifier and passive filter circuits. Operational amplifiers and active filters. Digital circuits, Microcomputers, Interfacing.',\n",
       " 'Analytical tools to evaluate and design production systems to meet specified performance metrics. Quantitative and qualitative evaluation of production cells, flexible manufacturing systems and production lines.',\n",
       " 'Fundamental theory and practical applications of robotic manipulators and mobile robots. Equations of motion, robot dynamics and statics, motion planning, introduction to machine vision, basics of robot programming.',\n",
       " 'Fundamentals of metal removing processes, including mechanics and tribological aspects of material removal. Application of theory to the practice of machining processes such as turning, milling, drilling and grinding.']"
      ]
     },
     "execution_count": 69,
     "metadata": {},
     "output_type": "execute_result"
    }
   ],
   "source": [
    "course_descs = [course_desc.split(\"Four lectures\")[0] for course_desc in course_descs]\n",
    "course_descs"
   ]
  },
  {
   "cell_type": "code",
   "execution_count": 70,
   "metadata": {
    "scrolled": true
   },
   "outputs": [
    {
     "data": {
      "text/plain": [
       "['Applications of chemical engineering principles to biological systems and medical problems including examples from hemodynamics, blood oxygenation, artificial kidney systems, controlled drug release, biosensors and biomaterials.',\n",
       " 'Materials indices, materials selection charts, materials selection and design with mechanical and thermo-mechanical constraints, design of hybrid materials, sustainable materials selection and design.',\n",
       " 'Intrinsic properties of matrix materials and fibres; mechanics and thermodynamics of interfaces; mechanical properties and fabrication of engineering composites.',\n",
       " 'Case studies using modern product development methods, value engineering, product specification, rapid product development, lean design and continuous improvement. Product liability and robust design.',\n",
       " 'Application of mechanical engineering principles to biomechanics problems including cellular biomechanics, hemodynamics, circulatory system, respiratory system, muscles and movement and skeletal biomechanics.',\n",
       " 'Introduction to experimental and computational biomechanics including biomechanical testing concepts and application of finite element methods in simulations of biomechanical structures/systems.',\n",
       " 'Introduction, microfabrication and micromachining fundamentals, scaling effects, mechanics and transduction at microscale, actuation and sensing methods - Electrostatic, piezoelectric, thermal, electromagnetic, resonant, tunneling and microfluidic techniques. Capacitative sensors, resonators, lab on chip devices, microfluidic devices, micromirrors, assembly techniques for MEMS, microsystem packaging.',\n",
       " 'Integration of mechanical engineering with electronics and computer control. Sensors, actuators (including pneumatic and hydraulic), modelling using building block and state space methods, model-based control, programming of PLCs with practical demonstrations.',\n",
       " 'Acoustic quantities; noise measurements and analysis; noise standards; sound generation, propagation, absorption, transmission; acoustic materials; noise control techniques; case studies.',\n",
       " 'Introduction for engineering students to the techniques of industrial design, case studies and introduction to illustration techniques.',\n",
       " 'Introduction to nanotechnology, nanomaterials, nanotechnology in living systems, nanotechnology in biomedical devices, nanobiomaterials, characterization of biomaterials, nano-coatings, nano-biofunctional interfaces, biosensing and diagnostics, organs-on-chips.',\n",
       " 'Theory of the finite element method, element derivation, solution procedures. Applications to static and dynamic mechanical systems using a finite element package.',\n",
       " 'This course focuses on internal combustion engines (ICE), including operations, thermodynamics, combustion, and characteristics of gasoline and diesel engines, as well as hybrid powertrains.',\n",
       " 'Solid modelling theory, part creation, assemblies and rigid bodies, mechanism simulation, B-Splines, data exchange, CNC machining and inspection. Major project using computer laboratory facilities.',\n",
       " 'An introduction to the basic principles of polymer processing, stressing the development of models. Rheology of polymers, extrusion, molding, films, fibers, and mixing. Reactive processing.',\n",
       " 'Introduction to internal and external laminar and turbulent incompressible flows. Topics include turbulent boundary layers, aerodynamics and convective heat transfer.',\n",
       " 'Introduction to fission and fusion energy systems. Energetics of nuclear reactions, interactions of radiation with matter, radioactivity, design and operating principles of fission and fusion reactors.',\n",
       " 'Introduction to nuclear fission and the physics of nuclear reactors; reactor statics for homogeneous reactors; reactor kinetics for simple time-dependent situations; effects of saturating fission products (Xe-135); reactivity coefficients',\n",
       " 'Energy generation and conversion, heat transfer and transport in a nuclear reactor. Characteristics and performance of nuclear fuels. Thermal margins and safety limits. Aging of core structural materials. Structural integrity of components.',\n",
       " 'Systems and overall unit operations relevant to nuclear power plants; includes all major reactor and process systems; self-study using interactive nuclear power plant.',\n",
       " 'Forces and moments associated with flow around airfoils and bodies. Finite wings. Potential flow and introduction to panel methods. Thin airfoil theory and symmetric and cambered airfoils. Introduction to aircraft stability and aeroelasticity.',\n",
       " 'Computational Methods for Fluid Mechanics and Heat Transfer covering: concepts of modelling and numerical analysis, governing equations of thermo-fluid problems, finite difference discretization methods. Use of commercial computational software for solving thermo-fluid problems.',\n",
       " 'Assessment of current and future energy systems, covering resources, extraction, conversion with emphasis on meeting regional and global energy needs in a sustainable manner. Different renewable and conventional energy technologies and their attributes. Evaluation and analysis of energy technology systems in the context of political, social, economic and environmental goals.',\n",
       " 'Compressible flows: Fanno and Rayleigh flows, normal and oblique shocks. Turbomachines: axial flow gas and wind turbines, axial flow compressors and fans.',\n",
       " 'Re-examination of laws of thermodynamics, multicomponent vapour systems, psychrometry, air conditioning, mechanical vapour compression refrigeration, absorption refrigeration, heating and cooling load calculations, air quality and human thermal comfort.',\n",
       " 'A transportation impact study serves as the focus for group projects, and provides the context for application of material on traffic flow characteristics, capacity and control for signalized and unsignalized intersections, and travel demand forecasting. Safety; social impacts.',\n",
       " 'A course that looks at productions and operations management as practiced in engineering and manufacturing industries and the services sector.',\n",
       " 'Semiconductor devices; diodes, transistors and silicon-controlled rectifiers. Transistor characteristic and load lines. Amplifier circuits with and without feedback. Rectifier and passive filter circuits. Operational amplifiers and active filters. Digital circuits, Microcomputers, Interfacing.',\n",
       " 'Analytical tools to evaluate and design production systems to meet specified performance metrics. Quantitative and qualitative evaluation of production cells, flexible manufacturing systems and production lines.',\n",
       " 'Fundamental theory and practical applications of robotic manipulators and mobile robots. Equations of motion, robot dynamics and statics, motion planning, introduction to machine vision, basics of robot programming.',\n",
       " 'Fundamentals of metal removing processes, including mechanics and tribological aspects of material removal. Application of theory to the practice of machining processes such as turning, milling, drilling and grinding.']"
      ]
     },
     "execution_count": 70,
     "metadata": {},
     "output_type": "execute_result"
    }
   ],
   "source": [
    "course_descs = [course_desc.split(\"Lectures (three hours)\")[0] for course_desc in course_descs]\n",
    "course_descs"
   ]
  },
  {
   "cell_type": "code",
   "execution_count": 71,
   "metadata": {},
   "outputs": [
    {
     "data": {
      "text/plain": [
       "31"
      ]
     },
     "execution_count": 71,
     "metadata": {},
     "output_type": "execute_result"
    }
   ],
   "source": [
    "len(course_codes)"
   ]
  },
  {
   "cell_type": "code",
   "execution_count": 72,
   "metadata": {},
   "outputs": [],
   "source": [
    "course_codes1 = []\n",
    "course_names1 = []\n",
    "course_descs1 = []\n",
    "\n",
    "for i in range(len(course_codes)):\n",
    "    if course_codes[i] not in course_codes1:\n",
    "        course_codes1.append(course_codes[i])\n",
    "        course_names1.append(course_names[i])\n",
    "        course_descs1.append(course_descs[i])"
   ]
  },
  {
   "cell_type": "code",
   "execution_count": 73,
   "metadata": {},
   "outputs": [
    {
     "data": {
      "text/plain": [
       "31"
      ]
     },
     "execution_count": 73,
     "metadata": {},
     "output_type": "execute_result"
    }
   ],
   "source": [
    "len(course_codes1) #should be the same"
   ]
  },
  {
   "cell_type": "code",
   "execution_count": 74,
   "metadata": {
    "scrolled": true
   },
   "outputs": [
    {
     "data": {
      "text/html": [
       "<div>\n",
       "<style scoped>\n",
       "    .dataframe tbody tr th:only-of-type {\n",
       "        vertical-align: middle;\n",
       "    }\n",
       "\n",
       "    .dataframe tbody tr th {\n",
       "        vertical-align: top;\n",
       "    }\n",
       "\n",
       "    .dataframe thead th {\n",
       "        text-align: right;\n",
       "    }\n",
       "</style>\n",
       "<table border=\"1\" class=\"dataframe\">\n",
       "  <thead>\n",
       "    <tr style=\"text-align: right;\">\n",
       "      <th></th>\n",
       "      <th>Course Number</th>\n",
       "      <th>Course Name</th>\n",
       "      <th>Course Description</th>\n",
       "    </tr>\n",
       "  </thead>\n",
       "  <tbody>\n",
       "    <tr>\n",
       "      <th>0</th>\n",
       "      <td>CHEMENG 4T03</td>\n",
       "      <td>Applications of Chemical Engineering in Medicine</td>\n",
       "      <td>Applications of chemical engineering principle...</td>\n",
       "    </tr>\n",
       "    <tr>\n",
       "      <th>1</th>\n",
       "      <td>ENGINEER 4T04</td>\n",
       "      <td>Materials Selection in Design and Manufacturing</td>\n",
       "      <td>Materials indices, materials selection charts,...</td>\n",
       "    </tr>\n",
       "    <tr>\n",
       "      <th>2</th>\n",
       "      <td>MATLS 4T03</td>\n",
       "      <td>Properties and Processing of Composites</td>\n",
       "      <td>Intrinsic properties of matrix materials and f...</td>\n",
       "    </tr>\n",
       "    <tr>\n",
       "      <th>3</th>\n",
       "      <td>MECHENG 4B03</td>\n",
       "      <td>Topics in Product Development</td>\n",
       "      <td>Case studies using modern product development ...</td>\n",
       "    </tr>\n",
       "    <tr>\n",
       "      <th>4</th>\n",
       "      <td>MECHENG 4BB3</td>\n",
       "      <td>Biomechanics</td>\n",
       "      <td>Application of mechanical engineering principl...</td>\n",
       "    </tr>\n",
       "    <tr>\n",
       "      <th>5</th>\n",
       "      <td>MECHENG 4CC3</td>\n",
       "      <td>Experimental and Computational Biomechanics</td>\n",
       "      <td>Introduction to experimental and computational...</td>\n",
       "    </tr>\n",
       "    <tr>\n",
       "      <th>6</th>\n",
       "      <td>MECHENG 4E03</td>\n",
       "      <td>Microelectromechanical Systems (MEMS)</td>\n",
       "      <td>Introduction, microfabrication and micromachin...</td>\n",
       "    </tr>\n",
       "    <tr>\n",
       "      <th>7</th>\n",
       "      <td>MECHENG 4H03</td>\n",
       "      <td>Mechatronics</td>\n",
       "      <td>Integration of mechanical engineering with ele...</td>\n",
       "    </tr>\n",
       "    <tr>\n",
       "      <th>8</th>\n",
       "      <td>MECHENG 4I03</td>\n",
       "      <td>Noise Analysis and Control</td>\n",
       "      <td>Acoustic quantities; noise measurements and an...</td>\n",
       "    </tr>\n",
       "    <tr>\n",
       "      <th>9</th>\n",
       "      <td>MECHENG 4L03</td>\n",
       "      <td>Industrial Design</td>\n",
       "      <td>Introduction for engineering students to the t...</td>\n",
       "    </tr>\n",
       "    <tr>\n",
       "      <th>10</th>\n",
       "      <td>MECHENG 4N03</td>\n",
       "      <td>Nanobio Engineering</td>\n",
       "      <td>Introduction to nanotechnology, nanomaterials,...</td>\n",
       "    </tr>\n",
       "    <tr>\n",
       "      <th>11</th>\n",
       "      <td>MECHENG 4T03</td>\n",
       "      <td>Finite Element Applications</td>\n",
       "      <td>Theory of the finite element method, element d...</td>\n",
       "    </tr>\n",
       "    <tr>\n",
       "      <th>12</th>\n",
       "      <td>MECHENG 4Y03</td>\n",
       "      <td>Internal Combustion Engines</td>\n",
       "      <td>This course focuses on internal combustion eng...</td>\n",
       "    </tr>\n",
       "    <tr>\n",
       "      <th>13</th>\n",
       "      <td>MECHENG 4Z03</td>\n",
       "      <td>CAD/CAM/CAE</td>\n",
       "      <td>Solid modelling theory, part creation, assembl...</td>\n",
       "    </tr>\n",
       "    <tr>\n",
       "      <th>14</th>\n",
       "      <td>CHEMENG 4X03</td>\n",
       "      <td>Polymer Processing</td>\n",
       "      <td>An introduction to the basic principles of pol...</td>\n",
       "    </tr>\n",
       "    <tr>\n",
       "      <th>15</th>\n",
       "      <td>MECHENG 4S03</td>\n",
       "      <td>Incompressible Flow</td>\n",
       "      <td>Introduction to internal and external laminar ...</td>\n",
       "    </tr>\n",
       "    <tr>\n",
       "      <th>16</th>\n",
       "      <td>ENGPHYS 3D03</td>\n",
       "      <td>Principles of Nuclear Engineering</td>\n",
       "      <td>Introduction to fission and fusion energy syst...</td>\n",
       "    </tr>\n",
       "    <tr>\n",
       "      <th>17</th>\n",
       "      <td>ENGPHYS 4D03</td>\n",
       "      <td>Nuclear Reactor Physics</td>\n",
       "      <td>Introduction to nuclear fission and the physic...</td>\n",
       "    </tr>\n",
       "    <tr>\n",
       "      <th>18</th>\n",
       "      <td>ENGPHYS 4NE3</td>\n",
       "      <td>Advanced Nuclear Engineering</td>\n",
       "      <td>Energy generation and conversion, heat transfe...</td>\n",
       "    </tr>\n",
       "    <tr>\n",
       "      <th>19</th>\n",
       "      <td>ENGPHYS 4P03</td>\n",
       "      <td>Nuclear Power Plant Systems and Operation</td>\n",
       "      <td>Systems and overall unit operations relevant t...</td>\n",
       "    </tr>\n",
       "    <tr>\n",
       "      <th>20</th>\n",
       "      <td>MECHENG 4AA3</td>\n",
       "      <td>Aerodynamics</td>\n",
       "      <td>Forces and moments associated with flow around...</td>\n",
       "    </tr>\n",
       "    <tr>\n",
       "      <th>21</th>\n",
       "      <td>MECHENG 4J03</td>\n",
       "      <td>Introduction to Computational Fluid Mechanics ...</td>\n",
       "      <td>Computational Methods for Fluid Mechanics and ...</td>\n",
       "    </tr>\n",
       "    <tr>\n",
       "      <th>22</th>\n",
       "      <td>MECHENG 4O04</td>\n",
       "      <td>Sustainable Energy Systems</td>\n",
       "      <td>Assessment of current and future energy system...</td>\n",
       "    </tr>\n",
       "    <tr>\n",
       "      <th>23</th>\n",
       "      <td>MECHENG 4U03</td>\n",
       "      <td>Compressible Flow and Turbomachinery</td>\n",
       "      <td>Compressible flows: Fanno and Rayleigh flows, ...</td>\n",
       "    </tr>\n",
       "    <tr>\n",
       "      <th>24</th>\n",
       "      <td>MECHENG 4W03</td>\n",
       "      <td>Air Conditioning and Refrigeration Systems</td>\n",
       "      <td>Re-examination of laws of thermodynamics, mult...</td>\n",
       "    </tr>\n",
       "    <tr>\n",
       "      <th>25</th>\n",
       "      <td>CIVENG 3K03</td>\n",
       "      <td>Introduction to Transportation Engineering</td>\n",
       "      <td>A transportation impact study serves as the fo...</td>\n",
       "    </tr>\n",
       "    <tr>\n",
       "      <th>26</th>\n",
       "      <td>COMMERCE 4QA3</td>\n",
       "      <td>Operations Modelling and Analysis</td>\n",
       "      <td>A course that looks at productions and operati...</td>\n",
       "    </tr>\n",
       "    <tr>\n",
       "      <th>27</th>\n",
       "      <td>ENGINEER 3N03</td>\n",
       "      <td>Electronics and Instrumentation</td>\n",
       "      <td>Semiconductor devices; diodes, transistors and...</td>\n",
       "    </tr>\n",
       "    <tr>\n",
       "      <th>28</th>\n",
       "      <td>MECHENG 4C03</td>\n",
       "      <td>Production Systems Engineering</td>\n",
       "      <td>Analytical tools to evaluate and design produc...</td>\n",
       "    </tr>\n",
       "    <tr>\n",
       "      <th>29</th>\n",
       "      <td>MECHENG 4K03</td>\n",
       "      <td>Robotics</td>\n",
       "      <td>Fundamental theory and practical applications ...</td>\n",
       "    </tr>\n",
       "    <tr>\n",
       "      <th>30</th>\n",
       "      <td>MECHENG 4D03</td>\n",
       "      <td>Manufacturing Processes (Metal Removal)</td>\n",
       "      <td>Fundamentals of metal removing processes, incl...</td>\n",
       "    </tr>\n",
       "  </tbody>\n",
       "</table>\n",
       "</div>"
      ],
      "text/plain": [
       "    Course Number                                        Course Name  \\\n",
       "0    CHEMENG 4T03   Applications of Chemical Engineering in Medicine   \n",
       "1   ENGINEER 4T04    Materials Selection in Design and Manufacturing   \n",
       "2      MATLS 4T03            Properties and Processing of Composites   \n",
       "3    MECHENG 4B03                      Topics in Product Development   \n",
       "4    MECHENG 4BB3                                       Biomechanics   \n",
       "5    MECHENG 4CC3        Experimental and Computational Biomechanics   \n",
       "6    MECHENG 4E03              Microelectromechanical Systems (MEMS)   \n",
       "7    MECHENG 4H03                                       Mechatronics   \n",
       "8    MECHENG 4I03                         Noise Analysis and Control   \n",
       "9    MECHENG 4L03                                  Industrial Design   \n",
       "10   MECHENG 4N03                                Nanobio Engineering   \n",
       "11   MECHENG 4T03                        Finite Element Applications   \n",
       "12   MECHENG 4Y03                        Internal Combustion Engines   \n",
       "13   MECHENG 4Z03                                        CAD/CAM/CAE   \n",
       "14   CHEMENG 4X03                                 Polymer Processing   \n",
       "15   MECHENG 4S03                                Incompressible Flow   \n",
       "16   ENGPHYS 3D03                  Principles of Nuclear Engineering   \n",
       "17   ENGPHYS 4D03                            Nuclear Reactor Physics   \n",
       "18   ENGPHYS 4NE3                       Advanced Nuclear Engineering   \n",
       "19   ENGPHYS 4P03          Nuclear Power Plant Systems and Operation   \n",
       "20   MECHENG 4AA3                                       Aerodynamics   \n",
       "21   MECHENG 4J03  Introduction to Computational Fluid Mechanics ...   \n",
       "22   MECHENG 4O04                         Sustainable Energy Systems   \n",
       "23   MECHENG 4U03               Compressible Flow and Turbomachinery   \n",
       "24   MECHENG 4W03         Air Conditioning and Refrigeration Systems   \n",
       "25    CIVENG 3K03         Introduction to Transportation Engineering   \n",
       "26  COMMERCE 4QA3                  Operations Modelling and Analysis   \n",
       "27  ENGINEER 3N03                    Electronics and Instrumentation   \n",
       "28   MECHENG 4C03                     Production Systems Engineering   \n",
       "29   MECHENG 4K03                                           Robotics   \n",
       "30   MECHENG 4D03            Manufacturing Processes (Metal Removal)   \n",
       "\n",
       "                                   Course Description  \n",
       "0   Applications of chemical engineering principle...  \n",
       "1   Materials indices, materials selection charts,...  \n",
       "2   Intrinsic properties of matrix materials and f...  \n",
       "3   Case studies using modern product development ...  \n",
       "4   Application of mechanical engineering principl...  \n",
       "5   Introduction to experimental and computational...  \n",
       "6   Introduction, microfabrication and micromachin...  \n",
       "7   Integration of mechanical engineering with ele...  \n",
       "8   Acoustic quantities; noise measurements and an...  \n",
       "9   Introduction for engineering students to the t...  \n",
       "10  Introduction to nanotechnology, nanomaterials,...  \n",
       "11  Theory of the finite element method, element d...  \n",
       "12  This course focuses on internal combustion eng...  \n",
       "13  Solid modelling theory, part creation, assembl...  \n",
       "14  An introduction to the basic principles of pol...  \n",
       "15  Introduction to internal and external laminar ...  \n",
       "16  Introduction to fission and fusion energy syst...  \n",
       "17  Introduction to nuclear fission and the physic...  \n",
       "18  Energy generation and conversion, heat transfe...  \n",
       "19  Systems and overall unit operations relevant t...  \n",
       "20  Forces and moments associated with flow around...  \n",
       "21  Computational Methods for Fluid Mechanics and ...  \n",
       "22  Assessment of current and future energy system...  \n",
       "23  Compressible flows: Fanno and Rayleigh flows, ...  \n",
       "24  Re-examination of laws of thermodynamics, mult...  \n",
       "25  A transportation impact study serves as the fo...  \n",
       "26  A course that looks at productions and operati...  \n",
       "27  Semiconductor devices; diodes, transistors and...  \n",
       "28  Analytical tools to evaluate and design produc...  \n",
       "29  Fundamental theory and practical applications ...  \n",
       "30  Fundamentals of metal removing processes, incl...  "
      ]
     },
     "execution_count": 74,
     "metadata": {},
     "output_type": "execute_result"
    }
   ],
   "source": [
    "import pandas as pd\n",
    "\n",
    "df = pd.DataFrame({\n",
    "    \"Course Number\": course_codes1,\n",
    "    \"Course Name\": course_names1,\n",
    "    \"Course Description\": course_descs1   \n",
    "})\n",
    "\n",
    "df"
   ]
  },
  {
   "cell_type": "code",
   "execution_count": 75,
   "metadata": {},
   "outputs": [],
   "source": [
    "df.to_csv('NEW_McMaster_MechEng_Technical_Electives_Courses.csv', index = False)"
   ]
  },
  {
   "cell_type": "code",
   "execution_count": 76,
   "metadata": {},
   "outputs": [],
   "source": [
    "driver.quit()"
   ]
  }
 ],
 "metadata": {
  "kernelspec": {
   "display_name": "Python 3",
   "language": "python",
   "name": "python3"
  },
  "language_info": {
   "codemirror_mode": {
    "name": "ipython",
    "version": 3
   },
   "file_extension": ".py",
   "mimetype": "text/x-python",
   "name": "python",
   "nbconvert_exporter": "python",
   "pygments_lexer": "ipython3",
   "version": "3.8.5"
  }
 },
 "nbformat": 4,
 "nbformat_minor": 4
}
