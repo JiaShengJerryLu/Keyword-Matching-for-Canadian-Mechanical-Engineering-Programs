{
 "cells": [
  {
   "cell_type": "code",
   "execution_count": 1,
   "metadata": {},
   "outputs": [],
   "source": [
    "from bs4 import BeautifulSoup as soup\n",
    "from urllib.request import urlopen as ureq\n",
    "from selenium import webdriver\n",
    "import time\n",
    "import re"
   ]
  },
  {
   "cell_type": "code",
   "execution_count": 2,
   "metadata": {},
   "outputs": [],
   "source": [
    "url = \"https://academiccalendars.romcmaster.ca/preview_program.php?catoid=41&poid=21907\""
   ]
  },
  {
   "cell_type": "code",
   "execution_count": 3,
   "metadata": {},
   "outputs": [],
   "source": [
    "chrome_options = webdriver.ChromeOptions()\n",
    "chrome_options.add_argument('--ignore-certificate-errors')\n",
    "chrome_options.add_argument('--incognito')\n",
    "chrome_options.add_argument('--headless')\n",
    "\n",
    "driver = webdriver.Chrome(\"C:\\\\Users\\\\jerry\\\\Downloads\\\\chromedriver\", options=chrome_options)"
   ]
  },
  {
   "cell_type": "code",
   "execution_count": 4,
   "metadata": {},
   "outputs": [],
   "source": [
    "driver.get(url)"
   ]
  },
  {
   "cell_type": "markdown",
   "metadata": {},
   "source": [
    "# 1. Collect course link texts for driver to click open"
   ]
  },
  {
   "cell_type": "code",
   "execution_count": 5,
   "metadata": {},
   "outputs": [],
   "source": [
    "page_soup = soup(driver.page_source, 'lxml')"
   ]
  },
  {
   "cell_type": "code",
   "execution_count": 6,
   "metadata": {},
   "outputs": [
    {
     "data": {
      "text/plain": [
       "27"
      ]
     },
     "execution_count": 6,
     "metadata": {},
     "output_type": "execute_result"
    }
   ],
   "source": [
    "containers = page_soup.findAll(\"li\", {\"class\": \"acalog-course\"})\n",
    "len(containers)"
   ]
  },
  {
   "cell_type": "code",
   "execution_count": 7,
   "metadata": {
    "scrolled": false
   },
   "outputs": [
    {
     "data": {
      "text/plain": [
       "['ENGINEER 2B03 - Engineering Economics',\n",
       " 'MATH 2Z03 - Engineering Mathematics III',\n",
       " 'MATH 2ZZ3 - Engineering Mathematics IV',\n",
       " 'MECHENG 2A03 - Design Communication',\n",
       " 'MECHENG 2B03 - Mechanical Engineering Measurements',\n",
       " 'MECHENG 2C04 - Mechanical Engineering Design I',\n",
       " 'MECHENG 2D03 - Mechanical Engineering Design Elements',\n",
       " 'MECHENG 2P04 - Statics and Mechanics of Materials',\n",
       " 'MECHENG 2Q04 - Engineering Mechanics: Kinetics and Dynamics',\n",
       " 'MECHENG 2W04 - Thermodynamics',\n",
       " 'MECHENG 3A03 - Engineering Mechanics',\n",
       " 'MECHENG 3C03 - Manufacturing Engineering',\n",
       " 'ENGINEER 2MM3 - Electrical Circuits and Power',\n",
       " 'MATLS 3M03 - Mechanical Behaviour of Materials',\n",
       " 'MATH 3I03 - Partial Differential Equations for Engineering',\n",
       " 'MECHENG 3E05 - Mechanical Engineering Design II',\n",
       " 'MECHENG 3F04 - Modelling and Numerical Solutions',\n",
       " 'MECHENG 3M03 A/B - Composite Laboratory',\n",
       " 'MECHENG 3O04 - Fluid Mechanics',\n",
       " 'MECHENG 3R03 - Heat Transfer',\n",
       " 'MECHENG 4Q03 - Mechanical Vibrations',\n",
       " 'MECHENG 4R03 - Control Systems',\n",
       " 'STATS 3Y03 - Probability and Statistics for Engineering',\n",
       " 'ENGINEER 4A03 - Ethics, Equity and Law in Engineering',\n",
       " 'MECHENG 4M06 A/B - Project',\n",
       " 'MECHENG 4P03 A/B - Composite Laboratory',\n",
       " 'MECHENG 4V03 - Thermo-Fluids Systems Design and Analysis']"
      ]
     },
     "execution_count": 7,
     "metadata": {},
     "output_type": "execute_result"
    }
   ],
   "source": [
    "link_texts = [container.span.text.strip() for container in containers]\n",
    "link_texts"
   ]
  },
  {
   "cell_type": "markdown",
   "metadata": {},
   "source": [
    "# 2. Script to click open all course info boxes"
   ]
  },
  {
   "cell_type": "code",
   "execution_count": 8,
   "metadata": {},
   "outputs": [
    {
     "name": "stdout",
     "output_type": "stream",
     "text": [
      "clicked ENGINEER 2B03 - Engineering Economics\n",
      "clicked MATH 2Z03 - Engineering Mathematics III\n",
      "clicked MATH 2ZZ3 - Engineering Mathematics IV\n",
      "clicked MECHENG 2A03 - Design Communication\n",
      "clicked MECHENG 2B03 - Mechanical Engineering Measurements\n",
      "clicked MECHENG 2C04 - Mechanical Engineering Design I\n",
      "clicked MECHENG 2D03 - Mechanical Engineering Design Elements\n",
      "clicked MECHENG 2P04 - Statics and Mechanics of Materials\n",
      "clicked MECHENG 2Q04 - Engineering Mechanics: Kinetics and Dynamics\n",
      "clicked MECHENG 2W04 - Thermodynamics\n",
      "clicked MECHENG 3A03 - Engineering Mechanics\n",
      "clicked MECHENG 3C03 - Manufacturing Engineering\n",
      "clicked ENGINEER 2MM3 - Electrical Circuits and Power\n",
      "clicked MATLS 3M03 - Mechanical Behaviour of Materials\n",
      "clicked MATH 3I03 - Partial Differential Equations for Engineering\n",
      "clicked MECHENG 3E05 - Mechanical Engineering Design II\n",
      "clicked MECHENG 3F04 - Modelling and Numerical Solutions\n",
      "clicked MECHENG 3M03 A/B - Composite Laboratory\n",
      "clicked MECHENG 3O04 - Fluid Mechanics\n",
      "clicked MECHENG 3R03 - Heat Transfer\n",
      "clicked MECHENG 4Q03 - Mechanical Vibrations\n",
      "clicked MECHENG 4R03 - Control Systems\n",
      "clicked STATS 3Y03 - Probability and Statistics for Engineering\n",
      "clicked ENGINEER 4A03 - Ethics, Equity and Law in Engineering\n",
      "clicked MECHENG 4M06 A/B - Project\n",
      "clicked MECHENG 4P03 A/B - Composite Laboratory\n",
      "clicked MECHENG 4V03 - Thermo-Fluids Systems Design and Analysis\n"
     ]
    }
   ],
   "source": [
    "for link_text in link_texts:\n",
    "    \n",
    "    link = driver.find_element_by_link_text(link_text)    \n",
    "    time.sleep(2)\n",
    "    \n",
    "    link.click()    \n",
    "    time.sleep(3)\n",
    "    \n",
    "    print(\"clicked {}\".format(link_text))"
   ]
  },
  {
   "cell_type": "markdown",
   "metadata": {},
   "source": [
    "# 3. Obtain updated page's html and scrape course codes, names, and descriptions"
   ]
  },
  {
   "cell_type": "code",
   "execution_count": 9,
   "metadata": {},
   "outputs": [],
   "source": [
    "page_soup = soup(driver.page_source, 'lxml')"
   ]
  },
  {
   "cell_type": "code",
   "execution_count": 10,
   "metadata": {},
   "outputs": [
    {
     "data": {
      "text/plain": [
       "27"
      ]
     },
     "execution_count": 10,
     "metadata": {},
     "output_type": "execute_result"
    }
   ],
   "source": [
    "containers = page_soup.findAll(\"li\", {\"class\": \"acalog-course acalog-course-open\"})\n",
    "len(containers)"
   ]
  },
  {
   "cell_type": "code",
   "execution_count": 11,
   "metadata": {},
   "outputs": [
    {
     "data": {
      "text/plain": [
       "['ENGINEER 2B03 - Engineering Economics     3 unit(s) Engineering criteria for decision-making. Money flow. Financial ventures. Personal financing. Total project investment. Production and operations costs. Economic analysis. Financial attractiveness.\\nLectures, applications, discussions (three hours); second term\\nPrerequisite(s): Registration in any Engineering Program\\nAntirequisite(s): CHEMENG 4N04\\xa0, CIVENG 3RR3\\xa0, ENGINEER 4B03\\nNot open to students registered in an Engineering and Management program.CloseClose',\n",
       " 'MATH 2Z03 - Engineering Mathematics III     3 unit(s) Ordinary differential equations, Laplace transforms, introduction to partial differential equations, applications.Three lectures, one tutorial, one lab (two hours) every other week; one termPrerequisite(s):  MATH 1ZB3Antirequisite(s): ENGINEER 2Z03, MATH 2C03, 2M03, 2P04',\n",
       " 'MATH 2ZZ3 - Engineering Mathematics IV     3 unit(s) Fourier series, vector calculus, line and surface integrals, integral theorems, applications.Three lectures, one tutorial, one lab (two hours) every other week; one termPrerequisite(s): MATH 1ZB3; and MATH 1ZC3 or MATH 1ZZ5Antirequisite(s): ENGINEER 2ZZ3, MATH 2A03, 2MM3, 2Q04',\n",
       " 'MECHENG 2A03 - Design Communication     3 unit(s) Formal mechanical engineering drawings, views, dimensioning and tolerancing, technical illustrations and symbols and written or oral technical communication.\\nThree lectures, plus one tutorial or lecture (one hour) devoted to applications at the discretion of the instructor; first term\\nPrerequisite(s): Registration in Level II of any Mechanical Engineering program or Honours Art Program',\n",
       " 'MECHENG 2B03 - Mechanical Engineering Measurements     3 unit(s) Static and dynamic characteristics of instruments, statistical analysis of measurement errors, variable conversion elements and signal amplification. Metrology, measurement of strain and force, pressure, flow, temperature and power.\\nTwo lectures, one lab (three hours every other week); second term\\nPrerequisite(s): Registration in Level II of any Mechanical Engineering program\\nAntirequisite(s): MECHENG 2BA3\\xa0\\xa0Close',\n",
       " 'MECHENG 2C04 - Mechanical Engineering Design I     4 unit(s) Design/Build/Test projects involving synthesis, modelling, and analysis.\\nTwo lectures, one lab (two hours); second term\\nPrerequisite(s): Registration in Level II of any Mechanical Engineering program',\n",
       " 'MECHENG 2D03 - Mechanical Engineering Design Elements     3 unit(s) Design synthesis, fundamental principles of standard design elements, mechanical and fluid power elements, component specification and optimization.\\nThree lectures, one tutorial; first term\\nPrerequisite(s): Registration in Level II of any Mechanical Engineering program\\nAntirequisite(s): MECHENG 2DA3\\xa0\\xa0Close',\n",
       " 'MECHENG 2P04 - Statics and Mechanics of Materials     4 unit(s) Principles of statics as applied to deformable solid bodies. Stress and strain, elastic behaviour of simple members under axial force, bending and torsion. Principal stresses; statical indeterminacy.\\nThree lectures, plus one unit comprising tutorials or lectures devoted to applications at the discretion of the instructor; first term\\nPrerequisite(s): PHYSICS 1D03\\xa0\\xa0and registration in Level II of any Mechanical Engineering program\\nAntirequisite(s): CIVENG 2P04\\xa0\\xa0, ENGINEER 2P04\\xa0\\xa0CloseCloseClose',\n",
       " 'MECHENG 2Q04 - Engineering Mechanics: Kinetics and Dynamics     4 unit(s) Kinematics and dynamics of particles and rigid bodies. Analysis of planar mechanisms. Displacement, velocity and acceleration analysis methods. Motion with respect to a rotating frame reference. Work, energy and momentum principles.\\nThree lectures, plus one unit comprising tutorials or lectures devoted to applications at the discretion of the instructor; first term\\nPrerequisite(s): Registration in Level II of any Mechanical Engineering program\\nAntirequisite(s): CIVENG 2Q03\\xa0, 2Q04, ENGINEER 2Q04, MECHENG 2QA4\\xa0, 2QR4CloseClose',\n",
       " 'MECHENG 2W04 - Thermodynamics     4 unit(s) Introduction to the principles of thermodynamics, and applications in engineering. Basic concepts: energy systems, properties of pure substances, entropy. Laws of thermodynamics, power and refrigeration cycles.\\nThree lectures, one tutorial (two hours); second term\\nPrerequisite(s): Registration in Level II of any Mechanical Engineering program\\nAntirequisite(s): ENGINEER 2H03\\xa0\\xa0, ENGPHYS 2NE3\\xa0\\xa0CloseClose',\n",
       " 'MECHENG 3A03 - Engineering Mechanics     3 unit(s) Singularity functions, generalized Hooke’s law; shear stress, shear flow in beams; shear centre. Biaxial and unsymmetrical bending, analysis of indeterminate beams and frames using energy methods, impact loads. Buckling of compression members. Introduction to yield criteria.\\nThree lectures, one tutorial; second term\\nPrerequisite(s): ENGINEER 2P04\\xa0\\xa0or MECHENG 2P04\\xa0\\xa0and registration in any Mechanical Engineering program\\nAntirequisite(s): CIVENG 2C04\\xa0\\xa0CloseCloseClose',\n",
       " 'MECHENG 3C03 - Manufacturing Engineering     3 unit(s) A general introduction, encompassing the wide field of activities from iron and steel making through casting, rolling, forging, to cold forming, metal cutting, welding, bonding, electrical machining, surface treatment, mechanical handling, assembly, cleaning, packaging.\\nThree lectures; first term\\nPrerequisite(s): Registration in any Mechanical Engineering, Chemical Engineering or Materials Science and Engineering program, or, registration in Level III or IV of the Manufacturing Engineering Technology Co-op (B.Tech.)\\xa0\\xa0program\\nCross-list(s): MANTECH 3MF3\\xa0\\nThis course is administered by the Department of Mechanical Engineering\\xa0.Close',\n",
       " 'ENGINEER 2MM3 - Electrical Circuits and Power     3 unit(s) Fundamentals of electromechanical energy conversion. Motors and generators, transformers, single and polyphase power circuits, synchronous and induction machines, power measurements.\\nTwo lectures and one lab or tutorial; first or second term\\nPrerequisite(s): PHYSICS 1E03\\xa0; MATH 2Z03\\xa0; registration in Software Engineering - Embedded Systems Co-op\\nAntirequisite(s): ENGINEER 3M03CloseClose',\n",
       " 'MATLS 3M03 - Mechanical Behaviour of Materials     3 unit(s) Elastic and Plastic Deformation of Materials. Strengthening Methods.  Fracture Mechanisms. Fatigue and Creep failure.Three lectures, one lab (one hour) every other week; second termPrerequisite(s): ENGINEER 2P04 and Registration in Materials Engineering; or MECHENG 2P04 and Registration in Mechanical Engineering; or permission of the department',\n",
       " 'MATH 3I03 - Partial Differential Equations for Engineering     3 unit(s) Topics in partial differential equations of interest to mechanical, material and ceramic engineering, including the wave equation, the heat diffusion equation and Laplace equation, in various co-ordinate systems.\\nThree lectures, one tutorial; first term\\nPrerequisite(s): One of MATH 2M03, 2P04, 2ZZ3 or registration in Level III or IV of a program in the Department of Materials Science and Engineering',\n",
       " 'MECHENG 3E05 - Mechanical Engineering Design II     5 unit(s) 3-D stress transformation, curved beams, thick walled pressure vessels, contact stresses, fatigue, bolted and welded joints, machine elements. The laboratories feature a major design project from concept development through analysis to formal report preparation.\\nFour lectures, one lab (two hours); second term\\nPrerequisite(s): ENGINEER 2P04\\xa0\\xa0or MECHENG 2P04\\xa0; 2Q04\\xa0\\xa0or, 2QA4\\xa0\\xa0and 3A03\\xa0\\nAntirequisite(s): MECHENG 3E04CloseCloseCloseCloseClose',\n",
       " 'MECHENG 3F04 - Modelling and Numerical Solutions     4 unit(s) An introductory course in numerical analysis covering such topics as numerical differentiation, integration, curve-fitting and the solution of differential equations and systems of linear and non-linear equations.\\nFour lectures; first term\\nPrerequisite(s): Registration in any Mechanical Engineering program',\n",
       " 'MECHENG 3M03 A/B - Composite Laboratory     3 unit(s) Laboratory exercises in fluid mechanics, thermodynamics, solid mechanics, and machining processes.\\nOne lab (three hours); both terms\\nPrerequisite(s): Registration in any Mechanical Engineering program\\nAntirequisite(s): MECHENG 3M02',\n",
       " 'MECHENG 3O04 - Fluid Mechanics     4 unit(s) Fluid properties and statics, conservation laws, applications of the continuity, momentum and energy equations, dimensional analysis and similarity, boundary layer flow, internal and external flows.\\nThree lectures, one tutorial (two hours); first term\\nPrerequisite(s): Both MATH 2M03 and 2MM3 (or 2M06), or both MATH 2Z03\\xa0\\xa0and MATH 2ZZ3\\xa0\\xa0, or both MECHENG 2P04\\xa0\\xa0and 2Q04\\xa0\\xa0; and registration in any Mechanical Engineering program\\nAntirequisite(s): CIVENG 2O04\\xa0\\xa0CloseCloseCloseCloseClose',\n",
       " 'MECHENG 3R03 - Heat Transfer     3 unit(s) Application of the laws of conduction, convection and radiation to problems in heat transfer. Steady and transient conduction in solids. Laminar and turbulent convection. Radiation heat transfer processes. Boiling and condensation heat transfer.Three lectures, one tutorial; second termPrerequisite(s): MATH 2M03 (or 2M06), or MATH 2Z03; and MECHENG 2W04 or ENGPHYS 2NE3',\n",
       " 'MECHENG 4Q03 - Mechanical Vibrations     3 unit(s) Transient and steady state vibration of single- and multi-degree of freedom systems. Free and forced vibrations of single and multiple degree-of-freedom mechanical systems, transient response, damping and vibration isolation.\\nThree lectures; first term\\nPrerequisite(s): ENGINEER 2Q04 or MECHENG 2Q04\\xa0\\xa0or 2QA4\\xa0\\xa0and registration in any Mechanical Engineering or Mechatronics programCloseClose',\n",
       " 'MECHENG 4R03 - Control Systems     3 unit(s) Fundamentals of linear, continuous control systems. Control system performance in both time and frequency domains. Design and analysis of controllers.\\nThree lectures; second term\\nPrerequisite(s): Registration in Level III Mechanical Engineering; or Level IV Mechanical Engineering and Management or Mechanical Engineering and Society\\nAntirequisite(s): ELECENG 3TP3\\xa0, ELECENG 3TP4, IBEHS 4A03\\xa0\\xa0Close',\n",
       " 'STATS 3Y03 - Probability and Statistics for Engineering     3 unit(s) Introduction to probability, data analysis, statistical inference, regression, correlation and analysis of variance.\\nThree lectures; one term\\nPrerequisite(s): Registration in a program in Engineering above Level I\\nAntirequisite(s): ENGINEER 3JR4, STATS 3J04\\xa0, 3N03Close',\n",
       " 'ENGINEER 4A03 - Ethics, Equity and Law in Engineering     3 unit(s) General introduction to the ethical, equitable and legal aspects of engineering practice. Topics include the engineering act and code of ethics, employment equity, legal duties and liabilities of the professional engineer, contracts, and the tort of negligence.\\nThree lectures; both terms\\nPrerequisite(s): Registration in Level III or above of any Engineering program except Engineering and Society\\nAntirequisite(s): ENGPHYS 2S03, 4C03',\n",
       " 'MECHENG 4M06 A/B - Project     6 unit(s) A major mechanical or manufacturing engineering design or experimental project to be completed under the supervision or co-supervision of a faculty member holding an appointment in the Department of Mechanical Engineering\\xa0.\\nLectures, one capstone project; both terms\\nPrerequisite(s): Registration in Level IV Mechanical Engineering, Mechanical Engineering Co-op (B.Eng.)\\xa0; or Level V Mechanical Engineering and Management, Mechanical Engineering and Management Co-op (B.Eng.Mgt.)\\xa0\\xa0or Mechanical Engineering and Society, Mechanical Engineering and Society Co-op (B.Eng.Society)\\xa0\\xa0',\n",
       " 'MECHENG 4P03 A/B - Composite Laboratory     3 unit(s) Laboratory exercises in vibration analysis, machine structures, controls, heat transfer, gas dynamics, fluid mechanics and thermodynamics.\\nThree lectures; first term\\nPrerequisite(s): ENGINEER 2Q04 or MECHENG 2Q04\\xa0\\xa0or 2QA4\\xa0\\xa0and registration in any Mechanical Engineering or Mechatronics programCloseClose',\n",
       " 'MECHENG 4V03 - Thermo-Fluids Systems Design and Analysis     3 unit(s) Design, operation and application characteristics of equipment commonly used in thermal systems. Modelling performance characteristics of piping systems, pumps, compressors, fans, heat exchangers, boilers and cooling towers. System simulation and optimization. Selection criteria of thermal equipment. Design optimization and system performance evaluation.\\nThree lectures, one tutorial; first term\\nPrerequisite(s): MECHENG 2W04\\xa0, 3O04\\xa0, 3R03\\xa0CloseCloseClose']"
      ]
     },
     "execution_count": 11,
     "metadata": {},
     "output_type": "execute_result"
    }
   ],
   "source": [
    "course_infos = [container.find(\"div\", {\"class\": None}).text for container in containers]\n",
    "course_infos"
   ]
  },
  {
   "cell_type": "code",
   "execution_count": 13,
   "metadata": {
    "scrolled": true
   },
   "outputs": [
    {
     "data": {
      "text/plain": [
       "['Engineering criteria for decision-making. Money flow. Financial ventures. Personal financing. Total project investment. Production and operations costs. Economic analysis. Financial attractiveness.',\n",
       " 'Ordinary differential equations, Laplace transforms, introduction to partial differential equations, applications.Three lectures, one tutorial, one lab (two hours) every other week; one termPrerequisite(s):  MATH 1ZB3Antirequisite(s): ENGINEER 2Z03, MATH 2C03, 2M03, 2P04',\n",
       " 'Fourier series, vector calculus, line and surface integrals, integral theorems, applications.Three lectures, one tutorial, one lab (two hours) every other week; one termPrerequisite(s): MATH 1ZB3; and MATH 1ZC3 or MATH 1ZZ5Antirequisite(s): ENGINEER 2ZZ3, MATH 2A03, 2MM3, 2Q04',\n",
       " 'Formal mechanical engineering drawings, views, dimensioning and tolerancing, technical illustrations and symbols and written or oral technical communication.',\n",
       " 'Static and dynamic characteristics of instruments, statistical analysis of measurement errors, variable conversion elements and signal amplification. Metrology, measurement of strain and force, pressure, flow, temperature and power.',\n",
       " 'Design/Build/Test projects involving synthesis, modelling, and analysis.',\n",
       " 'Design synthesis, fundamental principles of standard design elements, mechanical and fluid power elements, component specification and optimization.',\n",
       " 'Principles of statics as applied to deformable solid bodies. Stress and strain, elastic behaviour of simple members under axial force, bending and torsion. Principal stresses; statical indeterminacy.',\n",
       " 'Kinematics and dynamics of particles and rigid bodies. Analysis of planar mechanisms. Displacement, velocity and acceleration analysis methods. Motion with respect to a rotating frame reference. Work, energy and momentum principles.',\n",
       " 'Introduction to the principles of thermodynamics, and applications in engineering. Basic concepts: energy systems, properties of pure substances, entropy. Laws of thermodynamics, power and refrigeration cycles.',\n",
       " 'Singularity functions, generalized Hooke’s law; shear stress, shear flow in beams; shear centre. Biaxial and unsymmetrical bending, analysis of indeterminate beams and frames using energy methods, impact loads. Buckling of compression members. Introduction to yield criteria.',\n",
       " 'A general introduction, encompassing the wide field of activities from iron and steel making through casting, rolling, forging, to cold forming, metal cutting, welding, bonding, electrical machining, surface treatment, mechanical handling, assembly, cleaning, packaging.',\n",
       " 'Fundamentals of electromechanical energy conversion. Motors and generators, transformers, single and polyphase power circuits, synchronous and induction machines, power measurements.',\n",
       " 'Elastic and Plastic Deformation of Materials. Strengthening Methods.  Fracture Mechanisms. Fatigue and Creep failure.Three lectures, one lab (one hour) every other week; second termPrerequisite(s): ENGINEER 2P04 and Registration in Materials Engineering; or MECHENG 2P04 and Registration in Mechanical Engineering; or permission of the department',\n",
       " 'Topics in partial differential equations of interest to mechanical, material and ceramic engineering, including the wave equation, the heat diffusion equation and Laplace equation, in various co-ordinate systems.',\n",
       " '3-D stress transformation, curved beams, thick walled pressure vessels, contact stresses, fatigue, bolted and welded joints, machine elements. The laboratories feature a major design project from concept development through analysis to formal report preparation.',\n",
       " 'An introductory course in numerical analysis covering such topics as numerical differentiation, integration, curve-fitting and the solution of differential equations and systems of linear and non-linear equations.',\n",
       " 'Laboratory exercises in fluid mechanics, thermodynamics, solid mechanics, and machining processes.',\n",
       " 'Fluid properties and statics, conservation laws, applications of the continuity, momentum and energy equations, dimensional analysis and similarity, boundary layer flow, internal and external flows.',\n",
       " 'Application of the laws of conduction, convection and radiation to problems in heat transfer. Steady and transient conduction in solids. Laminar and turbulent convection. Radiation heat transfer processes. Boiling and condensation heat transfer.Three lectures, one tutorial; second termPrerequisite(s): MATH 2M03 (or 2M06), or MATH 2Z03; and MECHENG 2W04 or ENGPHYS 2NE3',\n",
       " 'Transient and steady state vibration of single- and multi-degree of freedom systems. Free and forced vibrations of single and multiple degree-of-freedom mechanical systems, transient response, damping and vibration isolation.',\n",
       " 'Fundamentals of linear, continuous control systems. Control system performance in both time and frequency domains. Design and analysis of controllers.',\n",
       " 'Introduction to probability, data analysis, statistical inference, regression, correlation and analysis of variance.',\n",
       " 'General introduction to the ethical, equitable and legal aspects of engineering practice. Topics include the engineering act and code of ethics, employment equity, legal duties and liabilities of the professional engineer, contracts, and the tort of negligence.',\n",
       " 'A major mechanical or manufacturing engineering design or experimental project to be completed under the supervision or co-supervision of a faculty member holding an appointment in the Department of Mechanical Engineering\\xa0.',\n",
       " 'Laboratory exercises in vibration analysis, machine structures, controls, heat transfer, gas dynamics, fluid mechanics and thermodynamics.',\n",
       " 'Design, operation and application characteristics of equipment commonly used in thermal systems. Modelling performance characteristics of piping systems, pumps, compressors, fans, heat exchangers, boilers and cooling towers. System simulation and optimization. Selection criteria of thermal equipment. Design optimization and system performance evaluation.']"
      ]
     },
     "execution_count": 13,
     "metadata": {},
     "output_type": "execute_result"
    }
   ],
   "source": [
    "course_descs = [course_info.split(\"unit(s) \")[1].split(\"\\n\")[0].strip() for course_info in course_infos]\n",
    "course_descs"
   ]
  },
  {
   "cell_type": "code",
   "execution_count": 14,
   "metadata": {
    "scrolled": true
   },
   "outputs": [
    {
     "data": {
      "text/plain": [
       "['Engineering criteria for decision-making. Money flow. Financial ventures. Personal financing. Total project investment. Production and operations costs. Economic analysis. Financial attractiveness.',\n",
       " 'Ordinary differential equations, Laplace transforms, introduction to partial differential equations, applications.',\n",
       " 'Fourier series, vector calculus, line and surface integrals, integral theorems, applications.',\n",
       " 'Formal mechanical engineering drawings, views, dimensioning and tolerancing, technical illustrations and symbols and written or oral technical communication.',\n",
       " 'Static and dynamic characteristics of instruments, statistical analysis of measurement errors, variable conversion elements and signal amplification. Metrology, measurement of strain and force, pressure, flow, temperature and power.',\n",
       " 'Design/Build/Test projects involving synthesis, modelling, and analysis.',\n",
       " 'Design synthesis, fundamental principles of standard design elements, mechanical and fluid power elements, component specification and optimization.',\n",
       " 'Principles of statics as applied to deformable solid bodies. Stress and strain, elastic behaviour of simple members under axial force, bending and torsion. Principal stresses; statical indeterminacy.',\n",
       " 'Kinematics and dynamics of particles and rigid bodies. Analysis of planar mechanisms. Displacement, velocity and acceleration analysis methods. Motion with respect to a rotating frame reference. Work, energy and momentum principles.',\n",
       " 'Introduction to the principles of thermodynamics, and applications in engineering. Basic concepts: energy systems, properties of pure substances, entropy. Laws of thermodynamics, power and refrigeration cycles.',\n",
       " 'Singularity functions, generalized Hooke’s law; shear stress, shear flow in beams; shear centre. Biaxial and unsymmetrical bending, analysis of indeterminate beams and frames using energy methods, impact loads. Buckling of compression members. Introduction to yield criteria.',\n",
       " 'A general introduction, encompassing the wide field of activities from iron and steel making through casting, rolling, forging, to cold forming, metal cutting, welding, bonding, electrical machining, surface treatment, mechanical handling, assembly, cleaning, packaging.',\n",
       " 'Fundamentals of electromechanical energy conversion. Motors and generators, transformers, single and polyphase power circuits, synchronous and induction machines, power measurements.',\n",
       " 'Elastic and Plastic Deformation of Materials. Strengthening Methods.  Fracture Mechanisms. Fatigue and Creep failure.',\n",
       " 'Topics in partial differential equations of interest to mechanical, material and ceramic engineering, including the wave equation, the heat diffusion equation and Laplace equation, in various co-ordinate systems.',\n",
       " '3-D stress transformation, curved beams, thick walled pressure vessels, contact stresses, fatigue, bolted and welded joints, machine elements. The laboratories feature a major design project from concept development through analysis to formal report preparation.',\n",
       " 'An introductory course in numerical analysis covering such topics as numerical differentiation, integration, curve-fitting and the solution of differential equations and systems of linear and non-linear equations.',\n",
       " 'Laboratory exercises in fluid mechanics, thermodynamics, solid mechanics, and machining processes.',\n",
       " 'Fluid properties and statics, conservation laws, applications of the continuity, momentum and energy equations, dimensional analysis and similarity, boundary layer flow, internal and external flows.',\n",
       " 'Application of the laws of conduction, convection and radiation to problems in heat transfer. Steady and transient conduction in solids. Laminar and turbulent convection. Radiation heat transfer processes. Boiling and condensation heat transfer.',\n",
       " 'Transient and steady state vibration of single- and multi-degree of freedom systems. Free and forced vibrations of single and multiple degree-of-freedom mechanical systems, transient response, damping and vibration isolation.',\n",
       " 'Fundamentals of linear, continuous control systems. Control system performance in both time and frequency domains. Design and analysis of controllers.',\n",
       " 'Introduction to probability, data analysis, statistical inference, regression, correlation and analysis of variance.',\n",
       " 'General introduction to the ethical, equitable and legal aspects of engineering practice. Topics include the engineering act and code of ethics, employment equity, legal duties and liabilities of the professional engineer, contracts, and the tort of negligence.',\n",
       " 'A major mechanical or manufacturing engineering design or experimental project to be completed under the supervision or co-supervision of a faculty member holding an appointment in the Department of Mechanical Engineering\\xa0.',\n",
       " 'Laboratory exercises in vibration analysis, machine structures, controls, heat transfer, gas dynamics, fluid mechanics and thermodynamics.',\n",
       " 'Design, operation and application characteristics of equipment commonly used in thermal systems. Modelling performance characteristics of piping systems, pumps, compressors, fans, heat exchangers, boilers and cooling towers. System simulation and optimization. Selection criteria of thermal equipment. Design optimization and system performance evaluation.']"
      ]
     },
     "execution_count": 14,
     "metadata": {},
     "output_type": "execute_result"
    }
   ],
   "source": [
    "course_descs = [course_desc.split(\"Three lectures\")[0] for course_desc in course_descs]\n",
    "course_descs"
   ]
  },
  {
   "cell_type": "code",
   "execution_count": 15,
   "metadata": {},
   "outputs": [
    {
     "data": {
      "text/plain": [
       "['ENGINEER 2B03',\n",
       " 'MATH 2Z03',\n",
       " 'MATH 2ZZ3',\n",
       " 'MECHENG 2A03',\n",
       " 'MECHENG 2B03',\n",
       " 'MECHENG 2C04',\n",
       " 'MECHENG 2D03',\n",
       " 'MECHENG 2P04',\n",
       " 'MECHENG 2Q04',\n",
       " 'MECHENG 2W04',\n",
       " 'MECHENG 3A03',\n",
       " 'MECHENG 3C03',\n",
       " 'ENGINEER 2MM3',\n",
       " 'MATLS 3M03',\n",
       " 'MATH 3I03',\n",
       " 'MECHENG 3E05',\n",
       " 'MECHENG 3F04',\n",
       " 'MECHENG 3M03 A/B',\n",
       " 'MECHENG 3O04',\n",
       " 'MECHENG 3R03',\n",
       " 'MECHENG 4Q03',\n",
       " 'MECHENG 4R03',\n",
       " 'STATS 3Y03',\n",
       " 'ENGINEER 4A03',\n",
       " 'MECHENG 4M06 A/B',\n",
       " 'MECHENG 4P03 A/B',\n",
       " 'MECHENG 4V03']"
      ]
     },
     "execution_count": 15,
     "metadata": {},
     "output_type": "execute_result"
    }
   ],
   "source": [
    "course_codes = [link_text.split(\" - \")[0] for link_text in link_texts]\n",
    "course_codes"
   ]
  },
  {
   "cell_type": "code",
   "execution_count": 16,
   "metadata": {},
   "outputs": [
    {
     "data": {
      "text/plain": [
       "['Engineering Economics',\n",
       " 'Engineering Mathematics III',\n",
       " 'Engineering Mathematics IV',\n",
       " 'Design Communication',\n",
       " 'Mechanical Engineering Measurements',\n",
       " 'Mechanical Engineering Design I',\n",
       " 'Mechanical Engineering Design Elements',\n",
       " 'Statics and Mechanics of Materials',\n",
       " 'Engineering Mechanics: Kinetics and Dynamics',\n",
       " 'Thermodynamics',\n",
       " 'Engineering Mechanics',\n",
       " 'Manufacturing Engineering',\n",
       " 'Electrical Circuits and Power',\n",
       " 'Mechanical Behaviour of Materials',\n",
       " 'Partial Differential Equations for Engineering',\n",
       " 'Mechanical Engineering Design II',\n",
       " 'Modelling and Numerical Solutions',\n",
       " 'Composite Laboratory',\n",
       " 'Fluid Mechanics',\n",
       " 'Heat Transfer',\n",
       " 'Mechanical Vibrations',\n",
       " 'Control Systems',\n",
       " 'Probability and Statistics for Engineering',\n",
       " 'Ethics, Equity and Law in Engineering',\n",
       " 'Project',\n",
       " 'Composite Laboratory',\n",
       " 'Thermo-Fluids Systems Design and Analysis']"
      ]
     },
     "execution_count": 16,
     "metadata": {},
     "output_type": "execute_result"
    }
   ],
   "source": [
    "course_names = [link_text.split(\" - \")[1] for link_text in link_texts]\n",
    "course_names"
   ]
  },
  {
   "cell_type": "markdown",
   "metadata": {},
   "source": [
    "# 4. Write to CSV"
   ]
  },
  {
   "cell_type": "code",
   "execution_count": 17,
   "metadata": {},
   "outputs": [
    {
     "data": {
      "text/html": [
       "<div>\n",
       "<style scoped>\n",
       "    .dataframe tbody tr th:only-of-type {\n",
       "        vertical-align: middle;\n",
       "    }\n",
       "\n",
       "    .dataframe tbody tr th {\n",
       "        vertical-align: top;\n",
       "    }\n",
       "\n",
       "    .dataframe thead th {\n",
       "        text-align: right;\n",
       "    }\n",
       "</style>\n",
       "<table border=\"1\" class=\"dataframe\">\n",
       "  <thead>\n",
       "    <tr style=\"text-align: right;\">\n",
       "      <th></th>\n",
       "      <th>Course Number</th>\n",
       "      <th>Course Name</th>\n",
       "      <th>Course Description</th>\n",
       "    </tr>\n",
       "  </thead>\n",
       "  <tbody>\n",
       "    <tr>\n",
       "      <th>0</th>\n",
       "      <td>ENGINEER 2B03</td>\n",
       "      <td>Engineering Economics</td>\n",
       "      <td>Engineering criteria for decision-making. Mone...</td>\n",
       "    </tr>\n",
       "    <tr>\n",
       "      <th>1</th>\n",
       "      <td>MATH 2Z03</td>\n",
       "      <td>Engineering Mathematics III</td>\n",
       "      <td>Ordinary differential equations, Laplace trans...</td>\n",
       "    </tr>\n",
       "    <tr>\n",
       "      <th>2</th>\n",
       "      <td>MATH 2ZZ3</td>\n",
       "      <td>Engineering Mathematics IV</td>\n",
       "      <td>Fourier series, vector calculus, line and surf...</td>\n",
       "    </tr>\n",
       "    <tr>\n",
       "      <th>3</th>\n",
       "      <td>MECHENG 2A03</td>\n",
       "      <td>Design Communication</td>\n",
       "      <td>Formal mechanical engineering drawings, views,...</td>\n",
       "    </tr>\n",
       "    <tr>\n",
       "      <th>4</th>\n",
       "      <td>MECHENG 2B03</td>\n",
       "      <td>Mechanical Engineering Measurements</td>\n",
       "      <td>Static and dynamic characteristics of instrume...</td>\n",
       "    </tr>\n",
       "    <tr>\n",
       "      <th>5</th>\n",
       "      <td>MECHENG 2C04</td>\n",
       "      <td>Mechanical Engineering Design I</td>\n",
       "      <td>Design/Build/Test projects involving synthesis...</td>\n",
       "    </tr>\n",
       "    <tr>\n",
       "      <th>6</th>\n",
       "      <td>MECHENG 2D03</td>\n",
       "      <td>Mechanical Engineering Design Elements</td>\n",
       "      <td>Design synthesis, fundamental principles of st...</td>\n",
       "    </tr>\n",
       "    <tr>\n",
       "      <th>7</th>\n",
       "      <td>MECHENG 2P04</td>\n",
       "      <td>Statics and Mechanics of Materials</td>\n",
       "      <td>Principles of statics as applied to deformable...</td>\n",
       "    </tr>\n",
       "    <tr>\n",
       "      <th>8</th>\n",
       "      <td>MECHENG 2Q04</td>\n",
       "      <td>Engineering Mechanics: Kinetics and Dynamics</td>\n",
       "      <td>Kinematics and dynamics of particles and rigid...</td>\n",
       "    </tr>\n",
       "    <tr>\n",
       "      <th>9</th>\n",
       "      <td>MECHENG 2W04</td>\n",
       "      <td>Thermodynamics</td>\n",
       "      <td>Introduction to the principles of thermodynami...</td>\n",
       "    </tr>\n",
       "    <tr>\n",
       "      <th>10</th>\n",
       "      <td>MECHENG 3A03</td>\n",
       "      <td>Engineering Mechanics</td>\n",
       "      <td>Singularity functions, generalized Hooke’s law...</td>\n",
       "    </tr>\n",
       "    <tr>\n",
       "      <th>11</th>\n",
       "      <td>MECHENG 3C03</td>\n",
       "      <td>Manufacturing Engineering</td>\n",
       "      <td>A general introduction, encompassing the wide ...</td>\n",
       "    </tr>\n",
       "    <tr>\n",
       "      <th>12</th>\n",
       "      <td>ENGINEER 2MM3</td>\n",
       "      <td>Electrical Circuits and Power</td>\n",
       "      <td>Fundamentals of electromechanical energy conve...</td>\n",
       "    </tr>\n",
       "    <tr>\n",
       "      <th>13</th>\n",
       "      <td>MATLS 3M03</td>\n",
       "      <td>Mechanical Behaviour of Materials</td>\n",
       "      <td>Elastic and Plastic Deformation of Materials. ...</td>\n",
       "    </tr>\n",
       "    <tr>\n",
       "      <th>14</th>\n",
       "      <td>MATH 3I03</td>\n",
       "      <td>Partial Differential Equations for Engineering</td>\n",
       "      <td>Topics in partial differential equations of in...</td>\n",
       "    </tr>\n",
       "    <tr>\n",
       "      <th>15</th>\n",
       "      <td>MECHENG 3E05</td>\n",
       "      <td>Mechanical Engineering Design II</td>\n",
       "      <td>3-D stress transformation, curved beams, thick...</td>\n",
       "    </tr>\n",
       "    <tr>\n",
       "      <th>16</th>\n",
       "      <td>MECHENG 3F04</td>\n",
       "      <td>Modelling and Numerical Solutions</td>\n",
       "      <td>An introductory course in numerical analysis c...</td>\n",
       "    </tr>\n",
       "    <tr>\n",
       "      <th>17</th>\n",
       "      <td>MECHENG 3M03 A/B</td>\n",
       "      <td>Composite Laboratory</td>\n",
       "      <td>Laboratory exercises in fluid mechanics, therm...</td>\n",
       "    </tr>\n",
       "    <tr>\n",
       "      <th>18</th>\n",
       "      <td>MECHENG 3O04</td>\n",
       "      <td>Fluid Mechanics</td>\n",
       "      <td>Fluid properties and statics, conservation law...</td>\n",
       "    </tr>\n",
       "    <tr>\n",
       "      <th>19</th>\n",
       "      <td>MECHENG 3R03</td>\n",
       "      <td>Heat Transfer</td>\n",
       "      <td>Application of the laws of conduction, convect...</td>\n",
       "    </tr>\n",
       "    <tr>\n",
       "      <th>20</th>\n",
       "      <td>MECHENG 4Q03</td>\n",
       "      <td>Mechanical Vibrations</td>\n",
       "      <td>Transient and steady state vibration of single...</td>\n",
       "    </tr>\n",
       "    <tr>\n",
       "      <th>21</th>\n",
       "      <td>MECHENG 4R03</td>\n",
       "      <td>Control Systems</td>\n",
       "      <td>Fundamentals of linear, continuous control sys...</td>\n",
       "    </tr>\n",
       "    <tr>\n",
       "      <th>22</th>\n",
       "      <td>STATS 3Y03</td>\n",
       "      <td>Probability and Statistics for Engineering</td>\n",
       "      <td>Introduction to probability, data analysis, st...</td>\n",
       "    </tr>\n",
       "    <tr>\n",
       "      <th>23</th>\n",
       "      <td>ENGINEER 4A03</td>\n",
       "      <td>Ethics, Equity and Law in Engineering</td>\n",
       "      <td>General introduction to the ethical, equitable...</td>\n",
       "    </tr>\n",
       "    <tr>\n",
       "      <th>24</th>\n",
       "      <td>MECHENG 4M06 A/B</td>\n",
       "      <td>Project</td>\n",
       "      <td>A major mechanical or manufacturing engineerin...</td>\n",
       "    </tr>\n",
       "    <tr>\n",
       "      <th>25</th>\n",
       "      <td>MECHENG 4P03 A/B</td>\n",
       "      <td>Composite Laboratory</td>\n",
       "      <td>Laboratory exercises in vibration analysis, ma...</td>\n",
       "    </tr>\n",
       "    <tr>\n",
       "      <th>26</th>\n",
       "      <td>MECHENG 4V03</td>\n",
       "      <td>Thermo-Fluids Systems Design and Analysis</td>\n",
       "      <td>Design, operation and application characterist...</td>\n",
       "    </tr>\n",
       "  </tbody>\n",
       "</table>\n",
       "</div>"
      ],
      "text/plain": [
       "       Course Number                                     Course Name  \\\n",
       "0      ENGINEER 2B03                           Engineering Economics   \n",
       "1          MATH 2Z03                     Engineering Mathematics III   \n",
       "2          MATH 2ZZ3                      Engineering Mathematics IV   \n",
       "3       MECHENG 2A03                            Design Communication   \n",
       "4       MECHENG 2B03             Mechanical Engineering Measurements   \n",
       "5       MECHENG 2C04                 Mechanical Engineering Design I   \n",
       "6       MECHENG 2D03          Mechanical Engineering Design Elements   \n",
       "7       MECHENG 2P04              Statics and Mechanics of Materials   \n",
       "8       MECHENG 2Q04    Engineering Mechanics: Kinetics and Dynamics   \n",
       "9       MECHENG 2W04                                  Thermodynamics   \n",
       "10      MECHENG 3A03                           Engineering Mechanics   \n",
       "11      MECHENG 3C03                       Manufacturing Engineering   \n",
       "12     ENGINEER 2MM3                   Electrical Circuits and Power   \n",
       "13        MATLS 3M03               Mechanical Behaviour of Materials   \n",
       "14         MATH 3I03  Partial Differential Equations for Engineering   \n",
       "15      MECHENG 3E05                Mechanical Engineering Design II   \n",
       "16      MECHENG 3F04               Modelling and Numerical Solutions   \n",
       "17  MECHENG 3M03 A/B                            Composite Laboratory   \n",
       "18      MECHENG 3O04                                 Fluid Mechanics   \n",
       "19      MECHENG 3R03                                   Heat Transfer   \n",
       "20      MECHENG 4Q03                           Mechanical Vibrations   \n",
       "21      MECHENG 4R03                                 Control Systems   \n",
       "22        STATS 3Y03      Probability and Statistics for Engineering   \n",
       "23     ENGINEER 4A03           Ethics, Equity and Law in Engineering   \n",
       "24  MECHENG 4M06 A/B                                         Project   \n",
       "25  MECHENG 4P03 A/B                            Composite Laboratory   \n",
       "26      MECHENG 4V03       Thermo-Fluids Systems Design and Analysis   \n",
       "\n",
       "                                   Course Description  \n",
       "0   Engineering criteria for decision-making. Mone...  \n",
       "1   Ordinary differential equations, Laplace trans...  \n",
       "2   Fourier series, vector calculus, line and surf...  \n",
       "3   Formal mechanical engineering drawings, views,...  \n",
       "4   Static and dynamic characteristics of instrume...  \n",
       "5   Design/Build/Test projects involving synthesis...  \n",
       "6   Design synthesis, fundamental principles of st...  \n",
       "7   Principles of statics as applied to deformable...  \n",
       "8   Kinematics and dynamics of particles and rigid...  \n",
       "9   Introduction to the principles of thermodynami...  \n",
       "10  Singularity functions, generalized Hooke’s law...  \n",
       "11  A general introduction, encompassing the wide ...  \n",
       "12  Fundamentals of electromechanical energy conve...  \n",
       "13  Elastic and Plastic Deformation of Materials. ...  \n",
       "14  Topics in partial differential equations of in...  \n",
       "15  3-D stress transformation, curved beams, thick...  \n",
       "16  An introductory course in numerical analysis c...  \n",
       "17  Laboratory exercises in fluid mechanics, therm...  \n",
       "18  Fluid properties and statics, conservation law...  \n",
       "19  Application of the laws of conduction, convect...  \n",
       "20  Transient and steady state vibration of single...  \n",
       "21  Fundamentals of linear, continuous control sys...  \n",
       "22  Introduction to probability, data analysis, st...  \n",
       "23  General introduction to the ethical, equitable...  \n",
       "24  A major mechanical or manufacturing engineerin...  \n",
       "25  Laboratory exercises in vibration analysis, ma...  \n",
       "26  Design, operation and application characterist...  "
      ]
     },
     "execution_count": 17,
     "metadata": {},
     "output_type": "execute_result"
    }
   ],
   "source": [
    "import pandas as pd\n",
    "\n",
    "df = pd.DataFrame({\n",
    "    \"Course Number\": course_codes,\n",
    "    \"Course Name\": course_names,\n",
    "    \"Course Description\": course_descs    \n",
    "})\n",
    "\n",
    "df"
   ]
  },
  {
   "cell_type": "code",
   "execution_count": 18,
   "metadata": {},
   "outputs": [],
   "source": [
    "df.to_csv('McMaster_MechEng_Core_(Years2-4)_Courses.csv', index = False)"
   ]
  },
  {
   "cell_type": "code",
   "execution_count": 19,
   "metadata": {},
   "outputs": [],
   "source": [
    "driver.quit()"
   ]
  }
 ],
 "metadata": {
  "kernelspec": {
   "display_name": "Python 3",
   "language": "python",
   "name": "python3"
  },
  "language_info": {
   "codemirror_mode": {
    "name": "ipython",
    "version": 3
   },
   "file_extension": ".py",
   "mimetype": "text/x-python",
   "name": "python",
   "nbconvert_exporter": "python",
   "pygments_lexer": "ipython3",
   "version": "3.8.5"
  }
 },
 "nbformat": 4,
 "nbformat_minor": 4
}
