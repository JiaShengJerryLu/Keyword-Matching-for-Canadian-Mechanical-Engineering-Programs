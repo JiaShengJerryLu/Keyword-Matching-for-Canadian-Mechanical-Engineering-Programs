{
 "cells": [
  {
   "cell_type": "code",
   "execution_count": 1,
   "metadata": {},
   "outputs": [],
   "source": [
    "from bs4 import BeautifulSoup as soup\n",
    "from urllib.request import urlopen as ureq\n",
    "from selenium import webdriver\n",
    "import time\n",
    "import re"
   ]
  },
  {
   "cell_type": "code",
   "execution_count": 2,
   "metadata": {},
   "outputs": [],
   "source": [
    "url = \"https://academiccalendars.romcmaster.ca/preview_program.php?catoid=41&poid=22151\""
   ]
  },
  {
   "cell_type": "code",
   "execution_count": 3,
   "metadata": {},
   "outputs": [],
   "source": [
    "chrome_options = webdriver.ChromeOptions()\n",
    "chrome_options.add_argument('--ignore-certificate-errors')\n",
    "chrome_options.add_argument('--incognito')\n",
    "#chrome_options.add_argument('--headless')\n",
    "\n",
    "driver = webdriver.Chrome(\"C:\\\\Users\\\\jerry\\\\Downloads\\\\chromedriver\", options=chrome_options)"
   ]
  },
  {
   "cell_type": "code",
   "execution_count": 4,
   "metadata": {},
   "outputs": [],
   "source": [
    "driver.get(url)"
   ]
  },
  {
   "cell_type": "markdown",
   "metadata": {},
   "source": [
    "# 1. Collect course link texts for driver to click on"
   ]
  },
  {
   "cell_type": "code",
   "execution_count": 5,
   "metadata": {},
   "outputs": [],
   "source": [
    "page_soup = soup(driver.page_source, 'lxml')"
   ]
  },
  {
   "cell_type": "code",
   "execution_count": 6,
   "metadata": {},
   "outputs": [
    {
     "data": {
      "text/plain": [
       "8"
      ]
     },
     "execution_count": 6,
     "metadata": {},
     "output_type": "execute_result"
    }
   ],
   "source": [
    "containers = page_soup.findAll(\"li\", {\"class\": \"acalog-course\"})\n",
    "len(containers)"
   ]
  },
  {
   "cell_type": "code",
   "execution_count": 9,
   "metadata": {},
   "outputs": [
    {
     "data": {
      "text/plain": [
       "['CHEM 1E03 - General Chemistry for Engineering I',\n",
       " 'ENGINEER 1P13 A/B - Integrated Cornerstone Design Projects in Engineering',\n",
       " 'MATH 1ZA3 - Engineering Mathematics I',\n",
       " 'MATH 1ZB3 - Engineering Mathematics II-A',\n",
       " 'MATH 1ZC3 - Engineering Mathematics II-B',\n",
       " 'PHYSICS 1D03 - Introductory Mechanics',\n",
       " 'PHYSICS 1E03 - Waves, Electricity and Magnetic Fields',\n",
       " 'WHMIS 1A00 - Introduction to Health and Safety']"
      ]
     },
     "execution_count": 9,
     "metadata": {},
     "output_type": "execute_result"
    }
   ],
   "source": [
    "link_texts = [container.span.text.strip() for container in containers]\n",
    "link_texts"
   ]
  },
  {
   "cell_type": "markdown",
   "metadata": {},
   "source": [
    "# 2. Quick test and then script to click open all course info boxes"
   ]
  },
  {
   "cell_type": "code",
   "execution_count": 10,
   "metadata": {},
   "outputs": [],
   "source": [
    "driver.find_element_by_link_text(link_texts[0]).click()"
   ]
  },
  {
   "cell_type": "code",
   "execution_count": 11,
   "metadata": {},
   "outputs": [],
   "source": [
    "driver.find_element_by_link_text(link_texts[1]).click()"
   ]
  },
  {
   "cell_type": "code",
   "execution_count": 12,
   "metadata": {},
   "outputs": [
    {
     "name": "stdout",
     "output_type": "stream",
     "text": [
      "clicked CHEM 1E03 - General Chemistry for Engineering I\n",
      "clicked ENGINEER 1P13 A/B - Integrated Cornerstone Design Projects in Engineering\n",
      "clicked MATH 1ZA3 - Engineering Mathematics I\n",
      "clicked MATH 1ZB3 - Engineering Mathematics II-A\n",
      "clicked MATH 1ZC3 - Engineering Mathematics II-B\n",
      "clicked PHYSICS 1D03 - Introductory Mechanics\n",
      "clicked PHYSICS 1E03 - Waves, Electricity and Magnetic Fields\n",
      "clicked WHMIS 1A00 - Introduction to Health and Safety\n"
     ]
    }
   ],
   "source": [
    "from selenium.webdriver.common.keys import Keys\n",
    "\n",
    "driver.get(url)\n",
    "time.sleep(5)\n",
    "\n",
    "for link_text in link_texts:\n",
    "    link = driver.find_element_by_link_text(link_text)\n",
    "        \n",
    "    time.sleep(2)\n",
    "    link.click()    \n",
    "    time.sleep(3)\n",
    "    print(\"clicked {}\".format(link_text))"
   ]
  },
  {
   "cell_type": "markdown",
   "metadata": {},
   "source": [
    "# 3. Obtain updated page's html and scrape course codes, names, and descriptions"
   ]
  },
  {
   "cell_type": "code",
   "execution_count": 13,
   "metadata": {},
   "outputs": [],
   "source": [
    "page_soup = soup(driver.page_source, 'lxml')"
   ]
  },
  {
   "cell_type": "code",
   "execution_count": 14,
   "metadata": {},
   "outputs": [
    {
     "data": {
      "text/plain": [
       "8"
      ]
     },
     "execution_count": 14,
     "metadata": {},
     "output_type": "execute_result"
    }
   ],
   "source": [
    "containers = page_soup.findAll(\"li\", {\"class\": \"acalog-course acalog-course-open\"})\n",
    "len(containers)"
   ]
  },
  {
   "cell_type": "code",
   "execution_count": 15,
   "metadata": {
    "scrolled": true
   },
   "outputs": [
    {
     "data": {
      "text/plain": [
       "['CHEM 1E03 - General Chemistry for Engineering I     3 unit(s) An introduction to chemical principles for Engineering students, including reactivity, bonding, structure, energetics and electrochemistry.\\nThree lectures, one lab (two and one half hours) every other week; one term\\nPrerequisite(s): Registration in a program in Engineering\\nAntirequisite(s): CHEM 1A03\\xa0\\nNot open to students with credit or registration in ISCI 1A24 A/B\\xa0.CloseClose',\n",
       " 'ENGINEER 1P13 A/B - Integrated Cornerstone Design Projects in Engineering     13 unit(s) Project-based integrated learning course that introduces a range of foundational (i.e., cornerstone) topics in engineering, including engineering design and communication, computation, graphic design, materials and the engineering profession. These topics are applied through a series of integrated team-based design projects in simulated workplace environments.\\nThree lectures, one tutorial (two hours), two labs (three hours each); both terms\\nPrerequisite(s): Registration in any Engineering program\\nAntirequisite(s): ENGINEER 1C03, ENGINEER 1D04, ENGINEER 1P03, IBEHS 1P10 A/B, MATLS 1M03',\n",
       " 'MATH 1ZA3 - Engineering Mathematics I     3 unit(s) Functions: limits, continuity, derivatives, optimization, curve sketching. Antiderivative, definite integral, techniques of integration, with applications.\\nThree lectures, one tutorial, one lab; one term\\nPrerequisite(s): Registration in a program in Engineering\\nAntirequisite(s): ARTSSCI 1D06 A/B\\xa0, MATH 1A03\\xa0, 1LS3\\xa0, 1N03, 1NN3, 1X03\\xa0, 1Z04\\nNot open to students with credit or registration in ISCI 1A24 A/B\\xa0.CloseCloseCloseCloseClose',\n",
       " 'MATH 1ZB3 - Engineering Mathematics II-A     3 unit(s) Techniques of integration, applications of definite integrals, differential equations, polar coordinates, parametrized curves. Sequences, infinite series, power series. Partial derivatives.\\nThree lectures, one tutorial, one lab; one term\\nPrerequisite(s): MATH 1ZA3\\xa0\\nAntirequisite(s): ARTSSCI 1D06 A/B\\xa0, MATH 1AA3\\xa0, 1LT3\\xa0, 1N03, 1NN3, 1XX3\\xa0, 1ZZ5\\nNot open to students with credit or registration in ISCI 1A24 A/B\\xa0.CloseCloseCloseCloseCloseClose',\n",
       " 'MATH 1ZC3 - Engineering Mathematics II-B     3 unit(s) Vector spaces given by solutions to linear systems. Linear independence, dimension. Determinants. Eigenvalues, eigenvectors and diagonalisation. Complex numbers.\\nThree lectures, one tutorial, one lab; one term\\nPrerequisite(s): One of Grade 12 Calculus and Vectors U, MATH 1F03\\xa0, or credit or registration in MATH 1ZA3\\xa0\\nAntirequisite(s): MATH 1B03\\xa0, 1ZZ5CloseCloseClose',\n",
       " 'PHYSICS 1D03 - Introductory Mechanics     3 unit(s) A course for engineering students. Principles of mechanics of particles and rigid bodies, including Newton’s Laws, rotational kinematics and dynamics, torque, energy, momentum, angular momentum, and simple harmonic motion.\\nThree lectures, one lab (three hours) every other week; one term\\nPrerequisite(s): Registration in a program in the Faculty of Engineering\\xa0',\n",
       " 'PHYSICS 1E03 - Waves, Electricity and Magnetic Fields     3 unit(s) A course for engineering students. Oscillations and waves, interference; electrostatics, electric potential, circuit elements; magnetic fields.\\nThree lectures, one lab (three hours) every other week; one term\\nPrerequisite(s): PHYSICS 1D03\\xa0\\xa0and registration in Engineering\\nAntirequisite(s): PHYSICS 2A03Close',\n",
       " 'WHMIS 1A00 - Introduction to Health and Safety     0 unit(s) Introduction to safety guidelines at McMaster University, acceptable safety conduct and positive safety attitudes and practices in laboratories and Workplace Hazardous Materials Information System (WHMIS).\\nThis course is evaluated on a Complete/Fail basis.\\nWeb modules\\nAntirequisite(s): ART 1HS0, ENGINEER 1A00, ENGTECH 1A00, NURSING 1A00, SCIENCE 1A00\\nThis requirement must be completed prior to the start of the first lab. Students who fail the quiz must reattempt it and will not be permitted in any course with a lab component or any Level II ART course until the requirement has been successfully completed.']"
      ]
     },
     "execution_count": 15,
     "metadata": {},
     "output_type": "execute_result"
    }
   ],
   "source": [
    "course_infos = [container.find(\"div\", {\"class\": None}).text for container in containers]\n",
    "course_infos"
   ]
  },
  {
   "cell_type": "code",
   "execution_count": 16,
   "metadata": {
    "scrolled": true
   },
   "outputs": [
    {
     "data": {
      "text/plain": [
       "['An introduction to chemical principles for Engineering students, including reactivity, bonding, structure, energetics and electrochemistry.',\n",
       " 'Project-based integrated learning course that introduces a range of foundational (i.e., cornerstone) topics in engineering, including engineering design and communication, computation, graphic design, materials and the engineering profession. These topics are applied through a series of integrated team-based design projects in simulated workplace environments.',\n",
       " 'Functions: limits, continuity, derivatives, optimization, curve sketching. Antiderivative, definite integral, techniques of integration, with applications.',\n",
       " 'Techniques of integration, applications of definite integrals, differential equations, polar coordinates, parametrized curves. Sequences, infinite series, power series. Partial derivatives.',\n",
       " 'Vector spaces given by solutions to linear systems. Linear independence, dimension. Determinants. Eigenvalues, eigenvectors and diagonalisation. Complex numbers.',\n",
       " 'A course for engineering students. Principles of mechanics of particles and rigid bodies, including Newton’s Laws, rotational kinematics and dynamics, torque, energy, momentum, angular momentum, and simple harmonic motion.',\n",
       " 'A course for engineering students. Oscillations and waves, interference; electrostatics, electric potential, circuit elements; magnetic fields.',\n",
       " 'Introduction to safety guidelines at McMaster University, acceptable safety conduct and positive safety attitudes and practices in laboratories and Workplace Hazardous Materials Information System (WHMIS).']"
      ]
     },
     "execution_count": 16,
     "metadata": {},
     "output_type": "execute_result"
    }
   ],
   "source": [
    "course_descs = [course_info.split(\"unit(s) \")[1].split(\"\\n\")[0] for course_info in course_infos]\n",
    "course_descs"
   ]
  },
  {
   "cell_type": "code",
   "execution_count": 17,
   "metadata": {},
   "outputs": [
    {
     "data": {
      "text/plain": [
       "['CHEM 1E03',\n",
       " 'ENGINEER 1P13 A/B',\n",
       " 'MATH 1ZA3',\n",
       " 'MATH 1ZB3',\n",
       " 'MATH 1ZC3',\n",
       " 'PHYSICS 1D03',\n",
       " 'PHYSICS 1E03',\n",
       " 'WHMIS 1A00']"
      ]
     },
     "execution_count": 17,
     "metadata": {},
     "output_type": "execute_result"
    }
   ],
   "source": [
    "course_codes = [link_text.split(\" - \")[0] for link_text in link_texts]\n",
    "course_codes"
   ]
  },
  {
   "cell_type": "code",
   "execution_count": 18,
   "metadata": {},
   "outputs": [
    {
     "data": {
      "text/plain": [
       "['General Chemistry for Engineering I',\n",
       " 'Integrated Cornerstone Design Projects in Engineering',\n",
       " 'Engineering Mathematics I',\n",
       " 'Engineering Mathematics II-A',\n",
       " 'Engineering Mathematics II-B',\n",
       " 'Introductory Mechanics',\n",
       " 'Waves, Electricity and Magnetic Fields',\n",
       " 'Introduction to Health and Safety']"
      ]
     },
     "execution_count": 18,
     "metadata": {},
     "output_type": "execute_result"
    }
   ],
   "source": [
    "course_names = [link_text.split(\" - \")[1] for link_text in link_texts]\n",
    "course_names"
   ]
  },
  {
   "cell_type": "markdown",
   "metadata": {},
   "source": [
    "# 4. Write to CSV"
   ]
  },
  {
   "cell_type": "code",
   "execution_count": 19,
   "metadata": {},
   "outputs": [
    {
     "data": {
      "text/html": [
       "<div>\n",
       "<style scoped>\n",
       "    .dataframe tbody tr th:only-of-type {\n",
       "        vertical-align: middle;\n",
       "    }\n",
       "\n",
       "    .dataframe tbody tr th {\n",
       "        vertical-align: top;\n",
       "    }\n",
       "\n",
       "    .dataframe thead th {\n",
       "        text-align: right;\n",
       "    }\n",
       "</style>\n",
       "<table border=\"1\" class=\"dataframe\">\n",
       "  <thead>\n",
       "    <tr style=\"text-align: right;\">\n",
       "      <th></th>\n",
       "      <th>Course Number</th>\n",
       "      <th>Course Name</th>\n",
       "      <th>Course Description</th>\n",
       "    </tr>\n",
       "  </thead>\n",
       "  <tbody>\n",
       "    <tr>\n",
       "      <th>0</th>\n",
       "      <td>CHEM 1E03</td>\n",
       "      <td>General Chemistry for Engineering I</td>\n",
       "      <td>An introduction to chemical principles for Eng...</td>\n",
       "    </tr>\n",
       "    <tr>\n",
       "      <th>1</th>\n",
       "      <td>ENGINEER 1P13 A/B</td>\n",
       "      <td>Integrated Cornerstone Design Projects in Engi...</td>\n",
       "      <td>Project-based integrated learning course that ...</td>\n",
       "    </tr>\n",
       "    <tr>\n",
       "      <th>2</th>\n",
       "      <td>MATH 1ZA3</td>\n",
       "      <td>Engineering Mathematics I</td>\n",
       "      <td>Functions: limits, continuity, derivatives, op...</td>\n",
       "    </tr>\n",
       "    <tr>\n",
       "      <th>3</th>\n",
       "      <td>MATH 1ZB3</td>\n",
       "      <td>Engineering Mathematics II-A</td>\n",
       "      <td>Techniques of integration, applications of def...</td>\n",
       "    </tr>\n",
       "    <tr>\n",
       "      <th>4</th>\n",
       "      <td>MATH 1ZC3</td>\n",
       "      <td>Engineering Mathematics II-B</td>\n",
       "      <td>Vector spaces given by solutions to linear sys...</td>\n",
       "    </tr>\n",
       "    <tr>\n",
       "      <th>5</th>\n",
       "      <td>PHYSICS 1D03</td>\n",
       "      <td>Introductory Mechanics</td>\n",
       "      <td>A course for engineering students. Principles ...</td>\n",
       "    </tr>\n",
       "    <tr>\n",
       "      <th>6</th>\n",
       "      <td>PHYSICS 1E03</td>\n",
       "      <td>Waves, Electricity and Magnetic Fields</td>\n",
       "      <td>A course for engineering students. Oscillation...</td>\n",
       "    </tr>\n",
       "    <tr>\n",
       "      <th>7</th>\n",
       "      <td>WHMIS 1A00</td>\n",
       "      <td>Introduction to Health and Safety</td>\n",
       "      <td>Introduction to safety guidelines at McMaster ...</td>\n",
       "    </tr>\n",
       "  </tbody>\n",
       "</table>\n",
       "</div>"
      ],
      "text/plain": [
       "       Course Number                                        Course Name  \\\n",
       "0          CHEM 1E03                General Chemistry for Engineering I   \n",
       "1  ENGINEER 1P13 A/B  Integrated Cornerstone Design Projects in Engi...   \n",
       "2          MATH 1ZA3                          Engineering Mathematics I   \n",
       "3          MATH 1ZB3                       Engineering Mathematics II-A   \n",
       "4          MATH 1ZC3                       Engineering Mathematics II-B   \n",
       "5       PHYSICS 1D03                             Introductory Mechanics   \n",
       "6       PHYSICS 1E03             Waves, Electricity and Magnetic Fields   \n",
       "7         WHMIS 1A00                  Introduction to Health and Safety   \n",
       "\n",
       "                                  Course Description  \n",
       "0  An introduction to chemical principles for Eng...  \n",
       "1  Project-based integrated learning course that ...  \n",
       "2  Functions: limits, continuity, derivatives, op...  \n",
       "3  Techniques of integration, applications of def...  \n",
       "4  Vector spaces given by solutions to linear sys...  \n",
       "5  A course for engineering students. Principles ...  \n",
       "6  A course for engineering students. Oscillation...  \n",
       "7  Introduction to safety guidelines at McMaster ...  "
      ]
     },
     "execution_count": 19,
     "metadata": {},
     "output_type": "execute_result"
    }
   ],
   "source": [
    "import pandas as pd\n",
    "\n",
    "df = pd.DataFrame({\n",
    "    \"Course Number\": course_codes,\n",
    "    \"Course Name\": course_names,\n",
    "    \"Course Description\": course_descs    \n",
    "})\n",
    "\n",
    "df"
   ]
  },
  {
   "cell_type": "code",
   "execution_count": 20,
   "metadata": {},
   "outputs": [],
   "source": [
    "df.to_csv('McMaster_EngineeringI_(Year1)_Courses.csv', index = False)"
   ]
  },
  {
   "cell_type": "code",
   "execution_count": 21,
   "metadata": {},
   "outputs": [],
   "source": [
    "driver.quit()"
   ]
  }
 ],
 "metadata": {
  "kernelspec": {
   "display_name": "Python 3",
   "language": "python",
   "name": "python3"
  },
  "language_info": {
   "codemirror_mode": {
    "name": "ipython",
    "version": 3
   },
   "file_extension": ".py",
   "mimetype": "text/x-python",
   "name": "python",
   "nbconvert_exporter": "python",
   "pygments_lexer": "ipython3",
   "version": "3.8.5"
  }
 },
 "nbformat": 4,
 "nbformat_minor": 4
}
