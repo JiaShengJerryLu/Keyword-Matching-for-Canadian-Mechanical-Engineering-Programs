{
 "cells": [
  {
   "cell_type": "code",
   "execution_count": 1,
   "metadata": {},
   "outputs": [],
   "source": [
    "from bs4 import BeautifulSoup as soup\n",
    "from urllib.request import urlopen as ureq\n",
    "from selenium import webdriver\n",
    "import time\n",
    "import re"
   ]
  },
  {
   "cell_type": "code",
   "execution_count": 2,
   "metadata": {},
   "outputs": [],
   "source": [
    "url = \"https://www.ryerson.ca/calendar/2021-2022/programs/feas/mechanical/\""
   ]
  },
  {
   "cell_type": "code",
   "execution_count": 3,
   "metadata": {},
   "outputs": [],
   "source": [
    "chrome_options = webdriver.ChromeOptions()\n",
    "chrome_options.add_argument('--ignore-certificate-errors')\n",
    "chrome_options.add_argument('--incognito')\n",
    "chrome_options.add_argument('--headless')\n",
    "\n",
    "driver = webdriver.Chrome(\"C:\\\\Users\\\\jerry\\\\Downloads\\\\chromedriver\", options=chrome_options)"
   ]
  },
  {
   "cell_type": "code",
   "execution_count": 4,
   "metadata": {},
   "outputs": [],
   "source": [
    "driver.get(url)"
   ]
  },
  {
   "cell_type": "markdown",
   "metadata": {},
   "source": [
    "# 1. Collect course link texts for webdriver to click on"
   ]
  },
  {
   "cell_type": "code",
   "execution_count": 5,
   "metadata": {},
   "outputs": [],
   "source": [
    "page_soup = soup(driver.page_source, 'lxml')"
   ]
  },
  {
   "cell_type": "code",
   "execution_count": 6,
   "metadata": {},
   "outputs": [],
   "source": [
    "#open all the tabs first in order to click the links\n",
    "open_tabs = driver.find_element_by_class_name(\"resAccordionOpenAll\")\n",
    "open_tabs.click()\n",
    "time.sleep(2)"
   ]
  },
  {
   "cell_type": "code",
   "execution_count": 7,
   "metadata": {},
   "outputs": [],
   "source": [
    "mechatronics_container = page_soup.findAll(\"div\", {\"class\": \"panel panel-default\"})[4]"
   ]
  },
  {
   "cell_type": "code",
   "execution_count": 9,
   "metadata": {},
   "outputs": [
    {
     "data": {
      "text/plain": [
       "7"
      ]
     },
     "execution_count": 9,
     "metadata": {},
     "output_type": "execute_result"
    }
   ],
   "source": [
    "#need to filter out a liberal studies courses container\n",
    "sub_containers = mechatronics_container.findAll(\"div\", {\"class\": \"resTable parbase section\"})\n",
    "len(sub_containers)"
   ]
  },
  {
   "cell_type": "code",
   "execution_count": 10,
   "metadata": {
    "scrolled": true
   },
   "outputs": [
    {
     "data": {
      "text/plain": [
       "<div class=\"resTable parbase section\">\n",
       "<div class=\"scrollIndicator\">\n",
       "<i aria-hidden=\"true\" class=\"fa fa-long-arrow-left\"></i> Swipe to see more <i aria-hidden=\"true\" class=\"fa fa-long-arrow-right\"></i>\n",
       "</div>\n",
       "<div id=\"5256fafe-8891-4392-95a9-27f77e2bdeec\">\n",
       "<table border=\"0\" cellpadding=\"0\" cellspacing=\"0\" class=\"table table-bordered\">\n",
       "<colgroup>\n",
       "<col width=\"20%\"/>\n",
       "<col width=\"80%\"/>\n",
       "</colgroup>\n",
       "<tbody>\n",
       "<tr>\n",
       "<td valign=\"top\"><a class=\"qTipCourse\" data-url=\"/content/ryerson/calendar/2021-2022/courses/english/ENG/503/jcr:content/resCalendarCourseEmbed.json\" href=\"/content/ryerson/calendar/2021-2022/courses/english/ENG/503.html\">ENG 503</a></td>\n",
       "<td valign=\"top\">Science Fiction</td>\n",
       "</tr>\n",
       "<tr>\n",
       "<td valign=\"top\"><a class=\"qTipCourse\" data-url=\"/content/ryerson/calendar/2021-2022/courses/geography/GEO/702/jcr:content/resCalendarCourseEmbed.json\" href=\"/content/ryerson/calendar/2021-2022/courses/geography/GEO/702.html\">GEO 702</a></td>\n",
       "<td valign=\"top\">Technology and the Contemporary Environment</td>\n",
       "</tr>\n",
       "<tr>\n",
       "<td valign=\"top\"><a class=\"qTipCourse\" data-url=\"/content/ryerson/calendar/2021-2022/courses/history/HST/701/jcr:content/resCalendarCourseEmbed.json\" href=\"/content/ryerson/calendar/2021-2022/courses/history/HST/701.html\">HST 701</a></td>\n",
       "<td valign=\"top\">Scientific Technology and Modern Society</td>\n",
       "</tr>\n",
       "<tr>\n",
       "<td valign=\"top\"><a class=\"qTipCourse\" data-url=\"/content/ryerson/calendar/2021-2022/courses/philosophy/PHL/709/jcr:content/resCalendarCourseEmbed.json\" href=\"/content/ryerson/calendar/2021-2022/courses/philosophy/PHL/709.html\">PHL 709</a></td>\n",
       "<td valign=\"top\">Religion, Science and Philosophy</td>\n",
       "</tr>\n",
       "<tr>\n",
       "<td valign=\"top\"><a class=\"qTipCourse\" data-url=\"/content/ryerson/calendar/2021-2022/courses/politics-and-public-administration/POL/507/jcr:content/resCalendarCourseEmbed.json\" href=\"/content/ryerson/calendar/2021-2022/courses/politics-and-public-administration/POL/507.html\">POL 507</a></td>\n",
       "<td valign=\"top\">Power, Change and Technology</td>\n",
       "</tr>\n",
       "</tbody>\n",
       "</table>\n",
       "</div>\n",
       "<script>\n",
       "\t\n",
       "\t//convert to plugin in pure js....later (soon)\n",
       "\t$(document).ready(function() {\n",
       "\t\t$('#5256fafe-8891-4392-95a9-27f77e2bdeec table').addClass(\"table\");\n",
       "\t    \n",
       "\t\t$('#5256fafe-8891-4392-95a9-27f77e2bdeec table').addClass(\"table-bordered\");\n",
       "\t\t\n",
       "\t    \n",
       "\t} );\n",
       "\t</script>\n",
       "<script>$(document).ready(function(){addCoursePopover(\"#5256fafe-8891-4392-95a9-27f77e2bdeec\");});</script></div>"
      ]
     },
     "execution_count": 10,
     "metadata": {},
     "output_type": "execute_result"
    }
   ],
   "source": [
    "sub_containers[3]"
   ]
  },
  {
   "cell_type": "code",
   "execution_count": 11,
   "metadata": {},
   "outputs": [
    {
     "data": {
      "text/plain": [
       "6"
      ]
     },
     "execution_count": 11,
     "metadata": {},
     "output_type": "execute_result"
    }
   ],
   "source": [
    "sub_containers = [container for container in sub_containers if sub_containers.index(container) != 3]\n",
    "len(sub_containers)"
   ]
  },
  {
   "cell_type": "code",
   "execution_count": 12,
   "metadata": {
    "scrolled": true
   },
   "outputs": [
    {
     "data": {
      "text/plain": [
       "['EES 508',\n",
       " 'EES 612',\n",
       " 'MEC 430',\n",
       " 'MEC 514',\n",
       " 'MEC 516',\n",
       " 'MTH 510',\n",
       " 'MEC 411',\n",
       " 'MEC 613',\n",
       " 'MEC 701',\n",
       " 'MEC 709',\n",
       " 'MEC 721',\n",
       " 'MEC 733',\n",
       " 'MEC 751',\n",
       " 'MEC 830',\n",
       " 'ELE 719',\n",
       " 'MEC 617',\n",
       " 'MEC 626',\n",
       " 'MEC 713',\n",
       " 'MEC 813',\n",
       " 'CEN 800',\n",
       " 'ELE 709',\n",
       " 'MEC 825',\n",
       " 'ELE 819',\n",
       " 'ELE 888',\n",
       " 'MEC 809',\n",
       " 'MEC 816',\n",
       " 'MEC 832']"
      ]
     },
     "execution_count": 12,
     "metadata": {},
     "output_type": "execute_result"
    }
   ],
   "source": [
    "link_texts = [container.findAll(\"a\", {\"class\": \"qTipCourse\"}) for container in sub_containers]\n",
    "link_texts = [link_text.text for sub_list in link_texts for link_text in sub_list]\n",
    "link_texts"
   ]
  },
  {
   "cell_type": "code",
   "execution_count": 13,
   "metadata": {},
   "outputs": [
    {
     "data": {
      "text/plain": [
       "27"
      ]
     },
     "execution_count": 13,
     "metadata": {},
     "output_type": "execute_result"
    }
   ],
   "source": [
    "len(link_texts)"
   ]
  },
  {
   "cell_type": "markdown",
   "metadata": {},
   "source": [
    "# 2. Automation script to scrape all courses"
   ]
  },
  {
   "cell_type": "code",
   "execution_count": 14,
   "metadata": {
    "scrolled": true
   },
   "outputs": [
    {
     "name": "stdout",
     "output_type": "stream",
     "text": [
      "Scraped  EES 508\n",
      "Scraped  EES 612\n",
      "Scraped  MEC 430\n",
      "Scraped  MEC 514\n",
      "Scraped  MEC 516\n",
      "Scraped  MTH 510\n",
      "Scraped  MEC 411\n",
      "Scraped  MEC 613\n",
      "Scraped  MEC 701\n",
      "Scraped  MEC 709\n",
      "Scraped  MEC 721\n",
      "Scraped  MEC 733\n",
      "Scraped  MEC 751\n",
      "Scraped  MEC 830\n",
      "Scraped  ELE 719\n",
      "Scraped  MEC 617\n",
      "Scraped  MEC 626\n",
      "Scraped  MEC 713\n",
      "Scraped  MEC 813\n",
      "Scraped  CEN 800\n",
      "Scraped  ELE 709\n",
      "Scraped  MEC 825\n",
      "Scraped  ELE 819\n",
      "Scraped  ELE 888\n",
      "Scraped  MEC 809\n",
      "Scraped  MEC 816\n",
      "Scraped  MEC 832\n",
      "Finished scraping 27 courses\n"
     ]
    }
   ],
   "source": [
    "#scrape the upper years courses\n",
    "\n",
    "course_codes = []\n",
    "course_names = []\n",
    "course_descs = []\n",
    "counter = 0\n",
    "\n",
    "driver.get(\"https://www.ryerson.ca/calendar/2021-2022/programs/feas/mechanical/\")\n",
    "time.sleep(3)\n",
    "driver.find_element_by_class_name(\"resAccordionOpenAll\").click()\n",
    "time.sleep(3)\n",
    "\n",
    "for link_text in link_texts:\n",
    "    #go to course page\n",
    "    try:\n",
    "        link = driver.find_element_by_link_text(link_text)\n",
    "    except NoSuchElementException:\n",
    "        print(\"no link for {}\".format(link_text))\n",
    "        continue\n",
    "\n",
    "    time.sleep(2)\n",
    "    link.click()    \n",
    "    time.sleep(2)\n",
    "    \n",
    "    #scrape course info\n",
    "    page_soup = soup(driver.page_source, 'lxml')\n",
    "    container = page_soup.find(\"div\", {\"class\": \"resCalendarCourseEmbed resCalendarCourse\"})\n",
    "    course_code = container.find(\"h1\").text.strip()\n",
    "    course_name = container.find(\"h2\").text.strip()\n",
    "    course_desc = container.find(\"div\", {\"class\": \"courseDescription\"}).text.strip()\n",
    "    \n",
    "    course_codes.append(course_code)\n",
    "    course_names.append(course_name)\n",
    "    course_descs.append(course_desc)\n",
    "    \n",
    "    print(\"Scraped \", course_codes[-1])\n",
    "    counter += 1\n",
    "    \n",
    "    #go to course list page\n",
    "    driver.back()\n",
    "    time.sleep(2)\n",
    "    driver.find_element_by_class_name(\"resAccordionOpenAll\").click()\n",
    "    time.sleep(2)\n",
    "        \n",
    "print(\"Finished scraping {} courses\".format(counter))"
   ]
  },
  {
   "cell_type": "markdown",
   "metadata": {},
   "source": []
  },
  {
   "cell_type": "code",
   "execution_count": 15,
   "metadata": {
    "scrolled": true
   },
   "outputs": [
    {
     "data": {
      "text/plain": [
       "['EES 508',\n",
       " 'EES 612',\n",
       " 'MEC 430',\n",
       " 'MEC 514',\n",
       " 'MEC 516',\n",
       " 'MTH 510',\n",
       " 'MEC 411',\n",
       " 'MEC 613',\n",
       " 'MEC 701',\n",
       " 'MEC 709',\n",
       " 'MEC 721',\n",
       " 'MEC 733',\n",
       " 'MEC 751',\n",
       " 'MEC 830',\n",
       " 'ELE 719',\n",
       " 'MEC 617',\n",
       " 'MEC 626',\n",
       " 'MEC 713',\n",
       " 'MEC 813',\n",
       " 'CEN 800',\n",
       " 'ELE 709',\n",
       " 'MEC 825',\n",
       " 'ELE 819',\n",
       " 'ELE 888',\n",
       " 'MEC 809',\n",
       " 'MEC 816',\n",
       " 'MEC 832']"
      ]
     },
     "execution_count": 15,
     "metadata": {},
     "output_type": "execute_result"
    }
   ],
   "source": [
    "course_codes"
   ]
  },
  {
   "cell_type": "code",
   "execution_count": 16,
   "metadata": {
    "scrolled": true
   },
   "outputs": [
    {
     "data": {
      "text/plain": [
       "['Digital Systems',\n",
       " 'Electric Machines and Actuators',\n",
       " 'Solid Mechanics I',\n",
       " 'Applied Thermodynamics',\n",
       " 'Fluid Mechanics I',\n",
       " 'Numerical Analysis',\n",
       " 'Mechanics of Machines',\n",
       " 'Machine Design I',\n",
       " 'Heat Transfer',\n",
       " 'Control Systems',\n",
       " 'Vibrations',\n",
       " 'Microprocessor Systems',\n",
       " 'Measurements, Sensors and Instruments',\n",
       " 'Mechatronics Systems Design',\n",
       " 'Fundamentals of Robotics',\n",
       " 'Manufacturing System Control',\n",
       " 'Applied Finite Elements',\n",
       " 'Project Management',\n",
       " 'Flexible Manufacturing Systems',\n",
       " 'Law and Ethics in Engineering Practice',\n",
       " 'Real-Time Computer Control Systems',\n",
       " 'Mechanical Design',\n",
       " 'Control of Robotic Manipulators',\n",
       " 'Intelligent Systems',\n",
       " 'Integrated Manufacturing',\n",
       " 'Topics in Manufacturing Engineering',\n",
       " 'Reliability and Decision Analysis']"
      ]
     },
     "execution_count": 16,
     "metadata": {},
     "output_type": "execute_result"
    }
   ],
   "source": [
    "course_names"
   ]
  },
  {
   "cell_type": "code",
   "execution_count": 17,
   "metadata": {},
   "outputs": [
    {
     "data": {
      "text/plain": [
       "['Number systems, codes and coding, minimization techniques applied to design of logic systems. Component specifications. Discussion of microprocessors, memory and I/O logic elements. Microcomputer structure and operation. I/O modes and interfacing. Machine language and Assembler programming. Design and application of digital systems for data collection and control of pneumatic hydraulic and machine systems. Laboratory work includes the use of microcomputers.',\n",
       " 'The single-phase transformer and its applications. DC and AC motor characteristics, and their application in mechanical drives. Power electronic circuits, H bridges, PWM control, interfacing, power amplifiers. DC servo and stepper motors, AC synchronous and induction motors. Transformers. Introduction to typical speed and torque control techniques of motors.',\n",
       " \"Stresses and deflections; statically indeterminate problems. Stress transformation; principal stresses; Mohr's Circle; theories of failure. Flexural analysis; the method of superposition; design of beams and shafts for strength. Columns: Euler's formulae for buckling; various end attachments; transition slenderness ratio; the parabolic formulae; eccentric loading and the secant formulae.\",\n",
       " 'Rankine cycle, steam turbine cycles, reheat and regenerative feed-water heating. Gas turbine cycles, regenerators. Combustion, stoichiometric, lean and rich mixtures. Nozzles. Convergent and convergent-divergent nozzles. Principles of vapour compression refrigeration cycles. Basic air-conditioning processes.',\n",
       " 'Dimensions and units, continuum fluid mechanics. Properties of fluids. Fluid statics, the standard atmosphere. Manometry and pressure measurement. Forces on submerged planes. Flow characteristics: laminar and turbulent flow, steady and unsteady flow, streamlines. Flow analysis: control volume/control system and differential approaches for mass, momentum and energy conservation. Applications of the conservation equation, Euler and Bernoulli equations. Dimensional analysis, similitude and model testing. (2 hr. Lab every other week)',\n",
       " \"Review of Taylor's formula, truncation error and round off error. Solutions of Non linear Equations in one variable. Linear Equations. LU-decomposition. Eigenvalues and eigenvectors. Jacobi, Gauss-Seidel methods. Interpolation and curve fitting. Numerical integration. Numerical solution of ordinary differential equations. (Initial value problems.)\",\n",
       " 'Dynamics of complex, multi-component systems; gears, simple, compound and epicyclic gear trains; power screws and belt drives; flywheels and gyroscopes.',\n",
       " 'Review of stress analysis procedures; combined stresses; simple Design Factor approach; Variable loads and stresses with stress concentrations; bolts, bolted joints and springs; shaft and bearing design; brakes and brake systems; welded joints.',\n",
       " 'A fundamental course in heat transfer including conduction, convection and radiation. Analytical, graphical and numerical solutions for conduction in the steady and unsteady state. Experimental and analytical techniques in convection. Basic ideas in black and gray surface radiation including the effect of geometry. Heat exchanger theory and design, including compact heat exchangers. (2 hr. Lab every other week)',\n",
       " 'Mathematical model representation of physical control systems which involve mechanical, hydraulic, pneumatic and electrical components. Open and closed-loop control system analysis. Block diagram algebra. First, second and higher order system stability analysis using techniques such as: Bode diagrams, Routh-Horowitz analysis, Root Locus analysis. Introduction to system compensation such as Lead-Lag Compensators.',\n",
       " 'The dynamic behaviour of vibrating mechanical systems is studied. Topics include: Single degree of freedom systems in free and forced vibration, with and without damping. Instrumentation for vibration measurement. Vibration isolation. Vibration of multi-degree of freedom and continuous systems. Introduction to sound and acoustics, with emphasis on the prediction and abatement of industrial noise. Acoustics of enclosures and barriers. Noise control criteria.',\n",
       " 'This course introduces industrial microprocessor systems with emphasis on software and integration. Introduction to Microprocessor-based Systems. Introduction to Digital Systems: Digital Logic and design of logic networks. Microprocessor architecture and structure 8, 16, and 32-bit systems. Assembly language and high-level languages. Basic input/output serial and parallel communications overview of single-chip microprocessors and controllers. Memory design and analysis. The internal structure and design of peripheral devices. Hardware and software timing. Interrupts and exceptions. Use of compilers, assemblers, simulators. Case studies will include sample microprocessor system studies.',\n",
       " 'Application of modern instrumentation to experimental measurements of mechanical and thermal systems is covered in this course. Fundamental concepts of static and dynamic measurements are reviewed. Transducers, signal conditioning, data transmission, and digital data acquisition systems are discussed.',\n",
       " 'This course provides a focused interdisciplinary theme for electromechanical systems design. Introduction to Mechatronic Systems. Modeling and simulation of physical systems. Review of Electrical and Computer Engineering fundamentals. Review of Analog signal processing using Amplifiers, Integrators, Differentiators, Comparators, Sample and Hold circuits. Review of Digital Circuits: binary logic, Karanaugh Maps, flip-flops, time, trigger, counter. Real-time interfacing: data acquisitions, A/D, D/A, I/O. Signal conditioning. Sensors and Traducers. Actuators. Microprocessor-based control. Mechatronic systems case studies.',\n",
       " 'This course provides a comprehensive treatment on the fundamentals of robotic manipulators and mobile robots. Topics include: homogeneous transformations, the Denavit-Hartenberg representation of linkages, solution of the forward kinematics problem. Closed-form and numerical solutions of the inverse kinematics problem. Differential kinematics and motion, Jacobian matrix, singularities. Kinematic and dynamic model of mobile robots. Path planning, trajectory planning and motion control for mobile robots.',\n",
       " 'This course introduces the fundamental elements of industrial automation control logic systems using fluid power and microprocessor based circuits, standard sensor technology and peripheral equipment. Industrial operation circuits are studied and designed using Boolean Algebra for the combinational and sequential logic requirements. These circuits are constructed and tested on pneumatic and electronic-pneumatic (i.e. Programmable Logic Controller) equipment. Circuits are documented using ANSI circuit symbology and PLC software.',\n",
       " 'Fundamentals of finite elements method will be explained. Direct stiffness method. Application of finite elements to stress, heat transfer and fluid mechanics. Trusses, beams, frames and plate elements will be introduced. Applications using engineering software. (2 hr. Lab every other week)',\n",
       " 'The objective of this course is to examine the fundamentals of project management within a life-cycle approach, i.e., from idea generation to termination/close phase. It treats human, mathematical, engineering and managerial issues surrounding project management to equip students with tools to effectively manage engineering projects. This course will cover topics such as: project screening and selection, evaluation methods of projects, project structures, management and control, project scheduling, resource management, life-cycle costing, research and development projects, computer support for project management, and project termination. (Equivalent to IND 713)',\n",
       " 'This course provides students with an overview of the planning, design, implementation, and control of flexible manufacturing systems. It discusses the concept of flexible manufacturing and types of manufacturing systems such as cellular manufacturing and the application of various artificial intelligence techniques to the design of cellular manufacturing systems. It also includes an overview of the basic components of flexible manufacturing systems: selection of automated material handling systems, part type selection and tool allocation models, workpieces and tools routing, capacity planning, and scheduling for flexible manufacturing systems. (Equivalent to IND 810)',\n",
       " 'Study of the legal and ethical aspects of engineering practice, including Canadian legal system and business organizations, tort liability, business contract law, intellectual and industrial property, principles of arbitration and alternative dispute resolutions, the practice of engineering, occupational health and safety, ethical aspects of engineering practice, ethical dilemmas in project management, sustainable development and ethical behaviour, and globalization and international standards for ethical and social responsibility.',\n",
       " 'This course deals with practical techniques for the specification, design and implementation of real-time computer control systems. Topics include: overview of computer control strategies; introduction to real-time systems; hardware and software requirements; implementation of digital control algorithms; design of real-time computer control systems; design analysis; considerations for fault detection and fault tolerance. The lab work and project require solid background in C programming.',\n",
       " 'Integrated design of mechanical or electromechanical products or systems. Working in teams, students will develop design solutions to applied problems. Methods of collaborative engineering will be emphasized. Design methods to address function, form, manufacturability, cost, environmental impact, safety, reliability, integrity and other factors will be treated. A formal technical report and oral presentation will be made at the end of the term.',\n",
       " 'This course deals with motion and force control and visual servoing of robotic\\nmanipulators. Topics include: Dynamics: Euler-Lagrange and Newton-Euler\\nformulations. Path and trajectory planning. Motion and interaction control of robotic manipulators. Visual servoing for robotic manipulators.',\n",
       " 'Machine learning and pattern classification are fundamental blocks in the design of an intelligent system. This course will introduce fundamentals of machine learning and pattern classification concepts, theories, and algorithms. Topics covered include: Bayesian decision theory, linear discriminant functions, multilayer neural networks, classifier evaluation, and an introduction to unsupervised clustering/grouping, and other state-of-the-art machine learning and AI algorithms.',\n",
       " 'This course covers integrated manufacturing from CAD to CAM. Topics to be covered include: Computer Aided Process Planning, Production Planning and Control, Material Handling, Manufacturing Databases, Quality Control, Information Flow and Networks. Robot topics such as, sensors, actuators, kinematics and dynamics, motion control, programming and advanced applications will be investigated. Course work will consist of assignments, projects and laboratories. (Equivalent to IND 715)',\n",
       " 'This course exposes the student to relevant topics in Manufacturing Engineering. The topics include but are not limited to: the interpretation of design intent in engineering drawings, GD and T, dimensional metrology, concepts of process capability, statistical process control, and other quality control methods. Design of small tools, jigs, fixtures, and functional gages will also be presented.',\n",
       " 'The purpose of this course is to present analytical approaches to reliability engineering, decision analysis and risk assessment. In the first part of the course, students will be introduced to reliability functions, reliability distributions, analysis of failure data, reliability of systems, design for reliability, maintenance, reliability testing. The focus of the second part of the course is placed on the methodology to model, construct, solve and interpret various decision problems. Decision tree, value of information, risk assessment, utility theory, and multiple objective decision-making will be presented.']"
      ]
     },
     "execution_count": 17,
     "metadata": {},
     "output_type": "execute_result"
    }
   ],
   "source": [
    "course_descs"
   ]
  },
  {
   "cell_type": "code",
   "execution_count": 18,
   "metadata": {},
   "outputs": [
    {
     "data": {
      "text/html": [
       "<div>\n",
       "<style scoped>\n",
       "    .dataframe tbody tr th:only-of-type {\n",
       "        vertical-align: middle;\n",
       "    }\n",
       "\n",
       "    .dataframe tbody tr th {\n",
       "        vertical-align: top;\n",
       "    }\n",
       "\n",
       "    .dataframe thead th {\n",
       "        text-align: right;\n",
       "    }\n",
       "</style>\n",
       "<table border=\"1\" class=\"dataframe\">\n",
       "  <thead>\n",
       "    <tr style=\"text-align: right;\">\n",
       "      <th></th>\n",
       "      <th>Course Number</th>\n",
       "      <th>Course Name</th>\n",
       "      <th>Course Description</th>\n",
       "    </tr>\n",
       "  </thead>\n",
       "  <tbody>\n",
       "    <tr>\n",
       "      <th>0</th>\n",
       "      <td>EES 508</td>\n",
       "      <td>Digital Systems</td>\n",
       "      <td>Number systems, codes and coding, minimization...</td>\n",
       "    </tr>\n",
       "    <tr>\n",
       "      <th>1</th>\n",
       "      <td>EES 612</td>\n",
       "      <td>Electric Machines and Actuators</td>\n",
       "      <td>The single-phase transformer and its applicati...</td>\n",
       "    </tr>\n",
       "    <tr>\n",
       "      <th>2</th>\n",
       "      <td>MEC 430</td>\n",
       "      <td>Solid Mechanics I</td>\n",
       "      <td>Stresses and deflections; statically indetermi...</td>\n",
       "    </tr>\n",
       "    <tr>\n",
       "      <th>3</th>\n",
       "      <td>MEC 514</td>\n",
       "      <td>Applied Thermodynamics</td>\n",
       "      <td>Rankine cycle, steam turbine cycles, reheat an...</td>\n",
       "    </tr>\n",
       "    <tr>\n",
       "      <th>4</th>\n",
       "      <td>MEC 516</td>\n",
       "      <td>Fluid Mechanics I</td>\n",
       "      <td>Dimensions and units, continuum fluid mechanic...</td>\n",
       "    </tr>\n",
       "    <tr>\n",
       "      <th>5</th>\n",
       "      <td>MTH 510</td>\n",
       "      <td>Numerical Analysis</td>\n",
       "      <td>Review of Taylor's formula, truncation error a...</td>\n",
       "    </tr>\n",
       "    <tr>\n",
       "      <th>6</th>\n",
       "      <td>MEC 411</td>\n",
       "      <td>Mechanics of Machines</td>\n",
       "      <td>Dynamics of complex, multi-component systems; ...</td>\n",
       "    </tr>\n",
       "    <tr>\n",
       "      <th>7</th>\n",
       "      <td>MEC 613</td>\n",
       "      <td>Machine Design I</td>\n",
       "      <td>Review of stress analysis procedures; combined...</td>\n",
       "    </tr>\n",
       "    <tr>\n",
       "      <th>8</th>\n",
       "      <td>MEC 701</td>\n",
       "      <td>Heat Transfer</td>\n",
       "      <td>A fundamental course in heat transfer includin...</td>\n",
       "    </tr>\n",
       "    <tr>\n",
       "      <th>9</th>\n",
       "      <td>MEC 709</td>\n",
       "      <td>Control Systems</td>\n",
       "      <td>Mathematical model representation of physical ...</td>\n",
       "    </tr>\n",
       "    <tr>\n",
       "      <th>10</th>\n",
       "      <td>MEC 721</td>\n",
       "      <td>Vibrations</td>\n",
       "      <td>The dynamic behaviour of vibrating mechanical ...</td>\n",
       "    </tr>\n",
       "    <tr>\n",
       "      <th>11</th>\n",
       "      <td>MEC 733</td>\n",
       "      <td>Microprocessor Systems</td>\n",
       "      <td>This course introduces industrial microprocess...</td>\n",
       "    </tr>\n",
       "    <tr>\n",
       "      <th>12</th>\n",
       "      <td>MEC 751</td>\n",
       "      <td>Measurements, Sensors and Instruments</td>\n",
       "      <td>Application of modern instrumentation to exper...</td>\n",
       "    </tr>\n",
       "    <tr>\n",
       "      <th>13</th>\n",
       "      <td>MEC 830</td>\n",
       "      <td>Mechatronics Systems Design</td>\n",
       "      <td>This course provides a focused interdisciplina...</td>\n",
       "    </tr>\n",
       "    <tr>\n",
       "      <th>14</th>\n",
       "      <td>ELE 719</td>\n",
       "      <td>Fundamentals of Robotics</td>\n",
       "      <td>This course provides a comprehensive treatment...</td>\n",
       "    </tr>\n",
       "    <tr>\n",
       "      <th>15</th>\n",
       "      <td>MEC 617</td>\n",
       "      <td>Manufacturing System Control</td>\n",
       "      <td>This course introduces the fundamental element...</td>\n",
       "    </tr>\n",
       "    <tr>\n",
       "      <th>16</th>\n",
       "      <td>MEC 626</td>\n",
       "      <td>Applied Finite Elements</td>\n",
       "      <td>Fundamentals of finite elements method will be...</td>\n",
       "    </tr>\n",
       "    <tr>\n",
       "      <th>17</th>\n",
       "      <td>MEC 713</td>\n",
       "      <td>Project Management</td>\n",
       "      <td>The objective of this course is to examine the...</td>\n",
       "    </tr>\n",
       "    <tr>\n",
       "      <th>18</th>\n",
       "      <td>MEC 813</td>\n",
       "      <td>Flexible Manufacturing Systems</td>\n",
       "      <td>This course provides students with an overview...</td>\n",
       "    </tr>\n",
       "    <tr>\n",
       "      <th>19</th>\n",
       "      <td>CEN 800</td>\n",
       "      <td>Law and Ethics in Engineering Practice</td>\n",
       "      <td>Study of the legal and ethical aspects of engi...</td>\n",
       "    </tr>\n",
       "    <tr>\n",
       "      <th>20</th>\n",
       "      <td>ELE 709</td>\n",
       "      <td>Real-Time Computer Control Systems</td>\n",
       "      <td>This course deals with practical techniques fo...</td>\n",
       "    </tr>\n",
       "    <tr>\n",
       "      <th>21</th>\n",
       "      <td>MEC 825</td>\n",
       "      <td>Mechanical Design</td>\n",
       "      <td>Integrated design of mechanical or electromech...</td>\n",
       "    </tr>\n",
       "    <tr>\n",
       "      <th>22</th>\n",
       "      <td>ELE 819</td>\n",
       "      <td>Control of Robotic Manipulators</td>\n",
       "      <td>This course deals with motion and force contro...</td>\n",
       "    </tr>\n",
       "    <tr>\n",
       "      <th>23</th>\n",
       "      <td>ELE 888</td>\n",
       "      <td>Intelligent Systems</td>\n",
       "      <td>Machine learning and pattern classification ar...</td>\n",
       "    </tr>\n",
       "    <tr>\n",
       "      <th>24</th>\n",
       "      <td>MEC 809</td>\n",
       "      <td>Integrated Manufacturing</td>\n",
       "      <td>This course covers integrated manufacturing fr...</td>\n",
       "    </tr>\n",
       "    <tr>\n",
       "      <th>25</th>\n",
       "      <td>MEC 816</td>\n",
       "      <td>Topics in Manufacturing Engineering</td>\n",
       "      <td>This course exposes the student to relevant to...</td>\n",
       "    </tr>\n",
       "    <tr>\n",
       "      <th>26</th>\n",
       "      <td>MEC 832</td>\n",
       "      <td>Reliability and Decision Analysis</td>\n",
       "      <td>The purpose of this course is to present analy...</td>\n",
       "    </tr>\n",
       "  </tbody>\n",
       "</table>\n",
       "</div>"
      ],
      "text/plain": [
       "   Course Number                             Course Name  \\\n",
       "0        EES 508                         Digital Systems   \n",
       "1        EES 612         Electric Machines and Actuators   \n",
       "2        MEC 430                       Solid Mechanics I   \n",
       "3        MEC 514                  Applied Thermodynamics   \n",
       "4        MEC 516                       Fluid Mechanics I   \n",
       "5        MTH 510                      Numerical Analysis   \n",
       "6        MEC 411                   Mechanics of Machines   \n",
       "7        MEC 613                        Machine Design I   \n",
       "8        MEC 701                           Heat Transfer   \n",
       "9        MEC 709                         Control Systems   \n",
       "10       MEC 721                              Vibrations   \n",
       "11       MEC 733                  Microprocessor Systems   \n",
       "12       MEC 751   Measurements, Sensors and Instruments   \n",
       "13       MEC 830             Mechatronics Systems Design   \n",
       "14       ELE 719                Fundamentals of Robotics   \n",
       "15       MEC 617            Manufacturing System Control   \n",
       "16       MEC 626                 Applied Finite Elements   \n",
       "17       MEC 713                      Project Management   \n",
       "18       MEC 813          Flexible Manufacturing Systems   \n",
       "19       CEN 800  Law and Ethics in Engineering Practice   \n",
       "20       ELE 709      Real-Time Computer Control Systems   \n",
       "21       MEC 825                       Mechanical Design   \n",
       "22       ELE 819         Control of Robotic Manipulators   \n",
       "23       ELE 888                     Intelligent Systems   \n",
       "24       MEC 809                Integrated Manufacturing   \n",
       "25       MEC 816     Topics in Manufacturing Engineering   \n",
       "26       MEC 832       Reliability and Decision Analysis   \n",
       "\n",
       "                                   Course Description  \n",
       "0   Number systems, codes and coding, minimization...  \n",
       "1   The single-phase transformer and its applicati...  \n",
       "2   Stresses and deflections; statically indetermi...  \n",
       "3   Rankine cycle, steam turbine cycles, reheat an...  \n",
       "4   Dimensions and units, continuum fluid mechanic...  \n",
       "5   Review of Taylor's formula, truncation error a...  \n",
       "6   Dynamics of complex, multi-component systems; ...  \n",
       "7   Review of stress analysis procedures; combined...  \n",
       "8   A fundamental course in heat transfer includin...  \n",
       "9   Mathematical model representation of physical ...  \n",
       "10  The dynamic behaviour of vibrating mechanical ...  \n",
       "11  This course introduces industrial microprocess...  \n",
       "12  Application of modern instrumentation to exper...  \n",
       "13  This course provides a focused interdisciplina...  \n",
       "14  This course provides a comprehensive treatment...  \n",
       "15  This course introduces the fundamental element...  \n",
       "16  Fundamentals of finite elements method will be...  \n",
       "17  The objective of this course is to examine the...  \n",
       "18  This course provides students with an overview...  \n",
       "19  Study of the legal and ethical aspects of engi...  \n",
       "20  This course deals with practical techniques fo...  \n",
       "21  Integrated design of mechanical or electromech...  \n",
       "22  This course deals with motion and force contro...  \n",
       "23  Machine learning and pattern classification ar...  \n",
       "24  This course covers integrated manufacturing fr...  \n",
       "25  This course exposes the student to relevant to...  \n",
       "26  The purpose of this course is to present analy...  "
      ]
     },
     "execution_count": 18,
     "metadata": {},
     "output_type": "execute_result"
    }
   ],
   "source": [
    "import pandas as pd\n",
    "\n",
    "df = pd.DataFrame({\n",
    "    \"Course Number\": course_codes,\n",
    "    \"Course Name\": course_names,\n",
    "    \"Course Description\": course_descs\n",
    "})\n",
    "\n",
    "df"
   ]
  },
  {
   "cell_type": "code",
   "execution_count": 19,
   "metadata": {},
   "outputs": [],
   "source": [
    "df.to_csv('Ryerson_MechEng_Mechatronics_Option_Core_and_Electives_(Years 3-4)_Courses.csv', index = False)"
   ]
  },
  {
   "cell_type": "code",
   "execution_count": 20,
   "metadata": {},
   "outputs": [],
   "source": [
    "driver.quit()"
   ]
  }
 ],
 "metadata": {
  "kernelspec": {
   "display_name": "Python 3",
   "language": "python",
   "name": "python3"
  },
  "language_info": {
   "codemirror_mode": {
    "name": "ipython",
    "version": 3
   },
   "file_extension": ".py",
   "mimetype": "text/x-python",
   "name": "python",
   "nbconvert_exporter": "python",
   "pygments_lexer": "ipython3",
   "version": "3.8.5"
  }
 },
 "nbformat": 4,
 "nbformat_minor": 4
}
