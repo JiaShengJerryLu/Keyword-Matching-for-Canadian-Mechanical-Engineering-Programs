{
 "cells": [
  {
   "cell_type": "code",
   "execution_count": 1,
   "metadata": {},
   "outputs": [],
   "source": [
    "from bs4 import BeautifulSoup as soup\n",
    "from urllib.request import urlopen as ureq\n",
    "from selenium import webdriver\n",
    "import time\n",
    "import re"
   ]
  },
  {
   "cell_type": "code",
   "execution_count": 2,
   "metadata": {},
   "outputs": [],
   "source": [
    "url = \"https://www.unb.ca/academics/calendar/undergraduate/current/frederictonprograms/bachelorofscienceinengineering/mechanicalengineering.html\""
   ]
  },
  {
   "cell_type": "code",
   "execution_count": 3,
   "metadata": {},
   "outputs": [],
   "source": [
    "chrome_options = webdriver.ChromeOptions()\n",
    "chrome_options.add_argument('--ignore-certificate-errors')\n",
    "chrome_options.add_argument('--incognito')\n",
    "chrome_options.add_argument('--headless')\n",
    "\n",
    "driver = webdriver.Chrome(\"C:\\\\Users\\\\jerry\\\\Downloads\\\\chromedriver\", options=chrome_options)"
   ]
  },
  {
   "cell_type": "markdown",
   "metadata": {},
   "source": [
    "# 1. Collect course link texts (for driver to click on)"
   ]
  },
  {
   "cell_type": "code",
   "execution_count": 4,
   "metadata": {},
   "outputs": [],
   "source": [
    "driver.get(url)\n",
    "page_soup = soup(driver.page_source, 'lxml')"
   ]
  },
  {
   "cell_type": "code",
   "execution_count": 5,
   "metadata": {
    "scrolled": true
   },
   "outputs": [
    {
     "data": {
      "text/plain": [
       "<p><a href=\"../../frederictoncourses/chemicalengineering/che-2501.html\">CHE 2501</a><span> </span>General Materials Science<br/><a href=\"../../frederictoncourses/chemicalengineering/che-2506.html\">CHE 2506<span> </span></a>Materials Science Laboratory<br/><a href=\"../../frederictoncourses/chemistry/chem-1982.html\">CHEM 1982* <span> </span></a>General Applied Chemistry<br/><a href=\"../../frederictoncourses/chemistry/chem-1987.html\">CHEM 1987* </a><span> </span>General Applied Chemistry Laboratory<br/><a href=\"../../frederictoncourses/computer-science/cs-1003.html\">CS 1003*<span> </span></a>Programming and Problem Solving for Engineers <br/><a href=\"../../frederictoncourses/computer-science/cs-3113.html\">CS 3113<span> </span></a> Intro to Numerical Methods (or <a href=\"../../frederictoncourses/mathematics/math-3413.html\">MATH 3413</a>)<br/><a href=\"../../frederictoncourses/electricalandcomputerengineering/ece-1813.html\">ECE 1813*<span> </span></a>Electricity and Magnetism<br/><a href=\"../../frederictoncourses/electricalandcomputerengineering/ece-2683.html\">ECE 2683</a> Electric Circuits and Machines (for non-electricals)<br/><a href=\"../../frederictoncourses/electricalandcomputerengineering/ece-2701.html\">ECE 2701<span> </span></a>Electric Circuits and Electronics (for non-electricals) (or <a href=\"../../frederictoncourses/electricalandcomputerengineering/ece-2711.html\">ECE 2711</a>)<br/><a href=\"../../frederictoncourses/engineering/engg-1001.html\">ENGG 1001*<span> </span></a>Engineering Practice Lecture Series<br/><a href=\"../../frederictoncourses/engineering/engg-1003.html\">ENGG 1003*</a><span> </span>Engineering Technical Communications<br/><a href=\"../../frederictoncourses/engineering/engg-1015.html\">ENGG 1015*</a><span> </span>Introduction to Engineering Design and Problem Solving<br/><a href=\"../../frederictoncourses/engineering/engg-1082.html\">ENGG 1082*<span> </span></a>Mechanics for Engineers<br/><a href=\"../../frederictoncourses/engineering/engg-4013.html\">ENGG 4013</a><span> </span>Law and Ethics for Engineers<br/><a href=\"../../frederictoncourses/mathematics/math-1003.html\">MATH 1003*</a><span> </span>Introduction to Calculus I<br/><a href=\"../../frederictoncourses/mathematics/math-1013.html\">MATH 1013*</a><span> </span>Introduction to Calculus II<br/><a href=\"../../frederictoncourses/mathematics/math-1503.html\">MATH 1503*<span> </span></a>Introduction to Linear Algebra (or <a href=\"../../frederictoncourses/mathematics/math-2213.html\">MATH 2213</a>)<br/><a href=\"../../frederictoncourses/mathematics/math-2513.html\">MATH 2513<span> </span></a>Multivariable Calculus for Engineers<br/><a href=\"../../frederictoncourses/mathematics/math-3503.html\">MATH 3503<span> </span></a>Differential Equations for Engineers<br/><a href=\"../../frederictoncourses/mechanicalengineering/me-1312.html\">ME 1312</a><span> </span>Computer Aided Design<br/><a href=\"../../frederictoncourses/mechanicalengineering/me-2003.html\">ME 2003<span> </span></a>Dynamics for Engineers<br/><a href=\"../../frederictoncourses/mechanicalengineering/me-2111.html\">ME 2111<span> </span></a>Mechanics of Materials I (or <a href=\"../../frederictoncourses/civilengineering/ce-2023.html\">CE 2023</a>)<br/><a href=\"../../frederictoncourses/mechanicalengineering/me-2122.html\">ME 2122<span> </span></a>Mechanics of Materials II<br/><a href=\"../../frederictoncourses/mechanicalengineering/me-2125.html\">ME 2125<span> </span></a>Mechanics of Materials Design Project<br/><a href=\"../../frederictoncourses/mechanicalengineering/me-2143.html\">ME 2143</a><span> </span>Kinematics and Dynamics of Machines<br/><a href=\"../../frederictoncourses/mechanicalengineering/me-2145.html\">ME 2145</a><span> </span>Kinematics and Dynamics Design Project<br/><a href=\"../../frederictoncourses/mechanicalengineering/me-2352.html\">ME 2352</a> Design Optimization<br/><a href=\"../../frederictoncourses/mechanicalengineering/me-2413.html\">ME 2413</a> Thermodynamics<br/><a href=\"../../frederictoncourses/mechanicalengineering/me-2415.html\">ME 2415</a> Thermodynamics Lab <br/><a href=\"../../frederictoncourses/mechanicalengineering/me-3222.html\">ME 3222</a> Manufacturing Engineering I<br/><a href=\"../../frederictoncourses/mechanicalengineering/me-3232.html\">ME 3232</a><span> </span>Engineering Economics (or <a href=\"../../frederictoncourses/civilengineering/ce-3963.html\">CE 3963</a>)<br/><a href=\"../../frederictoncourses/mechanicalengineering/me-3341.html\">ME 3341</a><span> </span>Machine Design<br/><a href=\"../../frederictoncourses/mechanicalengineering/me-3345.html\">ME 3345</a><span> </span>Machine Design Project<br/><a href=\"../../frederictoncourses/mechanicalengineering/me-3433.html\">ME 3433<span> </span></a>Heat Transfer I (or <a href=\"../../frederictoncourses/chemicalengineering/che-3304.html\">CHE 3304</a>)<br/><a href=\"../../frederictoncourses/mechanicalengineering/me-3435.html\">ME 3435<span> </span></a>Heat Transfer I Lab<br/><a href=\"../../frederictoncourses/mechanicalengineering/me-3511.html\">ME 3511<span> </span></a>Fluid Mechanics<br/><a href=\"../../frederictoncourses/mechanicalengineering/me-3515.html\">ME 3515</a><span> </span>Fluid Mechanics Lab<br/><a href=\"../../frederictoncourses/mechanicalengineering/me-3522.html\">ME 3522<span> </span></a>Applied Fluid Mechanics<br/><a href=\"../../frederictoncourses/mechanicalengineering/me-3524.html\">ME 3524</a><span> </span>Fluid Systems and Design<br/><a href=\"../../frederictoncourses/mechanicalengineering/me-3613.html\">ME 3613<span> </span></a>System Dynamics<br/><a href=\"../../frederictoncourses/mechanicalengineering/me-3623.html\">ME 3623</a><span> </span>Automatic Controls I<br/><a href=\"../../frederictoncourses/mechanicalengineering/me-4283.html\">ME 4283</a><span> </span>Manufacturing Engineering II<br/><a href=\"../../frederictoncourses/mechanicalengineering/me-4421.html\">ME 4421<span> </span></a>Applied Thermodynamics<br/><a href=\"../../frederictoncourses/mechanicalengineering/me-4424.html\">ME 4424</a><span> </span>Sustainable Energy Systems Design<br/><a href=\"../../frederictoncourses/mechanicalengineering/me-4613.html\">ME 4613</a><span> </span>Mechanical Vibration<br/><a href=\"../../frederictoncourses/mechanicalengineering/me-4860.html\">ME 4860<span> </span></a>Senior Design Project (or <a href=\"../../frederictoncourses/engineering/engg-4000.html\">ENGG 4000</a> or <a href=\"../../frederictoncourses/tme/tme-4025.html\">TME 4025</a>)<br/><a href=\"../../frederictoncourses/mechanicalengineering/me-4861.html\">ME 4861</a><span> </span>Mechanical Health and Safety<br/><a href=\"../../frederictoncourses/physics/phys-1081.html\">PHYS 1081*</a><span> </span>Physics for Engineers<br/><a href=\"../../frederictoncourses/statistics/stat-2593.html\">STAT 2593</a><span> </span>Probability and Statistics for Engineers</p>"
      ]
     },
     "execution_count": 5,
     "metadata": {},
     "output_type": "execute_result"
    }
   ],
   "source": [
    "container_core = page_soup.findAll(\"p\")[6]\n",
    "container_core"
   ]
  },
  {
   "cell_type": "code",
   "execution_count": 6,
   "metadata": {
    "scrolled": true
   },
   "outputs": [
    {
     "data": {
      "text/plain": [
       "['CHE 2501',\n",
       " 'CHE 2506',\n",
       " 'CHEM 1982*',\n",
       " 'CHEM 1987*',\n",
       " 'CS 1003*',\n",
       " 'CS 3113',\n",
       " 'MATH 3413',\n",
       " 'ECE 1813*',\n",
       " 'ECE 2683',\n",
       " 'ECE 2701',\n",
       " 'ECE 2711',\n",
       " 'ENGG 1001*',\n",
       " 'ENGG 1003*',\n",
       " 'ENGG 1015*',\n",
       " 'ENGG 1082*',\n",
       " 'ENGG 4013',\n",
       " 'MATH 1003*',\n",
       " 'MATH 1013*',\n",
       " 'MATH 1503*',\n",
       " 'MATH 2213',\n",
       " 'MATH 2513',\n",
       " 'MATH 3503',\n",
       " 'ME 1312',\n",
       " 'ME 2003',\n",
       " 'ME 2111',\n",
       " 'CE 2023',\n",
       " 'ME 2122',\n",
       " 'ME 2125',\n",
       " 'ME 2143',\n",
       " 'ME 2145',\n",
       " 'ME 2352',\n",
       " 'ME 2413',\n",
       " 'ME 2415',\n",
       " 'ME 3222',\n",
       " 'ME 3232',\n",
       " 'CE 3963',\n",
       " 'ME 3341',\n",
       " 'ME 3345',\n",
       " 'ME 3433',\n",
       " 'CHE 3304',\n",
       " 'ME 3435',\n",
       " 'ME 3511',\n",
       " 'ME 3515',\n",
       " 'ME 3522',\n",
       " 'ME 3524',\n",
       " 'ME 3613',\n",
       " 'ME 3623',\n",
       " 'ME 4283',\n",
       " 'ME 4421',\n",
       " 'ME 4424',\n",
       " 'ME 4613',\n",
       " 'ME 4860',\n",
       " 'ENGG 4000',\n",
       " 'TME 4025',\n",
       " 'ME 4861',\n",
       " 'PHYS 1081*',\n",
       " 'STAT 2593']"
      ]
     },
     "execution_count": 6,
     "metadata": {},
     "output_type": "execute_result"
    }
   ],
   "source": [
    "link_texts_core = container_core.findAll(\"a\")\n",
    "link_texts_core = [link_text.text.strip() for link_text in link_texts_core]\n",
    "link_texts_core"
   ]
  },
  {
   "cell_type": "code",
   "execution_count": 7,
   "metadata": {},
   "outputs": [
    {
     "data": {
      "text/plain": [
       "57"
      ]
     },
     "execution_count": 7,
     "metadata": {},
     "output_type": "execute_result"
    }
   ],
   "source": [
    "len(link_texts_core)"
   ]
  },
  {
   "cell_type": "code",
   "execution_count": 8,
   "metadata": {},
   "outputs": [
    {
     "data": {
      "text/plain": [
       "<p><a href=\"../../frederictoncourses/mechanicalengineering/me-4173.html\">ME 4173</a><span> </span>Robot Kinematics<br/><a href=\"../../frederictoncourses/mechanicalengineering/me-4622.html\">ME 4622</a> Human Factors Engineering<br/><a href=\"../../frederictoncourses/mechanicalengineering/me-4703.html\">ME 4703</a> Mechanical Engineering Measurements<br/><a href=\"../../frederictoncourses/mechanicalengineering/me-5113.html\">ME 5113</a> Advanced Solid Mechanics of Composites<br/><a href=\"../../frederictoncourses/mechanicalengineering/me-5122.html\">ME 5122</a> Solid State Phenomenon<br/><a href=\"../../frederictoncourses/mechanicalengineering/me-5173.html\">ME 5173<span> </span></a>Advanced Kinematics of Manipulators<br/><a href=\"../../frederictoncourses/mechanicalengineering/me-5183.html\">ME 5183</a> Industrial Robotics and Automation<br/><a href=\"../../frederictoncourses/mechanicalengineering/me-5223.html\">ME 5223</a> Finite Element Analysis in Engineering<br/><a href=\"../../frederictoncourses/mechanicalengineering/me-5243.html\">ME 5243</a> Machining Theory and Practice<br/><a href=\"../../frederictoncourses/mechanicalengineering/me-5253.html\">ME 5253</a> Codified Design and Failure Analysis<br/><a href=\"../../frederictoncourses/mechanicalengineering/me-5283.html\">ME 5283</a> Micro/Nano Manufacturing <br/><a href=\"../../frederictoncourses/mechanicalengineering/me-5353.html\">ME 5353</a><span> </span>Fracture Mechanics<br/><a href=\"../../frederictoncourses/mechanicalengineering/me-5493.html\">ME 5493<span> </span></a> Internal Combustion Engines<br/><a href=\"../../frederictoncourses/mechanicalengineering/me-5503.html\">ME 5503<span> </span></a>Application of Computational Fluid Dynamics to Industrial Processes<br/><a href=\"../../frederictoncourses/mechanicalengineering/me-5534.html\">ME 5534<span> </span></a>Experimental Methods in Fluid Mechanics<br/><a href=\"../../frederictoncourses/mechanicalengineering/me-5553.html\">ME 5553</a> Ocean Wave Energy Conversion<br/><a href=\"../../frederictoncourses/mechanicalengineering/me-5578.html\">ME 5578</a> Low Speed Aerodynamics<br/><a href=\"../../frederictoncourses/mechanicalengineering/me-5588.html\">ME 5588</a> High Speed Aerodynamics<br/><a href=\"../../frederictoncourses/mechanicalengineering/me-5643.html\">ME 5643</a><span> </span> Automatic Controls II<br/><a href=\"../../frederictoncourses/mechanicalengineering/me-5653.html\">ME 5653</a><span> </span>Predictive Control and Intelligent Sensors<br/><a href=\"../../frederictoncourses/mechanicalengineering/me-5673.html\">ME 5673</a> Acoustics<br/><a href=\"../../frederictoncourses/mechanicalengineering/me-5713.html\">ME 5713<span> </span></a>Nondestructive Testing<br/><a href=\"../../frederictoncourses/mechanicalengineering/me-5813.html\">ME 5813<span> </span></a>Special Topics in Mechanical Engineering<br/><a href=\"../../frederictoncourses/mechanicalengineering/me-5833.html\">ME 5833<span> </span></a>Special Topics in Mechanical Engineering<br/><a href=\"../../frederictoncourses/mechanicalengineering/me-5913.html\">ME 5913<span> </span></a>Biomechanics I<br/><a href=\"../../frederictoncourses/mechanicalengineering/me-5933.html\">ME 5933</a><span> </span> Industrial Ecology<br/><a href=\"../../frederictoncourses/mechanicalengineering/me-5953.html\">ME 5953</a> Embedded Flight Control Systems</p>"
      ]
     },
     "execution_count": 8,
     "metadata": {},
     "output_type": "execute_result"
    }
   ],
   "source": [
    "container_elec = page_soup.findAll(\"p\")[14]\n",
    "container_elec"
   ]
  },
  {
   "cell_type": "code",
   "execution_count": 9,
   "metadata": {
    "scrolled": true
   },
   "outputs": [
    {
     "data": {
      "text/plain": [
       "['ME 4173',\n",
       " 'ME 4622',\n",
       " 'ME 4703',\n",
       " 'ME 5113',\n",
       " 'ME 5122',\n",
       " 'ME 5173',\n",
       " 'ME 5183',\n",
       " 'ME 5223',\n",
       " 'ME 5243',\n",
       " 'ME 5253',\n",
       " 'ME 5283',\n",
       " 'ME 5353',\n",
       " 'ME 5493',\n",
       " 'ME 5503',\n",
       " 'ME 5534',\n",
       " 'ME 5553',\n",
       " 'ME 5578',\n",
       " 'ME 5588',\n",
       " 'ME 5643',\n",
       " 'ME 5653',\n",
       " 'ME 5673',\n",
       " 'ME 5713',\n",
       " 'ME 5813',\n",
       " 'ME 5833',\n",
       " 'ME 5913',\n",
       " 'ME 5933',\n",
       " 'ME 5953']"
      ]
     },
     "execution_count": 9,
     "metadata": {},
     "output_type": "execute_result"
    }
   ],
   "source": [
    "link_texts_elec = container_elec.findAll(\"a\")\n",
    "link_texts_elec = [link_text.text.strip() for link_text in link_texts_elec]\n",
    "link_texts_elec"
   ]
  },
  {
   "cell_type": "code",
   "execution_count": 10,
   "metadata": {},
   "outputs": [
    {
     "data": {
      "text/plain": [
       "27"
      ]
     },
     "execution_count": 10,
     "metadata": {},
     "output_type": "execute_result"
    }
   ],
   "source": [
    "len(link_texts_elec)"
   ]
  },
  {
   "cell_type": "code",
   "execution_count": 11,
   "metadata": {},
   "outputs": [
    {
     "data": {
      "text/plain": [
       "84"
      ]
     },
     "execution_count": 11,
     "metadata": {},
     "output_type": "execute_result"
    }
   ],
   "source": [
    "link_texts = link_texts_core + link_texts_elec\n",
    "len(link_texts)"
   ]
  },
  {
   "cell_type": "markdown",
   "metadata": {},
   "source": [
    "# 2. Test run - scrape the first course's info"
   ]
  },
  {
   "cell_type": "code",
   "execution_count": 12,
   "metadata": {},
   "outputs": [
    {
     "data": {
      "text/plain": [
       "'https://www.unb.ca/academics/calendar/undergraduate/current/frederictoncourses/chemicalengineering/che-2501.html'"
      ]
     },
     "execution_count": 12,
     "metadata": {},
     "output_type": "execute_result"
    }
   ],
   "source": [
    "driver.find_element_by_link_text(link_texts[0]).click()\n",
    "driver.current_url"
   ]
  },
  {
   "cell_type": "code",
   "execution_count": 13,
   "metadata": {},
   "outputs": [
    {
     "data": {
      "text/plain": [
       "<table border=\"0\" cellpadding=\"4\" cellspacing=\"4\" class=\"ugradcal large-only\" width=\"95%\"><thead><tr><th abbr=\"Course Code\" align=\"left\">CHE2501</th><th abbr=\"Course Dscription\">General Materials Science</th><th abbr=\"Course Credit\" align=\"right\">3 ch (3C 1T)</th></tr></thead><tbody><tr><td colspan=\"3\"><course_description><p>Principles relating the properties and behaviour of engineering materials to their structure; atomic bonding forces and strength of interatomic and intermolecular bonding forces, atomic arrangements in solids, structural imperfections and atom movements in solids; principles of phase diagrams and their application to multiphase materials, with particular reference to the iron-carbon system; mechanical and electrical properties of engineering material; semiconductors, polymers and ceramics; and their relation to internal structure. </p></course_description><course_prereq><p><strong>Prerequisites</strong>: <a href=\"../chemistry/chem-1982.html\">CHEM 1982</a>, <a href=\"../mathematics/math-1013.html\">MATH 1013</a>.</p></course_prereq><course_coreq></course_coreq></td></tr></tbody></table>"
      ]
     },
     "execution_count": 13,
     "metadata": {},
     "output_type": "execute_result"
    }
   ],
   "source": [
    "page_soup = soup(driver.page_source, 'lxml')\n",
    "container = page_soup.find(\"table\", {\"class\": \"ugradcal large-only\"})\n",
    "container"
   ]
  },
  {
   "cell_type": "code",
   "execution_count": 14,
   "metadata": {},
   "outputs": [
    {
     "data": {
      "text/plain": [
       "'CHE2501'"
      ]
     },
     "execution_count": 14,
     "metadata": {},
     "output_type": "execute_result"
    }
   ],
   "source": [
    "course_code = container.find(\"th\", {\"abbr\": \"Course Code\"}).text\n",
    "course_code"
   ]
  },
  {
   "cell_type": "code",
   "execution_count": 15,
   "metadata": {},
   "outputs": [
    {
     "data": {
      "text/plain": [
       "'General Materials Science'"
      ]
     },
     "execution_count": 15,
     "metadata": {},
     "output_type": "execute_result"
    }
   ],
   "source": [
    "course_name = container.find(\"th\", {\"abbr\": \"Course Dscription\"}).text\n",
    "course_name"
   ]
  },
  {
   "cell_type": "code",
   "execution_count": 16,
   "metadata": {},
   "outputs": [
    {
     "data": {
      "text/plain": [
       "'Principles relating the properties and behaviour of engineering materials to their structure; atomic bonding forces and strength of interatomic and intermolecular bonding forces, atomic arrangements in solids, structural imperfections and atom movements in solids; principles of phase diagrams and their application to multiphase materials, with particular reference to the iron-carbon system; mechanical and electrical properties of engineering material; semiconductors, polymers and ceramics; and their relation to internal structure.'"
      ]
     },
     "execution_count": 16,
     "metadata": {},
     "output_type": "execute_result"
    }
   ],
   "source": [
    "course_desc = container.find(\"course_description\").text.strip()\n",
    "course_desc"
   ]
  },
  {
   "cell_type": "markdown",
   "metadata": {},
   "source": [
    "# 3. Test run successful. Implement automation script to scrape all courses"
   ]
  },
  {
   "cell_type": "code",
   "execution_count": 17,
   "metadata": {
    "scrolled": true
   },
   "outputs": [
    {
     "name": "stdout",
     "output_type": "stream",
     "text": [
      "Scraped  CHE2501\n",
      "Scraped  CHE2506\n",
      "Scraped  CHEM1982\n",
      "Scraped  CHEM1987\n",
      "Scraped  CS1003\n",
      "Scraped  CS3113\n",
      "Scraped  MATH3413\n",
      "Scraped  ECE1813\n",
      "Scraped  ECE2683\n",
      "Scraped  ECE2701\n",
      "Scraped  ECE2711\n",
      "Scraped  ENGG1001\n",
      "Scraped  ENGG1003\n",
      "Scraped  ENGG1015\n",
      "Scraped  ENGG1082\n",
      "Scraped  ENGG4013\n",
      "Scraped  MATH1003\n",
      "Scraped  MATH1013\n",
      "Scraped  MATH1503\n",
      "Scraped  MATH2213\n",
      "Scraped  MATH2513\n",
      "Scraped  MATH3503\n",
      "Scraped  ME1312\n",
      "Scraped  ME2003\n",
      "Scraped  ME2111\n",
      "Scraped  CE2023\n",
      "Scraped  ME2122\n",
      "Scraped  ME2125\n",
      "Scraped  ME2143\n",
      "Scraped  ME2145\n",
      "Scraped  ME2352\n",
      "Scraped  ME2413\n",
      "Scraped  ME2415\n",
      "Scraped  ME3222\n",
      "Scraped  ME3232\n",
      "Scraped  CE3963\n",
      "Scraped  ME3341\n",
      "Scraped  ME3345\n",
      "Scraped  ME3433\n",
      "Scraped  CHE3304\n",
      "Scraped  ME3435\n",
      "Scraped  ME3511\n",
      "Scraped  ME3515\n",
      "Scraped  ME3522\n",
      "Scraped  ME3524\n",
      "Scraped  ME3613\n",
      "Scraped  ME3623\n",
      "Scraped  ME4283\n",
      "Scraped  ME4421\n",
      "Scraped  ME4424\n",
      "Scraped  ME4613\n",
      "Scraped  ME4860\n",
      "Scraped  ENGG4000\n",
      "Scraped  TME4025\n",
      "Scraped  ME4861\n",
      "Scraped  PHYS1081\n",
      "Scraped  STAT2593\n",
      "Scraped  ME4173*\n",
      "Scraped  ME4622*\n",
      "Scraped  ME4703*\n",
      "Scraped  ME5113\n",
      "Scraped  ME5122*\n",
      "Scraped  ME5173*\n",
      "Scraped  ME5183*\n",
      "Scraped  ME5223*\n",
      "Scraped  ME5243*\n",
      "Scraped  ME5253*\n",
      "Scraped  ME5283*\n",
      "Scraped  ME5353*\n",
      "Scraped  ME5493*\n",
      "Scraped  ME5503*\n",
      "Scraped  ME5534*\n",
      "Scraped  ME5553*\n",
      "Scraped  ME5578*\n",
      "Scraped  ME5588*\n",
      "Scraped  ME5643*\n",
      "Scraped  ME5653*\n",
      "Scraped  ME5673\n",
      "Scraped  ME5713*\n",
      "Scraped  ME5813*\n",
      "Scraped  ME5833*\n",
      "Scraped  ME5913*\n",
      "Scraped  ME5933*\n",
      "Scraped  ME5953*\n",
      "Finished scraping 84 courses\n"
     ]
    }
   ],
   "source": [
    "from selenium.common.exceptions import NoSuchElementException\n",
    "\n",
    "course_codes = []\n",
    "course_names = []\n",
    "course_descs = []\n",
    "counter = 0\n",
    "\n",
    "driver.get(\"https://www.unb.ca/academics/calendar/undergraduate/current/frederictonprograms/bachelorofscienceinengineering/mechanicalengineering.html\")\n",
    "time.sleep(3)\n",
    "for link_text in link_texts:\n",
    "    #go to course page\n",
    "    try:\n",
    "        link = driver.find_element_by_link_text(link_text)\n",
    "    except NoSuchElementException:\n",
    "        print(\"no link for {}\".format(link_text))\n",
    "        continue\n",
    "\n",
    "    time.sleep(2)\n",
    "    link.click()    \n",
    "    time.sleep(2)\n",
    "    \n",
    "    #scrape course info\n",
    "    page_soup = soup(driver.page_source, 'lxml')\n",
    "    container = page_soup.find(\"table\", {\"class\": \"ugradcal large-only\"})\n",
    "    course_code = container.find(\"th\", {\"abbr\": \"Course Code\"}).text\n",
    "    course_name = container.find(\"th\", {\"abbr\": \"Course Dscription\"}).text\n",
    "    course_desc = container.find(\"course_description\").text.strip()\n",
    "    \n",
    "    course_codes.append(course_code)\n",
    "    course_names.append(course_name)\n",
    "    course_descs.append(course_desc)\n",
    "    \n",
    "    print(\"Scraped \", course_codes[-1])\n",
    "    counter += 1\n",
    "    \n",
    "    #go to course list page\n",
    "    driver.back()\n",
    "    time.sleep(2)\n",
    "        \n",
    "print(\"Finished scraping {} courses\".format(counter))"
   ]
  },
  {
   "cell_type": "code",
   "execution_count": 18,
   "metadata": {
    "scrolled": true
   },
   "outputs": [
    {
     "data": {
      "text/plain": [
       "84"
      ]
     },
     "execution_count": 18,
     "metadata": {},
     "output_type": "execute_result"
    }
   ],
   "source": [
    "len(course_descs)"
   ]
  },
  {
   "cell_type": "markdown",
   "metadata": {},
   "source": [
    "# Misc clean up, write data to csv"
   ]
  },
  {
   "cell_type": "code",
   "execution_count": 19,
   "metadata": {},
   "outputs": [
    {
     "data": {
      "text/plain": [
       "['Principles relating the properties and behaviour of engineering materials to their structure; atomic bonding forces and strength of interatomic and intermolecular bonding forces, atomic arrangements in solids, structural imperfections and atom movements in solids; principles of phase diagrams and their application to multiphase materials, with particular reference to the iron-carbon system; mechanical and electrical properties of engineering material; semiconductors, polymers and ceramics; and their relation to internal structure.',\n",
       " 'Laboratory experiments are conducted to illustrate behaviour of materials and other concepts covered in CHE 2501.',\n",
       " 'Intended primarily for non-science majors. Building on examples from environmental chemistry, polymers, fuel cells and corrosion, this course covers chemical material properties, solutions & solubility, kinetics & equilibrium, acids & bases, thermodynamics and electrochemistry. NOTE: Credit can be obtained for only one of CHEM 1012 or CHEM 1982.',\n",
       " 'Intended primarily for non-science majors students. Topics include: ideal gases, heats and rates of reactions, chemical equilibria, acid-base equilibria, redox titrations, and voltaic cells.\\xa0NOTE: WHMIS certification required (see beginning of Chemistry Courses section for details). NOTE: Credit can be obtained for only one of CHEM 1017 or CHEM 1987.',\n",
       " 'Introduction to the use of digital computers for problem solving and communicating solutions. Covers use of procedures, decisions, loops and arrays focusing on scientific and engineering problem analysis, algorithm design, and program structure. Also includes organizing, tabulating, and graphing program output with different software tools to communicate results. This course is currently taught primarily in Python. NOTE: This course is not intended for BCS or BScSwE students.',\n",
       " 'Intended for Computer Science and Engineering students. Error analysis, convergence and stability. Approximation of functions by polynomials. Numerical quadrature and differentiation. The solution of linear and non-linear equations and the solution of ordinary differential equations. This course will emphasize the understanding of numerical algorithms and stress applications in the applied sciences, as well as the influence of finite precision and arithmetic on computational results.\\xa0Credit will be given for only one of CS 3113 or\\xa0MATH 3413\\xa0or ECE 2412.',\n",
       " 'Intended for Mathematics, Science or Engineering students. Error analysis, convergence and stability. Approximation of functions by polynomials. Numerical quadrature and differentiation. The solution of linear and nonlinear equations and the solution of ordinary differential equations. This course will emphasize the understanding of numerical algorithms and stress applications in the applied sciences, as well as the influence of finite precision and arithmetic on computational results. Credit will not be given for both MATH 3413 and CS 3113.',\n",
       " \"An introduction to the fundamentals of electricity and magnetism and applications. Covers concepts of charge, electric fields, voltage, current, power, energy, magnetic fields and the link between electricity and magnetism for the creation of machines. Includes resistors, resistance, Ohm's law, Kirchoff's voltage and current laws, some electrical properties of materials. Electric sources, simple series, parallel, and series-parallel DC circuits and mesh analysis are examined. Energy conversion and simple electric machines are examined. The behaviour and use of common sensors and transducers are discussed.\",\n",
       " 'Network analysis including AC. Introduction to transformers, DC machines and AC machines. Cannot be used for credit by students in the Electrical Engineering and Computer Engineering programs.',\n",
       " 'Network analysis including AC. Introduction to electronic devices, circuits, and motors. Cannot be used for credit by students in the Electrical Engineering and Computer Engineering programs.',\n",
       " 'Basic DC circuits: Network analysis and theorems. AC circuits: introduction of phasors, Network analysis and theorems applied to AC circuits.',\n",
       " 'A guest lecture series intended to introduce students to the engineering profession. Speakers from various engineering disciplines and job functions share their career experiences and discuss exciting engineering projects underway in the region.',\n",
       " 'Oral, written and visual communication skills are developed as important tools used by engineers. Technical writing style is taught through the preparation of reports and summaries, and oral communication skills are improved through public speaking and the preparation of formal presentations. Computer-aided design is introduced and used to enhance visualization skills. The importance of information literacy is stressed. Various types of engineering drawings are presented and engineering unit conversions are practiced.',\n",
       " 'This course introduces engineering design methodology and develops basic problem solving techniques. Under the supervision of senior students and with the guidance of industry engineers, students work both individually and in teams on real engineering design projects for the local community in a simulated engineering consulting environment. Project planning, team- building, leadership and responsible care are discussed. Laboratories are used to demonstrate problem solving techniques for analytical and open-ended problems, and life-long learning is emphasized by having students integrate co-requisite and researched material into a structured design process. Restricted to students with fewer than 60 ch of program credit upon first admission to the Faculty of Engineering or with permission of the instructor.',\n",
       " 'Introduction to the fundamental concepts of vector analysis, and its application to the analysis of particles and rigid bodies. The static analysis of particles and rigid bodies, including practical applications such as the analysis of trusses, frames and machines. The static analysis of structural systems including the analysis of internal forces and bending moments in beams. The analysis of kinematics of particle motion along straight and curved paths. The analysis of kinetic motion for particles based on force and acceleration, and work and energy. The course topics focus on visualizing concepts in mechanics, and developing problem solving strategies.',\n",
       " 'General introduction to the legal and ethical aspects of engineering practice. Social responsibilities of engineers, the engineering act and code of ethics, occupational health and safety, sustainable development, environmental stewardship, employment equity, legal duties and liabilities of the professional engineer, contracts, the tort of negligence, labour law, intellectual and industrial property, conflict resolution. Restricted to students with at least 100 ch in the engineering program. Limited enrolment; priority given to students in their final year of engineering.',\n",
       " 'Functions and graphs, limits, derivatives of polynomial, log, exponential and trigonometric functions. Curve sketching and extrema of functions.\\xa0NOTE: Credit may be obtained for only one of MATH 1003, MATH 1053, MATH 1823 or MATH 1843. NOTE: Part-time students will be charged a course fee for the MATH 1003 credit.',\n",
       " 'Definition of the integral, fundamental theorem of Calculus, Techniques of integration, improper integrals. Ordinary differential equations. Taylor polynomials and series. NOTE: Credit may be obtained for only one of MATH 1013 or MATH 1063.',\n",
       " 'Lines and planes, the geometry and algebra of vectors, systems of linear equations, matrix algebra, linear independence, linear transformations, determinants, complex numbers, eigenvectors, diagonalization, rotation matrices, quadratic forms, least squares.',\n",
       " 'This course introduces the basic concepts of linear algebra, mainly in finite dimensional real vector spaces. \\xa0Systems of linear equations, vector and matrix algebra, bases and dimension of subspaces, row and column spaces, linear transformations and matrix representations, inner products, determinants, eigenvectors and diagonalization. \\xa0Applications as time permits.',\n",
       " \"Functions of several variables, partial derivatives, multiple integrals, vector functions, Green's and Stokes' Theorems.\",\n",
       " 'Nonhomogeneous differential equations, undetermined coefficients, variation of parameters, systems of 1st and 2nd order ordinary differential equations, Laplace transforms, Fourier series.',\n",
       " 'Introduces the technology of 3D parametric geometric modeling to design and model mechanical engineering parts, assemblies and devices. Geometric variables and their interrelationships will be covered by projects involving the design of mechanical components, assemblies and machines to meet functional requirements. Manufacturing requirements including Geometric Dimensioning and Tolerancing. The use of the model for analysis, optimization and simulation will be stressed. Presentation of the model through engineering drawings and pictorial renderings. Animation of mechanisms. A comprehensive commercial CAD program will be utilized.',\n",
       " 'The dynamic analysis of linear particle systems based on momentum. The analysis of centroids and moments of inertia for rigid bodies. Introduction to the rotation of a rigid body about a fixed axis, motion of a rigid body in a plane. The dynamic analysis of a rigid body with general planar motion using Newton’s second law, work and energy, momentum and angular momentum.',\n",
       " 'Basic concepts, uniaxial stress and strain, Hooke’s law, torsion, pure bending, bending design, shear flow, transverse loads, stress and strain transformation, Mohr’s circle, strain measurement, yield criteria.',\n",
       " 'Elastic and plastic stress, strain; behaviour of beams and columns; torsion; material strength.',\n",
       " 'Fatigue, thin-wall pressure vessels, strength and deflection of beams, buckling of columns, instability, indeterminate beams, energy methods, Castigliano’s theorem.',\n",
       " 'Analysis of the strength of a mechanical device. Shapes and materials will be modified to meet deflection and stress limits. Written reports will document choices made and assessment of design. Group oral reports.',\n",
       " 'Fundamental concepts of linkages; displacement, velocity and acceleration analysis using graphical and analytical methods. Static and dynamic force analysis of linkages. Design of cams, gears and gear trains; including ordinary and planetary gear trains. Balancing rotating masses. Simple gyroscopic effects.',\n",
       " 'Student groups to design and build working model of planar linkage mechanism, based on a mechanical application. Cooperation and project management skills. Written reports to document choices made; evaluation of working model performance; and position, velocity, acceleration and force analyses. Group oral reports.',\n",
       " 'Optimization of any design is essential either to remain competitive or to improve product efficiency and quality. Several optimization methods are presented through a variety of mechanical design and industrial engineering problems. Topics include: single and multi-variable unconstrained optimization, linear programming, transportation, assignment and network problems. Other topics such as constrained and global optimization are introduced.',\n",
       " 'Properties of a pure substance -- work and heat. First law and applications in non-flow and flow processes. Second law and reversibility: entropy, applications of the second law to non-flow and flow processes. Analysis of thermodynamic cycles: Otto and Diesel cycles. Thermodynamic relationships.',\n",
       " 'Laboratory experiments and measurements related to Thermodynamics 1. Laboratory reports and readings are assigned.',\n",
       " 'Introduction to manufacturing processes; design criteria for material and process selections. Fundamentals of mechanical behaviour of materials, particularly the yield behaviour under triaxal stresses. Crystal structures; failure modes and the effect of various factors; manufacturing properties of metals. Surface structures and properties; service texture and roughness; friction, wear, and basic lubrication surface treatment design. Metal casting processes and equipment; casting design; heat treatment design. The laboratory exercises are: heat treatment, precipitation stregthening, Jominy centrifugal testing casting and impact toughness test.',\n",
       " 'Application of engineering economic analysis to mechanical and industrial engineering systems. Major emphasis will be given to decision-making based on the comparison of worth of alternative courses of action with respect to their costs. Topics include: discounted cash flow mechanics, economic analyses, management of money, economic decisions. Restricted to students with at least 60 ch.',\n",
       " 'Basic methods of engineering economy including time value of money, compound interest models, interest and discount rates, and depreciation; critical path methods. Emphasis is placed on commonly used computational procedures. Restricted to students with at least 60 ch completed.',\n",
       " 'Review of design process. Safety, environmental and sustainability issues of machine design. Design of shafts, power screws, threaded fasteners. Tolerances and fits. Contact stresses. Lubrication, journal bearings and rolling element bearings. Gearing design: spur, helical, bevel and worm gearing. Critical speeds of rotating systems. Couplings, seals.',\n",
       " 'Applies many topics of first 2 years in mechanical engineering. Practical aspects of detailed machine design project in team environment. Student groups to design, build and test a mechanical device for a client. Written reports will document choices made and assessment of design. Group oral reports.',\n",
       " \"Conduction: One-dimensional steady conduction and applications. Thermal properties. The differential equations of conduction; analytic and numerical solutions to two-dimensional problems and applications. Unsteady conduction lumped and differential approaches with applications. Temperature measurement. Convection: Dynamic similarity and dimensional analysis; boundary layer theory and applications to flow over heated/cooled surfaces; laminar and turbulent flow-free convection. Heat transfer with change of phase. Radiation: the laws of black body radiation; Kirchhoff's law and gray body radiation. Combined modes of heat transfer: heat exchanger design; augmentation of heat transfer; fins and thermocouples. Environmental heat exchange. Equivalent to CHE 3304.\",\n",
       " 'A comprehensive first course in heat transfer. Thermal conductivity and unsteady state conduction. Convection heat transfer coefficients: forced convection, free convection. Boiling, evaporation, and condensation. Heat exchanger design. Radiation heat transfer.',\n",
       " 'Laboratory experiments and measurements related to Heat Transfer I. Laboratory reports and readings are assigned.',\n",
       " 'The principles of fluid mechanics are introduced and methods are presented for the analysis of fluid motion in practical engineering problems. Specific topics include: fluid statics; integral balances of mass, momentum, angular momentum and energy; boundary layer theory and introduction to the Navier-Stokes equations; dimensional analysis; and liquid flow in piping networks with pumps and turbines. Pressure and flow measurement and experimental uncertainty.',\n",
       " 'Laboratory experiments and measurements related to Fluid Mechanics I. Laboratory reports and readings are assigned.',\n",
       " 'The performance and selection of hydraulic pumps and turbines, the lift and drag on immersed objects, and compressible flow in piping and nozzles.',\n",
       " 'Students work in groups on design projects that apply fluid mechanics. Examples include: pump and turbine selection; piping for conveyance of gases and liquids; gas and steam nozzles; lift and drag on air and water craft, land vehicles and projectiles; fluid forces on solid structures.',\n",
       " 'System concepts. Development and analysis of differential equation models for mechanical, electrical, thermal, and fluid systems, including some sensors. Systems are primarily analyzed using Laplace transforms and computer simulation methods. Analysis concepts cover first, second, and higher order differential equations, transient characteristics, transfer functions, stability, dominance, and frequency response. Properties of systems: time constant, natural and damped frequency, damping ratio.',\n",
       " 'Philosophy of automatic control; open loop, sensitivity, components of a control loop; closed loop control, error analysis. Design of P, I, PI, and PID-controllers based on closed-loop specifications. Stability criteria: Routh-Hurwitz. Lead/lag controller design using Root Locus and Bode diagrams. Sensor frequency response to classical inputs. Application of electronics and sensors to control systems based on frequency response. Basic digital analysis including digitization, sampling, aliasing, A/D and D/A devices, and phase loss due to time delays.',\n",
       " 'Principles and physical phenomena of the basic manufacturing processes. A review of the attributes of manufactured products will precede lectures on forging, sheet metal working, machining and joining. Material behaviour during manufacturing. Processing of polymers, particulate metals and ceramics is presented. Design of manufacturing systems and the design of components based on criteria and constraints of manufacturing systems and equipment is included in each topic area of the course. A combination of lectures and experimental labs round out the course content.',\n",
       " 'Air standard cycles: Open and closed gas turbine cycles with reheat, regenerative heat exchange and pressure drop. Steam power plants: analysis of vapor power systems, Rankine cycle, reheat and regenerative cycles; binary and nuclear plant cycles, power plant performance parameters, exergy accounting of a vapor power plant. Basic analysis of combined cycle power plants. Refrigeration systems. Properties of gas and vapor mixtures, psychometric principles, air-conditioning processes. Combustion: fuels, chemical equations, experimental analysis and the products of combustion.',\n",
       " 'Project oriented course dealing with the design of energy systems that meet regional and global energy needs in the 21st century in a sustainable manner. A combination of conventional and renewable energy technologies will be presented, including topics on resources, extraction, conversion, and end-use. The impact of engineering design on the environment, society, and sustainable development is discussed. Projects will focus on the improved design of both conventional and renewable energy systems with the aim of improving overall efficiency while minimizing the environmental and social impact.',\n",
       " 'Review of single degree-of-freedom vibration: free response, damping, forced response. Multiple-degree-of-freedom systems. Design for vibration suppression. Distributed parameter systems; wave propagation. Vibration testing and experimental modal analysis including transducers and FFT analysis.',\n",
       " 'A mechanical engineering design is developed and documented in the form of a technical report. Students normally work in approved teams. Industrial projects are developed in cooperation with industry and may require some period of time on site. University-based projects are developed in cooperation with university faculty. The first stage of this process involves definition of the project topic, background studies, and development of a conceptual design. An oral examination is conducted towards the end of the first term, and a written preliminary report is submitted. In the second term, a detailed design is prepared, the project is completed and orally examined, and a final report is submitted. One of the laboratory weekly hours is designated for a scheduled meeting with project advisor(s). Workshops involve practice exercises, relevant to student projects, on: problem definition and formulation, project planning, teamwork, information and communication; conceptual, parametric and configuration designs; and professional, environmental, social, human factors, and safety aspects of design.',\n",
       " 'Full-year design course (fall and winter of same academic year) which may be taken by senior students in any engineering program. Working preferably in multidisciplinary teams of three to five individuals, students design a structure, system, process or new product. Many of the projects are sponsored by outside clients. Proposed solutions involve the use of modern engineering tools and design methods, and must meet a broad range of constraints including health and safety, sustainable development and environmental stewardship. Deliverables include progress reports and presentations, a final report with appropriate engineering drawings, and if applicable, a prototype. Weekly lectures cover topics relevant to the design projects and include presentations by guest speakers. The weekly tutorial hours are designated for scheduled meetings with project co-mentors.',\n",
       " 'Full-year Product Design and Development course (fall and winter of same academic year) which may be taken in place of the final-year design course in most engineering program. The cornerstone is a project in which teams of 4 or 5 students conceive, design and prototype a product. The proposed solution would use modern tools and methods for product design and development, and should meet a broad range of constraints including health and safety, sustainable development and environmental stewardship. Weekly class sessions are conducted in lecture or workshop mode and employ cases and hands-on exercises to reinforce the key ideas. Topics include identifying customer needs, concept generation, product architecture, industrial design, and design-for-manufacturing.',\n",
       " 'Accidents, their effects and causation. Mechanical hazards and machine safeguarding. Temperature extremes. Pressure hazards. Fire hazards, Noise and vibration hazards. Computers, automation and robots. Ethics and safety.',\n",
       " \"An introduction to the fundamentals of mechanics. Vector analysis and its application to the analysis of the motion of particles and rigid bodies. Newton's three laws of motion. The kinematics and dynamics of particle motion along straight and curved paths. Work, energy, impulse and momentum of particles and rigid bodies. An introduction to the rotation of a rigid body about a fixed axis, moments of inertia, angular momentum. Simple Harmonic Motion.\",\n",
       " 'Probability spaces: combinatorial probability; conditional probability and independence. Random variables: discrete distributions; continuous distributions; expectation, variance, and covariance; linear combinations. Statistics: descriptive and graphical statistics; sampling distributions. Inference: point estimation; confidence intervals; hypothesis tests; paired data designs; two sample inference.',\n",
       " 'Structure and specification of robotic manipulators. Homogeneous transformations and link descriptions. Manipulator forward and inverse displacement solutions. Jacobians in the velocity and static force domains. Singular configurations and workspace analysis. An introduction to trajectory planning and manipulator dynamics. Lab experiments explore several robotic manipulators.',\n",
       " 'An interdisciplinary study of the interaction of humans and their workspace. Physiological principles of work and energy. Anthropometry. Biomechanics. The ergonomics of workspace and job design. Fatigue. Work/rest schedules and nutrition. The physiological and psychological effects of human noise, vibration, lighting, vision, and the workspace environment. Lab periods include seminars and practical design exercise applying human factors and ergonomic theory to workspace problems.',\n",
       " 'Discusses a variety of measurement techniques used in Mechanical Engineering.\\xa0 Topics include analog and digital measurement systems, frequency response, calibration and assessment of uncertainty. The focus is on the analysis and design of measuring instruments.\\xa0 Laboratory exercises include measures of time and rate, displacements, stress and strain, force, pressure, flow, temperature, and vibrations.',\n",
       " 'Introduction to stress analysis that deals with anisotropy of stress and general equations of the theory and elasticity. The elastic equilibrium and boundary value problem formulations are considered. Introduction to the modelling of inhomogeneous composite solids, the effective moduli theory and the elasticity of laminated and fiber enforced composite, as well as nanostructured composite theories are covered.',\n",
       " 'Covers the fundamental aspects of crystallographic structure and their effects on the physical and mechanical properties of solids wiith emphasis on metallic materials with engineering applications. The importance of selecting alloying elements will be explored to optimize various properties such as but not limited to strength, ductility, fatigue, creep, corrosion, electrical, and magnetic. Construction and analysis of binary and ternary phase diagrams, which are critical in alloy design, complemented with computational thermodynamics will be covered. At the end of the course, the students are expected to understand the design and processing of commercial alloys.',\n",
       " 'Various methods for solving the forward and inverse displacement problems are described. Particular emphasis is made on the use of screw theory for the derivation of the Jacobian matrix. The selection of alternate frames of reference for describing the Jacobian are also discussed. Methods used in the solution of the inverse displacement problem and the inverse and forward velocity problems for kinematically redundant manipulators are discussed.',\n",
       " 'Brief introduction to robot kinematics including forward and inverse displacement and velocity solutions. An introduction to trajectory planning. Description of common uses of robotics in the manufacturing industry. Description and differences between soft and hard automation particularly in material handling systems. Fundamentals of sensors, actuators and controllers. Examples of automated machinery conveyor systems, feeder systems and packaging systems. Lab introduces different components of a flexible manufacturing systems. Graduate students enrolling in this course must submit an additional project in order to receive credit for this course.',\n",
       " 'Introduction to the basic concepts of finite element analysis (FEA) including domain discretization, element types, system matrix assembly, and numerical solution techniques. Application of FEA to solve static, dynamic and harmonic problems of linearly elastic solid bodies and heat transfer will be covered in detail. Graduate students enrolling in this course must submit an additional project in order to receive credit for this course.',\n",
       " 'The fundamentals of metal cutting theory will be examined with particular emphasis on understanding cutting forces, stresses, strains, strain rates, and temperatures during the cutting process. Tribological issues, tool wear, and tool life will also be presented. Tools typically available to the manufacturing engineer such as Computer-Aided Design (CAD), Computer Aided Manufacturing (CAM), and Computer Numerical Control (CNC) Programming will compromise a significant portion of the course. Using the machine shop in the Mechanical Engineering Department, students will extend classroom concepts to practical scenarios and situations on the machine shop floor.',\n",
       " 'This senior level course examines the application of mechanical design to engineering practice. In particular, the course will examine codified design of steel structures and the analysis of common failures that occur in service.',\n",
       " 'Review of principles and practices of micro/nano fabrication technologies with research and industrial perspectives.\\xa0 Introduction to micro/nano fabrication and its applications in MEMS/NEMS, renewable energy and biomaterials; materials selection; silicon processing; lithography process; thin film fabrication; advanced lithography process; characterization and micro/nano measurement techniques; atomic force microscopy and its applications.',\n",
       " 'Principles of fractures mechanics and fracture analysis of engineering structures. Plane elasticity and mathematical methods to determine the elastic stress, strain and displacement fields. Fracture criteria and their limitations. Elastic-plastic fracture mechanics, J integral and COD. Fatigue fracture and S-N curve.',\n",
       " 'The thermodynamics of internal combustion engines is introduced and applied to reciprocating spark ignition and compression ignition engines. The performance of each engine type is studied experimentally. The mechanical design of reciprocating engines is also examined.',\n",
       " 'General CFD topics such as grid topologies, discretization methods and errors, pressure-velocity coupling, solution methods for non-linear equations, and popular solution schemes such as the SIMPLE based methods. Introduction of extensions to core CFD techniques for a wide range of industrial applications, including turbulence models, multiphase flow models for problems in cavitation, boiling/condensation, and solidification/melting. Role of properties in CFD models, as related to non-Newtonian fluids, real and ideal properties for compressible flows, and combustion applications.',\n",
       " 'This course will cover topics including the methodology, measurement uncertainty, and signal processing associated with fluid dynamics measurements. Various means of measuring pressure, velocity and visualizing flow will also be discussed.',\n",
       " 'Introduction to the fundamental concepts of ocean wave energy conversion. Topics include: ocean wave mechanics, the wave energy resource, basic wave energy conversion techniques, analytical and experimental modelling of wave energy converter, power take-off systems, and environmental impact assessment.',\n",
       " 'Fluid mechanics principles will be applied to describe external flow of incompressible gasses and liquids.\\xa0 Emphasis will be placed on techniques used to predict aerodynamic forces and moments on aircraft.\\xa0 Applications include aerofoils of infinite span, wing of finite span, aerodynamic design considerations, and high lift devices.\\xa0 Other applications include the aerodynamics of wind-turbines and submarine hydrodynamics.\\xa0 An introduction to computational aerodynamics will also be given.',\n",
       " 'The principles of thermodynamics and fluid mechanics will be applied to describe external flow of compressible gases. Applications include two dimensional aerofoils, slender wings, aircraft and ballistics.',\n",
       " 'The first half of the course is an introduction to digital control. Emphasis is placed on understanding the relationships between analog and digital techniques. The second half concentrates on developing the basic mathematical framework for state space control. Several powerful abstract mathematical tools such as the projection theorem are introduced.',\n",
       " 'Study on the design and practical implementation of model predictive controllers and intelligent sensors for industrial type processes. Topics to be studied include sensor selection and instrumentation, signal processing and conditioning, process modelling and identification, computer interfacing, predictive control, optimization techniques, algorithm design and intelligent sensor modelling. The course is project oriented and includes the use of Matlab and LabWindows CVI software.',\n",
       " 'Review of single degree of freedom oscillators, vibration of strings and bars. Topics include: the acoustic wave equation, transmission phenomena, pipe cavities and waveguides, resonators, ducts and filters, environmental acoustics and an introduction to aeroacoustics (time permitting).',\n",
       " 'Principles of nondestructive evaluation, acoustic emission techniques, ultrasonics, microwave methods, electromagnetic probes, penetrating radiation.',\n",
       " 'Provides selected students an opportunity to either study concepts of a newly developed course or complete an independent project in association with an undergraduate course within the department. Permission of the instructor of the associated course is required.',\n",
       " 'Provides selected students an opportunity to\\xa0either study concepts of a\\xa0newly developed course or\\xa0complete an independent or group-based course of study within the department. Permission of the instructor of an associated course is required.',\n",
       " 'A number of topics in biomechanics are examined. Of particular interest is the mechanics of joints, and relation of the internal mechanics of joints to externally applied loads. Analysis techniques are introduced to facilitate analysis of the problems addressed in the course.',\n",
       " 'The goal is to develop awareness and knowledge on forward-looking thinking of interaction of technology with human induced transformation of materials and energy from the perspectives of environment and sustainability. Topics include: humanity and technology; concept of sustainability; key questions of industrial ecology and sustainable engineering; status of resources; technology and risk assessment; introduction to life cycle assessment (LCA); LCA impact assessment and interpretation; streamlining the LCA process.',\n",
       " 'Describes the aerodynamic forces, moments and propulsive thrusts which act on fixed wing model aircraft. Stability, control, and flight performance characteristics are also investigated. Development of a system model and theoretical control algorithm tailored for the characteristics of a specific model airplane. Each student will use this knowledge to develop an embedded firmware-based control system to provide some autopilot features to a model airplane.']"
      ]
     },
     "execution_count": 19,
     "metadata": {},
     "output_type": "execute_result"
    }
   ],
   "source": [
    "course_descs"
   ]
  },
  {
   "cell_type": "code",
   "execution_count": 20,
   "metadata": {},
   "outputs": [],
   "source": [
    "course_descs = [desc.replace(\"\\xa0\", \" \") for desc in course_descs]"
   ]
  },
  {
   "cell_type": "code",
   "execution_count": 21,
   "metadata": {},
   "outputs": [
    {
     "data": {
      "text/html": [
       "<div>\n",
       "<style scoped>\n",
       "    .dataframe tbody tr th:only-of-type {\n",
       "        vertical-align: middle;\n",
       "    }\n",
       "\n",
       "    .dataframe tbody tr th {\n",
       "        vertical-align: top;\n",
       "    }\n",
       "\n",
       "    .dataframe thead th {\n",
       "        text-align: right;\n",
       "    }\n",
       "</style>\n",
       "<table border=\"1\" class=\"dataframe\">\n",
       "  <thead>\n",
       "    <tr style=\"text-align: right;\">\n",
       "      <th></th>\n",
       "      <th>Course Number</th>\n",
       "      <th>Course Name</th>\n",
       "      <th>Course Description</th>\n",
       "    </tr>\n",
       "  </thead>\n",
       "  <tbody>\n",
       "    <tr>\n",
       "      <th>0</th>\n",
       "      <td>CHE2501</td>\n",
       "      <td>General Materials Science</td>\n",
       "      <td>Principles relating the properties and behavio...</td>\n",
       "    </tr>\n",
       "    <tr>\n",
       "      <th>1</th>\n",
       "      <td>CHE2506</td>\n",
       "      <td>Materials Science Laboratory</td>\n",
       "      <td>Laboratory experiments are conducted to illust...</td>\n",
       "    </tr>\n",
       "    <tr>\n",
       "      <th>2</th>\n",
       "      <td>CHEM1982</td>\n",
       "      <td>General Applied Chemistry</td>\n",
       "      <td>Intended primarily for non-science majors. Bui...</td>\n",
       "    </tr>\n",
       "    <tr>\n",
       "      <th>3</th>\n",
       "      <td>CHEM1987</td>\n",
       "      <td>General Applied Chemistry Laboratory</td>\n",
       "      <td>Intended primarily for non-science majors stud...</td>\n",
       "    </tr>\n",
       "    <tr>\n",
       "      <th>4</th>\n",
       "      <td>CS1003</td>\n",
       "      <td>Programming and Problem Solving for Engineers</td>\n",
       "      <td>Introduction to the use of digital computers f...</td>\n",
       "    </tr>\n",
       "    <tr>\n",
       "      <th>...</th>\n",
       "      <td>...</td>\n",
       "      <td>...</td>\n",
       "      <td>...</td>\n",
       "    </tr>\n",
       "    <tr>\n",
       "      <th>79</th>\n",
       "      <td>ME5813*</td>\n",
       "      <td>Special Topics in Mechanical Engineering</td>\n",
       "      <td>Provides selected students an opportunity to e...</td>\n",
       "    </tr>\n",
       "    <tr>\n",
       "      <th>80</th>\n",
       "      <td>ME5833*</td>\n",
       "      <td>Special Topics in Mechanical Engineering</td>\n",
       "      <td>Provides selected students an opportunity to e...</td>\n",
       "    </tr>\n",
       "    <tr>\n",
       "      <th>81</th>\n",
       "      <td>ME5913*</td>\n",
       "      <td>Biomechanics I</td>\n",
       "      <td>A number of topics in biomechanics are examine...</td>\n",
       "    </tr>\n",
       "    <tr>\n",
       "      <th>82</th>\n",
       "      <td>ME5933*</td>\n",
       "      <td>Industrial Ecology and Sustainable Engineering</td>\n",
       "      <td>The goal is to develop awareness and knowledge...</td>\n",
       "    </tr>\n",
       "    <tr>\n",
       "      <th>83</th>\n",
       "      <td>ME5953*</td>\n",
       "      <td>Embedded Flight Control Systems</td>\n",
       "      <td>Describes the aerodynamic forces, moments and ...</td>\n",
       "    </tr>\n",
       "  </tbody>\n",
       "</table>\n",
       "<p>84 rows × 3 columns</p>\n",
       "</div>"
      ],
      "text/plain": [
       "   Course Number                                      Course Name  \\\n",
       "0        CHE2501                        General Materials Science   \n",
       "1        CHE2506                     Materials Science Laboratory   \n",
       "2       CHEM1982                        General Applied Chemistry   \n",
       "3       CHEM1987             General Applied Chemistry Laboratory   \n",
       "4         CS1003    Programming and Problem Solving for Engineers   \n",
       "..           ...                                              ...   \n",
       "79       ME5813*         Special Topics in Mechanical Engineering   \n",
       "80       ME5833*         Special Topics in Mechanical Engineering   \n",
       "81       ME5913*                                   Biomechanics I   \n",
       "82       ME5933*  Industrial Ecology and Sustainable Engineering    \n",
       "83       ME5953*                  Embedded Flight Control Systems   \n",
       "\n",
       "                                   Course Description  \n",
       "0   Principles relating the properties and behavio...  \n",
       "1   Laboratory experiments are conducted to illust...  \n",
       "2   Intended primarily for non-science majors. Bui...  \n",
       "3   Intended primarily for non-science majors stud...  \n",
       "4   Introduction to the use of digital computers f...  \n",
       "..                                                ...  \n",
       "79  Provides selected students an opportunity to e...  \n",
       "80  Provides selected students an opportunity to e...  \n",
       "81  A number of topics in biomechanics are examine...  \n",
       "82  The goal is to develop awareness and knowledge...  \n",
       "83  Describes the aerodynamic forces, moments and ...  \n",
       "\n",
       "[84 rows x 3 columns]"
      ]
     },
     "execution_count": 21,
     "metadata": {},
     "output_type": "execute_result"
    }
   ],
   "source": [
    "import pandas as pd\n",
    "\n",
    "df = pd.DataFrame({\n",
    "    \"Course Number\": course_codes,\n",
    "    \"Course Name\": course_names,\n",
    "    \"Course Description\": course_descs\n",
    "})\n",
    "\n",
    "df"
   ]
  },
  {
   "cell_type": "code",
   "execution_count": 22,
   "metadata": {},
   "outputs": [],
   "source": [
    "df.to_csv('UNewBrunswick_MechEng_Core_and_Electives_(AllYears)_Courses.csv', index = False)"
   ]
  },
  {
   "cell_type": "code",
   "execution_count": 23,
   "metadata": {},
   "outputs": [],
   "source": [
    "driver.quit()"
   ]
  }
 ],
 "metadata": {
  "kernelspec": {
   "display_name": "Python 3",
   "language": "python",
   "name": "python3"
  },
  "language_info": {
   "codemirror_mode": {
    "name": "ipython",
    "version": 3
   },
   "file_extension": ".py",
   "mimetype": "text/x-python",
   "name": "python",
   "nbconvert_exporter": "python",
   "pygments_lexer": "ipython3",
   "version": "3.8.5"
  }
 },
 "nbformat": 4,
 "nbformat_minor": 4
}
