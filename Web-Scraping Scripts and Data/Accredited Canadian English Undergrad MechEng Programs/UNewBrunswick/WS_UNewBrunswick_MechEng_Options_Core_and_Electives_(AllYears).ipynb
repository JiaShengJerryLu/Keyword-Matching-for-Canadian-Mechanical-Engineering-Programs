{
 "cells": [
  {
   "cell_type": "code",
   "execution_count": 1,
   "metadata": {
    "scrolled": true
   },
   "outputs": [],
   "source": [
    "from bs4 import BeautifulSoup as soup\n",
    "from urllib.request import urlopen as ureq\n",
    "from selenium import webdriver\n",
    "import time\n",
    "import re"
   ]
  },
  {
   "cell_type": "code",
   "execution_count": 2,
   "metadata": {
    "scrolled": true
   },
   "outputs": [],
   "source": [
    "url = \"https://www.unb.ca/academics/calendar/undergraduate/current/frederictonprograms/bachelorofscienceinengineering/mechanicalengineering.html\""
   ]
  },
  {
   "cell_type": "code",
   "execution_count": 3,
   "metadata": {
    "scrolled": true
   },
   "outputs": [],
   "source": [
    "chrome_options = webdriver.ChromeOptions()\n",
    "chrome_options.add_argument('--ignore-certificate-errors')\n",
    "chrome_options.add_argument('--incognito')\n",
    "chrome_options.add_argument('--headless')\n",
    "\n",
    "driver = webdriver.Chrome(\"C:\\\\Users\\\\jerry\\\\Downloads\\\\chromedriver\", options=chrome_options)"
   ]
  },
  {
   "cell_type": "code",
   "execution_count": 4,
   "metadata": {
    "scrolled": true
   },
   "outputs": [],
   "source": [
    "driver.get(url)"
   ]
  },
  {
   "cell_type": "code",
   "execution_count": 5,
   "metadata": {
    "scrolled": true
   },
   "outputs": [],
   "source": [
    "page_soup = soup(driver.page_source, 'lxml')"
   ]
  },
  {
   "cell_type": "markdown",
   "metadata": {},
   "source": [
    "# Mechatronics Option"
   ]
  },
  {
   "cell_type": "markdown",
   "metadata": {},
   "source": [
    "Collect course link texts (for driver to click on)"
   ]
  },
  {
   "cell_type": "code",
   "execution_count": 6,
   "metadata": {
    "scrolled": true
   },
   "outputs": [
    {
     "data": {
      "text/plain": [
       "<p><strong>Core Courses for Mechatronics Option:</strong></p>"
      ]
     },
     "execution_count": 6,
     "metadata": {},
     "output_type": "execute_result"
    }
   ],
   "source": [
    "start = page_soup.find(\"div\", {\"id\": \"stack\"}).find(\"p\", text=\"Core Courses for Mechatronics Option:\")\n",
    "start"
   ]
  },
  {
   "cell_type": "code",
   "execution_count": 7,
   "metadata": {
    "scrolled": true
   },
   "outputs": [
    {
     "data": {
      "text/plain": [
       "<p>Compared to the standard Mechanical Engineering Program, only one technical elective is required (as opposed to two for the standard program). For the Mechatronics option, <a href=\"../../frederictoncourses/electricalandcomputerengineering/ece-2711.html\">ECE 2711</a> (Electric Circuits) is recommended instead of <a href=\"../../frederictoncourses/electricalandcomputerengineering/ece-2701.html\">ECE 2701</a> (Electric Circuits and Electronics for Non-electricals). Also required are: <a href=\"../../frederictoncourses/electricalandcomputerengineering/ece-2214.html\">ECE 2214</a> (Digital Logic Design), <a href=\"../../frederictoncourses/electricalandcomputerengineering/ece-2215.html\">ECE 2215</a> (Digital Logic Design Lab), ECE 3111 (Electronics I), <a href=\"../../frederictoncourses/mechanicalengineering/me-4673.html\">ME 4673</a> (Introduction to Mechatronics) and <a href=\"../../frederictoncourses/mechanicalengineering/me-4683.html\">ME 4683</a> (Mechatronics Applications). The work for the senior design project course, <a href=\"../../frederictoncourses/mechanicalengineering/me-4860.html\">ME 4860</a> (or <a href=\"../../frederictoncourses/engineering/engg-4000.html\">ENGG 4000</a> or <a href=\"../../frederictoncourses/tme/tme-4025.html\">TME 4025</a>) will provide appropriate experience to suit the option.</p>"
      ]
     },
     "execution_count": 7,
     "metadata": {},
     "output_type": "execute_result"
    }
   ],
   "source": [
    "option_core = start.findNext(\"p\")\n",
    "option_core"
   ]
  },
  {
   "cell_type": "code",
   "execution_count": 8,
   "metadata": {
    "scrolled": false
   },
   "outputs": [
    {
     "data": {
      "text/plain": [
       "<p><a href=\"../../frederictoncourses/electricalandcomputerengineering/ece-3221.html\">ECE 3221</a><span> </span>Computer Organization<span> </span>(4 ch)<br/><a href=\"../../frederictoncourses/electricalandcomputerengineering/ece-4323.html\">ECE 4323</a><span> </span>Industrial Control Systems<span> </span>(4 ch)<br/><a href=\"../../frederictoncourses/electricalandcomputerengineering/ece-4333.html\">ECE 4333<span> </span></a>Robotics<span> </span>(4 ch)<br/><a href=\"../../frederictoncourses/electricalandcomputerengineering/ece-4343.html\">ECE 4343</a> Haptic Robotics (4 ch)<br/><a href=\"../../frederictoncourses/electricalandcomputerengineering/ece-4923.html\">ECE 4923</a><span> </span>Introduction to Biomedical Engineering<span> </span>(4 ch)<br/><a href=\"../../frederictoncourses/mechanicalengineering/me-4173.html\">ME 4173<span> </span></a>Robot Kinematics<span> </span>(4 ch)<br/><a href=\"../../frederictoncourses/mechanicalengineering/me-4703.html\">ME 4703</a> Mechanical Engineering Measurements (4 ch)<br/><a href=\"../../frederictoncourses/mechanicalengineering/me-5183.html\">ME 5183</a> Industrial Robotics and Automation (4 ch)<br/><a href=\"../../frederictoncourses/mechanicalengineering/me-5643.html\">ME 5643<span> </span></a>Automatic Controls II<span> </span>(4 ch)<br/><a href=\"../../frederictoncourses/mechanicalengineering/me-5653.html\">ME 5653</a><span> </span>Predictive Control and Intelligent Sensors<span> </span>(4 ch)<br/><a href=\"../../frederictoncourses/mechanicalengineering/me-5713.html\">ME 5713<span> </span></a>Nondestructive Testing<span> </span>(4 ch)<br/><a href=\"../../frederictoncourses/mechanicalengineering/me-5953.html\">ME 5953</a> Embedded Flight Control Systems (4 ch)</p>"
      ]
     },
     "execution_count": 8,
     "metadata": {},
     "output_type": "execute_result"
    }
   ],
   "source": [
    "option_electives = option_core.findNext(\"p\").findNext(\"p\")\n",
    "option_electives"
   ]
  },
  {
   "cell_type": "code",
   "execution_count": 9,
   "metadata": {
    "scrolled": true
   },
   "outputs": [
    {
     "data": {
      "text/plain": [
       "['ECE 2711',\n",
       " 'ECE 2214',\n",
       " 'ECE 2215',\n",
       " 'ME 4673',\n",
       " 'ME 4683',\n",
       " 'ME 4860',\n",
       " 'ENGG 4000',\n",
       " 'TME 4025',\n",
       " 'ECE 3221',\n",
       " 'ECE 4323',\n",
       " 'ECE 4333',\n",
       " 'ECE 4343',\n",
       " 'ECE 4923',\n",
       " 'ME 4173',\n",
       " 'ME 4703',\n",
       " 'ME 5183',\n",
       " 'ME 5643',\n",
       " 'ME 5653',\n",
       " 'ME 5713',\n",
       " 'ME 5953']"
      ]
     },
     "execution_count": 9,
     "metadata": {},
     "output_type": "execute_result"
    }
   ],
   "source": [
    "containers = option_core.findAll(\"a\") + option_electives.findAll(\"a\")\n",
    "link_texts = [container.text.strip() for container in containers if container.text.strip() != 'ECE 2701']\n",
    "link_texts"
   ]
  },
  {
   "cell_type": "code",
   "execution_count": 10,
   "metadata": {
    "scrolled": true
   },
   "outputs": [
    {
     "data": {
      "text/plain": [
       "20"
      ]
     },
     "execution_count": 10,
     "metadata": {},
     "output_type": "execute_result"
    }
   ],
   "source": [
    "len(link_texts)"
   ]
  },
  {
   "cell_type": "markdown",
   "metadata": {},
   "source": [
    "Automation script to scrape all course info"
   ]
  },
  {
   "cell_type": "code",
   "execution_count": 11,
   "metadata": {
    "scrolled": true
   },
   "outputs": [
    {
     "name": "stdout",
     "output_type": "stream",
     "text": [
      "Scraped  ECE2711\n",
      "Scraped  ECE2214\n",
      "Scraped  ECE2215\n",
      "Scraped  ME4673\n",
      "Scraped  ME4683\n",
      "Scraped  ME4860\n",
      "Scraped  ENGG4000\n",
      "Scraped  TME4025\n",
      "Scraped  ECE3221\n",
      "Scraped  ECE4323\n",
      "Scraped  ECE4333\n",
      "Scraped  ECE4343\n",
      "Scraped  ECE4923\n",
      "Scraped  ME4173*\n",
      "Scraped  ME4703*\n",
      "Scraped  ME5183*\n",
      "Scraped  ME5643*\n",
      "Scraped  ME5653*\n",
      "Scraped  ME5713*\n",
      "Scraped  ME5953*\n",
      "Finished scraping 20 courses\n"
     ]
    }
   ],
   "source": [
    "from selenium.common.exceptions import NoSuchElementException\n",
    "\n",
    "course_codes = []\n",
    "course_names = []\n",
    "course_descs = []\n",
    "counter = 0\n",
    "    \n",
    "for link_text in link_texts:\n",
    "    #go to course page\n",
    "    try:\n",
    "        link = driver.find_element_by_link_text(link_text)\n",
    "    except NoSuchElementException:\n",
    "        print(\"no link for {}\".format(link_text))\n",
    "        continue\n",
    "\n",
    "    time.sleep(2)\n",
    "    link.click()    \n",
    "    time.sleep(2)\n",
    "    \n",
    "    #scrape course info\n",
    "    page_soup = soup(driver.page_source, 'lxml')\n",
    "    container = page_soup.find(\"table\", {\"class\": \"ugradcal large-only\"})\n",
    "    course_code = container.find(\"th\", {\"abbr\": \"Course Code\"}).text\n",
    "    course_name = container.find(\"th\", {\"abbr\": \"Course Dscription\"}).text\n",
    "    course_desc = container.find(\"course_description\").text.strip()\n",
    "    \n",
    "    course_codes.append(course_code)\n",
    "    course_names.append(course_name)\n",
    "    course_descs.append(course_desc)\n",
    "    \n",
    "    print(\"Scraped \", course_codes[-1])\n",
    "    counter += 1\n",
    "    \n",
    "    #go to course list page\n",
    "    driver.back()\n",
    "    time.sleep(2)\n",
    "        \n",
    "print(\"Finished scraping {} courses\".format(counter))"
   ]
  },
  {
   "cell_type": "code",
   "execution_count": 12,
   "metadata": {
    "scrolled": false
   },
   "outputs": [
    {
     "data": {
      "text/plain": [
       "['ECE2711',\n",
       " 'ECE2214',\n",
       " 'ECE2215',\n",
       " 'ME4673',\n",
       " 'ME4683',\n",
       " 'ME4860',\n",
       " 'ENGG4000',\n",
       " 'TME4025',\n",
       " 'ECE3221',\n",
       " 'ECE4323',\n",
       " 'ECE4333',\n",
       " 'ECE4343',\n",
       " 'ECE4923',\n",
       " 'ME4173*',\n",
       " 'ME4703*',\n",
       " 'ME5183*',\n",
       " 'ME5643*',\n",
       " 'ME5653*',\n",
       " 'ME5713*',\n",
       " 'ME5953*']"
      ]
     },
     "execution_count": 12,
     "metadata": {},
     "output_type": "execute_result"
    }
   ],
   "source": [
    "course_codes"
   ]
  },
  {
   "cell_type": "code",
   "execution_count": 13,
   "metadata": {
    "scrolled": false
   },
   "outputs": [
    {
     "data": {
      "text/plain": [
       "['Electric Circuits',\n",
       " 'Digital Logic Design',\n",
       " 'Digital Logic Design Laboratory ',\n",
       " 'Introduction to Mechatronics',\n",
       " 'Mechatronics Applications ',\n",
       " 'Senior Design Project',\n",
       " 'Senior Design Project ',\n",
       " 'Product Design and Development',\n",
       " 'Computer Organization',\n",
       " 'Modern Control Systems and Applications ',\n",
       " 'Robotics',\n",
       " 'Haptic Robotics',\n",
       " 'Introduction to Biomedical Engineering',\n",
       " 'Robot Kinematics',\n",
       " 'Mechanical Engineering Measurements',\n",
       " 'Industrial Robotics and Automation',\n",
       " 'Automatic Controls II ',\n",
       " 'Predictive Control and Intelligent Sensors',\n",
       " 'Nondestructive Testing',\n",
       " 'Embedded Flight Control Systems']"
      ]
     },
     "execution_count": 13,
     "metadata": {},
     "output_type": "execute_result"
    }
   ],
   "source": [
    "course_names"
   ]
  },
  {
   "cell_type": "code",
   "execution_count": 14,
   "metadata": {
    "scrolled": true
   },
   "outputs": [
    {
     "data": {
      "text/plain": [
       "['Basic DC circuits: Network analysis and theorems. AC circuits: introduction of phasors, Network analysis and theorems applied to AC circuits.',\n",
       " 'An introductory course to practical aspects of digital system design. The course covers digital logic design, including basic design concepts and implementation technology, number representation, synthesis of combinational and sequential logic, and the use of HDL and computer-based tools.',\n",
       " 'This is an introductory course to practical aspects of digital system design. Course includes the design of digital circuits with CAD tools and VHDL hardware description language.',\n",
       " 'Mechatronics is an integrated approach to mechanical, electronic and computer engineering for the design of “smart” products and “intelligent” manufacturing systems. Fundamentals of mechatronics design, with emphasis on product design and fabrication. Examples of mechanical systems utilizing sensors and actuator technologies, including use of signal conditioning circuits such as filters, amplifiers and analog-to-digital converters. Software design and implementation for process monitoring and logic control. Laboratory experiments give hands-on experience with components and equipment used in the design of mechatronic products. Project to design and fabricate a mechatronic system.',\n",
       " 'Concepts in automating processes. System specifications, components identification/selection, programming and interfacing for system automation and control.\\xa0Project involving use of PLC or microprocessor technology in a mechatronics system.',\n",
       " 'A mechanical engineering design is developed and documented in the form of a technical report. Students normally work in approved teams. Industrial projects are developed in cooperation with industry and may require some period of time on site. University-based projects are developed in cooperation with university faculty. The first stage of this process involves definition of the project topic, background studies, and development of a conceptual design. An oral examination is conducted towards the end of the first term, and a written preliminary report is submitted. In the second term, a detailed design is prepared, the project is completed and orally examined, and a final report is submitted. One of the laboratory weekly hours is designated for a scheduled meeting with project advisor(s). Workshops involve practice exercises, relevant to student projects, on: problem definition and formulation, project planning, teamwork, information and communication; conceptual, parametric and configuration designs; and professional, environmental, social, human factors, and safety aspects of design.',\n",
       " 'Full-year design course (fall and winter of same academic year) which may be taken by senior students in any engineering program. Working preferably in multidisciplinary teams of three to five individuals, students design a structure, system, process or new product. Many of the projects are sponsored by outside clients. Proposed solutions involve the use of modern engineering tools and design methods, and must meet a broad range of constraints including health and safety, sustainable development and environmental stewardship. Deliverables include progress reports and presentations, a final report with appropriate engineering drawings, and if applicable, a prototype. Weekly lectures cover topics relevant to the design projects and include presentations by guest speakers. The weekly tutorial hours are designated for scheduled meetings with project co-mentors.',\n",
       " 'Full-year Product Design and Development course (fall and winter of same academic year) which may be taken in place of the final-year design course in most engineering program. The cornerstone is a project in which teams of 4 or 5 students conceive, design and prototype a product. The proposed solution would use modern tools and methods for product design and development, and should meet a broad range of constraints including health and safety, sustainable development and environmental stewardship. Weekly class sessions are conducted in lecture or workshop mode and employ cases and hands-on exercises to reinforce the key ideas. Topics include identifying customer needs, concept generation, product architecture, industrial design, and design-for-manufacturing.',\n",
       " 'Register transfer systems and datapaths, microprocessors, microprocessor architecture and operation, instruction formats, assembly language programming, procedures and parameter passing, system bus timing, interfacing memory IO ports, serial and parallel data transfer, interrupts.',\n",
       " 'Introduces the industrial context for the application of control theory, including system modeling (linear, nonlinear, discrete, continuous and probabilistic models) and problem definition, determining system components and architectures, dealing with limitations and constraints (nonlinearity, disturbances and uncertainties), standard and advanced controls design (linear, nonlinear, and optimal control methods) and tuning methods. Computer-aided controls engineering is emphasized (algorithms/MATLAB).',\n",
       " 'This is a project based course where students design a variety of subsystems that are integrated and tested on a mobile robot. Topics include: actuators, PWM, H-bridges, position and range sensors, velocity sensors, optical sensors and switches, strain gauges, position and velocity control, electro-mechanical subsystems, planning and trajectory generation, computer software and hardware interfacing.',\n",
       " 'Haptics is the science and technology of creating the sensation of touch using robotic devices. This course will cover the three interelated domains of human physiology, mechatronics and control, to develop haptic robots that render a variety of environments.',\n",
       " 'Introduces biomedical concepts in the context of electrical engineering. Topics covered include basic anatomy and physiology, biopotential origination and modelling, biosignal measurement instrumentation, biosignal analysis and a survey of medical devices and health care technologies.',\n",
       " 'Structure and specification of robotic manipulators. Homogeneous transformations and link descriptions. Manipulator forward and inverse displacement solutions. Jacobians in the velocity and static force domains. Singular configurations and workspace analysis. An introduction to trajectory planning and manipulator dynamics. Lab experiments explore several robotic manipulators.',\n",
       " 'Discusses a variety of measurement techniques used in Mechanical Engineering.\\xa0 Topics include analog and digital measurement systems, frequency response, calibration and assessment of uncertainty. The focus is on the analysis and design of measuring instruments.\\xa0 Laboratory exercises include measures of time and rate, displacements, stress and strain, force, pressure, flow, temperature, and vibrations.',\n",
       " 'Brief introduction to robot kinematics including forward and inverse displacement and velocity solutions. An introduction to trajectory planning. Description of common uses of robotics in the manufacturing industry. Description and differences between soft and hard automation particularly in material handling systems. Fundamentals of sensors, actuators and controllers. Examples of automated machinery conveyor systems, feeder systems and packaging systems. Lab introduces different components of a flexible manufacturing systems. Graduate students enrolling in this course must submit an additional project in order to receive credit for this course.',\n",
       " 'The first half of the course is an introduction to digital control. Emphasis is placed on understanding the relationships between analog and digital techniques. The second half concentrates on developing the basic mathematical framework for state space control. Several powerful abstract mathematical tools such as the projection theorem are introduced.',\n",
       " 'Study on the design and practical implementation of model predictive controllers and intelligent sensors for industrial type processes. Topics to be studied include sensor selection and instrumentation, signal processing and conditioning, process modelling and identification, computer interfacing, predictive control, optimization techniques, algorithm design and intelligent sensor modelling. The course is project oriented and includes the use of Matlab and LabWindows CVI software.',\n",
       " 'Principles of nondestructive evaluation, acoustic emission techniques, ultrasonics, microwave methods, electromagnetic probes, penetrating radiation.',\n",
       " 'Describes the aerodynamic forces, moments and propulsive thrusts which act on fixed wing model aircraft. Stability, control, and flight performance characteristics are also investigated. Development of a system model and theoretical control algorithm tailored for the characteristics of a specific model airplane. Each student will use this knowledge to develop an embedded firmware-based control system to provide some autopilot features to a model airplane.']"
      ]
     },
     "execution_count": 14,
     "metadata": {},
     "output_type": "execute_result"
    }
   ],
   "source": [
    "course_descs"
   ]
  },
  {
   "cell_type": "code",
   "execution_count": 15,
   "metadata": {},
   "outputs": [],
   "source": [
    "course_descs = [desc.replace(\"\\xa0\", \" \") for desc in course_descs]"
   ]
  },
  {
   "cell_type": "code",
   "execution_count": 16,
   "metadata": {
    "scrolled": true
   },
   "outputs": [
    {
     "data": {
      "text/html": [
       "<div>\n",
       "<style scoped>\n",
       "    .dataframe tbody tr th:only-of-type {\n",
       "        vertical-align: middle;\n",
       "    }\n",
       "\n",
       "    .dataframe tbody tr th {\n",
       "        vertical-align: top;\n",
       "    }\n",
       "\n",
       "    .dataframe thead th {\n",
       "        text-align: right;\n",
       "    }\n",
       "</style>\n",
       "<table border=\"1\" class=\"dataframe\">\n",
       "  <thead>\n",
       "    <tr style=\"text-align: right;\">\n",
       "      <th></th>\n",
       "      <th>Course Number</th>\n",
       "      <th>Course Name</th>\n",
       "      <th>Course Description</th>\n",
       "    </tr>\n",
       "  </thead>\n",
       "  <tbody>\n",
       "    <tr>\n",
       "      <th>0</th>\n",
       "      <td>ECE2711</td>\n",
       "      <td>Electric Circuits</td>\n",
       "      <td>Basic DC circuits: Network analysis and theore...</td>\n",
       "    </tr>\n",
       "    <tr>\n",
       "      <th>1</th>\n",
       "      <td>ECE2214</td>\n",
       "      <td>Digital Logic Design</td>\n",
       "      <td>An introductory course to practical aspects of...</td>\n",
       "    </tr>\n",
       "    <tr>\n",
       "      <th>2</th>\n",
       "      <td>ECE2215</td>\n",
       "      <td>Digital Logic Design Laboratory</td>\n",
       "      <td>This is an introductory course to practical as...</td>\n",
       "    </tr>\n",
       "    <tr>\n",
       "      <th>3</th>\n",
       "      <td>ME4673</td>\n",
       "      <td>Introduction to Mechatronics</td>\n",
       "      <td>Mechatronics is an integrated approach to mech...</td>\n",
       "    </tr>\n",
       "    <tr>\n",
       "      <th>4</th>\n",
       "      <td>ME4683</td>\n",
       "      <td>Mechatronics Applications</td>\n",
       "      <td>Concepts in automating processes. System speci...</td>\n",
       "    </tr>\n",
       "    <tr>\n",
       "      <th>5</th>\n",
       "      <td>ME4860</td>\n",
       "      <td>Senior Design Project</td>\n",
       "      <td>A mechanical engineering design is developed a...</td>\n",
       "    </tr>\n",
       "    <tr>\n",
       "      <th>6</th>\n",
       "      <td>ENGG4000</td>\n",
       "      <td>Senior Design Project</td>\n",
       "      <td>Full-year design course (fall and winter of sa...</td>\n",
       "    </tr>\n",
       "    <tr>\n",
       "      <th>7</th>\n",
       "      <td>TME4025</td>\n",
       "      <td>Product Design and Development</td>\n",
       "      <td>Full-year Product Design and Development cours...</td>\n",
       "    </tr>\n",
       "    <tr>\n",
       "      <th>8</th>\n",
       "      <td>ECE3221</td>\n",
       "      <td>Computer Organization</td>\n",
       "      <td>Register transfer systems and datapaths, micro...</td>\n",
       "    </tr>\n",
       "    <tr>\n",
       "      <th>9</th>\n",
       "      <td>ECE4323</td>\n",
       "      <td>Modern Control Systems and Applications</td>\n",
       "      <td>Introduces the industrial context for the appl...</td>\n",
       "    </tr>\n",
       "    <tr>\n",
       "      <th>10</th>\n",
       "      <td>ECE4333</td>\n",
       "      <td>Robotics</td>\n",
       "      <td>This is a project based course where students ...</td>\n",
       "    </tr>\n",
       "    <tr>\n",
       "      <th>11</th>\n",
       "      <td>ECE4343</td>\n",
       "      <td>Haptic Robotics</td>\n",
       "      <td>Haptics is the science and technology of creat...</td>\n",
       "    </tr>\n",
       "    <tr>\n",
       "      <th>12</th>\n",
       "      <td>ECE4923</td>\n",
       "      <td>Introduction to Biomedical Engineering</td>\n",
       "      <td>Introduces biomedical concepts in the context ...</td>\n",
       "    </tr>\n",
       "    <tr>\n",
       "      <th>13</th>\n",
       "      <td>ME4173*</td>\n",
       "      <td>Robot Kinematics</td>\n",
       "      <td>Structure and specification of robotic manipul...</td>\n",
       "    </tr>\n",
       "    <tr>\n",
       "      <th>14</th>\n",
       "      <td>ME4703*</td>\n",
       "      <td>Mechanical Engineering Measurements</td>\n",
       "      <td>Discusses a variety of measurement techniques ...</td>\n",
       "    </tr>\n",
       "    <tr>\n",
       "      <th>15</th>\n",
       "      <td>ME5183*</td>\n",
       "      <td>Industrial Robotics and Automation</td>\n",
       "      <td>Brief introduction to robot kinematics includi...</td>\n",
       "    </tr>\n",
       "    <tr>\n",
       "      <th>16</th>\n",
       "      <td>ME5643*</td>\n",
       "      <td>Automatic Controls II</td>\n",
       "      <td>The first half of the course is an introductio...</td>\n",
       "    </tr>\n",
       "    <tr>\n",
       "      <th>17</th>\n",
       "      <td>ME5653*</td>\n",
       "      <td>Predictive Control and Intelligent Sensors</td>\n",
       "      <td>Study on the design and practical implementati...</td>\n",
       "    </tr>\n",
       "    <tr>\n",
       "      <th>18</th>\n",
       "      <td>ME5713*</td>\n",
       "      <td>Nondestructive Testing</td>\n",
       "      <td>Principles of nondestructive evaluation, acous...</td>\n",
       "    </tr>\n",
       "    <tr>\n",
       "      <th>19</th>\n",
       "      <td>ME5953*</td>\n",
       "      <td>Embedded Flight Control Systems</td>\n",
       "      <td>Describes the aerodynamic forces, moments and ...</td>\n",
       "    </tr>\n",
       "  </tbody>\n",
       "</table>\n",
       "</div>"
      ],
      "text/plain": [
       "   Course Number                                 Course Name  \\\n",
       "0        ECE2711                           Electric Circuits   \n",
       "1        ECE2214                        Digital Logic Design   \n",
       "2        ECE2215            Digital Logic Design Laboratory    \n",
       "3         ME4673                Introduction to Mechatronics   \n",
       "4         ME4683                  Mechatronics Applications    \n",
       "5         ME4860                       Senior Design Project   \n",
       "6       ENGG4000                      Senior Design Project    \n",
       "7        TME4025              Product Design and Development   \n",
       "8        ECE3221                       Computer Organization   \n",
       "9        ECE4323    Modern Control Systems and Applications    \n",
       "10       ECE4333                                    Robotics   \n",
       "11       ECE4343                             Haptic Robotics   \n",
       "12       ECE4923      Introduction to Biomedical Engineering   \n",
       "13       ME4173*                            Robot Kinematics   \n",
       "14       ME4703*         Mechanical Engineering Measurements   \n",
       "15       ME5183*          Industrial Robotics and Automation   \n",
       "16       ME5643*                      Automatic Controls II    \n",
       "17       ME5653*  Predictive Control and Intelligent Sensors   \n",
       "18       ME5713*                      Nondestructive Testing   \n",
       "19       ME5953*             Embedded Flight Control Systems   \n",
       "\n",
       "                                   Course Description  \n",
       "0   Basic DC circuits: Network analysis and theore...  \n",
       "1   An introductory course to practical aspects of...  \n",
       "2   This is an introductory course to practical as...  \n",
       "3   Mechatronics is an integrated approach to mech...  \n",
       "4   Concepts in automating processes. System speci...  \n",
       "5   A mechanical engineering design is developed a...  \n",
       "6   Full-year design course (fall and winter of sa...  \n",
       "7   Full-year Product Design and Development cours...  \n",
       "8   Register transfer systems and datapaths, micro...  \n",
       "9   Introduces the industrial context for the appl...  \n",
       "10  This is a project based course where students ...  \n",
       "11  Haptics is the science and technology of creat...  \n",
       "12  Introduces biomedical concepts in the context ...  \n",
       "13  Structure and specification of robotic manipul...  \n",
       "14  Discusses a variety of measurement techniques ...  \n",
       "15  Brief introduction to robot kinematics includi...  \n",
       "16  The first half of the course is an introductio...  \n",
       "17  Study on the design and practical implementati...  \n",
       "18  Principles of nondestructive evaluation, acous...  \n",
       "19  Describes the aerodynamic forces, moments and ...  "
      ]
     },
     "execution_count": 16,
     "metadata": {},
     "output_type": "execute_result"
    }
   ],
   "source": [
    "import pandas as pd\n",
    "\n",
    "df = pd.DataFrame({\n",
    "    \"Course Number\": course_codes,\n",
    "    \"Course Name\": course_names,\n",
    "    \"Course Description\": course_descs\n",
    "})\n",
    "\n",
    "df"
   ]
  },
  {
   "cell_type": "code",
   "execution_count": 17,
   "metadata": {
    "scrolled": true
   },
   "outputs": [],
   "source": [
    "df.to_csv('UNewBrunswick_MechEng_Mechatronics_Option_Core_and_Electives_Courses.csv', index = False)"
   ]
  },
  {
   "cell_type": "markdown",
   "metadata": {},
   "source": [
    "# Biomedical Option"
   ]
  },
  {
   "cell_type": "markdown",
   "metadata": {},
   "source": [
    "Collect course link texts (for driver to click on)"
   ]
  },
  {
   "cell_type": "code",
   "execution_count": 18,
   "metadata": {
    "scrolled": true
   },
   "outputs": [],
   "source": [
    "page_soup = soup(driver.page_source, 'lxml')"
   ]
  },
  {
   "cell_type": "code",
   "execution_count": 19,
   "metadata": {
    "scrolled": true
   },
   "outputs": [
    {
     "data": {
      "text/plain": [
       "<p><strong>Requirements:</strong></p>"
      ]
     },
     "execution_count": 19,
     "metadata": {},
     "output_type": "execute_result"
    }
   ],
   "source": [
    "start = page_soup.find(\"div\", {\"id\": \"stack\"}).find(\"p\", text=\"Requirements:\")\n",
    "start"
   ]
  },
  {
   "cell_type": "code",
   "execution_count": 20,
   "metadata": {
    "scrolled": true
   },
   "outputs": [
    {
     "data": {
      "text/plain": [
       "<p><a href=\"../../frederictoncourses/appliedscience/apsc-3953.html\">APSC 3953</a>, Basis of Biomedical Engineering (3 ch) <br/><a href=\"../../frederictoncourses/mechanicalengineering/me-4860.html\">ME 4860</a>, or <a href=\"../../frederictoncourses/engineering/engg-4000.html\">ENGG 4000</a> or <a href=\"../../frederictoncourses/tme/tme-4025.html\">TME 4025</a>, Senior project selected to be a biomedical engineering related project. (8 ch)</p>"
      ]
     },
     "execution_count": 20,
     "metadata": {},
     "output_type": "execute_result"
    }
   ],
   "source": [
    "option_core = start.findNext(\"p\")\n",
    "option_core"
   ]
  },
  {
   "cell_type": "code",
   "execution_count": 21,
   "metadata": {
    "scrolled": true
   },
   "outputs": [
    {
     "data": {
      "text/plain": [
       "<p><a href=\"../../frederictoncourses/mechanicalengineering/me-4173.html\">ME 4173</a> Robot Kinematics (4 ch)<br/><a href=\"../../frederictoncourses/mechanicalengineering/me-4622.html\">ME 4622</a> Human Factors Engineering (3 ch)<br/><a href=\"../../frederictoncourses/mechanicalengineering/me-4703.html\">ME 4703</a> Mechanical Measurements (4 ch)<br/><a href=\"../../frederictoncourses/mechanicalengineering/me-5173.html\">ME 5173</a> Advanced Kinematics of Manipulators (3 ch)<br/><a href=\"../../frederictoncourses/mechanicalengineering/me-5223.html\">ME 5223</a> Finite Element Analysis (3 ch)<br/>ME 5622 Human Factors Engineering (3 ch)<br/><a href=\"../../frederictoncourses/mechanicalengineering/me-5653.html\">ME 5653</a>/ME6003 - Predictive Control and Intelligent Sensors (4 ch)<br/><a href=\"../../frederictoncourses/mechanicalengineering/me-5913.html\">ME 5913</a> Biomechanics I (4 ch)<br/>ME 6003 (Special Topics) Fatigue, Failure, and Fracture of Materials (3 ch)<br/>ME 6383 Continuum Mechanics</p>"
      ]
     },
     "execution_count": 21,
     "metadata": {},
     "output_type": "execute_result"
    }
   ],
   "source": [
    "option_electives1 = option_core.findNext(\"p\").findNext(\"p\")\n",
    "option_electives1"
   ]
  },
  {
   "cell_type": "code",
   "execution_count": 22,
   "metadata": {
    "scrolled": true
   },
   "outputs": [
    {
     "data": {
      "text/plain": [
       "<p><a href=\"../../frederictoncourses/computer-science/cs-3025.html\">CS 3025</a> Human-Computer Interaction (3 ch)<br/><a href=\"../../frederictoncourses/electricalandcomputerengineering/ece-4343.html\">ECE 4343</a> Haptics (4ch)<br/><a href=\"../../frederictoncourses/kinesiology/kin-3041.html\">KIN 3041</a> Disability Awareness (3 ch)<br/><a href=\"../../frederictoncourses/kinesiology/kin-3061.html\">KIN 3061</a> Advanced Biomechanics (4ch)<br/><a href=\"../../frederictoncourses/kinesiology/kin-3161.html\">KIN 3161</a> Human Factors in Ergonomic Design (3ch)<br/><a href=\"../../frederictoncourses/kinesiology/kin-3041.html\">KIN 4041</a> Movement Disorders (3ch)<br/><a href=\"../../frederictoncourses/kinesiology/kin-4063.html\">KIN 4063</a> Biomedical Instrumentation and Data Acquisitions (3ch)<br/><a href=\"../../frederictoncourses/kinesiology/kin-4161.html\">KIN 4161</a> Occupational Biomechanics (3ch)<br/><a href=\"../../frederictoncourses/kinesiology/kin-4162.html\">KIN 4162</a> Occupational Health and Safety Ergonomics (3ch)<br/><a href=\"../../frederictoncourses/kinesiology/kin-4163.html\">KIN 4163</a> (Workplace Ergonomic Design and Analysis (3ch)<br/><a href=\"../../frederictoncourses/physics/phys-5993.html\">PHYS 5993</a> Magnetic Resonance Imaging (3ch)<br/>STAT 5293 Applied Statistics (3ch)</p>"
      ]
     },
     "execution_count": 22,
     "metadata": {},
     "output_type": "execute_result"
    }
   ],
   "source": [
    "option_electives2 = option_electives1.findNext(\"p\").findNext(\"p\")\n",
    "option_electives2"
   ]
  },
  {
   "cell_type": "code",
   "execution_count": 23,
   "metadata": {
    "scrolled": false
   },
   "outputs": [
    {
     "data": {
      "text/plain": [
       "['APSC 3953',\n",
       " 'ME 4860',\n",
       " 'ENGG 4000',\n",
       " 'TME 4025',\n",
       " 'ME 4173',\n",
       " 'ME 4622',\n",
       " 'ME 4703',\n",
       " 'ME 5173',\n",
       " 'ME 5223',\n",
       " 'ME 5653',\n",
       " 'ME 5913',\n",
       " 'CS 3025',\n",
       " 'ECE 4343',\n",
       " 'KIN 3041',\n",
       " 'KIN 3061',\n",
       " 'KIN 3161',\n",
       " 'KIN 4041',\n",
       " 'KIN 4063',\n",
       " 'KIN 4161',\n",
       " 'KIN 4162',\n",
       " 'KIN 4163',\n",
       " 'PHYS 5993']"
      ]
     },
     "execution_count": 23,
     "metadata": {},
     "output_type": "execute_result"
    }
   ],
   "source": [
    "containers = option_core.findAll(\"a\") + option_electives1.findAll(\"a\") + option_electives2.findAll(\"a\")\n",
    "link_texts = [container.text.strip() for container in containers]\n",
    "link_texts"
   ]
  },
  {
   "cell_type": "code",
   "execution_count": 24,
   "metadata": {
    "scrolled": true
   },
   "outputs": [
    {
     "data": {
      "text/plain": [
       "22"
      ]
     },
     "execution_count": 24,
     "metadata": {},
     "output_type": "execute_result"
    }
   ],
   "source": [
    "len(link_texts)"
   ]
  },
  {
   "cell_type": "markdown",
   "metadata": {},
   "source": [
    "Automation script to scrape all course info"
   ]
  },
  {
   "cell_type": "code",
   "execution_count": 25,
   "metadata": {
    "scrolled": false
   },
   "outputs": [
    {
     "name": "stdout",
     "output_type": "stream",
     "text": [
      "Scraped  APSC3953\n",
      "Scraped  ME4860\n",
      "Scraped  ENGG4000\n",
      "Scraped  TME4025\n",
      "Scraped  ME4173*\n",
      "Scraped  ME4622*\n",
      "Scraped  ME4703*\n",
      "Scraped  ME5173*\n",
      "Scraped  ME5223*\n",
      "Scraped  ME5653*\n",
      "Scraped  ME5913*\n",
      "Scraped  CS3025\n",
      "Scraped  ECE4343\n",
      "Scraped  KIN3041\n",
      "Scraped  KIN3061\n",
      "Scraped  KIN3161\n",
      "Scraped  KIN3041\n",
      "Scraped  KIN4063\n",
      "Scraped  KIN4161\n",
      "Scraped  KIN4162\n",
      "Scraped  KIN4163\n",
      "Scraped  PHYS5993\n",
      "Finished scraping 22 courses\n"
     ]
    }
   ],
   "source": [
    "from selenium.common.exceptions import NoSuchElementException\n",
    "\n",
    "course_codes = []\n",
    "course_names = []\n",
    "course_descs = []\n",
    "counter = 0\n",
    "    \n",
    "for link_text in link_texts:\n",
    "    #go to course page\n",
    "    try:\n",
    "        link = driver.find_element_by_link_text(link_text)\n",
    "    except NoSuchElementException:\n",
    "        print(\"no link for {}\".format(link_text))\n",
    "        continue\n",
    "\n",
    "    time.sleep(2)\n",
    "    link.click()    \n",
    "    time.sleep(2)\n",
    "    \n",
    "    #scrape course info\n",
    "    page_soup = soup(driver.page_source, 'lxml')\n",
    "    container = page_soup.find(\"table\", {\"class\": \"ugradcal large-only\"})\n",
    "    course_code = container.find(\"th\", {\"abbr\": \"Course Code\"}).text\n",
    "    course_name = container.find(\"th\", {\"abbr\": \"Course Dscription\"}).text\n",
    "    course_desc = container.find(\"course_description\").text.strip()\n",
    "    \n",
    "    course_codes.append(course_code)\n",
    "    course_names.append(course_name)\n",
    "    course_descs.append(course_desc)\n",
    "    \n",
    "    print(\"Scraped \", course_codes[-1])\n",
    "    counter += 1\n",
    "    \n",
    "    #go to course list page\n",
    "    driver.back()\n",
    "    time.sleep(2)\n",
    "        \n",
    "print(\"Finished scraping {} courses\".format(counter))"
   ]
  },
  {
   "cell_type": "code",
   "execution_count": 26,
   "metadata": {
    "scrolled": false
   },
   "outputs": [
    {
     "data": {
      "text/plain": [
       "['APSC3953',\n",
       " 'ME4860',\n",
       " 'ENGG4000',\n",
       " 'TME4025',\n",
       " 'ME4173*',\n",
       " 'ME4622*',\n",
       " 'ME4703*',\n",
       " 'ME5173*',\n",
       " 'ME5223*',\n",
       " 'ME5653*',\n",
       " 'ME5913*',\n",
       " 'CS3025',\n",
       " 'ECE4343',\n",
       " 'KIN3041',\n",
       " 'KIN3061',\n",
       " 'KIN3161',\n",
       " 'KIN3041',\n",
       " 'KIN4063',\n",
       " 'KIN4161',\n",
       " 'KIN4162',\n",
       " 'KIN4163',\n",
       " 'PHYS5993']"
      ]
     },
     "execution_count": 26,
     "metadata": {},
     "output_type": "execute_result"
    }
   ],
   "source": [
    "course_codes"
   ]
  },
  {
   "cell_type": "code",
   "execution_count": 27,
   "metadata": {
    "scrolled": false
   },
   "outputs": [
    {
     "data": {
      "text/plain": [
       "['Basis of Biomedical Engineering',\n",
       " 'Senior Design Project',\n",
       " 'Senior Design Project ',\n",
       " 'Product Design and Development',\n",
       " 'Robot Kinematics',\n",
       " 'Human Factors Engineering ',\n",
       " 'Mechanical Engineering Measurements',\n",
       " 'Advanced Kinematics of Manipulators',\n",
       " 'Finite Element Analysis',\n",
       " 'Predictive Control and Intelligent Sensors',\n",
       " 'Biomechanics I',\n",
       " 'Human-Computer Interaction',\n",
       " 'Haptic Robotics',\n",
       " 'Disability Awareness',\n",
       " 'Advanced Biomechanics',\n",
       " 'Human Factors in Ergonomic Design',\n",
       " 'Disability Awareness',\n",
       " 'Biomechanical Instrumentation and Data Acquisition ',\n",
       " 'Occupational Biomechanics',\n",
       " 'Occupational Health and Safety for Ergonomists',\n",
       " 'Workplace Ergonomic Design and Analysis',\n",
       " 'Magnetic Resonance Imaging (O)']"
      ]
     },
     "execution_count": 27,
     "metadata": {},
     "output_type": "execute_result"
    }
   ],
   "source": [
    "course_names"
   ]
  },
  {
   "cell_type": "code",
   "execution_count": 28,
   "metadata": {
    "scrolled": true
   },
   "outputs": [
    {
     "data": {
      "text/plain": [
       "['This course introduces the general aspects of Biomedical Engineering, which is the application of engineering principles to study biology, medicine, behaviour and health. A number of areas are covered by this broad topic, including anatomy, muscle physiology, biomedical instrumentation, biomechanics, and prosthetics. It will also introduce students to the idea of Biomedical Engineering as a career choice.',\n",
       " 'A mechanical engineering design is developed and documented in the form of a technical report. Students normally work in approved teams. Industrial projects are developed in cooperation with industry and may require some period of time on site. University-based projects are developed in cooperation with university faculty. The first stage of this process involves definition of the project topic, background studies, and development of a conceptual design. An oral examination is conducted towards the end of the first term, and a written preliminary report is submitted. In the second term, a detailed design is prepared, the project is completed and orally examined, and a final report is submitted. One of the laboratory weekly hours is designated for a scheduled meeting with project advisor(s). Workshops involve practice exercises, relevant to student projects, on: problem definition and formulation, project planning, teamwork, information and communication; conceptual, parametric and configuration designs; and professional, environmental, social, human factors, and safety aspects of design.',\n",
       " 'Full-year design course (fall and winter of same academic year) which may be taken by senior students in any engineering program. Working preferably in multidisciplinary teams of three to five individuals, students design a structure, system, process or new product. Many of the projects are sponsored by outside clients. Proposed solutions involve the use of modern engineering tools and design methods, and must meet a broad range of constraints including health and safety, sustainable development and environmental stewardship. Deliverables include progress reports and presentations, a final report with appropriate engineering drawings, and if applicable, a prototype. Weekly lectures cover topics relevant to the design projects and include presentations by guest speakers. The weekly tutorial hours are designated for scheduled meetings with project co-mentors.',\n",
       " 'Full-year Product Design and Development course (fall and winter of same academic year) which may be taken in place of the final-year design course in most engineering program. The cornerstone is a project in which teams of 4 or 5 students conceive, design and prototype a product. The proposed solution would use modern tools and methods for product design and development, and should meet a broad range of constraints including health and safety, sustainable development and environmental stewardship. Weekly class sessions are conducted in lecture or workshop mode and employ cases and hands-on exercises to reinforce the key ideas. Topics include identifying customer needs, concept generation, product architecture, industrial design, and design-for-manufacturing.',\n",
       " 'Structure and specification of robotic manipulators. Homogeneous transformations and link descriptions. Manipulator forward and inverse displacement solutions. Jacobians in the velocity and static force domains. Singular configurations and workspace analysis. An introduction to trajectory planning and manipulator dynamics. Lab experiments explore several robotic manipulators.',\n",
       " 'An interdisciplinary study of the interaction of humans and their workspace. Physiological principles of work and energy. Anthropometry. Biomechanics. The ergonomics of workspace and job design. Fatigue. Work/rest schedules and nutrition. The physiological and psychological effects of human noise, vibration, lighting, vision, and the workspace environment. Lab periods include seminars and practical design exercise applying human factors and ergonomic theory to workspace problems.',\n",
       " 'Discusses a variety of measurement techniques used in Mechanical Engineering.\\xa0 Topics include analog and digital measurement systems, frequency response, calibration and assessment of uncertainty. The focus is on the analysis and design of measuring instruments.\\xa0 Laboratory exercises include measures of time and rate, displacements, stress and strain, force, pressure, flow, temperature, and vibrations.',\n",
       " 'Various methods for solving the forward and inverse displacement problems are described. Particular emphasis is made on the use of screw theory for the derivation of the Jacobian matrix. The selection of alternate frames of reference for describing the Jacobian are also discussed. Methods used in the solution of the inverse displacement problem and the inverse and forward velocity problems for kinematically redundant manipulators are discussed.',\n",
       " 'Introduction to the basic concepts of finite element analysis (FEA) including domain discretization, element types, system matrix assembly, and numerical solution techniques. Application of FEA to solve static, dynamic and harmonic problems of linearly elastic solid bodies and heat transfer will be covered in detail. Graduate students enrolling in this course must submit an additional project in order to receive credit for this course.',\n",
       " 'Study on the design and practical implementation of model predictive controllers and intelligent sensors for industrial type processes. Topics to be studied include sensor selection and instrumentation, signal processing and conditioning, process modelling and identification, computer interfacing, predictive control, optimization techniques, algorithm design and intelligent sensor modelling. The course is project oriented and includes the use of Matlab and LabWindows CVI software.',\n",
       " 'A number of topics in biomechanics are examined. Of particular interest is the mechanics of joints, and relation of the internal mechanics of joints to externally applied loads. Analysis techniques are introduced to facilitate analysis of the problems addressed in the course.',\n",
       " 'Software design for interactive computing. Topics include: human-computer interaction principles, interface design guidelines, the design and execution of usability studies. The characteristics of various styles of interaction are explored. Emphasis is on user-oriented interfaces. Students design, implement, and perform a usability study on an interactive software application.',\n",
       " 'Haptics is the science and technology of creating the sensation of touch using robotic devices. This course will cover the three interelated domains of human physiology, mechatronics and control, to develop haptic robots that render a variety of environments.',\n",
       " 'This course aims to introduce students to the issues and challenges faced by persons with disabilities by exploring: disability concepts from a social, medical and political perspective; the impacts of disability on the person, family unit and labor force; disability issues in movement activities, from daily living to sport and recreation skills. Disability awareness training includes an introduction to appropriate terminology, knowledge of specific disorders that cause disability, and experience working with disabled individuals in the community.',\n",
       " 'Examines, through lecture and the use of lab-based data, the theoretical and applied aspects of the biomechanics of human performance.',\n",
       " 'This course introduces the physical, biomechanical, psycho-social and cognitive demands on workers in both office and industrial settings. Through lectures, student projects and review of current research, the role of proper human factors as a component of the improvement of health and well-being of the worker are explored. The understanding of human physical and psychological capabilities and limitations are incorporated in proper ergonomic design of the workplace environment.',\n",
       " 'This course aims to introduce students to the issues and challenges faced by persons with disabilities by exploring: disability concepts from a social, medical and political perspective; the impacts of disability on the person, family unit and labor force; disability issues in movement activities, from daily living to sport and recreation skills. Disability awareness training includes an introduction to appropriate terminology, knowledge of specific disorders that cause disability, and experience working with disabled individuals in the community.',\n",
       " 'Introduces advanced concepts in instrumentation and data acquisition relevant to the area of human motion analysis. The student will be introduced to motion analysis systems, electromyographs, and force platforms through laboratory sessions. Emphasis will be placed on accuracy and reliability of equipment. Students will also be introduced to the Matlab programming language and various data analysis techniques in biomechanics (i.e. filtering, joint angle computation).',\n",
       " 'This course will examine topics in applied ergonomics and occupational biomechanics. Lectures will be used to present ergonomic assessment tools and present current research directives in the area of occupational biomechanics and prevention of workplace musculoskeletal injuries. Development of the skills required to identify occupational ergonomic concerns, perform biomechanical analyses of musculoskeletal demands and modifications of work tasks to reduce musculoskeletal demands will be emphasized through practical experiences.',\n",
       " 'This course will provide an overview of the occupational health and safety field and its relationship to workplace ergonomics. An introduction to occupational health and safety legislation will be provided and health and safety hazards in a variety of work environments will be examined. Emphasis will be placed on how to eliminate and reduce hazards and risks associated with several work processes, including the physical working environment, adaptation of tools and the workplace to the worker, and equipment design. The roles and responsibilities of workers and their employers will also be covered.',\n",
       " 'The focus of this course is on the theoretical background and practical knowledge required to create functional ergonomic designs and provide comprehensive ergonomic analyses of industrial or service workplaces using work measurement and task analysis methodologies. Industrial and human factors engineering techniques together with the principles of occupational biomechanics are applied to investigate human / machine interactions, job design, and workstation layout. Work Measurement and Task Analysis methodologies are used to describe and determine work standards, physiological task loads and the elements of manual and mental activities in human / machine work systems. Laboratory exercises provide the opportunity to apply the theory to actual workplace situations.',\n",
       " 'Role within programme and connections to other courses. This advanced course draws upon electromagnetism, quantum mechanics and statistical thermodynamics to provide a capstone topic tied to the department’s research interests. Content. Principles of Magnetic Resonance Imaging, survey of imaging techniques, modern applications of MRI in medicine, biology and materials science.']"
      ]
     },
     "execution_count": 28,
     "metadata": {},
     "output_type": "execute_result"
    }
   ],
   "source": [
    "course_descs"
   ]
  },
  {
   "cell_type": "code",
   "execution_count": 29,
   "metadata": {},
   "outputs": [],
   "source": [
    "course_descs = [desc.replace(\"\\xa0\", \" \") for desc in course_descs]"
   ]
  },
  {
   "cell_type": "code",
   "execution_count": 30,
   "metadata": {
    "scrolled": true
   },
   "outputs": [
    {
     "data": {
      "text/html": [
       "<div>\n",
       "<style scoped>\n",
       "    .dataframe tbody tr th:only-of-type {\n",
       "        vertical-align: middle;\n",
       "    }\n",
       "\n",
       "    .dataframe tbody tr th {\n",
       "        vertical-align: top;\n",
       "    }\n",
       "\n",
       "    .dataframe thead th {\n",
       "        text-align: right;\n",
       "    }\n",
       "</style>\n",
       "<table border=\"1\" class=\"dataframe\">\n",
       "  <thead>\n",
       "    <tr style=\"text-align: right;\">\n",
       "      <th></th>\n",
       "      <th>Course Number</th>\n",
       "      <th>Course Name</th>\n",
       "      <th>Course Description</th>\n",
       "    </tr>\n",
       "  </thead>\n",
       "  <tbody>\n",
       "    <tr>\n",
       "      <th>0</th>\n",
       "      <td>APSC3953</td>\n",
       "      <td>Basis of Biomedical Engineering</td>\n",
       "      <td>This course introduces the general aspects of ...</td>\n",
       "    </tr>\n",
       "    <tr>\n",
       "      <th>1</th>\n",
       "      <td>ME4860</td>\n",
       "      <td>Senior Design Project</td>\n",
       "      <td>A mechanical engineering design is developed a...</td>\n",
       "    </tr>\n",
       "    <tr>\n",
       "      <th>2</th>\n",
       "      <td>ENGG4000</td>\n",
       "      <td>Senior Design Project</td>\n",
       "      <td>Full-year design course (fall and winter of sa...</td>\n",
       "    </tr>\n",
       "    <tr>\n",
       "      <th>3</th>\n",
       "      <td>TME4025</td>\n",
       "      <td>Product Design and Development</td>\n",
       "      <td>Full-year Product Design and Development cours...</td>\n",
       "    </tr>\n",
       "    <tr>\n",
       "      <th>4</th>\n",
       "      <td>ME4173*</td>\n",
       "      <td>Robot Kinematics</td>\n",
       "      <td>Structure and specification of robotic manipul...</td>\n",
       "    </tr>\n",
       "    <tr>\n",
       "      <th>5</th>\n",
       "      <td>ME4622*</td>\n",
       "      <td>Human Factors Engineering</td>\n",
       "      <td>An interdisciplinary study of the interaction ...</td>\n",
       "    </tr>\n",
       "    <tr>\n",
       "      <th>6</th>\n",
       "      <td>ME4703*</td>\n",
       "      <td>Mechanical Engineering Measurements</td>\n",
       "      <td>Discusses a variety of measurement techniques ...</td>\n",
       "    </tr>\n",
       "    <tr>\n",
       "      <th>7</th>\n",
       "      <td>ME5173*</td>\n",
       "      <td>Advanced Kinematics of Manipulators</td>\n",
       "      <td>Various methods for solving the forward and in...</td>\n",
       "    </tr>\n",
       "    <tr>\n",
       "      <th>8</th>\n",
       "      <td>ME5223*</td>\n",
       "      <td>Finite Element Analysis</td>\n",
       "      <td>Introduction to the basic concepts of finite e...</td>\n",
       "    </tr>\n",
       "    <tr>\n",
       "      <th>9</th>\n",
       "      <td>ME5653*</td>\n",
       "      <td>Predictive Control and Intelligent Sensors</td>\n",
       "      <td>Study on the design and practical implementati...</td>\n",
       "    </tr>\n",
       "    <tr>\n",
       "      <th>10</th>\n",
       "      <td>ME5913*</td>\n",
       "      <td>Biomechanics I</td>\n",
       "      <td>A number of topics in biomechanics are examine...</td>\n",
       "    </tr>\n",
       "    <tr>\n",
       "      <th>11</th>\n",
       "      <td>CS3025</td>\n",
       "      <td>Human-Computer Interaction</td>\n",
       "      <td>Software design for interactive computing. Top...</td>\n",
       "    </tr>\n",
       "    <tr>\n",
       "      <th>12</th>\n",
       "      <td>ECE4343</td>\n",
       "      <td>Haptic Robotics</td>\n",
       "      <td>Haptics is the science and technology of creat...</td>\n",
       "    </tr>\n",
       "    <tr>\n",
       "      <th>13</th>\n",
       "      <td>KIN3041</td>\n",
       "      <td>Disability Awareness</td>\n",
       "      <td>This course aims to introduce students to the ...</td>\n",
       "    </tr>\n",
       "    <tr>\n",
       "      <th>14</th>\n",
       "      <td>KIN3061</td>\n",
       "      <td>Advanced Biomechanics</td>\n",
       "      <td>Examines, through lecture and the use of lab-b...</td>\n",
       "    </tr>\n",
       "    <tr>\n",
       "      <th>15</th>\n",
       "      <td>KIN3161</td>\n",
       "      <td>Human Factors in Ergonomic Design</td>\n",
       "      <td>This course introduces the physical, biomechan...</td>\n",
       "    </tr>\n",
       "    <tr>\n",
       "      <th>16</th>\n",
       "      <td>KIN3041</td>\n",
       "      <td>Disability Awareness</td>\n",
       "      <td>This course aims to introduce students to the ...</td>\n",
       "    </tr>\n",
       "    <tr>\n",
       "      <th>17</th>\n",
       "      <td>KIN4063</td>\n",
       "      <td>Biomechanical Instrumentation and Data Acquisi...</td>\n",
       "      <td>Introduces advanced concepts in instrumentatio...</td>\n",
       "    </tr>\n",
       "    <tr>\n",
       "      <th>18</th>\n",
       "      <td>KIN4161</td>\n",
       "      <td>Occupational Biomechanics</td>\n",
       "      <td>This course will examine topics in applied erg...</td>\n",
       "    </tr>\n",
       "    <tr>\n",
       "      <th>19</th>\n",
       "      <td>KIN4162</td>\n",
       "      <td>Occupational Health and Safety for Ergonomists</td>\n",
       "      <td>This course will provide an overview of the oc...</td>\n",
       "    </tr>\n",
       "    <tr>\n",
       "      <th>20</th>\n",
       "      <td>KIN4163</td>\n",
       "      <td>Workplace Ergonomic Design and Analysis</td>\n",
       "      <td>The focus of this course is on the theoretical...</td>\n",
       "    </tr>\n",
       "    <tr>\n",
       "      <th>21</th>\n",
       "      <td>PHYS5993</td>\n",
       "      <td>Magnetic Resonance Imaging (O)</td>\n",
       "      <td>Role within programme and connections to other...</td>\n",
       "    </tr>\n",
       "  </tbody>\n",
       "</table>\n",
       "</div>"
      ],
      "text/plain": [
       "   Course Number                                        Course Name  \\\n",
       "0       APSC3953                    Basis of Biomedical Engineering   \n",
       "1         ME4860                              Senior Design Project   \n",
       "2       ENGG4000                             Senior Design Project    \n",
       "3        TME4025                     Product Design and Development   \n",
       "4        ME4173*                                   Robot Kinematics   \n",
       "5        ME4622*                         Human Factors Engineering    \n",
       "6        ME4703*                Mechanical Engineering Measurements   \n",
       "7        ME5173*                Advanced Kinematics of Manipulators   \n",
       "8        ME5223*                            Finite Element Analysis   \n",
       "9        ME5653*         Predictive Control and Intelligent Sensors   \n",
       "10       ME5913*                                     Biomechanics I   \n",
       "11        CS3025                         Human-Computer Interaction   \n",
       "12       ECE4343                                    Haptic Robotics   \n",
       "13       KIN3041                               Disability Awareness   \n",
       "14       KIN3061                              Advanced Biomechanics   \n",
       "15       KIN3161                  Human Factors in Ergonomic Design   \n",
       "16       KIN3041                               Disability Awareness   \n",
       "17       KIN4063  Biomechanical Instrumentation and Data Acquisi...   \n",
       "18       KIN4161                          Occupational Biomechanics   \n",
       "19       KIN4162     Occupational Health and Safety for Ergonomists   \n",
       "20       KIN4163            Workplace Ergonomic Design and Analysis   \n",
       "21      PHYS5993                     Magnetic Resonance Imaging (O)   \n",
       "\n",
       "                                   Course Description  \n",
       "0   This course introduces the general aspects of ...  \n",
       "1   A mechanical engineering design is developed a...  \n",
       "2   Full-year design course (fall and winter of sa...  \n",
       "3   Full-year Product Design and Development cours...  \n",
       "4   Structure and specification of robotic manipul...  \n",
       "5   An interdisciplinary study of the interaction ...  \n",
       "6   Discusses a variety of measurement techniques ...  \n",
       "7   Various methods for solving the forward and in...  \n",
       "8   Introduction to the basic concepts of finite e...  \n",
       "9   Study on the design and practical implementati...  \n",
       "10  A number of topics in biomechanics are examine...  \n",
       "11  Software design for interactive computing. Top...  \n",
       "12  Haptics is the science and technology of creat...  \n",
       "13  This course aims to introduce students to the ...  \n",
       "14  Examines, through lecture and the use of lab-b...  \n",
       "15  This course introduces the physical, biomechan...  \n",
       "16  This course aims to introduce students to the ...  \n",
       "17  Introduces advanced concepts in instrumentatio...  \n",
       "18  This course will examine topics in applied erg...  \n",
       "19  This course will provide an overview of the oc...  \n",
       "20  The focus of this course is on the theoretical...  \n",
       "21  Role within programme and connections to other...  "
      ]
     },
     "execution_count": 30,
     "metadata": {},
     "output_type": "execute_result"
    }
   ],
   "source": [
    "import pandas as pd\n",
    "\n",
    "df = pd.DataFrame({\n",
    "    \"Course Number\": course_codes,\n",
    "    \"Course Name\": course_names,\n",
    "    \"Course Description\": course_descs\n",
    "})\n",
    "\n",
    "df"
   ]
  },
  {
   "cell_type": "code",
   "execution_count": 31,
   "metadata": {
    "scrolled": true
   },
   "outputs": [],
   "source": [
    "df.to_csv('UNewBrunswick_MechEng_Biomedical_Option_Core_and_Electives_Courses.csv', index = False)"
   ]
  },
  {
   "cell_type": "code",
   "execution_count": 32,
   "metadata": {
    "scrolled": true
   },
   "outputs": [],
   "source": [
    "driver.quit()"
   ]
  }
 ],
 "metadata": {
  "kernelspec": {
   "display_name": "Python 3",
   "language": "python",
   "name": "python3"
  },
  "language_info": {
   "codemirror_mode": {
    "name": "ipython",
    "version": 3
   },
   "file_extension": ".py",
   "mimetype": "text/x-python",
   "name": "python",
   "nbconvert_exporter": "python",
   "pygments_lexer": "ipython3",
   "version": "3.8.5"
  }
 },
 "nbformat": 4,
 "nbformat_minor": 4
}
