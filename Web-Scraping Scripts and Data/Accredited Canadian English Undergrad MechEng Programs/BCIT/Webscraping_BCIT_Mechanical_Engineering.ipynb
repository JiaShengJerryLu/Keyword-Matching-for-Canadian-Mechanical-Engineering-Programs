{
 "cells": [
  {
   "cell_type": "code",
   "execution_count": 1,
   "metadata": {},
   "outputs": [],
   "source": [
    "from bs4 import BeautifulSoup as soup\n",
    "from urllib.request import urlopen as uReq"
   ]
  },
  {
   "cell_type": "code",
   "execution_count": 2,
   "metadata": {},
   "outputs": [],
   "source": [
    "url = \"https://www.bcit.ca/programs/mechanical-engineering-bachelor-of-engineering-full-time-8020beng/#courses\""
   ]
  },
  {
   "cell_type": "markdown",
   "metadata": {},
   "source": [
    "# 1. Obtain webpage html"
   ]
  },
  {
   "cell_type": "code",
   "execution_count": 3,
   "metadata": {},
   "outputs": [],
   "source": [
    "uClient = uReq(url)\n",
    "page_html = uClient.read()\n",
    "uClient.close()\n",
    "page_soup = soup(page_html, \"html.parser\")"
   ]
  },
  {
   "cell_type": "markdown",
   "metadata": {},
   "source": [
    "# 2. Look for course description containers"
   ]
  },
  {
   "cell_type": "code",
   "execution_count": 4,
   "metadata": {
    "scrolled": true
   },
   "outputs": [
    {
     "name": "stdout",
     "output_type": "stream",
     "text": [
      "57\n"
     ]
    }
   ],
   "source": [
    "course_description_containers = page_soup.findAll(\"div\",{\"class\":\"course_summary hidden\"})\n",
    "print(len(course_description_containers))"
   ]
  },
  {
   "cell_type": "code",
   "execution_count": 5,
   "metadata": {},
   "outputs": [
    {
     "data": {
      "text/plain": [
       "'This course provides a broad overview of the materials used in engineering, including metals, polymers and ceramics. Macroscopic properties, such as mechanical strength, elastic modulus and electrical conductivity, are dominated by structure and bonding. The microstructure of materials is examined and related to the macroscopic properties. The critical relationships between structure and properties will be studied for different classes of materials. Testing and measurement of mechanical properties will be performed in the laboratory sessions.'"
      ]
     },
     "execution_count": 5,
     "metadata": {},
     "output_type": "execute_result"
    }
   ],
   "source": [
    "course_description_containers[0].text"
   ]
  },
  {
   "cell_type": "markdown",
   "metadata": {},
   "source": [
    "# 3. Look for course name containers"
   ]
  },
  {
   "cell_type": "code",
   "execution_count": 6,
   "metadata": {},
   "outputs": [
    {
     "name": "stdout",
     "output_type": "stream",
     "text": [
      "57\n"
     ]
    }
   ],
   "source": [
    "course_name_containers = page_soup.findAll(\"strong\", {\"class\":\"course_name clicktoshow_off\"})\n",
    "print(len(course_name_containers))"
   ]
  },
  {
   "cell_type": "code",
   "execution_count": 7,
   "metadata": {},
   "outputs": [
    {
     "data": {
      "text/plain": [
       "'Engineering Materials 1'"
      ]
     },
     "execution_count": 7,
     "metadata": {},
     "output_type": "execute_result"
    }
   ],
   "source": [
    "course_name_containers[0].text"
   ]
  },
  {
   "cell_type": "markdown",
   "metadata": {},
   "source": [
    "# 4. Look for course code containers"
   ]
  },
  {
   "cell_type": "code",
   "execution_count": 8,
   "metadata": {
    "scrolled": true
   },
   "outputs": [
    {
     "name": "stdout",
     "output_type": "stream",
     "text": [
      "57\n"
     ]
    }
   ],
   "source": [
    "course_code_containers = page_soup.findAll(\"td\", {\"class\": \"course_number\"})\n",
    "print(len(course_code_containers))"
   ]
  },
  {
   "cell_type": "code",
   "execution_count": 9,
   "metadata": {},
   "outputs": [
    {
     "data": {
      "text/plain": [
       "'CHSC 1105'"
      ]
     },
     "execution_count": 9,
     "metadata": {},
     "output_type": "execute_result"
    }
   ],
   "source": [
    "course_code_containers[0].text"
   ]
  },
  {
   "cell_type": "markdown",
   "metadata": {},
   "source": [
    "# 5. Store course info into respective lists"
   ]
  },
  {
   "cell_type": "code",
   "execution_count": 10,
   "metadata": {
    "scrolled": true
   },
   "outputs": [
    {
     "data": {
      "text/plain": [
       "['Engineering Materials 1',\n",
       " 'Technical Communication 1 for Mechanical Engineering',\n",
       " 'Basic Technical Mathematics for Mechanical',\n",
       " 'Engineering Graphics 1',\n",
       " 'Energy Systems',\n",
       " 'Statics',\n",
       " 'Computer Applications and Programming',\n",
       " 'Engineering Materials 2',\n",
       " 'Calculus for Mechanical',\n",
       " 'Manufacturing Processes',\n",
       " 'Engineering Graphics 2',\n",
       " 'Strength of Materials',\n",
       " 'Dynamics',\n",
       " 'Physics for Mechanical',\n",
       " 'Electrical Equipment',\n",
       " 'Ordinary Differential Equations and Linear Systems for Mechanical Engineers',\n",
       " 'Fluid Mechanics',\n",
       " 'Machine Design 1',\n",
       " 'Computer Aided Engineering',\n",
       " 'Fluid Power 1',\n",
       " 'Engineering Management',\n",
       " 'Technical Communication 2 for Mechanical Engineering',\n",
       " 'Instrumentation for Mechanical Systems',\n",
       " 'Applied Differential Equations and Vector Calculus',\n",
       " 'Ethics for Technologists',\n",
       " 'Thermal Engineering',\n",
       " 'Machine Design 2',\n",
       " 'Mechanical Control Systems',\n",
       " 'Fluid Power 2',\n",
       " 'Engineering Design/Projects',\n",
       " 'Chemistry for Mechanical Engineering',\n",
       " 'Materials Engineering',\n",
       " 'Introduction to Professional Engineering',\n",
       " 'Probability and Statistics for Engineers',\n",
       " 'Thermodynamics',\n",
       " 'Mechanics and Mechanisms',\n",
       " 'Engineering Programming',\n",
       " 'Electronics and Microcontrollers',\n",
       " 'Control and Dynamic Systems',\n",
       " 'Environment, Energy and Engineering',\n",
       " 'Critical Reading and Writing',\n",
       " 'Numerical Methods',\n",
       " 'Fluid Mechanics 2',\n",
       " 'Mechanical Engineering Practicum',\n",
       " 'Mechanics of Solids',\n",
       " 'Heat Transfer',\n",
       " 'Mechanical Engineering Laboratory',\n",
       " 'Mechanical Vibrations',\n",
       " 'Capstone Project 1',\n",
       " 'Technology, Invention and Power',\n",
       " 'Technology and Society',\n",
       " 'Management Skills and Applications',\n",
       " 'Engineering Law Ethics and Professionalism',\n",
       " 'System Design',\n",
       " 'Capstone Project 2',\n",
       " 'Concurrent and Reliability Engineering',\n",
       " 'Building Systems']"
      ]
     },
     "execution_count": 10,
     "metadata": {},
     "output_type": "execute_result"
    }
   ],
   "source": [
    "course_names = [course_name_container.text for course_name_container in course_name_containers]\n",
    "course_names"
   ]
  },
  {
   "cell_type": "code",
   "execution_count": 11,
   "metadata": {
    "scrolled": true
   },
   "outputs": [
    {
     "data": {
      "text/plain": [
       "['CHSC 1105',\n",
       " 'COMM 1169',\n",
       " 'MATH 1491',\n",
       " 'MECH 1102',\n",
       " 'MECH 1120',\n",
       " 'MECH 1141',\n",
       " 'MECH 1171',\n",
       " 'CHSC 2205',\n",
       " 'MATH 2491',\n",
       " 'MECH 1210',\n",
       " 'MECH 2202',\n",
       " 'MECH 2240',\n",
       " 'MECH 2241',\n",
       " 'PHYS 2149',\n",
       " 'ELEX 2845',\n",
       " 'MATH 3499',\n",
       " 'MECH 3325',\n",
       " 'MECH 3340',\n",
       " 'MECH 3346',\n",
       " 'MECH 3355',\n",
       " 'MECH 3360',\n",
       " 'COMM 2269',\n",
       " 'ELEX 2835',\n",
       " 'MATH 4499',\n",
       " 'MECH 0460',\n",
       " 'MECH 4422',\n",
       " 'MECH 4440',\n",
       " 'MECH 4450',\n",
       " 'MECH 4455',\n",
       " 'MECH 4490',\n",
       " 'CHEM 7105',\n",
       " 'CHSC 7147',\n",
       " 'ENGR 3800',\n",
       " 'MATH 7195',\n",
       " 'MECH 7120',\n",
       " 'MECH 7142',\n",
       " 'MECH 7171',\n",
       " 'ELEX 7345',\n",
       " 'ELEX 7350',\n",
       " 'ENGR 7480',\n",
       " 'LIBS 7001',\n",
       " 'MATH 7295',\n",
       " 'MECH 7225',\n",
       " 'MECH 6090',\n",
       " 'MECH 7240',\n",
       " 'MECH 8120',\n",
       " 'MECH 8135',\n",
       " 'MECH 8145',\n",
       " 'MECH 8190',\n",
       " 'LIBS 7005',\n",
       " 'LIBS 7007',\n",
       " 'BUSA 7250',\n",
       " 'ENGR 7880',\n",
       " 'MECH 8230',\n",
       " 'MECH 8290',\n",
       " 'MECH 8242',\n",
       " 'MECH 8250']"
      ]
     },
     "execution_count": 11,
     "metadata": {},
     "output_type": "execute_result"
    }
   ],
   "source": [
    "course_codes = [course_code_container.text for course_code_container in course_code_containers]\n",
    "course_codes"
   ]
  },
  {
   "cell_type": "code",
   "execution_count": 12,
   "metadata": {},
   "outputs": [
    {
     "data": {
      "text/plain": [
       "['This course provides a broad overview of the materials used in engineering, including metals, polymers and ceramics. Macroscopic properties, such as mechanical strength, elastic modulus and electrical conductivity, are dominated by structure and bonding. The microstructure of materials is examined and related to the macroscopic properties. The critical relationships between structure and properties will be studied for different classes of materials. Testing and measurement of mechanical properties will be performed in the laboratory sessions.',\n",
       " 'COMM 1169 teaches the basic skills for effective writing and speaking in the field of engineering. The course covers the layout, content and graphic techniques for technical writing and speaking. Assignments include summaries, instructions, process and/or mechanism descriptions, professional emails, a work plan, critical assessments of secondary sources, and a team-based oral presentation on sustainability, renewable energy, or clean technology. Critical reflection, feedback opportunities, and oral/aural activities are embedded throughout lectures and labs. Interpersonal and intercultural communication are applied and practiced as students are placed in randomly chosen, structured co-operative teams. Detailed, team-based journal entries are written at the end of most lab classes and evaluated by the instructor.',\n",
       " 'Introduces differential calculus of polynomial functions including appropriate support topics from algebra, analytical geometry, plane geometry, trigonometry and the theory of logarithms and exponential functions. There will be strong emphasis on illustrating the mathematics with applications from technology, engineering and the physical sciences.',\n",
       " 'Introduces the techniques for interpreting and creating engineering drawings in accordance with Canadian Standards Association (CSA) drafting practices. Emphasis is on interpretation and the use of hand-sketching and basic drafting tools. The course also introduces the use of Computer Aided Design (CAD) application software for mechanical drawing using 3D solid modeling techniques. The course includes a project to sketch, model, and document a simple design.',\n",
       " 'This course covers basic thermal and fluid systems, processes and cycles. Topics covered include: pumps, compressors, engines, heaters, and coolers, energy transfer, fluid flow and the conversion of energy.',\n",
       " 'This course introduces the basics for the design and analysis of many types of structures and mechanical devices encountered in engineering. Topics include trigonometry, vector analysis, forces, moments, free body diagrams (FBD) and equilibrium, applied to the analysis of frames, trusses, machines, cable-pulley systems and systems with friction.',\n",
       " 'This course introduces computer software that is integral to all engineering disciplines, including word processing, presentation, spreadsheet, and CAD software. Students will learn to communicate effectively using formatted documents and presentations. Spreadsheet built-in functions and custom-developed macros will be used to solve engineering problems and to analyze and chart data. Students will be introduced to computer programming including flowcharts, pseudocode, and structured programming in Visual Basic.',\n",
       " 'This course continues from CHSC 1105 Engineering Materials 1. The engineering significance of interrelationships between processing methods, microstructure and properties is studied. The processing routes available for manufacturing stock and products from different materials are examined. Topics covered include: the metallurgy of steels and cast irons and the selection of alloy steels, cast-irons, non-ferrous alloys, polymers, composites, concrete and ceramics for practical applications. Common causes of service failures are discussed, including fatigue, embrittlement and corrosion. Laboratory sessions emphasize the use of mechanical testing, interpretation of microstructures and non-destructive testing, to facilitate understanding of the effects of processing on materials.Prerequisite(s): CHSC 1105',\n",
       " 'A continuation of the differential calculus that was presented in MATH 1491and an introduction to integral calculus. Transcendental functions; related rates; maxima and minima; areas and volumes; centroids and moments of inertia; calculation of work and force due to fluid pressure; ordinary differential equations. Maple will be used for problem solving and function visualization. There will be a strong emphasis on illustrating the mathematics with applications from technology, engineering and physical sciences.Prerequisite(s): MATH 1491',\n",
       " 'Covers the basics of major manufacturing methods used today. Topics include metal cutting, welding, forming, casting, plastics processing, methods of numerical control and robotics programming as well as methods of measurement and inspection. The course addresses the principles upon which modern manufacturing processes are based.',\n",
       " 'Covers topics in engineering graphics and computer aided design, with emphasis on the creation and management of models and drawings in a team environment. Topics include advanced part modeling, parametric models, dimensioning standards, tolerance and fits, geometric dimensioning and tolerancing (GD&T), 2D CAD drawings, blocks and attributes, external references, piping and HVAC drawings, and working drawing set creation.Prerequisite(s): MECH 1102',\n",
       " 'This course covers topics in strength of materials with emphasis on problem solving and with an introduction to design for safety of structural members, mechanical devices, and systems. Topics include stress, strain and deflection, tension, compression, shear, torsion, and buckling. Applications include beams, columns, shafts, thin, and thick-walled cylinders.Prerequisite(s): MECH 1141',\n",
       " \"Following the study of bodies in static equilibrium, this course introduces another aspect of engineering mechanics, namely dynamics. Dynamics consists of kinematics; a study of the geometry of motion, as well as kinetics; a study of the geometry of motion and associated forces. Kinetic analysis includes methods based on Newton's second law of motion, conservation of energy and conservation of momentum. For mechanical applications, the forces associated with motion are critical to the design of many types of structures and mechanical devices.Prerequisite(s): MECH 1141\",\n",
       " 'PHYS 2149 is an algebra-based physics course that addresses topics of special relevance to mechanical engineering. There are three major topic areas: Part 1 Electricity; Part 2 Magnetism; and Part 3 Waves and Light. The accompanying lab activities emphasize the proper techniques of measurement, experimentation, graphical data analysis, and error analysis. Practical applications of physics are discussed.Prerequisite(s): MATH 1491',\n",
       " 'This course shall serve to introduce electrical equipment and systems found in the industrial and commercial environment to students who can expect to encounter such hardware in the course of their careers. The course will address those topics of key concern to non-electrical personnel in the mechanical and process industries. These will include: Electrical transmissions, energy rate structure and demand charges, line loss, power factor and power quality; abnormal circuit conditions and circuit protection devices; transformer operation and applications; three-phase power and its advantages; AC motors and drives; electrical controls: switches, relays and programmable logic controllers (PLCs).Prerequisite(s): PHYS 2149',\n",
       " 'This course is a combination of vector and matrix algebra and an introduction to ordinary differential equations. It covers the basics of vectors - vector algebra, dot product, cross product – as well as solving systems of linear equations using methods such as Gaussian elimination and matrix inversion. Matrix algebra, linear transformations, eigenvalues and eigenvectors, similarity of matrices will all be covered. For differential equations, analytic solutions of first-order differential equations and higher-order differential equations with constant coefficients are discussed. Numerical solutions of initial value problems involving a single first-order differential equation and systems of first-order differential equations will be performed using appropriate computer tools such as Excel or Maple. For all course topics an emphasis will be placed on solving engineering problems.Prerequisite(s): Completion of Levels 1 and 2.',\n",
       " \"This course introduces topics in fluid mechanics. Topics covered include: fluid properties; energy losses; Reynold's number; Moody diagram; simple pipe networks, pumps, lift and drag and fluid statics. Laboratory sessions reinforce lecture material.Prerequisite(s): MECH 1120\",\n",
       " 'Introduces machine design, with emphasis on elementary design and analytical procedures for machine components. The course covers theories of failure, combined stresses, stress concentration, fatigue phenomena, welded and threaded connections. Problems are handles in both S.I. and Imperial units.Prerequisite(s): MECH 2240',\n",
       " 'The course introduces computer aided modelling, analysis, and simulation for mechanical components and assemblies. Engineering problems are solved by both manual calculations and computer modelling using commercial modelling and analysis software. Computer aided analysis and simulation include Finite Element Analysis (FEA), 3D frame analysis, part and assembly model analysis, and dynamic simulation.Prerequisite(s): MATH 2491 and MECH 2202 and MECH 2240',\n",
       " 'Introduces pneumatic and hydraulic power transmission systems, and their mechanical and electrical controls. Fluid power components, their symbols, function, and construction are examined, and used in the design and testing of related control circuits. Covers sizing calculations, maintenance, and troubleshooting of components and circuits.Prerequisite(s): MECH 1141 or PHYS 2164',\n",
       " 'This course introduces the common financial and managerial practices of business. Topics include: the economy, time value of money, economic decision analysis, labour relations, safety management and decision making.Prerequisite(s): MATH 1491 and MECH 1171',\n",
       " 'COMM 2269 is integrated and taught concurrently with the fourth-term project course in either the mechanical manufacturing, mechanical design, or mechanical systems option. The course is delivered primarily in a workshop style which enables students to work independently and strengthen self-regulatory behaviour. In COMM 2269, students explore the interpersonal, intercultural, and technical communication skills introduced in COMM 1169 more deeply. The semester-long process of bringing a project to life requires students to demonstrate resilience to constraints, experience uncertainty, synthesize concepts, connect information, and achieve fresh insights. Students may create new knowledge or achieve innovation. COMM 2269 covers the following topics: research skills and documentation systems, formal reports, progress reports, meeting documentation, teamwork strategies, professional job package, techniques for effective visual design, and professional technical presentations. Students receive and have the opportunity to respond to verbal and written feedback on their project as the course progresses. Depending on the nature and scope of the final project, reports and oral presentations may be prepared and submitted in collaborative teams. Culminating outcomes for COMM 2269 are the final technical report, final technical presentation, final critical reflections, and participation in the Engineering Project Expo (all engineering project showcase).Prerequisite(s): COMM 1169',\n",
       " 'Introduces basic instruments used for measuring pressure, temperature, level, density and flow. Instrument static and dynamic performance. Instrument application to industrial processes. Design of pneumatic and hydraulic measurement and control equipment using high-gain amplifiers and negative feedback. Basic principles of automatic control, process dynamic behaviour and controllability. On/off, proportional, integral and derivative control. Control strategy. Ratio, cascade, multivariable and feed forward systems. Introduction to computer control.Prerequisite(s): PHYS 2149',\n",
       " \"Analytic solutions of first-order and linear second-order differential equations are covered. Eigenvalue methods are employed to solve systems of homogeneous differential equations and extended to the inhomogeneous case. Series solutions to higher-order differential equations with non-constant coefficients and Laplace transform methods for initial value problems are developed. Partial differential equations are introduced and solved using Fourier integral methods under a variety of boundary conditions. Vector functions and their associated operations are introduced, starting with differential operations (i.e. curl and divergence) and then integral operations (i.e. line integrals, surface integrals) including Stokes', Green's and Divergence theorems. The emphasis of the material is on its use in areas such as fluid flow and mechanics of solids. The laboratory component of the course emphasizes engineering applications in mechanical vibrations, control systems, robotics, fluid dynamics, material mechanics and system modelling. A computing tool such as Maple or MatLab is used throughout.Prerequisite(s): MATH 3499\",\n",
       " 'This course introduces the ASTTBC Code of Ethics & Practice Guidelines and will familiarize the student with the principles of professional conduct in the field of applied science technology. The course consists of mandatory seminars accompanied by on-line review and testing. This course is a requirement for graduation.',\n",
       " 'This course is concerned with the topics of energy, heat and work. A practical and rigorous presentation of the first and second laws of thermodynamics will be presented. The concept of a thermodynamic cycle will be introduced. Several working fluids, including steam will be studied. These concepts will be used to analyze various energy systems including power generation, internal combustion engines, and refrigeration cycles. Heat transfer analysis is presented; including heat conduction in solids and analysis of fins, forced convection heat transfer in and around circular pipes and the analysis of heat exchangers. The concepts of humidity and saturation will be introduced and used to analyze air conditioning systems.Prerequisite(s): MECH 1120',\n",
       " 'Continues from MECH 3340. Covers couplings, brakes and clutches, anti-friction and journal bearings, helical, bevel and worm gearing, power screws, springs and machine assembly topics. Introduction to mechanical vibrations with emphasis on critical speeds of rotating bodies. Introduction to bulk materials handling systems.Prerequisite(s): MECH 2241 and MECH 3340',\n",
       " 'Presents descriptions of components in a programmable logic controller (PLC). Create ladder logic diagrams and use high-level softwares for programming a PLC. Selection of hardware components such as encoders, proximity sensors and actuators. Study of DC motor characteristics and load requirements. Compares open and closed loop systems.Prerequisite(s): ELEX 2845',\n",
       " 'Describes and analyses complex hydraulic and pneumatic components and their applications. Discusses hydrostatic transmissions, advanced hydraulic controls, and methods of improving system efficiency. Introduces the use of electronic controls in hydraulic and pneumatic circuits.Prerequisite(s): MECH 3355',\n",
       " 'The typical engineering design process is covered, including the identification of customer needs, problem definition, development of product specifications, and conceptual design generation/selection techniques. Other topics include design project management, tolerance analysis, Design for Manufacturing and Assembly (DFMA), Design for Environment (DFE), Design for Safety (DFS), Failure Modes and Effects Analysis (FMEA), product design economics, prototyping, and patent/intellectual property. Students will concurrently apply the design process to a design project. A project proposal will be developed and presented. A technical report and where applicable, a prototype of the design will be created and presented.Prerequisite(s): ELEX 2845 and MECH 3340 and MECH 3346 and MECH 3355 and COMM 2269** (** must be taken concurrently)',\n",
       " 'This course provides an overview of the basic principles in general chemistry with practical applications. Topics covered include: atomic structure, theories of chemical bonding and molecular structure, stoichiometry, physical properties of molecules and materials, chemical equilibrium, electrochemistry, principles of chemical kinetics, and an introduction to organic chemistry. The material shows the relevance of chemistry in engineering emphasizing true problem solving over algebraic mastery.',\n",
       " 'This course builds on the basics of heat treatment, failure analysis and materials properties learned in Engineering Materials 1 and 2. It provides a comparison of materials, as well as an overview of the latest advances in materials, emphasizing the relationship among material properties, microstructure and optimum material selection for design applications. Topics to be covered include: a review of key engineering properties and their measurement; design concepts, sources of material property data; the methodology of materials selection; assessment and optimization of performance; material processing and manufacturing issues, and the role of failure analysis in facilitating / improving design. Case studies in engineering material and process selection as well as failure analysis will also be examined.Prerequisite(s): CHSC 2205',\n",
       " 'This course explores the practice of engineering and the role of engineers in society. Topics include professional associations, ethics, equity, design and development, standards, and intellectual property. Prerequisite(s): Electrical: COMM 1143 and COMM 1243, Mechanical: COMM 2269, Mining: COMM 2451Prerequisite(s): (COMM 1143 and COMM 1243) or COMM 2269 or COMM 2451',\n",
       " \"Descriptive data analysis also including run charts, Pareto, and process capability. Calculus of relevant probability distribution models. Applications to reliability and operating characteristic (OC) curves. Large and small sample estimation and hypothesis testing. Linear regression and correlation. Introduction to acceptance sampling and statistical process control (SPC) applications. Goodness of fit tests and one-way analysis of variance (ANOVA). A calculator and statistical software package will be utilized. This course provides a solid foundation in statistics and SPC for students challenging the American Society for Quality's Certified Quality Engineer Examination.Prerequisite(s): Entry in 3rd year of Mechanic B.Eng.\",\n",
       " 'Builds on Thermal Engineering. Topics covered include: differential thermodynamic property relation such as Maxwell relations; Joule-Thompson coefficient; properties of real gasses; gas power cycles; Chemical equilibrium and combustion.Prerequisite(s): MECH 4422',\n",
       " '\\u200bThis course is a continuation from the fundamentals of static equilibrium, and kinematic and kinetic analysis introduced in Statics and Dynamics, with the inclusion of mechanism analysis. Differential calculus and vector notation are applied in the analysis of static equilibrium, and kinematics and kinetics of particles, rigid bodies, and multi-dimensional mechanisms, in common coordinate systems. Solutions in multi-dimensional mechanics are analytically derived from first principles.Prerequisite(s): MECH 2241',\n",
       " 'In this course students will develop efficient, modular, well-documented programs with consistent style. Topics include logical algorithm development, code formatting and commenting, constants and variables, conditional logic, loops, arrays, structures, pointers, strings, file I/O, functions, and dynamic memory allocation. Students will develop programs that are typical in an engineering environment and develop debugging skills.Prerequisite(s): MECH 1171',\n",
       " 'This course develops the skills mechanical engineers need to interact with electronic systems, primarily in embedded applications. The bulk of the course deals with microcontrollers including: memory, assembly language, C programming, memory-mapped I/O, parallel and serial I/O, interrupts, and timers. Also, the design of operational amplifier circuits for signal conditioning is covered including: ideal op-amps in inverting, non-inverting, summing, and differential configurations; practical op-amps; and simple filters.Prerequisite(s): MECH 7171',\n",
       " 'This course builds on the control theory in previous courses and gives students the tools used in industry to analyse complex control problems. Starting with the modeling of mechanical, electrical and thermo-fluid dynamic systems using differential equations the course moves through the use of Laplace transforms to the analysis of control systems using root locus and frequency response methods. The design of compensation is introduced with applications in the laboratory. Common engineering software (Matlab and Simulink) are used throughout the course to model, design and evaluate control system performance.',\n",
       " '\\u200bThe course deals with environmental problems, Green House Gas (GHG) emissions and effects, sustainable energy and their resources and effects, the scientific background needed to understand these issues, and the role of engineers in solving relevant challenges. Topics covered include the science of global warming, ecology, energy resources, energy production and consumption, clean energy technology and systems, hazardous wastes, and environmental effects of product life cycles. Students will use knowledge learned to complete projects aimed at sustainable design. The scientific relationships among environmental issues, the need for clean/renewable energy, and sustainable engineering practice and design will be established and explained.Prerequisite(s): CHEM 7105 or (CHEM 3615 and MECH 4640)',\n",
       " 'This is a course in advanced composition and rhetoric, in which students will develop skills in complex critical analysis and interpretation by analyzing and evaluating materials from a variety of discourses or genres, including visual, online, and print; developing and writing essays, including critiques and research papers; applying and discussing principles of rhetoric and critical theory; examining and using methods of interpretation and analysis from the humanities and social sciences; evaluating the credibility of primary and secondary sources, including as it applies to media literacy, and for the purposes of academic research; situating discourses within their historical context and relevant to rhetorical theories of different periods (for example, Aristotle in the ancient world and Bakhtin in the twentieth century). The course format will include lecture, discussion, and both individual and group activities.Prerequisite(s): BCIT ENGL 1177 or (equivalent), OR 6 credits BCIT Communication at 1100-level or above.',\n",
       " 'The course extends the introduction of numerical methods in MATH 3499 to more advanced algorithms and an analysis of error, convergence and stability. Topics covered include the numerical solution of initial- and boundary-value problems involving ordinary differential equations; an introduction to partial derivatives; the numerical solution of partial differential equations of engineering interest; matrix decomposition methods and numerical methods for linear algebra.Prerequisite(s): MECH 7171',\n",
       " '\\u200bThis course covers select topics in fluid mechanics. Topics include control-volume analysis, governing equations in differential form (Navier-Stokes equations), stream function, vorticity, and velocity potential, flow past immersed bodies, boundary layer theory and compressible flow.Prerequisite(s): MECH 3325 and MECH 7171',\n",
       " '\\u200bThis course enhances the educational experience by integrating academic studies with relevant work experience. Work terms are paid, temporary, full-time jobs where students complete productive work that relates directly to the core competencies of the Mechanical Engineering program. Job postings are approved by the BCIT Co-op Coordinator.Prerequisite(s): Enrolled in year 3 of Mechanical Engineering',\n",
       " 'Represents a second course in strength of materials and introduces calculus in the conceptual representation of stress, strain and deflection, tension, compression, shear, torsion, deflection and buckling of material under load. Additional topics included are: stress/strain transformations; analysis of stress-strain relations, exact and approximate solutions bending of beams; bending of curved beams; torsion of prismatic bars, axisymetrically loaded members; energy methods; elastic stability, and plastic behaviour of materials. Buckling and stability of structures is also introduced and experimental strain measurement is covered by lectures and laboratory sessions.',\n",
       " 'This course extends the heat transfer analysis introduced in Thermodynamics and Fluid Mechanics. Topics covered include: Derivation of the general conduction equation, Multi-dimensional steady-state conduction; Transient conduction; External forced convection; Internal forced convection; Free convection; Heat transfer by radiation. The course also covers finite difference methods for steady state and transient heat transfer analysis.Prerequisite(s): MECH 7120 and MECH 7225',\n",
       " \"This course allows students to perform experiments in Mechanical Engineering. Students will be expected to apply their knowledge of Instrumentation, Measurement and Electronics to the measurement of forces, strain, pressure, temperature, flow, and other process parameters to draw conclusions based on their knowledge of heat transfer, thermodynamics, strength of materials, vibrations and fluid mechanics obtained in their other courses. The lecture portion of this course reviews and synthesizes students' knowledge of measurements and shows how these concepts apply to mechanical engineering. These concepts are directly applied in the laboratory component of the course.Prerequisite(s): ELEX 7345 and MATH 7295\",\n",
       " \"This course aims to develop students' fundamental knowledge and understanding of free and forced vibration of mechanical systems with and without damping, including steady state and transient vibrations; vibration of multi-degree of freedom systems; vibration isolation and modal analysis, vibration of continuous systems and beam vibrations. Introduction of Lagrange's equation for mechanical systems is also discussed. Common engineering software packages are used throughout the course to model, design and evaluate system performance.Prerequisite(s): MECH 7142\",\n",
       " 'This course covers project management for the engineering profession with reference to the project life cycle; project stakeholders; organizational influences; key general management skills; social-economic-environmental influences. A detailed elaboration is presented of the management processes associated with the initiating, planning, controlling executing and closing phases of a project. Students will be expected to apply the principles covered in this course to their Capstone Project.Prerequisite(s): Substantial completion of Level 5 and 6.',\n",
       " \"From ancient Greek myth to modern science fiction, Western culture's depictions of the power of technology have shaped our contemporary views. By analysing selected works of literature, film, TV and Internet sites from different historical periods, students will explore continuities and changes in depictions of technology and its transformative powers.Prerequisite(s): BCIT ENGL 1177, or 6 credits BCIT Communication at 1100-level or above, or 3 credits of a university/college first-year social science or humanities course.\",\n",
       " 'This course will explore the interrelationship between technology and society. The course will focus on how societal forces shape and are shaped by the meanings, development, spread, and uses of technology. Concepts, perspectives, and arguments from the social sciences and humanities will be studied and applied to analyze connections between society and technology.Prerequisite(s): BCIT ENGL 1177, or 6 credits BCIT Communication at 1100-level or above, or 3 credits of a university/college first-year social science or humanities course.',\n",
       " 'The course provides an overview of the basic skills of a manager and applies these skills through a series of projects and case studies. It examines the evolution of management and the organizational culture and environment. It also teaches the decision-making skills and the skills involved in planning, organizing, leading and controlling, including planning and facilitating change, teamwork, applying motivational techniques and effective communication.',\n",
       " 'This course addresses key issues in engineering law, ethics and professionalism. The course content promotes critical thinking about legal, moral, and ethical issues that electrical engineers face. Topics covered include contracts, torts, partnerships, liens, engineering liability, patents, copyrights, trademarks, hazards, standards, safety and legal and ethical concerns related to use of computer hardware and software. It also includes ethical principles in professional employment, engineering management, private practice, and consulting. It addresses the roles and responsibilities of the electrical engineer related to environmental stewardship, and the impact of electrical engineering practice on the environment. Finally, it covers the roles and responsibilities of professional engineering organizations, and the ritual of the calling of the Engineer.Prerequisite(s): ENGR 3800',\n",
       " 'This course covers the modeling, analysis, and design of real-world dynamic systems composed of mechanical, electrical, and thermal-fluid elements. Emphasis is placed on the of exchange of energy and power between the different system elements. Power flow diagrams known as bond graphs are developed and used to generate a set of state-based equations, which are solved using Matlab. Students learn to develop, verify, analyze, and design multi-component models of electro-mechanical systems, culminating in a group design project.Prerequisite(s): ELEX 7350 and MATH 7295',\n",
       " 'Provides the student with an opportunity to integrate and synthesize knowledge gained throughout their program to satisfy specific objectives and requirements. This two term course may take one of the following forms: 1) Group or individual design project: where groups contribute to the solution of a design project, and individuals specialize in various aspects of the design.2) Individual research project: original research or experimentation. Group or Individual project: involving design and analysis of an engineering system, typically posed by a company or organization.Prerequisite(s): MECH 8190',\n",
       " 'Introduces concurrent and reliability engineering and examines their application through study of the product and production process development models. Practical aspects of design for reliability are covered utilizing statistical modeling and prediction, data analysis, and testing. Design for manufacture and assembly, product life-cycle analysis and associated environmental concerns, are covered as integral components of concurrent and reliability engineering. Students will complete a design project.Prerequisite(s): MATH 7195',\n",
       " 'This course covers the integrated mechanical systems for buildings including HVAC, plumbing and fire protection systems. It includes the applications of heat and mass transfer for the design of building HVAC systems, an overview of the multi-discipline engineering building design process and an overview of building plumbing and fire protection systems engineering. Students will complete a design project.Prerequisite(s): MECH 8120']"
      ]
     },
     "execution_count": 12,
     "metadata": {},
     "output_type": "execute_result"
    }
   ],
   "source": [
    "course_descs = [course_description_container.text for course_description_container in course_description_containers]\n",
    "course_descs"
   ]
  },
  {
   "cell_type": "code",
   "execution_count": 18,
   "metadata": {},
   "outputs": [],
   "source": [
    "course_descs = [desc.replace(\"\\u200b\", \"\") for desc in course_descs]"
   ]
  },
  {
   "cell_type": "code",
   "execution_count": 19,
   "metadata": {
    "scrolled": true
   },
   "outputs": [
    {
     "data": {
      "text/plain": [
       "57"
      ]
     },
     "execution_count": 19,
     "metadata": {},
     "output_type": "execute_result"
    }
   ],
   "source": [
    "len(course_codes)"
   ]
  },
  {
   "cell_type": "code",
   "execution_count": 20,
   "metadata": {},
   "outputs": [
    {
     "data": {
      "text/plain": [
       "57"
      ]
     },
     "execution_count": 20,
     "metadata": {},
     "output_type": "execute_result"
    }
   ],
   "source": [
    "len(list(dict.fromkeys(course_codes))) #check for duplicates"
   ]
  },
  {
   "cell_type": "markdown",
   "metadata": {},
   "source": [
    "# 6. Write to csv"
   ]
  },
  {
   "cell_type": "code",
   "execution_count": 21,
   "metadata": {},
   "outputs": [
    {
     "data": {
      "text/html": [
       "<div>\n",
       "<style scoped>\n",
       "    .dataframe tbody tr th:only-of-type {\n",
       "        vertical-align: middle;\n",
       "    }\n",
       "\n",
       "    .dataframe tbody tr th {\n",
       "        vertical-align: top;\n",
       "    }\n",
       "\n",
       "    .dataframe thead th {\n",
       "        text-align: right;\n",
       "    }\n",
       "</style>\n",
       "<table border=\"1\" class=\"dataframe\">\n",
       "  <thead>\n",
       "    <tr style=\"text-align: right;\">\n",
       "      <th></th>\n",
       "      <th>Course Number</th>\n",
       "      <th>Course Name</th>\n",
       "      <th>Course Description</th>\n",
       "    </tr>\n",
       "  </thead>\n",
       "  <tbody>\n",
       "    <tr>\n",
       "      <th>0</th>\n",
       "      <td>CHSC 1105</td>\n",
       "      <td>Engineering Materials 1</td>\n",
       "      <td>This course provides a broad overview of the m...</td>\n",
       "    </tr>\n",
       "    <tr>\n",
       "      <th>1</th>\n",
       "      <td>COMM 1169</td>\n",
       "      <td>Technical Communication 1 for Mechanical Engin...</td>\n",
       "      <td>COMM 1169 teaches the basic skills for effecti...</td>\n",
       "    </tr>\n",
       "    <tr>\n",
       "      <th>2</th>\n",
       "      <td>MATH 1491</td>\n",
       "      <td>Basic Technical Mathematics for Mechanical</td>\n",
       "      <td>Introduces differential calculus of polynomial...</td>\n",
       "    </tr>\n",
       "    <tr>\n",
       "      <th>3</th>\n",
       "      <td>MECH 1102</td>\n",
       "      <td>Engineering Graphics 1</td>\n",
       "      <td>Introduces the techniques for interpreting and...</td>\n",
       "    </tr>\n",
       "    <tr>\n",
       "      <th>4</th>\n",
       "      <td>MECH 1120</td>\n",
       "      <td>Energy Systems</td>\n",
       "      <td>This course covers basic thermal and fluid sys...</td>\n",
       "    </tr>\n",
       "    <tr>\n",
       "      <th>5</th>\n",
       "      <td>MECH 1141</td>\n",
       "      <td>Statics</td>\n",
       "      <td>This course introduces the basics for the desi...</td>\n",
       "    </tr>\n",
       "    <tr>\n",
       "      <th>6</th>\n",
       "      <td>MECH 1171</td>\n",
       "      <td>Computer Applications and Programming</td>\n",
       "      <td>This course introduces computer software that ...</td>\n",
       "    </tr>\n",
       "    <tr>\n",
       "      <th>7</th>\n",
       "      <td>CHSC 2205</td>\n",
       "      <td>Engineering Materials 2</td>\n",
       "      <td>This course continues from CHSC 1105 Engineeri...</td>\n",
       "    </tr>\n",
       "    <tr>\n",
       "      <th>8</th>\n",
       "      <td>MATH 2491</td>\n",
       "      <td>Calculus for Mechanical</td>\n",
       "      <td>A continuation of the differential calculus th...</td>\n",
       "    </tr>\n",
       "    <tr>\n",
       "      <th>9</th>\n",
       "      <td>MECH 1210</td>\n",
       "      <td>Manufacturing Processes</td>\n",
       "      <td>Covers the basics of major manufacturing metho...</td>\n",
       "    </tr>\n",
       "    <tr>\n",
       "      <th>10</th>\n",
       "      <td>MECH 2202</td>\n",
       "      <td>Engineering Graphics 2</td>\n",
       "      <td>Covers topics in engineering graphics and comp...</td>\n",
       "    </tr>\n",
       "    <tr>\n",
       "      <th>11</th>\n",
       "      <td>MECH 2240</td>\n",
       "      <td>Strength of Materials</td>\n",
       "      <td>This course covers topics in strength of mater...</td>\n",
       "    </tr>\n",
       "    <tr>\n",
       "      <th>12</th>\n",
       "      <td>MECH 2241</td>\n",
       "      <td>Dynamics</td>\n",
       "      <td>Following the study of bodies in static equili...</td>\n",
       "    </tr>\n",
       "    <tr>\n",
       "      <th>13</th>\n",
       "      <td>PHYS 2149</td>\n",
       "      <td>Physics for Mechanical</td>\n",
       "      <td>PHYS 2149 is an algebra-based physics course t...</td>\n",
       "    </tr>\n",
       "    <tr>\n",
       "      <th>14</th>\n",
       "      <td>ELEX 2845</td>\n",
       "      <td>Electrical Equipment</td>\n",
       "      <td>This course shall serve to introduce electrica...</td>\n",
       "    </tr>\n",
       "    <tr>\n",
       "      <th>15</th>\n",
       "      <td>MATH 3499</td>\n",
       "      <td>Ordinary Differential Equations and Linear Sys...</td>\n",
       "      <td>This course is a combination of vector and mat...</td>\n",
       "    </tr>\n",
       "    <tr>\n",
       "      <th>16</th>\n",
       "      <td>MECH 3325</td>\n",
       "      <td>Fluid Mechanics</td>\n",
       "      <td>This course introduces topics in fluid mechani...</td>\n",
       "    </tr>\n",
       "    <tr>\n",
       "      <th>17</th>\n",
       "      <td>MECH 3340</td>\n",
       "      <td>Machine Design 1</td>\n",
       "      <td>Introduces machine design, with emphasis on el...</td>\n",
       "    </tr>\n",
       "    <tr>\n",
       "      <th>18</th>\n",
       "      <td>MECH 3346</td>\n",
       "      <td>Computer Aided Engineering</td>\n",
       "      <td>The course introduces computer aided modelling...</td>\n",
       "    </tr>\n",
       "    <tr>\n",
       "      <th>19</th>\n",
       "      <td>MECH 3355</td>\n",
       "      <td>Fluid Power 1</td>\n",
       "      <td>Introduces pneumatic and hydraulic power trans...</td>\n",
       "    </tr>\n",
       "    <tr>\n",
       "      <th>20</th>\n",
       "      <td>MECH 3360</td>\n",
       "      <td>Engineering Management</td>\n",
       "      <td>This course introduces the common financial an...</td>\n",
       "    </tr>\n",
       "    <tr>\n",
       "      <th>21</th>\n",
       "      <td>COMM 2269</td>\n",
       "      <td>Technical Communication 2 for Mechanical Engin...</td>\n",
       "      <td>COMM 2269 is integrated and taught concurrentl...</td>\n",
       "    </tr>\n",
       "    <tr>\n",
       "      <th>22</th>\n",
       "      <td>ELEX 2835</td>\n",
       "      <td>Instrumentation for Mechanical Systems</td>\n",
       "      <td>Introduces basic instruments used for measurin...</td>\n",
       "    </tr>\n",
       "    <tr>\n",
       "      <th>23</th>\n",
       "      <td>MATH 4499</td>\n",
       "      <td>Applied Differential Equations and Vector Calc...</td>\n",
       "      <td>Analytic solutions of first-order and linear s...</td>\n",
       "    </tr>\n",
       "    <tr>\n",
       "      <th>24</th>\n",
       "      <td>MECH 0460</td>\n",
       "      <td>Ethics for Technologists</td>\n",
       "      <td>This course introduces the ASTTBC Code of Ethi...</td>\n",
       "    </tr>\n",
       "    <tr>\n",
       "      <th>25</th>\n",
       "      <td>MECH 4422</td>\n",
       "      <td>Thermal Engineering</td>\n",
       "      <td>This course is concerned with the topics of en...</td>\n",
       "    </tr>\n",
       "    <tr>\n",
       "      <th>26</th>\n",
       "      <td>MECH 4440</td>\n",
       "      <td>Machine Design 2</td>\n",
       "      <td>Continues from MECH 3340. Covers couplings, br...</td>\n",
       "    </tr>\n",
       "    <tr>\n",
       "      <th>27</th>\n",
       "      <td>MECH 4450</td>\n",
       "      <td>Mechanical Control Systems</td>\n",
       "      <td>Presents descriptions of components in a progr...</td>\n",
       "    </tr>\n",
       "    <tr>\n",
       "      <th>28</th>\n",
       "      <td>MECH 4455</td>\n",
       "      <td>Fluid Power 2</td>\n",
       "      <td>Describes and analyses complex hydraulic and p...</td>\n",
       "    </tr>\n",
       "    <tr>\n",
       "      <th>29</th>\n",
       "      <td>MECH 4490</td>\n",
       "      <td>Engineering Design/Projects</td>\n",
       "      <td>The typical engineering design process is cove...</td>\n",
       "    </tr>\n",
       "    <tr>\n",
       "      <th>30</th>\n",
       "      <td>CHEM 7105</td>\n",
       "      <td>Chemistry for Mechanical Engineering</td>\n",
       "      <td>This course provides an overview of the basic ...</td>\n",
       "    </tr>\n",
       "    <tr>\n",
       "      <th>31</th>\n",
       "      <td>CHSC 7147</td>\n",
       "      <td>Materials Engineering</td>\n",
       "      <td>This course builds on the basics of heat treat...</td>\n",
       "    </tr>\n",
       "    <tr>\n",
       "      <th>32</th>\n",
       "      <td>ENGR 3800</td>\n",
       "      <td>Introduction to Professional Engineering</td>\n",
       "      <td>This course explores the practice of engineeri...</td>\n",
       "    </tr>\n",
       "    <tr>\n",
       "      <th>33</th>\n",
       "      <td>MATH 7195</td>\n",
       "      <td>Probability and Statistics for Engineers</td>\n",
       "      <td>Descriptive data analysis also including run c...</td>\n",
       "    </tr>\n",
       "    <tr>\n",
       "      <th>34</th>\n",
       "      <td>MECH 7120</td>\n",
       "      <td>Thermodynamics</td>\n",
       "      <td>Builds on Thermal Engineering. Topics covered ...</td>\n",
       "    </tr>\n",
       "    <tr>\n",
       "      <th>35</th>\n",
       "      <td>MECH 7142</td>\n",
       "      <td>Mechanics and Mechanisms</td>\n",
       "      <td>This course is a continuation from the fundame...</td>\n",
       "    </tr>\n",
       "    <tr>\n",
       "      <th>36</th>\n",
       "      <td>MECH 7171</td>\n",
       "      <td>Engineering Programming</td>\n",
       "      <td>In this course students will develop efficient...</td>\n",
       "    </tr>\n",
       "    <tr>\n",
       "      <th>37</th>\n",
       "      <td>ELEX 7345</td>\n",
       "      <td>Electronics and Microcontrollers</td>\n",
       "      <td>This course develops the skills mechanical eng...</td>\n",
       "    </tr>\n",
       "    <tr>\n",
       "      <th>38</th>\n",
       "      <td>ELEX 7350</td>\n",
       "      <td>Control and Dynamic Systems</td>\n",
       "      <td>This course builds on the control theory in pr...</td>\n",
       "    </tr>\n",
       "    <tr>\n",
       "      <th>39</th>\n",
       "      <td>ENGR 7480</td>\n",
       "      <td>Environment, Energy and Engineering</td>\n",
       "      <td>The course deals with environmental problems, ...</td>\n",
       "    </tr>\n",
       "    <tr>\n",
       "      <th>40</th>\n",
       "      <td>LIBS 7001</td>\n",
       "      <td>Critical Reading and Writing</td>\n",
       "      <td>This is a course in advanced composition and r...</td>\n",
       "    </tr>\n",
       "    <tr>\n",
       "      <th>41</th>\n",
       "      <td>MATH 7295</td>\n",
       "      <td>Numerical Methods</td>\n",
       "      <td>The course extends the introduction of numeric...</td>\n",
       "    </tr>\n",
       "    <tr>\n",
       "      <th>42</th>\n",
       "      <td>MECH 7225</td>\n",
       "      <td>Fluid Mechanics 2</td>\n",
       "      <td>This course covers select topics in fluid mech...</td>\n",
       "    </tr>\n",
       "    <tr>\n",
       "      <th>43</th>\n",
       "      <td>MECH 6090</td>\n",
       "      <td>Mechanical Engineering Practicum</td>\n",
       "      <td>This course enhances the educational experienc...</td>\n",
       "    </tr>\n",
       "    <tr>\n",
       "      <th>44</th>\n",
       "      <td>MECH 7240</td>\n",
       "      <td>Mechanics of Solids</td>\n",
       "      <td>Represents a second course in strength of mate...</td>\n",
       "    </tr>\n",
       "    <tr>\n",
       "      <th>45</th>\n",
       "      <td>MECH 8120</td>\n",
       "      <td>Heat Transfer</td>\n",
       "      <td>This course extends the heat transfer analysis...</td>\n",
       "    </tr>\n",
       "    <tr>\n",
       "      <th>46</th>\n",
       "      <td>MECH 8135</td>\n",
       "      <td>Mechanical Engineering Laboratory</td>\n",
       "      <td>This course allows students to perform experim...</td>\n",
       "    </tr>\n",
       "    <tr>\n",
       "      <th>47</th>\n",
       "      <td>MECH 8145</td>\n",
       "      <td>Mechanical Vibrations</td>\n",
       "      <td>This course aims to develop students' fundamen...</td>\n",
       "    </tr>\n",
       "    <tr>\n",
       "      <th>48</th>\n",
       "      <td>MECH 8190</td>\n",
       "      <td>Capstone Project 1</td>\n",
       "      <td>This course covers project management for the ...</td>\n",
       "    </tr>\n",
       "    <tr>\n",
       "      <th>49</th>\n",
       "      <td>LIBS 7005</td>\n",
       "      <td>Technology, Invention and Power</td>\n",
       "      <td>From ancient Greek myth to modern science fict...</td>\n",
       "    </tr>\n",
       "    <tr>\n",
       "      <th>50</th>\n",
       "      <td>LIBS 7007</td>\n",
       "      <td>Technology and Society</td>\n",
       "      <td>This course will explore the interrelationship...</td>\n",
       "    </tr>\n",
       "    <tr>\n",
       "      <th>51</th>\n",
       "      <td>BUSA 7250</td>\n",
       "      <td>Management Skills and Applications</td>\n",
       "      <td>The course provides an overview of the basic s...</td>\n",
       "    </tr>\n",
       "    <tr>\n",
       "      <th>52</th>\n",
       "      <td>ENGR 7880</td>\n",
       "      <td>Engineering Law Ethics and Professionalism</td>\n",
       "      <td>This course addresses key issues in engineerin...</td>\n",
       "    </tr>\n",
       "    <tr>\n",
       "      <th>53</th>\n",
       "      <td>MECH 8230</td>\n",
       "      <td>System Design</td>\n",
       "      <td>This course covers the modeling, analysis, and...</td>\n",
       "    </tr>\n",
       "    <tr>\n",
       "      <th>54</th>\n",
       "      <td>MECH 8290</td>\n",
       "      <td>Capstone Project 2</td>\n",
       "      <td>Provides the student with an opportunity to in...</td>\n",
       "    </tr>\n",
       "    <tr>\n",
       "      <th>55</th>\n",
       "      <td>MECH 8242</td>\n",
       "      <td>Concurrent and Reliability Engineering</td>\n",
       "      <td>Introduces concurrent and reliability engineer...</td>\n",
       "    </tr>\n",
       "    <tr>\n",
       "      <th>56</th>\n",
       "      <td>MECH 8250</td>\n",
       "      <td>Building Systems</td>\n",
       "      <td>This course covers the integrated mechanical s...</td>\n",
       "    </tr>\n",
       "  </tbody>\n",
       "</table>\n",
       "</div>"
      ],
      "text/plain": [
       "   Course Number                                        Course Name  \\\n",
       "0      CHSC 1105                            Engineering Materials 1   \n",
       "1      COMM 1169  Technical Communication 1 for Mechanical Engin...   \n",
       "2      MATH 1491         Basic Technical Mathematics for Mechanical   \n",
       "3      MECH 1102                             Engineering Graphics 1   \n",
       "4      MECH 1120                                     Energy Systems   \n",
       "5      MECH 1141                                            Statics   \n",
       "6      MECH 1171              Computer Applications and Programming   \n",
       "7      CHSC 2205                            Engineering Materials 2   \n",
       "8      MATH 2491                            Calculus for Mechanical   \n",
       "9      MECH 1210                            Manufacturing Processes   \n",
       "10     MECH 2202                             Engineering Graphics 2   \n",
       "11     MECH 2240                              Strength of Materials   \n",
       "12     MECH 2241                                           Dynamics   \n",
       "13     PHYS 2149                             Physics for Mechanical   \n",
       "14     ELEX 2845                               Electrical Equipment   \n",
       "15     MATH 3499  Ordinary Differential Equations and Linear Sys...   \n",
       "16     MECH 3325                                    Fluid Mechanics   \n",
       "17     MECH 3340                                   Machine Design 1   \n",
       "18     MECH 3346                         Computer Aided Engineering   \n",
       "19     MECH 3355                                      Fluid Power 1   \n",
       "20     MECH 3360                             Engineering Management   \n",
       "21     COMM 2269  Technical Communication 2 for Mechanical Engin...   \n",
       "22     ELEX 2835             Instrumentation for Mechanical Systems   \n",
       "23     MATH 4499  Applied Differential Equations and Vector Calc...   \n",
       "24     MECH 0460                           Ethics for Technologists   \n",
       "25     MECH 4422                                Thermal Engineering   \n",
       "26     MECH 4440                                   Machine Design 2   \n",
       "27     MECH 4450                         Mechanical Control Systems   \n",
       "28     MECH 4455                                      Fluid Power 2   \n",
       "29     MECH 4490                        Engineering Design/Projects   \n",
       "30     CHEM 7105               Chemistry for Mechanical Engineering   \n",
       "31     CHSC 7147                              Materials Engineering   \n",
       "32     ENGR 3800           Introduction to Professional Engineering   \n",
       "33     MATH 7195           Probability and Statistics for Engineers   \n",
       "34     MECH 7120                                     Thermodynamics   \n",
       "35     MECH 7142                           Mechanics and Mechanisms   \n",
       "36     MECH 7171                            Engineering Programming   \n",
       "37     ELEX 7345                   Electronics and Microcontrollers   \n",
       "38     ELEX 7350                        Control and Dynamic Systems   \n",
       "39     ENGR 7480                Environment, Energy and Engineering   \n",
       "40     LIBS 7001                       Critical Reading and Writing   \n",
       "41     MATH 7295                                  Numerical Methods   \n",
       "42     MECH 7225                                  Fluid Mechanics 2   \n",
       "43     MECH 6090                   Mechanical Engineering Practicum   \n",
       "44     MECH 7240                                Mechanics of Solids   \n",
       "45     MECH 8120                                      Heat Transfer   \n",
       "46     MECH 8135                  Mechanical Engineering Laboratory   \n",
       "47     MECH 8145                              Mechanical Vibrations   \n",
       "48     MECH 8190                                 Capstone Project 1   \n",
       "49     LIBS 7005                    Technology, Invention and Power   \n",
       "50     LIBS 7007                             Technology and Society   \n",
       "51     BUSA 7250                 Management Skills and Applications   \n",
       "52     ENGR 7880         Engineering Law Ethics and Professionalism   \n",
       "53     MECH 8230                                      System Design   \n",
       "54     MECH 8290                                 Capstone Project 2   \n",
       "55     MECH 8242             Concurrent and Reliability Engineering   \n",
       "56     MECH 8250                                   Building Systems   \n",
       "\n",
       "                                   Course Description  \n",
       "0   This course provides a broad overview of the m...  \n",
       "1   COMM 1169 teaches the basic skills for effecti...  \n",
       "2   Introduces differential calculus of polynomial...  \n",
       "3   Introduces the techniques for interpreting and...  \n",
       "4   This course covers basic thermal and fluid sys...  \n",
       "5   This course introduces the basics for the desi...  \n",
       "6   This course introduces computer software that ...  \n",
       "7   This course continues from CHSC 1105 Engineeri...  \n",
       "8   A continuation of the differential calculus th...  \n",
       "9   Covers the basics of major manufacturing metho...  \n",
       "10  Covers topics in engineering graphics and comp...  \n",
       "11  This course covers topics in strength of mater...  \n",
       "12  Following the study of bodies in static equili...  \n",
       "13  PHYS 2149 is an algebra-based physics course t...  \n",
       "14  This course shall serve to introduce electrica...  \n",
       "15  This course is a combination of vector and mat...  \n",
       "16  This course introduces topics in fluid mechani...  \n",
       "17  Introduces machine design, with emphasis on el...  \n",
       "18  The course introduces computer aided modelling...  \n",
       "19  Introduces pneumatic and hydraulic power trans...  \n",
       "20  This course introduces the common financial an...  \n",
       "21  COMM 2269 is integrated and taught concurrentl...  \n",
       "22  Introduces basic instruments used for measurin...  \n",
       "23  Analytic solutions of first-order and linear s...  \n",
       "24  This course introduces the ASTTBC Code of Ethi...  \n",
       "25  This course is concerned with the topics of en...  \n",
       "26  Continues from MECH 3340. Covers couplings, br...  \n",
       "27  Presents descriptions of components in a progr...  \n",
       "28  Describes and analyses complex hydraulic and p...  \n",
       "29  The typical engineering design process is cove...  \n",
       "30  This course provides an overview of the basic ...  \n",
       "31  This course builds on the basics of heat treat...  \n",
       "32  This course explores the practice of engineeri...  \n",
       "33  Descriptive data analysis also including run c...  \n",
       "34  Builds on Thermal Engineering. Topics covered ...  \n",
       "35  This course is a continuation from the fundame...  \n",
       "36  In this course students will develop efficient...  \n",
       "37  This course develops the skills mechanical eng...  \n",
       "38  This course builds on the control theory in pr...  \n",
       "39  The course deals with environmental problems, ...  \n",
       "40  This is a course in advanced composition and r...  \n",
       "41  The course extends the introduction of numeric...  \n",
       "42  This course covers select topics in fluid mech...  \n",
       "43  This course enhances the educational experienc...  \n",
       "44  Represents a second course in strength of mate...  \n",
       "45  This course extends the heat transfer analysis...  \n",
       "46  This course allows students to perform experim...  \n",
       "47  This course aims to develop students' fundamen...  \n",
       "48  This course covers project management for the ...  \n",
       "49  From ancient Greek myth to modern science fict...  \n",
       "50  This course will explore the interrelationship...  \n",
       "51  The course provides an overview of the basic s...  \n",
       "52  This course addresses key issues in engineerin...  \n",
       "53  This course covers the modeling, analysis, and...  \n",
       "54  Provides the student with an opportunity to in...  \n",
       "55  Introduces concurrent and reliability engineer...  \n",
       "56  This course covers the integrated mechanical s...  "
      ]
     },
     "execution_count": 21,
     "metadata": {},
     "output_type": "execute_result"
    }
   ],
   "source": [
    "import pandas as pd\n",
    "\n",
    "df = pd.DataFrame({\n",
    "    \n",
    "    \"Course Number\": course_codes,\n",
    "    \"Course Name\": course_names,\n",
    "    \"Course Description\": course_descs\n",
    "})\n",
    "\n",
    "df"
   ]
  },
  {
   "cell_type": "code",
   "execution_count": 24,
   "metadata": {},
   "outputs": [],
   "source": [
    "df.to_csv(\"BCIT_MechEng_Core_and_Elective_Courses.csv\", index = False)"
   ]
  }
 ],
 "metadata": {
  "kernelspec": {
   "display_name": "Python 3",
   "language": "python",
   "name": "python3"
  },
  "language_info": {
   "codemirror_mode": {
    "name": "ipython",
    "version": 3
   },
   "file_extension": ".py",
   "mimetype": "text/x-python",
   "name": "python",
   "nbconvert_exporter": "python",
   "pygments_lexer": "ipython3",
   "version": "3.8.5"
  }
 },
 "nbformat": 4,
 "nbformat_minor": 4
}
