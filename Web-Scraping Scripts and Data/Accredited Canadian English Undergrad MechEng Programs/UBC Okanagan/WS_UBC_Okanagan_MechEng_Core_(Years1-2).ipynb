{
 "cells": [
  {
   "cell_type": "code",
   "execution_count": 1,
   "metadata": {},
   "outputs": [],
   "source": [
    "from bs4 import BeautifulSoup as soup\n",
    "from urllib.request import urlopen as ureq\n",
    "import time\n",
    "import re"
   ]
  },
  {
   "cell_type": "code",
   "execution_count": 2,
   "metadata": {},
   "outputs": [],
   "source": [
    "url = \"http://www.calendar.ubc.ca/okanagan/index.cfm?tree=18,317,989,1379\""
   ]
  },
  {
   "cell_type": "markdown",
   "metadata": {},
   "source": [
    "# 1. Collect course codes to be used to search for course names and descriptions"
   ]
  },
  {
   "cell_type": "code",
   "execution_count": 3,
   "metadata": {},
   "outputs": [],
   "source": [
    "uClient = ureq(url)\n",
    "page_html = uClient.read()\n",
    "uClient.close()\n",
    "page_soup = soup(page_html, \"html.parser\")"
   ]
  },
  {
   "cell_type": "code",
   "execution_count": 4,
   "metadata": {},
   "outputs": [
    {
     "data": {
      "text/plain": [
       "78"
      ]
     },
     "execution_count": 4,
     "metadata": {},
     "output_type": "execute_result"
    }
   ],
   "source": [
    "tables = page_soup.findAll(\"table\")\n",
    "containers = [container for table in tables for container in table.findAll(\"td\")]\n",
    "len(containers)"
   ]
  },
  {
   "cell_type": "code",
   "execution_count": 5,
   "metadata": {},
   "outputs": [
    {
     "data": {
      "text/plain": [
       "['APSC 169',\n",
       " 'APSC 171',\n",
       " 'APSC 172',\n",
       " 'APSC 173',\n",
       " 'APSC 176',\n",
       " 'APSC 177',\n",
       " 'APSC 178',\n",
       " 'APSC 179',\n",
       " 'APSC 180',\n",
       " 'APSC 181',\n",
       " 'APSC 182',\n",
       " 'APSC 183',\n",
       " 'APSC 201',\n",
       " 'APSC 246',\n",
       " 'APSC 248',\n",
       " 'APSC 252',\n",
       " 'APSC 254',\n",
       " 'APSC 256',\n",
       " 'APSC 258',\n",
       " 'APSC 259',\n",
       " 'APSC 260']"
      ]
     },
     "execution_count": 5,
     "metadata": {},
     "output_type": "execute_result"
    }
   ],
   "source": [
    "course_codes = [container.text.strip() for container in containers if bool(re.match(\"[A-Z]{4} [0-9]{3}\", container.text.strip()))]\n",
    "course_codes"
   ]
  },
  {
   "cell_type": "code",
   "execution_count": 6,
   "metadata": {},
   "outputs": [
    {
     "data": {
      "text/plain": [
       "21"
      ]
     },
     "execution_count": 6,
     "metadata": {},
     "output_type": "execute_result"
    }
   ],
   "source": [
    "len(course_codes)"
   ]
  },
  {
   "cell_type": "code",
   "execution_count": 7,
   "metadata": {},
   "outputs": [
    {
     "data": {
      "text/plain": [
       "23"
      ]
     },
     "execution_count": 7,
     "metadata": {},
     "output_type": "execute_result"
    }
   ],
   "source": [
    "#two extra courses specific to mech eng as stated in astonishingly subtle footnote\n",
    "course_codes.append(\"APSC 253\")\n",
    "course_codes.append(\"APSC 255\")\n",
    "len(course_codes)"
   ]
  },
  {
   "cell_type": "markdown",
   "metadata": {},
   "source": [
    "# 2. Use the course codes to find and scrape corresponding course names and descriptions"
   ]
  },
  {
   "cell_type": "code",
   "execution_count": 8,
   "metadata": {},
   "outputs": [],
   "source": [
    "uClient = ureq(\"http://www.calendar.ubc.ca/okanagan/courses.cfm?go=code&institution=2&code=APSC\")\n",
    "page_html = uClient.read()\n",
    "uClient.close()\n",
    "page_soup = soup(page_html, \"html.parser\")"
   ]
  },
  {
   "cell_type": "code",
   "execution_count": 9,
   "metadata": {},
   "outputs": [
    {
     "name": "stdout",
     "output_type": "stream",
     "text": [
      "scraped  APSC 169\n",
      "scraped  APSC 171\n",
      "scraped  APSC 172\n",
      "scraped  APSC 173\n",
      "scraped  APSC 176\n",
      "scraped  APSC 177\n",
      "scraped  APSC 178\n",
      "scraped  APSC 179\n",
      "scraped  APSC 180\n",
      "scraped  APSC 181\n",
      "scraped  APSC 182\n",
      "scraped  APSC 183\n",
      "scraped  APSC 201\n",
      "scraped  APSC 246\n",
      "scraped  APSC 248\n",
      "scraped  APSC 252\n",
      "scraped  APSC 254\n",
      "scraped  APSC 256\n",
      "scraped  APSC 258\n",
      "scraped  APSC 259\n",
      "scraped  APSC 260\n",
      "scraped  APSC 253\n",
      "scraped  APSC 255\n",
      "23\n"
     ]
    }
   ],
   "source": [
    "course_names = []\n",
    "course_descs = []\n",
    "counter = 0\n",
    "\n",
    "for course_code in course_codes:\n",
    "    \n",
    "    course_title_container = page_soup.find(text = re.compile(\"^\" + course_code))\n",
    "    if course_title_container is None:\n",
    "        print(\"Cannot find \", course_code)\n",
    "    else:\n",
    "        course_names.append(course_title_container.findNext().text)\n",
    "        course_descs.append(course_title_container.findNext().findNext().text.strip())\n",
    "    \n",
    "        counter += 1\n",
    "        print(\"scraped \", course_code)\n",
    "    \n",
    "print(counter)"
   ]
  },
  {
   "cell_type": "markdown",
   "metadata": {},
   "source": [
    "# 3. Inspect collected data and write to CSV"
   ]
  },
  {
   "cell_type": "code",
   "execution_count": 10,
   "metadata": {},
   "outputs": [
    {
     "data": {
      "text/plain": [
       "['Fundamentals of Sustainable Engineering Design',\n",
       " 'Engineering Drawing and CAD/CAM',\n",
       " 'Engineering Analysis I',\n",
       " 'Engineering Analysis II',\n",
       " 'Engineering Communication',\n",
       " 'Engineering Computation and Instrumentation',\n",
       " 'Electricity, Magnetism, and Waves',\n",
       " 'Linear Algebra for Engineers',\n",
       " 'Statics',\n",
       " 'Dynamics',\n",
       " 'Matter and Energy I',\n",
       " 'Matter and Energy II',\n",
       " 'Technical Communication',\n",
       " 'System Dynamics',\n",
       " 'Engineering Analysis III',\n",
       " 'Thermodynamics',\n",
       " 'Instrumentation and Data Analysis',\n",
       " 'Numerical Methods for Analysis',\n",
       " 'Applications of Engineering Design',\n",
       " 'Materials Science I',\n",
       " 'Mechanics of Materials I',\n",
       " 'Fluid Mechanics I',\n",
       " 'Electric Circuits and Power']"
      ]
     },
     "execution_count": 10,
     "metadata": {},
     "output_type": "execute_result"
    }
   ],
   "source": [
    "course_names"
   ]
  },
  {
   "cell_type": "code",
   "execution_count": 11,
   "metadata": {
    "scrolled": true
   },
   "outputs": [
    {
     "data": {
      "text/plain": [
       "['Theory and practice of sustainable engineering. Awareness and risk analysis of potential impacts on society and the environment over the lifecycle of engineering projects. Engineering design process, project lifecycle, and professional responsibility. Team-based design project. [3-2*-0*]',\n",
       " 'Orthographic projections, axonometric and perspective projections, dimensioning and tolerances, computer-aided design and modelling, introduction to rapid prototyping, team-based design project. [3-0-2]',\n",
       " 'Functions, limits, differentiation, applications of derivatives, integration, applications of definite integrals. [3-0-1]',\n",
       " 'Integrals and transcendental functions, techniques of integration, applications of integration, polar coordinates, infinite sequences and series, vectors and the geometry of space, and partial derivatives. [3-0-1] Prerequisite: APSC 172.',\n",
       " 'Written and oral presentations, formal and informal. Purpose, audience, content, format, and tone are studied, as are team-based report writings and presentations. [3-0-0]',\n",
       " 'Computer systems, software development, operating systems, compilers, programming in a high-level language, selection and loop structures, functions, arrays, pointers, files, data acquisition, solving engineering problems with computer programs. [3-2*-0]',\n",
       " \"Coulomb's law, electric field, Gauss' law, electric potential, conductors, capacitance, electric currents, resistance, DC circuits, magnetic fields and forces, sources of magnetic fields, electromagnetic induction, mechanical waves, electromagnetic waves, light propagation, geometrical optics. [4-0-2] Prerequisite: APSC 172. Corequisite: APSC 173.\",\n",
       " 'Systems of linear equations, Gaussian elimination, engineering application of linear algebra, matrix operations, special matrices, determinants, vector space, orthogonality, eigenvalues and eigenvectors, linear transformation. [3-0-0]',\n",
       " 'Force vectors, Cartesian coordinate system, free body diagram, dot and cross products, forces equilibrium of particles, force and moment equilibrium of rigid bodies, analysis of trusses, frames and machines, friction, wedges, pulleys, and belts. Applications of linear algebra in statics. [3-0-2] Corequisite: APSC 179.',\n",
       " 'Kinematics of particles, curvilinear motion, normal-tangential, polar, cylindrical coordinates, force and acceleration, equation of motions, work and energy, conservation of energy. Introduction to rigid body dynamics. [3-0-2] Prerequisite: All of APSC 172, APSC 180. Corequisite: APSC 173.',\n",
       " 'Thermometry, states of matter and phase change, ideal and real gases, 1st law of thermodynamics, 2nd law of thermodynamics, liquids, solutions, solid crystals, atomic structures and bonding. [2-2*-2*]',\n",
       " 'Chemical equilibrium, reactions in gas phase and in aqueous solutions, acid-base and redox reactions, kinetics of chemical reactions, thermochemistry, electrochemistry, and organic chemistry. [2-2*-2*]',\n",
       " 'Written and oral communication in engineering. Report preparation, business correspondence, and oral presentation of technical material.  Principles of communication with Indigenous communities. [3-0-0] Prerequisite: APSC 176.',\n",
       " 'Introduction to the Fourier series. Linear time invariant system, impulse response function, operator, convolution, system characterization, complex numbers, solution of linear ordinary differential equations, Laplace transform and its applications, transfer function, frequency response, solution to system of linear differential equations. Fourier series and transform. [3-0-1] Prerequisite: All of APSC 173, APSC 178, APSC 179, APSC 181.',\n",
       " \"Multivariable functions, Lagrange multipliers; line integrals, surface integrals, volume integrals; divergence, curl, gradient; divergence and Stokes' theorems; engineering applications of vector field theory. Introduction to partial differential equations. [3-0-1] Prerequisite: All of APSC 173, APSC 178.\",\n",
       " 'First and second laws of thermodynamics. Applications to simple thermodynamic processes and cycles. Introduction to heat transfer modes. [3-0-1] Prerequisite: All of APSC 173, APSC 182.',\n",
       " 'Data acquisition, sensors, instrumentation, measurement techniques and their limitations, experimental design, and data analysis; statistics, basic probability; application of statistics to data analysis. [3-2*-1] Prerequisite: All of APSC 173, APSC 178.',\n",
       " 'Partial differential equations, and numerical methods. Engineering applications to the design and analysis of networks, structures, and hydraulic systems. [3-1-0] Prerequisite: All of APSC 173, APSC 177.',\n",
       " 'Principles of engineering design, applied to a team-based design project. Use of probability, programming, decision making, economic principles, systems theory, and technical communication in design projects. [3-1-1] Prerequisite: All of APSC 169, APSC 171, APSC 177, APSC 179, APSC 254.',\n",
       " 'Atomic bonding, crystallographic characteristics of materials, stress-strain curve, strengthening mechanisms, failure of materials, Eutectic and Eutectoid phase transformations, Fe-C phase diagram, composite materials, corrosion, electrical properties of materials. [3-2*-0] Prerequisite: All of APSC 182, APSC 183.',\n",
       " \"Concepts of stress and strain. Axial, shear forces and bending moment diagrams for statically determinate structures, torsion in shafts. Axial and shear stresses and deformations. Transformation of plane stress, Mohr's circle. [3-0-1] Prerequisite: APSC 180 and APSC 173.\",\n",
       " 'Fluid properties and fluid statics; principles of conservation of mass, momentum, and energy; laminar and turbulent flow; dimensional analysis; pipe flow; valves and fittings, flow measurements. [3-2*-1] Prerequisite: All of APSC 180, APSC 181, APSC 248.',\n",
       " 'Circuit analysis techniques for steady-state AC and DC circuits containing independent and dependent voltage and current sources, resistance, capacitance and inductance. DC maximum power transfer. AC power including real, reactive, apparent and complex power and power factor. AC power analysis using phasors. Three-phase AC power systems. [3-2*-1] Prerequisite: APSC 178.']"
      ]
     },
     "execution_count": 11,
     "metadata": {},
     "output_type": "execute_result"
    }
   ],
   "source": [
    "course_descs"
   ]
  },
  {
   "cell_type": "code",
   "execution_count": 12,
   "metadata": {
    "scrolled": true
   },
   "outputs": [
    {
     "data": {
      "text/html": [
       "<div>\n",
       "<style scoped>\n",
       "    .dataframe tbody tr th:only-of-type {\n",
       "        vertical-align: middle;\n",
       "    }\n",
       "\n",
       "    .dataframe tbody tr th {\n",
       "        vertical-align: top;\n",
       "    }\n",
       "\n",
       "    .dataframe thead th {\n",
       "        text-align: right;\n",
       "    }\n",
       "</style>\n",
       "<table border=\"1\" class=\"dataframe\">\n",
       "  <thead>\n",
       "    <tr style=\"text-align: right;\">\n",
       "      <th></th>\n",
       "      <th>Course Number</th>\n",
       "      <th>Course Name</th>\n",
       "      <th>Course Description</th>\n",
       "    </tr>\n",
       "  </thead>\n",
       "  <tbody>\n",
       "    <tr>\n",
       "      <th>0</th>\n",
       "      <td>APSC 169</td>\n",
       "      <td>Fundamentals of Sustainable Engineering Design</td>\n",
       "      <td>Theory and practice of sustainable engineering...</td>\n",
       "    </tr>\n",
       "    <tr>\n",
       "      <th>1</th>\n",
       "      <td>APSC 171</td>\n",
       "      <td>Engineering Drawing and CAD/CAM</td>\n",
       "      <td>Orthographic projections, axonometric and pers...</td>\n",
       "    </tr>\n",
       "    <tr>\n",
       "      <th>2</th>\n",
       "      <td>APSC 172</td>\n",
       "      <td>Engineering Analysis I</td>\n",
       "      <td>Functions, limits, differentiation, applicatio...</td>\n",
       "    </tr>\n",
       "    <tr>\n",
       "      <th>3</th>\n",
       "      <td>APSC 173</td>\n",
       "      <td>Engineering Analysis II</td>\n",
       "      <td>Integrals and transcendental functions, techni...</td>\n",
       "    </tr>\n",
       "    <tr>\n",
       "      <th>4</th>\n",
       "      <td>APSC 176</td>\n",
       "      <td>Engineering Communication</td>\n",
       "      <td>Written and oral presentations, formal and inf...</td>\n",
       "    </tr>\n",
       "    <tr>\n",
       "      <th>5</th>\n",
       "      <td>APSC 177</td>\n",
       "      <td>Engineering Computation and Instrumentation</td>\n",
       "      <td>Computer systems, software development, operat...</td>\n",
       "    </tr>\n",
       "    <tr>\n",
       "      <th>6</th>\n",
       "      <td>APSC 178</td>\n",
       "      <td>Electricity, Magnetism, and Waves</td>\n",
       "      <td>Coulomb's law, electric field, Gauss' law, ele...</td>\n",
       "    </tr>\n",
       "    <tr>\n",
       "      <th>7</th>\n",
       "      <td>APSC 179</td>\n",
       "      <td>Linear Algebra for Engineers</td>\n",
       "      <td>Systems of linear equations, Gaussian eliminat...</td>\n",
       "    </tr>\n",
       "    <tr>\n",
       "      <th>8</th>\n",
       "      <td>APSC 180</td>\n",
       "      <td>Statics</td>\n",
       "      <td>Force vectors, Cartesian coordinate system, fr...</td>\n",
       "    </tr>\n",
       "    <tr>\n",
       "      <th>9</th>\n",
       "      <td>APSC 181</td>\n",
       "      <td>Dynamics</td>\n",
       "      <td>Kinematics of particles, curvilinear motion, n...</td>\n",
       "    </tr>\n",
       "    <tr>\n",
       "      <th>10</th>\n",
       "      <td>APSC 182</td>\n",
       "      <td>Matter and Energy I</td>\n",
       "      <td>Thermometry, states of matter and phase change...</td>\n",
       "    </tr>\n",
       "    <tr>\n",
       "      <th>11</th>\n",
       "      <td>APSC 183</td>\n",
       "      <td>Matter and Energy II</td>\n",
       "      <td>Chemical equilibrium, reactions in gas phase a...</td>\n",
       "    </tr>\n",
       "    <tr>\n",
       "      <th>12</th>\n",
       "      <td>APSC 201</td>\n",
       "      <td>Technical Communication</td>\n",
       "      <td>Written and oral communication in engineering....</td>\n",
       "    </tr>\n",
       "    <tr>\n",
       "      <th>13</th>\n",
       "      <td>APSC 246</td>\n",
       "      <td>System Dynamics</td>\n",
       "      <td>Introduction to the Fourier series. Linear tim...</td>\n",
       "    </tr>\n",
       "    <tr>\n",
       "      <th>14</th>\n",
       "      <td>APSC 248</td>\n",
       "      <td>Engineering Analysis III</td>\n",
       "      <td>Multivariable functions, Lagrange multipliers;...</td>\n",
       "    </tr>\n",
       "    <tr>\n",
       "      <th>15</th>\n",
       "      <td>APSC 252</td>\n",
       "      <td>Thermodynamics</td>\n",
       "      <td>First and second laws of thermodynamics. Appli...</td>\n",
       "    </tr>\n",
       "    <tr>\n",
       "      <th>16</th>\n",
       "      <td>APSC 254</td>\n",
       "      <td>Instrumentation and Data Analysis</td>\n",
       "      <td>Data acquisition, sensors, instrumentation, me...</td>\n",
       "    </tr>\n",
       "    <tr>\n",
       "      <th>17</th>\n",
       "      <td>APSC 256</td>\n",
       "      <td>Numerical Methods for Analysis</td>\n",
       "      <td>Partial differential equations, and numerical ...</td>\n",
       "    </tr>\n",
       "    <tr>\n",
       "      <th>18</th>\n",
       "      <td>APSC 258</td>\n",
       "      <td>Applications of Engineering Design</td>\n",
       "      <td>Principles of engineering design, applied to a...</td>\n",
       "    </tr>\n",
       "    <tr>\n",
       "      <th>19</th>\n",
       "      <td>APSC 259</td>\n",
       "      <td>Materials Science I</td>\n",
       "      <td>Atomic bonding, crystallographic characteristi...</td>\n",
       "    </tr>\n",
       "    <tr>\n",
       "      <th>20</th>\n",
       "      <td>APSC 260</td>\n",
       "      <td>Mechanics of Materials I</td>\n",
       "      <td>Concepts of stress and strain. Axial, shear fo...</td>\n",
       "    </tr>\n",
       "    <tr>\n",
       "      <th>21</th>\n",
       "      <td>APSC 253</td>\n",
       "      <td>Fluid Mechanics I</td>\n",
       "      <td>Fluid properties and fluid statics; principles...</td>\n",
       "    </tr>\n",
       "    <tr>\n",
       "      <th>22</th>\n",
       "      <td>APSC 255</td>\n",
       "      <td>Electric Circuits and Power</td>\n",
       "      <td>Circuit analysis techniques for steady-state A...</td>\n",
       "    </tr>\n",
       "  </tbody>\n",
       "</table>\n",
       "</div>"
      ],
      "text/plain": [
       "   Course Number                                     Course Name  \\\n",
       "0       APSC 169  Fundamentals of Sustainable Engineering Design   \n",
       "1       APSC 171                 Engineering Drawing and CAD/CAM   \n",
       "2       APSC 172                          Engineering Analysis I   \n",
       "3       APSC 173                         Engineering Analysis II   \n",
       "4       APSC 176                       Engineering Communication   \n",
       "5       APSC 177     Engineering Computation and Instrumentation   \n",
       "6       APSC 178               Electricity, Magnetism, and Waves   \n",
       "7       APSC 179                    Linear Algebra for Engineers   \n",
       "8       APSC 180                                         Statics   \n",
       "9       APSC 181                                        Dynamics   \n",
       "10      APSC 182                             Matter and Energy I   \n",
       "11      APSC 183                            Matter and Energy II   \n",
       "12      APSC 201                         Technical Communication   \n",
       "13      APSC 246                                 System Dynamics   \n",
       "14      APSC 248                        Engineering Analysis III   \n",
       "15      APSC 252                                  Thermodynamics   \n",
       "16      APSC 254               Instrumentation and Data Analysis   \n",
       "17      APSC 256                  Numerical Methods for Analysis   \n",
       "18      APSC 258              Applications of Engineering Design   \n",
       "19      APSC 259                             Materials Science I   \n",
       "20      APSC 260                        Mechanics of Materials I   \n",
       "21      APSC 253                               Fluid Mechanics I   \n",
       "22      APSC 255                     Electric Circuits and Power   \n",
       "\n",
       "                                   Course Description  \n",
       "0   Theory and practice of sustainable engineering...  \n",
       "1   Orthographic projections, axonometric and pers...  \n",
       "2   Functions, limits, differentiation, applicatio...  \n",
       "3   Integrals and transcendental functions, techni...  \n",
       "4   Written and oral presentations, formal and inf...  \n",
       "5   Computer systems, software development, operat...  \n",
       "6   Coulomb's law, electric field, Gauss' law, ele...  \n",
       "7   Systems of linear equations, Gaussian eliminat...  \n",
       "8   Force vectors, Cartesian coordinate system, fr...  \n",
       "9   Kinematics of particles, curvilinear motion, n...  \n",
       "10  Thermometry, states of matter and phase change...  \n",
       "11  Chemical equilibrium, reactions in gas phase a...  \n",
       "12  Written and oral communication in engineering....  \n",
       "13  Introduction to the Fourier series. Linear tim...  \n",
       "14  Multivariable functions, Lagrange multipliers;...  \n",
       "15  First and second laws of thermodynamics. Appli...  \n",
       "16  Data acquisition, sensors, instrumentation, me...  \n",
       "17  Partial differential equations, and numerical ...  \n",
       "18  Principles of engineering design, applied to a...  \n",
       "19  Atomic bonding, crystallographic characteristi...  \n",
       "20  Concepts of stress and strain. Axial, shear fo...  \n",
       "21  Fluid properties and fluid statics; principles...  \n",
       "22  Circuit analysis techniques for steady-state A...  "
      ]
     },
     "execution_count": 12,
     "metadata": {},
     "output_type": "execute_result"
    }
   ],
   "source": [
    "import pandas as pd\n",
    "\n",
    "df = pd.DataFrame({\n",
    "    \n",
    "    \"Course Number\": course_codes,\n",
    "    \"Course Name\": course_names,\n",
    "    \"Course Description\": course_descs    \n",
    "    \n",
    "})\n",
    "\n",
    "df"
   ]
  },
  {
   "cell_type": "code",
   "execution_count": 13,
   "metadata": {},
   "outputs": [],
   "source": [
    "df.to_csv('UBC_Okanagan_MechEng_Core_(Years1-2)_Courses.csv', index = False)"
   ]
  }
 ],
 "metadata": {
  "kernelspec": {
   "display_name": "Python 3",
   "language": "python",
   "name": "python3"
  },
  "language_info": {
   "codemirror_mode": {
    "name": "ipython",
    "version": 3
   },
   "file_extension": ".py",
   "mimetype": "text/x-python",
   "name": "python",
   "nbconvert_exporter": "python",
   "pygments_lexer": "ipython3",
   "version": "3.8.5"
  }
 },
 "nbformat": 4,
 "nbformat_minor": 4
}
