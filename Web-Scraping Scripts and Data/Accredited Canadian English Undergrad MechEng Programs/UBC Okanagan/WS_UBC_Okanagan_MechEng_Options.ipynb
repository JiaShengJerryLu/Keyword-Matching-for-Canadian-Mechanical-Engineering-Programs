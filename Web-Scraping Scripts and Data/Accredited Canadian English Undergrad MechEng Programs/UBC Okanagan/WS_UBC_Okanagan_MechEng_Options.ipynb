{
 "cells": [
  {
   "cell_type": "code",
   "execution_count": 1,
   "metadata": {},
   "outputs": [],
   "source": [
    "from bs4 import BeautifulSoup as soup\n",
    "from urllib.request import urlopen as ureq\n",
    "import time\n",
    "import re"
   ]
  },
  {
   "cell_type": "markdown",
   "metadata": {},
   "source": [
    "# Biomedical Core (electives already included in design and technical electives list)"
   ]
  },
  {
   "cell_type": "markdown",
   "metadata": {},
   "source": [
    "## 1. Collect course codes"
   ]
  },
  {
   "cell_type": "code",
   "execution_count": 2,
   "metadata": {},
   "outputs": [],
   "source": [
    "url = \"http://www.calendar.ubc.ca/okanagan/index.cfm?tree=18,317,989,1382\"\n",
    "uClient = ureq(url)\n",
    "page_html = uClient.read()\n",
    "uClient.close()\n",
    "page_soup = soup(page_html, \"html.parser\")"
   ]
  },
  {
   "cell_type": "code",
   "execution_count": 5,
   "metadata": {},
   "outputs": [
    {
     "data": {
      "text/plain": [
       "<ul class=\"double\"><li>APSC 193 Anatomy and Physiology for Engineers\n",
       "<li>Required 4th year courses (as listed above) and:\n",
       "<ul>\n",
       "<li>ENGR 351 Microelectronics I\n",
       "<li>ENGR 401 Bioinstrumentation\n",
       "<li>ENGR 402 Biotechnology: Fundamentals and Applications\n",
       "<li>ENGR 406 Microelectromechanical Systems\n",
       "<li>ENGR 423 Wearables\n",
       "<li>ENGR 450 Clinical Engineering\n",
       "<li>ENGR 482 Biomedical Engineering I\n",
       "<li>ENGR 499 Engineering Capstone Project – Biomedical Project\n",
       "</li></li></li></li></li></li></li></li></ul></li></li></ul>"
      ]
     },
     "execution_count": 5,
     "metadata": {},
     "output_type": "execute_result"
    }
   ],
   "source": [
    "containers = page_soup.find(\"h3\", text = \"Biomedical Option\").findNext(\"ul\", {\"class\": \"double\"})\n",
    "containers"
   ]
  },
  {
   "cell_type": "code",
   "execution_count": 12,
   "metadata": {},
   "outputs": [
    {
     "data": {
      "text/plain": [
       "['APSC 193 Anatomy and Physiology for Engineers',\n",
       " 'Required 4th year courses (as listed above) and:',\n",
       " '\\nENGR 351 Microelectronics I',\n",
       " 'ENGR 401 Bioinstrumentation',\n",
       " 'ENGR 402 Biotechnology: Fundamentals and Applications',\n",
       " 'ENGR 406 Microelectromechanical Systems',\n",
       " 'ENGR 423 Wearables',\n",
       " 'ENGR 450 Clinical Engineering',\n",
       " 'ENGR 482 Biomedical Engineering I',\n",
       " 'ENGR 499 Engineering Capstone Project – Biomedical Project',\n",
       " '']"
      ]
     },
     "execution_count": 12,
     "metadata": {},
     "output_type": "execute_result"
    }
   ],
   "source": [
    "containers.text.split(\"\\r\\n\")"
   ]
  },
  {
   "cell_type": "code",
   "execution_count": 14,
   "metadata": {},
   "outputs": [
    {
     "data": {
      "text/plain": [
       "['APSC 193 Anatomy and Physiology for Engineers',\n",
       " 'ENGR 351 Microelectronics I',\n",
       " 'ENGR 401 Bioinstrumentation',\n",
       " 'ENGR 402 Biotechnology: Fundamentals and Applications',\n",
       " 'ENGR 406 Microelectromechanical Systems',\n",
       " 'ENGR 423 Wearables',\n",
       " 'ENGR 450 Clinical Engineering',\n",
       " 'ENGR 482 Biomedical Engineering I',\n",
       " 'ENGR 499 Engineering Capstone Project – Biomedical Project']"
      ]
     },
     "execution_count": 14,
     "metadata": {},
     "output_type": "execute_result"
    }
   ],
   "source": [
    "course_codes = [code.strip() for code in containers.text.split(\"\\r\\n\") if len(code) > 1 and bool(re.match(\"^[A-Z]{4}\", code.strip()))]\n",
    "course_codes"
   ]
  },
  {
   "cell_type": "code",
   "execution_count": 17,
   "metadata": {},
   "outputs": [
    {
     "data": {
      "text/plain": [
       "['APSC 193',\n",
       " 'ENGR 351',\n",
       " 'ENGR 401',\n",
       " 'ENGR 402',\n",
       " 'ENGR 406',\n",
       " 'ENGR 423',\n",
       " 'ENGR 450',\n",
       " 'ENGR 482',\n",
       " 'ENGR 499']"
      ]
     },
     "execution_count": 17,
     "metadata": {},
     "output_type": "execute_result"
    }
   ],
   "source": [
    "course_codes = [\" \".join(code.split()[:2]) for code in course_codes][:-1]\n",
    "course_codes"
   ]
  },
  {
   "cell_type": "markdown",
   "metadata": {},
   "source": [
    "## 2. Use course codes to find and scrape corresponding course names and descriptions"
   ]
  },
  {
   "cell_type": "code",
   "execution_count": 18,
   "metadata": {},
   "outputs": [],
   "source": [
    "subject_links = {\n",
    "    \"ENGR\": \"http://www.calendar.ubc.ca/okanagan/courses.cfm?go=code&institution=2&code=ENGR\",\n",
    "    \"MANF\": \"http://www.calendar.ubc.ca/okanagan/courses.cfm?go=code&institution=2&code=MANF\",\n",
    "    \"APSC\": \"http://www.calendar.ubc.ca/okanagan/courses.cfm?go=code&institution=2&code=APSC\"\n",
    "}"
   ]
  },
  {
   "cell_type": "code",
   "execution_count": 19,
   "metadata": {},
   "outputs": [
    {
     "name": "stdout",
     "output_type": "stream",
     "text": [
      "scraped  APSC 193\n",
      "scraped  ENGR 351\n",
      "scraped  ENGR 401\n",
      "scraped  ENGR 402\n",
      "scraped  ENGR 406\n",
      "scraped  ENGR 423\n",
      "scraped  ENGR 450\n",
      "scraped  ENGR 482\n",
      "scraped  ENGR 499\n",
      "9\n"
     ]
    }
   ],
   "source": [
    "course_names = []\n",
    "course_descs = []\n",
    "counter = 0\n",
    "prev_link = \"\"\n",
    "\n",
    "for course_code in course_codes:\n",
    "    \n",
    "    if subject_links[course_code.split()[0]] != prev_link:\n",
    "        uClient = ureq(subject_links[course_code.split()[0]])\n",
    "        time.sleep(2)\n",
    "        page_html = uClient.read()\n",
    "        uClient.close()\n",
    "        page_soup = soup(page_html, \"html.parser\")\n",
    "        prev_link = subject_links[course_code.split()[0]]\n",
    "        \n",
    "    course_title_container = page_soup.find(text = re.compile(\"^\" + course_code))\n",
    "    if course_title_container is None:\n",
    "        print(\"Cannot find \", course_code)\n",
    "    else:\n",
    "        course_names.append(course_title_container.findNext().text.strip())\n",
    "        course_descs.append(course_title_container.findNext().findNext().text.strip())\n",
    "    \n",
    "        counter += 1\n",
    "        print(\"scraped \", course_code)\n",
    "    \n",
    "print(counter)"
   ]
  },
  {
   "cell_type": "markdown",
   "metadata": {},
   "source": [
    "## 3. Inspect and write to CSV"
   ]
  },
  {
   "cell_type": "code",
   "execution_count": 20,
   "metadata": {},
   "outputs": [
    {
     "data": {
      "text/plain": [
       "['Anatomy and Physiology for Engineers',\n",
       " 'Microelectronics I',\n",
       " 'Bioinstrumentation',\n",
       " 'Biotechnology: Fundamentals and Applications',\n",
       " 'Microelectromechanical Systems',\n",
       " 'Wearable Devices',\n",
       " 'Clinical Engineering',\n",
       " 'Biomedical Engineering I',\n",
       " 'Engineering Capstone Design Project']"
      ]
     },
     "execution_count": 20,
     "metadata": {},
     "output_type": "execute_result"
    }
   ],
   "source": [
    "course_names"
   ]
  },
  {
   "cell_type": "code",
   "execution_count": 22,
   "metadata": {},
   "outputs": [
    {
     "data": {
      "text/plain": [
       "['Structure and function of the neuromuscular, skeletal, digestive, endocrine, urinary, circulatory, and respiratory systems of the human body. Special emphasis on interfacing with biomedical devices. [3-2-0]',\n",
       " 'Signals and amplifier fundamentals, the operational amplifier, diodes, metal-oxide-semiconductor field effect transistor amplifier circuits, and bipolar junction transistor amplifier circuits. [3-2*-0] Prerequisite: APSC 255.',\n",
       " 'Bioinstruments used for tracking vitals, diagnosis, and treatment of disease in the vascular, muscular, nervous, and respiratory systems. Introduction to the fundamentals of each body system, electrical safety, signal acquisition, biosensors, transducers, amplifiers, and analysis of human physiological measurements. Hands on experience with sensors, biomedical devices, and design through labs. [3-2*-0] Prerequisite: All of APSC 193, APSC 254.',\n",
       " 'Basics of biotechnology, DNA and RNA technologies, nanobiotechnology, medical biotechnology, and ethics in biotechnology. [3-0-0] Prerequisite: Third-year standing',\n",
       " 'Mechanisms, design, fabrication, and testing of microsensors, actuators, and MicroElectroMechanical systems (MEMS).  Credit will not be granted for both ENGR 406 and ENGR 506 [3-2*-0] Prerequisite: Fourth-year standing in the B.A.Sc. Program',\n",
       " 'Design and prototyping including textiles, hardware, software, data storage, miniaturization, wireless communication, power, environment, and fabrication. Analysis of wearable technologies and challenges of mass adoption. [3-2*-0] Prerequisite: ENGR 401.',\n",
       " 'The clinical environment, clinical tools (for screening, diagnostics, treatment, monitoring, and rehabilitation) and regulatory requirements. [3-2*-0] Prerequisite: APSC 193 and fourth-year BASc standing.',\n",
       " 'Introduction to the microcirculation; gas exchange in organs, including diffusion, perfusion and ventilation; surface energy in biological systems; principles of hemodynamics including vascular resistance and flow regimes at different levels of organs, tissues and cells; principles of tissue mechanics; introduction to tissue engineering; introduction to medical devices design and development. [3-0-0] Prerequisite: Fourth-year standing',\n",
       " 'A capstone design project in response to an actual engineering problem. The project can be multi-disciplinary or in a specialized area of engineering. Students are required to submit a comprehensive project report and deliver a formal presentation. [2-3-0; 0-6-0] Prerequisite: Fourth-year standing.']"
      ]
     },
     "execution_count": 22,
     "metadata": {},
     "output_type": "execute_result"
    }
   ],
   "source": [
    "course_descs"
   ]
  },
  {
   "cell_type": "code",
   "execution_count": 23,
   "metadata": {},
   "outputs": [
    {
     "data": {
      "text/html": [
       "<div>\n",
       "<style scoped>\n",
       "    .dataframe tbody tr th:only-of-type {\n",
       "        vertical-align: middle;\n",
       "    }\n",
       "\n",
       "    .dataframe tbody tr th {\n",
       "        vertical-align: top;\n",
       "    }\n",
       "\n",
       "    .dataframe thead th {\n",
       "        text-align: right;\n",
       "    }\n",
       "</style>\n",
       "<table border=\"1\" class=\"dataframe\">\n",
       "  <thead>\n",
       "    <tr style=\"text-align: right;\">\n",
       "      <th></th>\n",
       "      <th>Course Number</th>\n",
       "      <th>Course Name</th>\n",
       "      <th>Course Description</th>\n",
       "    </tr>\n",
       "  </thead>\n",
       "  <tbody>\n",
       "    <tr>\n",
       "      <th>0</th>\n",
       "      <td>APSC 193</td>\n",
       "      <td>Anatomy and Physiology for Engineers</td>\n",
       "      <td>Structure and function of the neuromuscular, s...</td>\n",
       "    </tr>\n",
       "    <tr>\n",
       "      <th>1</th>\n",
       "      <td>ENGR 351</td>\n",
       "      <td>Microelectronics I</td>\n",
       "      <td>Signals and amplifier fundamentals, the operat...</td>\n",
       "    </tr>\n",
       "    <tr>\n",
       "      <th>2</th>\n",
       "      <td>ENGR 401</td>\n",
       "      <td>Bioinstrumentation</td>\n",
       "      <td>Bioinstruments used for tracking vitals, diagn...</td>\n",
       "    </tr>\n",
       "    <tr>\n",
       "      <th>3</th>\n",
       "      <td>ENGR 402</td>\n",
       "      <td>Biotechnology: Fundamentals and Applications</td>\n",
       "      <td>Basics of biotechnology, DNA and RNA technolog...</td>\n",
       "    </tr>\n",
       "    <tr>\n",
       "      <th>4</th>\n",
       "      <td>ENGR 406</td>\n",
       "      <td>Microelectromechanical Systems</td>\n",
       "      <td>Mechanisms, design, fabrication, and testing o...</td>\n",
       "    </tr>\n",
       "    <tr>\n",
       "      <th>5</th>\n",
       "      <td>ENGR 423</td>\n",
       "      <td>Wearable Devices</td>\n",
       "      <td>Design and prototyping including textiles, har...</td>\n",
       "    </tr>\n",
       "    <tr>\n",
       "      <th>6</th>\n",
       "      <td>ENGR 450</td>\n",
       "      <td>Clinical Engineering</td>\n",
       "      <td>The clinical environment, clinical tools (for ...</td>\n",
       "    </tr>\n",
       "    <tr>\n",
       "      <th>7</th>\n",
       "      <td>ENGR 482</td>\n",
       "      <td>Biomedical Engineering I</td>\n",
       "      <td>Introduction to the microcirculation; gas exch...</td>\n",
       "    </tr>\n",
       "    <tr>\n",
       "      <th>8</th>\n",
       "      <td>ENGR 499</td>\n",
       "      <td>Engineering Capstone Design Project</td>\n",
       "      <td>A capstone design project in response to an ac...</td>\n",
       "    </tr>\n",
       "  </tbody>\n",
       "</table>\n",
       "</div>"
      ],
      "text/plain": [
       "  Course Number                                   Course Name  \\\n",
       "0      APSC 193          Anatomy and Physiology for Engineers   \n",
       "1      ENGR 351                            Microelectronics I   \n",
       "2      ENGR 401                            Bioinstrumentation   \n",
       "3      ENGR 402  Biotechnology: Fundamentals and Applications   \n",
       "4      ENGR 406                Microelectromechanical Systems   \n",
       "5      ENGR 423                              Wearable Devices   \n",
       "6      ENGR 450                          Clinical Engineering   \n",
       "7      ENGR 482                      Biomedical Engineering I   \n",
       "8      ENGR 499           Engineering Capstone Design Project   \n",
       "\n",
       "                                  Course Description  \n",
       "0  Structure and function of the neuromuscular, s...  \n",
       "1  Signals and amplifier fundamentals, the operat...  \n",
       "2  Bioinstruments used for tracking vitals, diagn...  \n",
       "3  Basics of biotechnology, DNA and RNA technolog...  \n",
       "4  Mechanisms, design, fabrication, and testing o...  \n",
       "5  Design and prototyping including textiles, har...  \n",
       "6  The clinical environment, clinical tools (for ...  \n",
       "7  Introduction to the microcirculation; gas exch...  \n",
       "8  A capstone design project in response to an ac...  "
      ]
     },
     "execution_count": 23,
     "metadata": {},
     "output_type": "execute_result"
    }
   ],
   "source": [
    "import pandas as pd\n",
    "df = pd.DataFrame({\n",
    "    \n",
    "    \"Course Number\": course_codes,\n",
    "    \"Course Name\": course_names,\n",
    "    \"Course Description\": course_descs    \n",
    "    \n",
    "})\n",
    "\n",
    "df"
   ]
  },
  {
   "cell_type": "code",
   "execution_count": 24,
   "metadata": {},
   "outputs": [],
   "source": [
    "df.to_csv('UBC_Okanagan_MechEng_Biomedical_Option_Courses.csv', index = False)"
   ]
  },
  {
   "cell_type": "markdown",
   "metadata": {},
   "source": [
    "# Mechatronics Core and Electives"
   ]
  },
  {
   "cell_type": "code",
   "execution_count": 1,
   "metadata": {},
   "outputs": [],
   "source": [
    "from bs4 import BeautifulSoup as soup\n",
    "from urllib.request import urlopen as ureq\n",
    "import time\n",
    "import re"
   ]
  },
  {
   "cell_type": "markdown",
   "metadata": {},
   "source": [
    "## 1. Collect course codes"
   ]
  },
  {
   "cell_type": "code",
   "execution_count": 2,
   "metadata": {},
   "outputs": [
    {
     "data": {
      "text/html": [
       "<div>\n",
       "<style scoped>\n",
       "    .dataframe tbody tr th:only-of-type {\n",
       "        vertical-align: middle;\n",
       "    }\n",
       "\n",
       "    .dataframe tbody tr th {\n",
       "        vertical-align: top;\n",
       "    }\n",
       "\n",
       "    .dataframe thead th {\n",
       "        text-align: right;\n",
       "    }\n",
       "</style>\n",
       "<table border=\"1\" class=\"dataframe\">\n",
       "  <thead>\n",
       "    <tr style=\"text-align: right;\">\n",
       "      <th></th>\n",
       "      <th>0</th>\n",
       "    </tr>\n",
       "  </thead>\n",
       "  <tbody>\n",
       "    <tr>\n",
       "      <th>0</th>\n",
       "      <td>ENGR 406</td>\n",
       "    </tr>\n",
       "    <tr>\n",
       "      <th>1</th>\n",
       "      <td>ENGR 458</td>\n",
       "    </tr>\n",
       "    <tr>\n",
       "      <th>2</th>\n",
       "      <td>ENGR 454</td>\n",
       "    </tr>\n",
       "    <tr>\n",
       "      <th>3</th>\n",
       "      <td>ENGR 467</td>\n",
       "    </tr>\n",
       "    <tr>\n",
       "      <th>4</th>\n",
       "      <td>ENGR 418</td>\n",
       "    </tr>\n",
       "    <tr>\n",
       "      <th>5</th>\n",
       "      <td>ENGR 453</td>\n",
       "    </tr>\n",
       "    <tr>\n",
       "      <th>6</th>\n",
       "      <td>ENGR 486</td>\n",
       "    </tr>\n",
       "    <tr>\n",
       "      <th>7</th>\n",
       "      <td>ENGR 487</td>\n",
       "    </tr>\n",
       "    <tr>\n",
       "      <th>8</th>\n",
       "      <td>ENGR 456</td>\n",
       "    </tr>\n",
       "    <tr>\n",
       "      <th>9</th>\n",
       "      <td>ENGR 494</td>\n",
       "    </tr>\n",
       "    <tr>\n",
       "      <th>10</th>\n",
       "      <td>COSC 121</td>\n",
       "    </tr>\n",
       "    <tr>\n",
       "      <th>11</th>\n",
       "      <td>COSC 222</td>\n",
       "    </tr>\n",
       "    <tr>\n",
       "      <th>12</th>\n",
       "      <td>MANF 386</td>\n",
       "    </tr>\n",
       "    <tr>\n",
       "      <th>13</th>\n",
       "      <td>ENGR 359</td>\n",
       "    </tr>\n",
       "    <tr>\n",
       "      <th>14</th>\n",
       "      <td>ENGR 480</td>\n",
       "    </tr>\n",
       "    <tr>\n",
       "      <th>15</th>\n",
       "      <td>MANF 486</td>\n",
       "    </tr>\n",
       "  </tbody>\n",
       "</table>\n",
       "</div>"
      ],
      "text/plain": [
       "           0\n",
       "0   ENGR 406\n",
       "1   ENGR 458\n",
       "2   ENGR 454\n",
       "3   ENGR 467\n",
       "4   ENGR 418\n",
       "5   ENGR 453\n",
       "6   ENGR 486\n",
       "7   ENGR 487\n",
       "8   ENGR 456\n",
       "9   ENGR 494\n",
       "10  COSC 121\n",
       "11  COSC 222\n",
       "12  MANF 386\n",
       "13  ENGR 359\n",
       "14  ENGR 480\n",
       "15  MANF 486"
      ]
     },
     "execution_count": 2,
     "metadata": {},
     "output_type": "execute_result"
    }
   ],
   "source": [
    "import pandas as pd\n",
    "df = pd.read_excel(r'UBC Okanagan MechEng Mechatronics Option Course Names.xlsx', header = None)\n",
    "df"
   ]
  },
  {
   "cell_type": "code",
   "execution_count": 3,
   "metadata": {},
   "outputs": [
    {
     "data": {
      "text/plain": [
       "['ENGR 406',\n",
       " 'ENGR 458',\n",
       " 'ENGR 454',\n",
       " 'ENGR 467',\n",
       " 'ENGR 418',\n",
       " 'ENGR 453',\n",
       " 'ENGR 486',\n",
       " 'ENGR 487',\n",
       " 'ENGR 456',\n",
       " 'ENGR 494',\n",
       " 'COSC 121',\n",
       " 'COSC 222',\n",
       " 'MANF 386',\n",
       " 'ENGR 359',\n",
       " 'ENGR 480',\n",
       " 'MANF 486']"
      ]
     },
     "execution_count": 3,
     "metadata": {},
     "output_type": "execute_result"
    }
   ],
   "source": [
    "course_codes = list(df[0])\n",
    "course_codes"
   ]
  },
  {
   "cell_type": "markdown",
   "metadata": {},
   "source": [
    "## 2. Use course codes to find and scrape corresponding course names and descriptions"
   ]
  },
  {
   "cell_type": "code",
   "execution_count": 4,
   "metadata": {},
   "outputs": [],
   "source": [
    "subject_links = {\n",
    "    \"ENGR\": \"http://www.calendar.ubc.ca/okanagan/courses.cfm?go=code&institution=2&code=ENGR\",\n",
    "    \"MANF\": \"http://www.calendar.ubc.ca/okanagan/courses.cfm?go=code&institution=2&code=MANF\",\n",
    "    \"COSC\": \"http://www.calendar.ubc.ca/okanagan/courses.cfm?go=code&institution=8&code=COSC\"\n",
    "}"
   ]
  },
  {
   "cell_type": "code",
   "execution_count": 5,
   "metadata": {},
   "outputs": [
    {
     "name": "stdout",
     "output_type": "stream",
     "text": [
      "scraped  ENGR 406\n",
      "scraped  ENGR 458\n",
      "scraped  ENGR 454\n",
      "scraped  ENGR 467\n",
      "scraped  ENGR 418\n",
      "scraped  ENGR 453\n",
      "scraped  ENGR 486\n",
      "scraped  ENGR 487\n",
      "scraped  ENGR 456\n",
      "scraped  ENGR 494\n",
      "scraped  COSC 121\n",
      "scraped  COSC 222\n",
      "scraped  MANF 386\n",
      "scraped  ENGR 359\n",
      "scraped  ENGR 480\n",
      "scraped  MANF 486\n",
      "16\n"
     ]
    }
   ],
   "source": [
    "course_names = []\n",
    "course_descs = []\n",
    "counter = 0\n",
    "prev_link = \"\"\n",
    "\n",
    "for course_code in course_codes:\n",
    "    \n",
    "    if subject_links[course_code.split()[0]] != prev_link:\n",
    "        uClient = ureq(subject_links[course_code.split()[0]])\n",
    "        time.sleep(2)\n",
    "        page_html = uClient.read()\n",
    "        uClient.close()\n",
    "        page_soup = soup(page_html, \"html.parser\")\n",
    "        prev_link = subject_links[course_code.split()[0]]\n",
    "        \n",
    "    course_title_container = page_soup.find(text = re.compile(\"^\" + course_code))\n",
    "    if course_title_container is None:\n",
    "        print(\"Cannot find \", course_code)\n",
    "    else:\n",
    "        course_names.append(course_title_container.findNext().text.strip())\n",
    "        course_descs.append(course_title_container.findNext().findNext().text.strip())\n",
    "    \n",
    "        counter += 1\n",
    "        print(\"scraped \", course_code)\n",
    "    \n",
    "print(counter)"
   ]
  },
  {
   "cell_type": "markdown",
   "metadata": {},
   "source": [
    "## 3. Inspect and write to CSV"
   ]
  },
  {
   "cell_type": "code",
   "execution_count": 6,
   "metadata": {},
   "outputs": [
    {
     "data": {
      "text/plain": [
       "['Microelectromechanical Systems',\n",
       " 'Power Electronics',\n",
       " 'Motor Drive Systems',\n",
       " 'Real-Time and Embedded System Design',\n",
       " 'Applied Machine Learning for Engineers',\n",
       " 'Internet of Things',\n",
       " 'Robot Modelling and Control',\n",
       " 'Digital Control',\n",
       " 'Electrochemical Energy Storage Systems',\n",
       " 'Autonomous Vehicle Technology',\n",
       " 'Computer Programming II',\n",
       " 'Data Structures',\n",
       " 'Industrial Automation',\n",
       " 'Microcomputer Engineering',\n",
       " 'Modern Control',\n",
       " 'Mechatronic Systems Laboratory']"
      ]
     },
     "execution_count": 6,
     "metadata": {},
     "output_type": "execute_result"
    }
   ],
   "source": [
    "course_names"
   ]
  },
  {
   "cell_type": "code",
   "execution_count": 7,
   "metadata": {
    "scrolled": true
   },
   "outputs": [
    {
     "data": {
      "text/plain": [
       "['Mechanisms, design, fabrication, and testing of microsensors, actuators, and MicroElectroMechanical systems (MEMS).  Credit will not be granted for both ENGR 406 and ENGR 506 [3-2*-0] Prerequisite: Fourth-year standing in the B.A.Sc. Program',\n",
       " 'Applications and roles of power electronics, power semiconductor devices, diode rectifiers, phase-controlled rectifiers, DC-DC converters, DC-AC converters, resonant converters. Examples drawn from residential and industrial applications. Credit will be granted for only one of ENGR 458 or ENGR 558. [3-2*-0] Prerequisite: ENGR 320.',\n",
       " 'Three-phase AC/DC PWM inverter, converter modulation techniques, abc/qd reference frame theory, brushed DC machine drives, induction motor drives, permanent magnet AC machines, brushless dc motors and drive circuits. [3-2*-0] Prerequisite: ENGR 320.',\n",
       " 'Multi-tasking, interrupt-driven systems, RTOSs and programming environments, task scheduling, schedulability analysis, inter-process communication and synchronization, resource management, performance measurement. [3-2*-0] Prerequisite: ENGR 359.',\n",
       " 'Fundamentals of machine learning, toolboxes in machine learning, supervised learning, unsupervised learning, applications of machine learning in various engineering disciplines. Credit will be granted for only one of ENGR 418 or ENGR 518. [3-0-0] Prerequisite: Fourth-year standing in the B.A.Sc. program.',\n",
       " 'Sensing, actuation, sampling, analog-to-digital and digital-to-analog conversion, voice over IP, video codecs, audio codecs, multimedia communication protocols for IoT, wireless communication protocols for IoT. [3-2*-0] Prerequisite: APSC 254.',\n",
       " 'Spatial description and homogeneous transformations, manipulator kinematics (forward and inverse), Jacobian, motion trajectories. Manipulator dynamics, Lagrange-Euler and Newton-Euler formulation. Linear and nonlinear control, force control. Industrial robotic system and programming. Credit will be granted for only one of ENGR 486 or ENGR 586. [3-0-0] Prerequisite: ENGR 315.',\n",
       " 'Digital control theory and a brief review of classical control and its relationship to discrete systems. Discrete time systems, sampling, z-transform, pulse transfer function, stability in z-domain, pole-placement control design and state estimation, discrete linear quadratic optimal control, introduction to system identification and Kalman filter. Credit will be granted for only one of ENGR 487 or ENGR 587. [3-0-0] Prerequisite: ENGR 315.',\n",
       " 'Thermodynamics and kinetics of electrochemical reactions, rechargeable batteries, Li-ion batteries, anode and cathode materials, nanostructured materials for batteries, liquid-solid and solid-solid interfaces in batteries, next-generation Naion and Li-S batteries, supercapacitors, and hybrid Li-ion supercapacitors. [3-0-0] Prerequisite: All of APSC 252, APSC 259.',\n",
       " 'Autonomous navigation: perception, localization and mapping, motion planning, and motion control; and applications to unmanned aerial vehicles (UAVs), automated vehicles and self-driving cars.  Credit will be granted for only one of ENGR 494 or ENGR 535. [3-1-0] Prerequisite: ENGR 480.',\n",
       " 'Advanced programming in the application of software engineering techniques to the design and implementation of programs manipulating complex data structures. [3-2-0] Prerequisite: A score of 60% or higher in one of COSC 111, COSC 123.',\n",
       " 'Introduction to the design, implementation and analysis of data structures. Topics will include lists, stacks, queues, trees, and graphs. Credit will only be granted for one of COSC 210 or COSC 222. [3-2-0] Prerequisite: A score of 60% or higher in COSC 121.',\n",
       " 'Linear system modelling, block diagrams, transient response, root locus, frequency response, Bode plots, and controller design. Principles and components of industrial automation systems, programmable logic controllers (PLCs), controller programming languages. Credit will be granted for only one of MANF 386 or ENGR 315. [3-2-0] Prerequisite: APSC 246.',\n",
       " 'Microcomputer architecture, number representation, assembly language, parallel and serial input/output, interrupts, memory, peripherals. [3-2*-0] Prerequisite: APSC 255.',\n",
       " 'State-space modelling and design. Review of linear and matrix algebra, highlights of classical control theory, state-space modelling, continuous and discrete state equations, stability, controllability and observability, design of feedback systems. Credit will be granted for only one of ENGR 480 or ENGR 580. [3-2*-0] Prerequisite: ENGR 315.',\n",
       " 'Smart sensors and actuators, electro-pneumatic actuators, automated control systems, industrial communication, smart maintenance, object detection, industrial robotics, modelling and simulation of mechatronic systems. Hands-on training on mechatronic system trainers in a laboratory scale [1-4-0] Prerequisite: One of MANF 386, ENGR 481.']"
      ]
     },
     "execution_count": 7,
     "metadata": {},
     "output_type": "execute_result"
    }
   ],
   "source": [
    "course_descs"
   ]
  },
  {
   "cell_type": "code",
   "execution_count": 8,
   "metadata": {},
   "outputs": [
    {
     "data": {
      "text/html": [
       "<div>\n",
       "<style scoped>\n",
       "    .dataframe tbody tr th:only-of-type {\n",
       "        vertical-align: middle;\n",
       "    }\n",
       "\n",
       "    .dataframe tbody tr th {\n",
       "        vertical-align: top;\n",
       "    }\n",
       "\n",
       "    .dataframe thead th {\n",
       "        text-align: right;\n",
       "    }\n",
       "</style>\n",
       "<table border=\"1\" class=\"dataframe\">\n",
       "  <thead>\n",
       "    <tr style=\"text-align: right;\">\n",
       "      <th></th>\n",
       "      <th>Course Number</th>\n",
       "      <th>Course Name</th>\n",
       "      <th>Course Description</th>\n",
       "    </tr>\n",
       "  </thead>\n",
       "  <tbody>\n",
       "    <tr>\n",
       "      <th>0</th>\n",
       "      <td>ENGR 406</td>\n",
       "      <td>Microelectromechanical Systems</td>\n",
       "      <td>Mechanisms, design, fabrication, and testing o...</td>\n",
       "    </tr>\n",
       "    <tr>\n",
       "      <th>1</th>\n",
       "      <td>ENGR 458</td>\n",
       "      <td>Power Electronics</td>\n",
       "      <td>Applications and roles of power electronics, p...</td>\n",
       "    </tr>\n",
       "    <tr>\n",
       "      <th>2</th>\n",
       "      <td>ENGR 454</td>\n",
       "      <td>Motor Drive Systems</td>\n",
       "      <td>Three-phase AC/DC PWM inverter, converter modu...</td>\n",
       "    </tr>\n",
       "    <tr>\n",
       "      <th>3</th>\n",
       "      <td>ENGR 467</td>\n",
       "      <td>Real-Time and Embedded System Design</td>\n",
       "      <td>Multi-tasking, interrupt-driven systems, RTOSs...</td>\n",
       "    </tr>\n",
       "    <tr>\n",
       "      <th>4</th>\n",
       "      <td>ENGR 418</td>\n",
       "      <td>Applied Machine Learning for Engineers</td>\n",
       "      <td>Fundamentals of machine learning, toolboxes in...</td>\n",
       "    </tr>\n",
       "    <tr>\n",
       "      <th>5</th>\n",
       "      <td>ENGR 453</td>\n",
       "      <td>Internet of Things</td>\n",
       "      <td>Sensing, actuation, sampling, analog-to-digita...</td>\n",
       "    </tr>\n",
       "    <tr>\n",
       "      <th>6</th>\n",
       "      <td>ENGR 486</td>\n",
       "      <td>Robot Modelling and Control</td>\n",
       "      <td>Spatial description and homogeneous transforma...</td>\n",
       "    </tr>\n",
       "    <tr>\n",
       "      <th>7</th>\n",
       "      <td>ENGR 487</td>\n",
       "      <td>Digital Control</td>\n",
       "      <td>Digital control theory and a brief review of c...</td>\n",
       "    </tr>\n",
       "    <tr>\n",
       "      <th>8</th>\n",
       "      <td>ENGR 456</td>\n",
       "      <td>Electrochemical Energy Storage Systems</td>\n",
       "      <td>Thermodynamics and kinetics of electrochemical...</td>\n",
       "    </tr>\n",
       "    <tr>\n",
       "      <th>9</th>\n",
       "      <td>ENGR 494</td>\n",
       "      <td>Autonomous Vehicle Technology</td>\n",
       "      <td>Autonomous navigation: perception, localizatio...</td>\n",
       "    </tr>\n",
       "    <tr>\n",
       "      <th>10</th>\n",
       "      <td>COSC 121</td>\n",
       "      <td>Computer Programming II</td>\n",
       "      <td>Advanced programming in the application of sof...</td>\n",
       "    </tr>\n",
       "    <tr>\n",
       "      <th>11</th>\n",
       "      <td>COSC 222</td>\n",
       "      <td>Data Structures</td>\n",
       "      <td>Introduction to the design, implementation and...</td>\n",
       "    </tr>\n",
       "    <tr>\n",
       "      <th>12</th>\n",
       "      <td>MANF 386</td>\n",
       "      <td>Industrial Automation</td>\n",
       "      <td>Linear system modelling, block diagrams, trans...</td>\n",
       "    </tr>\n",
       "    <tr>\n",
       "      <th>13</th>\n",
       "      <td>ENGR 359</td>\n",
       "      <td>Microcomputer Engineering</td>\n",
       "      <td>Microcomputer architecture, number representat...</td>\n",
       "    </tr>\n",
       "    <tr>\n",
       "      <th>14</th>\n",
       "      <td>ENGR 480</td>\n",
       "      <td>Modern Control</td>\n",
       "      <td>State-space modelling and design. Review of li...</td>\n",
       "    </tr>\n",
       "    <tr>\n",
       "      <th>15</th>\n",
       "      <td>MANF 486</td>\n",
       "      <td>Mechatronic Systems Laboratory</td>\n",
       "      <td>Smart sensors and actuators, electro-pneumatic...</td>\n",
       "    </tr>\n",
       "  </tbody>\n",
       "</table>\n",
       "</div>"
      ],
      "text/plain": [
       "   Course Number                             Course Name  \\\n",
       "0       ENGR 406          Microelectromechanical Systems   \n",
       "1       ENGR 458                       Power Electronics   \n",
       "2       ENGR 454                     Motor Drive Systems   \n",
       "3       ENGR 467    Real-Time and Embedded System Design   \n",
       "4       ENGR 418  Applied Machine Learning for Engineers   \n",
       "5       ENGR 453                      Internet of Things   \n",
       "6       ENGR 486             Robot Modelling and Control   \n",
       "7       ENGR 487                         Digital Control   \n",
       "8       ENGR 456  Electrochemical Energy Storage Systems   \n",
       "9       ENGR 494           Autonomous Vehicle Technology   \n",
       "10      COSC 121                 Computer Programming II   \n",
       "11      COSC 222                         Data Structures   \n",
       "12      MANF 386                   Industrial Automation   \n",
       "13      ENGR 359               Microcomputer Engineering   \n",
       "14      ENGR 480                          Modern Control   \n",
       "15      MANF 486          Mechatronic Systems Laboratory   \n",
       "\n",
       "                                   Course Description  \n",
       "0   Mechanisms, design, fabrication, and testing o...  \n",
       "1   Applications and roles of power electronics, p...  \n",
       "2   Three-phase AC/DC PWM inverter, converter modu...  \n",
       "3   Multi-tasking, interrupt-driven systems, RTOSs...  \n",
       "4   Fundamentals of machine learning, toolboxes in...  \n",
       "5   Sensing, actuation, sampling, analog-to-digita...  \n",
       "6   Spatial description and homogeneous transforma...  \n",
       "7   Digital control theory and a brief review of c...  \n",
       "8   Thermodynamics and kinetics of electrochemical...  \n",
       "9   Autonomous navigation: perception, localizatio...  \n",
       "10  Advanced programming in the application of sof...  \n",
       "11  Introduction to the design, implementation and...  \n",
       "12  Linear system modelling, block diagrams, trans...  \n",
       "13  Microcomputer architecture, number representat...  \n",
       "14  State-space modelling and design. Review of li...  \n",
       "15  Smart sensors and actuators, electro-pneumatic...  "
      ]
     },
     "execution_count": 8,
     "metadata": {},
     "output_type": "execute_result"
    }
   ],
   "source": [
    "import pandas as pd\n",
    "\n",
    "df = pd.DataFrame({\n",
    "    \n",
    "    \"Course Number\": course_codes,\n",
    "    \"Course Name\": course_names,\n",
    "    \"Course Description\": course_descs    \n",
    "    \n",
    "})\n",
    "\n",
    "df"
   ]
  },
  {
   "cell_type": "code",
   "execution_count": 9,
   "metadata": {},
   "outputs": [],
   "source": [
    "df.to_csv(\"UBC_Okanagan_MechEng_Mechatronics_Option_Courses.csv\", index = False)"
   ]
  }
 ],
 "metadata": {
  "kernelspec": {
   "display_name": "Python 3",
   "language": "python",
   "name": "python3"
  },
  "language_info": {
   "codemirror_mode": {
    "name": "ipython",
    "version": 3
   },
   "file_extension": ".py",
   "mimetype": "text/x-python",
   "name": "python",
   "nbconvert_exporter": "python",
   "pygments_lexer": "ipython3",
   "version": "3.8.5"
  }
 },
 "nbformat": 4,
 "nbformat_minor": 4
}
