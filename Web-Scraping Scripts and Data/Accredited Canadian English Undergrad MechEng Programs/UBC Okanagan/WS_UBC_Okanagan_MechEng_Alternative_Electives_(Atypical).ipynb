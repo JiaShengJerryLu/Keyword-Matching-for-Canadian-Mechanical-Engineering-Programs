{
 "cells": [
  {
   "cell_type": "code",
   "execution_count": 1,
   "metadata": {},
   "outputs": [],
   "source": [
    "from bs4 import BeautifulSoup as soup\n",
    "from urllib.request import urlopen as ureq\n",
    "import time\n",
    "import re"
   ]
  },
  {
   "cell_type": "markdown",
   "metadata": {},
   "source": [
    "# 1. import list of altenative elective courses"
   ]
  },
  {
   "cell_type": "code",
   "execution_count": 2,
   "metadata": {},
   "outputs": [
    {
     "data": {
      "text/html": [
       "<div>\n",
       "<style scoped>\n",
       "    .dataframe tbody tr th:only-of-type {\n",
       "        vertical-align: middle;\n",
       "    }\n",
       "\n",
       "    .dataframe tbody tr th {\n",
       "        vertical-align: top;\n",
       "    }\n",
       "\n",
       "    .dataframe thead th {\n",
       "        text-align: right;\n",
       "    }\n",
       "</style>\n",
       "<table border=\"1\" class=\"dataframe\">\n",
       "  <thead>\n",
       "    <tr style=\"text-align: right;\">\n",
       "      <th></th>\n",
       "      <th>0</th>\n",
       "    </tr>\n",
       "  </thead>\n",
       "  <tbody>\n",
       "    <tr>\n",
       "      <th>0</th>\n",
       "      <td>COSC 301</td>\n",
       "    </tr>\n",
       "    <tr>\n",
       "      <th>1</th>\n",
       "      <td>COSC 315</td>\n",
       "    </tr>\n",
       "    <tr>\n",
       "      <th>2</th>\n",
       "      <td>COSC 322</td>\n",
       "    </tr>\n",
       "    <tr>\n",
       "      <th>3</th>\n",
       "      <td>COSC 406</td>\n",
       "    </tr>\n",
       "    <tr>\n",
       "      <th>4</th>\n",
       "      <td>MATH 319</td>\n",
       "    </tr>\n",
       "    <tr>\n",
       "      <th>5</th>\n",
       "      <td>MATH 340</td>\n",
       "    </tr>\n",
       "    <tr>\n",
       "      <th>6</th>\n",
       "      <td>MATH 350</td>\n",
       "    </tr>\n",
       "    <tr>\n",
       "      <th>7</th>\n",
       "      <td>PHYS 305</td>\n",
       "    </tr>\n",
       "    <tr>\n",
       "      <th>8</th>\n",
       "      <td>PHYS 310</td>\n",
       "    </tr>\n",
       "    <tr>\n",
       "      <th>9</th>\n",
       "      <td>PHYS 328</td>\n",
       "    </tr>\n",
       "    <tr>\n",
       "      <th>10</th>\n",
       "      <td>PHYS 401</td>\n",
       "    </tr>\n",
       "    <tr>\n",
       "      <th>11</th>\n",
       "      <td>PHYS 402</td>\n",
       "    </tr>\n",
       "    <tr>\n",
       "      <th>12</th>\n",
       "      <td>PHYS 418</td>\n",
       "    </tr>\n",
       "    <tr>\n",
       "      <th>13</th>\n",
       "      <td>PHYS 420</td>\n",
       "    </tr>\n",
       "    <tr>\n",
       "      <th>14</th>\n",
       "      <td>PHYS 425</td>\n",
       "    </tr>\n",
       "  </tbody>\n",
       "</table>\n",
       "</div>"
      ],
      "text/plain": [
       "           0\n",
       "0   COSC 301\n",
       "1   COSC 315\n",
       "2   COSC 322\n",
       "3   COSC 406\n",
       "4   MATH 319\n",
       "5   MATH 340\n",
       "6   MATH 350\n",
       "7   PHYS 305\n",
       "8   PHYS 310\n",
       "9   PHYS 328\n",
       "10  PHYS 401\n",
       "11  PHYS 402\n",
       "12  PHYS 418\n",
       "13  PHYS 420\n",
       "14  PHYS 425"
      ]
     },
     "execution_count": 2,
     "metadata": {},
     "output_type": "execute_result"
    }
   ],
   "source": [
    "import pandas as pd\n",
    "df = pd.read_excel(r'UBC Okanagan MechEng Alternative Electives Names (Atypical).xlsx', header = None)\n",
    "df"
   ]
  },
  {
   "cell_type": "code",
   "execution_count": 3,
   "metadata": {},
   "outputs": [],
   "source": [
    "course_codes = list(df[0])"
   ]
  },
  {
   "cell_type": "markdown",
   "metadata": {},
   "source": [
    "# 2. Use the course codes to find and scrape corresponding course names and descriptions"
   ]
  },
  {
   "cell_type": "code",
   "execution_count": 4,
   "metadata": {},
   "outputs": [],
   "source": [
    "subject_links = {\n",
    "    \"ENGR\": \"http://www.calendar.ubc.ca/okanagan/courses.cfm?go=code&institution=2&code=ENGR\",\n",
    "    \"MANF\": \"http://www.calendar.ubc.ca/okanagan/courses.cfm?go=code&institution=2&code=MANF\",\n",
    "    \"MATH\": \"http://www.calendar.ubc.ca/okanagan/courses.cfm?go=code&institution=8&code=MATH\",\n",
    "    \"PHYS\": \"http://www.calendar.ubc.ca/okanagan/courses.cfm?go=code&institution=8&code=PHYS\",\n",
    "    \"COSC\": \"http://www.calendar.ubc.ca/okanagan/courses.cfm?go=code&institution=8&code=COSC\"\n",
    "}"
   ]
  },
  {
   "cell_type": "code",
   "execution_count": 5,
   "metadata": {},
   "outputs": [
    {
     "name": "stdout",
     "output_type": "stream",
     "text": [
      "scraped  COSC 301\n",
      "scraped  COSC 315\n",
      "scraped  COSC 322\n",
      "scraped  COSC 406\n",
      "scraped  MATH 319\n",
      "scraped  MATH 340\n",
      "scraped  MATH 350\n",
      "scraped  PHYS 305\n",
      "scraped  PHYS 310\n",
      "scraped  PHYS 328\n",
      "scraped  PHYS 401\n",
      "scraped  PHYS 402\n",
      "scraped  PHYS 418\n",
      "scraped  PHYS 420\n",
      "scraped  PHYS 425\n",
      "15\n"
     ]
    }
   ],
   "source": [
    "course_names = []\n",
    "course_descs = []\n",
    "counter = 0\n",
    "prev_link = \"\"\n",
    "\n",
    "for course_code in course_codes:\n",
    "    \n",
    "    if subject_links[course_code.split()[0]] != prev_link:\n",
    "        uClient = ureq(subject_links[course_code.split()[0]])\n",
    "        time.sleep(2)\n",
    "        page_html = uClient.read()\n",
    "        uClient.close()\n",
    "        page_soup = soup(page_html, \"html.parser\")\n",
    "        prev_link = subject_links[course_code.split()[0]]\n",
    "        \n",
    "    course_title_container = page_soup.find(text = re.compile(\"^\" + course_code))\n",
    "    if course_title_container is None:\n",
    "        print(\"Cannot find \", course_code)\n",
    "    else:\n",
    "        course_names.append(course_title_container.findNext().text.strip())\n",
    "        course_descs.append(course_title_container.findNext().findNext().text.strip())\n",
    "    \n",
    "        counter += 1\n",
    "        print(\"scraped \", course_code)\n",
    "    \n",
    "print(counter)"
   ]
  },
  {
   "cell_type": "markdown",
   "metadata": {},
   "source": [
    "# 3. Inspect collected data and write to CSV"
   ]
  },
  {
   "cell_type": "code",
   "execution_count": 6,
   "metadata": {},
   "outputs": [
    {
     "data": {
      "text/plain": [
       "['Introduction to Data Analytics',\n",
       " 'Introduction to Operating Systems',\n",
       " 'Introduction to Artificial Intelligence',\n",
       " 'Numerical Optimization',\n",
       " 'Introduction to Partial Differential Equations',\n",
       " 'Introduction to Linear Programming',\n",
       " 'Complex Variables and Applications',\n",
       " 'Introduction to Biophysics',\n",
       " 'Introduction to Medical Physics',\n",
       " 'Advanced Mechanics',\n",
       " 'Electromagnetic Theory',\n",
       " 'Advanced Quantum Mechanics',\n",
       " 'Methods of Theoretical Physics',\n",
       " 'Data and Image Processing',\n",
       " 'Low-Temperature Physics']"
      ]
     },
     "execution_count": 6,
     "metadata": {},
     "output_type": "execute_result"
    }
   ],
   "source": [
    "course_names"
   ]
  },
  {
   "cell_type": "code",
   "execution_count": 7,
   "metadata": {
    "scrolled": true
   },
   "outputs": [
    {
     "data": {
      "text/plain": [
       "['Techniques for computation, analysis, and visualization of data using software. Manipulation of small and large data sets. Automation using scripting. Real-world applications from life sciences, physical sciences, economics, engineering, or psychology. No prior computing background is required. Credit will be granted for only one of COSC 301, DATA 301 or DATA 501. [3-2-0] Prerequisite: Either (a) third-year standing, or (b) one of COSC 111 or COSC 122 Equivalency: DATA 301.',\n",
       " 'Introduction to batch, multiprogramming, and time-sharing systems. Process synchronization and communication. Main memory allocation techniques including virtual memory; process scheduling; deadlock avoidance and prevention; file organization and device management. [3-2-0] Prerequisite: All of COSC 221, COSC 222.',\n",
       " 'AI and intelligent agents; state space search; game playing agents; logic and knowledge-based agents; constraint programming; planning; reasoning and decision making under uncertainty; machine learning; natural language understanding. Credit will be granted for only one of COSC 322 or COSC 522. [3-2-0] Prerequisite: All of COSC 221, COSC 222.',\n",
       " 'Formulation and analysis of algorithms for continuous optimization problems; linear, quadratic, semi-definite, nonlinear (constrained and unconstrained), convex (smooth and non-smooth) optimization; large-scale problems; software packages and their implementation; elements of duality theory. Credit will not be granted for both COSC 406 and COSC 506. [3-2-0] Prerequisite: One of MATH 200, APSC 248 and one of MATH 221, APSC 179.',\n",
       " \"Methods of separation of variable, Fourier series, heat, wave and Laplace's equations, boundary value problems, eigenfunction expansions, and Sturm-Liouville problems. [3-0-1] Prerequisite: All of MATH 200, MATH 225.\",\n",
       " \"Linear programming problems, dual problems, the simplex algorithm, solution of primal and dual problems, sensitivity analysis. Additional topics chosen from: Karmarkar's algorithm, non-linear programming, game theory, applications. [3-0-0] Prerequisite: MATH 221.\",\n",
       " 'Covers analytic functions, Cauchy-Riemann equations, power series, Laurent series, elementary functions, contour integrals, and poles and residues. Introduction to conformal mapping and applications of analysis to problems in physics and engineering. [3-0-0] Prerequisite: MATH 200.',\n",
       " \"Analysis of biological systems from a physicist's perspective. Introduction to physics underlying biological phenomena, and range of applicability of simple physical principles. Form and size in animals, strength and energy storage in structural elements, thermal regulation, fluid motion within organisms, life in fluids, and molecular physics topics. [3-0-0] Prerequisite: MATH 101 and either (a) PHYS 121 or (b) a score of 68% or higher in PHYS 112 and a score of 68% or higher in PHYS 122. Third-year standing in Science or a 200-level PHYS course taken concurrently.\",\n",
       " 'Radiation interactions with matter; use of ionizing and non-ionizing radiation to diagnose and treat disease; radiation dosimetry; introduction to radiobiology; radiation effects in healthy and tumour tissue; radiation protection; medical imaging in radiation therapy. [3-0-0] Prerequisite: MATH 101 and either (a) PHYS 121 or (b) a score of 68% or higher in PHYS 112 and a score of 68% or higher in PHYS 122. Third-year standing in Science or a 200-level PHYS course taken concurrently.',\n",
       " \"Variational calculus, the Lagrangian Method applied to a variety of problems, weak anharmonic perturbations of normal-mode systems, Hamilton's equations of motion, phase space, Liouville's theorem, chaos in Hamiltonian systems, rigid-body rotations in three dimensions, Lagrangian formulation of relativistic mechanics, and the Virial theorem. [3-0-0] Prerequisite: All of MATH 200, MATH 221, MATH 225, PHYS 216.\",\n",
       " \"The application of Maxwell's theory to the propagation of electromagnetic waves. [3-0-0] Prerequisite: PHYS 301.\",\n",
       " 'Quantum mechanical methods and concepts emphasizing operator algebra approaches. Commutation relations; quantum dynamics; approximation methods including stationary-state and time-dependent perturbation theory; interaction of radiation with matter; identical particles. [3-0-0] Prerequisite: PHYS 304.',\n",
       " 'Powerful analytical techniques repeatedly encountered in the subject areas of physics, unity in theoretical treatment of different subject areas. Tensors, operator algebra, variational principles, the Dirac delta-function formalism, adiabatic approximations, and stochastic processes. [3-0-0] Prerequisite: All of MATH 221, MATH 225, MATH 317, PHYS 200, PHYS 216.',\n",
       " 'Introduction to digital signal and image processing. Correlation, convolution, Fourier transforms, digital filtering, model of image formation and degradation, image filtering in the spatial and Fourier domain, deconvolution, multivariate analysis. [3-0-0] Prerequisite: All of MATH 225, MATH 317 and 3 credits in 200-level Physics.',\n",
       " 'Cryogenic techniques and instrumentation. Production of low temperatures: cryogenic liquids; closed-cycle refrigerators; dilution refrigerators; magnetic cooling. Low-temperature material properties and cryostat design. Macroscopic quantum effects: superconductivity and superfluidity. [3-2-0] Prerequisite: All of PHYS 215, PHYS 304.']"
      ]
     },
     "execution_count": 7,
     "metadata": {},
     "output_type": "execute_result"
    }
   ],
   "source": [
    "course_descs"
   ]
  },
  {
   "cell_type": "code",
   "execution_count": 8,
   "metadata": {
    "scrolled": false
   },
   "outputs": [
    {
     "data": {
      "text/html": [
       "<div>\n",
       "<style scoped>\n",
       "    .dataframe tbody tr th:only-of-type {\n",
       "        vertical-align: middle;\n",
       "    }\n",
       "\n",
       "    .dataframe tbody tr th {\n",
       "        vertical-align: top;\n",
       "    }\n",
       "\n",
       "    .dataframe thead th {\n",
       "        text-align: right;\n",
       "    }\n",
       "</style>\n",
       "<table border=\"1\" class=\"dataframe\">\n",
       "  <thead>\n",
       "    <tr style=\"text-align: right;\">\n",
       "      <th></th>\n",
       "      <th>Course Number</th>\n",
       "      <th>Course Name</th>\n",
       "      <th>Course Description</th>\n",
       "    </tr>\n",
       "  </thead>\n",
       "  <tbody>\n",
       "    <tr>\n",
       "      <th>0</th>\n",
       "      <td>COSC 301</td>\n",
       "      <td>Introduction to Data Analytics</td>\n",
       "      <td>Techniques for computation, analysis, and visu...</td>\n",
       "    </tr>\n",
       "    <tr>\n",
       "      <th>1</th>\n",
       "      <td>COSC 315</td>\n",
       "      <td>Introduction to Operating Systems</td>\n",
       "      <td>Introduction to batch, multiprogramming, and t...</td>\n",
       "    </tr>\n",
       "    <tr>\n",
       "      <th>2</th>\n",
       "      <td>COSC 322</td>\n",
       "      <td>Introduction to Artificial Intelligence</td>\n",
       "      <td>AI and intelligent agents; state space search;...</td>\n",
       "    </tr>\n",
       "    <tr>\n",
       "      <th>3</th>\n",
       "      <td>COSC 406</td>\n",
       "      <td>Numerical Optimization</td>\n",
       "      <td>Formulation and analysis of algorithms for con...</td>\n",
       "    </tr>\n",
       "    <tr>\n",
       "      <th>4</th>\n",
       "      <td>MATH 319</td>\n",
       "      <td>Introduction to Partial Differential Equations</td>\n",
       "      <td>Methods of separation of variable, Fourier ser...</td>\n",
       "    </tr>\n",
       "    <tr>\n",
       "      <th>5</th>\n",
       "      <td>MATH 340</td>\n",
       "      <td>Introduction to Linear Programming</td>\n",
       "      <td>Linear programming problems, dual problems, th...</td>\n",
       "    </tr>\n",
       "    <tr>\n",
       "      <th>6</th>\n",
       "      <td>MATH 350</td>\n",
       "      <td>Complex Variables and Applications</td>\n",
       "      <td>Covers analytic functions, Cauchy-Riemann equa...</td>\n",
       "    </tr>\n",
       "    <tr>\n",
       "      <th>7</th>\n",
       "      <td>PHYS 305</td>\n",
       "      <td>Introduction to Biophysics</td>\n",
       "      <td>Analysis of biological systems from a physicis...</td>\n",
       "    </tr>\n",
       "    <tr>\n",
       "      <th>8</th>\n",
       "      <td>PHYS 310</td>\n",
       "      <td>Introduction to Medical Physics</td>\n",
       "      <td>Radiation interactions with matter; use of ion...</td>\n",
       "    </tr>\n",
       "    <tr>\n",
       "      <th>9</th>\n",
       "      <td>PHYS 328</td>\n",
       "      <td>Advanced Mechanics</td>\n",
       "      <td>Variational calculus, the Lagrangian Method ap...</td>\n",
       "    </tr>\n",
       "    <tr>\n",
       "      <th>10</th>\n",
       "      <td>PHYS 401</td>\n",
       "      <td>Electromagnetic Theory</td>\n",
       "      <td>The application of Maxwell's theory to the pro...</td>\n",
       "    </tr>\n",
       "    <tr>\n",
       "      <th>11</th>\n",
       "      <td>PHYS 402</td>\n",
       "      <td>Advanced Quantum Mechanics</td>\n",
       "      <td>Quantum mechanical methods and concepts emphas...</td>\n",
       "    </tr>\n",
       "    <tr>\n",
       "      <th>12</th>\n",
       "      <td>PHYS 418</td>\n",
       "      <td>Methods of Theoretical Physics</td>\n",
       "      <td>Powerful analytical techniques repeatedly enco...</td>\n",
       "    </tr>\n",
       "    <tr>\n",
       "      <th>13</th>\n",
       "      <td>PHYS 420</td>\n",
       "      <td>Data and Image Processing</td>\n",
       "      <td>Introduction to digital signal and image proce...</td>\n",
       "    </tr>\n",
       "    <tr>\n",
       "      <th>14</th>\n",
       "      <td>PHYS 425</td>\n",
       "      <td>Low-Temperature Physics</td>\n",
       "      <td>Cryogenic techniques and instrumentation. Prod...</td>\n",
       "    </tr>\n",
       "  </tbody>\n",
       "</table>\n",
       "</div>"
      ],
      "text/plain": [
       "   Course Number                                     Course Name  \\\n",
       "0       COSC 301                  Introduction to Data Analytics   \n",
       "1       COSC 315               Introduction to Operating Systems   \n",
       "2       COSC 322         Introduction to Artificial Intelligence   \n",
       "3       COSC 406                          Numerical Optimization   \n",
       "4       MATH 319  Introduction to Partial Differential Equations   \n",
       "5       MATH 340              Introduction to Linear Programming   \n",
       "6       MATH 350              Complex Variables and Applications   \n",
       "7       PHYS 305                      Introduction to Biophysics   \n",
       "8       PHYS 310                 Introduction to Medical Physics   \n",
       "9       PHYS 328                              Advanced Mechanics   \n",
       "10      PHYS 401                          Electromagnetic Theory   \n",
       "11      PHYS 402                      Advanced Quantum Mechanics   \n",
       "12      PHYS 418                  Methods of Theoretical Physics   \n",
       "13      PHYS 420                       Data and Image Processing   \n",
       "14      PHYS 425                         Low-Temperature Physics   \n",
       "\n",
       "                                   Course Description  \n",
       "0   Techniques for computation, analysis, and visu...  \n",
       "1   Introduction to batch, multiprogramming, and t...  \n",
       "2   AI and intelligent agents; state space search;...  \n",
       "3   Formulation and analysis of algorithms for con...  \n",
       "4   Methods of separation of variable, Fourier ser...  \n",
       "5   Linear programming problems, dual problems, th...  \n",
       "6   Covers analytic functions, Cauchy-Riemann equa...  \n",
       "7   Analysis of biological systems from a physicis...  \n",
       "8   Radiation interactions with matter; use of ion...  \n",
       "9   Variational calculus, the Lagrangian Method ap...  \n",
       "10  The application of Maxwell's theory to the pro...  \n",
       "11  Quantum mechanical methods and concepts emphas...  \n",
       "12  Powerful analytical techniques repeatedly enco...  \n",
       "13  Introduction to digital signal and image proce...  \n",
       "14  Cryogenic techniques and instrumentation. Prod...  "
      ]
     },
     "execution_count": 8,
     "metadata": {},
     "output_type": "execute_result"
    }
   ],
   "source": [
    "df = pd.DataFrame({\n",
    "    \n",
    "    \"Course Number\": course_codes,\n",
    "    \"Course Name\": course_names,\n",
    "    \"Course Description\": course_descs    \n",
    "    \n",
    "})\n",
    "\n",
    "df"
   ]
  },
  {
   "cell_type": "code",
   "execution_count": 9,
   "metadata": {},
   "outputs": [],
   "source": [
    "df.to_csv(\"UBC_Okanagan_MechEng_Alternative_Electives_Courses_(Atypical).csv\", index = False)"
   ]
  }
 ],
 "metadata": {
  "kernelspec": {
   "display_name": "Python 3",
   "language": "python",
   "name": "python3"
  },
  "language_info": {
   "codemirror_mode": {
    "name": "ipython",
    "version": 3
   },
   "file_extension": ".py",
   "mimetype": "text/x-python",
   "name": "python",
   "nbconvert_exporter": "python",
   "pygments_lexer": "ipython3",
   "version": "3.8.5"
  }
 },
 "nbformat": 4,
 "nbformat_minor": 4
}
