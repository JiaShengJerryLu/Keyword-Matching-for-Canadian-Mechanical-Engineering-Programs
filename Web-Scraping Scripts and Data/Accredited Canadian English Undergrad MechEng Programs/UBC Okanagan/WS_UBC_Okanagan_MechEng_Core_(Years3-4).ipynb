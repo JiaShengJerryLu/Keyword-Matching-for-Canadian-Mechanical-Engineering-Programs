{
 "cells": [
  {
   "cell_type": "code",
   "execution_count": 1,
   "metadata": {},
   "outputs": [],
   "source": [
    "from bs4 import BeautifulSoup as soup\n",
    "from urllib.request import urlopen as ureq\n",
    "import time\n",
    "import re"
   ]
  },
  {
   "cell_type": "code",
   "execution_count": 2,
   "metadata": {},
   "outputs": [],
   "source": [
    "url = \"http://www.calendar.ubc.ca/okanagan/index.cfm?tree=18,317,989,1382\""
   ]
  },
  {
   "cell_type": "markdown",
   "metadata": {},
   "source": [
    "# 1. Collect course codes to be used to search for course names and descriptions"
   ]
  },
  {
   "cell_type": "code",
   "execution_count": 3,
   "metadata": {},
   "outputs": [],
   "source": [
    "uClient = ureq(url)\n",
    "page_html = uClient.read()\n",
    "uClient.close()\n",
    "page_soup = soup(page_html, \"html.parser\")"
   ]
  },
  {
   "cell_type": "code",
   "execution_count": 4,
   "metadata": {},
   "outputs": [
    {
     "data": {
      "text/plain": [
       "2"
      ]
     },
     "execution_count": 4,
     "metadata": {},
     "output_type": "execute_result"
    }
   ],
   "source": [
    "tables = page_soup.findAll(\"table\")\n",
    "len(tables)"
   ]
  },
  {
   "cell_type": "code",
   "execution_count": 5,
   "metadata": {},
   "outputs": [
    {
     "data": {
      "text/plain": [
       "61"
      ]
     },
     "execution_count": 5,
     "metadata": {},
     "output_type": "execute_result"
    }
   ],
   "source": [
    "containers = [container for table in tables for container in table.findAll(\"td\")]\n",
    "len(containers)"
   ]
  },
  {
   "cell_type": "code",
   "execution_count": 6,
   "metadata": {},
   "outputs": [
    {
     "data": {
      "text/plain": [
       "['ENGR 303',\n",
       " 'ENGR 305',\n",
       " 'ENGR 310',\n",
       " 'ENGR 315',\n",
       " 'ENGR 320',\n",
       " 'ENGR 375',\n",
       " 'ENGR 376',\n",
       " 'ENGR 377',\n",
       " 'ENGR 380',\n",
       " 'ENGR 381',\n",
       " 'ENGR 385',\n",
       " 'ENGR 387',\n",
       " 'ENGR 413',\n",
       " 'ENGR 476',\n",
       " 'ENGR 499']"
      ]
     },
     "execution_count": 6,
     "metadata": {},
     "output_type": "execute_result"
    }
   ],
   "source": [
    "course_codes = [container.text.strip() for container in containers if bool(re.match(\"[A-Z]{4} [0-9]{3}\", container.text.strip()))]\n",
    "course_codes"
   ]
  },
  {
   "cell_type": "code",
   "execution_count": 7,
   "metadata": {},
   "outputs": [
    {
     "data": {
      "text/plain": [
       "15"
      ]
     },
     "execution_count": 7,
     "metadata": {},
     "output_type": "execute_result"
    }
   ],
   "source": [
    "len(course_codes)"
   ]
  },
  {
   "cell_type": "markdown",
   "metadata": {},
   "source": [
    "# 2. Use the course codes to find and scrape corresponding course names and descriptions"
   ]
  },
  {
   "cell_type": "code",
   "execution_count": 9,
   "metadata": {},
   "outputs": [],
   "source": [
    "uClient = ureq(\"http://www.calendar.ubc.ca/okanagan/courses.cfm?go=code&institution=2&code=ENGR\")\n",
    "page_html = uClient.read()\n",
    "uClient.close()\n",
    "page_soup = soup(page_html, \"html.parser\")"
   ]
  },
  {
   "cell_type": "code",
   "execution_count": 10,
   "metadata": {},
   "outputs": [
    {
     "name": "stdout",
     "output_type": "stream",
     "text": [
      "scraped  ENGR 303\n",
      "scraped  ENGR 305\n",
      "scraped  ENGR 310\n",
      "scraped  ENGR 315\n",
      "scraped  ENGR 320\n",
      "scraped  ENGR 375\n",
      "scraped  ENGR 376\n",
      "scraped  ENGR 377\n",
      "scraped  ENGR 380\n",
      "scraped  ENGR 381\n",
      "scraped  ENGR 385\n",
      "scraped  ENGR 387\n",
      "scraped  ENGR 413\n",
      "scraped  ENGR 476\n",
      "scraped  ENGR 499\n",
      "15\n"
     ]
    }
   ],
   "source": [
    "course_names = []\n",
    "course_descs = []\n",
    "counter = 0\n",
    "\n",
    "for course_code in course_codes:\n",
    "    \n",
    "    course_title_container = page_soup.find(text = re.compile(\"^\" + course_code))\n",
    "    if course_title_container is None:\n",
    "        print(\"Cannot find \", course_code)\n",
    "    else:\n",
    "        course_names.append(course_title_container.findNext().text)\n",
    "        course_descs.append(course_title_container.findNext().findNext().text.strip())\n",
    "    \n",
    "        counter += 1\n",
    "        print(\"scraped \", course_code)\n",
    "    \n",
    "print(counter)"
   ]
  },
  {
   "cell_type": "markdown",
   "metadata": {},
   "source": [
    "# 3. Inspect collected data and write to CSV"
   ]
  },
  {
   "cell_type": "code",
   "execution_count": 11,
   "metadata": {},
   "outputs": [
    {
     "data": {
      "text/plain": [
       "['Engineering Project Management',\n",
       " 'Engineering Economic Analysis',\n",
       " 'Fluid Mechanics II',\n",
       " 'Systems and Control',\n",
       " 'Electromechanical Devices',\n",
       " 'Energy System Design',\n",
       " 'Materials Science II',\n",
       " 'Manufacturing Processes I',\n",
       " 'Design of Machine Elements',\n",
       " 'Kinematics and Dynamics of Machinery',\n",
       " 'Heat Transfer Applications',\n",
       " 'Vibration of Mechanical Systems',\n",
       " 'Law and Ethics for Engineers',\n",
       " 'Mechanics of Materials II',\n",
       " 'Engineering Capstone Design Project']"
      ]
     },
     "execution_count": 11,
     "metadata": {},
     "output_type": "execute_result"
    }
   ],
   "source": [
    "course_names"
   ]
  },
  {
   "cell_type": "code",
   "execution_count": 12,
   "metadata": {
    "scrolled": true
   },
   "outputs": [
    {
     "data": {
      "text/plain": [
       "['Project management including initiating, planning, executing, controlling, and closing engineering projects. Managing the scope, costs, schedule, risks, and human resources in engineering projects. External party engagement, including Indigenous communities. [3-0-0] Prerequisite: All of APSC 169, APSC 201.',\n",
       " 'Cost concepts, accounting, time value of money; depreciation and taxes; public sector projects; economic evaluation techniques; handling uncertainty; sustainability in economic evaluation; societal context; infrastructure management needs; project impacts, mitigating risk. Case studies. [3-0-0] Prerequisite: Second-year standing in the B.A.Sc. program.',\n",
       " 'Differential conservation, equations and solutions, boundary layers, compressible flows, and introduction to turbomachinery. [3-2*-1] Prerequisite: APSC 253.',\n",
       " 'Dynamic systems, linear systems, control concepts, block diagrams, transient response, root locus, frequency response, Bode and Nyquist plots, and controller design. [3-2*-1] Prerequisite: APSC 246.',\n",
       " 'DC and AC magnetic circuits, transformers, DC machines, principles of electromagnetic devices, synchronous machines, induction motors, and brushless DC motors. [3-2*-1] Prerequisite: APSC 255.',\n",
       " 'Primary energy sources and carriers. Energy conversion. Analysis of thermal systems. Reacting systems and combustion. Thermal systems design including steam power plants, gas turbines, internal combustion engines, and refrigeration systems. [3-0-1] Prerequisite: All of APSC 252, APSC 253.',\n",
       " 'Review comprehensive study of phase diagrams, phase transformations, TTT diagrams, heat treatment, ferrous and nonferrous alloys, composite and concrete materials, and materials selection. [3-0-0] Prerequisite: APSC 259.',\n",
       " 'Metrology, metal forming processes, plastic deformation, rolling, forging, drawing, extrusion, sheet metal forming. Machining processes and machine tools, turning, milling, drilling, grinding. Metal fabrication, welding, casting. [2 -3*-2*] Prerequisite: All of APSC 259, APSC 260.',\n",
       " 'Product design methodology; static and fatigue failure theory; design/selection of components including shafts, springs, bearings, gears, brakes, and clutches; design of bolted joints, power screws, and welds; design evaluation and optimization. [3-0-1] Prerequisite: APSC 260.',\n",
       " 'The design, analysis, and synthesis of mechanisms, linkages, cams, and gear trains; dynamic force analysis; balancing of rotating and reciprocating masses. [3-0-1] Prerequisite: All of APSC 180, APSC 181.',\n",
       " 'Steady and transient conduction heat transfer, radiation heat transfer, convection heat transfer, introduction to heat exchanger. [3-2*-1] Prerequisite: All of APSC 248, APSC 252.',\n",
       " 'Vibration of mechanical systems. Single and multiple degree of freedom systems. Undamped, damped vibrations. Forced vibrations and resonance. Modal analysis, modelling vibrating systems. Spectral analysis. Measurement and control of vibrating mechanical systems. [3-0-1] Prerequisite: APSC 246.',\n",
       " 'Ethical theories and their application. The Canadian legal system. Companies, partnerships, independent contractors. Contract documents, specifications, liability, torts and liens. Intellectual property. Agency; evidence; role of an expert witness. Employment law. Professional Governance Act, Code of Ethics, consultation and engagement with Indigenous communities. [3-0-0] Prerequisite: Fourth-year standing.',\n",
       " \"Bending of curved beams; bending of beams with asymmetric cross-sections; shear flow and centre; review of beam deflections; column buckling; Castigliano's theorem; statically indeterminate beams, frames, and rings; Torsion of noncircular members. [3-0-0] Prerequisite: APSC 260.\",\n",
       " 'A capstone design project in response to an actual engineering problem. The project can be multi-disciplinary or in a specialized area of engineering. Students are required to submit a comprehensive project report and deliver a formal presentation. [2-3-0; 0-6-0] Prerequisite: Fourth-year standing.']"
      ]
     },
     "execution_count": 12,
     "metadata": {},
     "output_type": "execute_result"
    }
   ],
   "source": [
    "course_descs"
   ]
  },
  {
   "cell_type": "code",
   "execution_count": 13,
   "metadata": {},
   "outputs": [
    {
     "data": {
      "text/html": [
       "<div>\n",
       "<style scoped>\n",
       "    .dataframe tbody tr th:only-of-type {\n",
       "        vertical-align: middle;\n",
       "    }\n",
       "\n",
       "    .dataframe tbody tr th {\n",
       "        vertical-align: top;\n",
       "    }\n",
       "\n",
       "    .dataframe thead th {\n",
       "        text-align: right;\n",
       "    }\n",
       "</style>\n",
       "<table border=\"1\" class=\"dataframe\">\n",
       "  <thead>\n",
       "    <tr style=\"text-align: right;\">\n",
       "      <th></th>\n",
       "      <th>Course Number</th>\n",
       "      <th>Course Name</th>\n",
       "      <th>Course Description</th>\n",
       "    </tr>\n",
       "  </thead>\n",
       "  <tbody>\n",
       "    <tr>\n",
       "      <th>0</th>\n",
       "      <td>ENGR 303</td>\n",
       "      <td>Engineering Project Management</td>\n",
       "      <td>Project management including initiating, plann...</td>\n",
       "    </tr>\n",
       "    <tr>\n",
       "      <th>1</th>\n",
       "      <td>ENGR 305</td>\n",
       "      <td>Engineering Economic Analysis</td>\n",
       "      <td>Cost concepts, accounting, time value of money...</td>\n",
       "    </tr>\n",
       "    <tr>\n",
       "      <th>2</th>\n",
       "      <td>ENGR 310</td>\n",
       "      <td>Fluid Mechanics II</td>\n",
       "      <td>Differential conservation, equations and solut...</td>\n",
       "    </tr>\n",
       "    <tr>\n",
       "      <th>3</th>\n",
       "      <td>ENGR 315</td>\n",
       "      <td>Systems and Control</td>\n",
       "      <td>Dynamic systems, linear systems, control conce...</td>\n",
       "    </tr>\n",
       "    <tr>\n",
       "      <th>4</th>\n",
       "      <td>ENGR 320</td>\n",
       "      <td>Electromechanical Devices</td>\n",
       "      <td>DC and AC magnetic circuits, transformers, DC ...</td>\n",
       "    </tr>\n",
       "    <tr>\n",
       "      <th>5</th>\n",
       "      <td>ENGR 375</td>\n",
       "      <td>Energy System Design</td>\n",
       "      <td>Primary energy sources and carriers. Energy co...</td>\n",
       "    </tr>\n",
       "    <tr>\n",
       "      <th>6</th>\n",
       "      <td>ENGR 376</td>\n",
       "      <td>Materials Science II</td>\n",
       "      <td>Review comprehensive study of phase diagrams, ...</td>\n",
       "    </tr>\n",
       "    <tr>\n",
       "      <th>7</th>\n",
       "      <td>ENGR 377</td>\n",
       "      <td>Manufacturing Processes I</td>\n",
       "      <td>Metrology, metal forming processes, plastic de...</td>\n",
       "    </tr>\n",
       "    <tr>\n",
       "      <th>8</th>\n",
       "      <td>ENGR 380</td>\n",
       "      <td>Design of Machine Elements</td>\n",
       "      <td>Product design methodology; static and fatigue...</td>\n",
       "    </tr>\n",
       "    <tr>\n",
       "      <th>9</th>\n",
       "      <td>ENGR 381</td>\n",
       "      <td>Kinematics and Dynamics of Machinery</td>\n",
       "      <td>The design, analysis, and synthesis of mechani...</td>\n",
       "    </tr>\n",
       "    <tr>\n",
       "      <th>10</th>\n",
       "      <td>ENGR 385</td>\n",
       "      <td>Heat Transfer Applications</td>\n",
       "      <td>Steady and transient conduction heat transfer,...</td>\n",
       "    </tr>\n",
       "    <tr>\n",
       "      <th>11</th>\n",
       "      <td>ENGR 387</td>\n",
       "      <td>Vibration of Mechanical Systems</td>\n",
       "      <td>Vibration of mechanical systems. Single and mu...</td>\n",
       "    </tr>\n",
       "    <tr>\n",
       "      <th>12</th>\n",
       "      <td>ENGR 413</td>\n",
       "      <td>Law and Ethics for Engineers</td>\n",
       "      <td>Ethical theories and their application. The Ca...</td>\n",
       "    </tr>\n",
       "    <tr>\n",
       "      <th>13</th>\n",
       "      <td>ENGR 476</td>\n",
       "      <td>Mechanics of Materials II</td>\n",
       "      <td>Bending of curved beams; bending of beams with...</td>\n",
       "    </tr>\n",
       "    <tr>\n",
       "      <th>14</th>\n",
       "      <td>ENGR 499</td>\n",
       "      <td>Engineering Capstone Design Project</td>\n",
       "      <td>A capstone design project in response to an ac...</td>\n",
       "    </tr>\n",
       "  </tbody>\n",
       "</table>\n",
       "</div>"
      ],
      "text/plain": [
       "   Course Number                           Course Name  \\\n",
       "0       ENGR 303        Engineering Project Management   \n",
       "1       ENGR 305         Engineering Economic Analysis   \n",
       "2       ENGR 310                    Fluid Mechanics II   \n",
       "3       ENGR 315                   Systems and Control   \n",
       "4       ENGR 320             Electromechanical Devices   \n",
       "5       ENGR 375                  Energy System Design   \n",
       "6       ENGR 376                  Materials Science II   \n",
       "7       ENGR 377             Manufacturing Processes I   \n",
       "8       ENGR 380            Design of Machine Elements   \n",
       "9       ENGR 381  Kinematics and Dynamics of Machinery   \n",
       "10      ENGR 385            Heat Transfer Applications   \n",
       "11      ENGR 387       Vibration of Mechanical Systems   \n",
       "12      ENGR 413          Law and Ethics for Engineers   \n",
       "13      ENGR 476             Mechanics of Materials II   \n",
       "14      ENGR 499   Engineering Capstone Design Project   \n",
       "\n",
       "                                   Course Description  \n",
       "0   Project management including initiating, plann...  \n",
       "1   Cost concepts, accounting, time value of money...  \n",
       "2   Differential conservation, equations and solut...  \n",
       "3   Dynamic systems, linear systems, control conce...  \n",
       "4   DC and AC magnetic circuits, transformers, DC ...  \n",
       "5   Primary energy sources and carriers. Energy co...  \n",
       "6   Review comprehensive study of phase diagrams, ...  \n",
       "7   Metrology, metal forming processes, plastic de...  \n",
       "8   Product design methodology; static and fatigue...  \n",
       "9   The design, analysis, and synthesis of mechani...  \n",
       "10  Steady and transient conduction heat transfer,...  \n",
       "11  Vibration of mechanical systems. Single and mu...  \n",
       "12  Ethical theories and their application. The Ca...  \n",
       "13  Bending of curved beams; bending of beams with...  \n",
       "14  A capstone design project in response to an ac...  "
      ]
     },
     "execution_count": 13,
     "metadata": {},
     "output_type": "execute_result"
    }
   ],
   "source": [
    "import pandas as pd\n",
    "\n",
    "df = pd.DataFrame({\n",
    "    \n",
    "    \"Course Number\": course_codes,\n",
    "    \"Course Name\": course_names,\n",
    "    \"Course Description\": course_descs    \n",
    "    \n",
    "})\n",
    "\n",
    "df"
   ]
  },
  {
   "cell_type": "code",
   "execution_count": 14,
   "metadata": {},
   "outputs": [],
   "source": [
    "df.to_csv('UBC_Okanagan_MechEng_Core_(Years3-4)_Courses.csv', index = False)"
   ]
  }
 ],
 "metadata": {
  "kernelspec": {
   "display_name": "Python 3",
   "language": "python",
   "name": "python3"
  },
  "language_info": {
   "codemirror_mode": {
    "name": "ipython",
    "version": 3
   },
   "file_extension": ".py",
   "mimetype": "text/x-python",
   "name": "python",
   "nbconvert_exporter": "python",
   "pygments_lexer": "ipython3",
   "version": "3.8.5"
  }
 },
 "nbformat": 4,
 "nbformat_minor": 4
}
